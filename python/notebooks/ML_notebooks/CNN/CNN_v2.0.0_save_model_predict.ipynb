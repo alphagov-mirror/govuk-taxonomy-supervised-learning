{
 "cells": [
  {
   "cell_type": "markdown",
   "metadata": {},
   "source": [
    "## Convolutional NN to classify govuk content to level2 taxons"
   ]
  },
  {
   "cell_type": "markdown",
   "metadata": {},
   "source": [
    "Based on:\n",
    "https://blog.keras.io/using-pre-trained-word-embeddings-in-a-keras-model.html"
   ]
  },
  {
   "cell_type": "markdown",
   "metadata": {},
   "source": [
    "### Load requirements and data"
   ]
  },
  {
   "cell_type": "code",
   "execution_count": 1,
   "metadata": {
    "scrolled": true
   },
   "outputs": [
    {
     "name": "stderr",
     "output_type": "stream",
     "text": [
      "Using TensorFlow backend.\n",
      "/home/ubuntu/anaconda3/envs/tensorflow_p36/lib/python3.6/importlib/_bootstrap.py:219: RuntimeWarning: compiletime version 3.5 of module 'tensorflow.python.framework.fast_tensor_util' does not match runtime version 3.6\n",
      "  return f(*args, **kwds)\n"
     ]
    }
   ],
   "source": [
    "import pandas as pd\n",
    "import numpy as np\n",
    "import os\n",
    "from datetime import datetime\n",
    "from keras.preprocessing.text import Tokenizer\n",
    "from keras.preprocessing.sequence import pad_sequences\n",
    "\n",
    "from keras.utils import to_categorical, layer_utils, plot_model\n",
    "\n",
    "from keras.layers import (Embedding, Input, Dense, Dropout, \n",
    "                          Activation, Conv1D, MaxPooling1D, Flatten, concatenate, Reshape)\n",
    "from keras.models import Model, Sequential\n",
    "from keras.optimizers import rmsprop\n",
    "from keras.callbacks import TensorBoard, Callback, ModelCheckpoint\n",
    "import keras.backend as K\n",
    "from keras.losses import binary_crossentropy\n",
    "\n",
    "from sklearn.preprocessing import LabelEncoder, MultiLabelBinarizer\n",
    "from sklearn.metrics import confusion_matrix, f1_score, precision_score, recall_score \n",
    "from sklearn.metrics import precision_recall_fscore_support, classification_report\n",
    "from sklearn.utils import class_weight\n",
    "\n",
    "import tensorflow as tf\n",
    "\n",
    "import matplotlib.pyplot as plt\n",
    "%matplotlib inline\n",
    "\n",
    "import functools\n",
    "\n",
    "import h5py\n",
    "\n",
    "from scipy import sparse\n",
    "import time\n"
   ]
  },
  {
   "cell_type": "markdown",
   "metadata": {},
   "source": [
    "### Environmental vars"
   ]
  },
  {
   "cell_type": "code",
   "execution_count": 2,
   "metadata": {
    "scrolled": true
   },
   "outputs": [],
   "source": [
    "DATADIR = os.getenv('DATADIR')"
   ]
  },
  {
   "cell_type": "markdown",
   "metadata": {},
   "source": [
    "### Print data version"
   ]
  },
  {
   "cell_type": "code",
   "execution_count": 3,
   "metadata": {},
   "outputs": [
    {
     "name": "stdout",
     "output_type": "stream",
     "text": [
      "algorithm running on data extracted from content store on /data/2018-03-12\n"
     ]
    }
   ],
   "source": [
    "print('algorithm running on data extracted from content store on {}'.format(DATADIR))"
   ]
  },
  {
   "cell_type": "markdown",
   "metadata": {},
   "source": [
    "## Hyperparameters"
   ]
  },
  {
   "cell_type": "markdown",
   "metadata": {},
   "source": [
    "Intuition for POS_RATIO is that it penalises the prediction of zero for everything, which is attractive to the model because the multilabel y matrix is super sparse. \n",
    "\n",
    "Increasing POS_RATIO should penalise predicting zeros more."
   ]
  },
  {
   "cell_type": "code",
   "execution_count": 4,
   "metadata": {
    "scrolled": true
   },
   "outputs": [],
   "source": [
    "#MAX_NB_WORDS\n",
    "MAX_SEQUENCE_LENGTH =1000\n",
    "EMBEDDING_DIM = 100 # keras embedding layer output_dim = Dimension of the dense embedding\n",
    "P_THRESHOLD = 0.5 #Threshold for probability of being assigned to class\n",
    "POS_RATIO = 0.5 #ratio of positive to negative for each class in weighted binary cross entropy loss function\n",
    "NUM_WORDS=20000 #keras tokenizer num_words: None or int. Maximum number of words to work with \n",
    "#(if set, tokenization will be restricted to the top num_words most common words in the dataset)."
   ]
  },
  {
   "cell_type": "markdown",
   "metadata": {},
   "source": [
    "### Read in data"
   ]
  },
  {
   "cell_type": "code",
   "execution_count": 5,
   "metadata": {
    "scrolled": true
   },
   "outputs": [],
   "source": [
    "train = np.load(os.path.join(DATADIR, 'train_arrays.npz'))"
   ]
  },
  {
   "cell_type": "code",
   "execution_count": 6,
   "metadata": {},
   "outputs": [
    {
     "data": {
      "text/plain": [
       "['x', 'meta', 'title', 'desc', 'y', 'content_id']"
      ]
     },
     "execution_count": 6,
     "metadata": {},
     "output_type": "execute_result"
    }
   ],
   "source": [
    "train.files"
   ]
  },
  {
   "cell_type": "code",
   "execution_count": 7,
   "metadata": {},
   "outputs": [
    {
     "name": "stdout",
     "output_type": "stream",
     "text": [
      "x_train.shape = (175620, 1000)\n",
      "meta_train.shape = (175620, 535)\n",
      "title_train.shape = (175620, 10000)\n",
      "desc_train.shape = (175620, 10000)\n",
      "y_train.shape = (175620, 218)\n"
     ]
    }
   ],
   "source": [
    "x_train = train['x']\n",
    "meta_train = train['meta'].all().todense()\n",
    "title_train = train['title'].all().todense()\n",
    "desc_train = train['desc'].all().todense()\n",
    "y_train = train['y'].all().todense()\n",
    "\n",
    "print('x_train.shape = {}'.format(x_train.shape))\n",
    "print('meta_train.shape = {}'.format(meta_train.shape))\n",
    "print('title_train.shape = {}'.format(title_train.shape))\n",
    "print('desc_train.shape = {}'.format(desc_train.shape))\n",
    "print('y_train.shape = {}'.format(y_train.shape))"
   ]
  },
  {
   "cell_type": "code",
   "execution_count": 8,
   "metadata": {
    "scrolled": true
   },
   "outputs": [],
   "source": [
    "dev = np.load(os.path.join(DATADIR, 'dev_arrays.npz'))"
   ]
  },
  {
   "cell_type": "code",
   "execution_count": 9,
   "metadata": {},
   "outputs": [
    {
     "name": "stdout",
     "output_type": "stream",
     "text": [
      "x_dev.shape = (12390, 1000)\n",
      "meta_dev.shape = (12390, 535)\n",
      "title_dev.shape = (12390, 10000)\n",
      "desc_dev.shape = (12390, 10000)\n",
      "y_dev.shape = (12390, 218)\n"
     ]
    }
   ],
   "source": [
    "x_dev = dev['x']\n",
    "meta_dev = dev['meta'].all().todense()\n",
    "title_dev = dev['title'].all().todense()\n",
    "desc_dev = dev['desc'].all().todense()\n",
    "y_dev = dev['y'].all().todense()\n",
    "\n",
    "print('x_dev.shape = {}'.format(x_dev.shape))\n",
    "print('meta_dev.shape = {}'.format(meta_dev.shape))\n",
    "print('title_dev.shape = {}'.format(title_dev.shape))\n",
    "print('desc_dev.shape = {}'.format(desc_dev.shape))\n",
    "print('y_dev.shape = {}'.format(y_dev.shape))"
   ]
  },
  {
   "cell_type": "code",
   "execution_count": 10,
   "metadata": {
    "scrolled": true
   },
   "outputs": [],
   "source": [
    "test = np.load(os.path.join(DATADIR, 'test_arrays.npz'))"
   ]
  },
  {
   "cell_type": "code",
   "execution_count": 11,
   "metadata": {},
   "outputs": [
    {
     "name": "stdout",
     "output_type": "stream",
     "text": [
      "x_test.shape = (12390, 1000)\n",
      "meta_test.shape = (12390, 535)\n",
      "title_test.shape = (12390, 10000)\n",
      "desc_test.shape = (12390, 10000)\n",
      "y_test.shape = (12390, 218)\n"
     ]
    }
   ],
   "source": [
    "x_test = test['x']\n",
    "meta_test = test['meta'].all().todense()\n",
    "title_test = test['title'].all().todense()\n",
    "desc_test = test['desc'].all().todense()\n",
    "y_test = test['y'].all().todense()\n",
    "\n",
    "print('x_test.shape = {}'.format(x_test.shape))\n",
    "print('meta_test.shape = {}'.format(meta_test.shape))\n",
    "print('title_test.shape = {}'.format(title_test.shape))\n",
    "print('desc_test.shape = {}'.format(desc_test.shape))\n",
    "print('y_test.shape = {}'.format(y_test.shape))"
   ]
  },
  {
   "cell_type": "markdown",
   "metadata": {
    "scrolled": true
   },
   "source": [
    "#### previous shapes in old data \n",
    "Shape of x_train: (150870, 1000)\n",
    "Shape of metax_train: (150870, 436)\n",
    "Shape of titlex_train: (150870, 10000)\n",
    "Shape of descx_train: (150870, 10000)\n",
    "Shape of y_train: (150870, 210)\n",
    "\n",
    "Shape of x_dev: (9234, 1000)\n",
    "Shape of meta_dev: (9234, 436)\n",
    "Shape of titlex_dev: (9234, 10000)\n",
    "Shape of descx_dev: (9234, 10000)\n",
    "Shape of y_dev: (9234, 210)\n",
    "\n",
    "Shape of x_test: (9234, 1000)\n",
    "Shape of metax_test: (9234, 436)\n",
    "Shape of titlex_test: (9234, 10000)\n",
    "Shape of descx_test: (9234, 10000)\n",
    "Shape of y_test: (9234, 210)"
   ]
  },
  {
   "cell_type": "markdown",
   "metadata": {},
   "source": [
    "### preparing the Embedding layer\n"
   ]
  },
  {
   "cell_type": "code",
   "execution_count": 12,
   "metadata": {},
   "outputs": [],
   "source": [
    "import json\n",
    "from collections import OrderedDict\n",
    "\n",
    "def load_tokenizer_from_file(filename):\n",
    "    \n",
    "    tokenizer = Tokenizer()\n",
    "\n",
    "    with open(filename, 'r') as infile:\n",
    "        tokenizer_data = json.load(infile)\n",
    "\n",
    "    tokenizer.word_counts = OrderedDict(tokenizer_data['word_counts'])\n",
    "    tokenizer.word_docs = tokenizer_data['word_docs']\n",
    "    tokenizer.word_index = tokenizer_data['word_index']\n",
    "    tokenizer.document_count = tokenizer_data['document_count']\n",
    "    tokenizer.index_docs = tokenizer_data['index_docs']\n",
    "\n",
    "    return tokenizer\n",
    "\n",
    "tokenizer_combined_text = load_tokenizer_from_file(os.path.join(DATADIR, \"combined_text_tokenizer.json\"))"
   ]
  },
  {
   "cell_type": "code",
   "execution_count": 13,
   "metadata": {
    "scrolled": true
   },
   "outputs": [],
   "source": [
    "embedding_layer = Embedding(len(tokenizer_combined_text.word_index) + 1, \n",
    "                            EMBEDDING_DIM, \n",
    "                            input_length=MAX_SEQUENCE_LENGTH)"
   ]
  },
  {
   "cell_type": "markdown",
   "metadata": {},
   "source": [
    "An Embedding layer should be fed sequences of integers, i.e. a 2D input of shape (samples, indices). These input sequences should be padded so that they all have the same length in a batch of input data (although an Embedding layer is capable of processing sequence of heterogenous length, if you don't pass an explicit input_length argument to the layer).\n",
    "\n",
    "All that the Embedding layer does is to map the integer inputs to the vectors found at the corresponding index in the embedding matrix, i.e. the sequence [1, 2] would be converted to [embeddings[1], embeddings[2]]. This means that the output of the Embedding layer will be a 3D tensor of shape (samples, sequence_length, embedding_dim)."
   ]
  },
  {
   "cell_type": "markdown",
   "metadata": {},
   "source": [
    "### Estimate class weights for unbalanced datasets.\n",
    "paramter to model.fit = __class_weight__: Optional dictionary mapping class indices (integers) to a weight (float) value, used for weighting the loss function (during training only). This can be useful to tell the model to \"pay more attention\" to samples from an under-represented class.\n",
    "\n",
    "Implement class_weight from sklearn:\n",
    "\n",
    "- Import the module \n",
    "\n",
    "`from sklearn.utils import class_weight`\n",
    "- calculate the class weight, If ‘balanced’, class weights will be given by n_samples / (n_classes * np.bincount(y)):\n",
    "\n",
    "`class_weight = class_weight.compute_class_weight('balanced', np.unique(y_train), y_train)`\n",
    "\n",
    "- change it to a dict in order to work with Keras.\n",
    "\n",
    "`class_weight_dict = dict(enumerate(class_weight))`\n",
    "\n",
    "- Add to model fitting\n",
    "\n",
    "`model.fit(X_train, y_train, class_weight=class_weight)`"
   ]
  },
  {
   "cell_type": "code",
   "execution_count": 14,
   "metadata": {
    "scrolled": true
   },
   "outputs": [],
   "source": [
    "# class_weight = class_weight.compute_class_weight('balanced', np.unique(y_train), y_train)\n",
    "# class_weight_dict = dict(enumerate(class_weight))"
   ]
  },
  {
   "cell_type": "markdown",
   "metadata": {},
   "source": [
    "### Custom loss function"
   ]
  },
  {
   "cell_type": "code",
   "execution_count": 15,
   "metadata": {
    "scrolled": true
   },
   "outputs": [
    {
     "name": "stdout",
     "output_type": "stream",
     "text": [
      "4.00756\n",
      "8.01512\n"
     ]
    }
   ],
   "source": [
    "class WeightedBinaryCrossEntropy(object):\n",
    "\n",
    "    def __init__(self, pos_ratio):\n",
    "        neg_ratio = 1. - pos_ratio\n",
    "        #self.pos_ratio = tf.constant(pos_ratio, tf.float32)\n",
    "        self.pos_ratio = pos_ratio\n",
    "        #self.weights = tf.constant(neg_ratio / pos_ratio, tf.float32)\n",
    "        self.weights = neg_ratio / pos_ratio\n",
    "        self.__name__ = \"weighted_binary_crossentropy({0})\".format(pos_ratio)\n",
    "\n",
    "    def __call__(self, y_true, y_pred):\n",
    "        return self.weighted_binary_crossentropy(y_true, y_pred)\n",
    "\n",
    "    def weighted_binary_crossentropy(self, y_true, y_pred):\n",
    "            # Transform to logits\n",
    "            epsilon = tf.convert_to_tensor(K.common._EPSILON, y_pred.dtype.base_dtype)\n",
    "            y_pred = tf.clip_by_value(y_pred, epsilon, 1 - epsilon)\n",
    "            y_pred = tf.log(y_pred / (1 - y_pred))\n",
    "\n",
    "            cost = tf.nn.weighted_cross_entropy_with_logits(y_true, y_pred, self.weights)\n",
    "            return K.mean(cost * self.pos_ratio, axis=-1)\n",
    "    \n",
    "y_true_arr = np.array([0,1,0,1], dtype=\"float32\")\n",
    "y_pred_arr = np.array([0,0,1,1], dtype=\"float32\")\n",
    "y_true = tf.constant(y_true_arr)\n",
    "y_pred = tf.constant(y_pred_arr)\n",
    "\n",
    "with tf.Session().as_default(): \n",
    "    print(WeightedBinaryCrossEntropy(0.5)(y_true, y_pred).eval())\n",
    "    print(binary_crossentropy(y_true, y_pred).eval())\n"
   ]
  },
  {
   "cell_type": "markdown",
   "metadata": {},
   "source": [
    "### difficulty getting global precision/recall metrics . CAUTION interpreting monitoring metrics\n",
    "fcholltet: \"Basically these are all global metrics that were approximated\n",
    "batch-wise, which is more misleading than helpful. This was mentioned in\n",
    "the docs but it's much cleaner to remove them altogether. It was a mistake\n",
    "to merge them in the first place.\""
   ]
  },
  {
   "cell_type": "code",
   "execution_count": 16,
   "metadata": {
    "scrolled": true
   },
   "outputs": [],
   "source": [
    "def f1(y_true, y_pred):\n",
    "    \"\"\"Use Recall  and precision metrics to calculate harmonic mean (F1 score).\n",
    "\n",
    "        Only computes a batch-wise average of recall.\n",
    "\n",
    "        Computes the recall, a metric for multi-label classification of\n",
    "        how many relevant items are selected.\n",
    "        \"\"\"\n",
    "    true_positives = K.sum(K.round(K.clip(y_true * y_pred, 0, 1)))\n",
    "    predicted_positives = K.sum(K.round(K.clip(y_pred, 0, 1)))\n",
    "    possible_positives = K.sum(K.round(K.clip(y_true, 0, 1)))\n",
    "    precision = true_positives / (predicted_positives + K.epsilon())\n",
    "    recall = true_positives / (possible_positives + K.epsilon())\n",
    "    f1 = 2*((precision*recall)/(precision+recall))\n",
    "    \n",
    "    return f1"
   ]
  },
  {
   "cell_type": "markdown",
   "metadata": {},
   "source": [
    "## Training a 1D convnet"
   ]
  },
  {
   "cell_type": "markdown",
   "metadata": {},
   "source": [
    "### 1. Create model"
   ]
  },
  {
   "cell_type": "code",
   "execution_count": 17,
   "metadata": {
    "scrolled": true
   },
   "outputs": [],
   "source": [
    "NB_CLASSES = y_train.shape[1]\n",
    "NB_METAVARS = meta_train.shape[1]\n",
    "\n",
    "\n",
    "\n",
    "sequence_input = Input(shape=(MAX_SEQUENCE_LENGTH,), dtype='int32', name='wordindex') #MAX_SEQUENCE_LENGTH\n",
    "embedded_sequences = embedding_layer(sequence_input)\n",
    "x = Dropout(0.2, name = 'dropout_embedded')(embedded_sequences)\n",
    "\n",
    "x = Conv1D(128, 5, activation='relu', name = 'conv0')(x)\n",
    "\n",
    "x = MaxPooling1D(5, name = 'max_pool0')(x)\n",
    "\n",
    "x = Dropout(0.5, name = 'dropout0')(x)\n",
    "\n",
    "x = Conv1D(128, 5, activation='relu', name = 'conv1')(x)\n",
    "\n",
    "x = MaxPooling1D(5 , name = 'max_pool1')(x)\n",
    "\n",
    "x = Conv1D(128, 5, activation='relu', name = 'conv2')(x)\n",
    "\n",
    "x = MaxPooling1D(35, name = 'global_max_pool')(x)  # global max pooling\n",
    "\n",
    "x = Flatten()(x) #reduce dimensions from 3 to 2; convert to vector + FULLYCONNECTED\n",
    "\n",
    "meta_input = Input(shape=(NB_METAVARS,), name='meta')\n",
    "meta_hidden = Dense(128, activation='relu', name = 'hidden_meta')(meta_input)\n",
    "meta_hidden = Dropout(0.2, name = 'dropout_meta')(meta_hidden)\n",
    "\n",
    "\n",
    "title_input = Input(shape=(title_train.shape[1],), name='titles')\n",
    "title_hidden = Dense(128, activation='relu', name = 'hidden_title')(title_input)\n",
    "title_hidden = Dropout(0.2, name = 'dropout_title')(title_hidden)\n",
    "\n",
    "desc_input = Input(shape=(desc_train.shape[1],), name='descs')\n",
    "desc_hidden = Dense(128, activation='relu', name = 'hidden_desc')(desc_input)\n",
    "desc_hidden = Dropout(0.2, name = 'dropout_desc')(desc_hidden)\n",
    "\n",
    "concatenated = concatenate([meta_hidden, title_hidden, desc_hidden, x])\n",
    "\n",
    "x = Dense(400, activation='relu', name = 'fully_connected0')(concatenated)\n",
    "\n",
    "x = Dropout(0.2, name = 'dropout1')(x)\n",
    "\n",
    "x = Dense(NB_CLASSES, activation='sigmoid', name = 'fully_connected1')(x)\n",
    "\n",
    "# # The Model class turns an input tensor and output tensor into a model\n",
    "# This creates Keras model instance, will use this instance to train/test the model.\n",
    "model = Model(inputs=[meta_input, title_input, desc_input, sequence_input], outputs=x)"
   ]
  },
  {
   "cell_type": "code",
   "execution_count": 18,
   "metadata": {
    "scrolled": true
   },
   "outputs": [
    {
     "name": "stdout",
     "output_type": "stream",
     "text": [
      "__________________________________________________________________________________________________\n",
      "Layer (type)                    Output Shape         Param #     Connected to                     \n",
      "==================================================================================================\n",
      "wordindex (InputLayer)          (None, 1000)         0                                            \n",
      "__________________________________________________________________________________________________\n",
      "embedding_1 (Embedding)         (None, 1000, 100)    34223100    wordindex[0][0]                  \n",
      "__________________________________________________________________________________________________\n",
      "dropout_embedded (Dropout)      (None, 1000, 100)    0           embedding_1[0][0]                \n",
      "__________________________________________________________________________________________________\n",
      "conv0 (Conv1D)                  (None, 996, 128)     64128       dropout_embedded[0][0]           \n",
      "__________________________________________________________________________________________________\n",
      "max_pool0 (MaxPooling1D)        (None, 199, 128)     0           conv0[0][0]                      \n",
      "__________________________________________________________________________________________________\n",
      "dropout0 (Dropout)              (None, 199, 128)     0           max_pool0[0][0]                  \n",
      "__________________________________________________________________________________________________\n",
      "conv1 (Conv1D)                  (None, 195, 128)     82048       dropout0[0][0]                   \n",
      "__________________________________________________________________________________________________\n",
      "max_pool1 (MaxPooling1D)        (None, 39, 128)      0           conv1[0][0]                      \n",
      "__________________________________________________________________________________________________\n",
      "meta (InputLayer)               (None, 535)          0                                            \n",
      "__________________________________________________________________________________________________\n",
      "titles (InputLayer)             (None, 10000)        0                                            \n",
      "__________________________________________________________________________________________________\n",
      "descs (InputLayer)              (None, 10000)        0                                            \n",
      "__________________________________________________________________________________________________\n",
      "conv2 (Conv1D)                  (None, 35, 128)      82048       max_pool1[0][0]                  \n",
      "__________________________________________________________________________________________________\n",
      "hidden_meta (Dense)             (None, 128)          68608       meta[0][0]                       \n",
      "__________________________________________________________________________________________________\n",
      "hidden_title (Dense)            (None, 128)          1280128     titles[0][0]                     \n",
      "__________________________________________________________________________________________________\n",
      "hidden_desc (Dense)             (None, 128)          1280128     descs[0][0]                      \n",
      "__________________________________________________________________________________________________\n",
      "global_max_pool (MaxPooling1D)  (None, 1, 128)       0           conv2[0][0]                      \n",
      "__________________________________________________________________________________________________\n",
      "dropout_meta (Dropout)          (None, 128)          0           hidden_meta[0][0]                \n",
      "__________________________________________________________________________________________________\n",
      "dropout_title (Dropout)         (None, 128)          0           hidden_title[0][0]               \n",
      "__________________________________________________________________________________________________\n",
      "dropout_desc (Dropout)          (None, 128)          0           hidden_desc[0][0]                \n",
      "__________________________________________________________________________________________________\n",
      "flatten_1 (Flatten)             (None, 128)          0           global_max_pool[0][0]            \n",
      "__________________________________________________________________________________________________\n",
      "concatenate_1 (Concatenate)     (None, 512)          0           dropout_meta[0][0]               \n",
      "                                                                 dropout_title[0][0]              \n",
      "                                                                 dropout_desc[0][0]               \n",
      "                                                                 flatten_1[0][0]                  \n",
      "__________________________________________________________________________________________________\n",
      "fully_connected0 (Dense)        (None, 400)          205200      concatenate_1[0][0]              \n",
      "__________________________________________________________________________________________________\n",
      "dropout1 (Dropout)              (None, 400)          0           fully_connected0[0][0]           \n",
      "__________________________________________________________________________________________________\n",
      "fully_connected1 (Dense)        (None, 218)          87418       dropout1[0][0]                   \n",
      "==================================================================================================\n",
      "Total params: 37,372,806\n",
      "Trainable params: 37,372,806\n",
      "Non-trainable params: 0\n",
      "__________________________________________________________________________________________________\n"
     ]
    }
   ],
   "source": [
    "model.summary()"
   ]
  },
  {
   "cell_type": "markdown",
   "metadata": {},
   "source": [
    "### Tensorboard callbacks /metrics /monitor training"
   ]
  },
  {
   "cell_type": "markdown",
   "metadata": {},
   "source": [
    "<span style=\"color:red\"> **Size of these files is killing storage during training. Is it histograms?**</span>"
   ]
  },
  {
   "cell_type": "code",
   "execution_count": 19,
   "metadata": {
    "scrolled": true
   },
   "outputs": [],
   "source": [
    "tb = TensorBoard(log_dir='./learn_embedding_logs', histogram_freq=1, write_graph=True, write_images=False)"
   ]
  },
  {
   "cell_type": "code",
   "execution_count": 20,
   "metadata": {
    "scrolled": true
   },
   "outputs": [],
   "source": [
    "CHECKPOINT_PATH = os.path.join(DATADIR, 'model_checkpoint.hdf5')\n",
    "\n",
    "cp = ModelCheckpoint(\n",
    "                     filepath = CHECKPOINT_PATH, \n",
    "                     monitor='val_loss', \n",
    "                     verbose=0, \n",
    "                     save_best_only=False, \n",
    "                     save_weights_only=False, \n",
    "                     mode='auto', \n",
    "                     period=1\n",
    "                    )"
   ]
  },
  {
   "cell_type": "code",
   "execution_count": 21,
   "metadata": {
    "scrolled": true
   },
   "outputs": [],
   "source": [
    "from keras.callbacks import EarlyStopping\n",
    "early_stopping = EarlyStopping(monitor='val_loss', patience=2)\n",
    "#model.fit(x, y, validation_split=0.2, callbacks=[early_stopping])"
   ]
  },
  {
   "cell_type": "markdown",
   "metadata": {},
   "source": [
    "### 2 & 3. Train & compile model"
   ]
  },
  {
   "cell_type": "code",
   "execution_count": 24,
   "metadata": {
    "scrolled": true
   },
   "outputs": [
    {
     "name": "stdout",
     "output_type": "stream",
     "text": [
      "Train on 175620 samples, validate on 12390 samples\n",
      "Epoch 1/10\n",
      "175620/175620 [==============================] - 181s 1ms/step - loss: 0.0086 - binary_accuracy: 0.9952 - f1: nan - val_loss: 0.0040 - val_binary_accuracy: 0.9973 - val_f1: 0.7714\n",
      "Epoch 2/10\n",
      "175620/175620 [==============================] - 179s 1ms/step - loss: 0.0029 - binary_accuracy: 0.9980 - f1: 0.8702 - val_loss: 0.0034 - val_binary_accuracy: 0.9977 - val_f1: 0.8095\n",
      "Epoch 3/10\n",
      "175620/175620 [==============================] - 179s 1ms/step - loss: 0.0022 - binary_accuracy: 0.9985 - f1: 0.9037 - val_loss: 0.0033 - val_binary_accuracy: 0.9977 - val_f1: 0.8209\n",
      "Epoch 4/10\n",
      "175620/175620 [==============================] - 179s 1ms/step - loss: 0.0019 - binary_accuracy: 0.9988 - f1: 0.9196 - val_loss: 0.0033 - val_binary_accuracy: 0.9979 - val_f1: 0.8280\n",
      "Epoch 5/10\n",
      "175620/175620 [==============================] - 179s 1ms/step - loss: 0.0017 - binary_accuracy: 0.9989 - f1: 0.9299 - val_loss: 0.0034 - val_binary_accuracy: 0.9979 - val_f1: 0.8303\n",
      "Epoch 6/10\n",
      "175620/175620 [==============================] - 179s 1ms/step - loss: 0.0015 - binary_accuracy: 0.9990 - f1: 0.9360 - val_loss: 0.0035 - val_binary_accuracy: 0.9979 - val_f1: 0.8316\n"
     ]
    }
   ],
   "source": [
    "model.compile(loss=WeightedBinaryCrossEntropy(POS_RATIO),\n",
    "              optimizer='rmsprop',\n",
    "              metrics=['binary_accuracy', f1])\n",
    "\n",
    "# This `fit` call will be distributed on 8 GPUs.\n",
    "# Since the batch size is 256, each GPU will process 32 samples.\n",
    "history = model.fit(\n",
    "    {'meta': meta_train, 'titles': title_train, 'descs': desc_train, 'wordindex': x_train},\n",
    "    y_train, \n",
    "    validation_data=([meta_dev, title_dev, desc_dev, x_dev], y_dev), \n",
    "    epochs=10, batch_size=128, callbacks=[early_stopping]\n",
    ")\n",
    "\n"
   ]
  },
  {
   "cell_type": "code",
   "execution_count": 25,
   "metadata": {
    "scrolled": true
   },
   "outputs": [
    {
     "data": {
      "text/plain": [
       "dict_keys(['val_loss', 'val_binary_accuracy', 'val_f1', 'loss', 'binary_accuracy', 'f1'])"
      ]
     },
     "execution_count": 25,
     "metadata": {},
     "output_type": "execute_result"
    }
   ],
   "source": [
    "history_dict = history.history\n",
    "history_dict.keys()"
   ]
  },
  {
   "cell_type": "code",
   "execution_count": null,
   "metadata": {},
   "outputs": [],
   "source": []
  },
  {
   "cell_type": "code",
   "execution_count": 32,
   "metadata": {
    "scrolled": true
   },
   "outputs": [
    {
     "data": {
      "image/png": "[encoded data removed]",
      "text/plain": [
       "<matplotlib.figure.Figure at 0x7fd07a825668>"
      ]
     },
     "metadata": {},
     "output_type": "display_data"
    }
   ],
   "source": [
    "loss_values = history_dict['loss']\n",
    "val_loss_values = history_dict['val_loss']\n",
    "\n",
    "\n",
    "\n",
    "plt.plot(range(len(loss_values)), loss_values, 'bo', label='Training loss')           \n",
    "plt.plot(range(len(val_loss_values)), val_loss_values, 'b', label='Validation loss')      \n",
    "plt.title('Training and validation loss')\n",
    "plt.xlabel('Epochs')\n",
    "plt.ylabel('Loss')\n",
    "plt.legend()\n",
    "\n",
    "plt.show()"
   ]
  },
  {
   "cell_type": "code",
   "execution_count": 33,
   "metadata": {
    "scrolled": true
   },
   "outputs": [
    {
     "data": {
      "image/png": "[encoded data removed]",
      "text/plain": [
       "<matplotlib.figure.Figure at 0x7fd079cd3518>"
      ]
     },
     "metadata": {},
     "output_type": "display_data"
    }
   ],
   "source": [
    "plt.clf()    \n",
    "\n",
    "f1_values = history_dict['f1']\n",
    "val_f1_values = history_dict['val_f1']\n",
    "\n",
    "plt.plot(range(len(f1_values)), f1_values, 'bo', label='Training f1')\n",
    "plt.plot(range(len(val_f1_values)), val_f1_values, 'b', label='Validation f1')\n",
    "plt.title('Training and validation batch-level f1-micro')\n",
    "plt.xlabel('Epochs')\n",
    "plt.ylabel('F1-micro')\n",
    "plt.legend()\n",
    "\n",
    "plt.show()"
   ]
  },
  {
   "cell_type": "markdown",
   "metadata": {},
   "source": [
    "### Save results arrays"
   ]
  },
  {
   "cell_type": "code",
   "execution_count": 28,
   "metadata": {},
   "outputs": [],
   "source": [
    "def to_file(array,name):\n",
    "    df = pd.DataFrame(data = array.tolist(),columns=[i for i in range(1,y_train.shape[1]+1)])\n",
    "    df.to_csv(os.path.join(DATADIR, name+'.csv.gz'),compression='gzip',index=False)"
   ]
  },
  {
   "cell_type": "code",
   "execution_count": 29,
   "metadata": {},
   "outputs": [
    {
     "data": {
      "text/plain": [
       "'_1726_1203_'"
      ]
     },
     "execution_count": 29,
     "metadata": {},
     "output_type": "execute_result"
    }
   ],
   "source": [
    "date_run = time.strftime(\"_%H%M_%d%m_\")\n",
    "date_run"
   ]
  },
  {
   "cell_type": "code",
   "execution_count": 35,
   "metadata": {},
   "outputs": [],
   "source": [
    "y_prob = model.predict([meta_train, title_train, desc_train, x_train])"
   ]
  },
  {
   "cell_type": "code",
   "execution_count": 36,
   "metadata": {},
   "outputs": [],
   "source": [
    "to_file(y_prob,\"train_results\"+date_run)"
   ]
  },
  {
   "cell_type": "code",
   "execution_count": 37,
   "metadata": {},
   "outputs": [],
   "source": [
    "y_pred = y_prob.copy()\n",
    "y_pred[y_pred>=P_THRESHOLD] = 1\n",
    "y_pred[y_pred<P_THRESHOLD] = 0"
   ]
  },
  {
   "cell_type": "code",
   "execution_count": 38,
   "metadata": {
    "scrolled": true
   },
   "outputs": [
    {
     "name": "stdout",
     "output_type": "stream",
     "text": [
      "micro: (0.96982080580490126, 0.95028285644010824, 0.95995242725361796, None)\n",
      "macro: (0.97952570577508635, 0.97164109411071753, 0.97518938390701149, None)\n",
      "weightedmacro: (0.96969200010914558, 0.95028285644010824, 0.95939265335117363, None)\n"
     ]
    }
   ],
   "source": [
    "print('micro: {}'.format(precision_recall_fscore_support(y_train, y_pred, average='micro', sample_weight=None)))\n",
    "print('macro: {}'.format(precision_recall_fscore_support(y_train, y_pred, average='macro', sample_weight=None)))\n",
    "print('weightedmacro: {}'.format(precision_recall_fscore_support(y_train, y_pred, average='weighted', sample_weight=None)))"
   ]
  },
  {
   "cell_type": "code",
   "execution_count": 40,
   "metadata": {},
   "outputs": [],
   "source": [
    "y_prob_dev = model.predict([meta_dev, title_dev, desc_dev, x_dev])"
   ]
  },
  {
   "cell_type": "code",
   "execution_count": 41,
   "metadata": {},
   "outputs": [],
   "source": [
    "to_file(y_prob_dev,\"dev_results\"+date_run)"
   ]
  },
  {
   "cell_type": "code",
   "execution_count": 42,
   "metadata": {},
   "outputs": [],
   "source": [
    "y_pred_dev = y_prob_dev.copy()\n",
    "y_pred_dev[y_pred_dev>=P_THRESHOLD] = 1\n",
    "y_pred_dev[y_pred_dev<P_THRESHOLD] = 0"
   ]
  },
  {
   "cell_type": "code",
   "execution_count": 43,
   "metadata": {},
   "outputs": [
    {
     "name": "stdout",
     "output_type": "stream",
     "text": [
      "micro: (0.85547355473554731, 0.80872093023255809, 0.83144052600119545, None)\n",
      "macro: (0.73534006609310076, 0.7859479742417822, 0.75019336121687819, None)\n",
      "weightedmacro: (0.85730461885311171, 0.80872093023255809, 0.82884073909017519, None)\n"
     ]
    },
    {
     "name": "stderr",
     "output_type": "stream",
     "text": [
      "/home/ubuntu/anaconda3/envs/tensorflow_p36/lib/python3.6/site-packages/sklearn/metrics/classification.py:1135: UndefinedMetricWarning: Precision and F-score are ill-defined and being set to 0.0 in labels with no predicted samples.\n",
      "  'precision', 'predicted', average, warn_for)\n",
      "/home/ubuntu/anaconda3/envs/tensorflow_p36/lib/python3.6/site-packages/sklearn/metrics/classification.py:1137: UndefinedMetricWarning: Recall and F-score are ill-defined and being set to 0.0 in labels with no true samples.\n",
      "  'recall', 'true', average, warn_for)\n"
     ]
    }
   ],
   "source": [
    "print('micro: {}'.format(precision_recall_fscore_support(y_dev, y_pred_dev, average='micro', sample_weight=None)))\n",
    "print('macro: {}'.format(precision_recall_fscore_support(y_dev, y_pred_dev, average='macro', sample_weight=None)))\n",
    "print('weightedmacro: {}'.format(precision_recall_fscore_support(y_dev, y_pred_dev, average='weighted', sample_weight=None)))"
   ]
  },
  {
   "cell_type": "code",
   "execution_count": 44,
   "metadata": {},
   "outputs": [
    {
     "name": "stdout",
     "output_type": "stream",
     "text": [
      "weightedmacro: (array([ 1.        ,  1.        ,  0.97142857,  0.78571429,  1.        ,\n",
      "        0.625     ,  0.6       ,  0.75625   ,  1.        ,  0.91304348,\n",
      "        1.        ,  0.99655568,  1.        ,  0.        ,  0.825     ,\n",
      "        1.        ,  0.82758621,  1.        ,  0.        ,  0.77464789,\n",
      "        0.88712522,  0.64646465,  0.81192661,  0.        ,  0.66666667,\n",
      "        1.        ,  1.        ,  1.        ,  1.        ,  1.        ,\n",
      "        0.63636364,  0.92592593,  0.625     ,  0.        ,  0.69565217,\n",
      "        0.84708738,  0.5       ,  0.66666667,  0.77039275,  0.88235294,\n",
      "        0.77272727,  0.        ,  0.66666667,  0.80116959,  1.        ,\n",
      "        1.        ,  0.51428571,  0.90909091,  0.        ,  0.8       ,\n",
      "        0.79881657,  1.        ,  1.        ,  0.28571429,  1.        ,\n",
      "        0.66666667,  1.        ,  1.        ,  0.91509434,  0.5       ,\n",
      "        0.7768595 ,  0.8125    ,  0.7       ,  0.5       ,  0.69444444,\n",
      "        0.5       ,  0.80916031,  0.70873786,  1.        ,  1.        ,\n",
      "        0.76190476,  0.        ,  1.        ,  1.        ,  0.66129032,\n",
      "        0.83333333,  0.93243243,  0.82733813,  0.        ,  0.8959276 ,\n",
      "        0.        ,  0.95      ,  0.65      ,  0.90977444,  0.89528193,\n",
      "        1.        ,  0.        ,  0.77857143,  0.5       ,  1.        ,\n",
      "        0.85714286,  0.69565217,  0.        ,  0.86666667,  0.85198556,\n",
      "        0.7962963 ,  0.5       ,  1.        ,  0.90909091,  0.82608696,\n",
      "        0.78787879,  0.86813187,  0.93197279,  0.7037037 ,  1.        ,\n",
      "        0.88888889,  1.        ,  0.825     ,  0.        ,  0.57142857,\n",
      "        0.7826087 ,  0.        ,  0.6       ,  0.81818182,  1.        ,\n",
      "        0.        ,  1.        ,  0.        ,  0.75      ,  0.79146919,\n",
      "        0.55769231,  0.71153846,  0.73076923,  0.85714286,  0.91428571,\n",
      "        0.99148936,  1.        ,  0.82758621,  0.        ,  0.9266055 ,\n",
      "        0.        ,  1.        ,  1.        ,  1.        ,  0.66666667,\n",
      "        0.75051546,  0.73333333,  0.83411215,  0.84536082,  0.        ,\n",
      "        1.        ,  1.        ,  0.        ,  1.        ,  0.92982456,\n",
      "        0.91304348,  0.78070175,  0.95918367,  0.38461538,  1.        ,\n",
      "        0.        ,  0.        ,  0.88712871,  0.        ,  1.        ,\n",
      "        0.        ,  0.82758621,  0.97297297,  0.70588235,  0.92857143,\n",
      "        1.        ,  0.66666667,  0.92924528,  0.8045977 ,  0.89361702,\n",
      "        0.85714286,  0.7       ,  0.83333333,  0.92      ,  0.85251799,\n",
      "        0.89473684,  0.5       ,  0.        ,  0.52941176,  1.        ,\n",
      "        0.73109244,  0.875     ,  0.93333333,  0.75      ,  1.        ,\n",
      "        1.        ,  1.        ,  1.        ,  0.80952381,  0.66666667,\n",
      "        0.9047619 ,  0.89655172,  0.83333333,  0.51851852,  0.8596882 ,\n",
      "        1.        ,  0.        ,  0.7628866 ,  0.8       ,  0.71428571,\n",
      "        0.83333333,  1.        ,  0.68372703,  1.        ,  0.625     ,\n",
      "        1.        ,  0.9       ,  0.8125    ,  0.98571429,  0.        ,\n",
      "        1.        ,  0.91780822,  0.85714286,  0.775     ,  0.61538462,\n",
      "        0.88607595,  0.83707865,  0.        ,  0.76190476,  1.        ,\n",
      "        1.        ,  0.83333333,  0.9197861 ]), array([ 1.        ,  1.        ,  0.87931034,  0.91666667,  1.        ,\n",
      "        0.63829787,  1.        ,  0.71597633,  1.        ,  0.875     ,\n",
      "        1.        ,  0.99086758,  1.        ,  0.        ,  0.75      ,\n",
      "        1.        ,  0.96      ,  1.        ,  0.        ,  0.87301587,\n",
      "        0.79968203,  0.68085106,  0.83886256,  0.        ,  1.        ,\n",
      "        1.        ,  1.        ,  1.        ,  1.        ,  1.        ,\n",
      "        1.        ,  1.        ,  1.        ,  0.        ,  0.8       ,\n",
      "        0.78959276,  1.        ,  0.8       ,  0.67105263,  1.        ,\n",
      "        0.36956522,  0.        ,  0.47826087,  0.88961039,  1.        ,\n",
      "        0.99894958,  0.81818182,  1.        ,  0.        ,  0.95238095,\n",
      "        0.82822086,  1.        ,  1.        ,  1.        ,  1.        ,\n",
      "        1.        ,  1.        ,  1.        ,  0.88719512,  0.9       ,\n",
      "        0.59119497,  1.        ,  1.        ,  0.8       ,  0.67567568,\n",
      "        1.        ,  0.50961538,  0.73737374,  1.        ,  0.93846154,\n",
      "        0.94117647,  0.        ,  1.        ,  1.        ,  0.5942029 ,\n",
      "        0.96153846,  0.82142857,  0.80701754,  0.        ,  0.78884462,\n",
      "        0.        ,  0.76      ,  1.        ,  0.76582278,  0.82415254,\n",
      "        1.        ,  0.        ,  0.55050505,  1.        ,  1.        ,\n",
      "        1.        ,  0.94117647,  0.        ,  0.8643617 ,  0.78929766,\n",
      "        0.64179104,  1.        ,  1.        ,  1.        ,  0.95      ,\n",
      "        0.7027027 ,  0.79      ,  0.84567901,  0.82608696,  1.        ,\n",
      "        1.        ,  1.        ,  0.89189189,  0.        ,  1.        ,\n",
      "        1.        ,  0.        ,  1.        ,  1.        ,  1.        ,\n",
      "        0.        ,  1.        ,  0.        ,  1.        ,  0.71982759,\n",
      "        0.85294118,  0.67272727,  0.9047619 ,  1.        ,  0.84210526,\n",
      "        0.9748954 ,  1.        ,  0.56692913,  0.        ,  0.94392523,\n",
      "        0.        ,  1.        ,  1.        ,  1.        ,  1.        ,\n",
      "        0.85046729,  1.        ,  0.82258065,  0.9010989 ,  0.        ,\n",
      "        1.        ,  1.        ,  0.        ,  1.        ,  0.63855422,\n",
      "        0.95454545,  0.84761905,  0.79661017,  1.        ,  1.        ,\n",
      "        0.        ,  0.        ,  0.86153846,  0.        ,  1.        ,\n",
      "        0.        ,  0.85714286,  0.94736842,  0.46153846,  1.        ,\n",
      "        1.        ,  1.        ,  0.92488263,  0.77777778,  0.73255814,\n",
      "        0.93333333,  1.        ,  0.56603774,  0.84662577,  0.7745098 ,\n",
      "        0.7816092 ,  1.        ,  0.        ,  1.        ,  1.        ,\n",
      "        0.63970588,  0.77777778,  0.66141732,  1.        ,  1.        ,\n",
      "        1.        ,  1.        ,  1.        ,  0.89473684,  1.        ,\n",
      "        0.79166667,  0.79591837,  1.        ,  0.93333333,  0.69927536,\n",
      "        1.        ,  0.        ,  0.74747475,  1.        ,  1.        ,\n",
      "        1.        ,  1.        ,  0.58870056,  1.        ,  0.60606061,\n",
      "        1.        ,  1.        ,  1.        ,  0.92      ,  0.        ,\n",
      "        1.        ,  0.95035461,  0.69565217,  0.83783784,  1.        ,\n",
      "        0.83333333,  0.84180791,  0.        ,  1.        ,  1.        ,\n",
      "        1.        ,  1.        ,  0.95555556]), array([ 1.        ,  1.        ,  0.92307692,  0.84615385,  1.        ,\n",
      "        0.63157895,  0.75      ,  0.73556231,  1.        ,  0.89361702,\n",
      "        1.        ,  0.99370349,  1.        ,  0.        ,  0.78571429,\n",
      "        1.        ,  0.88888889,  1.        ,  0.        ,  0.82089552,\n",
      "        0.84113712,  0.66321244,  0.82517483,  0.        ,  0.8       ,\n",
      "        1.        ,  1.        ,  1.        ,  1.        ,  1.        ,\n",
      "        0.77777778,  0.96153846,  0.76923077,  0.        ,  0.74418605,\n",
      "        0.81733021,  0.66666667,  0.72727273,  0.71729958,  0.9375    ,\n",
      "        0.5       ,  0.        ,  0.55696203,  0.84307692,  1.        ,\n",
      "        0.99947451,  0.63157895,  0.95238095,  0.        ,  0.86956522,\n",
      "        0.81325301,  1.        ,  1.        ,  0.44444444,  1.        ,\n",
      "        0.8       ,  1.        ,  1.        ,  0.90092879,  0.64285714,\n",
      "        0.67142857,  0.89655172,  0.82352941,  0.61538462,  0.68493151,\n",
      "        0.66666667,  0.62536873,  0.72277228,  1.        ,  0.96825397,\n",
      "        0.84210526,  0.        ,  1.        ,  1.        ,  0.6259542 ,\n",
      "        0.89285714,  0.87341772,  0.81705151,  0.        ,  0.83898305,\n",
      "        0.        ,  0.84444444,  0.78787879,  0.83161512,  0.858246  ,\n",
      "        1.        ,  0.        ,  0.64497041,  0.66666667,  1.        ,\n",
      "        0.92307692,  0.8       ,  0.        ,  0.86551265,  0.81944444,\n",
      "        0.7107438 ,  0.66666667,  1.        ,  0.95238095,  0.88372093,\n",
      "        0.74285714,  0.82722513,  0.88673139,  0.76      ,  1.        ,\n",
      "        0.94117647,  1.        ,  0.85714286,  0.        ,  0.72727273,\n",
      "        0.87804878,  0.        ,  0.75      ,  0.9       ,  1.        ,\n",
      "        0.        ,  1.        ,  0.        ,  0.85714286,  0.75395034,\n",
      "        0.6744186 ,  0.69158879,  0.80851064,  0.92307692,  0.87671233,\n",
      "        0.98312236,  1.        ,  0.6728972 ,  0.        ,  0.93518519,\n",
      "        0.        ,  1.        ,  1.        ,  1.        ,  0.8       ,\n",
      "        0.7973713 ,  0.84615385,  0.82830626,  0.87234043,  0.        ,\n",
      "        1.        ,  1.        ,  0.        ,  1.        ,  0.75714286,\n",
      "        0.93333333,  0.81278539,  0.87037037,  0.55555556,  1.        ,\n",
      "        0.        ,  0.        ,  0.87414634,  0.        ,  1.        ,\n",
      "        0.        ,  0.84210526,  0.96      ,  0.55813953,  0.96296296,\n",
      "        1.        ,  0.8       ,  0.92705882,  0.79096045,  0.80511182,\n",
      "        0.89361702,  0.82352941,  0.6741573 ,  0.88178914,  0.81164384,\n",
      "        0.83435583,  0.66666667,  0.        ,  0.69230769,  1.        ,\n",
      "        0.68235294,  0.82352941,  0.77419355,  0.85714286,  1.        ,\n",
      "        1.        ,  1.        ,  1.        ,  0.85      ,  0.8       ,\n",
      "        0.84444444,  0.84324324,  0.90909091,  0.66666667,  0.77122877,\n",
      "        1.        ,  0.        ,  0.75510204,  0.88888889,  0.83333333,\n",
      "        0.90909091,  1.        ,  0.63266545,  1.        ,  0.61538462,\n",
      "        1.        ,  0.94736842,  0.89655172,  0.95172414,  0.        ,\n",
      "        1.        ,  0.93379791,  0.768     ,  0.80519481,  0.76190476,\n",
      "        0.85889571,  0.83943662,  0.        ,  0.86486486,  1.        ,\n",
      "        1.        ,  0.90909091,  0.9373297 ]), array([   3,    7,  116,   12,   56,   47,    6,  169,    2,   24,    2,\n",
      "        876,    1,    0,   44,    1,   25,    1,    0,  126, 1258,  188,\n",
      "        211,    0,    4,    1,    6,    3,    3,   12,    7,   25,    5,\n",
      "          0,   40,  442,    3,   25,  380,   15,   92,    0,   46,  154,\n",
      "          1,  952,   22,   10,    0,   21,  163,    2,    4,    2,    1,\n",
      "          2,    3,    1,  328,   10,  159,   13,    7,    5,   37,    1,\n",
      "        208,   99,    1,   65,   17,    0,    6,    2,   69,   26,   84,\n",
      "        285,    0,  251,    0,   25,   13,  158,  944,    4,    0,  198,\n",
      "          1,    6,    6,   17,    0,  376,  299,   67,    3,    7,   10,\n",
      "         20,   37,  100,  324,   23,    3,   16,    6,   37,    0,    4,\n",
      "         18,    0,    6,    9,    3,    0,    2,    0,    6,  232,   34,\n",
      "         55,   21,   18,   76,  239,    3,  127,    0,  107,    0,    1,\n",
      "          1,    1,    2,  428,   11,  434,   91,    0,   10,    2,    0,\n",
      "          3,   83,   22,  105,   59,    5,    1,    0,    0,  520,    0,\n",
      "          4,    0,   28,  228,   78,   13,    2,    4,  213,   90,  172,\n",
      "         45,    7,   53,  163,  306,   87,    1,    0,    9,    3,  136,\n",
      "         18,  127,    3,    6,    1,    5,    4,   19,    2,   24,   98,\n",
      "          5,   15,  552,   10,    0,   99,    4,   10,    5,    1,  885,\n",
      "          6,   33,    1,    9,   13,   75,    0,    2,  141,  138,   37,\n",
      "          8,   84,  177,    0,   16,    3,    3,    5,  180]))\n"
     ]
    },
    {
     "name": "stderr",
     "output_type": "stream",
     "text": [
      "/home/ubuntu/anaconda3/envs/tensorflow_p36/lib/python3.6/site-packages/sklearn/metrics/classification.py:1135: UndefinedMetricWarning: Precision and F-score are ill-defined and being set to 0.0 in labels with no predicted samples.\n",
      "  'precision', 'predicted', average, warn_for)\n",
      "/home/ubuntu/anaconda3/envs/tensorflow_p36/lib/python3.6/site-packages/sklearn/metrics/classification.py:1137: UndefinedMetricWarning: Recall and F-score are ill-defined and being set to 0.0 in labels with no true samples.\n",
      "  'recall', 'true', average, warn_for)\n"
     ]
    }
   ],
   "source": [
    "print('weightedmacro: {}'.format(precision_recall_fscore_support(y_dev, y_pred_dev, average=None, sample_weight=None)))"
   ]
  },
  {
   "cell_type": "code",
   "execution_count": 45,
   "metadata": {},
   "outputs": [],
   "source": [
    "to_file(y_train,\"true_train\"+date_run)"
   ]
  },
  {
   "cell_type": "code",
   "execution_count": 46,
   "metadata": {},
   "outputs": [],
   "source": [
    "to_file(y_dev,\"true_dev\"+date_run)"
   ]
  },
  {
   "cell_type": "markdown",
   "metadata": {},
   "source": [
    "### predictions"
   ]
  },
  {
   "cell_type": "code",
   "execution_count": 52,
   "metadata": {},
   "outputs": [],
   "source": [
    "def get_predictions(data_to_tag): \n",
    "    filename = data_to_tag+\"_arrays.npz\"\n",
    "    arrays = np.load(os.path.join(DATADIR,filename))\n",
    "    \n",
    "    print('Set up arrays for new_content: {}'.format(arrays.files))\n",
    "    x_predict = arrays['x']\n",
    "    meta_predict = arrays['meta'].all().todense()\n",
    "    title_predict = arrays['title'].all().todense()\n",
    "    desc_predict = arrays['desc'].all().todense()\n",
    "    \n",
    "    print('x_arrays.shape = {}'.format(x_predict.shape))\n",
    "    print('meta_arrays.shape = {}'.format(meta_predict.shape))\n",
    "    print('title_arrays.shape = {}'.format(title_predict.shape))\n",
    "    print('desc_arrays.shape = {}'.format(desc_predict.shape))\n",
    "    \n",
    "    print('Predict on untagged content')\n",
    "    y_pred_new = model.predict([meta_predict, title_predict, desc_predict, x_predict])\n",
    "    \n",
    "    to_file(y_pred_new, data_to_tag+\"_predictions\"+date_run)"
   ]
  },
  {
   "cell_type": "code",
   "execution_count": 53,
   "metadata": {},
   "outputs": [
    {
     "name": "stdout",
     "output_type": "stream",
     "text": [
      "Set up arrays for new_content: ['x', 'meta', 'title', 'desc', 'content_id']\n",
      "x_arrays.shape = (87177, 1000)\n",
      "meta_arrays.shape = (87177, 535)\n",
      "title_arrays.shape = (87177, 10000)\n",
      "desc_arrays.shape = (87177, 10000)\n",
      "Predict on untagged content\n"
     ]
    }
   ],
   "source": [
    "get_predictions(\"new\")"
   ]
  },
  {
   "cell_type": "code",
   "execution_count": 54,
   "metadata": {},
   "outputs": [
    {
     "name": "stdout",
     "output_type": "stream",
     "text": [
      "Set up arrays for new_content: ['x', 'meta', 'title', 'desc', 'content_id']\n",
      "x_arrays.shape = (15984, 1000)\n",
      "meta_arrays.shape = (15984, 535)\n",
      "title_arrays.shape = (15984, 10000)\n",
      "desc_arrays.shape = (15984, 10000)\n",
      "Predict on untagged content\n"
     ]
    }
   ],
   "source": [
    "get_predictions(\"level1\")"
   ]
  },
  {
   "cell_type": "code",
   "execution_count": null,
   "metadata": {},
   "outputs": [],
   "source": []
  }
 ],
 "metadata": {
  "keep_output": true,
  "kernelspec": {
   "display_name": "Environment (conda_tensorflow_p36)",
   "language": "python",
   "name": "conda_tensorflow_p36"
  },
  "language_info": {
   "codemirror_mode": {
    "name": "ipython",
    "version": 3
   },
   "file_extension": ".py",
   "mimetype": "text/x-python",
   "name": "python",
   "nbconvert_exporter": "python",
   "pygments_lexer": "ipython3",
   "version": "3.6.3"
  }
 },
 "nbformat": 4,
 "nbformat_minor": 2
}
