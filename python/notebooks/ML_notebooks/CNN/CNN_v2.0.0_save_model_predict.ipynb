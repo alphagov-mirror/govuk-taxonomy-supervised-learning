{
 "cells": [
  {
   "cell_type": "markdown",
   "metadata": {},
   "source": [
    "## Convolutional NN to classify govuk content to level2 taxons"
   ]
  },
  {
   "cell_type": "markdown",
   "metadata": {},
   "source": [
    "Based on:\n",
    "https://blog.keras.io/using-pre-trained-word-embeddings-in-a-keras-model.html"
   ]
  },
  {
   "cell_type": "markdown",
   "metadata": {},
   "source": [
    "### Load requirements and data"
   ]
  },
  {
   "cell_type": "code",
   "execution_count": 1,
   "metadata": {
    "scrolled": true
   },
   "outputs": [
    {
     "name": "stderr",
     "output_type": "stream",
     "text": [
      "Using TensorFlow backend.\n",
      "/home/ubuntu/anaconda3/envs/tensorflow_p36/lib/python3.6/importlib/_bootstrap.py:219: RuntimeWarning: compiletime version 3.5 of module 'tensorflow.python.framework.fast_tensor_util' does not match runtime version 3.6\n",
      "  return f(*args, **kwds)\n"
     ]
    }
   ],
   "source": [
    "import pandas as pd\n",
    "import numpy as np\n",
    "import os\n",
    "from datetime import datetime\n",
    "from keras.preprocessing.text import Tokenizer\n",
    "from keras.preprocessing.sequence import pad_sequences\n",
    "\n",
    "from keras.utils import to_categorical, layer_utils, plot_model\n",
    "\n",
    "from keras.layers import (Embedding, Input, Dense, Dropout, \n",
    "                          Activation, Conv1D, MaxPooling1D, Flatten, concatenate, Reshape)\n",
    "from keras.models import Model, Sequential\n",
    "from keras.optimizers import rmsprop\n",
    "from keras.callbacks import TensorBoard, Callback, ModelCheckpoint\n",
    "import keras.backend as K\n",
    "from keras.losses import binary_crossentropy\n",
    "\n",
    "from sklearn.preprocessing import LabelEncoder, MultiLabelBinarizer\n",
    "from sklearn.metrics import confusion_matrix, f1_score, precision_score, recall_score \n",
    "from sklearn.metrics import precision_recall_fscore_support, classification_report\n",
    "from sklearn.utils import class_weight\n",
    "\n",
    "import tensorflow as tf\n",
    "\n",
    "import matplotlib.pyplot as plt\n",
    "%matplotlib inline\n",
    "\n",
    "import functools\n",
    "\n",
    "import h5py\n",
    "\n",
    "from scipy import sparse\n",
    "import time\n"
   ]
  },
  {
   "cell_type": "markdown",
   "metadata": {},
   "source": [
    "### Environmental vars"
   ]
  },
  {
   "cell_type": "code",
   "execution_count": 2,
   "metadata": {
    "scrolled": true
   },
   "outputs": [],
   "source": [
    "DATADIR = os.getenv('DATADIR')"
   ]
  },
  {
   "cell_type": "markdown",
   "metadata": {},
   "source": [
    "### Print data version"
   ]
  },
  {
   "cell_type": "code",
   "execution_count": 3,
   "metadata": {},
   "outputs": [
    {
     "name": "stdout",
     "output_type": "stream",
     "text": [
      "algorithm running on data extracted from content store on /data/2018-03-27\n"
     ]
    }
   ],
   "source": [
    "print('algorithm running on data extracted from content store on {}'.format(DATADIR))"
   ]
  },
  {
   "cell_type": "markdown",
   "metadata": {},
   "source": [
    "## Hyperparameters"
   ]
  },
  {
   "cell_type": "markdown",
   "metadata": {},
   "source": [
    "Intuition for POS_RATIO is that it penalises the prediction of zero for everything, which is attractive to the model because the multilabel y matrix is super sparse. \n",
    "\n",
    "Increasing POS_RATIO should penalise predicting zeros more."
   ]
  },
  {
   "cell_type": "code",
   "execution_count": 4,
   "metadata": {
    "scrolled": true
   },
   "outputs": [],
   "source": [
    "#MAX_NB_WORDS\n",
    "MAX_SEQUENCE_LENGTH =1000\n",
    "EMBEDDING_DIM = 100 # keras embedding layer output_dim = Dimension of the dense embedding\n",
    "P_THRESHOLD = 0.5 #Threshold for probability of being assigned to class\n",
    "POS_RATIO = 0.5 #ratio of positive to negative for each class in weighted binary cross entropy loss function\n",
    "NUM_WORDS=20000 #keras tokenizer num_words: None or int. Maximum number of words to work with \n",
    "#(if set, tokenization will be restricted to the top num_words most common words in the dataset)."
   ]
  },
  {
   "cell_type": "markdown",
   "metadata": {},
   "source": [
    "### Read in data"
   ]
  },
  {
   "cell_type": "code",
   "execution_count": 5,
   "metadata": {
    "scrolled": true
   },
   "outputs": [],
   "source": [
    "train = np.load(os.path.join(DATADIR, 'train_arrays.npz'))"
   ]
  },
  {
   "cell_type": "code",
   "execution_count": 6,
   "metadata": {},
   "outputs": [
    {
     "data": {
      "text/plain": [
       "['x', 'meta', 'title', 'desc', 'y', 'content_id']"
      ]
     },
     "execution_count": 6,
     "metadata": {},
     "output_type": "execute_result"
    }
   ],
   "source": [
    "train.files"
   ]
  },
  {
   "cell_type": "code",
   "execution_count": 7,
   "metadata": {},
   "outputs": [
    {
     "name": "stdout",
     "output_type": "stream",
     "text": [
      "x_train.shape = (179166, 1000)\n",
      "meta_train.shape = (179166, 529)\n",
      "title_train.shape = (179166, 10000)\n",
      "desc_train.shape = (179166, 10000)\n",
      "y_train.shape = (179166, 216)\n"
     ]
    }
   ],
   "source": [
    "x_train = train['x']\n",
    "meta_train = train['meta'].all().todense()\n",
    "title_train = train['title'].all().todense()\n",
    "desc_train = train['desc'].all().todense()\n",
    "y_train = train['y'].all().todense()\n",
    "\n",
    "print('x_train.shape = {}'.format(x_train.shape))\n",
    "print('meta_train.shape = {}'.format(meta_train.shape))\n",
    "print('title_train.shape = {}'.format(title_train.shape))\n",
    "print('desc_train.shape = {}'.format(desc_train.shape))\n",
    "print('y_train.shape = {}'.format(y_train.shape))"
   ]
  },
  {
   "cell_type": "code",
   "execution_count": 8,
   "metadata": {
    "scrolled": true
   },
   "outputs": [],
   "source": [
    "dev = np.load(os.path.join(DATADIR, 'dev_arrays.npz'))"
   ]
  },
  {
   "cell_type": "code",
   "execution_count": 9,
   "metadata": {},
   "outputs": [
    {
     "name": "stdout",
     "output_type": "stream",
     "text": [
      "x_dev.shape = (13020, 1000)\n",
      "meta_dev.shape = (13020, 529)\n",
      "title_dev.shape = (13020, 10000)\n",
      "desc_dev.shape = (13020, 10000)\n",
      "y_dev.shape = (13020, 216)\n"
     ]
    }
   ],
   "source": [
    "x_dev = dev['x']\n",
    "meta_dev = dev['meta'].all().todense()\n",
    "title_dev = dev['title'].all().todense()\n",
    "desc_dev = dev['desc'].all().todense()\n",
    "y_dev = dev['y'].all().todense()\n",
    "\n",
    "print('x_dev.shape = {}'.format(x_dev.shape))\n",
    "print('meta_dev.shape = {}'.format(meta_dev.shape))\n",
    "print('title_dev.shape = {}'.format(title_dev.shape))\n",
    "print('desc_dev.shape = {}'.format(desc_dev.shape))\n",
    "print('y_dev.shape = {}'.format(y_dev.shape))"
   ]
  },
  {
   "cell_type": "code",
   "execution_count": 10,
   "metadata": {
    "scrolled": true
   },
   "outputs": [],
   "source": [
    "test = np.load(os.path.join(DATADIR, 'test_arrays.npz'))"
   ]
  },
  {
   "cell_type": "code",
   "execution_count": 11,
   "metadata": {},
   "outputs": [
    {
     "name": "stdout",
     "output_type": "stream",
     "text": [
      "x_test.shape = (13022, 1000)\n",
      "meta_test.shape = (13022, 529)\n",
      "title_test.shape = (13022, 10000)\n",
      "desc_test.shape = (13022, 10000)\n",
      "y_test.shape = (13022, 216)\n"
     ]
    }
   ],
   "source": [
    "x_test = test['x']\n",
    "meta_test = test['meta'].all().todense()\n",
    "title_test = test['title'].all().todense()\n",
    "desc_test = test['desc'].all().todense()\n",
    "y_test = test['y'].all().todense()\n",
    "\n",
    "print('x_test.shape = {}'.format(x_test.shape))\n",
    "print('meta_test.shape = {}'.format(meta_test.shape))\n",
    "print('title_test.shape = {}'.format(title_test.shape))\n",
    "print('desc_test.shape = {}'.format(desc_test.shape))\n",
    "print('y_test.shape = {}'.format(y_test.shape))"
   ]
  },
  {
   "cell_type": "markdown",
   "metadata": {
    "scrolled": true
   },
   "source": [
    "#### previous shapes in old data \n",
    "Shape of x_train: (150870, 1000)\n",
    "Shape of metax_train: (150870, 436)\n",
    "Shape of titlex_train: (150870, 10000)\n",
    "Shape of descx_train: (150870, 10000)\n",
    "Shape of y_train: (150870, 210)\n",
    "\n",
    "Shape of x_dev: (9234, 1000)\n",
    "Shape of meta_dev: (9234, 436)\n",
    "Shape of titlex_dev: (9234, 10000)\n",
    "Shape of descx_dev: (9234, 10000)\n",
    "Shape of y_dev: (9234, 210)\n",
    "\n",
    "Shape of x_test: (9234, 1000)\n",
    "Shape of metax_test: (9234, 436)\n",
    "Shape of titlex_test: (9234, 10000)\n",
    "Shape of descx_test: (9234, 10000)\n",
    "Shape of y_test: (9234, 210)"
   ]
  },
  {
   "cell_type": "markdown",
   "metadata": {},
   "source": [
    "### preparing the Embedding layer\n"
   ]
  },
  {
   "cell_type": "code",
   "execution_count": 12,
   "metadata": {},
   "outputs": [],
   "source": [
    "import json\n",
    "from collections import OrderedDict\n",
    "\n",
    "def load_tokenizer_from_file(filename):\n",
    "    \n",
    "    tokenizer = Tokenizer()\n",
    "\n",
    "    with open(filename, 'r') as infile:\n",
    "        tokenizer_data = json.load(infile)\n",
    "\n",
    "    tokenizer.word_counts = OrderedDict(tokenizer_data['word_counts'])\n",
    "    tokenizer.word_docs = tokenizer_data['word_docs']\n",
    "    tokenizer.word_index = tokenizer_data['word_index']\n",
    "    tokenizer.document_count = tokenizer_data['document_count']\n",
    "    tokenizer.index_docs = tokenizer_data['index_docs']\n",
    "\n",
    "    return tokenizer\n",
    "\n",
    "tokenizer_combined_text = load_tokenizer_from_file(os.path.join(DATADIR, \"combined_text_tokenizer.json\"))"
   ]
  },
  {
   "cell_type": "code",
   "execution_count": 13,
   "metadata": {
    "scrolled": true
   },
   "outputs": [],
   "source": [
    "embedding_layer = Embedding(len(tokenizer_combined_text.word_index) + 1, \n",
    "                            EMBEDDING_DIM, \n",
    "                            input_length=MAX_SEQUENCE_LENGTH)"
   ]
  },
  {
   "cell_type": "markdown",
   "metadata": {},
   "source": [
    "An Embedding layer should be fed sequences of integers, i.e. a 2D input of shape (samples, indices). These input sequences should be padded so that they all have the same length in a batch of input data (although an Embedding layer is capable of processing sequence of heterogenous length, if you don't pass an explicit input_length argument to the layer).\n",
    "\n",
    "All that the Embedding layer does is to map the integer inputs to the vectors found at the corresponding index in the embedding matrix, i.e. the sequence [1, 2] would be converted to [embeddings[1], embeddings[2]]. This means that the output of the Embedding layer will be a 3D tensor of shape (samples, sequence_length, embedding_dim)."
   ]
  },
  {
   "cell_type": "markdown",
   "metadata": {},
   "source": [
    "### Estimate class weights for unbalanced datasets.\n",
    "paramter to model.fit = __class_weight__: Optional dictionary mapping class indices (integers) to a weight (float) value, used for weighting the loss function (during training only). This can be useful to tell the model to \"pay more attention\" to samples from an under-represented class.\n",
    "\n",
    "Implement class_weight from sklearn:\n",
    "\n",
    "- Import the module \n",
    "\n",
    "`from sklearn.utils import class_weight`\n",
    "- calculate the class weight, If ‘balanced’, class weights will be given by n_samples / (n_classes * np.bincount(y)):\n",
    "\n",
    "`class_weight = class_weight.compute_class_weight('balanced', np.unique(y_train), y_train)`\n",
    "\n",
    "- change it to a dict in order to work with Keras.\n",
    "\n",
    "`class_weight_dict = dict(enumerate(class_weight))`\n",
    "\n",
    "- Add to model fitting\n",
    "\n",
    "`model.fit(X_train, y_train, class_weight=class_weight)`"
   ]
  },
  {
   "cell_type": "code",
   "execution_count": 14,
   "metadata": {
    "scrolled": true
   },
   "outputs": [],
   "source": [
    "# class_weight = class_weight.compute_class_weight('balanced', np.unique(y_train), y_train)\n",
    "# class_weight_dict = dict(enumerate(class_weight))"
   ]
  },
  {
   "cell_type": "markdown",
   "metadata": {},
   "source": [
    "### Custom loss function"
   ]
  },
  {
   "cell_type": "code",
   "execution_count": 15,
   "metadata": {
    "scrolled": true
   },
   "outputs": [
    {
     "name": "stdout",
     "output_type": "stream",
     "text": [
      "4.00756\n",
      "8.01512\n"
     ]
    }
   ],
   "source": [
    "class WeightedBinaryCrossEntropy(object):\n",
    "\n",
    "    def __init__(self, pos_ratio):\n",
    "        neg_ratio = 1. - pos_ratio\n",
    "        #self.pos_ratio = tf.constant(pos_ratio, tf.float32)\n",
    "        self.pos_ratio = pos_ratio\n",
    "        #self.weights = tf.constant(neg_ratio / pos_ratio, tf.float32)\n",
    "        self.weights = neg_ratio / pos_ratio\n",
    "        self.__name__ = \"weighted_binary_crossentropy({0})\".format(pos_ratio)\n",
    "\n",
    "    def __call__(self, y_true, y_pred):\n",
    "        return self.weighted_binary_crossentropy(y_true, y_pred)\n",
    "\n",
    "    def weighted_binary_crossentropy(self, y_true, y_pred):\n",
    "            # Transform to logits\n",
    "            epsilon = tf.convert_to_tensor(K.common._EPSILON, y_pred.dtype.base_dtype)\n",
    "            y_pred = tf.clip_by_value(y_pred, epsilon, 1 - epsilon)\n",
    "            y_pred = tf.log(y_pred / (1 - y_pred))\n",
    "\n",
    "            cost = tf.nn.weighted_cross_entropy_with_logits(y_true, y_pred, self.weights)\n",
    "            return K.mean(cost * self.pos_ratio, axis=-1)\n",
    "    \n",
    "y_true_arr = np.array([0,1,0,1], dtype=\"float32\")\n",
    "y_pred_arr = np.array([0,0,1,1], dtype=\"float32\")\n",
    "y_true = tf.constant(y_true_arr)\n",
    "y_pred = tf.constant(y_pred_arr)\n",
    "\n",
    "with tf.Session().as_default(): \n",
    "    print(WeightedBinaryCrossEntropy(0.5)(y_true, y_pred).eval())\n",
    "    print(binary_crossentropy(y_true, y_pred).eval())\n"
   ]
  },
  {
   "cell_type": "markdown",
   "metadata": {},
   "source": [
    "### difficulty getting global precision/recall metrics . CAUTION interpreting monitoring metrics\n",
    "fcholltet: \"Basically these are all global metrics that were approximated\n",
    "batch-wise, which is more misleading than helpful. This was mentioned in\n",
    "the docs but it's much cleaner to remove them altogether. It was a mistake\n",
    "to merge them in the first place.\""
   ]
  },
  {
   "cell_type": "code",
   "execution_count": 16,
   "metadata": {
    "scrolled": true
   },
   "outputs": [],
   "source": [
    "def f1(y_true, y_pred):\n",
    "    \"\"\"Use Recall  and precision metrics to calculate harmonic mean (F1 score).\n",
    "\n",
    "        Only computes a batch-wise average of recall.\n",
    "\n",
    "        Computes the recall, a metric for multi-label classification of\n",
    "        how many relevant items are selected.\n",
    "        \"\"\"\n",
    "    true_positives = K.sum(K.round(K.clip(y_true * y_pred, 0, 1)))\n",
    "    predicted_positives = K.sum(K.round(K.clip(y_pred, 0, 1)))\n",
    "    possible_positives = K.sum(K.round(K.clip(y_true, 0, 1)))\n",
    "    precision = true_positives / (predicted_positives + K.epsilon())\n",
    "    recall = true_positives / (possible_positives + K.epsilon())\n",
    "    f1 = 2*((precision*recall)/(precision+recall))\n",
    "    \n",
    "    return f1"
   ]
  },
  {
   "cell_type": "markdown",
   "metadata": {},
   "source": [
    "## Training a 1D convnet"
   ]
  },
  {
   "cell_type": "markdown",
   "metadata": {},
   "source": [
    "### 1. Create model"
   ]
  },
  {
   "cell_type": "code",
   "execution_count": 17,
   "metadata": {
    "scrolled": true
   },
   "outputs": [],
   "source": [
    "NB_CLASSES = y_train.shape[1]\n",
    "NB_METAVARS = meta_train.shape[1]\n",
    "\n",
    "\n",
    "\n",
    "sequence_input = Input(shape=(MAX_SEQUENCE_LENGTH,), dtype='int32', name='wordindex') #MAX_SEQUENCE_LENGTH\n",
    "embedded_sequences = embedding_layer(sequence_input)\n",
    "x = Dropout(0.2, name = 'dropout_embedded')(embedded_sequences)\n",
    "\n",
    "x = Conv1D(128, 5, activation='relu', name = 'conv0')(x)\n",
    "\n",
    "x = MaxPooling1D(5, name = 'max_pool0')(x)\n",
    "\n",
    "x = Dropout(0.5, name = 'dropout0')(x)\n",
    "\n",
    "x = Conv1D(128, 5, activation='relu', name = 'conv1')(x)\n",
    "\n",
    "x = MaxPooling1D(5 , name = 'max_pool1')(x)\n",
    "\n",
    "x = Conv1D(128, 5, activation='relu', name = 'conv2')(x)\n",
    "\n",
    "x = MaxPooling1D(35, name = 'global_max_pool')(x)  # global max pooling\n",
    "\n",
    "x = Flatten()(x) #reduce dimensions from 3 to 2; convert to vector + FULLYCONNECTED\n",
    "\n",
    "meta_input = Input(shape=(NB_METAVARS,), name='meta')\n",
    "meta_hidden = Dense(128, activation='relu', name = 'hidden_meta')(meta_input)\n",
    "meta_hidden = Dropout(0.2, name = 'dropout_meta')(meta_hidden)\n",
    "\n",
    "\n",
    "title_input = Input(shape=(title_train.shape[1],), name='titles')\n",
    "title_hidden = Dense(128, activation='relu', name = 'hidden_title')(title_input)\n",
    "title_hidden = Dropout(0.2, name = 'dropout_title')(title_hidden)\n",
    "\n",
    "desc_input = Input(shape=(desc_train.shape[1],), name='descs')\n",
    "desc_hidden = Dense(128, activation='relu', name = 'hidden_desc')(desc_input)\n",
    "desc_hidden = Dropout(0.2, name = 'dropout_desc')(desc_hidden)\n",
    "\n",
    "concatenated = concatenate([meta_hidden, title_hidden, desc_hidden, x])\n",
    "\n",
    "x = Dense(400, activation='relu', name = 'fully_connected0')(concatenated)\n",
    "\n",
    "x = Dropout(0.2, name = 'dropout1')(x)\n",
    "\n",
    "x = Dense(NB_CLASSES, activation='sigmoid', name = 'fully_connected1')(x)\n",
    "\n",
    "# # The Model class turns an input tensor and output tensor into a model\n",
    "# This creates Keras model instance, will use this instance to train/test the model.\n",
    "model = Model(inputs=[meta_input, title_input, desc_input, sequence_input], outputs=x)"
   ]
  },
  {
   "cell_type": "code",
   "execution_count": 18,
   "metadata": {
    "scrolled": true
   },
   "outputs": [
    {
     "name": "stdout",
     "output_type": "stream",
     "text": [
      "__________________________________________________________________________________________________\n",
      "Layer (type)                    Output Shape         Param #     Connected to                     \n",
      "==================================================================================================\n",
      "wordindex (InputLayer)          (None, 1000)         0                                            \n",
      "__________________________________________________________________________________________________\n",
      "embedding_1 (Embedding)         (None, 1000, 100)    35584400    wordindex[0][0]                  \n",
      "__________________________________________________________________________________________________\n",
      "dropout_embedded (Dropout)      (None, 1000, 100)    0           embedding_1[0][0]                \n",
      "__________________________________________________________________________________________________\n",
      "conv0 (Conv1D)                  (None, 996, 128)     64128       dropout_embedded[0][0]           \n",
      "__________________________________________________________________________________________________\n",
      "max_pool0 (MaxPooling1D)        (None, 199, 128)     0           conv0[0][0]                      \n",
      "__________________________________________________________________________________________________\n",
      "dropout0 (Dropout)              (None, 199, 128)     0           max_pool0[0][0]                  \n",
      "__________________________________________________________________________________________________\n",
      "conv1 (Conv1D)                  (None, 195, 128)     82048       dropout0[0][0]                   \n",
      "__________________________________________________________________________________________________\n",
      "max_pool1 (MaxPooling1D)        (None, 39, 128)      0           conv1[0][0]                      \n",
      "__________________________________________________________________________________________________\n",
      "meta (InputLayer)               (None, 529)          0                                            \n",
      "__________________________________________________________________________________________________\n",
      "titles (InputLayer)             (None, 10000)        0                                            \n",
      "__________________________________________________________________________________________________\n",
      "descs (InputLayer)              (None, 10000)        0                                            \n",
      "__________________________________________________________________________________________________\n",
      "conv2 (Conv1D)                  (None, 35, 128)      82048       max_pool1[0][0]                  \n",
      "__________________________________________________________________________________________________\n",
      "hidden_meta (Dense)             (None, 128)          67840       meta[0][0]                       \n",
      "__________________________________________________________________________________________________\n",
      "hidden_title (Dense)            (None, 128)          1280128     titles[0][0]                     \n",
      "__________________________________________________________________________________________________\n",
      "hidden_desc (Dense)             (None, 128)          1280128     descs[0][0]                      \n",
      "__________________________________________________________________________________________________\n",
      "global_max_pool (MaxPooling1D)  (None, 1, 128)       0           conv2[0][0]                      \n",
      "__________________________________________________________________________________________________\n",
      "dropout_meta (Dropout)          (None, 128)          0           hidden_meta[0][0]                \n",
      "__________________________________________________________________________________________________\n",
      "dropout_title (Dropout)         (None, 128)          0           hidden_title[0][0]               \n",
      "__________________________________________________________________________________________________\n",
      "dropout_desc (Dropout)          (None, 128)          0           hidden_desc[0][0]                \n",
      "__________________________________________________________________________________________________\n",
      "flatten_1 (Flatten)             (None, 128)          0           global_max_pool[0][0]            \n",
      "__________________________________________________________________________________________________\n",
      "concatenate_1 (Concatenate)     (None, 512)          0           dropout_meta[0][0]               \n",
      "                                                                 dropout_title[0][0]              \n",
      "                                                                 dropout_desc[0][0]               \n",
      "                                                                 flatten_1[0][0]                  \n",
      "__________________________________________________________________________________________________\n",
      "fully_connected0 (Dense)        (None, 400)          205200      concatenate_1[0][0]              \n",
      "__________________________________________________________________________________________________\n",
      "dropout1 (Dropout)              (None, 400)          0           fully_connected0[0][0]           \n",
      "__________________________________________________________________________________________________\n",
      "fully_connected1 (Dense)        (None, 216)          86616       dropout1[0][0]                   \n",
      "==================================================================================================\n",
      "Total params: 38,732,536\n",
      "Trainable params: 38,732,536\n",
      "Non-trainable params: 0\n",
      "__________________________________________________________________________________________________\n"
     ]
    }
   ],
   "source": [
    "model.summary()"
   ]
  },
  {
   "cell_type": "markdown",
   "metadata": {},
   "source": [
    "### Tensorboard callbacks /metrics /monitor training"
   ]
  },
  {
   "cell_type": "markdown",
   "metadata": {},
   "source": [
    "<span style=\"color:red\"> **Size of these files is killing storage during training. Is it histograms?**</span>"
   ]
  },
  {
   "cell_type": "code",
   "execution_count": 19,
   "metadata": {
    "scrolled": true
   },
   "outputs": [],
   "source": [
    "tb = TensorBoard(log_dir='./learn_embedding_logs', histogram_freq=1, write_graph=True, write_images=False)"
   ]
  },
  {
   "cell_type": "code",
   "execution_count": 20,
   "metadata": {
    "scrolled": true
   },
   "outputs": [],
   "source": [
    "CHECKPOINT_PATH = os.path.join(DATADIR, 'model_checkpoint.hdf5')\n",
    "\n",
    "cp = ModelCheckpoint(\n",
    "                     filepath = CHECKPOINT_PATH, \n",
    "                     monitor='val_loss', \n",
    "                     verbose=0, \n",
    "                     save_best_only=False, \n",
    "                     save_weights_only=False, \n",
    "                     mode='auto', \n",
    "                     period=1\n",
    "                    )"
   ]
  },
  {
   "cell_type": "code",
   "execution_count": 21,
   "metadata": {
    "scrolled": true
   },
   "outputs": [],
   "source": [
    "from keras.callbacks import EarlyStopping\n",
    "early_stopping = EarlyStopping(monitor='val_loss', patience=2)\n",
    "#model.fit(x, y, validation_split=0.2, callbacks=[early_stopping])"
   ]
  },
  {
   "cell_type": "markdown",
   "metadata": {},
   "source": [
    "### 2 & 3. Train & compile model"
   ]
  },
  {
   "cell_type": "code",
   "execution_count": 22,
   "metadata": {
    "scrolled": true
   },
   "outputs": [
    {
     "name": "stdout",
     "output_type": "stream",
     "text": [
      "Train on 179166 samples, validate on 13020 samples\n",
      "Epoch 1/10\n",
      "179166/179166 [==============================] - 188s 1ms/step - loss: 0.0086 - binary_accuracy: 0.9951 - f1: nan - val_loss: 0.0039 - val_binary_accuracy: 0.9973 - val_f1: 0.7734\n",
      "Epoch 2/10\n",
      "179166/179166 [==============================] - 183s 1ms/step - loss: 0.0030 - binary_accuracy: 0.9980 - f1: 0.8629 - val_loss: 0.0035 - val_binary_accuracy: 0.9976 - val_f1: 0.8083\n",
      "Epoch 3/10\n",
      "179166/179166 [==============================] - 183s 1ms/step - loss: 0.0023 - binary_accuracy: 0.9985 - f1: 0.8979 - val_loss: 0.0033 - val_binary_accuracy: 0.9978 - val_f1: 0.8194\n",
      "Epoch 4/10\n",
      "179166/179166 [==============================] - 183s 1ms/step - loss: 0.0020 - binary_accuracy: 0.9987 - f1: 0.9151 - val_loss: 0.0033 - val_binary_accuracy: 0.9978 - val_f1: 0.8276\n",
      "Epoch 5/10\n",
      "179166/179166 [==============================] - 183s 1ms/step - loss: 0.0017 - binary_accuracy: 0.9989 - f1: 0.9252 - val_loss: 0.0034 - val_binary_accuracy: 0.9979 - val_f1: 0.8297\n",
      "Epoch 6/10\n",
      "179166/179166 [==============================] - 183s 1ms/step - loss: 0.0016 - binary_accuracy: 0.9989 - f1: 0.9309 - val_loss: 0.0035 - val_binary_accuracy: 0.9979 - val_f1: 0.8315\n"
     ]
    }
   ],
   "source": [
    "model.compile(loss=WeightedBinaryCrossEntropy(POS_RATIO),\n",
    "              optimizer='rmsprop',\n",
    "              metrics=['binary_accuracy', f1])\n",
    "\n",
    "# This `fit` call will be distributed on 8 GPUs.\n",
    "# Since the batch size is 256, each GPU will process 32 samples.\n",
    "history = model.fit(\n",
    "    {'meta': meta_train, 'titles': title_train, 'descs': desc_train, 'wordindex': x_train},\n",
    "    y_train, \n",
    "    validation_data=([meta_dev, title_dev, desc_dev, x_dev], y_dev), \n",
    "    epochs=10, batch_size=128, callbacks=[early_stopping]\n",
    ")\n",
    "\n"
   ]
  },
  {
   "cell_type": "code",
   "execution_count": 23,
   "metadata": {
    "scrolled": true
   },
   "outputs": [
    {
     "data": {
      "text/plain": [
       "dict_keys(['val_loss', 'val_binary_accuracy', 'val_f1', 'loss', 'binary_accuracy', 'f1'])"
      ]
     },
     "execution_count": 23,
     "metadata": {},
     "output_type": "execute_result"
    }
   ],
   "source": [
    "history_dict = history.history\n",
    "history_dict.keys()"
   ]
  },
  {
   "cell_type": "code",
   "execution_count": 24,
   "metadata": {
    "scrolled": true
   },
   "outputs": [
    {
     "data": {
      "image/png": "[encoded data removed]",
      "text/plain": [
       "<matplotlib.figure.Figure at 0x7fd0d11a5c18>"
      ]
     },
     "metadata": {},
     "output_type": "display_data"
    }
   ],
   "source": [
    "loss_values = history_dict['loss']\n",
    "val_loss_values = history_dict['val_loss']\n",
    "\n",
    "\n",
    "\n",
    "plt.plot(range(len(loss_values)), loss_values, 'bo', label='Training loss')           \n",
    "plt.plot(range(len(val_loss_values)), val_loss_values, 'b', label='Validation loss')      \n",
    "plt.title('Training and validation loss')\n",
    "plt.xlabel('Epochs')\n",
    "plt.ylabel('Loss')\n",
    "plt.legend()\n",
    "\n",
    "plt.show()"
   ]
  },
  {
   "cell_type": "code",
   "execution_count": 25,
   "metadata": {
    "scrolled": true
   },
   "outputs": [
    {
     "data": {
      "image/png": "[encoded data removed]",
      "text/plain": [
       "<matplotlib.figure.Figure at 0x7fd0d0afdf60>"
      ]
     },
     "metadata": {},
     "output_type": "display_data"
    }
   ],
   "source": [
    "plt.clf()    \n",
    "\n",
    "f1_values = history_dict['f1']\n",
    "val_f1_values = history_dict['val_f1']\n",
    "\n",
    "plt.plot(range(len(f1_values)), f1_values, 'bo', label='Training f1')\n",
    "plt.plot(range(len(val_f1_values)), val_f1_values, 'b', label='Validation f1')\n",
    "plt.title('Training and validation batch-level f1-micro')\n",
    "plt.xlabel('Epochs')\n",
    "plt.ylabel('F1-micro')\n",
    "plt.legend()\n",
    "\n",
    "plt.show()"
   ]
  },
  {
   "cell_type": "markdown",
   "metadata": {},
   "source": [
    "### Save results arrays"
   ]
  },
  {
   "cell_type": "code",
   "execution_count": 26,
   "metadata": {},
   "outputs": [],
   "source": [
    "def to_file(array,name):\n",
    "    df = pd.DataFrame(data = array.tolist(),columns=[i for i in range(1,y_train.shape[1]+1)])\n",
    "    df.to_csv(os.path.join(DATADIR, name+'.csv.gz'),compression='gzip',index=False)"
   ]
  },
  {
   "cell_type": "code",
   "execution_count": 27,
   "metadata": {},
   "outputs": [],
   "source": [
    "y_prob = model.predict([meta_train, title_train, desc_train, x_train])"
   ]
  },
  {
   "cell_type": "code",
   "execution_count": 28,
   "metadata": {},
   "outputs": [],
   "source": [
    "to_file(y_prob,\"train_results\")"
   ]
  },
  {
   "cell_type": "code",
   "execution_count": 29,
   "metadata": {},
   "outputs": [],
   "source": [
    "y_pred = y_prob.copy()\n",
    "y_pred[y_pred>=P_THRESHOLD] = 1\n",
    "y_pred[y_pred<P_THRESHOLD] = 0"
   ]
  },
  {
   "cell_type": "code",
   "execution_count": 30,
   "metadata": {
    "scrolled": true
   },
   "outputs": [
    {
     "name": "stdout",
     "output_type": "stream",
     "text": [
      "micro: (0.96087221864845695, 0.95438341262663995, 0.95761682373576229, None)\n",
      "macro: (0.97612390318920661, 0.97162071199874112, 0.97359360595384603, None)\n",
      "weightedmacro: (0.96142540788192132, 0.95438341262663995, 0.95747751270259429, None)\n"
     ]
    }
   ],
   "source": [
    "print('micro: {}'.format(precision_recall_fscore_support(y_train, y_pred, average='micro', sample_weight=None)))\n",
    "print('macro: {}'.format(precision_recall_fscore_support(y_train, y_pred, average='macro', sample_weight=None)))\n",
    "print('weightedmacro: {}'.format(precision_recall_fscore_support(y_train, y_pred, average='weighted', sample_weight=None)))"
   ]
  },
  {
   "cell_type": "code",
   "execution_count": 31,
   "metadata": {},
   "outputs": [],
   "source": [
    "y_prob_dev = model.predict([meta_dev, title_dev, desc_dev, x_dev])"
   ]
  },
  {
   "cell_type": "code",
   "execution_count": 32,
   "metadata": {},
   "outputs": [],
   "source": [
    "to_file(y_prob_dev,\"dev_results\")"
   ]
  },
  {
   "cell_type": "code",
   "execution_count": 33,
   "metadata": {},
   "outputs": [],
   "source": [
    "y_pred_dev = y_prob_dev.copy()\n",
    "y_pred_dev[y_pred_dev>=P_THRESHOLD] = 1\n",
    "y_pred_dev[y_pred_dev<P_THRESHOLD] = 0"
   ]
  },
  {
   "cell_type": "code",
   "execution_count": 34,
   "metadata": {},
   "outputs": [
    {
     "name": "stdout",
     "output_type": "stream",
     "text": [
      "micro: (0.84049357559291338, 0.82211272284353887, 0.83120154496347498, None)\n",
      "macro: (0.80190499495089373, 0.85726866171762006, 0.82000987119737301, None)\n",
      "weightedmacro: (0.84541911329588237, 0.82211272284353887, 0.83002450733175637, None)\n"
     ]
    },
    {
     "name": "stderr",
     "output_type": "stream",
     "text": [
      "/home/ubuntu/anaconda3/envs/tensorflow_p36/lib/python3.6/site-packages/sklearn/metrics/classification.py:1135: UndefinedMetricWarning: Precision and F-score are ill-defined and being set to 0.0 in labels with no predicted samples.\n",
      "  'precision', 'predicted', average, warn_for)\n",
      "/home/ubuntu/anaconda3/envs/tensorflow_p36/lib/python3.6/site-packages/sklearn/metrics/classification.py:1137: UndefinedMetricWarning: Recall and F-score are ill-defined and being set to 0.0 in labels with no true samples.\n",
      "  'recall', 'true', average, warn_for)\n"
     ]
    }
   ],
   "source": [
    "print('micro: {}'.format(precision_recall_fscore_support(y_dev, y_pred_dev, average='micro', sample_weight=None)))\n",
    "print('macro: {}'.format(precision_recall_fscore_support(y_dev, y_pred_dev, average='macro', sample_weight=None)))\n",
    "print('weightedmacro: {}'.format(precision_recall_fscore_support(y_dev, y_pred_dev, average='weighted', sample_weight=None)))"
   ]
  },
  {
   "cell_type": "code",
   "execution_count": 35,
   "metadata": {},
   "outputs": [
    {
     "name": "stdout",
     "output_type": "stream",
     "text": [
      "weightedmacro: (array([ 1.        ,  0.88888889,  0.93965517,  0.5       ,  1.        ,\n",
      "        0.61538462,  0.8       ,  0.70614035,  1.        ,  1.        ,\n",
      "        0.99672489,  1.        ,  1.        ,  0.8372093 ,  1.        ,\n",
      "        0.65789474,  1.        ,  0.75384615,  0.86468647,  0.85185185,\n",
      "        0.83712121,  0.        ,  0.625     ,  1.        ,  1.        ,\n",
      "        1.        ,  0.5       ,  0.93333333,  0.9375    ,  0.83333333,\n",
      "        0.85714286,  0.        ,  0.59183673,  0.79253112,  0.5       ,\n",
      "        0.81818182,  0.76129032,  0.8       ,  0.68181818,  0.        ,\n",
      "        0.74418605,  0.78431373,  0.66666667,  0.99796126,  0.9       ,\n",
      "        1.        ,  1.        ,  0.86956522,  0.75      ,  1.        ,\n",
      "        1.        ,  0.76923077,  0.        ,  0.71428571,  1.        ,\n",
      "        1.        ,  0.91958042,  0.64705882,  0.86567164,  0.78571429,\n",
      "        0.        ,  0.8       ,  0.80487805,  1.        ,  0.81879195,\n",
      "        0.78448276,  1.        ,  0.97468354,  0.65384615,  1.        ,\n",
      "        1.        ,  1.        ,  0.66129032,  0.85714286,  0.93333333,\n",
      "        0.8466899 ,  1.        ,  0.84814815,  1.        ,  0.77142857,\n",
      "        0.71428571,  0.8908046 ,  0.87451488,  0.66666667,  1.        ,\n",
      "        0.71794872,  1.        ,  1.        ,  1.        ,  0.60869565,\n",
      "        0.5       ,  0.8856305 ,  0.75375375,  0.76923077,  1.        ,\n",
      "        0.92105263,  0.88888889,  0.64444444,  0.84057971,  0.925     ,\n",
      "        0.72093023,  1.        ,  0.83333333,  0.66666667,  0.86363636,\n",
      "        1.        ,  0.66666667,  0.95238095,  1.        ,  0.55555556,\n",
      "        1.        ,  1.        ,  1.        ,  1.        ,  1.        ,\n",
      "        0.57142857,  0.78278689,  0.6744186 ,  0.82      ,  0.66666667,\n",
      "        0.76190476,  0.89041096,  0.98222222,  1.        ,  0.82142857,\n",
      "        0.        ,  0.91752577,  1.        ,  1.        ,  0.66666667,\n",
      "        1.        ,  0.91666667,  0.83538084,  0.94736842,  0.82194617,\n",
      "        0.84615385,  1.        ,  0.83333333,  1.        ,  1.        ,\n",
      "        1.        ,  0.84615385,  0.84210526,  0.83739837,  0.75862069,\n",
      "        0.46153846,  1.        ,  1.        ,  1.        ,  0.89756944,\n",
      "        0.        ,  0.        ,  1.        ,  0.93548387,  0.95275591,\n",
      "        0.94285714,  0.77192982,  0.85714286,  1.        ,  1.        ,\n",
      "        0.90987124,  0.84269663,  0.88947368,  0.77777778,  0.66666667,\n",
      "        0.77777778,  0.85549133,  0.84246575,  0.8313253 ,  0.        ,\n",
      "        0.        ,  0.77777778,  0.        ,  0.6640625 ,  0.84615385,\n",
      "        0.75193798,  0.5       ,  0.66666667,  0.        ,  1.        ,\n",
      "        1.        ,  0.73913043,  0.91666667,  0.75      ,  0.90740741,\n",
      "        0.81818182,  0.45833333,  0.76090468,  0.8       ,  0.78082192,\n",
      "        0.8       ,  0.66666667,  0.33333333,  1.        ,  1.        ,\n",
      "        0.62026515,  0.5       ,  0.59259259,  0.75      ,  1.        ,\n",
      "        0.8       ,  0.89705882,  1.        ,  1.        ,  0.88965517,\n",
      "        0.91666667,  0.79545455,  0.8       ,  0.90163934,  0.86982249,\n",
      "        1.        ,  0.84210526,  1.        ,  1.        ,  1.        ,\n",
      "        0.93377483]), array([ 1.        ,  1.        ,  0.92372881,  0.84615385,  1.        ,\n",
      "        0.62745098,  1.        ,  0.81313131,  1.        ,  1.        ,\n",
      "        0.99347116,  1.        ,  1.        ,  0.87804878,  1.        ,\n",
      "        1.        ,  1.        ,  0.784     ,  0.83042789,  0.63888889,\n",
      "        0.88047809,  0.        ,  1.        ,  1.        ,  1.        ,\n",
      "        1.        ,  1.        ,  1.        ,  1.        ,  0.88235294,\n",
      "        1.        ,  0.        ,  0.85294118,  0.83406114,  1.        ,\n",
      "        0.79411765,  0.6344086 ,  1.        ,  0.48913043,  0.        ,\n",
      "        0.52459016,  0.8       ,  1.        ,  0.99796126,  0.75      ,\n",
      "        1.        ,  1.        ,  0.86956522,  0.81456954,  1.        ,\n",
      "        1.        ,  1.        ,  0.        ,  1.        ,  1.        ,\n",
      "        1.        ,  0.88552189,  1.        ,  0.59487179,  1.        ,\n",
      "        0.        ,  1.        ,  0.75      ,  1.        ,  0.5       ,\n",
      "        0.7109375 ,  1.        ,  0.95061728,  1.        ,  1.        ,\n",
      "        1.        ,  1.        ,  0.62121212,  0.97297297,  0.8045977 ,\n",
      "        0.82094595,  1.        ,  0.90513834,  1.        ,  0.93103448,\n",
      "        1.        ,  0.88571429,  0.79529412,  1.        ,  1.        ,\n",
      "        0.53164557,  1.        ,  1.        ,  1.        ,  0.875     ,\n",
      "        1.        ,  0.81401617,  0.80707395,  0.65934066,  1.        ,\n",
      "        0.97222222,  0.94117647,  0.87878788,  0.59793814,  0.85824742,\n",
      "        0.96875   ,  1.        ,  1.        ,  1.        ,  0.79166667,\n",
      "        1.        ,  1.        ,  1.        ,  1.        ,  1.        ,\n",
      "        0.95454545,  1.        ,  1.        ,  1.        ,  1.        ,\n",
      "        1.        ,  0.77016129,  0.85294118,  0.6119403 ,  0.95238095,\n",
      "        1.        ,  0.90277778,  0.95258621,  1.        ,  0.54330709,\n",
      "        0.        ,  0.94680851,  1.        ,  1.        ,  1.        ,\n",
      "        1.        ,  1.        ,  0.77448747,  0.94736842,  0.84110169,\n",
      "        0.92436975,  1.        ,  1.        ,  1.        ,  1.        ,\n",
      "        1.        ,  0.77464789,  0.94117647,  0.83739837,  0.78571429,\n",
      "        1.        ,  1.        ,  1.        ,  1.        ,  0.87775891,\n",
      "        0.        ,  0.        ,  1.        ,  0.82857143,  0.93436293,\n",
      "        0.89189189,  0.50574713,  1.        ,  1.        ,  1.        ,\n",
      "        0.89451477,  0.65217391,  0.75784753,  0.95454545,  0.93333333,\n",
      "        0.63636364,  0.87058824,  0.82550336,  0.76666667,  0.        ,\n",
      "        0.        ,  0.875     ,  0.        ,  0.61151079,  0.88      ,\n",
      "        0.7238806 ,  1.        ,  1.        ,  0.        ,  1.        ,\n",
      "        1.        ,  0.94444444,  1.        ,  0.92307692,  0.79674797,\n",
      "        1.        ,  0.91666667,  0.79830508,  1.        ,  0.64044944,\n",
      "        1.        ,  0.85714286,  1.        ,  1.        ,  1.        ,\n",
      "        0.73102679,  1.        ,  0.91428571,  1.        ,  1.        ,\n",
      "        0.86956522,  0.89705882,  1.        ,  1.        ,  0.92805755,\n",
      "        0.81481481,  0.83333333,  0.92307692,  0.76388889,  0.72413793,\n",
      "        1.        ,  1.        ,  1.        ,  1.        ,  1.        ,\n",
      "        0.8757764 ]), array([ 1.        ,  0.94117647,  0.93162393,  0.62857143,  1.        ,\n",
      "        0.62135922,  0.88888889,  0.75586854,  1.        ,  1.        ,\n",
      "        0.99509537,  1.        ,  1.        ,  0.85714286,  1.        ,\n",
      "        0.79365079,  1.        ,  0.76862745,  0.84721099,  0.73015873,\n",
      "        0.85825243,  0.        ,  0.76923077,  1.        ,  1.        ,\n",
      "        1.        ,  0.66666667,  0.96551724,  0.96774194,  0.85714286,\n",
      "        0.92307692,  0.        ,  0.69879518,  0.81276596,  0.66666667,\n",
      "        0.80597015,  0.69208211,  0.88888889,  0.56962025,  0.        ,\n",
      "        0.61538462,  0.79207921,  0.8       ,  0.99796126,  0.81818182,\n",
      "        1.        ,  1.        ,  0.86956522,  0.78095238,  1.        ,\n",
      "        1.        ,  0.86956522,  0.        ,  0.83333333,  1.        ,\n",
      "        1.        ,  0.90222985,  0.78571429,  0.70516717,  0.88      ,\n",
      "        0.        ,  0.88888889,  0.77647059,  1.        ,  0.62086514,\n",
      "        0.74590164,  1.        ,  0.9625    ,  0.79069767,  1.        ,\n",
      "        1.        ,  1.        ,  0.640625  ,  0.91139241,  0.86419753,\n",
      "        0.83361921,  1.        ,  0.87571702,  1.        ,  0.84375   ,\n",
      "        0.83333333,  0.88825215,  0.83302526,  0.8       ,  1.        ,\n",
      "        0.61090909,  1.        ,  1.        ,  1.        ,  0.71794872,\n",
      "        0.66666667,  0.84831461,  0.77950311,  0.71005917,  1.        ,\n",
      "        0.94594595,  0.91428571,  0.74358974,  0.69879518,  0.89037433,\n",
      "        0.82666667,  1.        ,  0.90909091,  0.8       ,  0.82608696,\n",
      "        1.        ,  0.8       ,  0.97560976,  1.        ,  0.71428571,\n",
      "        0.97674419,  1.        ,  1.        ,  1.        ,  1.        ,\n",
      "        0.72727273,  0.77642276,  0.75324675,  0.7008547 ,  0.78431373,\n",
      "        0.86486486,  0.89655172,  0.96717724,  1.        ,  0.65402844,\n",
      "        0.        ,  0.93193717,  1.        ,  1.        ,  0.8       ,\n",
      "        1.        ,  0.95652174,  0.80378251,  0.94736842,  0.83141361,\n",
      "        0.88353414,  1.        ,  0.90909091,  1.        ,  1.        ,\n",
      "        1.        ,  0.80882353,  0.88888889,  0.83739837,  0.77192982,\n",
      "        0.63157895,  1.        ,  1.        ,  1.        ,  0.88755365,\n",
      "        0.        ,  0.        ,  1.        ,  0.87878788,  0.94346979,\n",
      "        0.91666667,  0.61111111,  0.92307692,  1.        ,  1.        ,\n",
      "        0.90212766,  0.73529412,  0.81840194,  0.85714286,  0.77777778,\n",
      "        0.7       ,  0.86297376,  0.83389831,  0.79768786,  0.        ,\n",
      "        0.        ,  0.82352941,  0.        ,  0.63670412,  0.8627451 ,\n",
      "        0.73764259,  0.66666667,  0.8       ,  0.        ,  1.        ,\n",
      "        1.        ,  0.82926829,  0.95652174,  0.82758621,  0.84848485,\n",
      "        0.9       ,  0.61111111,  0.77915633,  0.88888889,  0.7037037 ,\n",
      "        0.88888889,  0.75      ,  0.5       ,  1.        ,  1.        ,\n",
      "        0.67110656,  0.66666667,  0.71910112,  0.85714286,  1.        ,\n",
      "        0.83333333,  0.89705882,  1.        ,  1.        ,  0.9084507 ,\n",
      "        0.8627451 ,  0.81395349,  0.85714286,  0.82706767,  0.79032258,\n",
      "        1.        ,  0.91428571,  1.        ,  1.        ,  1.        ,\n",
      "        0.90384615]), array([   2,    8,  118,   13,   53,   51,   12,  198,    1,    3,  919,\n",
      "          5,    2,   41,    1,   25,    2,  125, 1262,  216,  251,    0,\n",
      "          5,    7,    2,    3,    1,   14,   15,   17,    6,    0,   34,\n",
      "        458,    2,   34,  372,   12,   92,    0,   61,  150,    4,  981,\n",
      "         36,    4,    1,   23,  151,    2,    6,   10,    0,    5,    2,\n",
      "          1,  297,   11,  195,   11,    0,   12,   44,    5,  244,  128,\n",
      "          2,   81,   17,    1,    4,    6,   66,   37,   87,  296,    1,\n",
      "        253,    1,   29,   15,  175,  850,    2,    1,  158,    1,    4,\n",
      "          3,   16,    1,  371,  311,   91,    6,   36,   34,   33,   97,\n",
      "        388,   32,    2,   15,    2,   48,    1,    6,   20,    3,    5,\n",
      "         22,    1,    1,    2,    3,    4,  248,   34,   67,   21,   16,\n",
      "         72,  232,    4,  127,    0,   94,    2,    1,    4,    1,   11,\n",
      "        439,   19,  472,  119,    1,   10,    1,    2,    5,   71,   17,\n",
      "        123,   56,    6,    4,    1,    3,  589,    0,    0,    1,   35,\n",
      "        259,   37,   87,    6,    4,    4,  237,  115,  223,   44,   15,\n",
      "         77,  170,  298,   90,    0,    0,    8,    0,  139,   25,  134,\n",
      "          2,    4,    0,    6,    8,   18,   11,   13,  123,    9,   12,\n",
      "        590,   12,   89,    8,    7,    1,    2,    4,  896,    3,   35,\n",
      "          3,    6,   23,   68,    1,    1,  139,  162,   42,   13,   72,\n",
      "        203,    2,   16,    2,    1,    7,  161]))\n"
     ]
    },
    {
     "name": "stderr",
     "output_type": "stream",
     "text": [
      "/home/ubuntu/anaconda3/envs/tensorflow_p36/lib/python3.6/site-packages/sklearn/metrics/classification.py:1135: UndefinedMetricWarning: Precision and F-score are ill-defined and being set to 0.0 in labels with no predicted samples.\n",
      "  'precision', 'predicted', average, warn_for)\n",
      "/home/ubuntu/anaconda3/envs/tensorflow_p36/lib/python3.6/site-packages/sklearn/metrics/classification.py:1137: UndefinedMetricWarning: Recall and F-score are ill-defined and being set to 0.0 in labels with no true samples.\n",
      "  'recall', 'true', average, warn_for)\n"
     ]
    }
   ],
   "source": [
    "print('weightedmacro: {}'.format(precision_recall_fscore_support(y_dev, y_pred_dev, average=None, sample_weight=None)))"
   ]
  },
  {
   "cell_type": "code",
   "execution_count": 36,
   "metadata": {},
   "outputs": [],
   "source": [
    "to_file(y_train,\"true_train\")"
   ]
  },
  {
   "cell_type": "code",
   "execution_count": 37,
   "metadata": {},
   "outputs": [],
   "source": [
    "to_file(y_dev,\"true_dev\")"
   ]
  },
  {
   "cell_type": "markdown",
   "metadata": {},
   "source": [
    "### predictions"
   ]
  },
  {
   "cell_type": "code",
   "execution_count": 38,
   "metadata": {},
   "outputs": [],
   "source": [
    "def get_predictions(data_to_tag): \n",
    "    filename = data_to_tag+\"_arrays.npz\"\n",
    "    arrays = np.load(os.path.join(DATADIR,filename))\n",
    "    \n",
    "    print('Set up arrays for new_content: {}'.format(arrays.files))\n",
    "    x_predict = arrays['x']\n",
    "    meta_predict = arrays['meta'].all().todense()\n",
    "    title_predict = arrays['title'].all().todense()\n",
    "    desc_predict = arrays['desc'].all().todense()\n",
    "    \n",
    "    print('x_arrays.shape = {}'.format(x_predict.shape))\n",
    "    print('meta_arrays.shape = {}'.format(meta_predict.shape))\n",
    "    print('title_arrays.shape = {}'.format(title_predict.shape))\n",
    "    print('desc_arrays.shape = {}'.format(desc_predict.shape))\n",
    "    \n",
    "    print('Predict on untagged content')\n",
    "    y_pred_new = model.predict([meta_predict, title_predict, desc_predict, x_predict])\n",
    "    \n",
    "    to_file(y_pred_new, data_to_tag+\"_predictions\")"
   ]
  },
  {
   "cell_type": "code",
   "execution_count": 39,
   "metadata": {},
   "outputs": [
    {
     "name": "stdout",
     "output_type": "stream",
     "text": [
      "Set up arrays for new_content: ['x', 'meta', 'title', 'desc', 'content_id']\n",
      "x_arrays.shape = (68049, 1000)\n",
      "meta_arrays.shape = (68049, 529)\n",
      "title_arrays.shape = (68049, 10000)\n",
      "desc_arrays.shape = (68049, 10000)\n",
      "Predict on untagged content\n"
     ]
    }
   ],
   "source": [
    "get_predictions(\"new\")"
   ]
  },
  {
   "cell_type": "code",
   "execution_count": 40,
   "metadata": {},
   "outputs": [
    {
     "name": "stdout",
     "output_type": "stream",
     "text": [
      "Set up arrays for new_content: ['x', 'meta', 'title', 'desc', 'content_id']\n",
      "x_arrays.shape = (18317, 1000)\n",
      "meta_arrays.shape = (18317, 529)\n",
      "title_arrays.shape = (18317, 10000)\n",
      "desc_arrays.shape = (18317, 10000)\n",
      "Predict on untagged content\n"
     ]
    }
   ],
   "source": [
    "get_predictions(\"level1\")"
   ]
  }
 ],
 "metadata": {
  "keep_output": true,
  "kernelspec": {
   "display_name": "Environment (conda_tensorflow_p36)",
   "language": "python",
   "name": "conda_tensorflow_p36"
  },
  "language_info": {
   "codemirror_mode": {
    "name": "ipython",
    "version": 3
   },
   "file_extension": ".py",
   "mimetype": "text/x-python",
   "name": "python",
   "nbconvert_exporter": "python",
   "pygments_lexer": "ipython3",
   "version": "3.6.3"
  }
 },
 "nbformat": 4,
 "nbformat_minor": 2
}
