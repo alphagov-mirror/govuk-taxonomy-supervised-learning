{
 "cells": [
  {
   "cell_type": "markdown",
   "metadata": {},
   "source": [
    "## Convolutional NN to classify govuk content to level2 taxons"
   ]
  },
  {
   "cell_type": "markdown",
   "metadata": {},
   "source": [
    "Based on:\n",
    "https://blog.keras.io/using-pre-trained-word-embeddings-in-a-keras-model.html"
   ]
  },
  {
   "cell_type": "markdown",
   "metadata": {},
   "source": [
    "### Load requirements and data"
   ]
  },
  {
   "cell_type": "code",
   "execution_count": 1,
   "metadata": {
    "scrolled": true
   },
   "outputs": [
    {
     "name": "stderr",
     "output_type": "stream",
     "text": [
      "Using TensorFlow backend.\n",
      "/home/ubuntu/anaconda3/envs/tensorflow_p36/lib/python3.6/importlib/_bootstrap.py:219: RuntimeWarning: compiletime version 3.5 of module 'tensorflow.python.framework.fast_tensor_util' does not match runtime version 3.6\n",
      "  return f(*args, **kwds)\n"
     ]
    }
   ],
   "source": [
    "import pandas as pd\n",
    "import numpy as np\n",
    "import os\n",
    "from datetime import datetime\n",
    "from keras.preprocessing.text import Tokenizer\n",
    "from keras.preprocessing.sequence import pad_sequences\n",
    "\n",
    "from keras.utils import to_categorical, layer_utils, plot_model\n",
    "\n",
    "from keras.layers import (Embedding, Input, Dense, Dropout, \n",
    "                          Activation, Conv1D, MaxPooling1D, Flatten, concatenate, Reshape)\n",
    "from keras.models import Model, Sequential\n",
    "from keras.optimizers import rmsprop\n",
    "from keras.callbacks import TensorBoard, Callback, ModelCheckpoint\n",
    "import keras.backend as K\n",
    "from keras.losses import binary_crossentropy\n",
    "\n",
    "from sklearn.preprocessing import LabelEncoder, MultiLabelBinarizer\n",
    "from sklearn.metrics import confusion_matrix, f1_score, precision_score, recall_score \n",
    "from sklearn.metrics import precision_recall_fscore_support, classification_report\n",
    "from sklearn.utils import class_weight\n",
    "\n",
    "import tensorflow as tf\n",
    "\n",
    "import matplotlib.pyplot as plt\n",
    "%matplotlib inline\n",
    "\n",
    "import functools\n",
    "\n",
    "import h5py\n",
    "\n",
    "from scipy import sparse\n",
    "import time\n"
   ]
  },
  {
   "cell_type": "markdown",
   "metadata": {},
   "source": [
    "### Environmental vars"
   ]
  },
  {
   "cell_type": "code",
   "execution_count": 2,
   "metadata": {
    "scrolled": true
   },
   "outputs": [],
   "source": [
    "DATADIR = os.getenv('DATADIR')"
   ]
  },
  {
   "cell_type": "markdown",
   "metadata": {},
   "source": [
    "### Print data version"
   ]
  },
  {
   "cell_type": "code",
   "execution_count": 3,
   "metadata": {},
   "outputs": [
    {
     "name": "stdout",
     "output_type": "stream",
     "text": [
      "algorithm running on data extracted from content store on /data/2018-03-22\n"
     ]
    }
   ],
   "source": [
    "print('algorithm running on data extracted from content store on {}'.format(DATADIR))"
   ]
  },
  {
   "cell_type": "markdown",
   "metadata": {},
   "source": [
    "## Hyperparameters"
   ]
  },
  {
   "cell_type": "markdown",
   "metadata": {},
   "source": [
    "Intuition for POS_RATIO is that it penalises the prediction of zero for everything, which is attractive to the model because the multilabel y matrix is super sparse. \n",
    "\n",
    "Increasing POS_RATIO should penalise predicting zeros more."
   ]
  },
  {
   "cell_type": "code",
   "execution_count": 4,
   "metadata": {
    "scrolled": true
   },
   "outputs": [],
   "source": [
    "#MAX_NB_WORDS\n",
    "MAX_SEQUENCE_LENGTH =1000\n",
    "EMBEDDING_DIM = 100 # keras embedding layer output_dim = Dimension of the dense embedding\n",
    "P_THRESHOLD = 0.5 #Threshold for probability of being assigned to class\n",
    "POS_RATIO = 0.5 #ratio of positive to negative for each class in weighted binary cross entropy loss function\n",
    "NUM_WORDS=20000 #keras tokenizer num_words: None or int. Maximum number of words to work with \n",
    "#(if set, tokenization will be restricted to the top num_words most common words in the dataset)."
   ]
  },
  {
   "cell_type": "markdown",
   "metadata": {},
   "source": [
    "### Read in data"
   ]
  },
  {
   "cell_type": "code",
   "execution_count": 6,
   "metadata": {
    "scrolled": true
   },
   "outputs": [],
   "source": [
    "train = np.load(os.path.join(DATADIR, 'train_arrays.npz'))"
   ]
  },
  {
   "cell_type": "code",
   "execution_count": 7,
   "metadata": {},
   "outputs": [
    {
     "data": {
      "text/plain": [
       "['x', 'meta', 'title', 'desc', 'y', 'content_id']"
      ]
     },
     "execution_count": 7,
     "metadata": {},
     "output_type": "execute_result"
    }
   ],
   "source": [
    "train.files"
   ]
  },
  {
   "cell_type": "code",
   "execution_count": 8,
   "metadata": {},
   "outputs": [
    {
     "name": "stdout",
     "output_type": "stream",
     "text": [
      "x_train.shape = (178688, 1000)\n",
      "meta_train.shape = (178688, 529)\n",
      "title_train.shape = (178688, 10000)\n",
      "desc_train.shape = (178688, 10000)\n",
      "y_train.shape = (178688, 217)\n"
     ]
    }
   ],
   "source": [
    "x_train = train['x']\n",
    "meta_train = train['meta'].all().todense()\n",
    "title_train = train['title'].all().todense()\n",
    "desc_train = train['desc'].all().todense()\n",
    "y_train = train['y'].all().todense()\n",
    "\n",
    "print('x_train.shape = {}'.format(x_train.shape))\n",
    "print('meta_train.shape = {}'.format(meta_train.shape))\n",
    "print('title_train.shape = {}'.format(title_train.shape))\n",
    "print('desc_train.shape = {}'.format(desc_train.shape))\n",
    "print('y_train.shape = {}'.format(y_train.shape))"
   ]
  },
  {
   "cell_type": "code",
   "execution_count": 9,
   "metadata": {
    "scrolled": true
   },
   "outputs": [],
   "source": [
    "dev = np.load(os.path.join(DATADIR, 'dev_arrays.npz'))"
   ]
  },
  {
   "cell_type": "code",
   "execution_count": 10,
   "metadata": {},
   "outputs": [
    {
     "name": "stdout",
     "output_type": "stream",
     "text": [
      "x_dev.shape = (12961, 1000)\n",
      "meta_dev.shape = (12961, 529)\n",
      "title_dev.shape = (12961, 10000)\n",
      "desc_dev.shape = (12961, 10000)\n",
      "y_dev.shape = (12961, 217)\n"
     ]
    }
   ],
   "source": [
    "x_dev = dev['x']\n",
    "meta_dev = dev['meta'].all().todense()\n",
    "title_dev = dev['title'].all().todense()\n",
    "desc_dev = dev['desc'].all().todense()\n",
    "y_dev = dev['y'].all().todense()\n",
    "\n",
    "print('x_dev.shape = {}'.format(x_dev.shape))\n",
    "print('meta_dev.shape = {}'.format(meta_dev.shape))\n",
    "print('title_dev.shape = {}'.format(title_dev.shape))\n",
    "print('desc_dev.shape = {}'.format(desc_dev.shape))\n",
    "print('y_dev.shape = {}'.format(y_dev.shape))"
   ]
  },
  {
   "cell_type": "code",
   "execution_count": 11,
   "metadata": {
    "scrolled": true
   },
   "outputs": [],
   "source": [
    "test = np.load(os.path.join(DATADIR, 'test_arrays.npz'))"
   ]
  },
  {
   "cell_type": "code",
   "execution_count": 12,
   "metadata": {},
   "outputs": [
    {
     "name": "stdout",
     "output_type": "stream",
     "text": [
      "x_test.shape = (12962, 1000)\n",
      "meta_test.shape = (12962, 529)\n",
      "title_test.shape = (12962, 10000)\n",
      "desc_test.shape = (12962, 10000)\n",
      "y_test.shape = (12962, 217)\n"
     ]
    }
   ],
   "source": [
    "x_test = test['x']\n",
    "meta_test = test['meta'].all().todense()\n",
    "title_test = test['title'].all().todense()\n",
    "desc_test = test['desc'].all().todense()\n",
    "y_test = test['y'].all().todense()\n",
    "\n",
    "print('x_test.shape = {}'.format(x_test.shape))\n",
    "print('meta_test.shape = {}'.format(meta_test.shape))\n",
    "print('title_test.shape = {}'.format(title_test.shape))\n",
    "print('desc_test.shape = {}'.format(desc_test.shape))\n",
    "print('y_test.shape = {}'.format(y_test.shape))"
   ]
  },
  {
   "cell_type": "markdown",
   "metadata": {
    "scrolled": true
   },
   "source": [
    "#### previous shapes in old data \n",
    "Shape of x_train: (150870, 1000)\n",
    "Shape of metax_train: (150870, 436)\n",
    "Shape of titlex_train: (150870, 10000)\n",
    "Shape of descx_train: (150870, 10000)\n",
    "Shape of y_train: (150870, 210)\n",
    "\n",
    "Shape of x_dev: (9234, 1000)\n",
    "Shape of meta_dev: (9234, 436)\n",
    "Shape of titlex_dev: (9234, 10000)\n",
    "Shape of descx_dev: (9234, 10000)\n",
    "Shape of y_dev: (9234, 210)\n",
    "\n",
    "Shape of x_test: (9234, 1000)\n",
    "Shape of metax_test: (9234, 436)\n",
    "Shape of titlex_test: (9234, 10000)\n",
    "Shape of descx_test: (9234, 10000)\n",
    "Shape of y_test: (9234, 210)"
   ]
  },
  {
   "cell_type": "markdown",
   "metadata": {},
   "source": [
    "### preparing the Embedding layer\n"
   ]
  },
  {
   "cell_type": "code",
   "execution_count": 13,
   "metadata": {},
   "outputs": [],
   "source": [
    "import json\n",
    "from collections import OrderedDict\n",
    "\n",
    "def load_tokenizer_from_file(filename):\n",
    "    \n",
    "    tokenizer = Tokenizer()\n",
    "\n",
    "    with open(filename, 'r') as infile:\n",
    "        tokenizer_data = json.load(infile)\n",
    "\n",
    "    tokenizer.word_counts = OrderedDict(tokenizer_data['word_counts'])\n",
    "    tokenizer.word_docs = tokenizer_data['word_docs']\n",
    "    tokenizer.word_index = tokenizer_data['word_index']\n",
    "    tokenizer.document_count = tokenizer_data['document_count']\n",
    "    tokenizer.index_docs = tokenizer_data['index_docs']\n",
    "\n",
    "    return tokenizer\n",
    "\n",
    "tokenizer_combined_text = load_tokenizer_from_file(os.path.join(DATADIR, \"combined_text_tokenizer.json\"))"
   ]
  },
  {
   "cell_type": "code",
   "execution_count": 14,
   "metadata": {
    "scrolled": true
   },
   "outputs": [],
   "source": [
    "embedding_layer = Embedding(len(tokenizer_combined_text.word_index) + 1, \n",
    "                            EMBEDDING_DIM, \n",
    "                            input_length=MAX_SEQUENCE_LENGTH)"
   ]
  },
  {
   "cell_type": "markdown",
   "metadata": {},
   "source": [
    "An Embedding layer should be fed sequences of integers, i.e. a 2D input of shape (samples, indices). These input sequences should be padded so that they all have the same length in a batch of input data (although an Embedding layer is capable of processing sequence of heterogenous length, if you don't pass an explicit input_length argument to the layer).\n",
    "\n",
    "All that the Embedding layer does is to map the integer inputs to the vectors found at the corresponding index in the embedding matrix, i.e. the sequence [1, 2] would be converted to [embeddings[1], embeddings[2]]. This means that the output of the Embedding layer will be a 3D tensor of shape (samples, sequence_length, embedding_dim)."
   ]
  },
  {
   "cell_type": "markdown",
   "metadata": {},
   "source": [
    "### Estimate class weights for unbalanced datasets.\n",
    "paramter to model.fit = __class_weight__: Optional dictionary mapping class indices (integers) to a weight (float) value, used for weighting the loss function (during training only). This can be useful to tell the model to \"pay more attention\" to samples from an under-represented class.\n",
    "\n",
    "Implement class_weight from sklearn:\n",
    "\n",
    "- Import the module \n",
    "\n",
    "`from sklearn.utils import class_weight`\n",
    "- calculate the class weight, If ‘balanced’, class weights will be given by n_samples / (n_classes * np.bincount(y)):\n",
    "\n",
    "`class_weight = class_weight.compute_class_weight('balanced', np.unique(y_train), y_train)`\n",
    "\n",
    "- change it to a dict in order to work with Keras.\n",
    "\n",
    "`class_weight_dict = dict(enumerate(class_weight))`\n",
    "\n",
    "- Add to model fitting\n",
    "\n",
    "`model.fit(X_train, y_train, class_weight=class_weight)`"
   ]
  },
  {
   "cell_type": "code",
   "execution_count": 15,
   "metadata": {
    "scrolled": true
   },
   "outputs": [],
   "source": [
    "# class_weight = class_weight.compute_class_weight('balanced', np.unique(y_train), y_train)\n",
    "# class_weight_dict = dict(enumerate(class_weight))"
   ]
  },
  {
   "cell_type": "markdown",
   "metadata": {},
   "source": [
    "### Custom loss function"
   ]
  },
  {
   "cell_type": "code",
   "execution_count": 16,
   "metadata": {
    "scrolled": true
   },
   "outputs": [
    {
     "name": "stdout",
     "output_type": "stream",
     "text": [
      "4.00756\n",
      "8.01512\n"
     ]
    }
   ],
   "source": [
    "class WeightedBinaryCrossEntropy(object):\n",
    "\n",
    "    def __init__(self, pos_ratio):\n",
    "        neg_ratio = 1. - pos_ratio\n",
    "        #self.pos_ratio = tf.constant(pos_ratio, tf.float32)\n",
    "        self.pos_ratio = pos_ratio\n",
    "        #self.weights = tf.constant(neg_ratio / pos_ratio, tf.float32)\n",
    "        self.weights = neg_ratio / pos_ratio\n",
    "        self.__name__ = \"weighted_binary_crossentropy({0})\".format(pos_ratio)\n",
    "\n",
    "    def __call__(self, y_true, y_pred):\n",
    "        return self.weighted_binary_crossentropy(y_true, y_pred)\n",
    "\n",
    "    def weighted_binary_crossentropy(self, y_true, y_pred):\n",
    "            # Transform to logits\n",
    "            epsilon = tf.convert_to_tensor(K.common._EPSILON, y_pred.dtype.base_dtype)\n",
    "            y_pred = tf.clip_by_value(y_pred, epsilon, 1 - epsilon)\n",
    "            y_pred = tf.log(y_pred / (1 - y_pred))\n",
    "\n",
    "            cost = tf.nn.weighted_cross_entropy_with_logits(y_true, y_pred, self.weights)\n",
    "            return K.mean(cost * self.pos_ratio, axis=-1)\n",
    "    \n",
    "y_true_arr = np.array([0,1,0,1], dtype=\"float32\")\n",
    "y_pred_arr = np.array([0,0,1,1], dtype=\"float32\")\n",
    "y_true = tf.constant(y_true_arr)\n",
    "y_pred = tf.constant(y_pred_arr)\n",
    "\n",
    "with tf.Session().as_default(): \n",
    "    print(WeightedBinaryCrossEntropy(0.5)(y_true, y_pred).eval())\n",
    "    print(binary_crossentropy(y_true, y_pred).eval())\n"
   ]
  },
  {
   "cell_type": "markdown",
   "metadata": {},
   "source": [
    "### difficulty getting global precision/recall metrics . CAUTION interpreting monitoring metrics\n",
    "fcholltet: \"Basically these are all global metrics that were approximated\n",
    "batch-wise, which is more misleading than helpful. This was mentioned in\n",
    "the docs but it's much cleaner to remove them altogether. It was a mistake\n",
    "to merge them in the first place.\""
   ]
  },
  {
   "cell_type": "code",
   "execution_count": 17,
   "metadata": {
    "scrolled": true
   },
   "outputs": [],
   "source": [
    "def f1(y_true, y_pred):\n",
    "    \"\"\"Use Recall  and precision metrics to calculate harmonic mean (F1 score).\n",
    "\n",
    "        Only computes a batch-wise average of recall.\n",
    "\n",
    "        Computes the recall, a metric for multi-label classification of\n",
    "        how many relevant items are selected.\n",
    "        \"\"\"\n",
    "    true_positives = K.sum(K.round(K.clip(y_true * y_pred, 0, 1)))\n",
    "    predicted_positives = K.sum(K.round(K.clip(y_pred, 0, 1)))\n",
    "    possible_positives = K.sum(K.round(K.clip(y_true, 0, 1)))\n",
    "    precision = true_positives / (predicted_positives + K.epsilon())\n",
    "    recall = true_positives / (possible_positives + K.epsilon())\n",
    "    f1 = 2*((precision*recall)/(precision+recall))\n",
    "    \n",
    "    return f1"
   ]
  },
  {
   "cell_type": "markdown",
   "metadata": {},
   "source": [
    "## Training a 1D convnet"
   ]
  },
  {
   "cell_type": "markdown",
   "metadata": {},
   "source": [
    "### 1. Create model"
   ]
  },
  {
   "cell_type": "code",
   "execution_count": 18,
   "metadata": {
    "scrolled": true
   },
   "outputs": [],
   "source": [
    "NB_CLASSES = y_train.shape[1]\n",
    "NB_METAVARS = meta_train.shape[1]\n",
    "\n",
    "\n",
    "\n",
    "sequence_input = Input(shape=(MAX_SEQUENCE_LENGTH,), dtype='int32', name='wordindex') #MAX_SEQUENCE_LENGTH\n",
    "embedded_sequences = embedding_layer(sequence_input)\n",
    "x = Dropout(0.2, name = 'dropout_embedded')(embedded_sequences)\n",
    "\n",
    "x = Conv1D(128, 5, activation='relu', name = 'conv0')(x)\n",
    "\n",
    "x = MaxPooling1D(5, name = 'max_pool0')(x)\n",
    "\n",
    "x = Dropout(0.5, name = 'dropout0')(x)\n",
    "\n",
    "x = Conv1D(128, 5, activation='relu', name = 'conv1')(x)\n",
    "\n",
    "x = MaxPooling1D(5 , name = 'max_pool1')(x)\n",
    "\n",
    "x = Conv1D(128, 5, activation='relu', name = 'conv2')(x)\n",
    "\n",
    "x = MaxPooling1D(35, name = 'global_max_pool')(x)  # global max pooling\n",
    "\n",
    "x = Flatten()(x) #reduce dimensions from 3 to 2; convert to vector + FULLYCONNECTED\n",
    "\n",
    "meta_input = Input(shape=(NB_METAVARS,), name='meta')\n",
    "meta_hidden = Dense(128, activation='relu', name = 'hidden_meta')(meta_input)\n",
    "meta_hidden = Dropout(0.2, name = 'dropout_meta')(meta_hidden)\n",
    "\n",
    "\n",
    "title_input = Input(shape=(title_train.shape[1],), name='titles')\n",
    "title_hidden = Dense(128, activation='relu', name = 'hidden_title')(title_input)\n",
    "title_hidden = Dropout(0.2, name = 'dropout_title')(title_hidden)\n",
    "\n",
    "desc_input = Input(shape=(desc_train.shape[1],), name='descs')\n",
    "desc_hidden = Dense(128, activation='relu', name = 'hidden_desc')(desc_input)\n",
    "desc_hidden = Dropout(0.2, name = 'dropout_desc')(desc_hidden)\n",
    "\n",
    "concatenated = concatenate([meta_hidden, title_hidden, desc_hidden, x])\n",
    "\n",
    "x = Dense(400, activation='relu', name = 'fully_connected0')(concatenated)\n",
    "\n",
    "x = Dropout(0.2, name = 'dropout1')(x)\n",
    "\n",
    "x = Dense(NB_CLASSES, activation='sigmoid', name = 'fully_connected1')(x)\n",
    "\n",
    "# # The Model class turns an input tensor and output tensor into a model\n",
    "# This creates Keras model instance, will use this instance to train/test the model.\n",
    "model = Model(inputs=[meta_input, title_input, desc_input, sequence_input], outputs=x)"
   ]
  },
  {
   "cell_type": "code",
   "execution_count": 19,
   "metadata": {
    "scrolled": true
   },
   "outputs": [
    {
     "name": "stdout",
     "output_type": "stream",
     "text": [
      "__________________________________________________________________________________________________\n",
      "Layer (type)                    Output Shape         Param #     Connected to                     \n",
      "==================================================================================================\n",
      "wordindex (InputLayer)          (None, 1000)         0                                            \n",
      "__________________________________________________________________________________________________\n",
      "embedding_1 (Embedding)         (None, 1000, 100)    34893500    wordindex[0][0]                  \n",
      "__________________________________________________________________________________________________\n",
      "dropout_embedded (Dropout)      (None, 1000, 100)    0           embedding_1[0][0]                \n",
      "__________________________________________________________________________________________________\n",
      "conv0 (Conv1D)                  (None, 996, 128)     64128       dropout_embedded[0][0]           \n",
      "__________________________________________________________________________________________________\n",
      "max_pool0 (MaxPooling1D)        (None, 199, 128)     0           conv0[0][0]                      \n",
      "__________________________________________________________________________________________________\n",
      "dropout0 (Dropout)              (None, 199, 128)     0           max_pool0[0][0]                  \n",
      "__________________________________________________________________________________________________\n",
      "conv1 (Conv1D)                  (None, 195, 128)     82048       dropout0[0][0]                   \n",
      "__________________________________________________________________________________________________\n",
      "max_pool1 (MaxPooling1D)        (None, 39, 128)      0           conv1[0][0]                      \n",
      "__________________________________________________________________________________________________\n",
      "meta (InputLayer)               (None, 529)          0                                            \n",
      "__________________________________________________________________________________________________\n",
      "titles (InputLayer)             (None, 10000)        0                                            \n",
      "__________________________________________________________________________________________________\n",
      "descs (InputLayer)              (None, 10000)        0                                            \n",
      "__________________________________________________________________________________________________\n",
      "conv2 (Conv1D)                  (None, 35, 128)      82048       max_pool1[0][0]                  \n",
      "__________________________________________________________________________________________________\n",
      "hidden_meta (Dense)             (None, 128)          67840       meta[0][0]                       \n",
      "__________________________________________________________________________________________________\n",
      "hidden_title (Dense)            (None, 128)          1280128     titles[0][0]                     \n",
      "__________________________________________________________________________________________________\n",
      "hidden_desc (Dense)             (None, 128)          1280128     descs[0][0]                      \n",
      "__________________________________________________________________________________________________\n",
      "global_max_pool (MaxPooling1D)  (None, 1, 128)       0           conv2[0][0]                      \n",
      "__________________________________________________________________________________________________\n",
      "dropout_meta (Dropout)          (None, 128)          0           hidden_meta[0][0]                \n",
      "__________________________________________________________________________________________________\n",
      "dropout_title (Dropout)         (None, 128)          0           hidden_title[0][0]               \n",
      "__________________________________________________________________________________________________\n",
      "dropout_desc (Dropout)          (None, 128)          0           hidden_desc[0][0]                \n",
      "__________________________________________________________________________________________________\n",
      "flatten_1 (Flatten)             (None, 128)          0           global_max_pool[0][0]            \n",
      "__________________________________________________________________________________________________\n",
      "concatenate_1 (Concatenate)     (None, 512)          0           dropout_meta[0][0]               \n",
      "                                                                 dropout_title[0][0]              \n",
      "                                                                 dropout_desc[0][0]               \n",
      "                                                                 flatten_1[0][0]                  \n",
      "__________________________________________________________________________________________________\n",
      "fully_connected0 (Dense)        (None, 400)          205200      concatenate_1[0][0]              \n",
      "__________________________________________________________________________________________________\n",
      "dropout1 (Dropout)              (None, 400)          0           fully_connected0[0][0]           \n",
      "__________________________________________________________________________________________________\n",
      "fully_connected1 (Dense)        (None, 216)          86616       dropout1[0][0]                   \n",
      "==================================================================================================\n",
      "Total params: 38,042,037\n",
      "Trainable params: 38,042,037\n",
      "Non-trainable params: 0\n",
      "__________________________________________________________________________________________________\n"
     ]
    }
   ],
   "source": [
    "model.summary()"
   ]
  },
  {
   "cell_type": "markdown",
   "metadata": {},
   "source": [
    "### Tensorboard callbacks /metrics /monitor training"
   ]
  },
  {
   "cell_type": "markdown",
   "metadata": {},
   "source": [
    "<span style=\"color:red\"> **Size of these files is killing storage during training. Is it histograms?**</span>"
   ]
  },
  {
   "cell_type": "code",
   "execution_count": 20,
   "metadata": {
    "scrolled": true
   },
   "outputs": [],
   "source": [
    "tb = TensorBoard(log_dir='./learn_embedding_logs', histogram_freq=1, write_graph=True, write_images=False)"
   ]
  },
  {
   "cell_type": "code",
   "execution_count": 21,
   "metadata": {
    "scrolled": true
   },
   "outputs": [],
   "source": [
    "CHECKPOINT_PATH = os.path.join(DATADIR, 'model_checkpoint.hdf5')\n",
    "\n",
    "cp = ModelCheckpoint(\n",
    "                     filepath = CHECKPOINT_PATH, \n",
    "                     monitor='val_loss', \n",
    "                     verbose=0, \n",
    "                     save_best_only=False, \n",
    "                     save_weights_only=False, \n",
    "                     mode='auto', \n",
    "                     period=1\n",
    "                    )"
   ]
  },
  {
   "cell_type": "code",
   "execution_count": 22,
   "metadata": {
    "scrolled": true
   },
   "outputs": [],
   "source": [
    "from keras.callbacks import EarlyStopping\n",
    "early_stopping = EarlyStopping(monitor='val_loss', patience=2)\n",
    "#model.fit(x, y, validation_split=0.2, callbacks=[early_stopping])"
   ]
  },
  {
   "cell_type": "markdown",
   "metadata": {},
   "source": [
    "### 2 & 3. Train & compile model"
   ]
  },
  {
   "cell_type": "code",
   "execution_count": 23,
   "metadata": {
    "scrolled": true
   },
   "outputs": [
    {
     "name": "stdout",
     "output_type": "stream",
     "text": [
      "Train on 178688 samples, validate on 12961 samples\n",
      "Epoch 1/10\n",
      "178688/178688 [==============================] - 188s 1ms/step - loss: 0.0086 - binary_accuracy: 0.9951 - f1: nan - val_loss: 0.0040 - val_binary_accuracy: 0.9973 - val_f1: 0.7767\n",
      "Epoch 2/10\n",
      "178688/178688 [==============================] - 183s 1ms/step - loss: 0.0030 - binary_accuracy: 0.9980 - f1: 0.8666 - val_loss: 0.0036 - val_binary_accuracy: 0.9976 - val_f1: 0.8072\n",
      "Epoch 3/10\n",
      "178688/178688 [==============================] - 183s 1ms/step - loss: 0.0023 - binary_accuracy: 0.9985 - f1: 0.9005 - val_loss: 0.0034 - val_binary_accuracy: 0.9977 - val_f1: 0.8158\n",
      "Epoch 4/10\n",
      "178688/178688 [==============================] - 183s 1ms/step - loss: 0.0019 - binary_accuracy: 0.9987 - f1: 0.9173 - val_loss: 0.0033 - val_binary_accuracy: 0.9978 - val_f1: 0.8271\n",
      "Epoch 5/10\n",
      "178688/178688 [==============================] - 183s 1ms/step - loss: 0.0017 - binary_accuracy: 0.9989 - f1: 0.9267 - val_loss: 0.0034 - val_binary_accuracy: 0.9978 - val_f1: 0.8284\n",
      "Epoch 6/10\n",
      "178688/178688 [==============================] - 183s 1ms/step - loss: 0.0016 - binary_accuracy: 0.9990 - f1: 0.9326 - val_loss: 0.0037 - val_binary_accuracy: 0.9979 - val_f1: 0.8296\n"
     ]
    }
   ],
   "source": [
    "model.compile(loss=WeightedBinaryCrossEntropy(POS_RATIO),\n",
    "              optimizer='rmsprop',\n",
    "              metrics=['binary_accuracy', f1])\n",
    "\n",
    "# This `fit` call will be distributed on 8 GPUs.\n",
    "# Since the batch size is 256, each GPU will process 32 samples.\n",
    "history = model.fit(\n",
    "    {'meta': meta_train, 'titles': title_train, 'descs': desc_train, 'wordindex': x_train},\n",
    "    y_train, \n",
    "    validation_data=([meta_dev, title_dev, desc_dev, x_dev], y_dev), \n",
    "    epochs=10, batch_size=128, callbacks=[early_stopping]\n",
    ")\n",
    "\n"
   ]
  },
  {
   "cell_type": "code",
   "execution_count": 24,
   "metadata": {
    "scrolled": true
   },
   "outputs": [
    {
     "data": {
      "text/plain": [
       "dict_keys(['val_loss', 'val_binary_accuracy', 'val_f1', 'loss', 'binary_accuracy', 'f1'])"
      ]
     },
     "execution_count": 24,
     "metadata": {},
     "output_type": "execute_result"
    }
   ],
   "source": [
    "history_dict = history.history\n",
    "history_dict.keys()"
   ]
  },
  {
   "cell_type": "code",
   "execution_count": null,
   "metadata": {},
   "outputs": [],
   "source": []
  },
  {
   "cell_type": "code",
   "execution_count": 25,
   "metadata": {
    "scrolled": true
   },
   "outputs": [
    {
     "data": {
      "image/png": "[encoded data removed]",
      "text/plain": [
       "<matplotlib.figure.Figure at 0x7fca0df462e8>"
      ]
     },
     "metadata": {},
     "output_type": "display_data"
    }
   ],
   "source": [
    "loss_values = history_dict['loss']\n",
    "val_loss_values = history_dict['val_loss']\n",
    "\n",
    "\n",
    "\n",
    "plt.plot(range(len(loss_values)), loss_values, 'bo', label='Training loss')           \n",
    "plt.plot(range(len(val_loss_values)), val_loss_values, 'b', label='Validation loss')      \n",
    "plt.title('Training and validation loss')\n",
    "plt.xlabel('Epochs')\n",
    "plt.ylabel('Loss')\n",
    "plt.legend()\n",
    "\n",
    "plt.show()"
   ]
  },
  {
   "cell_type": "code",
   "execution_count": 26,
   "metadata": {
    "scrolled": true
   },
   "outputs": [
    {
     "data": {
      "image/png": "[encoded data removed]",
      "text/plain": [
       "<matplotlib.figure.Figure at 0x7fd297670dd8>"
      ]
     },
     "metadata": {},
     "output_type": "display_data"
    }
   ],
   "source": [
    "plt.clf()    \n",
    "\n",
    "f1_values = history_dict['f1']\n",
    "val_f1_values = history_dict['val_f1']\n",
    "\n",
    "plt.plot(range(len(f1_values)), f1_values, 'bo', label='Training f1')\n",
    "plt.plot(range(len(val_f1_values)), val_f1_values, 'b', label='Validation f1')\n",
    "plt.title('Training and validation batch-level f1-micro')\n",
    "plt.xlabel('Epochs')\n",
    "plt.ylabel('F1-micro')\n",
    "plt.legend()\n",
    "\n",
    "plt.show()"
   ]
  },
  {
   "cell_type": "markdown",
   "metadata": {},
   "source": [
    "### Save results arrays"
   ]
  },
  {
   "cell_type": "code",
   "execution_count": 27,
   "metadata": {},
   "outputs": [],
   "source": [
    "def to_file(array,name):\n",
    "    df = pd.DataFrame(data = array.tolist(),columns=[i for i in range(1,y_train.shape[1]+1)])\n",
    "    df.to_csv(os.path.join(DATADIR, name+'.csv.gz'),compression='gzip',index=False)"
   ]
  },
  {
   "cell_type": "code",
   "execution_count": 28,
   "metadata": {},
   "outputs": [
    {
     "data": {
      "text/plain": [
       "'_1226_2203_'"
      ]
     },
     "execution_count": 28,
     "metadata": {},
     "output_type": "execute_result"
    }
   ],
   "source": [
    "date_run = time.strftime(\"_%H%M_%d%m_\")\n",
    "date_run"
   ]
  },
  {
   "cell_type": "code",
   "execution_count": 29,
   "metadata": {},
   "outputs": [],
   "source": [
    "y_prob = model.predict([meta_train, title_train, desc_train, x_train])"
   ]
  },
  {
   "cell_type": "code",
   "execution_count": 30,
   "metadata": {},
   "outputs": [],
   "source": [
    "to_file(y_prob,\"train_results\")"
   ]
  },
  {
   "cell_type": "code",
   "execution_count": 31,
   "metadata": {},
   "outputs": [],
   "source": [
    "y_pred = y_prob.copy()\n",
    "y_pred[y_pred>=P_THRESHOLD] = 1\n",
    "y_pred[y_pred<P_THRESHOLD] = 0"
   ]
  },
  {
   "cell_type": "code",
   "execution_count": 32,
   "metadata": {
    "scrolled": true
   },
   "outputs": [
    {
     "name": "stdout",
     "output_type": "stream",
     "text": [
      "micro: (0.96347198054810057, 0.95291433312590745, 0.95816407503906587, None)\n",
      "macro: (0.97666338542739761, 0.97172978587476855, 0.97391915634452175, None)\n",
      "weightedmacro: (0.96371897115557026, 0.95291433312590745, 0.95794135222692289, None)\n"
     ]
    }
   ],
   "source": [
    "print('micro: {}'.format(precision_recall_fscore_support(y_train, y_pred, average='micro', sample_weight=None)))\n",
    "print('macro: {}'.format(precision_recall_fscore_support(y_train, y_pred, average='macro', sample_weight=None)))\n",
    "print('weightedmacro: {}'.format(precision_recall_fscore_support(y_train, y_pred, average='weighted', sample_weight=None)))"
   ]
  },
  {
   "cell_type": "code",
   "execution_count": 33,
   "metadata": {},
   "outputs": [],
   "source": [
    "y_prob_dev = model.predict([meta_dev, title_dev, desc_dev, x_dev])"
   ]
  },
  {
   "cell_type": "code",
   "execution_count": 34,
   "metadata": {},
   "outputs": [],
   "source": [
    "to_file(y_prob_dev,\"dev_results\")"
   ]
  },
  {
   "cell_type": "code",
   "execution_count": 35,
   "metadata": {},
   "outputs": [],
   "source": [
    "y_pred_dev = y_prob_dev.copy()\n",
    "y_pred_dev[y_pred_dev>=P_THRESHOLD] = 1\n",
    "y_pred_dev[y_pred_dev<P_THRESHOLD] = 0"
   ]
  },
  {
   "cell_type": "code",
   "execution_count": 36,
   "metadata": {},
   "outputs": [
    {
     "name": "stdout",
     "output_type": "stream",
     "text": [
      "micro: (0.84424717546691264, 0.81516112873601598, 0.82944924253150221, None)\n",
      "macro: (0.76120767687062862, 0.81163101605414345, 0.77781893358457876, None)\n",
      "weightedmacro: (0.8481166647481343, 0.81516112873601598, 0.82882896784708981, None)\n"
     ]
    },
    {
     "name": "stderr",
     "output_type": "stream",
     "text": [
      "/home/ubuntu/anaconda3/envs/tensorflow_p36/lib/python3.6/site-packages/sklearn/metrics/classification.py:1135: UndefinedMetricWarning: Precision and F-score are ill-defined and being set to 0.0 in labels with no predicted samples.\n",
      "  'precision', 'predicted', average, warn_for)\n",
      "/home/ubuntu/anaconda3/envs/tensorflow_p36/lib/python3.6/site-packages/sklearn/metrics/classification.py:1137: UndefinedMetricWarning: Recall and F-score are ill-defined and being set to 0.0 in labels with no true samples.\n",
      "  'recall', 'true', average, warn_for)\n"
     ]
    }
   ],
   "source": [
    "print('micro: {}'.format(precision_recall_fscore_support(y_dev, y_pred_dev, average='micro', sample_weight=None)))\n",
    "print('macro: {}'.format(precision_recall_fscore_support(y_dev, y_pred_dev, average='macro', sample_weight=None)))\n",
    "print('weightedmacro: {}'.format(precision_recall_fscore_support(y_dev, y_pred_dev, average='weighted', sample_weight=None)))"
   ]
  },
  {
   "cell_type": "code",
   "execution_count": 37,
   "metadata": {},
   "outputs": [
    {
     "name": "stdout",
     "output_type": "stream",
     "text": [
      "weightedmacro: (array([ 1.        ,  1.        ,  0.98876404,  0.72222222,  1.        ,\n",
      "        0.61666667,  0.6       ,  0.83443709,  0.        ,  0.94444444,\n",
      "        1.        ,  0.99410377,  1.        ,  0.75      ,  0.66666667,\n",
      "        0.        ,  0.75675676,  1.        ,  1.        ,  0.82269504,\n",
      "        0.88140417,  0.71100917,  0.82758621,  0.        ,  0.85714286,\n",
      "        1.        ,  0.875     ,  1.        ,  1.        ,  1.        ,\n",
      "        0.77777778,  0.76923077,  1.        ,  0.        ,  0.54054054,\n",
      "        0.81957774,  0.5       ,  0.86206897,  0.76347305,  0.84210526,\n",
      "        0.81666667,  1.        ,  0.63829787,  0.83428571,  1.        ,\n",
      "        1.        ,  0.6969697 ,  1.        ,  0.        ,  0.76923077,\n",
      "        0.848     ,  1.        ,  1.        ,  0.55555556,  1.        ,\n",
      "        1.        ,  1.        ,  0.        ,  0.93624161,  0.45454545,\n",
      "        0.77777778,  0.90909091,  0.42857143,  0.66666667,  0.82857143,\n",
      "        1.        ,  0.78021978,  0.65116279,  0.        ,  1.        ,\n",
      "        0.51851852,  0.        ,  1.        ,  0.75      ,  0.81355932,\n",
      "        0.86486486,  0.88372093,  0.83333333,  0.        ,  0.86080586,\n",
      "        0.        ,  0.8125    ,  0.75      ,  0.89256198,  0.86101296,\n",
      "        0.5       ,  1.        ,  0.67515924,  1.        ,  1.        ,\n",
      "        0.85714286,  0.7037037 ,  0.        ,  0.86686391,  0.75572519,\n",
      "        0.85      ,  1.        ,  1.        ,  0.91176471,  0.86111111,\n",
      "        0.65853659,  0.74390244,  0.96      ,  0.63888889,  1.        ,\n",
      "        0.76923077,  1.        ,  0.81632653,  0.5       ,  0.71428571,\n",
      "        0.76923077,  0.        ,  0.83333333,  0.88888889,  1.        ,\n",
      "        0.        ,  1.        ,  1.        ,  0.88888889,  0.8411215 ,\n",
      "        0.78431373,  0.76470588,  0.55882353,  0.72727273,  0.93846154,\n",
      "        0.97630332,  1.        ,  0.78378378,  0.5       ,  0.86792453,\n",
      "        0.        ,  1.        ,  1.        ,  1.        ,  1.        ,\n",
      "        0.83606557,  0.7826087 ,  0.81747573,  0.83168317,  0.        ,\n",
      "        0.875     ,  1.        ,  1.        ,  1.        ,  0.83050847,\n",
      "        0.94117647,  0.79464286,  0.90740741,  0.69230769,  1.        ,\n",
      "        1.        ,  0.66666667,  0.93783304,  0.        ,  1.        ,\n",
      "        0.        ,  0.7       ,  0.95686275,  0.66666667,  1.        ,\n",
      "        1.        ,  0.78571429,  0.93133047,  0.84705882,  0.79865772,\n",
      "        0.79245283,  0.70588235,  0.85      ,  0.90789474,  0.84615385,\n",
      "        0.82142857,  1.        ,  0.        ,  0.63636364,  0.        ,\n",
      "        0.79508197,  0.95      ,  0.82758621,  0.75      ,  1.        ,\n",
      "        0.        ,  1.        ,  1.        ,  0.88      ,  0.71428571,\n",
      "        0.73333333,  0.90740741,  0.85714286,  0.6       ,  0.78694158,\n",
      "        1.        ,  0.82568807,  0.88888889,  0.6       ,  1.        ,\n",
      "        1.        ,  0.62436548,  0.625     ,  0.65454545,  0.33333333,\n",
      "        1.        ,  0.9       ,  0.95890411,  1.        ,  0.        ,\n",
      "        0.93181818,  0.84848485,  0.63636364,  0.80769231,  0.85074627,\n",
      "        0.77777778,  1.        ,  1.        ,  0.        ,  1.        ,\n",
      "        1.        ,  0.89473684]), array([ 1.        ,  1.        ,  0.82242991,  0.92857143,  1.        ,\n",
      "        0.60655738,  1.        ,  0.62376238,  0.        ,  0.94444444,\n",
      "        1.        ,  0.99176471,  1.        ,  1.        ,  0.75      ,\n",
      "        0.        ,  1.        ,  1.        ,  1.        ,  0.82857143,\n",
      "        0.77223608,  0.68584071,  0.91803279,  0.        ,  1.        ,\n",
      "        1.        ,  1.        ,  1.        ,  1.        ,  1.        ,\n",
      "        1.        ,  1.        ,  1.        ,  0.        ,  0.74074074,\n",
      "        0.81957774,  1.        ,  0.89285714,  0.68733154,  1.        ,\n",
      "        0.51041667,  1.        ,  0.50847458,  0.8742515 ,  1.        ,\n",
      "        0.99806202,  0.82142857,  1.        ,  0.        ,  0.76923077,\n",
      "        0.75177305,  1.        ,  1.        ,  1.        ,  1.        ,\n",
      "        1.        ,  1.        ,  0.        ,  0.871875  ,  1.        ,\n",
      "        0.65497076,  1.        ,  1.        ,  1.        ,  0.725     ,\n",
      "        1.        ,  0.61471861,  0.73043478,  0.        ,  0.92045455,\n",
      "        1.        ,  0.        ,  1.        ,  1.        ,  0.67605634,\n",
      "        1.        ,  0.88372093,  0.77966102,  0.        ,  0.87360595,\n",
      "        0.        ,  0.86666667,  1.        ,  0.76056338,  0.83352338,\n",
      "        1.        ,  1.        ,  0.57297297,  1.        ,  1.        ,\n",
      "        1.        ,  0.95      ,  0.        ,  0.83954155,  0.81147541,\n",
      "        0.79069767,  1.        ,  1.        ,  0.93939394,  0.96875   ,\n",
      "        0.79411765,  0.70930233,  0.82978723,  0.79310345,  1.        ,\n",
      "        0.90909091,  1.        ,  0.95238095,  1.        ,  1.        ,\n",
      "        1.        ,  0.        ,  1.        ,  1.        ,  1.        ,\n",
      "        0.        ,  1.        ,  1.        ,  1.        ,  0.74074074,\n",
      "        0.93023256,  0.61904762,  0.82608696,  1.        ,  0.87142857,\n",
      "        0.92792793,  1.        ,  0.71311475,  1.        ,  0.91089109,\n",
      "        0.        ,  1.        ,  1.        ,  1.        ,  1.        ,\n",
      "        0.75      ,  1.        ,  0.842     ,  0.84848485,  0.        ,\n",
      "        0.875     ,  1.        ,  1.        ,  1.        ,  0.765625  ,\n",
      "        0.94117647,  0.73553719,  0.81666667,  1.        ,  1.        ,\n",
      "        1.        ,  1.        ,  0.8488746 ,  0.        ,  1.        ,\n",
      "        0.        ,  0.80769231,  0.94573643,  0.48571429,  1.        ,\n",
      "        1.        ,  1.        ,  0.87854251,  0.75      ,  0.71686747,\n",
      "        0.89361702,  1.        ,  0.64150943,  0.86792453,  0.752443  ,\n",
      "        0.85185185,  1.        ,  0.        ,  1.        ,  0.        ,\n",
      "        0.58787879,  0.95      ,  0.70588235,  1.        ,  1.        ,\n",
      "        0.        ,  1.        ,  1.        ,  0.91666667,  1.        ,\n",
      "        1.        ,  0.80991736,  1.        ,  0.9       ,  0.78156997,\n",
      "        1.        ,  0.69230769,  1.        ,  1.        ,  1.        ,\n",
      "        1.        ,  0.67805954,  1.        ,  0.8372093 ,  1.        ,\n",
      "        1.        ,  0.85714286,  0.88607595,  1.        ,  0.        ,\n",
      "        0.93714286,  0.75675676,  0.60869565,  1.        ,  0.86363636,\n",
      "        0.71794872,  1.        ,  0.84615385,  0.        ,  1.        ,\n",
      "        1.        ,  0.93793103]), array([ 1.        ,  1.        ,  0.89795918,  0.8125    ,  1.        ,\n",
      "        0.61157025,  0.75      ,  0.71388102,  0.        ,  0.94444444,\n",
      "        1.        ,  0.99293286,  1.        ,  0.85714286,  0.70588235,\n",
      "        0.        ,  0.86153846,  1.        ,  1.        ,  0.82562278,\n",
      "        0.82321666,  0.6981982 ,  0.87046632,  0.        ,  0.92307692,\n",
      "        1.        ,  0.93333333,  1.        ,  1.        ,  1.        ,\n",
      "        0.875     ,  0.86956522,  1.        ,  0.        ,  0.625     ,\n",
      "        0.81957774,  0.66666667,  0.87719298,  0.72340426,  0.91428571,\n",
      "        0.62820513,  1.        ,  0.56603774,  0.85380117,  1.        ,\n",
      "        0.99903007,  0.75409836,  1.        ,  0.        ,  0.76923077,\n",
      "        0.79699248,  1.        ,  1.        ,  0.71428571,  1.        ,\n",
      "        1.        ,  1.        ,  0.        ,  0.90291262,  0.625     ,\n",
      "        0.71111111,  0.95238095,  0.6       ,  0.8       ,  0.77333333,\n",
      "        1.        ,  0.68765133,  0.68852459,  0.        ,  0.95857988,\n",
      "        0.68292683,  0.        ,  1.        ,  0.85714286,  0.73846154,\n",
      "        0.92753623,  0.88372093,  0.8056042 ,  0.        ,  0.86715867,\n",
      "        0.        ,  0.83870968,  0.85714286,  0.82129278,  0.84704519,\n",
      "        0.66666667,  1.        ,  0.61988304,  1.        ,  1.        ,\n",
      "        0.92307692,  0.80851064,  0.        ,  0.85298399,  0.7826087 ,\n",
      "        0.81927711,  1.        ,  1.        ,  0.92537313,  0.91176471,\n",
      "        0.72      ,  0.72619048,  0.89015692,  0.70769231,  1.        ,\n",
      "        0.83333333,  1.        ,  0.87912088,  0.66666667,  0.83333333,\n",
      "        0.86956522,  0.        ,  0.90909091,  0.94117647,  1.        ,\n",
      "        0.        ,  1.        ,  1.        ,  0.94117647,  0.78774617,\n",
      "        0.85106383,  0.68421053,  0.66666667,  0.84210526,  0.9037037 ,\n",
      "        0.95150115,  1.        ,  0.74678112,  0.66666667,  0.88888889,\n",
      "        0.        ,  1.        ,  1.        ,  1.        ,  1.        ,\n",
      "        0.79069767,  0.87804878,  0.82955665,  0.84      ,  0.        ,\n",
      "        0.875     ,  1.        ,  1.        ,  1.        ,  0.79674797,\n",
      "        0.94117647,  0.7639485 ,  0.85964912,  0.81818182,  1.        ,\n",
      "        1.        ,  0.8       ,  0.89113924,  0.        ,  1.        ,\n",
      "        0.        ,  0.75      ,  0.95126706,  0.56198347,  1.        ,\n",
      "        1.        ,  0.88      ,  0.90416667,  0.79558011,  0.75555556,\n",
      "        0.84      ,  0.82758621,  0.7311828 ,  0.88745981,  0.79655172,\n",
      "        0.83636364,  1.        ,  0.        ,  0.77777778,  0.        ,\n",
      "        0.67595819,  0.95      ,  0.76190476,  0.85714286,  1.        ,\n",
      "        0.        ,  1.        ,  1.        ,  0.89795918,  0.83333333,\n",
      "        0.84615385,  0.8558952 ,  0.92307692,  0.72      ,  0.78424658,\n",
      "        1.        ,  0.75313808,  0.94117647,  0.75      ,  1.        ,\n",
      "        1.        ,  0.65010571,  0.76923077,  0.73469388,  0.5       ,\n",
      "        1.        ,  0.87804878,  0.92105263,  1.        ,  0.        ,\n",
      "        0.93447293,  0.8       ,  0.62222222,  0.89361702,  0.85714286,\n",
      "        0.74666667,  1.        ,  0.91666667,  0.        ,  1.        ,\n",
      "        1.        ,  0.91582492]), array([   2,    6,  107,   14,   72,   61,   12,  202,    0,   36,    1,\n",
      "        850,    4,    3,   48,    0,   28,    1,    1,  140, 1203,  226,\n",
      "        183,    0,    6,    3,    7,    4,    5,   10,    7,   20,    5,\n",
      "          0,   27,  521,    3,   28,  371,   16,   96,    1,   59,  167,\n",
      "          6, 1032,   28,   12,    0,   26,  141,    2,    4,    5,    1,\n",
      "          4,    1,    0,  320,    5,  171,   10,    3,    6,   40,    1,\n",
      "        231,  115,    0,   88,   14,    0,    4,    3,   71,   32,   86,\n",
      "        295,    0,  269,    0,   30,   12,  142,  877,    2,    1,  185,\n",
      "          2,    4,    6,   20,    0,  349,  366,   86,    7,   17,   33,\n",
      "         32,   34,   86,  376,   29,    1,   11,    8,   42,    2,    5,\n",
      "         10,    0,   10,    8,    4,    0,    2,    1,    8,  243,   43,\n",
      "         42,   23,   16,   70,  222,    2,  122,    2,  101,    0,    2,\n",
      "          3,    1,    3,  476,   18,  500,   99,    0,    8,    2,    2,\n",
      "          4,   64,   17,  121,   60,    9,    4,    1,    2,  622,    0,\n",
      "          1,    0,   26,  258,   70,   19,    3,   11,  247,   96,  166,\n",
      "         47,   12,   53,  159,  307,   81,    3,    0,    7,    0,  165,\n",
      "         20,  136,    3,    6,    0,    4,    5,   24,    5,   22,  121,\n",
      "          6,   20,  586,   11,  130,    8,   12,    1,    2,  907,    5,\n",
      "         43,    1,    5,   21,   79,    3,    0,  175,  148,   23,   21,\n",
      "         66,  156,    1,   13,    0,    6,    2,  145]))\n"
     ]
    },
    {
     "name": "stderr",
     "output_type": "stream",
     "text": [
      "/home/ubuntu/anaconda3/envs/tensorflow_p36/lib/python3.6/site-packages/sklearn/metrics/classification.py:1135: UndefinedMetricWarning: Precision and F-score are ill-defined and being set to 0.0 in labels with no predicted samples.\n",
      "  'precision', 'predicted', average, warn_for)\n",
      "/home/ubuntu/anaconda3/envs/tensorflow_p36/lib/python3.6/site-packages/sklearn/metrics/classification.py:1137: UndefinedMetricWarning: Recall and F-score are ill-defined and being set to 0.0 in labels with no true samples.\n",
      "  'recall', 'true', average, warn_for)\n"
     ]
    }
   ],
   "source": [
    "print('weightedmacro: {}'.format(precision_recall_fscore_support(y_dev, y_pred_dev, average=None, sample_weight=None)))"
   ]
  },
  {
   "cell_type": "code",
   "execution_count": 38,
   "metadata": {},
   "outputs": [],
   "source": [
    "to_file(y_train,\"true_train\")"
   ]
  },
  {
   "cell_type": "code",
   "execution_count": 39,
   "metadata": {},
   "outputs": [],
   "source": [
    "to_file(y_dev,\"true_dev\")"
   ]
  },
  {
   "cell_type": "markdown",
   "metadata": {},
   "source": [
    "### predictions"
   ]
  },
  {
   "cell_type": "code",
   "execution_count": 40,
   "metadata": {},
   "outputs": [],
   "source": [
    "def get_predictions(data_to_tag): \n",
    "    filename = data_to_tag+\"_arrays.npz\"\n",
    "    arrays = np.load(os.path.join(DATADIR,filename))\n",
    "    \n",
    "    print('Set up arrays for new_content: {}'.format(arrays.files))\n",
    "    x_predict = arrays['x']\n",
    "    meta_predict = arrays['meta'].all().todense()\n",
    "    title_predict = arrays['title'].all().todense()\n",
    "    desc_predict = arrays['desc'].all().todense()\n",
    "    \n",
    "    print('x_arrays.shape = {}'.format(x_predict.shape))\n",
    "    print('meta_arrays.shape = {}'.format(meta_predict.shape))\n",
    "    print('title_arrays.shape = {}'.format(title_predict.shape))\n",
    "    print('desc_arrays.shape = {}'.format(desc_predict.shape))\n",
    "    \n",
    "    print('Predict on untagged content')\n",
    "    y_pred_new = model.predict([meta_predict, title_predict, desc_predict, x_predict])\n",
    "    \n",
    "    to_file(y_pred_new, data_to_tag+\"_predictions\")"
   ]
  },
  {
   "cell_type": "code",
   "execution_count": 43,
   "metadata": {},
   "outputs": [
    {
     "name": "stdout",
     "output_type": "stream",
     "text": [
      "Set up arrays for new_content: ['x', 'meta', 'title', 'desc', 'content_id']\n",
      "x_arrays.shape = (56568, 1000)\n",
      "meta_arrays.shape = (56568, 529)\n",
      "title_arrays.shape = (56568, 10000)\n",
      "desc_arrays.shape = (56568, 10000)\n",
      "Predict on untagged content\n"
     ]
    }
   ],
   "source": [
    "get_predictions(\"new\")"
   ]
  },
  {
   "cell_type": "code",
   "execution_count": 44,
   "metadata": {},
   "outputs": [
    {
     "name": "stdout",
     "output_type": "stream",
     "text": [
      "new_predictions_1226_2203_\n"
     ]
    }
   ],
   "source": [
    "print(\"new_predictions\"+date_run)"
   ]
  },
  {
   "cell_type": "code",
   "execution_count": 45,
   "metadata": {},
   "outputs": [
    {
     "name": "stdout",
     "output_type": "stream",
     "text": [
      "Set up arrays for new_content: ['x', 'meta', 'title', 'desc', 'content_id']\n",
      "x_arrays.shape = (17937, 1000)\n",
      "meta_arrays.shape = (17937, 529)\n",
      "title_arrays.shape = (17937, 10000)\n",
      "desc_arrays.shape = (17937, 10000)\n",
      "Predict on untagged content\n"
     ]
    }
   ],
   "source": [
    "get_predictions(\"level1\")"
   ]
  },
  {
   "cell_type": "code",
   "execution_count": 46,
   "metadata": {},
   "outputs": [
    {
     "name": "stdout",
     "output_type": "stream",
     "text": [
      "level1_predictions_1226_2203_\n"
     ]
    }
   ],
   "source": [
    "print(\"level1_predictions\"+date_run)"
   ]
  },
  {
   "cell_type": "code",
   "execution_count": null,
   "metadata": {},
   "outputs": [],
   "source": []
  },
  {
   "cell_type": "code",
   "execution_count": null,
   "metadata": {},
   "outputs": [],
   "source": []
  },
  {
   "cell_type": "code",
   "execution_count": null,
   "metadata": {},
   "outputs": [],
   "source": []
  }
 ],
 "metadata": {
  "keep_output": true,
  "kernelspec": {
   "display_name": "Environment (conda_tensorflow_p36)",
   "language": "python",
   "name": "conda_tensorflow_p36"
  },
  "language_info": {
   "codemirror_mode": {
    "name": "ipython",
    "version": 3
   },
   "file_extension": ".py",
   "mimetype": "text/x-python",
   "name": "python",
   "nbconvert_exporter": "python",
   "pygments_lexer": "ipython3",
   "version": "3.6.3"
  }
 },
 "nbformat": 4,
 "nbformat_minor": 2
}
