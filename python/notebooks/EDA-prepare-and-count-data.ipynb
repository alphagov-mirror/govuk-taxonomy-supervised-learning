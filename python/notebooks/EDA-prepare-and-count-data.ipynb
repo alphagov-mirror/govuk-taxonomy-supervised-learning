{
 "cells": [
  {
   "cell_type": "code",
   "execution_count": 1,
   "metadata": {},
   "outputs": [],
   "source": [
    "import numpy as np\n",
    "import pandas as pd\n",
    "import seaborn as sns\n",
    "import matplotlib.pyplot as plt\n",
    "import functools\n",
    "%matplotlib inline"
   ]
  },
  {
   "cell_type": "markdown",
   "metadata": {},
   "source": [
    "# Untagged data"
   ]
  },
  {
   "cell_type": "markdown",
   "metadata": {},
   "source": [
    "These data were written out from the clean_content.py script where the taxons column was empty. \n",
    "- Here we assume the taxon column was empty because the content item has not been tagged."
   ]
  },
  {
   "cell_type": "code",
   "execution_count": 2,
   "metadata": {},
   "outputs": [],
   "source": [
    "#read in untagged content to describe content with no taxons\n",
    "untagged = pd.read_csv('../../data/untagged_content.csv')"
   ]
  },
  {
   "cell_type": "code",
   "execution_count": 3,
   "metadata": {},
   "outputs": [
    {
     "name": "stdout",
     "output_type": "stream",
     "text": [
      "There are 57337 rows in the untagged content data\n",
      "There are 57123 unique content items in the untagged content data\n"
     ]
    }
   ],
   "source": [
    "print(\"There are {} rows in the untagged content data\".\n",
    "      format(untagged.shape[0]))\n",
    "print(\"There are {} unique content items in the untagged content data\".\n",
    "      format(untagged.content_id.nunique()))"
   ]
  },
  {
   "cell_type": "code",
   "execution_count": 4,
   "metadata": {},
   "outputs": [
    {
     "data": {
      "text/plain": [
       "Index(['Unnamed: 0', 'base_path', 'content_id', 'description', 'details',\n",
       "       'document_type', 'first_published_at', 'locale',\n",
       "       'primary_publishing_organisation', 'publishing_app', 'taxons', 'title',\n",
       "       'body'],\n",
       "      dtype='object')"
      ]
     },
     "execution_count": 4,
     "metadata": {},
     "output_type": "execute_result"
    }
   ],
   "source": [
    "untagged.columns"
   ]
  },
  {
   "cell_type": "code",
   "execution_count": 5,
   "metadata": {},
   "outputs": [
    {
     "name": "stdout",
     "output_type": "stream",
     "text": [
      "<class 'str'>\n",
      "<class 'pandas._libs.tslib.Timestamp'>\n"
     ]
    }
   ],
   "source": [
    "#convert string dates to timestamp for time series analyses (see below)\n",
    "print(type(untagged['first_published_at'][0]))\n",
    "untagged['first_published_at'] = pd.to_datetime(untagged['first_published_at'])\n",
    "print(type(untagged['first_published_at'][0]))"
   ]
  },
  {
   "cell_type": "code",
   "execution_count": 6,
   "metadata": {},
   "outputs": [],
   "source": [
    "#use timestamp as index in untagged data for plots\n",
    "untagged.index = untagged['first_published_at'] "
   ]
  },
  {
   "cell_type": "markdown",
   "metadata": {},
   "source": [
    "# Taxon data"
   ]
  },
  {
   "cell_type": "markdown",
   "metadata": {},
   "source": [
    "Taxons data is a row for each taxon with columns for the taxon_id/taxon title at each level. So, for example, if an item has only been tagged to level1 then level2 and subsequent levels will be missing. If an item was tagged to level3, the level2 and level1 columns have been filled recursively. \n",
    "\n",
    "A taxon in taxons is identified through content_id"
   ]
  },
  {
   "cell_type": "code",
   "execution_count": 7,
   "metadata": {},
   "outputs": [],
   "source": [
    "#read in taxon file which was cleaned from raw using clean_taxons.py\n",
    "taxons = pd.read_csv('../../data/clean_taxons.csv')"
   ]
  },
  {
   "cell_type": "code",
   "execution_count": 8,
   "metadata": {},
   "outputs": [
    {
     "data": {
      "text/plain": [
       "Index(['Unnamed: 0', 'base_path', 'content_id', 'taxon_name', 'level1',\n",
       "       'level2tax_id', 'level3tax_id', 'level4tax_id', 'level1taxon',\n",
       "       'level2taxon', 'level3taxon', 'level4taxon'],\n",
       "      dtype='object')"
      ]
     },
     "execution_count": 8,
     "metadata": {},
     "output_type": "execute_result"
    }
   ],
   "source": [
    "taxons.columns"
   ]
  },
  {
   "cell_type": "code",
   "execution_count": 9,
   "metadata": {},
   "outputs": [],
   "source": [
    "taxons = taxons[['base_path','content_id','taxon_name','level1taxon','level2taxon','level3taxon','level4taxon']].copy()"
   ]
  },
  {
   "cell_type": "markdown",
   "metadata": {},
   "source": [
    "#### This section needs to be moved to clean_taxons.py"
   ]
  },
  {
   "cell_type": "code",
   "execution_count": 10,
   "metadata": {},
   "outputs": [],
   "source": [
    "#For top taxons (level1) ensure that taxon)name is in level1taxon column instead of Nan\n",
    "taxons['level1taxon'] = taxons['level1taxon'].fillna(taxons['taxon_name'])"
   ]
  },
  {
   "cell_type": "code",
   "execution_count": 11,
   "metadata": {},
   "outputs": [],
   "source": [
    "#function to combine boolean series into one\n",
    "\n",
    "def conjunction(*conditions):\n",
    "    return functools.reduce(np.logical_and, conditions)"
   ]
  },
  {
   "cell_type": "code",
   "execution_count": 12,
   "metadata": {},
   "outputs": [],
   "source": [
    "#make a copy of taxons for working with\n",
    "taxonslevels = taxons.copy()\n",
    "#define the condition \n",
    "cond = conjunction(taxonslevels['level2taxon'].isna(), taxonslevels['level1taxon'] != taxonslevels['taxon_name'])\n",
    "#change the values of the column if the condition is met to the taxon-name, otherwise the original string\n",
    "taxonslevels['level2taxon'] = np.where(cond, taxonslevels['taxon_name'], taxonslevels['level2taxon'])"
   ]
  },
  {
   "cell_type": "code",
   "execution_count": 13,
   "metadata": {},
   "outputs": [],
   "source": [
    "cond = conjunction(taxons['level2taxon'] != taxons['taxon_name'], taxons['level3taxon'].isna(), taxons['level2taxon'].notnull())\n",
    "taxonslevels['level3taxon'] = np.where(cond, taxonslevels['taxon_name'], taxonslevels['level3taxon'])"
   ]
  },
  {
   "cell_type": "code",
   "execution_count": 14,
   "metadata": {},
   "outputs": [],
   "source": [
    "cond = conjunction(taxons['level3taxon'] != taxons['taxon_name'], taxons['level2taxon'] != taxons['taxon_name'], taxons['level4taxon'].isna(), taxons['level3taxon'].notnull())\n",
    "taxonslevels['level4taxon'] = np.where(cond, taxonslevels['taxon_name'], taxonslevels['level4taxon'])"
   ]
  },
  {
   "cell_type": "code",
   "execution_count": 15,
   "metadata": {},
   "outputs": [],
   "source": [
    "#create new column for last taxon level\n",
    "taxonslevels['level5taxon'] = np.nan\n",
    "cond = conjunction(taxons['level4taxon'] != taxons['taxon_name'], taxons['level3taxon'] != taxons['taxon_name'], taxons['level2taxon'] != taxons['taxon_name'], taxons['level4taxon'].notnull())\n",
    "taxonslevels['level5taxon'] = np.where(cond, taxonslevels['taxon_name'], taxonslevels['level5taxon'])"
   ]
  },
  {
   "cell_type": "code",
   "execution_count": 16,
   "metadata": {},
   "outputs": [],
   "source": [
    "#copy the working df back to taxons\n",
    "taxons = taxonslevels.copy()\n"
   ]
  },
  {
   "cell_type": "markdown",
   "metadata": {},
   "source": [
    "# Content data"
   ]
  },
  {
   "cell_type": "markdown",
   "metadata": {},
   "source": [
    "These data were created in clean_content.py so that each row represents a single content-taxon pair. There can be multiple rows for a content item (content_id) if it has been tagged to multiple taxons (taxon_id).  "
   ]
  },
  {
   "cell_type": "code",
   "execution_count": 17,
   "metadata": {},
   "outputs": [],
   "source": [
    "#read in content items file which was cleaned from raw using clean_content.py\n",
    "\n",
    "content = pd.read_csv('../../data/clean_content.csv.gz', compression='gzip')"
   ]
  },
  {
   "cell_type": "code",
   "execution_count": 18,
   "metadata": {},
   "outputs": [
    {
     "data": {
      "text/plain": [
       "Index(['Unnamed: 0', 'base_path', 'content_id', 'description', 'details',\n",
       "       'document_type', 'first_published_at', 'locale',\n",
       "       'primary_publishing_organisation', 'publishing_app', 'title', 'body',\n",
       "       'combined_text', 'variable', 'taxon_id'],\n",
       "      dtype='object')"
      ]
     },
     "execution_count": 18,
     "metadata": {},
     "output_type": "execute_result"
    }
   ],
   "source": [
    "content.columns"
   ]
  },
  {
   "cell_type": "code",
   "execution_count": 19,
   "metadata": {},
   "outputs": [
    {
     "data": {
      "text/plain": [
       "(335615, 15)"
      ]
     },
     "execution_count": 19,
     "metadata": {},
     "output_type": "execute_result"
    }
   ],
   "source": [
    "content.shape"
   ]
  },
  {
   "cell_type": "code",
   "execution_count": 20,
   "metadata": {},
   "outputs": [
    {
     "data": {
      "text/plain": [
       "140103"
      ]
     },
     "execution_count": 20,
     "metadata": {},
     "output_type": "execute_result"
    }
   ],
   "source": [
    "content.content_id.nunique()"
   ]
  },
  {
   "cell_type": "markdown",
   "metadata": {},
   "source": [
    "## All content with no filtering by taxon"
   ]
  },
  {
   "cell_type": "code",
   "execution_count": 21,
   "metadata": {},
   "outputs": [],
   "source": [
    "allcontent_taxons = pd.merge(\n",
    "    left=content, \n",
    "    right=taxons, \n",
    "    left_on='taxon_id', #which taxon is the content item tagged to\n",
    "    right_on='content_id', #what is the id of that taxon\n",
    "    how='outer', #keep everything for checking merge\n",
    "    indicator=True #so we can filter by match type\n",
    ")"
   ]
  },
  {
   "cell_type": "code",
   "execution_count": 22,
   "metadata": {},
   "outputs": [
    {
     "data": {
      "text/plain": [
       "(336967, 24)"
      ]
     },
     "execution_count": 22,
     "metadata": {},
     "output_type": "execute_result"
    }
   ],
   "source": [
    "allcontent_taxons.shape"
   ]
  },
  {
   "cell_type": "code",
   "execution_count": 23,
   "metadata": {},
   "outputs": [],
   "source": [
    "#tidy column names\n",
    "allcontent_taxons.rename(columns={'base_path_x': 'base_path', \n",
    "                               'content_id_x': 'content_id'}, inplace=True)"
   ]
  },
  {
   "cell_type": "code",
   "execution_count": 24,
   "metadata": {},
   "outputs": [
    {
     "name": "stdout",
     "output_type": "stream",
     "text": [
      "both          232526\n",
      "left_only     103089\n",
      "right_only      1352\n",
      "Name: _merge, dtype: int64\n"
     ]
    }
   ],
   "source": [
    "print(allcontent_taxons['_merge'].value_counts())"
   ]
  },
  {
   "cell_type": "code",
   "execution_count": 25,
   "metadata": {},
   "outputs": [
    {
     "data": {
      "text/plain": [
       "54370"
      ]
     },
     "execution_count": 25,
     "metadata": {},
     "output_type": "execute_result"
    }
   ],
   "source": [
    "allcontent_taxons[allcontent_taxons._merge == 'left_only'].content_id.nunique()"
   ]
  },
  {
   "cell_type": "markdown",
   "metadata": {},
   "source": [
    "#### All content with no filtering by taxon"
   ]
  },
  {
   "cell_type": "code",
   "execution_count": 26,
   "metadata": {},
   "outputs": [],
   "source": [
    "#intersection of join only\n",
    "allcontent_taxons = allcontent_taxons[allcontent_taxons._merge == 'both']"
   ]
  },
  {
   "cell_type": "code",
   "execution_count": 27,
   "metadata": {},
   "outputs": [
    {
     "data": {
      "text/plain": [
       "(232526, 24)"
      ]
     },
     "execution_count": 27,
     "metadata": {},
     "output_type": "execute_result"
    }
   ],
   "source": [
    "allcontent_taxons.shape"
   ]
  },
  {
   "cell_type": "code",
   "execution_count": 28,
   "metadata": {},
   "outputs": [],
   "source": [
    "#remove duplicates if both content_id and taxon_id are the same. \n",
    "allcontent_taxons = allcontent_taxons.drop_duplicates(subset = ['content_id', 'taxon_id'])"
   ]
  },
  {
   "cell_type": "code",
   "execution_count": 29,
   "metadata": {},
   "outputs": [
    {
     "data": {
      "text/plain": [
       "(232149, 24)"
      ]
     },
     "execution_count": 29,
     "metadata": {},
     "output_type": "execute_result"
    }
   ],
   "source": [
    "allcontent_taxons.shape"
   ]
  },
  {
   "cell_type": "code",
   "execution_count": 30,
   "metadata": {},
   "outputs": [
    {
     "data": {
      "text/plain": [
       "128577"
      ]
     },
     "execution_count": 30,
     "metadata": {},
     "output_type": "execute_result"
    }
   ],
   "source": [
    "allcontent_taxons.content_id.nunique()"
   ]
  },
  {
   "cell_type": "markdown",
   "metadata": {},
   "source": [
    "## Filter by taxon to exclude specific taxons from prediction activities"
   ]
  },
  {
   "cell_type": "markdown",
   "metadata": {},
   "source": [
    "Current approach: Take out World and Corporate top taxons   \n",
    "Must consider that the data which we will predict on needs to come from the same population as training data and it is hard to filter the unlabelled data to remove World & Corporate (unless they are perfectly predicted by a meta var such as documnet type). It may be safer to keep them in the training data, predict on all data and act differently if World/Corporate is predicted?"
   ]
  },
  {
   "cell_type": "code",
   "execution_count": 31,
   "metadata": {},
   "outputs": [
    {
     "data": {
      "text/plain": [
       "(4530, 8)"
      ]
     },
     "execution_count": 31,
     "metadata": {},
     "output_type": "execute_result"
    }
   ],
   "source": [
    "taxons.shape"
   ]
  },
  {
   "cell_type": "code",
   "execution_count": 32,
   "metadata": {},
   "outputs": [
    {
     "name": "stdout",
     "output_type": "stream",
     "text": [
      "Taxons shape after deleting 'World' top taxons: (2028, 8)\n"
     ]
    }
   ],
   "source": [
    "taxons = taxons[taxons.level1taxon != 'World']\n",
    "print(\"Taxons shape after deleting 'World' top taxons: {}\".format(taxons.shape))"
   ]
  },
  {
   "cell_type": "code",
   "execution_count": 33,
   "metadata": {},
   "outputs": [
    {
     "name": "stdout",
     "output_type": "stream",
     "text": [
      "Taxons shape after deleting 'corporate information' top taxons: (2027, 8)\n"
     ]
    }
   ],
   "source": [
    "taxons = taxons[taxons.level1taxon != 'Corporate information']\n",
    "print(\"Taxons shape after deleting 'corporate information' top taxons: {}\".format(taxons.shape))"
   ]
  },
  {
   "cell_type": "markdown",
   "metadata": {},
   "source": [
    "Is it possible that corporate information has already been excluded from the taxons file? Need to re-consider this approach"
   ]
  },
  {
   "cell_type": "code",
   "execution_count": 34,
   "metadata": {},
   "outputs": [],
   "source": [
    "content_taxons = pd.merge(\n",
    "    left=content, \n",
    "    right=taxons, \n",
    "    left_on='taxon_id', \n",
    "    right_on='content_id', \n",
    "    how='outer', \n",
    "    indicator=True\n",
    ")"
   ]
  },
  {
   "cell_type": "code",
   "execution_count": 35,
   "metadata": {},
   "outputs": [
    {
     "name": "stdout",
     "output_type": "stream",
     "text": [
      "both          229461\n",
      "left_only     106154\n",
      "right_only       105\n",
      "Name: _merge, dtype: int64\n",
      "There are 229461 tagged content items/taxon combinations with a matching taxon\n",
      "There are 106154 content items/taxon combinations without a matching taxon. Are these untagged content?\n",
      "There are 105 /taxons with nothing tagged to them\n"
     ]
    }
   ],
   "source": [
    "print(content_taxons['_merge'].value_counts())\n",
    "print(\"There are {} tagged content items/taxon combinations with a matching taxon\"\n",
    "      .format(content_taxons['_merge'].value_counts()[2]))\n",
    "print(\"There are {} content items/taxon combinations without a matching taxon. Are these untagged content?\"\n",
    "      .format(content_taxons['_merge'].value_counts()[0]))\n",
    "print(\"There are {} /taxons with nothing tagged to them\"\n",
    "      .format(content_taxons['_merge'].value_counts()[1]))\n"
   ]
  },
  {
   "cell_type": "markdown",
   "metadata": {},
   "source": [
    "### Explore the left_only content"
   ]
  },
  {
   "cell_type": "markdown",
   "metadata": {},
   "source": [
    "Need to add this to untagged data..."
   ]
  },
  {
   "cell_type": "code",
   "execution_count": 36,
   "metadata": {},
   "outputs": [],
   "source": [
    "content_old_taxons = content_taxons[['base_path_x','combined_text','details','taxon_id']][content_taxons._merge == 'left_only']"
   ]
  },
  {
   "cell_type": "code",
   "execution_count": 37,
   "metadata": {},
   "outputs": [
    {
     "name": "stdout",
     "output_type": "stream",
     "text": [
      "There are 2010 taxons represented in the 106154 content item/taxon combinations which have no corresponding taxon in the taxon data\n"
     ]
    }
   ],
   "source": [
    "print(\"There are {} taxons represented in the {} content item/taxon combinations which have no corresponding taxon in the taxon data\"\n",
    "      .format(content_old_taxons.taxon_id.nunique(), content_old_taxons.shape[0]))"
   ]
  },
  {
   "cell_type": "code",
   "execution_count": 38,
   "metadata": {},
   "outputs": [
    {
     "name": "stdout",
     "output_type": "stream",
     "text": [
      "There are 0 content items/taxon combinations with missing taxon because these were removed during taxon_clean.py\n"
     ]
    }
   ],
   "source": [
    "print(\"There are {} content items/taxon combinations with missing taxon because these were removed during taxon_clean.py\"\n",
    "      .format(content_old_taxons[content_old_taxons.taxon_id.isnull()].shape[0]))"
   ]
  },
  {
   "cell_type": "code",
   "execution_count": 39,
   "metadata": {},
   "outputs": [],
   "source": [
    "#save out for devs to check reason these do not have a match in taxon file\n",
    "#content_only_taxons.to_csv('../../data/content_with_taxonid_no_matching_taxon.csv', \n",
    "                           #index=False)"
   ]
  },
  {
   "cell_type": "code",
   "execution_count": 40,
   "metadata": {},
   "outputs": [],
   "source": [
    "# np.savetxt('../../data/taxonid_no_matching_taxon.gz', \n",
    "#            content_only_taxons.taxon_id.unique(),fmt='%5s', delimiter=',')"
   ]
  },
  {
   "cell_type": "markdown",
   "metadata": {},
   "source": [
    "Devs did some spot checks on these and some of these taxons were not part of the topic taxonomy so did not have a match in the topic taxonomy file. Others are in the World branch of the taxonomy."
   ]
  },
  {
   "cell_type": "markdown",
   "metadata": {},
   "source": [
    "need to add these to untaggedd population\n"
   ]
  },
  {
   "cell_type": "markdown",
   "metadata": {},
   "source": [
    "## Tidy the content-taxon df"
   ]
  },
  {
   "cell_type": "code",
   "execution_count": 41,
   "metadata": {},
   "outputs": [
    {
     "data": {
      "text/plain": [
       "(335720, 24)"
      ]
     },
     "execution_count": 41,
     "metadata": {},
     "output_type": "execute_result"
    }
   ],
   "source": [
    "content_taxons.shape"
   ]
  },
  {
   "cell_type": "markdown",
   "metadata": {},
   "source": [
    "#### tidy columns"
   ]
  },
  {
   "cell_type": "code",
   "execution_count": 42,
   "metadata": {},
   "outputs": [
    {
     "data": {
      "text/plain": [
       "Index(['Unnamed: 0', 'base_path_x', 'content_id_x', 'description', 'details',\n",
       "       'document_type', 'first_published_at', 'locale',\n",
       "       'primary_publishing_organisation', 'publishing_app', 'title', 'body',\n",
       "       'combined_text', 'variable', 'taxon_id', 'base_path_y', 'content_id_y',\n",
       "       'taxon_name', 'level1taxon', 'level2taxon', 'level3taxon',\n",
       "       'level4taxon', 'level5taxon', '_merge'],\n",
       "      dtype='object')"
      ]
     },
     "execution_count": 42,
     "metadata": {},
     "output_type": "execute_result"
    }
   ],
   "source": [
    "content_taxons.columns"
   ]
  },
  {
   "cell_type": "code",
   "execution_count": 43,
   "metadata": {},
   "outputs": [],
   "source": [
    "#drop some cols\n",
    "content_taxons = content_taxons.drop(['Unnamed: 0', 'variable', 'base_path_y', \n",
    "                                      'content_id_y'], axis=1)"
   ]
  },
  {
   "cell_type": "code",
   "execution_count": 44,
   "metadata": {},
   "outputs": [],
   "source": [
    "#rename some cols\n",
    "content_taxons.rename(columns={'base_path_x': 'base_path', \n",
    "                               'content_id_x': 'content_id'}, inplace=True)"
   ]
  },
  {
   "cell_type": "markdown",
   "metadata": {},
   "source": [
    "## Filter content-taxons data:\n",
    "- remove duplicates\n",
    "- remove mismatches from merge"
   ]
  },
  {
   "cell_type": "code",
   "execution_count": 45,
   "metadata": {},
   "outputs": [
    {
     "name": "stdout",
     "output_type": "stream",
     "text": [
      "There are 335720 rows in the data before filtering\n",
      "There are 140103 unique content items in the data before filtering\n"
     ]
    }
   ],
   "source": [
    "#count duplicates\n",
    "print(\"There are {} rows in the data before filtering\".\n",
    "      format(content_taxons.shape[0]))\n",
    "print(\"There are {} unique content items in the data before filtering\".\n",
    "      format(content_taxons.content_id.nunique()))\n"
   ]
  },
  {
   "cell_type": "code",
   "execution_count": 46,
   "metadata": {},
   "outputs": [
    {
     "name": "stdout",
     "output_type": "stream",
     "text": [
      "There are 229461 rows in the taxon-level data after filtering out mismatches\n",
      "There are 127320 unique content items in the taxon-level data after filtering out mismatches\n",
      "There were 106259 rows dropped because of mismatching\n",
      "There were 12783 unique content items dropped because of mismatching\n"
     ]
    }
   ],
   "source": [
    "# Drop any rows which were not perfectly matched in taxons and content\n",
    "\n",
    "content_taxons_filtered = content_taxons[content_taxons._merge == 'both']\n",
    "\n",
    "print(\"There are {} rows in the taxon-level data after filtering out mismatches\".\n",
    "      format(content_taxons_filtered.shape[0]))\n",
    "print(\"There are {} unique content items in the taxon-level data after filtering out mismatches\".\n",
    "      format(content_taxons_filtered.content_id.nunique()))\n",
    "print(\"There were {} rows dropped because of mismatching\"\n",
    "      .format(content_taxons.shape[0] - content_taxons_filtered.shape[0]))\n",
    "print(\"There were {} unique content items dropped because of mismatching\"\n",
    "      .format(content_taxons.content_id.nunique() - content_taxons_filtered.content_id.nunique()))"
   ]
  },
  {
   "cell_type": "code",
   "execution_count": 47,
   "metadata": {},
   "outputs": [
    {
     "name": "stdout",
     "output_type": "stream",
     "text": [
      "Before removing mismatches, there were 956 duplicates content items, both with matching content_id and taxon_id\n",
      "After removing mismatches, there were 377 duplicates content items, both with matching content_id and taxon_id\n"
     ]
    }
   ],
   "source": [
    "print(\"Before removing mismatches, there were {} duplicates content items, both with matching content_id \"\n",
    "      \"and taxon_id\"\n",
    "      .format(content_taxons[content_taxons.duplicated(['content_id', 'taxon_id'])].shape[0]))\n",
    "print(\"After removing mismatches, there were {} duplicates content items, both with matching \"\n",
    "      \"content_id and taxon_id\"\n",
    "      .format(content_taxons_filtered[content_taxons_filtered.\n",
    "                                      duplicated(['content_id', 'taxon_id'])].shape[0]))\n"
   ]
  },
  {
   "cell_type": "code",
   "execution_count": 48,
   "metadata": {},
   "outputs": [],
   "source": [
    "#drop duplicates\n",
    "content_taxons_dedup = content_taxons_filtered.drop_duplicates(subset = ['content_id', 'taxon_id'])"
   ]
  },
  {
   "cell_type": "code",
   "execution_count": 49,
   "metadata": {},
   "outputs": [
    {
     "name": "stdout",
     "output_type": "stream",
     "text": [
      "There were 377 additional rows dropped due to duplicate content_id/taxon_id combination\n",
      "There were 0 additional content items dropped due to duplicate content_id/taxon_id combination\n"
     ]
    }
   ],
   "source": [
    "print(\"There were {} additional rows dropped due to duplicate content_id/taxon_id combination\"\n",
    "      .format(content_taxons_filtered.shape[0] - content_taxons_dedup.shape[0]))\n",
    "print(\"There were {} additional content items dropped due to duplicate content_id/taxon_id combination\"\n",
    "      .format(content_taxons_filtered.content_id.nunique() - content_taxons_dedup.content_id.nunique()))"
   ]
  },
  {
   "cell_type": "code",
   "execution_count": 50,
   "metadata": {},
   "outputs": [
    {
     "data": {
      "text/plain": [
       "(229084, 20)"
      ]
     },
     "execution_count": 50,
     "metadata": {},
     "output_type": "execute_result"
    }
   ],
   "source": [
    "#assert content_taxons_dedup.shape == (2029084, 18)\n",
    "content_taxons_dedup.shape"
   ]
  },
  {
   "cell_type": "code",
   "execution_count": 51,
   "metadata": {},
   "outputs": [],
   "source": [
    "#content_taxons_dedup.head()"
   ]
  },
  {
   "cell_type": "markdown",
   "metadata": {},
   "source": [
    "## Write out dataframes for analyses\n",
    "- allcontent_taxons: all deduplicated labelled content with no filtering by taxon\n",
    "- content_taxons_dedup: Deduplicated labelled content without World/Corporate taxons\n",
    "- taxons: cleaner taxons data from that produced by clean_taxons.py\n",
    "- content_old_taxons: content items with a taxon id which is not contained within the topic taxonomy taxons"
   ]
  },
  {
   "cell_type": "code",
   "execution_count": 53,
   "metadata": {},
   "outputs": [],
   "source": [
    "allcontent_taxons.to_csv('../../data/labelled.csv', index=False)\n",
    "\n",
    "content_taxons_dedup.to_csv('../../data/filtered.csv', index=False)\n",
    "                            \n",
    "taxons.to_csv('../../data/taxons_cleaner.csv', index=False)\n",
    "                            \n",
    "content_old_taxons.to_csv('../../data/old_tags.csv', index=False)"
   ]
  }
 ],
 "metadata": {
  "keep_output": true,
  "kernelspec": {
   "display_name": "tax_SL",
   "language": "python",
   "name": "tax_sl"
  },
  "language_info": {
   "codemirror_mode": {
    "name": "ipython",
    "version": 3
   },
   "file_extension": ".py",
   "mimetype": "text/x-python",
   "name": "python",
   "nbconvert_exporter": "python",
   "pygments_lexer": "ipython3",
   "version": "3.4.6"
  }
 },
 "nbformat": 4,
 "nbformat_minor": 2
}
