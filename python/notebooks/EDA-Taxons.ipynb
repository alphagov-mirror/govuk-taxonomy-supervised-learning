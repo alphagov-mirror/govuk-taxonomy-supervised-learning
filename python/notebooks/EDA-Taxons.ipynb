{
 "cells": [
  {
   "cell_type": "code",
   "execution_count": null,
   "metadata": {},
   "outputs": [],
   "source": [
    "import numpy as np\n",
    "import pandas as pd\n",
    "import seaborn as sns\n",
    "import matplotlib.pyplot as plt\n",
    "import matplotlib as mpl\n",
    "import functools\n",
    "%matplotlib inline"
   ]
  },
  {
   "cell_type": "markdown",
   "metadata": {},
   "source": [
    "## Read in data\n",
    "Source EDA-prepare-data.ipynb, clean_taxons.py, clean_content.py"
   ]
  },
  {
   "cell_type": "code",
   "execution_count": null,
   "metadata": {},
   "outputs": [],
   "source": [
    "labelled = pd.read_csv('../../data/labelled.csv', dtype=object)\n",
    "filtered = pd.read_csv('../../data/filtered.csv', dtype=object)"
   ]
  },
  {
   "cell_type": "code",
   "execution_count": null,
   "metadata": {},
   "outputs": [],
   "source": [
    "labelled_level2 = pd.read_csv('../../data/labelled_level2.csv', dtype=object)"
   ]
  },
  {
   "cell_type": "code",
   "execution_count": null,
   "metadata": {},
   "outputs": [],
   "source": [
    "taxons = pd.read_csv('../../data/clean_taxons.csv', dtype=object)"
   ]
  },
  {
   "cell_type": "markdown",
   "metadata": {},
   "source": [
    "# Taxons"
   ]
  },
  {
   "cell_type": "code",
   "execution_count": null,
   "metadata": {},
   "outputs": [],
   "source": [
    "#Count taxons by level1 and level2\n",
    "mask = taxons['level1taxon'].notnull() & taxons['level2taxon'].isnull()\n",
    "\n",
    "print(\"There are {} out of {} taxons with a level2\"\n",
    "      .format(sum(taxons['level2taxon'].notnull()), taxons.shape[0]))\n",
    "print(\"There are {} out of {} taxons with a level1 tag, but no level2 tag\"\n",
    "      .format(sum(mask), taxons.shape[0]))"
   ]
  },
  {
   "cell_type": "markdown",
   "metadata": {},
   "source": [
    "### How many taxons at each level?"
   ]
  },
  {
   "cell_type": "code",
   "execution_count": null,
   "metadata": {},
   "outputs": [],
   "source": [
    "level1_only = taxons[taxons['level1taxon'].notnull() & taxons['level2taxon'].isnull()]\n",
    "level2_only = taxons[taxons['level2taxon'].notnull() & taxons['level3taxon'].isnull()]\n",
    "level3_only = taxons[taxons['level3taxon'].notnull() & taxons['level4taxon'].isnull()]\n",
    "level4_only = taxons[taxons['level4taxon'].notnull() & taxons['level5taxon'].isnull()]\n",
    "level5_only = taxons[taxons['level5taxon'].notnull()]\n",
    "\n",
    "print(\"Number of taxons at level1 = {}\".format(level1_only.shape[0]))\n",
    "print(\"Number of taxons at level2 = {}\".format(level2_only.shape[0]))\n",
    "print(\"Number of taxons at level3 = {}\".format(level3_only.shape[0]))\n",
    "print(\"Number of taxons at level4 = {}\".format(level4_only.shape[0]))\n",
    "print(\"Number of taxons at level5 = {}\".format(level5_only.shape[0]))"
   ]
  },
  {
   "cell_type": "markdown",
   "metadata": {},
   "source": [
    "### How many content items at each level?"
   ]
  },
  {
   "cell_type": "code",
   "execution_count": null,
   "metadata": {},
   "outputs": [],
   "source": [
    "level1_only = filtered[filtered['level1taxon'].notnull() & filtered['level2taxon'].isnull()]\n",
    "level2_only = filtered[filtered['level2taxon'].notnull() & filtered['level3taxon'].isnull()]\n",
    "level3_only = filtered[filtered['level3taxon'].notnull() & filtered['level4taxon'].isnull()]\n",
    "level4_only = filtered[filtered['level4taxon'].notnull() & filtered['level5taxon'].isnull()]\n",
    "level5_only = filtered[filtered['level5taxon'].notnull()]\n",
    "\n",
    "print(\"Number of times content items tagged to level1 = {}\".format(level1_only.shape[0]))\n",
    "print(\"Number of times content items tagged to level2 = {}\".format(level2_only.shape[0]))\n",
    "print(\"Number of times content items tagged to level3 = {}\".format(level3_only.shape[0]))\n",
    "print(\"Number of times content items tagged to level4 = {}\".format(level4_only.shape[0]))\n",
    "print(\"Number of times content items tagged to level5 = {}\".format(level5_only.shape[0]))\n",
    "print(\"\")\n",
    "print(\"Number of unique content items tagged to level1 = {}\".format(level1_only.content_id.nunique()))\n",
    "print(\"Number of unique content items tagged to level2 = {}\".format(level2_only.content_id.nunique()))\n",
    "print(\"Number of unique content items tagged to level3 = {}\".format(level3_only.content_id.nunique()))\n",
    "print(\"Number of unique content items tagged to level4 = {}\".format(level4_only.content_id.nunique()))\n",
    "print(\"Number of unique content items tagged to level5 = {}\".format(level5_only.content_id.nunique()))"
   ]
  },
  {
   "cell_type": "markdown",
   "metadata": {},
   "source": [
    "### Number of tags per content level, overall "
   ]
  },
  {
   "cell_type": "code",
   "execution_count": 14,
   "metadata": {},
   "outputs": [],
   "source": [
    "times_tagged_labelled=labelled.groupby('content_id').size().sort_values(ascending=True)\n",
    "times_tagged_filtered=filtered.groupby('content_id').size().sort_values(ascending=True)\n",
    "times_tagged_labelled2=labelled_level2.groupby('content_id').size().sort_values(ascending=True)"
   ]
  },
  {
   "cell_type": "code",
   "execution_count": 23,
   "metadata": {},
   "outputs": [
    {
     "data": {
      "text/plain": [
       "1     67940\n",
       "2     36882\n",
       "3     12832\n",
       "4      6919\n",
       "5      2113\n",
       "6      1054\n",
       "7       431\n",
       "8       172\n",
       "9        65\n",
       "10       48\n",
       "11       26\n",
       "12       22\n",
       "21       20\n",
       "18       14\n",
       "13       11\n",
       "14        9\n",
       "15        3\n",
       "16        3\n",
       "17        3\n",
       "19        3\n",
       "27        2\n",
       "42        1\n",
       "20        1\n",
       "24        1\n",
       "31        1\n",
       "63        1\n",
       "dtype: int64"
      ]
     },
     "execution_count": 23,
     "metadata": {},
     "output_type": "execute_result"
    }
   ],
   "source": [
    "times_tagged_labelled.value_counts()"
   ]
  },
  {
   "cell_type": "code",
   "execution_count": 24,
   "metadata": {},
   "outputs": [
    {
     "name": "stdout",
     "output_type": "stream",
     "text": [
      "filtered content tagged > 1 taxon =59901 and to a single taxon=67419\n",
      "labelled content tagged > 1 taxon =60637\n",
      "labelled level2  content tagged > 1 taxon =38144\n"
     ]
    }
   ],
   "source": [
    "print(\"filtered content tagged > 1 taxon ={} and to a single taxon={}\".format(len(times_tagged_filtered[times_tagged_filtered>1]), len(times_tagged_filtered[times_tagged_filtered==1])))\n",
    "print(\"labelled content tagged > 1 taxon ={}\".format(len(times_tagged_labelled[times_tagged_labelled>1])))\n",
    "print(\"labelled level2  content tagged > 1 taxon ={}\".format(len(times_tagged_labelled2[times_tagged_labelled2>1])))"
   ]
  },
  {
   "cell_type": "code",
   "execution_count": 15,
   "metadata": {},
   "outputs": [
    {
     "name": "stdout",
     "output_type": "stream",
     "text": [
      "The percent of filtered content tagged more to more than 1 taxon =47.04759660697455\n",
      "The percent of labelled content tagged more to more than 1 taxon =47.160067508185755\n",
      "The percent of labelled level2  content tagged more to more than 1 taxon =33.44556677890011\n"
     ]
    }
   ],
   "source": [
    "print(\"The percent of filtered content tagged to more than 1 taxon ={}\".format(len(times_tagged_filtered[times_tagged_filtered>1])/len(times_tagged_filtered)*100))\n",
    "print(\"The percent of labelled content tagged to more than 1 taxon ={}\".format(len(times_tagged_labelled[times_tagged_labelled>1])/len(times_tagged_labelled)*100))\n",
    "print(\"The percent of labelled level2  content tagged to more than 1 taxon ={}\".format(len(times_tagged_labelled2[times_tagged_labelled2>1])/len(times_tagged_labelled2)*100))"
   ]
  },
  {
   "cell_type": "code",
   "execution_count": 10,
   "metadata": {},
   "outputs": [
    {
     "data": {
      "text/plain": [
       "count    127320.000000\n",
       "mean          1.799277\n",
       "std           1.202716\n",
       "min           1.000000\n",
       "25%           1.000000\n",
       "50%           1.000000\n",
       "75%           2.000000\n",
       "max          41.000000\n",
       "dtype: float64"
      ]
     },
     "execution_count": 10,
     "metadata": {},
     "output_type": "execute_result"
    }
   ],
   "source": [
    "filtered.groupby('content_id').size().sort_values(ascending=True).describe()"
   ]
  },
  {
   "cell_type": "code",
   "execution_count": 11,
   "metadata": {},
   "outputs": [
    {
     "name": "stdout",
     "output_type": "stream",
     "text": [
      "The percent of filtered content tagged more to more than 1 taxon =46.999074484550114\n"
     ]
    }
   ],
   "source": [
    "print(\"The percent of filtered content tagged more to more than 1 taxon ={}\".format(len(times_tagged_filtered[times_tagged_labelled>1])/len(times_tagged_labelled)*100))"
   ]
  },
  {
   "cell_type": "code",
   "execution_count": null,
   "metadata": {},
   "outputs": [],
   "source": [
    "times_tagged_filtered.hist(bins=40)"
   ]
  },
  {
   "cell_type": "code",
   "execution_count": null,
   "metadata": {},
   "outputs": [],
   "source": [
    "labelled.columns"
   ]
  },
  {
   "cell_type": "code",
   "execution_count": null,
   "metadata": {},
   "outputs": [],
   "source": [
    "times_tagged_labelled=labelled.groupby('base_path').size().sort_values(ascending=True)\n",
    "labelled.groupby('content_id').size().sort_values(ascending=True).describe()"
   ]
  },
  {
   "cell_type": "code",
   "execution_count": null,
   "metadata": {},
   "outputs": [],
   "source": [
    "times_tagged_labelled.head()"
   ]
  },
  {
   "cell_type": "code",
   "execution_count": null,
   "metadata": {},
   "outputs": [],
   "source": [
    "times_tagged_labelled.hist(bins=63)"
   ]
  },
  {
   "cell_type": "code",
   "execution_count": null,
   "metadata": {},
   "outputs": [],
   "source": [
    "print(\"The percent of labelled content tagged more to more than 2 taxons ={}\".format(len(times_tagged_labelled[times_tagged_labelled>2])/len(times_tagged_labelled)*100))"
   ]
  },
  {
   "cell_type": "code",
   "execution_count": null,
   "metadata": {},
   "outputs": [],
   "source": [
    "len(times_tagged_labelled[times_tagged_labelled>2])"
   ]
  },
  {
   "cell_type": "code",
   "execution_count": null,
   "metadata": {},
   "outputs": [],
   "source": [
    "#save out content tagged to more than 10 taxons\n",
    "morethan10taxons=times_tagged_labelled[times_tagged_labelled>10]\n",
    "morethan10taxons.to_csv('../../data/taggedtomorethan10taxons.csv', index=True)\n",
    "morethan10taxons.shape"
   ]
  },
  {
   "cell_type": "markdown",
   "metadata": {},
   "source": [
    "### Number of tags per content item at each level"
   ]
  },
  {
   "cell_type": "code",
   "execution_count": null,
   "metadata": {},
   "outputs": [],
   "source": [
    "level1_only.groupby('content_id').size().sort_values(ascending=True).describe()"
   ]
  },
  {
   "cell_type": "code",
   "execution_count": null,
   "metadata": {},
   "outputs": [],
   "source": [
    "level2_only.groupby('content_id').size().sort_values(ascending=True).describe()"
   ]
  },
  {
   "cell_type": "code",
   "execution_count": null,
   "metadata": {},
   "outputs": [],
   "source": [
    "level3_only.groupby('content_id').size().sort_values(ascending=True).describe()"
   ]
  },
  {
   "cell_type": "code",
   "execution_count": null,
   "metadata": {},
   "outputs": [],
   "source": [
    "level4_only.groupby('content_id').size().sort_values(ascending=True).describe()"
   ]
  },
  {
   "cell_type": "code",
   "execution_count": null,
   "metadata": {},
   "outputs": [],
   "source": [
    "level5_only.groupby('content_id').size().sort_values(ascending=True).describe()"
   ]
  },
  {
   "cell_type": "markdown",
   "metadata": {},
   "source": [
    "## Level1  taxons"
   ]
  },
  {
   "cell_type": "markdown",
   "metadata": {},
   "source": [
    "Expecting 19 top taxons (plus `None`)"
   ]
  },
  {
   "cell_type": "code",
   "execution_count": null,
   "metadata": {},
   "outputs": [],
   "source": [
    "assert filtered.level1taxon.nunique() == 19\n",
    "\n",
    "print(\"There are {} unique taxon names in the level 1 taxon\"\n",
    "      .format(filtered.level1taxon.nunique()))\n",
    "\n",
    "set(filtered.level1taxon)"
   ]
  },
  {
   "cell_type": "code",
   "execution_count": null,
   "metadata": {},
   "outputs": [],
   "source": [
    "topfreq = filtered.groupby('level1taxon').size()\n",
    "topfreq.sort_values(ascending=False)"
   ]
  },
  {
   "cell_type": "code",
   "execution_count": null,
   "metadata": {},
   "outputs": [],
   "source": [
    "topfreq.sort_values().plot(kind = 'barh', figsize=(20, 20))"
   ]
  },
  {
   "cell_type": "markdown",
   "metadata": {},
   "source": [
    "Formally, Kendall's τ coefficient is defined as:\n",
    "\n",
    "$${\\tau ={\\frac {({\\text{number of concordant pairs}})-({\\text{number of discordant pairs}})}{N(N-1)/2}}}$$"
   ]
  },
  {
   "cell_type": "code",
   "execution_count": null,
   "metadata": {},
   "outputs": [],
   "source": [
    "level1_counts= filtered.groupby(['content_id', 'level1taxon']).size().unstack(fill_value=0)\n",
    "level1_corr=level1_counts.corr(method = \"kendall\")"
   ]
  },
  {
   "cell_type": "code",
   "execution_count": null,
   "metadata": {},
   "outputs": [],
   "source": [
    "#get level1taxons which are often both tagged to\n",
    "\n",
    "s = level1_corr.unstack()\n",
    "so = s.sort_values(kind=\"quicksort\", ascending=False)\n",
    "\n",
    "different_taxons=so[so != 1]\n",
    "concordant_taxons=different_taxons[different_taxons > 0.1]\n",
    "concordant_taxons"
   ]
  },
  {
   "cell_type": "code",
   "execution_count": null,
   "metadata": {},
   "outputs": [],
   "source": [
    "# plot the heatmap\n",
    "fig, ax = plt.subplots(figsize=(10,10))\n",
    "sns.heatmap(level1_corr, \n",
    "        xticklabels=level1_corr.columns,\n",
    "        yticklabels=level1_corr.columns)"
   ]
  },
  {
   "cell_type": "code",
   "execution_count": null,
   "metadata": {},
   "outputs": [],
   "source": [
    "top_doctype = pd.crosstab(filtered['document_type'], filtered['level1taxon'])\n",
    "fig, ax = plt.subplots(figsize=(10,10)) \n",
    "sns.heatmap(top_doctype, cmap = \"YlGnBu\")"
   ]
  },
  {
   "cell_type": "code",
   "execution_count": null,
   "metadata": {},
   "outputs": [],
   "source": [
    "top_pubapp = pd.crosstab(filtered['publishing_app'], filtered['level1taxon'])\n",
    "fig, ax = plt.subplots(figsize=(10,5))\n",
    "sns.heatmap(top_pubapp, cmap = \"YlGnBu\")"
   ]
  },
  {
   "cell_type": "code",
   "execution_count": null,
   "metadata": {},
   "outputs": [],
   "source": [
    "filtered.groupby('level1taxon').size().sort_values(ascending=False)"
   ]
  },
  {
   "cell_type": "markdown",
   "metadata": {},
   "source": [
    "### Level 2 taxons"
   ]
  },
  {
   "cell_type": "code",
   "execution_count": null,
   "metadata": {},
   "outputs": [],
   "source": [
    "#assert content_taxons_dedup.level2taxon.nunique() == 103\n",
    "\n",
    "print(\"There are {} unique taxon names in the level 2 taxon\"\n",
    "      .format(filtered.level2taxon.nunique()))"
   ]
  },
  {
   "cell_type": "code",
   "execution_count": null,
   "metadata": {},
   "outputs": [],
   "source": [
    "second_freq = filtered.groupby('level2taxon').size().sort_values(ascending=False)\n",
    "\n",
    "# Print as string to get around truncation\n",
    "\n",
    "print(second_freq.to_string())\n",
    "\n"
   ]
  },
  {
   "cell_type": "code",
   "execution_count": null,
   "metadata": {},
   "outputs": [],
   "source": [
    "second_freq.sort_values().plot(kind = 'barh', figsize=(10,30))"
   ]
  },
  {
   "cell_type": "code",
   "execution_count": null,
   "metadata": {},
   "outputs": [],
   "source": [
    "level2_counts= filtered.groupby(['content_id', 'level2taxon']).size().unstack(fill_value=0)\n",
    "level2_corr=level2_counts.corr(method = \"kendall\")"
   ]
  },
  {
   "cell_type": "code",
   "execution_count": null,
   "metadata": {},
   "outputs": [],
   "source": [
    "#get level1taxons which are often both tagged to\n",
    "\n",
    "s = level2_corr.unstack()\n",
    "so = s.sort_values(kind=\"quicksort\", ascending=False)\n",
    "\n",
    "different_2taxons=so[so != 1]\n",
    "concordant_2taxons=different_2taxons[different_2taxons > 0.1]"
   ]
  },
  {
   "cell_type": "code",
   "execution_count": null,
   "metadata": {},
   "outputs": [],
   "source": [
    "concordant_2taxons.shape"
   ]
  },
  {
   "cell_type": "code",
   "execution_count": null,
   "metadata": {},
   "outputs": [],
   "source": [
    "concordant_2taxons.to_csv('../../data/level2taxons_concordant.csv', index=True)"
   ]
  },
  {
   "cell_type": "code",
   "execution_count": null,
   "metadata": {},
   "outputs": [],
   "source": [
    "# plot the heatmap\n",
    "# fig, ax = plt.subplots(figsize=(20,20))\n",
    "# sns.set(font_scale=0.4)\n",
    "# sns.heatmap(level2_corr, \n",
    "#         xticklabels=level2_corr.columns,\n",
    "#         yticklabels=level2_corr.columns)"
   ]
  },
  {
   "cell_type": "markdown",
   "metadata": {},
   "source": [
    "### Mutually exclusive taxon combinations (level1 and level2)"
   ]
  },
  {
   "cell_type": "code",
   "execution_count": null,
   "metadata": {},
   "outputs": [],
   "source": [
    "#Only keep rows where level1/level2 combination is unique\n",
    "level2_dedup = labelled.drop_duplicates(subset = ['content_id', 'level1taxon', 'level2taxon']).copy()\n",
    "#Identify and drop rows where level2 is missing\n",
    "mask= pd.notnull(level2_dedup['level2taxon'])\n",
    "level2_tagged = level2_dedup[mask]"
   ]
  },
  {
   "cell_type": "code",
   "execution_count": null,
   "metadata": {},
   "outputs": [],
   "source": [
    "#concatenate the name of each level2taxon for a single content item\n",
    "level2_tagged = level2_tagged.groupby('content_id')['level2taxon'].apply('-;-'.join).reset_index()\n",
    "print(\"there are {} mutually exclusive combinations of level2 taxon combinations.\".format(level2_tagged.level2taxon.nunique()))"
   ]
  },
  {
   "cell_type": "code",
   "execution_count": null,
   "metadata": {},
   "outputs": [],
   "source": [
    "inline_rc = dict(mpl.rcParams)\n",
    "#Get frequency counts for each of the mutually exclusive taxon2 combinations\n",
    "mutualex_freq = level2_tagged.groupby('level2taxon').size().sort_values(ascending=True)\n",
    "\n",
    "#Keep those with higher frequency\n",
    "mutualex_freq_top = mutualex_freq[mutualex_freq > 100]\n",
    "print(\"There are {} mutually exclusive combinations of level2 taxon combinations populated with more than 100 content items\".format(len(mutualex_freq_top)))\n",
    "\n",
    "mutualex_freq_top.plot(kind = 'barh', figsize=(10,30))"
   ]
  },
  {
   "cell_type": "code",
   "execution_count": null,
   "metadata": {},
   "outputs": [],
   "source": [
    "# Print as string to get around truncation\n",
    "\n",
    "print(mutualex_freq.to_string())"
   ]
  },
  {
   "cell_type": "markdown",
   "metadata": {},
   "source": [
    "## Ariana counts\n",
    "-exlude world and corporate\n",
    "-count how many taxons at each level by level 2"
   ]
  },
  {
   "cell_type": "code",
   "execution_count": null,
   "metadata": {},
   "outputs": [],
   "source": []
  }
 ],
 "metadata": {
  "keep_output": true,
  "kernelspec": {
   "display_name": "tax_SL",
   "language": "python",
   "name": "tax_sl"
  },
  "language_info": {
   "codemirror_mode": {
    "name": "ipython",
    "version": 3
   },
   "file_extension": ".py",
   "mimetype": "text/x-python",
   "name": "python",
   "nbconvert_exporter": "python",
   "pygments_lexer": "ipython3",
   "version": "3.4.6"
  }
 },
 "nbformat": 4,
 "nbformat_minor": 2
}
