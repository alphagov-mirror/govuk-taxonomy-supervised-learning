{
 "cells": [
  {
   "cell_type": "code",
   "execution_count": 1,
   "metadata": {},
   "outputs": [
    {
     "name": "stdout",
     "output_type": "stream",
     "text": [
      "algorithm running on data extracted from content store on /data/2018-07-10\n"
     ]
    }
   ],
   "source": [
    "import os\n",
    "\n",
    "DATADIR = os.getenv('DATADIR')\n",
    "print('algorithm running on data extracted from content store on {}'.format(DATADIR))\n",
    "import numpy as np\n",
    "import pandas as pd\n",
    "import json"
   ]
  },
  {
   "cell_type": "markdown",
   "metadata": {},
   "source": [
    "# Check level2 branch outputs are the same for old and new load_labelled()"
   ]
  },
  {
   "cell_type": "code",
   "execution_count": 5,
   "metadata": {},
   "outputs": [
    {
     "name": "stdout",
     "output_type": "stream",
     "text": [
      "algorithm running on data extracted from content store on /data/2018-07-10\n",
      "x_train.shape = (147742, 1000)\n",
      "meta_train.shape = (147742, 511)\n",
      "title_train.shape = (147742, 10000)\n",
      "desc_train.shape = (147742, 10000)\n",
      "y_train.shape = (147742, 210)\n",
      "x_dev.shape = (8342, 1000)\n",
      "meta_dev.shape = (8342, 511)\n",
      "title_dev.shape = (8342, 10000)\n",
      "desc_dev.shape = (8342, 10000)\n",
      "y_dev.shape = (8342, 210)\n"
     ]
    }
   ],
   "source": [
    "#MASTER BRANCH\n",
    "# ### Read in data\n",
    "train = np.load(os.path.join(DATADIR, 'train_arrays.npz'))\n",
    "\n",
    "x_train = train['x']\n",
    "meta_train = train['meta'].all().todense()\n",
    "title_train = train['title'].all().todense()\n",
    "desc_train = train['desc'].all().todense()\n",
    "y_train = train['y'].all().todense()\n",
    "\n",
    "print('x_train.shape = {}'.format(x_train.shape))\n",
    "print('meta_train.shape = {}'.format(meta_train.shape))\n",
    "print('title_train.shape = {}'.format(title_train.shape))\n",
    "print('desc_train.shape = {}'.format(desc_train.shape))\n",
    "print('y_train.shape = {}'.format(y_train.shape))\n",
    "\n",
    "\n",
    "dev = np.load(os.path.join(DATADIR, 'dev_arrays.npz'))\n",
    "\n",
    "x_dev = dev['x']\n",
    "meta_dev = dev['meta'].all().todense()\n",
    "title_dev = dev['title'].all().todense()\n",
    "desc_dev = dev['desc'].all().todense()\n",
    "y_dev = dev['y'].all().todense()\n",
    "\n",
    "print('x_dev.shape = {}'.format(x_dev.shape))\n",
    "print('meta_dev.shape = {}'.format(meta_dev.shape))\n",
    "print('title_dev.shape = {}'.format(title_dev.shape))\n",
    "print('desc_dev.shape = {}'.format(desc_dev.shape))\n",
    "print('y_dev.shape = {}'.format(y_dev.shape))"
   ]
  },
  {
   "cell_type": "code",
   "execution_count": 7,
   "metadata": {},
   "outputs": [
    {
     "name": "stdout",
     "output_type": "stream",
     "text": [
      "x_train.shape = (147742, 1000)\n",
      "meta_train.shape = (147742, 511)\n",
      "title_train.shape = (147742, 10000)\n",
      "desc_train.shape = (147742, 10000)\n",
      "y_train.shape = (147742, 210)\n",
      "x_dev.shape = (8342, 1000)\n",
      "meta_dev.shape = (8342, 511)\n",
      "title_dev.shape = (8342, 10000)\n",
      "desc_dev.shape = (8342, 10000)\n",
      "y_dev.shape = (8342, 210)\n"
     ]
    }
   ],
   "source": [
    "#ALL LEVELS BRANCH\n",
    "\n",
    "check_train = np.load(os.path.join(DATADIR, 'train_arrays.npz'))\n",
    "\n",
    "check_x_train = check_train['x']\n",
    "check_meta_train = check_train['meta'].all().todense()\n",
    "check_title_train = check_train['title'].all().todense()\n",
    "check_desc_train = check_train['desc'].all().todense()\n",
    "check_y_train = check_train['y'].all().todense()\n",
    "\n",
    "print('x_train.shape = {}'.format(check_x_train.shape))\n",
    "print('meta_train.shape = {}'.format(check_meta_train.shape))\n",
    "print('title_train.shape = {}'.format(check_title_train.shape))\n",
    "print('desc_train.shape = {}'.format(check_desc_train.shape))\n",
    "print('y_train.shape = {}'.format(check_y_train.shape))\n",
    "\n",
    "\n",
    "check_dev = np.load(os.path.join(DATADIR, 'dev_arrays.npz'))\n",
    "\n",
    "check_x_dev = check_dev['x']\n",
    "check_meta_dev = check_dev['meta'].all().todense()\n",
    "check_title_dev = check_dev['title'].all().todense()\n",
    "check_desc_dev = check_dev['desc'].all().todense()\n",
    "check_y_dev = check_dev['y'].all().todense()\n",
    "\n",
    "print('x_dev.shape = {}'.format(check_x_dev.shape))\n",
    "print('meta_dev.shape = {}'.format(check_meta_dev.shape))\n",
    "print('title_dev.shape = {}'.format(check_title_dev.shape))\n",
    "print('desc_dev.shape = {}'.format(check_desc_dev.shape))\n",
    "print('y_dev.shape = {}'.format(check_y_dev.shape))\n"
   ]
  },
  {
   "cell_type": "code",
   "execution_count": 11,
   "metadata": {},
   "outputs": [
    {
     "data": {
      "text/plain": [
       "True"
      ]
     },
     "execution_count": 11,
     "metadata": {},
     "output_type": "execute_result"
    }
   ],
   "source": [
    "print(np.array_equiv(x_train, check_x_train))\n",
    "print(np.array_equiv(x_dev, check_x_dev))\n",
    "print(np.array_equiv(meta_train, check_meta_train))\n",
    "print(np.array_equiv(title_train, check_title_train))\n",
    "print(np.array_equiv(desc_train, check_desc_train))\n",
    "print(np.array_equiv(y_train, check_y_train))"
   ]
  },
  {
   "cell_type": "markdown",
   "metadata": {},
   "source": [
    "# Check level1 branch outputs are the same for old and new load_labelled()"
   ]
  },
  {
   "cell_type": "code",
   "execution_count": 3,
   "metadata": {},
   "outputs": [
    {
     "name": "stdout",
     "output_type": "stream",
     "text": [
      "x_train.shape = (71064, 1000)\n",
      "meta_train.shape = (71064, 511)\n",
      "title_train.shape = (71064, 10000)\n",
      "desc_train.shape = (71064, 10000)\n",
      "y_train.shape = (71064, 20)\n",
      "x_dev.shape = (8695, 1000)\n",
      "meta_dev.shape = (8695, 511)\n",
      "title_dev.shape = (8695, 10000)\n",
      "desc_dev.shape = (8695, 10000)\n",
      "y_dev.shape = (8695, 20)\n"
     ]
    }
   ],
   "source": [
    "#MASTER BRANCH\n",
    "# ### Read in data\n",
    "train = np.load(os.path.join(DATADIR, 'level1_train_arrays.npz'))\n",
    "\n",
    "x_train = train['x']\n",
    "meta_train = train['meta'].all().todense()\n",
    "title_train = train['title'].all().todense()\n",
    "desc_train = train['desc'].all().todense()\n",
    "y_train = train['y'].all().todense()\n",
    "\n",
    "print('x_train.shape = {}'.format(x_train.shape))\n",
    "print('meta_train.shape = {}'.format(meta_train.shape))\n",
    "print('title_train.shape = {}'.format(title_train.shape))\n",
    "print('desc_train.shape = {}'.format(desc_train.shape))\n",
    "print('y_train.shape = {}'.format(y_train.shape))\n",
    "\n",
    "\n",
    "dev = np.load(os.path.join(DATADIR, 'level1_dev_arrays.npz'))\n",
    "\n",
    "x_dev = dev['x']\n",
    "meta_dev = dev['meta'].all().todense()\n",
    "title_dev = dev['title'].all().todense()\n",
    "desc_dev = dev['desc'].all().todense()\n",
    "y_dev = dev['y'].all().todense()\n",
    "\n",
    "print('x_dev.shape = {}'.format(x_dev.shape))\n",
    "print('meta_dev.shape = {}'.format(meta_dev.shape))\n",
    "print('title_dev.shape = {}'.format(title_dev.shape))\n",
    "print('desc_dev.shape = {}'.format(desc_dev.shape))\n",
    "print('y_dev.shape = {}'.format(y_dev.shape))"
   ]
  },
  {
   "cell_type": "code",
   "execution_count": 5,
   "metadata": {},
   "outputs": [
    {
     "name": "stdout",
     "output_type": "stream",
     "text": [
      "x_train.shape = (71064, 1000)\n",
      "meta_train.shape = (71064, 511)\n",
      "title_train.shape = (71064, 10000)\n",
      "desc_train.shape = (71064, 10000)\n",
      "y_train.shape = (71064, 20)\n",
      "x_dev.shape = (8695, 1000)\n",
      "meta_dev.shape = (8695, 511)\n",
      "title_dev.shape = (8695, 10000)\n",
      "desc_dev.shape = (8695, 10000)\n",
      "y_dev.shape = (8695, 20)\n"
     ]
    }
   ],
   "source": [
    "#ALL LEVELS BRANCH\n",
    "\n",
    "check_train = np.load(os.path.join(DATADIR, 'level1_train_arrays.npz'))\n",
    "\n",
    "check_x_train = check_train['x']\n",
    "check_meta_train = check_train['meta'].all().todense()\n",
    "check_title_train = check_train['title'].all().todense()\n",
    "check_desc_train = check_train['desc'].all().todense()\n",
    "check_y_train = check_train['y'].all().todense()\n",
    "\n",
    "print('x_train.shape = {}'.format(check_x_train.shape))\n",
    "print('meta_train.shape = {}'.format(check_meta_train.shape))\n",
    "print('title_train.shape = {}'.format(check_title_train.shape))\n",
    "print('desc_train.shape = {}'.format(check_desc_train.shape))\n",
    "print('y_train.shape = {}'.format(check_y_train.shape))\n",
    "\n",
    "\n",
    "check_dev = np.load(os.path.join(DATADIR, 'level1_dev_arrays.npz'))\n",
    "\n",
    "check_x_dev = check_dev['x']\n",
    "check_meta_dev = check_dev['meta'].all().todense()\n",
    "check_title_dev = check_dev['title'].all().todense()\n",
    "check_desc_dev = check_dev['desc'].all().todense()\n",
    "check_y_dev = check_dev['y'].all().todense()\n",
    "\n",
    "print('x_dev.shape = {}'.format(check_x_dev.shape))\n",
    "print('meta_dev.shape = {}'.format(check_meta_dev.shape))\n",
    "print('title_dev.shape = {}'.format(check_title_dev.shape))\n",
    "print('desc_dev.shape = {}'.format(check_desc_dev.shape))\n",
    "print('y_dev.shape = {}'.format(check_y_dev.shape))\n"
   ]
  },
  {
   "cell_type": "code",
   "execution_count": 6,
   "metadata": {},
   "outputs": [
    {
     "name": "stdout",
     "output_type": "stream",
     "text": [
      "True\n",
      "True\n",
      "True\n",
      "True\n",
      "True\n",
      "True\n"
     ]
    }
   ],
   "source": [
    "print(np.array_equiv(x_train, check_x_train))\n",
    "print(np.array_equiv(x_dev, check_x_dev))\n",
    "print(np.array_equiv(meta_train, check_meta_train))\n",
    "print(np.array_equiv(title_train, check_title_train))\n",
    "print(np.array_equiv(desc_train, check_desc_train))\n",
    "print(np.array_equiv(y_train, check_y_train))"
   ]
  },
  {
   "cell_type": "markdown",
   "metadata": {},
   "source": [
    "# Check level agnostic -at level not deeper outputs are the same for old and new load_labelled()"
   ]
  },
  {
   "cell_type": "code",
   "execution_count": 5,
   "metadata": {},
   "outputs": [
    {
     "name": "stdout",
     "output_type": "stream",
     "text": [
      "x_train.shape = (149658, 1000)\n",
      "meta_train.all().shape = (149658, 511)\n",
      "title_train.all().shape = (149658, 10000)\n",
      "desc_train.all().shape = (149658, 10000)\n",
      "y_train.shape = (149658, 1587)\n",
      "x_dev.shape = (18707, 1000)\n",
      "meta_dev.shape = (18707, 511)\n",
      "title_dev.shape = (18707, 10000)\n",
      "desc_dev.shape = (18707, 10000)\n",
      "y_dev.shape = (18707, 1587)\n"
     ]
    }
   ],
   "source": [
    "# previous results with upsampling of 500 if taxon <500\n",
    "\n",
    "train = np.load(os.path.join(DATADIR, 'level_agnostic_train_arrays.npz'))\n",
    "\n",
    "x_train = train['x']\n",
    "meta_train = train['meta']\n",
    "title_train = train['title']\n",
    "desc_train = train['desc']\n",
    "y_train = train['y'].all().todense()\n",
    "\n",
    "print('x_train.shape = {}'.format(x_train.shape))\n",
    "print('meta_train.all().shape = {}'.format(meta_train.all().shape))\n",
    "print('title_train.all().shape = {}'.format(title_train.all().shape))\n",
    "print('desc_train.all().shape = {}'.format(desc_train.all().shape))\n",
    "print('y_train.shape = {}'.format(y_train.shape))\n",
    "\n",
    "\n",
    "dev = np.load(os.path.join(DATADIR, 'level_agnostic_dev_arrays.npz'))\n",
    "\n",
    "x_dev = dev['x']\n",
    "meta_dev = dev['meta']\n",
    "title_dev = dev['title']\n",
    "desc_dev = dev['desc']\n",
    "y_dev = dev['y'].all().todense()\n",
    "\n",
    "print('x_dev.shape = {}'.format(x_dev.shape))\n",
    "print('meta_dev.shape = {}'.format(meta_dev.all().shape))\n",
    "print('title_dev.shape = {}'.format(title_dev.all().shape))\n",
    "print('desc_dev.shape = {}'.format(desc_dev.all().shape))\n",
    "print('y_dev.shape = {}'.format(y_dev.shape))"
   ]
  },
  {
   "cell_type": "code",
   "execution_count": 6,
   "metadata": {},
   "outputs": [
    {
     "name": "stdout",
     "output_type": "stream",
     "text": [
      "x_train.shape = (130864, 1000)\n",
      "meta_train.all().shape = (130864, 511)\n",
      "title_train.all().shape = (130864, 10000)\n",
      "desc_train.all().shape = (130864, 10000)\n",
      "y_train.shape = (130864, 1269)\n",
      "x_dev.shape = (8695, 1000)\n",
      "meta_dev.shape = (8695, 511)\n",
      "title_dev.shape = (8695, 10000)\n",
      "desc_dev.shape = (8695, 10000)\n",
      "y_dev.shape = (8695, 1269)\n"
     ]
    }
   ],
   "source": [
    "# all-levels branch\n",
    "\n",
    "train = np.load(os.path.join(DATADIR, 'level_agnostic_train_arrays.npz'))\n",
    "\n",
    "x_train = train['x']\n",
    "meta_train = train['meta']\n",
    "title_train = train['title']\n",
    "desc_train = train['desc']\n",
    "y_train = train['y'].all().todense()\n",
    "\n",
    "print('x_train.shape = {}'.format(x_train.shape))\n",
    "print('meta_train.all().shape = {}'.format(meta_train.all().shape))\n",
    "print('title_train.all().shape = {}'.format(title_train.all().shape))\n",
    "print('desc_train.all().shape = {}'.format(desc_train.all().shape))\n",
    "print('y_train.shape = {}'.format(y_train.shape))\n",
    "\n",
    "\n",
    "dev = np.load(os.path.join(DATADIR, 'level_agnostic_dev_arrays.npz'))\n",
    "\n",
    "x_dev = dev['x']\n",
    "meta_dev = dev['meta']\n",
    "title_dev = dev['title']\n",
    "desc_dev = dev['desc']\n",
    "y_dev = dev['y'].all().todense()\n",
    "\n",
    "print('x_dev.shape = {}'.format(x_dev.shape))\n",
    "print('meta_dev.shape = {}'.format(meta_dev.all().shape))\n",
    "print('title_dev.shape = {}'.format(title_dev.all().shape))\n",
    "print('desc_dev.shape = {}'.format(desc_dev.all().shape))\n",
    "print('y_dev.shape = {}'.format(y_dev.shape))"
   ]
  },
  {
   "cell_type": "markdown",
   "metadata": {},
   "source": [
    "## These are different because the memory requirements to upsample 500 for each of the taxons with <500 items was to great for the tokenizer.sequences_to_matrix"
   ]
  },
  {
   "cell_type": "code",
   "execution_count": 2,
   "metadata": {},
   "outputs": [
    {
     "name": "stdout",
     "output_type": "stream",
     "text": [
      "x_train.shape = (126764, 1000)\n",
      "meta_train.all().shape = (126764, 511)\n",
      "title_train.all().shape = (126764, 10000)\n",
      "desc_train.all().shape = (126764, 10000)\n",
      "y_train.shape = (126764, 1219)\n",
      "x_dev.shape = (8695, 1000)\n",
      "meta_dev.shape = (8695, 511)\n",
      "title_dev.shape = (8695, 10000)\n",
      "desc_dev.shape = (8695, 10000)\n",
      "y_dev.shape = (8695, 1219)\n"
     ]
    }
   ],
   "source": [
    "# all-levels branch \n",
    "\n",
    "train = np.load(os.path.join(DATADIR, 'branch_level_agnostic_train_arrays.npz'))\n",
    "\n",
    "x_train = train['x']\n",
    "meta_train = train['meta']\n",
    "title_train = train['title']\n",
    "desc_train = train['desc']\n",
    "y_train = train['y'].all().todense()\n",
    "\n",
    "print('x_train.shape = {}'.format(x_train.shape))\n",
    "print('meta_train.all().shape = {}'.format(meta_train.all().shape))\n",
    "print('title_train.all().shape = {}'.format(title_train.all().shape))\n",
    "print('desc_train.all().shape = {}'.format(desc_train.all().shape))\n",
    "print('y_train.shape = {}'.format(y_train.shape))\n",
    "\n",
    "\n",
    "dev = np.load(os.path.join(DATADIR, 'branch_level_agnostic_dev_arrays.npz'))\n",
    "\n",
    "x_dev = dev['x']\n",
    "meta_dev = dev['meta']\n",
    "title_dev = dev['title']\n",
    "desc_dev = dev['desc']\n",
    "y_dev = dev['y'].all().todense()\n",
    "\n",
    "print('x_dev.shape = {}'.format(x_dev.shape))\n",
    "print('meta_dev.shape = {}'.format(meta_dev.all().shape))\n",
    "print('title_dev.shape = {}'.format(title_dev.all().shape))\n",
    "print('desc_dev.shape = {}'.format(desc_dev.all().shape))\n",
    "print('y_dev.shape = {}'.format(y_dev.shape))"
   ]
  },
  {
   "cell_type": "markdown",
   "metadata": {},
   "source": [
    "somthing suspicious. The branch taxons shouldn't have less than th at_level taxons. Why is this happening????"
   ]
  },
  {
   "cell_type": "code",
   "execution_count": null,
   "metadata": {},
   "outputs": [],
   "source": []
  }
 ],
 "metadata": {
  "kernelspec": {
   "display_name": "Python 3",
   "language": "python",
   "name": "python3"
  },
  "language_info": {
   "codemirror_mode": {
    "name": "ipython",
    "version": 3
   },
   "file_extension": ".py",
   "mimetype": "text/x-python",
   "name": "python",
   "nbconvert_exporter": "python",
   "pygments_lexer": "ipython3",
   "version": "3.6.3"
  }
 },
 "nbformat": 4,
 "nbformat_minor": 2
}
