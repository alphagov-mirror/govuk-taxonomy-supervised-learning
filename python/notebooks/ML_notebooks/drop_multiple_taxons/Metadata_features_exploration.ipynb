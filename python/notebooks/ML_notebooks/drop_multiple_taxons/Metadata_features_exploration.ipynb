{
 "cells": [
  {
   "cell_type": "markdown",
   "metadata": {},
   "source": [
    "## Support Vector Machine for tagging GOV.UK"
   ]
  },
  {
   "cell_type": "markdown",
   "metadata": {},
   "source": [
    "### Load requirements and data"
   ]
  },
  {
   "cell_type": "code",
   "execution_count": 1,
   "metadata": {},
   "outputs": [
    {
     "name": "stderr",
     "output_type": "stream",
     "text": [
      "/Users/matthewupson/.pyenv/versions/3.4.6/lib/python3.4/site-packages/sklearn/cross_validation.py:41: DeprecationWarning: This module was deprecated in version 0.18 in favor of the model_selection module into which all the refactored classes and functions are moved. Also note that the interface of the new CV iterators are different from that of this module. This module will be removed in 0.20.\n",
      "  \"This module will be removed in 0.20.\", DeprecationWarning)\n"
     ]
    }
   ],
   "source": [
    "import pandas as pd\n",
    "import numpy as np\n",
    "import os\n",
    "from datetime import datetime\n",
    "from sklearn.metrics import classification_report\n",
    "from sklearn.model_selection import train_test_split\n",
    "from sklearn.feature_extraction.text import CountVectorizer, TfidfTransformer\n",
    "from sklearn.pipeline import Pipeline, FeatureUnion\n",
    "from sklearn.externals import joblib\n",
    "from sklearn.linear_model import SGDClassifier\n",
    "from sklearn.preprocessing import LabelEncoder\n",
    "from sklearn.ensemble import AdaBoostClassifier\n",
    "from sklearn.model_selection import cross_val_score"
   ]
  },
  {
   "cell_type": "code",
   "execution_count": 4,
   "metadata": {},
   "outputs": [
    {
     "name": "stdout",
     "output_type": "stream",
     "text": [
      "/Users/matthewupson/.pyenv/shims/python3\n",
      "Python 3.4.6\n"
     ]
    }
   ],
   "source": [
    "# Double check we are in the right environment!\n",
    "!which python3\n",
    "!python3 --version"
   ]
  },
  {
   "cell_type": "code",
   "execution_count": 5,
   "metadata": {},
   "outputs": [],
   "source": [
    "# Becuase the file is large it uses the low_memory option \n",
    "# to read the file in chunks. The result of this is that it\n",
    "# it infers different column types in the different chunks,\n",
    "# solve this either by reading the file in a oner with low_memory=False,\n",
    "# or be explicit about the column types by setting them with dtype = {'column':type}\n",
    "\n",
    "labelled_level2 = pd.read_csv(\n",
    "    '../../../data/labelled_level2.csv',\n",
    "    low_memory=False\n",
    ")"
   ]
  },
  {
   "cell_type": "code",
   "execution_count": 4,
   "metadata": {},
   "outputs": [
    {
     "data": {
      "text/plain": [
       "(173560, 21)"
      ]
     },
     "execution_count": 4,
     "metadata": {},
     "output_type": "execute_result"
    }
   ],
   "source": [
    "labelled_level2.shape"
   ]
  },
  {
   "cell_type": "code",
   "execution_count": 5,
   "metadata": {},
   "outputs": [],
   "source": [
    "# Collapse down World\n",
    "\n",
    "labelled_level2.loc[labelled_level2['level1taxon'] == 'World', 'level2taxon'] = 'world_level1'"
   ]
  },
  {
   "cell_type": "code",
   "execution_count": 6,
   "metadata": {},
   "outputs": [
    {
     "data": {
      "text/plain": [
       "210"
      ]
     },
     "execution_count": 6,
     "metadata": {},
     "output_type": "execute_result"
    }
   ],
   "source": [
    "# There are are 210 unique taxons remaining in level2taxon\n",
    "\n",
    "labelled_level2['level2taxon'].nunique()"
   ]
  },
  {
   "cell_type": "code",
   "execution_count": 7,
   "metadata": {},
   "outputs": [
    {
     "name": "stdout",
     "output_type": "stream",
     "text": [
      "Before: (173560, 21)\n",
      "After:  (114048, 21)\n"
     ]
    }
   ],
   "source": [
    "# Drop cases where there are multiple taxons applied to a content item.\n",
    "# This is the simplest solution to the multiple class problem\n",
    "\n",
    "print('Before:', labelled_level2.shape)\n",
    "labelled_level2.drop_duplicates(subset=['content_id'], inplace=True, keep='first')\n",
    "print('After: ', labelled_level2.shape)"
   ]
  },
  {
   "cell_type": "code",
   "execution_count": 8,
   "metadata": {},
   "outputs": [],
   "source": [
    "X_train, X_test, y_train, y_test = train_test_split(\n",
    "    labelled_level2['combined_text'], labelled_level2['level2taxon'], test_size = 0.2, random_state=1337)"
   ]
  },
  {
   "cell_type": "code",
   "execution_count": 9,
   "metadata": {},
   "outputs": [],
   "source": [
    "\"\"\"Support Vector Machine (SVM) classifier\"\"\"\n",
    "#svm_clf = Pipeline([('vect', CountVectorizer()),\n",
    "#                    ('tfidf', TfidfTransformer()),\n",
    "#                    ('clf', SGDClassifier(loss='hinge', penalty='l2', alpha=1e-3, max_iter = 5, random_state=42)),\n",
    "#])\n",
    "\n",
    "\n",
    "from sklearn.feature_selection import SelectPercentile, f_classif\n",
    "from sklearn.svm import LinearSVC\n",
    "\n",
    "# Score on the training set was:0.7925764732068796\n",
    "svc_clf = Pipeline([\n",
    "                             ('vect', CountVectorizer()),\n",
    "                             ('tfidf', TfidfTransformer()),\n",
    "                             ('select_perc', SelectPercentile(score_func=f_classif, percentile=2)),\n",
    "                             ('svc', LinearSVC(C=10.0, dual=False, loss=\"squared_hinge\", penalty=\"l2\", tol=0.01))\n",
    "                             ])\n"
   ]
  },
  {
   "cell_type": "code",
   "execution_count": 10,
   "metadata": {},
   "outputs": [
    {
     "name": "stderr",
     "output_type": "stream",
     "text": [
      "/Users/matthewupson/.pyenv/versions/3.4.6/lib/python3.4/site-packages/sklearn/feature_selection/univariate_selection.py:114: RuntimeWarning: divide by zero encountered in true_divide\n",
      "  f = msb / msw\n"
     ]
    },
    {
     "data": {
      "text/plain": [
       "Pipeline(memory=None,\n",
       "     steps=[('vect', CountVectorizer(analyzer='word', binary=False, decode_error='strict',\n",
       "        dtype=<class 'numpy.int64'>, encoding='utf-8', input='content',\n",
       "        lowercase=True, max_df=1.0, max_features=None, min_df=1,\n",
       "        ngram_range=(1, 1), preprocessor=None, stop_words=None,\n",
       "        strip... max_iter=1000,\n",
       "     multi_class='ovr', penalty='l2', random_state=None, tol=0.01,\n",
       "     verbose=0))])"
      ]
     },
     "execution_count": 10,
     "metadata": {},
     "output_type": "execute_result"
    }
   ],
   "source": [
    "svc_clf.fit(X_train, y_train)"
   ]
  },
  {
   "cell_type": "code",
   "execution_count": 11,
   "metadata": {},
   "outputs": [
    {
     "name": "stdout",
     "output_type": "stream",
     "text": [
      "SVM correct prediction: 0.67\n"
     ]
    }
   ],
   "source": [
    "\"\"\" Predict the test dataset using SVM\"\"\"\n",
    "predicted_svm = svc_clf.predict(X_test)\n",
    "print('SVM correct prediction: {:4.2f}'.format(np.mean(predicted_svm == y_test)))"
   ]
  },
  {
   "cell_type": "code",
   "execution_count": 12,
   "metadata": {},
   "outputs": [
    {
     "name": "stdout",
     "output_type": "stream",
     "text": [
      "                                                                        precision    recall  f1-score   support\n",
      "\n",
      "                                         Administrative justice reform       0.33      1.00      0.50         2\n",
      "                                     Adoption, fostering and surrogacy       0.71      0.62      0.67        16\n",
      "                                                 Armed Forces Covenant       0.00      0.00      0.00         1\n",
      "                                                          Armed forces       0.00      0.00      0.00         3\n",
      "                           Armed forces and Ministry of Defence reform       0.00      0.00      0.00         4\n",
      "                         Armed forces support for activities in the UK       0.00      0.00      0.00         1\n",
      "                                                      Arts and culture       0.66      0.77      0.71       361\n",
      "                                        Assessing environmental impact       0.00      0.00      0.00         1\n",
      "                                                                Asylum       0.78      0.64      0.70        11\n",
      "                     Attorney General guidance to the legal profession       0.50      0.50      0.50         2\n",
      "                                                              Aviation       0.56      0.28      0.37        18\n",
      "                                                  Benefits entitlement       0.67      0.29      0.40         7\n",
      "                                                 Benefits for families       0.00      0.00      0.00         2\n",
      "                                           Biodiversity and ecosystems       0.41      0.36      0.39        66\n",
      "                                                                Brexit       0.64      0.56      0.60        50\n",
      "                                                     Brexit and the EU       0.33      0.50      0.40         2\n",
      "                                            British nationals overseas       0.66      0.78      0.72       310\n",
      "                                               Business and enterprise       0.66      0.70      0.68      1906\n",
      "                                          Business and the environment       0.48      0.23      0.31       190\n",
      "                                                          Business tax       0.60      0.66      0.63       255\n",
      "                                        Carers and disability benefits       1.00      0.17      0.29         6\n",
      "             Certificates, register offices, changes of name or gender       1.00      0.14      0.25         7\n",
      "                                   Charities, volunteering and honours       0.50      0.33      0.40         6\n",
      "                                                         Child Benefit       0.44      0.70      0.54        10\n",
      "                                              Child maintenance reform       0.50      0.50      0.50         2\n",
      "                                             Childcare and early years       0.77      0.67      0.71        30\n",
      "                                         Children's health and welfare       0.00      0.00      0.00         3\n",
      "                                                  Civil service reform       0.50      0.50      0.50         2\n",
      "                                             Climate change and energy       0.71      0.78      0.75       966\n",
      "                                      Commercial fishing and fisheries       0.57      0.76      0.65        21\n",
      "                                                 Community and society       0.63      0.57      0.60       750\n",
      "                                                Constitutional affairs       0.56      0.55      0.56        40\n",
      "                                            Consumer rights and issues       0.66      0.38      0.48       126\n",
      "                                                Content and publishing       0.00      0.00      0.00         2\n",
      "                                     Court claims, debt and bankruptcy       1.00      0.50      0.67         2\n",
      "                                      Courts, sentencing and tribunals       0.20      0.20      0.20         5\n",
      "                                                      Crime prevention       0.46      0.36      0.40        53\n",
      "                                               Criminal justice reform       0.30      0.50      0.37         6\n",
      "                                                        Cyber security       0.00      0.00      0.00         1\n",
      "                                                     Dealing with HMRC       0.65      0.64      0.64       309\n",
      "                                                 Death and bereavement       1.00      0.20      0.33         5\n",
      "                                                     Deficit reduction       0.00      0.00      0.00         2\n",
      "                                                            Devolution       0.00      0.00      0.00         0\n",
      "                                                       Disabled people       0.00      0.00      0.00         0\n",
      "                                  Divorce, separation and legal issues       0.00      0.00      0.00         3\n",
      "                                                     Domestic violence       0.00      0.00      0.00         1\n",
      "                                            Driving and road transport       0.80      0.77      0.78       191\n",
      "                                   Education of disadvantaged children       0.18      0.10      0.13        20\n",
      "                          Emergency preparation, response and recovery       0.38      0.15      0.22       110\n",
      "                                                      Employing people       0.38      0.38      0.38        16\n",
      "                                                      End of life care       0.00      0.00      0.00         1\n",
      "                                                 Environmental permits       1.00      1.00      1.00         1\n",
      "                                                 Environmental quality       0.62      0.29      0.39       101\n",
      "                                      Equality, rights and citizenship       0.64      0.50      0.56       265\n",
      "                                    European Union laws and regulation       0.00      0.00      0.00         1\n",
      "                                                        European funds       0.00      0.00      0.00         2\n",
      "                                        Expenses and employee benefits       0.00      0.00      0.00         2\n",
      "                                                 Family justice system       0.86      0.75      0.80         8\n",
      "                                   Financial help if you have children       0.62      0.71      0.67         7\n",
      "                                                    Financial services       0.62      0.58      0.60       133\n",
      "                                            Fire prevention and rescue       0.82      0.93      0.87        74\n",
      "                                           Flooding and coastal change       0.82      0.90      0.86       182\n",
      "                                                      Food and farming       0.67      0.75      0.71       604\n",
      "                                                       Forced marriage       0.00      0.00      0.00         0\n",
      "                                                       Foreign affairs       0.50      0.48      0.49       319\n",
      "                                                     Freight and cargo       0.62      0.26      0.37        19\n",
      "                                      Funding and finance for students       0.69      0.69      0.69        13\n",
      "          Further and higher education, skills and vocational training       0.80      0.81      0.81       351\n",
      "                Government efficiency, transparency and accountability       0.66      0.76      0.71      1749\n",
      "                                                   Government spending       0.63      0.49      0.55       362\n",
      "                                Having a child, parenting and adoption       1.00      1.00      1.00         1\n",
      "                                                     Health protection       0.00      0.00      0.00         1\n",
      "                                          Heating and housing benefits       0.00      0.00      0.00         3\n",
      "                                                               Housing       0.66      0.61      0.63       418\n",
      "                                         Housing planning and building       0.72      0.71      0.72       492\n",
      "                                     Immigration rules and enforcement       0.50      0.56      0.53         9\n",
      "                    Inspections and performance of education providers       0.78      0.71      0.74       219\n",
      "                                     International aid and development       0.77      0.78      0.77       636\n",
      "                                     International defence commitments       0.51      0.34      0.41        56\n",
      "                         Jobseeker's Allowance and low income benefits       0.00      0.00      0.00         2\n",
      "                                           Justice system transparency       0.56      0.44      0.49        32\n",
      "                                             Knife, gun and gang crime       0.91      0.77      0.83        13\n",
      "                                                  Labour market reform       0.57      0.66      0.61        70\n",
      "                                                       Land management       0.00      0.00      0.00         1\n",
      "                                                     Land registration       0.00      0.00      0.00         1\n",
      "   Lasting power of attorney, being in care and your financial affairs       0.75      0.60      0.67         5\n",
      "                                                             Legal aid       0.80      0.80      0.80        30\n",
      "                                                      Legal aid reform       0.71      0.56      0.63         9\n",
      "                                                   Legislative process       0.00      0.00      0.00         1\n",
      "                            Living in the UK, government and democracy       0.00      0.00      0.00         2\n",
      "                                           Local councils and services       0.67      0.25      0.36         8\n",
      "                                                      Local government       0.66      0.69      0.67       240\n",
      "                                             Local government spending       0.61      0.60      0.60        80\n",
      "                                                       Local transport       0.00      0.00      0.00         5\n",
      "                                                              Localism       0.00      0.00      0.00         5\n",
      "                                              Major project management       0.66      0.66      0.66        29\n",
      "                                                                Marine       0.61      0.58      0.59        78\n",
      "                                                              Maritime       0.70      0.80      0.75       147\n",
      "                               Marriage, civil partnership and divorce       1.00      0.50      0.67         2\n",
      "                                              Media and communications       0.63      0.55      0.59       232\n",
      "                                    Military awards and commemorations       0.50      0.50      0.50         2\n",
      "                          Military equipment, logistics and technology       0.00      0.00      0.00         5\n",
      "                         Military recruitment, training and operations       0.75      0.33      0.46         9\n",
      "                                            Ministry of Defence estate       0.00      0.00      0.00         1\n",
      "                                          Money laundering regulations       0.67      0.80      0.73         5\n",
      "                                               National Health Service       0.74      0.79      0.77       671\n",
      "                                        National events and ceremonies       0.43      0.19      0.26        16\n",
      "                                                     National security       0.65      0.79      0.71       908\n",
      "                                                      Northern Ireland       0.70      0.82      0.76       169\n",
      "                                                           Oil and gas       1.00      0.29      0.44         7\n",
      "                                                             Passports       0.00      0.00      0.00         4\n",
      "                  Passports and travel documents for foreign nationals       0.50      0.20      0.29         5\n",
      "                                           Pensions and ageing society       0.75      0.80      0.77       123\n",
      "                                              Permanent stay in the UK       1.00      0.33      0.50         6\n",
      "                                                          Personal tax       0.63      0.65      0.64       177\n",
      "                                                              Policing       0.74      0.83      0.79       119\n",
      "                                                 Postal service reform       0.00      0.00      0.00         3\n",
      "                                                   Pregnancy and birth       0.00      0.00      0.00         1\n",
      "                                                 Prisons and probation       0.75      0.75      0.75         4\n",
      "                                                         Public health       0.77      0.83      0.80      1153\n",
      "                                                       Public services       0.00      0.00      0.00         2\n",
      "                             Pupil wellbeing, behaviour and attendance       0.75      0.60      0.67        65\n",
      "                                                                  Rail       0.34      0.14      0.20        71\n",
      "                                                     Regulation reform       0.52      0.19      0.28        63\n",
      "                                        Reoffending and rehabilitation       0.70      0.66      0.68        32\n",
      "                             Reporting crimes and getting compensation       0.14      0.20      0.17         5\n",
      "                                                   Road infrastructure       0.27      0.10      0.15        29\n",
      "                                         Running and managing a school       0.69      0.73      0.71       192\n",
      "                                                 Rural and countryside       0.73      0.59      0.65       240\n",
      "                             Safeguarding and social care for children       0.55      0.48      0.51        60\n",
      "                 School and academy financial management and assurance       0.67      0.67      0.67        21\n",
      "                                            School and academy funding       0.65      0.61      0.63        90\n",
      "                                                     School curriculum       0.79      0.90      0.84       321\n",
      "                                                Science and innovation       0.63      0.57      0.60       453\n",
      "                                                              Scotland       0.73      0.69      0.71       164\n",
      "                                                       Self-employment       0.14      0.20      0.17         5\n",
      "                                                     Sentencing reform       0.00      0.00      0.00         1\n",
      "                                                           Social care       0.65      0.44      0.53       124\n",
      "        Special educational needs and disability (SEND) and high needs       0.82      0.78      0.80        41\n",
      "                                                    Sports and leisure       0.56      0.56      0.56       145\n",
      "                                         Starting and attending school       1.00      0.40      0.57         5\n",
      "Support services for military and defence personnel and their families       0.12      0.17      0.14         6\n",
      "                      Support services for veterans and their families       0.92      1.00      0.96        11\n",
      "                                               Sustainable development       0.00      0.00      0.00         5\n",
      "                                                           Tax credits       0.60      0.43      0.50         7\n",
      "                                             Tax evasion and avoidance       0.69      0.64      0.67        42\n",
      "                                               Teaching and leadership       0.86      0.85      0.85       224\n",
      "                                                               Tourism       0.57      0.20      0.30        20\n",
      "                                                  Trade and investment       0.72      0.67      0.70       732\n",
      "                                  Transport accessibility and mobility       0.57      0.67      0.62         6\n",
      "                                  Transport corporate and transparency       0.77      0.66      0.71        80\n",
      "                                     Transport modelling and appraisal       0.50      0.75      0.60         4\n",
      "                                                    Transport planning       1.00      0.17      0.29         6\n",
      "                                     Transport research and evaluation       0.00      0.00      0.00         1\n",
      "                                                    Transport security       0.00      0.00      0.00         2\n",
      "                                                  Transport statistics       0.75      0.84      0.79       147\n",
      "                                                         Travel abroad       0.00      0.00      0.00         3\n",
      "                                                     UK border control       0.00      0.00      0.00         2\n",
      "                                                            UK economy       0.60      0.61      0.61      2077\n",
      "                                                  UK nuclear deterrent       1.00      0.50      0.67         2\n",
      "            UK prosperity and security: Asia, Latin America and Africa       0.00      0.00      0.00         5\n",
      "                                                      Victims of crime       0.56      0.53      0.55        17\n",
      "                                      Violence against women and girls       0.69      0.69      0.69        48\n",
      "                                                                 Visas       0.77      0.56      0.65        18\n",
      "                                                                Voting       0.50      0.50      0.50         2\n",
      "                                                                 Wales       0.67      0.71      0.69       236\n",
      "                                                   Waste and recycling       0.58      0.68      0.63       108\n",
      "                                                        Water industry       0.50      0.57      0.53        40\n",
      "                                          What you can bring to the UK       0.00      0.00      0.00         1\n",
      "                                           Wildlife and animal welfare       0.59      0.45      0.51       208\n",
      "                                            Working, jobs and pensions       0.67      0.30      0.41        27\n",
      "                                              Young people and the law       0.00      0.00      0.00         6\n",
      "                                               Your rights and the law       1.00      0.20      0.33         5\n",
      "                                    Youth employment and social issues       0.00      0.00      0.00         3\n",
      "                                                          world_level1       0.74      0.68      0.71       268\n",
      "\n",
      "                                                           avg / total       0.67      0.67      0.67     22810\n",
      "\n"
     ]
    },
    {
     "name": "stderr",
     "output_type": "stream",
     "text": [
      "/Users/matthewupson/.pyenv/versions/3.4.6/lib/python3.4/site-packages/sklearn/metrics/classification.py:1135: UndefinedMetricWarning: Precision and F-score are ill-defined and being set to 0.0 in labels with no predicted samples.\n",
      "  'precision', 'predicted', average, warn_for)\n",
      "/Users/matthewupson/.pyenv/versions/3.4.6/lib/python3.4/site-packages/sklearn/metrics/classification.py:1137: UndefinedMetricWarning: Recall and F-score are ill-defined and being set to 0.0 in labels with no true samples.\n",
      "  'recall', 'true', average, warn_for)\n"
     ]
    }
   ],
   "source": [
    "print(classification_report(y_test, predicted_svm))\n"
   ]
  },
  {
   "cell_type": "markdown",
   "metadata": {},
   "source": [
    "## Metadata classifier"
   ]
  },
  {
   "cell_type": "code",
   "execution_count": 13,
   "metadata": {},
   "outputs": [
    {
     "data": {
      "text/plain": [
       "Index(['base_path', 'content_id', 'description', 'details', 'document_type',\n",
       "       'first_published_at', 'locale', 'primary_publishing_organisation',\n",
       "       'publishing_app', 'title', 'document_type_gp', 'body', 'combined_text',\n",
       "       'taxon_id', 'taxon_base_path', 'taxon_name', 'level1taxon',\n",
       "       'level2taxon', 'level3taxon', 'level4taxon', 'level5taxon'],\n",
       "      dtype='object')"
      ]
     },
     "execution_count": 13,
     "metadata": {},
     "output_type": "execute_result"
    }
   ],
   "source": [
    "labelled_level2.columns"
   ]
  },
  {
   "cell_type": "code",
   "execution_count": 14,
   "metadata": {},
   "outputs": [],
   "source": [
    "metadata = labelled_level2.filter(['document_type', 'primary_publishing organisation', 'publishing_app', 'document_type_gp', 'locale'], axis=1)"
   ]
  },
  {
   "cell_type": "code",
   "execution_count": 15,
   "metadata": {},
   "outputs": [
    {
     "data": {
      "text/plain": [
       "Index(['document_type', 'publishing_app', 'document_type_gp', 'locale'], dtype='object')"
      ]
     },
     "execution_count": 15,
     "metadata": {},
     "output_type": "execute_result"
    }
   ],
   "source": [
    "metadata.columns"
   ]
  },
  {
   "cell_type": "code",
   "execution_count": 17,
   "metadata": {},
   "outputs": [],
   "source": [
    "document_type_encoder = LabelEncoder()\n",
    "publishing_app = LabelEncoder()\n",
    "document_type_gp_encoder = LabelEncoder()\n",
    "locale_encoder = LabelEncoder()\n",
    "\n",
    "metadata['document_type'] = document_type_encoder.fit_transform(metadata['document_type'])\n",
    "metadata['publishing_app'] = document_type_encoder.fit_transform(metadata['publishing_app'])\n",
    "metadata['document_type_gp'] = document_type_encoder.fit_transform(metadata['document_type_gp'])\n",
    "metadata['locale'] = document_type_encoder.fit_transform(metadata['locale'])\n",
    "\n",
    "X_train, X_test, y_train, y_test = train_test_split(\n",
    "    metadata, labelled_level2['level2taxon'], test_size = 0.2, random_state=1337)"
   ]
  },
  {
   "cell_type": "code",
   "execution_count": 18,
   "metadata": {},
   "outputs": [
    {
     "data": {
      "text/plain": [
       "AdaBoostClassifier(algorithm='SAMME.R', base_estimator=None,\n",
       "          learning_rate=1.0, n_estimators=50, random_state=None)"
      ]
     },
     "execution_count": 18,
     "metadata": {},
     "output_type": "execute_result"
    }
   ],
   "source": [
    "ada_clf = AdaBoostClassifier()\n",
    "\n",
    "ada_clf.fit(X_train, y_train)"
   ]
  },
  {
   "cell_type": "code",
   "execution_count": 19,
   "metadata": {},
   "outputs": [],
   "source": [
    "predicted_ada = ada_clf.predict(X_test)"
   ]
  },
  {
   "cell_type": "code",
   "execution_count": 21,
   "metadata": {},
   "outputs": [
    {
     "name": "stdout",
     "output_type": "stream",
     "text": [
      "Adaboost correct prediction: 0.13\n"
     ]
    }
   ],
   "source": [
    "print('Adaboost correct prediction: {:4.2f}'.format(np.mean(predicted_ada == y_test)))"
   ]
  },
  {
   "cell_type": "code",
   "execution_count": 22,
   "metadata": {},
   "outputs": [
    {
     "name": "stdout",
     "output_type": "stream",
     "text": [
      "                                                                        precision    recall  f1-score   support\n",
      "\n",
      "                                         Administrative justice reform       0.00      0.00      0.00         2\n",
      "                                     Adoption, fostering and surrogacy       0.00      0.00      0.00        16\n",
      "                                                 Armed Forces Covenant       0.00      0.00      0.00         1\n",
      "                                                          Armed forces       0.00      0.00      0.00         3\n",
      "                           Armed forces and Ministry of Defence reform       0.00      0.00      0.00         4\n",
      "                         Armed forces support for activities in the UK       0.00      0.00      0.00         1\n",
      "                                                      Arts and culture       0.00      0.00      0.00       361\n",
      "                                        Assessing environmental impact       0.00      0.00      0.00         1\n",
      "                                                                Asylum       0.00      0.00      0.00        11\n",
      "                     Attorney General guidance to the legal profession       0.00      0.00      0.00         2\n",
      "                                                              Aviation       0.00      0.00      0.00        18\n",
      "                                                  Benefits entitlement       0.00      0.00      0.00         7\n",
      "                                                 Benefits for families       0.00      0.00      0.00         2\n",
      "                                           Biodiversity and ecosystems       0.00      0.00      0.00        66\n",
      "                                                                Brexit       0.00      0.00      0.00        50\n",
      "                                                     Brexit and the EU       0.00      0.00      0.00         2\n",
      "                                            British nationals overseas       0.00      0.00      0.00       310\n",
      "                                               Business and enterprise       0.10      0.04      0.05      1906\n",
      "                                          Business and the environment       0.00      0.00      0.00       190\n",
      "                                                          Business tax       0.00      0.00      0.00       255\n",
      "                                        Carers and disability benefits       0.00      0.00      0.00         6\n",
      "             Certificates, register offices, changes of name or gender       0.00      0.00      0.00         7\n",
      "                                   Charities, volunteering and honours       0.00      0.00      0.00         6\n",
      "                                                         Child Benefit       0.00      0.00      0.00        10\n",
      "                                              Child maintenance reform       0.00      0.00      0.00         2\n",
      "                                             Childcare and early years       0.00      0.00      0.00        30\n",
      "                                         Children's health and welfare       0.00      0.00      0.00         3\n",
      "                                                  Civil service reform       0.00      0.00      0.00         2\n",
      "                                             Climate change and energy       0.00      0.00      0.00       966\n",
      "                                      Commercial fishing and fisheries       0.00      0.00      0.00        21\n",
      "                                                 Community and society       0.00      0.00      0.00       750\n",
      "                                                Constitutional affairs       0.00      0.00      0.00        40\n",
      "                                            Consumer rights and issues       0.00      0.00      0.00       126\n",
      "                                                Content and publishing       0.00      0.00      0.00         2\n",
      "                                     Court claims, debt and bankruptcy       0.00      0.00      0.00         2\n",
      "                                      Courts, sentencing and tribunals       0.00      0.00      0.00         5\n",
      "                                                      Crime prevention       0.00      0.00      0.00        53\n",
      "                                               Criminal justice reform       0.00      0.00      0.00         6\n",
      "                                                        Cyber security       0.00      0.00      0.00         1\n",
      "                                                     Dealing with HMRC       0.00      0.00      0.00       309\n",
      "                                                 Death and bereavement       0.00      0.00      0.00         5\n",
      "                                                     Deficit reduction       0.00      0.00      0.00         2\n",
      "                                  Divorce, separation and legal issues       0.00      0.00      0.00         3\n",
      "                                                     Domestic violence       0.00      0.00      0.00         1\n",
      "                                            Driving and road transport       0.00      0.00      0.00       191\n",
      "                                   Education of disadvantaged children       0.00      0.00      0.00        20\n",
      "                          Emergency preparation, response and recovery       0.00      0.00      0.00       110\n",
      "                                                      Employing people       0.06      0.81      0.10        16\n",
      "                                                      End of life care       0.00      0.00      0.00         1\n",
      "                                                 Environmental permits       0.00      0.00      0.00         1\n",
      "                                                 Environmental quality       0.00      0.00      0.00       101\n",
      "                                      Equality, rights and citizenship       0.00      0.00      0.00       265\n",
      "                                    European Union laws and regulation       0.00      0.00      0.00         1\n",
      "                                                        European funds       0.00      0.00      0.00         2\n",
      "                                        Expenses and employee benefits       0.00      0.00      0.00         2\n",
      "                                                 Family justice system       0.00      0.00      0.00         8\n",
      "                                   Financial help if you have children       0.01      0.14      0.02         7\n",
      "                                                    Financial services       0.00      0.00      0.00       133\n",
      "                                            Fire prevention and rescue       0.00      0.00      0.00        74\n",
      "                                           Flooding and coastal change       0.00      0.00      0.00       182\n",
      "                                                      Food and farming       0.00      0.00      0.00       604\n",
      "                                                       Foreign affairs       0.00      0.00      0.00       319\n",
      "                                                     Freight and cargo       0.00      0.00      0.00        19\n",
      "                                      Funding and finance for students       0.00      0.00      0.00        13\n",
      "          Further and higher education, skills and vocational training       0.00      0.00      0.00       351\n",
      "                Government efficiency, transparency and accountability       0.24      0.63      0.35      1749\n",
      "                                                   Government spending       0.00      0.00      0.00       362\n",
      "                                Having a child, parenting and adoption       0.00      0.00      0.00         1\n",
      "                                                     Health protection       0.00      0.00      0.00         1\n",
      "                                          Heating and housing benefits       0.00      0.00      0.00         3\n",
      "                                                               Housing       0.00      0.00      0.00       418\n",
      "                                         Housing planning and building       0.00      0.00      0.00       492\n",
      "                                     Immigration rules and enforcement       0.00      0.00      0.00         9\n",
      "                    Inspections and performance of education providers       0.00      0.00      0.00       219\n",
      "                                     International aid and development       0.00      0.00      0.00       636\n",
      "                                     International defence commitments       0.00      0.00      0.00        56\n",
      "                         Jobseeker's Allowance and low income benefits       0.00      0.00      0.00         2\n",
      "                                           Justice system transparency       0.00      0.00      0.00        32\n",
      "                                             Knife, gun and gang crime       0.00      0.00      0.00        13\n",
      "                                                  Labour market reform       0.00      0.00      0.00        70\n",
      "                                                       Land management       0.00      0.00      0.00         1\n",
      "                                                     Land registration       0.00      0.00      0.00         1\n",
      "   Lasting power of attorney, being in care and your financial affairs       0.00      0.00      0.00         5\n",
      "                                                             Legal aid       0.00      0.00      0.00        30\n",
      "                                                      Legal aid reform       0.00      0.00      0.00         9\n",
      "                                                   Legislative process       0.00      0.00      0.00         1\n",
      "                            Living in the UK, government and democracy       0.00      0.00      0.00         2\n",
      "                                           Local councils and services       0.00      0.00      0.00         8\n",
      "                                                      Local government       0.00      0.00      0.00       240\n",
      "                                             Local government spending       0.00      0.00      0.00        80\n",
      "                                                       Local transport       0.00      0.00      0.00         5\n",
      "                                                              Localism       0.00      0.00      0.00         5\n",
      "                                              Major project management       0.00      0.00      0.00        29\n",
      "                                                                Marine       0.00      0.00      0.00        78\n",
      "                                                              Maritime       0.00      0.00      0.00       147\n",
      "                               Marriage, civil partnership and divorce       0.00      0.00      0.00         2\n",
      "                                              Media and communications       0.00      0.00      0.00       232\n",
      "                                    Military awards and commemorations       0.00      0.00      0.00         2\n",
      "                          Military equipment, logistics and technology       0.00      0.00      0.00         5\n",
      "                         Military recruitment, training and operations       0.00      0.00      0.00         9\n",
      "                                            Ministry of Defence estate       0.00      0.00      0.00         1\n",
      "                                          Money laundering regulations       0.00      0.00      0.00         5\n",
      "                                               National Health Service       0.00      0.00      0.00       671\n",
      "                                        National events and ceremonies       0.00      0.00      0.00        16\n",
      "                                                     National security       0.00      0.00      0.00       908\n",
      "                                                      Northern Ireland       0.00      0.00      0.00       169\n",
      "                                                           Oil and gas       0.00      0.00      0.00         7\n",
      "                                                             Passports       0.00      0.00      0.00         4\n",
      "                  Passports and travel documents for foreign nationals       0.00      0.00      0.00         5\n",
      "                                           Pensions and ageing society       0.00      0.00      0.00       123\n",
      "                                              Permanent stay in the UK       0.00      0.00      0.00         6\n",
      "                                                          Personal tax       0.00      0.00      0.00       177\n",
      "                                                              Policing       0.00      0.00      0.00       119\n",
      "                                                 Postal service reform       0.00      0.00      0.00         3\n",
      "                                                   Pregnancy and birth       0.00      0.00      0.00         1\n",
      "                                                 Prisons and probation       0.00      0.00      0.00         4\n",
      "                                                         Public health       0.00      0.00      0.00      1153\n",
      "                                                       Public services       0.00      0.00      0.00         2\n",
      "                             Pupil wellbeing, behaviour and attendance       0.00      0.00      0.00        65\n",
      "                                                                  Rail       0.00      0.00      0.00        71\n",
      "                                                     Regulation reform       0.00      0.00      0.00        63\n",
      "                                        Reoffending and rehabilitation       0.00      0.00      0.00        32\n",
      "                             Reporting crimes and getting compensation       0.00      0.00      0.00         5\n",
      "                                                   Road infrastructure       0.00      0.00      0.00        29\n",
      "                                         Running and managing a school       0.00      0.00      0.00       192\n",
      "                                                 Rural and countryside       0.00      0.00      0.00       240\n",
      "                             Safeguarding and social care for children       0.00      0.00      0.00        60\n",
      "                 School and academy financial management and assurance       0.00      0.00      0.00        21\n",
      "                                            School and academy funding       0.00      0.00      0.00        90\n",
      "                                                     School curriculum       0.00      0.00      0.00       321\n",
      "                                                Science and innovation       0.00      0.00      0.00       453\n",
      "                                                              Scotland       0.00      0.00      0.00       164\n",
      "                                                       Self-employment       0.00      0.00      0.00         5\n",
      "                                                     Sentencing reform       0.00      0.00      0.00         1\n",
      "                                                           Social care       0.00      0.00      0.00       124\n",
      "        Special educational needs and disability (SEND) and high needs       0.00      0.00      0.00        41\n",
      "                                                    Sports and leisure       0.00      0.00      0.00       145\n",
      "                                         Starting and attending school       0.00      0.00      0.00         5\n",
      "Support services for military and defence personnel and their families       0.00      0.00      0.00         6\n",
      "                      Support services for veterans and their families       0.00      0.00      0.00        11\n",
      "                                               Sustainable development       0.00      0.00      0.00         5\n",
      "                                                           Tax credits       0.00      0.00      0.00         7\n",
      "                                             Tax evasion and avoidance       0.00      0.00      0.00        42\n",
      "                                               Teaching and leadership       0.00      0.00      0.00       224\n",
      "                                                               Tourism       0.00      0.00      0.00        20\n",
      "                                                  Trade and investment       0.00      0.00      0.00       732\n",
      "                                  Transport accessibility and mobility       0.00      0.00      0.00         6\n",
      "                                  Transport corporate and transparency       0.00      0.00      0.00        80\n",
      "                                     Transport modelling and appraisal       0.00      0.00      0.00         4\n",
      "                                                    Transport planning       0.00      0.00      0.00         6\n",
      "                                     Transport research and evaluation       0.00      0.00      0.00         1\n",
      "                                                    Transport security       0.00      0.00      0.00         2\n",
      "                                                  Transport statistics       0.00      0.00      0.00       147\n",
      "                                                         Travel abroad       0.00      0.00      0.00         3\n",
      "                                                     UK border control       0.00      0.00      0.00         2\n",
      "                                                            UK economy       0.10      0.81      0.18      2077\n",
      "                                                  UK nuclear deterrent       0.00      0.00      0.00         2\n",
      "            UK prosperity and security: Asia, Latin America and Africa       0.00      0.00      0.00         5\n",
      "                                                      Victims of crime       0.00      0.00      0.00        17\n",
      "                                      Violence against women and girls       0.00      0.00      0.00        48\n",
      "                                                                 Visas       0.00      0.00      0.00        18\n",
      "                                                                Voting       0.00      0.00      0.00         2\n",
      "                                                                 Wales       0.00      0.00      0.00       236\n",
      "                                                   Waste and recycling       0.00      0.00      0.00       108\n",
      "                                                        Water industry       0.00      0.00      0.00        40\n",
      "                                          What you can bring to the UK       0.00      0.00      0.00         1\n",
      "                                           Wildlife and animal welfare       0.00      0.00      0.00       208\n",
      "                                            Working, jobs and pensions       0.00      0.00      0.00        27\n",
      "                                              Young people and the law       0.00      0.00      0.00         6\n",
      "                                               Your rights and the law       0.00      0.00      0.00         5\n",
      "                                    Youth employment and social issues       0.00      0.00      0.00         3\n",
      "                                                          world_level1       0.00      0.00      0.00       268\n",
      "\n",
      "                                                           avg / total       0.04      0.13      0.05     22810\n",
      "\n"
     ]
    },
    {
     "name": "stderr",
     "output_type": "stream",
     "text": [
      "/Users/matthewupson/.pyenv/versions/3.4.6/lib/python3.4/site-packages/sklearn/metrics/classification.py:1135: UndefinedMetricWarning: Precision and F-score are ill-defined and being set to 0.0 in labels with no predicted samples.\n",
      "  'precision', 'predicted', average, warn_for)\n"
     ]
    }
   ],
   "source": [
    "print(classification_report(y_test, predicted_ada))"
   ]
  },
  {
   "cell_type": "code",
   "execution_count": 23,
   "metadata": {},
   "outputs": [
    {
     "data": {
      "text/plain": [
       "RandomForestClassifier(bootstrap=True, class_weight=None, criterion='gini',\n",
       "            max_depth=None, max_features='auto', max_leaf_nodes=None,\n",
       "            min_impurity_decrease=0.0, min_impurity_split=None,\n",
       "            min_samples_leaf=1, min_samples_split=2,\n",
       "            min_weight_fraction_leaf=0.0, n_estimators=10, n_jobs=1,\n",
       "            oob_score=False, random_state=None, verbose=0,\n",
       "            warm_start=False)"
      ]
     },
     "execution_count": 23,
     "metadata": {},
     "output_type": "execute_result"
    }
   ],
   "source": [
    "from sklearn.ensemble import RandomForestClassifier\n",
    "\n",
    "rfo_clf = RandomForestClassifier()\n",
    "rfo_clf.fit(X_train, y_train)"
   ]
  },
  {
   "cell_type": "code",
   "execution_count": 24,
   "metadata": {},
   "outputs": [
    {
     "name": "stdout",
     "output_type": "stream",
     "text": [
      "Adaboost correct prediction: 0.19\n"
     ]
    }
   ],
   "source": [
    "predicted_rfo = rfo_clf.predict(X_test)\n",
    "print('Adaboost correct prediction: {:4.2f}'.format(np.mean(predicted_rfo == y_test)))"
   ]
  },
  {
   "cell_type": "code",
   "execution_count": 25,
   "metadata": {},
   "outputs": [
    {
     "name": "stdout",
     "output_type": "stream",
     "text": [
      "                                                                        precision    recall  f1-score   support\n",
      "\n",
      "                                         Administrative justice reform       0.00      0.00      0.00         2\n",
      "                                     Adoption, fostering and surrogacy       0.00      0.00      0.00        16\n",
      "                                                 Armed Forces Covenant       0.00      0.00      0.00         1\n",
      "                                                          Armed forces       0.00      0.00      0.00         3\n",
      "                           Armed forces and Ministry of Defence reform       0.00      0.00      0.00         4\n",
      "                         Armed forces support for activities in the UK       0.00      0.00      0.00         1\n",
      "                                                      Arts and culture       0.00      0.00      0.00       361\n",
      "                                        Assessing environmental impact       0.00      0.00      0.00         1\n",
      "                                                                Asylum       0.00      0.00      0.00        11\n",
      "                     Attorney General guidance to the legal profession       0.00      0.00      0.00         2\n",
      "                                                              Aviation       0.00      0.00      0.00        18\n",
      "                                                  Benefits entitlement       0.00      0.00      0.00         7\n",
      "                                                 Benefits for families       0.00      0.00      0.00         2\n",
      "                                           Biodiversity and ecosystems       0.00      0.00      0.00        66\n",
      "                                                                Brexit       0.00      0.00      0.00        50\n",
      "                                                     Brexit and the EU       0.00      0.00      0.00         2\n",
      "                                            British nationals overseas       0.00      0.00      0.00       310\n",
      "                                               Business and enterprise       0.10      0.04      0.05      1906\n",
      "                                          Business and the environment       0.00      0.00      0.00       190\n",
      "                                                          Business tax       0.00      0.00      0.00       255\n",
      "                                        Carers and disability benefits       0.00      0.00      0.00         6\n",
      "             Certificates, register offices, changes of name or gender       0.00      0.00      0.00         7\n",
      "                                   Charities, volunteering and honours       0.00      0.00      0.00         6\n",
      "                                                         Child Benefit       0.00      0.00      0.00        10\n",
      "                                              Child maintenance reform       0.00      0.00      0.00         2\n",
      "                                             Childcare and early years       0.00      0.00      0.00        30\n",
      "                                         Children's health and welfare       0.00      0.00      0.00         3\n",
      "                                                  Civil service reform       0.00      0.00      0.00         2\n",
      "                                             Climate change and energy       0.00      0.00      0.00       966\n",
      "                                      Commercial fishing and fisheries       0.00      0.00      0.00        21\n",
      "                                                 Community and society       0.00      0.00      0.00       750\n",
      "                                                Constitutional affairs       0.00      0.00      0.00        40\n",
      "                                            Consumer rights and issues       0.00      0.00      0.00       126\n",
      "                                                Content and publishing       0.00      0.00      0.00         2\n",
      "                                     Court claims, debt and bankruptcy       0.00      0.00      0.00         2\n",
      "                                      Courts, sentencing and tribunals       0.00      0.00      0.00         5\n",
      "                                                      Crime prevention       0.00      0.00      0.00        53\n",
      "                                               Criminal justice reform       0.00      0.00      0.00         6\n",
      "                                                        Cyber security       0.00      0.00      0.00         1\n",
      "                                                     Dealing with HMRC       0.00      0.00      0.00       309\n",
      "                                                 Death and bereavement       0.00      0.00      0.00         5\n",
      "                                                     Deficit reduction       0.00      0.00      0.00         2\n",
      "                                  Divorce, separation and legal issues       0.00      0.00      0.00         3\n",
      "                                                     Domestic violence       0.00      0.00      0.00         1\n",
      "                                            Driving and road transport       0.00      0.00      0.00       191\n",
      "                                   Education of disadvantaged children       0.00      0.00      0.00        20\n",
      "                          Emergency preparation, response and recovery       0.00      0.00      0.00       110\n",
      "                                                      Employing people       0.06      0.81      0.10        16\n",
      "                                                      End of life care       0.00      0.00      0.00         1\n",
      "                                                 Environmental permits       0.00      0.00      0.00         1\n",
      "                                                 Environmental quality       0.00      0.00      0.00       101\n",
      "                                      Equality, rights and citizenship       0.00      0.00      0.00       265\n",
      "                                    European Union laws and regulation       0.00      0.00      0.00         1\n",
      "                                                        European funds       0.00      0.00      0.00         2\n",
      "                                        Expenses and employee benefits       0.00      0.00      0.00         2\n",
      "                                                 Family justice system       0.00      0.00      0.00         8\n",
      "                                   Financial help if you have children       0.01      0.14      0.02         7\n",
      "                                                    Financial services       0.00      0.00      0.00       133\n",
      "                                            Fire prevention and rescue       0.00      0.00      0.00        74\n",
      "                                           Flooding and coastal change       0.00      0.00      0.00       182\n",
      "                                                      Food and farming       0.00      0.00      0.00       604\n",
      "                                                       Foreign affairs       0.00      0.00      0.00       319\n",
      "                                                     Freight and cargo       0.00      0.00      0.00        19\n",
      "                                      Funding and finance for students       0.00      0.00      0.00        13\n",
      "          Further and higher education, skills and vocational training       0.00      0.00      0.00       351\n",
      "                Government efficiency, transparency and accountability       0.24      0.63      0.35      1749\n",
      "                                                   Government spending       0.00      0.00      0.00       362\n",
      "                                Having a child, parenting and adoption       0.00      0.00      0.00         1\n",
      "                                                     Health protection       0.00      0.00      0.00         1\n",
      "                                          Heating and housing benefits       0.00      0.00      0.00         3\n",
      "                                                               Housing       0.00      0.00      0.00       418\n",
      "                                         Housing planning and building       0.00      0.00      0.00       492\n",
      "                                     Immigration rules and enforcement       0.00      0.00      0.00         9\n",
      "                    Inspections and performance of education providers       0.00      0.00      0.00       219\n",
      "                                     International aid and development       0.00      0.00      0.00       636\n",
      "                                     International defence commitments       0.00      0.00      0.00        56\n",
      "                         Jobseeker's Allowance and low income benefits       0.00      0.00      0.00         2\n",
      "                                           Justice system transparency       0.00      0.00      0.00        32\n",
      "                                             Knife, gun and gang crime       0.00      0.00      0.00        13\n",
      "                                                  Labour market reform       0.00      0.00      0.00        70\n",
      "                                                       Land management       0.00      0.00      0.00         1\n",
      "                                                     Land registration       0.00      0.00      0.00         1\n",
      "   Lasting power of attorney, being in care and your financial affairs       0.00      0.00      0.00         5\n",
      "                                                             Legal aid       0.00      0.00      0.00        30\n",
      "                                                      Legal aid reform       0.00      0.00      0.00         9\n",
      "                                                   Legislative process       0.00      0.00      0.00         1\n",
      "                            Living in the UK, government and democracy       0.00      0.00      0.00         2\n",
      "                                           Local councils and services       0.00      0.00      0.00         8\n",
      "                                                      Local government       0.00      0.00      0.00       240\n",
      "                                             Local government spending       0.00      0.00      0.00        80\n",
      "                                                       Local transport       0.00      0.00      0.00         5\n",
      "                                                              Localism       0.00      0.00      0.00         5\n",
      "                                              Major project management       0.00      0.00      0.00        29\n",
      "                                                                Marine       0.00      0.00      0.00        78\n",
      "                                                              Maritime       0.00      0.00      0.00       147\n",
      "                               Marriage, civil partnership and divorce       0.00      0.00      0.00         2\n",
      "                                              Media and communications       0.00      0.00      0.00       232\n",
      "                                    Military awards and commemorations       0.00      0.00      0.00         2\n",
      "                          Military equipment, logistics and technology       0.00      0.00      0.00         5\n",
      "                         Military recruitment, training and operations       0.00      0.00      0.00         9\n",
      "                                            Ministry of Defence estate       0.00      0.00      0.00         1\n",
      "                                          Money laundering regulations       0.00      0.00      0.00         5\n",
      "                                               National Health Service       0.00      0.00      0.00       671\n",
      "                                        National events and ceremonies       0.00      0.00      0.00        16\n",
      "                                                     National security       0.00      0.00      0.00       908\n",
      "                                                      Northern Ireland       0.00      0.00      0.00       169\n",
      "                                                           Oil and gas       0.00      0.00      0.00         7\n",
      "                                                             Passports       0.00      0.00      0.00         4\n",
      "                  Passports and travel documents for foreign nationals       0.00      0.00      0.00         5\n",
      "                                           Pensions and ageing society       0.00      0.00      0.00       123\n",
      "                                              Permanent stay in the UK       0.00      0.00      0.00         6\n",
      "                                                          Personal tax       0.00      0.00      0.00       177\n",
      "                                                              Policing       0.00      0.00      0.00       119\n",
      "                                                 Postal service reform       0.00      0.00      0.00         3\n",
      "                                                   Pregnancy and birth       0.00      0.00      0.00         1\n",
      "                                                 Prisons and probation       0.00      0.00      0.00         4\n",
      "                                                         Public health       0.00      0.00      0.00      1153\n",
      "                                                       Public services       0.00      0.00      0.00         2\n",
      "                             Pupil wellbeing, behaviour and attendance       0.00      0.00      0.00        65\n",
      "                                                                  Rail       0.00      0.00      0.00        71\n",
      "                                                     Regulation reform       0.00      0.00      0.00        63\n",
      "                                        Reoffending and rehabilitation       0.00      0.00      0.00        32\n",
      "                             Reporting crimes and getting compensation       0.00      0.00      0.00         5\n",
      "                                                   Road infrastructure       0.00      0.00      0.00        29\n",
      "                                         Running and managing a school       0.00      0.00      0.00       192\n",
      "                                                 Rural and countryside       0.00      0.00      0.00       240\n",
      "                             Safeguarding and social care for children       0.00      0.00      0.00        60\n",
      "                 School and academy financial management and assurance       0.00      0.00      0.00        21\n",
      "                                            School and academy funding       0.00      0.00      0.00        90\n",
      "                                                     School curriculum       0.00      0.00      0.00       321\n",
      "                                                Science and innovation       0.00      0.00      0.00       453\n",
      "                                                              Scotland       0.00      0.00      0.00       164\n",
      "                                                       Self-employment       0.00      0.00      0.00         5\n",
      "                                                     Sentencing reform       0.00      0.00      0.00         1\n",
      "                                                           Social care       0.00      0.00      0.00       124\n",
      "        Special educational needs and disability (SEND) and high needs       0.00      0.00      0.00        41\n",
      "                                                    Sports and leisure       0.00      0.00      0.00       145\n",
      "                                         Starting and attending school       0.00      0.00      0.00         5\n",
      "Support services for military and defence personnel and their families       0.00      0.00      0.00         6\n",
      "                      Support services for veterans and their families       0.00      0.00      0.00        11\n",
      "                                               Sustainable development       0.00      0.00      0.00         5\n",
      "                                                           Tax credits       0.00      0.00      0.00         7\n",
      "                                             Tax evasion and avoidance       0.00      0.00      0.00        42\n",
      "                                               Teaching and leadership       0.00      0.00      0.00       224\n",
      "                                                               Tourism       0.00      0.00      0.00        20\n",
      "                                                  Trade and investment       0.00      0.00      0.00       732\n",
      "                                  Transport accessibility and mobility       0.00      0.00      0.00         6\n",
      "                                  Transport corporate and transparency       0.00      0.00      0.00        80\n",
      "                                     Transport modelling and appraisal       0.00      0.00      0.00         4\n",
      "                                                    Transport planning       0.00      0.00      0.00         6\n",
      "                                     Transport research and evaluation       0.00      0.00      0.00         1\n",
      "                                                    Transport security       0.00      0.00      0.00         2\n",
      "                                                  Transport statistics       0.00      0.00      0.00       147\n",
      "                                                         Travel abroad       0.00      0.00      0.00         3\n",
      "                                                     UK border control       0.00      0.00      0.00         2\n",
      "                                                            UK economy       0.10      0.81      0.18      2077\n",
      "                                                  UK nuclear deterrent       0.00      0.00      0.00         2\n",
      "            UK prosperity and security: Asia, Latin America and Africa       0.00      0.00      0.00         5\n",
      "                                                      Victims of crime       0.00      0.00      0.00        17\n",
      "                                      Violence against women and girls       0.00      0.00      0.00        48\n",
      "                                                                 Visas       0.00      0.00      0.00        18\n",
      "                                                                Voting       0.00      0.00      0.00         2\n",
      "                                                                 Wales       0.00      0.00      0.00       236\n",
      "                                                   Waste and recycling       0.00      0.00      0.00       108\n",
      "                                                        Water industry       0.00      0.00      0.00        40\n",
      "                                          What you can bring to the UK       0.00      0.00      0.00         1\n",
      "                                           Wildlife and animal welfare       0.00      0.00      0.00       208\n",
      "                                            Working, jobs and pensions       0.00      0.00      0.00        27\n",
      "                                              Young people and the law       0.00      0.00      0.00         6\n",
      "                                               Your rights and the law       0.00      0.00      0.00         5\n",
      "                                    Youth employment and social issues       0.00      0.00      0.00         3\n",
      "                                                          world_level1       0.00      0.00      0.00       268\n",
      "\n",
      "                                                           avg / total       0.04      0.13      0.05     22810\n",
      "\n"
     ]
    },
    {
     "name": "stderr",
     "output_type": "stream",
     "text": [
      "/Users/matthewupson/.pyenv/versions/3.4.6/lib/python3.4/site-packages/sklearn/metrics/classification.py:1135: UndefinedMetricWarning: Precision and F-score are ill-defined and being set to 0.0 in labels with no predicted samples.\n",
      "  'precision', 'predicted', average, warn_for)\n"
     ]
    }
   ],
   "source": [
    "print(classification_report(y_test, predicted_ada))"
   ]
  },
  {
   "cell_type": "code",
   "execution_count": 26,
   "metadata": {},
   "outputs": [],
   "source": [
    "from sklearn.linear_model import LogisticRegression"
   ]
  },
  {
   "cell_type": "code",
   "execution_count": 27,
   "metadata": {},
   "outputs": [],
   "source": [
    "predicted_rfo = rfo_clf.predict_proba(X_test)\n",
    "predicted_ada = ada_clf.predict_proba(X_test)"
   ]
  },
  {
   "cell_type": "code",
   "execution_count": 28,
   "metadata": {},
   "outputs": [],
   "source": [
    "blended = pd.DataFrame(np.c_[\n",
    "    predicted_rfo, predicted_ada\n",
    "])"
   ]
  },
  {
   "cell_type": "code",
   "execution_count": 29,
   "metadata": {},
   "outputs": [
    {
     "data": {
      "text/plain": [
       "LogisticRegression(C=1.0, class_weight=None, dual=False, fit_intercept=True,\n",
       "          intercept_scaling=1, max_iter=100, multi_class='ovr', n_jobs=1,\n",
       "          penalty='l2', random_state=1337, solver='liblinear', tol=0.0001,\n",
       "          verbose=0, warm_start=False)"
      ]
     },
     "execution_count": 29,
     "metadata": {},
     "output_type": "execute_result"
    }
   ],
   "source": [
    "blended_model = LogisticRegression(random_state=1337)\n",
    "blended_model.fit(blended, y_test)"
   ]
  },
  {
   "cell_type": "code",
   "execution_count": 30,
   "metadata": {},
   "outputs": [
    {
     "name": "stdout",
     "output_type": "stream",
     "text": [
      "                                                                        precision    recall  f1-score   support\n",
      "\n",
      "                                         Administrative justice reform       0.00      0.00      0.00         2\n",
      "                                     Adoption, fostering and surrogacy       0.00      0.00      0.00        16\n",
      "                                                 Armed Forces Covenant       0.00      0.00      0.00         1\n",
      "                                                          Armed forces       0.00      0.00      0.00         3\n",
      "                           Armed forces and Ministry of Defence reform       0.00      0.00      0.00         4\n",
      "                         Armed forces support for activities in the UK       0.00      0.00      0.00         1\n",
      "                                                      Arts and culture       0.00      0.00      0.00       361\n",
      "                                        Assessing environmental impact       0.00      0.00      0.00         1\n",
      "                                                                Asylum       0.00      0.00      0.00        11\n",
      "                     Attorney General guidance to the legal profession       0.00      0.00      0.00         2\n",
      "                                                              Aviation       0.00      0.00      0.00        18\n",
      "                                                  Benefits entitlement       0.00      0.00      0.00         7\n",
      "                                                 Benefits for families       0.00      0.00      0.00         2\n",
      "                                           Biodiversity and ecosystems       0.00      0.00      0.00        66\n",
      "                                                                Brexit       0.00      0.00      0.00        50\n",
      "                                                     Brexit and the EU       0.00      0.00      0.00         2\n",
      "                                            British nationals overseas       0.00      0.00      0.00       310\n",
      "                                               Business and enterprise       0.19      0.31      0.23      1906\n",
      "                                          Business and the environment       0.00      0.00      0.00       190\n",
      "                                                          Business tax       0.00      0.00      0.00       255\n",
      "                                        Carers and disability benefits       0.00      0.00      0.00         6\n",
      "             Certificates, register offices, changes of name or gender       0.00      0.00      0.00         7\n",
      "                                   Charities, volunteering and honours       0.00      0.00      0.00         6\n",
      "                                                         Child Benefit       0.00      0.00      0.00        10\n",
      "                                              Child maintenance reform       0.00      0.00      0.00         2\n",
      "                                             Childcare and early years       0.00      0.00      0.00        30\n",
      "                                         Children's health and welfare       0.00      0.00      0.00         3\n",
      "                                                  Civil service reform       0.00      0.00      0.00         2\n",
      "                                             Climate change and energy       0.00      0.00      0.00       966\n",
      "                                      Commercial fishing and fisheries       0.00      0.00      0.00        21\n",
      "                                                 Community and society       0.00      0.00      0.00       750\n",
      "                                                Constitutional affairs       0.00      0.00      0.00        40\n",
      "                                            Consumer rights and issues       0.00      0.00      0.00       126\n",
      "                                                Content and publishing       0.00      0.00      0.00         2\n",
      "                                     Court claims, debt and bankruptcy       0.00      0.00      0.00         2\n",
      "                                      Courts, sentencing and tribunals       0.00      0.00      0.00         5\n",
      "                                                      Crime prevention       0.00      0.00      0.00        53\n",
      "                                               Criminal justice reform       0.00      0.00      0.00         6\n",
      "                                                        Cyber security       0.00      0.00      0.00         1\n",
      "                                                     Dealing with HMRC       0.00      0.00      0.00       309\n",
      "                                                 Death and bereavement       0.00      0.00      0.00         5\n",
      "                                                     Deficit reduction       0.00      0.00      0.00         2\n",
      "                                  Divorce, separation and legal issues       0.00      0.00      0.00         3\n",
      "                                                     Domestic violence       0.00      0.00      0.00         1\n",
      "                                            Driving and road transport       0.00      0.00      0.00       191\n",
      "                                   Education of disadvantaged children       0.00      0.00      0.00        20\n",
      "                          Emergency preparation, response and recovery       0.00      0.00      0.00       110\n",
      "                                                      Employing people       0.00      0.00      0.00        16\n",
      "                                                      End of life care       0.00      0.00      0.00         1\n",
      "                                                 Environmental permits       0.00      0.00      0.00         1\n",
      "                                                 Environmental quality       0.00      0.00      0.00       101\n",
      "                                      Equality, rights and citizenship       0.00      0.00      0.00       265\n",
      "                                    European Union laws and regulation       0.00      0.00      0.00         1\n",
      "                                                        European funds       0.00      0.00      0.00         2\n",
      "                                        Expenses and employee benefits       0.00      0.00      0.00         2\n",
      "                                                 Family justice system       0.00      0.00      0.00         8\n",
      "                                   Financial help if you have children       0.00      0.00      0.00         7\n",
      "                                                    Financial services       0.00      0.00      0.00       133\n",
      "                                            Fire prevention and rescue       0.00      0.00      0.00        74\n",
      "                                           Flooding and coastal change       0.00      0.00      0.00       182\n",
      "                                                      Food and farming       0.00      0.00      0.00       604\n",
      "                                                       Foreign affairs       0.00      0.00      0.00       319\n",
      "                                                     Freight and cargo       0.00      0.00      0.00        19\n",
      "                                      Funding and finance for students       0.00      0.00      0.00        13\n",
      "          Further and higher education, skills and vocational training       0.00      0.00      0.00       351\n",
      "                Government efficiency, transparency and accountability       0.50      0.59      0.54      1749\n",
      "                                                   Government spending       0.00      0.00      0.00       362\n",
      "                                Having a child, parenting and adoption       0.00      0.00      0.00         1\n",
      "                                                     Health protection       0.00      0.00      0.00         1\n",
      "                                          Heating and housing benefits       0.00      0.00      0.00         3\n",
      "                                                               Housing       0.36      0.02      0.04       418\n",
      "                                         Housing planning and building       0.16      0.17      0.16       492\n",
      "                                     Immigration rules and enforcement       0.00      0.00      0.00         9\n",
      "                    Inspections and performance of education providers       0.00      0.00      0.00       219\n",
      "                                     International aid and development       0.27      0.22      0.24       636\n",
      "                                     International defence commitments       0.00      0.00      0.00        56\n",
      "                         Jobseeker's Allowance and low income benefits       0.00      0.00      0.00         2\n",
      "                                           Justice system transparency       0.00      0.00      0.00        32\n",
      "                                             Knife, gun and gang crime       0.00      0.00      0.00        13\n",
      "                                                  Labour market reform       0.00      0.00      0.00        70\n",
      "                                                       Land management       0.00      0.00      0.00         1\n",
      "                                                     Land registration       0.00      0.00      0.00         1\n",
      "   Lasting power of attorney, being in care and your financial affairs       0.00      0.00      0.00         5\n",
      "                                                             Legal aid       0.00      0.00      0.00        30\n",
      "                                                      Legal aid reform       0.00      0.00      0.00         9\n",
      "                                                   Legislative process       0.00      0.00      0.00         1\n",
      "                            Living in the UK, government and democracy       0.00      0.00      0.00         2\n",
      "                                           Local councils and services       0.00      0.00      0.00         8\n",
      "                                                      Local government       0.00      0.00      0.00       240\n",
      "                                             Local government spending       0.00      0.00      0.00        80\n",
      "                                                       Local transport       0.00      0.00      0.00         5\n",
      "                                                              Localism       0.00      0.00      0.00         5\n",
      "                                              Major project management       0.00      0.00      0.00        29\n",
      "                                                                Marine       0.00      0.00      0.00        78\n",
      "                                                              Maritime       0.00      0.00      0.00       147\n",
      "                               Marriage, civil partnership and divorce       0.00      0.00      0.00         2\n",
      "                                              Media and communications       0.00      0.00      0.00       232\n",
      "                                    Military awards and commemorations       0.00      0.00      0.00         2\n",
      "                          Military equipment, logistics and technology       0.00      0.00      0.00         5\n",
      "                         Military recruitment, training and operations       0.00      0.00      0.00         9\n",
      "                                            Ministry of Defence estate       0.00      0.00      0.00         1\n",
      "                                          Money laundering regulations       0.00      0.00      0.00         5\n",
      "                                               National Health Service       0.19      0.25      0.22       671\n",
      "                                        National events and ceremonies       0.00      0.00      0.00        16\n",
      "                                                     National security       0.16      0.64      0.25       908\n",
      "                                                      Northern Ireland       0.00      0.00      0.00       169\n",
      "                                                           Oil and gas       0.00      0.00      0.00         7\n",
      "                                                             Passports       0.00      0.00      0.00         4\n",
      "                  Passports and travel documents for foreign nationals       0.00      0.00      0.00         5\n",
      "                                           Pensions and ageing society       0.00      0.00      0.00       123\n",
      "                                              Permanent stay in the UK       0.00      0.00      0.00         6\n",
      "                                                          Personal tax       0.00      0.00      0.00       177\n",
      "                                                              Policing       0.00      0.00      0.00       119\n",
      "                                                 Postal service reform       0.00      0.00      0.00         3\n",
      "                                                   Pregnancy and birth       0.00      0.00      0.00         1\n",
      "                                                 Prisons and probation       0.00      0.00      0.00         4\n",
      "                                                         Public health       0.11      0.41      0.18      1153\n",
      "                                                       Public services       0.00      0.00      0.00         2\n",
      "                             Pupil wellbeing, behaviour and attendance       0.00      0.00      0.00        65\n",
      "                                                                  Rail       0.00      0.00      0.00        71\n",
      "                                                     Regulation reform       0.00      0.00      0.00        63\n",
      "                                        Reoffending and rehabilitation       0.00      0.00      0.00        32\n",
      "                             Reporting crimes and getting compensation       0.00      0.00      0.00         5\n",
      "                                                   Road infrastructure       0.00      0.00      0.00        29\n",
      "                                         Running and managing a school       0.00      0.00      0.00       192\n",
      "                                                 Rural and countryside       0.00      0.00      0.00       240\n",
      "                             Safeguarding and social care for children       0.00      0.00      0.00        60\n",
      "                 School and academy financial management and assurance       0.00      0.00      0.00        21\n",
      "                                            School and academy funding       0.00      0.00      0.00        90\n",
      "                                                     School curriculum       0.82      0.10      0.17       321\n",
      "                                                Science and innovation       0.00      0.00      0.00       453\n",
      "                                                              Scotland       0.00      0.00      0.00       164\n",
      "                                                       Self-employment       0.00      0.00      0.00         5\n",
      "                                                     Sentencing reform       0.00      0.00      0.00         1\n",
      "                                                           Social care       0.00      0.00      0.00       124\n",
      "        Special educational needs and disability (SEND) and high needs       0.00      0.00      0.00        41\n",
      "                                                    Sports and leisure       0.00      0.00      0.00       145\n",
      "                                         Starting and attending school       0.00      0.00      0.00         5\n",
      "Support services for military and defence personnel and their families       0.00      0.00      0.00         6\n",
      "                      Support services for veterans and their families       0.00      0.00      0.00        11\n",
      "                                               Sustainable development       0.00      0.00      0.00         5\n",
      "                                                           Tax credits       0.00      0.00      0.00         7\n",
      "                                             Tax evasion and avoidance       0.00      0.00      0.00        42\n",
      "                                               Teaching and leadership       0.00      0.00      0.00       224\n",
      "                                                               Tourism       0.00      0.00      0.00        20\n",
      "                                                  Trade and investment       0.33      0.16      0.22       732\n",
      "                                  Transport accessibility and mobility       0.00      0.00      0.00         6\n",
      "                                  Transport corporate and transparency       0.00      0.00      0.00        80\n",
      "                                     Transport modelling and appraisal       0.00      0.00      0.00         4\n",
      "                                                    Transport planning       0.00      0.00      0.00         6\n",
      "                                     Transport research and evaluation       0.00      0.00      0.00         1\n",
      "                                                    Transport security       0.00      0.00      0.00         2\n",
      "                                                  Transport statistics       0.37      0.20      0.26       147\n",
      "                                                         Travel abroad       0.00      0.00      0.00         3\n",
      "                                                     UK border control       0.00      0.00      0.00         2\n",
      "                                                            UK economy       0.15      0.52      0.23      2077\n",
      "                                                  UK nuclear deterrent       0.00      0.00      0.00         2\n",
      "            UK prosperity and security: Asia, Latin America and Africa       0.00      0.00      0.00         5\n",
      "                                                      Victims of crime       0.00      0.00      0.00        17\n",
      "                                      Violence against women and girls       0.00      0.00      0.00        48\n",
      "                                                                 Visas       0.00      0.00      0.00        18\n",
      "                                                                Voting       0.00      0.00      0.00         2\n",
      "                                                                 Wales       0.00      0.00      0.00       236\n",
      "                                                   Waste and recycling       0.00      0.00      0.00       108\n",
      "                                                        Water industry       0.00      0.00      0.00        40\n",
      "                                          What you can bring to the UK       0.00      0.00      0.00         1\n",
      "                                           Wildlife and animal welfare       0.00      0.00      0.00       208\n",
      "                                            Working, jobs and pensions       0.00      0.00      0.00        27\n",
      "                                              Young people and the law       0.00      0.00      0.00         6\n",
      "                                               Your rights and the law       0.00      0.00      0.00         5\n",
      "                                    Youth employment and social issues       0.00      0.00      0.00         3\n",
      "                                                          world_level1       0.92      0.37      0.52       268\n",
      "\n",
      "                                                           avg / total       0.14      0.19      0.14     22810\n",
      "\n"
     ]
    },
    {
     "name": "stderr",
     "output_type": "stream",
     "text": [
      "/Users/matthewupson/.pyenv/versions/3.4.6/lib/python3.4/site-packages/sklearn/metrics/classification.py:1135: UndefinedMetricWarning: Precision and F-score are ill-defined and being set to 0.0 in labels with no predicted samples.\n",
      "  'precision', 'predicted', average, warn_for)\n"
     ]
    },
    {
     "data": {
      "text/plain": [
       "{'C': 1.0,\n",
       " 'class_weight': None,\n",
       " 'dual': False,\n",
       " 'fit_intercept': True,\n",
       " 'intercept_scaling': 1,\n",
       " 'max_iter': 100,\n",
       " 'multi_class': 'ovr',\n",
       " 'n_jobs': 1,\n",
       " 'penalty': 'l2',\n",
       " 'random_state': 1337,\n",
       " 'solver': 'liblinear',\n",
       " 'tol': 0.0001,\n",
       " 'verbose': 0,\n",
       " 'warm_start': False}"
      ]
     },
     "execution_count": 30,
     "metadata": {},
     "output_type": "execute_result"
    }
   ],
   "source": [
    "blended_pred = blended_model.predict(blended)\n",
    "class_report = classification_report(y_test, blended_pred)\n",
    "print(class_report)\n",
    "blended_model.get_params()"
   ]
  },
  {
   "cell_type": "code",
   "execution_count": 33,
   "metadata": {},
   "outputs": [
    {
     "name": "stderr",
     "output_type": "stream",
     "text": [
      "/Users/matthewupson/.pyenv/versions/3.4.6/lib/python3.4/site-packages/sklearn/cross_validation.py:553: Warning: The least populated class in y has only 1 members, which is too few. The minimum number of labels for any class cannot be less than n_folds=10.\n",
      "  % (min_labels, self.n_folds)), Warning)\n"
     ]
    },
    {
     "name": "stdout",
     "output_type": "stream",
     "text": [
      "0.125\n",
      "0.006\n"
     ]
    }
   ],
   "source": [
    "# Double check this with CV\n",
    "\n",
    "scores = cross_val_score(blended_model, X_test, y_test,\n",
    "                        scoring='accuracy',cv=10)\n",
    "\n",
    "print(round(scores.mean(),3))\n",
    "print(round(scores.std(),3))\n",
    "#72"
   ]
  }
 ],
 "metadata": {
  "keep_output": true,
  "kernelspec": {
   "display_name": "govuk-legacy-taxonomy",
   "language": "python",
   "name": "govuk-legacy-taxonomy"
  },
  "language_info": {
   "codemirror_mode": {
    "name": "ipython",
    "version": 3
   },
   "file_extension": ".py",
   "mimetype": "text/x-python",
   "name": "python",
   "nbconvert_exporter": "python",
   "pygments_lexer": "ipython3",
   "version": "3.4.6"
  }
 },
 "nbformat": 4,
 "nbformat_minor": 2
}
