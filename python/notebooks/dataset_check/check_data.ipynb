{
 "cells": [
  {
   "cell_type": "code",
   "execution_count": 2,
   "metadata": {},
   "outputs": [],
   "source": [
    "import pandas as pd\n",
    "import os"
   ]
  },
  {
   "cell_type": "markdown",
   "metadata": {},
   "source": [
    "### 1. Read any dataset produced/updated by make."
   ]
  },
  {
   "cell_type": "code",
   "execution_count": 12,
   "metadata": {},
   "outputs": [],
   "source": [
    "DATADIR=os.getenv('DATADIR')\n",
    "DATASET = \"clean_content.csv.gz\"\n",
    "CONTENT_INPUT = os.path.join(DATADIR, DATASET)"
   ]
  },
  {
   "cell_type": "markdown",
   "metadata": {},
   "source": [
    "### 2. Check that dataset production is working as expected."
   ]
  },
  {
   "cell_type": "code",
   "execution_count": 13,
   "metadata": {},
   "outputs": [
    {
     "data": {
      "text/plain": [
       "(334725, 15)"
      ]
     },
     "execution_count": 13,
     "metadata": {},
     "output_type": "execute_result"
    }
   ],
   "source": [
    "dataset = pd.read_csv(CONTENT_INPUT,compression='gzip')\n",
    "dataset.shape"
   ]
  },
  {
   "cell_type": "code",
   "execution_count": 14,
   "metadata": {},
   "outputs": [
    {
     "data": {
      "text/html": [
       "<div>\n",
       "<style scoped>\n",
       "    .dataframe tbody tr th:only-of-type {\n",
       "        vertical-align: middle;\n",
       "    }\n",
       "\n",
       "    .dataframe tbody tr th {\n",
       "        vertical-align: top;\n",
       "    }\n",
       "\n",
       "    .dataframe thead th {\n",
       "        text-align: right;\n",
       "    }\n",
       "</style>\n",
       "<table border=\"1\" class=\"dataframe\">\n",
       "  <thead>\n",
       "    <tr style=\"text-align: right;\">\n",
       "      <th></th>\n",
       "      <th>base_path</th>\n",
       "      <th>content_id</th>\n",
       "      <th>description</th>\n",
       "      <th>details</th>\n",
       "      <th>document_type</th>\n",
       "      <th>first_published_at</th>\n",
       "      <th>locale</th>\n",
       "      <th>primary_publishing_organisation</th>\n",
       "      <th>publishing_app</th>\n",
       "      <th>title</th>\n",
       "      <th>document_type_gp</th>\n",
       "      <th>body</th>\n",
       "      <th>combined_text</th>\n",
       "      <th>variable</th>\n",
       "      <th>taxon_id</th>\n",
       "    </tr>\n",
       "  </thead>\n",
       "  <tbody>\n",
       "    <tr>\n",
       "      <th>0</th>\n",
       "      <td>/vehicle-tax</td>\n",
       "      <td>fa748fae-3de4-4266-ae85-0797ada3f40c</td>\n",
       "      <td>renew or tax your vehicle for the first time u...</td>\n",
       "      <td>{'introductory_paragraph': '&lt;p&gt;Tax your car, m...</td>\n",
       "      <td>transaction</td>\n",
       "      <td>2016-02-29T09:24:10.000+00:00</td>\n",
       "      <td>en</td>\n",
       "      <td>NaN</td>\n",
       "      <td>publisher</td>\n",
       "      <td>tax your vehicle</td>\n",
       "      <td>service</td>\n",
       "      <td>tax your car motorcycle or other vehicle using...</td>\n",
       "      <td>tax your vehicle renew or tax your vehicle for...</td>\n",
       "      <td>0</td>\n",
       "      <td>948b6dd4-45b3-45ab-a5c6-5dbce75542a6</td>\n",
       "    </tr>\n",
       "    <tr>\n",
       "      <th>1</th>\n",
       "      <td>/student-finance-register-login</td>\n",
       "      <td>e57daef4-5eb5-431c-b0ad-14119ab0355f</td>\n",
       "      <td>your student finance online account - check pa...</td>\n",
       "      <td>{'other_ways_to_apply': '&lt;p&gt;If you can’t apply...</td>\n",
       "      <td>transaction</td>\n",
       "      <td>2016-02-29T09:24:10.000+00:00</td>\n",
       "      <td>en</td>\n",
       "      <td>NaN</td>\n",
       "      <td>publisher</td>\n",
       "      <td>student finance login</td>\n",
       "      <td>service</td>\n",
       "      <td>sign in or register for student finance online...</td>\n",
       "      <td>student finance login your student finance onl...</td>\n",
       "      <td>0</td>\n",
       "      <td>64aa6eec-48b5-481d-9131-9c8b6326eea1</td>\n",
       "    </tr>\n",
       "    <tr>\n",
       "      <th>2</th>\n",
       "      <td>/get-information-about-a-company</td>\n",
       "      <td>9ca1a27b-af7b-44d2-b10d-0a6d0e3ff53d</td>\n",
       "      <td>get company information including registered a...</td>\n",
       "      <td>{'introductory_paragraph': '&lt;p&gt;You can get som...</td>\n",
       "      <td>transaction</td>\n",
       "      <td>2016-02-29T09:24:10.000+00:00</td>\n",
       "      <td>en</td>\n",
       "      <td>NaN</td>\n",
       "      <td>publisher</td>\n",
       "      <td>get information about a company</td>\n",
       "      <td>service</td>\n",
       "      <td>you can get some details about a company for f...</td>\n",
       "      <td>get information about a company get company in...</td>\n",
       "      <td>0</td>\n",
       "      <td>a1119685-ffef-4417-a3e4-116014ad4523</td>\n",
       "    </tr>\n",
       "    <tr>\n",
       "      <th>3</th>\n",
       "      <td>/check-vehicle-tax</td>\n",
       "      <td>0889f128-e479-465f-b3e1-a3db6a3879cf</td>\n",
       "      <td>check and report if a vehicle has up-to-date v...</td>\n",
       "      <td>{'external_related_links': [], 'transaction_st...</td>\n",
       "      <td>transaction</td>\n",
       "      <td>2016-02-29T09:24:10.000+00:00</td>\n",
       "      <td>en</td>\n",
       "      <td>NaN</td>\n",
       "      <td>publisher</td>\n",
       "      <td>check if a vehicle is taxed</td>\n",
       "      <td>service</td>\n",
       "      <td>find out if a vehicle has up to date vehicle t...</td>\n",
       "      <td>check if a vehicle is taxed check and report i...</td>\n",
       "      <td>0</td>\n",
       "      <td>948b6dd4-45b3-45ab-a5c6-5dbce75542a6</td>\n",
       "    </tr>\n",
       "    <tr>\n",
       "      <th>4</th>\n",
       "      <td>/jobsearch</td>\n",
       "      <td>a01fcb59-5dc8-4bf5-b06d-dd567a6d2f5f</td>\n",
       "      <td>find a job using the universal jobmatch servic...</td>\n",
       "      <td>{'external_related_links': [{'title': 'Safer J...</td>\n",
       "      <td>transaction</td>\n",
       "      <td>2016-02-29T09:24:10.000+00:00</td>\n",
       "      <td>en</td>\n",
       "      <td>NaN</td>\n",
       "      <td>publisher</td>\n",
       "      <td>find a job with universal jobmatch</td>\n",
       "      <td>service</td>\n",
       "      <td>search and apply for full or part time jobs in...</td>\n",
       "      <td>find a job with universal jobmatch find a job ...</td>\n",
       "      <td>0</td>\n",
       "      <td>21bfd8f6-3360-43f9-be42-b00002982d70</td>\n",
       "    </tr>\n",
       "  </tbody>\n",
       "</table>\n",
       "</div>"
      ],
      "text/plain": [
       "                          base_path                            content_id  \\\n",
       "0                      /vehicle-tax  fa748fae-3de4-4266-ae85-0797ada3f40c   \n",
       "1   /student-finance-register-login  e57daef4-5eb5-431c-b0ad-14119ab0355f   \n",
       "2  /get-information-about-a-company  9ca1a27b-af7b-44d2-b10d-0a6d0e3ff53d   \n",
       "3                /check-vehicle-tax  0889f128-e479-465f-b3e1-a3db6a3879cf   \n",
       "4                        /jobsearch  a01fcb59-5dc8-4bf5-b06d-dd567a6d2f5f   \n",
       "\n",
       "                                         description  \\\n",
       "0  renew or tax your vehicle for the first time u...   \n",
       "1  your student finance online account - check pa...   \n",
       "2  get company information including registered a...   \n",
       "3  check and report if a vehicle has up-to-date v...   \n",
       "4  find a job using the universal jobmatch servic...   \n",
       "\n",
       "                                             details document_type  \\\n",
       "0  {'introductory_paragraph': '<p>Tax your car, m...   transaction   \n",
       "1  {'other_ways_to_apply': '<p>If you can’t apply...   transaction   \n",
       "2  {'introductory_paragraph': '<p>You can get som...   transaction   \n",
       "3  {'external_related_links': [], 'transaction_st...   transaction   \n",
       "4  {'external_related_links': [{'title': 'Safer J...   transaction   \n",
       "\n",
       "              first_published_at locale primary_publishing_organisation  \\\n",
       "0  2016-02-29T09:24:10.000+00:00     en                             NaN   \n",
       "1  2016-02-29T09:24:10.000+00:00     en                             NaN   \n",
       "2  2016-02-29T09:24:10.000+00:00     en                             NaN   \n",
       "3  2016-02-29T09:24:10.000+00:00     en                             NaN   \n",
       "4  2016-02-29T09:24:10.000+00:00     en                             NaN   \n",
       "\n",
       "  publishing_app                               title document_type_gp  \\\n",
       "0      publisher                    tax your vehicle          service   \n",
       "1      publisher               student finance login          service   \n",
       "2      publisher     get information about a company          service   \n",
       "3      publisher         check if a vehicle is taxed          service   \n",
       "4      publisher  find a job with universal jobmatch          service   \n",
       "\n",
       "                                                body  \\\n",
       "0  tax your car motorcycle or other vehicle using...   \n",
       "1  sign in or register for student finance online...   \n",
       "2  you can get some details about a company for f...   \n",
       "3  find out if a vehicle has up to date vehicle t...   \n",
       "4  search and apply for full or part time jobs in...   \n",
       "\n",
       "                                       combined_text  variable  \\\n",
       "0  tax your vehicle renew or tax your vehicle for...         0   \n",
       "1  student finance login your student finance onl...         0   \n",
       "2  get information about a company get company in...         0   \n",
       "3  check if a vehicle is taxed check and report i...         0   \n",
       "4  find a job with universal jobmatch find a job ...         0   \n",
       "\n",
       "                               taxon_id  \n",
       "0  948b6dd4-45b3-45ab-a5c6-5dbce75542a6  \n",
       "1  64aa6eec-48b5-481d-9131-9c8b6326eea1  \n",
       "2  a1119685-ffef-4417-a3e4-116014ad4523  \n",
       "3  948b6dd4-45b3-45ab-a5c6-5dbce75542a6  \n",
       "4  21bfd8f6-3360-43f9-be42-b00002982d70  "
      ]
     },
     "execution_count": 14,
     "metadata": {},
     "output_type": "execute_result"
    }
   ],
   "source": [
    "dataset.head()"
   ]
  },
  {
   "cell_type": "code",
   "execution_count": 15,
   "metadata": {},
   "outputs": [],
   "source": [
    "dataset['length'] = dataset['body'].map(lambda x: len(x.split()) if not isinstance(x,float) else 0)"
   ]
  },
  {
   "cell_type": "code",
   "execution_count": 16,
   "metadata": {},
   "outputs": [
    {
     "data": {
      "text/plain": [
       "count    334725.000000\n",
       "mean        426.524929\n",
       "std         664.758797\n",
       "min           0.000000\n",
       "25%         106.000000\n",
       "50%         219.000000\n",
       "75%         486.000000\n",
       "max       31528.000000\n",
       "Name: length, dtype: float64"
      ]
     },
     "execution_count": 16,
     "metadata": {},
     "output_type": "execute_result"
    }
   ],
   "source": [
    "dataset['length'].describe()"
   ]
  },
  {
   "cell_type": "code",
   "execution_count": 17,
   "metadata": {},
   "outputs": [
    {
     "data": {
      "text/plain": [
       "\"tax your vehicle renew or tax your vehicle for the first time using a reminder letter your log book the 'new keeper's details' section of a log book - and how to tax if you don't have any documents tax your car motorcycle or other vehicle using a reference number from: a recent reminder (v11) or ‘last chance’ warning letter from dvla your vehicle log book (v5c) it must be in your name the green ‘new keeper’s details’ slip (v5c/2) from a log book if you’ve just bought it you can pay by debit or credit card or direct debit. this service is also available in welsh . you’ll need to meet all the legal obligations for drivers before you can drive. you must tax your vehicle even if you don’t have to pay. dvla vehicle tax service telephone: 0300 123 4321 24 hour service find out about call charges you can’t pay by direct debit over the phone. at a post office go to a post office that deals with vehicle tax. you need to take either: the payment for your vehicle tax your bank or building society account details to set up a direct debit you also need to take one of the following: your vehicle log book (v5c) (it must be in your name) the green ‘new keeper’s details’ slip (v5c/2) from a log book if you’ve just bought it if you don’t have any of these documents you’ll need to apply for a new log book . you might also need your mot test certificate (it must be valid when the tax starts). it can take up to 2 days for mot information to be updated so you might not be able to tax your vehicle immediately after it passes its test. in northern ireland you also need an insurance certificate or cover note. if the vehicle is off the road register that your vehicle is off the road for example you’re keeping it in a garage. you don’t need to tax your vehicle.\""
      ]
     },
     "execution_count": 17,
     "metadata": {},
     "output_type": "execute_result"
    }
   ],
   "source": [
    "dataset['combined_text'].iloc[0]"
   ]
  }
 ],
 "metadata": {
  "kernelspec": {
   "display_name": "Python 3",
   "language": "python",
   "name": "python3"
  },
  "language_info": {
   "codemirror_mode": {
    "name": "ipython",
    "version": 3
   },
   "file_extension": ".py",
   "mimetype": "text/x-python",
   "name": "python",
   "nbconvert_exporter": "python",
   "pygments_lexer": "ipython3",
   "version": "3.4.6"
  }
 },
 "nbformat": 4,
 "nbformat_minor": 2
}
