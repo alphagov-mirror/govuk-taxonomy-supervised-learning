{
 "cells": [
  {
   "cell_type": "code",
   "execution_count": 2,
   "metadata": {},
   "outputs": [
    {
     "name": "stdout",
     "output_type": "stream",
     "text": [
      "Python 3.4.6\r\n"
     ]
    }
   ],
   "source": [
    "# Should be python3.4.x\n",
    "\n",
    "!python --version"
   ]
  },
  {
   "cell_type": "code",
   "execution_count": 14,
   "metadata": {},
   "outputs": [],
   "source": [
    "import pandas as pd\n",
    "import json\n",
    "from pandas.io.json import json_normalize\n",
    "import matplotlib.pyplot as plt\n",
    "import numpy as np\n",
    "import os\n",
    "import pathlib\n",
    "\n",
    "%matplotlib inline"
   ]
  },
  {
   "cell_type": "markdown",
   "metadata": {},
   "source": [
    "### Taxon file cleaning -ready for merge with content file"
   ]
  },
  {
   "cell_type": "code",
   "execution_count": 22,
   "metadata": {},
   "outputs": [
    {
     "name": "stdout",
     "output_type": "stream",
     "text": [
      "Data is being loaded from file:///Users/matthewupson/Documents/legacy_taxonomy/taxons_example.json.\n"
     ]
    }
   ],
   "source": [
    "\n",
    "# Set the DATADIR location as an env var in your local environment \n",
    "# (this can be set in a text file called `.env` and sourced with \n",
    "# `source .env` or using autoenv).\n",
    "\n",
    "DATADIR = os.getenv('DATADIR')\n",
    "FILENAME = 'taxons_example.json'\n",
    "# Convert to uri to satisfy pd.read_json\n",
    "DATAPATH = os.path.join(DATADIR, FILENAME)\n",
    "# Assert that the file exists\n",
    "\n",
    "assert os.path.exists(DATAPATH), \"File doesn't exist\"\n",
    "\n",
    "DATAPATH = pathlib.Path(DATAPATH).as_uri()\n",
    "\n",
    "\n",
    "print('Data is being loaded from %s.' % DATAPATH)"
   ]
  },
  {
   "cell_type": "code",
   "execution_count": 23,
   "metadata": {},
   "outputs": [],
   "source": [
    "df = pd.read_json(\n",
    "    DATAPATH, \n",
    "    orient='table', \n",
    "    typ='frame', \n",
    "    dtype=True, \n",
    "    convert_axes=True, \n",
    "    convert_dates=True, \n",
    "    keep_default_dates=True, \n",
    "    numpy=False, \n",
    "    precise_float=False, \n",
    "    date_unit=None\n",
    ")"
   ]
  },
  {
   "cell_type": "code",
   "execution_count": 24,
   "metadata": {},
   "outputs": [
    {
     "data": {
      "text/plain": [
       "(3319, 4)"
      ]
     },
     "execution_count": 24,
     "metadata": {},
     "output_type": "execute_result"
    }
   ],
   "source": [
    "df.shape"
   ]
  },
  {
   "cell_type": "code",
   "execution_count": 25,
   "metadata": {},
   "outputs": [
    {
     "data": {
      "text/html": [
       "<div>\n",
       "<style scoped>\n",
       "    .dataframe tbody tr th:only-of-type {\n",
       "        vertical-align: middle;\n",
       "    }\n",
       "\n",
       "    .dataframe tbody tr th {\n",
       "        vertical-align: top;\n",
       "    }\n",
       "\n",
       "    .dataframe thead th {\n",
       "        text-align: right;\n",
       "    }\n",
       "</style>\n",
       "<table border=\"1\" class=\"dataframe\">\n",
       "  <thead>\n",
       "    <tr style=\"text-align: right;\">\n",
       "      <th></th>\n",
       "      <th>base_path</th>\n",
       "      <th>content_id</th>\n",
       "      <th>parent_content_id</th>\n",
       "      <th>title</th>\n",
       "    </tr>\n",
       "  </thead>\n",
       "  <tbody>\n",
       "    <tr>\n",
       "      <th>0</th>\n",
       "      <td>/education/corporate-information</td>\n",
       "      <td>a544d48b-1e9e-47fb-b427-7a987c658c14</td>\n",
       "      <td>NaN</td>\n",
       "      <td>Corporate information</td>\n",
       "    </tr>\n",
       "    <tr>\n",
       "      <th>1</th>\n",
       "      <td>/imported-browse/browse</td>\n",
       "      <td>d0e1f1aa-cdb7-476f-b00a-d533ea96e9bb</td>\n",
       "      <td>NaN</td>\n",
       "      <td>Imported Mainstream Browse</td>\n",
       "    </tr>\n",
       "    <tr>\n",
       "      <th>2</th>\n",
       "      <td>/childcare-parenting</td>\n",
       "      <td>206b7f3a-49b5-476f-af0f-fd27e2a68473</td>\n",
       "      <td>NaN</td>\n",
       "      <td>Parenting, childcare and children's services</td>\n",
       "    </tr>\n",
       "    <tr>\n",
       "      <th>3</th>\n",
       "      <td>/transport/all</td>\n",
       "      <td>a4038b29-b332-4f13-98b1-1c9709e216bc</td>\n",
       "      <td>NaN</td>\n",
       "      <td>Transport</td>\n",
       "    </tr>\n",
       "    <tr>\n",
       "      <th>4</th>\n",
       "      <td>/world/all</td>\n",
       "      <td>91b8ef20-74e7-4552-880c-50e6d73c2ff9</td>\n",
       "      <td>NaN</td>\n",
       "      <td>World</td>\n",
       "    </tr>\n",
       "  </tbody>\n",
       "</table>\n",
       "</div>"
      ],
      "text/plain": [
       "                          base_path                            content_id  \\\n",
       "0  /education/corporate-information  a544d48b-1e9e-47fb-b427-7a987c658c14   \n",
       "1           /imported-browse/browse  d0e1f1aa-cdb7-476f-b00a-d533ea96e9bb   \n",
       "2              /childcare-parenting  206b7f3a-49b5-476f-af0f-fd27e2a68473   \n",
       "3                    /transport/all  a4038b29-b332-4f13-98b1-1c9709e216bc   \n",
       "4                        /world/all  91b8ef20-74e7-4552-880c-50e6d73c2ff9   \n",
       "\n",
       "  parent_content_id                                          title  \n",
       "0               NaN                          Corporate information  \n",
       "1               NaN                     Imported Mainstream Browse  \n",
       "2               NaN  Parenting, childcare and children's services   \n",
       "3               NaN                                      Transport  \n",
       "4               NaN                                          World  "
      ]
     },
     "execution_count": 25,
     "metadata": {},
     "output_type": "execute_result"
    }
   ],
   "source": [
    "df.head()"
   ]
  },
  {
   "cell_type": "code",
   "execution_count": null,
   "metadata": {},
   "outputs": [],
   "source": [
    "def parents(content_id):\n",
    "    parent = df[content_id]\n",
    "\n",
    "    if parent is None:\n",
    "        return []\n",
    "    else:\n",
    "        return [parent] + parents(parent)\n",
    "\n",
    "out = {\n",
    "    content_id: parents(content_id)\n",
    "    for content_id in df.keys()\n",
    "}\n",
    "\n",
    "print(out)"
   ]
  }
 ],
 "metadata": {
  "kernelspec": {
   "display_name": "govuk-legacy-taxonomy",
   "language": "python",
   "name": "govuk-legacy-taxonomy"
  },
  "language_info": {
   "codemirror_mode": {
    "name": "ipython",
    "version": 3
   },
   "file_extension": ".py",
   "mimetype": "text/x-python",
   "name": "python",
   "nbconvert_exporter": "python",
   "pygments_lexer": "ipython3",
   "version": "3.4.6"
  }
 },
 "nbformat": 4,
 "nbformat_minor": 2
}
