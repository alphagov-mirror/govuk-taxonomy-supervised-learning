{
 "cells": [
  {
   "cell_type": "code",
   "execution_count": 3,
   "metadata": {
    "scrolled": true
   },
   "outputs": [],
   "source": [
    "import pandas as pd\n",
    "import numpy as np\n",
    "import os\n",
    "\n",
    "from sklearn.metrics import confusion_matrix, f1_score, precision_score, recall_score \n",
    "from sklearn.metrics import precision_recall_fscore_support, classification_report\n",
    "\n",
    "import matplotlib.pyplot as plt\n",
    "%matplotlib inline\n",
    "\n",
    "import functools\n",
    "\n",
    "import h5py"
   ]
  },
  {
   "cell_type": "markdown",
   "metadata": {},
   "source": [
    "### Environmental vars"
   ]
  },
  {
   "cell_type": "code",
   "execution_count": 4,
   "metadata": {
    "scrolled": true
   },
   "outputs": [],
   "source": [
    "DATADIR=os.getenv('DATADIR')"
   ]
  },
  {
   "cell_type": "markdown",
   "metadata": {},
   "source": [
    "### Load in data"
   ]
  },
  {
   "cell_type": "code",
   "execution_count": 6,
   "metadata": {},
   "outputs": [],
   "source": [
    "actual_train = pd.read_csv(os.path.join(DATADIR, 'actual_train_1614_2302_results.csv.gz'), dtype=float, compression='gzip')\n",
    "pred_train = pd.read_csv(os.path.join(DATADIR, 'train_1614_2302_results.csv.gz'), dtype=float, compression='gzip')"
   ]
  },
  {
   "cell_type": "code",
   "execution_count": 8,
   "metadata": {},
   "outputs": [],
   "source": [
    "actual_dev = pd.read_csv(os.path.join(DATADIR, 'actual_dev_1614_2302_results.csv.gz'), dtype=float, compression='gzip')\n",
    "pred_dev = pd.read_csv(os.path.join(DATADIR, 'dev_1614_2302_results.csv.gz'), dtype=float, compression='gzip')"
   ]
  },
  {
   "cell_type": "code",
   "execution_count": 9,
   "metadata": {},
   "outputs": [
    {
     "data": {
      "text/plain": [
       "(11348, 210)"
      ]
     },
     "execution_count": 9,
     "metadata": {},
     "output_type": "execute_result"
    }
   ],
   "source": [
    "pred_dev.shape"
   ]
  },
  {
   "cell_type": "code",
   "execution_count": 10,
   "metadata": {},
   "outputs": [
    {
     "name": "stdout",
     "output_type": "stream",
     "text": [
      "(165784, 210)\n"
     ]
    },
    {
     "data": {
      "text/html": [
       "<div>\n",
       "<style scoped>\n",
       "    .dataframe tbody tr th:only-of-type {\n",
       "        vertical-align: middle;\n",
       "    }\n",
       "\n",
       "    .dataframe tbody tr th {\n",
       "        vertical-align: top;\n",
       "    }\n",
       "\n",
       "    .dataframe thead th {\n",
       "        text-align: right;\n",
       "    }\n",
       "</style>\n",
       "<table border=\"1\" class=\"dataframe\">\n",
       "  <thead>\n",
       "    <tr style=\"text-align: right;\">\n",
       "      <th></th>\n",
       "      <th>1</th>\n",
       "      <th>2</th>\n",
       "      <th>3</th>\n",
       "      <th>4</th>\n",
       "      <th>5</th>\n",
       "      <th>6</th>\n",
       "      <th>7</th>\n",
       "      <th>8</th>\n",
       "      <th>9</th>\n",
       "      <th>10</th>\n",
       "      <th>...</th>\n",
       "      <th>201</th>\n",
       "      <th>202</th>\n",
       "      <th>203</th>\n",
       "      <th>204</th>\n",
       "      <th>205</th>\n",
       "      <th>206</th>\n",
       "      <th>207</th>\n",
       "      <th>208</th>\n",
       "      <th>209</th>\n",
       "      <th>210</th>\n",
       "    </tr>\n",
       "  </thead>\n",
       "  <tbody>\n",
       "    <tr>\n",
       "      <th>0</th>\n",
       "      <td>0.0</td>\n",
       "      <td>0.0</td>\n",
       "      <td>0.0</td>\n",
       "      <td>0.0</td>\n",
       "      <td>0.0</td>\n",
       "      <td>0.0</td>\n",
       "      <td>0.0</td>\n",
       "      <td>0.0</td>\n",
       "      <td>0.0</td>\n",
       "      <td>0.0</td>\n",
       "      <td>...</td>\n",
       "      <td>0.0</td>\n",
       "      <td>0.0</td>\n",
       "      <td>0.0</td>\n",
       "      <td>0.0</td>\n",
       "      <td>0.0</td>\n",
       "      <td>0.0</td>\n",
       "      <td>0.0</td>\n",
       "      <td>0.0</td>\n",
       "      <td>0.0</td>\n",
       "      <td>0.0</td>\n",
       "    </tr>\n",
       "    <tr>\n",
       "      <th>1</th>\n",
       "      <td>0.0</td>\n",
       "      <td>0.0</td>\n",
       "      <td>0.0</td>\n",
       "      <td>0.0</td>\n",
       "      <td>0.0</td>\n",
       "      <td>0.0</td>\n",
       "      <td>0.0</td>\n",
       "      <td>0.0</td>\n",
       "      <td>0.0</td>\n",
       "      <td>0.0</td>\n",
       "      <td>...</td>\n",
       "      <td>0.0</td>\n",
       "      <td>0.0</td>\n",
       "      <td>0.0</td>\n",
       "      <td>0.0</td>\n",
       "      <td>0.0</td>\n",
       "      <td>0.0</td>\n",
       "      <td>0.0</td>\n",
       "      <td>0.0</td>\n",
       "      <td>0.0</td>\n",
       "      <td>0.0</td>\n",
       "    </tr>\n",
       "    <tr>\n",
       "      <th>2</th>\n",
       "      <td>0.0</td>\n",
       "      <td>0.0</td>\n",
       "      <td>0.0</td>\n",
       "      <td>0.0</td>\n",
       "      <td>0.0</td>\n",
       "      <td>0.0</td>\n",
       "      <td>0.0</td>\n",
       "      <td>0.0</td>\n",
       "      <td>0.0</td>\n",
       "      <td>0.0</td>\n",
       "      <td>...</td>\n",
       "      <td>0.0</td>\n",
       "      <td>0.0</td>\n",
       "      <td>0.0</td>\n",
       "      <td>0.0</td>\n",
       "      <td>0.0</td>\n",
       "      <td>0.0</td>\n",
       "      <td>0.0</td>\n",
       "      <td>0.0</td>\n",
       "      <td>0.0</td>\n",
       "      <td>0.0</td>\n",
       "    </tr>\n",
       "    <tr>\n",
       "      <th>3</th>\n",
       "      <td>0.0</td>\n",
       "      <td>0.0</td>\n",
       "      <td>0.0</td>\n",
       "      <td>0.0</td>\n",
       "      <td>0.0</td>\n",
       "      <td>0.0</td>\n",
       "      <td>0.0</td>\n",
       "      <td>0.0</td>\n",
       "      <td>0.0</td>\n",
       "      <td>0.0</td>\n",
       "      <td>...</td>\n",
       "      <td>0.0</td>\n",
       "      <td>0.0</td>\n",
       "      <td>0.0</td>\n",
       "      <td>0.0</td>\n",
       "      <td>0.0</td>\n",
       "      <td>0.0</td>\n",
       "      <td>0.0</td>\n",
       "      <td>0.0</td>\n",
       "      <td>0.0</td>\n",
       "      <td>0.0</td>\n",
       "    </tr>\n",
       "    <tr>\n",
       "      <th>4</th>\n",
       "      <td>0.0</td>\n",
       "      <td>0.0</td>\n",
       "      <td>0.0</td>\n",
       "      <td>0.0</td>\n",
       "      <td>0.0</td>\n",
       "      <td>0.0</td>\n",
       "      <td>0.0</td>\n",
       "      <td>0.0</td>\n",
       "      <td>0.0</td>\n",
       "      <td>0.0</td>\n",
       "      <td>...</td>\n",
       "      <td>0.0</td>\n",
       "      <td>0.0</td>\n",
       "      <td>0.0</td>\n",
       "      <td>0.0</td>\n",
       "      <td>0.0</td>\n",
       "      <td>0.0</td>\n",
       "      <td>0.0</td>\n",
       "      <td>0.0</td>\n",
       "      <td>0.0</td>\n",
       "      <td>0.0</td>\n",
       "    </tr>\n",
       "  </tbody>\n",
       "</table>\n",
       "<p>5 rows × 210 columns</p>\n",
       "</div>"
      ],
      "text/plain": [
       "     1    2    3    4    5    6    7    8    9   10 ...   201  202  203  204  \\\n",
       "0  0.0  0.0  0.0  0.0  0.0  0.0  0.0  0.0  0.0  0.0 ...   0.0  0.0  0.0  0.0   \n",
       "1  0.0  0.0  0.0  0.0  0.0  0.0  0.0  0.0  0.0  0.0 ...   0.0  0.0  0.0  0.0   \n",
       "2  0.0  0.0  0.0  0.0  0.0  0.0  0.0  0.0  0.0  0.0 ...   0.0  0.0  0.0  0.0   \n",
       "3  0.0  0.0  0.0  0.0  0.0  0.0  0.0  0.0  0.0  0.0 ...   0.0  0.0  0.0  0.0   \n",
       "4  0.0  0.0  0.0  0.0  0.0  0.0  0.0  0.0  0.0  0.0 ...   0.0  0.0  0.0  0.0   \n",
       "\n",
       "   205  206  207  208  209  210  \n",
       "0  0.0  0.0  0.0  0.0  0.0  0.0  \n",
       "1  0.0  0.0  0.0  0.0  0.0  0.0  \n",
       "2  0.0  0.0  0.0  0.0  0.0  0.0  \n",
       "3  0.0  0.0  0.0  0.0  0.0  0.0  \n",
       "4  0.0  0.0  0.0  0.0  0.0  0.0  \n",
       "\n",
       "[5 rows x 210 columns]"
      ]
     },
     "execution_count": 10,
     "metadata": {},
     "output_type": "execute_result"
    }
   ],
   "source": [
    "print(actual_train.shape)\n",
    "actual_train.head()"
   ]
  },
  {
   "cell_type": "code",
   "execution_count": 11,
   "metadata": {},
   "outputs": [
    {
     "name": "stdout",
     "output_type": "stream",
     "text": [
      "(165784, 210)\n"
     ]
    },
    {
     "data": {
      "text/html": [
       "<div>\n",
       "<style scoped>\n",
       "    .dataframe tbody tr th:only-of-type {\n",
       "        vertical-align: middle;\n",
       "    }\n",
       "\n",
       "    .dataframe tbody tr th {\n",
       "        vertical-align: top;\n",
       "    }\n",
       "\n",
       "    .dataframe thead th {\n",
       "        text-align: right;\n",
       "    }\n",
       "</style>\n",
       "<table border=\"1\" class=\"dataframe\">\n",
       "  <thead>\n",
       "    <tr style=\"text-align: right;\">\n",
       "      <th></th>\n",
       "      <th>1</th>\n",
       "      <th>2</th>\n",
       "      <th>3</th>\n",
       "      <th>4</th>\n",
       "      <th>5</th>\n",
       "      <th>6</th>\n",
       "      <th>7</th>\n",
       "      <th>8</th>\n",
       "      <th>9</th>\n",
       "      <th>10</th>\n",
       "      <th>...</th>\n",
       "      <th>201</th>\n",
       "      <th>202</th>\n",
       "      <th>203</th>\n",
       "      <th>204</th>\n",
       "      <th>205</th>\n",
       "      <th>206</th>\n",
       "      <th>207</th>\n",
       "      <th>208</th>\n",
       "      <th>209</th>\n",
       "      <th>210</th>\n",
       "    </tr>\n",
       "  </thead>\n",
       "  <tbody>\n",
       "    <tr>\n",
       "      <th>0</th>\n",
       "      <td>2.748645e-16</td>\n",
       "      <td>1.091799e-14</td>\n",
       "      <td>6.177789e-16</td>\n",
       "      <td>4.100739e-15</td>\n",
       "      <td>5.872959e-16</td>\n",
       "      <td>3.013484e-13</td>\n",
       "      <td>8.509490e-11</td>\n",
       "      <td>1.260597e-10</td>\n",
       "      <td>3.919068e-12</td>\n",
       "      <td>6.756921e-17</td>\n",
       "      <td>...</td>\n",
       "      <td>8.663000e-12</td>\n",
       "      <td>1.043937e-15</td>\n",
       "      <td>2.016324e-13</td>\n",
       "      <td>2.575809e-05</td>\n",
       "      <td>1.644260e-14</td>\n",
       "      <td>1.562039e-14</td>\n",
       "      <td>1.660904e-16</td>\n",
       "      <td>5.626940e-15</td>\n",
       "      <td>1.884005e-15</td>\n",
       "      <td>1.477973e-10</td>\n",
       "    </tr>\n",
       "    <tr>\n",
       "      <th>1</th>\n",
       "      <td>6.518997e-17</td>\n",
       "      <td>1.423080e-11</td>\n",
       "      <td>1.659104e-17</td>\n",
       "      <td>3.896054e-19</td>\n",
       "      <td>2.984844e-12</td>\n",
       "      <td>2.816315e-18</td>\n",
       "      <td>6.500217e-19</td>\n",
       "      <td>1.728053e-18</td>\n",
       "      <td>2.888334e-16</td>\n",
       "      <td>9.132359e-12</td>\n",
       "      <td>...</td>\n",
       "      <td>1.864053e-15</td>\n",
       "      <td>6.683112e-19</td>\n",
       "      <td>1.805826e-16</td>\n",
       "      <td>5.055893e-14</td>\n",
       "      <td>9.062707e-12</td>\n",
       "      <td>7.221974e-09</td>\n",
       "      <td>1.226184e-11</td>\n",
       "      <td>3.747836e-11</td>\n",
       "      <td>3.282196e-19</td>\n",
       "      <td>1.794174e-16</td>\n",
       "    </tr>\n",
       "    <tr>\n",
       "      <th>2</th>\n",
       "      <td>1.633317e-07</td>\n",
       "      <td>1.390263e-06</td>\n",
       "      <td>9.018549e-05</td>\n",
       "      <td>4.185985e-06</td>\n",
       "      <td>2.849058e-07</td>\n",
       "      <td>1.118842e-04</td>\n",
       "      <td>4.247428e-04</td>\n",
       "      <td>3.076397e-07</td>\n",
       "      <td>1.757552e-06</td>\n",
       "      <td>2.751224e-07</td>\n",
       "      <td>...</td>\n",
       "      <td>6.978184e-06</td>\n",
       "      <td>1.503196e-05</td>\n",
       "      <td>7.382220e-07</td>\n",
       "      <td>4.250382e-07</td>\n",
       "      <td>1.173260e-07</td>\n",
       "      <td>4.551326e-08</td>\n",
       "      <td>8.333716e-08</td>\n",
       "      <td>7.319312e-08</td>\n",
       "      <td>7.204352e-08</td>\n",
       "      <td>7.614800e-07</td>\n",
       "    </tr>\n",
       "    <tr>\n",
       "      <th>3</th>\n",
       "      <td>1.578195e-18</td>\n",
       "      <td>9.052344e-19</td>\n",
       "      <td>9.644712e-17</td>\n",
       "      <td>4.210220e-16</td>\n",
       "      <td>2.601030e-19</td>\n",
       "      <td>2.096347e-15</td>\n",
       "      <td>3.340687e-12</td>\n",
       "      <td>7.473112e-13</td>\n",
       "      <td>1.431090e-16</td>\n",
       "      <td>5.653778e-20</td>\n",
       "      <td>...</td>\n",
       "      <td>1.369270e-15</td>\n",
       "      <td>2.089519e-17</td>\n",
       "      <td>1.678481e-18</td>\n",
       "      <td>5.269050e-11</td>\n",
       "      <td>3.864380e-18</td>\n",
       "      <td>5.918924e-18</td>\n",
       "      <td>4.909221e-20</td>\n",
       "      <td>3.278592e-19</td>\n",
       "      <td>2.235022e-18</td>\n",
       "      <td>2.268445e-13</td>\n",
       "    </tr>\n",
       "    <tr>\n",
       "      <th>4</th>\n",
       "      <td>1.558055e-14</td>\n",
       "      <td>1.182472e-13</td>\n",
       "      <td>1.464557e-13</td>\n",
       "      <td>5.357545e-13</td>\n",
       "      <td>1.086944e-11</td>\n",
       "      <td>2.235208e-12</td>\n",
       "      <td>2.284331e-14</td>\n",
       "      <td>7.254160e-11</td>\n",
       "      <td>3.883278e-12</td>\n",
       "      <td>8.543679e-14</td>\n",
       "      <td>...</td>\n",
       "      <td>7.382635e-14</td>\n",
       "      <td>1.951983e-12</td>\n",
       "      <td>3.134882e-11</td>\n",
       "      <td>4.296812e-13</td>\n",
       "      <td>1.770841e-12</td>\n",
       "      <td>4.982089e-09</td>\n",
       "      <td>5.480763e-15</td>\n",
       "      <td>5.744015e-13</td>\n",
       "      <td>3.249712e-14</td>\n",
       "      <td>2.813652e-11</td>\n",
       "    </tr>\n",
       "  </tbody>\n",
       "</table>\n",
       "<p>5 rows × 210 columns</p>\n",
       "</div>"
      ],
      "text/plain": [
       "              1             2             3             4             5  \\\n",
       "0  2.748645e-16  1.091799e-14  6.177789e-16  4.100739e-15  5.872959e-16   \n",
       "1  6.518997e-17  1.423080e-11  1.659104e-17  3.896054e-19  2.984844e-12   \n",
       "2  1.633317e-07  1.390263e-06  9.018549e-05  4.185985e-06  2.849058e-07   \n",
       "3  1.578195e-18  9.052344e-19  9.644712e-17  4.210220e-16  2.601030e-19   \n",
       "4  1.558055e-14  1.182472e-13  1.464557e-13  5.357545e-13  1.086944e-11   \n",
       "\n",
       "              6             7             8             9            10  \\\n",
       "0  3.013484e-13  8.509490e-11  1.260597e-10  3.919068e-12  6.756921e-17   \n",
       "1  2.816315e-18  6.500217e-19  1.728053e-18  2.888334e-16  9.132359e-12   \n",
       "2  1.118842e-04  4.247428e-04  3.076397e-07  1.757552e-06  2.751224e-07   \n",
       "3  2.096347e-15  3.340687e-12  7.473112e-13  1.431090e-16  5.653778e-20   \n",
       "4  2.235208e-12  2.284331e-14  7.254160e-11  3.883278e-12  8.543679e-14   \n",
       "\n",
       "       ...                201           202           203           204  \\\n",
       "0      ...       8.663000e-12  1.043937e-15  2.016324e-13  2.575809e-05   \n",
       "1      ...       1.864053e-15  6.683112e-19  1.805826e-16  5.055893e-14   \n",
       "2      ...       6.978184e-06  1.503196e-05  7.382220e-07  4.250382e-07   \n",
       "3      ...       1.369270e-15  2.089519e-17  1.678481e-18  5.269050e-11   \n",
       "4      ...       7.382635e-14  1.951983e-12  3.134882e-11  4.296812e-13   \n",
       "\n",
       "            205           206           207           208           209  \\\n",
       "0  1.644260e-14  1.562039e-14  1.660904e-16  5.626940e-15  1.884005e-15   \n",
       "1  9.062707e-12  7.221974e-09  1.226184e-11  3.747836e-11  3.282196e-19   \n",
       "2  1.173260e-07  4.551326e-08  8.333716e-08  7.319312e-08  7.204352e-08   \n",
       "3  3.864380e-18  5.918924e-18  4.909221e-20  3.278592e-19  2.235022e-18   \n",
       "4  1.770841e-12  4.982089e-09  5.480763e-15  5.744015e-13  3.249712e-14   \n",
       "\n",
       "            210  \n",
       "0  1.477973e-10  \n",
       "1  1.794174e-16  \n",
       "2  7.614800e-07  \n",
       "3  2.268445e-13  \n",
       "4  2.813652e-11  \n",
       "\n",
       "[5 rows x 210 columns]"
      ]
     },
     "execution_count": 11,
     "metadata": {},
     "output_type": "execute_result"
    }
   ],
   "source": [
    "print(pred_train.shape)\n",
    "pred_train.head()"
   ]
  },
  {
   "cell_type": "markdown",
   "metadata": {},
   "source": [
    "### Evaluate model"
   ]
  },
  {
   "cell_type": "markdown",
   "metadata": {},
   "source": [
    "#### Training metrics"
   ]
  },
  {
   "cell_type": "code",
   "execution_count": 17,
   "metadata": {},
   "outputs": [],
   "source": [
    "P_THRESHOLD=0.5"
   ]
  },
  {
   "cell_type": "code",
   "execution_count": 18,
   "metadata": {},
   "outputs": [],
   "source": [
    "y_train = actual_train.values\n",
    "y_prob = pred_train.values"
   ]
  },
  {
   "cell_type": "code",
   "execution_count": 19,
   "metadata": {},
   "outputs": [
    {
     "data": {
      "text/plain": [
       "(165784, 210)"
      ]
     },
     "execution_count": 19,
     "metadata": {},
     "output_type": "execute_result"
    }
   ],
   "source": [
    "y_train.shape"
   ]
  },
  {
   "cell_type": "code",
   "execution_count": 20,
   "metadata": {
    "scrolled": true
   },
   "outputs": [
    {
     "data": {
      "text/plain": [
       "(165784, 210)"
      ]
     },
     "execution_count": 20,
     "metadata": {},
     "output_type": "execute_result"
    }
   ],
   "source": [
    "y_prob.shape"
   ]
  },
  {
   "cell_type": "code",
   "execution_count": 21,
   "metadata": {},
   "outputs": [],
   "source": [
    "y_pred = y_prob.copy()"
   ]
  },
  {
   "cell_type": "code",
   "execution_count": 22,
   "metadata": {
    "scrolled": true
   },
   "outputs": [],
   "source": [
    "y_pred[y_pred>=P_THRESHOLD] = 1\n",
    "y_pred[y_pred<P_THRESHOLD] = 0"
   ]
  },
  {
   "cell_type": "code",
   "execution_count": 23,
   "metadata": {
    "scrolled": true
   },
   "outputs": [
    {
     "data": {
      "text/plain": [
       "0.87770572023685001"
      ]
     },
     "execution_count": 23,
     "metadata": {},
     "output_type": "execute_result"
    }
   ],
   "source": [
    "f1_score(y_train, y_pred, average='micro')"
   ]
  },
  {
   "cell_type": "code",
   "execution_count": 24,
   "metadata": {
    "scrolled": true
   },
   "outputs": [
    {
     "name": "stderr",
     "output_type": "stream",
     "text": [
      "/home/ubuntu/anaconda3/envs/tensorflow_p36/lib/python3.6/site-packages/sklearn/metrics/classification.py:1135: UndefinedMetricWarning: Precision and F-score are ill-defined and being set to 0.0 in labels with no predicted samples.\n",
      "  'precision', 'predicted', average, warn_for)\n",
      "/home/ubuntu/anaconda3/envs/tensorflow_p36/lib/python3.6/site-packages/sklearn/metrics/classification.py:1137: UndefinedMetricWarning: Recall and F-score are ill-defined and being set to 0.0 in labels with no true samples.\n",
      "  'recall', 'true', average, warn_for)\n"
     ]
    },
    {
     "data": {
      "text/plain": [
       "(array([ 1.        ,  0.98681055,  0.96958525,  0.94776119,  1.        ,\n",
       "         0.95205479,  0.98259188,  0.96659919,  0.98825832,  1.        ,\n",
       "         1.        ,  0.93650794,  1.        ,  1.        ,  0.96341463,\n",
       "         0.99814126,  0.96880416,  1.        ,  1.        ,  0.91696044,\n",
       "         0.93473594,  0.90320856,  0.94989562,  1.        ,  1.        ,\n",
       "         0.9905303 ,  1.        ,  0.99379845,  0.99631676,  0.98211091,\n",
       "         0.97638889,  0.97830018,  0.9960396 ,  0.94198473,  0.9030224 ,\n",
       "         0.93067591,  0.91590457,  0.8745098 ,  0.96785714,  0.96666667,\n",
       "         1.        ,  0.86652079,  0.99820467,  0.99853372,  0.91120219,\n",
       "         0.99722992,  0.9980198 ,  0.97001764,  0.88741093,  1.        ,\n",
       "         1.        ,  0.95933014,  1.        ,  1.        ,  1.        ,\n",
       "         1.        ,  1.        ,  0.93645084,  0.98564593,  0.97889182,\n",
       "         0.99406688,  0.99240987,  0.98811545,  0.9760274 ,  0.99414062,\n",
       "         0.95021512,  1.        ,  0.98780488,  0.89873418,  1.        ,\n",
       "         0.99823633,  1.        ,  0.91503268,  0.9550706 ,  0.9726776 ,\n",
       "         0.89443378,  0.        ,  0.94399031,  0.97598628,  0.99318801,\n",
       "         0.96601382,  0.94277852,  1.        ,  0.90209268,  0.99802761,\n",
       "         1.        ,  0.99411765,  0.96829971,  1.        ,  0.95442739,\n",
       "         0.95180723,  0.8488806 ,  0.99662732,  0.94320487,  0.97211155,\n",
       "         0.97602475,  0.96244784,  1.        ,  0.95538058,  0.9904943 ,\n",
       "         0.96326531,  0.99808061,  0.97381342,  0.97650131,  1.        ,\n",
       "         0.96779964,  0.99573864,  1.        ,  1.        ,  1.        ,\n",
       "         1.        ,  0.99502488,  0.94284202,  0.92020592,  0.93150685,\n",
       "         0.956778  ,  0.97977941,  0.96551724,  0.99033816,  1.        ,\n",
       "         0.92513966,  0.9980315 ,  0.85393258,  0.99805825,  1.        ,\n",
       "         1.        ,  1.        ,  0.9905482 ,  0.8915145 ,  0.98423818,\n",
       "         0.90339526,  0.96404494,  1.        ,  0.99774775,  1.        ,\n",
       "         0.98679472,  0.99659091,  0.9155646 ,  0.98320269,  1.        ,\n",
       "         0.98054275,  0.95577396,  0.92675159,  0.9980695 ,  1.        ,\n",
       "         0.99814471,  0.97834493,  1.        ,  1.        ,  0.9870317 ,\n",
       "         0.94923858,  0.98564593,  0.99861304,  1.        ,  0.96658986,\n",
       "         0.96960784,  0.97386172,  0.96560847,  0.97340426,  0.99358974,\n",
       "         0.97237569,  0.94600848,  0.93093525,  0.98686679,  1.        ,\n",
       "         0.98710866,  1.        ,  0.92745536,  0.99570815,  0.962     ,\n",
       "         0.98803419,  1.        ,  0.99781897,  1.        ,  0.99038462,\n",
       "         0.98895028,  0.98196393,  0.98857868,  0.98971722,  0.97201493,\n",
       "         0.90660646,  0.99102334,  0.97643098,  0.99705449,  0.9969697 ,\n",
       "         0.99827586,  1.        ,  0.98783186,  1.        ,  1.        ,\n",
       "         0.8624977 ,  0.9952381 ,  0.94252874,  0.99604743,  1.        ,\n",
       "         0.98776758,  0.99613153,  0.9980916 ,  0.95223515,  0.92545332,\n",
       "         0.97013487,  0.98185118,  1.        ,  0.89588378,  1.        ,\n",
       "         1.        ,  1.        ,  1.        ,  0.99113475,  0.97176281]),\n",
       " array([ 1.        ,  1.        ,  0.90378007,  0.89816124,  1.        ,\n",
       "         0.20115774,  0.8452579 ,  0.73433295,  1.        ,  1.        ,\n",
       "         1.        ,  0.89148352,  0.98672199,  1.        ,  0.61003861,\n",
       "         1.        ,  0.66310795,  1.        ,  1.        ,  0.89727865,\n",
       "         0.77171216,  0.64220532,  0.85126286,  1.        ,  1.        ,\n",
       "         0.96672828,  1.        ,  1.        ,  0.92716367,  0.94655172,\n",
       "         0.83590963,  0.6944801 ,  1.        ,  0.7043379 ,  0.7454676 ,\n",
       "         0.68846154,  0.69792456,  0.46169772,  0.84952978,  0.05272727,\n",
       "         1.        ,  0.44948922,  1.        ,  1.        ,  0.73864895,\n",
       "         0.82758621,  1.        ,  0.70785071,  0.90285162,  1.        ,\n",
       "         0.95526561,  0.61692308,  1.        ,  1.        ,  0.96118299,\n",
       "         0.96696697,  1.        ,  0.66524702,  0.67540984,  0.65409027,\n",
       "         0.97255937,  0.96851852,  0.88854962,  0.45856798,  0.72301136,\n",
       "         0.50260078,  0.72744722,  0.68644068,  0.72285068,  1.        ,\n",
       "         1.        ,  0.96209728,  0.20989505,  0.9550706 ,  0.7639485 ,\n",
       "         0.74847414,  0.        ,  0.92908224,  0.87136294,  0.90784558,\n",
       "         0.84825493,  0.83347315,  1.        ,  0.53265666,  1.        ,\n",
       "         0.92731959,  0.91023339,  0.93986014,  1.        ,  0.83529655,\n",
       "         0.68781095,  0.6315059 ,  0.93660856,  0.57195572,  0.64323374,\n",
       "         0.72424677,  0.73931624,  1.        ,  0.89876543,  0.91083916,\n",
       "         0.78666667,  1.        ,  0.84517045,  0.96765847,  1.        ,\n",
       "         1.        ,  0.99151344,  0.84271523,  1.        ,  1.        ,\n",
       "         1.        ,  0.94228504,  0.82495948,  0.79444444,  0.76309227,\n",
       "         0.70682148,  0.84202212,  0.73165829,  0.94228805,  0.96631737,\n",
       "         0.54117647,  1.        ,  0.99672131,  1.        ,  1.        ,\n",
       "         0.97096189,  1.        ,  0.97217069,  0.84150051,  0.77303989,\n",
       "         0.86155914,  0.76538805,  0.74573055,  0.66119403,  1.        ,\n",
       "         1.        ,  1.        ,  0.62456627,  0.7989081 ,  1.        ,\n",
       "         0.83297086,  0.60686427,  0.98310811,  0.96455224,  1.        ,\n",
       "         1.        ,  0.83048845,  1.        ,  1.        ,  0.69897959,\n",
       "         0.87587822,  0.62852784,  0.86227545,  1.        ,  0.78631678,\n",
       "         0.73042836,  0.55959302,  0.83238312,  0.898527  ,  0.25203252,\n",
       "         0.8121292 ,  0.74513973,  0.66563786,  1.        ,  1.        ,\n",
       "         0.82972136,  0.88388215,  0.69365609,  0.76232202,  0.60275689,\n",
       "         0.89473684,  1.        ,  0.97547974,  0.94904459,  0.73676681,\n",
       "         0.97814208,  0.67215364,  0.72196478,  0.66493955,  0.67574578,\n",
       "         0.84337349,  0.88603531,  0.73139975,  0.95621469,  0.95500726,\n",
       "         1.        ,  0.88403042,  0.88241107,  0.98551959,  1.        ,\n",
       "         0.6971637 ,  0.92614476,  0.66464032,  1.        ,  0.92643052,\n",
       "         0.84554974,  0.99420849,  1.        ,  0.90564939,  0.71177686,\n",
       "         0.78610461,  0.81353383,  1.        ,  0.71670702,  1.        ,\n",
       "         0.91485149,  1.        ,  0.96148359,  0.97727273,  0.91008689]),\n",
       " array([ 1.        ,  0.9933615 ,  0.9355269 ,  0.92229484,  1.        ,\n",
       "         0.33213859,  0.90876565,  0.83460782,  0.99409449,  1.        ,\n",
       "         1.        ,  0.91344124,  0.99331662,  1.        ,  0.74704492,\n",
       "         0.99906977,  0.78732394,  1.        ,  1.        ,  0.90701279,\n",
       "         0.84543689,  0.75066667,  0.89787864,  1.        ,  1.        ,\n",
       "         0.97848457,  1.        ,  0.99688958,  0.96049711,  0.96400351,\n",
       "         0.90070468,  0.81231231,  0.99801587,  0.80600914,  0.81671583,\n",
       "         0.79145173,  0.79219328,  0.60433604,  0.9048414 ,  0.1       ,\n",
       "         1.        ,  0.59192825,  0.99910153,  0.99926632,  0.81590214,\n",
       "         0.90452261,  0.99900892,  0.81845238,  0.89506469,  1.        ,\n",
       "         0.97712107,  0.75093633,  1.        ,  1.        ,  0.98020735,\n",
       "         0.98320611,  1.        ,  0.77788845,  0.80155642,  0.78418939,\n",
       "         0.98319552,  0.98031865,  0.93569132,  0.62397373,  0.83717105,\n",
       "         0.65745269,  0.84222222,  0.81      ,  0.80125392,  1.        ,\n",
       "         0.99911739,  0.98068255,  0.34146341,  0.9550706 ,  0.85576923,\n",
       "         0.81497027,  0.        ,  0.93647695,  0.92071197,  0.94860117,\n",
       "         0.90331269,  0.88476267,  1.        ,  0.66981132,  0.99901283,\n",
       "         0.96228938,  0.95032802,  0.95386799,  1.        ,  0.89089707,\n",
       "         0.79855596,  0.72423398,  0.96568627,  0.71209801,  0.77419355,\n",
       "         0.83149399,  0.83625378,  1.        ,  0.92620865,  0.94899818,\n",
       "         0.86605505,  0.99903939,  0.90494297,  0.97205978,  1.        ,\n",
       "         0.98363636,  0.99362155,  0.9146451 ,  1.        ,  1.        ,\n",
       "         1.        ,  0.96793708,  0.87997036,  0.85271318,  0.83893077,\n",
       "         0.8130217 ,  0.90569244,  0.8324757 ,  0.96571578,  0.98287019,\n",
       "         0.6828866 ,  0.99901478,  0.91981846,  0.99902818,  1.        ,\n",
       "         0.98526703,  1.        ,  0.98127341,  0.86578581,  0.86594761,\n",
       "         0.88198136,  0.85330681,  0.85434783,  0.79533214,  1.        ,\n",
       "         0.99335347,  0.99829254,  0.74257426,  0.8815261 ,  1.        ,\n",
       "         0.90075259,  0.74236641,  0.95409836,  0.98102467,  1.        ,\n",
       "         0.99907149,  0.8983737 ,  1.        ,  1.        ,  0.81839904,\n",
       "         0.91108404,  0.76758267,  0.92544987,  1.        ,  0.86718346,\n",
       "         0.83319292,  0.71076923,  0.89406001,  0.93446809,  0.40207523,\n",
       "         0.88505747,  0.83364486,  0.77624475,  0.99338999,  1.        ,\n",
       "         0.90159798,  0.93836247,  0.79369628,  0.86352357,  0.74114022,\n",
       "         0.93907392,  1.        ,  0.98652291,  0.97385621,  0.84495488,\n",
       "         0.98351648,  0.7980456 ,  0.83449384,  0.79545455,  0.7972456 ,\n",
       "         0.87384756,  0.93559322,  0.83633742,  0.97620764,  0.97553744,\n",
       "         0.99913719,  0.93844601,  0.93215031,  0.99270699,  1.        ,\n",
       "         0.77106747,  0.95944912,  0.77956031,  0.9980198 ,  0.96181047,\n",
       "         0.91114245,  0.99516908,  0.99904489,  0.92835821,  0.80467153,\n",
       "         0.86847779,  0.88980263,  1.        ,  0.79634114,  1.        ,\n",
       "         0.95553257,  1.        ,  0.98036364,  0.98415493,  0.93991416]),\n",
       " array([  524,   823,  1164,   707,   731,   691,   601,  2601,   505,\n",
       "          580,   516,   728,  1205,  1162,  1036,   537,   843,   596,\n",
       "          604,  2609, 14105,  2630,  3207,   502,  1610,   541,  1180,\n",
       "          641,  1167,   580,   841,   779,   503,   876,  5571,   780,\n",
       "         6601,   966,   638,  1100,   505,   881,   556,   681,   903,\n",
       "          870,   504,   777,  2069,   804,  1073,   650,   502,   515,\n",
       "         1623,   999,   501,  1174,   610,  2836,  1895,   540,   655,\n",
       "         1243,   704,  3076,   521,   590,   884,   581,   566,  1583,\n",
       "          667,   779,  1165,  3113,     0,  6712,   653,   803,  1977,\n",
       "        11920,   503,  2266,   506,  1940,   557,   715,   610,  4839,\n",
       "         4020,  1441,   631,   813,  1138,  3485,   936,  1157,   810,\n",
       "          572,   900,   520,   704,   773,   595,   541,   707,   604,\n",
       "          503,  1108,   567,   849,  4319,   900,   802,   689,   633,\n",
       "          995,  1958,  1336,  1530,   507,   610,   514,   595,   551,\n",
       "          541,   539,  5918,   727,  8184,  1121,   527,   670,   776,\n",
       "          822,   877,  1441,  1099,   863,  2299,   641,   592,   536,\n",
       "         1023,   538,  7616,   502,   513,   980,  1708,  1311,   835,\n",
       "          810,  1067,  1354,  2064,  1754,   611,   615,  1517,  3292,\n",
       "          972,   526,   502,   646,   577,  2396,   913,  1596,   646,\n",
       "          501,   938,   785,   699,   915,   729,  1079,   579,   771,\n",
       "         9047,   623,   793,   708,   689,   579,   526,  1012,  1174,\n",
       "          614, 13433,   677,   987,   504,   734,   764,  1036,   523,\n",
       "         1717,  1936,  1281,   665,   652,  2065,   610,  2525,   567,\n",
       "          701,   572,  2647]))"
      ]
     },
     "execution_count": 24,
     "metadata": {},
     "output_type": "execute_result"
    }
   ],
   "source": [
    "#average= None, the scores for each class are returned.\n",
    "precision_recall_fscore_support(y_train, y_pred, average=None, sample_weight=None)"
   ]
  },
  {
   "cell_type": "code",
   "execution_count": null,
   "metadata": {
    "scrolled": true
   },
   "outputs": [],
   "source": [
    "a = precision_recall_fscore_support(y_train, y_pred, average=None, sample_weight=None)\n",
    "pd.DataFrame(list(a))\n",
    "f1_byclass = pd.DataFrame((a)[2], columns=['f1'])\n",
    "\n",
    "support_byclass = pd.DataFrame((a)[3], columns=['support'])\n",
    "\n",
    "f1_byclass = pd.merge(\n",
    "    left=f1_byclass, \n",
    "    right=support_byclass, \n",
    "    left_index=True,\n",
    "    right_index=True,\n",
    "    how='outer', \n",
    "    validate='one_to_one'\n",
    ")\n",
    "\n",
    "f1_byclass['index_col'] = f1_byclass.index\n",
    "\n",
    "f1_byclass['level2taxon'] = f1_byclass['index_col'].map(labels_index).copy()\n",
    "\n",
    "print(\"At p_threshold of {}, there were {} out of {} ({})% taxons with auto-tagged content in the training data\"\n",
    "      .format(P_THRESHOLD, \n",
    "              f1_byclass.loc[f1_byclass['f1'] > 0].shape[0], \n",
    "              y_pred.shape[1], \n",
    "              (f1_byclass.loc[f1_byclass['f1'] > 0].shape[0]/y_pred.shape[1])*100 ))"
   ]
  },
  {
   "cell_type": "code",
   "execution_count": null,
   "metadata": {
    "scrolled": true
   },
   "outputs": [],
   "source": [
    "no_auto_content = f1_byclass.loc[f1_byclass['f1'] == 0]\n",
    "no_auto_content = no_auto_content.set_index('level2taxon')"
   ]
  },
  {
   "cell_type": "code",
   "execution_count": null,
   "metadata": {
    "scrolled": true
   },
   "outputs": [],
   "source": [
    "no_auto_content['support'].sort_values().plot( kind = 'barh', figsize=(20, 20))"
   ]
  },
  {
   "cell_type": "code",
   "execution_count": null,
   "metadata": {
    "scrolled": true
   },
   "outputs": [],
   "source": [
    "classes_predictedto = f1_byclass.loc[f1_byclass['f1'] > 0]\n",
    "classes_predictedto = classes_predictedto.set_index('level2taxon') "
   ]
  },
  {
   "cell_type": "code",
   "execution_count": null,
   "metadata": {
    "scrolled": true
   },
   "outputs": [],
   "source": [
    "classes_predictedto.plot.scatter(x='support', y='f1', figsize=(20, 10), xticks=np.arange(0, 9700, 100))"
   ]
  },
  {
   "cell_type": "code",
   "execution_count": null,
   "metadata": {
    "scrolled": true
   },
   "outputs": [],
   "source": [
    "classes_predictedto['f1'].sort_values().plot( kind = 'barh', figsize=(20, 20))"
   ]
  },
  {
   "cell_type": "code",
   "execution_count": null,
   "metadata": {
    "scrolled": true
   },
   "outputs": [],
   "source": [
    "#Calculate globally by counting the total true positives, false negatives and false positives.\n",
    "precision_recall_fscore_support(y_train, y_pred, average='micro', sample_weight=None) "
   ]
  },
  {
   "cell_type": "code",
   "execution_count": null,
   "metadata": {
    "scrolled": true
   },
   "outputs": [],
   "source": [
    "#Calculate metrics for each label, and find their unweighted mean. This does not take label imbalance into account\n",
    "precision_recall_fscore_support(y_train, y_pred, average='macro', sample_weight=None)"
   ]
  },
  {
   "cell_type": "code",
   "execution_count": null,
   "metadata": {
    "scrolled": true
   },
   "outputs": [],
   "source": [
    "#Calculate metrics for each label, and find their unweighted mean. This does not take label imbalance into account\n",
    "precision_recall_fscore_support(y_train, y_pred, average='weighted', sample_weight=None)"
   ]
  },
  {
   "cell_type": "markdown",
   "metadata": {},
   "source": [
    "#### Development set metrics"
   ]
  },
  {
   "cell_type": "code",
   "execution_count": 25,
   "metadata": {},
   "outputs": [],
   "source": [
    "P_THRESHOLD=0.5"
   ]
  },
  {
   "cell_type": "code",
   "execution_count": 26,
   "metadata": {},
   "outputs": [],
   "source": [
    "y_dev = actual_dev.values\n",
    "y_pred_dev = pred_dev.values"
   ]
  },
  {
   "cell_type": "code",
   "execution_count": 27,
   "metadata": {
    "scrolled": true
   },
   "outputs": [],
   "source": [
    "y_pred_dev[y_pred_dev>=P_THRESHOLD] = 1\n",
    "y_pred_dev[y_pred_dev<P_THRESHOLD] = 0"
   ]
  },
  {
   "cell_type": "code",
   "execution_count": 28,
   "metadata": {
    "scrolled": true
   },
   "outputs": [
    {
     "name": "stderr",
     "output_type": "stream",
     "text": [
      "/home/ubuntu/anaconda3/envs/tensorflow_p36/lib/python3.6/site-packages/sklearn/metrics/classification.py:1135: UndefinedMetricWarning: Precision and F-score are ill-defined and being set to 0.0 in labels with no predicted samples.\n",
      "  'precision', 'predicted', average, warn_for)\n",
      "/home/ubuntu/anaconda3/envs/tensorflow_p36/lib/python3.6/site-packages/sklearn/metrics/classification.py:1137: UndefinedMetricWarning: Recall and F-score are ill-defined and being set to 0.0 in labels with no true samples.\n",
      "  'recall', 'true', average, warn_for)\n"
     ]
    },
    {
     "data": {
      "text/plain": [
       "(array([ 0.        ,  0.75      ,  0.98360656,  0.5       ,  1.        ,\n",
       "         0.81818182,  0.33333333,  0.90196078,  0.        ,  1.        ,\n",
       "         0.        ,  0.75      ,  1.        ,  0.        ,  0.76470588,\n",
       "         0.        ,  0.88888889,  0.        ,  1.        ,  0.80116959,\n",
       "         0.87663755,  0.80991736,  0.82938389,  0.        ,  0.        ,\n",
       "         1.        ,  1.        ,  1.        ,  1.        ,  0.8       ,\n",
       "         0.85714286,  0.        ,  0.        ,  0.66666667,  0.88358779,\n",
       "         0.66666667,  0.78731343,  0.5       ,  0.85714286,  1.        ,\n",
       "         0.        ,  0.82352941,  1.        ,  1.        ,  0.45      ,\n",
       "         0.33333333,  0.        ,  0.85714286,  0.77070064,  0.        ,\n",
       "         1.        ,  0.25      ,  1.        ,  0.        ,  0.5       ,\n",
       "         0.        ,  0.        ,  0.91566265,  0.75      ,  0.85869565,\n",
       "         0.5       ,  0.8       ,  0.7       ,  0.92857143,  0.        ,\n",
       "         0.88571429,  0.        ,  0.875     ,  0.5       ,  0.        ,\n",
       "         1.        ,  1.        ,  0.78571429,  0.78125   ,  0.95604396,\n",
       "         0.86545455,  0.        ,  0.85560345,  0.63636364,  0.8       ,\n",
       "         0.88489209,  0.90352697,  0.        ,  0.7628866 ,  0.        ,\n",
       "         0.        ,  0.8       ,  1.        ,  0.        ,  0.8988764 ,\n",
       "         0.90405904,  0.83636364,  1.        ,  0.63636364,  0.87301587,\n",
       "         0.97101449,  0.66666667,  1.        ,  0.73333333,  0.85714286,\n",
       "         0.94736842,  0.        ,  0.33333333,  0.84615385,  1.        ,\n",
       "         0.375     ,  0.81818182,  1.        ,  0.        ,  0.66666667,\n",
       "         0.        ,  1.        ,  0.87931034,  0.75757576,  0.76470588,\n",
       "         0.61538462,  0.875     ,  0.91780822,  0.95145631,  0.        ,\n",
       "         0.8375    ,  0.        ,  0.30769231,  0.        ,  0.        ,\n",
       "         0.        ,  0.        ,  0.66666667,  0.79449153,  0.4       ,\n",
       "         0.82222222,  0.88659794,  0.        ,  1.        ,  1.        ,\n",
       "         0.5       ,  0.5       ,  0.84883721,  0.89473684,  0.        ,\n",
       "         0.86486486,  0.86486486,  0.42857143,  1.        ,  0.        ,\n",
       "         1.        ,  0.95708155,  0.        ,  0.        ,  0.94444444,\n",
       "         0.86029412,  0.84      ,  1.        ,  0.        ,  0.68292683,\n",
       "         0.88571429,  0.91262136,  0.77272727,  0.66666667,  1.        ,\n",
       "         0.91780822,  0.89873418,  0.9       ,  0.5       ,  0.        ,\n",
       "         1.        ,  1.        ,  0.78723404,  0.91666667,  0.89705882,\n",
       "         0.66666667,  0.        ,  0.66666667,  0.66666667,  1.        ,\n",
       "         0.5       ,  1.        ,  0.97647059,  1.        ,  0.8       ,\n",
       "         0.82769231,  1.        ,  0.95744681,  1.        ,  1.        ,\n",
       "         1.        ,  1.        ,  0.97402597,  0.        ,  0.        ,\n",
       "         0.72355769,  0.66666667,  0.84615385,  1.        ,  0.85714286,\n",
       "         1.        ,  0.83333333,  1.        ,  0.91625616,  0.82608696,\n",
       "         0.70967742,  0.66666667,  0.        ,  0.84659091,  0.        ,\n",
       "         0.76923077,  1.        ,  0.        ,  0.77777778,  0.94512195]),\n",
       " array([ 0.        ,  0.85714286,  0.87591241,  0.38461538,  0.25      ,\n",
       "         0.15517241,  0.13333333,  0.58474576,  0.        ,  0.5       ,\n",
       "         0.        ,  0.65217391,  0.25      ,  0.        ,  0.23636364,\n",
       "         0.        ,  0.32      ,  0.        ,  0.5       ,  0.76966292,\n",
       "         0.68691189,  0.43946188,  0.79545455,  0.        ,  0.        ,\n",
       "         0.66666667,  0.66666667,  0.6       ,  0.81818182,  1.        ,\n",
       "         0.63157895,  0.        ,  0.        ,  0.38461538,  0.75284553,\n",
       "         0.46153846,  0.4741573 ,  0.2       ,  0.54545455,  0.01052632,\n",
       "         0.        ,  0.20289855,  0.5       ,  0.42857143,  0.24324324,\n",
       "         0.2       ,  0.        ,  0.54545455,  0.7515528 ,  0.        ,\n",
       "         0.25      ,  0.1       ,  0.33333333,  0.        ,  0.25      ,\n",
       "         0.        ,  0.        ,  0.67256637,  0.21428571,  0.44632768,\n",
       "         0.41666667,  0.8       ,  0.5       ,  0.27659574,  0.        ,\n",
       "         0.34831461,  0.        ,  0.63636364,  0.2       ,  0.        ,\n",
       "         1.        ,  0.33333333,  0.14473684,  0.80645161,  0.79816514,\n",
       "         0.68786127,  0.        ,  0.83932347,  0.46666667,  0.4       ,\n",
       "         0.76875   ,  0.77422222,  0.        ,  0.3718593 ,  0.        ,\n",
       "         0.        ,  0.57142857,  0.59090909,  0.        ,  0.73394495,\n",
       "         0.61712846,  0.51111111,  0.28571429,  0.175     ,  0.4954955 ,\n",
       "         0.75706215,  0.23529412,  0.5       ,  0.44      ,  0.6       ,\n",
       "         0.4       ,  0.        ,  0.33333333,  0.64705882,  0.33333333,\n",
       "         0.5       ,  1.        ,  0.33333333,  0.        ,  0.66666667,\n",
       "         0.        ,  0.75      ,  0.64285714,  0.69444444,  0.44827586,\n",
       "         0.32      ,  0.63636364,  0.74444444,  0.86725664,  0.        ,\n",
       "         0.44078947,  0.        ,  0.88888889,  0.        ,  0.        ,\n",
       "         0.        ,  0.        ,  1.        ,  0.79281184,  0.16666667,\n",
       "         0.75650558,  0.76106195,  0.        ,  0.18181818,  0.75      ,\n",
       "         0.33333333,  0.2       ,  0.60330579,  0.68686869,  0.        ,\n",
       "         0.58715596,  0.49230769,  0.75      ,  0.625     ,  0.        ,\n",
       "         1.        ,  0.78521127,  0.        ,  0.        ,  0.47222222,\n",
       "         0.82978723,  0.25925926,  0.4       ,  0.        ,  0.35      ,\n",
       "         0.54867257,  0.5136612 ,  0.68      ,  0.38095238,  0.08474576,\n",
       "         0.77456647,  0.63017751,  0.64285714,  0.5       ,  0.        ,\n",
       "         0.25      ,  0.33333333,  0.43786982,  0.61111111,  0.40666667,\n",
       "         0.4       ,  0.        ,  0.8       ,  0.66666667,  0.33333333,\n",
       "         0.5       ,  0.375     ,  0.72173913,  0.66666667,  0.28571429,\n",
       "         0.72214765,  0.5       ,  0.59210526,  0.64285714,  0.14285714,\n",
       "         0.66666667,  1.        ,  0.83333333,  0.        ,  0.        ,\n",
       "         0.56738926,  1.        ,  0.43137255,  1.        ,  0.6       ,\n",
       "         0.56521739,  0.45454545,  1.        ,  0.88995215,  0.56296296,\n",
       "         0.44897959,  0.4       ,  0.        ,  0.70616114,  0.        ,\n",
       "         0.58823529,  0.16666667,  0.        ,  0.77777778,  0.86592179]),\n",
       " array([ 0.        ,  0.8       ,  0.92664093,  0.43478261,  0.4       ,\n",
       "         0.26086957,  0.19047619,  0.70951157,  0.        ,  0.66666667,\n",
       "         0.        ,  0.69767442,  0.4       ,  0.        ,  0.36111111,\n",
       "         0.        ,  0.47058824,  0.        ,  0.66666667,  0.78510029,\n",
       "         0.77026379,  0.56976744,  0.81206497,  0.        ,  0.        ,\n",
       "         0.8       ,  0.8       ,  0.75      ,  0.9       ,  0.88888889,\n",
       "         0.72727273,  0.        ,  0.        ,  0.48780488,  0.81299385,\n",
       "         0.54545455,  0.59186536,  0.28571429,  0.66666667,  0.02083333,\n",
       "         0.        ,  0.3255814 ,  0.66666667,  0.6       ,  0.31578947,\n",
       "         0.25      ,  0.        ,  0.66666667,  0.76100629,  0.        ,\n",
       "         0.4       ,  0.14285714,  0.5       ,  0.        ,  0.33333333,\n",
       "         0.        ,  0.        ,  0.7755102 ,  0.33333333,  0.58736059,\n",
       "         0.45454545,  0.8       ,  0.58333333,  0.42622951,  0.        ,\n",
       "         0.5       ,  0.        ,  0.73684211,  0.28571429,  0.        ,\n",
       "         1.        ,  0.5       ,  0.24444444,  0.79365079,  0.87      ,\n",
       "         0.76650564,  0.        ,  0.84738527,  0.53846154,  0.53333333,\n",
       "         0.82274247,  0.83389181,  0.        ,  0.5       ,  0.        ,\n",
       "         0.        ,  0.66666667,  0.74285714,  0.        ,  0.80808081,\n",
       "         0.73353293,  0.63448276,  0.44444444,  0.2745098 ,  0.63218391,\n",
       "         0.85079365,  0.34782609,  0.66666667,  0.55      ,  0.70588235,\n",
       "         0.5625    ,  0.        ,  0.33333333,  0.73333333,  0.5       ,\n",
       "         0.42857143,  0.9       ,  0.5       ,  0.        ,  0.66666667,\n",
       "         0.        ,  0.85714286,  0.74271845,  0.72463768,  0.56521739,\n",
       "         0.42105263,  0.73684211,  0.82208589,  0.90740741,  0.        ,\n",
       "         0.57758621,  0.        ,  0.45714286,  0.        ,  0.        ,\n",
       "         0.        ,  0.        ,  0.8       ,  0.79365079,  0.23529412,\n",
       "         0.78799613,  0.81904762,  0.        ,  0.30769231,  0.85714286,\n",
       "         0.4       ,  0.28571429,  0.70531401,  0.77714286,  0.        ,\n",
       "         0.69945355,  0.62745098,  0.54545455,  0.76923077,  0.        ,\n",
       "         1.        ,  0.86266925,  0.        ,  0.        ,  0.62962963,\n",
       "         0.84476534,  0.39622642,  0.57142857,  0.        ,  0.46280992,\n",
       "         0.67759563,  0.65734266,  0.72340426,  0.48484848,  0.15625   ,\n",
       "         0.84012539,  0.74086957,  0.75      ,  0.5       ,  0.        ,\n",
       "         0.4       ,  0.5       ,  0.56273764,  0.73333333,  0.55963303,\n",
       "         0.5       ,  0.        ,  0.72727273,  0.66666667,  0.5       ,\n",
       "         0.5       ,  0.54545455,  0.83      ,  0.8       ,  0.42105263,\n",
       "         0.77132616,  0.66666667,  0.73170732,  0.7826087 ,  0.25      ,\n",
       "         0.8       ,  1.        ,  0.89820359,  0.        ,  0.        ,\n",
       "         0.63602747,  0.8       ,  0.57142857,  1.        ,  0.70588235,\n",
       "         0.72222222,  0.58823529,  1.        ,  0.90291262,  0.66960352,\n",
       "         0.55      ,  0.5       ,  0.        ,  0.77002584,  0.        ,\n",
       "         0.66666667,  0.28571429,  0.        ,  0.77777778,  0.90379009]),\n",
       " array([   0,    7,  137,   13,    4,   58,   15,  236,    0,    2,    0,\n",
       "          23,    4,    1,   55,    1,   25,    0,    2,  178, 1169,  223,\n",
       "         220,    0,    2,    3,    3,    5,   11,   12,   19,    7,    0,\n",
       "          52,  615,   26,  445,   15,   11,   95,    0,   69,    2,    7,\n",
       "          37,    5,    0,   22,  161,    0,    4,   10,    3,    0,    4,\n",
       "           1,    0,  113,   14,  177,   12,    5,   14,   47,    2,  267,\n",
       "           0,   11,   20,    0,    3,    3,   76,   31,  109,  346,    1,\n",
       "         473,   15,   10,  160, 1125,    0,  199,    2,    5,    7,   22,\n",
       "           1,  436,  397,   90,    7,   40,  111,  354,   34,    2,   25,\n",
       "          10,   45,    1,    3,   17,    3,    6,    9,    3,    0,    3,\n",
       "           1,    4,  238,   36,   29,   25,   22,   90,  113,    2,  152,\n",
       "           0,    9,    1,    4,    1,    1,    2,  473,   12,  538,  113,\n",
       "           0,   11,    4,    6,    5,  121,   99,    1,  109,   65,    8,\n",
       "           8,    1,    1,  568,    0,    0,   36,  141,   81,   15,    5,\n",
       "          80,  113,  183,   50,   21,   59,  173,  338,  112,    2,    0,\n",
       "           4,    3,  169,   18,  150,    5,    0,    5,    3,   21,    2,\n",
       "          32,  115,    3,   28,  745,    8,   76,   14,    7,    3,    2,\n",
       "          90,    1,    1, 1061,    2,   51,    1,   10,   23,   11,    1,\n",
       "         209,  135,   49,   15,    0,  211,    1,   17,    6,    4,    9,\n",
       "         179]))"
      ]
     },
     "execution_count": 28,
     "metadata": {},
     "output_type": "execute_result"
    }
   ],
   "source": [
    "#average= None, the scores for each class are returned.\n",
    "precision_recall_fscore_support(y_dev, y_pred_dev, average=None, sample_weight=None)"
   ]
  },
  {
   "cell_type": "code",
   "execution_count": 29,
   "metadata": {
    "scrolled": true
   },
   "outputs": [
    {
     "data": {
      "text/plain": [
       "(0.85503646125490829, 0.6401871962560749, 0.73217594181019696, None)"
      ]
     },
     "execution_count": 29,
     "metadata": {},
     "output_type": "execute_result"
    }
   ],
   "source": [
    "#Calculate globally by counting the total true positives, false negatives and false positives.\n",
    "precision_recall_fscore_support(y_dev, y_pred_dev, average='micro', sample_weight=None) "
   ]
  },
  {
   "cell_type": "code",
   "execution_count": 30,
   "metadata": {
    "scrolled": true
   },
   "outputs": [
    {
     "name": "stderr",
     "output_type": "stream",
     "text": [
      "/home/ubuntu/anaconda3/envs/tensorflow_p36/lib/python3.6/site-packages/sklearn/metrics/classification.py:1135: UndefinedMetricWarning: Precision and F-score are ill-defined and being set to 0.0 in labels with no predicted samples.\n",
      "  'precision', 'predicted', average, warn_for)\n",
      "/home/ubuntu/anaconda3/envs/tensorflow_p36/lib/python3.6/site-packages/sklearn/metrics/classification.py:1137: UndefinedMetricWarning: Recall and F-score are ill-defined and being set to 0.0 in labels with no true samples.\n",
      "  'recall', 'true', average, warn_for)\n"
     ]
    },
    {
     "data": {
      "text/plain": [
       "(0.64408617075606467, 0.42344314263419258, 0.48711680563937582, None)"
      ]
     },
     "execution_count": 30,
     "metadata": {},
     "output_type": "execute_result"
    }
   ],
   "source": [
    "#Calculate metrics for each label, and find their unweighted mean. This does not take label imbalance into account\n",
    "precision_recall_fscore_support(y_dev, y_pred_dev, average='macro', sample_weight=None)"
   ]
  },
  {
   "cell_type": "code",
   "execution_count": 31,
   "metadata": {
    "scrolled": true
   },
   "outputs": [
    {
     "name": "stderr",
     "output_type": "stream",
     "text": [
      "/home/ubuntu/anaconda3/envs/tensorflow_p36/lib/python3.6/site-packages/sklearn/metrics/classification.py:1135: UndefinedMetricWarning: Precision and F-score are ill-defined and being set to 0.0 in labels with no predicted samples.\n",
      "  'precision', 'predicted', average, warn_for)\n",
      "/home/ubuntu/anaconda3/envs/tensorflow_p36/lib/python3.6/site-packages/sklearn/metrics/classification.py:1137: UndefinedMetricWarning: Recall and F-score are ill-defined and being set to 0.0 in labels with no true samples.\n",
      "  'recall', 'true', average, warn_for)\n"
     ]
    },
    {
     "data": {
      "text/plain": [
       "(0.85322542554856917, 0.6401871962560749, 0.71782038259077197, None)"
      ]
     },
     "execution_count": 31,
     "metadata": {},
     "output_type": "execute_result"
    }
   ],
   "source": [
    "#Calculate metrics for each label, and find their unweighted mean. This does not take label imbalance into account\n",
    "precision_recall_fscore_support(y_dev, y_pred_dev, average='weighted', sample_weight=None)"
   ]
  },
  {
   "cell_type": "markdown",
   "metadata": {},
   "source": [
    "### Produce some dummy results for testing."
   ]
  },
  {
   "cell_type": "code",
   "execution_count": 45,
   "metadata": {},
   "outputs": [],
   "source": [
    "array = np.random.randint(2,size=(100000,420))"
   ]
  },
  {
   "cell_type": "code",
   "execution_count": 46,
   "metadata": {},
   "outputs": [],
   "source": [
    "df = pd.DataFrame(data=array.tolist(),columns=[i for i in range(1,421)])"
   ]
  },
  {
   "cell_type": "code",
   "execution_count": 47,
   "metadata": {},
   "outputs": [
    {
     "data": {
      "text/html": [
       "<div>\n",
       "<style scoped>\n",
       "    .dataframe tbody tr th:only-of-type {\n",
       "        vertical-align: middle;\n",
       "    }\n",
       "\n",
       "    .dataframe tbody tr th {\n",
       "        vertical-align: top;\n",
       "    }\n",
       "\n",
       "    .dataframe thead th {\n",
       "        text-align: right;\n",
       "    }\n",
       "</style>\n",
       "<table border=\"1\" class=\"dataframe\">\n",
       "  <thead>\n",
       "    <tr style=\"text-align: right;\">\n",
       "      <th></th>\n",
       "      <th>1</th>\n",
       "      <th>2</th>\n",
       "      <th>3</th>\n",
       "      <th>4</th>\n",
       "      <th>5</th>\n",
       "      <th>6</th>\n",
       "      <th>7</th>\n",
       "      <th>8</th>\n",
       "      <th>9</th>\n",
       "      <th>10</th>\n",
       "      <th>...</th>\n",
       "      <th>411</th>\n",
       "      <th>412</th>\n",
       "      <th>413</th>\n",
       "      <th>414</th>\n",
       "      <th>415</th>\n",
       "      <th>416</th>\n",
       "      <th>417</th>\n",
       "      <th>418</th>\n",
       "      <th>419</th>\n",
       "      <th>420</th>\n",
       "    </tr>\n",
       "  </thead>\n",
       "  <tbody>\n",
       "    <tr>\n",
       "      <th>0</th>\n",
       "      <td>1</td>\n",
       "      <td>1</td>\n",
       "      <td>1</td>\n",
       "      <td>1</td>\n",
       "      <td>0</td>\n",
       "      <td>1</td>\n",
       "      <td>0</td>\n",
       "      <td>1</td>\n",
       "      <td>0</td>\n",
       "      <td>0</td>\n",
       "      <td>...</td>\n",
       "      <td>0</td>\n",
       "      <td>1</td>\n",
       "      <td>0</td>\n",
       "      <td>0</td>\n",
       "      <td>0</td>\n",
       "      <td>1</td>\n",
       "      <td>1</td>\n",
       "      <td>1</td>\n",
       "      <td>1</td>\n",
       "      <td>0</td>\n",
       "    </tr>\n",
       "    <tr>\n",
       "      <th>1</th>\n",
       "      <td>1</td>\n",
       "      <td>0</td>\n",
       "      <td>0</td>\n",
       "      <td>0</td>\n",
       "      <td>1</td>\n",
       "      <td>1</td>\n",
       "      <td>0</td>\n",
       "      <td>0</td>\n",
       "      <td>1</td>\n",
       "      <td>0</td>\n",
       "      <td>...</td>\n",
       "      <td>0</td>\n",
       "      <td>1</td>\n",
       "      <td>0</td>\n",
       "      <td>0</td>\n",
       "      <td>1</td>\n",
       "      <td>0</td>\n",
       "      <td>0</td>\n",
       "      <td>1</td>\n",
       "      <td>1</td>\n",
       "      <td>0</td>\n",
       "    </tr>\n",
       "    <tr>\n",
       "      <th>2</th>\n",
       "      <td>0</td>\n",
       "      <td>1</td>\n",
       "      <td>1</td>\n",
       "      <td>0</td>\n",
       "      <td>0</td>\n",
       "      <td>1</td>\n",
       "      <td>0</td>\n",
       "      <td>1</td>\n",
       "      <td>0</td>\n",
       "      <td>0</td>\n",
       "      <td>...</td>\n",
       "      <td>0</td>\n",
       "      <td>0</td>\n",
       "      <td>1</td>\n",
       "      <td>1</td>\n",
       "      <td>0</td>\n",
       "      <td>0</td>\n",
       "      <td>1</td>\n",
       "      <td>0</td>\n",
       "      <td>0</td>\n",
       "      <td>0</td>\n",
       "    </tr>\n",
       "    <tr>\n",
       "      <th>3</th>\n",
       "      <td>0</td>\n",
       "      <td>1</td>\n",
       "      <td>1</td>\n",
       "      <td>1</td>\n",
       "      <td>0</td>\n",
       "      <td>1</td>\n",
       "      <td>0</td>\n",
       "      <td>1</td>\n",
       "      <td>1</td>\n",
       "      <td>0</td>\n",
       "      <td>...</td>\n",
       "      <td>0</td>\n",
       "      <td>0</td>\n",
       "      <td>1</td>\n",
       "      <td>0</td>\n",
       "      <td>0</td>\n",
       "      <td>1</td>\n",
       "      <td>0</td>\n",
       "      <td>1</td>\n",
       "      <td>0</td>\n",
       "      <td>0</td>\n",
       "    </tr>\n",
       "    <tr>\n",
       "      <th>4</th>\n",
       "      <td>0</td>\n",
       "      <td>0</td>\n",
       "      <td>0</td>\n",
       "      <td>0</td>\n",
       "      <td>1</td>\n",
       "      <td>0</td>\n",
       "      <td>1</td>\n",
       "      <td>0</td>\n",
       "      <td>1</td>\n",
       "      <td>1</td>\n",
       "      <td>...</td>\n",
       "      <td>1</td>\n",
       "      <td>1</td>\n",
       "      <td>0</td>\n",
       "      <td>0</td>\n",
       "      <td>1</td>\n",
       "      <td>0</td>\n",
       "      <td>0</td>\n",
       "      <td>0</td>\n",
       "      <td>1</td>\n",
       "      <td>0</td>\n",
       "    </tr>\n",
       "  </tbody>\n",
       "</table>\n",
       "<p>5 rows × 420 columns</p>\n",
       "</div>"
      ],
      "text/plain": [
       "   1    2    3    4    5    6    7    8    9    10  ...   411  412  413  414  \\\n",
       "0    1    1    1    1    0    1    0    1    0    0 ...     0    1    0    0   \n",
       "1    1    0    0    0    1    1    0    0    1    0 ...     0    1    0    0   \n",
       "2    0    1    1    0    0    1    0    1    0    0 ...     0    0    1    1   \n",
       "3    0    1    1    1    0    1    0    1    1    0 ...     0    0    1    0   \n",
       "4    0    0    0    0    1    0    1    0    1    1 ...     1    1    0    0   \n",
       "\n",
       "   415  416  417  418  419  420  \n",
       "0    0    1    1    1    1    0  \n",
       "1    1    0    0    1    1    0  \n",
       "2    0    0    1    0    0    0  \n",
       "3    0    1    0    1    0    0  \n",
       "4    1    0    0    0    1    0  \n",
       "\n",
       "[5 rows x 420 columns]"
      ]
     },
     "execution_count": 47,
     "metadata": {},
     "output_type": "execute_result"
    }
   ],
   "source": [
    "df.head()"
   ]
  },
  {
   "cell_type": "code",
   "execution_count": 48,
   "metadata": {},
   "outputs": [],
   "source": [
    "df.to_csv(os.path.join(DATADIR, 'dummy_results.csv.gz'),compression='gzip',index=False)"
   ]
  }
 ],
 "metadata": {
  "keep_output": true,
  "kernelspec": {
   "display_name": "Environment (conda_tensorflow_p36)",
   "language": "python",
   "name": "conda_tensorflow_p36"
  },
  "language_info": {
   "codemirror_mode": {
    "name": "ipython",
    "version": 3
   },
   "file_extension": ".py",
   "mimetype": "text/x-python",
   "name": "python",
   "nbconvert_exporter": "python",
   "pygments_lexer": "ipython3",
   "version": "3.6.3"
  }
 },
 "nbformat": 4,
 "nbformat_minor": 2
}
