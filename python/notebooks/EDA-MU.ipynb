{
 "cells": [
  {
   "cell_type": "code",
   "execution_count": 1,
   "metadata": {},
   "outputs": [],
   "source": [
    "import numpy as np\n",
    "import pandas as pd\n",
    "import seaborn as sns\n",
    "import matplotlib.pyplot as plt\n",
    "%matplotlib inline"
   ]
  },
  {
   "cell_type": "markdown",
   "metadata": {},
   "source": [
    "# Untagged data"
   ]
  },
  {
   "cell_type": "markdown",
   "metadata": {},
   "source": [
    "These data were written out from the clean_content.py script where the taxons column was empty. \n",
    "- Here we assume the taxon column was empty because the content item has not been tagged."
   ]
  },
  {
   "cell_type": "code",
   "execution_count": 2,
   "metadata": {},
   "outputs": [],
   "source": [
    "#read in untagged content to describe content with no taxons\n",
    "untagged = pd.read_csv('../../data/untagged_content.csv')"
   ]
  },
  {
   "cell_type": "code",
   "execution_count": 3,
   "metadata": {},
   "outputs": [
    {
     "name": "stdout",
     "output_type": "stream",
     "text": [
      "There are 57337 rows in the untagged content data\n",
      "There are 57123 unique content items in the untagged content data\n"
     ]
    }
   ],
   "source": [
    "print(\"There are {} rows in the untagged content data\".\n",
    "      format(untagged.shape[0]))\n",
    "print(\"There are {} unique content items in the untagged content data\".\n",
    "      format(untagged.content_id.nunique()))"
   ]
  },
  {
   "cell_type": "code",
   "execution_count": 4,
   "metadata": {},
   "outputs": [
    {
     "data": {
      "text/plain": [
       "Index(['Unnamed: 0', 'base_path', 'content_id', 'description', 'details',\n",
       "       'document_type', 'first_published_at', 'locale',\n",
       "       'primary_publishing_organisation', 'publishing_app', 'taxons', 'title',\n",
       "       'body'],\n",
       "      dtype='object')"
      ]
     },
     "execution_count": 4,
     "metadata": {},
     "output_type": "execute_result"
    }
   ],
   "source": [
    "untagged.columns"
   ]
  },
  {
   "cell_type": "code",
   "execution_count": 5,
   "metadata": {},
   "outputs": [
    {
     "name": "stdout",
     "output_type": "stream",
     "text": [
      "<class 'str'>\n",
      "<class 'pandas._libs.tslib.Timestamp'>\n"
     ]
    }
   ],
   "source": [
    "#convert string dates to timestamp for time series analyses (see below)\n",
    "print(type(untagged['first_published_at'][0]))\n",
    "untagged['first_published_at'] = pd.to_datetime(untagged['first_published_at'])\n",
    "print(type(untagged['first_published_at'][0]))"
   ]
  },
  {
   "cell_type": "code",
   "execution_count": 6,
   "metadata": {},
   "outputs": [],
   "source": [
    "#use timestamp as index in untagged data for plots\n",
    "untagged.index = untagged['first_published_at'] "
   ]
  },
  {
   "cell_type": "markdown",
   "metadata": {},
   "source": [
    "# Taxon data"
   ]
  },
  {
   "cell_type": "markdown",
   "metadata": {},
   "source": [
    "Taxons data is a row for each taxon with columns for the taxon_id/taxon title at each level. So, for example, if an item has only been tagged to level1 then level2 and subsequent levels will be missing. If an item was tagged to level3, the level2 and level1 columns have been filled recursively. \n",
    "\n",
    "A taxon in taxons is identified through content_id"
   ]
  },
  {
   "cell_type": "code",
   "execution_count": 386,
   "metadata": {},
   "outputs": [],
   "source": [
    "#read in taxon file which was cleaned from raw using clean_taxons.py\n",
    "taxons = pd.read_csv('../../data/clean_taxons.csv')"
   ]
  },
  {
   "cell_type": "code",
   "execution_count": 387,
   "metadata": {},
   "outputs": [],
   "source": [
    "\n",
    "# Convert nans to none\n",
    "\n",
    "# taxons['level1taxon'] = taxons['level1taxon'].where(taxons['level1taxon'] != 'nan', None)\n",
    "# taxons['level2taxon'] = taxons['level2taxon'].where(taxons['level2taxon'].notnull(), None)\n",
    "\n",
    "# print(\"Taxons shape after converting nans to Nones: {}\".format(taxons.shape))"
   ]
  },
  {
   "cell_type": "code",
   "execution_count": 388,
   "metadata": {},
   "outputs": [
    {
     "data": {
      "text/plain": [
       "Index(['Unnamed: 0', 'base_path', 'content_id', 'taxon_name', 'level1',\n",
       "       'level2tax_id', 'level3tax_id', 'level4tax_id', 'level1taxon',\n",
       "       'level2taxon', 'level3taxon', 'level4taxon'],\n",
       "      dtype='object')"
      ]
     },
     "execution_count": 388,
     "metadata": {},
     "output_type": "execute_result"
    }
   ],
   "source": [
    "taxons.columns"
   ]
  },
  {
   "cell_type": "code",
   "execution_count": 389,
   "metadata": {},
   "outputs": [],
   "source": [
    "taxons = taxons[['base_path','content_id','taxon_name','level1taxon','level2taxon','level3taxon','level4taxon']].copy()"
   ]
  },
  {
   "cell_type": "code",
   "execution_count": 390,
   "metadata": {},
   "outputs": [],
   "source": [
    "#For top taxons (level1) ensure that taxon)name is in level1taxon column instead of Nan\n",
    "taxons['level1taxon'] = taxons['level1taxon'].fillna(taxons['taxon_name'])"
   ]
  },
  {
   "cell_type": "code",
   "execution_count": 391,
   "metadata": {},
   "outputs": [],
   "source": [
    "import functools\n",
    "def conjunction(*conditions):\n",
    "    return functools.reduce(np.logical_and, conditions)"
   ]
  },
  {
   "cell_type": "code",
   "execution_count": 392,
   "metadata": {},
   "outputs": [],
   "source": [
    "taxonslevels = taxons.copy()\n",
    "cond = conjunction(taxonslevels['level2taxon'].isna(), taxonslevels['level1taxon'] != taxonslevels['taxon_name'])\n",
    "taxonslevels['level2taxon'] = np.where(cond, taxonslevels['taxon_name'], taxonslevels['level2taxon'])"
   ]
  },
  {
   "cell_type": "code",
   "execution_count": 393,
   "metadata": {},
   "outputs": [],
   "source": [
    "# mask = taxonslevels['level1taxon'] != taxonslevels['taxon_name'], taxonslevels['level2taxon'].isna()\n",
    "# taxonslevels['level2taxon'] = taxonslevels['level2taxon'][conjunction(mask[0], mask[1])].fillna(taxonslevels['taxon_name'])\n",
    "# #taxons['level2taxon'] = taxons['level2taxon'][l1_taxnam & l2_miss].fillna(taxons['taxon_name'])\n",
    "# taxonslevels[35:300]"
   ]
  },
  {
   "cell_type": "code",
   "execution_count": 394,
   "metadata": {},
   "outputs": [],
   "source": [
    "cond = conjunction(taxons['level2taxon'] != taxons['taxon_name'], taxons['level3taxon'].isna(), taxons['level2taxon'].notnull())\n",
    "taxonslevels['level3taxon'] = np.where(cond, taxonslevels['taxon_name'], taxonslevels['level3taxon'])"
   ]
  },
  {
   "cell_type": "code",
   "execution_count": 395,
   "metadata": {},
   "outputs": [],
   "source": [
    "cond = conjunction(taxons['level3taxon'] != taxons['taxon_name'], taxons['level2taxon'] != taxons['taxon_name'], taxons['level4taxon'].isna(), taxons['level3taxon'].notnull())\n",
    "taxonslevels['level4taxon'] = np.where(cond, taxonslevels['taxon_name'], taxonslevels['level4taxon'])"
   ]
  },
  {
   "cell_type": "code",
   "execution_count": 396,
   "metadata": {},
   "outputs": [],
   "source": [
    "taxonslevels['level5taxon'] = np.nan\n",
    "cond = conjunction(taxons['level4taxon'] != taxons['taxon_name'], taxons['level3taxon'] != taxons['taxon_name'], taxons['level2taxon'] != taxons['taxon_name'], taxons['level4taxon'].notnull())\n",
    "taxonslevels['level5taxon'] = np.where(cond, taxonslevels['taxon_name'], taxonslevels['level5taxon'])"
   ]
  },
  {
   "cell_type": "code",
   "execution_count": 397,
   "metadata": {},
   "outputs": [],
   "source": [
    "taxons = taxonslevels.copy()\n"
   ]
  },
  {
   "cell_type": "markdown",
   "metadata": {},
   "source": [
    "# Content data"
   ]
  },
  {
   "cell_type": "markdown",
   "metadata": {},
   "source": [
    "These data were created in clean_content.py so that each row represents a single content-taxon pair. There can be multiple rows for a content item (content_id) if it has been tagged to multiple taxons (taxon_id).  "
   ]
  },
  {
   "cell_type": "code",
   "execution_count": 398,
   "metadata": {},
   "outputs": [],
   "source": [
    "#read in content items file which was cleaned from raw using clean_content.py\n",
    "\n",
    "content = pd.read_csv('../../data/clean_content.csv.gz', compression='gzip')"
   ]
  },
  {
   "cell_type": "code",
   "execution_count": 399,
   "metadata": {},
   "outputs": [
    {
     "data": {
      "text/plain": [
       "Index(['Unnamed: 0', 'base_path', 'content_id', 'description', 'details',\n",
       "       'document_type', 'first_published_at', 'locale',\n",
       "       'primary_publishing_organisation', 'publishing_app', 'title', 'body',\n",
       "       'combined_text', 'variable', 'taxon_id'],\n",
       "      dtype='object')"
      ]
     },
     "execution_count": 399,
     "metadata": {},
     "output_type": "execute_result"
    }
   ],
   "source": [
    "content.columns"
   ]
  },
  {
   "cell_type": "markdown",
   "metadata": {},
   "source": [
    "## All content with no filtering by taxon"
   ]
  },
  {
   "cell_type": "code",
   "execution_count": 400,
   "metadata": {},
   "outputs": [],
   "source": [
    "allcontent_taxons = pd.merge(\n",
    "    left=content, \n",
    "    right=taxons, \n",
    "    left_on='taxon_id', #which taxon is the content item tagged to\n",
    "    right_on='content_id', #what is the id of that taxon\n",
    "    how='outer', #keep everything for checking merge\n",
    "    indicator=True #so we can filter by match type\n",
    ")"
   ]
  },
  {
   "cell_type": "code",
   "execution_count": 401,
   "metadata": {},
   "outputs": [
    {
     "data": {
      "text/plain": [
       "(336967, 24)"
      ]
     },
     "execution_count": 401,
     "metadata": {},
     "output_type": "execute_result"
    }
   ],
   "source": [
    "allcontent_taxons.shape"
   ]
  },
  {
   "cell_type": "code",
   "execution_count": 402,
   "metadata": {},
   "outputs": [],
   "source": [
    "#tidy column names\n",
    "allcontent_taxons.rename(columns={'base_path_x': 'base_path', \n",
    "                               'content_id_x': 'content_id'}, inplace=True)"
   ]
  },
  {
   "cell_type": "markdown",
   "metadata": {},
   "source": [
    "#### All content with no filtering by taxon"
   ]
  },
  {
   "cell_type": "code",
   "execution_count": 403,
   "metadata": {},
   "outputs": [],
   "source": [
    "#intersection of join only\n",
    "allcontent_taxons = allcontent_taxons[allcontent_taxons._merge == 'both']"
   ]
  },
  {
   "cell_type": "code",
   "execution_count": 404,
   "metadata": {},
   "outputs": [
    {
     "data": {
      "text/plain": [
       "(232526, 24)"
      ]
     },
     "execution_count": 404,
     "metadata": {},
     "output_type": "execute_result"
    }
   ],
   "source": [
    "allcontent_taxons.shape"
   ]
  },
  {
   "cell_type": "code",
   "execution_count": 405,
   "metadata": {},
   "outputs": [],
   "source": [
    "#remove duplicates if both content_id and taxon_id are the same. \n",
    "allcontent_taxons = allcontent_taxons.drop_duplicates(subset = ['content_id', 'taxon_id'])"
   ]
  },
  {
   "cell_type": "code",
   "execution_count": 406,
   "metadata": {},
   "outputs": [
    {
     "data": {
      "text/plain": [
       "(232149, 24)"
      ]
     },
     "execution_count": 406,
     "metadata": {},
     "output_type": "execute_result"
    }
   ],
   "source": [
    "allcontent_taxons.shape"
   ]
  },
  {
   "cell_type": "markdown",
   "metadata": {},
   "source": [
    "## Filter by taxon to exclude specific taxons from prediction activities"
   ]
  },
  {
   "cell_type": "markdown",
   "metadata": {},
   "source": [
    "Current approach: Take out World and Corporate top taxons   \n",
    "Must consider that the data which we will predict on needs to come from the same population as training data and it is hard to filter the unlabelled data to remove World & Corporate (unless they are perfectly predicted by a meta var such as documnet type). It may be safer to keep them in the training data, predict on all data and act differently if World/Corporate is predicted?"
   ]
  },
  {
   "cell_type": "code",
   "execution_count": 407,
   "metadata": {},
   "outputs": [
    {
     "data": {
      "text/plain": [
       "(4530, 8)"
      ]
     },
     "execution_count": 407,
     "metadata": {},
     "output_type": "execute_result"
    }
   ],
   "source": [
    "taxons.shape"
   ]
  },
  {
   "cell_type": "code",
   "execution_count": 408,
   "metadata": {},
   "outputs": [
    {
     "name": "stdout",
     "output_type": "stream",
     "text": [
      "Taxons shape after deleting 'World' top taxons: (2028, 8)\n"
     ]
    }
   ],
   "source": [
    "taxons = taxons[taxons.level1taxon != 'World']\n",
    "print(\"Taxons shape after deleting 'World' top taxons: {}\".format(taxons.shape))"
   ]
  },
  {
   "cell_type": "code",
   "execution_count": 409,
   "metadata": {},
   "outputs": [
    {
     "name": "stdout",
     "output_type": "stream",
     "text": [
      "Taxons shape after deleting 'corporate information' top taxons: (2027, 8)\n"
     ]
    }
   ],
   "source": [
    "taxons = taxons[taxons.level1taxon != 'Corporate information']\n",
    "print(\"Taxons shape after deleting 'corporate information' top taxons: {}\".format(taxons.shape))"
   ]
  },
  {
   "cell_type": "markdown",
   "metadata": {},
   "source": [
    "Is it possible that corporate information has already been excluded from the taxons file? Need to re-consider this approach"
   ]
  },
  {
   "cell_type": "code",
   "execution_count": 410,
   "metadata": {},
   "outputs": [],
   "source": [
    "content_taxons = pd.merge(\n",
    "    left=content, \n",
    "    right=taxons, \n",
    "    left_on='taxon_id', \n",
    "    right_on='content_id', \n",
    "    how='outer', \n",
    "    indicator=True\n",
    ")"
   ]
  },
  {
   "cell_type": "code",
   "execution_count": 411,
   "metadata": {},
   "outputs": [
    {
     "name": "stdout",
     "output_type": "stream",
     "text": [
      "both          229461\n",
      "left_only     106154\n",
      "right_only       105\n",
      "Name: _merge, dtype: int64\n",
      "There are 229461 tagged content items/taxon combinations with a matching taxon\n",
      "There are 106154 content items/taxon combinations without a matching taxon. Are these untagged content?\n",
      "There are 105 /taxons with nothing tagged to them\n"
     ]
    }
   ],
   "source": [
    "print(content_taxons['_merge'].value_counts())\n",
    "print(\"There are {} tagged content items/taxon combinations with a matching taxon\"\n",
    "      .format(content_taxons['_merge'].value_counts()[2]))\n",
    "print(\"There are {} content items/taxon combinations without a matching taxon. Are these untagged content?\"\n",
    "      .format(content_taxons['_merge'].value_counts()[0]))\n",
    "print(\"There are {} /taxons with nothing tagged to them\"\n",
    "      .format(content_taxons['_merge'].value_counts()[1]))\n"
   ]
  },
  {
   "cell_type": "markdown",
   "metadata": {},
   "source": [
    "### Explore the left_only content"
   ]
  },
  {
   "cell_type": "markdown",
   "metadata": {},
   "source": [
    "Need to add this to untagged data..."
   ]
  },
  {
   "cell_type": "code",
   "execution_count": 412,
   "metadata": {},
   "outputs": [],
   "source": [
    "content_only_taxons = content_taxons[['base_path_x','combined_text','details','taxon_id']][content_taxons._merge == 'left_only']"
   ]
  },
  {
   "cell_type": "code",
   "execution_count": 413,
   "metadata": {},
   "outputs": [
    {
     "name": "stdout",
     "output_type": "stream",
     "text": [
      "There are 2010 taxons represented in the 106154 content item/taxon combinations which have no corresponding taxon in the taxon data\n"
     ]
    }
   ],
   "source": [
    "print(\"There are {} taxons represented in the {} content item/taxon combinations which have no corresponding taxon in the taxon data\"\n",
    "      .format(content_only_taxons.taxon_id.nunique(), content_only_taxons.shape[0]))"
   ]
  },
  {
   "cell_type": "code",
   "execution_count": 414,
   "metadata": {},
   "outputs": [
    {
     "name": "stdout",
     "output_type": "stream",
     "text": [
      "There are 0 content items/taxon combinations with missing taxon because these were removed during taxon_clean.py\n"
     ]
    }
   ],
   "source": [
    "print(\"There are {} content items/taxon combinations with missing taxon because these were removed during taxon_clean.py\"\n",
    "      .format(content_only_taxons[content_only_taxons.taxon_id.isnull()].shape[0]))"
   ]
  },
  {
   "cell_type": "code",
   "execution_count": 415,
   "metadata": {},
   "outputs": [],
   "source": [
    "#save out for devs to check reason these do not have a match in taxon file\n",
    "#content_only_taxons.to_csv('../../data/content_with_taxonid_no_matching_taxon.csv', \n",
    "                           #index=False)"
   ]
  },
  {
   "cell_type": "code",
   "execution_count": 416,
   "metadata": {},
   "outputs": [],
   "source": [
    "# np.savetxt('../../data/taxonid_no_matching_taxon.gz', \n",
    "#            content_only_taxons.taxon_id.unique(),fmt='%5s', delimiter=',')"
   ]
  },
  {
   "cell_type": "markdown",
   "metadata": {},
   "source": [
    "Devs did some spot checks on these and some of these taxons were not part of the topic taxonomy so did not have a match in the topic taxonomy file. Others are in the World branch of the taxonomy."
   ]
  },
  {
   "cell_type": "markdown",
   "metadata": {},
   "source": [
    "need to add these to untaggedd population\n"
   ]
  },
  {
   "cell_type": "markdown",
   "metadata": {},
   "source": [
    "## Tidy the content-taxon df"
   ]
  },
  {
   "cell_type": "code",
   "execution_count": 417,
   "metadata": {},
   "outputs": [
    {
     "data": {
      "text/plain": [
       "(335720, 24)"
      ]
     },
     "execution_count": 417,
     "metadata": {},
     "output_type": "execute_result"
    }
   ],
   "source": [
    "content_taxons.shape"
   ]
  },
  {
   "cell_type": "code",
   "execution_count": 418,
   "metadata": {},
   "outputs": [
    {
     "data": {
      "text/html": [
       "<div>\n",
       "<style scoped>\n",
       "    .dataframe tbody tr th:only-of-type {\n",
       "        vertical-align: middle;\n",
       "    }\n",
       "\n",
       "    .dataframe tbody tr th {\n",
       "        vertical-align: top;\n",
       "    }\n",
       "\n",
       "    .dataframe thead th {\n",
       "        text-align: right;\n",
       "    }\n",
       "</style>\n",
       "<table border=\"1\" class=\"dataframe\">\n",
       "  <thead>\n",
       "    <tr style=\"text-align: right;\">\n",
       "      <th></th>\n",
       "      <th>Unnamed: 0</th>\n",
       "      <th>base_path_x</th>\n",
       "      <th>content_id_x</th>\n",
       "      <th>description</th>\n",
       "      <th>details</th>\n",
       "      <th>document_type</th>\n",
       "      <th>first_published_at</th>\n",
       "      <th>locale</th>\n",
       "      <th>primary_publishing_organisation</th>\n",
       "      <th>publishing_app</th>\n",
       "      <th>...</th>\n",
       "      <th>taxon_id</th>\n",
       "      <th>base_path_y</th>\n",
       "      <th>content_id_y</th>\n",
       "      <th>taxon_name</th>\n",
       "      <th>level1taxon</th>\n",
       "      <th>level2taxon</th>\n",
       "      <th>level3taxon</th>\n",
       "      <th>level4taxon</th>\n",
       "      <th>level5taxon</th>\n",
       "      <th>_merge</th>\n",
       "    </tr>\n",
       "  </thead>\n",
       "  <tbody>\n",
       "    <tr>\n",
       "      <th>0</th>\n",
       "      <td>0.0</td>\n",
       "      <td>/vehicle-tax</td>\n",
       "      <td>fa748fae-3de4-4266-ae85-0797ada3f40c</td>\n",
       "      <td>renew or tax your vehicle for the first time u...</td>\n",
       "      <td>{'will_continue_on': '', 'department_analytics...</td>\n",
       "      <td>transaction</td>\n",
       "      <td>2016-02-29T09:24:10.000+00:00</td>\n",
       "      <td>en</td>\n",
       "      <td>NaN</td>\n",
       "      <td>publisher</td>\n",
       "      <td>...</td>\n",
       "      <td>948b6dd4-45b3-45ab-a5c6-5dbce75542a6</td>\n",
       "      <td>NaN</td>\n",
       "      <td>NaN</td>\n",
       "      <td>NaN</td>\n",
       "      <td>NaN</td>\n",
       "      <td>NaN</td>\n",
       "      <td>NaN</td>\n",
       "      <td>NaN</td>\n",
       "      <td>NaN</td>\n",
       "      <td>left_only</td>\n",
       "    </tr>\n",
       "    <tr>\n",
       "      <th>1</th>\n",
       "      <td>4.0</td>\n",
       "      <td>/check-vehicle-tax</td>\n",
       "      <td>0889f128-e479-465f-b3e1-a3db6a3879cf</td>\n",
       "      <td>check and report if a vehicle has up-to-date v...</td>\n",
       "      <td>{'will_continue_on': '', 'department_analytics...</td>\n",
       "      <td>transaction</td>\n",
       "      <td>2016-02-29T09:24:10.000+00:00</td>\n",
       "      <td>en</td>\n",
       "      <td>NaN</td>\n",
       "      <td>publisher</td>\n",
       "      <td>...</td>\n",
       "      <td>948b6dd4-45b3-45ab-a5c6-5dbce75542a6</td>\n",
       "      <td>NaN</td>\n",
       "      <td>NaN</td>\n",
       "      <td>NaN</td>\n",
       "      <td>NaN</td>\n",
       "      <td>NaN</td>\n",
       "      <td>NaN</td>\n",
       "      <td>NaN</td>\n",
       "      <td>NaN</td>\n",
       "      <td>left_only</td>\n",
       "    </tr>\n",
       "    <tr>\n",
       "      <th>2</th>\n",
       "      <td>7.0</td>\n",
       "      <td>/check-mot-history</td>\n",
       "      <td>ad5110e0-fa62-49d3-923f-d50101f12014</td>\n",
       "      <td>check the mot history of a vehicle from 2005 o...</td>\n",
       "      <td>{'will_continue_on': '', 'department_analytics...</td>\n",
       "      <td>transaction</td>\n",
       "      <td>2016-02-29T09:24:10.000+00:00</td>\n",
       "      <td>en</td>\n",
       "      <td>NaN</td>\n",
       "      <td>publisher</td>\n",
       "      <td>...</td>\n",
       "      <td>948b6dd4-45b3-45ab-a5c6-5dbce75542a6</td>\n",
       "      <td>NaN</td>\n",
       "      <td>NaN</td>\n",
       "      <td>NaN</td>\n",
       "      <td>NaN</td>\n",
       "      <td>NaN</td>\n",
       "      <td>NaN</td>\n",
       "      <td>NaN</td>\n",
       "      <td>NaN</td>\n",
       "      <td>left_only</td>\n",
       "    </tr>\n",
       "    <tr>\n",
       "      <th>3</th>\n",
       "      <td>9.0</td>\n",
       "      <td>/check-mot-status</td>\n",
       "      <td>dc57162b-59f4-4d0f-9b83-a67f74ffccf5</td>\n",
       "      <td>find out the mot test status of a vehicle - ch...</td>\n",
       "      <td>{'will_continue_on': 'the vehicle enquiry serv...</td>\n",
       "      <td>transaction</td>\n",
       "      <td>2016-02-29T09:24:10.000+00:00</td>\n",
       "      <td>en</td>\n",
       "      <td>NaN</td>\n",
       "      <td>publisher</td>\n",
       "      <td>...</td>\n",
       "      <td>948b6dd4-45b3-45ab-a5c6-5dbce75542a6</td>\n",
       "      <td>NaN</td>\n",
       "      <td>NaN</td>\n",
       "      <td>NaN</td>\n",
       "      <td>NaN</td>\n",
       "      <td>NaN</td>\n",
       "      <td>NaN</td>\n",
       "      <td>NaN</td>\n",
       "      <td>NaN</td>\n",
       "      <td>left_only</td>\n",
       "    </tr>\n",
       "    <tr>\n",
       "      <th>4</th>\n",
       "      <td>63.0</td>\n",
       "      <td>/vehicle-tax-refund</td>\n",
       "      <td>fff88e3b-ae66-43e4-afd0-6fc1f227b452</td>\n",
       "      <td>your vehicle tax is cancelled and you get a re...</td>\n",
       "      <td>{'body': '\\n&lt;div class=\"summary\"&gt;\\n&lt;p&gt;Cancel y...</td>\n",
       "      <td>answer</td>\n",
       "      <td>2016-02-29T09:24:10.000+00:00</td>\n",
       "      <td>en</td>\n",
       "      <td>NaN</td>\n",
       "      <td>publisher</td>\n",
       "      <td>...</td>\n",
       "      <td>948b6dd4-45b3-45ab-a5c6-5dbce75542a6</td>\n",
       "      <td>NaN</td>\n",
       "      <td>NaN</td>\n",
       "      <td>NaN</td>\n",
       "      <td>NaN</td>\n",
       "      <td>NaN</td>\n",
       "      <td>NaN</td>\n",
       "      <td>NaN</td>\n",
       "      <td>NaN</td>\n",
       "      <td>left_only</td>\n",
       "    </tr>\n",
       "  </tbody>\n",
       "</table>\n",
       "<p>5 rows × 24 columns</p>\n",
       "</div>"
      ],
      "text/plain": [
       "   Unnamed: 0          base_path_x                          content_id_x  \\\n",
       "0         0.0         /vehicle-tax  fa748fae-3de4-4266-ae85-0797ada3f40c   \n",
       "1         4.0   /check-vehicle-tax  0889f128-e479-465f-b3e1-a3db6a3879cf   \n",
       "2         7.0   /check-mot-history  ad5110e0-fa62-49d3-923f-d50101f12014   \n",
       "3         9.0    /check-mot-status  dc57162b-59f4-4d0f-9b83-a67f74ffccf5   \n",
       "4        63.0  /vehicle-tax-refund  fff88e3b-ae66-43e4-afd0-6fc1f227b452   \n",
       "\n",
       "                                         description  \\\n",
       "0  renew or tax your vehicle for the first time u...   \n",
       "1  check and report if a vehicle has up-to-date v...   \n",
       "2  check the mot history of a vehicle from 2005 o...   \n",
       "3  find out the mot test status of a vehicle - ch...   \n",
       "4  your vehicle tax is cancelled and you get a re...   \n",
       "\n",
       "                                             details document_type  \\\n",
       "0  {'will_continue_on': '', 'department_analytics...   transaction   \n",
       "1  {'will_continue_on': '', 'department_analytics...   transaction   \n",
       "2  {'will_continue_on': '', 'department_analytics...   transaction   \n",
       "3  {'will_continue_on': 'the vehicle enquiry serv...   transaction   \n",
       "4  {'body': '\\n<div class=\"summary\">\\n<p>Cancel y...        answer   \n",
       "\n",
       "              first_published_at locale primary_publishing_organisation  \\\n",
       "0  2016-02-29T09:24:10.000+00:00     en                             NaN   \n",
       "1  2016-02-29T09:24:10.000+00:00     en                             NaN   \n",
       "2  2016-02-29T09:24:10.000+00:00     en                             NaN   \n",
       "3  2016-02-29T09:24:10.000+00:00     en                             NaN   \n",
       "4  2016-02-29T09:24:10.000+00:00     en                             NaN   \n",
       "\n",
       "  publishing_app    ...                                  taxon_id base_path_y  \\\n",
       "0      publisher    ...      948b6dd4-45b3-45ab-a5c6-5dbce75542a6         NaN   \n",
       "1      publisher    ...      948b6dd4-45b3-45ab-a5c6-5dbce75542a6         NaN   \n",
       "2      publisher    ...      948b6dd4-45b3-45ab-a5c6-5dbce75542a6         NaN   \n",
       "3      publisher    ...      948b6dd4-45b3-45ab-a5c6-5dbce75542a6         NaN   \n",
       "4      publisher    ...      948b6dd4-45b3-45ab-a5c6-5dbce75542a6         NaN   \n",
       "\n",
       "  content_id_y  taxon_name level1taxon level2taxon level3taxon level4taxon  \\\n",
       "0          NaN         NaN         NaN         NaN         NaN         NaN   \n",
       "1          NaN         NaN         NaN         NaN         NaN         NaN   \n",
       "2          NaN         NaN         NaN         NaN         NaN         NaN   \n",
       "3          NaN         NaN         NaN         NaN         NaN         NaN   \n",
       "4          NaN         NaN         NaN         NaN         NaN         NaN   \n",
       "\n",
       "  level5taxon     _merge  \n",
       "0         NaN  left_only  \n",
       "1         NaN  left_only  \n",
       "2         NaN  left_only  \n",
       "3         NaN  left_only  \n",
       "4         NaN  left_only  \n",
       "\n",
       "[5 rows x 24 columns]"
      ]
     },
     "execution_count": 418,
     "metadata": {},
     "output_type": "execute_result"
    }
   ],
   "source": [
    "content_taxons.head()"
   ]
  },
  {
   "cell_type": "markdown",
   "metadata": {},
   "source": [
    "#### tidy columns"
   ]
  },
  {
   "cell_type": "code",
   "execution_count": 419,
   "metadata": {},
   "outputs": [
    {
     "data": {
      "text/plain": [
       "Index(['Unnamed: 0', 'base_path_x', 'content_id_x', 'description', 'details',\n",
       "       'document_type', 'first_published_at', 'locale',\n",
       "       'primary_publishing_organisation', 'publishing_app', 'title', 'body',\n",
       "       'combined_text', 'variable', 'taxon_id', 'base_path_y', 'content_id_y',\n",
       "       'taxon_name', 'level1taxon', 'level2taxon', 'level3taxon',\n",
       "       'level4taxon', 'level5taxon', '_merge'],\n",
       "      dtype='object')"
      ]
     },
     "execution_count": 419,
     "metadata": {},
     "output_type": "execute_result"
    }
   ],
   "source": [
    "content_taxons.columns"
   ]
  },
  {
   "cell_type": "code",
   "execution_count": 420,
   "metadata": {},
   "outputs": [],
   "source": [
    "#drop some cols\n",
    "content_taxons = content_taxons.drop(['Unnamed: 0', 'variable', 'base_path_y', \n",
    "                                      'content_id_y'], axis=1)"
   ]
  },
  {
   "cell_type": "code",
   "execution_count": 421,
   "metadata": {},
   "outputs": [],
   "source": [
    "#rename some cols\n",
    "content_taxons.rename(columns={'base_path_x': 'base_path', \n",
    "                               'content_id_x': 'content_id'}, inplace=True)"
   ]
  },
  {
   "cell_type": "markdown",
   "metadata": {},
   "source": [
    "## Filter content-taxons data:\n",
    "- remove duplicates\n",
    "- remove mismatches from merge"
   ]
  },
  {
   "cell_type": "code",
   "execution_count": 422,
   "metadata": {},
   "outputs": [
    {
     "name": "stdout",
     "output_type": "stream",
     "text": [
      "There are 335720 rows in the data before filtering\n",
      "There are 140103 unique content items in the data before filtering\n"
     ]
    }
   ],
   "source": [
    "#count duplicates\n",
    "print(\"There are {} rows in the data before filtering\".\n",
    "      format(content_taxons.shape[0]))\n",
    "print(\"There are {} unique content items in the data before filtering\".\n",
    "      format(content_taxons.content_id.nunique()))\n"
   ]
  },
  {
   "cell_type": "code",
   "execution_count": 423,
   "metadata": {},
   "outputs": [
    {
     "name": "stdout",
     "output_type": "stream",
     "text": [
      "There are 229461 rows in the taxon-level data after filtering out mismatches\n",
      "There are 127320 unique content items in the taxon-level data after filtering out mismatches\n",
      "There were 106259 rows dropped because of mismatching\n",
      "There were 12783 unique content items dropped because of mismatching\n"
     ]
    }
   ],
   "source": [
    "# Drop any rows which were not perfectly matched in taxons and content\n",
    "\n",
    "content_taxons_filtered = content_taxons[content_taxons._merge == 'both']\n",
    "\n",
    "print(\"There are {} rows in the taxon-level data after filtering out mismatches\".\n",
    "      format(content_taxons_filtered.shape[0]))\n",
    "print(\"There are {} unique content items in the taxon-level data after filtering out mismatches\".\n",
    "      format(content_taxons_filtered.content_id.nunique()))\n",
    "print(\"There were {} rows dropped because of mismatching\"\n",
    "      .format(content_taxons.shape[0] - content_taxons_filtered.shape[0]))\n",
    "print(\"There were {} unique content items dropped because of mismatching\"\n",
    "      .format(content_taxons.content_id.nunique() - content_taxons_filtered.content_id.nunique()))"
   ]
  },
  {
   "cell_type": "code",
   "execution_count": 424,
   "metadata": {},
   "outputs": [
    {
     "name": "stdout",
     "output_type": "stream",
     "text": [
      "Before removing mismatches, there were 956 duplicates content items, both with matching content_id and taxon_id\n",
      "After removing mismatches, there were 377 duplicates content items, both with matching content_id and taxon_id\n"
     ]
    }
   ],
   "source": [
    "print(\"Before removing mismatches, there were {} duplicates content items, both with matching content_id \"\n",
    "      \"and taxon_id\"\n",
    "      .format(content_taxons[content_taxons.duplicated(['content_id', 'taxon_id'])].shape[0]))\n",
    "print(\"After removing mismatches, there were {} duplicates content items, both with matching \"\n",
    "      \"content_id and taxon_id\"\n",
    "      .format(content_taxons_filtered[content_taxons_filtered.\n",
    "                                      duplicated(['content_id', 'taxon_id'])].shape[0]))\n"
   ]
  },
  {
   "cell_type": "code",
   "execution_count": 425,
   "metadata": {},
   "outputs": [],
   "source": [
    "#drop duplicates\n",
    "content_taxons_dedup = content_taxons_filtered.drop_duplicates(subset = ['content_id', 'taxon_id'])"
   ]
  },
  {
   "cell_type": "code",
   "execution_count": 426,
   "metadata": {},
   "outputs": [
    {
     "name": "stdout",
     "output_type": "stream",
     "text": [
      "There were 377 additional rows dropped due to duplicate content_id/taxon_id combination\n",
      "There were 0 additional content items dropped due to duplicate content_id/taxon_id combination\n"
     ]
    }
   ],
   "source": [
    "print(\"There were {} additional rows dropped due to duplicate content_id/taxon_id combination\"\n",
    "      .format(content_taxons_filtered.shape[0] - content_taxons_dedup.shape[0]))\n",
    "print(\"There were {} additional content items dropped due to duplicate content_id/taxon_id combination\"\n",
    "      .format(content_taxons_filtered.content_id.nunique() - content_taxons_dedup.content_id.nunique()))"
   ]
  },
  {
   "cell_type": "code",
   "execution_count": 427,
   "metadata": {},
   "outputs": [
    {
     "data": {
      "text/plain": [
       "(229084, 20)"
      ]
     },
     "execution_count": 427,
     "metadata": {},
     "output_type": "execute_result"
    }
   ],
   "source": [
    "#assert content_taxons_dedup.shape == (2029084, 18)\n",
    "content_taxons_dedup.shape"
   ]
  },
  {
   "cell_type": "code",
   "execution_count": 428,
   "metadata": {},
   "outputs": [],
   "source": [
    "#content_taxons_dedup.head()"
   ]
  },
  {
   "cell_type": "markdown",
   "metadata": {},
   "source": [
    "# Taxons"
   ]
  },
  {
   "cell_type": "code",
   "execution_count": 429,
   "metadata": {},
   "outputs": [
    {
     "name": "stdout",
     "output_type": "stream",
     "text": [
      "There are 2008 out of 2027 taxons with a level2\n",
      "There are 19 out of 2027 taxons with a level1 tag, but no level2 tag\n"
     ]
    },
    {
     "data": {
      "text/html": [
       "<div>\n",
       "<style scoped>\n",
       "    .dataframe tbody tr th:only-of-type {\n",
       "        vertical-align: middle;\n",
       "    }\n",
       "\n",
       "    .dataframe tbody tr th {\n",
       "        vertical-align: top;\n",
       "    }\n",
       "\n",
       "    .dataframe thead th {\n",
       "        text-align: right;\n",
       "    }\n",
       "</style>\n",
       "<table border=\"1\" class=\"dataframe\">\n",
       "  <thead>\n",
       "    <tr style=\"text-align: right;\">\n",
       "      <th></th>\n",
       "      <th>base_path</th>\n",
       "      <th>content_id</th>\n",
       "      <th>taxon_name</th>\n",
       "      <th>level1taxon</th>\n",
       "      <th>level2taxon</th>\n",
       "      <th>level3taxon</th>\n",
       "      <th>level4taxon</th>\n",
       "      <th>level5taxon</th>\n",
       "    </tr>\n",
       "  </thead>\n",
       "  <tbody>\n",
       "    <tr>\n",
       "      <th>0</th>\n",
       "      <td>/business/taxon</td>\n",
       "      <td>495afdb6-47be-4df1-8b38-91c8adb1eefc</td>\n",
       "      <td>Business</td>\n",
       "      <td>Business</td>\n",
       "      <td>NaN</td>\n",
       "      <td>NaN</td>\n",
       "      <td>NaN</td>\n",
       "      <td>NaN</td>\n",
       "    </tr>\n",
       "    <tr>\n",
       "      <th>2</th>\n",
       "      <td>/crime-justice-and-law</td>\n",
       "      <td>ba951b09-5146-43be-87af-44075eac3ae9</td>\n",
       "      <td>Crime, justice and law</td>\n",
       "      <td>Crime, justice and law</td>\n",
       "      <td>NaN</td>\n",
       "      <td>NaN</td>\n",
       "      <td>NaN</td>\n",
       "      <td>NaN</td>\n",
       "    </tr>\n",
       "    <tr>\n",
       "      <th>3</th>\n",
       "      <td>/defence</td>\n",
       "      <td>e491505c-77ae-45b2-84be-8c94b94f6a2b</td>\n",
       "      <td>Defence</td>\n",
       "      <td>Defence</td>\n",
       "      <td>NaN</td>\n",
       "      <td>NaN</td>\n",
       "      <td>NaN</td>\n",
       "      <td>NaN</td>\n",
       "    </tr>\n",
       "    <tr>\n",
       "      <th>4</th>\n",
       "      <td>/childcare-parenting/entering-staying-uk</td>\n",
       "      <td>ba3a9702-da22-487f-86c1-8334a730e559</td>\n",
       "      <td>Entering and staying in the UK</td>\n",
       "      <td>Entering and staying in the UK</td>\n",
       "      <td>NaN</td>\n",
       "      <td>NaN</td>\n",
       "      <td>NaN</td>\n",
       "      <td>NaN</td>\n",
       "    </tr>\n",
       "    <tr>\n",
       "      <th>5</th>\n",
       "      <td>/environment</td>\n",
       "      <td>3cf97f69-84de-41ae-bc7b-7e2cc238fa58</td>\n",
       "      <td>Environment</td>\n",
       "      <td>Environment</td>\n",
       "      <td>NaN</td>\n",
       "      <td>NaN</td>\n",
       "      <td>NaN</td>\n",
       "      <td>NaN</td>\n",
       "    </tr>\n",
       "    <tr>\n",
       "      <th>6</th>\n",
       "      <td>/going-and-being-abroad</td>\n",
       "      <td>9597c30a-605a-4e36-8bc1-47e5cdae41b3</td>\n",
       "      <td>Going and being abroad</td>\n",
       "      <td>Going and being abroad</td>\n",
       "      <td>NaN</td>\n",
       "      <td>NaN</td>\n",
       "      <td>NaN</td>\n",
       "      <td>NaN</td>\n",
       "    </tr>\n",
       "    <tr>\n",
       "      <th>7</th>\n",
       "      <td>/government/taxon</td>\n",
       "      <td>e48ab80a-de80-4e83-bf59-26316856a5f9</td>\n",
       "      <td>Government</td>\n",
       "      <td>Government</td>\n",
       "      <td>NaN</td>\n",
       "      <td>NaN</td>\n",
       "      <td>NaN</td>\n",
       "      <td>NaN</td>\n",
       "    </tr>\n",
       "    <tr>\n",
       "      <th>8</th>\n",
       "      <td>/health-and-social-care</td>\n",
       "      <td>8124ead8-8ebc-4faf-88ad-dd5cbcc92ba8</td>\n",
       "      <td>Health and social care</td>\n",
       "      <td>Health and social care</td>\n",
       "      <td>NaN</td>\n",
       "      <td>NaN</td>\n",
       "      <td>NaN</td>\n",
       "      <td>NaN</td>\n",
       "    </tr>\n",
       "    <tr>\n",
       "      <th>9</th>\n",
       "      <td>/housing-local-and-community</td>\n",
       "      <td>4794066e-e3cc-425e-8cc4-e7ff3edb4c39</td>\n",
       "      <td>Housing, local and community</td>\n",
       "      <td>Housing, local and community</td>\n",
       "      <td>NaN</td>\n",
       "      <td>NaN</td>\n",
       "      <td>NaN</td>\n",
       "      <td>NaN</td>\n",
       "    </tr>\n",
       "    <tr>\n",
       "      <th>10</th>\n",
       "      <td>/international</td>\n",
       "      <td>37d0fa26-abed-4c74-8835-b3b51ae1c8b2</td>\n",
       "      <td>International</td>\n",
       "      <td>International</td>\n",
       "      <td>NaN</td>\n",
       "      <td>NaN</td>\n",
       "      <td>NaN</td>\n",
       "      <td>NaN</td>\n",
       "    </tr>\n",
       "    <tr>\n",
       "      <th>11</th>\n",
       "      <td>/life-circumstances</td>\n",
       "      <td>20086ead-41fc-49cf-8a62-d4e1126f41fc</td>\n",
       "      <td>Life circumstances</td>\n",
       "      <td>Life circumstances</td>\n",
       "      <td>NaN</td>\n",
       "      <td>NaN</td>\n",
       "      <td>NaN</td>\n",
       "      <td>NaN</td>\n",
       "    </tr>\n",
       "    <tr>\n",
       "      <th>12</th>\n",
       "      <td>/money</td>\n",
       "      <td>6acc9db4-780e-4a46-92b4-1812e3c2c48a</td>\n",
       "      <td>Money</td>\n",
       "      <td>Money</td>\n",
       "      <td>NaN</td>\n",
       "      <td>NaN</td>\n",
       "      <td>NaN</td>\n",
       "      <td>NaN</td>\n",
       "    </tr>\n",
       "    <tr>\n",
       "      <th>13</th>\n",
       "      <td>/childcare-parenting</td>\n",
       "      <td>206b7f3a-49b5-476f-af0f-fd27e2a68473</td>\n",
       "      <td>Parenting, childcare and children's services</td>\n",
       "      <td>Parenting, childcare and children's services</td>\n",
       "      <td>NaN</td>\n",
       "      <td>NaN</td>\n",
       "      <td>NaN</td>\n",
       "      <td>NaN</td>\n",
       "    </tr>\n",
       "    <tr>\n",
       "      <th>14</th>\n",
       "      <td>/regional-and-local-government</td>\n",
       "      <td>503c5bc7-809a-47b9-83e2-bd0c212dbabb</td>\n",
       "      <td>Regional and local government</td>\n",
       "      <td>Regional and local government</td>\n",
       "      <td>NaN</td>\n",
       "      <td>NaN</td>\n",
       "      <td>NaN</td>\n",
       "      <td>NaN</td>\n",
       "    </tr>\n",
       "    <tr>\n",
       "      <th>15</th>\n",
       "      <td>/society-and-culture</td>\n",
       "      <td>e2ca2f1a-0ff3-43ce-b813-16645ff27904</td>\n",
       "      <td>Society and culture</td>\n",
       "      <td>Society and culture</td>\n",
       "      <td>NaN</td>\n",
       "      <td>NaN</td>\n",
       "      <td>NaN</td>\n",
       "      <td>NaN</td>\n",
       "    </tr>\n",
       "    <tr>\n",
       "      <th>16</th>\n",
       "      <td>/transport/all</td>\n",
       "      <td>a4038b29-b332-4f13-98b1-1c9709e216bc</td>\n",
       "      <td>Transport</td>\n",
       "      <td>Transport</td>\n",
       "      <td>NaN</td>\n",
       "      <td>NaN</td>\n",
       "      <td>NaN</td>\n",
       "      <td>NaN</td>\n",
       "    </tr>\n",
       "    <tr>\n",
       "      <th>17</th>\n",
       "      <td>/welfare</td>\n",
       "      <td>dded88e2-f92e-424f-b73e-6ad24a839c51</td>\n",
       "      <td>Welfare</td>\n",
       "      <td>Welfare</td>\n",
       "      <td>NaN</td>\n",
       "      <td>NaN</td>\n",
       "      <td>NaN</td>\n",
       "      <td>NaN</td>\n",
       "    </tr>\n",
       "    <tr>\n",
       "      <th>18</th>\n",
       "      <td>/employment</td>\n",
       "      <td>d0f1e5a3-c8f4-4780-8678-994f19104b21</td>\n",
       "      <td>Work</td>\n",
       "      <td>Work</td>\n",
       "      <td>NaN</td>\n",
       "      <td>NaN</td>\n",
       "      <td>NaN</td>\n",
       "      <td>NaN</td>\n",
       "    </tr>\n",
       "    <tr>\n",
       "      <th>20</th>\n",
       "      <td>/education</td>\n",
       "      <td>c58fdadd-7743-46d6-9629-90bb3ccc4ef0</td>\n",
       "      <td>Education, training and skills</td>\n",
       "      <td>Education, training and skills</td>\n",
       "      <td>NaN</td>\n",
       "      <td>NaN</td>\n",
       "      <td>NaN</td>\n",
       "      <td>NaN</td>\n",
       "    </tr>\n",
       "    <tr>\n",
       "      <th>21</th>\n",
       "      <td>/business/water-industry</td>\n",
       "      <td>cb4c8377-6fcb-4022-a7a1-98395eb50508</td>\n",
       "      <td>Water industry</td>\n",
       "      <td>Business</td>\n",
       "      <td>Water industry</td>\n",
       "      <td>NaN</td>\n",
       "      <td>NaN</td>\n",
       "      <td>NaN</td>\n",
       "    </tr>\n",
       "    <tr>\n",
       "      <th>22</th>\n",
       "      <td>/business/business-and-enterprise</td>\n",
       "      <td>21eee04d-e702-4e7b-9fde-2f6777f1be2c</td>\n",
       "      <td>Business and enterprise</td>\n",
       "      <td>Business</td>\n",
       "      <td>Business and enterprise</td>\n",
       "      <td>NaN</td>\n",
       "      <td>NaN</td>\n",
       "      <td>NaN</td>\n",
       "    </tr>\n",
       "    <tr>\n",
       "      <th>23</th>\n",
       "      <td>/business/employing-people</td>\n",
       "      <td>35f5b496-add7-4263-8084-8510461881fe</td>\n",
       "      <td>Employing people</td>\n",
       "      <td>Business</td>\n",
       "      <td>Employing people</td>\n",
       "      <td>NaN</td>\n",
       "      <td>NaN</td>\n",
       "      <td>NaN</td>\n",
       "    </tr>\n",
       "    <tr>\n",
       "      <th>24</th>\n",
       "      <td>/business/trade-and-investment</td>\n",
       "      <td>ed2ca1f7-5463-4eda-9324-b597e269e242</td>\n",
       "      <td>Trade and investment</td>\n",
       "      <td>Business</td>\n",
       "      <td>Trade and investment</td>\n",
       "      <td>NaN</td>\n",
       "      <td>NaN</td>\n",
       "      <td>NaN</td>\n",
       "    </tr>\n",
       "    <tr>\n",
       "      <th>25</th>\n",
       "      <td>/business/media-and-communications</td>\n",
       "      <td>4ef6d013-ec2d-4ae8-a1a0-5a984e6e6c42</td>\n",
       "      <td>Media and communications</td>\n",
       "      <td>Business</td>\n",
       "      <td>Media and communications</td>\n",
       "      <td>NaN</td>\n",
       "      <td>NaN</td>\n",
       "      <td>NaN</td>\n",
       "    </tr>\n",
       "    <tr>\n",
       "      <th>26</th>\n",
       "      <td>/business/uk-economy</td>\n",
       "      <td>a1e4659c-dc15-48be-bc4f-6c609ae061dc</td>\n",
       "      <td>UK economy</td>\n",
       "      <td>Business</td>\n",
       "      <td>UK economy</td>\n",
       "      <td>NaN</td>\n",
       "      <td>NaN</td>\n",
       "      <td>NaN</td>\n",
       "    </tr>\n",
       "    <tr>\n",
       "      <th>27</th>\n",
       "      <td>/business/science-and-innovation</td>\n",
       "      <td>ccb77bcc-56b4-419a-b5ce-f7c2234e0546</td>\n",
       "      <td>Science and innovation</td>\n",
       "      <td>Business</td>\n",
       "      <td>Science and innovation</td>\n",
       "      <td>NaN</td>\n",
       "      <td>NaN</td>\n",
       "      <td>NaN</td>\n",
       "    </tr>\n",
       "    <tr>\n",
       "      <th>28</th>\n",
       "      <td>/business/regulation-reform</td>\n",
       "      <td>1327984f-95e0-4ca7-94c7-c63e69c30924</td>\n",
       "      <td>Regulation reform</td>\n",
       "      <td>Business</td>\n",
       "      <td>Regulation reform</td>\n",
       "      <td>NaN</td>\n",
       "      <td>NaN</td>\n",
       "      <td>NaN</td>\n",
       "    </tr>\n",
       "    <tr>\n",
       "      <th>29</th>\n",
       "      <td>/business/consumer-rights-and-issues</td>\n",
       "      <td>da0bc015-f8e5-492c-8d81-6fbf9b18947c</td>\n",
       "      <td>Consumer rights and issues</td>\n",
       "      <td>Business</td>\n",
       "      <td>Consumer rights and issues</td>\n",
       "      <td>NaN</td>\n",
       "      <td>NaN</td>\n",
       "      <td>NaN</td>\n",
       "    </tr>\n",
       "    <tr>\n",
       "      <th>30</th>\n",
       "      <td>/business/financial-services</td>\n",
       "      <td>d7e02519-b7ba-4297-80a8-01cd0e5f2cb2</td>\n",
       "      <td>Financial services</td>\n",
       "      <td>Business</td>\n",
       "      <td>Financial services</td>\n",
       "      <td>NaN</td>\n",
       "      <td>NaN</td>\n",
       "      <td>NaN</td>\n",
       "    </tr>\n",
       "    <tr>\n",
       "      <th>31</th>\n",
       "      <td>/business/business-and-the-environment</td>\n",
       "      <td>13fb7519-c48e-4577-90f8-aaf483fa0c03</td>\n",
       "      <td>Business and the environment</td>\n",
       "      <td>Business</td>\n",
       "      <td>Business and the environment</td>\n",
       "      <td>NaN</td>\n",
       "      <td>NaN</td>\n",
       "      <td>NaN</td>\n",
       "    </tr>\n",
       "    <tr>\n",
       "      <th>...</th>\n",
       "      <td>...</td>\n",
       "      <td>...</td>\n",
       "      <td>...</td>\n",
       "      <td>...</td>\n",
       "      <td>...</td>\n",
       "      <td>...</td>\n",
       "      <td>...</td>\n",
       "      <td>...</td>\n",
       "    </tr>\n",
       "    <tr>\n",
       "      <th>4500</th>\n",
       "      <td>/education/primary-curriculum-key-stage-2-test...</td>\n",
       "      <td>bf9ba557-b3d8-4c4e-8e39-0d09466808b4</td>\n",
       "      <td>Tests and assessments (key stage 2)</td>\n",
       "      <td>Education, training and skills</td>\n",
       "      <td>School curriculum</td>\n",
       "      <td>Primary curriculum, key stage 2</td>\n",
       "      <td>Tests and assessments (key stage 2)</td>\n",
       "      <td>NaN</td>\n",
       "    </tr>\n",
       "    <tr>\n",
       "      <th>4501</th>\n",
       "      <td>/education/gcse-changes-and-reforms</td>\n",
       "      <td>cf1a5c02-ed35-48f3-9e17-c702cc23ea92</td>\n",
       "      <td>GCSE changes and reforms</td>\n",
       "      <td>Education, training and skills</td>\n",
       "      <td>School curriculum</td>\n",
       "      <td>Secondary curriculum, key stage 3 and key stag...</td>\n",
       "      <td>GCSE changes and reforms</td>\n",
       "      <td>NaN</td>\n",
       "    </tr>\n",
       "    <tr>\n",
       "      <th>4502</th>\n",
       "      <td>/education/key-stage-3-and-4-exam-marking-qual...</td>\n",
       "      <td>af89d06d-db1c-4a37-a8df-63d1e308c183</td>\n",
       "      <td>Key stage 3 and 4 exam marking, qualifications...</td>\n",
       "      <td>Education, training and skills</td>\n",
       "      <td>School curriculum</td>\n",
       "      <td>Secondary curriculum, key stage 3 and key stag...</td>\n",
       "      <td>Key stage 3 and 4 exam marking, qualifications...</td>\n",
       "      <td>NaN</td>\n",
       "    </tr>\n",
       "    <tr>\n",
       "      <th>4503</th>\n",
       "      <td>/education/gcse-subject-content-and-requirements</td>\n",
       "      <td>e8f17408-2d81-468f-aad8-7486a05cd0bf</td>\n",
       "      <td>GCSE subject content and requirements</td>\n",
       "      <td>Education, training and skills</td>\n",
       "      <td>School curriculum</td>\n",
       "      <td>Secondary curriculum, key stage 3 and key stag...</td>\n",
       "      <td>GCSE subject content and requirements</td>\n",
       "      <td>NaN</td>\n",
       "    </tr>\n",
       "    <tr>\n",
       "      <th>4504</th>\n",
       "      <td>/education/primary-curriculum-key-stage-1-prog...</td>\n",
       "      <td>b0fcf462-e6b9-44e1-9145-48f66d53c81f</td>\n",
       "      <td>Programmes of study (key stage 1)</td>\n",
       "      <td>Education, training and skills</td>\n",
       "      <td>School curriculum</td>\n",
       "      <td>Primary curriculum, key stage 1</td>\n",
       "      <td>Programmes of study (key stage 1)</td>\n",
       "      <td>NaN</td>\n",
       "    </tr>\n",
       "    <tr>\n",
       "      <th>4505</th>\n",
       "      <td>/education/primary-curriculum-key-stage-1-science</td>\n",
       "      <td>8a2141ae-2493-491c-8e5f-2bd23c1a6afe</td>\n",
       "      <td>Science (key stage 1)</td>\n",
       "      <td>Education, training and skills</td>\n",
       "      <td>School curriculum</td>\n",
       "      <td>Primary curriculum, key stage 1</td>\n",
       "      <td>Science (key stage 1)</td>\n",
       "      <td>NaN</td>\n",
       "    </tr>\n",
       "    <tr>\n",
       "      <th>4506</th>\n",
       "      <td>/education/primary-curriculum-key-stage-1-maths</td>\n",
       "      <td>9104dfd2-4da9-4309-98dc-dc54f7d8d2db</td>\n",
       "      <td>Maths (key stage 1)</td>\n",
       "      <td>Education, training and skills</td>\n",
       "      <td>School curriculum</td>\n",
       "      <td>Primary curriculum, key stage 1</td>\n",
       "      <td>Maths (key stage 1)</td>\n",
       "      <td>NaN</td>\n",
       "    </tr>\n",
       "    <tr>\n",
       "      <th>4507</th>\n",
       "      <td>/education/primary-curriculum-key-stage-1-test...</td>\n",
       "      <td>1ddd7a85-6c64-4b1e-9e54-55b50a0ae3f3</td>\n",
       "      <td>Tests and assessments (key stage 1)</td>\n",
       "      <td>Education, training and skills</td>\n",
       "      <td>School curriculum</td>\n",
       "      <td>Primary curriculum, key stage 1</td>\n",
       "      <td>Tests and assessments (key stage 1)</td>\n",
       "      <td>NaN</td>\n",
       "    </tr>\n",
       "    <tr>\n",
       "      <th>4508</th>\n",
       "      <td>/education/phonics</td>\n",
       "      <td>0d76003d-76ba-4af5-a19e-31ab3f8ba689</td>\n",
       "      <td>Phonics</td>\n",
       "      <td>Education, training and skills</td>\n",
       "      <td>School curriculum</td>\n",
       "      <td>Primary curriculum, key stage 1</td>\n",
       "      <td>Phonics</td>\n",
       "      <td>NaN</td>\n",
       "    </tr>\n",
       "    <tr>\n",
       "      <th>4509</th>\n",
       "      <td>/education/as-and-a-level-subject-content-and-...</td>\n",
       "      <td>197ae5ae-7922-4dba-9104-2b0d78ec472e</td>\n",
       "      <td>AS and A level subject content and requirements</td>\n",
       "      <td>Education, training and skills</td>\n",
       "      <td>School curriculum</td>\n",
       "      <td>Key stage 5 (AS and A Levels)</td>\n",
       "      <td>AS and A level subject content and requirements</td>\n",
       "      <td>NaN</td>\n",
       "    </tr>\n",
       "    <tr>\n",
       "      <th>4510</th>\n",
       "      <td>/education/as-and-a-level-changes-and-reforms</td>\n",
       "      <td>7d04af85-f92c-45d5-9472-d2d290f49513</td>\n",
       "      <td>AS and A level changes and reforms</td>\n",
       "      <td>Education, training and skills</td>\n",
       "      <td>School curriculum</td>\n",
       "      <td>Key stage 5 (AS and A Levels)</td>\n",
       "      <td>AS and A level changes and reforms</td>\n",
       "      <td>NaN</td>\n",
       "    </tr>\n",
       "    <tr>\n",
       "      <th>4511</th>\n",
       "      <td>/education/key-stage-5-exam-marking-qualificat...</td>\n",
       "      <td>09e40fac-beaa-4ca9-b84e-db3bbf2c9536</td>\n",
       "      <td>Key stage 5 exam marking, qualifications and r...</td>\n",
       "      <td>Education, training and skills</td>\n",
       "      <td>School curriculum</td>\n",
       "      <td>Key stage 5 (AS and A Levels)</td>\n",
       "      <td>Key stage 5 exam marking, qualifications and r...</td>\n",
       "      <td>NaN</td>\n",
       "    </tr>\n",
       "    <tr>\n",
       "      <th>4512</th>\n",
       "      <td>/education/funding-for-special-educational-nee...</td>\n",
       "      <td>e16b62e0-9c54-4547-b8c0-7589d8af3906</td>\n",
       "      <td>Funding for special educational needs and disa...</td>\n",
       "      <td>Education, training and skills</td>\n",
       "      <td>Special educational needs and disability (SEND...</td>\n",
       "      <td>Funding for special educational needs and disa...</td>\n",
       "      <td>NaN</td>\n",
       "      <td>NaN</td>\n",
       "    </tr>\n",
       "    <tr>\n",
       "      <th>4513</th>\n",
       "      <td>/education/support-for-special-educational-nee...</td>\n",
       "      <td>0f92387b-f477-4592-85e6-0742f3fcf696</td>\n",
       "      <td>Support for special educational needs and disa...</td>\n",
       "      <td>Education, training and skills</td>\n",
       "      <td>Special educational needs and disability (SEND...</td>\n",
       "      <td>Support for special educational needs and disa...</td>\n",
       "      <td>NaN</td>\n",
       "      <td>NaN</td>\n",
       "    </tr>\n",
       "    <tr>\n",
       "      <th>4514</th>\n",
       "      <td>/education/funding-for-high-needs</td>\n",
       "      <td>78cfdb08-0629-42d9-80eb-edbf9b36e0c3</td>\n",
       "      <td>Funding for high needs</td>\n",
       "      <td>Education, training and skills</td>\n",
       "      <td>Special educational needs and disability (SEND...</td>\n",
       "      <td>Funding for high needs</td>\n",
       "      <td>NaN</td>\n",
       "      <td>NaN</td>\n",
       "    </tr>\n",
       "    <tr>\n",
       "      <th>4515</th>\n",
       "      <td>/education/funding-for-different-types-of-scho...</td>\n",
       "      <td>c657bea7-3b82-4103-9d7c-8d9725f87ede</td>\n",
       "      <td>Funding for different types of schools and set...</td>\n",
       "      <td>Education, training and skills</td>\n",
       "      <td>School and academy funding</td>\n",
       "      <td>Funding for different types of schools and set...</td>\n",
       "      <td>NaN</td>\n",
       "      <td>NaN</td>\n",
       "    </tr>\n",
       "    <tr>\n",
       "      <th>4516</th>\n",
       "      <td>/education/pupil-premium-and-other-school-prem...</td>\n",
       "      <td>714bc7d1-afb0-4e10-9558-268da5dbbbba</td>\n",
       "      <td>Pupil premium and other school premiums</td>\n",
       "      <td>Education, training and skills</td>\n",
       "      <td>School and academy funding</td>\n",
       "      <td>Pupil premium and other school premiums</td>\n",
       "      <td>NaN</td>\n",
       "      <td>NaN</td>\n",
       "    </tr>\n",
       "    <tr>\n",
       "      <th>4517</th>\n",
       "      <td>/education/free-school-meals-fsm-funding</td>\n",
       "      <td>26b71ec6-c395-4e24-b456-9490cb38d74b</td>\n",
       "      <td>Free school meals (FSM) funding</td>\n",
       "      <td>Education, training and skills</td>\n",
       "      <td>School and academy funding</td>\n",
       "      <td>Free school meals (FSM) funding</td>\n",
       "      <td>NaN</td>\n",
       "      <td>NaN</td>\n",
       "    </tr>\n",
       "    <tr>\n",
       "      <th>4518</th>\n",
       "      <td>/education/funding-for-school-buildings-and-land</td>\n",
       "      <td>dd1e5961-65c9-495b-b5e9-06035a1bc9e6</td>\n",
       "      <td>Funding for school buildings and land</td>\n",
       "      <td>Education, training and skills</td>\n",
       "      <td>School and academy funding</td>\n",
       "      <td>Funding for school buildings and land</td>\n",
       "      <td>NaN</td>\n",
       "      <td>NaN</td>\n",
       "    </tr>\n",
       "    <tr>\n",
       "      <th>4519</th>\n",
       "      <td>/education/schools-forums</td>\n",
       "      <td>57c6ba08-a31a-4a7a-9cd6-3d571e91f1ab</td>\n",
       "      <td>Schools forums</td>\n",
       "      <td>Education, training and skills</td>\n",
       "      <td>School and academy funding</td>\n",
       "      <td>Schools forums</td>\n",
       "      <td>NaN</td>\n",
       "      <td>NaN</td>\n",
       "    </tr>\n",
       "    <tr>\n",
       "      <th>4520</th>\n",
       "      <td>/education/initial-teacher-training-funding</td>\n",
       "      <td>f81590ba-856a-4c81-9380-8bb2804120c1</td>\n",
       "      <td>Initial Teacher Training funding</td>\n",
       "      <td>Education, training and skills</td>\n",
       "      <td>School and academy funding</td>\n",
       "      <td>Initial Teacher Training funding</td>\n",
       "      <td>NaN</td>\n",
       "      <td>NaN</td>\n",
       "    </tr>\n",
       "    <tr>\n",
       "      <th>4521</th>\n",
       "      <td>/education/funding-for-school-places</td>\n",
       "      <td>64d18c5f-9038-4b90-a10f-30e3c94f5657</td>\n",
       "      <td>Funding for school places</td>\n",
       "      <td>Education, training and skills</td>\n",
       "      <td>School and academy funding</td>\n",
       "      <td>Funding for school places</td>\n",
       "      <td>NaN</td>\n",
       "      <td>NaN</td>\n",
       "    </tr>\n",
       "    <tr>\n",
       "      <th>4522</th>\n",
       "      <td>/education/special-schools-funding</td>\n",
       "      <td>ee2b56e7-7cbe-4e8b-8797-1961240e7c80</td>\n",
       "      <td>Special schools funding</td>\n",
       "      <td>Education, training and skills</td>\n",
       "      <td>School and academy funding</td>\n",
       "      <td>Funding for different types of schools and set...</td>\n",
       "      <td>Special schools funding</td>\n",
       "      <td>NaN</td>\n",
       "    </tr>\n",
       "    <tr>\n",
       "      <th>4523</th>\n",
       "      <td>/education/alternative-provision-funding</td>\n",
       "      <td>8fd9c1af-16d1-4523-a402-a12593906b61</td>\n",
       "      <td>Alternative provision funding</td>\n",
       "      <td>Education, training and skills</td>\n",
       "      <td>School and academy funding</td>\n",
       "      <td>Funding for different types of schools and set...</td>\n",
       "      <td>Alternative provision funding</td>\n",
       "      <td>NaN</td>\n",
       "    </tr>\n",
       "    <tr>\n",
       "      <th>4524</th>\n",
       "      <td>/education/local-authority-schools-funding</td>\n",
       "      <td>738e53f4-97df-4d9e-a2f1-8f733d526d84</td>\n",
       "      <td>Local authority schools funding</td>\n",
       "      <td>Education, training and skills</td>\n",
       "      <td>School and academy funding</td>\n",
       "      <td>Funding for different types of schools and set...</td>\n",
       "      <td>Local authority schools funding</td>\n",
       "      <td>NaN</td>\n",
       "    </tr>\n",
       "    <tr>\n",
       "      <th>4525</th>\n",
       "      <td>/education/funding-for-16-to-19-year-olds-in-s...</td>\n",
       "      <td>5a345486-f6ab-43a6-bced-52a7301f7273</td>\n",
       "      <td>Funding for 16 to 19 year olds in schools</td>\n",
       "      <td>Education, training and skills</td>\n",
       "      <td>School and academy funding</td>\n",
       "      <td>Funding for different types of schools and set...</td>\n",
       "      <td>Funding for 16 to 19 year olds in schools</td>\n",
       "      <td>NaN</td>\n",
       "    </tr>\n",
       "    <tr>\n",
       "      <th>4526</th>\n",
       "      <td>/education/academy-funding</td>\n",
       "      <td>acd7834d-1a21-4ea7-a208-bec78ec941d8</td>\n",
       "      <td>Academy funding</td>\n",
       "      <td>Education, training and skills</td>\n",
       "      <td>School and academy funding</td>\n",
       "      <td>Funding for different types of schools and set...</td>\n",
       "      <td>Academy funding</td>\n",
       "      <td>NaN</td>\n",
       "    </tr>\n",
       "    <tr>\n",
       "      <th>4527</th>\n",
       "      <td>/education/early-years-funding</td>\n",
       "      <td>b82fdbdb-275e-4d84-b17a-390061b6c309</td>\n",
       "      <td>Early years funding</td>\n",
       "      <td>Education, training and skills</td>\n",
       "      <td>School and academy funding</td>\n",
       "      <td>Funding for different types of schools and set...</td>\n",
       "      <td>Early years funding</td>\n",
       "      <td>NaN</td>\n",
       "    </tr>\n",
       "    <tr>\n",
       "      <th>4528</th>\n",
       "      <td>/education/school-direct-funding</td>\n",
       "      <td>ee6d175d-e7af-417a-9f42-d2c69df9698f</td>\n",
       "      <td>School Direct funding</td>\n",
       "      <td>Education, training and skills</td>\n",
       "      <td>School and academy funding</td>\n",
       "      <td>Initial Teacher Training funding</td>\n",
       "      <td>School Direct funding</td>\n",
       "      <td>NaN</td>\n",
       "    </tr>\n",
       "    <tr>\n",
       "      <th>4529</th>\n",
       "      <td>/education/subject-knowledge-enhancement-ske</td>\n",
       "      <td>f421b9c8-bc31-43d5-b443-6148731a10fd</td>\n",
       "      <td>Subject Knowledge Enhancement (SKE) funding</td>\n",
       "      <td>Education, training and skills</td>\n",
       "      <td>School and academy funding</td>\n",
       "      <td>Initial Teacher Training funding</td>\n",
       "      <td>Subject Knowledge Enhancement (SKE) funding</td>\n",
       "      <td>NaN</td>\n",
       "    </tr>\n",
       "  </tbody>\n",
       "</table>\n",
       "<p>2027 rows × 8 columns</p>\n",
       "</div>"
      ],
      "text/plain": [
       "                                              base_path  \\\n",
       "0                                       /business/taxon   \n",
       "2                                /crime-justice-and-law   \n",
       "3                                              /defence   \n",
       "4              /childcare-parenting/entering-staying-uk   \n",
       "5                                          /environment   \n",
       "6                               /going-and-being-abroad   \n",
       "7                                     /government/taxon   \n",
       "8                               /health-and-social-care   \n",
       "9                          /housing-local-and-community   \n",
       "10                                       /international   \n",
       "11                                  /life-circumstances   \n",
       "12                                               /money   \n",
       "13                                 /childcare-parenting   \n",
       "14                       /regional-and-local-government   \n",
       "15                                 /society-and-culture   \n",
       "16                                       /transport/all   \n",
       "17                                             /welfare   \n",
       "18                                          /employment   \n",
       "20                                           /education   \n",
       "21                             /business/water-industry   \n",
       "22                    /business/business-and-enterprise   \n",
       "23                           /business/employing-people   \n",
       "24                       /business/trade-and-investment   \n",
       "25                   /business/media-and-communications   \n",
       "26                                 /business/uk-economy   \n",
       "27                     /business/science-and-innovation   \n",
       "28                          /business/regulation-reform   \n",
       "29                 /business/consumer-rights-and-issues   \n",
       "30                         /business/financial-services   \n",
       "31               /business/business-and-the-environment   \n",
       "...                                                 ...   \n",
       "4500  /education/primary-curriculum-key-stage-2-test...   \n",
       "4501                /education/gcse-changes-and-reforms   \n",
       "4502  /education/key-stage-3-and-4-exam-marking-qual...   \n",
       "4503   /education/gcse-subject-content-and-requirements   \n",
       "4504  /education/primary-curriculum-key-stage-1-prog...   \n",
       "4505  /education/primary-curriculum-key-stage-1-science   \n",
       "4506    /education/primary-curriculum-key-stage-1-maths   \n",
       "4507  /education/primary-curriculum-key-stage-1-test...   \n",
       "4508                                 /education/phonics   \n",
       "4509  /education/as-and-a-level-subject-content-and-...   \n",
       "4510      /education/as-and-a-level-changes-and-reforms   \n",
       "4511  /education/key-stage-5-exam-marking-qualificat...   \n",
       "4512  /education/funding-for-special-educational-nee...   \n",
       "4513  /education/support-for-special-educational-nee...   \n",
       "4514                  /education/funding-for-high-needs   \n",
       "4515  /education/funding-for-different-types-of-scho...   \n",
       "4516  /education/pupil-premium-and-other-school-prem...   \n",
       "4517           /education/free-school-meals-fsm-funding   \n",
       "4518   /education/funding-for-school-buildings-and-land   \n",
       "4519                          /education/schools-forums   \n",
       "4520        /education/initial-teacher-training-funding   \n",
       "4521               /education/funding-for-school-places   \n",
       "4522                 /education/special-schools-funding   \n",
       "4523           /education/alternative-provision-funding   \n",
       "4524         /education/local-authority-schools-funding   \n",
       "4525  /education/funding-for-16-to-19-year-olds-in-s...   \n",
       "4526                         /education/academy-funding   \n",
       "4527                     /education/early-years-funding   \n",
       "4528                   /education/school-direct-funding   \n",
       "4529       /education/subject-knowledge-enhancement-ske   \n",
       "\n",
       "                                content_id  \\\n",
       "0     495afdb6-47be-4df1-8b38-91c8adb1eefc   \n",
       "2     ba951b09-5146-43be-87af-44075eac3ae9   \n",
       "3     e491505c-77ae-45b2-84be-8c94b94f6a2b   \n",
       "4     ba3a9702-da22-487f-86c1-8334a730e559   \n",
       "5     3cf97f69-84de-41ae-bc7b-7e2cc238fa58   \n",
       "6     9597c30a-605a-4e36-8bc1-47e5cdae41b3   \n",
       "7     e48ab80a-de80-4e83-bf59-26316856a5f9   \n",
       "8     8124ead8-8ebc-4faf-88ad-dd5cbcc92ba8   \n",
       "9     4794066e-e3cc-425e-8cc4-e7ff3edb4c39   \n",
       "10    37d0fa26-abed-4c74-8835-b3b51ae1c8b2   \n",
       "11    20086ead-41fc-49cf-8a62-d4e1126f41fc   \n",
       "12    6acc9db4-780e-4a46-92b4-1812e3c2c48a   \n",
       "13    206b7f3a-49b5-476f-af0f-fd27e2a68473   \n",
       "14    503c5bc7-809a-47b9-83e2-bd0c212dbabb   \n",
       "15    e2ca2f1a-0ff3-43ce-b813-16645ff27904   \n",
       "16    a4038b29-b332-4f13-98b1-1c9709e216bc   \n",
       "17    dded88e2-f92e-424f-b73e-6ad24a839c51   \n",
       "18    d0f1e5a3-c8f4-4780-8678-994f19104b21   \n",
       "20    c58fdadd-7743-46d6-9629-90bb3ccc4ef0   \n",
       "21    cb4c8377-6fcb-4022-a7a1-98395eb50508   \n",
       "22    21eee04d-e702-4e7b-9fde-2f6777f1be2c   \n",
       "23    35f5b496-add7-4263-8084-8510461881fe   \n",
       "24    ed2ca1f7-5463-4eda-9324-b597e269e242   \n",
       "25    4ef6d013-ec2d-4ae8-a1a0-5a984e6e6c42   \n",
       "26    a1e4659c-dc15-48be-bc4f-6c609ae061dc   \n",
       "27    ccb77bcc-56b4-419a-b5ce-f7c2234e0546   \n",
       "28    1327984f-95e0-4ca7-94c7-c63e69c30924   \n",
       "29    da0bc015-f8e5-492c-8d81-6fbf9b18947c   \n",
       "30    d7e02519-b7ba-4297-80a8-01cd0e5f2cb2   \n",
       "31    13fb7519-c48e-4577-90f8-aaf483fa0c03   \n",
       "...                                    ...   \n",
       "4500  bf9ba557-b3d8-4c4e-8e39-0d09466808b4   \n",
       "4501  cf1a5c02-ed35-48f3-9e17-c702cc23ea92   \n",
       "4502  af89d06d-db1c-4a37-a8df-63d1e308c183   \n",
       "4503  e8f17408-2d81-468f-aad8-7486a05cd0bf   \n",
       "4504  b0fcf462-e6b9-44e1-9145-48f66d53c81f   \n",
       "4505  8a2141ae-2493-491c-8e5f-2bd23c1a6afe   \n",
       "4506  9104dfd2-4da9-4309-98dc-dc54f7d8d2db   \n",
       "4507  1ddd7a85-6c64-4b1e-9e54-55b50a0ae3f3   \n",
       "4508  0d76003d-76ba-4af5-a19e-31ab3f8ba689   \n",
       "4509  197ae5ae-7922-4dba-9104-2b0d78ec472e   \n",
       "4510  7d04af85-f92c-45d5-9472-d2d290f49513   \n",
       "4511  09e40fac-beaa-4ca9-b84e-db3bbf2c9536   \n",
       "4512  e16b62e0-9c54-4547-b8c0-7589d8af3906   \n",
       "4513  0f92387b-f477-4592-85e6-0742f3fcf696   \n",
       "4514  78cfdb08-0629-42d9-80eb-edbf9b36e0c3   \n",
       "4515  c657bea7-3b82-4103-9d7c-8d9725f87ede   \n",
       "4516  714bc7d1-afb0-4e10-9558-268da5dbbbba   \n",
       "4517  26b71ec6-c395-4e24-b456-9490cb38d74b   \n",
       "4518  dd1e5961-65c9-495b-b5e9-06035a1bc9e6   \n",
       "4519  57c6ba08-a31a-4a7a-9cd6-3d571e91f1ab   \n",
       "4520  f81590ba-856a-4c81-9380-8bb2804120c1   \n",
       "4521  64d18c5f-9038-4b90-a10f-30e3c94f5657   \n",
       "4522  ee2b56e7-7cbe-4e8b-8797-1961240e7c80   \n",
       "4523  8fd9c1af-16d1-4523-a402-a12593906b61   \n",
       "4524  738e53f4-97df-4d9e-a2f1-8f733d526d84   \n",
       "4525  5a345486-f6ab-43a6-bced-52a7301f7273   \n",
       "4526  acd7834d-1a21-4ea7-a208-bec78ec941d8   \n",
       "4527  b82fdbdb-275e-4d84-b17a-390061b6c309   \n",
       "4528  ee6d175d-e7af-417a-9f42-d2c69df9698f   \n",
       "4529  f421b9c8-bc31-43d5-b443-6148731a10fd   \n",
       "\n",
       "                                             taxon_name  \\\n",
       "0                                              Business   \n",
       "2                                Crime, justice and law   \n",
       "3                                               Defence   \n",
       "4                        Entering and staying in the UK   \n",
       "5                                           Environment   \n",
       "6                                Going and being abroad   \n",
       "7                                            Government   \n",
       "8                                Health and social care   \n",
       "9                          Housing, local and community   \n",
       "10                                        International   \n",
       "11                                   Life circumstances   \n",
       "12                                                Money   \n",
       "13        Parenting, childcare and children's services    \n",
       "14                        Regional and local government   \n",
       "15                                  Society and culture   \n",
       "16                                            Transport   \n",
       "17                                              Welfare   \n",
       "18                                                 Work   \n",
       "20                       Education, training and skills   \n",
       "21                                       Water industry   \n",
       "22                              Business and enterprise   \n",
       "23                                     Employing people   \n",
       "24                                 Trade and investment   \n",
       "25                             Media and communications   \n",
       "26                                           UK economy   \n",
       "27                               Science and innovation   \n",
       "28                                    Regulation reform   \n",
       "29                           Consumer rights and issues   \n",
       "30                                   Financial services   \n",
       "31                         Business and the environment   \n",
       "...                                                 ...   \n",
       "4500                Tests and assessments (key stage 2)   \n",
       "4501                           GCSE changes and reforms   \n",
       "4502  Key stage 3 and 4 exam marking, qualifications...   \n",
       "4503              GCSE subject content and requirements   \n",
       "4504                  Programmes of study (key stage 1)   \n",
       "4505                              Science (key stage 1)   \n",
       "4506                                Maths (key stage 1)   \n",
       "4507                Tests and assessments (key stage 1)   \n",
       "4508                                            Phonics   \n",
       "4509    AS and A level subject content and requirements   \n",
       "4510                 AS and A level changes and reforms   \n",
       "4511  Key stage 5 exam marking, qualifications and r...   \n",
       "4512  Funding for special educational needs and disa...   \n",
       "4513  Support for special educational needs and disa...   \n",
       "4514                             Funding for high needs   \n",
       "4515  Funding for different types of schools and set...   \n",
       "4516           Pupil premium and other school premiums    \n",
       "4517                   Free school meals (FSM) funding    \n",
       "4518              Funding for school buildings and land   \n",
       "4519                                     Schools forums   \n",
       "4520                   Initial Teacher Training funding   \n",
       "4521                          Funding for school places   \n",
       "4522                            Special schools funding   \n",
       "4523                      Alternative provision funding   \n",
       "4524                    Local authority schools funding   \n",
       "4525          Funding for 16 to 19 year olds in schools   \n",
       "4526                                    Academy funding   \n",
       "4527                                Early years funding   \n",
       "4528                              School Direct funding   \n",
       "4529        Subject Knowledge Enhancement (SKE) funding   \n",
       "\n",
       "                                        level1taxon  \\\n",
       "0                                          Business   \n",
       "2                            Crime, justice and law   \n",
       "3                                           Defence   \n",
       "4                    Entering and staying in the UK   \n",
       "5                                       Environment   \n",
       "6                            Going and being abroad   \n",
       "7                                        Government   \n",
       "8                            Health and social care   \n",
       "9                      Housing, local and community   \n",
       "10                                    International   \n",
       "11                               Life circumstances   \n",
       "12                                            Money   \n",
       "13    Parenting, childcare and children's services    \n",
       "14                    Regional and local government   \n",
       "15                              Society and culture   \n",
       "16                                        Transport   \n",
       "17                                          Welfare   \n",
       "18                                             Work   \n",
       "20                   Education, training and skills   \n",
       "21                                         Business   \n",
       "22                                         Business   \n",
       "23                                         Business   \n",
       "24                                         Business   \n",
       "25                                         Business   \n",
       "26                                         Business   \n",
       "27                                         Business   \n",
       "28                                         Business   \n",
       "29                                         Business   \n",
       "30                                         Business   \n",
       "31                                         Business   \n",
       "...                                             ...   \n",
       "4500                 Education, training and skills   \n",
       "4501                 Education, training and skills   \n",
       "4502                 Education, training and skills   \n",
       "4503                 Education, training and skills   \n",
       "4504                 Education, training and skills   \n",
       "4505                 Education, training and skills   \n",
       "4506                 Education, training and skills   \n",
       "4507                 Education, training and skills   \n",
       "4508                 Education, training and skills   \n",
       "4509                 Education, training and skills   \n",
       "4510                 Education, training and skills   \n",
       "4511                 Education, training and skills   \n",
       "4512                 Education, training and skills   \n",
       "4513                 Education, training and skills   \n",
       "4514                 Education, training and skills   \n",
       "4515                 Education, training and skills   \n",
       "4516                 Education, training and skills   \n",
       "4517                 Education, training and skills   \n",
       "4518                 Education, training and skills   \n",
       "4519                 Education, training and skills   \n",
       "4520                 Education, training and skills   \n",
       "4521                 Education, training and skills   \n",
       "4522                 Education, training and skills   \n",
       "4523                 Education, training and skills   \n",
       "4524                 Education, training and skills   \n",
       "4525                 Education, training and skills   \n",
       "4526                 Education, training and skills   \n",
       "4527                 Education, training and skills   \n",
       "4528                 Education, training and skills   \n",
       "4529                 Education, training and skills   \n",
       "\n",
       "                                            level2taxon  \\\n",
       "0                                                   NaN   \n",
       "2                                                   NaN   \n",
       "3                                                   NaN   \n",
       "4                                                   NaN   \n",
       "5                                                   NaN   \n",
       "6                                                   NaN   \n",
       "7                                                   NaN   \n",
       "8                                                   NaN   \n",
       "9                                                   NaN   \n",
       "10                                                  NaN   \n",
       "11                                                  NaN   \n",
       "12                                                  NaN   \n",
       "13                                                  NaN   \n",
       "14                                                  NaN   \n",
       "15                                                  NaN   \n",
       "16                                                  NaN   \n",
       "17                                                  NaN   \n",
       "18                                                  NaN   \n",
       "20                                                  NaN   \n",
       "21                                       Water industry   \n",
       "22                              Business and enterprise   \n",
       "23                                     Employing people   \n",
       "24                                 Trade and investment   \n",
       "25                             Media and communications   \n",
       "26                                           UK economy   \n",
       "27                               Science and innovation   \n",
       "28                                    Regulation reform   \n",
       "29                           Consumer rights and issues   \n",
       "30                                   Financial services   \n",
       "31                         Business and the environment   \n",
       "...                                                 ...   \n",
       "4500                                  School curriculum   \n",
       "4501                                  School curriculum   \n",
       "4502                                  School curriculum   \n",
       "4503                                  School curriculum   \n",
       "4504                                  School curriculum   \n",
       "4505                                  School curriculum   \n",
       "4506                                  School curriculum   \n",
       "4507                                  School curriculum   \n",
       "4508                                  School curriculum   \n",
       "4509                                  School curriculum   \n",
       "4510                                  School curriculum   \n",
       "4511                                  School curriculum   \n",
       "4512  Special educational needs and disability (SEND...   \n",
       "4513  Special educational needs and disability (SEND...   \n",
       "4514  Special educational needs and disability (SEND...   \n",
       "4515                         School and academy funding   \n",
       "4516                         School and academy funding   \n",
       "4517                         School and academy funding   \n",
       "4518                         School and academy funding   \n",
       "4519                         School and academy funding   \n",
       "4520                         School and academy funding   \n",
       "4521                         School and academy funding   \n",
       "4522                         School and academy funding   \n",
       "4523                         School and academy funding   \n",
       "4524                         School and academy funding   \n",
       "4525                         School and academy funding   \n",
       "4526                         School and academy funding   \n",
       "4527                         School and academy funding   \n",
       "4528                         School and academy funding   \n",
       "4529                         School and academy funding   \n",
       "\n",
       "                                            level3taxon  \\\n",
       "0                                                   NaN   \n",
       "2                                                   NaN   \n",
       "3                                                   NaN   \n",
       "4                                                   NaN   \n",
       "5                                                   NaN   \n",
       "6                                                   NaN   \n",
       "7                                                   NaN   \n",
       "8                                                   NaN   \n",
       "9                                                   NaN   \n",
       "10                                                  NaN   \n",
       "11                                                  NaN   \n",
       "12                                                  NaN   \n",
       "13                                                  NaN   \n",
       "14                                                  NaN   \n",
       "15                                                  NaN   \n",
       "16                                                  NaN   \n",
       "17                                                  NaN   \n",
       "18                                                  NaN   \n",
       "20                                                  NaN   \n",
       "21                                                  NaN   \n",
       "22                                                  NaN   \n",
       "23                                                  NaN   \n",
       "24                                                  NaN   \n",
       "25                                                  NaN   \n",
       "26                                                  NaN   \n",
       "27                                                  NaN   \n",
       "28                                                  NaN   \n",
       "29                                                  NaN   \n",
       "30                                                  NaN   \n",
       "31                                                  NaN   \n",
       "...                                                 ...   \n",
       "4500                    Primary curriculum, key stage 2   \n",
       "4501  Secondary curriculum, key stage 3 and key stag...   \n",
       "4502  Secondary curriculum, key stage 3 and key stag...   \n",
       "4503  Secondary curriculum, key stage 3 and key stag...   \n",
       "4504                    Primary curriculum, key stage 1   \n",
       "4505                    Primary curriculum, key stage 1   \n",
       "4506                    Primary curriculum, key stage 1   \n",
       "4507                    Primary curriculum, key stage 1   \n",
       "4508                    Primary curriculum, key stage 1   \n",
       "4509                      Key stage 5 (AS and A Levels)   \n",
       "4510                      Key stage 5 (AS and A Levels)   \n",
       "4511                      Key stage 5 (AS and A Levels)   \n",
       "4512  Funding for special educational needs and disa...   \n",
       "4513  Support for special educational needs and disa...   \n",
       "4514                             Funding for high needs   \n",
       "4515  Funding for different types of schools and set...   \n",
       "4516           Pupil premium and other school premiums    \n",
       "4517                   Free school meals (FSM) funding    \n",
       "4518              Funding for school buildings and land   \n",
       "4519                                     Schools forums   \n",
       "4520                   Initial Teacher Training funding   \n",
       "4521                          Funding for school places   \n",
       "4522  Funding for different types of schools and set...   \n",
       "4523  Funding for different types of schools and set...   \n",
       "4524  Funding for different types of schools and set...   \n",
       "4525  Funding for different types of schools and set...   \n",
       "4526  Funding for different types of schools and set...   \n",
       "4527  Funding for different types of schools and set...   \n",
       "4528                   Initial Teacher Training funding   \n",
       "4529                   Initial Teacher Training funding   \n",
       "\n",
       "                                            level4taxon level5taxon  \n",
       "0                                                   NaN         NaN  \n",
       "2                                                   NaN         NaN  \n",
       "3                                                   NaN         NaN  \n",
       "4                                                   NaN         NaN  \n",
       "5                                                   NaN         NaN  \n",
       "6                                                   NaN         NaN  \n",
       "7                                                   NaN         NaN  \n",
       "8                                                   NaN         NaN  \n",
       "9                                                   NaN         NaN  \n",
       "10                                                  NaN         NaN  \n",
       "11                                                  NaN         NaN  \n",
       "12                                                  NaN         NaN  \n",
       "13                                                  NaN         NaN  \n",
       "14                                                  NaN         NaN  \n",
       "15                                                  NaN         NaN  \n",
       "16                                                  NaN         NaN  \n",
       "17                                                  NaN         NaN  \n",
       "18                                                  NaN         NaN  \n",
       "20                                                  NaN         NaN  \n",
       "21                                                  NaN         NaN  \n",
       "22                                                  NaN         NaN  \n",
       "23                                                  NaN         NaN  \n",
       "24                                                  NaN         NaN  \n",
       "25                                                  NaN         NaN  \n",
       "26                                                  NaN         NaN  \n",
       "27                                                  NaN         NaN  \n",
       "28                                                  NaN         NaN  \n",
       "29                                                  NaN         NaN  \n",
       "30                                                  NaN         NaN  \n",
       "31                                                  NaN         NaN  \n",
       "...                                                 ...         ...  \n",
       "4500                Tests and assessments (key stage 2)         NaN  \n",
       "4501                           GCSE changes and reforms         NaN  \n",
       "4502  Key stage 3 and 4 exam marking, qualifications...         NaN  \n",
       "4503              GCSE subject content and requirements         NaN  \n",
       "4504                  Programmes of study (key stage 1)         NaN  \n",
       "4505                              Science (key stage 1)         NaN  \n",
       "4506                                Maths (key stage 1)         NaN  \n",
       "4507                Tests and assessments (key stage 1)         NaN  \n",
       "4508                                            Phonics         NaN  \n",
       "4509    AS and A level subject content and requirements         NaN  \n",
       "4510                 AS and A level changes and reforms         NaN  \n",
       "4511  Key stage 5 exam marking, qualifications and r...         NaN  \n",
       "4512                                                NaN         NaN  \n",
       "4513                                                NaN         NaN  \n",
       "4514                                                NaN         NaN  \n",
       "4515                                                NaN         NaN  \n",
       "4516                                                NaN         NaN  \n",
       "4517                                                NaN         NaN  \n",
       "4518                                                NaN         NaN  \n",
       "4519                                                NaN         NaN  \n",
       "4520                                                NaN         NaN  \n",
       "4521                                                NaN         NaN  \n",
       "4522                            Special schools funding         NaN  \n",
       "4523                      Alternative provision funding         NaN  \n",
       "4524                    Local authority schools funding         NaN  \n",
       "4525          Funding for 16 to 19 year olds in schools         NaN  \n",
       "4526                                    Academy funding         NaN  \n",
       "4527                                Early years funding         NaN  \n",
       "4528                              School Direct funding         NaN  \n",
       "4529        Subject Knowledge Enhancement (SKE) funding         NaN  \n",
       "\n",
       "[2027 rows x 8 columns]"
      ]
     },
     "execution_count": 429,
     "metadata": {},
     "output_type": "execute_result"
    }
   ],
   "source": [
    "#Count taxons by level1 and level2\n",
    "mask = taxons['level1taxon'].notnull() & taxons['level2taxon'].isnull()\n",
    "\n",
    "print(\"There are {} out of {} taxons with a level2\"\n",
    "      .format(sum(taxons['level2taxon'].notnull()), taxons.shape[0]))\n",
    "print(\"There are {} out of {} taxons with a level1 tag, but no level2 tag\"\n",
    "      .format(sum(mask), taxons.shape[0]))\n",
    "taxons"
   ]
  },
  {
   "cell_type": "markdown",
   "metadata": {},
   "source": [
    "### How many taxons at each level?"
   ]
  },
  {
   "cell_type": "code",
   "execution_count": 436,
   "metadata": {},
   "outputs": [
    {
     "name": "stdout",
     "output_type": "stream",
     "text": [
      "Number of taxons at level1 = 19\n",
      "Number of taxons at level2 = 217\n",
      "Number of taxons at level3 = 687\n",
      "Number of taxons at level4 = 882\n",
      "Number of taxons at level5 = 222\n"
     ]
    }
   ],
   "source": [
    "level1_only = taxons[taxons['level1taxon'].notnull() & taxons['level2taxon'].isnull()]\n",
    "level2_only = taxons[taxons['level2taxon'].notnull() & taxons['level3taxon'].isnull()]\n",
    "level3_only = taxons[taxons['level3taxon'].notnull() & taxons['level4taxon'].isnull()]\n",
    "level4_only = taxons[taxons['level4taxon'].notnull() & taxons['level5taxon'].isnull()]\n",
    "level5_only = taxons[taxons['level5taxon'].notnull()]\n",
    "\n",
    "print(\"Number of taxons at level1 = {}\".format(level1_only.shape[0]))\n",
    "print(\"Number of taxons at level2 = {}\".format(level2_only.shape[0]))\n",
    "print(\"Number of taxons at level3 = {}\".format(level3_only.shape[0]))\n",
    "print(\"Number of taxons at level4 = {}\".format(level4_only.shape[0]))\n",
    "print(\"Number of taxons at level5 = {}\".format(level5_only.shape[0]))"
   ]
  },
  {
   "cell_type": "markdown",
   "metadata": {},
   "source": [
    "### How many content items at each level?"
   ]
  },
  {
   "cell_type": "code",
   "execution_count": 441,
   "metadata": {},
   "outputs": [
    {
     "name": "stdout",
     "output_type": "stream",
     "text": [
      "Number of times content items tagged to level1 = 32034\n",
      "Number of times content items tagged to level2 = 128372\n",
      "Number of times content items tagged to level3 = 54732\n",
      "Number of times content items tagged to level4 = 11942\n",
      "Number of times content items tagged to level5 = 2004\n",
      "\n",
      "Number of unique content items tagged to level1 = 30125\n",
      "Number of unique content items tagged to level2 = 89081\n",
      "Number of unique content items tagged to level3 = 45240\n",
      "Number of unique content items tagged to level4 = 9926\n",
      "Number of unique content items tagged to level5 = 1639\n"
     ]
    }
   ],
   "source": [
    "level1_only = content_taxons_dedup[content_taxons_dedup['level1taxon'].notnull() & content_taxons_dedup['level2taxon'].isnull()]\n",
    "level2_only = content_taxons_dedup[content_taxons_dedup['level2taxon'].notnull() & content_taxons_dedup['level3taxon'].isnull()]\n",
    "level3_only = content_taxons_dedup[content_taxons_dedup['level3taxon'].notnull() & content_taxons_dedup['level4taxon'].isnull()]\n",
    "level4_only = content_taxons_dedup[content_taxons_dedup['level4taxon'].notnull() & content_taxons_dedup['level5taxon'].isnull()]\n",
    "level5_only = content_taxons_dedup[content_taxons_dedup['level5taxon'].notnull()]\n",
    "\n",
    "print(\"Number of times content items tagged to level1 = {}\".format(level1_only.shape[0]))\n",
    "print(\"Number of times content items tagged to level2 = {}\".format(level2_only.shape[0]))\n",
    "print(\"Number of times content items tagged to level3 = {}\".format(level3_only.shape[0]))\n",
    "print(\"Number of times content items tagged to level4 = {}\".format(level4_only.shape[0]))\n",
    "print(\"Number of times content items tagged to level5 = {}\".format(level5_only.shape[0]))\n",
    "print(\"\")\n",
    "print(\"Number of unique content items tagged to level1 = {}\".format(level1_only.content_id.nunique()))\n",
    "print(\"Number of unique content items tagged to level2 = {}\".format(level2_only.content_id.nunique()))\n",
    "print(\"Number of unique content items tagged to level3 = {}\".format(level3_only.content_id.nunique()))\n",
    "print(\"Number of unique content items tagged to level4 = {}\".format(level4_only.content_id.nunique()))\n",
    "print(\"Number of unique content items tagged to level5 = {}\".format(level5_only.content_id.nunique()))"
   ]
  },
  {
   "cell_type": "markdown",
   "metadata": {},
   "source": [
    "### Number of tags per content item at each level"
   ]
  },
  {
   "cell_type": "code",
   "execution_count": 451,
   "metadata": {},
   "outputs": [
    {
     "data": {
      "text/plain": [
       "count    30125.000000\n",
       "mean         1.063369\n",
       "std          0.250350\n",
       "min          1.000000\n",
       "25%          1.000000\n",
       "50%          1.000000\n",
       "75%          1.000000\n",
       "max          6.000000\n",
       "dtype: float64"
      ]
     },
     "execution_count": 451,
     "metadata": {},
     "output_type": "execute_result"
    }
   ],
   "source": [
    "level1_only.groupby('content_id').size().sort_values(ascending=True).describe()"
   ]
  },
  {
   "cell_type": "code",
   "execution_count": 453,
   "metadata": {},
   "outputs": [
    {
     "data": {
      "text/plain": [
       "count    89081.000000\n",
       "mean         1.441070\n",
       "std          0.821392\n",
       "min          1.000000\n",
       "25%          1.000000\n",
       "50%          1.000000\n",
       "75%          2.000000\n",
       "max         35.000000\n",
       "dtype: float64"
      ]
     },
     "execution_count": 453,
     "metadata": {},
     "output_type": "execute_result"
    }
   ],
   "source": [
    "level2_only.groupby('content_id').size().sort_values(ascending=True).describe()"
   ]
  },
  {
   "cell_type": "code",
   "execution_count": 454,
   "metadata": {},
   "outputs": [
    {
     "data": {
      "text/plain": [
       "count    45240.000000\n",
       "mean         1.209814\n",
       "std          0.607367\n",
       "min          1.000000\n",
       "25%          1.000000\n",
       "50%          1.000000\n",
       "75%          1.000000\n",
       "max         16.000000\n",
       "dtype: float64"
      ]
     },
     "execution_count": 454,
     "metadata": {},
     "output_type": "execute_result"
    }
   ],
   "source": [
    "level3_only.groupby('content_id').size().sort_values(ascending=True).describe()"
   ]
  },
  {
   "cell_type": "code",
   "execution_count": 455,
   "metadata": {},
   "outputs": [
    {
     "data": {
      "text/plain": [
       "count    9926.000000\n",
       "mean        1.203103\n",
       "std         0.499122\n",
       "min         1.000000\n",
       "25%         1.000000\n",
       "50%         1.000000\n",
       "75%         1.000000\n",
       "max        11.000000\n",
       "dtype: float64"
      ]
     },
     "execution_count": 455,
     "metadata": {},
     "output_type": "execute_result"
    }
   ],
   "source": [
    "level4_only.groupby('content_id').size().sort_values(ascending=True).describe()"
   ]
  },
  {
   "cell_type": "code",
   "execution_count": 456,
   "metadata": {},
   "outputs": [
    {
     "data": {
      "text/plain": [
       "count    1639.000000\n",
       "mean        1.222697\n",
       "std         0.542299\n",
       "min         1.000000\n",
       "25%         1.000000\n",
       "50%         1.000000\n",
       "75%         1.000000\n",
       "max         5.000000\n",
       "dtype: float64"
      ]
     },
     "execution_count": 456,
     "metadata": {},
     "output_type": "execute_result"
    }
   ],
   "source": [
    "level5_only.groupby('content_id').size().sort_values(ascending=True).describe()"
   ]
  },
  {
   "cell_type": "markdown",
   "metadata": {},
   "source": [
    "## Level1  taxons"
   ]
  },
  {
   "cell_type": "markdown",
   "metadata": {},
   "source": [
    "Expecting 19 top taxons (plus `None`)"
   ]
  },
  {
   "cell_type": "code",
   "execution_count": null,
   "metadata": {},
   "outputs": [],
   "source": [
    "assert content_taxons_dedup.level1taxon.nunique() == 19\n",
    "\n",
    "print(\"There are {} unique taxon names in the level 1 taxon\"\n",
    "      .format(content_taxons_dedup.level1taxon.nunique()))\n",
    "\n",
    "set(content_taxons_dedup.level1taxon)"
   ]
  },
  {
   "cell_type": "code",
   "execution_count": null,
   "metadata": {},
   "outputs": [],
   "source": [
    "topfreq = content_taxons_dedup.groupby('level1taxon').size()\n",
    "topfreq.sort_values(ascending=False)"
   ]
  },
  {
   "cell_type": "code",
   "execution_count": null,
   "metadata": {},
   "outputs": [],
   "source": [
    "topfreq.sort_values().plot(kind = 'barh', figsize=(20, 20))"
   ]
  },
  {
   "cell_type": "code",
   "execution_count": null,
   "metadata": {},
   "outputs": [],
   "source": [
    "top_doctype = pd.crosstab(content_taxons_dedup['document_type'], content_taxons_dedup['level1taxon'])\n",
    "fig, ax = plt.subplots(figsize=(10,10)) \n",
    "sns.heatmap(top_doctype, cmap = \"YlGnBu\")"
   ]
  },
  {
   "cell_type": "code",
   "execution_count": null,
   "metadata": {},
   "outputs": [],
   "source": [
    "top_pubapp = pd.crosstab(content_taxons_dedup['publishing_app'], content_taxons_dedup['level1taxon'])\n",
    "fig, ax = plt.subplots(figsize=(10,5))\n",
    "sns.heatmap(top_pubapp, cmap = \"YlGnBu\")"
   ]
  },
  {
   "cell_type": "code",
   "execution_count": null,
   "metadata": {},
   "outputs": [],
   "source": [
    "content_taxons_dedup.groupby('level1taxon').size().sort_values(ascending=False)"
   ]
  },
  {
   "cell_type": "markdown",
   "metadata": {},
   "source": [
    "### Level 2 taxons"
   ]
  },
  {
   "cell_type": "code",
   "execution_count": null,
   "metadata": {},
   "outputs": [],
   "source": [
    "#assert content_taxons_dedup.level2taxon.nunique() == 103\n",
    "\n",
    "print(\"There are {} unique taxon names in the level 2 taxon\"\n",
    "      .format(content_taxons_dedup.level2taxon.nunique()))"
   ]
  },
  {
   "cell_type": "code",
   "execution_count": null,
   "metadata": {},
   "outputs": [],
   "source": [
    "second_freq = content_taxons_dedup.groupby('level2taxon').size().sort_values(ascending=False)\n",
    "\n",
    "# Print as string to get around truncation\n",
    "\n",
    "print(second_freq.to_string())\n",
    "\n"
   ]
  },
  {
   "cell_type": "code",
   "execution_count": null,
   "metadata": {},
   "outputs": [],
   "source": [
    "second_freq.sort_values().plot(kind = 'barh', figsize=(10,30))"
   ]
  },
  {
   "cell_type": "code",
   "execution_count": null,
   "metadata": {},
   "outputs": [],
   "source": [
    "level1_1 = pd.crosstab(content_taxons_dedup['level1taxon'], content_taxons_dedup['level1taxon'])"
   ]
  },
  {
   "cell_type": "code",
   "execution_count": null,
   "metadata": {},
   "outputs": [],
   "source": [
    "# fig, ax = plt.subplots(figsize=(10,5))\n",
    "# sns.heatmap(level1_1, cmap = \"YlGnBu\")"
   ]
  },
  {
   "cell_type": "markdown",
   "metadata": {},
   "source": [
    "### Mutually exclusive taxon combinations (level1 and level2)"
   ]
  },
  {
   "cell_type": "code",
   "execution_count": null,
   "metadata": {},
   "outputs": [],
   "source": [
    "#Only keep rows where level1/level2 combination is unique\n",
    "level2_dedup = content_taxons_dedup.drop_duplicates(subset = ['content_id', 'level1taxon', 'level2taxon']).copy()\n",
    "#Identify and drop rows where level2 is missing\n",
    "mask= pd.notnull(level2_dedup['level2taxon'])\n",
    "level2_tagged = level2_dedup[mask]"
   ]
  },
  {
   "cell_type": "code",
   "execution_count": null,
   "metadata": {},
   "outputs": [],
   "source": [
    "#concatenate the name of each level2taxon for a single content item\n",
    "level2_tagged = level2_tagged.groupby('content_id')['level2taxon'].apply(','.join).reset_index()\n",
    "print(\"there are {} mutually exclusive combinations of level2 taxon combinations.\".format(level2_tagged.level2taxon.nunique()))"
   ]
  },
  {
   "cell_type": "code",
   "execution_count": null,
   "metadata": {},
   "outputs": [],
   "source": [
    "#Get frequency counts for each of the mutually exclusive taxon2 combinations\n",
    "mutualex_freq = level2_tagged.groupby('level2taxon').size().sort_values(ascending=True)\n",
    "\n",
    "#Keep those with higher frequency\n",
    "mutualex_freq_top = mutualex_freq[mutualex_freq > 30]\n",
    "print(\"There are {} mutually exclusive combinations of level2 taxon combinations populated with more than 30 content items\".format(len(mutualex_freq_top)))\n",
    "\n",
    "mutualex_freq_top.plot(kind = 'barh', figsize=(10,30))"
   ]
  },
  {
   "cell_type": "code",
   "execution_count": null,
   "metadata": {},
   "outputs": [],
   "source": [
    "# Print as string to get around truncation\n",
    "\n",
    "print(mutualex_freq.to_string())"
   ]
  },
  {
   "cell_type": "markdown",
   "metadata": {},
   "source": [
    "# Document type distribution"
   ]
  },
  {
   "cell_type": "markdown",
   "metadata": {},
   "source": [
    "## Compare document type in untagged, raw tagged, deduped-filtered tagged"
   ]
  },
  {
   "cell_type": "markdown",
   "metadata": {},
   "source": [
    "the untagged content appears to have a different distribution of document type compared to the tagged content, both before and after filtering the World/Corporate categories and deduplication. \n",
    "\n",
    "For example, relatively few guidance , policy paper and research documents are untagged. World_news_story, foi releases are over-represented in untagged data compared to tagged data.\n",
    "\n",
    "This is likely to result in a drop inaccuracy when moving from modelling data to predicting for untagged data."
   ]
  },
  {
   "cell_type": "code",
   "execution_count": null,
   "metadata": {},
   "outputs": [],
   "source": [
    "untagged.groupby('document_type').size().sort_values(ascending=True).plot(kind = 'barh', figsize=(20, 20))"
   ]
  },
  {
   "cell_type": "code",
   "execution_count": null,
   "metadata": {},
   "outputs": [],
   "source": [
    "allcontent_taxons.groupby('document_type').size().sort_values(ascending=True).plot(kind = 'barh', figsize=(20, 20))"
   ]
  },
  {
   "cell_type": "code",
   "execution_count": null,
   "metadata": {},
   "outputs": [],
   "source": [
    "content.groupby('document_type').size().sort_values(ascending=True).plot(kind = 'barh', figsize=(20, 20))"
   ]
  },
  {
   "cell_type": "markdown",
   "metadata": {},
   "source": [
    "## Time series analyses of content type"
   ]
  },
  {
   "cell_type": "markdown",
   "metadata": {},
   "source": [
    "What's the frequency of publications over time?"
   ]
  },
  {
   "cell_type": "code",
   "execution_count": null,
   "metadata": {},
   "outputs": [],
   "source": [
    "#untagged['first_published_at'].resample('Y').count().plot()"
   ]
  },
  {
   "cell_type": "code",
   "execution_count": null,
   "metadata": {},
   "outputs": [],
   "source": [
    "singlelabel = content_taxons_dedup.drop_duplicates('content_id').reset_index(drop=True)\n",
    "print(singlelabel['first_published_at'][singlelabel['first_published_at'].str.contains('0001-01-01', na=False)])\n",
    "\n",
    "singlelabel.drop(singlelabel.index[[58843]], inplace=True)\n",
    "singlelabel['first_published_at'] = pd.to_datetime(singlelabel['first_published_at'])\n",
    "singlelabel.index = singlelabel['first_published_at'] "
   ]
  },
  {
   "cell_type": "markdown",
   "metadata": {},
   "source": [
    "Focus: since 2000"
   ]
  },
  {
   "cell_type": "code",
   "execution_count": null,
   "metadata": {},
   "outputs": [],
   "source": [
    "fig = plt.figure(figsize=(15, 7))\n",
    "plt.subplot(2, 1, 1)\n",
    "lab=singlelabel['first_published_at'].resample('Y').count().plot()\n",
    "lab.set_xlim(pd.Timestamp('2000-12-31'), pd.Timestamp('2017-12-31'))\n",
    "plt.title('Labelled data')\n",
    "plt.ylabel('Count')\n",
    "lab.set_ylim([0, 30000])\n",
    "lab.axes.get_xaxis().set_ticklabels([])\n",
    "lab.set_xlabel('')\n",
    "\n",
    "plt.subplot(2, 1, 2)\n",
    "plt.title('Unlabelled data')\n",
    "unlab = untagged['first_published_at'].resample('Y').count().plot()\n",
    "unlab.set_xlim(pd.Timestamp('2000-12-31'), pd.Timestamp('2017-12-31'))\n",
    "unlab.set_ylim([0, 30000])\n",
    "\n",
    "fig.tight_layout()\n"
   ]
  },
  {
   "cell_type": "markdown",
   "metadata": {},
   "source": [
    "### What's the publication frequency over time by document type?\n",
    "### Unlabelled"
   ]
  },
  {
   "cell_type": "code",
   "execution_count": null,
   "metadata": {},
   "outputs": [],
   "source": [
    "grouped = untagged.groupby(['document_type', pd.Grouper(freq='Y')])['first_published_at'].count()\n",
    "count_by_year = grouped.unstack('document_type', fill_value=0)"
   ]
  },
  {
   "cell_type": "code",
   "execution_count": null,
   "metadata": {},
   "outputs": [],
   "source": [
    "#There are too many document types to plot on one chart so select the types with highest maximum\n",
    "top_count = count_by_year.loc[:,count_by_year.max() > 500]\n",
    "ax = top_count.plot()\n",
    "ax.set_xlim(pd.Timestamp('2009-12-31'), pd.Timestamp('2017-12-31'))\n",
    "ax.legend(loc='center left', bbox_to_anchor=(1, 0.5))"
   ]
  },
  {
   "cell_type": "code",
   "execution_count": null,
   "metadata": {},
   "outputs": [],
   "source": [
    "#ax = grouped.unstack('document_type', fill_value=0).plot()\n",
    "#ax.set_xlim(pd.Timestamp('2009-12-31'), pd.Timestamp('2017-12-31'))\n",
    "#ax.legend(loc='center left', bbox_to_anchor=(1, 0.5))"
   ]
  },
  {
   "cell_type": "markdown",
   "metadata": {},
   "source": [
    "in order to compare distribution of document types over time with the labelled data, this needs to be relative not absolute. So change into percent of documents published that year"
   ]
  },
  {
   "cell_type": "code",
   "execution_count": null,
   "metadata": {},
   "outputs": [],
   "source": [
    "df = count_by_year.stack().reset_index()\n",
    "df.columns = ['date', 'document_type', 'percent']\n",
    "bydoctype_year = df.groupby(['date', 'document_type']).agg({'percent': 'sum'})\n",
    "# Change: groupby state_office and divide by sum\n",
    "bydoctype_pcts = bydoctype_year.groupby(level=0).apply(lambda x:\n",
    "                                                 100 * x / float(x.sum())).unstack('document_type', fill_value=0)\n",
    "\n",
    "bydoctype_pcts.columns = bydoctype_pcts.columns.droplevel(0)\n",
    "bydoctype_pcts.columns"
   ]
  },
  {
   "cell_type": "code",
   "execution_count": null,
   "metadata": {},
   "outputs": [],
   "source": [
    "\n",
    "top_pct = bydoctype_pcts.loc[:,bydoctype_pcts.max() > 15]\n",
    "print(top_pct.columns.values)\n",
    "\n",
    "# ax = top_pct.plot(kind='area', stacked=True)\n",
    "\n",
    "# ax.set_xlim(pd.Timestamp('2009-12-31'), pd.Timestamp('2017-12-31'))\n",
    "# ax.legend(loc='center left', bbox_to_anchor=(1, 0.5))\n",
    "# plt.title(\"Labelled data\")"
   ]
  },
  {
   "cell_type": "markdown",
   "metadata": {},
   "source": [
    "### Labelled"
   ]
  },
  {
   "cell_type": "code",
   "execution_count": null,
   "metadata": {},
   "outputs": [],
   "source": [
    "l_grouped = singlelabel.groupby(['document_type', pd.Grouper(freq='Y')])['first_published_at'].count()\n",
    "l_count_by_year = l_grouped.unstack('document_type', fill_value=0)"
   ]
  },
  {
   "cell_type": "code",
   "execution_count": null,
   "metadata": {},
   "outputs": [],
   "source": [
    "#There are too many document types to plot on one chart so select the types with highest maximum\n",
    "l_top_count = l_count_by_year.loc[:,l_count_by_year.max() > 1000]\n",
    "ax = l_top_count.plot()\n",
    "ax.set_xlim(pd.Timestamp('2009-12-31'), pd.Timestamp('2017-12-31'))\n",
    "ax.legend(loc='center left', bbox_to_anchor=(1, 0.5))"
   ]
  },
  {
   "cell_type": "code",
   "execution_count": null,
   "metadata": {},
   "outputs": [],
   "source": [
    "df_lab = l_count_by_year.stack().reset_index()\n",
    "df_lab.columns = ['date', 'document_type', 'percent']\n",
    "l_bydoctype_year = df_lab.groupby(['date', 'document_type']).agg({'percent': 'sum'})\n",
    "# Change: groupby state_office and divide by sum\n",
    "l_bydoctype_pcts = l_bydoctype_year.groupby(level=0).apply(lambda x:\n",
    "                                                 100 * x / float(x.sum())).unstack('document_type', fill_value=0)\n",
    "\n",
    "l_bydoctype_pcts.columns = l_bydoctype_pcts.columns.droplevel(0)"
   ]
  },
  {
   "cell_type": "code",
   "execution_count": null,
   "metadata": {},
   "outputs": [],
   "source": [
    "l_top_pct = l_bydoctype_pcts[['correspondence', 'decision'\n",
    " , 'fatality_notice',  'foi_release',\n",
    "  'guidance', 'independent_report', 'international_treaty', 'news_story', 'research', 'world_news_story']]\n",
    "\n",
    "# ax = utop_pct.plot(kind='area', stacked=True)\n",
    "# plt.title('Unlabelled')\n",
    "# ax.set_xlim(pd.Timestamp('2009-12-31'), pd.Timestamp('2017-12-31'))\n",
    "# ax.legend(loc='center left', bbox_to_anchor=(1, 0.5))"
   ]
  },
  {
   "cell_type": "code",
   "execution_count": null,
   "metadata": {},
   "outputs": [],
   "source": [
    "type(l_bydoctype_pcts)"
   ]
  },
  {
   "cell_type": "markdown",
   "metadata": {},
   "source": [
    "#### level1tagged compared to level2tagged"
   ]
  },
  {
   "cell_type": "code",
   "execution_count": null,
   "metadata": {},
   "outputs": [],
   "source": [
    "print(level2_dedup['first_published_at'][level2_dedup['first_published_at'].str.contains('0001-01-01', na=False)])\n",
    "level2_dedup['first_published_at'] = level2_dedup['first_published_at'].str.replace('0001-01-01', '2001-01-01')\n",
    "\n",
    "print(\"There were {} content item/taxons before removing duplicates\".format(content_taxons_dedup.shape[0]))\n",
    "print(\"There were {} content items, unique level2 taxon pairs after removing duplicates by content_id, level1taxon and level2taxon\".format(level2_dedup.shape[0]))\n",
    "mask= pd.notnull(level2_dedup['level2taxon'])\n",
    "level1_tagged = level2_dedup[~mask].copy()\n",
    "print(\"There are {} content items only tagged to level1\".format(level1_tagged.shape[0]))\n",
    "level2_tagged = level2_dedup[mask].copy()\n",
    "print(\"There are {} content items tagged to level2 or lower\".format(level2_tagged.shape[0]))\n",
    "\n",
    "print(\"{} + {} = {}\".format(level1_tagged.shape[0], level2_tagged.shape[0], (level1_tagged.shape[0] + level2_tagged.shape[0])) )"
   ]
  },
  {
   "cell_type": "code",
   "execution_count": null,
   "metadata": {},
   "outputs": [],
   "source": [
    "#level1\n",
    "level1_tagged['first_published_at'] = pd.to_datetime(level1_tagged['first_published_at'])\n",
    "level1_tagged.index = level1_tagged['first_published_at']\n",
    "\n",
    "\n",
    "l1_grouped = level1_tagged.groupby(['document_type', pd.Grouper(freq='Y')])['first_published_at'].count()\n",
    "l1_count_by_year = l1_grouped.unstack('document_type', fill_value=0)\n",
    "#There are too many document types to plot on one chart so select the types with highest maximum\n",
    "l1_top_count = l1_count_by_year.loc[:,l1_count_by_year.max() > 1000]\n",
    "ax = l1_top_count.plot()\n",
    "ax.set_xlim(pd.Timestamp('2009-12-31'), pd.Timestamp('2017-12-31'))\n",
    "ax.legend(loc='center left', bbox_to_anchor=(1, 0.5))\n",
    "df_l1 = l1_count_by_year.stack().reset_index()\n",
    "df_l1.columns = ['date', 'document_type', 'percent']\n",
    "l1_bydoctype_year = df_l1.groupby(['date', 'document_type']).agg({'percent': 'sum'})\n",
    "# Change: groupby state_office and divide by sum\n",
    "l1_bydoctype_pcts = l1_bydoctype_year.groupby(level=0).apply(lambda x:\n",
    "                                                 100 * x / float(x.sum())).unstack('document_type', fill_value=0)\n",
    "\n",
    "l1_bydoctype_pcts.columns = l1_bydoctype_pcts.columns.droplevel(0)\n",
    "l1_top_pct = l1_bydoctype_pcts.loc[:,l1_bydoctype_pcts.max() > 10]\n",
    "l1_top_pct.columns.values"
   ]
  },
  {
   "cell_type": "code",
   "execution_count": null,
   "metadata": {},
   "outputs": [],
   "source": [
    "#level2\n",
    "level2_tagged['first_published_at'] = pd.to_datetime(level2_tagged['first_published_at'])\n",
    "level2_tagged.index = level2_tagged['first_published_at']\n",
    "\n",
    "\n",
    "l2_grouped = level2_tagged.groupby(['document_type', pd.Grouper(freq='Y')])['first_published_at'].count()\n",
    "l2_count_by_year = l2_grouped.unstack('document_type', fill_value=0)\n",
    "#There are too many document types to plot on one chart so select the types with highest maximum\n",
    "l2_top_count = l2_count_by_year.loc[:,l2_count_by_year.max() > 1000]\n",
    "\n",
    "#Graph (absolute numbers)\n",
    "ax = l2_top_count.plot()\n",
    "ax.set_xlim(pd.Timestamp('2009-12-31'), pd.Timestamp('2017-12-31'))\n",
    "ax.legend(loc='center left', bbox_to_anchor=(1, 0.5))\n",
    "\n",
    "#Relative\n",
    "df_l2 = l2_count_by_year.stack().reset_index()\n",
    "df_l2.columns = ['date', 'document_type', 'percent']\n",
    "l2_bydoctype_year = df_l2.groupby(['date', 'document_type']).agg({'percent': 'sum'})\n",
    "# Change: groupby state_office and divide by sum\n",
    "l2_bydoctype_pcts = l2_bydoctype_year.groupby(level=0).apply(lambda x:\n",
    "                                                 100 * x / float(x.sum())).unstack('document_type', fill_value=0)\n",
    "\n",
    "l2_bydoctype_pcts.columns = l2_bydoctype_pcts.columns.droplevel(0)\n",
    "l2_top_pct = l2_bydoctype_pcts[['decision', 'guidance', 'independent_report',\n",
    "       'international_treaty', 'national_statistics', 'news_story',\n",
    "       'policy_paper', 'press_release', 'research']]"
   ]
  },
  {
   "cell_type": "code",
   "execution_count": null,
   "metadata": {},
   "outputs": [],
   "source": [
    "#Compare document type distribution over time beween content items tagged to level1 only and those tagged to level2 or lower\n",
    "lev1 = l1_top_pct.plot(kind='area', stacked=True)\n",
    "lev1.set_xlim(pd.Timestamp('2009-12-31'), pd.Timestamp('2017-12-31'))\n",
    "lev1.legend(loc='center left', bbox_to_anchor=(1, 0.5))\n",
    "plt.title(\"Percent level1\")\n",
    "\n",
    "lev2 = l2_top_pct.plot(kind='area', stacked=True)\n",
    "lev2.set_xlim(pd.Timestamp('2009-12-31'), pd.Timestamp('2017-12-31'))\n",
    "lev2.legend(loc='center left', bbox_to_anchor=(1, 0.5))\n",
    "plt.title(\"Percent level2\")"
   ]
  },
  {
   "cell_type": "markdown",
   "metadata": {},
   "source": [
    "## Compare labelled/unlabelled"
   ]
  },
  {
   "cell_type": "code",
   "execution_count": null,
   "metadata": {},
   "outputs": [],
   "source": [
    "#TO DO: SORT OUT SUBPLOTS\n",
    "lab = l_top_pct.plot(kind='area', stacked=True)\n",
    "lab.set_xlim(pd.Timestamp('2009-12-31'), pd.Timestamp('2017-12-31'))\n",
    "lab.legend(loc='center left', bbox_to_anchor=(1, 0.5))\n",
    "plt.title(\"Percent unlabelled\")\n",
    "\n",
    "unlab = top_pct.plot(kind='area', stacked=True)\n",
    "unlab.set_xlim(pd.Timestamp('2009-12-31'), pd.Timestamp('2017-12-31'))\n",
    "unlab.legend(loc='center left', bbox_to_anchor=(1, 0.5))\n",
    "plt.title(\"Percent labelled\")"
   ]
  },
  {
   "cell_type": "markdown",
   "metadata": {},
   "source": [
    "To DO: \n",
    "- work out subplots\n",
    "- Look at differences in publishin body/publishing app/ locale/tokenised sequence length over time  \n",
    "- Tidy up notebook\n"
   ]
  },
  {
   "cell_type": "code",
   "execution_count": null,
   "metadata": {},
   "outputs": [],
   "source": []
  }
 ],
 "metadata": {
  "keep_output": true,
  "kernelspec": {
   "display_name": "tax_SL",
   "language": "python",
   "name": "tax_sl"
  },
  "language_info": {
   "codemirror_mode": {
    "name": "ipython",
    "version": 3
   },
   "file_extension": ".py",
   "mimetype": "text/x-python",
   "name": "python",
   "nbconvert_exporter": "python",
   "pygments_lexer": "ipython3",
   "version": "3.4.6"
  }
 },
 "nbformat": 4,
 "nbformat_minor": 2
}
