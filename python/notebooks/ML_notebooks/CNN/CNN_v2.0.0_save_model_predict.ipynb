{
 "cells": [
  {
   "cell_type": "markdown",
   "metadata": {},
   "source": [
    "## Convolutional NN to classify govuk content to level2 taxons"
   ]
  },
  {
   "cell_type": "markdown",
   "metadata": {},
   "source": [
    "Based on:\n",
    "https://blog.keras.io/using-pre-trained-word-embeddings-in-a-keras-model.html"
   ]
  },
  {
   "cell_type": "markdown",
   "metadata": {},
   "source": [
    "### Load requirements and data"
   ]
  },
  {
   "cell_type": "code",
   "execution_count": 1,
   "metadata": {
    "scrolled": true
   },
   "outputs": [
    {
     "name": "stderr",
     "output_type": "stream",
     "text": [
      "Using TensorFlow backend.\n",
      "/home/ubuntu/anaconda3/envs/tensorflow_p36/lib/python3.6/importlib/_bootstrap.py:219: RuntimeWarning: compiletime version 3.5 of module 'tensorflow.python.framework.fast_tensor_util' does not match runtime version 3.6\n",
      "  return f(*args, **kwds)\n"
     ]
    }
   ],
   "source": [
    "import pandas as pd\n",
    "import numpy as np\n",
    "import os\n",
    "from datetime import datetime\n",
    "from keras.preprocessing.text import Tokenizer\n",
    "from keras.preprocessing.sequence import pad_sequences\n",
    "\n",
    "from keras.utils import to_categorical, layer_utils, plot_model\n",
    "\n",
    "from keras.layers import (Embedding, Input, Dense, Dropout, \n",
    "                          Activation, Conv1D, MaxPooling1D, Flatten, concatenate, Reshape)\n",
    "from keras.models import Model, Sequential\n",
    "from keras.optimizers import rmsprop\n",
    "from keras.callbacks import TensorBoard, Callback, ModelCheckpoint\n",
    "import keras.backend as K\n",
    "from keras.losses import binary_crossentropy\n",
    "\n",
    "from sklearn.preprocessing import LabelEncoder, MultiLabelBinarizer\n",
    "from sklearn.metrics import confusion_matrix, f1_score, precision_score, recall_score \n",
    "from sklearn.metrics import precision_recall_fscore_support, classification_report\n",
    "from sklearn.utils import class_weight\n",
    "\n",
    "import tensorflow as tf\n",
    "\n",
    "import matplotlib.pyplot as plt\n",
    "%matplotlib inline\n",
    "\n",
    "import functools\n",
    "\n",
    "import h5py\n",
    "\n",
    "from scipy import sparse\n",
    "import time\n"
   ]
  },
  {
   "cell_type": "markdown",
   "metadata": {},
   "source": [
    "### Environmental vars"
   ]
  },
  {
   "cell_type": "code",
   "execution_count": 2,
   "metadata": {
    "scrolled": true
   },
   "outputs": [],
   "source": [
    "DATADIR = os.getenv('DATADIR')"
   ]
  },
  {
   "cell_type": "markdown",
   "metadata": {},
   "source": [
    "### Print data version"
   ]
  },
  {
   "cell_type": "code",
   "execution_count": 3,
   "metadata": {},
   "outputs": [
    {
     "name": "stdout",
     "output_type": "stream",
     "text": [
      "algorithm running on data extracted from content store on /data/2018-03-05\n"
     ]
    }
   ],
   "source": [
    "print('algorithm running on data extracted from content store on {}'.format(DATADIR))"
   ]
  },
  {
   "cell_type": "markdown",
   "metadata": {},
   "source": [
    "## Hyperparameters"
   ]
  },
  {
   "cell_type": "markdown",
   "metadata": {},
   "source": [
    "Intuition for POS_RATIO is that it penalises the prediction of zero for everything, which is attractive to the model because the multilabel y matrix is super sparse. \n",
    "\n",
    "Increasing POS_RATIO should penalise predicting zeros more."
   ]
  },
  {
   "cell_type": "code",
   "execution_count": 4,
   "metadata": {
    "scrolled": true
   },
   "outputs": [],
   "source": [
    "#MAX_NB_WORDS\n",
    "MAX_SEQUENCE_LENGTH =1000\n",
    "EMBEDDING_DIM = 100 # keras embedding layer output_dim = Dimension of the dense embedding\n",
    "P_THRESHOLD = 0.5 #Threshold for probability of being assigned to class\n",
    "POS_RATIO = 0.5 #ratio of positive to negative for each class in weighted binary cross entropy loss function\n",
    "NUM_WORDS=20000 #keras tokenizer num_words: None or int. Maximum number of words to work with \n",
    "#(if set, tokenization will be restricted to the top num_words most common words in the dataset)."
   ]
  },
  {
   "cell_type": "markdown",
   "metadata": {},
   "source": [
    "### Read in data"
   ]
  },
  {
   "cell_type": "code",
   "execution_count": 5,
   "metadata": {
    "scrolled": true
   },
   "outputs": [],
   "source": [
    "train = np.load(os.path.join(DATADIR, 'train_arrays.npz'))"
   ]
  },
  {
   "cell_type": "code",
   "execution_count": 6,
   "metadata": {},
   "outputs": [
    {
     "data": {
      "text/plain": [
       "['x', 'meta', 'title', 'desc', 'y', 'content_id']"
      ]
     },
     "execution_count": 6,
     "metadata": {},
     "output_type": "execute_result"
    }
   ],
   "source": [
    "train.files"
   ]
  },
  {
   "cell_type": "code",
   "execution_count": 7,
   "metadata": {},
   "outputs": [
    {
     "name": "stdout",
     "output_type": "stream",
     "text": [
      "x_train.shape = (175767, 1000)\n",
      "meta_train.shape = (175767, 535)\n",
      "title_train.shape = (175767, 10000)\n",
      "desc_train.shape = (175767, 10000)\n",
      "y_train.shape = (175767, 218)\n"
     ]
    }
   ],
   "source": [
    "x_train = train['x']\n",
    "meta_train = train['meta'].all().todense()\n",
    "title_train = train['title'].all().todense()\n",
    "desc_train = train['desc'].all().todense()\n",
    "y_train = train['y'].all().todense()\n",
    "\n",
    "print('x_train.shape = {}'.format(x_train.shape))\n",
    "print('meta_train.shape = {}'.format(meta_train.shape))\n",
    "print('title_train.shape = {}'.format(title_train.shape))\n",
    "print('desc_train.shape = {}'.format(desc_train.shape))\n",
    "print('y_train.shape = {}'.format(y_train.shape))"
   ]
  },
  {
   "cell_type": "code",
   "execution_count": 8,
   "metadata": {
    "scrolled": true
   },
   "outputs": [],
   "source": [
    "dev = np.load(os.path.join(DATADIR, 'dev_arrays.npz'))"
   ]
  },
  {
   "cell_type": "code",
   "execution_count": 9,
   "metadata": {},
   "outputs": [
    {
     "name": "stdout",
     "output_type": "stream",
     "text": [
      "x_dev.shape = (12408, 1000)\n",
      "meta_dev.shape = (12408, 535)\n",
      "title_dev.shape = (12408, 10000)\n",
      "desc_dev.shape = (12408, 10000)\n",
      "y_dev.shape = (12408, 218)\n"
     ]
    }
   ],
   "source": [
    "x_dev = dev['x']\n",
    "meta_dev = dev['meta'].all().todense()\n",
    "title_dev = dev['title'].all().todense()\n",
    "desc_dev = dev['desc'].all().todense()\n",
    "y_dev = dev['y'].all().todense()\n",
    "\n",
    "print('x_dev.shape = {}'.format(x_dev.shape))\n",
    "print('meta_dev.shape = {}'.format(meta_dev.shape))\n",
    "print('title_dev.shape = {}'.format(title_dev.shape))\n",
    "print('desc_dev.shape = {}'.format(desc_dev.shape))\n",
    "print('y_dev.shape = {}'.format(y_dev.shape))"
   ]
  },
  {
   "cell_type": "code",
   "execution_count": 10,
   "metadata": {
    "scrolled": true
   },
   "outputs": [],
   "source": [
    "test = np.load(os.path.join(DATADIR, 'test_arrays.npz'))"
   ]
  },
  {
   "cell_type": "code",
   "execution_count": 11,
   "metadata": {},
   "outputs": [
    {
     "name": "stdout",
     "output_type": "stream",
     "text": [
      "x_test.shape = (12409, 1000)\n",
      "meta_test.shape = (12409, 535)\n",
      "title_test.shape = (12409, 10000)\n",
      "desc_test.shape = (12409, 10000)\n",
      "y_test.shape = (12409, 218)\n"
     ]
    }
   ],
   "source": [
    "x_test = test['x']\n",
    "meta_test = test['meta'].all().todense()\n",
    "title_test = test['title'].all().todense()\n",
    "desc_test = test['desc'].all().todense()\n",
    "y_test = test['y'].all().todense()\n",
    "\n",
    "print('x_test.shape = {}'.format(x_test.shape))\n",
    "print('meta_test.shape = {}'.format(meta_test.shape))\n",
    "print('title_test.shape = {}'.format(title_test.shape))\n",
    "print('desc_test.shape = {}'.format(desc_test.shape))\n",
    "print('y_test.shape = {}'.format(y_test.shape))"
   ]
  },
  {
   "cell_type": "markdown",
   "metadata": {
    "scrolled": true
   },
   "source": [
    "#### previous shapes in old data \n",
    "Shape of x_train: (150870, 1000)\n",
    "Shape of metax_train: (150870, 436)\n",
    "Shape of titlex_train: (150870, 10000)\n",
    "Shape of descx_train: (150870, 10000)\n",
    "Shape of y_train: (150870, 210)\n",
    "\n",
    "Shape of x_dev: (9234, 1000)\n",
    "Shape of meta_dev: (9234, 436)\n",
    "Shape of titlex_dev: (9234, 10000)\n",
    "Shape of descx_dev: (9234, 10000)\n",
    "Shape of y_dev: (9234, 210)\n",
    "\n",
    "Shape of x_test: (9234, 1000)\n",
    "Shape of metax_test: (9234, 436)\n",
    "Shape of titlex_test: (9234, 10000)\n",
    "Shape of descx_test: (9234, 10000)\n",
    "Shape of y_test: (9234, 210)"
   ]
  },
  {
   "cell_type": "markdown",
   "metadata": {},
   "source": [
    "### preparing the Embedding layer\n"
   ]
  },
  {
   "cell_type": "code",
   "execution_count": 12,
   "metadata": {},
   "outputs": [],
   "source": [
    "import json\n",
    "from collections import OrderedDict\n",
    "\n",
    "def load_tokenizer_from_file(filename):\n",
    "    \n",
    "    tokenizer = Tokenizer()\n",
    "\n",
    "    with open(filename, 'r') as infile:\n",
    "        tokenizer_data = json.load(infile)\n",
    "\n",
    "    tokenizer.word_counts = OrderedDict(tokenizer_data['word_counts'])\n",
    "    tokenizer.word_docs = tokenizer_data['word_docs']\n",
    "    tokenizer.word_index = tokenizer_data['word_index']\n",
    "    tokenizer.document_count = tokenizer_data['document_count']\n",
    "    tokenizer.index_docs = tokenizer_data['index_docs']\n",
    "\n",
    "    return tokenizer\n",
    "\n",
    "tokenizer_combined_text = load_tokenizer_from_file(os.path.join(DATADIR, \"combined_text_tokenizer.json\"))"
   ]
  },
  {
   "cell_type": "code",
   "execution_count": 13,
   "metadata": {
    "scrolled": true
   },
   "outputs": [],
   "source": [
    "embedding_layer = Embedding(len(tokenizer_combined_text.word_index) + 1, \n",
    "                            EMBEDDING_DIM, \n",
    "                            input_length=MAX_SEQUENCE_LENGTH)"
   ]
  },
  {
   "cell_type": "markdown",
   "metadata": {},
   "source": [
    "An Embedding layer should be fed sequences of integers, i.e. a 2D input of shape (samples, indices). These input sequences should be padded so that they all have the same length in a batch of input data (although an Embedding layer is capable of processing sequence of heterogenous length, if you don't pass an explicit input_length argument to the layer).\n",
    "\n",
    "All that the Embedding layer does is to map the integer inputs to the vectors found at the corresponding index in the embedding matrix, i.e. the sequence [1, 2] would be converted to [embeddings[1], embeddings[2]]. This means that the output of the Embedding layer will be a 3D tensor of shape (samples, sequence_length, embedding_dim)."
   ]
  },
  {
   "cell_type": "markdown",
   "metadata": {},
   "source": [
    "### Estimate class weights for unbalanced datasets.\n",
    "paramter to model.fit = __class_weight__: Optional dictionary mapping class indices (integers) to a weight (float) value, used for weighting the loss function (during training only). This can be useful to tell the model to \"pay more attention\" to samples from an under-represented class.\n",
    "\n",
    "Implement class_weight from sklearn:\n",
    "\n",
    "- Import the module \n",
    "\n",
    "`from sklearn.utils import class_weight`\n",
    "- calculate the class weight, If ‘balanced’, class weights will be given by n_samples / (n_classes * np.bincount(y)):\n",
    "\n",
    "`class_weight = class_weight.compute_class_weight('balanced', np.unique(y_train), y_train)`\n",
    "\n",
    "- change it to a dict in order to work with Keras.\n",
    "\n",
    "`class_weight_dict = dict(enumerate(class_weight))`\n",
    "\n",
    "- Add to model fitting\n",
    "\n",
    "`model.fit(X_train, y_train, class_weight=class_weight)`"
   ]
  },
  {
   "cell_type": "code",
   "execution_count": 14,
   "metadata": {
    "scrolled": true
   },
   "outputs": [],
   "source": [
    "# class_weight = class_weight.compute_class_weight('balanced', np.unique(y_train), y_train)\n",
    "# class_weight_dict = dict(enumerate(class_weight))"
   ]
  },
  {
   "cell_type": "markdown",
   "metadata": {},
   "source": [
    "### Custom loss function"
   ]
  },
  {
   "cell_type": "code",
   "execution_count": 15,
   "metadata": {
    "scrolled": true
   },
   "outputs": [
    {
     "name": "stdout",
     "output_type": "stream",
     "text": [
      "4.00756\n",
      "8.01512\n"
     ]
    }
   ],
   "source": [
    "class WeightedBinaryCrossEntropy(object):\n",
    "\n",
    "    def __init__(self, pos_ratio):\n",
    "        neg_ratio = 1. - pos_ratio\n",
    "        #self.pos_ratio = tf.constant(pos_ratio, tf.float32)\n",
    "        self.pos_ratio = pos_ratio\n",
    "        #self.weights = tf.constant(neg_ratio / pos_ratio, tf.float32)\n",
    "        self.weights = neg_ratio / pos_ratio\n",
    "        self.__name__ = \"weighted_binary_crossentropy({0})\".format(pos_ratio)\n",
    "\n",
    "    def __call__(self, y_true, y_pred):\n",
    "        return self.weighted_binary_crossentropy(y_true, y_pred)\n",
    "\n",
    "    def weighted_binary_crossentropy(self, y_true, y_pred):\n",
    "            # Transform to logits\n",
    "            epsilon = tf.convert_to_tensor(K.common._EPSILON, y_pred.dtype.base_dtype)\n",
    "            y_pred = tf.clip_by_value(y_pred, epsilon, 1 - epsilon)\n",
    "            y_pred = tf.log(y_pred / (1 - y_pred))\n",
    "\n",
    "            cost = tf.nn.weighted_cross_entropy_with_logits(y_true, y_pred, self.weights)\n",
    "            return K.mean(cost * self.pos_ratio, axis=-1)\n",
    "    \n",
    "y_true_arr = np.array([0,1,0,1], dtype=\"float32\")\n",
    "y_pred_arr = np.array([0,0,1,1], dtype=\"float32\")\n",
    "y_true = tf.constant(y_true_arr)\n",
    "y_pred = tf.constant(y_pred_arr)\n",
    "\n",
    "with tf.Session().as_default(): \n",
    "    print(WeightedBinaryCrossEntropy(0.5)(y_true, y_pred).eval())\n",
    "    print(binary_crossentropy(y_true, y_pred).eval())\n"
   ]
  },
  {
   "cell_type": "markdown",
   "metadata": {},
   "source": [
    "### difficulty getting global precision/recall metrics . CAUTION interpreting monitoring metrics\n",
    "fcholltet: \"Basically these are all global metrics that were approximated\n",
    "batch-wise, which is more misleading than helpful. This was mentioned in\n",
    "the docs but it's much cleaner to remove them altogether. It was a mistake\n",
    "to merge them in the first place.\""
   ]
  },
  {
   "cell_type": "code",
   "execution_count": 16,
   "metadata": {
    "scrolled": true
   },
   "outputs": [],
   "source": [
    "def f1(y_true, y_pred):\n",
    "    \"\"\"Use Recall  and precision metrics to calculate harmonic mean (F1 score).\n",
    "\n",
    "        Only computes a batch-wise average of recall.\n",
    "\n",
    "        Computes the recall, a metric for multi-label classification of\n",
    "        how many relevant items are selected.\n",
    "        \"\"\"\n",
    "    true_positives = K.sum(K.round(K.clip(y_true * y_pred, 0, 1)))\n",
    "    predicted_positives = K.sum(K.round(K.clip(y_pred, 0, 1)))\n",
    "    possible_positives = K.sum(K.round(K.clip(y_true, 0, 1)))\n",
    "    precision = true_positives / (predicted_positives + K.epsilon())\n",
    "    recall = true_positives / (possible_positives + K.epsilon())\n",
    "    f1 = 2*((precision*recall)/(precision+recall))\n",
    "    \n",
    "    return f1"
   ]
  },
  {
   "cell_type": "markdown",
   "metadata": {},
   "source": [
    "## Training a 1D convnet"
   ]
  },
  {
   "cell_type": "markdown",
   "metadata": {},
   "source": [
    "### 1. Create model"
   ]
  },
  {
   "cell_type": "code",
   "execution_count": 17,
   "metadata": {
    "scrolled": true
   },
   "outputs": [],
   "source": [
    "NB_CLASSES = y_train.shape[1]\n",
    "NB_METAVARS = meta_train.shape[1]\n",
    "\n",
    "\n",
    "\n",
    "sequence_input = Input(shape=(MAX_SEQUENCE_LENGTH,), dtype='int32', name='wordindex') #MAX_SEQUENCE_LENGTH\n",
    "embedded_sequences = embedding_layer(sequence_input)\n",
    "x = Dropout(0.2, name = 'dropout_embedded')(embedded_sequences)\n",
    "\n",
    "x = Conv1D(128, 5, activation='relu', name = 'conv0')(x)\n",
    "\n",
    "x = MaxPooling1D(5, name = 'max_pool0')(x)\n",
    "\n",
    "x = Dropout(0.5, name = 'dropout0')(x)\n",
    "\n",
    "x = Conv1D(128, 5, activation='relu', name = 'conv1')(x)\n",
    "\n",
    "x = MaxPooling1D(5 , name = 'max_pool1')(x)\n",
    "\n",
    "x = Conv1D(128, 5, activation='relu', name = 'conv2')(x)\n",
    "\n",
    "x = MaxPooling1D(35, name = 'global_max_pool')(x)  # global max pooling\n",
    "\n",
    "x = Flatten()(x) #reduce dimensions from 3 to 2; convert to vector + FULLYCONNECTED\n",
    "\n",
    "meta_input = Input(shape=(NB_METAVARS,), name='meta')\n",
    "meta_hidden = Dense(128, activation='relu', name = 'hidden_meta')(meta_input)\n",
    "meta_hidden = Dropout(0.2, name = 'dropout_meta')(meta_hidden)\n",
    "\n",
    "\n",
    "title_input = Input(shape=(title_train.shape[1],), name='titles')\n",
    "title_hidden = Dense(128, activation='relu', name = 'hidden_title')(title_input)\n",
    "title_hidden = Dropout(0.2, name = 'dropout_title')(title_hidden)\n",
    "\n",
    "desc_input = Input(shape=(desc_train.shape[1],), name='descs')\n",
    "desc_hidden = Dense(128, activation='relu', name = 'hidden_desc')(desc_input)\n",
    "desc_hidden = Dropout(0.2, name = 'dropout_desc')(desc_hidden)\n",
    "\n",
    "concatenated = concatenate([meta_hidden, title_hidden, desc_hidden, x])\n",
    "\n",
    "x = Dense(400, activation='relu', name = 'fully_connected0')(concatenated)\n",
    "\n",
    "x = Dropout(0.2, name = 'dropout1')(x)\n",
    "\n",
    "x = Dense(NB_CLASSES, activation='sigmoid', name = 'fully_connected1')(x)\n",
    "\n",
    "# # The Model class turns an input tensor and output tensor into a model\n",
    "# This creates Keras model instance, will use this instance to train/test the model.\n",
    "model = Model(inputs=[meta_input, title_input, desc_input, sequence_input], outputs=x)"
   ]
  },
  {
   "cell_type": "code",
   "execution_count": 18,
   "metadata": {
    "scrolled": true
   },
   "outputs": [
    {
     "name": "stdout",
     "output_type": "stream",
     "text": [
      "__________________________________________________________________________________________________\n",
      "Layer (type)                    Output Shape         Param #     Connected to                     \n",
      "==================================================================================================\n",
      "wordindex (InputLayer)          (None, 1000)         0                                            \n",
      "__________________________________________________________________________________________________\n",
      "embedding_1 (Embedding)         (None, 1000, 100)    34338600    wordindex[0][0]                  \n",
      "__________________________________________________________________________________________________\n",
      "dropout_embedded (Dropout)      (None, 1000, 100)    0           embedding_1[0][0]                \n",
      "__________________________________________________________________________________________________\n",
      "conv0 (Conv1D)                  (None, 996, 128)     64128       dropout_embedded[0][0]           \n",
      "__________________________________________________________________________________________________\n",
      "max_pool0 (MaxPooling1D)        (None, 199, 128)     0           conv0[0][0]                      \n",
      "__________________________________________________________________________________________________\n",
      "dropout0 (Dropout)              (None, 199, 128)     0           max_pool0[0][0]                  \n",
      "__________________________________________________________________________________________________\n",
      "conv1 (Conv1D)                  (None, 195, 128)     82048       dropout0[0][0]                   \n",
      "__________________________________________________________________________________________________\n",
      "max_pool1 (MaxPooling1D)        (None, 39, 128)      0           conv1[0][0]                      \n",
      "__________________________________________________________________________________________________\n",
      "meta (InputLayer)               (None, 535)          0                                            \n",
      "__________________________________________________________________________________________________\n",
      "titles (InputLayer)             (None, 10000)        0                                            \n",
      "__________________________________________________________________________________________________\n",
      "descs (InputLayer)              (None, 10000)        0                                            \n",
      "__________________________________________________________________________________________________\n",
      "conv2 (Conv1D)                  (None, 35, 128)      82048       max_pool1[0][0]                  \n",
      "__________________________________________________________________________________________________\n",
      "hidden_meta (Dense)             (None, 128)          68608       meta[0][0]                       \n",
      "__________________________________________________________________________________________________\n",
      "hidden_title (Dense)            (None, 128)          1280128     titles[0][0]                     \n",
      "__________________________________________________________________________________________________\n",
      "hidden_desc (Dense)             (None, 128)          1280128     descs[0][0]                      \n",
      "__________________________________________________________________________________________________\n",
      "global_max_pool (MaxPooling1D)  (None, 1, 128)       0           conv2[0][0]                      \n",
      "__________________________________________________________________________________________________\n",
      "dropout_meta (Dropout)          (None, 128)          0           hidden_meta[0][0]                \n",
      "__________________________________________________________________________________________________\n",
      "dropout_title (Dropout)         (None, 128)          0           hidden_title[0][0]               \n",
      "__________________________________________________________________________________________________\n",
      "dropout_desc (Dropout)          (None, 128)          0           hidden_desc[0][0]                \n",
      "__________________________________________________________________________________________________\n",
      "flatten_1 (Flatten)             (None, 128)          0           global_max_pool[0][0]            \n",
      "__________________________________________________________________________________________________\n",
      "concatenate_1 (Concatenate)     (None, 512)          0           dropout_meta[0][0]               \n",
      "                                                                 dropout_title[0][0]              \n",
      "                                                                 dropout_desc[0][0]               \n",
      "                                                                 flatten_1[0][0]                  \n",
      "__________________________________________________________________________________________________\n",
      "fully_connected0 (Dense)        (None, 400)          205200      concatenate_1[0][0]              \n",
      "__________________________________________________________________________________________________\n",
      "dropout1 (Dropout)              (None, 400)          0           fully_connected0[0][0]           \n",
      "__________________________________________________________________________________________________\n",
      "fully_connected1 (Dense)        (None, 218)          87418       dropout1[0][0]                   \n",
      "==================================================================================================\n",
      "Total params: 37,488,306\n",
      "Trainable params: 37,488,306\n",
      "Non-trainable params: 0\n",
      "__________________________________________________________________________________________________\n"
     ]
    }
   ],
   "source": [
    "model.summary()"
   ]
  },
  {
   "cell_type": "markdown",
   "metadata": {},
   "source": [
    "### Tensorboard callbacks /metrics /monitor training"
   ]
  },
  {
   "cell_type": "markdown",
   "metadata": {},
   "source": [
    "<span style=\"color:red\"> **Size of these files is killing storage during training. Is it histograms?**</span>"
   ]
  },
  {
   "cell_type": "code",
   "execution_count": 19,
   "metadata": {
    "scrolled": true
   },
   "outputs": [],
   "source": [
    "tb = TensorBoard(log_dir='./learn_embedding_logs', histogram_freq=1, write_graph=True, write_images=False)"
   ]
  },
  {
   "cell_type": "code",
   "execution_count": 20,
   "metadata": {
    "scrolled": true
   },
   "outputs": [],
   "source": [
    "CHECKPOINT_PATH = os.path.join(DATADIR, 'model_checkpoint.hdf5')\n",
    "\n",
    "cp = ModelCheckpoint(\n",
    "                     filepath = CHECKPOINT_PATH, \n",
    "                     monitor='val_loss', \n",
    "                     verbose=0, \n",
    "                     save_best_only=False, \n",
    "                     save_weights_only=False, \n",
    "                     mode='auto', \n",
    "                     period=1\n",
    "                    )"
   ]
  },
  {
   "cell_type": "code",
   "execution_count": 21,
   "metadata": {
    "scrolled": true
   },
   "outputs": [],
   "source": [
    "from keras.callbacks import EarlyStopping\n",
    "early_stopping = EarlyStopping(monitor='val_loss', patience=2)\n",
    "#model.fit(x, y, validation_split=0.2, callbacks=[early_stopping])"
   ]
  },
  {
   "cell_type": "markdown",
   "metadata": {},
   "source": [
    "### 2 & 3. Train & compile model"
   ]
  },
  {
   "cell_type": "code",
   "execution_count": 22,
   "metadata": {
    "scrolled": true
   },
   "outputs": [
    {
     "name": "stdout",
     "output_type": "stream",
     "text": [
      "Train on 175767 samples, validate on 12408 samples\n",
      "Epoch 1/10\n",
      "175767/175767 [==============================] - 136s 776us/step - loss: 0.0087 - binary_accuracy: 0.9951 - f1: nan - val_loss: 0.0041 - val_binary_accuracy: 0.9973 - val_f1: 0.7759\n",
      "Epoch 2/10\n",
      "175767/175767 [==============================] - 128s 728us/step - loss: 0.0029 - binary_accuracy: 0.9980 - f1: 0.8715 - val_loss: 0.0036 - val_binary_accuracy: 0.9977 - val_f1: 0.8063\n",
      "Epoch 3/10\n",
      "175767/175767 [==============================] - 128s 728us/step - loss: 0.0022 - binary_accuracy: 0.9985 - f1: 0.9057 - val_loss: 0.0034 - val_binary_accuracy: 0.9978 - val_f1: 0.8211\n",
      "Epoch 4/10\n",
      "175767/175767 [==============================] - 128s 726us/step - loss: 0.0019 - binary_accuracy: 0.9988 - f1: 0.9217 - val_loss: 0.0033 - val_binary_accuracy: 0.9979 - val_f1: 0.8307\n",
      "Epoch 5/10\n",
      "175767/175767 [==============================] - 128s 726us/step - loss: 0.0016 - binary_accuracy: 0.9989 - f1: 0.9312 - val_loss: 0.0035 - val_binary_accuracy: 0.9979 - val_f1: 0.8336\n",
      "Epoch 6/10\n",
      "175767/175767 [==============================] - 128s 725us/step - loss: 0.0015 - binary_accuracy: 0.9990 - f1: 0.9367 - val_loss: 0.0041 - val_binary_accuracy: 0.9979 - val_f1: 0.8280\n"
     ]
    }
   ],
   "source": [
    "# metrics callback causes: CCCCCCR55555555511155\n",
    "# So disable for now\n",
    "from keras.utils import multi_gpu_model\n",
    "\n",
    "# Replicates `model` on 8 GPUs.\n",
    "# This assumes that your machine has 8 available GPUs.\n",
    "parallel_model = multi_gpu_model(model, gpus=8)\n",
    "parallel_model.compile(loss=WeightedBinaryCrossEntropy(POS_RATIO),\n",
    "              optimizer='rmsprop',\n",
    "              metrics=['binary_accuracy', f1])\n",
    "\n",
    "# This `fit` call will be distributed on 8 GPUs.\n",
    "# Since the batch size is 256, each GPU will process 32 samples.\n",
    "history = parallel_model.fit(\n",
    "    {'meta': meta_train, 'titles': title_train, 'descs': desc_train, 'wordindex': x_train},\n",
    "    y_train, \n",
    "    validation_data=([meta_dev, title_dev, desc_dev, x_dev], y_dev), \n",
    "    epochs=10, batch_size=128, callbacks=[early_stopping]\n",
    ")\n",
    "\n"
   ]
  },
  {
   "cell_type": "code",
   "execution_count": 23,
   "metadata": {
    "scrolled": true
   },
   "outputs": [
    {
     "data": {
      "text/plain": [
       "dict_keys(['val_loss', 'val_binary_accuracy', 'val_f1', 'loss', 'binary_accuracy', 'f1'])"
      ]
     },
     "execution_count": 23,
     "metadata": {},
     "output_type": "execute_result"
    }
   ],
   "source": [
    "history_dict = history.history\n",
    "history_dict.keys()"
   ]
  },
  {
   "cell_type": "code",
   "execution_count": 25,
   "metadata": {
    "scrolled": true
   },
   "outputs": [
    {
     "data": {
      "image/png": "[encoded data removed]",
      "text/plain": [
       "<matplotlib.figure.Figure at 0x7f319d9bc978>"
      ]
     },
     "metadata": {},
     "output_type": "display_data"
    }
   ],
   "source": [
    "loss_values = history_dict['loss']\n",
    "val_loss_values = history_dict['val_loss']\n",
    "\n",
    "epochs = range(1, 7)\n",
    "\n",
    "plt.plot(epochs, loss_values, 'bo', label='Training loss')           \n",
    "plt.plot(epochs, val_loss_values, 'b', label='Validation loss')      \n",
    "plt.title('Training and validation loss')\n",
    "plt.xlabel('Epochs')\n",
    "plt.ylabel('Loss')\n",
    "plt.legend()\n",
    "\n",
    "plt.show()"
   ]
  },
  {
   "cell_type": "code",
   "execution_count": 26,
   "metadata": {
    "scrolled": true
   },
   "outputs": [
    {
     "data": {
      "image/png": "[encoded data removed]",
      "text/plain": [
       "<matplotlib.figure.Figure at 0x7f319d9bc5c0>"
      ]
     },
     "metadata": {},
     "output_type": "display_data"
    }
   ],
   "source": [
    "plt.clf()    \n",
    "\n",
    "f1_values = history_dict['f1']\n",
    "val_f1_values = history_dict['val_f1']\n",
    "\n",
    "plt.plot(epochs, f1_values, 'bo', label='Training f1')\n",
    "plt.plot(epochs, val_f1_values, 'b', label='Validation f1')\n",
    "plt.title('Training and validation batch-level f1-micro')\n",
    "plt.xlabel('Epochs')\n",
    "plt.ylabel('F1-micro')\n",
    "plt.legend()\n",
    "\n",
    "plt.show()"
   ]
  },
  {
   "cell_type": "markdown",
   "metadata": {},
   "source": [
    "### Save results arrays"
   ]
  },
  {
   "cell_type": "code",
   "execution_count": 27,
   "metadata": {},
   "outputs": [],
   "source": [
    "def to_file(array,name):\n",
    "    df = pd.DataFrame(data = array.tolist(),columns=[i for i in range(1,y_train.shape[1]+1)])\n",
    "    df.to_csv(os.path.join(DATADIR, name+'.csv.gz'),compression='gzip',index=False)"
   ]
  },
  {
   "cell_type": "code",
   "execution_count": 28,
   "metadata": {},
   "outputs": [
    {
     "data": {
      "text/plain": [
       "'_1010_0803_'"
      ]
     },
     "execution_count": 28,
     "metadata": {},
     "output_type": "execute_result"
    }
   ],
   "source": [
    "date_run = time.strftime(\"_%H%M_%d%m_\")\n",
    "date_run"
   ]
  },
  {
   "cell_type": "code",
   "execution_count": 29,
   "metadata": {},
   "outputs": [],
   "source": [
    "y_prob = parallel_model.predict([meta_train, title_train, desc_train, x_train])"
   ]
  },
  {
   "cell_type": "code",
   "execution_count": 30,
   "metadata": {},
   "outputs": [],
   "source": [
    "to_file(y_prob,\"train_results\"+date_run)"
   ]
  },
  {
   "cell_type": "code",
   "execution_count": 31,
   "metadata": {},
   "outputs": [],
   "source": [
    "y_pred = y_prob.copy()\n",
    "y_pred[y_pred>=P_THRESHOLD] = 1\n",
    "y_pred[y_pred<P_THRESHOLD] = 0"
   ]
  },
  {
   "cell_type": "code",
   "execution_count": 32,
   "metadata": {
    "scrolled": true
   },
   "outputs": [
    {
     "name": "stdout",
     "output_type": "stream",
     "text": [
      "micro: (0.97271783537606327, 0.94284313916424844, 0.95754752745169791, None)\n",
      "macro: (0.98237437525002991, 0.96390205334084123, 0.97244877974912269, None)\n",
      "weightedmacro: (0.97270364294834932, 0.94284313916424844, 0.95686852456865601, None)\n"
     ]
    }
   ],
   "source": [
    "print('micro: {}'.format(precision_recall_fscore_support(y_train, y_pred, average='micro', sample_weight=None)))\n",
    "print('macro: {}'.format(precision_recall_fscore_support(y_train, y_pred, average='macro', sample_weight=None)))\n",
    "print('weightedmacro: {}'.format(precision_recall_fscore_support(y_train, y_pred, average='weighted', sample_weight=None)))"
   ]
  },
  {
   "cell_type": "code",
   "execution_count": 33,
   "metadata": {},
   "outputs": [],
   "source": [
    "y_prob_dev = parallel_model.predict([meta_dev, title_dev, desc_dev, x_dev])"
   ]
  },
  {
   "cell_type": "code",
   "execution_count": 34,
   "metadata": {},
   "outputs": [],
   "source": [
    "to_file(y_prob_dev,\"dev_results\"+date_run)"
   ]
  },
  {
   "cell_type": "code",
   "execution_count": 35,
   "metadata": {},
   "outputs": [],
   "source": [
    "y_pred_dev = y_prob_dev.copy()\n",
    "y_pred_dev[y_pred_dev>=P_THRESHOLD] = 1\n",
    "y_pred_dev[y_pred_dev<P_THRESHOLD] = 0"
   ]
  },
  {
   "cell_type": "code",
   "execution_count": 36,
   "metadata": {},
   "outputs": [
    {
     "name": "stdout",
     "output_type": "stream",
     "text": [
      "micro: (0.86504714919128212, 0.79417497993349384, 0.82809744432820209, None)\n",
      "macro: (0.77235558148910566, 0.80151588193994372, 0.77747634676442445, None)\n",
      "weightedmacro: (0.86897450390606434, 0.79417497993349384, 0.82547398235036362, None)\n"
     ]
    },
    {
     "name": "stderr",
     "output_type": "stream",
     "text": [
      "/home/ubuntu/anaconda3/envs/tensorflow_p36/lib/python3.6/site-packages/sklearn/metrics/classification.py:1135: UndefinedMetricWarning: Precision and F-score are ill-defined and being set to 0.0 in labels with no predicted samples.\n",
      "  'precision', 'predicted', average, warn_for)\n",
      "/home/ubuntu/anaconda3/envs/tensorflow_p36/lib/python3.6/site-packages/sklearn/metrics/classification.py:1137: UndefinedMetricWarning: Recall and F-score are ill-defined and being set to 0.0 in labels with no true samples.\n",
      "  'recall', 'true', average, warn_for)\n"
     ]
    }
   ],
   "source": [
    "print('micro: {}'.format(precision_recall_fscore_support(y_dev, y_pred_dev, average='micro', sample_weight=None)))\n",
    "print('macro: {}'.format(precision_recall_fscore_support(y_dev, y_pred_dev, average='macro', sample_weight=None)))\n",
    "print('weightedmacro: {}'.format(precision_recall_fscore_support(y_dev, y_pred_dev, average='weighted', sample_weight=None)))"
   ]
  },
  {
   "cell_type": "code",
   "execution_count": 37,
   "metadata": {},
   "outputs": [
    {
     "name": "stdout",
     "output_type": "stream",
     "text": [
      "weightedmacro: (array([ 0.        ,  0.66666667,  0.96428571,  0.54545455,  1.        ,\n",
      "        0.625     ,  0.77777778,  0.87857143,  1.        ,  1.        ,\n",
      "        0.        ,  1.        ,  1.        ,  1.        ,  0.70833333,\n",
      "        0.        ,  0.69230769,  1.        ,  0.        ,  0.85714286,\n",
      "        0.85477941,  0.75949367,  0.81102362,  1.        ,  1.        ,\n",
      "        1.        ,  0.5       ,  1.        ,  1.        ,  1.        ,\n",
      "        0.7       ,  0.93333333,  0.9       ,  0.        ,  0.6097561 ,\n",
      "        0.8560794 ,  0.5       ,  0.65517241,  0.81625442,  0.83333333,\n",
      "        0.75609756,  1.        ,  0.71428571,  0.86666667,  1.        ,\n",
      "        1.        ,  0.68292683,  0.75      ,  0.        ,  0.75      ,\n",
      "        0.7540107 ,  1.        ,  1.        ,  0.76470588,  1.        ,\n",
      "        1.        ,  1.        ,  0.        ,  0.97265625,  0.78571429,\n",
      "        0.82727273,  0.83333333,  0.71428571,  0.84615385,  0.89655172,\n",
      "        1.        ,  0.78881988,  0.75675676,  1.        ,  0.98507463,\n",
      "        0.60714286,  1.        ,  1.        ,  0.9       ,  0.8       ,\n",
      "        0.75      ,  0.95      ,  0.86635945,  0.        ,  0.91666667,\n",
      "        1.        ,  0.84615385,  0.7       ,  0.87301587,  0.91823899,\n",
      "        1.        ,  1.        ,  0.79754601,  1.        ,  1.        ,\n",
      "        0.83333333,  0.92857143,  1.        ,  0.88686131,  0.90134529,\n",
      "        0.75308642,  1.        ,  0.85714286,  1.        ,  0.88888889,\n",
      "        0.65625   ,  0.84337349,  0.97297297,  0.84848485,  0.        ,\n",
      "        0.89473684,  0.875     ,  0.82608696,  0.        ,  0.71428571,\n",
      "        0.76923077,  0.        ,  0.57142857,  1.        ,  1.        ,\n",
      "        0.        ,  0.5       ,  1.        ,  0.71428571,  0.87431694,\n",
      "        0.65      ,  0.77192982,  0.70833333,  0.92307692,  0.95522388,\n",
      "        0.99425287,  0.8       ,  0.78481013,  0.        ,  0.97142857,\n",
      "        1.        ,  0.66666667,  1.        ,  1.        ,  0.        ,\n",
      "        0.82366589,  0.6875    ,  0.8217636 ,  0.89583333,  0.        ,\n",
      "        0.66666667,  1.        ,  1.        ,  1.        ,  0.91071429,\n",
      "        0.92857143,  0.79824561,  0.92156863,  0.66666667,  0.66666667,\n",
      "        1.        ,  0.83333333,  0.95190381,  1.        ,  0.        ,\n",
      "        1.        ,  0.875     ,  0.96566524,  0.640625  ,  0.93333333,\n",
      "        1.        ,  0.85714286,  0.90425532,  0.87012987,  0.90990991,\n",
      "        0.82608696,  0.84615385,  0.88888889,  0.96323529,  0.89156627,\n",
      "        0.88311688,  0.75      ,  0.        ,  0.57142857,  0.        ,\n",
      "        0.7983871 ,  0.85      ,  0.90425532,  0.6       ,  1.        ,\n",
      "        0.        ,  0.76923077,  1.        ,  0.94444444,  1.        ,\n",
      "        0.70588235,  0.95061728,  0.8       ,  0.81481481,  0.83677298,\n",
      "        0.93333333,  1.        ,  0.73873874,  0.8       ,  0.60869565,\n",
      "        0.8       ,  0.        ,  0.65585774,  0.33333333,  0.625     ,\n",
      "        0.        ,  1.        ,  0.91176471,  0.90697674,  0.        ,\n",
      "        1.        ,  0.89333333,  0.87288136,  0.73170732,  0.8125    ,\n",
      "        0.88709677,  0.8       ,  1.        ,  1.        ,  1.        ,\n",
      "        1.        ,  0.83333333,  0.95431472]), array([ 0.        ,  1.        ,  0.87804878,  1.        ,  1.        ,\n",
      "        0.37735849,  0.875     ,  0.65425532,  1.        ,  0.95833333,\n",
      "        0.        ,  0.98481308,  1.        ,  1.        ,  0.69387755,\n",
      "        0.        ,  1.        ,  1.        ,  0.        ,  0.72483221,\n",
      "        0.79351536,  0.63829787,  0.91150442,  1.        ,  1.        ,\n",
      "        1.        ,  1.        ,  1.        ,  1.        ,  1.        ,\n",
      "        1.        ,  0.93333333,  1.        ,  0.        ,  0.75757576,\n",
      "        0.7735426 ,  1.        ,  0.76      ,  0.62432432,  1.        ,\n",
      "        0.35227273,  1.        ,  0.54545455,  0.78571429,  1.        ,\n",
      "        0.99781897,  0.875     ,  1.        ,  0.        ,  0.94736842,\n",
      "        0.8245614 ,  1.        ,  1.        ,  1.        ,  1.        ,\n",
      "        1.        ,  1.        ,  0.        ,  0.80322581,  1.        ,\n",
      "        0.53846154,  1.        ,  1.        ,  1.        ,  0.60465116,\n",
      "        1.        ,  0.56696429,  0.69421488,  1.        ,  0.92957746,\n",
      "        1.        ,  1.        ,  1.        ,  1.        ,  0.54794521,\n",
      "        0.91304348,  0.81896552,  0.69372694,  0.        ,  0.82206406,\n",
      "        1.        ,  0.84615385,  1.        ,  0.76923077,  0.77742279,\n",
      "        1.        ,  1.        ,  0.65326633,  1.        ,  1.        ,\n",
      "        1.        ,  0.96296296,  1.        ,  0.75465839,  0.66118421,\n",
      "        0.7721519 ,  1.        ,  1.        ,  1.        ,  0.96      ,\n",
      "        0.7       ,  0.77777778,  0.8       ,  0.75675676,  0.        ,\n",
      "        1.        ,  1.        ,  0.95      ,  0.        ,  1.        ,\n",
      "        1.        ,  0.        ,  1.        ,  1.        ,  1.        ,\n",
      "        0.        ,  1.        ,  1.        ,  1.        ,  0.73732719,\n",
      "        0.83870968,  0.84615385,  0.89473684,  0.92307692,  0.8       ,\n",
      "        0.93010753,  1.        ,  0.52991453,  0.        ,  0.94444444,\n",
      "        1.        ,  1.        ,  1.        ,  1.        ,  0.        ,\n",
      "        0.78021978,  1.        ,  0.86220472,  0.81904762,  0.        ,\n",
      "        0.8       ,  1.        ,  1.        ,  1.        ,  0.69863014,\n",
      "        1.        ,  0.71653543,  0.68115942,  1.        ,  1.        ,\n",
      "        1.        ,  1.        ,  0.85740072,  1.        ,  0.        ,\n",
      "        1.        ,  0.95454545,  0.94142259,  0.46067416,  1.        ,\n",
      "        1.        ,  1.        ,  0.88082902,  0.68367347,  0.60479042,\n",
      "        0.92682927,  1.        ,  0.4137931 ,  0.82911392,  0.75254237,\n",
      "        0.79069767,  1.        ,  0.        ,  1.        ,  0.        ,\n",
      "        0.64705882,  1.        ,  0.63432836,  1.        ,  1.        ,\n",
      "        0.        ,  1.        ,  1.        ,  0.80952381,  1.        ,\n",
      "        0.88888889,  0.78571429,  1.        ,  0.91666667,  0.7729636 ,\n",
      "        1.        ,  1.        ,  0.70689655,  0.8       ,  1.        ,\n",
      "        1.        ,  0.        ,  0.7125    ,  1.        ,  0.78125   ,\n",
      "        0.        ,  1.        ,  0.93939394,  0.69642857,  0.        ,\n",
      "        1.        ,  0.96402878,  0.63580247,  0.81081081,  1.        ,\n",
      "        0.94827586,  0.78106509,  1.        ,  0.9047619 ,  1.        ,\n",
      "        1.        ,  1.        ,  0.95431472]), array([ 0.        ,  0.8       ,  0.91914894,  0.70588235,  1.        ,\n",
      "        0.47058824,  0.82352941,  0.75      ,  1.        ,  0.9787234 ,\n",
      "        0.        ,  0.99234844,  1.        ,  1.        ,  0.70103093,\n",
      "        0.        ,  0.81818182,  1.        ,  0.        ,  0.78545455,\n",
      "        0.82300885,  0.69364162,  0.85833333,  1.        ,  1.        ,\n",
      "        1.        ,  0.66666667,  1.        ,  1.        ,  1.        ,\n",
      "        0.82352941,  0.93333333,  0.94736842,  0.        ,  0.67567568,\n",
      "        0.81272085,  0.66666667,  0.7037037 ,  0.70750383,  0.90909091,\n",
      "        0.48062016,  1.        ,  0.6185567 ,  0.82420749,  1.        ,\n",
      "        0.9989083 ,  0.76712329,  0.85714286,  0.        ,  0.8372093 ,\n",
      "        0.7877095 ,  1.        ,  1.        ,  0.86666667,  1.        ,\n",
      "        1.        ,  1.        ,  0.        ,  0.87985866,  0.88      ,\n",
      "        0.65232975,  0.90909091,  0.83333333,  0.91666667,  0.72222222,\n",
      "        1.        ,  0.65974026,  0.72413793,  1.        ,  0.95652174,\n",
      "        0.75555556,  1.        ,  1.        ,  0.94736842,  0.6504065 ,\n",
      "        0.82352941,  0.87962963,  0.7704918 ,  0.        ,  0.86679174,\n",
      "        1.        ,  0.84615385,  0.82352941,  0.81784387,  0.84198385,\n",
      "        1.        ,  1.        ,  0.71823204,  1.        ,  1.        ,\n",
      "        0.90909091,  0.94545455,  1.        ,  0.81543624,  0.76280835,\n",
      "        0.7625    ,  1.        ,  0.92307692,  1.        ,  0.92307692,\n",
      "        0.67741935,  0.80924855,  0.87804878,  0.8       ,  0.        ,\n",
      "        0.94444444,  0.93333333,  0.88372093,  0.        ,  0.83333333,\n",
      "        0.86956522,  0.        ,  0.72727273,  1.        ,  1.        ,\n",
      "        0.        ,  0.66666667,  1.        ,  0.83333333,  0.8       ,\n",
      "        0.73239437,  0.80733945,  0.79069767,  0.92307692,  0.8707483 ,\n",
      "        0.96111111,  0.88888889,  0.63265306,  0.        ,  0.95774648,\n",
      "        1.        ,  0.8       ,  1.        ,  1.        ,  0.        ,\n",
      "        0.8013544 ,  0.81481481,  0.84149856,  0.85572139,  0.        ,\n",
      "        0.72727273,  1.        ,  1.        ,  1.        ,  0.79069767,\n",
      "        0.96296296,  0.75518672,  0.78333333,  0.8       ,  0.8       ,\n",
      "        1.        ,  0.90909091,  0.90218424,  1.        ,  0.        ,\n",
      "        1.        ,  0.91304348,  0.95338983,  0.53594771,  0.96551724,\n",
      "        1.        ,  0.92307692,  0.89238845,  0.76571429,  0.72661871,\n",
      "        0.87356322,  0.91666667,  0.56470588,  0.89115646,  0.81617647,\n",
      "        0.83435583,  0.85714286,  0.        ,  0.72727273,  0.        ,\n",
      "        0.71480144,  0.91891892,  0.74561404,  0.75      ,  1.        ,\n",
      "        0.        ,  0.86956522,  1.        ,  0.87179487,  1.        ,\n",
      "        0.78688525,  0.8603352 ,  0.88888889,  0.8627451 ,  0.8036036 ,\n",
      "        0.96551724,  1.        ,  0.72246696,  0.8       ,  0.75675676,\n",
      "        0.88888889,  0.        ,  0.68300654,  0.5       ,  0.69444444,\n",
      "        0.        ,  1.        ,  0.92537313,  0.78787879,  0.        ,\n",
      "        1.        ,  0.92733564,  0.73571429,  0.76923077,  0.89655172,\n",
      "        0.91666667,  0.79041916,  1.        ,  0.95      ,  1.        ,\n",
      "        1.        ,  0.90909091,  0.95431472]), array([   0,    8,  123,   12,   59,   53,    8,  188,    1,   24,    0,\n",
      "        856,    4,    3,   49,    0,   27,    1,    0,  149, 1172,  188,\n",
      "        226,    1,    4,    2,    3,    1,    5,   16,    7,   15,    9,\n",
      "          0,   33,  446,    3,   25,  370,   10,   88,    1,   55,  182,\n",
      "          2,  917,   32,    6,    0,   19,  171,    2,    3,   13,    1,\n",
      "          2,    1,    0,  310,   11,  169,   10,    5,   11,   43,    2,\n",
      "        224,  121,    2,   71,   17,    1,    4,    9,   73,   23,  116,\n",
      "        271,    0,  281,    1,   26,    7,  143,  939,    3,    1,  199,\n",
      "          1,    4,    5,   27,    2,  322,  304,   79,    3,    6,    4,\n",
      "         25,   30,   90,  360,   37,    0,   17,    7,   40,    0,    5,\n",
      "         10,    0,    8,   17,    5,    0,    1,    1,    5,  217,   31,\n",
      "         52,   19,   13,   80,  186,    4,  117,    0,  108,    1,    2,\n",
      "          2,    2,    0,  455,   11,  508,  105,    0,    5,    1,    1,\n",
      "          4,   73,   13,  127,   69,    8,    2,    2,    5,  554,    1,\n",
      "          0,    1,   22,  239,   89,   14,    2,    6,  193,   98,  167,\n",
      "         41,   11,   58,  158,  295,   86,    3,    0,    8,    0,  153,\n",
      "         17,  134,    3,    3,    0,   10,   10,   21,    9,   27,   98,\n",
      "          4,   24,  577,   14,    2,  116,    5,   14,    4,    0,  880,\n",
      "          1,   32,    0,    6,   33,   56,    0,    3,  139,  162,   37,\n",
      "         13,   58,  169,    2,   21,    7,    3,    5,  197]))\n"
     ]
    },
    {
     "name": "stderr",
     "output_type": "stream",
     "text": [
      "/home/ubuntu/anaconda3/envs/tensorflow_p36/lib/python3.6/site-packages/sklearn/metrics/classification.py:1135: UndefinedMetricWarning: Precision and F-score are ill-defined and being set to 0.0 in labels with no predicted samples.\n",
      "  'precision', 'predicted', average, warn_for)\n",
      "/home/ubuntu/anaconda3/envs/tensorflow_p36/lib/python3.6/site-packages/sklearn/metrics/classification.py:1137: UndefinedMetricWarning: Recall and F-score are ill-defined and being set to 0.0 in labels with no true samples.\n",
      "  'recall', 'true', average, warn_for)\n"
     ]
    }
   ],
   "source": [
    "print('weightedmacro: {}'.format(precision_recall_fscore_support(y_dev, y_pred_dev, average=None, sample_weight=None)))"
   ]
  },
  {
   "cell_type": "code",
   "execution_count": 38,
   "metadata": {},
   "outputs": [],
   "source": [
    "to_file(y_train,\"true_train\"+date_run)"
   ]
  },
  {
   "cell_type": "code",
   "execution_count": 39,
   "metadata": {},
   "outputs": [],
   "source": [
    "to_file(y_dev,\"true_dev\"+date_run)"
   ]
  },
  {
   "cell_type": "markdown",
   "metadata": {},
   "source": [
    "### predictions"
   ]
  },
  {
   "cell_type": "code",
   "execution_count": 40,
   "metadata": {},
   "outputs": [],
   "source": [
    "predict_filename = \"predict_arrays.npz\"\n",
    "predict = np.load(os.path.join(DATADIR, predict_filename))"
   ]
  },
  {
   "cell_type": "code",
   "execution_count": 41,
   "metadata": {},
   "outputs": [],
   "source": [
    "def get_predictions(arrays):  \n",
    "    \n",
    "    print('Set up arrays for new_content: {}'.format(arrays.files))\n",
    "    x_predict = arrays['x']\n",
    "    meta_predict = arrays['meta'].all().todense()\n",
    "    title_predict = arrays['title'].all().todense()\n",
    "    desc_predict = arrays['desc'].all().todense()\n",
    "    \n",
    "    print('x_arrays.shape = {}'.format(x_predict.shape))\n",
    "    print('meta_arrays.shape = {}'.format(meta_predict.shape))\n",
    "    print('title_arrays.shape = {}'.format(title_predict.shape))\n",
    "    print('desc_arrays.shape = {}'.format(desc_predict.shape))\n",
    "    \n",
    "    print('Predict on untagged content')\n",
    "    y_pred_new = model.predict([meta_predict, title_predict, desc_predict, x_predict])\n",
    "    \n",
    "    to_file(y_pred_new, \"new_predictions\"+date_run)"
   ]
  },
  {
   "cell_type": "code",
   "execution_count": 42,
   "metadata": {},
   "outputs": [
    {
     "data": {
      "text/plain": [
       "array(['1f8ce635-2103-4e70-9535-c0726db5d599',\n",
       "       'a40ea7e6-2540-4724-b637-f14e09debf79',\n",
       "       '81b22f15-8f7e-4aa1-8d61-aa66f5e82021',\n",
       "       '5d6687e7-7631-11e4-a3cb-005056011aef',\n",
       "       '5dc49794-7631-11e4-a3cb-005056011aef',\n",
       "       '78b3e7d9-1835-4606-8a82-ede4c2578aa9',\n",
       "       '5d8140f1-7631-11e4-a3cb-005056011aef',\n",
       "       '5ef93da2-7631-11e4-a3cb-005056011aef',\n",
       "       '5dc2e94e-7631-11e4-a3cb-005056011aef',\n",
       "       '5c8fadc6-7631-11e4-a3cb-005056011aef'], dtype=object)"
      ]
     },
     "execution_count": 42,
     "metadata": {},
     "output_type": "execute_result"
    }
   ],
   "source": [
    "id_predict = predict['content_id']\n",
    "id_predict[0:10]"
   ]
  },
  {
   "cell_type": "code",
   "execution_count": 43,
   "metadata": {},
   "outputs": [
    {
     "name": "stdout",
     "output_type": "stream",
     "text": [
      "Set up arrays for new_content: ['x', 'meta', 'title', 'desc', 'content_id']\n",
      "x_arrays.shape = (87726, 1000)\n",
      "meta_arrays.shape = (87726, 535)\n",
      "title_arrays.shape = (87726, 10000)\n",
      "desc_arrays.shape = (87726, 10000)\n",
      "Predict on untagged content\n"
     ]
    }
   ],
   "source": [
    "get_predictions(predict)"
   ]
  }
 ],
 "metadata": {
  "keep_output": true,
  "kernelspec": {
   "display_name": "Environment (conda_tensorflow_p36)",
   "language": "python",
   "name": "conda_tensorflow_p36"
  },
  "language_info": {
   "codemirror_mode": {
    "name": "ipython",
    "version": 3
   },
   "file_extension": ".py",
   "mimetype": "text/x-python",
   "name": "python",
   "nbconvert_exporter": "python",
   "pygments_lexer": "ipython3",
   "version": "3.6.3"
  }
 },
 "nbformat": 4,
 "nbformat_minor": 2
}
