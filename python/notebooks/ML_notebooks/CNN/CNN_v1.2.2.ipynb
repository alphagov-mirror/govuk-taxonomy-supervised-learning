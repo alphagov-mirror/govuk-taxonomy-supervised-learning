{
 "cells": [
  {
   "cell_type": "markdown",
   "metadata": {},
   "source": [
    "## Convolutional NN to classify govuk content to level2 taxons"
   ]
  },
  {
   "cell_type": "markdown",
   "metadata": {},
   "source": [
    "Based on:\n",
    "https://blog.keras.io/using-pre-trained-word-embeddings-in-a-keras-model.html"
   ]
  },
  {
   "cell_type": "markdown",
   "metadata": {},
   "source": [
    "## To do:\n",
    "- ~~Consider grouping very small classes (especially if too small for evaluation)~~\n",
    "- ~~Split data into training, validation and test to avoid overfitting validation data during hyperparamter searches & model architecture changes~~\n",
    "- ~~Try learning embeddings~~--\n",
    "- Try changing pos_ratio\n",
    "- Try implementing class_weights during model fit (does this do the same as the weighted binary corss entropy?)\n",
    "- Work on tensorboard callbacks\n",
    "- ~~Create dictionary of class indices to taxon names for viewing results~~\n",
    "- Check model architecture\n",
    "- consider relationship of training error to validation error - overfitting/bias?\n",
    "- train longer\n",
    "- Try differnet max_sequence_length\n",
    "- Check batch size is appropriate\n",
    "- Also think about:\n",
    "  - regularization (e.g. dropout) \n",
    "  - fine-tuning the Embedding layer"
   ]
  },
  {
   "cell_type": "markdown",
   "metadata": {},
   "source": [
    "### Load requirements and data"
   ]
  },
  {
   "cell_type": "markdown",
   "metadata": {},
   "source": [
    "TODO: edit requirement.txt to include only these packages and do not include tensorflow because this conflicts with tf on AWS when using on GPU."
   ]
  },
  {
   "cell_type": "code",
   "execution_count": 1,
   "metadata": {},
   "outputs": [
    {
     "name": "stderr",
     "output_type": "stream",
     "text": [
      "Using TensorFlow backend.\n",
      "/home/ubuntu/anaconda3/envs/tensorflow_p36/lib/python3.6/importlib/_bootstrap.py:219: RuntimeWarning: compiletime version 3.5 of module 'tensorflow.python.framework.fast_tensor_util' does not match runtime version 3.6\n",
      "  return f(*args, **kwds)\n",
      "/home/ubuntu/anaconda3/envs/tensorflow_p36/lib/python3.6/site-packages/matplotlib/font_manager.py:279: UserWarning: Matplotlib is building the font cache using fc-list. This may take a moment.\n",
      "  'Matplotlib is building the font cache using fc-list. '\n"
     ]
    }
   ],
   "source": [
    "import pandas as pd\n",
    "import numpy as np\n",
    "import os\n",
    "from datetime import datetime\n",
    "from keras.preprocessing.text import Tokenizer\n",
    "from keras.preprocessing.sequence import pad_sequences\n",
    "\n",
    "from keras.utils import to_categorical, layer_utils, plot_model\n",
    "\n",
    "from keras.layers import (Embedding, Input, Dense, Dropout, \n",
    "                          Activation, Conv1D, MaxPooling1D, Flatten, concatenate, Reshape)\n",
    "from keras.models import Model, Sequential\n",
    "from keras.optimizers import rmsprop\n",
    "from keras.callbacks import TensorBoard, Callback, ModelCheckpoint\n",
    "import keras.backend as K\n",
    "from keras.losses import binary_crossentropy\n",
    "\n",
    "from sklearn.preprocessing import LabelEncoder, MultiLabelBinarizer\n",
    "from sklearn.metrics import confusion_matrix, f1_score, precision_score, recall_score \n",
    "from sklearn.metrics import precision_recall_fscore_support, classification_report\n",
    "from sklearn.utils import class_weight\n",
    "\n",
    "import tensorflow as tf\n",
    "\n",
    "import matplotlib.pyplot as plt\n",
    "%matplotlib inline\n",
    "\n",
    "import functools\n",
    "\n",
    "import h5py\n"
   ]
  },
  {
   "cell_type": "markdown",
   "metadata": {},
   "source": [
    "### Environmental vars"
   ]
  },
  {
   "cell_type": "code",
   "execution_count": 5,
   "metadata": {},
   "outputs": [
    {
     "name": "stdout",
     "output_type": "stream",
     "text": [
      "/home/ubuntu/govuk-taxonomy-supervised-learning-1/data\n"
     ]
    }
   ],
   "source": [
    "# DATADIR=os.getenv('DATADIR')\n",
    "DATADIR='/home/ubuntu/govuk-taxonomy-supervised-learning-1/data' #this was put in for AWS run but doesn't work locally...\n",
    "print(DATADIR)"
   ]
  },
  {
   "cell_type": "markdown",
   "metadata": {},
   "source": [
    "## Hyperparameters"
   ]
  },
  {
   "cell_type": "markdown",
   "metadata": {},
   "source": [
    "Intuition for POS_RATIO is that it penalises the prediction of zero for everything, which is attractive to the model because the multilabel y matrix is super sparse. \n",
    "\n",
    "Increasing POS_RATIO should penalise predicting zeros more."
   ]
  },
  {
   "cell_type": "code",
   "execution_count": 6,
   "metadata": {},
   "outputs": [],
   "source": [
    "#MAX_NB_WORDS\n",
    "MAX_SEQUENCE_LENGTH =1000\n",
    "EMBEDDING_DIM = 100 # keras embedding layer output_dim = Dimension of the dense embedding\n",
    "P_THRESHOLD = 0.5 #Threshold for probability of being assigned to class\n",
    "POS_RATIO = 0.5 #ratio of positive to negative for each class in weighted binary cross entropy loss function\n",
    "NUM_WORDS=20000 #keras tokenizer num_words: None or int. Maximum number of words to work with \n",
    "#(if set, tokenization will be restricted to the top num_words most common words in the dataset)."
   ]
  },
  {
   "cell_type": "markdown",
   "metadata": {},
   "source": [
    "### Read in data\n",
    "Content items tagged to level 2 taxons or lower in the topic taxonomy"
   ]
  },
  {
   "cell_type": "code",
   "execution_count": 7,
   "metadata": {},
   "outputs": [],
   "source": [
    "labelled_level2 = pd.read_csv(os.path.join(DATADIR, 'labelled_level2.csv.gz'), dtype=object, compression='gzip')"
   ]
  },
  {
   "cell_type": "code",
   "execution_count": 8,
   "metadata": {},
   "outputs": [
    {
     "data": {
      "text/html": [
       "<div>\n",
       "<style scoped>\n",
       "    .dataframe tbody tr th:only-of-type {\n",
       "        vertical-align: middle;\n",
       "    }\n",
       "\n",
       "    .dataframe tbody tr th {\n",
       "        vertical-align: top;\n",
       "    }\n",
       "\n",
       "    .dataframe thead th {\n",
       "        text-align: right;\n",
       "    }\n",
       "</style>\n",
       "<table border=\"1\" class=\"dataframe\">\n",
       "  <thead>\n",
       "    <tr style=\"text-align: right;\">\n",
       "      <th></th>\n",
       "      <th>base_path</th>\n",
       "      <th>content_id</th>\n",
       "      <th>description</th>\n",
       "      <th>details</th>\n",
       "      <th>document_type</th>\n",
       "      <th>first_published_at</th>\n",
       "      <th>locale</th>\n",
       "      <th>primary_publishing_organisation</th>\n",
       "      <th>publishing_app</th>\n",
       "      <th>title</th>\n",
       "      <th>...</th>\n",
       "      <th>body</th>\n",
       "      <th>combined_text</th>\n",
       "      <th>taxon_id</th>\n",
       "      <th>taxon_base_path</th>\n",
       "      <th>taxon_name</th>\n",
       "      <th>level1taxon</th>\n",
       "      <th>level2taxon</th>\n",
       "      <th>level3taxon</th>\n",
       "      <th>level4taxon</th>\n",
       "      <th>level5taxon</th>\n",
       "    </tr>\n",
       "  </thead>\n",
       "  <tbody>\n",
       "    <tr>\n",
       "      <th>57690</th>\n",
       "      <td>/government/collections/emma-jones-small-busin...</td>\n",
       "      <td>00029fa4-9b60-4285-898c-85ae8a6367f5</td>\n",
       "      <td>as small business crown representative emma is...</td>\n",
       "      <td>{'political': False, 'emphasised_organisations...</td>\n",
       "      <td>document_collection</td>\n",
       "      <td>2017-01-11T10:18:00.000+00:00</td>\n",
       "      <td>en</td>\n",
       "      <td>{'title': 'Crown Commercial Service'}</td>\n",
       "      <td>whitehall</td>\n",
       "      <td>emma jones - small business crown representative</td>\n",
       "      <td>...</td>\n",
       "      <td>emma was appointed as small business crown rep...</td>\n",
       "      <td>emma jones - small business crown representati...</td>\n",
       "      <td>f3caf326-fe33-410f-b7f4-553f4011c81e</td>\n",
       "      <td>/government/government-spending</td>\n",
       "      <td>Government spending</td>\n",
       "      <td>Government</td>\n",
       "      <td>Government spending</td>\n",
       "      <td>NaN</td>\n",
       "      <td>NaN</td>\n",
       "      <td>NaN</td>\n",
       "    </tr>\n",
       "    <tr>\n",
       "      <th>30438</th>\n",
       "      <td>/government/publications/land-remediation-brin...</td>\n",
       "      <td>00037b70-5b08-44c2-bf0a-fa8eb636a60b</td>\n",
       "      <td>brochure showing uk expertise in land remediat...</td>\n",
       "      <td>{'political': False, 'emphasised_organisations...</td>\n",
       "      <td>promotional</td>\n",
       "      <td>2015-05-11T10:41:00.000+00:00</td>\n",
       "      <td>en</td>\n",
       "      <td>{'title': 'Department for International Trade'}</td>\n",
       "      <td>whitehall</td>\n",
       "      <td>land remediation: bringing brownfield sites ba...</td>\n",
       "      <td>...</td>\n",
       "      <td>the uk was the first industrialised country in...</td>\n",
       "      <td>land remediation: bringing brownfield sites ba...</td>\n",
       "      <td>21eee04d-e702-4e7b-9fde-2f6777f1be2c</td>\n",
       "      <td>/business/business-and-enterprise</td>\n",
       "      <td>Business and enterprise</td>\n",
       "      <td>Business</td>\n",
       "      <td>Business and enterprise</td>\n",
       "      <td>NaN</td>\n",
       "      <td>NaN</td>\n",
       "      <td>NaN</td>\n",
       "    </tr>\n",
       "    <tr>\n",
       "      <th>125773</th>\n",
       "      <td>/government/publications/land-remediation-brin...</td>\n",
       "      <td>00037b70-5b08-44c2-bf0a-fa8eb636a60b</td>\n",
       "      <td>brochure showing uk expertise in land remediat...</td>\n",
       "      <td>{'political': False, 'emphasised_organisations...</td>\n",
       "      <td>promotional</td>\n",
       "      <td>2015-05-11T10:41:00.000+00:00</td>\n",
       "      <td>en</td>\n",
       "      <td>{'title': 'Department for International Trade'}</td>\n",
       "      <td>whitehall</td>\n",
       "      <td>land remediation: bringing brownfield sites ba...</td>\n",
       "      <td>...</td>\n",
       "      <td>the uk was the first industrialised country in...</td>\n",
       "      <td>land remediation: bringing brownfield sites ba...</td>\n",
       "      <td>ed2ca1f7-5463-4eda-9324-b597e269e242</td>\n",
       "      <td>/business/trade-and-investment</td>\n",
       "      <td>Trade and investment</td>\n",
       "      <td>Business</td>\n",
       "      <td>Trade and investment</td>\n",
       "      <td>NaN</td>\n",
       "      <td>NaN</td>\n",
       "      <td>NaN</td>\n",
       "    </tr>\n",
       "    <tr>\n",
       "      <th>17256</th>\n",
       "      <td>/government/publications/land-remediation-brin...</td>\n",
       "      <td>00037b70-5b08-44c2-bf0a-fa8eb636a60b</td>\n",
       "      <td>brochure showing uk expertise in land remediat...</td>\n",
       "      <td>{'political': False, 'emphasised_organisations...</td>\n",
       "      <td>promotional</td>\n",
       "      <td>2015-05-11T10:41:00.000+00:00</td>\n",
       "      <td>en</td>\n",
       "      <td>{'title': 'Department for International Trade'}</td>\n",
       "      <td>whitehall</td>\n",
       "      <td>land remediation: bringing brownfield sites ba...</td>\n",
       "      <td>...</td>\n",
       "      <td>the uk was the first industrialised country in...</td>\n",
       "      <td>land remediation: bringing brownfield sites ba...</td>\n",
       "      <td>a1e4659c-dc15-48be-bc4f-6c609ae061dc</td>\n",
       "      <td>/business/uk-economy</td>\n",
       "      <td>UK economy</td>\n",
       "      <td>Business</td>\n",
       "      <td>UK economy</td>\n",
       "      <td>NaN</td>\n",
       "      <td>NaN</td>\n",
       "      <td>NaN</td>\n",
       "    </tr>\n",
       "    <tr>\n",
       "      <th>136046</th>\n",
       "      <td>/government/statistics/steps-2-successni-stati...</td>\n",
       "      <td>00037ee5-7b5e-452d-a233-af2c134f5bce</td>\n",
       "      <td>details on the number of referrals and starts ...</td>\n",
       "      <td>{'political': False, 'emphasised_organisations...</td>\n",
       "      <td>official_statistics</td>\n",
       "      <td>2016-11-24T09:30:13.000+00:00</td>\n",
       "      <td>en</td>\n",
       "      <td>{'title': 'Department for Communities (Norther...</td>\n",
       "      <td>whitehall</td>\n",
       "      <td>steps 2 success:ni statistics from october 201...</td>\n",
       "      <td>...</td>\n",
       "      <td>statistics presented include details on the nu...</td>\n",
       "      <td>steps 2 success:ni statistics from october 201...</td>\n",
       "      <td>a1e624ed-e268-44ab-ac3f-4d3cb2bb8cb5</td>\n",
       "      <td>/regional-and-local-government/northern-ireland</td>\n",
       "      <td>Northern Ireland</td>\n",
       "      <td>Regional and local government</td>\n",
       "      <td>Northern Ireland</td>\n",
       "      <td>NaN</td>\n",
       "      <td>NaN</td>\n",
       "      <td>NaN</td>\n",
       "    </tr>\n",
       "  </tbody>\n",
       "</table>\n",
       "<p>5 rows × 21 columns</p>\n",
       "</div>"
      ],
      "text/plain": [
       "                                                base_path  \\\n",
       "57690   /government/collections/emma-jones-small-busin...   \n",
       "30438   /government/publications/land-remediation-brin...   \n",
       "125773  /government/publications/land-remediation-brin...   \n",
       "17256   /government/publications/land-remediation-brin...   \n",
       "136046  /government/statistics/steps-2-successni-stati...   \n",
       "\n",
       "                                  content_id  \\\n",
       "57690   00029fa4-9b60-4285-898c-85ae8a6367f5   \n",
       "30438   00037b70-5b08-44c2-bf0a-fa8eb636a60b   \n",
       "125773  00037b70-5b08-44c2-bf0a-fa8eb636a60b   \n",
       "17256   00037b70-5b08-44c2-bf0a-fa8eb636a60b   \n",
       "136046  00037ee5-7b5e-452d-a233-af2c134f5bce   \n",
       "\n",
       "                                              description  \\\n",
       "57690   as small business crown representative emma is...   \n",
       "30438   brochure showing uk expertise in land remediat...   \n",
       "125773  brochure showing uk expertise in land remediat...   \n",
       "17256   brochure showing uk expertise in land remediat...   \n",
       "136046  details on the number of referrals and starts ...   \n",
       "\n",
       "                                                  details  \\\n",
       "57690   {'political': False, 'emphasised_organisations...   \n",
       "30438   {'political': False, 'emphasised_organisations...   \n",
       "125773  {'political': False, 'emphasised_organisations...   \n",
       "17256   {'political': False, 'emphasised_organisations...   \n",
       "136046  {'political': False, 'emphasised_organisations...   \n",
       "\n",
       "              document_type             first_published_at locale  \\\n",
       "57690   document_collection  2017-01-11T10:18:00.000+00:00     en   \n",
       "30438           promotional  2015-05-11T10:41:00.000+00:00     en   \n",
       "125773          promotional  2015-05-11T10:41:00.000+00:00     en   \n",
       "17256           promotional  2015-05-11T10:41:00.000+00:00     en   \n",
       "136046  official_statistics  2016-11-24T09:30:13.000+00:00     en   \n",
       "\n",
       "                          primary_publishing_organisation publishing_app  \\\n",
       "57690               {'title': 'Crown Commercial Service'}      whitehall   \n",
       "30438     {'title': 'Department for International Trade'}      whitehall   \n",
       "125773    {'title': 'Department for International Trade'}      whitehall   \n",
       "17256     {'title': 'Department for International Trade'}      whitehall   \n",
       "136046  {'title': 'Department for Communities (Norther...      whitehall   \n",
       "\n",
       "                                                    title     ...      \\\n",
       "57690    emma jones - small business crown representative     ...       \n",
       "30438   land remediation: bringing brownfield sites ba...     ...       \n",
       "125773  land remediation: bringing brownfield sites ba...     ...       \n",
       "17256   land remediation: bringing brownfield sites ba...     ...       \n",
       "136046  steps 2 success:ni statistics from october 201...     ...       \n",
       "\n",
       "                                                     body  \\\n",
       "57690   emma was appointed as small business crown rep...   \n",
       "30438   the uk was the first industrialised country in...   \n",
       "125773  the uk was the first industrialised country in...   \n",
       "17256   the uk was the first industrialised country in...   \n",
       "136046  statistics presented include details on the nu...   \n",
       "\n",
       "                                            combined_text  \\\n",
       "57690   emma jones - small business crown representati...   \n",
       "30438   land remediation: bringing brownfield sites ba...   \n",
       "125773  land remediation: bringing brownfield sites ba...   \n",
       "17256   land remediation: bringing brownfield sites ba...   \n",
       "136046  steps 2 success:ni statistics from october 201...   \n",
       "\n",
       "                                    taxon_id  \\\n",
       "57690   f3caf326-fe33-410f-b7f4-553f4011c81e   \n",
       "30438   21eee04d-e702-4e7b-9fde-2f6777f1be2c   \n",
       "125773  ed2ca1f7-5463-4eda-9324-b597e269e242   \n",
       "17256   a1e4659c-dc15-48be-bc4f-6c609ae061dc   \n",
       "136046  a1e624ed-e268-44ab-ac3f-4d3cb2bb8cb5   \n",
       "\n",
       "                                        taxon_base_path  \\\n",
       "57690                   /government/government-spending   \n",
       "30438                 /business/business-and-enterprise   \n",
       "125773                   /business/trade-and-investment   \n",
       "17256                              /business/uk-economy   \n",
       "136046  /regional-and-local-government/northern-ireland   \n",
       "\n",
       "                     taxon_name                    level1taxon  \\\n",
       "57690       Government spending                     Government   \n",
       "30438   Business and enterprise                       Business   \n",
       "125773     Trade and investment                       Business   \n",
       "17256                UK economy                       Business   \n",
       "136046         Northern Ireland  Regional and local government   \n",
       "\n",
       "                    level2taxon level3taxon level4taxon level5taxon  \n",
       "57690       Government spending         NaN         NaN         NaN  \n",
       "30438   Business and enterprise         NaN         NaN         NaN  \n",
       "125773     Trade and investment         NaN         NaN         NaN  \n",
       "17256                UK economy         NaN         NaN         NaN  \n",
       "136046         Northern Ireland         NaN         NaN         NaN  \n",
       "\n",
       "[5 rows x 21 columns]"
      ]
     },
     "execution_count": 8,
     "metadata": {},
     "output_type": "execute_result"
    }
   ],
   "source": [
    "labelled_level2.sort_values('content_id').head()"
   ]
  },
  {
   "cell_type": "markdown",
   "metadata": {},
   "source": [
    "### Create dictionary mapping taxon codes to string labels"
   ]
  },
  {
   "cell_type": "code",
   "execution_count": 9,
   "metadata": {},
   "outputs": [
    {
     "data": {
      "text/plain": [
       "{1: 'Administrative justice reform',\n",
       " 2: 'Adoption, fostering and surrogacy',\n",
       " 3: 'Afghanistan',\n",
       " 4: 'Armed Forces Covenant',\n",
       " 5: 'Armed forces',\n",
       " 6: 'Armed forces and Ministry of Defence reform',\n",
       " 7: 'Armed forces support for activities in the UK',\n",
       " 8: 'Arts and culture',\n",
       " 9: 'Assessing environmental impact',\n",
       " 10: 'Asylum',\n",
       " 11: 'Attorney General guidance to the legal profession',\n",
       " 12: 'Aviation',\n",
       " 13: 'Benefits entitlement',\n",
       " 14: 'Benefits for families',\n",
       " 15: 'Biodiversity and ecosystems',\n",
       " 16: 'Boating and inland waterways',\n",
       " 17: 'Brexit',\n",
       " 18: 'Brexit and the EU',\n",
       " 19: 'British citizenship ',\n",
       " 20: 'British nationals overseas',\n",
       " 21: 'Business and enterprise',\n",
       " 22: 'Business and the environment',\n",
       " 23: 'Business tax',\n",
       " 24: 'Byelaws',\n",
       " 25: 'Carers and disability benefits',\n",
       " 26: \"Carers' health\",\n",
       " 27: 'Certificates, register offices, changes of name or gender',\n",
       " 28: 'Charities, volunteering and honours',\n",
       " 29: 'Child Benefit',\n",
       " 30: 'Child maintenance reform',\n",
       " 31: 'Childcare and early years',\n",
       " 32: \"Children's health and welfare\",\n",
       " 33: 'Civil justice reform',\n",
       " 34: 'Civil service reform',\n",
       " 35: 'Climate change and energy',\n",
       " 36: 'Commercial fishing and fisheries',\n",
       " 37: 'Community and society',\n",
       " 38: 'Conflict in fragile states',\n",
       " 39: 'Constitutional affairs',\n",
       " 40: 'Consumer rights and issues',\n",
       " 41: 'Content and publishing',\n",
       " 42: 'Counter-terrorism',\n",
       " 43: 'Court claims, debt and bankruptcy',\n",
       " 44: 'Courts, sentencing and tribunals',\n",
       " 45: 'Crime prevention',\n",
       " 46: 'Criminal justice reform',\n",
       " 47: 'Criminal record disclosure',\n",
       " 48: 'Cyber security',\n",
       " 49: 'Dealing with HMRC',\n",
       " 50: 'Death and benefits',\n",
       " 51: 'Death and bereavement',\n",
       " 52: 'Deficit reduction',\n",
       " 53: 'Devolution',\n",
       " 54: 'Diplomats',\n",
       " 55: 'Disabled people',\n",
       " 56: 'Divorce, separation and legal issues',\n",
       " 57: 'Domestic violence',\n",
       " 58: 'Driving and road transport',\n",
       " 59: 'Education of disadvantaged children',\n",
       " 60: 'Emergency preparation, response and recovery',\n",
       " 61: 'Employing people',\n",
       " 62: 'End of life care',\n",
       " 63: 'Environmental permits',\n",
       " 64: 'Environmental quality',\n",
       " 65: 'Environmental risk management',\n",
       " 66: 'Equality, rights and citizenship',\n",
       " 67: 'European Union laws and regulation',\n",
       " 68: 'European funds',\n",
       " 69: 'European single market',\n",
       " 70: 'Expenses and employee benefits',\n",
       " 71: 'Family justice system',\n",
       " 72: 'Financial help if you have children',\n",
       " 73: 'Financial services',\n",
       " 74: 'Fire prevention and rescue',\n",
       " 75: 'Flooding and coastal change',\n",
       " 76: 'Food and farming',\n",
       " 77: 'Forced marriage',\n",
       " 78: 'Foreign affairs',\n",
       " 79: 'Freight and cargo',\n",
       " 80: 'Funding and finance for students',\n",
       " 81: 'Further and higher education, skills and vocational training',\n",
       " 82: 'Government efficiency, transparency and accountability',\n",
       " 83: 'Government graduate schemes',\n",
       " 84: 'Government spending',\n",
       " 85: 'HS2 and the environment',\n",
       " 86: 'Having a child, parenting and adoption',\n",
       " 87: 'Health and safety reform',\n",
       " 88: 'Health protection',\n",
       " 89: 'Heating and housing benefits',\n",
       " 90: 'Housing',\n",
       " 91: 'Housing planning and building',\n",
       " 92: 'Human rights internationally',\n",
       " 93: 'Immigration rules and enforcement',\n",
       " 94: 'Industrial strategy',\n",
       " 95: 'Inspections and performance of education providers',\n",
       " 96: 'International aid and development',\n",
       " 97: 'International defence commitments',\n",
       " 98: \"Jobseeker's Allowance and low income benefits\",\n",
       " 99: 'Justice system transparency',\n",
       " 100: 'Knife, gun and gang crime',\n",
       " 101: 'Labour market reform',\n",
       " 102: 'Land Registration Data ',\n",
       " 103: 'Land management',\n",
       " 104: 'Land registration',\n",
       " 105: 'Lasting power of attorney, being in care and your financial affairs',\n",
       " 106: 'Law and practice',\n",
       " 107: 'Legal aid',\n",
       " 108: 'Legal aid reform',\n",
       " 109: 'Legislative process',\n",
       " 110: 'Living abroad',\n",
       " 111: 'Living in the UK, government and democracy',\n",
       " 112: 'Local councils and services',\n",
       " 113: 'Local government',\n",
       " 114: 'Local government spending',\n",
       " 115: 'Local transport',\n",
       " 116: 'Localism',\n",
       " 117: 'Major project management',\n",
       " 118: 'Marine',\n",
       " 119: 'Maritime',\n",
       " 120: 'Marriage, civil partnership and divorce',\n",
       " 121: 'Media and communications',\n",
       " 122: 'Medical certification and advice',\n",
       " 123: 'Medicines, medical devices and blood regulation and safety',\n",
       " 124: 'Military awards and commemorations',\n",
       " 125: 'Military equipment, logistics and technology',\n",
       " 126: 'Military recruitment, training and operations',\n",
       " 127: 'Ministry of Defence estate',\n",
       " 128: 'Money laundering regulations',\n",
       " 129: 'National Health Service',\n",
       " 130: 'National events and ceremonies',\n",
       " 131: 'National security',\n",
       " 132: 'Northern Ireland',\n",
       " 133: 'Nuclear disarmament',\n",
       " 134: 'Oil and gas',\n",
       " 135: 'Passports',\n",
       " 136: 'Passports and travel documents for foreign nationals',\n",
       " 137: 'Payroll',\n",
       " 138: 'Peace and stability in the Middle East and North Africa',\n",
       " 139: 'Pensions and ageing society',\n",
       " 140: 'Permanent stay in the UK',\n",
       " 141: 'Personal tax',\n",
       " 142: 'Policing',\n",
       " 143: 'Population screening programmes',\n",
       " 144: 'Postal service reform',\n",
       " 145: 'Pregnancy and birth',\n",
       " 146: 'Prisons and probation',\n",
       " 147: 'Public health',\n",
       " 148: 'Public sector land use',\n",
       " 149: 'Public services',\n",
       " 150: 'Pupil wellbeing, behaviour and attendance',\n",
       " 151: 'Rail',\n",
       " 152: 'Regulation reform',\n",
       " 153: 'Reoffending and rehabilitation',\n",
       " 154: 'Reporting crimes and getting compensation',\n",
       " 155: 'Road infrastructure',\n",
       " 156: 'Running and managing a school',\n",
       " 157: 'Rural and countryside',\n",
       " 158: 'Safeguarding and social care for children',\n",
       " 159: 'School and academy financial management and assurance',\n",
       " 160: 'School and academy funding',\n",
       " 161: 'School curriculum',\n",
       " 162: 'Science and innovation',\n",
       " 163: 'Scotland',\n",
       " 164: 'Screening and quality assurance (all programmes)',\n",
       " 165: 'Secondments with government',\n",
       " 166: 'Self-employment',\n",
       " 167: 'Sentencing reform',\n",
       " 168: 'Social care',\n",
       " 169: 'Special educational needs and disability (SEND) and high needs',\n",
       " 170: 'Sports and leisure',\n",
       " 171: 'Starting and attending school',\n",
       " 172: 'Statutory rights',\n",
       " 173: 'Support services for military and defence personnel and their families',\n",
       " 174: 'Support services for veterans and their families',\n",
       " 175: 'Sustainable development',\n",
       " 176: 'Tax credits',\n",
       " 177: 'Tax evasion and avoidance',\n",
       " 178: 'Teaching and leadership',\n",
       " 179: 'The Commonwealth',\n",
       " 180: 'Tourism',\n",
       " 181: 'Trade and investment',\n",
       " 182: 'Transport accessibility and mobility',\n",
       " 183: 'Transport corporate and transparency',\n",
       " 184: 'Transport modelling and appraisal',\n",
       " 185: 'Transport planning',\n",
       " 186: 'Transport research and evaluation',\n",
       " 187: 'Transport security',\n",
       " 188: 'Transport statistics',\n",
       " 189: 'Travel abroad',\n",
       " 190: 'UK border control',\n",
       " 191: 'UK economy',\n",
       " 192: 'UK nuclear deterrent',\n",
       " 193: 'UK prosperity and security: Asia, Latin America and Africa',\n",
       " 194: 'Universal Credit',\n",
       " 195: 'Victims of crime',\n",
       " 196: 'Violence against women and girls',\n",
       " 197: 'Visas',\n",
       " 198: 'Voting',\n",
       " 199: 'Wales',\n",
       " 200: 'Waste and recycling',\n",
       " 201: 'Water industry',\n",
       " 202: 'Weapons proliferation',\n",
       " 203: 'What you can bring to the UK',\n",
       " 204: 'Wildlife and animal welfare',\n",
       " 205: 'Work and disabled people',\n",
       " 206: 'Working, jobs and pensions',\n",
       " 207: 'Young people and the law',\n",
       " 208: 'Your rights and the law',\n",
       " 209: 'Youth employment and social issues',\n",
       " 210: 'world_level1'}"
      ]
     },
     "execution_count": 9,
     "metadata": {},
     "output_type": "execute_result"
    }
   ],
   "source": [
    "#COLLAPSE World level2taxons\n",
    "labelled_level2.loc[labelled_level2['level1taxon'] == 'World', 'level2taxon'] = 'world_level1'\n",
    "\n",
    "#creating categorical variable for level2taxons from values\n",
    "labelled_level2['level2taxon'] = labelled_level2['level2taxon'].astype('category')\n",
    "\n",
    "#Get the category numeric values (codes) and avoid zero-indexing\n",
    "labels = labelled_level2['level2taxon'].cat.codes + 1\n",
    "\n",
    "#create dictionary of taxon category code to string label for use in model evaluation\n",
    "labels_index = dict(zip((labels), labelled_level2['level2taxon']))\n",
    "labels_index"
   ]
  },
  {
   "cell_type": "code",
   "execution_count": 10,
   "metadata": {},
   "outputs": [
    {
     "name": "stdout",
     "output_type": "stream",
     "text": [
      "210\n"
     ]
    }
   ],
   "source": [
    "print(len(labels_index))"
   ]
  },
  {
   "cell_type": "markdown",
   "metadata": {},
   "source": [
    "### Create target/Y "
   ]
  },
  {
   "cell_type": "markdown",
   "metadata": {},
   "source": [
    "Note: when using the categorical_crossentropy loss, your targets should be in categorical format (e.g. if you have 10 classes, the target for each sample should be a 10-dimensional vector that is all-zeros expect for a 1 at the index corresponding to the class of the sample)."
   ]
  },
  {
   "cell_type": "markdown",
   "metadata": {},
   "source": [
    "In multilabel learning, the joint set of binary classification tasks is expressed with label binary indicator array: each sample is one row of a 2d array of shape (n_samples, n_classes) with binary values:  \n",
    "the one, i.e. the non zero elements, corresponds to the subset of labels.  \n",
    "An array such as np.array([[1, 0, 0], [0, 1, 1], [0, 0, 0]]) represents label 0 in the first sample, labels 1 and 2 in the second sample, and no labels in the third sample.  \n",
    "Producing multilabel data as a list of sets of labels may be more intuitive."
   ]
  },
  {
   "cell_type": "markdown",
   "metadata": {},
   "source": [
    "####  First reshape wide to get columns for each level2taxon and row number = number unique urls"
   ]
  },
  {
   "cell_type": "code",
   "execution_count": 11,
   "metadata": {},
   "outputs": [
    {
     "name": "stdout",
     "output_type": "stream",
     "text": [
      "Number of unique level2taxons: 210\n"
     ]
    }
   ],
   "source": [
    "#get a smaller copy of data for pivoting ease (think you can work from full data actually and other cols get droopedauto)\n",
    "\n",
    "level2_reduced = labelled_level2[['content_id', 'level2taxon', 'combined_text']].copy(deep=True)\n",
    "\n",
    "#how many level2taxons are there?\n",
    "print('Number of unique level2taxons: {}'.format(level2_reduced.level2taxon.nunique()))\n",
    "\n",
    "#count the number of taxons per content item into new column\n",
    "level2_reduced['num_taxon_per_content'] = level2_reduced.groupby([\"content_id\"])['content_id'].transform(\"count\")\n",
    "\n",
    "#Add 1 because of zero-indexing to get 1-number of level2taxons as numerical targets\n",
    "level2_reduced['level2taxon_code'] = level2_reduced.level2taxon.astype('category').cat.codes + 1"
   ]
  },
  {
   "cell_type": "code",
   "execution_count": 12,
   "metadata": {},
   "outputs": [
    {
     "name": "stdout",
     "output_type": "stream",
     "text": [
      "Number of unique level2taxons: 210\n"
     ]
    }
   ],
   "source": [
    "#how many level2taxons are there?\n",
    "print('Number of unique level2taxons: {}'.format(labelled_level2.level2taxon.nunique()))\n",
    "\n",
    "#count the number of taxons per content item into new column\n",
    "labelled_level2['num_taxon_per_content'] = labelled_level2.groupby([\"content_id\"])['content_id'].transform(\"count\")\n",
    "\n",
    "#Add 1 because of zero-indexing to get 1-number of level2taxons as numerical targets\n",
    "labelled_level2['level2taxon_code'] = labelled_level2.level2taxon.astype('category').cat.codes + 1"
   ]
  },
  {
   "cell_type": "code",
   "execution_count": 13,
   "metadata": {},
   "outputs": [
    {
     "name": "stdout",
     "output_type": "stream",
     "text": [
      "level2reduced shape: (173560, 5)\n",
      "pivot table shape (no duplicates): (114048, 210) \n",
      "level2taxon_code                                                                         1    \\\n",
      "content_id                           combined_text                                             \n",
      "00029fa4-9b60-4285-898c-85ae8a6367f5 emma jones - small business crown representativ...  NaN   \n",
      "00037b70-5b08-44c2-bf0a-fa8eb636a60b land remediation: bringing brownfield sites bac...  NaN   \n",
      "00037ee5-7b5e-452d-a233-af2c134f5bce steps 2 success:ni statistics from october 2014...  NaN   \n",
      "0004c63d-ae16-432a-bb35-c0f949b1e27c student support applications for higher educati...  NaN   \n",
      "0005ac76-50fe-42f1-8168-8b6fc046e40f advice for building owners: large-scale wall sy...  NaN   \n",
      "\n",
      "level2taxon_code                                                                         2    \\\n",
      "content_id                           combined_text                                             \n",
      "00029fa4-9b60-4285-898c-85ae8a6367f5 emma jones - small business crown representativ...  NaN   \n",
      "00037b70-5b08-44c2-bf0a-fa8eb636a60b land remediation: bringing brownfield sites bac...  NaN   \n",
      "00037ee5-7b5e-452d-a233-af2c134f5bce steps 2 success:ni statistics from october 2014...  NaN   \n",
      "0004c63d-ae16-432a-bb35-c0f949b1e27c student support applications for higher educati...  NaN   \n",
      "0005ac76-50fe-42f1-8168-8b6fc046e40f advice for building owners: large-scale wall sy...  NaN   \n",
      "\n",
      "level2taxon_code                                                                         3    \\\n",
      "content_id                           combined_text                                             \n",
      "00029fa4-9b60-4285-898c-85ae8a6367f5 emma jones - small business crown representativ...  NaN   \n",
      "00037b70-5b08-44c2-bf0a-fa8eb636a60b land remediation: bringing brownfield sites bac...  NaN   \n",
      "00037ee5-7b5e-452d-a233-af2c134f5bce steps 2 success:ni statistics from october 2014...  NaN   \n",
      "0004c63d-ae16-432a-bb35-c0f949b1e27c student support applications for higher educati...  NaN   \n",
      "0005ac76-50fe-42f1-8168-8b6fc046e40f advice for building owners: large-scale wall sy...  NaN   \n",
      "\n",
      "level2taxon_code                                                                         4    \\\n",
      "content_id                           combined_text                                             \n",
      "00029fa4-9b60-4285-898c-85ae8a6367f5 emma jones - small business crown representativ...  NaN   \n",
      "00037b70-5b08-44c2-bf0a-fa8eb636a60b land remediation: bringing brownfield sites bac...  NaN   \n",
      "00037ee5-7b5e-452d-a233-af2c134f5bce steps 2 success:ni statistics from october 2014...  NaN   \n",
      "0004c63d-ae16-432a-bb35-c0f949b1e27c student support applications for higher educati...  NaN   \n",
      "0005ac76-50fe-42f1-8168-8b6fc046e40f advice for building owners: large-scale wall sy...  NaN   \n",
      "\n",
      "level2taxon_code                                                                         5    \\\n",
      "content_id                           combined_text                                             \n",
      "00029fa4-9b60-4285-898c-85ae8a6367f5 emma jones - small business crown representativ...  NaN   \n",
      "00037b70-5b08-44c2-bf0a-fa8eb636a60b land remediation: bringing brownfield sites bac...  NaN   \n",
      "00037ee5-7b5e-452d-a233-af2c134f5bce steps 2 success:ni statistics from october 2014...  NaN   \n",
      "0004c63d-ae16-432a-bb35-c0f949b1e27c student support applications for higher educati...  NaN   \n",
      "0005ac76-50fe-42f1-8168-8b6fc046e40f advice for building owners: large-scale wall sy...  NaN   \n",
      "\n",
      "level2taxon_code                                                                         6    \\\n",
      "content_id                           combined_text                                             \n",
      "00029fa4-9b60-4285-898c-85ae8a6367f5 emma jones - small business crown representativ...  NaN   \n",
      "00037b70-5b08-44c2-bf0a-fa8eb636a60b land remediation: bringing brownfield sites bac...  NaN   \n",
      "00037ee5-7b5e-452d-a233-af2c134f5bce steps 2 success:ni statistics from october 2014...  NaN   \n",
      "0004c63d-ae16-432a-bb35-c0f949b1e27c student support applications for higher educati...  NaN   \n",
      "0005ac76-50fe-42f1-8168-8b6fc046e40f advice for building owners: large-scale wall sy...  NaN   \n",
      "\n",
      "level2taxon_code                                                                         7    \\\n",
      "content_id                           combined_text                                             \n",
      "00029fa4-9b60-4285-898c-85ae8a6367f5 emma jones - small business crown representativ...  NaN   \n",
      "00037b70-5b08-44c2-bf0a-fa8eb636a60b land remediation: bringing brownfield sites bac...  NaN   \n",
      "00037ee5-7b5e-452d-a233-af2c134f5bce steps 2 success:ni statistics from october 2014...  NaN   \n",
      "0004c63d-ae16-432a-bb35-c0f949b1e27c student support applications for higher educati...  NaN   \n",
      "0005ac76-50fe-42f1-8168-8b6fc046e40f advice for building owners: large-scale wall sy...  NaN   \n",
      "\n",
      "level2taxon_code                                                                         8    \\\n",
      "content_id                           combined_text                                             \n",
      "00029fa4-9b60-4285-898c-85ae8a6367f5 emma jones - small business crown representativ...  NaN   \n",
      "00037b70-5b08-44c2-bf0a-fa8eb636a60b land remediation: bringing brownfield sites bac...  NaN   \n",
      "00037ee5-7b5e-452d-a233-af2c134f5bce steps 2 success:ni statistics from october 2014...  NaN   \n",
      "0004c63d-ae16-432a-bb35-c0f949b1e27c student support applications for higher educati...  NaN   \n",
      "0005ac76-50fe-42f1-8168-8b6fc046e40f advice for building owners: large-scale wall sy...  NaN   \n",
      "\n",
      "level2taxon_code                                                                         9    \\\n",
      "content_id                           combined_text                                             \n",
      "00029fa4-9b60-4285-898c-85ae8a6367f5 emma jones - small business crown representativ...  NaN   \n",
      "00037b70-5b08-44c2-bf0a-fa8eb636a60b land remediation: bringing brownfield sites bac...  NaN   \n",
      "00037ee5-7b5e-452d-a233-af2c134f5bce steps 2 success:ni statistics from october 2014...  NaN   \n",
      "0004c63d-ae16-432a-bb35-c0f949b1e27c student support applications for higher educati...  NaN   \n",
      "0005ac76-50fe-42f1-8168-8b6fc046e40f advice for building owners: large-scale wall sy...  NaN   \n",
      "\n",
      "level2taxon_code                                                                         10   \\\n",
      "content_id                           combined_text                                             \n",
      "00029fa4-9b60-4285-898c-85ae8a6367f5 emma jones - small business crown representativ...  NaN   \n",
      "00037b70-5b08-44c2-bf0a-fa8eb636a60b land remediation: bringing brownfield sites bac...  NaN   \n",
      "00037ee5-7b5e-452d-a233-af2c134f5bce steps 2 success:ni statistics from october 2014...  NaN   \n",
      "0004c63d-ae16-432a-bb35-c0f949b1e27c student support applications for higher educati...  NaN   \n",
      "0005ac76-50fe-42f1-8168-8b6fc046e40f advice for building owners: large-scale wall sy...  NaN   \n",
      "\n",
      "level2taxon_code                                                                        ...   \\\n",
      "content_id                           combined_text                                      ...    \n",
      "00029fa4-9b60-4285-898c-85ae8a6367f5 emma jones - small business crown representativ... ...    \n",
      "00037b70-5b08-44c2-bf0a-fa8eb636a60b land remediation: bringing brownfield sites bac... ...    \n",
      "00037ee5-7b5e-452d-a233-af2c134f5bce steps 2 success:ni statistics from october 2014... ...    \n",
      "0004c63d-ae16-432a-bb35-c0f949b1e27c student support applications for higher educati... ...    \n",
      "0005ac76-50fe-42f1-8168-8b6fc046e40f advice for building owners: large-scale wall sy... ...    \n",
      "\n",
      "level2taxon_code                                                                         201  \\\n",
      "content_id                           combined_text                                             \n",
      "00029fa4-9b60-4285-898c-85ae8a6367f5 emma jones - small business crown representativ...  NaN   \n",
      "00037b70-5b08-44c2-bf0a-fa8eb636a60b land remediation: bringing brownfield sites bac...  NaN   \n",
      "00037ee5-7b5e-452d-a233-af2c134f5bce steps 2 success:ni statistics from october 2014...  NaN   \n",
      "0004c63d-ae16-432a-bb35-c0f949b1e27c student support applications for higher educati...  NaN   \n",
      "0005ac76-50fe-42f1-8168-8b6fc046e40f advice for building owners: large-scale wall sy...  NaN   \n",
      "\n",
      "level2taxon_code                                                                         202  \\\n",
      "content_id                           combined_text                                             \n",
      "00029fa4-9b60-4285-898c-85ae8a6367f5 emma jones - small business crown representativ...  NaN   \n",
      "00037b70-5b08-44c2-bf0a-fa8eb636a60b land remediation: bringing brownfield sites bac...  NaN   \n",
      "00037ee5-7b5e-452d-a233-af2c134f5bce steps 2 success:ni statistics from october 2014...  NaN   \n",
      "0004c63d-ae16-432a-bb35-c0f949b1e27c student support applications for higher educati...  NaN   \n",
      "0005ac76-50fe-42f1-8168-8b6fc046e40f advice for building owners: large-scale wall sy...  NaN   \n",
      "\n",
      "level2taxon_code                                                                         203  \\\n",
      "content_id                           combined_text                                             \n",
      "00029fa4-9b60-4285-898c-85ae8a6367f5 emma jones - small business crown representativ...  NaN   \n",
      "00037b70-5b08-44c2-bf0a-fa8eb636a60b land remediation: bringing brownfield sites bac...  NaN   \n",
      "00037ee5-7b5e-452d-a233-af2c134f5bce steps 2 success:ni statistics from october 2014...  NaN   \n",
      "0004c63d-ae16-432a-bb35-c0f949b1e27c student support applications for higher educati...  NaN   \n",
      "0005ac76-50fe-42f1-8168-8b6fc046e40f advice for building owners: large-scale wall sy...  NaN   \n",
      "\n",
      "level2taxon_code                                                                         204  \\\n",
      "content_id                           combined_text                                             \n",
      "00029fa4-9b60-4285-898c-85ae8a6367f5 emma jones - small business crown representativ...  NaN   \n",
      "00037b70-5b08-44c2-bf0a-fa8eb636a60b land remediation: bringing brownfield sites bac...  NaN   \n",
      "00037ee5-7b5e-452d-a233-af2c134f5bce steps 2 success:ni statistics from october 2014...  NaN   \n",
      "0004c63d-ae16-432a-bb35-c0f949b1e27c student support applications for higher educati...  NaN   \n",
      "0005ac76-50fe-42f1-8168-8b6fc046e40f advice for building owners: large-scale wall sy...  NaN   \n",
      "\n",
      "level2taxon_code                                                                         205  \\\n",
      "content_id                           combined_text                                             \n",
      "00029fa4-9b60-4285-898c-85ae8a6367f5 emma jones - small business crown representativ...  NaN   \n",
      "00037b70-5b08-44c2-bf0a-fa8eb636a60b land remediation: bringing brownfield sites bac...  NaN   \n",
      "00037ee5-7b5e-452d-a233-af2c134f5bce steps 2 success:ni statistics from october 2014...  NaN   \n",
      "0004c63d-ae16-432a-bb35-c0f949b1e27c student support applications for higher educati...  NaN   \n",
      "0005ac76-50fe-42f1-8168-8b6fc046e40f advice for building owners: large-scale wall sy...  NaN   \n",
      "\n",
      "level2taxon_code                                                                         206  \\\n",
      "content_id                           combined_text                                             \n",
      "00029fa4-9b60-4285-898c-85ae8a6367f5 emma jones - small business crown representativ...  NaN   \n",
      "00037b70-5b08-44c2-bf0a-fa8eb636a60b land remediation: bringing brownfield sites bac...  NaN   \n",
      "00037ee5-7b5e-452d-a233-af2c134f5bce steps 2 success:ni statistics from october 2014...  NaN   \n",
      "0004c63d-ae16-432a-bb35-c0f949b1e27c student support applications for higher educati...  NaN   \n",
      "0005ac76-50fe-42f1-8168-8b6fc046e40f advice for building owners: large-scale wall sy...  NaN   \n",
      "\n",
      "level2taxon_code                                                                         207  \\\n",
      "content_id                           combined_text                                             \n",
      "00029fa4-9b60-4285-898c-85ae8a6367f5 emma jones - small business crown representativ...  NaN   \n",
      "00037b70-5b08-44c2-bf0a-fa8eb636a60b land remediation: bringing brownfield sites bac...  NaN   \n",
      "00037ee5-7b5e-452d-a233-af2c134f5bce steps 2 success:ni statistics from october 2014...  NaN   \n",
      "0004c63d-ae16-432a-bb35-c0f949b1e27c student support applications for higher educati...  NaN   \n",
      "0005ac76-50fe-42f1-8168-8b6fc046e40f advice for building owners: large-scale wall sy...  NaN   \n",
      "\n",
      "level2taxon_code                                                                         208  \\\n",
      "content_id                           combined_text                                             \n",
      "00029fa4-9b60-4285-898c-85ae8a6367f5 emma jones - small business crown representativ...  NaN   \n",
      "00037b70-5b08-44c2-bf0a-fa8eb636a60b land remediation: bringing brownfield sites bac...  NaN   \n",
      "00037ee5-7b5e-452d-a233-af2c134f5bce steps 2 success:ni statistics from october 2014...  NaN   \n",
      "0004c63d-ae16-432a-bb35-c0f949b1e27c student support applications for higher educati...  NaN   \n",
      "0005ac76-50fe-42f1-8168-8b6fc046e40f advice for building owners: large-scale wall sy...  NaN   \n",
      "\n",
      "level2taxon_code                                                                         209  \\\n",
      "content_id                           combined_text                                             \n",
      "00029fa4-9b60-4285-898c-85ae8a6367f5 emma jones - small business crown representativ...  NaN   \n",
      "00037b70-5b08-44c2-bf0a-fa8eb636a60b land remediation: bringing brownfield sites bac...  NaN   \n",
      "00037ee5-7b5e-452d-a233-af2c134f5bce steps 2 success:ni statistics from october 2014...  NaN   \n",
      "0004c63d-ae16-432a-bb35-c0f949b1e27c student support applications for higher educati...  NaN   \n",
      "0005ac76-50fe-42f1-8168-8b6fc046e40f advice for building owners: large-scale wall sy...  NaN   \n",
      "\n",
      "level2taxon_code                                                                         210  \n",
      "content_id                           combined_text                                            \n",
      "00029fa4-9b60-4285-898c-85ae8a6367f5 emma jones - small business crown representativ...  NaN  \n",
      "00037b70-5b08-44c2-bf0a-fa8eb636a60b land remediation: bringing brownfield sites bac...  NaN  \n",
      "00037ee5-7b5e-452d-a233-af2c134f5bce steps 2 success:ni statistics from october 2014...  NaN  \n",
      "0004c63d-ae16-432a-bb35-c0f949b1e27c student support applications for higher educati...  NaN  \n",
      "0005ac76-50fe-42f1-8168-8b6fc046e40f advice for building owners: large-scale wall sy...  NaN  \n",
      "\n",
      "[5 rows x 210 columns]\n"
     ]
    }
   ],
   "source": [
    "#reshape to wide per taxon and keep the combined text so indexing is consistent when splitting X from Y\n",
    "\n",
    "multilabel = (level2_reduced.pivot_table(index=['content_id', 'combined_text' ], \n",
    "                  columns='level2taxon_code', \n",
    "                  values='num_taxon_per_content'))\n",
    "print('level2reduced shape: {}'.format(level2_reduced.shape))\n",
    "print('pivot table shape (no duplicates): {} '.format(multilabel.shape))\n",
    "print(multilabel.head())"
   ]
  },
  {
   "cell_type": "code",
   "execution_count": 14,
   "metadata": {},
   "outputs": [],
   "source": [
    "#THIS IS WHY INDEXING IS NOT ZERO-BASED\n",
    "#convert the number_of_taxons_per_content values to 1, meaning there was an entry for this taxon and this content_id, 0 otherwise\n",
    "binary_multilabel = multilabel.notnull().astype('int')"
   ]
  },
  {
   "cell_type": "code",
   "execution_count": 15,
   "metadata": {},
   "outputs": [
    {
     "name": "stdout",
     "output_type": "stream",
     "text": [
      "Shape of Y multilabel array before train/val/test split:(114048, 210)\n"
     ]
    }
   ],
   "source": [
    "#will convert columns to an array of shape\n",
    "print('Shape of Y multilabel array before train/val/test split:{}'.format(binary_multilabel[list(binary_multilabel.columns)].values.shape))"
   ]
  },
  {
   "cell_type": "code",
   "execution_count": 16,
   "metadata": {},
   "outputs": [
    {
     "name": "stdout",
     "output_type": "stream",
     "text": [
      "Example row of multilabel array [0 0 0 0 0 0 0 0 0 0 0 0 0 0 0 0 0 0 0 0 0 0 0 0 0 0 0 0 0 0 0 0 0 0 0 0 0\n",
      " 0 0 0 0 0 0 0 0 0 0 0 0 0 0 0 0 0 0 0 0 0 0 0 0 0 0 0 0 0 0 0 0 0 0 0 0 0\n",
      " 0 0 0 0 0 0 0 0 0 0 0 0 0 0 0 0 0 0 0 0 0 0 0 0 0 0 0 0 0 0 0 0 0 0 0 0 0\n",
      " 0 0 0 0 0 0 0 0 0 0 0 0 0 0 0 0 0 0 0 0 1 0 0 0 0 0 0 0 0 0 0 0 0 0 0 0 0\n",
      " 0 0 0 0 0 0 0 0 0 0 0 0 0 0 0 0 0 0 0 0 0 0 0 0 0 0 0 0 0 0 0 0 0 0 0 0 0\n",
      " 0 0 0 0 0 0 0 0 0 0 0 0 0 0 0 0 0 0 0 0 0 0 0 0 0]\n"
     ]
    }
   ],
   "source": [
    "#convert columns to an array. Each row represents a content item, each column an individual taxon\n",
    "binary_multilabel = binary_multilabel[list(binary_multilabel.columns)].values\n",
    "print('Example row of multilabel array {}'.format(binary_multilabel[2]))"
   ]
  },
  {
   "cell_type": "code",
   "execution_count": 17,
   "metadata": {},
   "outputs": [
    {
     "data": {
      "text/plain": [
       "numpy.ndarray"
      ]
     },
     "execution_count": 17,
     "metadata": {},
     "output_type": "execute_result"
    }
   ],
   "source": [
    "type(binary_multilabel)"
   ]
  },
  {
   "cell_type": "markdown",
   "metadata": {},
   "source": [
    "### Format metadata/X"
   ]
  },
  {
   "cell_type": "code",
   "execution_count": 18,
   "metadata": {},
   "outputs": [
    {
     "data": {
      "text/plain": [
       "114048"
      ]
     },
     "execution_count": 18,
     "metadata": {},
     "output_type": "execute_result"
    }
   ],
   "source": [
    "# THESE DICTS NEED TO BE CREATED IN ALL DATA, OR DOC TYPES NOT PRESENT IN TRAINING MUST BE DELETED FROM NEW\n",
    "#create dictionary of document type to content_id\n",
    "doctype_dict = dict(zip(labelled_level2['content_id'], labelled_level2['document_type']))\n",
    "frstpub_dict = dict(zip(labelled_level2['content_id'], labelled_level2['first_published_at']))\n",
    "pubapp_dict = dict(zip(labelled_level2['content_id'], labelled_level2['publishing_app']))\n",
    "puborg_dict = dict(zip(labelled_level2['content_id'], labelled_level2['primary_publishing_organisation']))\n",
    "len(doctype_dict)"
   ]
  },
  {
   "cell_type": "code",
   "execution_count": 19,
   "metadata": {},
   "outputs": [
    {
     "name": "stdout",
     "output_type": "stream",
     "text": [
      "['content_id', 'combined_text']\n",
      "Int64Index([  1,   2,   3,   4,   5,   6,   7,   8,   9,  10,\n",
      "            ...\n",
      "            201, 202, 203, 204, 205, 206, 207, 208, 209, 210],\n",
      "           dtype='int64', name='level2taxon_code', length=210)\n",
      "level2taxon_code                                                                         1    \\\n",
      "content_id                           combined_text                                             \n",
      "00029fa4-9b60-4285-898c-85ae8a6367f5 emma jones - small business crown representativ...  NaN   \n",
      "00037b70-5b08-44c2-bf0a-fa8eb636a60b land remediation: bringing brownfield sites bac...  NaN   \n",
      "00037ee5-7b5e-452d-a233-af2c134f5bce steps 2 success:ni statistics from october 2014...  NaN   \n",
      "0004c63d-ae16-432a-bb35-c0f949b1e27c student support applications for higher educati...  NaN   \n",
      "0005ac76-50fe-42f1-8168-8b6fc046e40f advice for building owners: large-scale wall sy...  NaN   \n",
      "\n",
      "level2taxon_code                                                                         2    \\\n",
      "content_id                           combined_text                                             \n",
      "00029fa4-9b60-4285-898c-85ae8a6367f5 emma jones - small business crown representativ...  NaN   \n",
      "00037b70-5b08-44c2-bf0a-fa8eb636a60b land remediation: bringing brownfield sites bac...  NaN   \n",
      "00037ee5-7b5e-452d-a233-af2c134f5bce steps 2 success:ni statistics from october 2014...  NaN   \n",
      "0004c63d-ae16-432a-bb35-c0f949b1e27c student support applications for higher educati...  NaN   \n",
      "0005ac76-50fe-42f1-8168-8b6fc046e40f advice for building owners: large-scale wall sy...  NaN   \n",
      "\n",
      "level2taxon_code                                                                         3    \\\n",
      "content_id                           combined_text                                             \n",
      "00029fa4-9b60-4285-898c-85ae8a6367f5 emma jones - small business crown representativ...  NaN   \n",
      "00037b70-5b08-44c2-bf0a-fa8eb636a60b land remediation: bringing brownfield sites bac...  NaN   \n",
      "00037ee5-7b5e-452d-a233-af2c134f5bce steps 2 success:ni statistics from october 2014...  NaN   \n",
      "0004c63d-ae16-432a-bb35-c0f949b1e27c student support applications for higher educati...  NaN   \n",
      "0005ac76-50fe-42f1-8168-8b6fc046e40f advice for building owners: large-scale wall sy...  NaN   \n",
      "\n",
      "level2taxon_code                                                                         4    \\\n",
      "content_id                           combined_text                                             \n",
      "00029fa4-9b60-4285-898c-85ae8a6367f5 emma jones - small business crown representativ...  NaN   \n",
      "00037b70-5b08-44c2-bf0a-fa8eb636a60b land remediation: bringing brownfield sites bac...  NaN   \n",
      "00037ee5-7b5e-452d-a233-af2c134f5bce steps 2 success:ni statistics from october 2014...  NaN   \n",
      "0004c63d-ae16-432a-bb35-c0f949b1e27c student support applications for higher educati...  NaN   \n",
      "0005ac76-50fe-42f1-8168-8b6fc046e40f advice for building owners: large-scale wall sy...  NaN   \n",
      "\n",
      "level2taxon_code                                                                         5    \\\n",
      "content_id                           combined_text                                             \n",
      "00029fa4-9b60-4285-898c-85ae8a6367f5 emma jones - small business crown representativ...  NaN   \n",
      "00037b70-5b08-44c2-bf0a-fa8eb636a60b land remediation: bringing brownfield sites bac...  NaN   \n",
      "00037ee5-7b5e-452d-a233-af2c134f5bce steps 2 success:ni statistics from october 2014...  NaN   \n",
      "0004c63d-ae16-432a-bb35-c0f949b1e27c student support applications for higher educati...  NaN   \n",
      "0005ac76-50fe-42f1-8168-8b6fc046e40f advice for building owners: large-scale wall sy...  NaN   \n",
      "\n",
      "level2taxon_code                                                                         6    \\\n",
      "content_id                           combined_text                                             \n",
      "00029fa4-9b60-4285-898c-85ae8a6367f5 emma jones - small business crown representativ...  NaN   \n",
      "00037b70-5b08-44c2-bf0a-fa8eb636a60b land remediation: bringing brownfield sites bac...  NaN   \n",
      "00037ee5-7b5e-452d-a233-af2c134f5bce steps 2 success:ni statistics from october 2014...  NaN   \n",
      "0004c63d-ae16-432a-bb35-c0f949b1e27c student support applications for higher educati...  NaN   \n",
      "0005ac76-50fe-42f1-8168-8b6fc046e40f advice for building owners: large-scale wall sy...  NaN   \n",
      "\n",
      "level2taxon_code                                                                         7    \\\n",
      "content_id                           combined_text                                             \n",
      "00029fa4-9b60-4285-898c-85ae8a6367f5 emma jones - small business crown representativ...  NaN   \n",
      "00037b70-5b08-44c2-bf0a-fa8eb636a60b land remediation: bringing brownfield sites bac...  NaN   \n",
      "00037ee5-7b5e-452d-a233-af2c134f5bce steps 2 success:ni statistics from october 2014...  NaN   \n",
      "0004c63d-ae16-432a-bb35-c0f949b1e27c student support applications for higher educati...  NaN   \n",
      "0005ac76-50fe-42f1-8168-8b6fc046e40f advice for building owners: large-scale wall sy...  NaN   \n",
      "\n",
      "level2taxon_code                                                                         8    \\\n",
      "content_id                           combined_text                                             \n",
      "00029fa4-9b60-4285-898c-85ae8a6367f5 emma jones - small business crown representativ...  NaN   \n",
      "00037b70-5b08-44c2-bf0a-fa8eb636a60b land remediation: bringing brownfield sites bac...  NaN   \n",
      "00037ee5-7b5e-452d-a233-af2c134f5bce steps 2 success:ni statistics from october 2014...  NaN   \n",
      "0004c63d-ae16-432a-bb35-c0f949b1e27c student support applications for higher educati...  NaN   \n",
      "0005ac76-50fe-42f1-8168-8b6fc046e40f advice for building owners: large-scale wall sy...  NaN   \n",
      "\n",
      "level2taxon_code                                                                         9    \\\n",
      "content_id                           combined_text                                             \n",
      "00029fa4-9b60-4285-898c-85ae8a6367f5 emma jones - small business crown representativ...  NaN   \n",
      "00037b70-5b08-44c2-bf0a-fa8eb636a60b land remediation: bringing brownfield sites bac...  NaN   \n",
      "00037ee5-7b5e-452d-a233-af2c134f5bce steps 2 success:ni statistics from october 2014...  NaN   \n",
      "0004c63d-ae16-432a-bb35-c0f949b1e27c student support applications for higher educati...  NaN   \n",
      "0005ac76-50fe-42f1-8168-8b6fc046e40f advice for building owners: large-scale wall sy...  NaN   \n",
      "\n",
      "level2taxon_code                                                                         10   \\\n",
      "content_id                           combined_text                                             \n",
      "00029fa4-9b60-4285-898c-85ae8a6367f5 emma jones - small business crown representativ...  NaN   \n",
      "00037b70-5b08-44c2-bf0a-fa8eb636a60b land remediation: bringing brownfield sites bac...  NaN   \n",
      "00037ee5-7b5e-452d-a233-af2c134f5bce steps 2 success:ni statistics from october 2014...  NaN   \n",
      "0004c63d-ae16-432a-bb35-c0f949b1e27c student support applications for higher educati...  NaN   \n",
      "0005ac76-50fe-42f1-8168-8b6fc046e40f advice for building owners: large-scale wall sy...  NaN   \n",
      "\n",
      "level2taxon_code                                                                        ...   \\\n",
      "content_id                           combined_text                                      ...    \n",
      "00029fa4-9b60-4285-898c-85ae8a6367f5 emma jones - small business crown representativ... ...    \n",
      "00037b70-5b08-44c2-bf0a-fa8eb636a60b land remediation: bringing brownfield sites bac... ...    \n",
      "00037ee5-7b5e-452d-a233-af2c134f5bce steps 2 success:ni statistics from october 2014... ...    \n",
      "0004c63d-ae16-432a-bb35-c0f949b1e27c student support applications for higher educati... ...    \n",
      "0005ac76-50fe-42f1-8168-8b6fc046e40f advice for building owners: large-scale wall sy... ...    \n",
      "\n",
      "level2taxon_code                                                                         201  \\\n",
      "content_id                           combined_text                                             \n",
      "00029fa4-9b60-4285-898c-85ae8a6367f5 emma jones - small business crown representativ...  NaN   \n",
      "00037b70-5b08-44c2-bf0a-fa8eb636a60b land remediation: bringing brownfield sites bac...  NaN   \n",
      "00037ee5-7b5e-452d-a233-af2c134f5bce steps 2 success:ni statistics from october 2014...  NaN   \n",
      "0004c63d-ae16-432a-bb35-c0f949b1e27c student support applications for higher educati...  NaN   \n",
      "0005ac76-50fe-42f1-8168-8b6fc046e40f advice for building owners: large-scale wall sy...  NaN   \n",
      "\n",
      "level2taxon_code                                                                         202  \\\n",
      "content_id                           combined_text                                             \n",
      "00029fa4-9b60-4285-898c-85ae8a6367f5 emma jones - small business crown representativ...  NaN   \n",
      "00037b70-5b08-44c2-bf0a-fa8eb636a60b land remediation: bringing brownfield sites bac...  NaN   \n",
      "00037ee5-7b5e-452d-a233-af2c134f5bce steps 2 success:ni statistics from october 2014...  NaN   \n",
      "0004c63d-ae16-432a-bb35-c0f949b1e27c student support applications for higher educati...  NaN   \n",
      "0005ac76-50fe-42f1-8168-8b6fc046e40f advice for building owners: large-scale wall sy...  NaN   \n",
      "\n",
      "level2taxon_code                                                                         203  \\\n",
      "content_id                           combined_text                                             \n",
      "00029fa4-9b60-4285-898c-85ae8a6367f5 emma jones - small business crown representativ...  NaN   \n",
      "00037b70-5b08-44c2-bf0a-fa8eb636a60b land remediation: bringing brownfield sites bac...  NaN   \n",
      "00037ee5-7b5e-452d-a233-af2c134f5bce steps 2 success:ni statistics from october 2014...  NaN   \n",
      "0004c63d-ae16-432a-bb35-c0f949b1e27c student support applications for higher educati...  NaN   \n",
      "0005ac76-50fe-42f1-8168-8b6fc046e40f advice for building owners: large-scale wall sy...  NaN   \n",
      "\n",
      "level2taxon_code                                                                         204  \\\n",
      "content_id                           combined_text                                             \n",
      "00029fa4-9b60-4285-898c-85ae8a6367f5 emma jones - small business crown representativ...  NaN   \n",
      "00037b70-5b08-44c2-bf0a-fa8eb636a60b land remediation: bringing brownfield sites bac...  NaN   \n",
      "00037ee5-7b5e-452d-a233-af2c134f5bce steps 2 success:ni statistics from october 2014...  NaN   \n",
      "0004c63d-ae16-432a-bb35-c0f949b1e27c student support applications for higher educati...  NaN   \n",
      "0005ac76-50fe-42f1-8168-8b6fc046e40f advice for building owners: large-scale wall sy...  NaN   \n",
      "\n",
      "level2taxon_code                                                                         205  \\\n",
      "content_id                           combined_text                                             \n",
      "00029fa4-9b60-4285-898c-85ae8a6367f5 emma jones - small business crown representativ...  NaN   \n",
      "00037b70-5b08-44c2-bf0a-fa8eb636a60b land remediation: bringing brownfield sites bac...  NaN   \n",
      "00037ee5-7b5e-452d-a233-af2c134f5bce steps 2 success:ni statistics from october 2014...  NaN   \n",
      "0004c63d-ae16-432a-bb35-c0f949b1e27c student support applications for higher educati...  NaN   \n",
      "0005ac76-50fe-42f1-8168-8b6fc046e40f advice for building owners: large-scale wall sy...  NaN   \n",
      "\n",
      "level2taxon_code                                                                         206  \\\n",
      "content_id                           combined_text                                             \n",
      "00029fa4-9b60-4285-898c-85ae8a6367f5 emma jones - small business crown representativ...  NaN   \n",
      "00037b70-5b08-44c2-bf0a-fa8eb636a60b land remediation: bringing brownfield sites bac...  NaN   \n",
      "00037ee5-7b5e-452d-a233-af2c134f5bce steps 2 success:ni statistics from october 2014...  NaN   \n",
      "0004c63d-ae16-432a-bb35-c0f949b1e27c student support applications for higher educati...  NaN   \n",
      "0005ac76-50fe-42f1-8168-8b6fc046e40f advice for building owners: large-scale wall sy...  NaN   \n",
      "\n",
      "level2taxon_code                                                                         207  \\\n",
      "content_id                           combined_text                                             \n",
      "00029fa4-9b60-4285-898c-85ae8a6367f5 emma jones - small business crown representativ...  NaN   \n",
      "00037b70-5b08-44c2-bf0a-fa8eb636a60b land remediation: bringing brownfield sites bac...  NaN   \n",
      "00037ee5-7b5e-452d-a233-af2c134f5bce steps 2 success:ni statistics from october 2014...  NaN   \n",
      "0004c63d-ae16-432a-bb35-c0f949b1e27c student support applications for higher educati...  NaN   \n",
      "0005ac76-50fe-42f1-8168-8b6fc046e40f advice for building owners: large-scale wall sy...  NaN   \n",
      "\n",
      "level2taxon_code                                                                         208  \\\n",
      "content_id                           combined_text                                             \n",
      "00029fa4-9b60-4285-898c-85ae8a6367f5 emma jones - small business crown representativ...  NaN   \n",
      "00037b70-5b08-44c2-bf0a-fa8eb636a60b land remediation: bringing brownfield sites bac...  NaN   \n",
      "00037ee5-7b5e-452d-a233-af2c134f5bce steps 2 success:ni statistics from october 2014...  NaN   \n",
      "0004c63d-ae16-432a-bb35-c0f949b1e27c student support applications for higher educati...  NaN   \n",
      "0005ac76-50fe-42f1-8168-8b6fc046e40f advice for building owners: large-scale wall sy...  NaN   \n",
      "\n",
      "level2taxon_code                                                                         209  \\\n",
      "content_id                           combined_text                                             \n",
      "00029fa4-9b60-4285-898c-85ae8a6367f5 emma jones - small business crown representativ...  NaN   \n",
      "00037b70-5b08-44c2-bf0a-fa8eb636a60b land remediation: bringing brownfield sites bac...  NaN   \n",
      "00037ee5-7b5e-452d-a233-af2c134f5bce steps 2 success:ni statistics from october 2014...  NaN   \n",
      "0004c63d-ae16-432a-bb35-c0f949b1e27c student support applications for higher educati...  NaN   \n",
      "0005ac76-50fe-42f1-8168-8b6fc046e40f advice for building owners: large-scale wall sy...  NaN   \n",
      "\n",
      "level2taxon_code                                                                         210  \n",
      "content_id                           combined_text                                            \n",
      "00029fa4-9b60-4285-898c-85ae8a6367f5 emma jones - small business crown representativ...  NaN  \n",
      "00037b70-5b08-44c2-bf0a-fa8eb636a60b land remediation: bringing brownfield sites bac...  NaN  \n",
      "00037ee5-7b5e-452d-a233-af2c134f5bce steps 2 success:ni statistics from october 2014...  NaN  \n",
      "0004c63d-ae16-432a-bb35-c0f949b1e27c student support applications for higher educati...  NaN  \n",
      "0005ac76-50fe-42f1-8168-8b6fc046e40f advice for building owners: large-scale wall sy...  NaN  \n",
      "\n",
      "[5 rows x 210 columns]\n"
     ]
    }
   ],
   "source": [
    "#the pivot table has two indices\n",
    "print(multilabel.index.names)\n",
    "print(multilabel.columns)\n",
    "print(multilabel.head())"
   ]
  },
  {
   "cell_type": "code",
   "execution_count": 20,
   "metadata": {},
   "outputs": [],
   "source": [
    "#extract content_id index to df\n",
    "meta1 = pd.DataFrame(multilabel.index.get_level_values('content_id'))"
   ]
  },
  {
   "cell_type": "code",
   "execution_count": 21,
   "metadata": {},
   "outputs": [
    {
     "data": {
      "text/html": [
       "<div>\n",
       "<style scoped>\n",
       "    .dataframe tbody tr th:only-of-type {\n",
       "        vertical-align: middle;\n",
       "    }\n",
       "\n",
       "    .dataframe tbody tr th {\n",
       "        vertical-align: top;\n",
       "    }\n",
       "\n",
       "    .dataframe thead th {\n",
       "        text-align: right;\n",
       "    }\n",
       "</style>\n",
       "<table border=\"1\" class=\"dataframe\">\n",
       "  <thead>\n",
       "    <tr style=\"text-align: right;\">\n",
       "      <th></th>\n",
       "      <th>content_id</th>\n",
       "      <th>doctype</th>\n",
       "      <th>first_published_at</th>\n",
       "      <th>pub_app</th>\n",
       "      <th>prim_pub_org</th>\n",
       "    </tr>\n",
       "  </thead>\n",
       "  <tbody>\n",
       "    <tr>\n",
       "      <th>0</th>\n",
       "      <td>00029fa4-9b60-4285-898c-85ae8a6367f5</td>\n",
       "      <td>document_collection</td>\n",
       "      <td>2017-01-11T10:18:00.000+00:00</td>\n",
       "      <td>whitehall</td>\n",
       "      <td>{'title': 'Crown Commercial Service'}</td>\n",
       "    </tr>\n",
       "    <tr>\n",
       "      <th>1</th>\n",
       "      <td>00037b70-5b08-44c2-bf0a-fa8eb636a60b</td>\n",
       "      <td>promotional</td>\n",
       "      <td>2015-05-11T10:41:00.000+00:00</td>\n",
       "      <td>whitehall</td>\n",
       "      <td>{'title': 'Department for International Trade'}</td>\n",
       "    </tr>\n",
       "    <tr>\n",
       "      <th>2</th>\n",
       "      <td>00037ee5-7b5e-452d-a233-af2c134f5bce</td>\n",
       "      <td>official_statistics</td>\n",
       "      <td>2016-11-24T09:30:13.000+00:00</td>\n",
       "      <td>whitehall</td>\n",
       "      <td>{'title': 'Department for Communities (Norther...</td>\n",
       "    </tr>\n",
       "    <tr>\n",
       "      <th>3</th>\n",
       "      <td>0004c63d-ae16-432a-bb35-c0f949b1e27c</td>\n",
       "      <td>official_statistics</td>\n",
       "      <td>2016-10-20T08:30:09.000+00:00</td>\n",
       "      <td>whitehall</td>\n",
       "      <td>{'title': 'Welsh Government'}</td>\n",
       "    </tr>\n",
       "    <tr>\n",
       "      <th>4</th>\n",
       "      <td>0005ac76-50fe-42f1-8168-8b6fc046e40f</td>\n",
       "      <td>guidance</td>\n",
       "      <td>2017-08-02T17:29:00.000+00:00</td>\n",
       "      <td>whitehall</td>\n",
       "      <td>{'title': 'Department for Communities and Loca...</td>\n",
       "    </tr>\n",
       "  </tbody>\n",
       "</table>\n",
       "</div>"
      ],
      "text/plain": [
       "                             content_id              doctype  \\\n",
       "0  00029fa4-9b60-4285-898c-85ae8a6367f5  document_collection   \n",
       "1  00037b70-5b08-44c2-bf0a-fa8eb636a60b          promotional   \n",
       "2  00037ee5-7b5e-452d-a233-af2c134f5bce  official_statistics   \n",
       "3  0004c63d-ae16-432a-bb35-c0f949b1e27c  official_statistics   \n",
       "4  0005ac76-50fe-42f1-8168-8b6fc046e40f             guidance   \n",
       "\n",
       "              first_published_at    pub_app  \\\n",
       "0  2017-01-11T10:18:00.000+00:00  whitehall   \n",
       "1  2015-05-11T10:41:00.000+00:00  whitehall   \n",
       "2  2016-11-24T09:30:13.000+00:00  whitehall   \n",
       "3  2016-10-20T08:30:09.000+00:00  whitehall   \n",
       "4  2017-08-02T17:29:00.000+00:00  whitehall   \n",
       "\n",
       "                                        prim_pub_org  \n",
       "0              {'title': 'Crown Commercial Service'}  \n",
       "1    {'title': 'Department for International Trade'}  \n",
       "2  {'title': 'Department for Communities (Norther...  \n",
       "3                      {'title': 'Welsh Government'}  \n",
       "4  {'title': 'Department for Communities and Loca...  "
      ]
     },
     "execution_count": 21,
     "metadata": {},
     "output_type": "execute_result"
    }
   ],
   "source": [
    "#apply meta data to content\n",
    "meta1['doctype'] = meta1['content_id'].map(doctype_dict).copy()\n",
    "meta1['first_published_at'] = meta1['content_id'].map(frstpub_dict).copy()\n",
    "meta1['pub_app'] = meta1['content_id'].map(pubapp_dict).copy()\n",
    "meta1['prim_pub_org'] = meta1['content_id'].map(puborg_dict).copy()\n",
    "\n",
    "meta1 = meta1.replace(np.nan, '', regex=True) #conver nans to empty strings for labelencoder types\n",
    "meta1.head()"
   ]
  },
  {
   "cell_type": "code",
   "execution_count": 22,
   "metadata": {},
   "outputs": [],
   "source": [
    "#encode strings as integers\n",
    "#doctype\n",
    "doctype_encoder = LabelEncoder()\n",
    "meta1['doctype_cat'] = doctype_encoder.fit_transform(meta1['doctype']) #fit the label encoder on all data then transform on individual data sets\n",
    "\n",
    "# print(len(meta1['doctype_cat'].unique()))\n",
    "# print(meta1['doctype_cat'].unique())\n",
    "\n",
    "# primary publishing org\n",
    "pub_org_encoder = LabelEncoder()\n",
    "meta1['prim_pub_org_cat'] = doctype_encoder.fit_transform(meta1['prim_pub_org']) \n",
    "\n",
    "# print(len(meta1['prim_pub_org_cat'].unique()))\n",
    "# print(meta1['prim_pub_org_cat'].unique())\n",
    "\n",
    "#publishing application\n",
    "\n",
    "pub_app_encoder = LabelEncoder()\n",
    "meta1['pub_app_cat'] = doctype_encoder.fit_transform(meta1['pub_app'])\n",
    "\n",
    "# print(len(meta1['pub_app_cat'].unique()))\n",
    "# print(meta1['pub_app_cat'].unique())"
   ]
  },
  {
   "cell_type": "code",
   "execution_count": 23,
   "metadata": {},
   "outputs": [
    {
     "name": "stdout",
     "output_type": "stream",
     "text": [
      "(114048, 58)\n",
      "(114048, 382)\n",
      "(114048, 9)\n"
     ]
    },
    {
     "data": {
      "text/plain": [
       "numpy.ndarray"
      ]
     },
     "execution_count": 23,
     "metadata": {},
     "output_type": "execute_result"
    }
   ],
   "source": [
    "#one hot encode integers\n",
    "encoded_doctype = to_categorical(meta1['doctype_cat'])\n",
    "print(encoded_doctype.shape)\n",
    "\n",
    "encoded_prim_pub_org = to_categorical(meta1['prim_pub_org_cat'])\n",
    "print(encoded_prim_pub_org.shape)\n",
    "\n",
    "encoded_pub_app = to_categorical(meta1['pub_app_cat'])\n",
    "print(encoded_pub_app.shape)\n",
    "type(encoded_pub_app)"
   ]
  },
  {
   "cell_type": "code",
   "execution_count": 24,
   "metadata": {},
   "outputs": [
    {
     "name": "stdout",
     "output_type": "stream",
     "text": [
      "(114048,)\n",
      "(114048, 1)\n"
     ]
    },
    {
     "data": {
      "text/plain": [
       "numpy.ndarray"
      ]
     },
     "execution_count": 24,
     "metadata": {},
     "output_type": "execute_result"
    }
   ],
   "source": [
    "meta1['first_published_at'] = pd.to_datetime(meta1['first_published_at']) \n",
    "\n",
    "# print(meta['first_published_at'][0].Timestamp())\n",
    "# for index, row in meta.iterrows():\n",
    "#     row['first_published_at_ts'] = row['first_published_at'].timestamp()\n",
    "#     print(row['first_published_at_ts'])\n",
    "\n",
    "print(meta1['first_published_at'].shape)\n",
    "\n",
    "first_published = np.array(meta1['first_published_at']).reshape(meta1['first_published_at'].shape[0], 1).copy()\n",
    "                           \n",
    "print(first_published.shape)\n",
    "type(first_published)"
   ]
  },
  {
   "cell_type": "code",
   "execution_count": 25,
   "metadata": {},
   "outputs": [
    {
     "name": "stdout",
     "output_type": "stream",
     "text": [
      "(114048, 449)\n",
      "449\n",
      "(114048, 449)\n"
     ]
    }
   ],
   "source": [
    "\n",
    "meta = np.concatenate((encoded_doctype, \n",
    "                           encoded_prim_pub_org, \n",
    "                           encoded_pub_app), #error when adding date...\n",
    "                          axis=1)\n",
    "\n",
    "print(meta.shape)\n",
    "nb_metavars = meta.shape[1]\n",
    "print(nb_metavars)\n",
    "print(meta.shape)"
   ]
  },
  {
   "cell_type": "markdown",
   "metadata": {},
   "source": [
    "### Create language data/X"
   ]
  },
  {
   "cell_type": "markdown",
   "metadata": {},
   "source": [
    "format our text samples and labels into tensors that can be fed into a neural network. To do this, we will rely on Keras utilities keras.preprocessing.text.Tokenizer and keras.preprocessing.sequence.pad_sequences."
   ]
  },
  {
   "cell_type": "code",
   "execution_count": 26,
   "metadata": {},
   "outputs": [
    {
     "data": {
      "text/plain": [
       "FrozenList(['content_id', 'combined_text'])"
      ]
     },
     "execution_count": 26,
     "metadata": {},
     "output_type": "execute_result"
    }
   ],
   "source": [
    "#the pivot table has two indices\n",
    "multilabel.index.names"
   ]
  },
  {
   "cell_type": "code",
   "execution_count": 27,
   "metadata": {},
   "outputs": [
    {
     "data": {
      "text/plain": [
       "(114048,)"
      ]
     },
     "execution_count": 27,
     "metadata": {},
     "output_type": "execute_result"
    }
   ],
   "source": [
    "#extract combined text index to array\n",
    "texts = multilabel.index.get_level_values('combined_text')\n",
    "texts.shape"
   ]
  },
  {
   "cell_type": "markdown",
   "metadata": {},
   "source": [
    "### Tokenizer"
   ]
  },
  {
   "cell_type": "markdown",
   "metadata": {},
   "source": [
    "Tokenizer = Class for vectorizing texts, or/and turning texts into sequences (=list of word indexes, where the word of rank i in the dataset (starting at 1) has index i)"
   ]
  },
  {
   "cell_type": "code",
   "execution_count": 28,
   "metadata": {},
   "outputs": [
    {
     "name": "stdout",
     "output_type": "stream",
     "text": [
      "Found 213132 unique tokens.\n"
     ]
    }
   ],
   "source": [
    "# Bag of words method\n",
    "tokenizer = Tokenizer(num_words=NUM_WORDS) #num_words: None or int. Maximum number of words to work with \n",
    "# (if set, tokenization will be restricted to the top num_words most common words in the dataset).\n",
    "\n",
    "# apply tokenizer to our text data\n",
    "tokenizer.fit_on_texts(texts)\n",
    "\n",
    "# list of word indexes, where the word of rank i in the dataset (starting at 1) has index i\n",
    "sequences = tokenizer.texts_to_sequences(texts) #yield one sequence per input text\n",
    "\n",
    "# dictionary mapping words (str) to their rank/index (int).\n",
    "word_index = tokenizer.word_index  # Only set after fit_on_texts was called.\n",
    "print('Found %s unique tokens.' % len(word_index))\n",
    "\n",
    "data = pad_sequences(sequences, maxlen= MAX_SEQUENCE_LENGTH) #MAX_SEQUENCE_LENGTH"
   ]
  },
  {
   "cell_type": "code",
   "execution_count": 29,
   "metadata": {},
   "outputs": [
    {
     "name": "stdout",
     "output_type": "stream",
     "text": [
      "Shape of label tensor: (114048, 210)\n",
      "Shape of data tensor: (114048, 1000)\n"
     ]
    }
   ],
   "source": [
    "print('Shape of label tensor:', binary_multilabel.shape)\n",
    "print('Shape of data tensor:', data.shape)"
   ]
  },
  {
   "cell_type": "markdown",
   "metadata": {},
   "source": [
    "### Data split\n",
    "- Training data = 80%\n",
    "- Development data = 10%\n",
    "- Test data = 10%"
   ]
  },
  {
   "cell_type": "code",
   "execution_count": 30,
   "metadata": {},
   "outputs": [
    {
     "name": "stdout",
     "output_type": "stream",
     "text": [
      "[     0      1      2 ..., 114045 114046 114047]\n",
      "[53174   885 27609 ..., 42613 43567 68268]\n"
     ]
    }
   ],
   "source": [
    "# shuffle data and standardise indices\n",
    "indices = np.arange(data.shape[0])\n",
    "print(indices)\n",
    "np.random.seed(0)\n",
    "np.random.shuffle(indices)\n",
    "print(indices)"
   ]
  },
  {
   "cell_type": "code",
   "execution_count": 31,
   "metadata": {},
   "outputs": [],
   "source": [
    "data = data[indices]\n",
    "metadata = meta[indices]\n",
    "timedata = first_published[indices]\n",
    "labels = binary_multilabel[indices]"
   ]
  },
  {
   "cell_type": "code",
   "execution_count": 32,
   "metadata": {},
   "outputs": [
    {
     "name": "stdout",
     "output_type": "stream",
     "text": [
      "nb_test samples: 11404\n",
      "nb_dev samples: 22809\n",
      "nb_training samples: 91238\n"
     ]
    }
   ],
   "source": [
    "nb_test_samples = int(0.1 * data.shape[0]) #validation split\n",
    "print('nb_test samples:', nb_test_samples)\n",
    "\n",
    "nb_dev_samples = int(0.2 * data.shape[0]) #validation split\n",
    "print('nb_dev samples:', nb_dev_samples)\n",
    "\n",
    "nb_training_samples = int(0.8 * data.shape[0]) #validation split\n",
    "print('nb_training samples:', nb_training_samples)"
   ]
  },
  {
   "cell_type": "code",
   "execution_count": 33,
   "metadata": {},
   "outputs": [
    {
     "name": "stdout",
     "output_type": "stream",
     "text": [
      "Shape of x_train: (91239, 1000)\n",
      "Shape of metax_train: (91239, 449)\n",
      "Shape of datex_train: (91239, 1)\n",
      "Shape of y_train: (91239, 210)\n"
     ]
    }
   ],
   "source": [
    "x_train = data[:-nb_dev_samples]\n",
    "print('Shape of x_train:', x_train.shape)\n",
    "\n",
    "metax_train = metadata[:-nb_dev_samples]\n",
    "print('Shape of metax_train:', metax_train.shape)\n",
    "\n",
    "datex_train = timedata[:-nb_dev_samples]\n",
    "print('Shape of datex_train:', datex_train.shape)\n",
    "\n",
    "y_train = labels[:-nb_dev_samples]\n",
    "print('Shape of y_train:', y_train.shape)"
   ]
  },
  {
   "cell_type": "code",
   "execution_count": 34,
   "metadata": {},
   "outputs": [
    {
     "name": "stdout",
     "output_type": "stream",
     "text": [
      "Shape of x_dev: (11405, 1000)\n",
      "Shape of metax_dev: (11405, 449)\n",
      "Shape of metax_dev: (11405, 1)\n",
      "Shape of y_dev: (11405, 210)\n"
     ]
    }
   ],
   "source": [
    "x_dev = data[-nb_dev_samples:-nb_test_samples]\n",
    "print('Shape of x_dev:', x_dev.shape)\n",
    "\n",
    "metax_dev = metadata[-nb_dev_samples:-nb_test_samples]\n",
    "print('Shape of metax_dev:', metax_dev.shape)\n",
    "\n",
    "datex_dev = timedata[-nb_dev_samples:-nb_test_samples]\n",
    "print('Shape of metax_dev:', datex_dev.shape)\n",
    "\n",
    "y_dev = labels[-nb_dev_samples:-nb_test_samples]\n",
    "print('Shape of y_dev:', y_dev.shape)"
   ]
  },
  {
   "cell_type": "code",
   "execution_count": 35,
   "metadata": {},
   "outputs": [
    {
     "name": "stdout",
     "output_type": "stream",
     "text": [
      "Shape of x_test: (11404, 1000)\n",
      "Shape of metax_test: (11404, 449)\n",
      "Shape of datex_test: (11404, 1)\n",
      "Shape of y_test: (11404, 210)\n"
     ]
    }
   ],
   "source": [
    "x_test = data[-nb_test_samples:]\n",
    "print('Shape of x_test:', x_test.shape)\n",
    "\n",
    "metax_test = metadata[-nb_test_samples:]\n",
    "print('Shape of metax_test:', metax_test.shape)\n",
    "\n",
    "datex_test = timedata[-nb_test_samples:]\n",
    "print('Shape of datex_test:', datex_test.shape)\n",
    "\n",
    "y_test = labels[-nb_test_samples:]\n",
    "print('Shape of y_test:', y_test.shape)"
   ]
  },
  {
   "cell_type": "markdown",
   "metadata": {},
   "source": [
    "### preparing the Embedding layer\n",
    "\n",
    "NB stopwords haven't been removed yet..."
   ]
  },
  {
   "cell_type": "code",
   "execution_count": 36,
   "metadata": {},
   "outputs": [],
   "source": [
    "embedding_layer = Embedding(len(word_index) + 1, \n",
    "                            EMBEDDING_DIM, \n",
    "                            input_length=MAX_SEQUENCE_LENGTH)"
   ]
  },
  {
   "cell_type": "markdown",
   "metadata": {},
   "source": [
    "An Embedding layer should be fed sequences of integers, i.e. a 2D input of shape (samples, indices). These input sequences should be padded so that they all have the same length in a batch of input data (although an Embedding layer is capable of processing sequence of heterogenous length, if you don't pass an explicit input_length argument to the layer).\n",
    "\n",
    "All that the Embedding layer does is to map the integer inputs to the vectors found at the corresponding index in the embedding matrix, i.e. the sequence [1, 2] would be converted to [embeddings[1], embeddings[2]]. This means that the output of the Embedding layer will be a 3D tensor of shape (samples, sequence_length, embedding_dim)."
   ]
  },
  {
   "cell_type": "markdown",
   "metadata": {},
   "source": [
    "### Estimate class weights for unbalanced datasets.\n",
    "paramter to model.fit = __class_weight__: Optional dictionary mapping class indices (integers) to a weight (float) value, used for weighting the loss function (during training only). This can be useful to tell the model to \"pay more attention\" to samples from an under-represented class.\n",
    "\n",
    "Implement class_weight from sklearn:\n",
    "\n",
    "- Import the module \n",
    "\n",
    "`from sklearn.utils import class_weight`\n",
    "- calculate the class weight, If ‘balanced’, class weights will be given by n_samples / (n_classes * np.bincount(y)):\n",
    "\n",
    "`class_weight = class_weight.compute_class_weight('balanced', np.unique(y_train), y_train)`\n",
    "\n",
    "- change it to a dict in order to work with Keras.\n",
    "\n",
    "`class_weight_dict = dict(enumerate(class_weight))`\n",
    "\n",
    "- Add to model fitting\n",
    "\n",
    "`model.fit(X_train, y_train, class_weight=class_weight)`"
   ]
  },
  {
   "cell_type": "code",
   "execution_count": 37,
   "metadata": {},
   "outputs": [],
   "source": [
    "# class_weight = class_weight.compute_class_weight('balanced', np.unique(y_train), y_train)\n",
    "# class_weight_dict = dict(enumerate(class_weight))"
   ]
  },
  {
   "cell_type": "markdown",
   "metadata": {},
   "source": [
    "### Custom loss function"
   ]
  },
  {
   "cell_type": "code",
   "execution_count": 38,
   "metadata": {},
   "outputs": [
    {
     "name": "stdout",
     "output_type": "stream",
     "text": [
      "4.00756\n",
      "8.01512\n"
     ]
    }
   ],
   "source": [
    "class WeightedBinaryCrossEntropy(object):\n",
    "\n",
    "    def __init__(self, pos_ratio):\n",
    "        neg_ratio = 1. - pos_ratio\n",
    "        #self.pos_ratio = tf.constant(pos_ratio, tf.float32)\n",
    "        self.pos_ratio = pos_ratio\n",
    "        #self.weights = tf.constant(neg_ratio / pos_ratio, tf.float32)\n",
    "        self.weights = neg_ratio / pos_ratio\n",
    "        self.__name__ = \"weighted_binary_crossentropy({0})\".format(pos_ratio)\n",
    "\n",
    "    def __call__(self, y_true, y_pred):\n",
    "        return self.weighted_binary_crossentropy(y_true, y_pred)\n",
    "\n",
    "    def weighted_binary_crossentropy(self, y_true, y_pred):\n",
    "            # Transform to logits\n",
    "            epsilon = tf.convert_to_tensor(K.common._EPSILON, y_pred.dtype.base_dtype)\n",
    "            y_pred = tf.clip_by_value(y_pred, epsilon, 1 - epsilon)\n",
    "            y_pred = tf.log(y_pred / (1 - y_pred))\n",
    "\n",
    "            cost = tf.nn.weighted_cross_entropy_with_logits(y_true, y_pred, self.weights)\n",
    "            return K.mean(cost * self.pos_ratio, axis=-1)\n",
    "    \n",
    "y_true_arr = np.array([0,1,0,1], dtype=\"float32\")\n",
    "y_pred_arr = np.array([0,0,1,1], dtype=\"float32\")\n",
    "y_true = tf.constant(y_true_arr)\n",
    "y_pred = tf.constant(y_pred_arr)\n",
    "\n",
    "with tf.Session().as_default(): \n",
    "    print(WeightedBinaryCrossEntropy(0.5)(y_true, y_pred).eval())\n",
    "    print(binary_crossentropy(y_true, y_pred).eval())\n"
   ]
  },
  {
   "cell_type": "markdown",
   "metadata": {},
   "source": [
    "### difficulty getting global precision/recall metrics . CAUTION interpreting monitoring metrics\n",
    "fcholltet: \"Basically these are all global metrics that were approximated\n",
    "batch-wise, which is more misleading than helpful. This was mentioned in\n",
    "the docs but it's much cleaner to remove them altogether. It was a mistake\n",
    "to merge them in the first place.\""
   ]
  },
  {
   "cell_type": "code",
   "execution_count": 39,
   "metadata": {},
   "outputs": [],
   "source": [
    "def f1(y_true, y_pred):\n",
    "    \"\"\"Use Recall  and precision metrics to calculate harmonic mean (F1 score).\n",
    "\n",
    "        Only computes a batch-wise average of recall.\n",
    "\n",
    "        Computes the recall, a metric for multi-label classification of\n",
    "        how many relevant items are selected.\n",
    "        \"\"\"\n",
    "    true_positives = K.sum(K.round(K.clip(y_true * y_pred, 0, 1)))\n",
    "    predicted_positives = K.sum(K.round(K.clip(y_pred, 0, 1)))\n",
    "    possible_positives = K.sum(K.round(K.clip(y_true, 0, 1)))\n",
    "    precision = true_positives / (predicted_positives + K.epsilon())\n",
    "    recall = true_positives / (possible_positives + K.epsilon())\n",
    "    f1 = 2*((precision*recall)/(precision+recall))\n",
    "    \n",
    "    return f1"
   ]
  },
  {
   "cell_type": "markdown",
   "metadata": {},
   "source": [
    "## Training a 1D convnet"
   ]
  },
  {
   "cell_type": "markdown",
   "metadata": {},
   "source": [
    "### 1. Create model"
   ]
  },
  {
   "cell_type": "code",
   "execution_count": 56,
   "metadata": {},
   "outputs": [],
   "source": [
    "NB_CLASSES = y_train.shape[1]\n",
    "NB_METAVARS = metax_train.shape[1]\n",
    "\n",
    "\n",
    "\n",
    "sequence_input = Input(shape=(MAX_SEQUENCE_LENGTH,), dtype='int32', name='wordindex') #MAX_SEQUENCE_LENGTH\n",
    "embedded_sequences = embedding_layer(sequence_input)\n",
    "\n",
    "\n",
    "x = Conv1D(128, 5, activation='relu', name = 'conv0')(embedded_sequences)\n",
    "\n",
    "x = MaxPooling1D(5, name = 'max_pool0')(x)\n",
    "\n",
    "x = Dropout(0.2, name = 'dropout0')(x)\n",
    "\n",
    "x = Conv1D(128, 5, activation='relu', name = 'conv1')(x)\n",
    "\n",
    "x = MaxPooling1D(5 , name = 'max_pool1')(x)\n",
    "\n",
    "x = Conv1D(128, 5, activation='relu', name = 'conv2')(x)\n",
    "\n",
    "x = MaxPooling1D(35, name = 'global_max_pool')(x)  # global max pooling\n",
    "\n",
    "x = Flatten()(x) #reduce dimensions from 3 to 2; convert to vector + FULLYCONNECTED\n",
    "\n",
    "meta_input = Input(shape=(NB_METAVARS,), name='meta')\n",
    "meta_hidden = Dense(128, activation='relu', name = 'meta_input_hidden')(meta_input)\n",
    "\n",
    "concatenated = concatenate([meta_hidden, x])\n",
    "\n",
    "x = Dense(200, activation='relu', name = 'fully_connected0')(concatenated)\n",
    "\n",
    "x = Dropout(0.2, name = 'dropout1')(x)\n",
    "\n",
    "x = Dense(NB_CLASSES, activation='sigmoid', name = 'fully_connected1')(x)\n",
    "\n",
    "# # The Model class turns an input tensor and output tensor into a model\n",
    "# This creates Keras model instance, will use this instance to train/test the model.\n",
    "model = Model(inputs=[meta_input, sequence_input], outputs=x)"
   ]
  },
  {
   "cell_type": "markdown",
   "metadata": {},
   "source": [
    "### 2. Compile model"
   ]
  },
  {
   "cell_type": "code",
   "execution_count": 57,
   "metadata": {},
   "outputs": [],
   "source": [
    "model.compile(loss=WeightedBinaryCrossEntropy(POS_RATIO),\n",
    "              optimizer='rmsprop',\n",
    "              metrics=['binary_accuracy', f1])"
   ]
  },
  {
   "cell_type": "markdown",
   "metadata": {},
   "source": [
    "Metric values are recorded at the end of each epoch on the training dataset. If a validation dataset is also provided, then the metric recorded is also calculated for the validation dataset.\n",
    "\n",
    "All metrics are reported in verbose output and in the history object returned from calling the fit() function. In both cases, the name of the metric function is used as the key for the metric values. In the case of metrics for the validation dataset, the “val_” prefix is added to the key."
   ]
  },
  {
   "cell_type": "markdown",
   "metadata": {},
   "source": [
    "You have now built a function to describe your model. To train and test this model, there are four steps in Keras:\n",
    "1. Create the model by calling the function above\n",
    "2. Compile the model by calling `model.compile(optimizer = \"...\", loss = \"...\", metrics = [\"accuracy\"])`\n",
    "3. Train the model on train data by calling `model.fit(x = ..., y = ..., epochs = ..., batch_size = ...)`\n",
    "4. Test the model on test data by calling `model.evaluate(x = ..., y = ...)`\n",
    "\n",
    "If you want to know more about `model.compile()`, `model.fit()`, `model.evaluate()` and their arguments, refer to the official [Keras documentation](https://keras.io/models/model/).\n"
   ]
  },
  {
   "cell_type": "code",
   "execution_count": 58,
   "metadata": {},
   "outputs": [
    {
     "name": "stdout",
     "output_type": "stream",
     "text": [
      "__________________________________________________________________________________________________\n",
      "Layer (type)                    Output Shape         Param #     Connected to                     \n",
      "==================================================================================================\n",
      "wordindex (InputLayer)          (None, 1000)         0                                            \n",
      "__________________________________________________________________________________________________\n",
      "embedding_1 (Embedding)         (None, 1000, 100)    21313300    wordindex[0][0]                  \n",
      "__________________________________________________________________________________________________\n",
      "conv0 (Conv1D)                  (None, 996, 128)     64128       embedding_1[1][0]                \n",
      "__________________________________________________________________________________________________\n",
      "max_pool0 (MaxPooling1D)        (None, 199, 128)     0           conv0[0][0]                      \n",
      "__________________________________________________________________________________________________\n",
      "dropout0 (Dropout)              (None, 199, 128)     0           max_pool0[0][0]                  \n",
      "__________________________________________________________________________________________________\n",
      "conv1 (Conv1D)                  (None, 195, 128)     82048       dropout0[0][0]                   \n",
      "__________________________________________________________________________________________________\n",
      "max_pool1 (MaxPooling1D)        (None, 39, 128)      0           conv1[0][0]                      \n",
      "__________________________________________________________________________________________________\n",
      "conv2 (Conv1D)                  (None, 35, 128)      82048       max_pool1[0][0]                  \n",
      "__________________________________________________________________________________________________\n",
      "meta (InputLayer)               (None, 449)          0                                            \n",
      "__________________________________________________________________________________________________\n",
      "global_max_pool (MaxPooling1D)  (None, 1, 128)       0           conv2[0][0]                      \n",
      "__________________________________________________________________________________________________\n",
      "meta_input_hidden (Dense)       (None, 128)          57600       meta[0][0]                       \n",
      "__________________________________________________________________________________________________\n",
      "flatten_2 (Flatten)             (None, 128)          0           global_max_pool[0][0]            \n",
      "__________________________________________________________________________________________________\n",
      "concatenate_2 (Concatenate)     (None, 256)          0           meta_input_hidden[0][0]          \n",
      "                                                                 flatten_2[0][0]                  \n",
      "__________________________________________________________________________________________________\n",
      "fully_connected0 (Dense)        (None, 200)          51400       concatenate_2[0][0]              \n",
      "__________________________________________________________________________________________________\n",
      "dropout1 (Dropout)              (None, 200)          0           fully_connected0[0][0]           \n",
      "__________________________________________________________________________________________________\n",
      "fully_connected1 (Dense)        (None, 210)          42210       dropout1[0][0]                   \n",
      "==================================================================================================\n",
      "Total params: 21,692,734\n",
      "Trainable params: 21,692,734\n",
      "Non-trainable params: 0\n",
      "__________________________________________________________________________________________________\n"
     ]
    }
   ],
   "source": [
    "model.summary()"
   ]
  },
  {
   "cell_type": "markdown",
   "metadata": {},
   "source": [
    "### Tensorboard callbacks /metrics /monitor training"
   ]
  },
  {
   "cell_type": "markdown",
   "metadata": {},
   "source": [
    "<span style=\"color:red\"> **Size of these files is killing storage during training. Is it histograms?**</span>"
   ]
  },
  {
   "cell_type": "code",
   "execution_count": 50,
   "metadata": {},
   "outputs": [],
   "source": [
    "tb = TensorBoard(log_dir='./learn_embedding_logs', histogram_freq=1, write_graph=True, write_images=False)"
   ]
  },
  {
   "cell_type": "code",
   "execution_count": 51,
   "metadata": {},
   "outputs": [],
   "source": [
    "CHECKPOINT_PATH = os.path.join(DATADIR, 'model_checkpoint.hdf5')\n",
    "\n",
    "cp = ModelCheckpoint(\n",
    "                     filepath = CHECKPOINT_PATH, \n",
    "                     monitor='val_loss', \n",
    "                     verbose=0, \n",
    "                     save_best_only=False, \n",
    "                     save_weights_only=False, \n",
    "                     mode='auto', \n",
    "                     period=1\n",
    "                    )"
   ]
  },
  {
   "cell_type": "code",
   "execution_count": 52,
   "metadata": {},
   "outputs": [],
   "source": [
    "# class Metrics(Callback):\n",
    "#     def on_train_begin(self, logs={}):\n",
    "#         self.val_f1s = []\n",
    "#         self.val_recalls = []\n",
    "#         self.val_precisions = []\n",
    " \n",
    "#     def on_epoch_end(self, epoch, logs={}):\n",
    "#         val_predict = (np.asarray(self.model.predict(self.model.validation_data[0]))).round()\n",
    "#         val_targ = self.model.validation_data[1]\n",
    "        \n",
    "#         self.val_f1s.append(f1_score(val_targ, val_predict, average='micro'))\n",
    "#         self.val_recalls.append(recall_score(val_targ, val_predict))\n",
    "#         self.val_precisions.append(precision_score(val_targ, val_predict))\n",
    "#         print(\"- val_f1: %f — val_precision: %f — val_recall %f\" \n",
    "#                 %(f1_score(val_targ, val_predict, average='micro'), \n",
    "#                   precision_score(val_targ, val_predict),\n",
    "#                    recall_score(val_targ, val_predict)))\n",
    "#         return\n",
    " \n",
    "# metrics = Metrics()"
   ]
  },
  {
   "cell_type": "markdown",
   "metadata": {},
   "source": [
    "### 3. Train model"
   ]
  },
  {
   "cell_type": "code",
   "execution_count": 59,
   "metadata": {},
   "outputs": [
    {
     "name": "stdout",
     "output_type": "stream",
     "text": [
      "Train on 91239 samples, validate on 11405 samples\n",
      "Epoch 1/10\n",
      "91239/91239 [==============================] - 72s 791us/step - loss: 0.0125 - binary_accuracy: 0.9934 - f1: nan - val_loss: 0.0061 - val_binary_accuracy: 0.9963 - val_f1: 0.6783\n",
      "Epoch 2/10\n",
      "91239/91239 [==============================] - 71s 777us/step - loss: 0.0054 - binary_accuracy: 0.9966 - f1: 0.7207 - val_loss: 0.0053 - val_binary_accuracy: 0.9967 - val_f1: 0.7291\n",
      "Epoch 3/10\n",
      "91239/91239 [==============================] - 71s 777us/step - loss: 0.0046 - binary_accuracy: 0.9971 - f1: 0.7662 - val_loss: 0.0051 - val_binary_accuracy: 0.9969 - val_f1: 0.7499\n",
      "Epoch 4/10\n",
      "91239/91239 [==============================] - 71s 777us/step - loss: 0.0041 - binary_accuracy: 0.9973 - f1: 0.7893 - val_loss: 0.0050 - val_binary_accuracy: 0.9969 - val_f1: 0.7563\n",
      "Epoch 5/10\n",
      "91239/91239 [==============================] - 71s 778us/step - loss: 0.0038 - binary_accuracy: 0.9975 - f1: 0.8053 - val_loss: 0.0052 - val_binary_accuracy: 0.9968 - val_f1: 0.7508\n",
      "Epoch 6/10\n",
      "91239/91239 [==============================] - 71s 777us/step - loss: 0.0036 - binary_accuracy: 0.9976 - f1: 0.8185 - val_loss: 0.0052 - val_binary_accuracy: 0.9969 - val_f1: 0.7598\n",
      "Epoch 7/10\n",
      "91239/91239 [==============================] - 71s 778us/step - loss: 0.0034 - binary_accuracy: 0.9978 - f1: 0.8303 - val_loss: 0.0054 - val_binary_accuracy: 0.9969 - val_f1: 0.7586\n",
      "Epoch 8/10\n",
      "91239/91239 [==============================] - 71s 779us/step - loss: 0.0032 - binary_accuracy: 0.9979 - f1: 0.8395 - val_loss: 0.0059 - val_binary_accuracy: 0.9969 - val_f1: 0.7585\n",
      "Epoch 9/10\n",
      "91239/91239 [==============================] - 71s 779us/step - loss: 0.0030 - binary_accuracy: 0.9980 - f1: 0.8461 - val_loss: 0.0054 - val_binary_accuracy: 0.9969 - val_f1: 0.7624\n",
      "Epoch 10/10\n",
      "91239/91239 [==============================] - 71s 778us/step - loss: 0.0029 - binary_accuracy: 0.9981 - f1: 0.8540 - val_loss: 0.0056 - val_binary_accuracy: 0.9969 - val_f1: 0.7642\n"
     ]
    },
    {
     "data": {
      "text/plain": [
       "<keras.callbacks.History at 0x7f58423c3048>"
      ]
     },
     "execution_count": 59,
     "metadata": {},
     "output_type": "execute_result"
    }
   ],
   "source": [
    "# metrics callback causes: CCCCCCR55555555511155\n",
    "# So disable for now\n",
    "\n",
    "model.fit(\n",
    "    {'meta': metax_train, 'wordindex': x_train},\n",
    "    y_train, \n",
    "    validation_data=([metax_dev, x_dev], y_dev), \n",
    "    epochs=10, batch_size=128 #error in callbacks\n",
    ")"
   ]
  },
  {
   "cell_type": "markdown",
   "metadata": {},
   "source": [
    "### Evaluate model"
   ]
  },
  {
   "cell_type": "markdown",
   "metadata": {},
   "source": [
    "#### Training metrics"
   ]
  },
  {
   "cell_type": "code",
   "execution_count": 60,
   "metadata": {},
   "outputs": [],
   "source": [
    "y_prob = model.predict([metax_train, x_train])"
   ]
  },
  {
   "cell_type": "code",
   "execution_count": 61,
   "metadata": {},
   "outputs": [
    {
     "data": {
      "text/plain": [
       "(91239, 210)"
      ]
     },
     "execution_count": 61,
     "metadata": {},
     "output_type": "execute_result"
    }
   ],
   "source": [
    "y_prob.shape"
   ]
  },
  {
   "cell_type": "code",
   "execution_count": 62,
   "metadata": {},
   "outputs": [],
   "source": [
    "y_pred = y_prob.copy()\n",
    "y_pred[y_pred>=P_THRESHOLD] = 1\n",
    "y_pred[y_pred<P_THRESHOLD] = 0"
   ]
  },
  {
   "cell_type": "code",
   "execution_count": 70,
   "metadata": {},
   "outputs": [
    {
     "data": {
      "text/plain": [
       "0.88874159274783116"
      ]
     },
     "execution_count": 70,
     "metadata": {},
     "output_type": "execute_result"
    }
   ],
   "source": [
    "f1_score(y_train, y_pred, average='micro')"
   ]
  },
  {
   "cell_type": "code",
   "execution_count": 64,
   "metadata": {},
   "outputs": [
    {
     "name": "stderr",
     "output_type": "stream",
     "text": [
      "/home/ubuntu/anaconda3/envs/tensorflow_p36/lib/python3.6/site-packages/sklearn/metrics/classification.py:1135: UndefinedMetricWarning: Precision and F-score are ill-defined and being set to 0.0 in labels with no predicted samples.\n",
      "  'precision', 'predicted', average, warn_for)\n",
      "/home/ubuntu/anaconda3/envs/tensorflow_p36/lib/python3.6/site-packages/sklearn/metrics/classification.py:1137: UndefinedMetricWarning: Recall and F-score are ill-defined and being set to 0.0 in labels with no true samples.\n",
      "  'recall', 'true', average, warn_for)\n"
     ]
    },
    {
     "data": {
      "text/plain": [
       "(array([ 0.        ,  0.        ,  0.98087432,  0.90654206,  0.        ,\n",
       "         0.8752784 ,  0.94805195,  0.96844059,  0.        ,  0.        ,\n",
       "         0.        ,  0.91620112,  0.        ,  0.        ,  0.96052632,\n",
       "         0.        ,  0.90566038,  0.        ,  0.        ,  0.94988781,\n",
       "         0.92507816,  0.88270859,  0.95178571,  0.        ,  0.        ,\n",
       "         0.        ,  0.        ,  0.        ,  0.97938144,  0.875     ,\n",
       "         0.98717949,  0.        ,  0.        ,  0.87878788,  0.89746809,\n",
       "         0.88235294,  0.91669411,  0.69444444,  0.90697674,  0.92909091,\n",
       "         0.        ,  0.9626556 ,  0.        ,  0.        ,  0.81294964,\n",
       "         0.        ,  0.        ,  0.97076023,  0.93073248,  0.        ,\n",
       "         0.        ,  0.        ,  0.        ,  0.        ,  0.        ,\n",
       "         0.        ,  0.        ,  0.95021186,  0.        ,  0.93759874,\n",
       "         0.66666667,  0.        ,  0.92857143,  0.90502793,  0.        ,\n",
       "         0.91995291,  0.        ,  1.        ,  0.95555556,  0.        ,\n",
       "         1.        ,  0.        ,  0.93164062,  0.88235294,  0.97926267,\n",
       "         0.9275834 ,  0.        ,  0.96888225,  0.96825397,  1.        ,\n",
       "         0.97108067,  0.97043971,  0.        ,  0.92006661,  0.        ,\n",
       "         0.        ,  1.        ,  0.96240602,  0.        ,  0.95539033,\n",
       "         0.95477208,  0.92606061,  0.        ,  0.82625483,  0.98461538,\n",
       "         0.96920078,  0.96808511,  0.        ,  0.88732394,  0.97619048,\n",
       "         0.97124601,  0.        ,  1.        ,  0.99038462,  0.        ,\n",
       "         0.86956522,  0.93129771,  0.        ,  0.        ,  0.        ,\n",
       "         0.        ,  0.        ,  0.96457766,  0.86197183,  0.80991736,\n",
       "         0.86335404,  0.87128713,  0.9506347 ,  0.96760711,  0.        ,\n",
       "         0.93489861,  0.        ,  0.88349515,  0.        ,  0.        ,\n",
       "         0.        ,  0.        ,  1.        ,  0.87419194,  0.97101449,\n",
       "         0.9070061 ,  0.93409742,  0.        ,  1.        ,  0.        ,\n",
       "         0.        ,  0.        ,  0.96529968,  0.9775475 ,  0.        ,\n",
       "         0.94716981,  0.95762712,  0.82222222,  0.        ,  0.        ,\n",
       "         0.        ,  0.96233165,  0.        ,  0.        ,  0.93641618,\n",
       "         0.97951583,  0.9373814 ,  0.96875   ,  0.        ,  0.95584989,\n",
       "         0.96710526,  0.98003328,  0.89824561,  1.        ,  0.95505618,\n",
       "         0.98419865,  0.95898938,  0.9386423 ,  0.        ,  0.        ,\n",
       "         0.        ,  0.        ,  0.86321155,  0.93710692,  0.96978852,\n",
       "         0.        ,  0.        ,  1.        ,  1.        ,  0.9       ,\n",
       "         1.        ,  0.96899225,  0.97398543,  0.        ,  0.95049505,\n",
       "         0.91665275,  0.        ,  0.95767196,  0.95454545,  0.        ,\n",
       "         0.        ,  0.        ,  0.99031812,  0.        ,  0.        ,\n",
       "         0.87463557,  0.        ,  0.85403727,  0.        ,  0.        ,\n",
       "         0.96178344,  0.85714286,  0.        ,  0.95542636,  0.9408181 ,\n",
       "         0.94366197,  0.86915888,  0.        ,  0.92791612,  0.        ,\n",
       "         0.78481013,  0.        ,  0.        ,  0.96      ,  0.96972973]),\n",
       " array([ 0.        ,  0.        ,  0.9799818 ,  0.71323529,  0.        ,\n",
       "         0.77210216,  0.79347826,  0.88718821,  0.        ,  0.        ,\n",
       "         0.        ,  0.8       ,  0.        ,  0.        ,  0.55163728,\n",
       "         0.        ,  0.4549763 ,  0.        ,  0.        ,  0.91962346,\n",
       "         0.8806335 ,  0.86084906,  0.90135287,  0.        ,  0.        ,\n",
       "         0.        ,  0.        ,  0.        ,  0.72519084,  0.9625    ,\n",
       "         0.62096774,  0.        ,  0.        ,  0.56129032,  0.93401568,\n",
       "         0.8       ,  0.80184332,  0.25510204,  0.86029412,  0.65261814,\n",
       "         0.        ,  0.82123894,  0.        ,  0.        ,  0.45748988,\n",
       "         0.        ,  0.        ,  0.82587065,  0.90549961,  0.        ,\n",
       "         0.        ,  0.        ,  0.        ,  0.        ,  0.        ,\n",
       "         0.        ,  0.        ,  0.92761117,  0.        ,  0.77989488,\n",
       "         0.20689655,  0.        ,  0.19117647,  0.43085106,  0.        ,\n",
       "         0.76617647,  0.        ,  0.06349206,  0.55844156,  0.        ,\n",
       "         0.46808511,  0.        ,  0.74414977,  0.96590909,  0.94235033,\n",
       "         0.90082971,  0.        ,  0.96864111,  0.78709677,  0.23076923,\n",
       "         0.92196532,  0.89564624,  0.        ,  0.63396443,  0.        ,\n",
       "         0.        ,  0.325     ,  0.81528662,  0.        ,  0.88648479,\n",
       "         0.87557152,  0.87514318,  0.        ,  0.67507886,  0.87871854,\n",
       "         0.81830151,  0.67158672,  0.        ,  0.74556213,  0.70689655,\n",
       "         0.81066667,  0.        ,  0.11627907,  0.90350877,  0.        ,\n",
       "         0.43478261,  0.99186992,  0.        ,  0.        ,  0.        ,\n",
       "         0.        ,  0.        ,  0.81341912,  0.86931818,  0.51041667,\n",
       "         0.71282051,  0.68217054,  0.93741307,  0.96963351,  0.        ,\n",
       "         0.7386172 ,  0.        ,  0.83486239,  0.        ,  0.        ,\n",
       "         0.        ,  0.        ,  0.84848485,  0.89102889,  0.47183099,\n",
       "         0.93676662,  0.89152233,  0.        ,  0.52439024,  0.        ,\n",
       "         0.        ,  0.        ,  0.91343284,  0.85240964,  0.        ,\n",
       "         0.80277186,  0.87937743,  0.53623188,  0.        ,  0.        ,\n",
       "         0.        ,  0.91827309,  0.        ,  0.        ,  0.64031621,\n",
       "         0.94265233,  0.69090909,  0.68382353,  0.        ,  0.86083499,\n",
       "         0.82957111,  0.77807133,  0.72112676,  0.62931034,  0.73913043,\n",
       "         0.93898062,  0.90217017,  0.82834101,  0.        ,  0.        ,\n",
       "         0.        ,  0.        ,  0.78881988,  0.79255319,  0.82731959,\n",
       "         0.        ,  0.        ,  0.15217391,  0.81818182,  0.62427746,\n",
       "         0.23214286,  0.66489362,  0.94832827,  0.        ,  0.5026178 ,\n",
       "         0.93763882,  0.        ,  0.89456343,  0.75      ,  0.        ,\n",
       "         0.        ,  0.        ,  0.95978552,  0.        ,  0.        ,\n",
       "         0.81329562,  0.        ,  0.71243523,  0.        ,  0.        ,\n",
       "         0.81621622,  0.37974684,  0.        ,  0.91635688,  0.90083333,\n",
       "         0.76353276,  0.80172414,  0.        ,  0.88610763,  0.        ,\n",
       "         0.41333333,  0.        ,  0.        ,  0.66666667,  0.96503497]),\n",
       " array([ 0.        ,  0.        ,  0.98042786,  0.79835391,  0.        ,\n",
       "         0.82045929,  0.86390533,  0.9260355 ,  0.        ,  0.        ,\n",
       "         0.        ,  0.85416667,  0.        ,  0.        ,  0.7008    ,\n",
       "         0.        ,  0.60567823,  0.        ,  0.        ,  0.93451067,\n",
       "         0.90230887,  0.87164179,  0.92588303,  0.        ,  0.        ,\n",
       "         0.        ,  0.        ,  0.        ,  0.83333333,  0.91666667,\n",
       "         0.76237624,  0.        ,  0.        ,  0.68503937,  0.91537723,\n",
       "         0.83916084,  0.85543094,  0.37313433,  0.88301887,  0.76669167,\n",
       "         0.        ,  0.88634193,  0.        ,  0.        ,  0.58549223,\n",
       "         0.        ,  0.        ,  0.89247312,  0.91794268,  0.        ,\n",
       "         0.        ,  0.        ,  0.        ,  0.        ,  0.        ,\n",
       "         0.        ,  0.        ,  0.93877551,  0.        ,  0.85150646,\n",
       "         0.31578947,  0.        ,  0.31707317,  0.58378378,  0.        ,\n",
       "         0.83605242,  0.        ,  0.11940299,  0.70491803,  0.        ,\n",
       "         0.63768116,  0.        ,  0.82740676,  0.92224231,  0.96045198,\n",
       "         0.91401082,  0.        ,  0.96876167,  0.8683274 ,  0.375     ,\n",
       "         0.94588584,  0.9315441 ,  0.        ,  0.75067935,  0.        ,\n",
       "         0.        ,  0.49056604,  0.88275862,  0.        ,  0.91964867,\n",
       "         0.91345826,  0.89988221,  0.        ,  0.74305556,  0.9286578 ,\n",
       "         0.88738176,  0.79302832,  0.        ,  0.81028939,  0.82      ,\n",
       "         0.88372093,  0.        ,  0.20833333,  0.94495413,  0.        ,\n",
       "         0.57971014,  0.96062992,  0.        ,  0.        ,  0.        ,\n",
       "         0.        ,  0.        ,  0.88257292,  0.86562942,  0.62619808,\n",
       "         0.78089888,  0.76521739,  0.94397759,  0.96861925,  0.        ,\n",
       "         0.82524729,  0.        ,  0.85849057,  0.        ,  0.        ,\n",
       "         0.        ,  0.        ,  0.91803279,  0.88253012,  0.63507109,\n",
       "         0.92164618,  0.91231343,  0.        ,  0.688     ,  0.        ,\n",
       "         0.        ,  0.        ,  0.93865031,  0.91069992,  0.        ,\n",
       "         0.86901327,  0.9168357 ,  0.64912281,  0.        ,  0.        ,\n",
       "         0.        ,  0.93978627,  0.        ,  0.        ,  0.76056338,\n",
       "         0.96073059,  0.79549114,  0.80172414,  0.        ,  0.90585774,\n",
       "         0.89307412,  0.86745214,  0.8       ,  0.77248677,  0.83333333,\n",
       "         0.96105805,  0.92971246,  0.88004896,  0.        ,  0.        ,\n",
       "         0.        ,  0.        ,  0.82434077,  0.85878963,  0.89290682,\n",
       "         0.        ,  0.        ,  0.26415094,  0.9       ,  0.73720137,\n",
       "         0.37681159,  0.78864353,  0.96098563,  0.        ,  0.65753425,\n",
       "         0.92702703,  0.        ,  0.92504259,  0.84      ,  0.        ,\n",
       "         0.        ,  0.        ,  0.9748128 ,  0.        ,  0.        ,\n",
       "         0.84285104,  0.        ,  0.77683616,  0.        ,  0.        ,\n",
       "         0.88304094,  0.52631579,  0.        ,  0.93548387,  0.92039166,\n",
       "         0.84409449,  0.83408072,  0.        ,  0.90653009,  0.        ,\n",
       "         0.54148472,  0.        ,  0.        ,  0.78688525,  0.96737665]),\n",
       " array([   7,   55, 1099,  136,   11,  509,   92, 1764,    6,   25,   12,\n",
       "         205,   25,   12,  397,    4,  211,   12,   10, 1381, 9408, 1696,\n",
       "        1774,    1,   34,   28,   17,   26,  131,   80,  124,   49,    2,\n",
       "         310, 4592,  225, 3472,  196,  136,  783,    5,  565,   24,   35,\n",
       "         247,   71,    4,  201, 1291,    9,   30,   74,    3,    4,   42,\n",
       "          16,    1,  967,   87, 1522,  116,   43,   68,  376,    9, 2040,\n",
       "           9,   63,  154,    5,   47,   46,  641,  264,  902, 2531,    2,\n",
       "        4018,  155,   78, 1384, 8797,    2, 1743,    7,   35,   40,  157,\n",
       "           9, 3189, 3062,  873,   55,  317,  874, 3038,  271,   17,  169,\n",
       "          58,  375,    6,   43,  114,   21,   46,  123,   48,    3,   18,\n",
       "          11,   43, 2176,  352,  192,  195,  129,  719,  955,   26, 1186,\n",
       "           5,  109,    9,   15,   26,    9,   33, 3946,  142, 4602, 1097,\n",
       "           6,   82,   19,   31,   32, 1005,  664,   24,  938,  514,   69,\n",
       "          34,   12,   16, 4980,    0,   11,  253, 1116,  715,  136,   32,\n",
       "         503,  886, 1514,  355,  116,  460, 1393, 2903,  868,   16,    2,\n",
       "          59,   15, 1288,  188, 1164,   32,    3,   46,   77,  173,   56,\n",
       "         188,  987,   56,  191, 5853,   54,  607,   56,   35,   20,   20,\n",
       "         746,   19,    9, 8484,   27,  386,    3,   71,  185,   79,    3,\n",
       "        1614, 1200,  351,  116,    6, 1598,    7,  150,   21,   30,   36,\n",
       "        1859]))"
      ]
     },
     "execution_count": 64,
     "metadata": {},
     "output_type": "execute_result"
    }
   ],
   "source": [
    "#average= None, the scores for each class are returned.\n",
    "precision_recall_fscore_support(y_train, y_pred, average=None, sample_weight=None)"
   ]
  },
  {
   "cell_type": "code",
   "execution_count": 69,
   "metadata": {},
   "outputs": [
    {
     "name": "stderr",
     "output_type": "stream",
     "text": [
      "/home/ubuntu/anaconda3/envs/tensorflow_p36/lib/python3.6/site-packages/sklearn/metrics/classification.py:1135: UndefinedMetricWarning: Precision and F-score are ill-defined and being set to 0.0 in labels with no predicted samples.\n",
      "  'precision', 'predicted', average, warn_for)\n",
      "/home/ubuntu/anaconda3/envs/tensorflow_p36/lib/python3.6/site-packages/sklearn/metrics/classification.py:1137: UndefinedMetricWarning: Recall and F-score are ill-defined and being set to 0.0 in labels with no true samples.\n",
      "  'recall', 'true', average, warn_for)\n"
     ]
    }
   ],
   "source": [
    "a = precision_recall_fscore_support(y_train, y_pred, average=None, sample_weight=None)"
   ]
  },
  {
   "cell_type": "code",
   "execution_count": 51,
   "metadata": {},
   "outputs": [
    {
     "data": {
      "text/html": [
       "<div>\n",
       "<style scoped>\n",
       "    .dataframe tbody tr th:only-of-type {\n",
       "        vertical-align: middle;\n",
       "    }\n",
       "\n",
       "    .dataframe tbody tr th {\n",
       "        vertical-align: top;\n",
       "    }\n",
       "\n",
       "    .dataframe thead th {\n",
       "        text-align: right;\n",
       "    }\n",
       "</style>\n",
       "<table border=\"1\" class=\"dataframe\">\n",
       "  <thead>\n",
       "    <tr style=\"text-align: right;\">\n",
       "      <th></th>\n",
       "      <th>0</th>\n",
       "      <th>1</th>\n",
       "      <th>2</th>\n",
       "      <th>3</th>\n",
       "      <th>4</th>\n",
       "      <th>5</th>\n",
       "      <th>6</th>\n",
       "      <th>7</th>\n",
       "      <th>8</th>\n",
       "      <th>9</th>\n",
       "      <th>...</th>\n",
       "      <th>200</th>\n",
       "      <th>201</th>\n",
       "      <th>202</th>\n",
       "      <th>203</th>\n",
       "      <th>204</th>\n",
       "      <th>205</th>\n",
       "      <th>206</th>\n",
       "      <th>207</th>\n",
       "      <th>208</th>\n",
       "      <th>209</th>\n",
       "    </tr>\n",
       "  </thead>\n",
       "  <tbody>\n",
       "    <tr>\n",
       "      <th>0</th>\n",
       "      <td>0.0</td>\n",
       "      <td>0.0</td>\n",
       "      <td>0.981785</td>\n",
       "      <td>0.789474</td>\n",
       "      <td>0.0</td>\n",
       "      <td>0.859116</td>\n",
       "      <td>1.000000</td>\n",
       "      <td>0.957782</td>\n",
       "      <td>0.0</td>\n",
       "      <td>0.0</td>\n",
       "      <td>...</td>\n",
       "      <td>0.817427</td>\n",
       "      <td>0.973684</td>\n",
       "      <td>0.0</td>\n",
       "      <td>0.862888</td>\n",
       "      <td>0.0</td>\n",
       "      <td>0.806452</td>\n",
       "      <td>0.0</td>\n",
       "      <td>0.0</td>\n",
       "      <td>0.0</td>\n",
       "      <td>0.962244</td>\n",
       "    </tr>\n",
       "    <tr>\n",
       "      <th>1</th>\n",
       "      <td>0.0</td>\n",
       "      <td>0.0</td>\n",
       "      <td>0.980892</td>\n",
       "      <td>0.551471</td>\n",
       "      <td>0.0</td>\n",
       "      <td>0.611002</td>\n",
       "      <td>0.076087</td>\n",
       "      <td>0.861678</td>\n",
       "      <td>0.0</td>\n",
       "      <td>0.0</td>\n",
       "      <td>...</td>\n",
       "      <td>0.561254</td>\n",
       "      <td>0.318966</td>\n",
       "      <td>0.0</td>\n",
       "      <td>0.886108</td>\n",
       "      <td>0.0</td>\n",
       "      <td>0.166667</td>\n",
       "      <td>0.0</td>\n",
       "      <td>0.0</td>\n",
       "      <td>0.0</td>\n",
       "      <td>0.959656</td>\n",
       "    </tr>\n",
       "    <tr>\n",
       "      <th>2</th>\n",
       "      <td>0.0</td>\n",
       "      <td>0.0</td>\n",
       "      <td>0.981338</td>\n",
       "      <td>0.649351</td>\n",
       "      <td>0.0</td>\n",
       "      <td>0.714122</td>\n",
       "      <td>0.141414</td>\n",
       "      <td>0.907192</td>\n",
       "      <td>0.0</td>\n",
       "      <td>0.0</td>\n",
       "      <td>...</td>\n",
       "      <td>0.665541</td>\n",
       "      <td>0.480519</td>\n",
       "      <td>0.0</td>\n",
       "      <td>0.874344</td>\n",
       "      <td>0.0</td>\n",
       "      <td>0.276243</td>\n",
       "      <td>0.0</td>\n",
       "      <td>0.0</td>\n",
       "      <td>0.0</td>\n",
       "      <td>0.960948</td>\n",
       "    </tr>\n",
       "    <tr>\n",
       "      <th>3</th>\n",
       "      <td>7.0</td>\n",
       "      <td>55.0</td>\n",
       "      <td>1099.000000</td>\n",
       "      <td>136.000000</td>\n",
       "      <td>11.0</td>\n",
       "      <td>509.000000</td>\n",
       "      <td>92.000000</td>\n",
       "      <td>1764.000000</td>\n",
       "      <td>6.0</td>\n",
       "      <td>25.0</td>\n",
       "      <td>...</td>\n",
       "      <td>351.000000</td>\n",
       "      <td>116.000000</td>\n",
       "      <td>6.0</td>\n",
       "      <td>1598.000000</td>\n",
       "      <td>7.0</td>\n",
       "      <td>150.000000</td>\n",
       "      <td>21.0</td>\n",
       "      <td>30.0</td>\n",
       "      <td>36.0</td>\n",
       "      <td>1859.000000</td>\n",
       "    </tr>\n",
       "  </tbody>\n",
       "</table>\n",
       "<p>4 rows × 210 columns</p>\n",
       "</div>"
      ],
      "text/plain": [
       "   0     1            2           3     4           5          6    \\\n",
       "0  0.0   0.0     0.981785    0.789474   0.0    0.859116   1.000000   \n",
       "1  0.0   0.0     0.980892    0.551471   0.0    0.611002   0.076087   \n",
       "2  0.0   0.0     0.981338    0.649351   0.0    0.714122   0.141414   \n",
       "3  7.0  55.0  1099.000000  136.000000  11.0  509.000000  92.000000   \n",
       "\n",
       "           7    8     9       ...              200         201  202  \\\n",
       "0     0.957782  0.0   0.0     ...         0.817427    0.973684  0.0   \n",
       "1     0.861678  0.0   0.0     ...         0.561254    0.318966  0.0   \n",
       "2     0.907192  0.0   0.0     ...         0.665541    0.480519  0.0   \n",
       "3  1764.000000  6.0  25.0     ...       351.000000  116.000000  6.0   \n",
       "\n",
       "           203  204         205   206   207   208          209  \n",
       "0     0.862888  0.0    0.806452   0.0   0.0   0.0     0.962244  \n",
       "1     0.886108  0.0    0.166667   0.0   0.0   0.0     0.959656  \n",
       "2     0.874344  0.0    0.276243   0.0   0.0   0.0     0.960948  \n",
       "3  1598.000000  7.0  150.000000  21.0  30.0  36.0  1859.000000  \n",
       "\n",
       "[4 rows x 210 columns]"
      ]
     },
     "execution_count": 51,
     "metadata": {},
     "output_type": "execute_result"
    }
   ],
   "source": [
    "pd.DataFrame(list(a))"
   ]
  },
  {
   "cell_type": "code",
   "execution_count": 71,
   "metadata": {},
   "outputs": [],
   "source": [
    "f1_byclass = pd.DataFrame((a)[2], columns=['f1'])\n"
   ]
  },
  {
   "cell_type": "code",
   "execution_count": 72,
   "metadata": {},
   "outputs": [],
   "source": [
    "support_byclass = pd.DataFrame((a)[3], columns=['support'])\n",
    "\n",
    "f1_byclass = pd.merge(\n",
    "    left=f1_byclass, \n",
    "    right=support_byclass, \n",
    "    left_index=True,\n",
    "    right_index=True,\n",
    "    how='outer', \n",
    "    validate='one_to_one'\n",
    ")\n",
    "\n",
    "f1_byclass['index_col'] = f1_byclass.index"
   ]
  },
  {
   "cell_type": "code",
   "execution_count": 73,
   "metadata": {},
   "outputs": [],
   "source": [
    "f1_byclass['level2taxon'] = f1_byclass['index_col'].map(labels_index).copy()"
   ]
  },
  {
   "cell_type": "code",
   "execution_count": 74,
   "metadata": {},
   "outputs": [
    {
     "name": "stdout",
     "output_type": "stream",
     "text": [
      "At p_threshold of 0.5, there were 121 out of 210 (57.61904761904761)% taxons with auto-tagged content in the training data\n"
     ]
    }
   ],
   "source": [
    "print(\"At p_threshold of {}, there were {} out of {} ({})% taxons with auto-tagged content in the training data\"\n",
    "      .format(P_THRESHOLD, \n",
    "              f1_byclass.loc[f1_byclass['f1'] > 0].shape[0], \n",
    "              y_pred.shape[1], \n",
    "              (f1_byclass.loc[f1_byclass['f1'] > 0].shape[0]/y_pred.shape[1])*100 ))"
   ]
  },
  {
   "cell_type": "code",
   "execution_count": 75,
   "metadata": {},
   "outputs": [],
   "source": [
    "no_auto_content = f1_byclass.loc[f1_byclass['f1'] == 0]\n",
    "no_auto_content = no_auto_content.set_index('level2taxon')"
   ]
  },
  {
   "cell_type": "code",
   "execution_count": 76,
   "metadata": {},
   "outputs": [
    {
     "data": {
      "text/plain": [
       "<matplotlib.axes._subplots.AxesSubplot at 0x7f5841f80358>"
      ]
     },
     "execution_count": 76,
     "metadata": {},
     "output_type": "execute_result"
    },
    {
     "data": {
      "image/png": "[encoded data removed]",
      "text/plain": [
       "<matplotlib.figure.Figure at 0x7f5842021dd8>"
      ]
     },
     "metadata": {},
     "output_type": "display_data"
    }
   ],
   "source": [
    "no_auto_content['support'].sort_values().plot( kind = 'barh', figsize=(20, 20))"
   ]
  },
  {
   "cell_type": "code",
   "execution_count": 77,
   "metadata": {},
   "outputs": [],
   "source": [
    "classes_predictedto = f1_byclass.loc[f1_byclass['f1'] > 0]\n",
    "classes_predictedto = classes_predictedto.set_index('level2taxon') "
   ]
  },
  {
   "cell_type": "code",
   "execution_count": 78,
   "metadata": {},
   "outputs": [
    {
     "data": {
      "text/plain": [
       "<matplotlib.axes._subplots.AxesSubplot at 0x7f5841fc3748>"
      ]
     },
     "execution_count": 78,
     "metadata": {},
     "output_type": "execute_result"
    },
    {
     "data": {
      "image/png": "[encoded data removed]",
      "text/plain": [
       "<matplotlib.figure.Figure at 0x7f5841e789b0>"
      ]
     },
     "metadata": {},
     "output_type": "display_data"
    }
   ],
   "source": [
    "classes_predictedto.plot.scatter(x='support', y='f1', figsize=(20, 10), xticks=np.arange(0, 9700, 100))"
   ]
  },
  {
   "cell_type": "code",
   "execution_count": 79,
   "metadata": {},
   "outputs": [
    {
     "data": {
      "text/plain": [
       "<matplotlib.axes._subplots.AxesSubplot at 0x7f5841c58e80>"
      ]
     },
     "execution_count": 79,
     "metadata": {},
     "output_type": "execute_result"
    },
    {
     "data": {
      "image/png": "[encoded data removed]",
      "text/plain": [
       "<matplotlib.figure.Figure at 0x7f5841c66208>"
      ]
     },
     "metadata": {},
     "output_type": "display_data"
    }
   ],
   "source": [
    "classes_predictedto['f1'].sort_values().plot( kind = 'barh', figsize=(20, 20))"
   ]
  },
  {
   "cell_type": "code",
   "execution_count": 80,
   "metadata": {},
   "outputs": [
    {
     "data": {
      "text/plain": [
       "(0.93487765464403771, 0.84694499353477104, 0.88874159274783116, None)"
      ]
     },
     "execution_count": 80,
     "metadata": {},
     "output_type": "execute_result"
    }
   ],
   "source": [
    "#Calculate globally by counting the total true positives, false negatives and false positives.\n",
    "precision_recall_fscore_support(y_train, y_pred, average='micro', sample_weight=None) "
   ]
  },
  {
   "cell_type": "code",
   "execution_count": 81,
   "metadata": {},
   "outputs": [
    {
     "name": "stderr",
     "output_type": "stream",
     "text": [
      "/home/ubuntu/anaconda3/envs/tensorflow_p36/lib/python3.6/site-packages/sklearn/metrics/classification.py:1135: UndefinedMetricWarning: Precision and F-score are ill-defined and being set to 0.0 in labels with no predicted samples.\n",
      "  'precision', 'predicted', average, warn_for)\n",
      "/home/ubuntu/anaconda3/envs/tensorflow_p36/lib/python3.6/site-packages/sklearn/metrics/classification.py:1137: UndefinedMetricWarning: Recall and F-score are ill-defined and being set to 0.0 in labels with no true samples.\n",
      "  'recall', 'true', average, warn_for)\n"
     ]
    },
    {
     "data": {
      "text/plain": [
       "(0.53771321114112047, 0.42506035156608685, 0.46326534898872568, None)"
      ]
     },
     "execution_count": 81,
     "metadata": {},
     "output_type": "execute_result"
    }
   ],
   "source": [
    "#Calculate metrics for each label, and find their unweighted mean. This does not take label imbalance into account\n",
    "precision_recall_fscore_support(y_train, y_pred, average='macro', sample_weight=None)"
   ]
  },
  {
   "cell_type": "markdown",
   "metadata": {},
   "source": [
    "#### Development set metrics"
   ]
  },
  {
   "cell_type": "code",
   "execution_count": 82,
   "metadata": {},
   "outputs": [],
   "source": [
    "y_pred_dev = model.predict([metax_dev, x_dev])"
   ]
  },
  {
   "cell_type": "code",
   "execution_count": 83,
   "metadata": {},
   "outputs": [],
   "source": [
    "y_pred_dev[y_pred_dev>=P_THRESHOLD] = 1\n",
    "y_pred_dev[y_pred_dev<P_THRESHOLD] = 0"
   ]
  },
  {
   "cell_type": "code",
   "execution_count": 84,
   "metadata": {},
   "outputs": [
    {
     "name": "stderr",
     "output_type": "stream",
     "text": [
      "/home/ubuntu/anaconda3/envs/tensorflow_p36/lib/python3.6/site-packages/sklearn/metrics/classification.py:1135: UndefinedMetricWarning: Precision and F-score are ill-defined and being set to 0.0 in labels with no predicted samples.\n",
      "  'precision', 'predicted', average, warn_for)\n",
      "/home/ubuntu/anaconda3/envs/tensorflow_p36/lib/python3.6/site-packages/sklearn/metrics/classification.py:1137: UndefinedMetricWarning: Recall and F-score are ill-defined and being set to 0.0 in labels with no true samples.\n",
      "  'recall', 'true', average, warn_for)\n"
     ]
    },
    {
     "data": {
      "text/plain": [
       "(array([ 0.        ,  0.        ,  0.89726027,  0.41176471,  0.        ,\n",
       "         0.60714286,  0.5       ,  0.86781609,  0.        ,  0.        ,\n",
       "         0.        ,  0.85714286,  0.        ,  0.        ,  0.55172414,\n",
       "         0.        ,  0.94444444,  0.        ,  0.        ,  0.875     ,\n",
       "         0.81950775,  0.70232558,  0.82926829,  0.        ,  0.        ,\n",
       "         0.        ,  0.        ,  0.        ,  1.        ,  0.9       ,\n",
       "         1.        ,  0.        ,  0.        ,  0.65517241,  0.79609929,\n",
       "         0.7       ,  0.69473684,  0.75      ,  0.66666667,  0.74324324,\n",
       "         0.        ,  0.67346939,  0.        ,  0.        ,  0.25      ,\n",
       "         0.        ,  0.        ,  0.86666667,  0.78      ,  0.        ,\n",
       "         0.        ,  0.        ,  0.        ,  0.        ,  0.        ,\n",
       "         0.        ,  0.        ,  0.84536082,  0.        ,  0.8       ,\n",
       "         0.5       ,  0.        ,  0.        ,  0.68181818,  0.        ,\n",
       "         0.75      ,  0.        ,  0.        ,  0.75      ,  0.        ,\n",
       "         1.        ,  0.        ,  0.73214286,  0.9047619 ,  0.92      ,\n",
       "         0.84194529,  0.        ,  0.83168317,  0.8       ,  0.        ,\n",
       "         0.88590604,  0.90080972,  0.        ,  0.79054054,  0.        ,\n",
       "         0.        ,  1.        ,  0.58333333,  0.        ,  0.84166667,\n",
       "         0.85185185,  0.84042553,  0.        ,  0.31034483,  0.7755102 ,\n",
       "         0.92332268,  0.55555556,  0.        ,  0.5       ,  1.        ,\n",
       "         0.85185185,  0.        ,  0.        ,  0.75      ,  0.        ,\n",
       "         0.        ,  0.9375    ,  0.        ,  0.        ,  0.        ,\n",
       "         0.        ,  0.        ,  0.83116883,  0.72727273,  0.6       ,\n",
       "         0.52941176,  1.        ,  0.90697674,  0.95867769,  0.        ,\n",
       "         0.82300885,  0.        ,  0.5       ,  0.        ,  0.        ,\n",
       "         0.        ,  0.        ,  0.        ,  0.82330827,  0.6       ,\n",
       "         0.80730897,  0.88235294,  0.        ,  0.66666667,  0.        ,\n",
       "         0.        ,  0.        ,  0.69747899,  0.94936709,  0.        ,\n",
       "         0.83695652,  0.82539683,  1.        ,  0.        ,  0.        ,\n",
       "         0.        ,  0.9048474 ,  0.        ,  0.        ,  0.59090909,\n",
       "         0.90647482,  0.78431373,  1.        ,  0.        ,  0.6875    ,\n",
       "         0.91111111,  0.86524823,  0.77142857,  1.        ,  0.8125    ,\n",
       "         0.89115646,  0.87662338,  0.84      ,  0.        ,  0.        ,\n",
       "         0.        ,  0.        ,  0.65789474,  0.875     ,  0.85321101,\n",
       "         0.        ,  0.        ,  0.        ,  1.        ,  0.85      ,\n",
       "         1.        ,  0.84210526,  0.86868687,  0.        ,  0.71428571,\n",
       "         0.71652422,  0.        ,  0.8       ,  1.        ,  0.        ,\n",
       "         0.        ,  0.        ,  0.97802198,  0.        ,  0.        ,\n",
       "         0.71693989,  0.        ,  0.54166667,  0.        ,  0.        ,\n",
       "         0.86363636,  0.        ,  0.        ,  0.92227979,  0.78472222,\n",
       "         0.66666667,  0.5       ,  0.        ,  0.8423913 ,  0.        ,\n",
       "         0.6       ,  0.        ,  0.        ,  1.        ,  0.92105263]),\n",
       " array([ 0.        ,  0.        ,  0.95620438,  0.24137931,  0.        ,\n",
       "         0.425     ,  0.1875    ,  0.67410714,  0.        ,  0.        ,\n",
       "         0.        ,  0.57142857,  0.        ,  0.        ,  0.37209302,\n",
       "         0.        ,  0.51515152,  0.        ,  0.        ,  0.76616915,\n",
       "         0.78652668,  0.70232558,  0.76233184,  0.        ,  0.        ,\n",
       "         0.        ,  0.        ,  0.        ,  0.33333333,  0.9       ,\n",
       "         0.40909091,  0.        ,  0.        ,  0.35185185,  0.83612663,\n",
       "         0.42424242,  0.60969977,  0.125     ,  0.57142857,  0.51401869,\n",
       "         0.        ,  0.47142857,  0.        ,  0.        ,  0.09756098,\n",
       "         0.        ,  0.        ,  0.61904762,  0.76470588,  0.        ,\n",
       "         0.        ,  0.        ,  0.        ,  0.        ,  0.        ,\n",
       "         0.        ,  0.        ,  0.80392157,  0.        ,  0.59574468,\n",
       "         0.14285714,  0.        ,  0.        ,  0.3       ,  0.        ,\n",
       "         0.53612167,  0.        ,  0.        ,  0.17647059,  0.        ,\n",
       "         0.375     ,  0.        ,  0.53246753,  0.80851064,  0.85185185,\n",
       "         0.82195846,  0.        ,  0.85539715,  0.47058824,  0.        ,\n",
       "         0.78106509,  0.8025248 ,  0.        ,  0.54929577,  0.        ,\n",
       "         0.        ,  0.16666667,  0.38888889,  0.        ,  0.78092784,\n",
       "         0.73796791,  0.71818182,  0.        ,  0.34615385,  0.72380952,\n",
       "         0.81408451,  0.26315789,  0.        ,  0.58333333,  0.6       ,\n",
       "         0.5       ,  0.        ,  0.        ,  0.8       ,  0.        ,\n",
       "         0.        ,  1.        ,  0.        ,  0.        ,  0.        ,\n",
       "         0.        ,  0.        ,  0.68571429,  0.59259259,  0.4       ,\n",
       "         0.31034483,  0.77777778,  0.74285714,  0.93548387,  0.        ,\n",
       "         0.66428571,  0.        ,  0.85714286,  0.        ,  0.        ,\n",
       "         0.        ,  0.        ,  0.        ,  0.80662983,  0.1875    ,\n",
       "         0.83361921,  0.85365854,  0.        ,  0.28571429,  0.        ,\n",
       "         0.        ,  0.        ,  0.68595041,  0.76530612,  0.        ,\n",
       "         0.63636364,  0.68421053,  0.66666667,  0.        ,  0.        ,\n",
       "         0.        ,  0.85423729,  0.        ,  0.        ,  0.39393939,\n",
       "         0.875     ,  0.46511628,  0.46153846,  0.        ,  0.64705882,\n",
       "         0.65079365,  0.63541667,  0.49090909,  0.375     ,  0.69642857,\n",
       "         0.86184211,  0.77586207,  0.76363636,  0.        ,  0.        ,\n",
       "         0.        ,  0.        ,  0.625     ,  0.63636364,  0.68382353,\n",
       "         0.        ,  0.        ,  0.        ,  0.8       ,  0.5862069 ,\n",
       "         0.25      ,  0.69565217,  0.77477477,  0.        ,  0.2173913 ,\n",
       "         0.80223285,  0.        ,  0.77108434,  0.5       ,  0.        ,\n",
       "         0.        ,  0.        ,  0.89      ,  0.        ,  0.        ,\n",
       "         0.63627546,  0.        ,  0.325     ,  0.        ,  0.        ,\n",
       "         0.65517241,  0.        ,  0.        ,  0.9035533 ,  0.75838926,\n",
       "         0.4       ,  0.33333333,  0.        ,  0.75980392,  0.        ,\n",
       "         0.15789474,  0.        ,  0.        ,  0.66666667,  0.92105263]),\n",
       " array([ 0.        ,  0.        ,  0.92579505,  0.30434783,  0.        ,\n",
       "         0.5       ,  0.27272727,  0.75879397,  0.        ,  0.        ,\n",
       "         0.        ,  0.68571429,  0.        ,  0.        ,  0.44444444,\n",
       "         0.        ,  0.66666667,  0.        ,  0.        ,  0.81697613,\n",
       "         0.80267857,  0.70232558,  0.79439252,  0.        ,  0.        ,\n",
       "         0.        ,  0.        ,  0.        ,  0.5       ,  0.9       ,\n",
       "         0.58064516,  0.        ,  0.        ,  0.45783133,  0.81562216,\n",
       "         0.52830189,  0.64944649,  0.21428571,  0.61538462,  0.60773481,\n",
       "         0.        ,  0.55462185,  0.        ,  0.        ,  0.14035088,\n",
       "         0.        ,  0.        ,  0.72222222,  0.77227723,  0.        ,\n",
       "         0.        ,  0.        ,  0.        ,  0.        ,  0.        ,\n",
       "         0.        ,  0.        ,  0.8241206 ,  0.        ,  0.68292683,\n",
       "         0.22222222,  0.        ,  0.        ,  0.41666667,  0.        ,\n",
       "         0.62527716,  0.        ,  0.        ,  0.28571429,  0.        ,\n",
       "         0.54545455,  0.        ,  0.61654135,  0.85393258,  0.88461538,\n",
       "         0.83183183,  0.        ,  0.84337349,  0.59259259,  0.        ,\n",
       "         0.83018868,  0.84883166,  0.        ,  0.64819945,  0.        ,\n",
       "         0.        ,  0.28571429,  0.46666667,  0.        ,  0.81016043,\n",
       "         0.79083095,  0.7745098 ,  0.        ,  0.32727273,  0.74876847,\n",
       "         0.86526946,  0.35714286,  0.        ,  0.53846154,  0.75      ,\n",
       "         0.63013699,  0.        ,  0.        ,  0.77419355,  0.        ,\n",
       "         0.        ,  0.96774194,  0.        ,  0.        ,  0.        ,\n",
       "         0.        ,  0.        ,  0.75146771,  0.65306122,  0.48      ,\n",
       "         0.39130435,  0.875     ,  0.81675393,  0.94693878,  0.        ,\n",
       "         0.73517787,  0.        ,  0.63157895,  0.        ,  0.        ,\n",
       "         0.        ,  0.        ,  0.        ,  0.81488372,  0.28571429,\n",
       "         0.82025316,  0.8677686 ,  0.        ,  0.4       ,  0.        ,\n",
       "         0.        ,  0.        ,  0.69166667,  0.84745763,  0.        ,\n",
       "         0.72300469,  0.74820144,  0.8       ,  0.        ,  0.        ,\n",
       "         0.        ,  0.8788143 ,  0.        ,  0.        ,  0.47272727,\n",
       "         0.89045936,  0.58394161,  0.63157895,  0.        ,  0.66666667,\n",
       "         0.75925926,  0.73273273,  0.6       ,  0.54545455,  0.75      ,\n",
       "         0.87625418,  0.82317073,  0.8       ,  0.        ,  0.        ,\n",
       "         0.        ,  0.        ,  0.64102564,  0.73684211,  0.75918367,\n",
       "         0.        ,  0.        ,  0.        ,  0.88888889,  0.69387755,\n",
       "         0.4       ,  0.76190476,  0.81904762,  0.        ,  0.33333333,\n",
       "         0.75696012,  0.        ,  0.78527607,  0.66666667,  0.        ,\n",
       "         0.        ,  0.        ,  0.93193717,  0.        ,  0.        ,\n",
       "         0.67420349,  0.        ,  0.40625   ,  0.        ,  0.        ,\n",
       "         0.74509804,  0.        ,  0.        ,  0.91282051,  0.77133106,\n",
       "         0.5       ,  0.4       ,  0.        ,  0.79896907,  0.        ,\n",
       "         0.25      ,  0.        ,  0.        ,  0.8       ,  0.92105263]),\n",
       " array([   3,    5,  137,   29,    2,   80,   16,  224,    0,    3,    1,\n",
       "          21,    2,    2,   43,    1,   33,    1,    1,  201, 1143,  215,\n",
       "         223,    0,    0,    1,    3,    4,   12,   10,   22,    2,    1,\n",
       "          54,  537,   33,  433,   24,   14,  107,    0,   70,    2,    5,\n",
       "          41,    8,    0,   21,  153,    0,    2,   12,    2,    0,    3,\n",
       "           2,    0,  102,   12,  188,   14,    4,    8,   50,    4,  263,\n",
       "           1,   11,   17,    1,    8,    5,   77,   47,  108,  337,    0,\n",
       "         491,   17,    6,  169, 1109,    1,  213,    1,    6,    6,   18,\n",
       "           1,  388,  374,  110,    6,   26,  105,  355,   19,    5,   12,\n",
       "           5,   46,    3,   12,   15,    0,    3,   15,    4,    1,    4,\n",
       "           1,    6,  280,   54,   30,   29,    9,  105,  124,    3,  140,\n",
       "           1,    7,    2,    3,    4,    2,    2,  543,   16,  583,  123,\n",
       "           1,    7,    2,    5,    4,  121,   98,    4,  121,   76,    3,\n",
       "           8,    2,    2,  590,    1,    2,   33,  144,   86,   13,    4,\n",
       "          68,  126,  192,   55,    8,   56,  152,  348,  110,    2,    0,\n",
       "           7,    1,  160,   22,  136,    5,    0,    8,   10,   29,    8,\n",
       "          23,  111,    6,   23,  627,    9,   83,    2,    5,    2,    2,\n",
       "         100,    4,    0, 1031,    3,   40,    0,   11,   29,    7,    3,\n",
       "         197,  149,   35,   15,    0,  204,    1,   19,    4,    4,    6,\n",
       "         228]))"
      ]
     },
     "execution_count": 84,
     "metadata": {},
     "output_type": "execute_result"
    }
   ],
   "source": [
    "#average= None, the scores for each class are returned.\n",
    "precision_recall_fscore_support(y_dev, y_pred_dev, average=None, sample_weight=None)"
   ]
  },
  {
   "cell_type": "code",
   "execution_count": 85,
   "metadata": {},
   "outputs": [
    {
     "data": {
      "text/plain": [
       "(0.8171065226309312, 0.71790713041388843, 0.76430147411505123, None)"
      ]
     },
     "execution_count": 85,
     "metadata": {},
     "output_type": "execute_result"
    }
   ],
   "source": [
    "#Calculate globally by counting the total true positives, false negatives and false positives.\n",
    "precision_recall_fscore_support(y_dev, y_pred_dev, average='micro', sample_weight=None) "
   ]
  },
  {
   "cell_type": "code",
   "execution_count": 86,
   "metadata": {},
   "outputs": [
    {
     "name": "stderr",
     "output_type": "stream",
     "text": [
      "/home/ubuntu/anaconda3/envs/tensorflow_p36/lib/python3.6/site-packages/sklearn/metrics/classification.py:1135: UndefinedMetricWarning: Precision and F-score are ill-defined and being set to 0.0 in labels with no predicted samples.\n",
      "  'precision', 'predicted', average, warn_for)\n",
      "/home/ubuntu/anaconda3/envs/tensorflow_p36/lib/python3.6/site-packages/sklearn/metrics/classification.py:1137: UndefinedMetricWarning: Recall and F-score are ill-defined and being set to 0.0 in labels with no true samples.\n",
      "  'recall', 'true', average, warn_for)\n"
     ]
    },
    {
     "data": {
      "text/plain": [
       "(0.42532539770254707, 0.32325222920965235, 0.35723288893531729, None)"
      ]
     },
     "execution_count": 86,
     "metadata": {},
     "output_type": "execute_result"
    }
   ],
   "source": [
    "#Calculate metrics for each label, and find their unweighted mean. This does not take label imbalance into account\n",
    "precision_recall_fscore_support(y_dev, y_pred_dev, average='macro', sample_weight=None)"
   ]
  },
  {
   "cell_type": "markdown",
   "metadata": {},
   "source": [
    "## Tag unlabelled content"
   ]
  },
  {
   "cell_type": "code",
   "execution_count": 68,
   "metadata": {},
   "outputs": [],
   "source": [
    "def get_predictions(new_texts, df, level1taxon=False):\n",
    "    #process data for model input\n",
    "    \n",
    "    new_sequences = tokenizer.texts_to_sequences(new_texts) #yield one sequence per input text\n",
    "\n",
    "    new_word_index = tokenizer.word_index\n",
    "    print('Found %s unique tokens.' % len(new_word_index))\n",
    "\n",
    "    x_new = pad_sequences(new_sequences, maxlen= MAX_SEQUENCE_LENGTH) #MAX_SEQUENCE_LENGTH\n",
    "    \n",
    "    print('Shape of untagged tensor:', x_new.shape)\n",
    "    \n",
    "    #predict tag for untagged data\n",
    "    y_pred_new = model.predict(x_new)\n",
    "    \n",
    "    #get model output into pandas & get a column to track index for later merge\n",
    "    y_pred_new = pd.DataFrame(y_pred_new)\n",
    "    y_pred_new['index_col'] = y_pred_new.index\n",
    "    \n",
    "    #Make long by taxon so easier to filter rows and examine effect of p_threshold\n",
    "    y_pred_new = pd.melt(y_pred_new, id_vars=['index_col'],\n",
    "                             var_name='level2taxon_code', value_name='probability')\n",
    "    \n",
    "    #get taxon names\n",
    "    y_pred_new['level2taxon'] = y_pred_new['level2taxon_code'].map(labels_index)\n",
    "    \n",
    "    if level1taxon==False:\n",
    "        #get the info about the content\n",
    "        new_info = df[[ 'base_path', 'content_id', 'title', 'description', \n",
    "                   'document_type', 'publishing_app', 'locale']]\n",
    "    else:\n",
    "        new_info = df[[ 'base_path', 'content_id', 'title', 'description', \n",
    "                   'document_type', 'publishing_app', 'locale', 'level1taxon']]\n",
    "    \n",
    "    \n",
    "    #merge content info with taxon prediction\n",
    "    pred_new = pd.merge(\n",
    "    left=new_info, \n",
    "    right=y_pred_new, \n",
    "    left_index=True,\n",
    "    right_on='index_col',\n",
    "    how='outer'\n",
    "    )\n",
    "    \n",
    "    #drop the cols needed for mergingin and naming\n",
    "    pred_new.drop(['index_col'], axis=1, inplace = True)\n",
    "    \n",
    "    #keep only rows where prob of taxon > 0.5\n",
    "    \n",
    "    \n",
    "    return pred_new #.loc[pred_new['probability'] > P_THRESHOLD] #only return rows/samples where probability is hihger than threshold\n",
    "    "
   ]
  },
  {
   "cell_type": "markdown",
   "metadata": {},
   "source": [
    "### Untagged"
   ]
  },
  {
   "cell_type": "code",
   "execution_count": 70,
   "metadata": {},
   "outputs": [],
   "source": [
    "#read in untagged content\n",
    "untagged_raw = pd.read_csv(os.path.join(DATADIR, 'untagged_content.csv.gz'), dtype=object, compression='gzip')"
   ]
  },
  {
   "cell_type": "code",
   "execution_count": 73,
   "metadata": {},
   "outputs": [
    {
     "data": {
      "text/html": [
       "<div>\n",
       "<style scoped>\n",
       "    .dataframe tbody tr th:only-of-type {\n",
       "        vertical-align: middle;\n",
       "    }\n",
       "\n",
       "    .dataframe tbody tr th {\n",
       "        vertical-align: top;\n",
       "    }\n",
       "\n",
       "    .dataframe thead th {\n",
       "        text-align: right;\n",
       "    }\n",
       "</style>\n",
       "<table border=\"1\" class=\"dataframe\">\n",
       "  <thead>\n",
       "    <tr style=\"text-align: right;\">\n",
       "      <th></th>\n",
       "      <th>first_published_at</th>\n",
       "      <th>base_path</th>\n",
       "      <th>content_id</th>\n",
       "      <th>description</th>\n",
       "      <th>details</th>\n",
       "      <th>document_type</th>\n",
       "      <th>first_published_at.1</th>\n",
       "      <th>locale</th>\n",
       "      <th>primary_publishing_organisation</th>\n",
       "      <th>publishing_app</th>\n",
       "      <th>taxons</th>\n",
       "      <th>title</th>\n",
       "      <th>document_type_gp</th>\n",
       "      <th>body</th>\n",
       "      <th>combined_text</th>\n",
       "    </tr>\n",
       "  </thead>\n",
       "  <tbody>\n",
       "    <tr>\n",
       "      <th>0</th>\n",
       "      <td>2016-08-02 14:48:42</td>\n",
       "      <td>/recruit-apprentice</td>\n",
       "      <td>61ad70a2-3210-4dbc-a103-4332b0e7b733</td>\n",
       "      <td>advertise apprenticeship vacancies and manage ...</td>\n",
       "      <td>{'transaction_start_link': 'https://www.recrui...</td>\n",
       "      <td>transaction</td>\n",
       "      <td>2016-08-02 14:48:42</td>\n",
       "      <td>en</td>\n",
       "      <td>NaN</td>\n",
       "      <td>publisher</td>\n",
       "      <td>NaN</td>\n",
       "      <td>recruit an apprentice</td>\n",
       "      <td>service</td>\n",
       "      <td></td>\n",
       "      <td>recruit an apprentice advertise apprenticeship...</td>\n",
       "    </tr>\n",
       "    <tr>\n",
       "      <th>1</th>\n",
       "      <td>2016-02-29 09:24:10</td>\n",
       "      <td>/simplified-expenses-checker</td>\n",
       "      <td>8ad76560-8a27-42ee-9a99-8aaa8f0109a5</td>\n",
       "      <td>find out if simplified expenses suits your bus...</td>\n",
       "      <td>{'transaction_start_link': '/simplified-expens...</td>\n",
       "      <td>transaction</td>\n",
       "      <td>2016-02-29 09:24:10</td>\n",
       "      <td>en</td>\n",
       "      <td>NaN</td>\n",
       "      <td>smartanswers</td>\n",
       "      <td>NaN</td>\n",
       "      <td>check if simplified expenses could save your b...</td>\n",
       "      <td>service</td>\n",
       "      <td></td>\n",
       "      <td>check if simplified expenses could save your b...</td>\n",
       "    </tr>\n",
       "    <tr>\n",
       "      <th>2</th>\n",
       "      <td>2016-04-04 09:45:48</td>\n",
       "      <td>/apply-for-bankruptcy</td>\n",
       "      <td>92ac7166-6cb3-426e-b72a-c8d12236abdf</td>\n",
       "      <td>how to apply for bankruptcy online: how much i...</td>\n",
       "      <td>{'transaction_start_link': 'https://apply-for-...</td>\n",
       "      <td>transaction</td>\n",
       "      <td>2016-04-04 09:45:48</td>\n",
       "      <td>en</td>\n",
       "      <td>NaN</td>\n",
       "      <td>publisher</td>\n",
       "      <td>NaN</td>\n",
       "      <td>apply for bankruptcy</td>\n",
       "      <td>service</td>\n",
       "      <td></td>\n",
       "      <td>apply for bankruptcy how to apply for bankrupt...</td>\n",
       "    </tr>\n",
       "    <tr>\n",
       "      <th>3</th>\n",
       "      <td>2017-05-08 08:00:00</td>\n",
       "      <td>/apply-funding-innovation</td>\n",
       "      <td>e750146a-77f2-421f-bae7-599c19f9b139</td>\n",
       "      <td>use this service to apply for government-backe...</td>\n",
       "      <td>{'transaction_start_link': 'https://apply-for-...</td>\n",
       "      <td>transaction</td>\n",
       "      <td>2017-05-08 08:00:00</td>\n",
       "      <td>en</td>\n",
       "      <td>NaN</td>\n",
       "      <td>publisher</td>\n",
       "      <td>NaN</td>\n",
       "      <td>apply for innovation funding</td>\n",
       "      <td>service</td>\n",
       "      <td></td>\n",
       "      <td>apply for innovation funding use this service ...</td>\n",
       "    </tr>\n",
       "    <tr>\n",
       "      <th>4</th>\n",
       "      <td>2016-06-14 09:00:01</td>\n",
       "      <td>/check-house-price-trends</td>\n",
       "      <td>76e82c22-cfff-4875-9e27-e8c6d70f8928</td>\n",
       "      <td>find out property price trends in the uk from ...</td>\n",
       "      <td>{'transaction_start_link': 'http://landregistr...</td>\n",
       "      <td>transaction</td>\n",
       "      <td>2016-06-14 09:00:01</td>\n",
       "      <td>en</td>\n",
       "      <td>NaN</td>\n",
       "      <td>publisher</td>\n",
       "      <td>NaN</td>\n",
       "      <td>check uk property price trends</td>\n",
       "      <td>service</td>\n",
       "      <td></td>\n",
       "      <td>check uk property price trends find out proper...</td>\n",
       "    </tr>\n",
       "  </tbody>\n",
       "</table>\n",
       "</div>"
      ],
      "text/plain": [
       "    first_published_at                     base_path  \\\n",
       "0  2016-08-02 14:48:42           /recruit-apprentice   \n",
       "1  2016-02-29 09:24:10  /simplified-expenses-checker   \n",
       "2  2016-04-04 09:45:48         /apply-for-bankruptcy   \n",
       "3  2017-05-08 08:00:00     /apply-funding-innovation   \n",
       "4  2016-06-14 09:00:01     /check-house-price-trends   \n",
       "\n",
       "                             content_id  \\\n",
       "0  61ad70a2-3210-4dbc-a103-4332b0e7b733   \n",
       "1  8ad76560-8a27-42ee-9a99-8aaa8f0109a5   \n",
       "2  92ac7166-6cb3-426e-b72a-c8d12236abdf   \n",
       "3  e750146a-77f2-421f-bae7-599c19f9b139   \n",
       "4  76e82c22-cfff-4875-9e27-e8c6d70f8928   \n",
       "\n",
       "                                         description  \\\n",
       "0  advertise apprenticeship vacancies and manage ...   \n",
       "1  find out if simplified expenses suits your bus...   \n",
       "2  how to apply for bankruptcy online: how much i...   \n",
       "3  use this service to apply for government-backe...   \n",
       "4  find out property price trends in the uk from ...   \n",
       "\n",
       "                                             details document_type  \\\n",
       "0  {'transaction_start_link': 'https://www.recrui...   transaction   \n",
       "1  {'transaction_start_link': '/simplified-expens...   transaction   \n",
       "2  {'transaction_start_link': 'https://apply-for-...   transaction   \n",
       "3  {'transaction_start_link': 'https://apply-for-...   transaction   \n",
       "4  {'transaction_start_link': 'http://landregistr...   transaction   \n",
       "\n",
       "  first_published_at.1 locale primary_publishing_organisation publishing_app  \\\n",
       "0  2016-08-02 14:48:42     en                             NaN      publisher   \n",
       "1  2016-02-29 09:24:10     en                             NaN   smartanswers   \n",
       "2  2016-04-04 09:45:48     en                             NaN      publisher   \n",
       "3  2017-05-08 08:00:00     en                             NaN      publisher   \n",
       "4  2016-06-14 09:00:01     en                             NaN      publisher   \n",
       "\n",
       "  taxons                                              title document_type_gp  \\\n",
       "0    NaN                              recruit an apprentice          service   \n",
       "1    NaN  check if simplified expenses could save your b...          service   \n",
       "2    NaN                               apply for bankruptcy          service   \n",
       "3    NaN                       apply for innovation funding          service   \n",
       "4    NaN                     check uk property price trends          service   \n",
       "\n",
       "  body                                      combined_text  \n",
       "0       recruit an apprentice advertise apprenticeship...  \n",
       "1       check if simplified expenses could save your b...  \n",
       "2       apply for bankruptcy how to apply for bankrupt...  \n",
       "3       apply for innovation funding use this service ...  \n",
       "4       check uk property price trends find out proper...  "
      ]
     },
     "execution_count": 73,
     "metadata": {},
     "output_type": "execute_result"
    }
   ],
   "source": [
    "untagged_raw.head()"
   ]
  },
  {
   "cell_type": "code",
   "execution_count": 74,
   "metadata": {},
   "outputs": [],
   "source": [
    "new_texts = untagged_raw['combined_text']"
   ]
  },
  {
   "cell_type": "code",
   "execution_count": 75,
   "metadata": {},
   "outputs": [
    {
     "name": "stdout",
     "output_type": "stream",
     "text": [
      "Found 213132 unique tokens.\n",
      "Shape of untagged tensor: (57337, 1000)\n"
     ]
    },
    {
     "ename": "ValueError",
     "evalue": "The model expects 2  arrays, but only received one array. Found: array with shape (57337, 1000)",
     "output_type": "error",
     "traceback": [
      "\u001b[0;31m---------------------------------------------------------------------------\u001b[0m",
      "\u001b[0;31mValueError\u001b[0m                                Traceback (most recent call last)",
      "\u001b[0;32m<ipython-input-75-37387497f331>\u001b[0m in \u001b[0;36m<module>\u001b[0;34m()\u001b[0m\n\u001b[0;32m----> 1\u001b[0;31m \u001b[0mpred_untagged\u001b[0m \u001b[0;34m=\u001b[0m \u001b[0mget_predictions\u001b[0m\u001b[0;34m(\u001b[0m\u001b[0mnew_texts\u001b[0m\u001b[0;34m,\u001b[0m \u001b[0muntagged_raw\u001b[0m\u001b[0;34m)\u001b[0m\u001b[0;34m\u001b[0m\u001b[0m\n\u001b[0m",
      "\u001b[0;32m<ipython-input-68-ad6223c25cf9>\u001b[0m in \u001b[0;36mget_predictions\u001b[0;34m(new_texts, df, level1taxon)\u001b[0m\n\u001b[1;32m     12\u001b[0m \u001b[0;34m\u001b[0m\u001b[0m\n\u001b[1;32m     13\u001b[0m     \u001b[0;31m#predict tag for untagged data\u001b[0m\u001b[0;34m\u001b[0m\u001b[0;34m\u001b[0m\u001b[0m\n\u001b[0;32m---> 14\u001b[0;31m     \u001b[0my_pred_new\u001b[0m \u001b[0;34m=\u001b[0m \u001b[0mmodel\u001b[0m\u001b[0;34m.\u001b[0m\u001b[0mpredict\u001b[0m\u001b[0;34m(\u001b[0m\u001b[0mx_new\u001b[0m\u001b[0;34m)\u001b[0m\u001b[0;34m\u001b[0m\u001b[0m\n\u001b[0m\u001b[1;32m     15\u001b[0m \u001b[0;34m\u001b[0m\u001b[0m\n\u001b[1;32m     16\u001b[0m     \u001b[0;31m#get model output into pandas & get a column to track index for later merge\u001b[0m\u001b[0;34m\u001b[0m\u001b[0;34m\u001b[0m\u001b[0m\n",
      "\u001b[0;32m~/anaconda3/envs/tensorflow_p36/lib/python3.6/site-packages/keras/engine/training.py\u001b[0m in \u001b[0;36mpredict\u001b[0;34m(self, x, batch_size, verbose, steps)\u001b[0m\n\u001b[1;32m   1745\u001b[0m         x = _standardize_input_data(x, self._feed_input_names,\n\u001b[1;32m   1746\u001b[0m                                     \u001b[0mself\u001b[0m\u001b[0;34m.\u001b[0m\u001b[0m_feed_input_shapes\u001b[0m\u001b[0;34m,\u001b[0m\u001b[0;34m\u001b[0m\u001b[0m\n\u001b[0;32m-> 1747\u001b[0;31m                                     check_batch_axis=False)\n\u001b[0m\u001b[1;32m   1748\u001b[0m         \u001b[0;32mif\u001b[0m \u001b[0mself\u001b[0m\u001b[0;34m.\u001b[0m\u001b[0mstateful\u001b[0m\u001b[0;34m:\u001b[0m\u001b[0;34m\u001b[0m\u001b[0m\n\u001b[1;32m   1749\u001b[0m             \u001b[0;32mif\u001b[0m \u001b[0mx\u001b[0m\u001b[0;34m[\u001b[0m\u001b[0;36m0\u001b[0m\u001b[0;34m]\u001b[0m\u001b[0;34m.\u001b[0m\u001b[0mshape\u001b[0m\u001b[0;34m[\u001b[0m\u001b[0;36m0\u001b[0m\u001b[0;34m]\u001b[0m \u001b[0;34m>\u001b[0m \u001b[0mbatch_size\u001b[0m \u001b[0;32mand\u001b[0m \u001b[0mx\u001b[0m\u001b[0;34m[\u001b[0m\u001b[0;36m0\u001b[0m\u001b[0;34m]\u001b[0m\u001b[0;34m.\u001b[0m\u001b[0mshape\u001b[0m\u001b[0;34m[\u001b[0m\u001b[0;36m0\u001b[0m\u001b[0;34m]\u001b[0m \u001b[0;34m%\u001b[0m \u001b[0mbatch_size\u001b[0m \u001b[0;34m!=\u001b[0m \u001b[0;36m0\u001b[0m\u001b[0;34m:\u001b[0m\u001b[0;34m\u001b[0m\u001b[0m\n",
      "\u001b[0;32m~/anaconda3/envs/tensorflow_p36/lib/python3.6/site-packages/keras/engine/training.py\u001b[0m in \u001b[0;36m_standardize_input_data\u001b[0;34m(data, names, shapes, check_batch_axis, exception_prefix)\u001b[0m\n\u001b[1;32m    118\u001b[0m                              \u001b[0mexception_prefix\u001b[0m \u001b[0;34m+\u001b[0m\u001b[0;34m\u001b[0m\u001b[0m\n\u001b[1;32m    119\u001b[0m                              \u001b[0;34m' arrays, but only received one array. '\u001b[0m\u001b[0;34m\u001b[0m\u001b[0m\n\u001b[0;32m--> 120\u001b[0;31m                              'Found: array with shape ' + str(data.shape))\n\u001b[0m\u001b[1;32m    121\u001b[0m         \u001b[0marrays\u001b[0m \u001b[0;34m=\u001b[0m \u001b[0;34m[\u001b[0m\u001b[0mdata\u001b[0m\u001b[0;34m]\u001b[0m\u001b[0;34m\u001b[0m\u001b[0m\n\u001b[1;32m    122\u001b[0m \u001b[0;34m\u001b[0m\u001b[0m\n",
      "\u001b[0;31mValueError\u001b[0m: The model expects 2  arrays, but only received one array. Found: array with shape (57337, 1000)"
     ]
    }
   ],
   "source": [
    "pred_untagged = get_predictions(new_texts, untagged_raw)"
   ]
  },
  {
   "cell_type": "code",
   "execution_count": null,
   "metadata": {},
   "outputs": [],
   "source": [
    "#data is long by taxon\n",
    "print('Number of unique content items: {}'.format(pred_untagged.content_id.nunique()))\n",
    "print('Number of content items tagged to taxons with more than p_threshold: {}'.format(pred_untagged.shape))"
   ]
  },
  {
   "cell_type": "code",
   "execution_count": null,
   "metadata": {},
   "outputs": [],
   "source": [
    "pred_untagged.loc[(pred_untagged['probability'] > 0.65) & (pred_untagged['probability'] < 0.85)].sort_values(by='probability', ascending=False)"
   ]
  },
  {
   "cell_type": "code",
   "execution_count": null,
   "metadata": {},
   "outputs": [],
   "source": [
    "#write to csv\n",
    "pred_untagged.to_csv(os.path.join(DATADIR, 'predictions_for_untagged_data_trainingdatatok.csv'), index=False)"
   ]
  },
  {
   "cell_type": "code",
   "execution_count": null,
   "metadata": {},
   "outputs": [],
   "source": [
    "# apply tokenizer to our text data\n",
    "tokenizer.fit_on_texts(new_texts)\n",
    "\n",
    "pred_untagged_refit_tok = get_predictions(new_texts, untagged_raw)\n"
   ]
  },
  {
   "cell_type": "code",
   "execution_count": null,
   "metadata": {},
   "outputs": [],
   "source": [
    "#write to csv\n",
    "pred_untagged_refit_tok.to_csv(os.path.join(DATADIR, 'predictions_for_untagged_data_refittok.csv'), index=False)"
   ]
  },
  {
   "cell_type": "markdown",
   "metadata": {},
   "source": [
    "### New data (untagged + old taxons)"
   ]
  },
  {
   "cell_type": "markdown",
   "metadata": {},
   "source": [
    "old_taxons data has no combined text. This needs fixing in the data pipeline before being able to use these data for predictions"
   ]
  },
  {
   "cell_type": "code",
   "execution_count": null,
   "metadata": {},
   "outputs": [],
   "source": [
    "#read in untagged content\n",
    "new_raw = pd.read_csv(os.path.join(DATADIR, 'new_content.csv'), dtype=object)"
   ]
  },
  {
   "cell_type": "code",
   "execution_count": null,
   "metadata": {},
   "outputs": [],
   "source": [
    "new_raw.shape"
   ]
  },
  {
   "cell_type": "code",
   "execution_count": null,
   "metadata": {},
   "outputs": [],
   "source": [
    "type(new_raw['combined_text'][0])"
   ]
  },
  {
   "cell_type": "code",
   "execution_count": null,
   "metadata": {},
   "outputs": [],
   "source": [
    "len(new_raw[new_raw['combined_text'].isna()])"
   ]
  },
  {
   "cell_type": "code",
   "execution_count": null,
   "metadata": {},
   "outputs": [],
   "source": [
    "(new_raw.loc[(new_raw['combined_text'].isna()) & (new_raw['untagged_type'] != 'untagged')]).shape"
   ]
  },
  {
   "cell_type": "code",
   "execution_count": null,
   "metadata": {},
   "outputs": [],
   "source": [
    "#make a copy so you can edit data without needed to read in each time\n",
    "new_df = new_raw.copy(deep=True)"
   ]
  },
  {
   "cell_type": "code",
   "execution_count": null,
   "metadata": {},
   "outputs": [],
   "source": [
    "pred_new = get_predictions(new_df )"
   ]
  },
  {
   "cell_type": "code",
   "execution_count": null,
   "metadata": {},
   "outputs": [],
   "source": [
    "#keep only rows where prob of taxon > 0.5\n",
    "pred_new = pred_new.loc[pred_new['probability'] > 0.5]"
   ]
  },
  {
   "cell_type": "code",
   "execution_count": null,
   "metadata": {},
   "outputs": [],
   "source": [
    "#write to csv\n",
    "pred_new.to_csv(os.path.join(DATADIR, 'predictions_for_new_data.csv'), index=False)"
   ]
  },
  {
   "cell_type": "markdown",
   "metadata": {},
   "source": [
    "### Labelled at level1only"
   ]
  },
  {
   "cell_type": "code",
   "execution_count": null,
   "metadata": {},
   "outputs": [],
   "source": [
    "labelled_level1 = pd.read_csv(os.path.join(DATADIR, 'labelled_level1.csv'), dtype=object)"
   ]
  },
  {
   "cell_type": "code",
   "execution_count": null,
   "metadata": {},
   "outputs": [],
   "source": [
    "level1_texts = labelled_level1['combined_text']"
   ]
  },
  {
   "cell_type": "code",
   "execution_count": null,
   "metadata": {},
   "outputs": [],
   "source": [
    "#reset tokenizer to training data texts\n",
    "tokenizer.fit_on_texts(texts)"
   ]
  },
  {
   "cell_type": "code",
   "execution_count": null,
   "metadata": {},
   "outputs": [],
   "source": [
    "pred_labelled_level1 = get_predictions(level1_texts, labelled_level1, level1taxon=True)"
   ]
  },
  {
   "cell_type": "code",
   "execution_count": null,
   "metadata": {},
   "outputs": [],
   "source": [
    "pred_labelled_level1.sort_values(by='probability', ascending=False)"
   ]
  },
  {
   "cell_type": "code",
   "execution_count": null,
   "metadata": {},
   "outputs": [],
   "source": [
    "#write to csv\n",
    "pred_labelled_level1.to_csv(os.path.join(DATADIR, 'predictions_for_level1only.csv'), index=False)"
   ]
  },
  {
   "cell_type": "code",
   "execution_count": null,
   "metadata": {},
   "outputs": [],
   "source": [
    "from IPython.display import SVG\n",
    "from keras.utils.vis_utils import model_to_dot\n",
    "\n",
    "SVG(model_to_dot(model).create(prog='dot', format='svg'))"
   ]
  },
  {
   "cell_type": "code",
   "execution_count": null,
   "metadata": {},
   "outputs": [],
   "source": [
    "from keras.utils import plot_model\n",
    "plot_model(model, to_file='cnn.png', show_shapes=True)"
   ]
  },
  {
   "cell_type": "code",
   "execution_count": null,
   "metadata": {},
   "outputs": [],
   "source": []
  }
 ],
 "metadata": {
  "keep_output": true,
  "kernelspec": {
   "display_name": "Environment (conda_tensorflow_p36)",
   "language": "python",
   "name": "conda_tensorflow_p36"
  },
  "language_info": {
   "codemirror_mode": {
    "name": "ipython",
    "version": 3
   },
   "file_extension": ".py",
   "mimetype": "text/x-python",
   "name": "python",
   "nbconvert_exporter": "python",
   "pygments_lexer": "ipython3",
   "version": "3.6.3"
  }
 },
 "nbformat": 4,
 "nbformat_minor": 2
}
