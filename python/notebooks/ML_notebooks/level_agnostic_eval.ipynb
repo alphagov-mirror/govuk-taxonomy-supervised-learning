{
 "cells": [
  {
   "cell_type": "code",
   "execution_count": null,
   "metadata": {},
   "outputs": [],
   "source": [
    "import pandas as pd\n",
    "import os\n",
    "import numpy as np"
   ]
  },
  {
   "cell_type": "code",
   "execution_count": null,
   "metadata": {},
   "outputs": [],
   "source": [
    "from tokenizing import *"
   ]
  },
  {
   "cell_type": "code",
   "execution_count": null,
   "metadata": {},
   "outputs": [],
   "source": [
    "import altair as alt"
   ]
  },
  {
   "cell_type": "code",
   "execution_count": null,
   "metadata": {},
   "outputs": [],
   "source": [
    "DATADIR = os.getenv('DATADIR')"
   ]
  },
  {
   "cell_type": "code",
   "execution_count": null,
   "metadata": {},
   "outputs": [],
   "source": [
    "# tok = load_tokenizer_from_file(os.path.join(DATADIR, 'combined_text_tokenizer.json'))"
   ]
  },
  {
   "cell_type": "code",
   "execution_count": null,
   "metadata": {},
   "outputs": [],
   "source": [
    "# tok.word_index"
   ]
  },
  {
   "cell_type": "code",
   "execution_count": null,
   "metadata": {},
   "outputs": [],
   "source": [
    "# import csv\n",
    "\n",
    "\n",
    "# with open(os.path.join(DATADIR, 'combined_text_word_index.csv'),'w') as f:\n",
    "#     w = csv.writer(f, delimiter='\\t')\n",
    "#     w.writerow([\"Word\", \"Frequency\"])\n",
    "#     w.writerows(tok.word_index.items())"
   ]
  },
  {
   "cell_type": "code",
   "execution_count": null,
   "metadata": {},
   "outputs": [],
   "source": [
    "metrics = pd.read_csv(os.path.join(DATADIR, 'level_agnostic.h5plotting_metrics.csv'))"
   ]
  },
  {
   "cell_type": "code",
   "execution_count": null,
   "metadata": {},
   "outputs": [],
   "source": [
    "metrics.shape"
   ]
  },
  {
   "cell_type": "code",
   "execution_count": null,
   "metadata": {},
   "outputs": [],
   "source": [
    "labelled = pd.read_csv(\n",
    "        os.path.join(DATADIR, 'labelled.csv.gz'),\n",
    "        dtype=object,\n",
    "        compression='gzip'\n",
    "         )"
   ]
  },
  {
   "cell_type": "code",
   "execution_count": null,
   "metadata": {},
   "outputs": [],
   "source": [
    "labelled.groupby('taxon_id').size().sort_values(ascending=False).plot(kind='hist', figsize=(10,5))"
   ]
  },
  {
   "cell_type": "code",
   "execution_count": null,
   "metadata": {},
   "outputs": [],
   "source": [
    "metrics_level = pd.merge(metrics, labelled, how='left', on='taxon_id')"
   ]
  },
  {
   "cell_type": "code",
   "execution_count": null,
   "metadata": {},
   "outputs": [],
   "source": [
    "metrics_level.shape"
   ]
  },
  {
   "cell_type": "code",
   "execution_count": null,
   "metadata": {},
   "outputs": [],
   "source": [
    "metrics_level.columns"
   ]
  },
  {
   "cell_type": "code",
   "execution_count": null,
   "metadata": {},
   "outputs": [],
   "source": [
    "metrics_level.head()"
   ]
  },
  {
   "cell_type": "code",
   "execution_count": null,
   "metadata": {},
   "outputs": [],
   "source": [
    "metrics_level = metrics_level.assign(level=np.where(metrics_level.level5taxon.notnull(), 5, 0))\n",
    "metrics_level.loc[metrics_level['level4taxon'].notnull() & metrics_level['level5taxon'].isnull(), 'level'] = 4\n",
    "metrics_level.loc[metrics_level['level3taxon'].notnull() & metrics_level['level4taxon'].isnull(), 'level'] = 3 \n",
    "metrics_level.loc[metrics_level['level2taxon'].notnull() & metrics_level['level3taxon'].isnull(), 'level'] = 2 \n",
    "metrics_level.loc[metrics_level['level1taxon'].notnull() & metrics_level['level2taxon'].isnull(), 'level'] = 1 "
   ]
  },
  {
   "cell_type": "code",
   "execution_count": null,
   "metadata": {},
   "outputs": [],
   "source": [
    "metrics_level_dupes = metrics_level.copy()"
   ]
  },
  {
   "cell_type": "code",
   "execution_count": null,
   "metadata": {},
   "outputs": [],
   "source": [
    "#content items per taxon\n",
    "metrics_level_dupes.groupby('taxon_id').size().describe()"
   ]
  },
  {
   "cell_type": "code",
   "execution_count": null,
   "metadata": {},
   "outputs": [],
   "source": [
    "#taxons per content item\n",
    "metrics_level_dupes.groupby('content_id').size().describe()"
   ]
  },
  {
   "cell_type": "code",
   "execution_count": null,
   "metadata": {},
   "outputs": [],
   "source": [
    "# metrics_level_url = os.path.join(DATADIR, 'metrics_level.json')\n",
    "# metrics_level.to_json(metrics_level_url, orient='records')"
   ]
  },
  {
   "cell_type": "code",
   "execution_count": null,
   "metadata": {},
   "outputs": [],
   "source": [
    "import matplotlib.pyplot as plt\n",
    "%matplotlib inline\n",
    "\n",
    "metrics_level_dupes.groupby('level').size().plot(kind='bar', figsize=(10,5))"
   ]
  },
  {
   "cell_type": "code",
   "execution_count": null,
   "metadata": {},
   "outputs": [],
   "source": [
    "# alt.data_transformers.enable('default', max_rows=None)\n",
    "# alt.Chart(metrics_level_dupes).mark_bar().encode(\n",
    "# alt.X('level:O'),\n",
    "# y='count()',\n",
    "# )"
   ]
  },
  {
   "cell_type": "code",
   "execution_count": null,
   "metadata": {},
   "outputs": [],
   "source": [
    "metrics_level.drop_duplicates(subset=['taxon_label'], inplace=True)"
   ]
  },
  {
   "cell_type": "code",
   "execution_count": null,
   "metadata": {},
   "outputs": [],
   "source": [
    "metrics_level.shape"
   ]
  },
  {
   "cell_type": "code",
   "execution_count": null,
   "metadata": {},
   "outputs": [],
   "source": [
    "metrics_level[metrics_level['dev_support']>=5].shape"
   ]
  },
  {
   "cell_type": "code",
   "execution_count": null,
   "metadata": {},
   "outputs": [],
   "source": [
    "metrics_level[metrics_level['dev_support']==0].shape"
   ]
  },
  {
   "cell_type": "code",
   "execution_count": null,
   "metadata": {},
   "outputs": [],
   "source": [
    "2139/14849"
   ]
  },
  {
   "cell_type": "code",
   "execution_count": null,
   "metadata": {},
   "outputs": [],
   "source": [
    "chart = alt.Chart(metrics_level[metrics_level['dev_support']>0]).mark_bar().encode(\n",
    "alt.X('dev_support:Q', bin=alt.BinParams(maxbins=100)),\n",
    "y='count()',\n",
    ").interactive()\n",
    "\n",
    "# chart.serve()"
   ]
  },
  {
   "cell_type": "code",
   "execution_count": null,
   "metadata": {},
   "outputs": [],
   "source": [
    "alt.Chart(metrics_level[(metrics_level['dev_support']>0)]).mark_area(opacity=0.3, interpolate='step').encode(\n",
    "alt.X('dev_f1:Q', bin=alt.BinParams(maxbins=20)),\n",
    "alt.Y('count()', stack=None),\n",
    "alt.Color('level:O', scale=alt.Scale(scheme=\"accent\"))\n",
    "\n",
    ")\n"
   ]
  },
  {
   "cell_type": "code",
   "execution_count": null,
   "metadata": {},
   "outputs": [],
   "source": [
    "hist =  alt.Chart(metrics_level[(metrics_level['dev_support']>0) & (metrics_level['dev_f1']>0)]).mark_area(opacity=0.8, interpolate='step').encode(\n",
    "                    alt.X('dev_f1:Q', bin=alt.BinParams(maxbins=100)),\n",
    "                    alt.Y('count()', stack=None),\n",
    "                    alt.Color('level:O', scale=alt.Scale(scheme=\"accent\")),\n",
    "                    alt.Row('level:O')\n",
    "\n",
    ")\n",
    "hist"
   ]
  },
  {
   "cell_type": "code",
   "execution_count": null,
   "metadata": {},
   "outputs": [],
   "source": [
    "# hist.save('level_agnostic_histograms.html')"
   ]
  },
  {
   "cell_type": "code",
   "execution_count": null,
   "metadata": {},
   "outputs": [],
   "source": [
    "alt.Chart(metrics_level[metrics_level['level']==2]).mark_point().encode(\n",
    "    x='dev_support',\n",
    "    y='dev_f1',\n",
    "    tooltip=['taxon_name:N', 'taxon_base_path:N', 'level:N'], \n",
    "    color='level:N'\n",
    ")"
   ]
  },
  {
   "cell_type": "code",
   "execution_count": null,
   "metadata": {},
   "outputs": [],
   "source": [
    "alt.Chart(metrics_level[metrics_level['level']==3]).mark_point().encode(\n",
    "    x='dev_support',\n",
    "    y='dev_f1',\n",
    "    tooltip=['taxon_name:N', 'taxon_base_path:N', 'level:N'], \n",
    "    color='level:N'\n",
    ")"
   ]
  },
  {
   "cell_type": "code",
   "execution_count": null,
   "metadata": {},
   "outputs": [],
   "source": [
    "metrics_level[metrics_level['taxon_name']=='Air accidents and serious incidents']"
   ]
  },
  {
   "cell_type": "code",
   "execution_count": null,
   "metadata": {},
   "outputs": [],
   "source": [
    "alt.Chart(metrics_level[metrics_level['level']==4]).mark_point().encode(\n",
    "    x='dev_support',\n",
    "    y='dev_f1',\n",
    "    tooltip=['taxon_name:N', 'taxon_base_path:N', 'level:N'], \n",
    "    color='level:N'\n",
    ")"
   ]
  },
  {
   "cell_type": "code",
   "execution_count": null,
   "metadata": {},
   "outputs": [],
   "source": [
    "alt.Chart(metrics_level[metrics_level['level']==5]).mark_point().encode(\n",
    "    x='dev_support',\n",
    "    y='dev_f1',\n",
    "    tooltip=['taxon_name:N', 'taxon_base_path:N', 'level:N', 'dev_f1'], \n",
    "    color='level:N'\n",
    ")"
   ]
  },
  {
   "cell_type": "code",
   "execution_count": null,
   "metadata": {},
   "outputs": [],
   "source": [
    "chart = alt.Chart(metrics_level[metrics_level['dev_support']>0]).mark_point().encode(\n",
    "    alt.X('dev_support', title='Number of content items in dev set')\n",
    "    alt.Y('dev_f1', title='Performance '\n",
    "    tooltip=['taxon_name:N', 'taxon_base_path:N', 'level:N', 'dev_support:Q', 'dev_f1:Q'], \n",
    "    color='level:N'\n",
    ").properties(\n",
    "title='Level agnostic model, all levels shown, data=10/7/18')\n",
    "chart.save('level_agnostic_results.html')"
   ]
  },
  {
   "cell_type": "code",
   "execution_count": null,
   "metadata": {},
   "outputs": [],
   "source": [
    "chart = alt.Chart(metrics_level[metrics_level['level']>2]).mark_point().encode(\n",
    "    x='dev_support',\n",
    "    y='dev_f1',\n",
    "    tooltip=['taxon_name:N', 'taxon_base_path:N', 'level:N'], \n",
    "    color='level:N'\n",
    ").properties(\n",
    "title='Level agnostic model, only deeper levels shown, data=10/7/18')\n",
    "chart.save('level_agnostic_results_deeper.html')"
   ]
  },
  {
   "cell_type": "code",
   "execution_count": null,
   "metadata": {
    "slideshow": {
     "slide_type": "fragment"
    }
   },
   "outputs": [],
   "source": [
    "alt.Chart(metrics_level[(metrics_level['dev_f1']>=0.7) & (metrics_level['dev_support']>5)]).mark_bar().encode(\n",
    "    x=alt.X('taxon_base_path:N', sort=alt.EncodingSortField(field='level', op='median', order='ascending')),\n",
    "y='dev_f1:Q', \n",
    "color='level:O'\n",
    ")"
   ]
  },
  {
   "cell_type": "code",
   "execution_count": null,
   "metadata": {},
   "outputs": [],
   "source": [
    "metrics_level[metrics_level['dev_f1']>=0.8].shape"
   ]
  },
  {
   "cell_type": "code",
   "execution_count": null,
   "metadata": {},
   "outputs": [],
   "source": [
    "metrics_level[metrics_level['dev_f1']>=0.7].shape"
   ]
  },
  {
   "cell_type": "code",
   "execution_count": null,
   "metadata": {},
   "outputs": [],
   "source": [
    "metrics_level[metrics_level['dev_f1']>=0.7].shape"
   ]
  },
  {
   "cell_type": "code",
   "execution_count": null,
   "metadata": {},
   "outputs": [],
   "source": [
    "alt.Chart(metrics_level[metrics_level['dev_support']>=5]).mark_bar().encode(\n",
    "x='level5taxon',\n",
    "y='dev_support')"
   ]
  },
  {
   "cell_type": "code",
   "execution_count": null,
   "metadata": {},
   "outputs": [],
   "source": [
    "alt.Chart(metrics_level[metrics_level['dev_support']>=5]).mark_bar().encode(\n",
    "x='level4taxon',\n",
    "y='dev_f1')"
   ]
  },
  {
   "cell_type": "code",
   "execution_count": null,
   "metadata": {},
   "outputs": [],
   "source": [
    "alt.Chart(metrics_level[metrics_level['dev_support']>=5]).mark_bar().encode(\n",
    "x='level5taxon',\n",
    "y='dev_f1')"
   ]
  },
  {
   "cell_type": "code",
   "execution_count": null,
   "metadata": {},
   "outputs": [],
   "source": [
    "import json"
   ]
  },
  {
   "cell_type": "code",
   "execution_count": null,
   "metadata": {},
   "outputs": [],
   "source": [
    "taxon_codes = pd.Series(np.load(os.path.join(DATADIR, 'levelagnostic_taxon_codes.npy')))\n",
    "\n",
    "with open(os.path.join(DATADIR, \"agnostictaxon_labels_index.json\"), 'r') as f:\n",
    "    labels_index = json.load(f, object_hook=lambda d: {int(k): [int(i) for i in v] if isinstance(v, list) else v for k, v in d.items()})"
   ]
  },
  {
   "cell_type": "code",
   "execution_count": null,
   "metadata": {},
   "outputs": [],
   "source": [
    "len(taxon_codes)"
   ]
  },
  {
   "cell_type": "code",
   "execution_count": null,
   "metadata": {},
   "outputs": [],
   "source": [
    "len(labels_index)"
   ]
  },
  {
   "cell_type": "code",
   "execution_count": null,
   "metadata": {},
   "outputs": [],
   "source": [
    "dev = np.load(os.path.join(DATADIR, 'level_agnostic_dev_arrays.npz'))"
   ]
  },
  {
   "cell_type": "code",
   "execution_count": null,
   "metadata": {},
   "outputs": [],
   "source": [
    "train = np.load(os.path.join(DATADIR, 'level_agnostic_train_arrays.npz'))"
   ]
  },
  {
   "cell_type": "code",
   "execution_count": null,
   "metadata": {},
   "outputs": [],
   "source": [
    "train.files"
   ]
  },
  {
   "cell_type": "code",
   "execution_count": null,
   "metadata": {},
   "outputs": [],
   "source": [
    "y = train['y'].any().todense()"
   ]
  },
  {
   "cell_type": "code",
   "execution_count": null,
   "metadata": {},
   "outputs": [],
   "source": [
    "y.shape"
   ]
  },
  {
   "cell_type": "code",
   "execution_count": null,
   "metadata": {},
   "outputs": [],
   "source": [
    "pd.DataFrame(np.sum(y, axis=0)) # frequency of taxon in training data"
   ]
  },
  {
   "cell_type": "code",
   "execution_count": null,
   "metadata": {},
   "outputs": [],
   "source": [
    "!ls /data/2018-07-10"
   ]
  },
  {
   "cell_type": "code",
   "execution_count": null,
   "metadata": {},
   "outputs": [],
   "source": [
    "train_results = pd.read_csv(\n",
    "        os.path.join(DATADIR, 'train_results.csv.gz'),\n",
    "        dtype=object,\n",
    "        compression='gzip'\n",
    "         )"
   ]
  },
  {
   "cell_type": "code",
   "execution_count": null,
   "metadata": {},
   "outputs": [],
   "source": [
    "y_pred = train_results.copy()\n",
    "y_pred[y_pred >= 0.5] = 1\n",
    "y_pred[y_pred < 0.5] = 0"
   ]
  },
  {
   "cell_type": "code",
   "execution_count": null,
   "metadata": {},
   "outputs": [],
   "source": [
    "true_train = pd.read_csv(\n",
    "        os.path.join(DATADIR, 'true_train.csv.gz'),\n",
    "        dtype=object,\n",
    "        compression='gzip'\n",
    "         )"
   ]
  },
  {
   "cell_type": "code",
   "execution_count": null,
   "metadata": {},
   "outputs": [],
   "source": [
    "true_train.shape"
   ]
  },
  {
   "cell_type": "code",
   "execution_count": null,
   "metadata": {},
   "outputs": [],
   "source": [
    "dev_results = pd.read_csv(\n",
    "        os.path.join(DATADIR, 'dev_results.csv.gz'),\n",
    "        dtype=object,\n",
    "        compression='gzip'\n",
    "         )"
   ]
  },
  {
   "cell_type": "code",
   "execution_count": null,
   "metadata": {},
   "outputs": [],
   "source": [
    "true_dev = pd.read_csv(\n",
    "        os.path.join(DATADIR, 'true_dev.csv.gz'),\n",
    "        dtype=object,\n",
    "        compression='gzip'\n",
    "         )"
   ]
  },
  {
   "cell_type": "code",
   "execution_count": null,
   "metadata": {},
   "outputs": [],
   "source": [
    "y_pred_dev = train_results.copy()\n",
    "y_pred_dev[y_pred_dev >= 0.5] = 1\n",
    "y_pred_dev[y_pred_dev < 0.5] = 0"
   ]
  },
  {
   "cell_type": "code",
   "execution_count": null,
   "metadata": {},
   "outputs": [],
   "source": [
    "def create_df_from_array(npz_array,val):\n",
    "    df = pd.DataFrame()\n",
    "    df[val] = npz_array[val]\n",
    "    return df"
   ]
  },
  {
   "cell_type": "code",
   "execution_count": null,
   "metadata": {},
   "outputs": [],
   "source": [
    "df_prob = create_df_from_array(train,'content_id')\n",
    "df_prob = pd.concat([df_prob, y_train], axis=1, join='inner')"
   ]
  },
  {
   "cell_type": "code",
   "execution_count": null,
   "metadata": {},
   "outputs": [],
   "source": [
    "from sklearn.metrics import confusion_matrix, f1_score, precision_score, recall_score \n",
    "from sklearn.metrics import precision_recall_fscore_support, classification_report"
   ]
  },
  {
   "cell_type": "code",
   "execution_count": null,
   "metadata": {},
   "outputs": [],
   "source": []
  }
 ],
 "metadata": {
  "kernelspec": {
   "display_name": "Python 3",
   "language": "python",
   "name": "python3"
  },
  "language_info": {
   "codemirror_mode": {
    "name": "ipython",
    "version": 3
   },
   "file_extension": ".py",
   "mimetype": "text/x-python",
   "name": "python",
   "nbconvert_exporter": "python",
   "pygments_lexer": "ipython3",
   "version": "3.6.3"
  }
 },
 "nbformat": 4,
 "nbformat_minor": 2
}
