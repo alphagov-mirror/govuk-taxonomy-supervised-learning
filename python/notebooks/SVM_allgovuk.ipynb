{
 "cells": [
  {
   "cell_type": "markdown",
   "metadata": {},
   "source": [
    "## Convolutional NN to classify all govuk content to level2 taxons"
   ]
  },
  {
   "cell_type": "markdown",
   "metadata": {},
   "source": [
    "Based on:\n",
    "https://blog.keras.io/using-pre-trained-word-embeddings-in-a-keras-model.html"
   ]
  },
  {
   "cell_type": "markdown",
   "metadata": {},
   "source": [
    "### Load requirements and data"
   ]
  },
  {
   "cell_type": "code",
   "execution_count": 5,
   "metadata": {},
   "outputs": [],
   "source": [
    "import pandas as pd\n",
    "import numpy as np\n",
    "import os\n",
    "from datetime import datetime\n",
    "from sklearn.model_selection import train_test_split\n",
    "from sklearn.feature_extraction.text import CountVectorizer\n",
    "from sklearn.feature_extraction.text import TfidfTransformer\n",
    "from sklearn.naive_bayes import MultinomialNB\n",
    "from sklearn import metrics\n",
    "from sklearn.pipeline import Pipeline\n",
    "from sklearn.externals import joblib\n",
    "from sklearn.linear_model import SGDClassifier\n",
    "from sklearn.preprocessing import LabelEncoder"
   ]
  },
  {
   "cell_type": "code",
   "execution_count": 6,
   "metadata": {},
   "outputs": [
    {
     "name": "stdout",
     "output_type": "stream",
     "text": [
      "/Users/matthewupson/.pyenv/shims/python3\r\n"
     ]
    }
   ],
   "source": [
    "!which python3"
   ]
  },
  {
   "cell_type": "code",
   "execution_count": 7,
   "metadata": {},
   "outputs": [
    {
     "name": "stdout",
     "output_type": "stream",
     "text": [
      "CPU times: user 1min 5s, sys: 8.83 s, total: 1min 14s\n",
      "Wall time: 1min 59s\n"
     ]
    }
   ],
   "source": [
    "%time content = pd.read_csv('../../data/clean_content.csv.gz', compression='gzip')"
   ]
  },
  {
   "cell_type": "code",
   "execution_count": 8,
   "metadata": {},
   "outputs": [
    {
     "name": "stdout",
     "output_type": "stream",
     "text": [
      "CPU times: user 30.7 ms, sys: 7.09 ms, total: 37.8 ms\n",
      "Wall time: 46 ms\n"
     ]
    }
   ],
   "source": [
    "%time taxons = pd.read_csv('../../data/clean_taxons.csv')"
   ]
  },
  {
   "cell_type": "markdown",
   "metadata": {},
   "source": [
    "##  ------------- This data prep step should move to clean_content.py -------------\n",
    "\n",
    "Remove taxons that are legacy (Imported), World, Corporate information."
   ]
  },
  {
   "cell_type": "code",
   "execution_count": 9,
   "metadata": {},
   "outputs": [
    {
     "name": "stdout",
     "output_type": "stream",
     "text": [
      "Taxons shape after deleting imported top taxons: (4530, 7)\n",
      "Taxons shape after deleting 'World' top taxons: (2028, 7)\n",
      "Taxons shape after deleting 'corporate information' top taxons: (2027, 7)\n",
      "Taxons shape after converting nans to Nones: (2027, 7)\n"
     ]
    }
   ],
   "source": [
    "taxons = taxons[['base_path','content_id','taxon_name','level1taxon','level2taxon','level3taxon','level4taxon']]\n",
    "\n",
    "taxons['level1taxon'] = taxons['level1taxon'].astype('str')\n",
    "\n",
    "# Drop taxons that start with Imported (i.e. legacy taxons at the top level)\n",
    "\n",
    "taxons = taxons[~taxons['level1taxon'].str.startswith(\"Imported\")]\n",
    "taxons = taxons[~taxons['taxon_name'].str.startswith(\"Imported\")]\n",
    "\n",
    "print(\"Taxons shape after deleting imported top taxons: {}\".format(taxons.shape))\n",
    "\n",
    "taxons = taxons[taxons.level1taxon != 'World']\n",
    "taxons = taxons[taxons.taxon_name != 'World']\n",
    "\n",
    "print(\"Taxons shape after deleting 'World' top taxons: {}\".format(taxons.shape))\n",
    "\n",
    "taxons = taxons[taxons.level1taxon != 'Corporate information']\n",
    "taxons = taxons[taxons.taxon_name != 'Corporate information']\n",
    "print(\"Taxons shape after deleting 'corporate information' top taxons: {}\".format(taxons.shape))\n",
    "\n",
    "# Convert nans to None\n",
    "\n",
    "taxons['level1taxon'] = taxons['level1taxon'].where(taxons['level1taxon'] != 'nan', None)\n",
    "taxons['level2taxon'] = taxons['level2taxon'].where(~taxons['level2taxon'].isnull(), None)\n",
    "\n",
    "print(\"Taxons shape after converting nans to Nones: {}\".format(taxons.shape))"
   ]
  },
  {
   "cell_type": "markdown",
   "metadata": {},
   "source": [
    "Combine the taxons with the content "
   ]
  },
  {
   "cell_type": "code",
   "execution_count": 11,
   "metadata": {},
   "outputs": [
    {
     "name": "stdout",
     "output_type": "stream",
     "text": [
      "CPU times: user 1.44 s, sys: 379 ms, total: 1.82 s\n",
      "Wall time: 3.18 s\n"
     ]
    },
    {
     "data": {
      "text/plain": [
       "(335720, 23)"
      ]
     },
     "execution_count": 11,
     "metadata": {},
     "output_type": "execute_result"
    }
   ],
   "source": [
    "%time content_taxons = pd.merge(left=content, right=taxons, left_on='taxon_id', right_on='content_id', how='outer', indicator=True)\n",
    "\n",
    "assert content_taxons.shape == (335720, 23)\n",
    "content_taxons.shape"
   ]
  },
  {
   "cell_type": "markdown",
   "metadata": {},
   "source": [
    "##  --------------------------------------------------"
   ]
  },
  {
   "cell_type": "code",
   "execution_count": 12,
   "metadata": {},
   "outputs": [
    {
     "name": "stdout",
     "output_type": "stream",
     "text": [
      "This leaves us with 68967 pre-classified rows.\n"
     ]
    }
   ],
   "source": [
    "content_taxons.dropna(subset = ['level2taxon'], inplace=True)\n",
    "print('This leaves us with {} pre-classified rows.'.format(content_taxons.shape[0]))"
   ]
  },
  {
   "cell_type": "markdown",
   "metadata": {},
   "source": [
    "There are likely to be lots of content items that have more than one tag. Check here and remove for now:\n",
    "\n",
    "__TODO: devise a way to deal with multiple tags applied to each content item.__"
   ]
  },
  {
   "cell_type": "code",
   "execution_count": 13,
   "metadata": {},
   "outputs": [
    {
     "data": {
      "text/html": [
       "<div>\n",
       "<style scoped>\n",
       "    .dataframe tbody tr th:only-of-type {\n",
       "        vertical-align: middle;\n",
       "    }\n",
       "\n",
       "    .dataframe tbody tr th {\n",
       "        vertical-align: top;\n",
       "    }\n",
       "\n",
       "    .dataframe thead th {\n",
       "        text-align: right;\n",
       "    }\n",
       "</style>\n",
       "<table border=\"1\" class=\"dataframe\">\n",
       "  <thead>\n",
       "    <tr style=\"text-align: right;\">\n",
       "      <th></th>\n",
       "      <th>dupes</th>\n",
       "      <th>count</th>\n",
       "    </tr>\n",
       "  </thead>\n",
       "  <tbody>\n",
       "    <tr>\n",
       "      <th>0</th>\n",
       "      <td>1</td>\n",
       "      <td>43212</td>\n",
       "    </tr>\n",
       "    <tr>\n",
       "      <th>1</th>\n",
       "      <td>2</td>\n",
       "      <td>8871</td>\n",
       "    </tr>\n",
       "    <tr>\n",
       "      <th>2</th>\n",
       "      <td>3</td>\n",
       "      <td>1614</td>\n",
       "    </tr>\n",
       "    <tr>\n",
       "      <th>3</th>\n",
       "      <td>4</td>\n",
       "      <td>447</td>\n",
       "    </tr>\n",
       "    <tr>\n",
       "      <th>4</th>\n",
       "      <td>5</td>\n",
       "      <td>79</td>\n",
       "    </tr>\n",
       "    <tr>\n",
       "      <th>5</th>\n",
       "      <td>6</td>\n",
       "      <td>43</td>\n",
       "    </tr>\n",
       "    <tr>\n",
       "      <th>6</th>\n",
       "      <td>7</td>\n",
       "      <td>8</td>\n",
       "    </tr>\n",
       "    <tr>\n",
       "      <th>7</th>\n",
       "      <td>8</td>\n",
       "      <td>10</td>\n",
       "    </tr>\n",
       "    <tr>\n",
       "      <th>8</th>\n",
       "      <td>9</td>\n",
       "      <td>2</td>\n",
       "    </tr>\n",
       "    <tr>\n",
       "      <th>9</th>\n",
       "      <td>10</td>\n",
       "      <td>5</td>\n",
       "    </tr>\n",
       "    <tr>\n",
       "      <th>10</th>\n",
       "      <td>11</td>\n",
       "      <td>33</td>\n",
       "    </tr>\n",
       "    <tr>\n",
       "      <th>11</th>\n",
       "      <td>12</td>\n",
       "      <td>1</td>\n",
       "    </tr>\n",
       "    <tr>\n",
       "      <th>12</th>\n",
       "      <td>13</td>\n",
       "      <td>2</td>\n",
       "    </tr>\n",
       "    <tr>\n",
       "      <th>13</th>\n",
       "      <td>14</td>\n",
       "      <td>1</td>\n",
       "    </tr>\n",
       "    <tr>\n",
       "      <th>14</th>\n",
       "      <td>15</td>\n",
       "      <td>1</td>\n",
       "    </tr>\n",
       "    <tr>\n",
       "      <th>15</th>\n",
       "      <td>16</td>\n",
       "      <td>1</td>\n",
       "    </tr>\n",
       "  </tbody>\n",
       "</table>\n",
       "</div>"
      ],
      "text/plain": [
       "    dupes  count\n",
       "0       1  43212\n",
       "1       2   8871\n",
       "2       3   1614\n",
       "3       4    447\n",
       "4       5     79\n",
       "5       6     43\n",
       "6       7      8\n",
       "7       8     10\n",
       "8       9      2\n",
       "9      10      5\n",
       "10     11     33\n",
       "11     12      1\n",
       "12     13      2\n",
       "13     14      1\n",
       "14     15      1\n",
       "15     16      1"
      ]
     },
     "execution_count": 13,
     "metadata": {},
     "output_type": "execute_result"
    }
   ],
   "source": [
    "# Identify where duplicates exist on content_id and count\n",
    "\n",
    "dupes = content_taxons['content_id_x'].value_counts().to_frame('dupes')\n",
    "dupes = dupes.groupby('dupes').size().to_frame('count')\n",
    "\n",
    "# Add index as a column\n",
    "\n",
    "dupes.reset_index(level=0, inplace=True)\n",
    "dupes\n"
   ]
  },
  {
   "cell_type": "code",
   "execution_count": 14,
   "metadata": {},
   "outputs": [
    {
     "name": "stdout",
     "output_type": "stream",
     "text": [
      "Stripping multiply applied tags to one will leave a total of 54330 tagged content items to train on\n"
     ]
    }
   ],
   "source": [
    "multiple_tags = sum(dupes.loc[dupes['dupes'] > 1, 'count'])\n",
    "single_tags = sum(dupes.loc[dupes['dupes'] == 1, 'count'])\n",
    "\n",
    "print('Stripping multiply applied tags to one will '\n",
    "      'leave a total of {} tagged content items to train on'\n",
    "      .format(multiple_tags + single_tags))"
   ]
  },
  {
   "cell_type": "code",
   "execution_count": 15,
   "metadata": {},
   "outputs": [
    {
     "name": "stdout",
     "output_type": "stream",
     "text": [
      "Before deduplication that are (68967, 23) items.\n",
      "After deduplication that are (54331, 23) items.\n"
     ]
    }
   ],
   "source": [
    "print('Before deduplication that are {} items.'.format(content_taxons.shape))\n",
    "      \n",
    "content_taxons.drop_duplicates(subset = ['content_id_x'], inplace=True)\n",
    "      \n",
    "print('After deduplication that are {} items.'.format(content_taxons.shape))\n"
   ]
  },
  {
   "cell_type": "code",
   "execution_count": 20,
   "metadata": {},
   "outputs": [],
   "source": [
    "content_taxons['level2taxoncat'] = content_taxons['level2taxon'].astype('category')"
   ]
  },
  {
   "cell_type": "markdown",
   "metadata": {},
   "source": [
    "format our text samples and labels into tensors that can be fed into a neural network. To do this, we will rely on Keras utilities keras.preprocessing.text.Tokenizer and keras.preprocessing.sequence.pad_sequences."
   ]
  },
  {
   "cell_type": "code",
   "execution_count": 35,
   "metadata": {},
   "outputs": [],
   "source": [
    "content_taxons.drop(335627, axis=0, inplace=True)"
   ]
  },
  {
   "cell_type": "code",
   "execution_count": 36,
   "metadata": {},
   "outputs": [],
   "source": [
    "X_train, X_test, y_train, y_test = train_test_split(\n",
    "    content_taxons['combined_text'], content_taxons['level2taxoncat'], test_size = 0.33, random_state=1337)"
   ]
  },
  {
   "cell_type": "code",
   "execution_count": 37,
   "metadata": {},
   "outputs": [],
   "source": [
    "\"\"\" Support Vector Machine (SVM) classifier\"\"\"\n",
    "svm_clf = Pipeline([('vect', CountVectorizer()),\n",
    "                    ('tfidf', TfidfTransformer()),\n",
    "                    ('clf', SGDClassifier(loss='hinge', penalty='l2', alpha=1e-3, max_iter = 5, random_state=42)),\n",
    "])"
   ]
  },
  {
   "cell_type": "code",
   "execution_count": 39,
   "metadata": {},
   "outputs": [
    {
     "data": {
      "text/plain": [
       "Pipeline(memory=None,\n",
       "     steps=[('vect', CountVectorizer(analyzer='word', binary=False, decode_error='strict',\n",
       "        dtype=<class 'numpy.int64'>, encoding='utf-8', input='content',\n",
       "        lowercase=True, max_df=1.0, max_features=None, min_df=1,\n",
       "        ngram_range=(1, 1), preprocessor=None, stop_words=None,\n",
       "        strip...ty='l2', power_t=0.5, random_state=42, shuffle=True,\n",
       "       tol=None, verbose=0, warm_start=False))])"
      ]
     },
     "execution_count": 39,
     "metadata": {},
     "output_type": "execute_result"
    }
   ],
   "source": [
    "svm_clf.fit(X_train, y_train)"
   ]
  },
  {
   "cell_type": "code",
   "execution_count": 40,
   "metadata": {},
   "outputs": [
    {
     "data": {
      "text/plain": [
       "['svm_transport_toptaxons.pkl']"
      ]
     },
     "execution_count": 40,
     "metadata": {},
     "output_type": "execute_result"
    }
   ],
   "source": [
    "#joblib.dump(svm_clf, \"svm_allgovuk.pkl\", compress=9)"
   ]
  },
  {
   "cell_type": "code",
   "execution_count": 42,
   "metadata": {},
   "outputs": [
    {
     "name": "stdout",
     "output_type": "stream",
     "text": [
      "SVM correct prediction: 0.78\n",
      "                                                                        precision    recall  f1-score   support\n",
      "\n",
      "                                     Adoption, fostering and surrogacy       0.79      0.52      0.63        21\n",
      "                                                      Arts and culture       0.88      0.83      0.85       219\n",
      "                                                                Asylum       0.75      0.38      0.50         8\n",
      "                                                              Aviation       0.94      0.79      0.86        75\n",
      "                                                     Brexit and the EU       0.00      0.00      0.00         6\n",
      "                                            British nationals overseas       0.83      0.92      0.87        88\n",
      "                                               Business and enterprise       0.79      0.76      0.77       940\n",
      "                                          Business and the environment       0.83      0.51      0.63       433\n",
      "                                                          Business tax       0.72      0.54      0.62       477\n",
      "                                                         Child Benefit       0.61      0.80      0.69        25\n",
      "                                             Childcare and early years       0.79      0.35      0.48        43\n",
      "                                         Children's health and welfare       0.00      0.00      0.00         6\n",
      "                                             Climate change and energy       0.73      0.88      0.80      1037\n",
      "                                      Commercial fishing and fisheries       0.80      0.44      0.57        89\n",
      "                                                 Community and society       0.82      0.72      0.77       246\n",
      "                                            Consumer rights and issues       0.77      0.56      0.65       146\n",
      "                                                Content and publishing       0.00      0.00      0.00         2\n",
      "                                                     Dealing with HMRC       0.68      0.66      0.67       457\n",
      "                                                 Death and bereavement       0.00      0.00      0.00         0\n",
      "                                                       Disabled people       1.00      0.08      0.15        12\n",
      "                                  Divorce, separation and legal issues       0.00      0.00      0.00         5\n",
      "                                            Driving and road transport       0.84      0.83      0.83       372\n",
      "                                                      Employing people       0.43      0.11      0.18        27\n",
      "                                                 Environmental permits       0.43      0.30      0.35        10\n",
      "                                                 Environmental quality       1.00      0.17      0.29         6\n",
      "                                         Environmental risk management       0.00      0.00      0.00         0\n",
      "                                      Equality, rights and citizenship       0.73      0.49      0.58       107\n",
      "                                   Financial help if you have children       0.55      0.50      0.52        12\n",
      "                                                    Financial services       0.92      0.60      0.73        55\n",
      "                                           Flooding and coastal change       0.40      0.25      0.31         8\n",
      "                                                      Food and farming       0.78      0.81      0.80       293\n",
      "                                                       Foreign affairs       0.75      0.97      0.85      1560\n",
      "                                                     Freight and cargo       0.89      0.41      0.56        39\n",
      "                                      Funding and finance for students       0.71      0.52      0.60        23\n",
      "          Further and higher education, skills and vocational training       0.76      0.81      0.78       421\n",
      "                                                     Health protection       0.84      0.68      0.75        63\n",
      "                                                               Housing       0.83      0.64      0.72       599\n",
      "                                         Housing planning and building       0.71      0.88      0.79       816\n",
      "                                     Immigration rules and enforcement       1.00      0.16      0.27        19\n",
      "                    Inspections and performance of education providers       0.84      0.70      0.76       356\n",
      "                                     International aid and development       0.84      0.85      0.84       769\n",
      "                                               Land Registration Data        0.00      0.00      0.00         3\n",
      "                                                       Land management       0.00      0.00      0.00        10\n",
      "                                                     Land registration       0.94      0.89      0.92        38\n",
      "                                                      Law and practice       0.00      0.00      0.00         7\n",
      "                                                             Legal aid       0.84      0.84      0.84        44\n",
      "                                                      Local government       0.57      0.12      0.20        34\n",
      "                                                       Local transport       0.92      0.50      0.65        48\n",
      "                                                                Marine       0.79      0.92      0.85       247\n",
      "                                                              Maritime       0.87      0.94      0.90       411\n",
      "                               Marriage, civil partnership and divorce       1.00      0.25      0.40         8\n",
      "                                              Media and communications       0.82      0.71      0.76       289\n",
      "            Medicines, medical devices and blood regulation and safety       0.00      0.00      0.00        14\n",
      "                                    Military awards and commemorations       0.00      0.00      0.00         3\n",
      "                          Military equipment, logistics and technology       0.14      0.25      0.18         4\n",
      "                         Military recruitment, training and operations       0.00      0.00      0.00         5\n",
      "                                            Ministry of Defence estate       0.00      0.00      0.00         5\n",
      "                                          Money laundering regulations       1.00      0.20      0.33         5\n",
      "                                               National Health Service       0.75      0.78      0.76       227\n",
      "                                                      Northern Ireland       0.80      0.93      0.86       245\n",
      "                                                           Oil and gas       0.83      0.20      0.32        25\n",
      "                                                             Passports       0.50      0.33      0.40         3\n",
      "                  Passports and travel documents for foreign nationals       0.67      0.29      0.40         7\n",
      "                                           Pensions and ageing society       0.75      0.96      0.84       122\n",
      "                                              Permanent stay in the UK       0.67      0.20      0.31        10\n",
      "                                                          Personal tax       0.73      0.64      0.68       325\n",
      "                                       Population screening programmes       0.73      0.94      0.82        17\n",
      "                                                   Pregnancy and birth       0.00      0.00      0.00         1\n",
      "                                                 Prisons and probation       0.00      0.00      0.00         3\n",
      "                                                         Public health       0.84      0.80      0.82       240\n",
      "                             Pupil wellbeing, behaviour and attendance       0.86      0.59      0.70        61\n",
      "                                                                  Rail       0.85      0.97      0.91       436\n",
      "                                                     Regulation reform       0.33      0.08      0.13        12\n",
      "                                                   Road infrastructure       0.89      0.79      0.83       196\n",
      "                                         Running and managing a school       0.69      0.80      0.74       257\n",
      "                                                 Rural and countryside       0.78      0.73      0.76       396\n",
      "                             Safeguarding and social care for children       0.68      0.69      0.69       118\n",
      "                 School and academy financial management and assurance       0.90      0.45      0.60        40\n",
      "                                            School and academy funding       0.88      0.39      0.54       129\n",
      "                                                     School curriculum       0.76      0.94      0.84       508\n",
      "                                                Science and innovation       0.81      0.71      0.76       415\n",
      "                                                              Scotland       0.85      0.92      0.88       106\n",
      "                      Screening and quality assurance (all programmes)       0.00      0.00      0.00         6\n",
      "                                                       Self-employment       0.00      0.00      0.00        11\n",
      "                                                           Social care       0.76      0.52      0.62       127\n",
      "        Special educational needs and disability (SEND) and high needs       0.91      0.28      0.43        36\n",
      "                                                    Sports and leisure       0.77      0.91      0.84       236\n",
      "                                         Starting and attending school       0.00      0.00      0.00        10\n",
      "Support services for military and defence personnel and their families       0.00      0.00      0.00        11\n",
      "                      Support services for veterans and their families       0.00      0.00      0.00         1\n",
      "                                               Teaching and leadership       0.83      0.88      0.86       356\n",
      "                                                  Trade and investment       0.75      0.90      0.82      1043\n",
      "                                  Transport accessibility and mobility       0.67      0.42      0.52        19\n",
      "                                  Transport corporate and transparency       0.74      0.98      0.85        62\n",
      "                                                  Transport statistics       0.88      0.92      0.90       300\n",
      "                                                            UK economy       0.90      0.28      0.42       224\n",
      "                                                                 Visas       0.65      0.62      0.64        24\n",
      "                                                                 Wales       0.71      0.75      0.73       115\n",
      "                                                   Waste and recycling       0.79      0.73      0.76       209\n",
      "                                                        Water industry       0.00      0.00      0.00         5\n",
      "                                           Wildlife and animal welfare       0.73      0.48      0.58       127\n",
      "                                            Working, jobs and pensions       0.50      0.09      0.16        43\n",
      "\n",
      "                                                           avg / total       0.78      0.78      0.76     17929\n",
      "\n"
     ]
    },
    {
     "name": "stderr",
     "output_type": "stream",
     "text": [
      "/Users/matthewupson/.pyenv/versions/3.4.6/lib/python3.4/site-packages/sklearn/metrics/classification.py:1135: UndefinedMetricWarning: Precision and F-score are ill-defined and being set to 0.0 in labels with no predicted samples.\n",
      "  'precision', 'predicted', average, warn_for)\n",
      "/Users/matthewupson/.pyenv/versions/3.4.6/lib/python3.4/site-packages/sklearn/metrics/classification.py:1137: UndefinedMetricWarning: Recall and F-score are ill-defined and being set to 0.0 in labels with no true samples.\n",
      "  'recall', 'true', average, warn_for)\n"
     ]
    }
   ],
   "source": [
    "\"\"\" Predict the test dataset using SVM\"\"\"\n",
    "predicted_svm = svm_clf.predict(X_test)\n",
    "print('SVM correct prediction: {:4.2f}'.format(np.mean(predicted_svm == y_test)))\n",
    "print(metrics.classification_report(y_test, predicted_svm))\n",
    "#print(metrics.confusion_matrix(y_test, predicted_svm))"
   ]
  }
 ],
 "metadata": {
  "keep_output": true,
  "kernelspec": {
   "display_name": "govuk-legacy-taxonomy",
   "language": "python",
   "name": "govuk-legacy-taxonomy"
  },
  "language_info": {
   "codemirror_mode": {
    "name": "ipython",
    "version": 3
   },
   "file_extension": ".py",
   "mimetype": "text/x-python",
   "name": "python",
   "nbconvert_exporter": "python",
   "pygments_lexer": "ipython3",
   "version": "3.4.6"
  }
 },
 "nbformat": 4,
 "nbformat_minor": 2
}
