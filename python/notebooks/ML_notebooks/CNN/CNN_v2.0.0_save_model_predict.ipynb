{
 "cells": [
  {
   "cell_type": "markdown",
   "metadata": {},
   "source": [
    "## Convolutional NN to classify govuk content to level2 taxons"
   ]
  },
  {
   "cell_type": "markdown",
   "metadata": {},
   "source": [
    "Based on:\n",
    "https://blog.keras.io/using-pre-trained-word-embeddings-in-a-keras-model.html"
   ]
  },
  {
   "cell_type": "markdown",
   "metadata": {},
   "source": [
    "### Load requirements and data"
   ]
  },
  {
   "cell_type": "code",
   "execution_count": 1,
   "metadata": {
    "scrolled": true
   },
   "outputs": [
    {
     "name": "stderr",
     "output_type": "stream",
     "text": [
      "Using TensorFlow backend.\n",
      "/home/ubuntu/anaconda3/envs/tensorflow_p36/lib/python3.6/importlib/_bootstrap.py:219: RuntimeWarning: compiletime version 3.5 of module 'tensorflow.python.framework.fast_tensor_util' does not match runtime version 3.6\n",
      "  return f(*args, **kwds)\n"
     ]
    }
   ],
   "source": [
    "import pandas as pd\n",
    "import numpy as np\n",
    "import os\n",
    "from datetime import datetime\n",
    "from keras.preprocessing.text import Tokenizer\n",
    "from keras.preprocessing.sequence import pad_sequences\n",
    "\n",
    "from keras.utils import to_categorical, layer_utils, plot_model\n",
    "\n",
    "from keras.layers import (Embedding, Input, Dense, Dropout, \n",
    "                          Activation, Conv1D, MaxPooling1D, Flatten, concatenate, Reshape)\n",
    "from keras.models import Model, Sequential\n",
    "from keras.optimizers import rmsprop\n",
    "from keras.callbacks import TensorBoard, Callback, ModelCheckpoint\n",
    "import keras.backend as K\n",
    "from keras.losses import binary_crossentropy\n",
    "\n",
    "from sklearn.preprocessing import LabelEncoder, MultiLabelBinarizer\n",
    "from sklearn.metrics import confusion_matrix, f1_score, precision_score, recall_score \n",
    "from sklearn.metrics import precision_recall_fscore_support, classification_report\n",
    "from sklearn.utils import class_weight\n",
    "\n",
    "import tensorflow as tf\n",
    "\n",
    "import matplotlib.pyplot as plt\n",
    "%matplotlib inline\n",
    "\n",
    "import functools\n",
    "\n",
    "import h5py\n",
    "\n",
    "from scipy import sparse\n",
    "import time\n"
   ]
  },
  {
   "cell_type": "markdown",
   "metadata": {},
   "source": [
    "### Environmental vars"
   ]
  },
  {
   "cell_type": "code",
   "execution_count": 2,
   "metadata": {
    "scrolled": true
   },
   "outputs": [],
   "source": [
    "DATADIR = os.getenv('DATADIR')"
   ]
  },
  {
   "cell_type": "markdown",
   "metadata": {},
   "source": [
    "### Print data version"
   ]
  },
  {
   "cell_type": "code",
   "execution_count": 3,
   "metadata": {},
   "outputs": [
    {
     "name": "stdout",
     "output_type": "stream",
     "text": [
      "algorithm running on data extracted from content store on /data/2018-03-27\n"
     ]
    }
   ],
   "source": [
    "print('algorithm running on data extracted from content store on {}'.format(DATADIR))"
   ]
  },
  {
   "cell_type": "markdown",
   "metadata": {},
   "source": [
    "## Hyperparameters"
   ]
  },
  {
   "cell_type": "markdown",
   "metadata": {},
   "source": [
    "Intuition for POS_RATIO is that it penalises the prediction of zero for everything, which is attractive to the model because the multilabel y matrix is super sparse. \n",
    "\n",
    "Increasing POS_RATIO should penalise predicting zeros more."
   ]
  },
  {
   "cell_type": "code",
   "execution_count": 4,
   "metadata": {
    "scrolled": true
   },
   "outputs": [],
   "source": [
    "#MAX_NB_WORDS\n",
    "MAX_SEQUENCE_LENGTH =1000\n",
    "EMBEDDING_DIM = 100 # keras embedding layer output_dim = Dimension of the dense embedding\n",
    "P_THRESHOLD = 0.5 #Threshold for probability of being assigned to class\n",
    "POS_RATIO = 0.5 #ratio of positive to negative for each class in weighted binary cross entropy loss function\n",
    "NUM_WORDS=20000 #keras tokenizer num_words: None or int. Maximum number of words to work with \n",
    "#(if set, tokenization will be restricted to the top num_words most common words in the dataset)."
   ]
  },
  {
   "cell_type": "markdown",
   "metadata": {},
   "source": [
    "### Read in data"
   ]
  },
  {
   "cell_type": "code",
   "execution_count": 5,
   "metadata": {
    "scrolled": true
   },
   "outputs": [],
   "source": [
    "train = np.load(os.path.join(DATADIR, 'train_arrays.npz'))"
   ]
  },
  {
   "cell_type": "code",
   "execution_count": 6,
   "metadata": {},
   "outputs": [
    {
     "data": {
      "text/plain": [
       "['x', 'meta', 'title', 'desc', 'y', 'content_id']"
      ]
     },
     "execution_count": 6,
     "metadata": {},
     "output_type": "execute_result"
    }
   ],
   "source": [
    "train.files"
   ]
  },
  {
   "cell_type": "code",
   "execution_count": 7,
   "metadata": {},
   "outputs": [
    {
     "name": "stdout",
     "output_type": "stream",
     "text": [
      "x_train.shape = (176708, 1000)\n",
      "meta_train.shape = (176708, 521)\n",
      "title_train.shape = (176708, 10000)\n",
      "desc_train.shape = (176708, 10000)\n",
      "y_train.shape = (176708, 216)\n"
     ]
    }
   ],
   "source": [
    "x_train = train['x']\n",
    "meta_train = train['meta'].all().todense()\n",
    "title_train = train['title'].all().todense()\n",
    "desc_train = train['desc'].all().todense()\n",
    "y_train = train['y'].all().todense()\n",
    "\n",
    "print('x_train.shape = {}'.format(x_train.shape))\n",
    "print('meta_train.shape = {}'.format(meta_train.shape))\n",
    "print('title_train.shape = {}'.format(title_train.shape))\n",
    "print('desc_train.shape = {}'.format(desc_train.shape))\n",
    "print('y_train.shape = {}'.format(y_train.shape))"
   ]
  },
  {
   "cell_type": "code",
   "execution_count": 8,
   "metadata": {
    "scrolled": true
   },
   "outputs": [],
   "source": [
    "dev = np.load(os.path.join(DATADIR, 'dev_arrays.npz'))"
   ]
  },
  {
   "cell_type": "code",
   "execution_count": 9,
   "metadata": {},
   "outputs": [
    {
     "name": "stdout",
     "output_type": "stream",
     "text": [
      "x_dev.shape = (12776, 1000)\n",
      "meta_dev.shape = (12776, 521)\n",
      "title_dev.shape = (12776, 10000)\n",
      "desc_dev.shape = (12776, 10000)\n",
      "y_dev.shape = (12776, 216)\n"
     ]
    }
   ],
   "source": [
    "x_dev = dev['x']\n",
    "meta_dev = dev['meta'].all().todense()\n",
    "title_dev = dev['title'].all().todense()\n",
    "desc_dev = dev['desc'].all().todense()\n",
    "y_dev = dev['y'].all().todense()\n",
    "\n",
    "print('x_dev.shape = {}'.format(x_dev.shape))\n",
    "print('meta_dev.shape = {}'.format(meta_dev.shape))\n",
    "print('title_dev.shape = {}'.format(title_dev.shape))\n",
    "print('desc_dev.shape = {}'.format(desc_dev.shape))\n",
    "print('y_dev.shape = {}'.format(y_dev.shape))"
   ]
  },
  {
   "cell_type": "code",
   "execution_count": 10,
   "metadata": {
    "scrolled": true
   },
   "outputs": [],
   "source": [
    "test = np.load(os.path.join(DATADIR, 'test_arrays.npz'))"
   ]
  },
  {
   "cell_type": "code",
   "execution_count": 11,
   "metadata": {},
   "outputs": [
    {
     "name": "stdout",
     "output_type": "stream",
     "text": [
      "x_test.shape = (12777, 1000)\n",
      "meta_test.shape = (12777, 521)\n",
      "title_test.shape = (12777, 10000)\n",
      "desc_test.shape = (12777, 10000)\n",
      "y_test.shape = (12777, 216)\n"
     ]
    }
   ],
   "source": [
    "x_test = test['x']\n",
    "meta_test = test['meta'].all().todense()\n",
    "title_test = test['title'].all().todense()\n",
    "desc_test = test['desc'].all().todense()\n",
    "y_test = test['y'].all().todense()\n",
    "\n",
    "print('x_test.shape = {}'.format(x_test.shape))\n",
    "print('meta_test.shape = {}'.format(meta_test.shape))\n",
    "print('title_test.shape = {}'.format(title_test.shape))\n",
    "print('desc_test.shape = {}'.format(desc_test.shape))\n",
    "print('y_test.shape = {}'.format(y_test.shape))"
   ]
  },
  {
   "cell_type": "markdown",
   "metadata": {
    "scrolled": true
   },
   "source": [
    "#### previous shapes in old data \n",
    "Shape of x_train: (150870, 1000)\n",
    "Shape of metax_train: (150870, 436)\n",
    "Shape of titlex_train: (150870, 10000)\n",
    "Shape of descx_train: (150870, 10000)\n",
    "Shape of y_train: (150870, 210)\n",
    "\n",
    "Shape of x_dev: (9234, 1000)\n",
    "Shape of meta_dev: (9234, 436)\n",
    "Shape of titlex_dev: (9234, 10000)\n",
    "Shape of descx_dev: (9234, 10000)\n",
    "Shape of y_dev: (9234, 210)\n",
    "\n",
    "Shape of x_test: (9234, 1000)\n",
    "Shape of metax_test: (9234, 436)\n",
    "Shape of titlex_test: (9234, 10000)\n",
    "Shape of descx_test: (9234, 10000)\n",
    "Shape of y_test: (9234, 210)"
   ]
  },
  {
   "cell_type": "markdown",
   "metadata": {},
   "source": [
    "### preparing the Embedding layer\n"
   ]
  },
  {
   "cell_type": "code",
   "execution_count": 12,
   "metadata": {},
   "outputs": [],
   "source": [
    "import json\n",
    "from collections import OrderedDict\n",
    "\n",
    "def load_tokenizer_from_file(filename):\n",
    "    \n",
    "    tokenizer = Tokenizer()\n",
    "\n",
    "    with open(filename, 'r') as infile:\n",
    "        tokenizer_data = json.load(infile)\n",
    "\n",
    "    tokenizer.word_counts = OrderedDict(tokenizer_data['word_counts'])\n",
    "    tokenizer.word_docs = tokenizer_data['word_docs']\n",
    "    tokenizer.word_index = tokenizer_data['word_index']\n",
    "    tokenizer.document_count = tokenizer_data['document_count']\n",
    "    tokenizer.index_docs = tokenizer_data['index_docs']\n",
    "\n",
    "    return tokenizer\n",
    "\n",
    "tokenizer_combined_text = load_tokenizer_from_file(os.path.join(DATADIR, \"combined_text_tokenizer.json\"))"
   ]
  },
  {
   "cell_type": "code",
   "execution_count": 13,
   "metadata": {
    "scrolled": true
   },
   "outputs": [],
   "source": [
    "embedding_layer = Embedding(len(tokenizer_combined_text.word_index) + 1, \n",
    "                            EMBEDDING_DIM, \n",
    "                            input_length=MAX_SEQUENCE_LENGTH)"
   ]
  },
  {
   "cell_type": "markdown",
   "metadata": {},
   "source": [
    "An Embedding layer should be fed sequences of integers, i.e. a 2D input of shape (samples, indices). These input sequences should be padded so that they all have the same length in a batch of input data (although an Embedding layer is capable of processing sequence of heterogenous length, if you don't pass an explicit input_length argument to the layer).\n",
    "\n",
    "All that the Embedding layer does is to map the integer inputs to the vectors found at the corresponding index in the embedding matrix, i.e. the sequence [1, 2] would be converted to [embeddings[1], embeddings[2]]. This means that the output of the Embedding layer will be a 3D tensor of shape (samples, sequence_length, embedding_dim)."
   ]
  },
  {
   "cell_type": "markdown",
   "metadata": {},
   "source": [
    "### Estimate class weights for unbalanced datasets.\n",
    "paramter to model.fit = __class_weight__: Optional dictionary mapping class indices (integers) to a weight (float) value, used for weighting the loss function (during training only). This can be useful to tell the model to \"pay more attention\" to samples from an under-represented class.\n",
    "\n",
    "Implement class_weight from sklearn:\n",
    "\n",
    "- Import the module \n",
    "\n",
    "`from sklearn.utils import class_weight`\n",
    "- calculate the class weight, If ‘balanced’, class weights will be given by n_samples / (n_classes * np.bincount(y)):\n",
    "\n",
    "`class_weight = class_weight.compute_class_weight('balanced', np.unique(y_train), y_train)`\n",
    "\n",
    "- change it to a dict in order to work with Keras.\n",
    "\n",
    "`class_weight_dict = dict(enumerate(class_weight))`\n",
    "\n",
    "- Add to model fitting\n",
    "\n",
    "`model.fit(X_train, y_train, class_weight=class_weight)`"
   ]
  },
  {
   "cell_type": "code",
   "execution_count": 14,
   "metadata": {
    "scrolled": true
   },
   "outputs": [],
   "source": [
    "# class_weight = class_weight.compute_class_weight('balanced', np.unique(y_train), y_train)\n",
    "# class_weight_dict = dict(enumerate(class_weight))"
   ]
  },
  {
   "cell_type": "markdown",
   "metadata": {},
   "source": [
    "### Custom loss function"
   ]
  },
  {
   "cell_type": "code",
   "execution_count": 15,
   "metadata": {
    "scrolled": true
   },
   "outputs": [
    {
     "name": "stdout",
     "output_type": "stream",
     "text": [
      "4.00756\n",
      "8.01512\n"
     ]
    }
   ],
   "source": [
    "class WeightedBinaryCrossEntropy(object):\n",
    "\n",
    "    def __init__(self, pos_ratio):\n",
    "        neg_ratio = 1. - pos_ratio\n",
    "        #self.pos_ratio = tf.constant(pos_ratio, tf.float32)\n",
    "        self.pos_ratio = pos_ratio\n",
    "        #self.weights = tf.constant(neg_ratio / pos_ratio, tf.float32)\n",
    "        self.weights = neg_ratio / pos_ratio\n",
    "        self.__name__ = \"weighted_binary_crossentropy({0})\".format(pos_ratio)\n",
    "\n",
    "    def __call__(self, y_true, y_pred):\n",
    "        return self.weighted_binary_crossentropy(y_true, y_pred)\n",
    "\n",
    "    def weighted_binary_crossentropy(self, y_true, y_pred):\n",
    "            # Transform to logits\n",
    "            epsilon = tf.convert_to_tensor(K.common._EPSILON, y_pred.dtype.base_dtype)\n",
    "            y_pred = tf.clip_by_value(y_pred, epsilon, 1 - epsilon)\n",
    "            y_pred = tf.log(y_pred / (1 - y_pred))\n",
    "\n",
    "            cost = tf.nn.weighted_cross_entropy_with_logits(y_true, y_pred, self.weights)\n",
    "            return K.mean(cost * self.pos_ratio, axis=-1)\n",
    "    \n",
    "y_true_arr = np.array([0,1,0,1], dtype=\"float32\")\n",
    "y_pred_arr = np.array([0,0,1,1], dtype=\"float32\")\n",
    "y_true = tf.constant(y_true_arr)\n",
    "y_pred = tf.constant(y_pred_arr)\n",
    "\n",
    "with tf.Session().as_default(): \n",
    "    print(WeightedBinaryCrossEntropy(0.5)(y_true, y_pred).eval())\n",
    "    print(binary_crossentropy(y_true, y_pred).eval())\n"
   ]
  },
  {
   "cell_type": "markdown",
   "metadata": {},
   "source": [
    "### difficulty getting global precision/recall metrics . CAUTION interpreting monitoring metrics\n",
    "fcholltet: \"Basically these are all global metrics that were approximated\n",
    "batch-wise, which is more misleading than helpful. This was mentioned in\n",
    "the docs but it's much cleaner to remove them altogether. It was a mistake\n",
    "to merge them in the first place.\""
   ]
  },
  {
   "cell_type": "code",
   "execution_count": 16,
   "metadata": {
    "scrolled": true
   },
   "outputs": [],
   "source": [
    "def f1(y_true, y_pred):\n",
    "    \"\"\"Use Recall  and precision metrics to calculate harmonic mean (F1 score).\n",
    "\n",
    "        Only computes a batch-wise average of recall.\n",
    "\n",
    "        Computes the recall, a metric for multi-label classification of\n",
    "        how many relevant items are selected.\n",
    "        \"\"\"\n",
    "    true_positives = K.sum(K.round(K.clip(y_true * y_pred, 0, 1)))\n",
    "    predicted_positives = K.sum(K.round(K.clip(y_pred, 0, 1)))\n",
    "    possible_positives = K.sum(K.round(K.clip(y_true, 0, 1)))\n",
    "    precision = true_positives / (predicted_positives + K.epsilon())\n",
    "    recall = true_positives / (possible_positives + K.epsilon())\n",
    "    f1 = 2*((precision*recall)/(precision+recall))\n",
    "    \n",
    "    return f1"
   ]
  },
  {
   "cell_type": "markdown",
   "metadata": {},
   "source": [
    "## Training a 1D convnet"
   ]
  },
  {
   "cell_type": "markdown",
   "metadata": {},
   "source": [
    "### 1. Create model"
   ]
  },
  {
   "cell_type": "code",
   "execution_count": 17,
   "metadata": {
    "scrolled": true
   },
   "outputs": [],
   "source": [
    "NB_CLASSES = y_train.shape[1]\n",
    "NB_METAVARS = meta_train.shape[1]\n",
    "\n",
    "\n",
    "\n",
    "sequence_input = Input(shape=(MAX_SEQUENCE_LENGTH,), dtype='int32', name='wordindex') #MAX_SEQUENCE_LENGTH\n",
    "embedded_sequences = embedding_layer(sequence_input)\n",
    "x = Dropout(0.2, name = 'dropout_embedded')(embedded_sequences)\n",
    "\n",
    "x = Conv1D(128, 5, activation='relu', name = 'conv0')(x)\n",
    "\n",
    "x = MaxPooling1D(5, name = 'max_pool0')(x)\n",
    "\n",
    "x = Dropout(0.5, name = 'dropout0')(x)\n",
    "\n",
    "x = Conv1D(128, 5, activation='relu', name = 'conv1')(x)\n",
    "\n",
    "x = MaxPooling1D(5 , name = 'max_pool1')(x)\n",
    "\n",
    "x = Conv1D(128, 5, activation='relu', name = 'conv2')(x)\n",
    "\n",
    "x = MaxPooling1D(35, name = 'global_max_pool')(x)  # global max pooling\n",
    "\n",
    "x = Flatten()(x) #reduce dimensions from 3 to 2; convert to vector + FULLYCONNECTED\n",
    "\n",
    "meta_input = Input(shape=(NB_METAVARS,), name='meta')\n",
    "meta_hidden = Dense(128, activation='relu', name = 'hidden_meta')(meta_input)\n",
    "meta_hidden = Dropout(0.2, name = 'dropout_meta')(meta_hidden)\n",
    "\n",
    "\n",
    "title_input = Input(shape=(title_train.shape[1],), name='titles')\n",
    "title_hidden = Dense(128, activation='relu', name = 'hidden_title')(title_input)\n",
    "title_hidden = Dropout(0.2, name = 'dropout_title')(title_hidden)\n",
    "\n",
    "desc_input = Input(shape=(desc_train.shape[1],), name='descs')\n",
    "desc_hidden = Dense(128, activation='relu', name = 'hidden_desc')(desc_input)\n",
    "desc_hidden = Dropout(0.2, name = 'dropout_desc')(desc_hidden)\n",
    "\n",
    "concatenated = concatenate([meta_hidden, title_hidden, desc_hidden, x])\n",
    "\n",
    "x = Dense(400, activation='relu', name = 'fully_connected0')(concatenated)\n",
    "\n",
    "x = Dropout(0.2, name = 'dropout1')(x)\n",
    "\n",
    "x = Dense(NB_CLASSES, activation='sigmoid', name = 'fully_connected1')(x)\n",
    "\n",
    "# # The Model class turns an input tensor and output tensor into a model\n",
    "# This creates Keras model instance, will use this instance to train/test the model.\n",
    "model = Model(inputs=[meta_input, title_input, desc_input, sequence_input], outputs=x)"
   ]
  },
  {
   "cell_type": "code",
   "execution_count": 18,
   "metadata": {
    "scrolled": true
   },
   "outputs": [
    {
     "name": "stdout",
     "output_type": "stream",
     "text": [
      "__________________________________________________________________________________________________\n",
      "Layer (type)                    Output Shape         Param #     Connected to                     \n",
      "==================================================================================================\n",
      "wordindex (InputLayer)          (None, 1000)         0                                            \n",
      "__________________________________________________________________________________________________\n",
      "embedding_1 (Embedding)         (None, 1000, 100)    34647400    wordindex[0][0]                  \n",
      "__________________________________________________________________________________________________\n",
      "dropout_embedded (Dropout)      (None, 1000, 100)    0           embedding_1[0][0]                \n",
      "__________________________________________________________________________________________________\n",
      "conv0 (Conv1D)                  (None, 996, 128)     64128       dropout_embedded[0][0]           \n",
      "__________________________________________________________________________________________________\n",
      "max_pool0 (MaxPooling1D)        (None, 199, 128)     0           conv0[0][0]                      \n",
      "__________________________________________________________________________________________________\n",
      "dropout0 (Dropout)              (None, 199, 128)     0           max_pool0[0][0]                  \n",
      "__________________________________________________________________________________________________\n",
      "conv1 (Conv1D)                  (None, 195, 128)     82048       dropout0[0][0]                   \n",
      "__________________________________________________________________________________________________\n",
      "max_pool1 (MaxPooling1D)        (None, 39, 128)      0           conv1[0][0]                      \n",
      "__________________________________________________________________________________________________\n",
      "meta (InputLayer)               (None, 521)          0                                            \n",
      "__________________________________________________________________________________________________\n",
      "titles (InputLayer)             (None, 10000)        0                                            \n",
      "__________________________________________________________________________________________________\n",
      "descs (InputLayer)              (None, 10000)        0                                            \n",
      "__________________________________________________________________________________________________\n",
      "conv2 (Conv1D)                  (None, 35, 128)      82048       max_pool1[0][0]                  \n",
      "__________________________________________________________________________________________________\n",
      "hidden_meta (Dense)             (None, 128)          66816       meta[0][0]                       \n",
      "__________________________________________________________________________________________________\n",
      "hidden_title (Dense)            (None, 128)          1280128     titles[0][0]                     \n",
      "__________________________________________________________________________________________________\n",
      "hidden_desc (Dense)             (None, 128)          1280128     descs[0][0]                      \n",
      "__________________________________________________________________________________________________\n",
      "global_max_pool (MaxPooling1D)  (None, 1, 128)       0           conv2[0][0]                      \n",
      "__________________________________________________________________________________________________\n",
      "dropout_meta (Dropout)          (None, 128)          0           hidden_meta[0][0]                \n",
      "__________________________________________________________________________________________________\n",
      "dropout_title (Dropout)         (None, 128)          0           hidden_title[0][0]               \n",
      "__________________________________________________________________________________________________\n",
      "dropout_desc (Dropout)          (None, 128)          0           hidden_desc[0][0]                \n",
      "__________________________________________________________________________________________________\n",
      "flatten_1 (Flatten)             (None, 128)          0           global_max_pool[0][0]            \n",
      "__________________________________________________________________________________________________\n",
      "concatenate_1 (Concatenate)     (None, 512)          0           dropout_meta[0][0]               \n",
      "                                                                 dropout_title[0][0]              \n",
      "                                                                 dropout_desc[0][0]               \n",
      "                                                                 flatten_1[0][0]                  \n",
      "__________________________________________________________________________________________________\n",
      "fully_connected0 (Dense)        (None, 400)          205200      concatenate_1[0][0]              \n",
      "__________________________________________________________________________________________________\n",
      "dropout1 (Dropout)              (None, 400)          0           fully_connected0[0][0]           \n",
      "__________________________________________________________________________________________________\n",
      "fully_connected1 (Dense)        (None, 216)          86616       dropout1[0][0]                   \n",
      "==================================================================================================\n",
      "Total params: 37,794,512\n",
      "Trainable params: 37,794,512\n",
      "Non-trainable params: 0\n",
      "__________________________________________________________________________________________________\n"
     ]
    }
   ],
   "source": [
    "model.summary()"
   ]
  },
  {
   "cell_type": "markdown",
   "metadata": {},
   "source": [
    "### Tensorboard callbacks /metrics /monitor training"
   ]
  },
  {
   "cell_type": "markdown",
   "metadata": {},
   "source": [
    "<span style=\"color:red\"> **Size of these files is killing storage during training. Is it histograms?**</span>"
   ]
  },
  {
   "cell_type": "code",
   "execution_count": 19,
   "metadata": {
    "scrolled": true
   },
   "outputs": [],
   "source": [
    "tb = TensorBoard(log_dir='./learn_embedding_logs', histogram_freq=1, write_graph=True, write_images=False)"
   ]
  },
  {
   "cell_type": "code",
   "execution_count": 20,
   "metadata": {
    "scrolled": true
   },
   "outputs": [],
   "source": [
    "CHECKPOINT_PATH = os.path.join(DATADIR, 'model_checkpoint.hdf5')\n",
    "\n",
    "cp = ModelCheckpoint(\n",
    "                     filepath = CHECKPOINT_PATH, \n",
    "                     monitor='val_loss', \n",
    "                     verbose=0, \n",
    "                     save_best_only=False, \n",
    "                     save_weights_only=False, \n",
    "                     mode='auto', \n",
    "                     period=1\n",
    "                    )"
   ]
  },
  {
   "cell_type": "code",
   "execution_count": 21,
   "metadata": {
    "scrolled": true
   },
   "outputs": [],
   "source": [
    "from keras.callbacks import EarlyStopping\n",
    "early_stopping = EarlyStopping(monitor='val_loss', patience=2)\n",
    "#model.fit(x, y, validation_split=0.2, callbacks=[early_stopping])"
   ]
  },
  {
   "cell_type": "markdown",
   "metadata": {},
   "source": [
    "### 2 & 3. Train & compile model"
   ]
  },
  {
   "cell_type": "code",
   "execution_count": 22,
   "metadata": {
    "scrolled": true
   },
   "outputs": [
    {
     "name": "stdout",
     "output_type": "stream",
     "text": [
      "Train on 176708 samples, validate on 12776 samples\n",
      "Epoch 1/10\n",
      "176708/176708 [==============================] - 182s 1ms/step - loss: 0.0087 - binary_accuracy: 0.9951 - f1: nan - val_loss: 0.0040 - val_binary_accuracy: 0.9973 - val_f1: 0.7732\n",
      "Epoch 2/10\n",
      "176708/176708 [==============================] - 179s 1ms/step - loss: 0.0030 - binary_accuracy: 0.9980 - f1: 0.8663 - val_loss: 0.0035 - val_binary_accuracy: 0.9976 - val_f1: 0.8048\n",
      "Epoch 3/10\n",
      "176708/176708 [==============================] - 179s 1ms/step - loss: 0.0023 - binary_accuracy: 0.9985 - f1: 0.9014 - val_loss: 0.0034 - val_binary_accuracy: 0.9977 - val_f1: 0.8216\n",
      "Epoch 4/10\n",
      "176708/176708 [==============================] - 179s 1ms/step - loss: 0.0019 - binary_accuracy: 0.9987 - f1: 0.9183 - val_loss: 0.0034 - val_binary_accuracy: 0.9978 - val_f1: 0.8270\n",
      "Epoch 5/10\n",
      "176708/176708 [==============================] - 179s 1ms/step - loss: 0.0017 - binary_accuracy: 0.9989 - f1: 0.9282 - val_loss: 0.0034 - val_binary_accuracy: 0.9978 - val_f1: 0.8287\n",
      "Epoch 6/10\n",
      "176708/176708 [==============================] - 179s 1ms/step - loss: 0.0016 - binary_accuracy: 0.9990 - f1: 0.9345 - val_loss: 0.0036 - val_binary_accuracy: 0.9979 - val_f1: 0.8320\n"
     ]
    }
   ],
   "source": [
    "model.compile(loss=WeightedBinaryCrossEntropy(POS_RATIO),\n",
    "              optimizer='rmsprop',\n",
    "              metrics=['binary_accuracy', f1])\n",
    "\n",
    "# This `fit` call will be distributed on 8 GPUs.\n",
    "# Since the batch size is 256, each GPU will process 32 samples.\n",
    "history = model.fit(\n",
    "    {'meta': meta_train, 'titles': title_train, 'descs': desc_train, 'wordindex': x_train},\n",
    "    y_train, \n",
    "    validation_data=([meta_dev, title_dev, desc_dev, x_dev], y_dev), \n",
    "    epochs=10, batch_size=128, callbacks=[early_stopping]\n",
    ")\n",
    "\n"
   ]
  },
  {
   "cell_type": "code",
   "execution_count": 23,
   "metadata": {
    "scrolled": true
   },
   "outputs": [
    {
     "data": {
      "text/plain": [
       "dict_keys(['val_loss', 'val_binary_accuracy', 'val_f1', 'loss', 'binary_accuracy', 'f1'])"
      ]
     },
     "execution_count": 23,
     "metadata": {},
     "output_type": "execute_result"
    }
   ],
   "source": [
    "history_dict = history.history\n",
    "history_dict.keys()"
   ]
  },
  {
   "cell_type": "code",
   "execution_count": null,
   "metadata": {},
   "outputs": [],
   "source": []
  },
  {
   "cell_type": "code",
   "execution_count": 24,
   "metadata": {
    "scrolled": true
   },
   "outputs": [
    {
     "data": {
      "image/png": "[encoded data removed]",
      "text/plain": [
       "<matplotlib.figure.Figure at 0x7efe439931d0>"
      ]
     },
     "metadata": {},
     "output_type": "display_data"
    }
   ],
   "source": [
    "loss_values = history_dict['loss']\n",
    "val_loss_values = history_dict['val_loss']\n",
    "\n",
    "\n",
    "\n",
    "plt.plot(range(len(loss_values)), loss_values, 'bo', label='Training loss')           \n",
    "plt.plot(range(len(val_loss_values)), val_loss_values, 'b', label='Validation loss')      \n",
    "plt.title('Training and validation loss')\n",
    "plt.xlabel('Epochs')\n",
    "plt.ylabel('Loss')\n",
    "plt.legend()\n",
    "\n",
    "plt.show()"
   ]
  },
  {
   "cell_type": "code",
   "execution_count": 25,
   "metadata": {
    "scrolled": true
   },
   "outputs": [
    {
     "data": {
      "image/png": "[encoded data removed]",
      "text/plain": [
       "<matplotlib.figure.Figure at 0x7efe434d1dd8>"
      ]
     },
     "metadata": {},
     "output_type": "display_data"
    }
   ],
   "source": [
    "plt.clf()    \n",
    "\n",
    "f1_values = history_dict['f1']\n",
    "val_f1_values = history_dict['val_f1']\n",
    "\n",
    "plt.plot(range(len(f1_values)), f1_values, 'bo', label='Training f1')\n",
    "plt.plot(range(len(val_f1_values)), val_f1_values, 'b', label='Validation f1')\n",
    "plt.title('Training and validation batch-level f1-micro')\n",
    "plt.xlabel('Epochs')\n",
    "plt.ylabel('F1-micro')\n",
    "plt.legend()\n",
    "\n",
    "plt.show()"
   ]
  },
  {
   "cell_type": "markdown",
   "metadata": {},
   "source": [
    "### Save results arrays"
   ]
  },
  {
   "cell_type": "code",
   "execution_count": 26,
   "metadata": {},
   "outputs": [],
   "source": [
    "def to_file(array,name):\n",
    "    df = pd.DataFrame(data = array.tolist(),columns=[i for i in range(1,y_train.shape[1]+1)])\n",
    "    df.to_csv(os.path.join(DATADIR, name+'.csv.gz'),compression='gzip',index=False)"
   ]
  },
  {
   "cell_type": "code",
   "execution_count": 27,
   "metadata": {},
   "outputs": [
    {
     "data": {
      "text/plain": [
       "'_1123_2703_'"
      ]
     },
     "execution_count": 27,
     "metadata": {},
     "output_type": "execute_result"
    }
   ],
   "source": [
    "date_run = time.strftime(\"_%H%M_%d%m_\")\n",
    "date_run"
   ]
  },
  {
   "cell_type": "code",
   "execution_count": 28,
   "metadata": {},
   "outputs": [],
   "source": [
    "y_prob = model.predict([meta_train, title_train, desc_train, x_train])"
   ]
  },
  {
   "cell_type": "code",
   "execution_count": 29,
   "metadata": {},
   "outputs": [],
   "source": [
    "to_file(y_prob,\"train_results\"+date_run)"
   ]
  },
  {
   "cell_type": "code",
   "execution_count": 30,
   "metadata": {},
   "outputs": [],
   "source": [
    "y_pred = y_prob.copy()\n",
    "y_pred[y_pred>=P_THRESHOLD] = 1\n",
    "y_pred[y_pred<P_THRESHOLD] = 0"
   ]
  },
  {
   "cell_type": "code",
   "execution_count": 31,
   "metadata": {
    "scrolled": true
   },
   "outputs": [
    {
     "name": "stdout",
     "output_type": "stream",
     "text": [
      "micro: (0.97059848964380369, 0.94727783283779321, 0.95879637602047729, None)\n",
      "macro: (0.97998888111518812, 0.96946676095233908, 0.97430481203925567, None)\n",
      "weightedmacro: (0.97032221613472014, 0.94727783283779321, 0.9581386729187622, None)\n"
     ]
    }
   ],
   "source": [
    "print('micro: {}'.format(precision_recall_fscore_support(y_train, y_pred, average='micro', sample_weight=None)))\n",
    "print('macro: {}'.format(precision_recall_fscore_support(y_train, y_pred, average='macro', sample_weight=None)))\n",
    "print('weightedmacro: {}'.format(precision_recall_fscore_support(y_train, y_pred, average='weighted', sample_weight=None)))"
   ]
  },
  {
   "cell_type": "code",
   "execution_count": 32,
   "metadata": {},
   "outputs": [],
   "source": [
    "y_prob_dev = model.predict([meta_dev, title_dev, desc_dev, x_dev])"
   ]
  },
  {
   "cell_type": "code",
   "execution_count": 33,
   "metadata": {},
   "outputs": [],
   "source": [
    "to_file(y_prob_dev,\"dev_results\"+date_run)"
   ]
  },
  {
   "cell_type": "code",
   "execution_count": 34,
   "metadata": {},
   "outputs": [],
   "source": [
    "y_pred_dev = y_prob_dev.copy()\n",
    "y_pred_dev[y_pred_dev>=P_THRESHOLD] = 1\n",
    "y_pred_dev[y_pred_dev<P_THRESHOLD] = 0"
   ]
  },
  {
   "cell_type": "code",
   "execution_count": 35,
   "metadata": {},
   "outputs": [
    {
     "name": "stdout",
     "output_type": "stream",
     "text": [
      "micro: (0.86086904261073383, 0.80485475080069679, 0.83192008363340697, None)\n",
      "macro: (0.76155486712440679, 0.79048635688826763, 0.76875357340137096, None)\n",
      "weightedmacro: (0.8613058273851496, 0.80485475080069679, 0.82872027510771362, None)\n"
     ]
    },
    {
     "name": "stderr",
     "output_type": "stream",
     "text": [
      "/home/ubuntu/anaconda3/envs/tensorflow_p36/lib/python3.6/site-packages/sklearn/metrics/classification.py:1135: UndefinedMetricWarning: Precision and F-score are ill-defined and being set to 0.0 in labels with no predicted samples.\n",
      "  'precision', 'predicted', average, warn_for)\n",
      "/home/ubuntu/anaconda3/envs/tensorflow_p36/lib/python3.6/site-packages/sklearn/metrics/classification.py:1137: UndefinedMetricWarning: Recall and F-score are ill-defined and being set to 0.0 in labels with no true samples.\n",
      "  'recall', 'true', average, warn_for)\n"
     ]
    }
   ],
   "source": [
    "print('micro: {}'.format(precision_recall_fscore_support(y_dev, y_pred_dev, average='micro', sample_weight=None)))\n",
    "print('macro: {}'.format(precision_recall_fscore_support(y_dev, y_pred_dev, average='macro', sample_weight=None)))\n",
    "print('weightedmacro: {}'.format(precision_recall_fscore_support(y_dev, y_pred_dev, average='weighted', sample_weight=None)))"
   ]
  },
  {
   "cell_type": "code",
   "execution_count": 36,
   "metadata": {},
   "outputs": [
    {
     "name": "stdout",
     "output_type": "stream",
     "text": [
      "weightedmacro: (array([ 1.        ,  0.875     ,  0.92857143,  0.71428571,  1.        ,\n",
      "        0.75609756,  0.71428571,  0.76237624,  0.        ,  0.        ,\n",
      "        0.99415205,  0.66666667,  1.        ,  0.66666667,  1.        ,\n",
      "        0.9       ,  1.        ,  0.79136691,  0.8938992 ,  0.62037037,\n",
      "        0.88292683,  0.        ,  0.71428571,  1.        ,  1.        ,\n",
      "        1.        ,  0.71428571,  1.        ,  0.8125    ,  0.85      ,\n",
      "        0.66666667,  0.        ,  0.58974359,  0.85077951,  0.        ,\n",
      "        0.875     ,  0.79216867,  0.77777778,  0.65079365,  0.        ,\n",
      "        0.80434783,  0.83529412,  1.        ,  1.        ,  0.63636364,\n",
      "        1.        ,  0.        ,  1.        ,  0.75438596,  1.        ,\n",
      "        1.        ,  1.        ,  0.        ,  0.83333333,  0.        ,\n",
      "        0.        ,  0.87542088,  0.76923077,  0.72857143,  0.71428571,\n",
      "        0.71428571,  0.75      ,  0.68518519,  1.        ,  0.83108108,\n",
      "        0.7979798 ,  0.        ,  1.        ,  0.5       ,  1.        ,\n",
      "        1.        ,  1.        ,  0.82222222,  0.78378378,  0.94252874,\n",
      "        0.84790875,  0.        ,  0.8       ,  0.        ,  0.83333333,\n",
      "        0.78571429,  0.92086331,  0.87837838,  1.        ,  0.        ,\n",
      "        0.78688525,  1.        ,  1.        ,  1.        ,  0.95833333,\n",
      "        0.        ,  0.91021672,  0.75757576,  0.86153846,  1.        ,\n",
      "        0.90909091,  0.93333333,  0.64705882,  0.76623377,  0.92394366,\n",
      "        0.875     ,  1.        ,  1.        ,  0.9       ,  0.77358491,\n",
      "        0.5       ,  0.8       ,  0.8       ,  1.        ,  0.44444444,\n",
      "        1.        ,  0.85714286,  1.        ,  1.        ,  1.        ,\n",
      "        0.8       ,  0.81      ,  0.83870968,  0.75      ,  0.76666667,\n",
      "        0.84      ,  0.92753623,  0.9612069 ,  1.        ,  0.76851852,\n",
      "        0.        ,  0.92307692,  1.        ,  0.66666667,  1.        ,\n",
      "        1.        ,  1.        ,  0.80751174,  0.86956522,  0.84875847,\n",
      "        0.87962963,  0.        ,  0.75      ,  1.        ,  0.66666667,\n",
      "        1.        ,  0.81538462,  0.88888889,  0.88888889,  0.95918367,\n",
      "        0.875     ,  1.        ,  0.        ,  0.        ,  0.91949911,\n",
      "        0.        ,  1.        ,  0.        ,  0.87096774,  0.94716981,\n",
      "        0.96666667,  0.76      ,  1.        ,  1.        ,  0.91666667,\n",
      "        0.90134529,  0.88505747,  0.87837838,  0.8125    ,  0.9375    ,\n",
      "        0.74193548,  0.9205298 ,  0.88721805,  0.80519481,  0.        ,\n",
      "        1.        ,  0.58333333,  0.        ,  0.77777778,  0.85185185,\n",
      "        0.7761194 ,  1.        ,  0.83333333,  0.        ,  0.75      ,\n",
      "        1.        ,  0.7826087 ,  1.        ,  0.7       ,  0.97619048,\n",
      "        0.77777778,  0.5       ,  0.80617496,  0.84615385,  0.85858586,\n",
      "        1.        ,  0.82352941,  1.        ,  1.        ,  0.72727273,\n",
      "        0.72521246,  0.83333333,  0.77966102,  0.5       ,  1.        ,\n",
      "        0.72      ,  1.        ,  1.        ,  0.        ,  0.9378882 ,\n",
      "        0.87692308,  0.82857143,  0.66666667,  0.88      ,  0.88741722,\n",
      "        1.        ,  0.75      ,  0.83333333,  1.        ,  0.8       ,\n",
      "        0.94409938]), array([ 1.        ,  1.        ,  0.875     ,  0.90909091,  1.        ,\n",
      "        0.53448276,  1.        ,  0.78974359,  0.        ,  0.        ,\n",
      "        0.98722416,  1.        ,  1.        ,  0.74285714,  1.        ,\n",
      "        0.96428571,  1.        ,  0.81481481,  0.80238095,  0.71276596,\n",
      "        0.86602871,  0.        ,  1.        ,  1.        ,  1.        ,\n",
      "        1.        ,  1.        ,  0.91666667,  1.        ,  1.        ,\n",
      "        1.        ,  0.        ,  0.92      ,  0.78762887,  0.        ,\n",
      "        0.84848485,  0.65914787,  0.93333333,  0.43617021,  0.        ,\n",
      "        0.56060606,  0.88198758,  1.        ,  0.99277606,  0.56      ,\n",
      "        1.        ,  0.        ,  0.8       ,  0.83225806,  1.        ,\n",
      "        1.        ,  1.        ,  0.        ,  1.        ,  0.        ,\n",
      "        0.        ,  0.89965398,  1.        ,  0.66233766,  1.        ,\n",
      "        1.        ,  1.        ,  0.82222222,  1.        ,  0.55656109,\n",
      "        0.70535714,  0.        ,  0.94230769,  0.78571429,  1.        ,\n",
      "        1.        ,  1.        ,  0.47435897,  0.96666667,  0.78846154,\n",
      "        0.78245614,  0.        ,  0.85596708,  0.        ,  0.90909091,\n",
      "        1.        ,  0.74853801,  0.8265896 ,  1.        ,  0.        ,\n",
      "        0.56470588,  1.        ,  1.        ,  1.        ,  0.88461538,\n",
      "        0.        ,  0.8121547 ,  0.78347578,  0.62921348,  1.        ,\n",
      "        0.90909091,  0.93333333,  0.6875    ,  0.83098592,  0.87234043,\n",
      "        0.82352941,  1.        ,  1.        ,  1.        ,  0.85416667,\n",
      "        1.        ,  1.        ,  1.        ,  1.        ,  1.        ,\n",
      "        1.        ,  1.        ,  1.        ,  1.        ,  1.        ,\n",
      "        1.        ,  0.68067227,  0.8125    ,  0.52631579,  0.79310345,\n",
      "        1.        ,  0.86486486,  0.9612069 ,  1.        ,  0.68595041,\n",
      "        0.        ,  0.95454545,  1.        ,  1.        ,  1.        ,\n",
      "        1.        ,  1.        ,  0.7962963 ,  1.        ,  0.78333333,\n",
      "        0.87155963,  0.        ,  0.85714286,  1.        ,  1.        ,\n",
      "        1.        ,  0.79104478,  0.94117647,  0.71428571,  0.71212121,\n",
      "        1.        ,  1.        ,  0.        ,  0.        ,  0.85809683,\n",
      "        0.        ,  1.        ,  0.        ,  0.84375   ,  0.94007491,\n",
      "        0.93548387,  0.4691358 ,  1.        ,  1.        ,  1.        ,\n",
      "        0.90540541,  0.73333333,  0.68062827,  0.95121951,  1.        ,\n",
      "        0.54761905,  0.86335404,  0.77124183,  0.81578947,  0.        ,\n",
      "        1.        ,  1.        ,  0.        ,  0.54609929,  0.92      ,\n",
      "        0.8125    ,  1.        ,  1.        ,  0.        ,  1.        ,\n",
      "        1.        ,  0.81818182,  1.        ,  1.        ,  0.84536082,\n",
      "        1.        ,  0.94444444,  0.79661017,  1.        ,  0.67460317,\n",
      "        1.        ,  0.93333333,  1.        ,  1.        ,  1.        ,\n",
      "        0.54237288,  1.        ,  0.86792453,  1.        ,  1.        ,\n",
      "        1.        ,  0.72222222,  1.        ,  0.        ,  0.93209877,\n",
      "        0.78082192,  0.76315789,  1.        ,  0.66666667,  0.75706215,\n",
      "        1.        ,  1.        ,  1.        ,  1.        ,  1.        ,\n",
      "        0.92121212]), array([ 1.        ,  0.93333333,  0.9009901 ,  0.8       ,  1.        ,\n",
      "        0.62626263,  0.83333333,  0.77581864,  0.        ,  0.        ,\n",
      "        0.99067599,  0.8       ,  1.        ,  0.7027027 ,  1.        ,\n",
      "        0.93103448,  1.        ,  0.80291971,  0.84567127,  0.66336634,\n",
      "        0.87439614,  0.        ,  0.83333333,  1.        ,  1.        ,\n",
      "        1.        ,  0.83333333,  0.95652174,  0.89655172,  0.91891892,\n",
      "        0.8       ,  0.        ,  0.71875   ,  0.81798715,  0.        ,\n",
      "        0.86153846,  0.71956224,  0.84848485,  0.52229299,  0.        ,\n",
      "        0.66071429,  0.85800604,  1.        ,  0.99637494,  0.59574468,\n",
      "        1.        ,  0.        ,  0.88888889,  0.79141104,  1.        ,\n",
      "        1.        ,  1.        ,  0.        ,  0.90909091,  0.        ,\n",
      "        0.        ,  0.88737201,  0.86956522,  0.69387755,  0.83333333,\n",
      "        0.83333333,  0.85714286,  0.74747475,  1.        ,  0.66666667,\n",
      "        0.74881517,  0.        ,  0.97029703,  0.61111111,  1.        ,\n",
      "        1.        ,  1.        ,  0.60162602,  0.86567164,  0.85863874,\n",
      "        0.81386861,  0.        ,  0.82703777,  0.        ,  0.86956522,\n",
      "        0.88      ,  0.82580645,  0.85169744,  1.        ,  0.        ,\n",
      "        0.65753425,  1.        ,  1.        ,  1.        ,  0.92      ,\n",
      "        0.        ,  0.85839416,  0.77030812,  0.72727273,  1.        ,\n",
      "        0.90909091,  0.93333333,  0.66666667,  0.7972973 ,  0.89740082,\n",
      "        0.84848485,  1.        ,  1.        ,  0.94736842,  0.81188119,\n",
      "        0.66666667,  0.88888889,  0.88888889,  1.        ,  0.61538462,\n",
      "        1.        ,  0.92307692,  1.        ,  1.        ,  1.        ,\n",
      "        0.88888889,  0.73972603,  0.82539683,  0.6185567 ,  0.77966102,\n",
      "        0.91304348,  0.8951049 ,  0.9612069 ,  1.        ,  0.72489083,\n",
      "        0.        ,  0.93854749,  1.        ,  0.8       ,  1.        ,\n",
      "        1.        ,  1.        ,  0.8018648 ,  0.93023256,  0.81473456,\n",
      "        0.87557604,  0.        ,  0.8       ,  1.        ,  0.8       ,\n",
      "        1.        ,  0.8030303 ,  0.91428571,  0.79207921,  0.8173913 ,\n",
      "        0.93333333,  1.        ,  0.        ,  0.        ,  0.88773748,\n",
      "        0.        ,  1.        ,  0.        ,  0.85714286,  0.94360902,\n",
      "        0.95081967,  0.58015267,  1.        ,  1.        ,  0.95652174,\n",
      "        0.90337079,  0.80208333,  0.76696165,  0.87640449,  0.96774194,\n",
      "        0.63013699,  0.89102564,  0.82517483,  0.81045752,  0.        ,\n",
      "        1.        ,  0.73684211,  0.        ,  0.64166667,  0.88461538,\n",
      "        0.79389313,  1.        ,  0.90909091,  0.        ,  0.85714286,\n",
      "        1.        ,  0.8       ,  1.        ,  0.82352941,  0.90607735,\n",
      "        0.875     ,  0.65384615,  0.80136402,  0.91666667,  0.75555556,\n",
      "        1.        ,  0.875     ,  1.        ,  1.        ,  0.84210526,\n",
      "        0.62060606,  0.90909091,  0.82142857,  0.66666667,  1.        ,\n",
      "        0.8372093 ,  0.83870968,  1.        ,  0.        ,  0.93498452,\n",
      "        0.82608696,  0.79452055,  0.8       ,  0.75862069,  0.81707317,\n",
      "        1.        ,  0.85714286,  0.90909091,  1.        ,  0.88888889,\n",
      "        0.93251534]), array([   1,    7,  104,   22,   56,   58,   10,  195,    0,    0,  861,\n",
      "          2,    2,   35,    1,   28,    1,  135, 1260,  188,  209,    0,\n",
      "          5,    4,    1,    1,    5,   12,   13,   17,    8,    0,   25,\n",
      "        485,    0,   33,  399,   15,   94,    0,   66,  161,    6,  969,\n",
      "         25,    6,    0,   15,  155,    3,    7,    8,    0,    5,    0,\n",
      "          0,  289,   10,  154,   10,    5,    6,   45,    1,  221,  112,\n",
      "          0,  104,   14,    1,    6,    3,   78,   30,  104,  285,    0,\n",
      "        243,    0,   22,   11,  171,  865,    2,    0,  170,    1,    3,\n",
      "          4,   26,    0,  362,  351,   89,   12,   33,   30,   32,   71,\n",
      "        376,   17,    2,   11,    9,   48,    1,    8,   12,    1,    4,\n",
      "         13,    6,    1,    4,    2,    8,  238,   32,   57,   29,   21,\n",
      "         74,  232,    2,  121,    0,   88,    1,    4,    3,    1,    4,\n",
      "        432,   20,  480,  109,    0,    7,    1,    2,    5,   67,   17,\n",
      "        112,   66,   14,    2,    0,    0,  599,    0,    1,    0,   32,\n",
      "        267,   31,   81,   14,    2,   11,  222,  105,  191,   41,   15,\n",
      "         42,  161,  306,   76,    0,    1,    7,    0,  141,   25,  128,\n",
      "          2,    5,    0,    6,   10,   22,    7,   21,   97,    7,   18,\n",
      "        590,   11,  126,   11,   15,    4,    1,    8,  944,    5,   53,\n",
      "          1,    8,   18,   54,    2,    0,  162,  146,   38,   12,   66,\n",
      "        177,    1,   15,    5,    3,    4,  165]))\n"
     ]
    },
    {
     "name": "stderr",
     "output_type": "stream",
     "text": [
      "/home/ubuntu/anaconda3/envs/tensorflow_p36/lib/python3.6/site-packages/sklearn/metrics/classification.py:1135: UndefinedMetricWarning: Precision and F-score are ill-defined and being set to 0.0 in labels with no predicted samples.\n",
      "  'precision', 'predicted', average, warn_for)\n",
      "/home/ubuntu/anaconda3/envs/tensorflow_p36/lib/python3.6/site-packages/sklearn/metrics/classification.py:1137: UndefinedMetricWarning: Recall and F-score are ill-defined and being set to 0.0 in labels with no true samples.\n",
      "  'recall', 'true', average, warn_for)\n"
     ]
    }
   ],
   "source": [
    "print('weightedmacro: {}'.format(precision_recall_fscore_support(y_dev, y_pred_dev, average=None, sample_weight=None)))"
   ]
  },
  {
   "cell_type": "code",
   "execution_count": 37,
   "metadata": {},
   "outputs": [],
   "source": [
    "to_file(y_train,\"true_train\"+date_run)"
   ]
  },
  {
   "cell_type": "code",
   "execution_count": 38,
   "metadata": {},
   "outputs": [],
   "source": [
    "to_file(y_dev,\"true_dev\"+date_run)"
   ]
  },
  {
   "cell_type": "markdown",
   "metadata": {},
   "source": [
    "### predictions"
   ]
  },
  {
   "cell_type": "code",
   "execution_count": 39,
   "metadata": {},
   "outputs": [],
   "source": [
    "def get_predictions(data_to_tag): \n",
    "    filename = data_to_tag+\"_arrays.npz\"\n",
    "    arrays = np.load(os.path.join(DATADIR,filename))\n",
    "    \n",
    "    print('Set up arrays for new_content: {}'.format(arrays.files))\n",
    "    x_predict = arrays['x']\n",
    "    meta_predict = arrays['meta'].all().todense()\n",
    "    title_predict = arrays['title'].all().todense()\n",
    "    desc_predict = arrays['desc'].all().todense()\n",
    "    \n",
    "    print('x_arrays.shape = {}'.format(x_predict.shape))\n",
    "    print('meta_arrays.shape = {}'.format(meta_predict.shape))\n",
    "    print('title_arrays.shape = {}'.format(title_predict.shape))\n",
    "    print('desc_arrays.shape = {}'.format(desc_predict.shape))\n",
    "    \n",
    "    print('Predict on untagged content')\n",
    "    y_pred_new = model.predict([meta_predict, title_predict, desc_predict, x_predict])\n",
    "    \n",
    "    to_file(y_pred_new, data_to_tag+\"_predictions\"+date_run)"
   ]
  },
  {
   "cell_type": "code",
   "execution_count": 40,
   "metadata": {},
   "outputs": [
    {
     "name": "stdout",
     "output_type": "stream",
     "text": [
      "Set up arrays for new_content: ['x', 'meta', 'title', 'desc', 'content_id']\n",
      "x_arrays.shape = (56737, 1000)\n",
      "meta_arrays.shape = (56737, 521)\n",
      "title_arrays.shape = (56737, 10000)\n",
      "desc_arrays.shape = (56737, 10000)\n",
      "Predict on untagged content\n"
     ]
    }
   ],
   "source": [
    "get_predictions(\"new\")"
   ]
  },
  {
   "cell_type": "code",
   "execution_count": 41,
   "metadata": {},
   "outputs": [
    {
     "name": "stdout",
     "output_type": "stream",
     "text": [
      "new_predictions_1123_2703_\n"
     ]
    }
   ],
   "source": [
    "print(\"new_predictions\"+date_run)"
   ]
  },
  {
   "cell_type": "code",
   "execution_count": 42,
   "metadata": {},
   "outputs": [
    {
     "name": "stdout",
     "output_type": "stream",
     "text": [
      "Set up arrays for new_content: ['x', 'meta', 'title', 'desc', 'content_id']\n",
      "x_arrays.shape = (18015, 1000)\n",
      "meta_arrays.shape = (18015, 521)\n",
      "title_arrays.shape = (18015, 10000)\n",
      "desc_arrays.shape = (18015, 10000)\n",
      "Predict on untagged content\n"
     ]
    }
   ],
   "source": [
    "get_predictions(\"level1\")"
   ]
  },
  {
   "cell_type": "code",
   "execution_count": 43,
   "metadata": {},
   "outputs": [
    {
     "name": "stdout",
     "output_type": "stream",
     "text": [
      "level1_predictions_1123_2703_\n"
     ]
    }
   ],
   "source": [
    "print(\"level1_predictions\"+date_run)"
   ]
  },
  {
   "cell_type": "code",
   "execution_count": null,
   "metadata": {},
   "outputs": [],
   "source": []
  },
  {
   "cell_type": "code",
   "execution_count": null,
   "metadata": {},
   "outputs": [],
   "source": []
  },
  {
   "cell_type": "code",
   "execution_count": null,
   "metadata": {},
   "outputs": [],
   "source": []
  }
 ],
 "metadata": {
  "keep_output": true,
  "kernelspec": {
   "display_name": "Environment (conda_tensorflow_p36)",
   "language": "python",
   "name": "conda_tensorflow_p36"
  },
  "language_info": {
   "codemirror_mode": {
    "name": "ipython",
    "version": 3
   },
   "file_extension": ".py",
   "mimetype": "text/x-python",
   "name": "python",
   "nbconvert_exporter": "python",
   "pygments_lexer": "ipython3",
   "version": "3.6.3"
  }
 },
 "nbformat": 4,
 "nbformat_minor": 2
}
