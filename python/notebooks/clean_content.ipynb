{
 "cells": [
  {
   "cell_type": "code",
   "execution_count": 20,
   "metadata": {},
   "outputs": [],
   "source": [
    "import numpy as np\n",
    "import pandas as pd\n",
    "from lxml import etree"
   ]
  },
  {
   "cell_type": "code",
   "execution_count": 21,
   "metadata": {},
   "outputs": [],
   "source": [
    "# Get data file locations\n",
    "\n",
    "CONTENT_INPUT = '../../data/raw_content.json'\n",
    "CONTENT_OUTPUT = '../../data/clean_content.csv'"
   ]
  },
  {
   "cell_type": "code",
   "execution_count": 22,
   "metadata": {},
   "outputs": [],
   "source": [
    "#download the taxon data from content store for all links which are taxons\n",
    "content = pd.read_json(\n",
    "    CONTENT_INPUT, \n",
    "    orient='table', \n",
    "    typ='frame', \n",
    "    dtype=True, \n",
    "    convert_axes=True, \n",
    "    convert_dates=True, \n",
    "    keep_default_dates=True, \n",
    "    numpy=False, \n",
    "    precise_float=False, \n",
    "    date_unit=None\n",
    ")\n"
   ]
  },
  {
   "cell_type": "code",
   "execution_count": 5,
   "metadata": {},
   "outputs": [
    {
     "data": {
      "text/html": [
       "<div>\n",
       "<style scoped>\n",
       "    .dataframe tbody tr th:only-of-type {\n",
       "        vertical-align: middle;\n",
       "    }\n",
       "\n",
       "    .dataframe tbody tr th {\n",
       "        vertical-align: top;\n",
       "    }\n",
       "\n",
       "    .dataframe thead th {\n",
       "        text-align: right;\n",
       "    }\n",
       "</style>\n",
       "<table border=\"1\" class=\"dataframe\">\n",
       "  <thead>\n",
       "    <tr style=\"text-align: right;\">\n",
       "      <th></th>\n",
       "      <th>base_path</th>\n",
       "      <th>content_id</th>\n",
       "      <th>description</th>\n",
       "      <th>details</th>\n",
       "      <th>document_type</th>\n",
       "      <th>first_published_at</th>\n",
       "      <th>locale</th>\n",
       "      <th>primary_publishing_organisation</th>\n",
       "      <th>publishing_app</th>\n",
       "      <th>taxons</th>\n",
       "      <th>title</th>\n",
       "    </tr>\n",
       "  </thead>\n",
       "  <tbody>\n",
       "    <tr>\n",
       "      <th>0</th>\n",
       "      <td>/government/organisations/companies-house</td>\n",
       "      <td>c36bd301-d0c5-4492-86ad-ee7843b8383b</td>\n",
       "      <td>None</td>\n",
       "      <td>{'brand': 'department-for-business-innovation-...</td>\n",
       "      <td>organisation</td>\n",
       "      <td>2016-02-29T09:24:10.000+00:00</td>\n",
       "      <td>en</td>\n",
       "      <td>NaN</td>\n",
       "      <td>whitehall</td>\n",
       "      <td>NaN</td>\n",
       "      <td>Companies House</td>\n",
       "    </tr>\n",
       "    <tr>\n",
       "      <th>1</th>\n",
       "      <td>/government/organisations/hm-revenue-customs</td>\n",
       "      <td>6667cce2-e809-4e21-ae09-cb0bdc1ddda3</td>\n",
       "      <td>None</td>\n",
       "      <td>{'brand': 'hm-revenue-customs', 'logo': {'cres...</td>\n",
       "      <td>organisation</td>\n",
       "      <td>2016-02-29T09:24:10.000+00:00</td>\n",
       "      <td>en</td>\n",
       "      <td>NaN</td>\n",
       "      <td>whitehall</td>\n",
       "      <td>NaN</td>\n",
       "      <td>HM Revenue &amp; Customs</td>\n",
       "    </tr>\n",
       "    <tr>\n",
       "      <th>2</th>\n",
       "      <td>/government/organisations/driver-and-vehicle-l...</td>\n",
       "      <td>70580624-93b5-4aed-823b-76042486c769</td>\n",
       "      <td>None</td>\n",
       "      <td>{'brand': 'department-for-transport', 'logo': ...</td>\n",
       "      <td>organisation</td>\n",
       "      <td>2016-02-29T09:24:10.000+00:00</td>\n",
       "      <td>en</td>\n",
       "      <td>NaN</td>\n",
       "      <td>whitehall</td>\n",
       "      <td>NaN</td>\n",
       "      <td>Driver and Vehicle Licensing Agency</td>\n",
       "    </tr>\n",
       "    <tr>\n",
       "      <th>3</th>\n",
       "      <td>/government/publications</td>\n",
       "      <td>b13317e9-3753-47b2-95da-c173071e621d</td>\n",
       "      <td>Find publications from across government inclu...</td>\n",
       "      <td>{}</td>\n",
       "      <td>finder</td>\n",
       "      <td>2016-11-14T16:28:53.000+00:00</td>\n",
       "      <td>en</td>\n",
       "      <td>NaN</td>\n",
       "      <td>whitehall</td>\n",
       "      <td>NaN</td>\n",
       "      <td>All publications</td>\n",
       "    </tr>\n",
       "    <tr>\n",
       "      <th>4</th>\n",
       "      <td>/bank-holidays</td>\n",
       "      <td>58f79dbd-e57f-4ab2-ae96-96df5767d1b2</td>\n",
       "      <td>None</td>\n",
       "      <td>{}</td>\n",
       "      <td>calendar</td>\n",
       "      <td>2016-02-29T09:24:10.000+00:00</td>\n",
       "      <td>en</td>\n",
       "      <td>NaN</td>\n",
       "      <td>calendars</td>\n",
       "      <td>[{'title': 'Statutory leave and time off', 'co...</td>\n",
       "      <td>UK bank holidays</td>\n",
       "    </tr>\n",
       "  </tbody>\n",
       "</table>\n",
       "</div>"
      ],
      "text/plain": [
       "                                           base_path  \\\n",
       "0          /government/organisations/companies-house   \n",
       "1       /government/organisations/hm-revenue-customs   \n",
       "2  /government/organisations/driver-and-vehicle-l...   \n",
       "3                           /government/publications   \n",
       "4                                     /bank-holidays   \n",
       "\n",
       "                             content_id  \\\n",
       "0  c36bd301-d0c5-4492-86ad-ee7843b8383b   \n",
       "1  6667cce2-e809-4e21-ae09-cb0bdc1ddda3   \n",
       "2  70580624-93b5-4aed-823b-76042486c769   \n",
       "3  b13317e9-3753-47b2-95da-c173071e621d   \n",
       "4  58f79dbd-e57f-4ab2-ae96-96df5767d1b2   \n",
       "\n",
       "                                         description  \\\n",
       "0                                               None   \n",
       "1                                               None   \n",
       "2                                               None   \n",
       "3  Find publications from across government inclu...   \n",
       "4                                               None   \n",
       "\n",
       "                                             details document_type  \\\n",
       "0  {'brand': 'department-for-business-innovation-...  organisation   \n",
       "1  {'brand': 'hm-revenue-customs', 'logo': {'cres...  organisation   \n",
       "2  {'brand': 'department-for-transport', 'logo': ...  organisation   \n",
       "3                                                 {}        finder   \n",
       "4                                                 {}      calendar   \n",
       "\n",
       "              first_published_at locale primary_publishing_organisation  \\\n",
       "0  2016-02-29T09:24:10.000+00:00     en                             NaN   \n",
       "1  2016-02-29T09:24:10.000+00:00     en                             NaN   \n",
       "2  2016-02-29T09:24:10.000+00:00     en                             NaN   \n",
       "3  2016-11-14T16:28:53.000+00:00     en                             NaN   \n",
       "4  2016-02-29T09:24:10.000+00:00     en                             NaN   \n",
       "\n",
       "  publishing_app                                             taxons  \\\n",
       "0      whitehall                                                NaN   \n",
       "1      whitehall                                                NaN   \n",
       "2      whitehall                                                NaN   \n",
       "3      whitehall                                                NaN   \n",
       "4      calendars  [{'title': 'Statutory leave and time off', 'co...   \n",
       "\n",
       "                                 title  \n",
       "0                     Companies House   \n",
       "1                 HM Revenue & Customs  \n",
       "2  Driver and Vehicle Licensing Agency  \n",
       "3                     All publications  \n",
       "4                     UK bank holidays  "
      ]
     },
     "execution_count": 5,
     "metadata": {},
     "output_type": "execute_result"
    }
   ],
   "source": [
    "content.head()"
   ]
  },
  {
   "cell_type": "code",
   "execution_count": 6,
   "metadata": {},
   "outputs": [
    {
     "data": {
      "text/plain": [
       "{'brand': 'department-for-business-innovation-skills',\n",
       " 'logo': {'crest': 'single-identity', 'formatted_title': 'Companies House'}}"
      ]
     },
     "execution_count": 6,
     "metadata": {},
     "output_type": "execute_result"
    }
   ],
   "source": [
    "content['details'][0]"
   ]
  },
  {
   "cell_type": "code",
   "execution_count": 10,
   "metadata": {},
   "outputs": [
    {
     "data": {
      "text/plain": [
       "'<div class=\"govspeak\"><h2 id=\"before-you-start\">Before you start</h2>\\n\\n<p>To respond to this survey, you should be:</p>\\n\\n<ol>\\n  <li>lesbian, gay, bisexual, transgender or intersex, or have a minority sexual orientation or gender identity</li>\\n  <li>16 years old or over</li>\\n  <li>living in the UK</li>\\n</ol>\\n\\n<div class=\"call-to-action\">\\n<p><a rel=\"external\" href=\"https://smartsurvey.co.uk/s/govuk-lgbt-survey/\">Start the survey</a></p>\\n</div>\\n\\n<h2 id=\"about-this-survey\">About this survey</h2>\\n\\n<p>We want to know more about the experiences that lesbian, gay, bisexual and transgender (LGBT) people have living in the UK.</p>\\n\\n<p>This survey asks about:</p>\\n\\n<ul>\\n  <li>your experiences of accessing and using public services in the UK</li>\\n  <li>any experiences of discrimination you may have faced throughout your life</li>\\n</ul>\\n\\n<p>You will be asked about your experiences at work, in education, in healthcare, and about your personal safety. We want to collect as much information as possible, but you don’t have to answer every question if you don’t want to.</p>\\n\\n<p>The survey is anonymous: no one will be able to tell who you are at any point.</p>\\n\\n<p>The survey takes around 15 minutes to answer. You can complete the survey in one go, or save your answers and come back to it later.</p>\\n\\n<p>After the survey closes, we will analyse the results and use them to inform our plans to improve LGBT equality. We will publish our findings on GOV.UK when this analysis is completed. No one will be able to identify you from the results when they are published.</p>\\n\\n<p><strong>If you are affected by any of the issues mentioned in this survey</strong>, and want further support, we have published information about <a href=\"https://www.gov.uk/guidance/advice-and-support-for-lgbt-people\">places you can get help and support from</a>.</p>\\n\\n<h2 id=\"easy-read-version\">Easy Read version</h2>\\n\\n<p>We have created an Easy Read version of the national LGBT survey.  Easy Read documents are simpler versions for use by people with learning difficulties.</p>\\n\\n<p>You should use this version if you would find the full survey too hard to fill in.</p>\\n\\n<p>Once you have filled in the Easy Read survey, you can <a rel=\"external\" href=\"https://www.smartsurvey.co.uk/s/govuk-lgbt-survey-upload\">upload it</a> or <a href=\"https://www.gov.uk/government/organisations/government-equalities-office#org-contacts\">post it to us</a>.</p>\\n</div>'"
      ]
     },
     "execution_count": 10,
     "metadata": {},
     "output_type": "execute_result"
    }
   ],
   "source": [
    "content['details'][50].get('body')"
   ]
  },
  {
   "cell_type": "code",
   "execution_count": 27,
   "metadata": {},
   "outputs": [],
   "source": [
    "content = content.assign(body = [d.get('body') for d in content.details])"
   ]
  },
  {
   "cell_type": "code",
   "execution_count": 43,
   "metadata": {},
   "outputs": [],
   "source": [
    "foo = content['body'][50]"
   ]
  },
  {
   "cell_type": "code",
   "execution_count": 61,
   "metadata": {},
   "outputs": [],
   "source": [
    "# Clean the html\n",
    "\n",
    "def extract_text(body):\n",
    "    \n",
    "    if body:\n",
    "        tree = etree.HTML(body)\n",
    "        r = tree.xpath('//text()')\n",
    "        r = ' '.join(r)\n",
    "        r = r.strip().replace('\\r', ' ').replace('\\t', ' ')\n",
    "        r = r.replace('\\n', ' ').replace(',', ' ')\n",
    "        r = r.lower()\n",
    "        r = \" \".join(r.split())\n",
    "    return r"
   ]
  },
  {
   "cell_type": "code",
   "execution_count": 62,
   "metadata": {},
   "outputs": [
    {
     "ename": "UnboundLocalError",
     "evalue": "local variable 'r' referenced before assignment",
     "output_type": "error",
     "traceback": [
      "\u001b[0;31m---------------------------------------------------------------------------\u001b[0m",
      "\u001b[0;31mUnboundLocalError\u001b[0m                         Traceback (most recent call last)",
      "\u001b[0;32m<ipython-input-62-d21c038c7eb9>\u001b[0m in \u001b[0;36m<module>\u001b[0;34m()\u001b[0m\n\u001b[0;32m----> 1\u001b[0;31m \u001b[0mcontent\u001b[0m\u001b[0;34m[\u001b[0m\u001b[0;34m'body'\u001b[0m\u001b[0;34m]\u001b[0m\u001b[0;34m[\u001b[0m\u001b[0;36m0\u001b[0m\u001b[0;34m:\u001b[0m\u001b[0;36m10\u001b[0m\u001b[0;34m]\u001b[0m\u001b[0;34m.\u001b[0m\u001b[0mapply\u001b[0m\u001b[0;34m(\u001b[0m\u001b[0mextract_text\u001b[0m\u001b[0;34m)\u001b[0m\u001b[0;34m\u001b[0m\u001b[0m\n\u001b[0m",
      "\u001b[0;32m~/.pyenv/versions/govuk-legacy-taxonomy/lib/python3.4/site-packages/pandas/core/series.py\u001b[0m in \u001b[0;36mapply\u001b[0;34m(self, func, convert_dtype, args, **kwds)\u001b[0m\n\u001b[1;32m   2508\u001b[0m             \u001b[0;32melse\u001b[0m\u001b[0;34m:\u001b[0m\u001b[0;34m\u001b[0m\u001b[0m\n\u001b[1;32m   2509\u001b[0m                 \u001b[0mvalues\u001b[0m \u001b[0;34m=\u001b[0m \u001b[0mself\u001b[0m\u001b[0;34m.\u001b[0m\u001b[0masobject\u001b[0m\u001b[0;34m\u001b[0m\u001b[0m\n\u001b[0;32m-> 2510\u001b[0;31m                 \u001b[0mmapped\u001b[0m \u001b[0;34m=\u001b[0m \u001b[0mlib\u001b[0m\u001b[0;34m.\u001b[0m\u001b[0mmap_infer\u001b[0m\u001b[0;34m(\u001b[0m\u001b[0mvalues\u001b[0m\u001b[0;34m,\u001b[0m \u001b[0mf\u001b[0m\u001b[0;34m,\u001b[0m \u001b[0mconvert\u001b[0m\u001b[0;34m=\u001b[0m\u001b[0mconvert_dtype\u001b[0m\u001b[0;34m)\u001b[0m\u001b[0;34m\u001b[0m\u001b[0m\n\u001b[0m\u001b[1;32m   2511\u001b[0m \u001b[0;34m\u001b[0m\u001b[0m\n\u001b[1;32m   2512\u001b[0m         \u001b[0;32mif\u001b[0m \u001b[0mlen\u001b[0m\u001b[0;34m(\u001b[0m\u001b[0mmapped\u001b[0m\u001b[0;34m)\u001b[0m \u001b[0;32mand\u001b[0m \u001b[0misinstance\u001b[0m\u001b[0;34m(\u001b[0m\u001b[0mmapped\u001b[0m\u001b[0;34m[\u001b[0m\u001b[0;36m0\u001b[0m\u001b[0;34m]\u001b[0m\u001b[0;34m,\u001b[0m \u001b[0mSeries\u001b[0m\u001b[0;34m)\u001b[0m\u001b[0;34m:\u001b[0m\u001b[0;34m\u001b[0m\u001b[0m\n",
      "\u001b[0;32mpandas/_libs/src/inference.pyx\u001b[0m in \u001b[0;36mpandas._libs.lib.map_infer\u001b[0;34m()\u001b[0m\n",
      "\u001b[0;32m<ipython-input-61-1047d30e9065>\u001b[0m in \u001b[0;36mextract_text\u001b[0;34m(body)\u001b[0m\n\u001b[1;32m     11\u001b[0m         \u001b[0mr\u001b[0m \u001b[0;34m=\u001b[0m \u001b[0mr\u001b[0m\u001b[0;34m.\u001b[0m\u001b[0mlower\u001b[0m\u001b[0;34m(\u001b[0m\u001b[0;34m)\u001b[0m\u001b[0;34m\u001b[0m\u001b[0m\n\u001b[1;32m     12\u001b[0m         \u001b[0mr\u001b[0m \u001b[0;34m=\u001b[0m \u001b[0;34m\" \"\u001b[0m\u001b[0;34m.\u001b[0m\u001b[0mjoin\u001b[0m\u001b[0;34m(\u001b[0m\u001b[0mr\u001b[0m\u001b[0;34m.\u001b[0m\u001b[0msplit\u001b[0m\u001b[0;34m(\u001b[0m\u001b[0;34m)\u001b[0m\u001b[0;34m)\u001b[0m\u001b[0;34m\u001b[0m\u001b[0m\n\u001b[0;32m---> 13\u001b[0;31m     \u001b[0;32mreturn\u001b[0m \u001b[0mr\u001b[0m\u001b[0;34m\u001b[0m\u001b[0m\n\u001b[0m",
      "\u001b[0;31mUnboundLocalError\u001b[0m: local variable 'r' referenced before assignment"
     ]
    }
   ],
   "source": [
    "content['body'][0:10].apply(extract_text)"
   ]
  }
 ],
 "metadata": {
  "kernelspec": {
   "display_name": "govuk-legacy-taxonomy",
   "language": "python",
   "name": "govuk-legacy-taxonomy"
  },
  "language_info": {
   "codemirror_mode": {
    "name": "ipython",
    "version": 3
   },
   "file_extension": ".py",
   "mimetype": "text/x-python",
   "name": "python",
   "nbconvert_exporter": "python",
   "pygments_lexer": "ipython3",
   "version": "3.4.6"
  }
 },
 "nbformat": 4,
 "nbformat_minor": 2
}
