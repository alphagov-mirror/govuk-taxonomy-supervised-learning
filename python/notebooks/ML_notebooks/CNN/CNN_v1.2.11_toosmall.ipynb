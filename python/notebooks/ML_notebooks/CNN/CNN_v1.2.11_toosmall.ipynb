{
 "cells": [
  {
   "cell_type": "markdown",
   "metadata": {},
   "source": [
    "## Convolutional NN to classify govuk content to level2 taxons"
   ]
  },
  {
   "cell_type": "markdown",
   "metadata": {},
   "source": [
    "Based on:\n",
    "https://blog.keras.io/using-pre-trained-word-embeddings-in-a-keras-model.html"
   ]
  },
  {
   "cell_type": "markdown",
   "metadata": {},
   "source": [
    "## To do:\n",
    "- ~~Consider grouping very small classes (especially if too small for evaluation)~~\n",
    "- ~~Split data into training, validation and test to avoid overfitting validation data during hyperparamter searches & model architecture changes~~\n",
    "- ~~Try learning embeddings~~--\n",
    "- ~~Try changing pos_ratio~~\n",
    "- Try implementing class_weights during model fit (does this do the same as the weighted binary corss entropy?)\n",
    "- Work on tensorboard callbacks\n",
    "- ~~Create dictionary of class indices to taxon names for viewing results~~\n",
    "- ~~Check model architecture~~\n",
    "- ~~consider relationship of training error to validation error - overfitting/bias?~~\n",
    "- ~~train longer~~\n",
    "- Try differnet max_sequence_length\n",
    "- Check batch size is appropriate\n",
    "- Also think about:\n",
    "  - ~~regularization (e.g. dropout)~~ \n",
    "  - fine-tuning the Embedding layer"
   ]
  },
  {
   "cell_type": "markdown",
   "metadata": {},
   "source": [
    "### Load requirements and data"
   ]
  },
  {
   "cell_type": "markdown",
   "metadata": {},
   "source": [
    "TODO: edit requirement.txt to include only these packages and do not include tensorflow because this conflicts with tf on AWS when using on GPU."
   ]
  },
  {
   "cell_type": "code",
   "execution_count": 1,
   "metadata": {},
   "outputs": [
    {
     "name": "stderr",
     "output_type": "stream",
     "text": [
      "Using TensorFlow backend.\n"
     ]
    }
   ],
   "source": [
    "import pandas as pd\n",
    "import numpy as np\n",
    "import os\n",
    "from datetime import datetime\n",
    "from keras.preprocessing.text import Tokenizer\n",
    "from keras.preprocessing.sequence import pad_sequences\n",
    "\n",
    "from keras.utils import to_categorical, layer_utils, plot_model\n",
    "\n",
    "from keras.layers import (Embedding, Input, Dense, Dropout, \n",
    "                          Activation, Conv1D, MaxPooling1D, Flatten, concatenate, Reshape)\n",
    "from keras.models import Model, Sequential\n",
    "from keras.optimizers import rmsprop\n",
    "from keras.callbacks import TensorBoard, Callback, ModelCheckpoint\n",
    "import keras.backend as K\n",
    "from keras.losses import binary_crossentropy\n",
    "\n",
    "from sklearn.preprocessing import LabelEncoder, MultiLabelBinarizer\n",
    "from sklearn.metrics import confusion_matrix, f1_score, precision_score, recall_score \n",
    "from sklearn.metrics import precision_recall_fscore_support, classification_report\n",
    "from sklearn.utils import class_weight\n",
    "\n",
    "import tensorflow as tf\n",
    "\n",
    "import matplotlib.pyplot as plt\n",
    "%matplotlib inline\n",
    "\n",
    "import functools\n",
    "\n",
    "import h5py\n"
   ]
  },
  {
   "cell_type": "markdown",
   "metadata": {},
   "source": [
    "### Environmental vars"
   ]
  },
  {
   "cell_type": "code",
   "execution_count": 2,
   "metadata": {},
   "outputs": [],
   "source": [
    "DATADIR=os.getenv('DATADIR')\n",
    "#DATADIR='/data' #this was put in for AWS run but doesn't work locally..."
   ]
  },
  {
   "cell_type": "markdown",
   "metadata": {},
   "source": [
    "## Hyperparameters"
   ]
  },
  {
   "cell_type": "markdown",
   "metadata": {},
   "source": [
    "Intuition for POS_RATIO is that it penalises the prediction of zero for everything, which is attractive to the model because the multilabel y matrix is super sparse. \n",
    "\n",
    "Increasing POS_RATIO should penalise predicting zeros more."
   ]
  },
  {
   "cell_type": "code",
   "execution_count": 3,
   "metadata": {},
   "outputs": [],
   "source": [
    "#MAX_NB_WORDS\n",
    "MAX_SEQUENCE_LENGTH =1000\n",
    "EMBEDDING_DIM = 100 # keras embedding layer output_dim = Dimension of the dense embedding\n",
    "P_THRESHOLD = 0.5 #Threshold for probability of being assigned to class\n",
    "POS_RATIO = 0.5 #ratio of positive to negative for each class in weighted binary cross entropy loss function\n",
    "NUM_WORDS=20000 #keras tokenizer num_words: None or int. Maximum number of words to work with \n",
    "#(if set, tokenization will be restricted to the top num_words most common words in the dataset)."
   ]
  },
  {
   "cell_type": "markdown",
   "metadata": {},
   "source": [
    "### Read in data\n",
    "Content items tagged to level 2 taxons or lower in the topic taxonomy"
   ]
  },
  {
   "cell_type": "code",
   "execution_count": 4,
   "metadata": {},
   "outputs": [],
   "source": [
    "labelled_level2 = pd.read_csv(os.path.join(DATADIR, 'labelled_level2.csv.gz'), dtype=object, compression='gzip')"
   ]
  },
  {
   "cell_type": "code",
   "execution_count": 5,
   "metadata": {},
   "outputs": [
    {
     "data": {
      "text/html": [
       "<div>\n",
       "<style scoped>\n",
       "    .dataframe tbody tr th:only-of-type {\n",
       "        vertical-align: middle;\n",
       "    }\n",
       "\n",
       "    .dataframe tbody tr th {\n",
       "        vertical-align: top;\n",
       "    }\n",
       "\n",
       "    .dataframe thead th {\n",
       "        text-align: right;\n",
       "    }\n",
       "</style>\n",
       "<table border=\"1\" class=\"dataframe\">\n",
       "  <thead>\n",
       "    <tr style=\"text-align: right;\">\n",
       "      <th></th>\n",
       "      <th>base_path</th>\n",
       "      <th>content_id</th>\n",
       "      <th>description</th>\n",
       "      <th>details</th>\n",
       "      <th>document_type</th>\n",
       "      <th>first_published_at</th>\n",
       "      <th>locale</th>\n",
       "      <th>primary_publishing_organisation</th>\n",
       "      <th>publishing_app</th>\n",
       "      <th>title</th>\n",
       "      <th>...</th>\n",
       "      <th>body</th>\n",
       "      <th>combined_text</th>\n",
       "      <th>taxon_id</th>\n",
       "      <th>taxon_base_path</th>\n",
       "      <th>taxon_name</th>\n",
       "      <th>level1taxon</th>\n",
       "      <th>level2taxon</th>\n",
       "      <th>level3taxon</th>\n",
       "      <th>level4taxon</th>\n",
       "      <th>level5taxon</th>\n",
       "    </tr>\n",
       "  </thead>\n",
       "  <tbody>\n",
       "    <tr>\n",
       "      <th>57687</th>\n",
       "      <td>/government/collections/emma-jones-small-busin...</td>\n",
       "      <td>00029fa4-9b60-4285-898c-85ae8a6367f5</td>\n",
       "      <td>as small business crown representative emma is...</td>\n",
       "      <td>{'change_history': [{'note': 'new blog', 'publ...</td>\n",
       "      <td>document_collection</td>\n",
       "      <td>2017-01-11T10:18:00.000+00:00</td>\n",
       "      <td>en</td>\n",
       "      <td>{'title': 'Crown Commercial Service'}</td>\n",
       "      <td>whitehall</td>\n",
       "      <td>emma jones - small business crown representative</td>\n",
       "      <td>...</td>\n",
       "      <td>emma was appointed as small business crown rep...</td>\n",
       "      <td>emma jones - small business crown representati...</td>\n",
       "      <td>f3caf326-fe33-410f-b7f4-553f4011c81e</td>\n",
       "      <td>/government/government-spending</td>\n",
       "      <td>Government spending</td>\n",
       "      <td>Government</td>\n",
       "      <td>Government spending</td>\n",
       "      <td>NaN</td>\n",
       "      <td>NaN</td>\n",
       "      <td>NaN</td>\n",
       "    </tr>\n",
       "    <tr>\n",
       "      <th>125770</th>\n",
       "      <td>/government/publications/land-remediation-brin...</td>\n",
       "      <td>00037b70-5b08-44c2-bf0a-fa8eb636a60b</td>\n",
       "      <td>brochure showing uk expertise in land remediat...</td>\n",
       "      <td>{'documents': ['&lt;section class=\"attachment emb...</td>\n",
       "      <td>promotional</td>\n",
       "      <td>2015-05-11T10:41:00.000+00:00</td>\n",
       "      <td>en</td>\n",
       "      <td>{'title': 'Department for International Trade'}</td>\n",
       "      <td>whitehall</td>\n",
       "      <td>land remediation: bringing brownfield sites ba...</td>\n",
       "      <td>...</td>\n",
       "      <td>the uk was the first industrialised country in...</td>\n",
       "      <td>land remediation: bringing brownfield sites ba...</td>\n",
       "      <td>ed2ca1f7-5463-4eda-9324-b597e269e242</td>\n",
       "      <td>/business/trade-and-investment</td>\n",
       "      <td>Trade and investment</td>\n",
       "      <td>Business</td>\n",
       "      <td>Trade and investment</td>\n",
       "      <td>NaN</td>\n",
       "      <td>NaN</td>\n",
       "      <td>NaN</td>\n",
       "    </tr>\n",
       "    <tr>\n",
       "      <th>17253</th>\n",
       "      <td>/government/publications/land-remediation-brin...</td>\n",
       "      <td>00037b70-5b08-44c2-bf0a-fa8eb636a60b</td>\n",
       "      <td>brochure showing uk expertise in land remediat...</td>\n",
       "      <td>{'documents': ['&lt;section class=\"attachment emb...</td>\n",
       "      <td>promotional</td>\n",
       "      <td>2015-05-11T10:41:00.000+00:00</td>\n",
       "      <td>en</td>\n",
       "      <td>{'title': 'Department for International Trade'}</td>\n",
       "      <td>whitehall</td>\n",
       "      <td>land remediation: bringing brownfield sites ba...</td>\n",
       "      <td>...</td>\n",
       "      <td>the uk was the first industrialised country in...</td>\n",
       "      <td>land remediation: bringing brownfield sites ba...</td>\n",
       "      <td>a1e4659c-dc15-48be-bc4f-6c609ae061dc</td>\n",
       "      <td>/business/uk-economy</td>\n",
       "      <td>UK economy</td>\n",
       "      <td>Business</td>\n",
       "      <td>UK economy</td>\n",
       "      <td>NaN</td>\n",
       "      <td>NaN</td>\n",
       "      <td>NaN</td>\n",
       "    </tr>\n",
       "    <tr>\n",
       "      <th>30435</th>\n",
       "      <td>/government/publications/land-remediation-brin...</td>\n",
       "      <td>00037b70-5b08-44c2-bf0a-fa8eb636a60b</td>\n",
       "      <td>brochure showing uk expertise in land remediat...</td>\n",
       "      <td>{'documents': ['&lt;section class=\"attachment emb...</td>\n",
       "      <td>promotional</td>\n",
       "      <td>2015-05-11T10:41:00.000+00:00</td>\n",
       "      <td>en</td>\n",
       "      <td>{'title': 'Department for International Trade'}</td>\n",
       "      <td>whitehall</td>\n",
       "      <td>land remediation: bringing brownfield sites ba...</td>\n",
       "      <td>...</td>\n",
       "      <td>the uk was the first industrialised country in...</td>\n",
       "      <td>land remediation: bringing brownfield sites ba...</td>\n",
       "      <td>21eee04d-e702-4e7b-9fde-2f6777f1be2c</td>\n",
       "      <td>/business/business-and-enterprise</td>\n",
       "      <td>Business and enterprise</td>\n",
       "      <td>Business</td>\n",
       "      <td>Business and enterprise</td>\n",
       "      <td>NaN</td>\n",
       "      <td>NaN</td>\n",
       "      <td>NaN</td>\n",
       "    </tr>\n",
       "    <tr>\n",
       "      <th>136043</th>\n",
       "      <td>/government/statistics/steps-2-successni-stati...</td>\n",
       "      <td>00037ee5-7b5e-452d-a233-af2c134f5bce</td>\n",
       "      <td>details on the number of referrals and starts ...</td>\n",
       "      <td>{'documents': ['&lt;section class=\"attachment hos...</td>\n",
       "      <td>official_statistics</td>\n",
       "      <td>2016-11-24T09:30:13.000+00:00</td>\n",
       "      <td>en</td>\n",
       "      <td>{'title': 'Department for Communities (Norther...</td>\n",
       "      <td>whitehall</td>\n",
       "      <td>steps 2 success:ni statistics from october 201...</td>\n",
       "      <td>...</td>\n",
       "      <td>statistics presented include details on the nu...</td>\n",
       "      <td>steps 2 success:ni statistics from october 201...</td>\n",
       "      <td>a1e624ed-e268-44ab-ac3f-4d3cb2bb8cb5</td>\n",
       "      <td>/regional-and-local-government/northern-ireland</td>\n",
       "      <td>Northern Ireland</td>\n",
       "      <td>Regional and local government</td>\n",
       "      <td>Northern Ireland</td>\n",
       "      <td>NaN</td>\n",
       "      <td>NaN</td>\n",
       "      <td>NaN</td>\n",
       "    </tr>\n",
       "  </tbody>\n",
       "</table>\n",
       "<p>5 rows × 21 columns</p>\n",
       "</div>"
      ],
      "text/plain": [
       "                                                base_path  \\\n",
       "57687   /government/collections/emma-jones-small-busin...   \n",
       "125770  /government/publications/land-remediation-brin...   \n",
       "17253   /government/publications/land-remediation-brin...   \n",
       "30435   /government/publications/land-remediation-brin...   \n",
       "136043  /government/statistics/steps-2-successni-stati...   \n",
       "\n",
       "                                  content_id  \\\n",
       "57687   00029fa4-9b60-4285-898c-85ae8a6367f5   \n",
       "125770  00037b70-5b08-44c2-bf0a-fa8eb636a60b   \n",
       "17253   00037b70-5b08-44c2-bf0a-fa8eb636a60b   \n",
       "30435   00037b70-5b08-44c2-bf0a-fa8eb636a60b   \n",
       "136043  00037ee5-7b5e-452d-a233-af2c134f5bce   \n",
       "\n",
       "                                              description  \\\n",
       "57687   as small business crown representative emma is...   \n",
       "125770  brochure showing uk expertise in land remediat...   \n",
       "17253   brochure showing uk expertise in land remediat...   \n",
       "30435   brochure showing uk expertise in land remediat...   \n",
       "136043  details on the number of referrals and starts ...   \n",
       "\n",
       "                                                  details  \\\n",
       "57687   {'change_history': [{'note': 'new blog', 'publ...   \n",
       "125770  {'documents': ['<section class=\"attachment emb...   \n",
       "17253   {'documents': ['<section class=\"attachment emb...   \n",
       "30435   {'documents': ['<section class=\"attachment emb...   \n",
       "136043  {'documents': ['<section class=\"attachment hos...   \n",
       "\n",
       "              document_type             first_published_at locale  \\\n",
       "57687   document_collection  2017-01-11T10:18:00.000+00:00     en   \n",
       "125770          promotional  2015-05-11T10:41:00.000+00:00     en   \n",
       "17253           promotional  2015-05-11T10:41:00.000+00:00     en   \n",
       "30435           promotional  2015-05-11T10:41:00.000+00:00     en   \n",
       "136043  official_statistics  2016-11-24T09:30:13.000+00:00     en   \n",
       "\n",
       "                          primary_publishing_organisation publishing_app  \\\n",
       "57687               {'title': 'Crown Commercial Service'}      whitehall   \n",
       "125770    {'title': 'Department for International Trade'}      whitehall   \n",
       "17253     {'title': 'Department for International Trade'}      whitehall   \n",
       "30435     {'title': 'Department for International Trade'}      whitehall   \n",
       "136043  {'title': 'Department for Communities (Norther...      whitehall   \n",
       "\n",
       "                                                    title     ...      \\\n",
       "57687    emma jones - small business crown representative     ...       \n",
       "125770  land remediation: bringing brownfield sites ba...     ...       \n",
       "17253   land remediation: bringing brownfield sites ba...     ...       \n",
       "30435   land remediation: bringing brownfield sites ba...     ...       \n",
       "136043  steps 2 success:ni statistics from october 201...     ...       \n",
       "\n",
       "                                                     body  \\\n",
       "57687   emma was appointed as small business crown rep...   \n",
       "125770  the uk was the first industrialised country in...   \n",
       "17253   the uk was the first industrialised country in...   \n",
       "30435   the uk was the first industrialised country in...   \n",
       "136043  statistics presented include details on the nu...   \n",
       "\n",
       "                                            combined_text  \\\n",
       "57687   emma jones - small business crown representati...   \n",
       "125770  land remediation: bringing brownfield sites ba...   \n",
       "17253   land remediation: bringing brownfield sites ba...   \n",
       "30435   land remediation: bringing brownfield sites ba...   \n",
       "136043  steps 2 success:ni statistics from october 201...   \n",
       "\n",
       "                                    taxon_id  \\\n",
       "57687   f3caf326-fe33-410f-b7f4-553f4011c81e   \n",
       "125770  ed2ca1f7-5463-4eda-9324-b597e269e242   \n",
       "17253   a1e4659c-dc15-48be-bc4f-6c609ae061dc   \n",
       "30435   21eee04d-e702-4e7b-9fde-2f6777f1be2c   \n",
       "136043  a1e624ed-e268-44ab-ac3f-4d3cb2bb8cb5   \n",
       "\n",
       "                                        taxon_base_path  \\\n",
       "57687                   /government/government-spending   \n",
       "125770                   /business/trade-and-investment   \n",
       "17253                              /business/uk-economy   \n",
       "30435                 /business/business-and-enterprise   \n",
       "136043  /regional-and-local-government/northern-ireland   \n",
       "\n",
       "                     taxon_name                    level1taxon  \\\n",
       "57687       Government spending                     Government   \n",
       "125770     Trade and investment                       Business   \n",
       "17253                UK economy                       Business   \n",
       "30435   Business and enterprise                       Business   \n",
       "136043         Northern Ireland  Regional and local government   \n",
       "\n",
       "                    level2taxon level3taxon level4taxon level5taxon  \n",
       "57687       Government spending         NaN         NaN         NaN  \n",
       "125770     Trade and investment         NaN         NaN         NaN  \n",
       "17253                UK economy         NaN         NaN         NaN  \n",
       "30435   Business and enterprise         NaN         NaN         NaN  \n",
       "136043         Northern Ireland         NaN         NaN         NaN  \n",
       "\n",
       "[5 rows x 21 columns]"
      ]
     },
     "execution_count": 5,
     "metadata": {},
     "output_type": "execute_result"
    }
   ],
   "source": [
    "labelled_level2.sort_values('content_id').head()"
   ]
  },
  {
   "cell_type": "markdown",
   "metadata": {},
   "source": [
    "### Collapse taxons with insufficient support for predictions (will need to be manually tagged)"
   ]
  },
  {
   "cell_type": "code",
   "execution_count": 6,
   "metadata": {},
   "outputs": [],
   "source": [
    "#count the number of taxons per content item into new column\n",
    "labelled_level2['num_content_per_taxon'] = labelled_level2.groupby([\"level2taxon\"])['level2taxon'].transform(\"count\")"
   ]
  },
  {
   "cell_type": "code",
   "execution_count": 7,
   "metadata": {},
   "outputs": [],
   "source": [
    "#COLLAPSE level2taxons with too few content items into \"toosmall\" category\n",
    "labelled_level2.loc[labelled_level2['num_content_per_taxon'] < 10, 'level2taxon'] = 'TOO_SMALL'"
   ]
  },
  {
   "cell_type": "markdown",
   "metadata": {},
   "source": [
    "### Create dictionary mapping taxon codes to string labels"
   ]
  },
  {
   "cell_type": "code",
   "execution_count": 8,
   "metadata": {},
   "outputs": [
    {
     "data": {
      "text/plain": [
       "{1: 'Administrative justice reform',\n",
       " 2: 'Adoption, fostering and surrogacy',\n",
       " 3: 'Afghanistan',\n",
       " 4: 'Armed Forces Covenant',\n",
       " 5: 'Armed forces',\n",
       " 6: 'Armed forces and Ministry of Defence reform',\n",
       " 7: 'Armed forces support for activities in the UK',\n",
       " 8: 'Arts and culture',\n",
       " 9: 'Asylum',\n",
       " 10: 'Attorney General guidance to the legal profession',\n",
       " 11: 'Aviation',\n",
       " 12: 'Benefits entitlement',\n",
       " 13: 'Benefits for families',\n",
       " 14: 'Biodiversity and ecosystems',\n",
       " 15: 'Brexit',\n",
       " 16: 'Brexit and the EU',\n",
       " 17: 'British citizenship ',\n",
       " 18: 'British nationals overseas',\n",
       " 19: 'Business and enterprise',\n",
       " 20: 'Business and the environment',\n",
       " 21: 'Business tax',\n",
       " 22: 'Carers and disability benefits',\n",
       " 23: \"Carers' health\",\n",
       " 24: 'Certificates, register offices, changes of name or gender',\n",
       " 25: 'Charities, volunteering and honours',\n",
       " 26: 'Child Benefit',\n",
       " 27: 'Child maintenance reform',\n",
       " 28: 'Childcare and early years',\n",
       " 29: \"Children's health and welfare\",\n",
       " 30: 'Civil service reform',\n",
       " 31: 'Climate change and energy',\n",
       " 32: 'Commercial fishing and fisheries',\n",
       " 33: 'Community and society',\n",
       " 34: 'Conflict in fragile states',\n",
       " 35: 'Constitutional affairs',\n",
       " 36: 'Consumer rights and issues',\n",
       " 37: 'Counter-terrorism',\n",
       " 38: 'Court claims, debt and bankruptcy',\n",
       " 39: 'Courts, sentencing and tribunals',\n",
       " 40: 'Crime prevention',\n",
       " 41: 'Criminal justice reform',\n",
       " 42: 'Cyber security',\n",
       " 43: 'Dealing with HMRC',\n",
       " 44: 'Death and benefits',\n",
       " 45: 'Death and bereavement',\n",
       " 46: 'Deficit reduction',\n",
       " 47: 'Disabled people',\n",
       " 48: 'Divorce, separation and legal issues',\n",
       " 49: 'Driving and road transport',\n",
       " 50: 'Education of disadvantaged children',\n",
       " 51: 'Emergency preparation, response and recovery',\n",
       " 52: 'Employing people',\n",
       " 53: 'End of life care',\n",
       " 54: 'Environmental permits',\n",
       " 55: 'Environmental quality',\n",
       " 56: 'Environmental risk management',\n",
       " 57: 'Equality, rights and citizenship',\n",
       " 58: 'European Union laws and regulation',\n",
       " 59: 'European funds',\n",
       " 60: 'European single market',\n",
       " 61: 'Family justice system',\n",
       " 62: 'Financial help if you have children',\n",
       " 63: 'Financial services',\n",
       " 64: 'Fire prevention and rescue',\n",
       " 65: 'Flooding and coastal change',\n",
       " 66: 'Food and farming',\n",
       " 67: 'Foreign affairs',\n",
       " 68: 'Freight and cargo',\n",
       " 69: 'Funding and finance for students',\n",
       " 70: 'Further and higher education, skills and vocational training',\n",
       " 71: 'Government efficiency, transparency and accountability',\n",
       " 72: 'Government spending',\n",
       " 73: 'Having a child, parenting and adoption',\n",
       " 74: 'Health and safety reform',\n",
       " 75: 'Health protection',\n",
       " 76: 'Heating and housing benefits',\n",
       " 77: 'Housing',\n",
       " 78: 'Housing planning and building',\n",
       " 79: 'Human rights internationally',\n",
       " 80: 'Immigration rules and enforcement',\n",
       " 81: 'Industrial strategy',\n",
       " 82: 'Inspections and performance of education providers',\n",
       " 83: 'International aid and development',\n",
       " 84: 'International defence commitments',\n",
       " 85: \"Jobseeker's Allowance and low income benefits\",\n",
       " 86: 'Justice system transparency',\n",
       " 87: 'Knife, gun and gang crime',\n",
       " 88: 'Labour market reform',\n",
       " 89: 'Land Registration Data ',\n",
       " 90: 'Land management',\n",
       " 91: 'Land registration',\n",
       " 92: 'Lasting power of attorney, being in care and your financial affairs',\n",
       " 93: 'Law and practice',\n",
       " 94: 'Legal aid',\n",
       " 95: 'Legal aid reform',\n",
       " 96: 'Living abroad',\n",
       " 97: 'Living in the UK, government and democracy',\n",
       " 98: 'Local councils and services',\n",
       " 99: 'Local government',\n",
       " 100: 'Local government spending',\n",
       " 101: 'Local transport',\n",
       " 102: 'Localism',\n",
       " 103: 'Major project management',\n",
       " 104: 'Marine',\n",
       " 105: 'Maritime',\n",
       " 106: 'Marriage, civil partnership and divorce',\n",
       " 107: 'Media and communications',\n",
       " 108: 'Medicines, medical devices and blood regulation and safety',\n",
       " 109: 'Military awards and commemorations',\n",
       " 110: 'Military equipment, logistics and technology',\n",
       " 111: 'Military recruitment, training and operations',\n",
       " 112: 'Ministry of Defence estate',\n",
       " 113: 'Money laundering regulations',\n",
       " 114: 'National Health Service',\n",
       " 115: 'National events and ceremonies',\n",
       " 116: 'National security',\n",
       " 117: 'Northern Ireland',\n",
       " 118: 'Oil and gas',\n",
       " 119: 'Passports',\n",
       " 120: 'Passports and travel documents for foreign nationals',\n",
       " 121: 'Payroll',\n",
       " 122: 'Peace and stability in the Middle East and North Africa',\n",
       " 123: 'Pensions and ageing society',\n",
       " 124: 'Permanent stay in the UK',\n",
       " 125: 'Personal tax',\n",
       " 126: 'Policing',\n",
       " 127: 'Population screening programmes',\n",
       " 128: 'Postal service reform',\n",
       " 129: 'Pregnancy and birth',\n",
       " 130: 'Prisons and probation',\n",
       " 131: 'Public health',\n",
       " 132: 'Public services',\n",
       " 133: 'Pupil wellbeing, behaviour and attendance',\n",
       " 134: 'Rail',\n",
       " 135: 'Regulation reform',\n",
       " 136: 'Reoffending and rehabilitation',\n",
       " 137: 'Reporting crimes and getting compensation',\n",
       " 138: 'Road infrastructure',\n",
       " 139: 'Running and managing a school',\n",
       " 140: 'Rural and countryside',\n",
       " 141: 'Safeguarding and social care for children',\n",
       " 142: 'School and academy financial management and assurance',\n",
       " 143: 'School and academy funding',\n",
       " 144: 'School curriculum',\n",
       " 145: 'Science and innovation',\n",
       " 146: 'Scotland',\n",
       " 147: 'Screening and quality assurance (all programmes)',\n",
       " 148: 'Self-employment',\n",
       " 149: 'Sentencing reform',\n",
       " 150: 'Social care',\n",
       " 151: 'Special educational needs and disability (SEND) and high needs',\n",
       " 152: 'Sports and leisure',\n",
       " 153: 'Starting and attending school',\n",
       " 154: 'Support services for military and defence personnel and their families',\n",
       " 155: 'Support services for veterans and their families',\n",
       " 156: 'Sustainable development',\n",
       " 157: 'TOO_SMALL',\n",
       " 158: 'Tax credits',\n",
       " 159: 'Tax evasion and avoidance',\n",
       " 160: 'Teaching and leadership',\n",
       " 161: 'The Commonwealth',\n",
       " 162: 'Tourism',\n",
       " 163: 'Trade and investment',\n",
       " 164: 'Transport accessibility and mobility',\n",
       " 165: 'Transport corporate and transparency',\n",
       " 166: 'Transport modelling and appraisal',\n",
       " 167: 'Transport planning',\n",
       " 168: 'Transport research and evaluation',\n",
       " 169: 'Transport security',\n",
       " 170: 'Transport statistics',\n",
       " 171: 'Travel abroad',\n",
       " 172: 'UK economy',\n",
       " 173: 'UK nuclear deterrent',\n",
       " 174: 'UK prosperity and security: Asia, Latin America and Africa',\n",
       " 175: 'Victims of crime',\n",
       " 176: 'Violence against women and girls',\n",
       " 177: 'Visas',\n",
       " 178: 'Wales',\n",
       " 179: 'Waste and recycling',\n",
       " 180: 'Water industry',\n",
       " 181: 'Weapons proliferation',\n",
       " 182: 'Wildlife and animal welfare',\n",
       " 183: 'Working, jobs and pensions',\n",
       " 184: 'Young people and the law',\n",
       " 185: 'Your rights and the law',\n",
       " 186: 'Youth employment and social issues',\n",
       " 187: 'world_level1'}"
      ]
     },
     "execution_count": 8,
     "metadata": {},
     "output_type": "execute_result"
    }
   ],
   "source": [
    "#COLLAPSE World level2taxons\n",
    "labelled_level2.loc[labelled_level2['level1taxon'] == 'World', 'level2taxon'] = 'world_level1'\n",
    "\n",
    "#creating categorical variable for level2taxons from values\n",
    "labelled_level2['level2taxon'] = labelled_level2['level2taxon'].astype('category')\n",
    "\n",
    "#Get the category numeric values (codes) and avoid zero-indexing\n",
    "labels = labelled_level2['level2taxon'].cat.codes + 1\n",
    "\n",
    "#create dictionary of taxon category code to string label for use in model evaluation\n",
    "labels_index = dict(zip((labels), labelled_level2['level2taxon']))\n",
    "labels_index"
   ]
  },
  {
   "cell_type": "code",
   "execution_count": 9,
   "metadata": {},
   "outputs": [
    {
     "name": "stdout",
     "output_type": "stream",
     "text": [
      "187\n"
     ]
    }
   ],
   "source": [
    "print(len(labels_index))"
   ]
  },
  {
   "cell_type": "markdown",
   "metadata": {},
   "source": [
    "### Create target/Y "
   ]
  },
  {
   "cell_type": "markdown",
   "metadata": {},
   "source": [
    "Note: when using the categorical_crossentropy loss, your targets should be in categorical format (e.g. if you have 10 classes, the target for each sample should be a 10-dimensional vector that is all-zeros expect for a 1 at the index corresponding to the class of the sample)."
   ]
  },
  {
   "cell_type": "markdown",
   "metadata": {},
   "source": [
    "In multilabel learning, the joint set of binary classification tasks is expressed with label binary indicator array: each sample is one row of a 2d array of shape (n_samples, n_classes) with binary values:  \n",
    "the one, i.e. the non zero elements, corresponds to the subset of labels.  \n",
    "An array such as np.array([[1, 0, 0], [0, 1, 1], [0, 0, 0]]) represents label 0 in the first sample, labels 1 and 2 in the second sample, and no labels in the third sample.  \n",
    "Producing multilabel data as a list of sets of labels may be more intuitive."
   ]
  },
  {
   "cell_type": "markdown",
   "metadata": {},
   "source": [
    "####  First reshape wide to get columns for each level2taxon and row number = number unique urls"
   ]
  },
  {
   "cell_type": "code",
   "execution_count": 10,
   "metadata": {},
   "outputs": [
    {
     "name": "stdout",
     "output_type": "stream",
     "text": [
      "Number of unique level2taxons: 187\n"
     ]
    }
   ],
   "source": [
    "#get a smaller copy of data for pivoting ease (think you can work from full data actually and other cols get droopedauto)\n",
    "\n",
    "level2_reduced = labelled_level2[['content_id', 'level2taxon', 'combined_text', 'title', 'description']].copy()\n",
    "\n",
    "#how many level2taxons are there?\n",
    "print('Number of unique level2taxons: {}'.format(level2_reduced.level2taxon.nunique()))\n",
    "\n",
    "#count the number of taxons per content item into new column\n",
    "level2_reduced['num_taxon_per_content'] = level2_reduced.groupby([\"content_id\"])['content_id'].transform(\"count\")\n",
    "\n",
    "#Add 1 because of zero-indexing to get 1-number of level2taxons as numerical targets\n",
    "level2_reduced['level2taxon_code'] = level2_reduced.level2taxon.astype('category').cat.codes + 1"
   ]
  },
  {
   "cell_type": "code",
   "execution_count": 11,
   "metadata": {},
   "outputs": [
    {
     "name": "stdout",
     "output_type": "stream",
     "text": [
      "Number of unique level2taxons: 187\n"
     ]
    }
   ],
   "source": [
    "#how many level2taxons are there?\n",
    "print('Number of unique level2taxons: {}'.format(labelled_level2.level2taxon.nunique()))\n",
    "\n",
    "#count the number of taxons per content item into new column\n",
    "labelled_level2['num_taxon_per_content'] = labelled_level2.groupby([\"content_id\"])['content_id'].transform(\"count\")\n",
    "\n",
    "#Add 1 because of zero-indexing to get 1-number of level2taxons as numerical targets\n",
    "labelled_level2['level2taxon_code'] = labelled_level2.level2taxon.astype('category').cat.codes + 1"
   ]
  },
  {
   "cell_type": "code",
   "execution_count": 12,
   "metadata": {},
   "outputs": [
    {
     "name": "stdout",
     "output_type": "stream",
     "text": [
      "level2reduced shape: (172916, 7)\n",
      "pivot table shape (no duplicates): (113481, 187) \n",
      "level2taxon_code                                                                                                                                                                               1    \\\n",
      "content_id                           combined_text                                      title                                              description                                               \n",
      "00029fa4-9b60-4285-898c-85ae8a6367f5 emma jones - small business crown representativ... emma jones - small business crown representative   as small business crown representative emma is ...  NaN   \n",
      "00037b70-5b08-44c2-bf0a-fa8eb636a60b land remediation: bringing brownfield sites bac... land remediation: bringing brownfield sites bac... brochure showing uk expertise in land remediati...  NaN   \n",
      "00037ee5-7b5e-452d-a233-af2c134f5bce steps 2 success:ni statistics from october 2014... steps 2 success:ni statistics from october 2014... details on the number of referrals and starts o...  NaN   \n",
      "0004c63d-ae16-432a-bb35-c0f949b1e27c student support applications for higher educati... student support applications for higher educati... data includes the number of applications receiv...  NaN   \n",
      "0005ac76-50fe-42f1-8168-8b6fc046e40f advice for building owners: large-scale wall sy... advice for building owners: large-scale wall sy... advice for building owners on the large-scale w...  NaN   \n",
      "\n",
      "level2taxon_code                                                                                                                                                                               2    \\\n",
      "content_id                           combined_text                                      title                                              description                                               \n",
      "00029fa4-9b60-4285-898c-85ae8a6367f5 emma jones - small business crown representativ... emma jones - small business crown representative   as small business crown representative emma is ...  NaN   \n",
      "00037b70-5b08-44c2-bf0a-fa8eb636a60b land remediation: bringing brownfield sites bac... land remediation: bringing brownfield sites bac... brochure showing uk expertise in land remediati...  NaN   \n",
      "00037ee5-7b5e-452d-a233-af2c134f5bce steps 2 success:ni statistics from october 2014... steps 2 success:ni statistics from october 2014... details on the number of referrals and starts o...  NaN   \n",
      "0004c63d-ae16-432a-bb35-c0f949b1e27c student support applications for higher educati... student support applications for higher educati... data includes the number of applications receiv...  NaN   \n",
      "0005ac76-50fe-42f1-8168-8b6fc046e40f advice for building owners: large-scale wall sy... advice for building owners: large-scale wall sy... advice for building owners on the large-scale w...  NaN   \n",
      "\n",
      "level2taxon_code                                                                                                                                                                               3    \\\n",
      "content_id                           combined_text                                      title                                              description                                               \n",
      "00029fa4-9b60-4285-898c-85ae8a6367f5 emma jones - small business crown representativ... emma jones - small business crown representative   as small business crown representative emma is ...  NaN   \n",
      "00037b70-5b08-44c2-bf0a-fa8eb636a60b land remediation: bringing brownfield sites bac... land remediation: bringing brownfield sites bac... brochure showing uk expertise in land remediati...  NaN   \n",
      "00037ee5-7b5e-452d-a233-af2c134f5bce steps 2 success:ni statistics from october 2014... steps 2 success:ni statistics from october 2014... details on the number of referrals and starts o...  NaN   \n",
      "0004c63d-ae16-432a-bb35-c0f949b1e27c student support applications for higher educati... student support applications for higher educati... data includes the number of applications receiv...  NaN   \n",
      "0005ac76-50fe-42f1-8168-8b6fc046e40f advice for building owners: large-scale wall sy... advice for building owners: large-scale wall sy... advice for building owners on the large-scale w...  NaN   \n",
      "\n",
      "level2taxon_code                                                                                                                                                                               4    \\\n",
      "content_id                           combined_text                                      title                                              description                                               \n",
      "00029fa4-9b60-4285-898c-85ae8a6367f5 emma jones - small business crown representativ... emma jones - small business crown representative   as small business crown representative emma is ...  NaN   \n",
      "00037b70-5b08-44c2-bf0a-fa8eb636a60b land remediation: bringing brownfield sites bac... land remediation: bringing brownfield sites bac... brochure showing uk expertise in land remediati...  NaN   \n",
      "00037ee5-7b5e-452d-a233-af2c134f5bce steps 2 success:ni statistics from october 2014... steps 2 success:ni statistics from october 2014... details on the number of referrals and starts o...  NaN   \n",
      "0004c63d-ae16-432a-bb35-c0f949b1e27c student support applications for higher educati... student support applications for higher educati... data includes the number of applications receiv...  NaN   \n",
      "0005ac76-50fe-42f1-8168-8b6fc046e40f advice for building owners: large-scale wall sy... advice for building owners: large-scale wall sy... advice for building owners on the large-scale w...  NaN   \n",
      "\n",
      "level2taxon_code                                                                                                                                                                               5    \\\n",
      "content_id                           combined_text                                      title                                              description                                               \n",
      "00029fa4-9b60-4285-898c-85ae8a6367f5 emma jones - small business crown representativ... emma jones - small business crown representative   as small business crown representative emma is ...  NaN   \n",
      "00037b70-5b08-44c2-bf0a-fa8eb636a60b land remediation: bringing brownfield sites bac... land remediation: bringing brownfield sites bac... brochure showing uk expertise in land remediati...  NaN   \n",
      "00037ee5-7b5e-452d-a233-af2c134f5bce steps 2 success:ni statistics from october 2014... steps 2 success:ni statistics from october 2014... details on the number of referrals and starts o...  NaN   \n",
      "0004c63d-ae16-432a-bb35-c0f949b1e27c student support applications for higher educati... student support applications for higher educati... data includes the number of applications receiv...  NaN   \n",
      "0005ac76-50fe-42f1-8168-8b6fc046e40f advice for building owners: large-scale wall sy... advice for building owners: large-scale wall sy... advice for building owners on the large-scale w...  NaN   \n",
      "\n",
      "level2taxon_code                                                                                                                                                                               6    \\\n",
      "content_id                           combined_text                                      title                                              description                                               \n",
      "00029fa4-9b60-4285-898c-85ae8a6367f5 emma jones - small business crown representativ... emma jones - small business crown representative   as small business crown representative emma is ...  NaN   \n",
      "00037b70-5b08-44c2-bf0a-fa8eb636a60b land remediation: bringing brownfield sites bac... land remediation: bringing brownfield sites bac... brochure showing uk expertise in land remediati...  NaN   \n",
      "00037ee5-7b5e-452d-a233-af2c134f5bce steps 2 success:ni statistics from october 2014... steps 2 success:ni statistics from october 2014... details on the number of referrals and starts o...  NaN   \n",
      "0004c63d-ae16-432a-bb35-c0f949b1e27c student support applications for higher educati... student support applications for higher educati... data includes the number of applications receiv...  NaN   \n",
      "0005ac76-50fe-42f1-8168-8b6fc046e40f advice for building owners: large-scale wall sy... advice for building owners: large-scale wall sy... advice for building owners on the large-scale w...  NaN   \n",
      "\n",
      "level2taxon_code                                                                                                                                                                               7    \\\n",
      "content_id                           combined_text                                      title                                              description                                               \n",
      "00029fa4-9b60-4285-898c-85ae8a6367f5 emma jones - small business crown representativ... emma jones - small business crown representative   as small business crown representative emma is ...  NaN   \n",
      "00037b70-5b08-44c2-bf0a-fa8eb636a60b land remediation: bringing brownfield sites bac... land remediation: bringing brownfield sites bac... brochure showing uk expertise in land remediati...  NaN   \n",
      "00037ee5-7b5e-452d-a233-af2c134f5bce steps 2 success:ni statistics from october 2014... steps 2 success:ni statistics from october 2014... details on the number of referrals and starts o...  NaN   \n",
      "0004c63d-ae16-432a-bb35-c0f949b1e27c student support applications for higher educati... student support applications for higher educati... data includes the number of applications receiv...  NaN   \n",
      "0005ac76-50fe-42f1-8168-8b6fc046e40f advice for building owners: large-scale wall sy... advice for building owners: large-scale wall sy... advice for building owners on the large-scale w...  NaN   \n",
      "\n",
      "level2taxon_code                                                                                                                                                                               8    \\\n",
      "content_id                           combined_text                                      title                                              description                                               \n",
      "00029fa4-9b60-4285-898c-85ae8a6367f5 emma jones - small business crown representativ... emma jones - small business crown representative   as small business crown representative emma is ...  NaN   \n",
      "00037b70-5b08-44c2-bf0a-fa8eb636a60b land remediation: bringing brownfield sites bac... land remediation: bringing brownfield sites bac... brochure showing uk expertise in land remediati...  NaN   \n",
      "00037ee5-7b5e-452d-a233-af2c134f5bce steps 2 success:ni statistics from october 2014... steps 2 success:ni statistics from october 2014... details on the number of referrals and starts o...  NaN   \n",
      "0004c63d-ae16-432a-bb35-c0f949b1e27c student support applications for higher educati... student support applications for higher educati... data includes the number of applications receiv...  NaN   \n",
      "0005ac76-50fe-42f1-8168-8b6fc046e40f advice for building owners: large-scale wall sy... advice for building owners: large-scale wall sy... advice for building owners on the large-scale w...  NaN   \n",
      "\n",
      "level2taxon_code                                                                                                                                                                               9    \\\n",
      "content_id                           combined_text                                      title                                              description                                               \n",
      "00029fa4-9b60-4285-898c-85ae8a6367f5 emma jones - small business crown representativ... emma jones - small business crown representative   as small business crown representative emma is ...  NaN   \n",
      "00037b70-5b08-44c2-bf0a-fa8eb636a60b land remediation: bringing brownfield sites bac... land remediation: bringing brownfield sites bac... brochure showing uk expertise in land remediati...  NaN   \n",
      "00037ee5-7b5e-452d-a233-af2c134f5bce steps 2 success:ni statistics from october 2014... steps 2 success:ni statistics from october 2014... details on the number of referrals and starts o...  NaN   \n",
      "0004c63d-ae16-432a-bb35-c0f949b1e27c student support applications for higher educati... student support applications for higher educati... data includes the number of applications receiv...  NaN   \n",
      "0005ac76-50fe-42f1-8168-8b6fc046e40f advice for building owners: large-scale wall sy... advice for building owners: large-scale wall sy... advice for building owners on the large-scale w...  NaN   \n",
      "\n",
      "level2taxon_code                                                                                                                                                                               10   \\\n",
      "content_id                           combined_text                                      title                                              description                                               \n",
      "00029fa4-9b60-4285-898c-85ae8a6367f5 emma jones - small business crown representativ... emma jones - small business crown representative   as small business crown representative emma is ...  NaN   \n",
      "00037b70-5b08-44c2-bf0a-fa8eb636a60b land remediation: bringing brownfield sites bac... land remediation: bringing brownfield sites bac... brochure showing uk expertise in land remediati...  NaN   \n",
      "00037ee5-7b5e-452d-a233-af2c134f5bce steps 2 success:ni statistics from october 2014... steps 2 success:ni statistics from october 2014... details on the number of referrals and starts o...  NaN   \n",
      "0004c63d-ae16-432a-bb35-c0f949b1e27c student support applications for higher educati... student support applications for higher educati... data includes the number of applications receiv...  NaN   \n",
      "0005ac76-50fe-42f1-8168-8b6fc046e40f advice for building owners: large-scale wall sy... advice for building owners: large-scale wall sy... advice for building owners on the large-scale w...  NaN   \n",
      "\n",
      "level2taxon_code                                                                                                                                                                              ...   \\\n",
      "content_id                           combined_text                                      title                                              description                                        ...    \n",
      "00029fa4-9b60-4285-898c-85ae8a6367f5 emma jones - small business crown representativ... emma jones - small business crown representative   as small business crown representative emma is ... ...    \n",
      "00037b70-5b08-44c2-bf0a-fa8eb636a60b land remediation: bringing brownfield sites bac... land remediation: bringing brownfield sites bac... brochure showing uk expertise in land remediati... ...    \n",
      "00037ee5-7b5e-452d-a233-af2c134f5bce steps 2 success:ni statistics from october 2014... steps 2 success:ni statistics from october 2014... details on the number of referrals and starts o... ...    \n",
      "0004c63d-ae16-432a-bb35-c0f949b1e27c student support applications for higher educati... student support applications for higher educati... data includes the number of applications receiv... ...    \n",
      "0005ac76-50fe-42f1-8168-8b6fc046e40f advice for building owners: large-scale wall sy... advice for building owners: large-scale wall sy... advice for building owners on the large-scale w... ...    \n",
      "\n",
      "level2taxon_code                                                                                                                                                                               178  \\\n",
      "content_id                           combined_text                                      title                                              description                                               \n",
      "00029fa4-9b60-4285-898c-85ae8a6367f5 emma jones - small business crown representativ... emma jones - small business crown representative   as small business crown representative emma is ...  NaN   \n",
      "00037b70-5b08-44c2-bf0a-fa8eb636a60b land remediation: bringing brownfield sites bac... land remediation: bringing brownfield sites bac... brochure showing uk expertise in land remediati...  NaN   \n",
      "00037ee5-7b5e-452d-a233-af2c134f5bce steps 2 success:ni statistics from october 2014... steps 2 success:ni statistics from october 2014... details on the number of referrals and starts o...  NaN   \n",
      "0004c63d-ae16-432a-bb35-c0f949b1e27c student support applications for higher educati... student support applications for higher educati... data includes the number of applications receiv...  1.0   \n",
      "0005ac76-50fe-42f1-8168-8b6fc046e40f advice for building owners: large-scale wall sy... advice for building owners: large-scale wall sy... advice for building owners on the large-scale w...  NaN   \n",
      "\n",
      "level2taxon_code                                                                                                                                                                               179  \\\n",
      "content_id                           combined_text                                      title                                              description                                               \n",
      "00029fa4-9b60-4285-898c-85ae8a6367f5 emma jones - small business crown representativ... emma jones - small business crown representative   as small business crown representative emma is ...  NaN   \n",
      "00037b70-5b08-44c2-bf0a-fa8eb636a60b land remediation: bringing brownfield sites bac... land remediation: bringing brownfield sites bac... brochure showing uk expertise in land remediati...  NaN   \n",
      "00037ee5-7b5e-452d-a233-af2c134f5bce steps 2 success:ni statistics from october 2014... steps 2 success:ni statistics from october 2014... details on the number of referrals and starts o...  NaN   \n",
      "0004c63d-ae16-432a-bb35-c0f949b1e27c student support applications for higher educati... student support applications for higher educati... data includes the number of applications receiv...  NaN   \n",
      "0005ac76-50fe-42f1-8168-8b6fc046e40f advice for building owners: large-scale wall sy... advice for building owners: large-scale wall sy... advice for building owners on the large-scale w...  NaN   \n",
      "\n",
      "level2taxon_code                                                                                                                                                                               180  \\\n",
      "content_id                           combined_text                                      title                                              description                                               \n",
      "00029fa4-9b60-4285-898c-85ae8a6367f5 emma jones - small business crown representativ... emma jones - small business crown representative   as small business crown representative emma is ...  NaN   \n",
      "00037b70-5b08-44c2-bf0a-fa8eb636a60b land remediation: bringing brownfield sites bac... land remediation: bringing brownfield sites bac... brochure showing uk expertise in land remediati...  NaN   \n",
      "00037ee5-7b5e-452d-a233-af2c134f5bce steps 2 success:ni statistics from october 2014... steps 2 success:ni statistics from october 2014... details on the number of referrals and starts o...  NaN   \n",
      "0004c63d-ae16-432a-bb35-c0f949b1e27c student support applications for higher educati... student support applications for higher educati... data includes the number of applications receiv...  NaN   \n",
      "0005ac76-50fe-42f1-8168-8b6fc046e40f advice for building owners: large-scale wall sy... advice for building owners: large-scale wall sy... advice for building owners on the large-scale w...  NaN   \n",
      "\n",
      "level2taxon_code                                                                                                                                                                               181  \\\n",
      "content_id                           combined_text                                      title                                              description                                               \n",
      "00029fa4-9b60-4285-898c-85ae8a6367f5 emma jones - small business crown representativ... emma jones - small business crown representative   as small business crown representative emma is ...  NaN   \n",
      "00037b70-5b08-44c2-bf0a-fa8eb636a60b land remediation: bringing brownfield sites bac... land remediation: bringing brownfield sites bac... brochure showing uk expertise in land remediati...  NaN   \n",
      "00037ee5-7b5e-452d-a233-af2c134f5bce steps 2 success:ni statistics from october 2014... steps 2 success:ni statistics from october 2014... details on the number of referrals and starts o...  NaN   \n",
      "0004c63d-ae16-432a-bb35-c0f949b1e27c student support applications for higher educati... student support applications for higher educati... data includes the number of applications receiv...  NaN   \n",
      "0005ac76-50fe-42f1-8168-8b6fc046e40f advice for building owners: large-scale wall sy... advice for building owners: large-scale wall sy... advice for building owners on the large-scale w...  NaN   \n",
      "\n",
      "level2taxon_code                                                                                                                                                                               182  \\\n",
      "content_id                           combined_text                                      title                                              description                                               \n",
      "00029fa4-9b60-4285-898c-85ae8a6367f5 emma jones - small business crown representativ... emma jones - small business crown representative   as small business crown representative emma is ...  NaN   \n",
      "00037b70-5b08-44c2-bf0a-fa8eb636a60b land remediation: bringing brownfield sites bac... land remediation: bringing brownfield sites bac... brochure showing uk expertise in land remediati...  NaN   \n",
      "00037ee5-7b5e-452d-a233-af2c134f5bce steps 2 success:ni statistics from october 2014... steps 2 success:ni statistics from october 2014... details on the number of referrals and starts o...  NaN   \n",
      "0004c63d-ae16-432a-bb35-c0f949b1e27c student support applications for higher educati... student support applications for higher educati... data includes the number of applications receiv...  NaN   \n",
      "0005ac76-50fe-42f1-8168-8b6fc046e40f advice for building owners: large-scale wall sy... advice for building owners: large-scale wall sy... advice for building owners on the large-scale w...  NaN   \n",
      "\n",
      "level2taxon_code                                                                                                                                                                               183  \\\n",
      "content_id                           combined_text                                      title                                              description                                               \n",
      "00029fa4-9b60-4285-898c-85ae8a6367f5 emma jones - small business crown representativ... emma jones - small business crown representative   as small business crown representative emma is ...  NaN   \n",
      "00037b70-5b08-44c2-bf0a-fa8eb636a60b land remediation: bringing brownfield sites bac... land remediation: bringing brownfield sites bac... brochure showing uk expertise in land remediati...  NaN   \n",
      "00037ee5-7b5e-452d-a233-af2c134f5bce steps 2 success:ni statistics from october 2014... steps 2 success:ni statistics from october 2014... details on the number of referrals and starts o...  NaN   \n",
      "0004c63d-ae16-432a-bb35-c0f949b1e27c student support applications for higher educati... student support applications for higher educati... data includes the number of applications receiv...  NaN   \n",
      "0005ac76-50fe-42f1-8168-8b6fc046e40f advice for building owners: large-scale wall sy... advice for building owners: large-scale wall sy... advice for building owners on the large-scale w...  NaN   \n",
      "\n",
      "level2taxon_code                                                                                                                                                                               184  \\\n",
      "content_id                           combined_text                                      title                                              description                                               \n",
      "00029fa4-9b60-4285-898c-85ae8a6367f5 emma jones - small business crown representativ... emma jones - small business crown representative   as small business crown representative emma is ...  NaN   \n",
      "00037b70-5b08-44c2-bf0a-fa8eb636a60b land remediation: bringing brownfield sites bac... land remediation: bringing brownfield sites bac... brochure showing uk expertise in land remediati...  NaN   \n",
      "00037ee5-7b5e-452d-a233-af2c134f5bce steps 2 success:ni statistics from october 2014... steps 2 success:ni statistics from october 2014... details on the number of referrals and starts o...  NaN   \n",
      "0004c63d-ae16-432a-bb35-c0f949b1e27c student support applications for higher educati... student support applications for higher educati... data includes the number of applications receiv...  NaN   \n",
      "0005ac76-50fe-42f1-8168-8b6fc046e40f advice for building owners: large-scale wall sy... advice for building owners: large-scale wall sy... advice for building owners on the large-scale w...  NaN   \n",
      "\n",
      "level2taxon_code                                                                                                                                                                               185  \\\n",
      "content_id                           combined_text                                      title                                              description                                               \n",
      "00029fa4-9b60-4285-898c-85ae8a6367f5 emma jones - small business crown representativ... emma jones - small business crown representative   as small business crown representative emma is ...  NaN   \n",
      "00037b70-5b08-44c2-bf0a-fa8eb636a60b land remediation: bringing brownfield sites bac... land remediation: bringing brownfield sites bac... brochure showing uk expertise in land remediati...  NaN   \n",
      "00037ee5-7b5e-452d-a233-af2c134f5bce steps 2 success:ni statistics from october 2014... steps 2 success:ni statistics from october 2014... details on the number of referrals and starts o...  NaN   \n",
      "0004c63d-ae16-432a-bb35-c0f949b1e27c student support applications for higher educati... student support applications for higher educati... data includes the number of applications receiv...  NaN   \n",
      "0005ac76-50fe-42f1-8168-8b6fc046e40f advice for building owners: large-scale wall sy... advice for building owners: large-scale wall sy... advice for building owners on the large-scale w...  NaN   \n",
      "\n",
      "level2taxon_code                                                                                                                                                                               186  \\\n",
      "content_id                           combined_text                                      title                                              description                                               \n",
      "00029fa4-9b60-4285-898c-85ae8a6367f5 emma jones - small business crown representativ... emma jones - small business crown representative   as small business crown representative emma is ...  NaN   \n",
      "00037b70-5b08-44c2-bf0a-fa8eb636a60b land remediation: bringing brownfield sites bac... land remediation: bringing brownfield sites bac... brochure showing uk expertise in land remediati...  NaN   \n",
      "00037ee5-7b5e-452d-a233-af2c134f5bce steps 2 success:ni statistics from october 2014... steps 2 success:ni statistics from october 2014... details on the number of referrals and starts o...  NaN   \n",
      "0004c63d-ae16-432a-bb35-c0f949b1e27c student support applications for higher educati... student support applications for higher educati... data includes the number of applications receiv...  NaN   \n",
      "0005ac76-50fe-42f1-8168-8b6fc046e40f advice for building owners: large-scale wall sy... advice for building owners: large-scale wall sy... advice for building owners on the large-scale w...  NaN   \n",
      "\n",
      "level2taxon_code                                                                                                                                                                               187  \n",
      "content_id                           combined_text                                      title                                              description                                              \n",
      "00029fa4-9b60-4285-898c-85ae8a6367f5 emma jones - small business crown representativ... emma jones - small business crown representative   as small business crown representative emma is ...  NaN  \n",
      "00037b70-5b08-44c2-bf0a-fa8eb636a60b land remediation: bringing brownfield sites bac... land remediation: bringing brownfield sites bac... brochure showing uk expertise in land remediati...  NaN  \n",
      "00037ee5-7b5e-452d-a233-af2c134f5bce steps 2 success:ni statistics from october 2014... steps 2 success:ni statistics from october 2014... details on the number of referrals and starts o...  NaN  \n",
      "0004c63d-ae16-432a-bb35-c0f949b1e27c student support applications for higher educati... student support applications for higher educati... data includes the number of applications receiv...  NaN  \n",
      "0005ac76-50fe-42f1-8168-8b6fc046e40f advice for building owners: large-scale wall sy... advice for building owners: large-scale wall sy... advice for building owners on the large-scale w...  NaN  \n",
      "\n",
      "[5 rows x 187 columns]\n"
     ]
    }
   ],
   "source": [
    "#reshape to wide per taxon and keep the combined text so indexing is consistent when splitting X from Y\n",
    "\n",
    "multilabel = (level2_reduced.pivot_table(index=['content_id', 'combined_text', 'title', 'description' ], \n",
    "                  columns='level2taxon_code', \n",
    "                  values='num_taxon_per_content'))\n",
    "print('level2reduced shape: {}'.format(level2_reduced.shape))\n",
    "print('pivot table shape (no duplicates): {} '.format(multilabel.shape))\n",
    "print(multilabel.head())"
   ]
  },
  {
   "cell_type": "code",
   "execution_count": 13,
   "metadata": {},
   "outputs": [],
   "source": [
    "#THIS IS WHY INDEXING IS NOT ZERO-BASED\n",
    "#convert the number_of_taxons_per_content values to 1, meaning there was an entry for this taxon and this content_id, 0 otherwise\n",
    "binary_multilabel = multilabel.notnull().astype('int')"
   ]
  },
  {
   "cell_type": "code",
   "execution_count": 14,
   "metadata": {},
   "outputs": [
    {
     "name": "stdout",
     "output_type": "stream",
     "text": [
      "Shape of Y multilabel array before train/val/test split:(113481, 187)\n"
     ]
    }
   ],
   "source": [
    "#will convert columns to an array of shape\n",
    "print('Shape of Y multilabel array before train/val/test split:{}'.format(binary_multilabel[list(binary_multilabel.columns)].values.shape))"
   ]
  },
  {
   "cell_type": "code",
   "execution_count": 15,
   "metadata": {},
   "outputs": [
    {
     "name": "stdout",
     "output_type": "stream",
     "text": [
      "Example row of multilabel array [0 0 0 0 0 0 0 0 0 0 0 0 0 0 0 0 0 0 0 0 0 0 0 0 0 0 0 0 0 0 0 0 0 0 0 0 0\n",
      " 0 0 0 0 0 0 0 0 0 0 0 0 0 0 0 0 0 0 0 0 0 0 0 0 0 0 0 0 0 0 0 0 0 0 0 0 0\n",
      " 0 0 0 0 0 0 0 0 0 0 0 0 0 0 0 0 0 0 0 0 0 0 0 0 0 0 0 0 0 0 0 0 0 0 0 0 0\n",
      " 0 0 0 0 0 1 0 0 0 0 0 0 0 0 0 0 0 0 0 0 0 0 0 0 0 0 0 0 0 0 0 0 0 0 0 0 0\n",
      " 0 0 0 0 0 0 0 0 0 0 0 0 0 0 0 0 0 0 0 0 0 0 0 0 0 0 0 0 0 0 0 0 0 0 0 0 0\n",
      " 0 0]\n"
     ]
    }
   ],
   "source": [
    "#convert columns to an array. Each row represents a content item, each column an individual taxon\n",
    "binary_multilabel = binary_multilabel[list(binary_multilabel.columns)].values\n",
    "print('Example row of multilabel array {}'.format(binary_multilabel[2]))"
   ]
  },
  {
   "cell_type": "code",
   "execution_count": 16,
   "metadata": {},
   "outputs": [
    {
     "data": {
      "text/plain": [
       "numpy.ndarray"
      ]
     },
     "execution_count": 16,
     "metadata": {},
     "output_type": "execute_result"
    }
   ],
   "source": [
    "type(binary_multilabel)"
   ]
  },
  {
   "cell_type": "markdown",
   "metadata": {},
   "source": [
    "### Format metadata/X"
   ]
  },
  {
   "cell_type": "code",
   "execution_count": 17,
   "metadata": {},
   "outputs": [
    {
     "data": {
      "text/plain": [
       "113481"
      ]
     },
     "execution_count": 17,
     "metadata": {},
     "output_type": "execute_result"
    }
   ],
   "source": [
    "# THESE DICTS NEED TO BE CREATED IN ALL DATA, OR DOC TYPES NOT PRESENT IN TRAINING MUST BE DELETED FROM NEW\n",
    "#create dictionary of document type to content_id\n",
    "doctype_dict = dict(zip(labelled_level2['content_id'], labelled_level2['document_type']))\n",
    "frstpub_dict = dict(zip(labelled_level2['content_id'], labelled_level2['first_published_at']))\n",
    "pubapp_dict = dict(zip(labelled_level2['content_id'], labelled_level2['publishing_app']))\n",
    "puborg_dict = dict(zip(labelled_level2['content_id'], labelled_level2['primary_publishing_organisation']))\n",
    "len(doctype_dict)"
   ]
  },
  {
   "cell_type": "code",
   "execution_count": 18,
   "metadata": {},
   "outputs": [
    {
     "name": "stdout",
     "output_type": "stream",
     "text": [
      "['content_id', 'combined_text', 'title', 'description']\n",
      "Int64Index([  1,   2,   3,   4,   5,   6,   7,   8,   9,  10,\n",
      "            ...\n",
      "            178, 179, 180, 181, 182, 183, 184, 185, 186, 187],\n",
      "           dtype='int64', name='level2taxon_code', length=187)\n"
     ]
    }
   ],
   "source": [
    "#the pivot table has two indices\n",
    "print(multilabel.index.names)\n",
    "print(multilabel.columns)\n",
    "#print(multilabel.head())"
   ]
  },
  {
   "cell_type": "code",
   "execution_count": 19,
   "metadata": {},
   "outputs": [],
   "source": [
    "#extract content_id index to df\n",
    "meta1 = pd.DataFrame(multilabel.index.get_level_values('content_id'))"
   ]
  },
  {
   "cell_type": "code",
   "execution_count": 20,
   "metadata": {},
   "outputs": [
    {
     "data": {
      "text/html": [
       "<div>\n",
       "<style scoped>\n",
       "    .dataframe tbody tr th:only-of-type {\n",
       "        vertical-align: middle;\n",
       "    }\n",
       "\n",
       "    .dataframe tbody tr th {\n",
       "        vertical-align: top;\n",
       "    }\n",
       "\n",
       "    .dataframe thead th {\n",
       "        text-align: right;\n",
       "    }\n",
       "</style>\n",
       "<table border=\"1\" class=\"dataframe\">\n",
       "  <thead>\n",
       "    <tr style=\"text-align: right;\">\n",
       "      <th></th>\n",
       "      <th>content_id</th>\n",
       "      <th>doctype</th>\n",
       "      <th>first_published_at</th>\n",
       "      <th>pub_app</th>\n",
       "      <th>prim_pub_org</th>\n",
       "    </tr>\n",
       "  </thead>\n",
       "  <tbody>\n",
       "    <tr>\n",
       "      <th>0</th>\n",
       "      <td>00029fa4-9b60-4285-898c-85ae8a6367f5</td>\n",
       "      <td>document_collection</td>\n",
       "      <td>2017-01-11T10:18:00.000+00:00</td>\n",
       "      <td>whitehall</td>\n",
       "      <td>{'title': 'Crown Commercial Service'}</td>\n",
       "    </tr>\n",
       "    <tr>\n",
       "      <th>1</th>\n",
       "      <td>00037b70-5b08-44c2-bf0a-fa8eb636a60b</td>\n",
       "      <td>promotional</td>\n",
       "      <td>2015-05-11T10:41:00.000+00:00</td>\n",
       "      <td>whitehall</td>\n",
       "      <td>{'title': 'Department for International Trade'}</td>\n",
       "    </tr>\n",
       "    <tr>\n",
       "      <th>2</th>\n",
       "      <td>00037ee5-7b5e-452d-a233-af2c134f5bce</td>\n",
       "      <td>official_statistics</td>\n",
       "      <td>2016-11-24T09:30:13.000+00:00</td>\n",
       "      <td>whitehall</td>\n",
       "      <td>{'title': 'Department for Communities (Norther...</td>\n",
       "    </tr>\n",
       "    <tr>\n",
       "      <th>3</th>\n",
       "      <td>0004c63d-ae16-432a-bb35-c0f949b1e27c</td>\n",
       "      <td>official_statistics</td>\n",
       "      <td>2016-10-20T08:30:09.000+00:00</td>\n",
       "      <td>whitehall</td>\n",
       "      <td>{'title': 'Welsh Government'}</td>\n",
       "    </tr>\n",
       "    <tr>\n",
       "      <th>4</th>\n",
       "      <td>0005ac76-50fe-42f1-8168-8b6fc046e40f</td>\n",
       "      <td>guidance</td>\n",
       "      <td>2017-08-02T17:29:00.000+00:00</td>\n",
       "      <td>whitehall</td>\n",
       "      <td>{'title': 'Department for Communities and Loca...</td>\n",
       "    </tr>\n",
       "  </tbody>\n",
       "</table>\n",
       "</div>"
      ],
      "text/plain": [
       "                             content_id              doctype  \\\n",
       "0  00029fa4-9b60-4285-898c-85ae8a6367f5  document_collection   \n",
       "1  00037b70-5b08-44c2-bf0a-fa8eb636a60b          promotional   \n",
       "2  00037ee5-7b5e-452d-a233-af2c134f5bce  official_statistics   \n",
       "3  0004c63d-ae16-432a-bb35-c0f949b1e27c  official_statistics   \n",
       "4  0005ac76-50fe-42f1-8168-8b6fc046e40f             guidance   \n",
       "\n",
       "              first_published_at    pub_app  \\\n",
       "0  2017-01-11T10:18:00.000+00:00  whitehall   \n",
       "1  2015-05-11T10:41:00.000+00:00  whitehall   \n",
       "2  2016-11-24T09:30:13.000+00:00  whitehall   \n",
       "3  2016-10-20T08:30:09.000+00:00  whitehall   \n",
       "4  2017-08-02T17:29:00.000+00:00  whitehall   \n",
       "\n",
       "                                        prim_pub_org  \n",
       "0              {'title': 'Crown Commercial Service'}  \n",
       "1    {'title': 'Department for International Trade'}  \n",
       "2  {'title': 'Department for Communities (Norther...  \n",
       "3                      {'title': 'Welsh Government'}  \n",
       "4  {'title': 'Department for Communities and Loca...  "
      ]
     },
     "execution_count": 20,
     "metadata": {},
     "output_type": "execute_result"
    }
   ],
   "source": [
    "#apply meta data to content\n",
    "meta1['doctype'] = meta1['content_id'].map(doctype_dict).copy()\n",
    "meta1['first_published_at'] = meta1['content_id'].map(frstpub_dict).copy()\n",
    "meta1['pub_app'] = meta1['content_id'].map(pubapp_dict).copy()\n",
    "meta1['prim_pub_org'] = meta1['content_id'].map(puborg_dict).copy()\n",
    "\n",
    "meta1 = meta1.replace(np.nan, '', regex=True) #conver nans to empty strings for labelencoder types\n",
    "meta1.head()"
   ]
  },
  {
   "cell_type": "code",
   "execution_count": 21,
   "metadata": {},
   "outputs": [],
   "source": [
    "#encode strings as integers\n",
    "#doctype\n",
    "doctype_encoder = LabelEncoder()\n",
    "meta1['doctype_cat'] = doctype_encoder.fit_transform(meta1['doctype']) #fit the label encoder on all data then transform on individual data sets\n",
    "\n",
    "# print(len(meta1['doctype_cat'].unique()))\n",
    "# print(meta1['doctype_cat'].unique())\n",
    "\n",
    "# primary publishing org\n",
    "pub_org_encoder = LabelEncoder()\n",
    "meta1['prim_pub_org_cat'] = doctype_encoder.fit_transform(meta1['prim_pub_org']) \n",
    "\n",
    "# print(len(meta1['prim_pub_org_cat'].unique()))\n",
    "# print(meta1['prim_pub_org_cat'].unique())\n",
    "\n",
    "#publishing application\n",
    "\n",
    "pub_app_encoder = LabelEncoder()\n",
    "meta1['pub_app_cat'] = doctype_encoder.fit_transform(meta1['pub_app'])\n",
    "\n",
    "# print(len(meta1['pub_app_cat'].unique()))\n",
    "# print(meta1['pub_app_cat'].unique())"
   ]
  },
  {
   "cell_type": "code",
   "execution_count": 22,
   "metadata": {},
   "outputs": [
    {
     "name": "stdout",
     "output_type": "stream",
     "text": [
      "(113481, 56)\n",
      "(113481, 382)\n",
      "(113481, 9)\n"
     ]
    },
    {
     "data": {
      "text/plain": [
       "numpy.ndarray"
      ]
     },
     "execution_count": 22,
     "metadata": {},
     "output_type": "execute_result"
    }
   ],
   "source": [
    "#one hot encode integers\n",
    "encoded_doctype = to_categorical(meta1['doctype_cat'])\n",
    "print(encoded_doctype.shape)\n",
    "\n",
    "encoded_prim_pub_org = to_categorical(meta1['prim_pub_org_cat'])\n",
    "print(encoded_prim_pub_org.shape)\n",
    "\n",
    "encoded_pub_app = to_categorical(meta1['pub_app_cat'])\n",
    "print(encoded_pub_app.shape)\n",
    "type(encoded_pub_app)"
   ]
  },
  {
   "cell_type": "code",
   "execution_count": 23,
   "metadata": {},
   "outputs": [
    {
     "name": "stdout",
     "output_type": "stream",
     "text": [
      "(113481,)\n",
      "datetime64[ns]\n",
      "0\n",
      "(113481, 1)\n"
     ]
    },
    {
     "data": {
      "text/plain": [
       "numpy.ndarray"
      ]
     },
     "execution_count": 23,
     "metadata": {},
     "output_type": "execute_result"
    }
   ],
   "source": [
    "meta1['first_published_at'] = pd.to_datetime(meta1['first_published_at']) \n",
    "\n",
    "# print(meta['first_published_at'][0].Timestamp())\n",
    "# for index, row in meta.iterrows():\n",
    "#     row['first_published_at_ts'] = row['first_published_at'].timestamp()\n",
    "#     print(row['first_published_at_ts'])\n",
    "\n",
    "print(meta1['first_published_at'].shape)\n",
    "\n",
    "first_published = np.array(meta1['first_published_at']).reshape(meta1['first_published_at'].shape[0], 1).copy()\n",
    "\n",
    "print(first_published.dtype)\n",
    "print(np.argmax(first_published.argmax))\n",
    "#scale first published at to 0 and 1\n",
    "print(first_published.shape)\n",
    "type(first_published)"
   ]
  },
  {
   "cell_type": "code",
   "execution_count": 24,
   "metadata": {},
   "outputs": [
    {
     "name": "stdout",
     "output_type": "stream",
     "text": [
      "(113481, 447)\n",
      "447\n",
      "(113481, 447)\n"
     ]
    }
   ],
   "source": [
    "\n",
    "meta = np.concatenate((encoded_doctype, \n",
    "                           encoded_prim_pub_org, \n",
    "                           encoded_pub_app), #error when adding date...\n",
    "                          axis=1)\n",
    "\n",
    "print(meta.shape)\n",
    "nb_metavars = meta.shape[1]\n",
    "print(nb_metavars)\n",
    "print(meta.shape)"
   ]
  },
  {
   "cell_type": "markdown",
   "metadata": {},
   "source": [
    "### Create combined_text data/X"
   ]
  },
  {
   "cell_type": "markdown",
   "metadata": {},
   "source": [
    "format our text samples and labels into tensors that can be fed into a neural network. To do this, we will rely on Keras utilities keras.preprocessing.text.Tokenizer and keras.preprocessing.sequence.pad_sequences."
   ]
  },
  {
   "cell_type": "code",
   "execution_count": 25,
   "metadata": {},
   "outputs": [
    {
     "data": {
      "text/plain": [
       "FrozenList(['content_id', 'combined_text', 'title', 'description'])"
      ]
     },
     "execution_count": 25,
     "metadata": {},
     "output_type": "execute_result"
    }
   ],
   "source": [
    "#the pivot table has two indices\n",
    "multilabel.index.names"
   ]
  },
  {
   "cell_type": "code",
   "execution_count": 26,
   "metadata": {},
   "outputs": [
    {
     "data": {
      "text/plain": [
       "(113481,)"
      ]
     },
     "execution_count": 26,
     "metadata": {},
     "output_type": "execute_result"
    }
   ],
   "source": [
    "#extract combined text index to array\n",
    "texts = multilabel.index.get_level_values('combined_text')\n",
    "texts.shape"
   ]
  },
  {
   "cell_type": "markdown",
   "metadata": {},
   "source": [
    "### Preprocess title data"
   ]
  },
  {
   "cell_type": "code",
   "execution_count": 27,
   "metadata": {},
   "outputs": [
    {
     "data": {
      "text/plain": [
       "(113481,)"
      ]
     },
     "execution_count": 27,
     "metadata": {},
     "output_type": "execute_result"
    }
   ],
   "source": [
    "titles = multilabel.index.get_level_values('title')\n",
    "titles.shape"
   ]
  },
  {
   "cell_type": "markdown",
   "metadata": {},
   "source": [
    "### Preprocess description data"
   ]
  },
  {
   "cell_type": "code",
   "execution_count": 28,
   "metadata": {},
   "outputs": [
    {
     "data": {
      "text/plain": [
       "(113481,)"
      ]
     },
     "execution_count": 28,
     "metadata": {},
     "output_type": "execute_result"
    }
   ],
   "source": [
    "descs = multilabel.index.get_level_values('description')\n",
    "descs.shape"
   ]
  },
  {
   "cell_type": "markdown",
   "metadata": {},
   "source": [
    "### Tokenize combined text"
   ]
  },
  {
   "cell_type": "markdown",
   "metadata": {},
   "source": [
    "Tokenizer = Class for vectorizing texts, or/and turning texts into sequences (=list of word indexes, where the word of rank i in the dataset (starting at 1) has index i)"
   ]
  },
  {
   "cell_type": "code",
   "execution_count": 29,
   "metadata": {},
   "outputs": [
    {
     "name": "stdout",
     "output_type": "stream",
     "text": [
      "Found 234863 unique tokens.\n"
     ]
    }
   ],
   "source": [
    "# Bag of words method\n",
    "tokenizer = Tokenizer(num_words=NUM_WORDS) #num_words: None or int. Maximum number of words to work with \n",
    "# (if set, tokenization will be restricted to the top num_words most common words in the dataset).\n",
    "\n",
    "# apply tokenizer to our text data\n",
    "tokenizer.fit_on_texts(texts)\n",
    "\n",
    "# list of word indexes, where the word of rank i in the dataset (starting at 1) has index i\n",
    "sequences = tokenizer.texts_to_sequences(texts) #yield one sequence per input text\n",
    "\n",
    "# dictionary mapping words (str) to their rank/index (int).\n",
    "word_index = tokenizer.word_index  # Only set after fit_on_texts was called.\n",
    "print('Found %s unique tokens.' % len(word_index))\n",
    "\n",
    "data = pad_sequences(sequences, maxlen= MAX_SEQUENCE_LENGTH) #MAX_SEQUENCE_LENGTH"
   ]
  },
  {
   "cell_type": "code",
   "execution_count": 30,
   "metadata": {},
   "outputs": [
    {
     "name": "stdout",
     "output_type": "stream",
     "text": [
      "Shape of label tensor: (113481, 187)\n",
      "Shape of data tensor: (113481, 1000)\n"
     ]
    }
   ],
   "source": [
    "print('Shape of label tensor:', binary_multilabel.shape)\n",
    "print('Shape of data tensor:', data.shape)"
   ]
  },
  {
   "cell_type": "markdown",
   "metadata": {},
   "source": [
    "### Tokenize title text"
   ]
  },
  {
   "cell_type": "code",
   "execution_count": 31,
   "metadata": {},
   "outputs": [],
   "source": [
    "# Bag of words method\n",
    "tokenizer_tit = Tokenizer(num_words=10000) #num_words: None or int. Maximum number of words to work with \n",
    "# (if set, tokenization will be restricted to the top num_words most common words in the dataset).\n",
    "\n",
    "# apply tokenizer to our text data\n",
    "tokenizer_tit.fit_on_texts(titles)\n",
    "\n",
    "# list of word indexes, where the word of rank i in the dataset (starting at 1) has index i\n",
    "sequences_tit = tokenizer_tit.texts_to_sequences(titles) #yield one sequence per input text"
   ]
  },
  {
   "cell_type": "code",
   "execution_count": 32,
   "metadata": {},
   "outputs": [],
   "source": [
    "onehot_tit = tokenizer_tit.sequences_to_matrix(sequences_tit) #yield one sequence per input text\n",
    "\n",
    "# dictionary mapping words (str) to their rank/index (int).\n",
    "word_index_tit = tokenizer_tit.word_index  # Only set after fit_on_texts was called.\n",
    "\n",
    "#NOTE THERE ARE LOTS OF NUMBERS IN HERE THAT SHOULD BE STRIPPED?\n",
    "\n",
    "# print('Found %s unique tokens.' % len(word_index_tit))\n",
    "\n",
    "# title_data = pad_sequences(sequences_tit, maxlen= 50) #mean/median=8 max = 47"
   ]
  },
  {
   "cell_type": "code",
   "execution_count": 33,
   "metadata": {},
   "outputs": [
    {
     "data": {
      "text/plain": [
       "(113481, 10000)"
      ]
     },
     "execution_count": 33,
     "metadata": {},
     "output_type": "execute_result"
    }
   ],
   "source": [
    "onehot_tit.shape"
   ]
  },
  {
   "cell_type": "code",
   "execution_count": 34,
   "metadata": {},
   "outputs": [
    {
     "data": {
      "text/plain": [
       "[('and', 25962),\n",
       " ('to', 25654),\n",
       " ('of', 22824),\n",
       " ('the', 20433),\n",
       " ('for', 18992),\n",
       " ('in', 14510),\n",
       " ('on', 9261),\n",
       " ('uk', 7632),\n",
       " ('2015', 6141),\n",
       " ('a', 5652),\n",
       " ('2016', 5504),\n",
       " ('2014', 5424),\n",
       " ('new', 4570),\n",
       " ('report', 3955),\n",
       " ('government', 3824),\n",
       " ('2017', 3745),\n",
       " ('2013', 3297),\n",
       " ('statistics', 2918),\n",
       " ('from', 2866),\n",
       " ('england', 2798),\n",
       " ('at', 2761),\n",
       " ('data', 2674),\n",
       " ('with', 2631),\n",
       " ('by', 2419),\n",
       " ('information', 2412),\n",
       " ('business', 2333),\n",
       " ('review', 2328),\n",
       " ('national', 2301),\n",
       " ('secretary', 2176),\n",
       " ('health', 2148),\n",
       " ('local', 2139),\n",
       " ('statement', 2134),\n",
       " ('tax', 2096),\n",
       " ('minister', 2069),\n",
       " ('march', 2010),\n",
       " ('2012', 1993),\n",
       " ('guidance', 1913),\n",
       " ('services', 1890),\n",
       " ('notice', 1820),\n",
       " ('foreign', 1817),\n",
       " ('energy', 1797),\n",
       " ('british', 1772),\n",
       " ('june', 1722),\n",
       " ('public', 1696),\n",
       " ('assessment', 1678),\n",
       " ('service', 1672),\n",
       " ('july', 1667),\n",
       " ('scheme', 1649),\n",
       " ('2011', 1633),\n",
       " ('over', 1630),\n",
       " ('office', 1626),\n",
       " ('september', 1592),\n",
       " ('april', 1591),\n",
       " ('release', 1570),\n",
       " ('management', 1528),\n",
       " ('support', 1501),\n",
       " ('december', 1468),\n",
       " ('foi', 1462),\n",
       " ('1', 1444),\n",
       " ('wales', 1435),\n",
       " ('january', 1376),\n",
       " ('response', 1363),\n",
       " ('october', 1352),\n",
       " ('funding', 1340),\n",
       " ('trade', 1322),\n",
       " ('research', 1306),\n",
       " ('–', 1301),\n",
       " ('programme', 1299),\n",
       " ('as', 1278),\n",
       " ('nhs', 1274),\n",
       " ('school', 1273),\n",
       " ('speech', 1264),\n",
       " ('plan', 1263),\n",
       " ('million', 1261),\n",
       " ('2010', 1247),\n",
       " ('year', 1238),\n",
       " ('survey', 1221),\n",
       " ('council', 1164),\n",
       " ('annual', 1159),\n",
       " ('northern', 1147),\n",
       " ('fund', 1129),\n",
       " ('care', 1098),\n",
       " ('social', 1081),\n",
       " ('international', 1081),\n",
       " ('2', 1078),\n",
       " ('education', 1075),\n",
       " ('financial', 1073),\n",
       " ('update', 1063),\n",
       " ('000', 1050),\n",
       " ('help', 1048),\n",
       " ('ireland', 1047),\n",
       " ('an', 1045),\n",
       " ('consultation', 1044),\n",
       " ('regulations', 1033),\n",
       " ('impact', 1021),\n",
       " ('investment', 1017),\n",
       " ('policy', 1013),\n",
       " ('dfid', 1009),\n",
       " ('or', 1004),\n",
       " ('land', 1001),\n",
       " ('your', 1000),\n",
       " ('company', 988),\n",
       " ('future', 977),\n",
       " ('guide', 960),\n",
       " ('spend', 956),\n",
       " ('change', 954),\n",
       " ('decision', 953),\n",
       " ('schools', 949),\n",
       " ('housing', 949),\n",
       " ('security', 941),\n",
       " ('road', 939),\n",
       " ('eu', 935),\n",
       " ('risk', 931),\n",
       " ('travel', 928),\n",
       " ('first', 925),\n",
       " ('how', 922),\n",
       " ('sector', 921),\n",
       " ('special', 913),\n",
       " ('development', 907),\n",
       " ('act', 907),\n",
       " ('people', 907),\n",
       " ('may', 904),\n",
       " ('strategy', 901),\n",
       " ('rights', 896),\n",
       " ('pension', 889),\n",
       " ('application', 887),\n",
       " ('conference', 884),\n",
       " ('non', 881),\n",
       " ('hs2', 875),\n",
       " ('advice', 867),\n",
       " ('work', 866),\n",
       " ('press', 863),\n",
       " ('london', 860),\n",
       " ('prime', 859),\n",
       " ('list', 850),\n",
       " ('authority', 845),\n",
       " ('spending', 841),\n",
       " ('community', 836),\n",
       " ('up', 831),\n",
       " ('use', 829),\n",
       " ('boost', 822),\n",
       " ('environmental', 819),\n",
       " ('planning', 817),\n",
       " ('export', 815),\n",
       " ('economic', 814),\n",
       " ('high', 801),\n",
       " ('home', 801),\n",
       " ('open', 800),\n",
       " ('panel', 792),\n",
       " ('state', 788),\n",
       " ('changes', 786),\n",
       " ('teacher', 785),\n",
       " ('november', 782),\n",
       " ('form', 781),\n",
       " ('outcome', 773),\n",
       " ('duty', 767),\n",
       " ('market', 766),\n",
       " ('letter', 762),\n",
       " ('rail', 750),\n",
       " ('reform', 748),\n",
       " ('growth', 748),\n",
       " ('index', 747),\n",
       " ('great', 745),\n",
       " ('action', 743),\n",
       " ('east', 739),\n",
       " ('be', 732),\n",
       " ('meetings', 732),\n",
       " ('committee', 726),\n",
       " ('visits', 723),\n",
       " ('britain', 721),\n",
       " ('south', 720),\n",
       " ('flood', 716),\n",
       " ('practice', 713),\n",
       " ('transport', 712),\n",
       " ('framework', 703),\n",
       " ('schemes', 703),\n",
       " ('february', 702),\n",
       " ('is', 702),\n",
       " ('quarterly', 700),\n",
       " ('day', 700),\n",
       " ('more', 697),\n",
       " ('tariff', 696),\n",
       " ('ending', 691),\n",
       " ('scotland', 688),\n",
       " ('3', 684),\n",
       " ('safety', 677),\n",
       " ('evaluation', 676),\n",
       " ('climate', 673),\n",
       " ('apply', 668),\n",
       " ('call', 665),\n",
       " ('agreement', 662),\n",
       " ('£25', 661),\n",
       " ('code', 659),\n",
       " ('commission', 656),\n",
       " ('system', 655),\n",
       " ('west', 655),\n",
       " ('16', 655),\n",
       " ('pm', 653),\n",
       " ('meeting', 653),\n",
       " ('monthly', 652),\n",
       " ('bill', 650),\n",
       " ('pay', 650),\n",
       " ('plans', 650),\n",
       " ('training', 646),\n",
       " ('august', 645),\n",
       " ('ministerial', 643),\n",
       " ('innovation', 641),\n",
       " ('into', 638),\n",
       " ('north', 637),\n",
       " ('trust', 636),\n",
       " ('reports', 634),\n",
       " ('about', 632),\n",
       " ('gas', 631),\n",
       " ('level', 631),\n",
       " ('customs', 631),\n",
       " ('access', 629),\n",
       " ('out', 627),\n",
       " ('project', 627),\n",
       " ('building', 626),\n",
       " ('science', 625),\n",
       " ('companies', 623),\n",
       " ('human', 620),\n",
       " ('industry', 620),\n",
       " ('green', 620),\n",
       " ('food', 619),\n",
       " ('civil', 617),\n",
       " ('children', 617),\n",
       " ('world', 607),\n",
       " ('cma', 607),\n",
       " ('limited', 607),\n",
       " ('welcomes', 605),\n",
       " ('afghanistan', 604),\n",
       " ('paper', 603),\n",
       " ('misconduct', 601),\n",
       " ('european', 597),\n",
       " ('water', 596),\n",
       " ('2018', 595),\n",
       " ('police', 594),\n",
       " ('summary', 594),\n",
       " ('staff', 591),\n",
       " ('waste', 590),\n",
       " ('businesses', 589),\n",
       " ('vat', 588),\n",
       " ('child', 584),\n",
       " ('overseas', 584),\n",
       " ('partnership', 584),\n",
       " ('defence', 583),\n",
       " ('homes', 581),\n",
       " ('performance', 581),\n",
       " ('house', 579),\n",
       " ('under', 576),\n",
       " ('draft', 576),\n",
       " ('appeal', 575),\n",
       " ('£500', 574),\n",
       " ('agency', 571),\n",
       " ('board', 571),\n",
       " ('anti', 568),\n",
       " ('5', 566),\n",
       " ('digital', 565),\n",
       " ('deal', 561),\n",
       " ('between', 561),\n",
       " ('final', 558),\n",
       " ('group', 558),\n",
       " ('general', 549),\n",
       " ('skills', 549),\n",
       " ('evidence', 548),\n",
       " ('screening', 547),\n",
       " ('10', 546),\n",
       " ('4', 545),\n",
       " ('licence', 542),\n",
       " ('women', 541),\n",
       " ('technical', 540),\n",
       " ('provisional', 538),\n",
       " ('royal', 536),\n",
       " ('procurement', 535),\n",
       " ('register', 531),\n",
       " ('phase', 529),\n",
       " ('competition', 529),\n",
       " ('global', 528),\n",
       " ('key', 527),\n",
       " ('hospitality', 526),\n",
       " ('31', 526),\n",
       " ('part', 524),\n",
       " ('working', 521),\n",
       " ('bulletin', 521),\n",
       " ('get', 519),\n",
       " ('payments', 516),\n",
       " ('apprenticeship', 514),\n",
       " ('quality', 514),\n",
       " ('briefing', 514),\n",
       " ('property', 512),\n",
       " ('progress', 511),\n",
       " ('projects', 510),\n",
       " ('technology', 509),\n",
       " ('against', 509),\n",
       " ('regulation', 508),\n",
       " ('standards', 508),\n",
       " ('standard', 501),\n",
       " ('fco', 498),\n",
       " ('analysis', 493),\n",
       " ('primary', 490),\n",
       " ('test', 488),\n",
       " ('will', 488),\n",
       " ('15', 487),\n",
       " ('investigation', 485),\n",
       " ('finance', 483),\n",
       " ('vehicle', 478),\n",
       " ('e', 472),\n",
       " ('area', 470),\n",
       " ('announced', 470),\n",
       " ('regulatory', 466),\n",
       " ('environment', 465),\n",
       " ('rules', 463),\n",
       " ('rates', 462),\n",
       " ('accounts', 462),\n",
       " ('workforce', 461),\n",
       " ('communities', 461),\n",
       " ('river', 461),\n",
       " ('aid', 461),\n",
       " ('request', 458),\n",
       " ('medical', 457),\n",
       " ('one', 457),\n",
       " ('results', 457),\n",
       " ('young', 456),\n",
       " ('time', 456),\n",
       " ('life', 455),\n",
       " ('free', 455),\n",
       " ('independent', 455),\n",
       " ('2009', 453),\n",
       " ('welsh', 450),\n",
       " ('employment', 448),\n",
       " ('pack', 447),\n",
       " ('infrastructure', 447),\n",
       " ('case', 447),\n",
       " ('small', 445),\n",
       " ('protection', 445),\n",
       " ('number', 442),\n",
       " ('department', 441),\n",
       " ('fire', 436),\n",
       " ('visit', 436),\n",
       " ('air', 436),\n",
       " ('chief', 435),\n",
       " ('approved', 434),\n",
       " ('announces', 434),\n",
       " ('control', 434),\n",
       " ('forces', 433),\n",
       " ('goods', 433),\n",
       " ('china', 432),\n",
       " ('licensing', 432),\n",
       " ('english', 431),\n",
       " ('centre', 431),\n",
       " ('price', 430),\n",
       " ('gifts', 429),\n",
       " ('study', 428),\n",
       " ('capital', 428),\n",
       " ('expenditure', 428),\n",
       " ('senior', 426),\n",
       " ('regional', 424),\n",
       " ('their', 421),\n",
       " ('mr', 421),\n",
       " ('further', 420),\n",
       " ('fuel', 420),\n",
       " ('years', 419),\n",
       " ('network', 419),\n",
       " ('registration', 419),\n",
       " ('dft', 418),\n",
       " ('power', 417),\n",
       " ('measures', 417),\n",
       " ('violence', 416),\n",
       " ('applications', 415),\n",
       " ('30', 415),\n",
       " ('post', 415),\n",
       " ('recovered', 412),\n",
       " ('order', 410),\n",
       " ('payment', 408),\n",
       " ('week', 407),\n",
       " ('tribunal', 406),\n",
       " ('improving', 406),\n",
       " ('costs', 405),\n",
       " ('domestic', 405),\n",
       " ('joint', 405),\n",
       " ('ref', 403),\n",
       " ('our', 402),\n",
       " ('you', 402),\n",
       " ('marine', 401),\n",
       " ('major', 400),\n",
       " ('patent', 400),\n",
       " ('outcomes', 400),\n",
       " ('crime', 397),\n",
       " ('delivery', 397),\n",
       " ('published', 396),\n",
       " ('scottish', 394),\n",
       " ('return', 390),\n",
       " ('david', 390),\n",
       " ('self', 390),\n",
       " ('income', 390),\n",
       " ('issue', 389),\n",
       " ('statistical', 389),\n",
       " ('oil', 388),\n",
       " ('event', 386),\n",
       " ('nuclear', 386),\n",
       " ('india', 385),\n",
       " ('fees', 383),\n",
       " ('private', 383),\n",
       " ('17', 381),\n",
       " ('grant', 380),\n",
       " ('construction', 380),\n",
       " ('authorities', 380),\n",
       " ('inspire', 379),\n",
       " ('names', 377),\n",
       " ('online', 373),\n",
       " ('charity', 373),\n",
       " ('registered', 373),\n",
       " ('economy', 372),\n",
       " ('appointed', 369),\n",
       " ('carbon', 368),\n",
       " ('end', 368),\n",
       " ('sea', 367),\n",
       " ('law', 367),\n",
       " ('city', 365),\n",
       " ('benefit', 365),\n",
       " ('proposals', 363),\n",
       " ('improve', 363),\n",
       " ('import', 363),\n",
       " ('stage', 361),\n",
       " ('operational', 357),\n",
       " ('launch', 356),\n",
       " ('farm', 355),\n",
       " ('6', 355),\n",
       " ('africa', 355),\n",
       " ('prices', 354),\n",
       " ('summit', 354),\n",
       " ('culture', 353),\n",
       " ('polygon', 351),\n",
       " ('strategic', 350),\n",
       " ('gcse', 350),\n",
       " ('14', 349),\n",
       " ('stop', 348),\n",
       " ('reporting', 348),\n",
       " ('monitoring', 348),\n",
       " ('legislation', 347),\n",
       " ('it', 347),\n",
       " ('cost', 346),\n",
       " ('contracts', 345),\n",
       " ('disease', 344),\n",
       " ('opportunities', 344),\n",
       " ('relief', 342),\n",
       " ('hmrc', 342),\n",
       " ('equality', 341),\n",
       " ('revenue', 340),\n",
       " ('treatment', 340),\n",
       " ('union', 340),\n",
       " ('lord', 339),\n",
       " ('9', 339),\n",
       " ('times', 339),\n",
       " ('dumping', 339),\n",
       " ('expenses', 339),\n",
       " ('bis', 338),\n",
       " ('hm', 337),\n",
       " ('need', 337),\n",
       " ('united', 337),\n",
       " ('budget', 336),\n",
       " ('organisations', 336),\n",
       " ('launches', 334),\n",
       " ('after', 334),\n",
       " ('11', 334),\n",
       " ('enterprise', 333),\n",
       " ('electricity', 332),\n",
       " ('director', 332),\n",
       " ('supply', 332),\n",
       " ('launched', 330),\n",
       " ('quarter', 330),\n",
       " ('mental', 329),\n",
       " ('set', 329),\n",
       " ('improvement', 329),\n",
       " ('note', 329),\n",
       " ('requirements', 328),\n",
       " ('low', 328),\n",
       " ('are', 327),\n",
       " ('powers', 327),\n",
       " ('better', 326),\n",
       " ('society', 326),\n",
       " ('healthcare', 324),\n",
       " ('12', 324),\n",
       " ('design', 323),\n",
       " ('contract', 321),\n",
       " ('awards', 320),\n",
       " ('testing', 318),\n",
       " ('learning', 316),\n",
       " ('7', 316),\n",
       " ('make', 316),\n",
       " ('insolvency', 315),\n",
       " ('rural', 315),\n",
       " ('13', 314),\n",
       " ('emergency', 314),\n",
       " ('insurance', 313),\n",
       " ('implementation', 313),\n",
       " ('products', 313),\n",
       " ('opinion', 312),\n",
       " ('country', 312),\n",
       " ('no', 312),\n",
       " ('trends', 310),\n",
       " ('traffic', 308),\n",
       " ('award', 308),\n",
       " ('inquiry', 306),\n",
       " ('consumer', 306),\n",
       " ('off', 306),\n",
       " ('card', 305),\n",
       " ('benefits', 305),\n",
       " ('that', 304),\n",
       " ('compliance', 304),\n",
       " ('smart', 304),\n",
       " ('animal', 303),\n",
       " ('supporting', 302),\n",
       " ('permit', 302),\n",
       " ('indicators', 302),\n",
       " ('role', 301),\n",
       " ('2008', 301),\n",
       " ('mgn', 301),\n",
       " ('than', 300),\n",
       " ('estimates', 298),\n",
       " ('deaths', 297),\n",
       " ('justice', 297),\n",
       " ('treasury', 297),\n",
       " ('minutes', 296),\n",
       " ('coast', 295),\n",
       " ('transparency', 295),\n",
       " ('forms', 295),\n",
       " ('directors', 294),\n",
       " ('ltd', 294),\n",
       " ('foundation', 294),\n",
       " ('cabinet', 294),\n",
       " ('cancer', 294),\n",
       " ('8', 294),\n",
       " ('other', 294),\n",
       " ('enforcement', 293),\n",
       " ('greater', 292),\n",
       " ('areas', 292),\n",
       " ('official', 291),\n",
       " ('proposed', 291),\n",
       " ('conditions', 290),\n",
       " ('meets', 290),\n",
       " ('second', 289),\n",
       " ('maintenance', 289),\n",
       " ('jobs', 289),\n",
       " ('deputy', 288),\n",
       " ('merger', 288),\n",
       " ('issued', 288),\n",
       " ('all', 288),\n",
       " ('money', 287),\n",
       " ('association', 287),\n",
       " ('additional', 286),\n",
       " ('bank', 285),\n",
       " ('media', 285),\n",
       " ('academy', 284),\n",
       " ('early', 284),\n",
       " ('facilities', 284),\n",
       " ('big', 284),\n",
       " ('embassy', 283),\n",
       " ('documents', 283),\n",
       " ('sustainable', 283),\n",
       " ('afghan', 282),\n",
       " ('18', 281),\n",
       " ('mark', 280),\n",
       " ('pensions', 280),\n",
       " ('calls', 280),\n",
       " ('appointment', 280),\n",
       " ('chair', 280),\n",
       " ('tables', 279),\n",
       " ('transactions', 278),\n",
       " ('living', 277),\n",
       " ('vehicles', 277),\n",
       " ('buy', 276),\n",
       " ('forum', 275),\n",
       " ('have', 275),\n",
       " ('commissioner', 275),\n",
       " ('term', 275),\n",
       " ('systems', 274),\n",
       " ('executive', 274),\n",
       " ('what', 274),\n",
       " ('start', 274),\n",
       " ('terrorism', 274),\n",
       " ('give', 273),\n",
       " ('armed', 273),\n",
       " ('driving', 273),\n",
       " ('campaign', 272),\n",
       " ('making', 272),\n",
       " ('issues', 271),\n",
       " ('restriction', 270),\n",
       " ('recommendation', 270),\n",
       " ('during', 269),\n",
       " ('works', 268),\n",
       " ('inspection', 268),\n",
       " ('court', 268),\n",
       " ('vaccine', 268),\n",
       " ('19', 268),\n",
       " ('commercial', 267),\n",
       " ('family', 267),\n",
       " ('operation', 267),\n",
       " ('sport', 266),\n",
       " ('chancellor', 266),\n",
       " ('amendment', 266),\n",
       " ('helmand', 266),\n",
       " ('legal', 265),\n",
       " ('medicines', 264),\n",
       " ('tackle', 264),\n",
       " ('statutory', 264),\n",
       " ('space', 263),\n",
       " ('morning', 263),\n",
       " ('subject', 262),\n",
       " ('efficiency', 262),\n",
       " ('next', 262),\n",
       " ('2006', 262),\n",
       " ('waiting', 261),\n",
       " ('providers', 261),\n",
       " ('challenge', 260),\n",
       " ('alcohol', 260),\n",
       " ('amendments', 260),\n",
       " ('related', 259),\n",
       " ('record', 257),\n",
       " ('provision', 257),\n",
       " ('emissions', 256),\n",
       " ('opens', 254),\n",
       " ('funds', 254),\n",
       " ('charities', 254),\n",
       " ('families', 253),\n",
       " ('its', 253),\n",
       " ('notices', 253),\n",
       " ('dwp', 253),\n",
       " ('apprenticeships', 250),\n",
       " ('external', 250),\n",
       " ('acoba', 248),\n",
       " ('value', 248),\n",
       " ('using', 248),\n",
       " ('tb', 247),\n",
       " ('midlands', 247),\n",
       " ('directive', 246),\n",
       " ('credit', 246),\n",
       " ('appointments', 246),\n",
       " ('notes', 245),\n",
       " ('o', 244),\n",
       " ('who', 244),\n",
       " ('surveillance', 244),\n",
       " ('not', 244),\n",
       " ('bus', 243),\n",
       " ('activity', 243),\n",
       " ('co', 243),\n",
       " ('syria', 243),\n",
       " ('article', 242),\n",
       " ('can', 241),\n",
       " ('through', 241),\n",
       " ('councils', 241),\n",
       " ('renewable', 241),\n",
       " ('process', 240),\n",
       " ('appeals', 240),\n",
       " ('transfer', 240),\n",
       " ('written', 240),\n",
       " ('right', 239),\n",
       " ('judgement', 238),\n",
       " ('estate', 238),\n",
       " ('ministers', 237),\n",
       " ('phe', 237),\n",
       " ('settlement', 237),\n",
       " ('advisory', 237),\n",
       " ('common', 237),\n",
       " ('census', 236),\n",
       " ('equipment', 236),\n",
       " ('m', 234),\n",
       " ('production', 234),\n",
       " ('billion', 234),\n",
       " ('measure', 233),\n",
       " ('military', 233),\n",
       " ('us', 233),\n",
       " ('trading', 232),\n",
       " ('consular', 232),\n",
       " ('based', 231),\n",
       " ('best', 230),\n",
       " ('recovery', 230),\n",
       " ('capacity', 228),\n",
       " ('brief', 228),\n",
       " ('20', 228),\n",
       " ('hmt', 227),\n",
       " ('live', 227),\n",
       " ('take', 227),\n",
       " ('two', 227),\n",
       " ('cyber', 226),\n",
       " ('red', 226),\n",
       " ('details', 225),\n",
       " ('members', 225),\n",
       " ('interest', 225),\n",
       " ('games', 225),\n",
       " ('now', 224),\n",
       " ('publishes', 224),\n",
       " ('controls', 224),\n",
       " ('way', 224),\n",
       " ('nick', 223),\n",
       " ('good', 223),\n",
       " ('apr', 222),\n",
       " ('arrangements', 222),\n",
       " ('heat', 220),\n",
       " ('patient', 220),\n",
       " ('corporation', 219),\n",
       " ('permanent', 219),\n",
       " ('savings', 219),\n",
       " ('olympic', 219),\n",
       " ('rescue', 218),\n",
       " ('top', 218),\n",
       " ('approach', 217),\n",
       " ('passenger', 216),\n",
       " ('offshore', 216),\n",
       " ('reference', 216),\n",
       " ('age', 215),\n",
       " ('president', 215),\n",
       " ('message', 215),\n",
       " ('mar', 215),\n",
       " ('fisheries', 214),\n",
       " ('tourism', 214),\n",
       " ('personal', 214),\n",
       " ('dclg', 214),\n",
       " ('licences', 213),\n",
       " ('codes', 213),\n",
       " ('individual', 213),\n",
       " ('gpc', 212),\n",
       " ('revised', 212),\n",
       " ('assessments', 212),\n",
       " ('claim', 212),\n",
       " ('labour', 211),\n",
       " ('un', 211),\n",
       " ('farming', 210),\n",
       " ('street', 210),\n",
       " ('returns', 210),\n",
       " ('broadband', 209),\n",
       " ('following', 209),\n",
       " ('fishing', 209),\n",
       " ('prevention', 208),\n",
       " ('communications', 208),\n",
       " ('needs', 208),\n",
       " ('mp', 207),\n",
       " ('pre', 206),\n",
       " ('levels', 206),\n",
       " ('manchester', 206),\n",
       " ('body', 205),\n",
       " ('michael', 205),\n",
       " ('long', 205),\n",
       " ('europe', 205),\n",
       " (\"minister's\", 204),\n",
       " ('operations', 204),\n",
       " ('team', 204),\n",
       " ('poverty', 204),\n",
       " ('rate', 203),\n",
       " ('site', 203),\n",
       " ('registry', 202),\n",
       " ('round', 202),\n",
       " ('criteria', 202),\n",
       " ('letters', 202),\n",
       " ('yorkshire', 202),\n",
       " ('intelligence', 201),\n",
       " ('taking', 201),\n",
       " ('check', 201),\n",
       " ('they', 201),\n",
       " ('condemns', 201),\n",
       " ('£1', 201),\n",
       " ('2007', 201),\n",
       " ('central', 201),\n",
       " ('higher', 200),\n",
       " ('countryside', 200),\n",
       " ('materials', 200),\n",
       " ('dcms', 200),\n",
       " ('improvements', 200),\n",
       " ('certificate', 200),\n",
       " ('trusts', 199),\n",
       " ('park', 199),\n",
       " ('stewardship', 199),\n",
       " ('sales', 199),\n",
       " ('st', 198),\n",
       " ('drive', 198),\n",
       " ('agricultural', 198),\n",
       " ('industrial', 198),\n",
       " ('flu', 198),\n",
       " ('reforms', 198),\n",
       " ('success', 197),\n",
       " ('sir', 197),\n",
       " ('responds', 197),\n",
       " ('workers', 197),\n",
       " ('charges', 197),\n",
       " ('save', 197),\n",
       " ('interim', 197),\n",
       " ('mission', 196),\n",
       " ('college', 196),\n",
       " ('terms', 196),\n",
       " ('speed', 196),\n",
       " ('freedom', 196),\n",
       " ('excise', 196),\n",
       " ('libya', 196),\n",
       " ('lawyers', 195),\n",
       " ('dec', 194),\n",
       " ('priorities', 194),\n",
       " ('hospital', 194),\n",
       " ('uk’s', 193),\n",
       " ('claims', 193),\n",
       " ('coastal', 192),\n",
       " ('governance', 192),\n",
       " ('ofsted', 192),\n",
       " ('partnerships', 192),\n",
       " ('raf', 192),\n",
       " ('charge', 191),\n",
       " ('period', 191),\n",
       " ('2005', 191),\n",
       " ('given', 190),\n",
       " ('tackling', 190),\n",
       " ('marks', 190),\n",
       " ('programmes', 190),\n",
       " ('sexual', 190),\n",
       " ('across', 189),\n",
       " ('prisoner', 189),\n",
       " ('initial', 188),\n",
       " ('voluntary', 188),\n",
       " ('approval', 188),\n",
       " ('academies', 188),\n",
       " ('protect', 187),\n",
       " ('ambassador', 187),\n",
       " ('maritime', 187),\n",
       " ('down', 186),\n",
       " ('jan', 186),\n",
       " ('appoints', 186),\n",
       " ('welfare', 186),\n",
       " ('if', 185),\n",
       " ('engagement', 185),\n",
       " ('patients', 185),\n",
       " ('understanding', 184),\n",
       " ('kingdom', 184),\n",
       " ('publication', 184),\n",
       " ('select', 184),\n",
       " ('we', 184),\n",
       " ('path', 183),\n",
       " ('cities', 183),\n",
       " ('manufacturing', 183),\n",
       " ('lead', 183),\n",
       " ('status', 183),\n",
       " ('build', 183),\n",
       " ('third', 183),\n",
       " ('collection', 182),\n",
       " ('recommendations', 182),\n",
       " ('death', 182),\n",
       " ('winter', 182),\n",
       " ('decc', 182),\n",
       " ('coalfield', 182),\n",
       " ('animals', 181),\n",
       " ('weekly', 180),\n",
       " ('roads', 180),\n",
       " ('departmental', 180),\n",
       " ('freight', 180),\n",
       " ('baroness', 179),\n",
       " ('developing', 179),\n",
       " ('section', 179),\n",
       " ('minimum', 179),\n",
       " ('line', 178),\n",
       " ('model', 178),\n",
       " ('dementia', 178),\n",
       " ('household', 177),\n",
       " ('confirmed', 176),\n",
       " ('warning', 176),\n",
       " ('leaders', 176),\n",
       " ('youth', 175),\n",
       " ('protected', 175),\n",
       " ('figures', 175),\n",
       " ('this', 175),\n",
       " ('wins', 175),\n",
       " ('countries', 174),\n",
       " ('highways', 174),\n",
       " ('incident', 174),\n",
       " ('summer', 174),\n",
       " ('user', 174),\n",
       " ('assistance', 173),\n",
       " ('search', 173),\n",
       " ('station', 173),\n",
       " ('pilot', 173),\n",
       " ('document', 173),\n",
       " ('volume', 173),\n",
       " ('convention', 173),\n",
       " ('parliament', 173),\n",
       " ('lane', 173),\n",
       " ('commonwealth', 172),\n",
       " ('c', 172),\n",
       " ('cross', 172),\n",
       " ('storage', 172),\n",
       " ('generation', 172),\n",
       " ('obligation', 172),\n",
       " ('procedures', 172),\n",
       " ('visa', 172),\n",
       " ('force', 171),\n",
       " ('maps', 171),\n",
       " ('edward', 171),\n",
       " ('tech', 170),\n",
       " ('qualifications', 170),\n",
       " ('academic', 170),\n",
       " ('tests', 170),\n",
       " ('effects', 170),\n",
       " ('sports', 169),\n",
       " ('events', 169),\n",
       " ('drug', 169),\n",
       " ('markets', 169),\n",
       " ('heritage', 169),\n",
       " ('audit', 168),\n",
       " ('msn', 168),\n",
       " ('junction', 168),\n",
       " ('supplementary', 168),\n",
       " ('defra', 168),\n",
       " ('avoidance', 168),\n",
       " ('supports', 167),\n",
       " ('disclosure', 167),\n",
       " ('sanctions', 167),\n",
       " ('afternoon', 167),\n",
       " ('newsletter', 166),\n",
       " ('thames', 166),\n",
       " ('go', 166),\n",
       " ('oct', 165),\n",
       " ('closures', 165),\n",
       " ('helping', 165),\n",
       " ('monitor', 164),\n",
       " ('sets', 164),\n",
       " ('imported', 164),\n",
       " ('leadership', 164),\n",
       " ('class', 164),\n",
       " ('clinical', 164),\n",
       " ('war', 164),\n",
       " ('pakistan', 164),\n",
       " ('back', 163),\n",
       " ('direct', 163),\n",
       " ('pupil', 163),\n",
       " ('resources', 163),\n",
       " ('allowance', 163),\n",
       " ('natural', 163),\n",
       " ('orders', 163),\n",
       " ('show', 162),\n",
       " ('granted', 162),\n",
       " ('bridge', 161),\n",
       " ('japan', 161),\n",
       " ('illegal', 161),\n",
       " ('officer', 161),\n",
       " ('john', 161),\n",
       " ('must', 161),\n",
       " ('manual', 161),\n",
       " ('abroad', 160),\n",
       " ('helps', 160),\n",
       " ('engineering', 160),\n",
       " ('unit', 160),\n",
       " ('b', 159),\n",
       " ('mod', 159),\n",
       " ('wind', 159),\n",
       " ('commons', 159),\n",
       " ('technologies', 159),\n",
       " ('find', 159),\n",
       " ('opening', 159),\n",
       " ('re', 159),\n",
       " ('potential', 159),\n",
       " ('reducing', 159),\n",
       " ('troops', 158),\n",
       " ('population', 158),\n",
       " ('account', 158),\n",
       " ('disposal', 158),\n",
       " ('news', 158),\n",
       " ('studies', 158),\n",
       " ('exports', 158),\n",
       " ('inspections', 158),\n",
       " ('schedule', 157),\n",
       " ('22', 157),\n",
       " ('exemption', 157),\n",
       " ('exchange', 157),\n",
       " ('29', 157),\n",
       " ('25', 157),\n",
       " ('ahead', 157),\n",
       " ('managing', 157),\n",
       " ('levy', 156),\n",
       " ('employer', 156),\n",
       " ('summaries', 156),\n",
       " ('migrant', 156),\n",
       " ('victims', 155),\n",
       " ('teaching', 155),\n",
       " ('multi', 155),\n",
       " ('fraud', 155),\n",
       " ('conflict', 155),\n",
       " ('ownership', 155),\n",
       " ('tape', 155),\n",
       " ('funeral', 154),\n",
       " ('rt', 154),\n",
       " ('hon', 154),\n",
       " ('statements', 154),\n",
       " ('secondary', 154),\n",
       " ('girls', 154),\n",
       " ('certificates', 153),\n",
       " ('party', 153),\n",
       " ('together', 153),\n",
       " ('software', 153),\n",
       " ('complaints', 153),\n",
       " ('criminal', 153),\n",
       " ('industries', 153),\n",
       " ('23', 152),\n",
       " ('electronic', 152),\n",
       " (\"secretary's\", 152),\n",
       " ...]"
      ]
     },
     "execution_count": 34,
     "metadata": {},
     "output_type": "execute_result"
    }
   ],
   "source": [
    "\n",
    "sorted(tokenizer_tit.word_counts.items(), key=lambda x:x[1], reverse=True)\n",
    "#for key, value in sorted(mydict.iteritems(), key=lambda (k,v): (v,k)):\n",
    "    #print \"%s: %s\" % (key, value)"
   ]
  },
  {
   "cell_type": "markdown",
   "metadata": {},
   "source": [
    "### Tokenize description text"
   ]
  },
  {
   "cell_type": "code",
   "execution_count": 35,
   "metadata": {},
   "outputs": [],
   "source": [
    "# Bag of words method\n",
    "tokenizer_desc = Tokenizer(num_words=10000) #num_words: None or int. Maximum number of words to work with \n",
    "# (if set, tokenization will be restricted to the top num_words most common words in the dataset).\n",
    "\n",
    "# apply tokenizer to our text data\n",
    "tokenizer_desc.fit_on_texts(descs)\n",
    "\n",
    "# list of word indexes, where the word of rank i in the dataset (starting at 1) has index i\n",
    "sequences_desc = tokenizer_desc.texts_to_sequences(descs) #yield one sequence per input text\n",
    "onehot_desc = tokenizer_desc.sequences_to_matrix(sequences_desc) #yield one sequence per input text\n",
    "\n",
    "# dictionary mapping words (str) to their rank/index (int).\n",
    "word_index_desc = tokenizer_desc.word_index "
   ]
  },
  {
   "cell_type": "code",
   "execution_count": 36,
   "metadata": {},
   "outputs": [
    {
     "data": {
      "text/plain": [
       "(113481, 10000)"
      ]
     },
     "execution_count": 36,
     "metadata": {},
     "output_type": "execute_result"
    }
   ],
   "source": [
    "onehot_desc.shape"
   ]
  },
  {
   "cell_type": "markdown",
   "metadata": {},
   "source": [
    "### Data split\n",
    "- Training data = 80%\n",
    "- Development data = 10%\n",
    "- Test data = 10%"
   ]
  },
  {
   "cell_type": "code",
   "execution_count": 37,
   "metadata": {},
   "outputs": [
    {
     "name": "stdout",
     "output_type": "stream",
     "text": [
      "[     0      1      2 ..., 113478 113479 113480]\n",
      "[ 80144 103411  20235 ...,  42613  43567  68268]\n"
     ]
    }
   ],
   "source": [
    "# shuffle data and standardise indices\n",
    "indices = np.arange(data.shape[0])\n",
    "print(indices)\n",
    "np.random.seed(0)\n",
    "np.random.shuffle(indices)\n",
    "print(indices)"
   ]
  },
  {
   "cell_type": "code",
   "execution_count": 38,
   "metadata": {},
   "outputs": [],
   "source": [
    "data = data[indices]\n",
    "metadata = meta[indices]\n",
    "title_data = onehot_tit[indices]"
   ]
  },
  {
   "cell_type": "code",
   "execution_count": 39,
   "metadata": {},
   "outputs": [],
   "source": [
    "desc_data = onehot_desc[indices]\n",
    "timedata = first_published[indices]\n",
    "\n",
    "\n",
    "labels = binary_multilabel[indices]"
   ]
  },
  {
   "cell_type": "code",
   "execution_count": 40,
   "metadata": {},
   "outputs": [
    {
     "name": "stdout",
     "output_type": "stream",
     "text": [
      "nb_test samples: 11348\n",
      "nb_dev samples: 22696\n",
      "nb_training samples: 90784\n"
     ]
    }
   ],
   "source": [
    "nb_test_samples = int(0.1 * data.shape[0]) #validation split\n",
    "print('nb_test samples:', nb_test_samples)\n",
    "\n",
    "nb_dev_samples = int(0.2 * data.shape[0]) #validation split\n",
    "print('nb_dev samples:', nb_dev_samples)\n",
    "\n",
    "nb_training_samples = int(0.8 * data.shape[0]) #validation split\n",
    "print('nb_training samples:', nb_training_samples)"
   ]
  },
  {
   "cell_type": "code",
   "execution_count": 41,
   "metadata": {},
   "outputs": [
    {
     "name": "stdout",
     "output_type": "stream",
     "text": [
      "Shape of x_train: (90785, 1000)\n",
      "Shape of metax_train: (90785, 447)\n",
      "Shape of titlex_train: (90785, 10000)\n",
      "Shape of descx_train: (90785, 10000)\n",
      "Shape of datex_train: (90785, 1)\n",
      "Shape of y_train: (90785, 187)\n"
     ]
    }
   ],
   "source": [
    "x_train = data[:-nb_dev_samples]\n",
    "print('Shape of x_train:', x_train.shape)\n",
    "\n",
    "metax_train = metadata[:-nb_dev_samples]\n",
    "print('Shape of metax_train:', metax_train.shape)\n",
    "\n",
    "titlex_train = title_data[:-nb_dev_samples]\n",
    "print('Shape of titlex_train:', titlex_train.shape)\n",
    "\n",
    "descx_train = desc_data[:-nb_dev_samples]\n",
    "print('Shape of descx_train:', descx_train.shape)\n",
    "\n",
    "datex_train = timedata[:-nb_dev_samples]\n",
    "print('Shape of datex_train:', datex_train.shape)\n",
    "\n",
    "y_train = labels[:-nb_dev_samples]\n",
    "print('Shape of y_train:', y_train.shape)"
   ]
  },
  {
   "cell_type": "code",
   "execution_count": 42,
   "metadata": {},
   "outputs": [
    {
     "name": "stdout",
     "output_type": "stream",
     "text": [
      "Shape of x_dev: (11348, 1000)\n",
      "Shape of metax_dev: (11348, 447)\n",
      "Shape of titlex_dev: (11348, 10000)\n",
      "Shape of descx_dev: (11348, 10000)\n",
      "Shape of metax_dev: (11348, 1)\n",
      "Shape of y_dev: (11348, 187)\n"
     ]
    }
   ],
   "source": [
    "x_dev = data[-nb_dev_samples:-nb_test_samples]\n",
    "print('Shape of x_dev:', x_dev.shape)\n",
    "\n",
    "metax_dev = metadata[-nb_dev_samples:-nb_test_samples]\n",
    "print('Shape of metax_dev:', metax_dev.shape)\n",
    "\n",
    "titlex_dev = title_data[-nb_dev_samples:-nb_test_samples]\n",
    "print('Shape of titlex_dev:', titlex_dev.shape)\n",
    "\n",
    "descx_dev = desc_data[-nb_dev_samples:-nb_test_samples]\n",
    "print('Shape of descx_dev:', descx_dev.shape)\n",
    "\n",
    "datex_dev = timedata[-nb_dev_samples:-nb_test_samples]\n",
    "print('Shape of metax_dev:', datex_dev.shape)\n",
    "\n",
    "y_dev = labels[-nb_dev_samples:-nb_test_samples]\n",
    "print('Shape of y_dev:', y_dev.shape)"
   ]
  },
  {
   "cell_type": "code",
   "execution_count": 43,
   "metadata": {},
   "outputs": [
    {
     "name": "stdout",
     "output_type": "stream",
     "text": [
      "Shape of x_test: (11348, 1000)\n",
      "Shape of metax_test: (11348, 447)\n",
      "Shape of titlex_test: (11348, 10000)\n",
      "Shape of descx_test: (11348, 10000)\n",
      "Shape of datex_test: (11348, 1)\n",
      "Shape of y_test: (11348, 187)\n"
     ]
    }
   ],
   "source": [
    "x_test = data[-nb_test_samples:]\n",
    "print('Shape of x_test:', x_test.shape)\n",
    "\n",
    "metax_test = metadata[-nb_test_samples:]\n",
    "print('Shape of metax_test:', metax_test.shape)\n",
    "\n",
    "titlex_test = title_data[-nb_test_samples:]\n",
    "print('Shape of titlex_test:', titlex_test.shape)\n",
    "\n",
    "descx_test = desc_data[-nb_test_samples:]\n",
    "print('Shape of descx_test:', descx_test.shape)\n",
    "\n",
    "datex_test = timedata[-nb_test_samples:]\n",
    "print('Shape of datex_test:', datex_test.shape)\n",
    "\n",
    "y_test = labels[-nb_test_samples:]\n",
    "print('Shape of y_test:', y_test.shape)"
   ]
  },
  {
   "cell_type": "markdown",
   "metadata": {},
   "source": [
    "### preparing the Embedding layer\n",
    "\n",
    "NB stopwords haven't been removed yet..."
   ]
  },
  {
   "cell_type": "code",
   "execution_count": 44,
   "metadata": {},
   "outputs": [],
   "source": [
    "embedding_layer = Embedding(len(word_index) + 1, \n",
    "                            EMBEDDING_DIM, \n",
    "                            input_length=MAX_SEQUENCE_LENGTH)"
   ]
  },
  {
   "cell_type": "markdown",
   "metadata": {},
   "source": [
    "An Embedding layer should be fed sequences of integers, i.e. a 2D input of shape (samples, indices). These input sequences should be padded so that they all have the same length in a batch of input data (although an Embedding layer is capable of processing sequence of heterogenous length, if you don't pass an explicit input_length argument to the layer).\n",
    "\n",
    "All that the Embedding layer does is to map the integer inputs to the vectors found at the corresponding index in the embedding matrix, i.e. the sequence [1, 2] would be converted to [embeddings[1], embeddings[2]]. This means that the output of the Embedding layer will be a 3D tensor of shape (samples, sequence_length, embedding_dim)."
   ]
  },
  {
   "cell_type": "markdown",
   "metadata": {},
   "source": [
    "### Estimate class weights for unbalanced datasets.\n",
    "paramter to model.fit = __class_weight__: Optional dictionary mapping class indices (integers) to a weight (float) value, used for weighting the loss function (during training only). This can be useful to tell the model to \"pay more attention\" to samples from an under-represented class.\n",
    "\n",
    "Implement class_weight from sklearn:\n",
    "\n",
    "- Import the module \n",
    "\n",
    "`from sklearn.utils import class_weight`\n",
    "- calculate the class weight, If ‘balanced’, class weights will be given by n_samples / (n_classes * np.bincount(y)):\n",
    "\n",
    "`class_weight = class_weight.compute_class_weight('balanced', np.unique(y_train), y_train)`\n",
    "\n",
    "- change it to a dict in order to work with Keras.\n",
    "\n",
    "`class_weight_dict = dict(enumerate(class_weight))`\n",
    "\n",
    "- Add to model fitting\n",
    "\n",
    "`model.fit(X_train, y_train, class_weight=class_weight)`"
   ]
  },
  {
   "cell_type": "code",
   "execution_count": 45,
   "metadata": {},
   "outputs": [],
   "source": [
    "# class_weight = class_weight.compute_class_weight('balanced', np.unique(y_train), y_train)\n",
    "# class_weight_dict = dict(enumerate(class_weight))"
   ]
  },
  {
   "cell_type": "markdown",
   "metadata": {},
   "source": [
    "### Custom loss function"
   ]
  },
  {
   "cell_type": "code",
   "execution_count": 46,
   "metadata": {},
   "outputs": [
    {
     "name": "stdout",
     "output_type": "stream",
     "text": [
      "4.00756\n",
      "8.01512\n"
     ]
    }
   ],
   "source": [
    "class WeightedBinaryCrossEntropy(object):\n",
    "\n",
    "    def __init__(self, pos_ratio):\n",
    "        neg_ratio = 1. - pos_ratio\n",
    "        #self.pos_ratio = tf.constant(pos_ratio, tf.float32)\n",
    "        self.pos_ratio = pos_ratio\n",
    "        #self.weights = tf.constant(neg_ratio / pos_ratio, tf.float32)\n",
    "        self.weights = neg_ratio / pos_ratio\n",
    "        self.__name__ = \"weighted_binary_crossentropy({0})\".format(pos_ratio)\n",
    "\n",
    "    def __call__(self, y_true, y_pred):\n",
    "        return self.weighted_binary_crossentropy(y_true, y_pred)\n",
    "\n",
    "    def weighted_binary_crossentropy(self, y_true, y_pred):\n",
    "            # Transform to logits\n",
    "            epsilon = tf.convert_to_tensor(K.common._EPSILON, y_pred.dtype.base_dtype)\n",
    "            y_pred = tf.clip_by_value(y_pred, epsilon, 1 - epsilon)\n",
    "            y_pred = tf.log(y_pred / (1 - y_pred))\n",
    "\n",
    "            cost = tf.nn.weighted_cross_entropy_with_logits(y_true, y_pred, self.weights)\n",
    "            return K.mean(cost * self.pos_ratio, axis=-1)\n",
    "    \n",
    "y_true_arr = np.array([0,1,0,1], dtype=\"float32\")\n",
    "y_pred_arr = np.array([0,0,1,1], dtype=\"float32\")\n",
    "y_true = tf.constant(y_true_arr)\n",
    "y_pred = tf.constant(y_pred_arr)\n",
    "\n",
    "with tf.Session().as_default(): \n",
    "    print(WeightedBinaryCrossEntropy(0.5)(y_true, y_pred).eval())\n",
    "    print(binary_crossentropy(y_true, y_pred).eval())\n"
   ]
  },
  {
   "cell_type": "markdown",
   "metadata": {},
   "source": [
    "### difficulty getting global precision/recall metrics . CAUTION interpreting monitoring metrics\n",
    "fcholltet: \"Basically these are all global metrics that were approximated\n",
    "batch-wise, which is more misleading than helpful. This was mentioned in\n",
    "the docs but it's much cleaner to remove them altogether. It was a mistake\n",
    "to merge them in the first place.\""
   ]
  },
  {
   "cell_type": "code",
   "execution_count": 47,
   "metadata": {},
   "outputs": [],
   "source": [
    "def f1(y_true, y_pred):\n",
    "    \"\"\"Use Recall  and precision metrics to calculate harmonic mean (F1 score).\n",
    "\n",
    "        Only computes a batch-wise average of recall.\n",
    "\n",
    "        Computes the recall, a metric for multi-label classification of\n",
    "        how many relevant items are selected.\n",
    "        \"\"\"\n",
    "    true_positives = K.sum(K.round(K.clip(y_true * y_pred, 0, 1)))\n",
    "    predicted_positives = K.sum(K.round(K.clip(y_pred, 0, 1)))\n",
    "    possible_positives = K.sum(K.round(K.clip(y_true, 0, 1)))\n",
    "    precision = true_positives / (predicted_positives + K.epsilon())\n",
    "    recall = true_positives / (possible_positives + K.epsilon())\n",
    "    f1 = 2*((precision*recall)/(precision+recall))\n",
    "    \n",
    "    return f1"
   ]
  },
  {
   "cell_type": "markdown",
   "metadata": {},
   "source": [
    "## Training a 1D convnet"
   ]
  },
  {
   "cell_type": "markdown",
   "metadata": {},
   "source": [
    "### 1. Create model"
   ]
  },
  {
   "cell_type": "code",
   "execution_count": 48,
   "metadata": {},
   "outputs": [],
   "source": [
    "NB_CLASSES = y_train.shape[1]\n",
    "NB_METAVARS = metax_train.shape[1]\n",
    "\n",
    "\n",
    "\n",
    "sequence_input = Input(shape=(MAX_SEQUENCE_LENGTH,), dtype='int32', name='wordindex') #MAX_SEQUENCE_LENGTH\n",
    "embedded_sequences = embedding_layer(sequence_input)\n",
    "x = Dropout(0.2, name = 'dropout_embedded')(embedded_sequences)\n",
    "\n",
    "x = Conv1D(128, 5, activation='relu', name = 'conv0')(x)\n",
    "\n",
    "x = MaxPooling1D(5, name = 'max_pool0')(x)\n",
    "\n",
    "x = Dropout(0.5, name = 'dropout0')(x)\n",
    "\n",
    "x = Conv1D(128, 5, activation='relu', name = 'conv1')(x)\n",
    "\n",
    "x = MaxPooling1D(5 , name = 'max_pool1')(x)\n",
    "\n",
    "x = Conv1D(128, 5, activation='relu', name = 'conv2')(x)\n",
    "\n",
    "x = MaxPooling1D(35, name = 'global_max_pool')(x)  # global max pooling\n",
    "\n",
    "x = Flatten()(x) #reduce dimensions from 3 to 2; convert to vector + FULLYCONNECTED\n",
    "\n",
    "meta_input = Input(shape=(NB_METAVARS,), name='meta')\n",
    "meta_hidden = Dense(128, activation='relu', name = 'hidden_meta')(meta_input)\n",
    "meta_hidden = Dropout(0.2, name = 'dropout_meta')(meta_hidden)\n",
    "\n",
    "\n",
    "title_input = Input(shape=(titlex_train.shape[1],), name='titles')\n",
    "title_hidden = Dense(128, activation='relu', name = 'hidden_title')(title_input)\n",
    "title_hidden = Dropout(0.2, name = 'dropout_title')(title_hidden)\n",
    "\n",
    "desc_input = Input(shape=(descx_train.shape[1],), name='descs')\n",
    "desc_hidden = Dense(128, activation='relu', name = 'hidden_desc')(desc_input)\n",
    "desc_hidden = Dropout(0.2, name = 'dropout_desc')(desc_hidden)\n",
    "\n",
    "concatenated = concatenate([meta_hidden, title_hidden, desc_hidden, x])\n",
    "\n",
    "x = Dense(400, activation='relu', name = 'fully_connected0')(concatenated)\n",
    "\n",
    "x = Dropout(0.2, name = 'dropout1')(x)\n",
    "\n",
    "x = Dense(NB_CLASSES, activation='sigmoid', name = 'fully_connected1')(x)\n",
    "\n",
    "# # The Model class turns an input tensor and output tensor into a model\n",
    "# This creates Keras model instance, will use this instance to train/test the model.\n",
    "model = Model(inputs=[meta_input, title_input, desc_input, sequence_input], outputs=x)"
   ]
  },
  {
   "cell_type": "markdown",
   "metadata": {},
   "source": [
    "### 2. Compile model"
   ]
  },
  {
   "cell_type": "code",
   "execution_count": 49,
   "metadata": {},
   "outputs": [],
   "source": [
    "model.compile(loss=WeightedBinaryCrossEntropy(POS_RATIO),\n",
    "              optimizer='rmsprop',\n",
    "              metrics=['binary_accuracy', f1])"
   ]
  },
  {
   "cell_type": "markdown",
   "metadata": {},
   "source": [
    "Metric values are recorded at the end of each epoch on the training dataset. If a validation dataset is also provided, then the metric recorded is also calculated for the validation dataset.\n",
    "\n",
    "All metrics are reported in verbose output and in the history object returned from calling the fit() function. In both cases, the name of the metric function is used as the key for the metric values. In the case of metrics for the validation dataset, the “val_” prefix is added to the key."
   ]
  },
  {
   "cell_type": "markdown",
   "metadata": {},
   "source": [
    "You have now built a function to describe your model. To train and test this model, there are four steps in Keras:\n",
    "1. Create the model by calling the function above\n",
    "2. Compile the model by calling `model.compile(optimizer = \"...\", loss = \"...\", metrics = [\"accuracy\"])`\n",
    "3. Train the model on train data by calling `model.fit(x = ..., y = ..., epochs = ..., batch_size = ...)`\n",
    "4. Test the model on test data by calling `model.evaluate(x = ..., y = ...)`\n",
    "\n",
    "If you want to know more about `model.compile()`, `model.fit()`, `model.evaluate()` and their arguments, refer to the official [Keras documentation](https://keras.io/models/model/).\n"
   ]
  },
  {
   "cell_type": "code",
   "execution_count": 50,
   "metadata": {},
   "outputs": [
    {
     "name": "stdout",
     "output_type": "stream",
     "text": [
      "__________________________________________________________________________________________________\n",
      "Layer (type)                    Output Shape         Param #     Connected to                     \n",
      "==================================================================================================\n",
      "wordindex (InputLayer)          (None, 1000)         0                                            \n",
      "__________________________________________________________________________________________________\n",
      "embedding_1 (Embedding)         (None, 1000, 100)    23486400    wordindex[0][0]                  \n",
      "__________________________________________________________________________________________________\n",
      "dropout_embedded (Dropout)      (None, 1000, 100)    0           embedding_1[0][0]                \n",
      "__________________________________________________________________________________________________\n",
      "conv0 (Conv1D)                  (None, 996, 128)     64128       dropout_embedded[0][0]           \n",
      "__________________________________________________________________________________________________\n",
      "max_pool0 (MaxPooling1D)        (None, 199, 128)     0           conv0[0][0]                      \n",
      "__________________________________________________________________________________________________\n",
      "dropout0 (Dropout)              (None, 199, 128)     0           max_pool0[0][0]                  \n",
      "__________________________________________________________________________________________________\n",
      "conv1 (Conv1D)                  (None, 195, 128)     82048       dropout0[0][0]                   \n",
      "__________________________________________________________________________________________________\n",
      "max_pool1 (MaxPooling1D)        (None, 39, 128)      0           conv1[0][0]                      \n",
      "__________________________________________________________________________________________________\n",
      "meta (InputLayer)               (None, 447)          0                                            \n",
      "__________________________________________________________________________________________________\n",
      "titles (InputLayer)             (None, 10000)        0                                            \n",
      "__________________________________________________________________________________________________\n",
      "descs (InputLayer)              (None, 10000)        0                                            \n",
      "__________________________________________________________________________________________________\n",
      "conv2 (Conv1D)                  (None, 35, 128)      82048       max_pool1[0][0]                  \n",
      "__________________________________________________________________________________________________\n",
      "hidden_meta (Dense)             (None, 128)          57344       meta[0][0]                       \n",
      "__________________________________________________________________________________________________\n",
      "hidden_title (Dense)            (None, 128)          1280128     titles[0][0]                     \n",
      "__________________________________________________________________________________________________\n",
      "hidden_desc (Dense)             (None, 128)          1280128     descs[0][0]                      \n",
      "__________________________________________________________________________________________________\n",
      "global_max_pool (MaxPooling1D)  (None, 1, 128)       0           conv2[0][0]                      \n",
      "__________________________________________________________________________________________________\n",
      "dropout_meta (Dropout)          (None, 128)          0           hidden_meta[0][0]                \n",
      "__________________________________________________________________________________________________\n",
      "dropout_title (Dropout)         (None, 128)          0           hidden_title[0][0]               \n",
      "__________________________________________________________________________________________________\n",
      "dropout_desc (Dropout)          (None, 128)          0           hidden_desc[0][0]                \n",
      "__________________________________________________________________________________________________\n",
      "flatten_1 (Flatten)             (None, 128)          0           global_max_pool[0][0]            \n",
      "__________________________________________________________________________________________________\n",
      "concatenate_1 (Concatenate)     (None, 512)          0           dropout_meta[0][0]               \n",
      "                                                                 dropout_title[0][0]              \n",
      "                                                                 dropout_desc[0][0]               \n",
      "                                                                 flatten_1[0][0]                  \n",
      "__________________________________________________________________________________________________\n",
      "fully_connected0 (Dense)        (None, 400)          205200      concatenate_1[0][0]              \n",
      "__________________________________________________________________________________________________\n",
      "dropout1 (Dropout)              (None, 400)          0           fully_connected0[0][0]           \n",
      "__________________________________________________________________________________________________\n",
      "fully_connected1 (Dense)        (None, 187)          74987       dropout1[0][0]                   \n",
      "==================================================================================================\n",
      "Total params: 26,612,411\n",
      "Trainable params: 26,612,411\n",
      "Non-trainable params: 0\n",
      "__________________________________________________________________________________________________\n"
     ]
    }
   ],
   "source": [
    "model.summary()"
   ]
  },
  {
   "cell_type": "markdown",
   "metadata": {},
   "source": [
    "### Tensorboard callbacks /metrics /monitor training"
   ]
  },
  {
   "cell_type": "markdown",
   "metadata": {},
   "source": [
    "<span style=\"color:red\"> **Size of these files is killing storage during training. Is it histograms?**</span>"
   ]
  },
  {
   "cell_type": "code",
   "execution_count": 51,
   "metadata": {},
   "outputs": [],
   "source": [
    "tb = TensorBoard(log_dir='./learn_embedding_logs', histogram_freq=1, write_graph=True, write_images=False)"
   ]
  },
  {
   "cell_type": "code",
   "execution_count": 52,
   "metadata": {},
   "outputs": [],
   "source": [
    "CHECKPOINT_PATH = os.path.join(DATADIR, 'model_checkpoint.hdf5')\n",
    "\n",
    "cp = ModelCheckpoint(\n",
    "                     filepath = CHECKPOINT_PATH, \n",
    "                     monitor='val_loss', \n",
    "                     verbose=0, \n",
    "                     save_best_only=False, \n",
    "                     save_weights_only=False, \n",
    "                     mode='auto', \n",
    "                     period=1\n",
    "                    )"
   ]
  },
  {
   "cell_type": "code",
   "execution_count": 53,
   "metadata": {},
   "outputs": [],
   "source": [
    "# class Metrics(Callback):\n",
    "#     def on_train_begin(self, logs={}):\n",
    "#         self.val_f1s = []\n",
    "#         self.val_recalls = []\n",
    "#         self.val_precisions = []\n",
    " \n",
    "#     def on_epoch_end(self, epoch, logs={}):\n",
    "#         val_predict = (np.asarray(self.model.predict(self.model.validation_data[0]))).round()\n",
    "#         val_targ = self.model.validation_data[1]\n",
    "        \n",
    "#         self.val_f1s.append(f1_score(val_targ, val_predict, average='micro'))\n",
    "#         self.val_recalls.append(recall_score(val_targ, val_predict))\n",
    "#         self.val_precisions.append(precision_score(val_targ, val_predict))\n",
    "#         print(\"- val_f1: %f — val_precision: %f — val_recall %f\" \n",
    "#                 %(f1_score(val_targ, val_predict, average='micro'), \n",
    "#                   precision_score(val_targ, val_predict),\n",
    "#                    recall_score(val_targ, val_predict)))\n",
    "#         return\n",
    " \n",
    "# metrics = Metrics()"
   ]
  },
  {
   "cell_type": "markdown",
   "metadata": {},
   "source": [
    "### 3. Train model"
   ]
  },
  {
   "cell_type": "code",
   "execution_count": 54,
   "metadata": {},
   "outputs": [
    {
     "name": "stdout",
     "output_type": "stream",
     "text": [
      "Train on 90785 samples, validate on 11348 samples\n",
      "Epoch 1/10\n",
      "90785/90785 [==============================] - 1034s 11ms/step - loss: 0.0116 - binary_accuracy: 0.9935 - f1: nan - val_loss: 0.0064 - val_binary_accuracy: 0.9959 - val_f1: 0.6952\n",
      "Epoch 2/10\n",
      "90785/90785 [==============================] - 1024s 11ms/step - loss: 0.0056 - binary_accuracy: 0.9963 - f1: 0.7336 - val_loss: 0.0055 - val_binary_accuracy: 0.9964 - val_f1: 0.7405\n",
      "Epoch 3/10\n",
      "90785/90785 [==============================] - 1038s 11ms/step - loss: 0.0047 - binary_accuracy: 0.9969 - f1: 0.7795 - val_loss: 0.0052 - val_binary_accuracy: 0.9966 - val_f1: 0.7611\n",
      "Epoch 4/10\n",
      "90785/90785 [==============================] - 1040s 11ms/step - loss: 0.0042 - binary_accuracy: 0.9972 - f1: 0.8074 - val_loss: 0.0051 - val_binary_accuracy: 0.9966 - val_f1: 0.7670\n",
      "Epoch 5/10\n",
      "90785/90785 [==============================] - 1239s 14ms/step - loss: 0.0038 - binary_accuracy: 0.9975 - f1: 0.8268 - val_loss: 0.0052 - val_binary_accuracy: 0.9966 - val_f1: 0.7678\n",
      "Epoch 6/10\n",
      "90785/90785 [==============================] - 1169s 13ms/step - loss: 0.0035 - binary_accuracy: 0.9977 - f1: 0.8431 - val_loss: 0.0052 - val_binary_accuracy: 0.9966 - val_f1: 0.7732\n",
      "Epoch 7/10\n",
      "90785/90785 [==============================] - 1313s 14ms/step - loss: 0.0032 - binary_accuracy: 0.9979 - f1: 0.8562 - val_loss: 0.0053 - val_binary_accuracy: 0.9966 - val_f1: 0.7779\n",
      "Epoch 8/10\n",
      "90785/90785 [==============================] - 1289s 14ms/step - loss: 0.0030 - binary_accuracy: 0.9980 - f1: 0.8679 - val_loss: 0.0056 - val_binary_accuracy: 0.9966 - val_f1: 0.7740\n",
      "Epoch 9/10\n",
      "90785/90785 [==============================] - 1222s 13ms/step - loss: 0.0028 - binary_accuracy: 0.9981 - f1: 0.8770 - val_loss: 0.0057 - val_binary_accuracy: 0.9966 - val_f1: 0.7715\n",
      "Epoch 10/10\n",
      "90785/90785 [==============================] - 1072s 12ms/step - loss: 0.0026 - binary_accuracy: 0.9982 - f1: 0.8837 - val_loss: 0.0061 - val_binary_accuracy: 0.9966 - val_f1: 0.7710\n"
     ]
    }
   ],
   "source": [
    "# metrics callback causes: CCCCCCR55555555511155\n",
    "# So disable for now\n",
    "\n",
    "history = model.fit(\n",
    "    {'meta': metax_train, 'titles': titlex_train, 'descs': descx_train, 'wordindex': x_train},\n",
    "    y_train, \n",
    "    validation_data=([metax_dev, titlex_dev, descx_dev, x_dev], y_dev), \n",
    "    epochs=10, batch_size=128 #error in callbacks\n",
    ")"
   ]
  },
  {
   "cell_type": "code",
   "execution_count": 55,
   "metadata": {},
   "outputs": [
    {
     "data": {
      "text/plain": [
       "dict_keys(['val_f1', 'binary_accuracy', 'val_loss', 'f1', 'loss', 'val_binary_accuracy'])"
      ]
     },
     "execution_count": 55,
     "metadata": {},
     "output_type": "execute_result"
    }
   ],
   "source": [
    "history_dict = history.history\n",
    "history_dict.keys()"
   ]
  },
  {
   "cell_type": "code",
   "execution_count": 59,
   "metadata": {},
   "outputs": [
    {
     "data": {
      "image/png": "[encoded data removed]",
      "text/plain": [
       "<matplotlib.figure.Figure at 0x10e12b748>"
      ]
     },
     "metadata": {},
     "output_type": "display_data"
    }
   ],
   "source": [
    "loss_values = history_dict['loss']\n",
    "val_loss_values = history_dict['val_loss']\n",
    "\n",
    "epochs = range(1, 11)\n",
    "\n",
    "plt.plot(epochs, loss_values, 'bo', label='Training loss')           \n",
    "plt.plot(epochs, val_loss_values, 'b', label='Validation loss')      \n",
    "plt.title('Training and validation loss')\n",
    "plt.xlabel('Epochs')\n",
    "plt.ylabel('Loss')\n",
    "plt.legend()\n",
    "\n",
    "plt.show()"
   ]
  },
  {
   "cell_type": "code",
   "execution_count": 64,
   "metadata": {},
   "outputs": [
    {
     "data": {
      "image/png": "[encoded data removed]",
      "text/plain": [
       "<matplotlib.figure.Figure at 0x131cf1160>"
      ]
     },
     "metadata": {},
     "output_type": "display_data"
    }
   ],
   "source": [
    "plt.clf()    \n",
    "\n",
    "f1_values = history_dict['f1']\n",
    "val_f1_values = history_dict['val_f1']\n",
    "\n",
    "plt.plot(epochs, f1_values, 'bo', label='Training f1')\n",
    "plt.plot(epochs, val_f1_values, 'b', label='Validation f1')\n",
    "plt.title('Training and validation batch-level f1-micro')\n",
    "plt.xlabel('Epochs')\n",
    "plt.ylabel('F1-micro')\n",
    "plt.legend()\n",
    "\n",
    "plt.show()"
   ]
  },
  {
   "cell_type": "markdown",
   "metadata": {},
   "source": [
    "### Evaluate model"
   ]
  },
  {
   "cell_type": "markdown",
   "metadata": {},
   "source": [
    "#### Training metrics"
   ]
  },
  {
   "cell_type": "code",
   "execution_count": 65,
   "metadata": {},
   "outputs": [],
   "source": [
    "y_prob = model.predict([metax_train, titlex_train, descx_train, x_train])"
   ]
  },
  {
   "cell_type": "code",
   "execution_count": 66,
   "metadata": {},
   "outputs": [
    {
     "data": {
      "text/plain": [
       "(90785, 187)"
      ]
     },
     "execution_count": 66,
     "metadata": {},
     "output_type": "execute_result"
    }
   ],
   "source": [
    "y_prob.shape"
   ]
  },
  {
   "cell_type": "code",
   "execution_count": 67,
   "metadata": {},
   "outputs": [],
   "source": [
    "y_pred = y_prob.copy()\n",
    "y_pred[y_pred>=P_THRESHOLD] = 1\n",
    "y_pred[y_pred<P_THRESHOLD] = 0"
   ]
  },
  {
   "cell_type": "code",
   "execution_count": 68,
   "metadata": {},
   "outputs": [
    {
     "data": {
      "text/plain": [
       "0.92290663144957519"
      ]
     },
     "execution_count": 68,
     "metadata": {},
     "output_type": "execute_result"
    }
   ],
   "source": [
    "f1_score(y_train, y_pred, average='micro')"
   ]
  },
  {
   "cell_type": "code",
   "execution_count": 69,
   "metadata": {},
   "outputs": [
    {
     "name": "stderr",
     "output_type": "stream",
     "text": [
      "/Users/ellieking/Documents/tag_tax/govuk-taxonomy-supervised-learning/tax_SL/lib/python3.4/site-packages/sklearn/metrics/classification.py:1135: UndefinedMetricWarning: Precision and F-score are ill-defined and being set to 0.0 in labels with no predicted samples.\n",
      "  'precision', 'predicted', average, warn_for)\n"
     ]
    },
    {
     "data": {
      "text/plain": [
       "(array([ 0.        ,  1.        ,  0.99094203,  0.92      ,  0.        ,\n",
       "         0.81290323,  0.97014925,  0.94769404,  0.        ,  0.        ,\n",
       "         0.94607843,  0.        ,  0.        ,  0.96374622,  0.95652174,\n",
       "         0.        ,  0.        ,  0.88385827,  0.93246698,  0.93905325,\n",
       "         0.91826923,  0.        ,  0.        ,  0.        ,  0.        ,\n",
       "         0.97802198,  0.93902439,  0.9537037 ,  0.        ,  0.90301003,\n",
       "         0.94381271,  0.97129187,  0.95897966,  0.79661017,  0.98076923,\n",
       "         0.92037787,  0.96523517,  0.        ,  0.        ,  0.88317757,\n",
       "         0.95      ,  0.95555556,  0.95053272,  0.        ,  0.        ,\n",
       "         0.95454545,  0.        ,  0.        ,  0.96979504,  1.        ,\n",
       "         0.97748447,  0.89423077,  1.        ,  0.95348837,  0.92857143,\n",
       "         0.        ,  0.96743064,  0.        ,  1.        ,  0.90410959,\n",
       "         0.95121951,  0.        ,  0.95652174,  0.94736842,  0.97785161,\n",
       "         0.92876396,  0.98128951,  0.96296296,  0.97674419,  0.97745455,\n",
       "         0.9623535 ,  0.88846399,  0.        ,  1.        ,  0.9375    ,\n",
       "         0.        ,  0.94454887,  0.94146341,  0.97271649,  1.        ,\n",
       "         0.91791045,  0.94197952,  0.971549  ,  0.94827586,  0.        ,\n",
       "         0.88235294,  0.97727273,  0.9760479 ,  0.        ,  0.95454545,\n",
       "         0.99019608,  0.        ,  0.96428571,  0.95238095,  1.        ,\n",
       "         0.        ,  0.        ,  0.        ,  0.9598646 ,  0.9338843 ,\n",
       "         0.91975309,  0.98373984,  0.91964286,  0.97338936,  0.99164927,\n",
       "         0.        ,  0.95019531,  0.91743119,  0.        ,  0.        ,\n",
       "         0.        ,  0.        ,  1.        ,  0.94566381,  0.97647059,\n",
       "         0.92866109,  0.94469628,  1.        ,  0.        ,  0.        ,\n",
       "         1.        ,  0.92189007,  0.95433071,  0.        ,  0.95      ,\n",
       "         0.90856031,  0.81428571,  1.        ,  0.        ,  0.        ,\n",
       "         0.97326979,  0.        ,  0.99411765,  0.9719457 ,  0.92615385,\n",
       "         0.89147287,  0.        ,  0.89483748,  0.96709753,  0.97769784,\n",
       "         0.89548023,  0.95555556,  0.92954545,  0.96081277,  0.96603774,\n",
       "         0.94393593,  0.        ,  1.        ,  0.        ,  0.95026643,\n",
       "         0.94505495,  0.96118299,  0.        ,  0.94117647,  1.        ,\n",
       "         0.94594595,  0.        ,  0.95652174,  0.98013245,  0.97859327,\n",
       "         1.        ,  0.94776119,  0.94515793,  0.97435897,  0.97118644,\n",
       "         1.        ,  0.        ,  0.        ,  0.        ,  0.98938992,\n",
       "         0.        ,  0.89369652,  0.        ,  0.93146417,  1.        ,\n",
       "         0.94505495,  0.88888889,  0.97384428,  0.93194556,  0.93708609,\n",
       "         0.95652174,  0.94091766,  0.91791045,  0.        ,  0.        ,\n",
       "         1.        ,  0.95911047]),\n",
       " array([ 0.        ,  0.30769231,  0.98116592,  0.73248408,  0.        ,\n",
       "         0.96367113,  0.67010309,  0.94983089,  0.        ,  0.        ,\n",
       "         0.95073892,  0.        ,  0.        ,  0.82216495,  0.78571429,\n",
       "         0.        ,  0.        ,  0.95735608,  0.93346129,  0.91893457,\n",
       "         0.96736072,  0.        ,  0.        ,  0.        ,  0.        ,\n",
       "         0.712     ,  0.9625    ,  0.79844961,  0.        ,  0.83076923,\n",
       "         0.93299537,  0.84583333,  0.79576659,  0.46305419,  0.76119403,\n",
       "         0.84720497,  0.83539823,  0.        ,  0.        ,  0.74703557,\n",
       "         0.51351351,  0.83091787,  0.95489297,  0.        ,  0.        ,\n",
       "         0.28      ,  0.        ,  0.        ,  0.93743483,  0.28947368,\n",
       "         0.81859558,  0.83035714,  0.475     ,  0.62121212,  0.73584906,\n",
       "         0.        ,  0.78282089,  0.        ,  0.41176471,  0.83018868,\n",
       "         0.73584906,  0.        ,  0.8448    ,  0.96774194,  0.97032967,\n",
       "         0.94736842,  0.95685404,  0.8496732 ,  0.6       ,  0.96206156,\n",
       "         0.92301578,  0.80578035,  0.        ,  0.72727273,  0.86956522,\n",
       "         0.        ,  0.94425305,  0.9538715 ,  0.90607735,  0.04166667,\n",
       "         0.83389831,  0.94520548,  0.91468254,  0.84615385,  0.        ,\n",
       "         0.75471698,  0.75438596,  0.8956044 ,  0.        ,  0.42857143,\n",
       "         0.90178571,  0.        ,  0.65853659,  0.99173554,  0.47826087,\n",
       "         0.        ,  0.        ,  0.        ,  0.90597901,  0.91129032,\n",
       "         0.77604167,  0.68361582,  0.85123967,  0.95205479,  0.98445596,\n",
       "         0.        ,  0.83020478,  0.90909091,  0.        ,  0.        ,\n",
       "         0.        ,  0.        ,  0.94117647,  0.88902869,  0.61029412,\n",
       "         0.94306352,  0.95684114,  0.62162162,  0.        ,  0.        ,\n",
       "         0.32258065,  0.94187192,  0.9126506 ,  0.        ,  0.9223301 ,\n",
       "         0.92475248,  0.85074627,  0.61111111,  0.        ,  0.        ,\n",
       "         0.95273834,  0.        ,  0.69262295,  0.96844004,  0.83379501,\n",
       "         0.8778626 ,  0.        ,  0.96494845,  0.9247191 ,  0.89231779,\n",
       "         0.86376022,  0.81132075,  0.90486726,  0.96290909,  0.95945486,\n",
       "         0.92905405,  0.        ,  0.0483871 ,  0.        ,  0.83139083,\n",
       "         0.83902439,  0.89965398,  0.        ,  0.32      ,  0.79012346,\n",
       "         0.8       ,  0.        ,  0.77192982,  0.81318681,  0.96969697,\n",
       "         0.5       ,  0.71751412,  0.94614315,  0.73076923,  0.94710744,\n",
       "         0.71111111,  0.        ,  0.        ,  0.        ,  0.98416887,\n",
       "         0.        ,  0.88158364,  0.        ,  0.79521277,  0.58571429,\n",
       "         0.92473118,  0.71794872,  0.97443701,  0.95020408,  0.86018237,\n",
       "         0.72131148,  0.92636139,  0.84246575,  0.        ,  0.        ,\n",
       "         0.80555556,  0.96884058]),\n",
       " array([ 0.        ,  0.47058824,  0.98602974,  0.81560284,  0.        ,\n",
       "         0.88188976,  0.79268293,  0.94876126,  0.        ,  0.        ,\n",
       "         0.94840295,  0.        ,  0.        ,  0.88734353,  0.8627451 ,\n",
       "         0.        ,  0.        ,  0.91914023,  0.93296387,  0.92888499,\n",
       "         0.94217594,  0.        ,  0.        ,  0.        ,  0.        ,\n",
       "         0.82407407,  0.95061728,  0.86919831,  0.        ,  0.86538462,\n",
       "         0.93837287,  0.90423163,  0.86978271,  0.58566978,  0.85714286,\n",
       "         0.88227684,  0.89563567,  0.        ,  0.        ,  0.80942184,\n",
       "         0.66666667,  0.88888889,  0.95270786,  0.        ,  0.        ,\n",
       "         0.43298969,  0.        ,  0.        ,  0.9533404 ,  0.44897959,\n",
       "         0.89101203,  0.86111111,  0.6440678 ,  0.75229358,  0.82105263,\n",
       "         0.        ,  0.8653898 ,  0.        ,  0.58333333,  0.86557377,\n",
       "         0.82978723,  0.        ,  0.89719626,  0.95744681,  0.97407612,\n",
       "         0.93797395,  0.96891774,  0.90277778,  0.74336283,  0.96969697,\n",
       "         0.94227426,  0.84510458,  0.        ,  0.84210526,  0.90225564,\n",
       "         0.        ,  0.94440094,  0.94762684,  0.9382151 ,  0.08      ,\n",
       "         0.87388988,  0.94358974,  0.94225856,  0.89430894,  0.        ,\n",
       "         0.81355932,  0.85148515,  0.93409742,  0.        ,  0.5915493 ,\n",
       "         0.94392523,  0.        ,  0.7826087 ,  0.97165992,  0.64705882,\n",
       "         0.        ,  0.        ,  0.        ,  0.9321437 ,  0.92244898,\n",
       "         0.84180791,  0.80666667,  0.88412017,  0.96260388,  0.98803952,\n",
       "         0.        ,  0.88615665,  0.91324201,  0.        ,  0.        ,\n",
       "         0.        ,  0.        ,  0.96969697,  0.91647211,  0.75113122,\n",
       "         0.93580689,  0.95072993,  0.76666667,  0.        ,  0.        ,\n",
       "         0.48780488,  0.93177388,  0.9330254 ,  0.        ,  0.93596059,\n",
       "         0.91658489,  0.83211679,  0.75862069,  0.        ,  0.        ,\n",
       "         0.96289463,  0.        ,  0.81642512,  0.9701897 ,  0.87755102,\n",
       "         0.88461538,  0.        ,  0.92857143,  0.94543366,  0.9330587 ,\n",
       "         0.87933426,  0.87755102,  0.91704036,  0.96185979,  0.96273504,\n",
       "         0.93643587,  0.        ,  0.09230769,  0.        ,  0.88686283,\n",
       "         0.88888889,  0.92940125,  0.        ,  0.47761194,  0.88275862,\n",
       "         0.86687307,  0.        ,  0.85436893,  0.88888889,  0.97412481,\n",
       "         0.66666667,  0.81672026,  0.94565029,  0.83516484,  0.95899582,\n",
       "         0.83116883,  0.        ,  0.        ,  0.        ,  0.98677249,\n",
       "         0.        ,  0.88759876,  0.        ,  0.8579627 ,  0.73873874,\n",
       "         0.93478261,  0.79432624,  0.97414055,  0.94098626,  0.89698891,\n",
       "         0.82242991,  0.93358279,  0.87857143,  0.        ,  0.        ,\n",
       "         0.89230769,  0.96395097]),\n",
       " array([  12,   52, 1115,  157,   11,  523,   97, 1774,   25,   16,  203,\n",
       "          23,   13,  388,  224,   11,    9, 1407, 9378, 1727, 1777,   26,\n",
       "          26,   19,   30,  125,   80,  129,   45,  325, 4537,  240, 3496,\n",
       "         203,  134,  805,  565,   27,   35,  253,   74,  207, 1308,    8,\n",
       "          28,   75,   35,   17,  959,   76, 1538,  112,   40,   66,  371,\n",
       "          12, 2049,   10,   68,  159,   53,   44,  625,  279,  910, 2546,\n",
       "        4056,  153,   70, 1397, 8807, 1730,   39,   44,  138,    9, 3193,\n",
       "        3035,  905,   48,  295,  876, 3024,  260,   17,  159,   57,  364,\n",
       "           7,   49,  112,   14,   41,  121,   46,   16,   12,   45, 2191,\n",
       "         372,  192,  177,  121,  730,  965,   30, 1172,  110,    9,   16,\n",
       "          26,    6,   34, 3974,  136, 4707, 1089,   74,   17,   31,   31,\n",
       "        1015,  664,   30,  927,  505,   67,   36,   12,   15, 4930,   13,\n",
       "         244, 1109,  722,  131,   32,  485,  890, 1523,  367,  106,  452,\n",
       "        1375, 2935,  888,   16,   62,   13, 1287,  205, 1156,   33,   50,\n",
       "          81,  175,   94,   57,  182,  990,   62,  177, 5756,   52,  605,\n",
       "          45,   33,   19,   20,  758,   21, 8411,   29,  376,   70,  186,\n",
       "          78, 1643, 1225,  329,  122, 1616,  146,   18,   25,   36, 1380]))"
      ]
     },
     "execution_count": 69,
     "metadata": {},
     "output_type": "execute_result"
    }
   ],
   "source": [
    "#average= None, the scores for each class are returned.\n",
    "precision_recall_fscore_support(y_train, y_pred, average=None, sample_weight=None)"
   ]
  },
  {
   "cell_type": "code",
   "execution_count": null,
   "metadata": {},
   "outputs": [],
   "source": [
    "a = precision_recall_fscore_support(y_train, y_pred, average=None, sample_weight=None)"
   ]
  },
  {
   "cell_type": "code",
   "execution_count": null,
   "metadata": {},
   "outputs": [],
   "source": [
    "pd.DataFrame(list(a))"
   ]
  },
  {
   "cell_type": "code",
   "execution_count": null,
   "metadata": {},
   "outputs": [],
   "source": [
    "f1_byclass = pd.DataFrame((a)[2], columns=['f1'])\n"
   ]
  },
  {
   "cell_type": "code",
   "execution_count": null,
   "metadata": {},
   "outputs": [],
   "source": [
    "support_byclass = pd.DataFrame((a)[3], columns=['support'])\n",
    "\n",
    "f1_byclass = pd.merge(\n",
    "    left=f1_byclass, \n",
    "    right=support_byclass, \n",
    "    left_index=True,\n",
    "    right_index=True,\n",
    "    how='outer', \n",
    "    validate='one_to_one'\n",
    ")\n",
    "\n",
    "f1_byclass['index_col'] = f1_byclass.index"
   ]
  },
  {
   "cell_type": "code",
   "execution_count": null,
   "metadata": {},
   "outputs": [],
   "source": [
    "f1_byclass['level2taxon'] = f1_byclass['index_col'].map(labels_index).copy()"
   ]
  },
  {
   "cell_type": "code",
   "execution_count": null,
   "metadata": {},
   "outputs": [],
   "source": [
    "print(\"At p_threshold of {}, there were {} out of {} ({})% taxons with auto-tagged content in the training data\"\n",
    "      .format(P_THRESHOLD, \n",
    "              f1_byclass.loc[f1_byclass['f1'] > 0].shape[0], \n",
    "              y_pred.shape[1], \n",
    "              (f1_byclass.loc[f1_byclass['f1'] > 0].shape[0]/y_pred.shape[1])*100 ))"
   ]
  },
  {
   "cell_type": "code",
   "execution_count": null,
   "metadata": {},
   "outputs": [],
   "source": [
    "no_auto_content = f1_byclass.loc[f1_byclass['f1'] == 0]\n",
    "no_auto_content = no_auto_content.set_index('level2taxon')"
   ]
  },
  {
   "cell_type": "code",
   "execution_count": null,
   "metadata": {},
   "outputs": [],
   "source": [
    "no_auto_content['support'].sort_values().plot( kind = 'barh', figsize=(20, 20))"
   ]
  },
  {
   "cell_type": "code",
   "execution_count": null,
   "metadata": {},
   "outputs": [],
   "source": [
    "classes_predictedto = f1_byclass.loc[f1_byclass['f1'] > 0]\n",
    "classes_predictedto = classes_predictedto.set_index('level2taxon') "
   ]
  },
  {
   "cell_type": "code",
   "execution_count": null,
   "metadata": {},
   "outputs": [],
   "source": [
    "classes_predictedto.plot.scatter(x='support', y='f1', figsize=(20, 10), xticks=np.arange(0, 9700, 100))"
   ]
  },
  {
   "cell_type": "code",
   "execution_count": null,
   "metadata": {},
   "outputs": [],
   "source": [
    "classes_predictedto['f1'].sort_values().plot( kind = 'barh', figsize=(20, 20))"
   ]
  },
  {
   "cell_type": "code",
   "execution_count": null,
   "metadata": {},
   "outputs": [],
   "source": [
    "#Calculate globally by counting the total true positives, false negatives and false positives.\n",
    "precision_recall_fscore_support(y_train, y_pred, average='micro', sample_weight=None) "
   ]
  },
  {
   "cell_type": "code",
   "execution_count": null,
   "metadata": {},
   "outputs": [],
   "source": [
    "#Calculate metrics for each label, and find their unweighted mean. This does not take label imbalance into account\n",
    "precision_recall_fscore_support(y_train, y_pred, average='macro', sample_weight=None)"
   ]
  },
  {
   "cell_type": "markdown",
   "metadata": {},
   "source": [
    "#### Development set metrics"
   ]
  },
  {
   "cell_type": "code",
   "execution_count": 70,
   "metadata": {},
   "outputs": [],
   "source": [
    "y_pred_dev = model.predict([metax_dev, titlex_dev, descx_dev, x_dev])"
   ]
  },
  {
   "cell_type": "code",
   "execution_count": 71,
   "metadata": {},
   "outputs": [],
   "source": [
    "y_pred_dev[y_pred_dev>=P_THRESHOLD] = 1\n",
    "y_pred_dev[y_pred_dev<P_THRESHOLD] = 0"
   ]
  },
  {
   "cell_type": "code",
   "execution_count": 72,
   "metadata": {},
   "outputs": [
    {
     "name": "stderr",
     "output_type": "stream",
     "text": [
      "/Users/ellieking/Documents/tag_tax/govuk-taxonomy-supervised-learning/tax_SL/lib/python3.4/site-packages/sklearn/metrics/classification.py:1135: UndefinedMetricWarning: Precision and F-score are ill-defined and being set to 0.0 in labels with no predicted samples.\n",
      "  'precision', 'predicted', average, warn_for)\n",
      "/Users/ellieking/Documents/tag_tax/govuk-taxonomy-supervised-learning/tax_SL/lib/python3.4/site-packages/sklearn/metrics/classification.py:1137: UndefinedMetricWarning: Recall and F-score are ill-defined and being set to 0.0 in labels with no true samples.\n",
      "  'recall', 'true', average, warn_for)\n"
     ]
    },
    {
     "data": {
      "text/plain": [
       "(array([ 0.        ,  1.        ,  0.97540984,  0.55555556,  0.        ,\n",
       "         0.41025641,  0.33333333,  0.74693878,  0.        ,  0.        ,\n",
       "         0.66666667,  0.        ,  0.        ,  0.67857143,  0.75      ,\n",
       "         0.        ,  0.        ,  0.78109453,  0.77722361,  0.71428571,\n",
       "         0.79079498,  0.        ,  0.        ,  0.        ,  0.        ,\n",
       "         1.        ,  0.78571429,  0.91666667,  0.        ,  0.58139535,\n",
       "         0.864494  ,  0.78947368,  0.8       ,  0.6       ,  1.        ,\n",
       "         0.63157895,  0.74418605,  0.        ,  0.        ,  0.4375    ,\n",
       "         1.        ,  0.85714286,  0.80254777,  0.        ,  0.        ,\n",
       "         0.        ,  0.        ,  0.        ,  0.89719626,  0.        ,\n",
       "         0.78461538,  0.33333333,  1.        ,  1.        ,  0.61538462,\n",
       "         0.        ,  0.80838323,  0.        ,  1.        ,  0.61111111,\n",
       "         0.75      ,  0.        ,  0.74      ,  0.82758621,  0.93      ,\n",
       "         0.83333333,  0.88221709,  0.57142857,  1.        ,  0.86708861,\n",
       "         0.88655863,  0.66857143,  0.        ,  1.        ,  0.9       ,\n",
       "         0.        ,  0.86666667,  0.7970297 ,  0.72839506,  0.        ,\n",
       "         0.42307692,  0.7706422 ,  0.94805195,  0.47619048,  0.        ,\n",
       "         0.8       ,  1.        ,  0.92      ,  0.        ,  1.        ,\n",
       "         1.        ,  0.        ,  0.        ,  0.8       ,  1.        ,\n",
       "         0.        ,  0.        ,  0.        ,  0.79816514,  0.6969697 ,\n",
       "         0.6875    ,  0.66666667,  0.75      ,  0.91011236,  0.96261682,\n",
       "         0.        ,  0.75396825,  0.54545455,  0.        ,  0.        ,\n",
       "         0.        ,  0.        ,  1.        ,  0.85150812,  0.5       ,\n",
       "         0.81285444,  0.824     ,  1.        ,  0.        ,  0.        ,\n",
       "         0.        ,  0.8125    ,  0.78640777,  0.        ,  0.70093458,\n",
       "         0.77419355,  0.5       ,  1.        ,  0.        ,  0.        ,\n",
       "         0.88990826,  0.        ,  1.        ,  0.85616438,  0.61538462,\n",
       "         0.91666667,  0.        ,  0.68292683,  0.76363636,  0.8125    ,\n",
       "         0.76595745,  0.55555556,  0.67741935,  0.88888889,  0.82262997,\n",
       "         0.90816327,  0.        ,  0.        ,  0.        ,  0.74045802,\n",
       "         0.8       ,  0.86554622,  0.        ,  1.        ,  1.        ,\n",
       "         0.81818182,  0.        ,  0.5       ,  0.73913043,  0.89090909,\n",
       "         1.        ,  0.78571429,  0.81134752,  1.        ,  0.9       ,\n",
       "         1.        ,  0.        ,  0.        ,  0.        ,  0.96666667,\n",
       "         0.        ,  0.70238095,  0.        ,  0.66666667,  0.8       ,\n",
       "         0.77777778,  0.5       ,  0.90995261,  0.7124183 ,  0.70588235,\n",
       "         1.        ,  0.83      ,  0.71428571,  0.        ,  0.        ,\n",
       "         1.        ,  0.94318182]),\n",
       " array([ 0.        ,  0.42857143,  0.86861314,  0.38461538,  0.        ,\n",
       "         0.55172414,  0.06666667,  0.77542373,  0.        ,  0.        ,\n",
       "         0.60869565,  0.        ,  0.        ,  0.34545455,  0.36      ,\n",
       "         0.        ,  0.        ,  0.88202247,  0.8005137 ,  0.63063063,\n",
       "         0.85909091,  0.        ,  0.        ,  0.        ,  0.        ,\n",
       "         0.54545455,  0.91666667,  0.57894737,  0.        ,  0.48076923,\n",
       "         0.82084691,  0.57692308,  0.56629213,  0.4       ,  0.54545455,\n",
       "         0.50526316,  0.46376812,  0.        ,  0.        ,  0.18918919,\n",
       "         0.2       ,  0.54545455,  0.7826087 ,  0.        ,  0.        ,\n",
       "         0.        ,  0.        ,  0.        ,  0.84955752,  0.        ,\n",
       "         0.57627119,  0.33333333,  0.4       ,  0.5       ,  0.34042553,\n",
       "         0.        ,  0.50561798,  0.        ,  0.45454545,  0.55      ,\n",
       "         1.        ,  0.        ,  0.48684211,  0.77419355,  0.85321101,\n",
       "         0.79479769,  0.80761099,  0.53333333,  0.4       ,  0.85625   ,\n",
       "         0.82666667,  0.5879397 ,  0.        ,  0.57142857,  0.40909091,\n",
       "         0.        ,  0.80504587,  0.81108312,  0.65555556,  0.        ,\n",
       "         0.28205128,  0.75675676,  0.82253521,  0.29411765,  0.        ,\n",
       "         0.32      ,  0.4       ,  0.51111111,  0.        ,  0.33333333,\n",
       "         0.82352941,  0.        ,  0.        ,  0.88888889,  0.66666667,\n",
       "         0.        ,  0.        ,  0.        ,  0.73109244,  0.63888889,\n",
       "         0.37931034,  0.24      ,  0.68181818,  0.9       ,  0.91150442,\n",
       "         0.        ,  0.625     ,  0.66666667,  0.        ,  0.        ,\n",
       "         0.        ,  0.        ,  1.        ,  0.77589852,  0.08333333,\n",
       "         0.79925651,  0.91150442,  0.45454545,  0.        ,  0.        ,\n",
       "         0.        ,  0.75206612,  0.81818182,  0.        ,  0.68807339,\n",
       "         0.73846154,  0.125     ,  0.25      ,  0.        ,  0.        ,\n",
       "         0.85387324,  0.        ,  0.33333333,  0.88652482,  0.49382716,\n",
       "         0.73333333,  0.        ,  0.7       ,  0.74336283,  0.71038251,\n",
       "         0.72      ,  0.23809524,  0.71186441,  0.87861272,  0.79585799,\n",
       "         0.79464286,  0.        ,  0.        ,  0.        ,  0.5739645 ,\n",
       "         0.66666667,  0.68666667,  0.        ,  0.4       ,  0.66666667,\n",
       "         0.42857143,  0.        ,  0.5       ,  0.53125   ,  0.85217391,\n",
       "         0.33333333,  0.39285714,  0.7688172 ,  0.25      ,  0.71052632,\n",
       "         0.64285714,  0.        ,  0.        ,  0.        ,  0.96666667,\n",
       "         0.        ,  0.66792453,  0.        ,  0.47058824,  0.4       ,\n",
       "         0.60869565,  0.09090909,  0.91866029,  0.80740741,  0.48979592,\n",
       "         0.33333333,  0.78672986,  0.58823529,  0.        ,  0.        ,\n",
       "         0.77777778,  0.9273743 ]),\n",
       " array([ 0.        ,  0.6       ,  0.91891892,  0.45454545,  0.        ,\n",
       "         0.47058824,  0.11111111,  0.76091476,  0.        ,  0.        ,\n",
       "         0.63636364,  0.        ,  0.        ,  0.45783133,  0.48648649,\n",
       "         0.        ,  0.        ,  0.82849604,  0.78869675,  0.66985646,\n",
       "         0.82352941,  0.        ,  0.        ,  0.        ,  0.        ,\n",
       "         0.70588235,  0.84615385,  0.70967742,  0.        ,  0.52631579,\n",
       "         0.84210526,  0.66666667,  0.66315789,  0.48      ,  0.70588235,\n",
       "         0.56140351,  0.57142857,  0.        ,  0.        ,  0.26415094,\n",
       "         0.33333333,  0.66666667,  0.79245283,  0.        ,  0.        ,\n",
       "         0.        ,  0.        ,  0.        ,  0.87272727,  0.        ,\n",
       "         0.66449511,  0.33333333,  0.57142857,  0.66666667,  0.43835616,\n",
       "         0.        ,  0.62211982,  0.        ,  0.625     ,  0.57894737,\n",
       "         0.85714286,  0.        ,  0.58730159,  0.8       ,  0.88995215,\n",
       "         0.81360947,  0.84326711,  0.55172414,  0.57142857,  0.86163522,\n",
       "         0.85556578,  0.62566845,  0.        ,  0.72727273,  0.5625    ,\n",
       "         0.        ,  0.83472057,  0.80399501,  0.69005848,  0.        ,\n",
       "         0.33846154,  0.76363636,  0.88084465,  0.36363636,  0.        ,\n",
       "         0.45714286,  0.57142857,  0.65714286,  0.        ,  0.5       ,\n",
       "         0.90322581,  0.        ,  0.        ,  0.84210526,  0.8       ,\n",
       "         0.        ,  0.        ,  0.        ,  0.76315789,  0.66666667,\n",
       "         0.48888889,  0.35294118,  0.71428571,  0.90502793,  0.93636364,\n",
       "         0.        ,  0.68345324,  0.6       ,  0.        ,  0.        ,\n",
       "         0.        ,  0.        ,  1.        ,  0.8119469 ,  0.14285714,\n",
       "         0.80599813,  0.86554622,  0.625     ,  0.        ,  0.        ,\n",
       "         0.        ,  0.78111588,  0.8019802 ,  0.        ,  0.69444444,\n",
       "         0.75590551,  0.2       ,  0.4       ,  0.        ,  0.        ,\n",
       "         0.87151842,  0.        ,  0.5       ,  0.87108014,  0.54794521,\n",
       "         0.81481481,  0.        ,  0.69135802,  0.75336323,  0.75801749,\n",
       "         0.74226804,  0.33333333,  0.69421488,  0.88372093,  0.80902256,\n",
       "         0.84761905,  0.        ,  0.        ,  0.        ,  0.64666667,\n",
       "         0.72727273,  0.76579926,  0.        ,  0.57142857,  0.8       ,\n",
       "         0.5625    ,  0.        ,  0.5       ,  0.61818182,  0.87111111,\n",
       "         0.5       ,  0.52380952,  0.78951001,  0.4       ,  0.79411765,\n",
       "         0.7826087 ,  0.        ,  0.        ,  0.        ,  0.96666667,\n",
       "         0.        ,  0.68471954,  0.        ,  0.55172414,  0.53333333,\n",
       "         0.68292683,  0.15384615,  0.91428571,  0.75694444,  0.57831325,\n",
       "         0.5       ,  0.80778589,  0.64516129,  0.        ,  0.        ,\n",
       "         0.875     ,  0.93521127]),\n",
       " array([   0,    7,  137,   13,    4,   58,   15,  236,    2,    0,   23,\n",
       "           4,    1,   55,   25,    0,    2,  178, 1168,  222,  220,    2,\n",
       "           3,    3,    5,   11,   12,   19,    7,   52,  614,   26,  445,\n",
       "          15,   11,   95,   69,    2,    7,   37,    5,   22,  161,    0,\n",
       "           4,   10,    4,    1,  113,   14,  177,   12,    5,   14,   47,\n",
       "           2,  267,    0,   11,   20,    3,    3,   76,   31,  109,  346,\n",
       "         473,   15,   10,  160, 1125,  199,    5,    7,   22,    1,  436,\n",
       "         397,   90,    7,   39,  111,  355,   34,    2,   25,   10,   45,\n",
       "           1,    3,   17,    3,    6,    9,    3,    3,    1,    4,  238,\n",
       "          36,   29,   25,   22,   90,  113,    2,  152,    9,    1,    4,\n",
       "           1,    1,    2,  473,   12,  538,  113,   11,    4,    6,    5,\n",
       "         121,   99,    1,  109,   65,    8,    8,    1,    1,  568,    0,\n",
       "          36,  141,   81,   15,    5,   80,  113,  183,   50,   21,   59,\n",
       "         173,  338,  112,    2,    4,    3,  169,   18,  150,    5,    5,\n",
       "           3,   21,   11,    2,   32,  115,    3,   28,  744,    8,   76,\n",
       "          14,    7,    3,    2,   90,    1, 1060,    2,   51,   10,   23,\n",
       "          11,  209,  135,   49,   15,  211,   17,    6,    4,    9,  179]))"
      ]
     },
     "execution_count": 72,
     "metadata": {},
     "output_type": "execute_result"
    }
   ],
   "source": [
    "#average= None, the scores for each class are returned.\n",
    "precision_recall_fscore_support(y_dev, y_pred_dev, average=None, sample_weight=None)"
   ]
  },
  {
   "cell_type": "code",
   "execution_count": 73,
   "metadata": {},
   "outputs": [
    {
     "data": {
      "text/plain": [
       "(0.81186474456918889, 0.73346537030368508, 0.77067633611855602, None)"
      ]
     },
     "execution_count": 73,
     "metadata": {},
     "output_type": "execute_result"
    }
   ],
   "source": [
    "#Calculate globally by counting the total true positives, false negatives and false positives.\n",
    "precision_recall_fscore_support(y_dev, y_pred_dev, average='micro', sample_weight=None) "
   ]
  },
  {
   "cell_type": "code",
   "execution_count": null,
   "metadata": {},
   "outputs": [],
   "source": [
    "#Calculate metrics for each label, and find their unweighted mean. This does not take label imbalance into account\n",
    "precision_recall_fscore_support(y_dev, y_pred_dev, average='macro', sample_weight=None)"
   ]
  },
  {
   "cell_type": "markdown",
   "metadata": {},
   "source": [
    "## Tag unlabelled content"
   ]
  },
  {
   "cell_type": "code",
   "execution_count": null,
   "metadata": {},
   "outputs": [],
   "source": [
    "def get_predictions(new_texts, df, level1taxon=False):\n",
    "    #process data for model input\n",
    "    \n",
    "    new_sequences = tokenizer.texts_to_sequences(new_texts) #yield one sequence per input text\n",
    "\n",
    "    new_word_index = tokenizer.word_index\n",
    "    print('Found %s unique tokens.' % len(new_word_index))\n",
    "\n",
    "    x_new = pad_sequences(new_sequences, maxlen= MAX_SEQUENCE_LENGTH) #MAX_SEQUENCE_LENGTH\n",
    "    \n",
    "    print('Shape of untagged tensor:', x_new.shape)\n",
    "    \n",
    "    #predict tag for untagged data\n",
    "    y_pred_new = model.predict(x_new)\n",
    "    \n",
    "    #get model output into pandas & get a column to track index for later merge\n",
    "    y_pred_new = pd.DataFrame(y_pred_new)\n",
    "    y_pred_new['index_col'] = y_pred_new.index\n",
    "    \n",
    "    #Make long by taxon so easier to filter rows and examine effect of p_threshold\n",
    "    y_pred_new = pd.melt(y_pred_new, id_vars=['index_col'],\n",
    "                             var_name='level2taxon_code', value_name='probability')\n",
    "    \n",
    "    #get taxon names\n",
    "    y_pred_new['level2taxon'] = y_pred_new['level2taxon_code'].map(labels_index)\n",
    "    \n",
    "    if level1taxon==False:\n",
    "        #get the info about the content\n",
    "        new_info = df[[ 'base_path', 'content_id', 'title', 'description', \n",
    "                   'document_type', 'publishing_app', 'locale']]\n",
    "    else:\n",
    "        new_info = df[[ 'base_path', 'content_id', 'title', 'description', \n",
    "                   'document_type', 'publishing_app', 'locale', 'level1taxon']]\n",
    "    \n",
    "    \n",
    "    #merge content info with taxon prediction\n",
    "    pred_new = pd.merge(\n",
    "    left=new_info, \n",
    "    right=y_pred_new, \n",
    "    left_index=True,\n",
    "    right_on='index_col',\n",
    "    how='outer'\n",
    "    )\n",
    "    \n",
    "    #drop the cols needed for mergingin and naming\n",
    "    pred_new.drop(['index_col'], axis=1, inplace = True)\n",
    "    \n",
    "    #keep only rows where prob of taxon > 0.5\n",
    "    \n",
    "    \n",
    "    return pred_new #.loc[pred_new['probability'] > P_THRESHOLD] #only return rows/samples where probability is hihger than threshold\n",
    "    "
   ]
  },
  {
   "cell_type": "markdown",
   "metadata": {},
   "source": [
    "### Untagged"
   ]
  },
  {
   "cell_type": "code",
   "execution_count": null,
   "metadata": {},
   "outputs": [],
   "source": [
    "#read in untagged content\n",
    "untagged_raw = pd.read_csv(os.path.join(DATADIR, 'untagged_content.csv.gz'), dtype=object, compression='gzip')"
   ]
  },
  {
   "cell_type": "code",
   "execution_count": null,
   "metadata": {},
   "outputs": [],
   "source": [
    "untagged_raw.head()"
   ]
  },
  {
   "cell_type": "code",
   "execution_count": null,
   "metadata": {},
   "outputs": [],
   "source": [
    "new_texts = untagged_raw['combined_text']"
   ]
  },
  {
   "cell_type": "code",
   "execution_count": null,
   "metadata": {},
   "outputs": [],
   "source": [
    "pred_untagged = get_predictions(new_texts, untagged_raw)"
   ]
  },
  {
   "cell_type": "code",
   "execution_count": null,
   "metadata": {},
   "outputs": [],
   "source": [
    "#data is long by taxon\n",
    "print('Number of unique content items: {}'.format(pred_untagged.content_id.nunique()))\n",
    "print('Number of content items tagged to taxons with more than p_threshold: {}'.format(pred_untagged.shape))"
   ]
  },
  {
   "cell_type": "code",
   "execution_count": null,
   "metadata": {},
   "outputs": [],
   "source": [
    "pred_untagged.loc[(pred_untagged['probability'] > 0.65) & (pred_untagged['probability'] < 0.85)].sort_values(by='probability', ascending=False)"
   ]
  },
  {
   "cell_type": "code",
   "execution_count": null,
   "metadata": {},
   "outputs": [],
   "source": [
    "#write to csv\n",
    "pred_untagged.to_csv(os.path.join(DATADIR, 'predictions_for_untagged_data_trainingdatatok.csv'), index=False)"
   ]
  },
  {
   "cell_type": "code",
   "execution_count": null,
   "metadata": {},
   "outputs": [],
   "source": [
    "# apply tokenizer to our text data\n",
    "tokenizer.fit_on_texts(new_texts)\n",
    "\n",
    "pred_untagged_refit_tok = get_predictions(new_texts, untagged_raw)\n"
   ]
  },
  {
   "cell_type": "code",
   "execution_count": null,
   "metadata": {},
   "outputs": [],
   "source": [
    "#write to csv\n",
    "pred_untagged_refit_tok.to_csv(os.path.join(DATADIR, 'predictions_for_untagged_data_refittok.csv'), index=False)"
   ]
  },
  {
   "cell_type": "markdown",
   "metadata": {},
   "source": [
    "### New data (untagged + old taxons)"
   ]
  },
  {
   "cell_type": "markdown",
   "metadata": {},
   "source": [
    "old_taxons data has no combined text. This needs fixing in the data pipeline before being able to use these data for predictions"
   ]
  },
  {
   "cell_type": "code",
   "execution_count": null,
   "metadata": {},
   "outputs": [],
   "source": [
    "#read in untagged content\n",
    "new_raw = pd.read_csv(os.path.join(DATADIR, 'new_content.csv'), dtype=object)"
   ]
  },
  {
   "cell_type": "code",
   "execution_count": null,
   "metadata": {},
   "outputs": [],
   "source": [
    "new_raw.shape"
   ]
  },
  {
   "cell_type": "code",
   "execution_count": null,
   "metadata": {},
   "outputs": [],
   "source": [
    "type(new_raw['combined_text'][0])"
   ]
  },
  {
   "cell_type": "code",
   "execution_count": null,
   "metadata": {},
   "outputs": [],
   "source": [
    "new_raw['combined_text'][0]"
   ]
  },
  {
   "cell_type": "code",
   "execution_count": null,
   "metadata": {},
   "outputs": [],
   "source": [
    "len(new_raw[new_raw['combined_text'].isna()])"
   ]
  },
  {
   "cell_type": "code",
   "execution_count": null,
   "metadata": {},
   "outputs": [],
   "source": [
    "(new_raw.loc[(new_raw['combined_text'].isna()) & (new_raw['untagged_type'] == 'old_taxons')]).shape"
   ]
  },
  {
   "cell_type": "code",
   "execution_count": null,
   "metadata": {},
   "outputs": [],
   "source": [
    "new_raw[new_raw.untagged_type == 'old_taxons']"
   ]
  },
  {
   "cell_type": "code",
   "execution_count": null,
   "metadata": {},
   "outputs": [],
   "source": [
    "#make a copy so you can edit data without needed to read in each time\n",
    "new_df = new_raw.copy(deep=True)"
   ]
  },
  {
   "cell_type": "code",
   "execution_count": null,
   "metadata": {},
   "outputs": [],
   "source": [
    "pred_new = get_predictions(new_df )"
   ]
  },
  {
   "cell_type": "code",
   "execution_count": null,
   "metadata": {},
   "outputs": [],
   "source": [
    "#keep only rows where prob of taxon > 0.5\n",
    "pred_new = pred_new.loc[pred_new['probability'] > 0.5]"
   ]
  },
  {
   "cell_type": "code",
   "execution_count": null,
   "metadata": {},
   "outputs": [],
   "source": [
    "#write to csv\n",
    "pred_new.to_csv(os.path.join(DATADIR, 'predictions_for_new_data.csv'), index=False)"
   ]
  },
  {
   "cell_type": "markdown",
   "metadata": {},
   "source": [
    "### Labelled at level1only"
   ]
  },
  {
   "cell_type": "code",
   "execution_count": null,
   "metadata": {},
   "outputs": [],
   "source": [
    "labelled_level1 = pd.read_csv(os.path.join(DATADIR, 'labelled_level1.csv'), dtype=object)"
   ]
  },
  {
   "cell_type": "code",
   "execution_count": null,
   "metadata": {},
   "outputs": [],
   "source": [
    "level1_texts = labelled_level1['combined_text']"
   ]
  },
  {
   "cell_type": "code",
   "execution_count": null,
   "metadata": {},
   "outputs": [],
   "source": [
    "#reset tokenizer to training data texts\n",
    "tokenizer.fit_on_texts(texts)"
   ]
  },
  {
   "cell_type": "code",
   "execution_count": null,
   "metadata": {},
   "outputs": [],
   "source": [
    "pred_labelled_level1 = get_predictions(level1_texts, labelled_level1, level1taxon=True)"
   ]
  },
  {
   "cell_type": "code",
   "execution_count": null,
   "metadata": {},
   "outputs": [],
   "source": [
    "pred_labelled_level1.sort_values(by='probability', ascending=False)"
   ]
  },
  {
   "cell_type": "code",
   "execution_count": null,
   "metadata": {},
   "outputs": [],
   "source": [
    "#write to csv\n",
    "pred_labelled_level1.to_csv(os.path.join(DATADIR, 'predictions_for_level1only.csv'), index=False)"
   ]
  },
  {
   "cell_type": "code",
   "execution_count": null,
   "metadata": {},
   "outputs": [],
   "source": [
    "from IPython.display import SVG\n",
    "from keras.utils.vis_utils import model_to_dot\n",
    "\n",
    "SVG(model_to_dot(model).create(prog='dot', format='svg'))"
   ]
  },
  {
   "cell_type": "code",
   "execution_count": null,
   "metadata": {},
   "outputs": [],
   "source": [
    "from keras.utils import plot_model\n",
    "plot_model(model, to_file='cnn.png', show_shapes=True)"
   ]
  },
  {
   "cell_type": "code",
   "execution_count": null,
   "metadata": {},
   "outputs": [],
   "source": []
  }
 ],
 "metadata": {
  "keep_output": true,
  "kernelspec": {
   "display_name": "tax_SL",
   "language": "python",
   "name": "tax_sl"
  },
  "language_info": {
   "codemirror_mode": {
    "name": "ipython",
    "version": 3
   },
   "file_extension": ".py",
   "mimetype": "text/x-python",
   "name": "python",
   "nbconvert_exporter": "python",
   "pygments_lexer": "ipython3",
   "version": "3.4.6"
  }
 },
 "nbformat": 4,
 "nbformat_minor": 2
}
