{
 "cells": [
  {
   "cell_type": "markdown",
   "metadata": {},
   "source": [
    "## Convolutional NN to classify govuk content to level2 taxons"
   ]
  },
  {
   "cell_type": "markdown",
   "metadata": {},
   "source": [
    "Based on:\n",
    "https://blog.keras.io/using-pre-trained-word-embeddings-in-a-keras-model.html"
   ]
  },
  {
   "cell_type": "markdown",
   "metadata": {},
   "source": [
    "## To do:\n",
    "- ~~Consider grouping very small classes (especially if too small for evaluation)~~\n",
    "- ~~Split data into training, validation and test to avoid overfitting validation data during hyperparamter searches & model architecture changes~~\n",
    "- ~~Try learning embeddings~~--\n",
    "- Try changing pos_ratio\n",
    "- Try implementing class_weights during model fit (does this do the same as the weighted binary corss entropy?)\n",
    "- Work on tensorboard callbacks\n",
    "- ~~Create dictionary of class indices to taxon names for viewing results~~\n",
    "- Check model architecture\n",
    "- consider relationship of training error to validation error - overfitting/bias?\n",
    "- train longer\n",
    "- Try differnet max_sequence_length\n",
    "- Check batch size is appropriate\n",
    "- Also think about:\n",
    "  - regularization (e.g. dropout) \n",
    "  - fine-tuning the Embedding layer"
   ]
  },
  {
   "cell_type": "markdown",
   "metadata": {},
   "source": [
    "### Load requirements and data"
   ]
  },
  {
   "cell_type": "markdown",
   "metadata": {},
   "source": [
    "TODO: edit requirement.txt to include only these packages and do not include tensorflow because this conflicts with tf on AWS when using on GPU."
   ]
  },
  {
   "cell_type": "code",
   "execution_count": 1,
   "metadata": {},
   "outputs": [
    {
     "name": "stderr",
     "output_type": "stream",
     "text": [
      "Using TensorFlow backend.\n"
     ]
    }
   ],
   "source": [
    "import pandas as pd\n",
    "import numpy as np\n",
    "import os\n",
    "from datetime import datetime\n",
    "from keras.preprocessing.text import Tokenizer\n",
    "from keras.preprocessing.sequence import pad_sequences\n",
    "\n",
    "from keras.utils import to_categorical, layer_utils, plot_model\n",
    "\n",
    "from keras.layers import (Embedding, Input, Dense, Dropout, \n",
    "                          Activation, Conv1D, MaxPooling1D, Flatten, concatenate, Reshape)\n",
    "from keras.models import Model, Sequential\n",
    "from keras.optimizers import rmsprop\n",
    "from keras.callbacks import TensorBoard, Callback, ModelCheckpoint\n",
    "import keras.backend as K\n",
    "from keras.losses import binary_crossentropy\n",
    "\n",
    "from sklearn.preprocessing import LabelEncoder, MultiLabelBinarizer\n",
    "from sklearn.metrics import confusion_matrix, f1_score, precision_score, recall_score \n",
    "from sklearn.metrics import precision_recall_fscore_support, classification_report\n",
    "from sklearn.utils import class_weight\n",
    "\n",
    "import tensorflow as tf\n",
    "\n",
    "import matplotlib.pyplot as plt\n",
    "%matplotlib inline\n",
    "\n",
    "import functools\n",
    "\n",
    "import h5py\n"
   ]
  },
  {
   "cell_type": "markdown",
   "metadata": {},
   "source": [
    "### Environmental vars"
   ]
  },
  {
   "cell_type": "code",
   "execution_count": 2,
   "metadata": {},
   "outputs": [],
   "source": [
    "DATADIR=os.getenv('DATADIR')\n",
    "#DATADIR='/data' #this was put in for AWS run but doesn't work locally..."
   ]
  },
  {
   "cell_type": "markdown",
   "metadata": {},
   "source": [
    "## Hyperparameters"
   ]
  },
  {
   "cell_type": "markdown",
   "metadata": {},
   "source": [
    "Intuition for POS_RATIO is that it penalises the prediction of zero for everything, which is attractive to the model because the multilabel y matrix is super sparse. \n",
    "\n",
    "Increasing POS_RATIO should penalise predicting zeros more."
   ]
  },
  {
   "cell_type": "code",
   "execution_count": 3,
   "metadata": {},
   "outputs": [],
   "source": [
    "#MAX_NB_WORDS\n",
    "MAX_SEQUENCE_LENGTH =1000\n",
    "EMBEDDING_DIM = 100 # keras embedding layer output_dim = Dimension of the dense embedding\n",
    "P_THRESHOLD = 0.5 #Threshold for probability of being assigned to class\n",
    "POS_RATIO = 0.5 #ratio of positive to negative for each class in weighted binary cross entropy loss function\n",
    "NUM_WORDS=20000 #keras tokenizer num_words: None or int. Maximum number of words to work with \n",
    "#(if set, tokenization will be restricted to the top num_words most common words in the dataset)."
   ]
  },
  {
   "cell_type": "markdown",
   "metadata": {},
   "source": [
    "### Read in data\n",
    "Content items tagged to level 2 taxons or lower in the topic taxonomy"
   ]
  },
  {
   "cell_type": "code",
   "execution_count": 4,
   "metadata": {},
   "outputs": [],
   "source": [
    "labelled_level2 = pd.read_csv(os.path.join(DATADIR, 'labelled_level2_WITHWORLD.csv.gz'), dtype=object, compression='gzip')"
   ]
  },
  {
   "cell_type": "code",
   "execution_count": 5,
   "metadata": {},
   "outputs": [
    {
     "data": {
      "text/html": [
       "<div>\n",
       "<style scoped>\n",
       "    .dataframe tbody tr th:only-of-type {\n",
       "        vertical-align: middle;\n",
       "    }\n",
       "\n",
       "    .dataframe tbody tr th {\n",
       "        vertical-align: top;\n",
       "    }\n",
       "\n",
       "    .dataframe thead th {\n",
       "        text-align: right;\n",
       "    }\n",
       "</style>\n",
       "<table border=\"1\" class=\"dataframe\">\n",
       "  <thead>\n",
       "    <tr style=\"text-align: right;\">\n",
       "      <th></th>\n",
       "      <th>base_path</th>\n",
       "      <th>content_id</th>\n",
       "      <th>description</th>\n",
       "      <th>details</th>\n",
       "      <th>document_type</th>\n",
       "      <th>first_published_at</th>\n",
       "      <th>locale</th>\n",
       "      <th>primary_publishing_organisation</th>\n",
       "      <th>publishing_app</th>\n",
       "      <th>title</th>\n",
       "      <th>...</th>\n",
       "      <th>body</th>\n",
       "      <th>combined_text</th>\n",
       "      <th>taxon_id</th>\n",
       "      <th>taxon_base_path</th>\n",
       "      <th>taxon_name</th>\n",
       "      <th>level1taxon</th>\n",
       "      <th>level2taxon</th>\n",
       "      <th>level3taxon</th>\n",
       "      <th>level4taxon</th>\n",
       "      <th>level5taxon</th>\n",
       "    </tr>\n",
       "  </thead>\n",
       "  <tbody>\n",
       "    <tr>\n",
       "      <th>57690</th>\n",
       "      <td>/government/collections/emma-jones-small-busin...</td>\n",
       "      <td>00029fa4-9b60-4285-898c-85ae8a6367f5</td>\n",
       "      <td>as small business crown representative emma is...</td>\n",
       "      <td>{'body': '&lt;div class=\"govspeak\"&gt;&lt;p&gt;Emma was ap...</td>\n",
       "      <td>document_collection</td>\n",
       "      <td>2017-01-11T10:18:00.000+00:00</td>\n",
       "      <td>en</td>\n",
       "      <td>{'title': 'Crown Commercial Service'}</td>\n",
       "      <td>whitehall</td>\n",
       "      <td>emma jones - small business crown representative</td>\n",
       "      <td>...</td>\n",
       "      <td>emma was appointed as small business crown rep...</td>\n",
       "      <td>emma jones - small business crown representati...</td>\n",
       "      <td>f3caf326-fe33-410f-b7f4-553f4011c81e</td>\n",
       "      <td>/government/government-spending</td>\n",
       "      <td>Government spending</td>\n",
       "      <td>Government</td>\n",
       "      <td>Government spending</td>\n",
       "      <td>NaN</td>\n",
       "      <td>NaN</td>\n",
       "      <td>NaN</td>\n",
       "    </tr>\n",
       "    <tr>\n",
       "      <th>30438</th>\n",
       "      <td>/government/publications/land-remediation-brin...</td>\n",
       "      <td>00037b70-5b08-44c2-bf0a-fa8eb636a60b</td>\n",
       "      <td>brochure showing uk expertise in land remediat...</td>\n",
       "      <td>{'body': '&lt;div class=\"govspeak\"&gt;&lt;p&gt;The UK was ...</td>\n",
       "      <td>promotional</td>\n",
       "      <td>2015-05-11T10:41:00.000+00:00</td>\n",
       "      <td>en</td>\n",
       "      <td>{'title': 'Department for International Trade'}</td>\n",
       "      <td>whitehall</td>\n",
       "      <td>land remediation: bringing brownfield sites ba...</td>\n",
       "      <td>...</td>\n",
       "      <td>the uk was the first industrialised country in...</td>\n",
       "      <td>land remediation: bringing brownfield sites ba...</td>\n",
       "      <td>21eee04d-e702-4e7b-9fde-2f6777f1be2c</td>\n",
       "      <td>/business/business-and-enterprise</td>\n",
       "      <td>Business and enterprise</td>\n",
       "      <td>Business</td>\n",
       "      <td>Business and enterprise</td>\n",
       "      <td>NaN</td>\n",
       "      <td>NaN</td>\n",
       "      <td>NaN</td>\n",
       "    </tr>\n",
       "    <tr>\n",
       "      <th>125773</th>\n",
       "      <td>/government/publications/land-remediation-brin...</td>\n",
       "      <td>00037b70-5b08-44c2-bf0a-fa8eb636a60b</td>\n",
       "      <td>brochure showing uk expertise in land remediat...</td>\n",
       "      <td>{'body': '&lt;div class=\"govspeak\"&gt;&lt;p&gt;The UK was ...</td>\n",
       "      <td>promotional</td>\n",
       "      <td>2015-05-11T10:41:00.000+00:00</td>\n",
       "      <td>en</td>\n",
       "      <td>{'title': 'Department for International Trade'}</td>\n",
       "      <td>whitehall</td>\n",
       "      <td>land remediation: bringing brownfield sites ba...</td>\n",
       "      <td>...</td>\n",
       "      <td>the uk was the first industrialised country in...</td>\n",
       "      <td>land remediation: bringing brownfield sites ba...</td>\n",
       "      <td>ed2ca1f7-5463-4eda-9324-b597e269e242</td>\n",
       "      <td>/business/trade-and-investment</td>\n",
       "      <td>Trade and investment</td>\n",
       "      <td>Business</td>\n",
       "      <td>Trade and investment</td>\n",
       "      <td>NaN</td>\n",
       "      <td>NaN</td>\n",
       "      <td>NaN</td>\n",
       "    </tr>\n",
       "    <tr>\n",
       "      <th>17256</th>\n",
       "      <td>/government/publications/land-remediation-brin...</td>\n",
       "      <td>00037b70-5b08-44c2-bf0a-fa8eb636a60b</td>\n",
       "      <td>brochure showing uk expertise in land remediat...</td>\n",
       "      <td>{'body': '&lt;div class=\"govspeak\"&gt;&lt;p&gt;The UK was ...</td>\n",
       "      <td>promotional</td>\n",
       "      <td>2015-05-11T10:41:00.000+00:00</td>\n",
       "      <td>en</td>\n",
       "      <td>{'title': 'Department for International Trade'}</td>\n",
       "      <td>whitehall</td>\n",
       "      <td>land remediation: bringing brownfield sites ba...</td>\n",
       "      <td>...</td>\n",
       "      <td>the uk was the first industrialised country in...</td>\n",
       "      <td>land remediation: bringing brownfield sites ba...</td>\n",
       "      <td>a1e4659c-dc15-48be-bc4f-6c609ae061dc</td>\n",
       "      <td>/business/uk-economy</td>\n",
       "      <td>UK economy</td>\n",
       "      <td>Business</td>\n",
       "      <td>UK economy</td>\n",
       "      <td>NaN</td>\n",
       "      <td>NaN</td>\n",
       "      <td>NaN</td>\n",
       "    </tr>\n",
       "    <tr>\n",
       "      <th>136046</th>\n",
       "      <td>/government/statistics/steps-2-successni-stati...</td>\n",
       "      <td>00037ee5-7b5e-452d-a233-af2c134f5bce</td>\n",
       "      <td>details on the number of referrals and starts ...</td>\n",
       "      <td>{'body': '&lt;div class=\"govspeak\"&gt;&lt;p&gt;Statistics ...</td>\n",
       "      <td>official_statistics</td>\n",
       "      <td>2016-11-24T09:30:13.000+00:00</td>\n",
       "      <td>en</td>\n",
       "      <td>{'title': 'Department for Communities (Norther...</td>\n",
       "      <td>whitehall</td>\n",
       "      <td>steps 2 success:ni statistics from october 201...</td>\n",
       "      <td>...</td>\n",
       "      <td>statistics presented include details on the nu...</td>\n",
       "      <td>steps 2 success:ni statistics from october 201...</td>\n",
       "      <td>a1e624ed-e268-44ab-ac3f-4d3cb2bb8cb5</td>\n",
       "      <td>/regional-and-local-government/northern-ireland</td>\n",
       "      <td>Northern Ireland</td>\n",
       "      <td>Regional and local government</td>\n",
       "      <td>Northern Ireland</td>\n",
       "      <td>NaN</td>\n",
       "      <td>NaN</td>\n",
       "      <td>NaN</td>\n",
       "    </tr>\n",
       "  </tbody>\n",
       "</table>\n",
       "<p>5 rows × 21 columns</p>\n",
       "</div>"
      ],
      "text/plain": [
       "                                                base_path  \\\n",
       "57690   /government/collections/emma-jones-small-busin...   \n",
       "30438   /government/publications/land-remediation-brin...   \n",
       "125773  /government/publications/land-remediation-brin...   \n",
       "17256   /government/publications/land-remediation-brin...   \n",
       "136046  /government/statistics/steps-2-successni-stati...   \n",
       "\n",
       "                                  content_id  \\\n",
       "57690   00029fa4-9b60-4285-898c-85ae8a6367f5   \n",
       "30438   00037b70-5b08-44c2-bf0a-fa8eb636a60b   \n",
       "125773  00037b70-5b08-44c2-bf0a-fa8eb636a60b   \n",
       "17256   00037b70-5b08-44c2-bf0a-fa8eb636a60b   \n",
       "136046  00037ee5-7b5e-452d-a233-af2c134f5bce   \n",
       "\n",
       "                                              description  \\\n",
       "57690   as small business crown representative emma is...   \n",
       "30438   brochure showing uk expertise in land remediat...   \n",
       "125773  brochure showing uk expertise in land remediat...   \n",
       "17256   brochure showing uk expertise in land remediat...   \n",
       "136046  details on the number of referrals and starts ...   \n",
       "\n",
       "                                                  details  \\\n",
       "57690   {'body': '<div class=\"govspeak\"><p>Emma was ap...   \n",
       "30438   {'body': '<div class=\"govspeak\"><p>The UK was ...   \n",
       "125773  {'body': '<div class=\"govspeak\"><p>The UK was ...   \n",
       "17256   {'body': '<div class=\"govspeak\"><p>The UK was ...   \n",
       "136046  {'body': '<div class=\"govspeak\"><p>Statistics ...   \n",
       "\n",
       "              document_type             first_published_at locale  \\\n",
       "57690   document_collection  2017-01-11T10:18:00.000+00:00     en   \n",
       "30438           promotional  2015-05-11T10:41:00.000+00:00     en   \n",
       "125773          promotional  2015-05-11T10:41:00.000+00:00     en   \n",
       "17256           promotional  2015-05-11T10:41:00.000+00:00     en   \n",
       "136046  official_statistics  2016-11-24T09:30:13.000+00:00     en   \n",
       "\n",
       "                          primary_publishing_organisation publishing_app  \\\n",
       "57690               {'title': 'Crown Commercial Service'}      whitehall   \n",
       "30438     {'title': 'Department for International Trade'}      whitehall   \n",
       "125773    {'title': 'Department for International Trade'}      whitehall   \n",
       "17256     {'title': 'Department for International Trade'}      whitehall   \n",
       "136046  {'title': 'Department for Communities (Norther...      whitehall   \n",
       "\n",
       "                                                    title     ...      \\\n",
       "57690    emma jones - small business crown representative     ...       \n",
       "30438   land remediation: bringing brownfield sites ba...     ...       \n",
       "125773  land remediation: bringing brownfield sites ba...     ...       \n",
       "17256   land remediation: bringing brownfield sites ba...     ...       \n",
       "136046  steps 2 success:ni statistics from october 201...     ...       \n",
       "\n",
       "                                                     body  \\\n",
       "57690   emma was appointed as small business crown rep...   \n",
       "30438   the uk was the first industrialised country in...   \n",
       "125773  the uk was the first industrialised country in...   \n",
       "17256   the uk was the first industrialised country in...   \n",
       "136046  statistics presented include details on the nu...   \n",
       "\n",
       "                                            combined_text  \\\n",
       "57690   emma jones - small business crown representati...   \n",
       "30438   land remediation: bringing brownfield sites ba...   \n",
       "125773  land remediation: bringing brownfield sites ba...   \n",
       "17256   land remediation: bringing brownfield sites ba...   \n",
       "136046  steps 2 success:ni statistics from october 201...   \n",
       "\n",
       "                                    taxon_id  \\\n",
       "57690   f3caf326-fe33-410f-b7f4-553f4011c81e   \n",
       "30438   21eee04d-e702-4e7b-9fde-2f6777f1be2c   \n",
       "125773  ed2ca1f7-5463-4eda-9324-b597e269e242   \n",
       "17256   a1e4659c-dc15-48be-bc4f-6c609ae061dc   \n",
       "136046  a1e624ed-e268-44ab-ac3f-4d3cb2bb8cb5   \n",
       "\n",
       "                                        taxon_base_path  \\\n",
       "57690                   /government/government-spending   \n",
       "30438                 /business/business-and-enterprise   \n",
       "125773                   /business/trade-and-investment   \n",
       "17256                              /business/uk-economy   \n",
       "136046  /regional-and-local-government/northern-ireland   \n",
       "\n",
       "                     taxon_name                    level1taxon  \\\n",
       "57690       Government spending                     Government   \n",
       "30438   Business and enterprise                       Business   \n",
       "125773     Trade and investment                       Business   \n",
       "17256                UK economy                       Business   \n",
       "136046         Northern Ireland  Regional and local government   \n",
       "\n",
       "                    level2taxon level3taxon level4taxon level5taxon  \n",
       "57690       Government spending         NaN         NaN         NaN  \n",
       "30438   Business and enterprise         NaN         NaN         NaN  \n",
       "125773     Trade and investment         NaN         NaN         NaN  \n",
       "17256                UK economy         NaN         NaN         NaN  \n",
       "136046         Northern Ireland         NaN         NaN         NaN  \n",
       "\n",
       "[5 rows x 21 columns]"
      ]
     },
     "execution_count": 5,
     "metadata": {},
     "output_type": "execute_result"
    }
   ],
   "source": [
    "labelled_level2.sort_values('content_id').head()"
   ]
  },
  {
   "cell_type": "markdown",
   "metadata": {},
   "source": [
    "### Create dictionary mapping taxon codes to string labels"
   ]
  },
  {
   "cell_type": "code",
   "execution_count": 6,
   "metadata": {},
   "outputs": [
    {
     "data": {
      "text/plain": [
       "{1: 'Administrative justice reform',\n",
       " 2: 'Adoption, fostering and surrogacy',\n",
       " 3: 'Afghanistan',\n",
       " 4: 'Armed Forces Covenant',\n",
       " 5: 'Armed forces',\n",
       " 6: 'Armed forces and Ministry of Defence reform',\n",
       " 7: 'Armed forces support for activities in the UK',\n",
       " 8: 'Arts and culture',\n",
       " 9: 'Assessing environmental impact',\n",
       " 10: 'Asylum',\n",
       " 11: 'Attorney General guidance to the legal profession',\n",
       " 12: 'Aviation',\n",
       " 13: 'Benefits entitlement',\n",
       " 14: 'Benefits for families',\n",
       " 15: 'Biodiversity and ecosystems',\n",
       " 16: 'Boating and inland waterways',\n",
       " 17: 'Brexit',\n",
       " 18: 'Brexit and the EU',\n",
       " 19: 'British citizenship ',\n",
       " 20: 'British nationals overseas',\n",
       " 21: 'Business and enterprise',\n",
       " 22: 'Business and the environment',\n",
       " 23: 'Business tax',\n",
       " 24: 'Byelaws',\n",
       " 25: 'Carers and disability benefits',\n",
       " 26: \"Carers' health\",\n",
       " 27: 'Certificates, register offices, changes of name or gender',\n",
       " 28: 'Charities, volunteering and honours',\n",
       " 29: 'Child Benefit',\n",
       " 30: 'Child maintenance reform',\n",
       " 31: 'Childcare and early years',\n",
       " 32: \"Children's health and welfare\",\n",
       " 33: 'Civil justice reform',\n",
       " 34: 'Civil service reform',\n",
       " 35: 'Climate change and energy',\n",
       " 36: 'Commercial fishing and fisheries',\n",
       " 37: 'Community and society',\n",
       " 38: 'Conflict in fragile states',\n",
       " 39: 'Constitutional affairs',\n",
       " 40: 'Consumer rights and issues',\n",
       " 41: 'Content and publishing',\n",
       " 42: 'Counter-terrorism',\n",
       " 43: 'Court claims, debt and bankruptcy',\n",
       " 44: 'Courts, sentencing and tribunals',\n",
       " 45: 'Crime prevention',\n",
       " 46: 'Criminal justice reform',\n",
       " 47: 'Criminal record disclosure',\n",
       " 48: 'Cyber security',\n",
       " 49: 'Dealing with HMRC',\n",
       " 50: 'Death and benefits',\n",
       " 51: 'Death and bereavement',\n",
       " 52: 'Deficit reduction',\n",
       " 53: 'Devolution',\n",
       " 54: 'Diplomats',\n",
       " 55: 'Disabled people',\n",
       " 56: 'Divorce, separation and legal issues',\n",
       " 57: 'Domestic violence',\n",
       " 58: 'Driving and road transport',\n",
       " 59: 'Education of disadvantaged children',\n",
       " 60: 'Emergency preparation, response and recovery',\n",
       " 61: 'Employing people',\n",
       " 62: 'End of life care',\n",
       " 63: 'Environmental permits',\n",
       " 64: 'Environmental quality',\n",
       " 65: 'Environmental risk management',\n",
       " 66: 'Equality, rights and citizenship',\n",
       " 67: 'European Union laws and regulation',\n",
       " 68: 'European funds',\n",
       " 69: 'European single market',\n",
       " 70: 'Expenses and employee benefits',\n",
       " 71: 'Family justice system',\n",
       " 72: 'Financial help if you have children',\n",
       " 73: 'Financial services',\n",
       " 74: 'Fire prevention and rescue',\n",
       " 75: 'Flooding and coastal change',\n",
       " 76: 'Food and farming',\n",
       " 77: 'Forced marriage',\n",
       " 78: 'Foreign affairs',\n",
       " 79: 'Freight and cargo',\n",
       " 80: 'Funding and finance for students',\n",
       " 81: 'Further and higher education, skills and vocational training',\n",
       " 82: 'Government efficiency, transparency and accountability',\n",
       " 83: 'Government graduate schemes',\n",
       " 84: 'Government spending',\n",
       " 85: 'HS2 and the environment',\n",
       " 86: 'Having a child, parenting and adoption',\n",
       " 87: 'Health and safety reform',\n",
       " 88: 'Health protection',\n",
       " 89: 'Heating and housing benefits',\n",
       " 90: 'Housing',\n",
       " 91: 'Housing planning and building',\n",
       " 92: 'Human rights internationally',\n",
       " 93: 'Immigration rules and enforcement',\n",
       " 94: 'Industrial strategy',\n",
       " 95: 'Inspections and performance of education providers',\n",
       " 96: 'International aid and development',\n",
       " 97: 'International defence commitments',\n",
       " 98: \"Jobseeker's Allowance and low income benefits\",\n",
       " 99: 'Justice system transparency',\n",
       " 100: 'Knife, gun and gang crime',\n",
       " 101: 'Labour market reform',\n",
       " 102: 'Land Registration Data ',\n",
       " 103: 'Land management',\n",
       " 104: 'Land registration',\n",
       " 105: 'Lasting power of attorney, being in care and your financial affairs',\n",
       " 106: 'Law and practice',\n",
       " 107: 'Legal aid',\n",
       " 108: 'Legal aid reform',\n",
       " 109: 'Legislative process',\n",
       " 110: 'Living abroad',\n",
       " 111: 'Living in the UK, government and democracy',\n",
       " 112: 'Local councils and services',\n",
       " 113: 'Local government',\n",
       " 114: 'Local government spending',\n",
       " 115: 'Local transport',\n",
       " 116: 'Localism',\n",
       " 117: 'Major project management',\n",
       " 118: 'Marine',\n",
       " 119: 'Maritime',\n",
       " 120: 'Marriage, civil partnership and divorce',\n",
       " 121: 'Media and communications',\n",
       " 122: 'Medical certification and advice',\n",
       " 123: 'Medicines, medical devices and blood regulation and safety',\n",
       " 124: 'Military awards and commemorations',\n",
       " 125: 'Military equipment, logistics and technology',\n",
       " 126: 'Military recruitment, training and operations',\n",
       " 127: 'Ministry of Defence estate',\n",
       " 128: 'Money laundering regulations',\n",
       " 129: 'National Health Service',\n",
       " 130: 'National events and ceremonies',\n",
       " 131: 'National security',\n",
       " 132: 'Northern Ireland',\n",
       " 133: 'Nuclear disarmament',\n",
       " 134: 'Oil and gas',\n",
       " 135: 'Passports',\n",
       " 136: 'Passports and travel documents for foreign nationals',\n",
       " 137: 'Payroll',\n",
       " 138: 'Peace and stability in the Middle East and North Africa',\n",
       " 139: 'Pensions and ageing society',\n",
       " 140: 'Permanent stay in the UK',\n",
       " 141: 'Personal tax',\n",
       " 142: 'Policing',\n",
       " 143: 'Population screening programmes',\n",
       " 144: 'Postal service reform',\n",
       " 145: 'Pregnancy and birth',\n",
       " 146: 'Prisons and probation',\n",
       " 147: 'Public health',\n",
       " 148: 'Public sector land use',\n",
       " 149: 'Public services',\n",
       " 150: 'Pupil wellbeing, behaviour and attendance',\n",
       " 151: 'Rail',\n",
       " 152: 'Regulation reform',\n",
       " 153: 'Reoffending and rehabilitation',\n",
       " 154: 'Reporting crimes and getting compensation',\n",
       " 155: 'Road infrastructure',\n",
       " 156: 'Running and managing a school',\n",
       " 157: 'Rural and countryside',\n",
       " 158: 'Safeguarding and social care for children',\n",
       " 159: 'School and academy financial management and assurance',\n",
       " 160: 'School and academy funding',\n",
       " 161: 'School curriculum',\n",
       " 162: 'Science and innovation',\n",
       " 163: 'Scotland',\n",
       " 164: 'Screening and quality assurance (all programmes)',\n",
       " 165: 'Secondments with government',\n",
       " 166: 'Self-employment',\n",
       " 167: 'Sentencing reform',\n",
       " 168: 'Social care',\n",
       " 169: 'Special educational needs and disability (SEND) and high needs',\n",
       " 170: 'Sports and leisure',\n",
       " 171: 'Starting and attending school',\n",
       " 172: 'Statutory rights',\n",
       " 173: 'Support services for military and defence personnel and their families',\n",
       " 174: 'Support services for veterans and their families',\n",
       " 175: 'Sustainable development',\n",
       " 176: 'Tax credits',\n",
       " 177: 'Tax evasion and avoidance',\n",
       " 178: 'Teaching and leadership',\n",
       " 179: 'The Commonwealth',\n",
       " 180: 'Tourism',\n",
       " 181: 'Trade and investment',\n",
       " 182: 'Transport accessibility and mobility',\n",
       " 183: 'Transport corporate and transparency',\n",
       " 184: 'Transport modelling and appraisal',\n",
       " 185: 'Transport planning',\n",
       " 186: 'Transport research and evaluation',\n",
       " 187: 'Transport security',\n",
       " 188: 'Transport statistics',\n",
       " 189: 'Travel abroad',\n",
       " 190: 'UK border control',\n",
       " 191: 'UK economy',\n",
       " 192: 'UK nuclear deterrent',\n",
       " 193: 'UK prosperity and security: Asia, Latin America and Africa',\n",
       " 194: 'Universal Credit',\n",
       " 195: 'Victims of crime',\n",
       " 196: 'Violence against women and girls',\n",
       " 197: 'Visas',\n",
       " 198: 'Voting',\n",
       " 199: 'Wales',\n",
       " 200: 'Waste and recycling',\n",
       " 201: 'Water industry',\n",
       " 202: 'Weapons proliferation',\n",
       " 203: 'What you can bring to the UK',\n",
       " 204: 'Wildlife and animal welfare',\n",
       " 205: 'Work and disabled people',\n",
       " 206: 'Working, jobs and pensions',\n",
       " 207: 'Young people and the law',\n",
       " 208: 'Your rights and the law',\n",
       " 209: 'Youth employment and social issues',\n",
       " 210: 'world_level1'}"
      ]
     },
     "execution_count": 6,
     "metadata": {},
     "output_type": "execute_result"
    }
   ],
   "source": [
    "#COLLAPSE World level2taxons\n",
    "labelled_level2.loc[labelled_level2['level1taxon'] == 'World', 'level2taxon'] = 'world_level1'\n",
    "\n",
    "#creating categorical variable for level2taxons from values\n",
    "labelled_level2['level2taxon'] = labelled_level2['level2taxon'].astype('category')\n",
    "\n",
    "#Get the category numeric values (codes) and avoid zero-indexing\n",
    "labels = labelled_level2['level2taxon'].cat.codes + 1\n",
    "\n",
    "#create dictionary of taxon category code to string label for use in model evaluation\n",
    "labels_index = dict(zip((labels), labelled_level2['level2taxon']))\n",
    "labels_index"
   ]
  },
  {
   "cell_type": "code",
   "execution_count": 7,
   "metadata": {},
   "outputs": [
    {
     "name": "stdout",
     "output_type": "stream",
     "text": [
      "210\n"
     ]
    }
   ],
   "source": [
    "print(len(labels_index))"
   ]
  },
  {
   "cell_type": "markdown",
   "metadata": {},
   "source": [
    "### Create target/Y "
   ]
  },
  {
   "cell_type": "markdown",
   "metadata": {},
   "source": [
    "Note: when using the categorical_crossentropy loss, your targets should be in categorical format (e.g. if you have 10 classes, the target for each sample should be a 10-dimensional vector that is all-zeros expect for a 1 at the index corresponding to the class of the sample)."
   ]
  },
  {
   "cell_type": "markdown",
   "metadata": {},
   "source": [
    "In multilabel learning, the joint set of binary classification tasks is expressed with label binary indicator array: each sample is one row of a 2d array of shape (n_samples, n_classes) with binary values:  \n",
    "the one, i.e. the non zero elements, corresponds to the subset of labels.  \n",
    "An array such as np.array([[1, 0, 0], [0, 1, 1], [0, 0, 0]]) represents label 0 in the first sample, labels 1 and 2 in the second sample, and no labels in the third sample.  \n",
    "Producing multilabel data as a list of sets of labels may be more intuitive."
   ]
  },
  {
   "cell_type": "markdown",
   "metadata": {},
   "source": [
    "####  First reshape wide to get columns for each level2taxon and row number = number unique urls"
   ]
  },
  {
   "cell_type": "code",
   "execution_count": 8,
   "metadata": {},
   "outputs": [
    {
     "name": "stdout",
     "output_type": "stream",
     "text": [
      "Number of unique level2taxons: 210\n"
     ]
    }
   ],
   "source": [
    "#get a smaller copy of data for pivoting ease (think you can work from full data actually and other cols get droopedauto)\n",
    "\n",
    "level2_reduced = labelled_level2[['content_id', 'level2taxon', 'combined_text', 'title', 'description']].copy()\n",
    "\n",
    "#how many level2taxons are there?\n",
    "print('Number of unique level2taxons: {}'.format(level2_reduced.level2taxon.nunique()))\n",
    "\n",
    "#count the number of taxons per content item into new column\n",
    "level2_reduced['num_taxon_per_content'] = level2_reduced.groupby([\"content_id\"])['content_id'].transform(\"count\")\n",
    "\n",
    "#Add 1 because of zero-indexing to get 1-number of level2taxons as numerical targets\n",
    "level2_reduced['level2taxon_code'] = level2_reduced.level2taxon.astype('category').cat.codes + 1"
   ]
  },
  {
   "cell_type": "code",
   "execution_count": 9,
   "metadata": {},
   "outputs": [
    {
     "name": "stdout",
     "output_type": "stream",
     "text": [
      "Number of unique level2taxons: 210\n"
     ]
    }
   ],
   "source": [
    "#how many level2taxons are there?\n",
    "print('Number of unique level2taxons: {}'.format(labelled_level2.level2taxon.nunique()))\n",
    "\n",
    "#count the number of taxons per content item into new column\n",
    "labelled_level2['num_taxon_per_content'] = labelled_level2.groupby([\"content_id\"])['content_id'].transform(\"count\")\n",
    "\n",
    "#Add 1 because of zero-indexing to get 1-number of level2taxons as numerical targets\n",
    "labelled_level2['level2taxon_code'] = labelled_level2.level2taxon.astype('category').cat.codes + 1"
   ]
  },
  {
   "cell_type": "code",
   "execution_count": 10,
   "metadata": {},
   "outputs": [
    {
     "name": "stdout",
     "output_type": "stream",
     "text": [
      "level2reduced shape: (173560, 7)\n",
      "pivot table shape (no duplicates): (114048, 210) \n",
      "level2taxon_code                                                                                                                                                                               1    \\\n",
      "content_id                           combined_text                                      title                                              description                                               \n",
      "00029fa4-9b60-4285-898c-85ae8a6367f5 emma jones - small business crown representativ... emma jones - small business crown representative   as small business crown representative emma is ...  NaN   \n",
      "00037b70-5b08-44c2-bf0a-fa8eb636a60b land remediation: bringing brownfield sites bac... land remediation: bringing brownfield sites bac... brochure showing uk expertise in land remediati...  NaN   \n",
      "00037ee5-7b5e-452d-a233-af2c134f5bce steps 2 success:ni statistics from october 2014... steps 2 success:ni statistics from october 2014... details on the number of referrals and starts o...  NaN   \n",
      "0004c63d-ae16-432a-bb35-c0f949b1e27c student support applications for higher educati... student support applications for higher educati... data includes the number of applications receiv...  NaN   \n",
      "0005ac76-50fe-42f1-8168-8b6fc046e40f advice for building owners: large-scale wall sy... advice for building owners: large-scale wall sy... advice for building owners on the large-scale w...  NaN   \n",
      "\n",
      "level2taxon_code                                                                                                                                                                               2    \\\n",
      "content_id                           combined_text                                      title                                              description                                               \n",
      "00029fa4-9b60-4285-898c-85ae8a6367f5 emma jones - small business crown representativ... emma jones - small business crown representative   as small business crown representative emma is ...  NaN   \n",
      "00037b70-5b08-44c2-bf0a-fa8eb636a60b land remediation: bringing brownfield sites bac... land remediation: bringing brownfield sites bac... brochure showing uk expertise in land remediati...  NaN   \n",
      "00037ee5-7b5e-452d-a233-af2c134f5bce steps 2 success:ni statistics from october 2014... steps 2 success:ni statistics from october 2014... details on the number of referrals and starts o...  NaN   \n",
      "0004c63d-ae16-432a-bb35-c0f949b1e27c student support applications for higher educati... student support applications for higher educati... data includes the number of applications receiv...  NaN   \n",
      "0005ac76-50fe-42f1-8168-8b6fc046e40f advice for building owners: large-scale wall sy... advice for building owners: large-scale wall sy... advice for building owners on the large-scale w...  NaN   \n",
      "\n",
      "level2taxon_code                                                                                                                                                                               3    \\\n",
      "content_id                           combined_text                                      title                                              description                                               \n",
      "00029fa4-9b60-4285-898c-85ae8a6367f5 emma jones - small business crown representativ... emma jones - small business crown representative   as small business crown representative emma is ...  NaN   \n",
      "00037b70-5b08-44c2-bf0a-fa8eb636a60b land remediation: bringing brownfield sites bac... land remediation: bringing brownfield sites bac... brochure showing uk expertise in land remediati...  NaN   \n",
      "00037ee5-7b5e-452d-a233-af2c134f5bce steps 2 success:ni statistics from october 2014... steps 2 success:ni statistics from october 2014... details on the number of referrals and starts o...  NaN   \n",
      "0004c63d-ae16-432a-bb35-c0f949b1e27c student support applications for higher educati... student support applications for higher educati... data includes the number of applications receiv...  NaN   \n",
      "0005ac76-50fe-42f1-8168-8b6fc046e40f advice for building owners: large-scale wall sy... advice for building owners: large-scale wall sy... advice for building owners on the large-scale w...  NaN   \n",
      "\n",
      "level2taxon_code                                                                                                                                                                               4    \\\n",
      "content_id                           combined_text                                      title                                              description                                               \n",
      "00029fa4-9b60-4285-898c-85ae8a6367f5 emma jones - small business crown representativ... emma jones - small business crown representative   as small business crown representative emma is ...  NaN   \n",
      "00037b70-5b08-44c2-bf0a-fa8eb636a60b land remediation: bringing brownfield sites bac... land remediation: bringing brownfield sites bac... brochure showing uk expertise in land remediati...  NaN   \n",
      "00037ee5-7b5e-452d-a233-af2c134f5bce steps 2 success:ni statistics from october 2014... steps 2 success:ni statistics from october 2014... details on the number of referrals and starts o...  NaN   \n",
      "0004c63d-ae16-432a-bb35-c0f949b1e27c student support applications for higher educati... student support applications for higher educati... data includes the number of applications receiv...  NaN   \n",
      "0005ac76-50fe-42f1-8168-8b6fc046e40f advice for building owners: large-scale wall sy... advice for building owners: large-scale wall sy... advice for building owners on the large-scale w...  NaN   \n",
      "\n",
      "level2taxon_code                                                                                                                                                                               5    \\\n",
      "content_id                           combined_text                                      title                                              description                                               \n",
      "00029fa4-9b60-4285-898c-85ae8a6367f5 emma jones - small business crown representativ... emma jones - small business crown representative   as small business crown representative emma is ...  NaN   \n",
      "00037b70-5b08-44c2-bf0a-fa8eb636a60b land remediation: bringing brownfield sites bac... land remediation: bringing brownfield sites bac... brochure showing uk expertise in land remediati...  NaN   \n",
      "00037ee5-7b5e-452d-a233-af2c134f5bce steps 2 success:ni statistics from october 2014... steps 2 success:ni statistics from october 2014... details on the number of referrals and starts o...  NaN   \n",
      "0004c63d-ae16-432a-bb35-c0f949b1e27c student support applications for higher educati... student support applications for higher educati... data includes the number of applications receiv...  NaN   \n",
      "0005ac76-50fe-42f1-8168-8b6fc046e40f advice for building owners: large-scale wall sy... advice for building owners: large-scale wall sy... advice for building owners on the large-scale w...  NaN   \n",
      "\n",
      "level2taxon_code                                                                                                                                                                               6    \\\n",
      "content_id                           combined_text                                      title                                              description                                               \n",
      "00029fa4-9b60-4285-898c-85ae8a6367f5 emma jones - small business crown representativ... emma jones - small business crown representative   as small business crown representative emma is ...  NaN   \n",
      "00037b70-5b08-44c2-bf0a-fa8eb636a60b land remediation: bringing brownfield sites bac... land remediation: bringing brownfield sites bac... brochure showing uk expertise in land remediati...  NaN   \n",
      "00037ee5-7b5e-452d-a233-af2c134f5bce steps 2 success:ni statistics from october 2014... steps 2 success:ni statistics from october 2014... details on the number of referrals and starts o...  NaN   \n",
      "0004c63d-ae16-432a-bb35-c0f949b1e27c student support applications for higher educati... student support applications for higher educati... data includes the number of applications receiv...  NaN   \n",
      "0005ac76-50fe-42f1-8168-8b6fc046e40f advice for building owners: large-scale wall sy... advice for building owners: large-scale wall sy... advice for building owners on the large-scale w...  NaN   \n",
      "\n",
      "level2taxon_code                                                                                                                                                                               7    \\\n",
      "content_id                           combined_text                                      title                                              description                                               \n",
      "00029fa4-9b60-4285-898c-85ae8a6367f5 emma jones - small business crown representativ... emma jones - small business crown representative   as small business crown representative emma is ...  NaN   \n",
      "00037b70-5b08-44c2-bf0a-fa8eb636a60b land remediation: bringing brownfield sites bac... land remediation: bringing brownfield sites bac... brochure showing uk expertise in land remediati...  NaN   \n",
      "00037ee5-7b5e-452d-a233-af2c134f5bce steps 2 success:ni statistics from october 2014... steps 2 success:ni statistics from october 2014... details on the number of referrals and starts o...  NaN   \n",
      "0004c63d-ae16-432a-bb35-c0f949b1e27c student support applications for higher educati... student support applications for higher educati... data includes the number of applications receiv...  NaN   \n",
      "0005ac76-50fe-42f1-8168-8b6fc046e40f advice for building owners: large-scale wall sy... advice for building owners: large-scale wall sy... advice for building owners on the large-scale w...  NaN   \n",
      "\n",
      "level2taxon_code                                                                                                                                                                               8    \\\n",
      "content_id                           combined_text                                      title                                              description                                               \n",
      "00029fa4-9b60-4285-898c-85ae8a6367f5 emma jones - small business crown representativ... emma jones - small business crown representative   as small business crown representative emma is ...  NaN   \n",
      "00037b70-5b08-44c2-bf0a-fa8eb636a60b land remediation: bringing brownfield sites bac... land remediation: bringing brownfield sites bac... brochure showing uk expertise in land remediati...  NaN   \n",
      "00037ee5-7b5e-452d-a233-af2c134f5bce steps 2 success:ni statistics from october 2014... steps 2 success:ni statistics from october 2014... details on the number of referrals and starts o...  NaN   \n",
      "0004c63d-ae16-432a-bb35-c0f949b1e27c student support applications for higher educati... student support applications for higher educati... data includes the number of applications receiv...  NaN   \n",
      "0005ac76-50fe-42f1-8168-8b6fc046e40f advice for building owners: large-scale wall sy... advice for building owners: large-scale wall sy... advice for building owners on the large-scale w...  NaN   \n",
      "\n",
      "level2taxon_code                                                                                                                                                                               9    \\\n",
      "content_id                           combined_text                                      title                                              description                                               \n",
      "00029fa4-9b60-4285-898c-85ae8a6367f5 emma jones - small business crown representativ... emma jones - small business crown representative   as small business crown representative emma is ...  NaN   \n",
      "00037b70-5b08-44c2-bf0a-fa8eb636a60b land remediation: bringing brownfield sites bac... land remediation: bringing brownfield sites bac... brochure showing uk expertise in land remediati...  NaN   \n",
      "00037ee5-7b5e-452d-a233-af2c134f5bce steps 2 success:ni statistics from october 2014... steps 2 success:ni statistics from october 2014... details on the number of referrals and starts o...  NaN   \n",
      "0004c63d-ae16-432a-bb35-c0f949b1e27c student support applications for higher educati... student support applications for higher educati... data includes the number of applications receiv...  NaN   \n",
      "0005ac76-50fe-42f1-8168-8b6fc046e40f advice for building owners: large-scale wall sy... advice for building owners: large-scale wall sy... advice for building owners on the large-scale w...  NaN   \n",
      "\n",
      "level2taxon_code                                                                                                                                                                               10   \\\n",
      "content_id                           combined_text                                      title                                              description                                               \n",
      "00029fa4-9b60-4285-898c-85ae8a6367f5 emma jones - small business crown representativ... emma jones - small business crown representative   as small business crown representative emma is ...  NaN   \n",
      "00037b70-5b08-44c2-bf0a-fa8eb636a60b land remediation: bringing brownfield sites bac... land remediation: bringing brownfield sites bac... brochure showing uk expertise in land remediati...  NaN   \n",
      "00037ee5-7b5e-452d-a233-af2c134f5bce steps 2 success:ni statistics from october 2014... steps 2 success:ni statistics from october 2014... details on the number of referrals and starts o...  NaN   \n",
      "0004c63d-ae16-432a-bb35-c0f949b1e27c student support applications for higher educati... student support applications for higher educati... data includes the number of applications receiv...  NaN   \n",
      "0005ac76-50fe-42f1-8168-8b6fc046e40f advice for building owners: large-scale wall sy... advice for building owners: large-scale wall sy... advice for building owners on the large-scale w...  NaN   \n",
      "\n",
      "level2taxon_code                                                                                                                                                                              ...   \\\n",
      "content_id                           combined_text                                      title                                              description                                        ...    \n",
      "00029fa4-9b60-4285-898c-85ae8a6367f5 emma jones - small business crown representativ... emma jones - small business crown representative   as small business crown representative emma is ... ...    \n",
      "00037b70-5b08-44c2-bf0a-fa8eb636a60b land remediation: bringing brownfield sites bac... land remediation: bringing brownfield sites bac... brochure showing uk expertise in land remediati... ...    \n",
      "00037ee5-7b5e-452d-a233-af2c134f5bce steps 2 success:ni statistics from october 2014... steps 2 success:ni statistics from october 2014... details on the number of referrals and starts o... ...    \n",
      "0004c63d-ae16-432a-bb35-c0f949b1e27c student support applications for higher educati... student support applications for higher educati... data includes the number of applications receiv... ...    \n",
      "0005ac76-50fe-42f1-8168-8b6fc046e40f advice for building owners: large-scale wall sy... advice for building owners: large-scale wall sy... advice for building owners on the large-scale w... ...    \n",
      "\n",
      "level2taxon_code                                                                                                                                                                               201  \\\n",
      "content_id                           combined_text                                      title                                              description                                               \n",
      "00029fa4-9b60-4285-898c-85ae8a6367f5 emma jones - small business crown representativ... emma jones - small business crown representative   as small business crown representative emma is ...  NaN   \n",
      "00037b70-5b08-44c2-bf0a-fa8eb636a60b land remediation: bringing brownfield sites bac... land remediation: bringing brownfield sites bac... brochure showing uk expertise in land remediati...  NaN   \n",
      "00037ee5-7b5e-452d-a233-af2c134f5bce steps 2 success:ni statistics from october 2014... steps 2 success:ni statistics from october 2014... details on the number of referrals and starts o...  NaN   \n",
      "0004c63d-ae16-432a-bb35-c0f949b1e27c student support applications for higher educati... student support applications for higher educati... data includes the number of applications receiv...  NaN   \n",
      "0005ac76-50fe-42f1-8168-8b6fc046e40f advice for building owners: large-scale wall sy... advice for building owners: large-scale wall sy... advice for building owners on the large-scale w...  NaN   \n",
      "\n",
      "level2taxon_code                                                                                                                                                                               202  \\\n",
      "content_id                           combined_text                                      title                                              description                                               \n",
      "00029fa4-9b60-4285-898c-85ae8a6367f5 emma jones - small business crown representativ... emma jones - small business crown representative   as small business crown representative emma is ...  NaN   \n",
      "00037b70-5b08-44c2-bf0a-fa8eb636a60b land remediation: bringing brownfield sites bac... land remediation: bringing brownfield sites bac... brochure showing uk expertise in land remediati...  NaN   \n",
      "00037ee5-7b5e-452d-a233-af2c134f5bce steps 2 success:ni statistics from october 2014... steps 2 success:ni statistics from october 2014... details on the number of referrals and starts o...  NaN   \n",
      "0004c63d-ae16-432a-bb35-c0f949b1e27c student support applications for higher educati... student support applications for higher educati... data includes the number of applications receiv...  NaN   \n",
      "0005ac76-50fe-42f1-8168-8b6fc046e40f advice for building owners: large-scale wall sy... advice for building owners: large-scale wall sy... advice for building owners on the large-scale w...  NaN   \n",
      "\n",
      "level2taxon_code                                                                                                                                                                               203  \\\n",
      "content_id                           combined_text                                      title                                              description                                               \n",
      "00029fa4-9b60-4285-898c-85ae8a6367f5 emma jones - small business crown representativ... emma jones - small business crown representative   as small business crown representative emma is ...  NaN   \n",
      "00037b70-5b08-44c2-bf0a-fa8eb636a60b land remediation: bringing brownfield sites bac... land remediation: bringing brownfield sites bac... brochure showing uk expertise in land remediati...  NaN   \n",
      "00037ee5-7b5e-452d-a233-af2c134f5bce steps 2 success:ni statistics from october 2014... steps 2 success:ni statistics from october 2014... details on the number of referrals and starts o...  NaN   \n",
      "0004c63d-ae16-432a-bb35-c0f949b1e27c student support applications for higher educati... student support applications for higher educati... data includes the number of applications receiv...  NaN   \n",
      "0005ac76-50fe-42f1-8168-8b6fc046e40f advice for building owners: large-scale wall sy... advice for building owners: large-scale wall sy... advice for building owners on the large-scale w...  NaN   \n",
      "\n",
      "level2taxon_code                                                                                                                                                                               204  \\\n",
      "content_id                           combined_text                                      title                                              description                                               \n",
      "00029fa4-9b60-4285-898c-85ae8a6367f5 emma jones - small business crown representativ... emma jones - small business crown representative   as small business crown representative emma is ...  NaN   \n",
      "00037b70-5b08-44c2-bf0a-fa8eb636a60b land remediation: bringing brownfield sites bac... land remediation: bringing brownfield sites bac... brochure showing uk expertise in land remediati...  NaN   \n",
      "00037ee5-7b5e-452d-a233-af2c134f5bce steps 2 success:ni statistics from october 2014... steps 2 success:ni statistics from october 2014... details on the number of referrals and starts o...  NaN   \n",
      "0004c63d-ae16-432a-bb35-c0f949b1e27c student support applications for higher educati... student support applications for higher educati... data includes the number of applications receiv...  NaN   \n",
      "0005ac76-50fe-42f1-8168-8b6fc046e40f advice for building owners: large-scale wall sy... advice for building owners: large-scale wall sy... advice for building owners on the large-scale w...  NaN   \n",
      "\n",
      "level2taxon_code                                                                                                                                                                               205  \\\n",
      "content_id                           combined_text                                      title                                              description                                               \n",
      "00029fa4-9b60-4285-898c-85ae8a6367f5 emma jones - small business crown representativ... emma jones - small business crown representative   as small business crown representative emma is ...  NaN   \n",
      "00037b70-5b08-44c2-bf0a-fa8eb636a60b land remediation: bringing brownfield sites bac... land remediation: bringing brownfield sites bac... brochure showing uk expertise in land remediati...  NaN   \n",
      "00037ee5-7b5e-452d-a233-af2c134f5bce steps 2 success:ni statistics from october 2014... steps 2 success:ni statistics from october 2014... details on the number of referrals and starts o...  NaN   \n",
      "0004c63d-ae16-432a-bb35-c0f949b1e27c student support applications for higher educati... student support applications for higher educati... data includes the number of applications receiv...  NaN   \n",
      "0005ac76-50fe-42f1-8168-8b6fc046e40f advice for building owners: large-scale wall sy... advice for building owners: large-scale wall sy... advice for building owners on the large-scale w...  NaN   \n",
      "\n",
      "level2taxon_code                                                                                                                                                                               206  \\\n",
      "content_id                           combined_text                                      title                                              description                                               \n",
      "00029fa4-9b60-4285-898c-85ae8a6367f5 emma jones - small business crown representativ... emma jones - small business crown representative   as small business crown representative emma is ...  NaN   \n",
      "00037b70-5b08-44c2-bf0a-fa8eb636a60b land remediation: bringing brownfield sites bac... land remediation: bringing brownfield sites bac... brochure showing uk expertise in land remediati...  NaN   \n",
      "00037ee5-7b5e-452d-a233-af2c134f5bce steps 2 success:ni statistics from october 2014... steps 2 success:ni statistics from october 2014... details on the number of referrals and starts o...  NaN   \n",
      "0004c63d-ae16-432a-bb35-c0f949b1e27c student support applications for higher educati... student support applications for higher educati... data includes the number of applications receiv...  NaN   \n",
      "0005ac76-50fe-42f1-8168-8b6fc046e40f advice for building owners: large-scale wall sy... advice for building owners: large-scale wall sy... advice for building owners on the large-scale w...  NaN   \n",
      "\n",
      "level2taxon_code                                                                                                                                                                               207  \\\n",
      "content_id                           combined_text                                      title                                              description                                               \n",
      "00029fa4-9b60-4285-898c-85ae8a6367f5 emma jones - small business crown representativ... emma jones - small business crown representative   as small business crown representative emma is ...  NaN   \n",
      "00037b70-5b08-44c2-bf0a-fa8eb636a60b land remediation: bringing brownfield sites bac... land remediation: bringing brownfield sites bac... brochure showing uk expertise in land remediati...  NaN   \n",
      "00037ee5-7b5e-452d-a233-af2c134f5bce steps 2 success:ni statistics from october 2014... steps 2 success:ni statistics from october 2014... details on the number of referrals and starts o...  NaN   \n",
      "0004c63d-ae16-432a-bb35-c0f949b1e27c student support applications for higher educati... student support applications for higher educati... data includes the number of applications receiv...  NaN   \n",
      "0005ac76-50fe-42f1-8168-8b6fc046e40f advice for building owners: large-scale wall sy... advice for building owners: large-scale wall sy... advice for building owners on the large-scale w...  NaN   \n",
      "\n",
      "level2taxon_code                                                                                                                                                                               208  \\\n",
      "content_id                           combined_text                                      title                                              description                                               \n",
      "00029fa4-9b60-4285-898c-85ae8a6367f5 emma jones - small business crown representativ... emma jones - small business crown representative   as small business crown representative emma is ...  NaN   \n",
      "00037b70-5b08-44c2-bf0a-fa8eb636a60b land remediation: bringing brownfield sites bac... land remediation: bringing brownfield sites bac... brochure showing uk expertise in land remediati...  NaN   \n",
      "00037ee5-7b5e-452d-a233-af2c134f5bce steps 2 success:ni statistics from october 2014... steps 2 success:ni statistics from october 2014... details on the number of referrals and starts o...  NaN   \n",
      "0004c63d-ae16-432a-bb35-c0f949b1e27c student support applications for higher educati... student support applications for higher educati... data includes the number of applications receiv...  NaN   \n",
      "0005ac76-50fe-42f1-8168-8b6fc046e40f advice for building owners: large-scale wall sy... advice for building owners: large-scale wall sy... advice for building owners on the large-scale w...  NaN   \n",
      "\n",
      "level2taxon_code                                                                                                                                                                               209  \\\n",
      "content_id                           combined_text                                      title                                              description                                               \n",
      "00029fa4-9b60-4285-898c-85ae8a6367f5 emma jones - small business crown representativ... emma jones - small business crown representative   as small business crown representative emma is ...  NaN   \n",
      "00037b70-5b08-44c2-bf0a-fa8eb636a60b land remediation: bringing brownfield sites bac... land remediation: bringing brownfield sites bac... brochure showing uk expertise in land remediati...  NaN   \n",
      "00037ee5-7b5e-452d-a233-af2c134f5bce steps 2 success:ni statistics from october 2014... steps 2 success:ni statistics from october 2014... details on the number of referrals and starts o...  NaN   \n",
      "0004c63d-ae16-432a-bb35-c0f949b1e27c student support applications for higher educati... student support applications for higher educati... data includes the number of applications receiv...  NaN   \n",
      "0005ac76-50fe-42f1-8168-8b6fc046e40f advice for building owners: large-scale wall sy... advice for building owners: large-scale wall sy... advice for building owners on the large-scale w...  NaN   \n",
      "\n",
      "level2taxon_code                                                                                                                                                                               210  \n",
      "content_id                           combined_text                                      title                                              description                                              \n",
      "00029fa4-9b60-4285-898c-85ae8a6367f5 emma jones - small business crown representativ... emma jones - small business crown representative   as small business crown representative emma is ...  NaN  \n",
      "00037b70-5b08-44c2-bf0a-fa8eb636a60b land remediation: bringing brownfield sites bac... land remediation: bringing brownfield sites bac... brochure showing uk expertise in land remediati...  NaN  \n",
      "00037ee5-7b5e-452d-a233-af2c134f5bce steps 2 success:ni statistics from october 2014... steps 2 success:ni statistics from october 2014... details on the number of referrals and starts o...  NaN  \n",
      "0004c63d-ae16-432a-bb35-c0f949b1e27c student support applications for higher educati... student support applications for higher educati... data includes the number of applications receiv...  NaN  \n",
      "0005ac76-50fe-42f1-8168-8b6fc046e40f advice for building owners: large-scale wall sy... advice for building owners: large-scale wall sy... advice for building owners on the large-scale w...  NaN  \n",
      "\n",
      "[5 rows x 210 columns]\n"
     ]
    }
   ],
   "source": [
    "#reshape to wide per taxon and keep the combined text so indexing is consistent when splitting X from Y\n",
    "\n",
    "multilabel = (level2_reduced.pivot_table(index=['content_id', 'combined_text', 'title', 'description' ], \n",
    "                  columns='level2taxon_code', \n",
    "                  values='num_taxon_per_content'))\n",
    "print('level2reduced shape: {}'.format(level2_reduced.shape))\n",
    "print('pivot table shape (no duplicates): {} '.format(multilabel.shape))\n",
    "print(multilabel.head())"
   ]
  },
  {
   "cell_type": "code",
   "execution_count": 17,
   "metadata": {},
   "outputs": [],
   "source": [
    "#THIS IS WHY INDEXING IS NOT ZERO-BASED\n",
    "#convert the number_of_taxons_per_content values to 1, meaning there was an entry for this taxon and this content_id, 0 otherwise\n",
    "binary_multilabel = multilabel.notnull().astype('int')"
   ]
  },
  {
   "cell_type": "code",
   "execution_count": 18,
   "metadata": {},
   "outputs": [
    {
     "name": "stdout",
     "output_type": "stream",
     "text": [
      "Shape of Y multilabel array before train/val/test split:(114048, 210)\n"
     ]
    }
   ],
   "source": [
    "#will convert columns to an array of shape\n",
    "print('Shape of Y multilabel array before train/val/test split:{}'.format(binary_multilabel[list(binary_multilabel.columns)].values.shape))"
   ]
  },
  {
   "cell_type": "code",
   "execution_count": 19,
   "metadata": {},
   "outputs": [
    {
     "name": "stdout",
     "output_type": "stream",
     "text": [
      "Example row of multilabel array [0 0 0 0 0 0 0 0 0 0 0 0 0 0 0 0 0 0 0 0 0 0 0 0 0 0 0 0 0 0 0 0 0 0 0 0 0\n",
      " 0 0 0 0 0 0 0 0 0 0 0 0 0 0 0 0 0 0 0 0 0 0 0 0 0 0 0 0 0 0 0 0 0 0 0 0 0\n",
      " 0 0 0 0 0 0 0 0 0 0 0 0 0 0 0 0 0 0 0 0 0 0 0 0 0 0 0 0 0 0 0 0 0 0 0 0 0\n",
      " 0 0 0 0 0 0 0 0 0 0 0 0 0 0 0 0 0 0 0 0 1 0 0 0 0 0 0 0 0 0 0 0 0 0 0 0 0\n",
      " 0 0 0 0 0 0 0 0 0 0 0 0 0 0 0 0 0 0 0 0 0 0 0 0 0 0 0 0 0 0 0 0 0 0 0 0 0\n",
      " 0 0 0 0 0 0 0 0 0 0 0 0 0 0 0 0 0 0 0 0 0 0 0 0 0]\n"
     ]
    }
   ],
   "source": [
    "#convert columns to an array. Each row represents a content item, each column an individual taxon\n",
    "binary_multilabel = binary_multilabel[list(binary_multilabel.columns)].values\n",
    "print('Example row of multilabel array {}'.format(binary_multilabel[2]))"
   ]
  },
  {
   "cell_type": "code",
   "execution_count": 20,
   "metadata": {},
   "outputs": [
    {
     "data": {
      "text/plain": [
       "numpy.ndarray"
      ]
     },
     "execution_count": 20,
     "metadata": {},
     "output_type": "execute_result"
    }
   ],
   "source": [
    "type(binary_multilabel)"
   ]
  },
  {
   "cell_type": "markdown",
   "metadata": {},
   "source": [
    "### Format metadata/X"
   ]
  },
  {
   "cell_type": "code",
   "execution_count": 21,
   "metadata": {},
   "outputs": [
    {
     "data": {
      "text/plain": [
       "114048"
      ]
     },
     "execution_count": 21,
     "metadata": {},
     "output_type": "execute_result"
    }
   ],
   "source": [
    "# THESE DICTS NEED TO BE CREATED IN ALL DATA, OR DOC TYPES NOT PRESENT IN TRAINING MUST BE DELETED FROM NEW\n",
    "#create dictionary of document type to content_id\n",
    "doctype_dict = dict(zip(labelled_level2['content_id'], labelled_level2['document_type']))\n",
    "frstpub_dict = dict(zip(labelled_level2['content_id'], labelled_level2['first_published_at']))\n",
    "pubapp_dict = dict(zip(labelled_level2['content_id'], labelled_level2['publishing_app']))\n",
    "puborg_dict = dict(zip(labelled_level2['content_id'], labelled_level2['primary_publishing_organisation']))\n",
    "len(doctype_dict)"
   ]
  },
  {
   "cell_type": "code",
   "execution_count": 22,
   "metadata": {},
   "outputs": [
    {
     "name": "stdout",
     "output_type": "stream",
     "text": [
      "['content_id', 'combined_text', 'title', 'description']\n",
      "Int64Index([  1,   2,   3,   4,   5,   6,   7,   8,   9,  10,\n",
      "            ...\n",
      "            201, 202, 203, 204, 205, 206, 207, 208, 209, 210],\n",
      "           dtype='int64', name='level2taxon_code', length=210)\n"
     ]
    }
   ],
   "source": [
    "#the pivot table has two indices\n",
    "print(multilabel.index.names)\n",
    "print(multilabel.columns)\n",
    "#print(multilabel.head())"
   ]
  },
  {
   "cell_type": "code",
   "execution_count": 23,
   "metadata": {},
   "outputs": [],
   "source": [
    "#extract content_id index to df\n",
    "meta1 = pd.DataFrame(multilabel.index.get_level_values('content_id'))"
   ]
  },
  {
   "cell_type": "code",
   "execution_count": 24,
   "metadata": {},
   "outputs": [
    {
     "data": {
      "text/html": [
       "<div>\n",
       "<style scoped>\n",
       "    .dataframe tbody tr th:only-of-type {\n",
       "        vertical-align: middle;\n",
       "    }\n",
       "\n",
       "    .dataframe tbody tr th {\n",
       "        vertical-align: top;\n",
       "    }\n",
       "\n",
       "    .dataframe thead th {\n",
       "        text-align: right;\n",
       "    }\n",
       "</style>\n",
       "<table border=\"1\" class=\"dataframe\">\n",
       "  <thead>\n",
       "    <tr style=\"text-align: right;\">\n",
       "      <th></th>\n",
       "      <th>content_id</th>\n",
       "      <th>doctype</th>\n",
       "      <th>first_published_at</th>\n",
       "      <th>pub_app</th>\n",
       "      <th>prim_pub_org</th>\n",
       "    </tr>\n",
       "  </thead>\n",
       "  <tbody>\n",
       "    <tr>\n",
       "      <th>0</th>\n",
       "      <td>00029fa4-9b60-4285-898c-85ae8a6367f5</td>\n",
       "      <td>document_collection</td>\n",
       "      <td>2017-01-11T10:18:00.000+00:00</td>\n",
       "      <td>whitehall</td>\n",
       "      <td>{'title': 'Crown Commercial Service'}</td>\n",
       "    </tr>\n",
       "    <tr>\n",
       "      <th>1</th>\n",
       "      <td>00037b70-5b08-44c2-bf0a-fa8eb636a60b</td>\n",
       "      <td>promotional</td>\n",
       "      <td>2015-05-11T10:41:00.000+00:00</td>\n",
       "      <td>whitehall</td>\n",
       "      <td>{'title': 'Department for International Trade'}</td>\n",
       "    </tr>\n",
       "    <tr>\n",
       "      <th>2</th>\n",
       "      <td>00037ee5-7b5e-452d-a233-af2c134f5bce</td>\n",
       "      <td>official_statistics</td>\n",
       "      <td>2016-11-24T09:30:13.000+00:00</td>\n",
       "      <td>whitehall</td>\n",
       "      <td>{'title': 'Department for Communities (Norther...</td>\n",
       "    </tr>\n",
       "    <tr>\n",
       "      <th>3</th>\n",
       "      <td>0004c63d-ae16-432a-bb35-c0f949b1e27c</td>\n",
       "      <td>official_statistics</td>\n",
       "      <td>2016-10-20T08:30:09.000+00:00</td>\n",
       "      <td>whitehall</td>\n",
       "      <td>{'title': 'Welsh Government'}</td>\n",
       "    </tr>\n",
       "    <tr>\n",
       "      <th>4</th>\n",
       "      <td>0005ac76-50fe-42f1-8168-8b6fc046e40f</td>\n",
       "      <td>guidance</td>\n",
       "      <td>2017-08-02T17:29:00.000+00:00</td>\n",
       "      <td>whitehall</td>\n",
       "      <td>{'title': 'Department for Communities and Loca...</td>\n",
       "    </tr>\n",
       "  </tbody>\n",
       "</table>\n",
       "</div>"
      ],
      "text/plain": [
       "                             content_id              doctype  \\\n",
       "0  00029fa4-9b60-4285-898c-85ae8a6367f5  document_collection   \n",
       "1  00037b70-5b08-44c2-bf0a-fa8eb636a60b          promotional   \n",
       "2  00037ee5-7b5e-452d-a233-af2c134f5bce  official_statistics   \n",
       "3  0004c63d-ae16-432a-bb35-c0f949b1e27c  official_statistics   \n",
       "4  0005ac76-50fe-42f1-8168-8b6fc046e40f             guidance   \n",
       "\n",
       "              first_published_at    pub_app  \\\n",
       "0  2017-01-11T10:18:00.000+00:00  whitehall   \n",
       "1  2015-05-11T10:41:00.000+00:00  whitehall   \n",
       "2  2016-11-24T09:30:13.000+00:00  whitehall   \n",
       "3  2016-10-20T08:30:09.000+00:00  whitehall   \n",
       "4  2017-08-02T17:29:00.000+00:00  whitehall   \n",
       "\n",
       "                                        prim_pub_org  \n",
       "0              {'title': 'Crown Commercial Service'}  \n",
       "1    {'title': 'Department for International Trade'}  \n",
       "2  {'title': 'Department for Communities (Norther...  \n",
       "3                      {'title': 'Welsh Government'}  \n",
       "4  {'title': 'Department for Communities and Loca...  "
      ]
     },
     "execution_count": 24,
     "metadata": {},
     "output_type": "execute_result"
    }
   ],
   "source": [
    "#apply meta data to content\n",
    "meta1['doctype'] = meta1['content_id'].map(doctype_dict).copy()\n",
    "meta1['first_published_at'] = meta1['content_id'].map(frstpub_dict).copy()\n",
    "meta1['pub_app'] = meta1['content_id'].map(pubapp_dict).copy()\n",
    "meta1['prim_pub_org'] = meta1['content_id'].map(puborg_dict).copy()\n",
    "\n",
    "meta1 = meta1.replace(np.nan, '', regex=True) #conver nans to empty strings for labelencoder types\n",
    "meta1.head()"
   ]
  },
  {
   "cell_type": "code",
   "execution_count": 25,
   "metadata": {},
   "outputs": [],
   "source": [
    "#encode strings as integers\n",
    "#doctype\n",
    "doctype_encoder = LabelEncoder()\n",
    "meta1['doctype_cat'] = doctype_encoder.fit_transform(meta1['doctype']) #fit the label encoder on all data then transform on individual data sets\n",
    "\n",
    "# print(len(meta1['doctype_cat'].unique()))\n",
    "# print(meta1['doctype_cat'].unique())\n",
    "\n",
    "# primary publishing org\n",
    "pub_org_encoder = LabelEncoder()\n",
    "meta1['prim_pub_org_cat'] = doctype_encoder.fit_transform(meta1['prim_pub_org']) \n",
    "\n",
    "# print(len(meta1['prim_pub_org_cat'].unique()))\n",
    "# print(meta1['prim_pub_org_cat'].unique())\n",
    "\n",
    "#publishing application\n",
    "\n",
    "pub_app_encoder = LabelEncoder()\n",
    "meta1['pub_app_cat'] = doctype_encoder.fit_transform(meta1['pub_app'])\n",
    "\n",
    "# print(len(meta1['pub_app_cat'].unique()))\n",
    "# print(meta1['pub_app_cat'].unique())"
   ]
  },
  {
   "cell_type": "code",
   "execution_count": 26,
   "metadata": {},
   "outputs": [
    {
     "name": "stdout",
     "output_type": "stream",
     "text": [
      "(114048, 58)\n",
      "(114048, 382)\n",
      "(114048, 9)\n"
     ]
    },
    {
     "data": {
      "text/plain": [
       "numpy.ndarray"
      ]
     },
     "execution_count": 26,
     "metadata": {},
     "output_type": "execute_result"
    }
   ],
   "source": [
    "#one hot encode integers\n",
    "encoded_doctype = to_categorical(meta1['doctype_cat'])\n",
    "print(encoded_doctype.shape)\n",
    "\n",
    "encoded_prim_pub_org = to_categorical(meta1['prim_pub_org_cat'])\n",
    "print(encoded_prim_pub_org.shape)\n",
    "\n",
    "encoded_pub_app = to_categorical(meta1['pub_app_cat'])\n",
    "print(encoded_pub_app.shape)\n",
    "type(encoded_pub_app)"
   ]
  },
  {
   "cell_type": "code",
   "execution_count": 27,
   "metadata": {},
   "outputs": [
    {
     "name": "stdout",
     "output_type": "stream",
     "text": [
      "(114048,)\n",
      "datetime64[ns]\n",
      "0\n",
      "(114048, 1)\n"
     ]
    },
    {
     "data": {
      "text/plain": [
       "numpy.ndarray"
      ]
     },
     "execution_count": 27,
     "metadata": {},
     "output_type": "execute_result"
    }
   ],
   "source": [
    "meta1['first_published_at'] = pd.to_datetime(meta1['first_published_at']) \n",
    "\n",
    "# print(meta['first_published_at'][0].Timestamp())\n",
    "# for index, row in meta.iterrows():\n",
    "#     row['first_published_at_ts'] = row['first_published_at'].timestamp()\n",
    "#     print(row['first_published_at_ts'])\n",
    "\n",
    "print(meta1['first_published_at'].shape)\n",
    "\n",
    "first_published = np.array(meta1['first_published_at']).reshape(meta1['first_published_at'].shape[0], 1).copy()\n",
    "\n",
    "print(first_published.dtype)\n",
    "print(np.argmax(first_published.argmax))\n",
    "#scale first published at to 0 and 1\n",
    "print(first_published.shape)\n",
    "type(first_published)"
   ]
  },
  {
   "cell_type": "code",
   "execution_count": 28,
   "metadata": {},
   "outputs": [
    {
     "name": "stdout",
     "output_type": "stream",
     "text": [
      "(114048, 449)\n",
      "449\n",
      "(114048, 449)\n"
     ]
    }
   ],
   "source": [
    "\n",
    "meta = np.concatenate((encoded_doctype, \n",
    "                           encoded_prim_pub_org, \n",
    "                           encoded_pub_app), #error when adding date...\n",
    "                          axis=1)\n",
    "\n",
    "print(meta.shape)\n",
    "nb_metavars = meta.shape[1]\n",
    "print(nb_metavars)\n",
    "print(meta.shape)"
   ]
  },
  {
   "cell_type": "markdown",
   "metadata": {},
   "source": [
    "### Create combined_text data/X"
   ]
  },
  {
   "cell_type": "markdown",
   "metadata": {},
   "source": [
    "format our text samples and labels into tensors that can be fed into a neural network. To do this, we will rely on Keras utilities keras.preprocessing.text.Tokenizer and keras.preprocessing.sequence.pad_sequences."
   ]
  },
  {
   "cell_type": "code",
   "execution_count": 29,
   "metadata": {},
   "outputs": [
    {
     "data": {
      "text/plain": [
       "FrozenList(['content_id', 'combined_text', 'title', 'description'])"
      ]
     },
     "execution_count": 29,
     "metadata": {},
     "output_type": "execute_result"
    }
   ],
   "source": [
    "#the pivot table has two indices\n",
    "multilabel.index.names"
   ]
  },
  {
   "cell_type": "code",
   "execution_count": 30,
   "metadata": {},
   "outputs": [
    {
     "data": {
      "text/plain": [
       "(114048,)"
      ]
     },
     "execution_count": 30,
     "metadata": {},
     "output_type": "execute_result"
    }
   ],
   "source": [
    "#extract combined text index to array\n",
    "texts = multilabel.index.get_level_values('combined_text')\n",
    "texts.shape"
   ]
  },
  {
   "cell_type": "markdown",
   "metadata": {},
   "source": [
    "### Preprocess title data"
   ]
  },
  {
   "cell_type": "code",
   "execution_count": 31,
   "metadata": {},
   "outputs": [
    {
     "data": {
      "text/plain": [
       "(114048,)"
      ]
     },
     "execution_count": 31,
     "metadata": {},
     "output_type": "execute_result"
    }
   ],
   "source": [
    "titles = multilabel.index.get_level_values('title')\n",
    "titles.shape"
   ]
  },
  {
   "cell_type": "markdown",
   "metadata": {},
   "source": [
    "### Preprocess description data"
   ]
  },
  {
   "cell_type": "code",
   "execution_count": 32,
   "metadata": {},
   "outputs": [
    {
     "data": {
      "text/plain": [
       "(114048,)"
      ]
     },
     "execution_count": 32,
     "metadata": {},
     "output_type": "execute_result"
    }
   ],
   "source": [
    "descs = multilabel.index.get_level_values('description')\n",
    "descs.shape"
   ]
  },
  {
   "cell_type": "markdown",
   "metadata": {},
   "source": [
    "### Tokenize combined text"
   ]
  },
  {
   "cell_type": "markdown",
   "metadata": {},
   "source": [
    "Tokenizer = Class for vectorizing texts, or/and turning texts into sequences (=list of word indexes, where the word of rank i in the dataset (starting at 1) has index i)"
   ]
  },
  {
   "cell_type": "code",
   "execution_count": 33,
   "metadata": {},
   "outputs": [
    {
     "name": "stdout",
     "output_type": "stream",
     "text": [
      "Found 213132 unique tokens.\n"
     ]
    }
   ],
   "source": [
    "# Bag of words method\n",
    "tokenizer = Tokenizer(num_words=NUM_WORDS) #num_words: None or int. Maximum number of words to work with \n",
    "# (if set, tokenization will be restricted to the top num_words most common words in the dataset).\n",
    "\n",
    "# apply tokenizer to our text data\n",
    "tokenizer.fit_on_texts(texts)\n",
    "\n",
    "# list of word indexes, where the word of rank i in the dataset (starting at 1) has index i\n",
    "sequences = tokenizer.texts_to_sequences(texts) #yield one sequence per input text\n",
    "\n",
    "# dictionary mapping words (str) to their rank/index (int).\n",
    "word_index = tokenizer.word_index  # Only set after fit_on_texts was called.\n",
    "print('Found %s unique tokens.' % len(word_index))\n",
    "\n",
    "data = pad_sequences(sequences, maxlen= MAX_SEQUENCE_LENGTH) #MAX_SEQUENCE_LENGTH"
   ]
  },
  {
   "cell_type": "code",
   "execution_count": 34,
   "metadata": {},
   "outputs": [
    {
     "name": "stdout",
     "output_type": "stream",
     "text": [
      "Shape of label tensor: (114048, 210)\n",
      "Shape of data tensor: (114048, 1000)\n"
     ]
    }
   ],
   "source": [
    "print('Shape of label tensor:', binary_multilabel.shape)\n",
    "print('Shape of data tensor:', data.shape)"
   ]
  },
  {
   "cell_type": "markdown",
   "metadata": {},
   "source": [
    "### Tokenize title text"
   ]
  },
  {
   "cell_type": "code",
   "execution_count": 35,
   "metadata": {},
   "outputs": [],
   "source": [
    "# Bag of words method\n",
    "tokenizer_tit = Tokenizer(num_words=10000) #num_words: None or int. Maximum number of words to work with \n",
    "# (if set, tokenization will be restricted to the top num_words most common words in the dataset).\n",
    "\n",
    "# apply tokenizer to our text data\n",
    "tokenizer_tit.fit_on_texts(titles)\n",
    "\n",
    "# list of word indexes, where the word of rank i in the dataset (starting at 1) has index i\n",
    "sequences_tit = tokenizer_tit.texts_to_sequences(titles) #yield one sequence per input text"
   ]
  },
  {
   "cell_type": "code",
   "execution_count": 36,
   "metadata": {},
   "outputs": [],
   "source": [
    "onehot_tit = tokenizer_tit.sequences_to_matrix(sequences_tit) #yield one sequence per input text\n",
    "\n",
    "# dictionary mapping words (str) to their rank/index (int).\n",
    "word_index_tit = tokenizer_tit.word_index  # Only set after fit_on_texts was called.\n",
    "\n",
    "#NOTE THERE ARE LOTS OF NUMBERS IN HERE THAT SHOULD BE STRIPPED?\n",
    "\n",
    "# print('Found %s unique tokens.' % len(word_index_tit))\n",
    "\n",
    "# title_data = pad_sequences(sequences_tit, maxlen= 50) #mean/median=8 max = 47"
   ]
  },
  {
   "cell_type": "code",
   "execution_count": 37,
   "metadata": {},
   "outputs": [
    {
     "data": {
      "text/plain": [
       "(114048, 10000)"
      ]
     },
     "execution_count": 37,
     "metadata": {},
     "output_type": "execute_result"
    }
   ],
   "source": [
    "onehot_tit.shape"
   ]
  },
  {
   "cell_type": "code",
   "execution_count": 38,
   "metadata": {},
   "outputs": [
    {
     "data": {
      "text/plain": [
       "[('and', 26207),\n",
       " ('to', 25654),\n",
       " ('of', 22827),\n",
       " ('the', 20662),\n",
       " ('for', 19100),\n",
       " ('in', 14539),\n",
       " ('on', 9261),\n",
       " ('uk', 7883),\n",
       " ('2015', 6141),\n",
       " ('a', 5652),\n",
       " ('2016', 5504),\n",
       " ('2014', 5424),\n",
       " ('new', 4576),\n",
       " ('report', 3955),\n",
       " ('government', 3824),\n",
       " ('2017', 3745),\n",
       " ('2013', 3297),\n",
       " ('statistics', 2918),\n",
       " ('from', 2866),\n",
       " ('england', 2798),\n",
       " ('at', 2761),\n",
       " ('data', 2674),\n",
       " ('with', 2631),\n",
       " ('by', 2419),\n",
       " ('information', 2412),\n",
       " ('business', 2333),\n",
       " ('review', 2328),\n",
       " ('national', 2301),\n",
       " ('secretary', 2176),\n",
       " ('health', 2148),\n",
       " ('local', 2139),\n",
       " ('statement', 2134),\n",
       " ('tax', 2096),\n",
       " ('minister', 2069),\n",
       " ('march', 2010),\n",
       " ('2012', 1993),\n",
       " ('british', 1958),\n",
       " ('guidance', 1913),\n",
       " ('services', 1891),\n",
       " ('notice', 1820),\n",
       " ('foreign', 1817),\n",
       " ('energy', 1797),\n",
       " ('june', 1722),\n",
       " ('public', 1696),\n",
       " ('assessment', 1678),\n",
       " ('service', 1672),\n",
       " ('july', 1667),\n",
       " ('scheme', 1649),\n",
       " ('office', 1633),\n",
       " ('2011', 1633),\n",
       " ('over', 1630),\n",
       " ('september', 1592),\n",
       " ('april', 1591),\n",
       " ('release', 1570),\n",
       " ('management', 1528),\n",
       " ('support', 1501),\n",
       " ('december', 1468),\n",
       " ('foi', 1462),\n",
       " ('1', 1444),\n",
       " ('wales', 1435),\n",
       " ('trade', 1429),\n",
       " ('january', 1376),\n",
       " ('response', 1363),\n",
       " ('october', 1352),\n",
       " ('funding', 1340),\n",
       " ('research', 1306),\n",
       " ('–', 1301),\n",
       " ('programme', 1299),\n",
       " ('as', 1278),\n",
       " ('nhs', 1274),\n",
       " ('school', 1273),\n",
       " ('speech', 1264),\n",
       " ('plan', 1263),\n",
       " ('million', 1261),\n",
       " ('2010', 1247),\n",
       " ('year', 1238),\n",
       " ('survey', 1221),\n",
       " ('international', 1188),\n",
       " ('council', 1165),\n",
       " ('annual', 1159),\n",
       " ('northern', 1147),\n",
       " ('fund', 1129),\n",
       " ('care', 1098),\n",
       " ('social', 1081),\n",
       " ('2', 1078),\n",
       " ('education', 1075),\n",
       " ('financial', 1073),\n",
       " ('update', 1063),\n",
       " ('000', 1050),\n",
       " ('ireland', 1049),\n",
       " ('help', 1048),\n",
       " ('an', 1045),\n",
       " ('consultation', 1044),\n",
       " ('regulations', 1033),\n",
       " ('dfid', 1022),\n",
       " ('impact', 1021),\n",
       " ('investment', 1017),\n",
       " ('policy', 1013),\n",
       " ('or', 1004),\n",
       " ('land', 1001),\n",
       " ('your', 1000),\n",
       " ('company', 988),\n",
       " ('future', 977),\n",
       " ('guide', 960),\n",
       " ('spend', 956),\n",
       " ('change', 955),\n",
       " ('decision', 953),\n",
       " ('schools', 949),\n",
       " ('housing', 949),\n",
       " ('security', 941),\n",
       " ('road', 939),\n",
       " ('eu', 935),\n",
       " ('risk', 931),\n",
       " ('travel', 928),\n",
       " ('first', 925),\n",
       " ('how', 922),\n",
       " ('sector', 921),\n",
       " ('special', 913),\n",
       " ('development', 907),\n",
       " ('act', 907),\n",
       " ('people', 907),\n",
       " ('may', 904),\n",
       " ('strategy', 901),\n",
       " ('rights', 896),\n",
       " ('pension', 889),\n",
       " ('application', 887),\n",
       " ('conference', 884),\n",
       " ('non', 881),\n",
       " ('hs2', 875),\n",
       " ('advice', 867),\n",
       " ('work', 866),\n",
       " ('press', 863),\n",
       " ('london', 860),\n",
       " ('prime', 859),\n",
       " ('list', 850),\n",
       " ('authority', 845),\n",
       " ('high', 844),\n",
       " ('spending', 841),\n",
       " ('community', 836),\n",
       " ('up', 831),\n",
       " ('use', 829),\n",
       " ('boost', 822),\n",
       " ('environmental', 819),\n",
       " ('planning', 817),\n",
       " ('export', 815),\n",
       " ('economic', 814),\n",
       " ('home', 801),\n",
       " ('open', 800),\n",
       " ('panel', 792),\n",
       " ('state', 788),\n",
       " ('changes', 786),\n",
       " ('teacher', 785),\n",
       " ('november', 782),\n",
       " ('form', 781),\n",
       " ('outcome', 773),\n",
       " ('duty', 767),\n",
       " ('market', 766),\n",
       " ('letter', 762),\n",
       " ('rail', 750),\n",
       " ('reform', 748),\n",
       " ('growth', 748),\n",
       " ('index', 747),\n",
       " ('great', 745),\n",
       " ('action', 743),\n",
       " ('east', 740),\n",
       " ('be', 732),\n",
       " ('meetings', 732),\n",
       " ('south', 728),\n",
       " ('committee', 726),\n",
       " ('visits', 723),\n",
       " ('britain', 721),\n",
       " ('flood', 716),\n",
       " ('practice', 713),\n",
       " ('transport', 712),\n",
       " ('framework', 703),\n",
       " ('schemes', 703),\n",
       " ('february', 702),\n",
       " ('is', 702),\n",
       " ('quarterly', 700),\n",
       " ('day', 700),\n",
       " ('commission', 699),\n",
       " ('more', 697),\n",
       " ('tariff', 696),\n",
       " ('ending', 691),\n",
       " ('scotland', 688),\n",
       " ('3', 684),\n",
       " ('safety', 677),\n",
       " ('evaluation', 676),\n",
       " ('climate', 674),\n",
       " ('innovation', 669),\n",
       " ('apply', 668),\n",
       " ('call', 665),\n",
       " ('agreement', 662),\n",
       " ('£25', 661),\n",
       " ('code', 659),\n",
       " ('system', 655),\n",
       " ('west', 655),\n",
       " ('16', 655),\n",
       " ('pm', 653),\n",
       " ('science', 653),\n",
       " ('meeting', 653),\n",
       " ('monthly', 652),\n",
       " ('bill', 650),\n",
       " ('pay', 650),\n",
       " ('plans', 650),\n",
       " ('training', 646),\n",
       " ('august', 645),\n",
       " ('ministerial', 643),\n",
       " ('north', 639),\n",
       " ('into', 638),\n",
       " ('trust', 636),\n",
       " ('reports', 634),\n",
       " ('about', 632),\n",
       " ('gas', 631),\n",
       " ('level', 631),\n",
       " ('customs', 631),\n",
       " ('access', 629),\n",
       " ('out', 627),\n",
       " ('project', 627),\n",
       " ('building', 626),\n",
       " ('companies', 623),\n",
       " ('human', 620),\n",
       " ('industry', 620),\n",
       " ('green', 620),\n",
       " ('food', 619),\n",
       " ('civil', 617),\n",
       " ('children', 617),\n",
       " ('world', 607),\n",
       " ('cma', 607),\n",
       " ('limited', 607),\n",
       " ('afghanistan', 606),\n",
       " ('welcomes', 605),\n",
       " ('paper', 603),\n",
       " ('misconduct', 601),\n",
       " ('european', 597),\n",
       " ('water', 596),\n",
       " ('2018', 595),\n",
       " ('police', 594),\n",
       " ('summary', 594),\n",
       " ('staff', 592),\n",
       " ('waste', 590),\n",
       " ('businesses', 589),\n",
       " ('vat', 588),\n",
       " ('defence', 585),\n",
       " ('child', 584),\n",
       " ('overseas', 584),\n",
       " ('partnership', 584),\n",
       " ('homes', 581),\n",
       " ('performance', 581),\n",
       " ('house', 579),\n",
       " ('general', 578),\n",
       " ('under', 576),\n",
       " ('draft', 576),\n",
       " ('appeal', 575),\n",
       " ('£500', 574),\n",
       " ('agency', 571),\n",
       " ('board', 571),\n",
       " ('anti', 568),\n",
       " ('5', 566),\n",
       " ('digital', 565),\n",
       " ('deal', 561),\n",
       " ('between', 561),\n",
       " ('final', 558),\n",
       " ('group', 558),\n",
       " ('skills', 549),\n",
       " ('department', 548),\n",
       " ('evidence', 548),\n",
       " ('screening', 547),\n",
       " ('10', 546),\n",
       " ('4', 545),\n",
       " ('licence', 542),\n",
       " ('women', 541),\n",
       " ('technical', 540),\n",
       " ('provisional', 538),\n",
       " ('royal', 536),\n",
       " ('procurement', 535),\n",
       " ('register', 531),\n",
       " ('phase', 529),\n",
       " ('competition', 529),\n",
       " ('global', 528),\n",
       " ('key', 527),\n",
       " ('hospitality', 526),\n",
       " ('31', 526),\n",
       " ('part', 524),\n",
       " ('working', 521),\n",
       " ('bulletin', 521),\n",
       " ('get', 519),\n",
       " ('payments', 516),\n",
       " ('apprenticeship', 514),\n",
       " ('quality', 514),\n",
       " ('briefing', 514),\n",
       " ('property', 512),\n",
       " ('progress', 511),\n",
       " ('projects', 510),\n",
       " ('technology', 509),\n",
       " ('against', 509),\n",
       " ('regulation', 508),\n",
       " ('standards', 508),\n",
       " ('standard', 501),\n",
       " ('fco', 498),\n",
       " ('analysis', 493),\n",
       " ('primary', 490),\n",
       " ('test', 488),\n",
       " ('will', 488),\n",
       " ('15', 487),\n",
       " ('investigation', 485),\n",
       " ('finance', 483),\n",
       " ('vehicle', 478),\n",
       " ('e', 472),\n",
       " ('area', 470),\n",
       " ('announced', 470),\n",
       " ('regulatory', 466),\n",
       " ('environment', 465),\n",
       " ('rules', 463),\n",
       " ('rates', 462),\n",
       " ('accounts', 462),\n",
       " ('workforce', 461),\n",
       " ('communities', 461),\n",
       " ('river', 461),\n",
       " ('aid', 461),\n",
       " ('request', 458),\n",
       " ('medical', 457),\n",
       " ('one', 457),\n",
       " ('results', 457),\n",
       " ('young', 456),\n",
       " ('time', 456),\n",
       " ('life', 455),\n",
       " ('free', 455),\n",
       " ('independent', 455),\n",
       " ('2009', 453),\n",
       " ('welsh', 450),\n",
       " ('employment', 448),\n",
       " ('network', 448),\n",
       " ('pack', 447),\n",
       " ('infrastructure', 447),\n",
       " ('case', 447),\n",
       " ('small', 445),\n",
       " ('protection', 445),\n",
       " ('number', 442),\n",
       " ('china', 437),\n",
       " ('fire', 436),\n",
       " ('visit', 436),\n",
       " ('air', 436),\n",
       " ('chief', 435),\n",
       " ('approved', 434),\n",
       " ('announces', 434),\n",
       " ('control', 434),\n",
       " ('forces', 433),\n",
       " ('goods', 433),\n",
       " ('licensing', 432),\n",
       " ('english', 431),\n",
       " ('centre', 431),\n",
       " ('price', 430),\n",
       " ('gifts', 429),\n",
       " ('study', 428),\n",
       " ('capital', 428),\n",
       " ('expenditure', 428),\n",
       " ('senior', 426),\n",
       " ('regional', 425),\n",
       " ('their', 421),\n",
       " ('mr', 421),\n",
       " ('further', 420),\n",
       " ('fuel', 420),\n",
       " ('years', 419),\n",
       " ('registration', 419),\n",
       " ('dft', 418),\n",
       " ('power', 417),\n",
       " ('measures', 417),\n",
       " ('violence', 416),\n",
       " ('applications', 415),\n",
       " ('30', 415),\n",
       " ('post', 415),\n",
       " ('recovered', 412),\n",
       " ('order', 410),\n",
       " ('payment', 408),\n",
       " ('week', 407),\n",
       " ('tribunal', 406),\n",
       " ('improving', 406),\n",
       " ('costs', 405),\n",
       " ('domestic', 405),\n",
       " ('joint', 405),\n",
       " ('ref', 403),\n",
       " ('our', 402),\n",
       " ('you', 402),\n",
       " ('marine', 401),\n",
       " ('major', 400),\n",
       " ('patent', 400),\n",
       " ('outcomes', 400),\n",
       " ('crime', 397),\n",
       " ('delivery', 397),\n",
       " ('published', 396),\n",
       " ('scottish', 394),\n",
       " ('return', 390),\n",
       " ('david', 390),\n",
       " ('self', 390),\n",
       " ('income', 390),\n",
       " ('issue', 389),\n",
       " ('statistical', 389),\n",
       " ('oil', 388),\n",
       " ('india', 388),\n",
       " ('event', 386),\n",
       " ('nuclear', 386),\n",
       " ('fees', 383),\n",
       " ('private', 383),\n",
       " ('17', 381),\n",
       " ('grant', 380),\n",
       " ('construction', 380),\n",
       " ('authorities', 380),\n",
       " ('inspire', 379),\n",
       " ('names', 377),\n",
       " ('embassy', 375),\n",
       " ('online', 373),\n",
       " ('charity', 373),\n",
       " ('registered', 373),\n",
       " ('economy', 372),\n",
       " ('appointed', 369),\n",
       " ('city', 368),\n",
       " ('carbon', 368),\n",
       " ('end', 368),\n",
       " ('sea', 367),\n",
       " ('law', 367),\n",
       " ('benefit', 365),\n",
       " ('proposals', 363),\n",
       " ('improve', 363),\n",
       " ('import', 363),\n",
       " ('stage', 361),\n",
       " ('africa', 360),\n",
       " ('operational', 357),\n",
       " ('launch', 356),\n",
       " ('farm', 355),\n",
       " ('6', 355),\n",
       " ('prices', 354),\n",
       " ('summit', 354),\n",
       " ('culture', 353),\n",
       " ('polygon', 351),\n",
       " ('strategic', 350),\n",
       " ('gcse', 350),\n",
       " ('14', 349),\n",
       " ('stop', 348),\n",
       " ('reporting', 348),\n",
       " ('monitoring', 348),\n",
       " ('legislation', 347),\n",
       " ('it', 347),\n",
       " ('cost', 346),\n",
       " ('contracts', 345),\n",
       " ('disease', 344),\n",
       " ('opportunities', 344),\n",
       " ('relief', 342),\n",
       " ('hmrc', 342),\n",
       " ('equality', 341),\n",
       " ('revenue', 340),\n",
       " ('treatment', 340),\n",
       " ('union', 340),\n",
       " ('lord', 339),\n",
       " ('united', 339),\n",
       " ('9', 339),\n",
       " ('times', 339),\n",
       " ('dumping', 339),\n",
       " ('expenses', 339),\n",
       " ('bis', 338),\n",
       " ('hm', 337),\n",
       " ('need', 337),\n",
       " ('budget', 336),\n",
       " ('organisations', 336),\n",
       " ('launches', 334),\n",
       " ('after', 334),\n",
       " ('11', 334),\n",
       " ('enterprise', 333),\n",
       " ('electricity', 332),\n",
       " ('director', 332),\n",
       " ('supply', 332),\n",
       " ('launched', 330),\n",
       " ('quarter', 330),\n",
       " ('mental', 329),\n",
       " ('set', 329),\n",
       " ('improvement', 329),\n",
       " ('note', 329),\n",
       " ('requirements', 328),\n",
       " ('low', 328),\n",
       " ('are', 327),\n",
       " ('powers', 327),\n",
       " ('better', 326),\n",
       " ('society', 326),\n",
       " ('healthcare', 324),\n",
       " ('12', 324),\n",
       " ('design', 323),\n",
       " ('contract', 321),\n",
       " ('awards', 320),\n",
       " ('testing', 318),\n",
       " ('learning', 316),\n",
       " ('7', 316),\n",
       " ('make', 316),\n",
       " ('insolvency', 315),\n",
       " ('rural', 315),\n",
       " ('13', 314),\n",
       " ('emergency', 314),\n",
       " ('insurance', 313),\n",
       " ('implementation', 313),\n",
       " ('products', 313),\n",
       " ('opinion', 312),\n",
       " ('country', 312),\n",
       " ('no', 312),\n",
       " ('trends', 310),\n",
       " ('traffic', 308),\n",
       " ('award', 308),\n",
       " ('inquiry', 306),\n",
       " ('consumer', 306),\n",
       " ('off', 306),\n",
       " ('card', 305),\n",
       " ('benefits', 305),\n",
       " ('that', 304),\n",
       " ('compliance', 304),\n",
       " ('smart', 304),\n",
       " ('animal', 303),\n",
       " ('supporting', 302),\n",
       " ('permit', 302),\n",
       " ('indicators', 302),\n",
       " ('role', 301),\n",
       " ('2008', 301),\n",
       " ('mgn', 301),\n",
       " ('than', 300),\n",
       " ('estimates', 298),\n",
       " ('deaths', 297),\n",
       " ('justice', 297),\n",
       " ('treasury', 297),\n",
       " ('deputy', 296),\n",
       " ('minutes', 296),\n",
       " ('coast', 295),\n",
       " ('transparency', 295),\n",
       " ('forms', 295),\n",
       " ('directors', 294),\n",
       " ('ltd', 294),\n",
       " ('foundation', 294),\n",
       " ('cabinet', 294),\n",
       " ('cancer', 294),\n",
       " ('8', 294),\n",
       " ('other', 294),\n",
       " ('enforcement', 293),\n",
       " ('greater', 292),\n",
       " ('areas', 292),\n",
       " ('official', 291),\n",
       " ('proposed', 291),\n",
       " ('conditions', 290),\n",
       " ('meets', 290),\n",
       " ('second', 289),\n",
       " ('maintenance', 289),\n",
       " ('jobs', 289),\n",
       " ('merger', 288),\n",
       " ('issued', 288),\n",
       " ('all', 288),\n",
       " ('money', 287),\n",
       " ('association', 287),\n",
       " ('additional', 286),\n",
       " ('bank', 285),\n",
       " ('media', 285),\n",
       " ('academy', 284),\n",
       " ('early', 284),\n",
       " ('facilities', 284),\n",
       " ('big', 284),\n",
       " ('documents', 283),\n",
       " ('sustainable', 283),\n",
       " ('afghan', 282),\n",
       " ('18', 281),\n",
       " ('mark', 280),\n",
       " ('pensions', 280),\n",
       " ('calls', 280),\n",
       " ('appointment', 280),\n",
       " ('chair', 280),\n",
       " ('tables', 279),\n",
       " ('transactions', 278),\n",
       " ('living', 277),\n",
       " ('vehicles', 277),\n",
       " ('buy', 276),\n",
       " ('forum', 275),\n",
       " ('have', 275),\n",
       " ('commissioner', 275),\n",
       " ('term', 275),\n",
       " ('systems', 274),\n",
       " ('executive', 274),\n",
       " ('what', 274),\n",
       " ('start', 274),\n",
       " ('terrorism', 274),\n",
       " ('give', 273),\n",
       " ('armed', 273),\n",
       " ('driving', 273),\n",
       " ('campaign', 272),\n",
       " ('making', 272),\n",
       " ('issues', 271),\n",
       " ('restriction', 270),\n",
       " ('recommendation', 270),\n",
       " ('during', 269),\n",
       " ('works', 268),\n",
       " ('inspection', 268),\n",
       " ('court', 268),\n",
       " ('vaccine', 268),\n",
       " ('19', 268),\n",
       " ('commercial', 267),\n",
       " ('family', 267),\n",
       " ('operation', 267),\n",
       " ('sport', 266),\n",
       " ('chancellor', 266),\n",
       " ('amendment', 266),\n",
       " ('helmand', 266),\n",
       " ('legal', 265),\n",
       " ('medicines', 264),\n",
       " ('tackle', 264),\n",
       " ('statutory', 264),\n",
       " ('space', 263),\n",
       " ('morning', 263),\n",
       " ('subject', 262),\n",
       " ('efficiency', 262),\n",
       " ('next', 262),\n",
       " ('2006', 262),\n",
       " ('waiting', 261),\n",
       " ('providers', 261),\n",
       " ('challenge', 260),\n",
       " ('alcohol', 260),\n",
       " ('amendments', 260),\n",
       " ('related', 259),\n",
       " ('record', 257),\n",
       " ('provision', 257),\n",
       " ('emissions', 256),\n",
       " ('opens', 254),\n",
       " ('funds', 254),\n",
       " ('charities', 254),\n",
       " ('families', 253),\n",
       " ('its', 253),\n",
       " ('notices', 253),\n",
       " ('dwp', 253),\n",
       " ('apprenticeships', 250),\n",
       " ('external', 250),\n",
       " ('acoba', 248),\n",
       " ('value', 248),\n",
       " ('using', 248),\n",
       " ('tb', 247),\n",
       " ('midlands', 247),\n",
       " ('directive', 246),\n",
       " ('credit', 246),\n",
       " ('appointments', 246),\n",
       " ('notes', 245),\n",
       " ('o', 244),\n",
       " ('who', 244),\n",
       " ('surveillance', 244),\n",
       " ('syria', 244),\n",
       " ('not', 244),\n",
       " ('bus', 243),\n",
       " ('activity', 243),\n",
       " ('co', 243),\n",
       " ('article', 242),\n",
       " ('can', 241),\n",
       " ('through', 241),\n",
       " ('councils', 241),\n",
       " ('renewable', 241),\n",
       " ('process', 240),\n",
       " ('appeals', 240),\n",
       " ('transfer', 240),\n",
       " ('written', 240),\n",
       " ('right', 239),\n",
       " ('judgement', 238),\n",
       " ('estate', 238),\n",
       " ('ministers', 237),\n",
       " ('phe', 237),\n",
       " ('settlement', 237),\n",
       " ('advisory', 237),\n",
       " ('common', 237),\n",
       " ('census', 236),\n",
       " ('equipment', 236),\n",
       " ('m', 234),\n",
       " ('production', 234),\n",
       " ('billion', 234),\n",
       " ('consular', 233),\n",
       " ('measure', 233),\n",
       " ('military', 233),\n",
       " ('us', 233),\n",
       " ('trading', 232),\n",
       " ('based', 231),\n",
       " ('best', 230),\n",
       " ('recovery', 230),\n",
       " ('capacity', 228),\n",
       " ('brief', 228),\n",
       " ('20', 228),\n",
       " ('hmt', 227),\n",
       " ('live', 227),\n",
       " ('take', 227),\n",
       " ('two', 227),\n",
       " ('cyber', 226),\n",
       " ('red', 226),\n",
       " ('details', 225),\n",
       " ('members', 225),\n",
       " ('interest', 225),\n",
       " ('games', 225),\n",
       " ('now', 224),\n",
       " ('publishes', 224),\n",
       " ('controls', 224),\n",
       " ('way', 224),\n",
       " ('nick', 223),\n",
       " ('good', 223),\n",
       " ('apr', 222),\n",
       " ('arrangements', 222),\n",
       " ('heat', 220),\n",
       " ('patient', 220),\n",
       " ('corporation', 219),\n",
       " ('permanent', 219),\n",
       " ('savings', 219),\n",
       " ('olympic', 219),\n",
       " ('rescue', 218),\n",
       " ('top', 218),\n",
       " ('approach', 217),\n",
       " ('passenger', 216),\n",
       " ('offshore', 216),\n",
       " ('reference', 216),\n",
       " ('age', 215),\n",
       " ('president', 215),\n",
       " ('message', 215),\n",
       " ('mar', 215),\n",
       " ('fisheries', 214),\n",
       " ('tourism', 214),\n",
       " ('personal', 214),\n",
       " ('dclg', 214),\n",
       " ('licences', 213),\n",
       " ('codes', 213),\n",
       " ('individual', 213),\n",
       " ('gpc', 212),\n",
       " ('revised', 212),\n",
       " ('assessments', 212),\n",
       " ('claim', 212),\n",
       " ('labour', 211),\n",
       " ('un', 211),\n",
       " ('farming', 210),\n",
       " ('street', 210),\n",
       " ('returns', 210),\n",
       " ('broadband', 209),\n",
       " ('following', 209),\n",
       " ('fishing', 209),\n",
       " ('prevention', 208),\n",
       " ('communications', 208),\n",
       " ('needs', 208),\n",
       " ('mp', 207),\n",
       " ('pre', 206),\n",
       " ('levels', 206),\n",
       " ('st', 206),\n",
       " ('manchester', 206),\n",
       " ('body', 205),\n",
       " ('michael', 205),\n",
       " ('long', 205),\n",
       " ('europe', 205),\n",
       " (\"minister's\", 204),\n",
       " ('operations', 204),\n",
       " ('team', 204),\n",
       " ('poverty', 204),\n",
       " ('rate', 203),\n",
       " ('site', 203),\n",
       " ('registry', 202),\n",
       " ('round', 202),\n",
       " ('criteria', 202),\n",
       " ('letters', 202),\n",
       " ('yorkshire', 202),\n",
       " ('central', 202),\n",
       " ('intelligence', 201),\n",
       " ('taking', 201),\n",
       " ('check', 201),\n",
       " ('they', 201),\n",
       " ('condemns', 201),\n",
       " ('£1', 201),\n",
       " ('2007', 201),\n",
       " ('higher', 200),\n",
       " ('countryside', 200),\n",
       " ('materials', 200),\n",
       " ('dcms', 200),\n",
       " ('improvements', 200),\n",
       " ('certificate', 200),\n",
       " ('trusts', 199),\n",
       " ('park', 199),\n",
       " ('stewardship', 199),\n",
       " ('sales', 199),\n",
       " ('drive', 198),\n",
       " ('agricultural', 198),\n",
       " ('industrial', 198),\n",
       " ('flu', 198),\n",
       " ('reforms', 198),\n",
       " ('libya', 198),\n",
       " ('success', 197),\n",
       " ('sir', 197),\n",
       " ('responds', 197),\n",
       " ('workers', 197),\n",
       " ('charges', 197),\n",
       " ('save', 197),\n",
       " ('interim', 197),\n",
       " ('mission', 196),\n",
       " ('college', 196),\n",
       " ('terms', 196),\n",
       " ('speed', 196),\n",
       " ('freedom', 196),\n",
       " ('excise', 196),\n",
       " ('lawyers', 195),\n",
       " ('dec', 194),\n",
       " ('priorities', 194),\n",
       " ('hospital', 194),\n",
       " ('uk’s', 193),\n",
       " ('claims', 193),\n",
       " ('coastal', 192),\n",
       " ('governance', 192),\n",
       " ('ofsted', 192),\n",
       " ('partnerships', 192),\n",
       " ('raf', 192),\n",
       " ('charge', 191),\n",
       " ('period', 191),\n",
       " ('2005', 191),\n",
       " ('given', 190),\n",
       " ('tackling', 190),\n",
       " ('marks', 190),\n",
       " ('programmes', 190),\n",
       " ('sexual', 190),\n",
       " ('across', 189),\n",
       " ('prisoner', 189),\n",
       " ('initial', 188),\n",
       " ('voluntary', 188),\n",
       " ('approval', 188),\n",
       " ('academies', 188),\n",
       " ('protect', 187),\n",
       " ('ambassador', 187),\n",
       " ('maritime', 187),\n",
       " ('down', 186),\n",
       " ('jan', 186),\n",
       " ('appoints', 186),\n",
       " ('welfare', 186),\n",
       " ('if', 185),\n",
       " ('kingdom', 185),\n",
       " ('engagement', 185),\n",
       " ('patients', 185),\n",
       " ('understanding', 184),\n",
       " ('cities', 184),\n",
       " ('publication', 184),\n",
       " ('select', 184),\n",
       " ('we', 184),\n",
       " ('path', 183),\n",
       " ('manufacturing', 183),\n",
       " ('lead', 183),\n",
       " ('status', 183),\n",
       " ('build', 183),\n",
       " ('third', 183),\n",
       " ('collection', 182),\n",
       " ('recommendations', 182),\n",
       " ('death', 182),\n",
       " ('winter', 182),\n",
       " ('decc', 182),\n",
       " ('coalfield', 182),\n",
       " ('animals', 181),\n",
       " ('weekly', 180),\n",
       " ('roads', 180),\n",
       " ('departmental', 180),\n",
       " ('freight', 180),\n",
       " ('baroness', 179),\n",
       " ('developing', 179),\n",
       " ('section', 179),\n",
       " ('minimum', 179),\n",
       " ('line', 178),\n",
       " ('model', 178),\n",
       " ('dementia', 178),\n",
       " ('household', 177),\n",
       " ('confirmed', 176),\n",
       " ('warning', 176),\n",
       " ('leaders', 176),\n",
       " ('youth', 175),\n",
       " ('protected', 175),\n",
       " ('figures', 175),\n",
       " ('this', 175),\n",
       " ('wins', 175),\n",
       " ('countries', 174),\n",
       " ('highways', 174),\n",
       " ('incident', 174),\n",
       " ('summer', 174),\n",
       " ('user', 174),\n",
       " ('assistance', 173),\n",
       " ('search', 173),\n",
       " ('station', 173),\n",
       " ('pilot', 173),\n",
       " ('document', 173),\n",
       " ('volume', 173),\n",
       " ('convention', 173),\n",
       " ('parliament', 173),\n",
       " ('lane', 173),\n",
       " ('commonwealth', 172),\n",
       " ('c', 172),\n",
       " ('cross', 172),\n",
       " ('storage', 172),\n",
       " ('generation', 172),\n",
       " ('obligation', 172),\n",
       " ('procedures', 172),\n",
       " ('visa', 172),\n",
       " ('force', 171),\n",
       " ('maps', 171),\n",
       " ('edward', 171),\n",
       " ('tech', 170),\n",
       " ('qualifications', 170),\n",
       " ('academic', 170),\n",
       " ('tests', 170),\n",
       " ('effects', 170),\n",
       " ('sports', 169),\n",
       " ('events', 169),\n",
       " ('drug', 169),\n",
       " ('markets', 169),\n",
       " ('heritage', 169),\n",
       " ('audit', 168),\n",
       " ('msn', 168),\n",
       " ('junction', 168),\n",
       " ('supplementary', 168),\n",
       " ('defra', 168),\n",
       " ('avoidance', 168),\n",
       " ('supports', 167),\n",
       " ('disclosure', 167),\n",
       " ('sanctions', 167),\n",
       " ('afternoon', 167),\n",
       " ('newsletter', 166),\n",
       " ('thames', 166),\n",
       " ('go', 166),\n",
       " ('pakistan', 166),\n",
       " ('oct', 165),\n",
       " ('closures', 165),\n",
       " ('helping', 165),\n",
       " ('japan', 164),\n",
       " ('monitor', 164),\n",
       " ('sets', 164),\n",
       " ('imported', 164),\n",
       " ('leadership', 164),\n",
       " ('class', 164),\n",
       " ('clinical', 164),\n",
       " ('war', 164),\n",
       " ('back', 163),\n",
       " ('direct', 163),\n",
       " ('pupil', 163),\n",
       " ('resources', 163),\n",
       " ('allowance', 163),\n",
       " ('natural', 163),\n",
       " ('orders', 163),\n",
       " ('show', 162),\n",
       " ('granted', 162),\n",
       " ('bridge', 161),\n",
       " ('illegal', 161),\n",
       " ('unit', 161),\n",
       " ('officer', 161),\n",
       " ('john', 161),\n",
       " ('must', 161),\n",
       " ('manual', 161),\n",
       " ('abroad', 160),\n",
       " ('helps', 160),\n",
       " ('engineering', 160),\n",
       " ('b', 159),\n",
       " ('mod', 159),\n",
       " ('wind', 159),\n",
       " ('commons', 159),\n",
       " ('technologies', 159),\n",
       " ('find', 159),\n",
       " ('opening', 159),\n",
       " ('re', 159),\n",
       " ('potential', 159),\n",
       " ('reducing', 159),\n",
       " ('troops', 158),\n",
       " ('population', 158),\n",
       " ('account', 158),\n",
       " ('disposal', 158),\n",
       " ('news', 158),\n",
       " ('studies', 158),\n",
       " ('exports', 158),\n",
       " ('inspections', 158),\n",
       " ('schedule', 157),\n",
       " ('22', 157),\n",
       " ('exemption', 157),\n",
       " ('exchange', 157),\n",
       " ('29', 157),\n",
       " ('25', 157),\n",
       " ('ahead', 157),\n",
       " ('managing', 157),\n",
       " ('levy', 156),\n",
       " ('employer', 156),\n",
       " ('summaries', 156),\n",
       " ('migrant', 156),\n",
       " ('victims', 155),\n",
       " ('teaching', 155),\n",
       " ('multi', 155),\n",
       " ('fraud', 155),\n",
       " ('conflict', 155),\n",
       " ('ownership', 155),\n",
       " ('tape', 155),\n",
       " ('funeral', 154),\n",
       " ('rt', 154),\n",
       " ('hon', 154),\n",
       " ('statements', 154),\n",
       " ('secondary', 154),\n",
       " ('girls', 154),\n",
       " ('certificates', 153),\n",
       " ('party', 153),\n",
       " ('together', 153),\n",
       " ('software', 153),\n",
       " ('complaints', 153),\n",
       " ('criminal', 153),\n",
       " ('industries', 153),\n",
       " ('23', 152),\n",
       " ('electronic', 152),\n",
       " (\"secretary's\", 152),\n",
       " ...]"
      ]
     },
     "execution_count": 38,
     "metadata": {},
     "output_type": "execute_result"
    }
   ],
   "source": [
    "\n",
    "sorted(tokenizer_tit.word_counts.items(), key=lambda x:x[1], reverse=True)\n",
    "#for key, value in sorted(mydict.iteritems(), key=lambda (k,v): (v,k)):\n",
    "    #print \"%s: %s\" % (key, value)"
   ]
  },
  {
   "cell_type": "markdown",
   "metadata": {},
   "source": [
    "### Tokenize description text"
   ]
  },
  {
   "cell_type": "code",
   "execution_count": 39,
   "metadata": {},
   "outputs": [],
   "source": [
    "# Bag of words method\n",
    "tokenizer_desc = Tokenizer(num_words=10000) #num_words: None or int. Maximum number of words to work with \n",
    "# (if set, tokenization will be restricted to the top num_words most common words in the dataset).\n",
    "\n",
    "# apply tokenizer to our text data\n",
    "tokenizer_desc.fit_on_texts(descs)\n",
    "\n",
    "# list of word indexes, where the word of rank i in the dataset (starting at 1) has index i\n",
    "sequences_desc = tokenizer_desc.texts_to_sequences(descs) #yield one sequence per input text\n",
    "onehot_desc = tokenizer_desc.sequences_to_matrix(sequences_desc) #yield one sequence per input text\n",
    "\n",
    "# dictionary mapping words (str) to their rank/index (int).\n",
    "word_index_desc = tokenizer_desc.word_index "
   ]
  },
  {
   "cell_type": "code",
   "execution_count": 40,
   "metadata": {},
   "outputs": [
    {
     "data": {
      "text/plain": [
       "(114048, 10000)"
      ]
     },
     "execution_count": 40,
     "metadata": {},
     "output_type": "execute_result"
    }
   ],
   "source": [
    "onehot_desc.shape"
   ]
  },
  {
   "cell_type": "markdown",
   "metadata": {},
   "source": [
    "### Data split\n",
    "- Training data = 80%\n",
    "- Development data = 10%\n",
    "- Test data = 10%"
   ]
  },
  {
   "cell_type": "code",
   "execution_count": 41,
   "metadata": {},
   "outputs": [
    {
     "name": "stdout",
     "output_type": "stream",
     "text": [
      "[     0      1      2 ..., 114045 114046 114047]\n",
      "[53174   885 27609 ..., 42613 43567 68268]\n"
     ]
    }
   ],
   "source": [
    "# shuffle data and standardise indices\n",
    "indices = np.arange(data.shape[0])\n",
    "print(indices)\n",
    "np.random.seed(0)\n",
    "np.random.shuffle(indices)\n",
    "print(indices)"
   ]
  },
  {
   "cell_type": "code",
   "execution_count": 42,
   "metadata": {},
   "outputs": [],
   "source": [
    "data = data[indices]\n",
    "metadata = meta[indices]\n",
    "title_data = onehot_tit[indices]"
   ]
  },
  {
   "cell_type": "code",
   "execution_count": 43,
   "metadata": {},
   "outputs": [],
   "source": [
    "desc_data = onehot_desc[indices]\n",
    "timedata = first_published[indices]\n",
    "\n",
    "\n",
    "labels = binary_multilabel[indices]"
   ]
  },
  {
   "cell_type": "code",
   "execution_count": 44,
   "metadata": {},
   "outputs": [
    {
     "name": "stdout",
     "output_type": "stream",
     "text": [
      "nb_test samples: 11404\n",
      "nb_dev samples: 22809\n",
      "nb_training samples: 91238\n"
     ]
    }
   ],
   "source": [
    "nb_test_samples = int(0.1 * data.shape[0]) #validation split\n",
    "print('nb_test samples:', nb_test_samples)\n",
    "\n",
    "nb_dev_samples = int(0.2 * data.shape[0]) #validation split\n",
    "print('nb_dev samples:', nb_dev_samples)\n",
    "\n",
    "nb_training_samples = int(0.8 * data.shape[0]) #validation split\n",
    "print('nb_training samples:', nb_training_samples)"
   ]
  },
  {
   "cell_type": "code",
   "execution_count": 45,
   "metadata": {},
   "outputs": [
    {
     "name": "stdout",
     "output_type": "stream",
     "text": [
      "Shape of x_train: (91239, 1000)\n",
      "Shape of metax_train: (91239, 449)\n",
      "Shape of titlex_train: (91239, 10000)\n",
      "Shape of descx_train: (91239, 10000)\n",
      "Shape of datex_train: (91239, 1)\n",
      "Shape of y_train: (91239, 210)\n"
     ]
    }
   ],
   "source": [
    "x_train = data[:-nb_dev_samples]\n",
    "print('Shape of x_train:', x_train.shape)\n",
    "\n",
    "metax_train = metadata[:-nb_dev_samples]\n",
    "print('Shape of metax_train:', metax_train.shape)\n",
    "\n",
    "titlex_train = title_data[:-nb_dev_samples]\n",
    "print('Shape of titlex_train:', titlex_train.shape)\n",
    "\n",
    "descx_train = desc_data[:-nb_dev_samples]\n",
    "print('Shape of descx_train:', descx_train.shape)\n",
    "\n",
    "datex_train = timedata[:-nb_dev_samples]\n",
    "print('Shape of datex_train:', datex_train.shape)\n",
    "\n",
    "y_train = labels[:-nb_dev_samples]\n",
    "print('Shape of y_train:', y_train.shape)"
   ]
  },
  {
   "cell_type": "code",
   "execution_count": 46,
   "metadata": {},
   "outputs": [
    {
     "name": "stdout",
     "output_type": "stream",
     "text": [
      "Shape of x_dev: (11405, 1000)\n",
      "Shape of metax_dev: (11405, 449)\n",
      "Shape of titlex_dev: (11405, 10000)\n",
      "Shape of descx_dev: (11405, 10000)\n",
      "Shape of metax_dev: (11405, 1)\n",
      "Shape of y_dev: (11405, 210)\n"
     ]
    }
   ],
   "source": [
    "x_dev = data[-nb_dev_samples:-nb_test_samples]\n",
    "print('Shape of x_dev:', x_dev.shape)\n",
    "\n",
    "metax_dev = metadata[-nb_dev_samples:-nb_test_samples]\n",
    "print('Shape of metax_dev:', metax_dev.shape)\n",
    "\n",
    "titlex_dev = title_data[-nb_dev_samples:-nb_test_samples]\n",
    "print('Shape of titlex_dev:', titlex_dev.shape)\n",
    "\n",
    "descx_dev = desc_data[-nb_dev_samples:-nb_test_samples]\n",
    "print('Shape of descx_dev:', descx_dev.shape)\n",
    "\n",
    "datex_dev = timedata[-nb_dev_samples:-nb_test_samples]\n",
    "print('Shape of metax_dev:', datex_dev.shape)\n",
    "\n",
    "y_dev = labels[-nb_dev_samples:-nb_test_samples]\n",
    "print('Shape of y_dev:', y_dev.shape)"
   ]
  },
  {
   "cell_type": "code",
   "execution_count": 47,
   "metadata": {},
   "outputs": [
    {
     "name": "stdout",
     "output_type": "stream",
     "text": [
      "Shape of x_test: (11404, 1000)\n",
      "Shape of metax_test: (11404, 449)\n",
      "Shape of titlex_test: (11404, 10000)\n",
      "Shape of descx_test: (11404, 10000)\n",
      "Shape of datex_test: (11404, 1)\n",
      "Shape of y_test: (11404, 210)\n"
     ]
    }
   ],
   "source": [
    "x_test = data[-nb_test_samples:]\n",
    "print('Shape of x_test:', x_test.shape)\n",
    "\n",
    "metax_test = metadata[-nb_test_samples:]\n",
    "print('Shape of metax_test:', metax_test.shape)\n",
    "\n",
    "titlex_test = title_data[-nb_test_samples:]\n",
    "print('Shape of titlex_test:', titlex_test.shape)\n",
    "\n",
    "descx_test = desc_data[-nb_test_samples:]\n",
    "print('Shape of descx_test:', descx_test.shape)\n",
    "\n",
    "datex_test = timedata[-nb_test_samples:]\n",
    "print('Shape of datex_test:', datex_test.shape)\n",
    "\n",
    "y_test = labels[-nb_test_samples:]\n",
    "print('Shape of y_test:', y_test.shape)"
   ]
  },
  {
   "cell_type": "markdown",
   "metadata": {},
   "source": [
    "### preparing the Embedding layer\n",
    "\n",
    "NB stopwords haven't been removed yet..."
   ]
  },
  {
   "cell_type": "code",
   "execution_count": 48,
   "metadata": {},
   "outputs": [],
   "source": [
    "embedding_layer = Embedding(len(word_index) + 1, \n",
    "                            EMBEDDING_DIM, \n",
    "                            input_length=MAX_SEQUENCE_LENGTH)"
   ]
  },
  {
   "cell_type": "markdown",
   "metadata": {},
   "source": [
    "An Embedding layer should be fed sequences of integers, i.e. a 2D input of shape (samples, indices). These input sequences should be padded so that they all have the same length in a batch of input data (although an Embedding layer is capable of processing sequence of heterogenous length, if you don't pass an explicit input_length argument to the layer).\n",
    "\n",
    "All that the Embedding layer does is to map the integer inputs to the vectors found at the corresponding index in the embedding matrix, i.e. the sequence [1, 2] would be converted to [embeddings[1], embeddings[2]]. This means that the output of the Embedding layer will be a 3D tensor of shape (samples, sequence_length, embedding_dim)."
   ]
  },
  {
   "cell_type": "markdown",
   "metadata": {},
   "source": [
    "### Estimate class weights for unbalanced datasets.\n",
    "paramter to model.fit = __class_weight__: Optional dictionary mapping class indices (integers) to a weight (float) value, used for weighting the loss function (during training only). This can be useful to tell the model to \"pay more attention\" to samples from an under-represented class.\n",
    "\n",
    "Implement class_weight from sklearn:\n",
    "\n",
    "- Import the module \n",
    "\n",
    "`from sklearn.utils import class_weight`\n",
    "- calculate the class weight, If ‘balanced’, class weights will be given by n_samples / (n_classes * np.bincount(y)):\n",
    "\n",
    "`class_weight = class_weight.compute_class_weight('balanced', np.unique(y_train), y_train)`\n",
    "\n",
    "- change it to a dict in order to work with Keras.\n",
    "\n",
    "`class_weight_dict = dict(enumerate(class_weight))`\n",
    "\n",
    "- Add to model fitting\n",
    "\n",
    "`model.fit(X_train, y_train, class_weight=class_weight)`"
   ]
  },
  {
   "cell_type": "code",
   "execution_count": 49,
   "metadata": {},
   "outputs": [],
   "source": [
    "# class_weight = class_weight.compute_class_weight('balanced', np.unique(y_train), y_train)\n",
    "# class_weight_dict = dict(enumerate(class_weight))"
   ]
  },
  {
   "cell_type": "markdown",
   "metadata": {},
   "source": [
    "### Custom loss function"
   ]
  },
  {
   "cell_type": "code",
   "execution_count": 50,
   "metadata": {},
   "outputs": [
    {
     "name": "stdout",
     "output_type": "stream",
     "text": [
      "4.00756\n",
      "8.01512\n"
     ]
    }
   ],
   "source": [
    "class WeightedBinaryCrossEntropy(object):\n",
    "\n",
    "    def __init__(self, pos_ratio):\n",
    "        neg_ratio = 1. - pos_ratio\n",
    "        #self.pos_ratio = tf.constant(pos_ratio, tf.float32)\n",
    "        self.pos_ratio = pos_ratio\n",
    "        #self.weights = tf.constant(neg_ratio / pos_ratio, tf.float32)\n",
    "        self.weights = neg_ratio / pos_ratio\n",
    "        self.__name__ = \"weighted_binary_crossentropy({0})\".format(pos_ratio)\n",
    "\n",
    "    def __call__(self, y_true, y_pred):\n",
    "        return self.weighted_binary_crossentropy(y_true, y_pred)\n",
    "\n",
    "    def weighted_binary_crossentropy(self, y_true, y_pred):\n",
    "            # Transform to logits\n",
    "            epsilon = tf.convert_to_tensor(K.common._EPSILON, y_pred.dtype.base_dtype)\n",
    "            y_pred = tf.clip_by_value(y_pred, epsilon, 1 - epsilon)\n",
    "            y_pred = tf.log(y_pred / (1 - y_pred))\n",
    "\n",
    "            cost = tf.nn.weighted_cross_entropy_with_logits(y_true, y_pred, self.weights)\n",
    "            return K.mean(cost * self.pos_ratio, axis=-1)\n",
    "    \n",
    "y_true_arr = np.array([0,1,0,1], dtype=\"float32\")\n",
    "y_pred_arr = np.array([0,0,1,1], dtype=\"float32\")\n",
    "y_true = tf.constant(y_true_arr)\n",
    "y_pred = tf.constant(y_pred_arr)\n",
    "\n",
    "with tf.Session().as_default(): \n",
    "    print(WeightedBinaryCrossEntropy(0.5)(y_true, y_pred).eval())\n",
    "    print(binary_crossentropy(y_true, y_pred).eval())\n"
   ]
  },
  {
   "cell_type": "markdown",
   "metadata": {},
   "source": [
    "### difficulty getting global precision/recall metrics . CAUTION interpreting monitoring metrics\n",
    "fcholltet: \"Basically these are all global metrics that were approximated\n",
    "batch-wise, which is more misleading than helpful. This was mentioned in\n",
    "the docs but it's much cleaner to remove them altogether. It was a mistake\n",
    "to merge them in the first place.\""
   ]
  },
  {
   "cell_type": "code",
   "execution_count": 51,
   "metadata": {},
   "outputs": [],
   "source": [
    "def f1(y_true, y_pred):\n",
    "    \"\"\"Use Recall  and precision metrics to calculate harmonic mean (F1 score).\n",
    "\n",
    "        Only computes a batch-wise average of recall.\n",
    "\n",
    "        Computes the recall, a metric for multi-label classification of\n",
    "        how many relevant items are selected.\n",
    "        \"\"\"\n",
    "    true_positives = K.sum(K.round(K.clip(y_true * y_pred, 0, 1)))\n",
    "    predicted_positives = K.sum(K.round(K.clip(y_pred, 0, 1)))\n",
    "    possible_positives = K.sum(K.round(K.clip(y_true, 0, 1)))\n",
    "    precision = true_positives / (predicted_positives + K.epsilon())\n",
    "    recall = true_positives / (possible_positives + K.epsilon())\n",
    "    f1 = 2*((precision*recall)/(precision+recall))\n",
    "    \n",
    "    return f1"
   ]
  },
  {
   "cell_type": "markdown",
   "metadata": {},
   "source": [
    "## Training a 1D convnet"
   ]
  },
  {
   "cell_type": "markdown",
   "metadata": {},
   "source": [
    "### 1. Create model"
   ]
  },
  {
   "cell_type": "code",
   "execution_count": 52,
   "metadata": {},
   "outputs": [],
   "source": [
    "NB_CLASSES = y_train.shape[1]\n",
    "NB_METAVARS = metax_train.shape[1]\n",
    "\n",
    "\n",
    "\n",
    "sequence_input = Input(shape=(MAX_SEQUENCE_LENGTH,), dtype='int32', name='wordindex') #MAX_SEQUENCE_LENGTH\n",
    "embedded_sequences = embedding_layer(sequence_input)\n",
    "x = Dropout(0.2, name = 'dropout_embedded')(embedded_sequences)\n",
    "\n",
    "x = Conv1D(128, 5, activation='relu', name = 'conv0')(x)\n",
    "\n",
    "x = MaxPooling1D(5, name = 'max_pool0')(x)\n",
    "\n",
    "x = Dropout(0.5, name = 'dropout0')(x)\n",
    "\n",
    "x = Conv1D(128, 5, activation='relu', name = 'conv1')(x)\n",
    "\n",
    "x = MaxPooling1D(5 , name = 'max_pool1')(x)\n",
    "\n",
    "x = Conv1D(128, 5, activation='relu', name = 'conv2')(x)\n",
    "\n",
    "x = MaxPooling1D(35, name = 'global_max_pool')(x)  # global max pooling\n",
    "\n",
    "x = Flatten()(x) #reduce dimensions from 3 to 2; convert to vector + FULLYCONNECTED\n",
    "\n",
    "meta_input = Input(shape=(NB_METAVARS,), name='meta')\n",
    "meta_hidden = Dense(128, activation='relu', name = 'hidden_meta')(meta_input)\n",
    "meta_hidden = Dropout(0.2, name = 'dropout_meta')(meta_hidden)\n",
    "\n",
    "\n",
    "title_input = Input(shape=(titlex_train.shape[1],), name='titles')\n",
    "title_hidden = Dense(128, activation='relu', name = 'hidden_title')(title_input)\n",
    "title_hidden = Dropout(0.2, name = 'dropout_title')(title_hidden)\n",
    "\n",
    "desc_input = Input(shape=(descx_train.shape[1],), name='descs')\n",
    "desc_hidden = Dense(128, activation='relu', name = 'hidden_desc')(desc_input)\n",
    "desc_hidden = Dropout(0.2, name = 'dropout_desc')(desc_hidden)\n",
    "\n",
    "concatenated = concatenate([meta_hidden, title_hidden, desc_hidden, x])\n",
    "\n",
    "x = Dense(400, activation='relu', name = 'fully_connected0')(concatenated)\n",
    "\n",
    "x = Dropout(0.2, name = 'dropout1')(x)\n",
    "\n",
    "x = Dense(NB_CLASSES, activation='sigmoid', name = 'fully_connected1')(x)\n",
    "\n",
    "# # The Model class turns an input tensor and output tensor into a model\n",
    "# This creates Keras model instance, will use this instance to train/test the model.\n",
    "model = Model(inputs=[meta_input, title_input, desc_input, sequence_input], outputs=x)"
   ]
  },
  {
   "cell_type": "markdown",
   "metadata": {},
   "source": [
    "### 2. Compile model"
   ]
  },
  {
   "cell_type": "code",
   "execution_count": 53,
   "metadata": {},
   "outputs": [],
   "source": [
    "model.compile(loss=WeightedBinaryCrossEntropy(POS_RATIO),\n",
    "              optimizer='rmsprop',\n",
    "              metrics=['binary_accuracy', f1])"
   ]
  },
  {
   "cell_type": "markdown",
   "metadata": {},
   "source": [
    "Metric values are recorded at the end of each epoch on the training dataset. If a validation dataset is also provided, then the metric recorded is also calculated for the validation dataset.\n",
    "\n",
    "All metrics are reported in verbose output and in the history object returned from calling the fit() function. In both cases, the name of the metric function is used as the key for the metric values. In the case of metrics for the validation dataset, the “val_” prefix is added to the key."
   ]
  },
  {
   "cell_type": "markdown",
   "metadata": {},
   "source": [
    "You have now built a function to describe your model. To train and test this model, there are four steps in Keras:\n",
    "1. Create the model by calling the function above\n",
    "2. Compile the model by calling `model.compile(optimizer = \"...\", loss = \"...\", metrics = [\"accuracy\"])`\n",
    "3. Train the model on train data by calling `model.fit(x = ..., y = ..., epochs = ..., batch_size = ...)`\n",
    "4. Test the model on test data by calling `model.evaluate(x = ..., y = ...)`\n",
    "\n",
    "If you want to know more about `model.compile()`, `model.fit()`, `model.evaluate()` and their arguments, refer to the official [Keras documentation](https://keras.io/models/model/).\n"
   ]
  },
  {
   "cell_type": "code",
   "execution_count": 54,
   "metadata": {},
   "outputs": [
    {
     "name": "stdout",
     "output_type": "stream",
     "text": [
      "__________________________________________________________________________________________________\n",
      "Layer (type)                    Output Shape         Param #     Connected to                     \n",
      "==================================================================================================\n",
      "wordindex (InputLayer)          (None, 1000)         0                                            \n",
      "__________________________________________________________________________________________________\n",
      "embedding_1 (Embedding)         (None, 1000, 100)    21313300    wordindex[0][0]                  \n",
      "__________________________________________________________________________________________________\n",
      "dropout_embedded (Dropout)      (None, 1000, 100)    0           embedding_1[0][0]                \n",
      "__________________________________________________________________________________________________\n",
      "conv0 (Conv1D)                  (None, 996, 128)     64128       dropout_embedded[0][0]           \n",
      "__________________________________________________________________________________________________\n",
      "max_pool0 (MaxPooling1D)        (None, 199, 128)     0           conv0[0][0]                      \n",
      "__________________________________________________________________________________________________\n",
      "dropout0 (Dropout)              (None, 199, 128)     0           max_pool0[0][0]                  \n",
      "__________________________________________________________________________________________________\n",
      "conv1 (Conv1D)                  (None, 195, 128)     82048       dropout0[0][0]                   \n",
      "__________________________________________________________________________________________________\n",
      "max_pool1 (MaxPooling1D)        (None, 39, 128)      0           conv1[0][0]                      \n",
      "__________________________________________________________________________________________________\n",
      "meta (InputLayer)               (None, 449)          0                                            \n",
      "__________________________________________________________________________________________________\n",
      "titles (InputLayer)             (None, 10000)        0                                            \n",
      "__________________________________________________________________________________________________\n",
      "descs (InputLayer)              (None, 10000)        0                                            \n",
      "__________________________________________________________________________________________________\n",
      "conv2 (Conv1D)                  (None, 35, 128)      82048       max_pool1[0][0]                  \n",
      "__________________________________________________________________________________________________\n",
      "hidden_meta (Dense)             (None, 128)          57600       meta[0][0]                       \n",
      "__________________________________________________________________________________________________\n",
      "hidden_title (Dense)            (None, 128)          1280128     titles[0][0]                     \n",
      "__________________________________________________________________________________________________\n",
      "hidden_desc (Dense)             (None, 128)          1280128     descs[0][0]                      \n",
      "__________________________________________________________________________________________________\n",
      "global_max_pool (MaxPooling1D)  (None, 1, 128)       0           conv2[0][0]                      \n",
      "__________________________________________________________________________________________________\n",
      "dropout_meta (Dropout)          (None, 128)          0           hidden_meta[0][0]                \n",
      "__________________________________________________________________________________________________\n",
      "dropout_title (Dropout)         (None, 128)          0           hidden_title[0][0]               \n",
      "__________________________________________________________________________________________________\n",
      "dropout_desc (Dropout)          (None, 128)          0           hidden_desc[0][0]                \n",
      "__________________________________________________________________________________________________\n",
      "flatten_1 (Flatten)             (None, 128)          0           global_max_pool[0][0]            \n",
      "__________________________________________________________________________________________________\n",
      "concatenate_1 (Concatenate)     (None, 512)          0           dropout_meta[0][0]               \n",
      "                                                                 dropout_title[0][0]              \n",
      "                                                                 dropout_desc[0][0]               \n",
      "                                                                 flatten_1[0][0]                  \n",
      "__________________________________________________________________________________________________\n",
      "fully_connected0 (Dense)        (None, 400)          205200      concatenate_1[0][0]              \n",
      "__________________________________________________________________________________________________\n",
      "dropout1 (Dropout)              (None, 400)          0           fully_connected0[0][0]           \n",
      "__________________________________________________________________________________________________\n",
      "fully_connected1 (Dense)        (None, 210)          84210       dropout1[0][0]                   \n",
      "==================================================================================================\n",
      "Total params: 24,448,790\n",
      "Trainable params: 24,448,790\n",
      "Non-trainable params: 0\n",
      "__________________________________________________________________________________________________\n"
     ]
    }
   ],
   "source": [
    "model.summary()"
   ]
  },
  {
   "cell_type": "markdown",
   "metadata": {},
   "source": [
    "### Tensorboard callbacks /metrics /monitor training"
   ]
  },
  {
   "cell_type": "markdown",
   "metadata": {},
   "source": [
    "<span style=\"color:red\"> **Size of these files is killing storage during training. Is it histograms?**</span>"
   ]
  },
  {
   "cell_type": "code",
   "execution_count": 55,
   "metadata": {},
   "outputs": [],
   "source": [
    "tb = TensorBoard(log_dir='./learn_embedding_logs', histogram_freq=1, write_graph=True, write_images=False)"
   ]
  },
  {
   "cell_type": "code",
   "execution_count": 56,
   "metadata": {},
   "outputs": [],
   "source": [
    "CHECKPOINT_PATH = os.path.join(DATADIR, 'model_checkpoint.hdf5')\n",
    "\n",
    "cp = ModelCheckpoint(\n",
    "                     filepath = CHECKPOINT_PATH, \n",
    "                     monitor='val_loss', \n",
    "                     verbose=0, \n",
    "                     save_best_only=False, \n",
    "                     save_weights_only=False, \n",
    "                     mode='auto', \n",
    "                     period=1\n",
    "                    )"
   ]
  },
  {
   "cell_type": "code",
   "execution_count": 57,
   "metadata": {},
   "outputs": [],
   "source": [
    "# class Metrics(Callback):\n",
    "#     def on_train_begin(self, logs={}):\n",
    "#         self.val_f1s = []\n",
    "#         self.val_recalls = []\n",
    "#         self.val_precisions = []\n",
    " \n",
    "#     def on_epoch_end(self, epoch, logs={}):\n",
    "#         val_predict = (np.asarray(self.model.predict(self.model.validation_data[0]))).round()\n",
    "#         val_targ = self.model.validation_data[1]\n",
    "        \n",
    "#         self.val_f1s.append(f1_score(val_targ, val_predict, average='micro'))\n",
    "#         self.val_recalls.append(recall_score(val_targ, val_predict))\n",
    "#         self.val_precisions.append(precision_score(val_targ, val_predict))\n",
    "#         print(\"- val_f1: %f — val_precision: %f — val_recall %f\" \n",
    "#                 %(f1_score(val_targ, val_predict, average='micro'), \n",
    "#                   precision_score(val_targ, val_predict),\n",
    "#                    recall_score(val_targ, val_predict)))\n",
    "#         return\n",
    " \n",
    "# metrics = Metrics()"
   ]
  },
  {
   "cell_type": "markdown",
   "metadata": {},
   "source": [
    "### 3. Train model"
   ]
  },
  {
   "cell_type": "code",
   "execution_count": 58,
   "metadata": {},
   "outputs": [
    {
     "name": "stdout",
     "output_type": "stream",
     "text": [
      "Train on 91239 samples, validate on 11405 samples\n",
      "Epoch 1/10\n",
      "91239/91239 [==============================] - 1025s 11ms/step - loss: 0.0106 - binary_accuracy: 0.9941 - f1: nan - val_loss: 0.0055 - val_binary_accuracy: 0.9965 - val_f1: 0.7078\n",
      "Epoch 2/10\n",
      "91239/91239 [==============================] - 944s 10ms/step - loss: 0.0050 - binary_accuracy: 0.9967 - f1: 0.7327 - val_loss: 0.0048 - val_binary_accuracy: 0.9969 - val_f1: 0.7487\n",
      "Epoch 3/10\n",
      "91239/91239 [==============================] - 947s 10ms/step - loss: 0.0042 - binary_accuracy: 0.9972 - f1: 0.7794 - val_loss: 0.0046 - val_binary_accuracy: 0.9970 - val_f1: 0.7688\n",
      "Epoch 4/10\n",
      "91239/91239 [==============================] - 947s 10ms/step - loss: 0.0037 - binary_accuracy: 0.9975 - f1: 0.8079 - val_loss: 0.0045 - val_binary_accuracy: 0.9971 - val_f1: 0.7723\n",
      "Epoch 5/10\n",
      "91239/91239 [==============================] - 5128s 56ms/step - loss: 0.0034 - binary_accuracy: 0.9978 - f1: 0.8285 - val_loss: 0.0045 - val_binary_accuracy: 0.9971 - val_f1: 0.7744\n",
      "Epoch 6/10\n",
      "91239/91239 [==============================] - 949s 10ms/step - loss: 0.0031 - binary_accuracy: 0.9979 - f1: 0.8440 - val_loss: 0.0046 - val_binary_accuracy: 0.9971 - val_f1: 0.7761\n",
      "Epoch 7/10\n",
      "91239/91239 [==============================] - 949s 10ms/step - loss: 0.0028 - binary_accuracy: 0.9981 - f1: 0.8575 - val_loss: 0.0047 - val_binary_accuracy: 0.9971 - val_f1: 0.7797\n",
      "Epoch 8/10\n",
      "91239/91239 [==============================] - 957s 10ms/step - loss: 0.0026 - binary_accuracy: 0.9982 - f1: 0.8683 - val_loss: 0.0048 - val_binary_accuracy: 0.9971 - val_f1: 0.7784\n",
      "Epoch 9/10\n",
      "91239/91239 [==============================] - 951s 10ms/step - loss: 0.0025 - binary_accuracy: 0.9984 - f1: 0.8791 - val_loss: 0.0050 - val_binary_accuracy: 0.9971 - val_f1: 0.7798\n",
      "Epoch 10/10\n",
      "91239/91239 [==============================] - 951s 10ms/step - loss: 0.0023 - binary_accuracy: 0.9985 - f1: 0.8865 - val_loss: 0.0053 - val_binary_accuracy: 0.9971 - val_f1: 0.7784\n"
     ]
    },
    {
     "data": {
      "text/plain": [
       "<keras.callbacks.History at 0x1481f2eb8>"
      ]
     },
     "execution_count": 58,
     "metadata": {},
     "output_type": "execute_result"
    }
   ],
   "source": [
    "# metrics callback causes: CCCCCCR55555555511155\n",
    "# So disable for now\n",
    "\n",
    "model.fit(\n",
    "    {'meta': metax_train, 'titles': titlex_train, 'descs': descx_train, 'wordindex': x_train},\n",
    "    y_train, \n",
    "    validation_data=([metax_dev, titlex_dev, descx_dev, x_dev], y_dev), \n",
    "    epochs=10, batch_size=128 #error in callbacks\n",
    ")"
   ]
  },
  {
   "cell_type": "markdown",
   "metadata": {},
   "source": [
    "### Evaluate model"
   ]
  },
  {
   "cell_type": "markdown",
   "metadata": {},
   "source": [
    "#### Training metrics"
   ]
  },
  {
   "cell_type": "code",
   "execution_count": 82,
   "metadata": {},
   "outputs": [],
   "source": [
    "y_prob = model.predict([metax_train, titlex_train, descx_train, x_train])"
   ]
  },
  {
   "cell_type": "code",
   "execution_count": 83,
   "metadata": {},
   "outputs": [
    {
     "data": {
      "text/plain": [
       "(91239, 210)"
      ]
     },
     "execution_count": 83,
     "metadata": {},
     "output_type": "execute_result"
    }
   ],
   "source": [
    "y_prob.shape"
   ]
  },
  {
   "cell_type": "code",
   "execution_count": 84,
   "metadata": {},
   "outputs": [],
   "source": [
    "y_pred = y_prob.copy()\n",
    "y_pred[y_pred>=P_THRESHOLD] = 1\n",
    "y_pred[y_pred<P_THRESHOLD] = 0"
   ]
  },
  {
   "cell_type": "code",
   "execution_count": 85,
   "metadata": {},
   "outputs": [
    {
     "data": {
      "text/plain": [
       "0.92827343477403412"
      ]
     },
     "execution_count": 85,
     "metadata": {},
     "output_type": "execute_result"
    }
   ],
   "source": [
    "f1_score(y_train, y_pred, average='micro')"
   ]
  },
  {
   "cell_type": "code",
   "execution_count": 63,
   "metadata": {},
   "outputs": [
    {
     "name": "stderr",
     "output_type": "stream",
     "text": [
      "/Users/ellieking/Documents/tag_tax/govuk-taxonomy-supervised-learning/tax_SL/lib/python3.4/site-packages/sklearn/metrics/classification.py:1135: UndefinedMetricWarning: Precision and F-score are ill-defined and being set to 0.0 in labels with no predicted samples.\n",
      "  'precision', 'predicted', average, warn_for)\n",
      "/Users/ellieking/Documents/tag_tax/govuk-taxonomy-supervised-learning/tax_SL/lib/python3.4/site-packages/sklearn/metrics/classification.py:1137: UndefinedMetricWarning: Recall and F-score are ill-defined and being set to 0.0 in labels with no true samples.\n",
      "  'recall', 'true', average, warn_for)\n"
     ]
    },
    {
     "data": {
      "text/plain": [
       "(array([ 0.        ,  1.        ,  0.98608534,  0.86805556,  0.        ,\n",
       "         0.91287129,  0.95180723,  0.96680256,  0.        ,  0.        ,\n",
       "         0.        ,  0.94527363,  0.        ,  0.        ,  0.97538462,\n",
       "         0.        ,  0.93532338,  0.        ,  0.        ,  0.92673993,\n",
       "         0.94516516,  0.94217894,  0.96962751,  0.        ,  0.        ,\n",
       "         0.        ,  0.        ,  0.        ,  0.94339623,  0.92857143,\n",
       "         0.95412844,  1.        ,  0.        ,  0.94074074,  0.96471936,\n",
       "         0.9       ,  0.91815162,  0.904     ,  0.94656489,  0.96620584,\n",
       "         0.        ,  0.96385542,  0.        ,  0.        ,  0.85167464,\n",
       "         0.91666667,  0.        ,  0.96629213,  0.93075205,  0.        ,\n",
       "         0.        ,  1.        ,  0.        ,  0.        ,  0.        ,\n",
       "         0.        ,  0.        ,  0.96303901,  1.        ,  0.9637037 ,\n",
       "         0.79032258,  0.96428571,  0.89285714,  0.9456869 ,  0.        ,\n",
       "         0.90737989,  0.        ,  0.96666667,  0.96581197,  0.        ,\n",
       "         0.97297297,  0.        ,  0.94612795,  0.95131086,  0.96078431,\n",
       "         0.93166023,  0.        ,  0.9844586 ,  0.95862069,  1.        ,\n",
       "         0.97803807,  0.95679589,  0.        ,  0.9047619 ,  0.        ,\n",
       "         0.        ,  0.97058824,  0.93959732,  0.        ,  0.93963659,\n",
       "         0.9736932 ,  0.90635091,  0.93333333,  0.96415771,  0.9406495 ,\n",
       "         0.96209814,  0.94117647,  0.        ,  0.90298507,  0.94736842,\n",
       "         0.94210526,  0.        ,  1.        ,  1.        ,  0.        ,\n",
       "         0.95238095,  0.93846154,  0.9       ,  0.        ,  0.        ,\n",
       "         0.        ,  1.        ,  0.93981481,  0.96686747,  0.80882353,\n",
       "         0.92134831,  0.94117647,  0.97075209,  0.98643006,  0.        ,\n",
       "         0.91968226,  0.        ,  0.90265487,  0.        ,  0.        ,\n",
       "         0.        ,  0.        ,  1.        ,  0.93698347,  0.89130435,\n",
       "         0.93937404,  0.94017857,  0.        ,  1.        ,  0.        ,\n",
       "         0.        ,  0.        ,  0.94317049,  0.97906602,  0.        ,\n",
       "         0.95973154,  0.93083004,  0.87692308,  1.        ,  0.        ,\n",
       "         0.        ,  0.97147514,  0.        ,  0.        ,  0.98429319,\n",
       "         0.97040359,  0.95826645,  0.95762712,  0.        ,  0.88607595,\n",
       "         0.95857988,  0.97333333,  0.87096774,  0.98      ,  0.95035461,\n",
       "         0.9713056 ,  0.971549  ,  0.92350956,  0.        ,  0.        ,\n",
       "         1.        ,  0.        ,  0.92221331,  0.95375723,  0.95577617,\n",
       "         0.        ,  0.        ,  0.91304348,  1.        ,  0.97163121,\n",
       "         0.97727273,  0.98076923,  0.99248927,  0.97058824,  0.91573034,\n",
       "         0.96906117,  0.97674419,  0.97927461,  1.        ,  0.        ,\n",
       "         0.        ,  0.        ,  0.98404255,  0.        ,  0.        ,\n",
       "         0.89753072,  0.        ,  0.91056911,  0.        ,  0.97222222,\n",
       "         0.97701149,  0.92307692,  0.        ,  0.96330275,  0.93976898,\n",
       "         0.90936556,  0.96511628,  0.        ,  0.93101343,  0.        ,\n",
       "         0.86330935,  0.        ,  0.        ,  1.        ,  0.97693133]),\n",
       " array([ 0.        ,  0.2       ,  0.96724295,  0.91911765,  0.        ,\n",
       "         0.90569745,  0.85869565,  0.94104308,  0.        ,  0.        ,\n",
       "         0.        ,  0.92682927,  0.        ,  0.        ,  0.79848866,\n",
       "         0.        ,  0.89099526,  0.        ,  0.        ,  0.9160029 ,\n",
       "         0.92155612,  0.91273585,  0.95377678,  0.        ,  0.        ,\n",
       "         0.        ,  0.        ,  0.        ,  0.76335878,  0.975     ,\n",
       "         0.83870968,  0.16326531,  0.        ,  0.81935484,  0.91702962,\n",
       "         0.92      ,  0.87557604,  0.57653061,  0.91176471,  0.80332056,\n",
       "         0.        ,  0.84955752,  0.        ,  0.        ,  0.72064777,\n",
       "         0.46478873,  0.        ,  0.85572139,  0.96824167,  0.        ,\n",
       "         0.        ,  0.08108108,  0.        ,  0.        ,  0.        ,\n",
       "         0.        ,  0.        ,  0.97001034,  0.35632184,  0.85479632,\n",
       "         0.84482759,  0.62790698,  0.73529412,  0.78723404,  0.        ,\n",
       "         0.89803922,  0.        ,  0.46031746,  0.73376623,  0.        ,\n",
       "         0.76595745,  0.        ,  0.87675507,  0.96212121,  0.97782705,\n",
       "         0.95337811,  0.        ,  0.96167247,  0.89677419,  0.78205128,\n",
       "         0.96531792,  0.9314539 ,  0.        ,  0.79575445,  0.        ,\n",
       "         0.        ,  0.825     ,  0.89171975,  0.        ,  0.95672625,\n",
       "         0.93076421,  0.96449026,  0.50909091,  0.84858044,  0.9610984 ,\n",
       "         0.93581303,  0.82656827,  0.        ,  0.71597633,  0.62068966,\n",
       "         0.95466667,  0.        ,  0.46511628,  0.92982456,  0.        ,\n",
       "         0.86956522,  0.99186992,  0.5625    ,  0.        ,  0.        ,\n",
       "         0.        ,  0.18604651,  0.93290441,  0.91193182,  0.859375  ,\n",
       "         0.84102564,  0.86821705,  0.96940195,  0.9895288 ,  0.        ,\n",
       "         0.87858347,  0.        ,  0.93577982,  0.        ,  0.        ,\n",
       "         0.        ,  0.        ,  0.90909091,  0.91941206,  0.86619718,\n",
       "         0.93263798,  0.95989061,  0.        ,  0.63414634,  0.        ,\n",
       "         0.        ,  0.        ,  0.94129353,  0.91566265,  0.        ,\n",
       "         0.91471215,  0.91634241,  0.82608696,  0.76470588,  0.        ,\n",
       "         0.        ,  0.95742972,  0.        ,  0.        ,  0.743083  ,\n",
       "         0.96953405,  0.83496503,  0.83088235,  0.        ,  0.97415507,\n",
       "         0.91422122,  0.8678996 ,  0.91267606,  0.84482759,  0.87391304,\n",
       "         0.97200287,  0.95280744,  0.94585253,  0.        ,  0.        ,\n",
       "         0.06779661,  0.        ,  0.89285714,  0.87765957,  0.90979381,\n",
       "         0.        ,  0.        ,  0.45652174,  0.79220779,  0.79190751,\n",
       "         0.76785714,  0.81382979,  0.93718338,  0.58928571,  0.85340314,\n",
       "         0.93114642,  0.77777778,  0.93410214,  0.73214286,  0.        ,\n",
       "         0.        ,  0.        ,  0.9919571 ,  0.        ,  0.        ,\n",
       "         0.88684583,  0.        ,  0.87046632,  0.        ,  0.49295775,\n",
       "         0.91891892,  0.75949367,  0.        ,  0.97583643,  0.94916667,\n",
       "         0.85754986,  0.71551724,  0.        ,  0.9543179 ,  0.        ,\n",
       "         0.8       ,  0.        ,  0.        ,  0.80555556,  0.9795589 ]),\n",
       " array([ 0.        ,  0.33333333,  0.97657327,  0.89285714,  0.        ,\n",
       "         0.90927022,  0.90285714,  0.95374892,  0.        ,  0.        ,\n",
       "         0.        ,  0.93596059,  0.        ,  0.        ,  0.87811634,\n",
       "         0.        ,  0.91262136,  0.        ,  0.        ,  0.92134013,\n",
       "         0.93321134,  0.92722372,  0.96163683,  0.        ,  0.        ,\n",
       "         0.        ,  0.        ,  0.        ,  0.84388186,  0.95121951,\n",
       "         0.89270386,  0.28070175,  0.        ,  0.87586207,  0.94027018,\n",
       "         0.90989011,  0.89635854,  0.70404984,  0.92883895,  0.87726639,\n",
       "         0.        ,  0.90310442,  0.        ,  0.        ,  0.78070175,\n",
       "         0.61682243,  0.        ,  0.90765172,  0.9491268 ,  0.        ,\n",
       "         0.        ,  0.15      ,  0.        ,  0.        ,  0.        ,\n",
       "         0.        ,  0.        ,  0.96651211,  0.52542373,  0.90598886,\n",
       "         0.81666667,  0.76056338,  0.80645161,  0.85921626,  0.        ,\n",
       "         0.90268539,  0.        ,  0.62365591,  0.83394834,  0.        ,\n",
       "         0.85714286,  0.        ,  0.91012146,  0.9566855 ,  0.96923077,\n",
       "         0.94239406,  0.        ,  0.97293214,  0.92666667,  0.87769784,\n",
       "         0.97163636,  0.94395484,  0.        ,  0.84676435,  0.        ,\n",
       "         0.        ,  0.89189189,  0.91503268,  0.        ,  0.94810441,\n",
       "         0.95174487,  0.9345172 ,  0.65882353,  0.90268456,  0.95076401,\n",
       "         0.94877357,  0.88015717,  0.        ,  0.79867987,  0.75      ,\n",
       "         0.94834437,  0.        ,  0.63492063,  0.96363636,  0.        ,\n",
       "         0.90909091,  0.96442688,  0.69230769,  0.        ,  0.        ,\n",
       "         0.        ,  0.31372549,  0.93634686,  0.93859649,  0.83333333,\n",
       "         0.87935657,  0.90322581,  0.97007655,  0.987977  ,  0.        ,\n",
       "         0.89866322,  0.        ,  0.91891892,  0.        ,  0.        ,\n",
       "         0.        ,  0.        ,  0.95238095,  0.92811461,  0.87857143,\n",
       "         0.93599389,  0.94993234,  0.        ,  0.7761194 ,  0.        ,\n",
       "         0.        ,  0.        ,  0.94223108,  0.9463035 ,  0.        ,\n",
       "         0.93668122,  0.92352941,  0.85074627,  0.86666667,  0.        ,\n",
       "         0.        ,  0.96440129,  0.        ,  0.        ,  0.84684685,\n",
       "         0.96996862,  0.89237668,  0.88976378,  0.        ,  0.9280303 ,\n",
       "         0.93587522,  0.91759777,  0.89133425,  0.90740741,  0.91053228,\n",
       "         0.97165411,  0.96208696,  0.93454752,  0.        ,  0.        ,\n",
       "         0.12698413,  0.        ,  0.90729783,  0.91412742,  0.93221831,\n",
       "         0.        ,  0.        ,  0.60869565,  0.88405797,  0.87261146,\n",
       "         0.86      ,  0.88953488,  0.96404377,  0.73333333,  0.88346883,\n",
       "         0.94972554,  0.86597938,  0.95615514,  0.84536082,  0.        ,\n",
       "         0.        ,  0.        ,  0.98798398,  0.        ,  0.        ,\n",
       "         0.89215628,  0.        ,  0.89006623,  0.        ,  0.65420561,\n",
       "         0.94707521,  0.83333333,  0.        ,  0.96952909,  0.94444444,\n",
       "         0.88269795,  0.82178218,  0.        ,  0.94252163,  0.        ,\n",
       "         0.83044983,  0.        ,  0.        ,  0.89230769,  0.97824335]),\n",
       " array([   7,   55, 1099,  136,   11,  509,   92, 1764,    6,   25,   12,\n",
       "         205,   25,   12,  397,    4,  211,   12,   10, 1381, 9408, 1696,\n",
       "        1774,    1,   34,   28,   17,   26,  131,   80,  124,   49,    2,\n",
       "         310, 4592,  225, 3472,  196,  136,  783,    5,  565,   24,   35,\n",
       "         247,   71,    4,  201, 1291,    9,   30,   74,    3,    4,   42,\n",
       "          16,    1,  967,   87, 1522,  116,   43,   68,  376,    9, 2040,\n",
       "           9,   63,  154,    5,   47,   46,  641,  264,  902, 2531,    2,\n",
       "        4018,  155,   78, 1384, 8797,    2, 1743,    7,   35,   40,  157,\n",
       "           9, 3189, 3062,  873,   55,  317,  874, 3038,  271,   17,  169,\n",
       "          58,  375,    6,   43,  114,   21,   46,  123,   48,    3,   18,\n",
       "          11,   43, 2176,  352,  192,  195,  129,  719,  955,   26, 1186,\n",
       "           5,  109,    9,   15,   26,    9,   33, 3946,  142, 4602, 1097,\n",
       "           6,   82,   19,   31,   32, 1005,  664,   24,  938,  514,   69,\n",
       "          34,   12,   16, 4980,    0,   11,  253, 1116,  715,  136,   32,\n",
       "         503,  886, 1514,  355,  116,  460, 1393, 2903,  868,   16,    2,\n",
       "          59,   15, 1288,  188, 1164,   32,    3,   46,   77,  173,   56,\n",
       "         188,  987,   56,  191, 5853,   54,  607,   56,   35,   20,   20,\n",
       "         746,   19,    9, 8484,   27,  386,    3,   71,  185,   79,    3,\n",
       "        1614, 1200,  351,  116,    6, 1598,    7,  150,   21,   30,   36,\n",
       "        1859]))"
      ]
     },
     "execution_count": 63,
     "metadata": {},
     "output_type": "execute_result"
    }
   ],
   "source": [
    "#average= None, the scores for each class are returned.\n",
    "precision_recall_fscore_support(y_train, y_pred, average=None, sample_weight=None)"
   ]
  },
  {
   "cell_type": "code",
   "execution_count": 64,
   "metadata": {},
   "outputs": [
    {
     "name": "stderr",
     "output_type": "stream",
     "text": [
      "/Users/ellieking/Documents/tag_tax/govuk-taxonomy-supervised-learning/tax_SL/lib/python3.4/site-packages/sklearn/metrics/classification.py:1135: UndefinedMetricWarning: Precision and F-score are ill-defined and being set to 0.0 in labels with no predicted samples.\n",
      "  'precision', 'predicted', average, warn_for)\n",
      "/Users/ellieking/Documents/tag_tax/govuk-taxonomy-supervised-learning/tax_SL/lib/python3.4/site-packages/sklearn/metrics/classification.py:1137: UndefinedMetricWarning: Recall and F-score are ill-defined and being set to 0.0 in labels with no true samples.\n",
      "  'recall', 'true', average, warn_for)\n"
     ]
    }
   ],
   "source": [
    "a = precision_recall_fscore_support(y_train, y_pred, average=None, sample_weight=None)"
   ]
  },
  {
   "cell_type": "code",
   "execution_count": 65,
   "metadata": {},
   "outputs": [
    {
     "data": {
      "text/html": [
       "<div>\n",
       "<style scoped>\n",
       "    .dataframe tbody tr th:only-of-type {\n",
       "        vertical-align: middle;\n",
       "    }\n",
       "\n",
       "    .dataframe tbody tr th {\n",
       "        vertical-align: top;\n",
       "    }\n",
       "\n",
       "    .dataframe thead th {\n",
       "        text-align: right;\n",
       "    }\n",
       "</style>\n",
       "<table border=\"1\" class=\"dataframe\">\n",
       "  <thead>\n",
       "    <tr style=\"text-align: right;\">\n",
       "      <th></th>\n",
       "      <th>0</th>\n",
       "      <th>1</th>\n",
       "      <th>2</th>\n",
       "      <th>3</th>\n",
       "      <th>4</th>\n",
       "      <th>5</th>\n",
       "      <th>6</th>\n",
       "      <th>7</th>\n",
       "      <th>8</th>\n",
       "      <th>9</th>\n",
       "      <th>...</th>\n",
       "      <th>200</th>\n",
       "      <th>201</th>\n",
       "      <th>202</th>\n",
       "      <th>203</th>\n",
       "      <th>204</th>\n",
       "      <th>205</th>\n",
       "      <th>206</th>\n",
       "      <th>207</th>\n",
       "      <th>208</th>\n",
       "      <th>209</th>\n",
       "    </tr>\n",
       "  </thead>\n",
       "  <tbody>\n",
       "    <tr>\n",
       "      <th>0</th>\n",
       "      <td>0.0</td>\n",
       "      <td>1.000000</td>\n",
       "      <td>0.986085</td>\n",
       "      <td>0.868056</td>\n",
       "      <td>0.0</td>\n",
       "      <td>0.912871</td>\n",
       "      <td>0.951807</td>\n",
       "      <td>0.966803</td>\n",
       "      <td>0.0</td>\n",
       "      <td>0.0</td>\n",
       "      <td>...</td>\n",
       "      <td>0.909366</td>\n",
       "      <td>0.965116</td>\n",
       "      <td>0.0</td>\n",
       "      <td>0.931013</td>\n",
       "      <td>0.0</td>\n",
       "      <td>0.863309</td>\n",
       "      <td>0.0</td>\n",
       "      <td>0.0</td>\n",
       "      <td>1.000000</td>\n",
       "      <td>0.976931</td>\n",
       "    </tr>\n",
       "    <tr>\n",
       "      <th>1</th>\n",
       "      <td>0.0</td>\n",
       "      <td>0.200000</td>\n",
       "      <td>0.967243</td>\n",
       "      <td>0.919118</td>\n",
       "      <td>0.0</td>\n",
       "      <td>0.905697</td>\n",
       "      <td>0.858696</td>\n",
       "      <td>0.941043</td>\n",
       "      <td>0.0</td>\n",
       "      <td>0.0</td>\n",
       "      <td>...</td>\n",
       "      <td>0.857550</td>\n",
       "      <td>0.715517</td>\n",
       "      <td>0.0</td>\n",
       "      <td>0.954318</td>\n",
       "      <td>0.0</td>\n",
       "      <td>0.800000</td>\n",
       "      <td>0.0</td>\n",
       "      <td>0.0</td>\n",
       "      <td>0.805556</td>\n",
       "      <td>0.979559</td>\n",
       "    </tr>\n",
       "    <tr>\n",
       "      <th>2</th>\n",
       "      <td>0.0</td>\n",
       "      <td>0.333333</td>\n",
       "      <td>0.976573</td>\n",
       "      <td>0.892857</td>\n",
       "      <td>0.0</td>\n",
       "      <td>0.909270</td>\n",
       "      <td>0.902857</td>\n",
       "      <td>0.953749</td>\n",
       "      <td>0.0</td>\n",
       "      <td>0.0</td>\n",
       "      <td>...</td>\n",
       "      <td>0.882698</td>\n",
       "      <td>0.821782</td>\n",
       "      <td>0.0</td>\n",
       "      <td>0.942522</td>\n",
       "      <td>0.0</td>\n",
       "      <td>0.830450</td>\n",
       "      <td>0.0</td>\n",
       "      <td>0.0</td>\n",
       "      <td>0.892308</td>\n",
       "      <td>0.978243</td>\n",
       "    </tr>\n",
       "    <tr>\n",
       "      <th>3</th>\n",
       "      <td>7.0</td>\n",
       "      <td>55.000000</td>\n",
       "      <td>1099.000000</td>\n",
       "      <td>136.000000</td>\n",
       "      <td>11.0</td>\n",
       "      <td>509.000000</td>\n",
       "      <td>92.000000</td>\n",
       "      <td>1764.000000</td>\n",
       "      <td>6.0</td>\n",
       "      <td>25.0</td>\n",
       "      <td>...</td>\n",
       "      <td>351.000000</td>\n",
       "      <td>116.000000</td>\n",
       "      <td>6.0</td>\n",
       "      <td>1598.000000</td>\n",
       "      <td>7.0</td>\n",
       "      <td>150.000000</td>\n",
       "      <td>21.0</td>\n",
       "      <td>30.0</td>\n",
       "      <td>36.000000</td>\n",
       "      <td>1859.000000</td>\n",
       "    </tr>\n",
       "  </tbody>\n",
       "</table>\n",
       "<p>4 rows × 210 columns</p>\n",
       "</div>"
      ],
      "text/plain": [
       "   0          1            2           3     4           5          6    \\\n",
       "0  0.0   1.000000     0.986085    0.868056   0.0    0.912871   0.951807   \n",
       "1  0.0   0.200000     0.967243    0.919118   0.0    0.905697   0.858696   \n",
       "2  0.0   0.333333     0.976573    0.892857   0.0    0.909270   0.902857   \n",
       "3  7.0  55.000000  1099.000000  136.000000  11.0  509.000000  92.000000   \n",
       "\n",
       "           7    8     9       ...              200         201  202  \\\n",
       "0     0.966803  0.0   0.0     ...         0.909366    0.965116  0.0   \n",
       "1     0.941043  0.0   0.0     ...         0.857550    0.715517  0.0   \n",
       "2     0.953749  0.0   0.0     ...         0.882698    0.821782  0.0   \n",
       "3  1764.000000  6.0  25.0     ...       351.000000  116.000000  6.0   \n",
       "\n",
       "           203  204         205   206   207        208          209  \n",
       "0     0.931013  0.0    0.863309   0.0   0.0   1.000000     0.976931  \n",
       "1     0.954318  0.0    0.800000   0.0   0.0   0.805556     0.979559  \n",
       "2     0.942522  0.0    0.830450   0.0   0.0   0.892308     0.978243  \n",
       "3  1598.000000  7.0  150.000000  21.0  30.0  36.000000  1859.000000  \n",
       "\n",
       "[4 rows x 210 columns]"
      ]
     },
     "execution_count": 65,
     "metadata": {},
     "output_type": "execute_result"
    }
   ],
   "source": [
    "pd.DataFrame(list(a))"
   ]
  },
  {
   "cell_type": "code",
   "execution_count": 66,
   "metadata": {},
   "outputs": [],
   "source": [
    "f1_byclass = pd.DataFrame((a)[2], columns=['f1'])\n"
   ]
  },
  {
   "cell_type": "code",
   "execution_count": 67,
   "metadata": {},
   "outputs": [],
   "source": [
    "support_byclass = pd.DataFrame((a)[3], columns=['support'])\n",
    "\n",
    "f1_byclass = pd.merge(\n",
    "    left=f1_byclass, \n",
    "    right=support_byclass, \n",
    "    left_index=True,\n",
    "    right_index=True,\n",
    "    how='outer', \n",
    "    validate='one_to_one'\n",
    ")\n",
    "\n",
    "f1_byclass['index_col'] = f1_byclass.index"
   ]
  },
  {
   "cell_type": "code",
   "execution_count": 68,
   "metadata": {},
   "outputs": [],
   "source": [
    "f1_byclass['level2taxon'] = f1_byclass['index_col'].map(labels_index).copy()"
   ]
  },
  {
   "cell_type": "code",
   "execution_count": 69,
   "metadata": {},
   "outputs": [
    {
     "name": "stdout",
     "output_type": "stream",
     "text": [
      "At p_threshold of 0.5, there were 135 out of 210 (64.28571428571429)% taxons with auto-tagged content in the training data\n"
     ]
    }
   ],
   "source": [
    "print(\"At p_threshold of {}, there were {} out of {} ({})% taxons with auto-tagged content in the training data\"\n",
    "      .format(P_THRESHOLD, \n",
    "              f1_byclass.loc[f1_byclass['f1'] > 0].shape[0], \n",
    "              y_pred.shape[1], \n",
    "              (f1_byclass.loc[f1_byclass['f1'] > 0].shape[0]/y_pred.shape[1])*100 ))"
   ]
  },
  {
   "cell_type": "code",
   "execution_count": 70,
   "metadata": {},
   "outputs": [],
   "source": [
    "no_auto_content = f1_byclass.loc[f1_byclass['f1'] == 0]\n",
    "no_auto_content = no_auto_content.set_index('level2taxon')"
   ]
  },
  {
   "cell_type": "code",
   "execution_count": 71,
   "metadata": {},
   "outputs": [
    {
     "data": {
      "text/plain": [
       "<matplotlib.axes._subplots.AxesSubplot at 0x1498847f0>"
      ]
     },
     "execution_count": 71,
     "metadata": {},
     "output_type": "execute_result"
    },
    {
     "data": {
      "image/png": "[encoded data removed]",
      "text/plain": [
       "<matplotlib.figure.Figure at 0x149a8f470>"
      ]
     },
     "metadata": {},
     "output_type": "display_data"
    }
   ],
   "source": [
    "no_auto_content['support'].sort_values().plot( kind = 'barh', figsize=(20, 20))"
   ]
  },
  {
   "cell_type": "code",
   "execution_count": 72,
   "metadata": {},
   "outputs": [],
   "source": [
    "classes_predictedto = f1_byclass.loc[f1_byclass['f1'] > 0]\n",
    "classes_predictedto = classes_predictedto.set_index('level2taxon') "
   ]
  },
  {
   "cell_type": "code",
   "execution_count": 73,
   "metadata": {},
   "outputs": [
    {
     "data": {
      "text/plain": [
       "<matplotlib.axes._subplots.AxesSubplot at 0x148aec390>"
      ]
     },
     "execution_count": 73,
     "metadata": {},
     "output_type": "execute_result"
    },
    {
     "data": {
      "image/png": "[encoded data removed]",
      "text/plain": [
       "<matplotlib.figure.Figure at 0x149a4ff28>"
      ]
     },
     "metadata": {},
     "output_type": "display_data"
    }
   ],
   "source": [
    "classes_predictedto.plot.scatter(x='support', y='f1', figsize=(20, 10), xticks=np.arange(0, 9700, 100))"
   ]
  },
  {
   "cell_type": "code",
   "execution_count": 74,
   "metadata": {},
   "outputs": [
    {
     "data": {
      "text/plain": [
       "<matplotlib.axes._subplots.AxesSubplot at 0x1482f0588>"
      ]
     },
     "execution_count": 74,
     "metadata": {},
     "output_type": "execute_result"
    },
    {
     "data": {
      "image/png": "[encoded data removed]",
      "text/plain": [
       "<matplotlib.figure.Figure at 0x149bfe080>"
      ]
     },
     "metadata": {},
     "output_type": "display_data"
    }
   ],
   "source": [
    "classes_predictedto['f1'].sort_values().plot( kind = 'barh', figsize=(20, 20))"
   ]
  },
  {
   "cell_type": "code",
   "execution_count": 75,
   "metadata": {},
   "outputs": [
    {
     "data": {
      "text/plain": [
       "(0.94791715078000338, 0.90942734420284466, 0.92827343477403412, None)"
      ]
     },
     "execution_count": 75,
     "metadata": {},
     "output_type": "execute_result"
    }
   ],
   "source": [
    "#Calculate globally by counting the total true positives, false negatives and false positives.\n",
    "precision_recall_fscore_support(y_train, y_pred, average='micro', sample_weight=None) "
   ]
  },
  {
   "cell_type": "code",
   "execution_count": 76,
   "metadata": {},
   "outputs": [
    {
     "name": "stderr",
     "output_type": "stream",
     "text": [
      "/Users/ellieking/Documents/tag_tax/govuk-taxonomy-supervised-learning/tax_SL/lib/python3.4/site-packages/sklearn/metrics/classification.py:1135: UndefinedMetricWarning: Precision and F-score are ill-defined and being set to 0.0 in labels with no predicted samples.\n",
      "  'precision', 'predicted', average, warn_for)\n",
      "/Users/ellieking/Documents/tag_tax/govuk-taxonomy-supervised-learning/tax_SL/lib/python3.4/site-packages/sklearn/metrics/classification.py:1137: UndefinedMetricWarning: Recall and F-score are ill-defined and being set to 0.0 in labels with no true samples.\n",
      "  'recall', 'true', average, warn_for)\n"
     ]
    },
    {
     "data": {
      "text/plain": [
       "(0.60978746093546843, 0.52887907019706726, 0.55579878847005981, None)"
      ]
     },
     "execution_count": 76,
     "metadata": {},
     "output_type": "execute_result"
    }
   ],
   "source": [
    "#Calculate metrics for each label, and find their unweighted mean. This does not take label imbalance into account\n",
    "precision_recall_fscore_support(y_train, y_pred, average='macro', sample_weight=None)"
   ]
  },
  {
   "cell_type": "markdown",
   "metadata": {},
   "source": [
    "#### Development set metrics"
   ]
  },
  {
   "cell_type": "code",
   "execution_count": 86,
   "metadata": {},
   "outputs": [],
   "source": [
    "y_pred_dev = model.predict([metax_dev, titlex_dev, descx_dev, x_dev])"
   ]
  },
  {
   "cell_type": "code",
   "execution_count": 87,
   "metadata": {},
   "outputs": [],
   "source": [
    "y_pred_dev[y_pred_dev>=P_THRESHOLD] = 1\n",
    "y_pred_dev[y_pred_dev<P_THRESHOLD] = 0"
   ]
  },
  {
   "cell_type": "code",
   "execution_count": 88,
   "metadata": {},
   "outputs": [
    {
     "name": "stderr",
     "output_type": "stream",
     "text": [
      "/Users/ellieking/Documents/tag_tax/govuk-taxonomy-supervised-learning/tax_SL/lib/python3.4/site-packages/sklearn/metrics/classification.py:1135: UndefinedMetricWarning: Precision and F-score are ill-defined and being set to 0.0 in labels with no predicted samples.\n",
      "  'precision', 'predicted', average, warn_for)\n",
      "/Users/ellieking/Documents/tag_tax/govuk-taxonomy-supervised-learning/tax_SL/lib/python3.4/site-packages/sklearn/metrics/classification.py:1137: UndefinedMetricWarning: Recall and F-score are ill-defined and being set to 0.0 in labels with no true samples.\n",
      "  'recall', 'true', average, warn_for)\n"
     ]
    },
    {
     "data": {
      "text/plain": [
       "(array([ 0.        ,  1.        ,  0.90070922,  0.53846154,  0.        ,\n",
       "         0.59375   ,  0.2       ,  0.81818182,  0.        ,  0.        ,\n",
       "         0.        ,  0.875     ,  0.        ,  0.        ,  0.57894737,\n",
       "         0.        ,  0.86956522,  0.        ,  0.        ,  0.88333333,\n",
       "         0.81447964,  0.715     ,  0.87378641,  0.        ,  0.        ,\n",
       "         0.        ,  0.        ,  0.        ,  1.        ,  0.90909091,\n",
       "         1.        ,  0.        ,  0.        ,  0.76666667,  0.83739837,\n",
       "         0.51428571,  0.64539007,  0.63636364,  0.6       ,  0.8       ,\n",
       "         0.        ,  0.85      ,  0.        ,  0.        ,  0.44444444,\n",
       "         0.        ,  0.        ,  0.8       ,  0.78235294,  0.        ,\n",
       "         0.        ,  0.        ,  0.        ,  0.        ,  0.        ,\n",
       "         0.        ,  0.        ,  0.83185841,  0.66666667,  0.72916667,\n",
       "         0.66666667,  1.        ,  0.75      ,  0.62857143,  0.        ,\n",
       "         0.72103004,  0.        ,  0.75      ,  0.5       ,  0.        ,\n",
       "         1.        ,  0.        ,  0.74074074,  0.97222222,  0.87387387,\n",
       "         0.82215743,  0.        ,  0.88043478,  1.        ,  1.        ,\n",
       "         0.89285714,  0.87950664,  0.        ,  0.72727273,  0.        ,\n",
       "         0.        ,  1.        ,  0.5625    ,  0.        ,  0.81598063,\n",
       "         0.85897436,  0.736     ,  1.        ,  0.43478261,  0.76415094,\n",
       "         0.9039039 ,  0.36363636,  0.        ,  0.45454545,  1.        ,\n",
       "         0.76923077,  0.        ,  1.        ,  0.92857143,  0.        ,\n",
       "         0.42857143,  0.86666667,  1.        ,  0.        ,  0.        ,\n",
       "         0.        ,  0.        ,  0.79285714,  0.92105263,  0.5625    ,\n",
       "         0.36842105,  1.        ,  0.95652174,  0.98275862,  0.        ,\n",
       "         0.73529412,  0.        ,  0.5       ,  0.        ,  0.        ,\n",
       "         0.        ,  0.        ,  1.        ,  0.84262948,  0.66666667,\n",
       "         0.83060109,  0.90322581,  0.        ,  1.        ,  0.        ,\n",
       "         0.        ,  0.        ,  0.70542636,  0.9125    ,  0.        ,\n",
       "         0.85      ,  0.82191781,  0.33333333,  1.        ,  0.        ,\n",
       "         0.        ,  0.89594356,  0.        ,  0.        ,  0.76470588,\n",
       "         0.87919463,  0.85      ,  0.90909091,  0.        ,  0.69230769,\n",
       "         0.89814815,  0.84848485,  0.67241379,  1.        ,  0.76470588,\n",
       "         0.89171975,  0.83976261,  0.82727273,  0.        ,  0.        ,\n",
       "         0.        ,  0.        ,  0.63461538,  0.88235294,  0.8       ,\n",
       "         0.        ,  0.        ,  0.        ,  1.        ,  0.9047619 ,\n",
       "         1.        ,  0.9       ,  0.8877551 ,  1.        ,  0.46666667,\n",
       "         0.81081081,  0.5       ,  0.86111111,  1.        ,  0.        ,\n",
       "         0.        ,  0.        ,  0.95959596,  0.        ,  0.        ,\n",
       "         0.70092497,  0.        ,  0.69230769,  0.        ,  1.        ,\n",
       "         0.91304348,  0.6       ,  0.        ,  0.90686275,  0.77777778,\n",
       "         0.67741935,  1.        ,  0.        ,  0.84615385,  0.        ,\n",
       "         0.75      ,  0.        ,  0.        ,  1.        ,  0.91525424]),\n",
       " array([ 0.        ,  0.2       ,  0.9270073 ,  0.48275862,  0.        ,\n",
       "         0.475     ,  0.0625    ,  0.72321429,  0.        ,  0.        ,\n",
       "         0.        ,  0.66666667,  0.        ,  0.        ,  0.51162791,\n",
       "         0.        ,  0.60606061,  0.        ,  0.        ,  0.79104478,\n",
       "         0.78740157,  0.66511628,  0.80717489,  0.        ,  0.        ,\n",
       "         0.        ,  0.        ,  0.        ,  0.33333333,  1.        ,\n",
       "         0.54545455,  0.        ,  0.        ,  0.42592593,  0.76722533,\n",
       "         0.54545455,  0.63048499,  0.29166667,  0.42857143,  0.41121495,\n",
       "         0.        ,  0.48571429,  0.        ,  0.        ,  0.19512195,\n",
       "         0.        ,  0.        ,  0.57142857,  0.86928105,  0.        ,\n",
       "         0.        ,  0.        ,  0.        ,  0.        ,  0.        ,\n",
       "         0.        ,  0.        ,  0.92156863,  0.16666667,  0.55851064,\n",
       "         0.71428571,  0.5       ,  0.375     ,  0.44      ,  0.        ,\n",
       "         0.63878327,  0.        ,  0.27272727,  0.11764706,  0.        ,\n",
       "         0.625     ,  0.        ,  0.51948052,  0.74468085,  0.89814815,\n",
       "         0.83679525,  0.        ,  0.82484725,  0.58823529,  0.5       ,\n",
       "         0.88757396,  0.83588819,  0.        ,  0.63849765,  0.        ,\n",
       "         0.        ,  0.66666667,  0.5       ,  0.        ,  0.8685567 ,\n",
       "         0.71657754,  0.83636364,  0.16666667,  0.38461538,  0.77142857,\n",
       "         0.84788732,  0.21052632,  0.        ,  0.41666667,  0.6       ,\n",
       "         0.65217391,  0.        ,  0.16666667,  0.86666667,  0.        ,\n",
       "         1.        ,  0.86666667,  0.75      ,  0.        ,  0.        ,\n",
       "         0.        ,  0.        ,  0.79285714,  0.64814815,  0.6       ,\n",
       "         0.24137931,  0.88888889,  0.83809524,  0.91935484,  0.        ,\n",
       "         0.71428571,  0.        ,  0.71428571,  0.        ,  0.        ,\n",
       "         0.        ,  0.        ,  0.5       ,  0.77900552,  0.25      ,\n",
       "         0.78216123,  0.91056911,  0.        ,  0.42857143,  0.        ,\n",
       "         0.        ,  0.        ,  0.75206612,  0.74489796,  0.        ,\n",
       "         0.70247934,  0.78947368,  0.66666667,  0.5       ,  0.        ,\n",
       "         0.        ,  0.86101695,  0.        ,  0.        ,  0.39393939,\n",
       "         0.90972222,  0.59302326,  0.76923077,  0.        ,  0.79411765,\n",
       "         0.76984127,  0.72916667,  0.70909091,  0.75      ,  0.69642857,\n",
       "         0.92105263,  0.81321839,  0.82727273,  0.        ,  0.        ,\n",
       "         0.        ,  0.        ,  0.61875   ,  0.68181818,  0.67647059,\n",
       "         0.        ,  0.        ,  0.        ,  0.8       ,  0.65517241,\n",
       "         0.625     ,  0.7826087 ,  0.78378378,  0.16666667,  0.30434783,\n",
       "         0.76555024,  0.11111111,  0.74698795,  0.5       ,  0.        ,\n",
       "         0.        ,  0.        ,  0.95      ,  0.        ,  0.        ,\n",
       "         0.6614937 ,  0.        ,  0.45      ,  0.        ,  0.36363636,\n",
       "         0.72413793,  0.42857143,  0.        ,  0.93908629,  0.79865772,\n",
       "         0.6       ,  0.13333333,  0.        ,  0.80882353,  0.        ,\n",
       "         0.63157895,  0.        ,  0.        ,  0.83333333,  0.94736842]),\n",
       " array([ 0.        ,  0.33333333,  0.91366906,  0.50909091,  0.        ,\n",
       "         0.52777778,  0.0952381 ,  0.76777251,  0.        ,  0.        ,\n",
       "         0.        ,  0.75675676,  0.        ,  0.        ,  0.54320988,\n",
       "         0.        ,  0.71428571,  0.        ,  0.        ,  0.83464567,\n",
       "         0.80071174,  0.68915663,  0.83916084,  0.        ,  0.        ,\n",
       "         0.        ,  0.        ,  0.        ,  0.5       ,  0.95238095,\n",
       "         0.70588235,  0.        ,  0.        ,  0.54761905,  0.80077745,\n",
       "         0.52941176,  0.63785047,  0.4       ,  0.5       ,  0.54320988,\n",
       "         0.        ,  0.61818182,  0.        ,  0.        ,  0.27118644,\n",
       "         0.        ,  0.        ,  0.66666667,  0.82352941,  0.        ,\n",
       "         0.        ,  0.        ,  0.        ,  0.        ,  0.        ,\n",
       "         0.        ,  0.        ,  0.8744186 ,  0.26666667,  0.63253012,\n",
       "         0.68965517,  0.66666667,  0.5       ,  0.51764706,  0.        ,\n",
       "         0.67741935,  0.        ,  0.4       ,  0.19047619,  0.        ,\n",
       "         0.76923077,  0.        ,  0.61068702,  0.84337349,  0.88584475,\n",
       "         0.82941176,  0.        ,  0.85173502,  0.74074074,  0.66666667,\n",
       "         0.89020772,  0.85714286,  0.        ,  0.68      ,  0.        ,\n",
       "         0.        ,  0.8       ,  0.52941176,  0.        ,  0.84144819,\n",
       "         0.78134111,  0.78297872,  0.28571429,  0.40816327,  0.76777251,\n",
       "         0.875     ,  0.26666667,  0.        ,  0.43478261,  0.75      ,\n",
       "         0.70588235,  0.        ,  0.28571429,  0.89655172,  0.        ,\n",
       "         0.6       ,  0.86666667,  0.85714286,  0.        ,  0.        ,\n",
       "         0.        ,  0.        ,  0.79285714,  0.76086957,  0.58064516,\n",
       "         0.29166667,  0.94117647,  0.89340102,  0.95      ,  0.        ,\n",
       "         0.72463768,  0.        ,  0.58823529,  0.        ,  0.        ,\n",
       "         0.        ,  0.        ,  0.66666667,  0.80956938,  0.36363636,\n",
       "         0.80565371,  0.90688259,  0.        ,  0.6       ,  0.        ,\n",
       "         0.        ,  0.        ,  0.728     ,  0.82022472,  0.        ,\n",
       "         0.76923077,  0.80536913,  0.44444444,  0.66666667,  0.        ,\n",
       "         0.        ,  0.8781331 ,  0.        ,  0.        ,  0.52      ,\n",
       "         0.89419795,  0.69863014,  0.83333333,  0.        ,  0.73972603,\n",
       "         0.82905983,  0.78431373,  0.69026549,  0.85714286,  0.72897196,\n",
       "         0.90614887,  0.82627737,  0.82727273,  0.        ,  0.        ,\n",
       "         0.        ,  0.        ,  0.62658228,  0.76923077,  0.73306773,\n",
       "         0.        ,  0.        ,  0.        ,  0.88888889,  0.76      ,\n",
       "         0.76923077,  0.8372093 ,  0.83253589,  0.28571429,  0.36842105,\n",
       "         0.78753076,  0.18181818,  0.8       ,  0.66666667,  0.        ,\n",
       "         0.        ,  0.        ,  0.95477387,  0.        ,  0.        ,\n",
       "         0.68063872,  0.        ,  0.54545455,  0.        ,  0.53333333,\n",
       "         0.80769231,  0.5       ,  0.        ,  0.92269327,  0.78807947,\n",
       "         0.63636364,  0.23529412,  0.        ,  0.82706767,  0.        ,\n",
       "         0.68571429,  0.        ,  0.        ,  0.90909091,  0.93103448]),\n",
       " array([   3,    5,  137,   29,    2,   80,   16,  224,    0,    3,    1,\n",
       "          21,    2,    2,   43,    1,   33,    1,    1,  201, 1143,  215,\n",
       "         223,    0,    0,    1,    3,    4,   12,   10,   22,    2,    1,\n",
       "          54,  537,   33,  433,   24,   14,  107,    0,   70,    2,    5,\n",
       "          41,    8,    0,   21,  153,    0,    2,   12,    2,    0,    3,\n",
       "           2,    0,  102,   12,  188,   14,    4,    8,   50,    4,  263,\n",
       "           1,   11,   17,    1,    8,    5,   77,   47,  108,  337,    0,\n",
       "         491,   17,    6,  169, 1109,    1,  213,    1,    6,    6,   18,\n",
       "           1,  388,  374,  110,    6,   26,  105,  355,   19,    5,   12,\n",
       "           5,   46,    3,   12,   15,    0,    3,   15,    4,    1,    4,\n",
       "           1,    6,  280,   54,   30,   29,    9,  105,  124,    3,  140,\n",
       "           1,    7,    2,    3,    4,    2,    2,  543,   16,  583,  123,\n",
       "           1,    7,    2,    5,    4,  121,   98,    4,  121,   76,    3,\n",
       "           8,    2,    2,  590,    1,    2,   33,  144,   86,   13,    4,\n",
       "          68,  126,  192,   55,    8,   56,  152,  348,  110,    2,    0,\n",
       "           7,    1,  160,   22,  136,    5,    0,    8,   10,   29,    8,\n",
       "          23,  111,    6,   23,  627,    9,   83,    2,    5,    2,    2,\n",
       "         100,    4,    0, 1031,    3,   40,    0,   11,   29,    7,    3,\n",
       "         197,  149,   35,   15,    0,  204,    1,   19,    4,    4,    6,\n",
       "         228]))"
      ]
     },
     "execution_count": 88,
     "metadata": {},
     "output_type": "execute_result"
    }
   ],
   "source": [
    "#average= None, the scores for each class are returned.\n",
    "precision_recall_fscore_support(y_dev, y_pred_dev, average=None, sample_weight=None)"
   ]
  },
  {
   "cell_type": "code",
   "execution_count": 89,
   "metadata": {},
   "outputs": [
    {
     "data": {
      "text/plain": [
       "(0.81482210844164371, 0.74565987865681504, 0.77870832157084158, None)"
      ]
     },
     "execution_count": 89,
     "metadata": {},
     "output_type": "execute_result"
    }
   ],
   "source": [
    "#Calculate globally by counting the total true positives, false negatives and false positives.\n",
    "precision_recall_fscore_support(y_dev, y_pred_dev, average='micro', sample_weight=None) "
   ]
  },
  {
   "cell_type": "code",
   "execution_count": 81,
   "metadata": {},
   "outputs": [
    {
     "name": "stderr",
     "output_type": "stream",
     "text": [
      "/Users/ellieking/Documents/tag_tax/govuk-taxonomy-supervised-learning/tax_SL/lib/python3.4/site-packages/sklearn/metrics/classification.py:1135: UndefinedMetricWarning: Precision and F-score are ill-defined and being set to 0.0 in labels with no predicted samples.\n",
      "  'precision', 'predicted', average, warn_for)\n",
      "/Users/ellieking/Documents/tag_tax/govuk-taxonomy-supervised-learning/tax_SL/lib/python3.4/site-packages/sklearn/metrics/classification.py:1137: UndefinedMetricWarning: Recall and F-score are ill-defined and being set to 0.0 in labels with no true samples.\n",
      "  'recall', 'true', average, warn_for)\n"
     ]
    },
    {
     "data": {
      "text/plain": [
       "(0.49035532175557561, 0.38708339113074203, 0.41802236578285584, None)"
      ]
     },
     "execution_count": 81,
     "metadata": {},
     "output_type": "execute_result"
    }
   ],
   "source": [
    "#Calculate metrics for each label, and find their unweighted mean. This does not take label imbalance into account\n",
    "precision_recall_fscore_support(y_dev, y_pred_dev, average='macro', sample_weight=None)"
   ]
  },
  {
   "cell_type": "markdown",
   "metadata": {},
   "source": [
    "## Tag unlabelled content"
   ]
  },
  {
   "cell_type": "code",
   "execution_count": null,
   "metadata": {},
   "outputs": [],
   "source": [
    "def get_predictions(new_texts, df, level1taxon=False):\n",
    "    #process data for model input\n",
    "    \n",
    "    new_sequences = tokenizer.texts_to_sequences(new_texts) #yield one sequence per input text\n",
    "\n",
    "    new_word_index = tokenizer.word_index\n",
    "    print('Found %s unique tokens.' % len(new_word_index))\n",
    "\n",
    "    x_new = pad_sequences(new_sequences, maxlen= MAX_SEQUENCE_LENGTH) #MAX_SEQUENCE_LENGTH\n",
    "    \n",
    "    print('Shape of untagged tensor:', x_new.shape)\n",
    "    \n",
    "    #predict tag for untagged data\n",
    "    y_pred_new = model.predict(x_new)\n",
    "    \n",
    "    #get model output into pandas & get a column to track index for later merge\n",
    "    y_pred_new = pd.DataFrame(y_pred_new)\n",
    "    y_pred_new['index_col'] = y_pred_new.index\n",
    "    \n",
    "    #Make long by taxon so easier to filter rows and examine effect of p_threshold\n",
    "    y_pred_new = pd.melt(y_pred_new, id_vars=['index_col'],\n",
    "                             var_name='level2taxon_code', value_name='probability')\n",
    "    \n",
    "    #get taxon names\n",
    "    y_pred_new['level2taxon'] = y_pred_new['level2taxon_code'].map(labels_index)\n",
    "    \n",
    "    if level1taxon==False:\n",
    "        #get the info about the content\n",
    "        new_info = df[[ 'base_path', 'content_id', 'title', 'description', \n",
    "                   'document_type', 'publishing_app', 'locale']]\n",
    "    else:\n",
    "        new_info = df[[ 'base_path', 'content_id', 'title', 'description', \n",
    "                   'document_type', 'publishing_app', 'locale', 'level1taxon']]\n",
    "    \n",
    "    \n",
    "    #merge content info with taxon prediction\n",
    "    pred_new = pd.merge(\n",
    "    left=new_info, \n",
    "    right=y_pred_new, \n",
    "    left_index=True,\n",
    "    right_on='index_col',\n",
    "    how='outer'\n",
    "    )\n",
    "    \n",
    "    #drop the cols needed for mergingin and naming\n",
    "    pred_new.drop(['index_col'], axis=1, inplace = True)\n",
    "    \n",
    "    #keep only rows where prob of taxon > 0.5\n",
    "    \n",
    "    \n",
    "    return pred_new #.loc[pred_new['probability'] > P_THRESHOLD] #only return rows/samples where probability is hihger than threshold\n",
    "    "
   ]
  },
  {
   "cell_type": "markdown",
   "metadata": {},
   "source": [
    "### Untagged"
   ]
  },
  {
   "cell_type": "code",
   "execution_count": null,
   "metadata": {},
   "outputs": [],
   "source": [
    "#read in untagged content\n",
    "untagged_raw = pd.read_csv(os.path.join(DATADIR, 'untagged_content.csv.gz'), dtype=object, compression='gzip')"
   ]
  },
  {
   "cell_type": "code",
   "execution_count": null,
   "metadata": {},
   "outputs": [],
   "source": [
    "untagged_raw.head()"
   ]
  },
  {
   "cell_type": "code",
   "execution_count": null,
   "metadata": {},
   "outputs": [],
   "source": [
    "new_texts = untagged_raw['combined_text']"
   ]
  },
  {
   "cell_type": "code",
   "execution_count": null,
   "metadata": {},
   "outputs": [],
   "source": [
    "pred_untagged = get_predictions(new_texts, untagged_raw)"
   ]
  },
  {
   "cell_type": "code",
   "execution_count": null,
   "metadata": {},
   "outputs": [],
   "source": [
    "#data is long by taxon\n",
    "print('Number of unique content items: {}'.format(pred_untagged.content_id.nunique()))\n",
    "print('Number of content items tagged to taxons with more than p_threshold: {}'.format(pred_untagged.shape))"
   ]
  },
  {
   "cell_type": "code",
   "execution_count": null,
   "metadata": {},
   "outputs": [],
   "source": [
    "pred_untagged.loc[(pred_untagged['probability'] > 0.65) & (pred_untagged['probability'] < 0.85)].sort_values(by='probability', ascending=False)"
   ]
  },
  {
   "cell_type": "code",
   "execution_count": null,
   "metadata": {},
   "outputs": [],
   "source": [
    "#write to csv\n",
    "pred_untagged.to_csv(os.path.join(DATADIR, 'predictions_for_untagged_data_trainingdatatok.csv'), index=False)"
   ]
  },
  {
   "cell_type": "code",
   "execution_count": null,
   "metadata": {},
   "outputs": [],
   "source": [
    "# apply tokenizer to our text data\n",
    "tokenizer.fit_on_texts(new_texts)\n",
    "\n",
    "pred_untagged_refit_tok = get_predictions(new_texts, untagged_raw)\n"
   ]
  },
  {
   "cell_type": "code",
   "execution_count": null,
   "metadata": {},
   "outputs": [],
   "source": [
    "#write to csv\n",
    "pred_untagged_refit_tok.to_csv(os.path.join(DATADIR, 'predictions_for_untagged_data_refittok.csv'), index=False)"
   ]
  },
  {
   "cell_type": "markdown",
   "metadata": {},
   "source": [
    "### New data (untagged + old taxons)"
   ]
  },
  {
   "cell_type": "markdown",
   "metadata": {},
   "source": [
    "old_taxons data has no combined text. This needs fixing in the data pipeline before being able to use these data for predictions"
   ]
  },
  {
   "cell_type": "code",
   "execution_count": null,
   "metadata": {},
   "outputs": [],
   "source": [
    "#read in untagged content\n",
    "new_raw = pd.read_csv(os.path.join(DATADIR, 'new_content.csv'), dtype=object)"
   ]
  },
  {
   "cell_type": "code",
   "execution_count": null,
   "metadata": {},
   "outputs": [],
   "source": [
    "new_raw.shape"
   ]
  },
  {
   "cell_type": "code",
   "execution_count": null,
   "metadata": {},
   "outputs": [],
   "source": [
    "type(new_raw['combined_text'][0])"
   ]
  },
  {
   "cell_type": "code",
   "execution_count": null,
   "metadata": {},
   "outputs": [],
   "source": [
    "new_raw['combined_text'][0]"
   ]
  },
  {
   "cell_type": "code",
   "execution_count": null,
   "metadata": {},
   "outputs": [],
   "source": [
    "len(new_raw[new_raw['combined_text'].isna()])"
   ]
  },
  {
   "cell_type": "code",
   "execution_count": null,
   "metadata": {},
   "outputs": [],
   "source": [
    "(new_raw.loc[(new_raw['combined_text'].isna()) & (new_raw['untagged_type'] == 'old_taxons')]).shape"
   ]
  },
  {
   "cell_type": "code",
   "execution_count": null,
   "metadata": {},
   "outputs": [],
   "source": [
    "new_raw[new_raw.untagged_type == 'old_taxons']"
   ]
  },
  {
   "cell_type": "code",
   "execution_count": null,
   "metadata": {},
   "outputs": [],
   "source": [
    "#make a copy so you can edit data without needed to read in each time\n",
    "new_df = new_raw.copy(deep=True)"
   ]
  },
  {
   "cell_type": "code",
   "execution_count": null,
   "metadata": {},
   "outputs": [],
   "source": [
    "pred_new = get_predictions(new_df )"
   ]
  },
  {
   "cell_type": "code",
   "execution_count": null,
   "metadata": {},
   "outputs": [],
   "source": [
    "#keep only rows where prob of taxon > 0.5\n",
    "pred_new = pred_new.loc[pred_new['probability'] > 0.5]"
   ]
  },
  {
   "cell_type": "code",
   "execution_count": null,
   "metadata": {},
   "outputs": [],
   "source": [
    "#write to csv\n",
    "pred_new.to_csv(os.path.join(DATADIR, 'predictions_for_new_data.csv'), index=False)"
   ]
  },
  {
   "cell_type": "markdown",
   "metadata": {},
   "source": [
    "### Labelled at level1only"
   ]
  },
  {
   "cell_type": "code",
   "execution_count": null,
   "metadata": {},
   "outputs": [],
   "source": [
    "labelled_level1 = pd.read_csv(os.path.join(DATADIR, 'labelled_level1.csv'), dtype=object)"
   ]
  },
  {
   "cell_type": "code",
   "execution_count": null,
   "metadata": {},
   "outputs": [],
   "source": [
    "level1_texts = labelled_level1['combined_text']"
   ]
  },
  {
   "cell_type": "code",
   "execution_count": null,
   "metadata": {},
   "outputs": [],
   "source": [
    "#reset tokenizer to training data texts\n",
    "tokenizer.fit_on_texts(texts)"
   ]
  },
  {
   "cell_type": "code",
   "execution_count": null,
   "metadata": {},
   "outputs": [],
   "source": [
    "pred_labelled_level1 = get_predictions(level1_texts, labelled_level1, level1taxon=True)"
   ]
  },
  {
   "cell_type": "code",
   "execution_count": null,
   "metadata": {},
   "outputs": [],
   "source": [
    "pred_labelled_level1.sort_values(by='probability', ascending=False)"
   ]
  },
  {
   "cell_type": "code",
   "execution_count": null,
   "metadata": {},
   "outputs": [],
   "source": [
    "#write to csv\n",
    "pred_labelled_level1.to_csv(os.path.join(DATADIR, 'predictions_for_level1only.csv'), index=False)"
   ]
  },
  {
   "cell_type": "code",
   "execution_count": null,
   "metadata": {},
   "outputs": [],
   "source": [
    "from IPython.display import SVG\n",
    "from keras.utils.vis_utils import model_to_dot\n",
    "\n",
    "SVG(model_to_dot(model).create(prog='dot', format='svg'))"
   ]
  },
  {
   "cell_type": "code",
   "execution_count": null,
   "metadata": {},
   "outputs": [],
   "source": [
    "from keras.utils import plot_model\n",
    "plot_model(model, to_file='cnn.png', show_shapes=True)"
   ]
  },
  {
   "cell_type": "code",
   "execution_count": null,
   "metadata": {},
   "outputs": [],
   "source": []
  }
 ],
 "metadata": {
  "keep_output": true,
  "kernelspec": {
   "display_name": "tax_SL",
   "language": "python",
   "name": "tax_sl"
  },
  "language_info": {
   "codemirror_mode": {
    "name": "ipython",
    "version": 3
   },
   "file_extension": ".py",
   "mimetype": "text/x-python",
   "name": "python",
   "nbconvert_exporter": "python",
   "pygments_lexer": "ipython3",
   "version": "3.4.6"
  }
 },
 "nbformat": 4,
 "nbformat_minor": 2
}
