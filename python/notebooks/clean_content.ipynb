{
 "cells": [
  {
   "cell_type": "code",
   "execution_count": 1,
   "metadata": {},
   "outputs": [],
   "source": [
    "import numpy as np\n",
    "import pandas as pd\n",
    "from lxml import etree"
   ]
  },
  {
   "cell_type": "code",
   "execution_count": null,
   "metadata": {},
   "outputs": [],
   "source": [
    "# Get data file locations\n",
    "\n",
    "CONTENT_INPUT = '../../data/raw_content.json'\n",
    "CONTENT_OUTPUT = '../../data/clean_content.csv'"
   ]
  },
  {
   "cell_type": "code",
   "execution_count": null,
   "metadata": {},
   "outputs": [],
   "source": [
    "#download the taxon data from content store for all links which are taxons\n",
    "content = pd.read_json(\n",
    "    CONTENT_INPUT, \n",
    "    orient='table', \n",
    "    typ='frame', \n",
    "    dtype=True, \n",
    "    convert_axes=True, \n",
    "    convert_dates=True, \n",
    "    keep_default_dates=True, \n",
    "    numpy=False, \n",
    "    precise_float=False, \n",
    "    date_unit=None\n",
    ")\n"
   ]
  },
  {
   "cell_type": "code",
   "execution_count": null,
   "metadata": {},
   "outputs": [],
   "source": [
    "#content.head()"
   ]
  },
  {
   "cell_type": "code",
   "execution_count": null,
   "metadata": {},
   "outputs": [],
   "source": [
    "#content['details'][0]"
   ]
  },
  {
   "cell_type": "code",
   "execution_count": null,
   "metadata": {},
   "outputs": [],
   "source": [
    "#content['details'][50].get('body')"
   ]
  },
  {
   "cell_type": "code",
   "execution_count": null,
   "metadata": {},
   "outputs": [],
   "source": [
    "content = content.assign(body = [d.get('body') for d in content.details])"
   ]
  },
  {
   "cell_type": "code",
   "execution_count": null,
   "metadata": {},
   "outputs": [],
   "source": [
    "# Clean the html\n",
    "\n",
    "def extract_text(body):\n",
    "    \n",
    "    r = None\n",
    "    #if lxml.html.fromstring(html).find('.//*') is not None:\n",
    "    # This is horribly hacky. Previously this was failing on single new line\n",
    "    # characters.\n",
    "    if body and body != '\\n':\n",
    "        tree = etree.HTML(body)\n",
    "        r = tree.xpath('//text()')\n",
    "        r = ' '.join(r)\n",
    "        r = r.strip().replace('\\n', ' ').replace('\\r', ' ').replace('\\t', ' ')\n",
    "        r = r.replace('\\n', ' ').replace(',', ' ')\n",
    "        r = r.lower()\n",
    "        r = ' '.join(r.split())\n",
    "    if not r:\n",
    "        r = ' '\n",
    "    return r"
   ]
  },
  {
   "cell_type": "code",
   "execution_count": null,
   "metadata": {},
   "outputs": [],
   "source": [
    "content = content.assign(body = content['body'].apply(extract_text))\n",
    "content = content.assign(description = content['description'].apply(extract_text))\n",
    "content = content.assign(title = content['title'].apply(extract_text))"
   ]
  },
  {
   "cell_type": "code",
   "execution_count": null,
   "metadata": {},
   "outputs": [],
   "source": [
    "content['combined_text'] = content['title'] + ' ' + content['description'] + ' ' + content['body']"
   ]
  },
  {
   "cell_type": "code",
   "execution_count": null,
   "metadata": {},
   "outputs": [],
   "source": [
    "content['taxons'] = content['taxons'].where((pd.notnull(content['taxons'])), None)\n",
    "#content['taxons'] = content['taxons'].fillna(value=None)"
   ]
  },
  {
   "cell_type": "code",
   "execution_count": null,
   "metadata": {},
   "outputs": [],
   "source": [
    "content.columns"
   ]
  },
  {
   "cell_type": "code",
   "execution_count": null,
   "metadata": {},
   "outputs": [],
   "source": [
    "content_columns = content.drop(['taxons'], axis=1).columns.values"
   ]
  },
  {
   "cell_type": "code",
   "execution_count": null,
   "metadata": {},
   "outputs": [],
   "source": [
    "content_wide = pd.concat([content.drop('taxons', axis=1), content['taxons'].apply(pd.Series)], axis=1)"
   ]
  },
  {
   "cell_type": "code",
   "execution_count": null,
   "metadata": {},
   "outputs": [],
   "source": [
    "content_long = pd.melt(content_wide, id_vars=content_columns, value_name='taxon')"
   ]
  },
  {
   "cell_type": "code",
   "execution_count": null,
   "metadata": {},
   "outputs": [],
   "source": [
    "content_long.columns"
   ]
  },
  {
   "cell_type": "code",
   "execution_count": null,
   "metadata": {},
   "outputs": [],
   "source": [
    "content_long['taxon'][4]"
   ]
  },
  {
   "cell_type": "code",
   "execution_count": null,
   "metadata": {},
   "outputs": [],
   "source": [
    "content_wide[0:10]"
   ]
  },
  {
   "cell_type": "code",
   "execution_count": null,
   "metadata": {},
   "outputs": [],
   "source": [
    "mask = content_long['taxon'].isnull()\n",
    "content_long = content_long[~mask]"
   ]
  },
  {
   "cell_type": "code",
   "execution_count": null,
   "metadata": {},
   "outputs": [],
   "source": [
    "content_long = content_long.assign(taxon_id = [d['content_id'] for d in content_long['taxon']])"
   ]
  },
  {
   "cell_type": "code",
   "execution_count": null,
   "metadata": {},
   "outputs": [],
   "source": [
    "content_long = content_long.drop(['taxon'], axis=1)"
   ]
  },
  {
   "cell_type": "code",
   "execution_count": null,
   "metadata": {},
   "outputs": [],
   "source": [
    "content_long.shape[0]"
   ]
  },
  {
   "cell_type": "code",
   "execution_count": null,
   "metadata": {},
   "outputs": [],
   "source": [
    "content_long.head()"
   ]
  }
 ],
 "metadata": {
  "kernelspec": {
   "display_name": "govuk-legacy-taxonomy",
   "language": "python",
   "name": "govuk-legacy-taxonomy"
  },
  "language_info": {
   "codemirror_mode": {
    "name": "ipython",
    "version": 3
   },
   "file_extension": ".py",
   "mimetype": "text/x-python",
   "name": "python",
   "nbconvert_exporter": "python",
   "pygments_lexer": "ipython3",
   "version": "3.4.6"
  }
 },
 "nbformat": 4,
 "nbformat_minor": 2
}
