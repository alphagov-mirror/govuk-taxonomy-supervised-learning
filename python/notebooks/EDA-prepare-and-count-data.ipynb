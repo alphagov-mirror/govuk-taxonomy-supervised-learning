{
 "cells": [
  {
   "cell_type": "code",
   "execution_count": 1,
   "metadata": {},
   "outputs": [],
   "source": [
    "import numpy as np\n",
    "import pandas as pd\n",
    "import seaborn as sns\n",
    "import matplotlib.pyplot as plt\n",
    "import functools\n",
    "%matplotlib inline"
   ]
  },
  {
   "cell_type": "markdown",
   "metadata": {},
   "source": [
    "# Untagged data"
   ]
  },
  {
   "cell_type": "markdown",
   "metadata": {},
   "source": [
    "These data were written out from the clean_content.py script where the taxons column was empty. \n",
    "- Here we assume the taxon column was empty because the content item has not been tagged."
   ]
  },
  {
   "cell_type": "code",
   "execution_count": 2,
   "metadata": {},
   "outputs": [],
   "source": [
    "#read in untagged content to describe content with no taxons\n",
    "untagged = pd.read_csv('../../data/untagged_content.csv')"
   ]
  },
  {
   "cell_type": "code",
   "execution_count": 3,
   "metadata": {},
   "outputs": [
    {
     "name": "stdout",
     "output_type": "stream",
     "text": [
      "There are 57337 rows in the untagged content data\n",
      "There are 57123 unique content items in the untagged content data\n"
     ]
    }
   ],
   "source": [
    "print(\"There are {} rows in the untagged content data\".\n",
    "      format(untagged.shape[0]))\n",
    "print(\"There are {} unique content items in the untagged content data\".\n",
    "      format(untagged.content_id.nunique()))"
   ]
  },
  {
   "cell_type": "code",
   "execution_count": 4,
   "metadata": {},
   "outputs": [
    {
     "data": {
      "text/plain": [
       "Index(['Unnamed: 0', 'base_path', 'content_id', 'description', 'details',\n",
       "       'document_type', 'first_published_at', 'locale',\n",
       "       'primary_publishing_organisation', 'publishing_app', 'taxons', 'title',\n",
       "       'body'],\n",
       "      dtype='object')"
      ]
     },
     "execution_count": 4,
     "metadata": {},
     "output_type": "execute_result"
    }
   ],
   "source": [
    "untagged.columns"
   ]
  },
  {
   "cell_type": "code",
   "execution_count": 5,
   "metadata": {},
   "outputs": [
    {
     "name": "stdout",
     "output_type": "stream",
     "text": [
      "<class 'str'>\n",
      "<class 'pandas._libs.tslib.Timestamp'>\n"
     ]
    }
   ],
   "source": [
    "#convert string dates to timestamp for time series analyses (see below)\n",
    "print(type(untagged['first_published_at'][0]))\n",
    "untagged['first_published_at'] = pd.to_datetime(untagged['first_published_at'])\n",
    "print(type(untagged['first_published_at'][0]))"
   ]
  },
  {
   "cell_type": "code",
   "execution_count": 6,
   "metadata": {},
   "outputs": [],
   "source": [
    "#use timestamp as index in untagged data for plots\n",
    "untagged.index = untagged['first_published_at'] "
   ]
  },
  {
   "cell_type": "markdown",
   "metadata": {},
   "source": [
    "# Taxon data"
   ]
  },
  {
   "cell_type": "markdown",
   "metadata": {},
   "source": [
    "Taxons data is a row for each taxon with columns for the taxon_id/taxon title at each level. So, for example, if an item has only been tagged to level1 then level2 and subsequent levels will be missing. If an item was tagged to level3, the level2 and level1 columns have been filled recursively. \n",
    "\n",
    "A taxon in taxons is identified through content_id"
   ]
  },
  {
   "cell_type": "code",
   "execution_count": 7,
   "metadata": {},
   "outputs": [],
   "source": [
    "#read in taxon file which was cleaned from raw using clean_taxons.py\n",
    "taxons = pd.read_csv('../../data/clean_taxons.csv')"
   ]
  },
  {
   "cell_type": "code",
   "execution_count": 8,
   "metadata": {},
   "outputs": [
    {
     "data": {
      "text/plain": [
       "Index(['Unnamed: 0', 'base_path', 'content_id', 'taxon_name', 'level1',\n",
       "       'level2tax_id', 'level3tax_id', 'level4tax_id', 'level1taxon',\n",
       "       'level2taxon', 'level3taxon', 'level4taxon'],\n",
       "      dtype='object')"
      ]
     },
     "execution_count": 8,
     "metadata": {},
     "output_type": "execute_result"
    }
   ],
   "source": [
    "taxons.columns"
   ]
  },
  {
   "cell_type": "code",
   "execution_count": 9,
   "metadata": {},
   "outputs": [],
   "source": [
    "taxons = taxons[['base_path','content_id','taxon_name','level1taxon','level2taxon','level3taxon','level4taxon']].copy()"
   ]
  },
  {
   "cell_type": "markdown",
   "metadata": {},
   "source": [
    "#### This section needs to be moved to clean_taxons.py"
   ]
  },
  {
   "cell_type": "code",
   "execution_count": 10,
   "metadata": {},
   "outputs": [],
   "source": [
    "#For top taxons (level1) ensure that taxon)name is in level1taxon column instead of Nan\n",
    "taxons['level1taxon'] = taxons['level1taxon'].fillna(taxons['taxon_name'])"
   ]
  },
  {
   "cell_type": "code",
   "execution_count": 11,
   "metadata": {},
   "outputs": [],
   "source": [
    "#function to combine boolean series into one\n",
    "\n",
    "def conjunction(*conditions):\n",
    "    return functools.reduce(np.logical_and, conditions)"
   ]
  },
  {
   "cell_type": "code",
   "execution_count": 12,
   "metadata": {},
   "outputs": [],
   "source": [
    "#make a copy of taxons for working with\n",
    "taxonslevels = taxons.copy()\n",
    "#define the condition \n",
    "cond = conjunction(taxonslevels['level2taxon'].isna(), taxonslevels['level1taxon'] != taxonslevels['taxon_name'])\n",
    "#change the values of the column if the condition is met to the taxon-name, otherwise the original string\n",
    "taxonslevels['level2taxon'] = np.where(cond, taxonslevels['taxon_name'], taxonslevels['level2taxon'])"
   ]
  },
  {
   "cell_type": "code",
   "execution_count": 13,
   "metadata": {},
   "outputs": [],
   "source": [
    "cond = conjunction(taxons['level2taxon'] != taxons['taxon_name'], taxons['level3taxon'].isna(), taxons['level2taxon'].notnull())\n",
    "taxonslevels['level3taxon'] = np.where(cond, taxonslevels['taxon_name'], taxonslevels['level3taxon'])"
   ]
  },
  {
   "cell_type": "code",
   "execution_count": 14,
   "metadata": {},
   "outputs": [],
   "source": [
    "cond = conjunction(taxons['level3taxon'] != taxons['taxon_name'], taxons['level2taxon'] != taxons['taxon_name'], taxons['level4taxon'].isna(), taxons['level3taxon'].notnull())\n",
    "taxonslevels['level4taxon'] = np.where(cond, taxonslevels['taxon_name'], taxonslevels['level4taxon'])"
   ]
  },
  {
   "cell_type": "code",
   "execution_count": 15,
   "metadata": {},
   "outputs": [],
   "source": [
    "#create new column for last taxon level\n",
    "taxonslevels['level5taxon'] = np.nan\n",
    "cond = conjunction(taxons['level4taxon'] != taxons['taxon_name'], taxons['level3taxon'] != taxons['taxon_name'], taxons['level2taxon'] != taxons['taxon_name'], taxons['level4taxon'].notnull())\n",
    "taxonslevels['level5taxon'] = np.where(cond, taxonslevels['taxon_name'], taxonslevels['level5taxon'])"
   ]
  },
  {
   "cell_type": "code",
   "execution_count": 16,
   "metadata": {},
   "outputs": [],
   "source": [
    "#copy the working df back to taxons\n",
    "taxons = taxonslevels.copy()\n"
   ]
  },
  {
   "cell_type": "markdown",
   "metadata": {},
   "source": [
    "# Content data"
   ]
  },
  {
   "cell_type": "markdown",
   "metadata": {},
   "source": [
    "These data were created in clean_content.py so that each row represents a single content-taxon pair. There can be multiple rows for a content item (content_id) if it has been tagged to multiple taxons (taxon_id).  "
   ]
  },
  {
   "cell_type": "code",
   "execution_count": 17,
   "metadata": {},
   "outputs": [],
   "source": [
    "#read in content items file which was cleaned from raw using clean_content.py\n",
    "\n",
    "content = pd.read_csv('../../data/clean_content.csv.gz', compression='gzip')"
   ]
  },
  {
   "cell_type": "code",
   "execution_count": 18,
   "metadata": {},
   "outputs": [
    {
     "data": {
      "text/plain": [
       "Index(['Unnamed: 0', 'base_path', 'content_id', 'description', 'details',\n",
       "       'document_type', 'first_published_at', 'locale',\n",
       "       'primary_publishing_organisation', 'publishing_app', 'title', 'body',\n",
       "       'combined_text', 'variable', 'taxon_id'],\n",
       "      dtype='object')"
      ]
     },
     "execution_count": 18,
     "metadata": {},
     "output_type": "execute_result"
    }
   ],
   "source": [
    "content.columns"
   ]
  },
  {
   "cell_type": "code",
   "execution_count": 19,
   "metadata": {},
   "outputs": [
    {
     "data": {
      "text/plain": [
       "(335615, 15)"
      ]
     },
     "execution_count": 19,
     "metadata": {},
     "output_type": "execute_result"
    }
   ],
   "source": [
    "content.shape"
   ]
  },
  {
   "cell_type": "code",
   "execution_count": 20,
   "metadata": {},
   "outputs": [
    {
     "data": {
      "text/plain": [
       "140103"
      ]
     },
     "execution_count": 20,
     "metadata": {},
     "output_type": "execute_result"
    }
   ],
   "source": [
    "content.content_id.nunique()"
   ]
  },
  {
   "cell_type": "markdown",
   "metadata": {},
   "source": [
    "## All content with no filtering by taxon"
   ]
  },
  {
   "cell_type": "code",
   "execution_count": 21,
   "metadata": {},
   "outputs": [],
   "source": [
    "allcontent_taxons = pd.merge(\n",
    "    left=content, \n",
    "    right=taxons, \n",
    "    left_on='taxon_id', #which taxon is the content item tagged to\n",
    "    right_on='content_id', #what is the id of that taxon\n",
    "    how='outer', #keep everything for checking merge\n",
    "    indicator=True #so we can filter by match type\n",
    ")"
   ]
  },
  {
   "cell_type": "code",
   "execution_count": 22,
   "metadata": {},
   "outputs": [
    {
     "data": {
      "text/plain": [
       "(336967, 24)"
      ]
     },
     "execution_count": 22,
     "metadata": {},
     "output_type": "execute_result"
    }
   ],
   "source": [
    "allcontent_taxons.shape"
   ]
  },
  {
   "cell_type": "code",
   "execution_count": 23,
   "metadata": {},
   "outputs": [],
   "source": [
    "#tidy column names\n",
    "allcontent_taxons.rename(columns={'base_path_x': 'base_path', \n",
    "                               'content_id_x': 'content_id'}, inplace=True)"
   ]
  },
  {
   "cell_type": "code",
   "execution_count": 24,
   "metadata": {},
   "outputs": [
    {
     "name": "stdout",
     "output_type": "stream",
     "text": [
      "both          232526\n",
      "left_only     103089\n",
      "right_only      1352\n",
      "Name: _merge, dtype: int64\n"
     ]
    }
   ],
   "source": [
    "print(allcontent_taxons['_merge'].value_counts())"
   ]
  },
  {
   "cell_type": "code",
   "execution_count": 25,
   "metadata": {},
   "outputs": [
    {
     "data": {
      "text/plain": [
       "54370"
      ]
     },
     "execution_count": 25,
     "metadata": {},
     "output_type": "execute_result"
    }
   ],
   "source": [
    "allcontent_taxons[allcontent_taxons._merge == 'left_only'].content_id.nunique()"
   ]
  },
  {
   "cell_type": "code",
   "execution_count": 26,
   "metadata": {},
   "outputs": [
    {
     "data": {
      "text/plain": [
       "(1352, 24)"
      ]
     },
     "execution_count": 26,
     "metadata": {},
     "output_type": "execute_result"
    }
   ],
   "source": [
    "empty_taxons=allcontent_taxons[allcontent_taxons._merge == 'right_only']\n",
    "empty_taxons.shape"
   ]
  },
  {
   "cell_type": "markdown",
   "metadata": {},
   "source": [
    "#### All content with no filtering by taxon"
   ]
  },
  {
   "cell_type": "code",
   "execution_count": 27,
   "metadata": {},
   "outputs": [],
   "source": [
    "#intersection of join only\n",
    "allcontent_taxons = allcontent_taxons[allcontent_taxons._merge == 'both']"
   ]
  },
  {
   "cell_type": "code",
   "execution_count": 28,
   "metadata": {},
   "outputs": [
    {
     "data": {
      "text/plain": [
       "(232526, 24)"
      ]
     },
     "execution_count": 28,
     "metadata": {},
     "output_type": "execute_result"
    }
   ],
   "source": [
    "allcontent_taxons.shape"
   ]
  },
  {
   "cell_type": "code",
   "execution_count": 29,
   "metadata": {},
   "outputs": [],
   "source": [
    "#remove duplicates if both content_id and taxon_id are the same. \n",
    "allcontent_taxons = allcontent_taxons.drop_duplicates(subset = ['content_id', 'taxon_id'])"
   ]
  },
  {
   "cell_type": "code",
   "execution_count": 30,
   "metadata": {},
   "outputs": [
    {
     "data": {
      "text/plain": [
       "(232149, 24)"
      ]
     },
     "execution_count": 30,
     "metadata": {},
     "output_type": "execute_result"
    }
   ],
   "source": [
    "allcontent_taxons.shape"
   ]
  },
  {
   "cell_type": "code",
   "execution_count": 31,
   "metadata": {},
   "outputs": [
    {
     "data": {
      "text/plain": [
       "128577"
      ]
     },
     "execution_count": 31,
     "metadata": {},
     "output_type": "execute_result"
    }
   ],
   "source": [
    "allcontent_taxons.content_id.nunique()"
   ]
  },
  {
   "cell_type": "markdown",
   "metadata": {},
   "source": [
    "## Filter by taxon to exclude specific taxons from prediction activities"
   ]
  },
  {
   "cell_type": "markdown",
   "metadata": {},
   "source": [
    "Current approach: Take out World and Corporate top taxons   \n",
    "Must consider that the data which we will predict on needs to come from the same population as training data and it is hard to filter the unlabelled data to remove World & Corporate (unless they are perfectly predicted by a meta var such as documnet type). It may be safer to keep them in the training data, predict on all data and act differently if World/Corporate is predicted?"
   ]
  },
  {
   "cell_type": "code",
   "execution_count": 32,
   "metadata": {},
   "outputs": [
    {
     "data": {
      "text/plain": [
       "(4530, 8)"
      ]
     },
     "execution_count": 32,
     "metadata": {},
     "output_type": "execute_result"
    }
   ],
   "source": [
    "taxons.shape"
   ]
  },
  {
   "cell_type": "code",
   "execution_count": 33,
   "metadata": {},
   "outputs": [
    {
     "name": "stdout",
     "output_type": "stream",
     "text": [
      "Taxons shape after deleting 'World' top taxons: (2028, 8)\n"
     ]
    }
   ],
   "source": [
    "taxons = taxons[taxons.level1taxon != 'World']\n",
    "print(\"Taxons shape after deleting 'World' top taxons: {}\".format(taxons.shape))"
   ]
  },
  {
   "cell_type": "code",
   "execution_count": 34,
   "metadata": {},
   "outputs": [
    {
     "name": "stdout",
     "output_type": "stream",
     "text": [
      "Taxons shape after deleting 'corporate information' top taxons: (2027, 8)\n"
     ]
    }
   ],
   "source": [
    "taxons = taxons[taxons.level1taxon != 'Corporate information']\n",
    "print(\"Taxons shape after deleting 'corporate information' top taxons: {}\".format(taxons.shape))"
   ]
  },
  {
   "cell_type": "markdown",
   "metadata": {},
   "source": [
    "Is it possible that corporate information has already been excluded from the taxons file? Need to re-consider this approach"
   ]
  },
  {
   "cell_type": "code",
   "execution_count": 61,
   "metadata": {},
   "outputs": [],
   "source": [
    "content_taxons = pd.merge(\n",
    "    left=content, \n",
    "    right=taxons, \n",
    "    left_on='taxon_id', \n",
    "    right_on='content_id', \n",
    "    how='outer', \n",
    "    indicator=True\n",
    ")"
   ]
  },
  {
   "cell_type": "code",
   "execution_count": 62,
   "metadata": {},
   "outputs": [
    {
     "name": "stdout",
     "output_type": "stream",
     "text": [
      "both          229461\n",
      "left_only     106154\n",
      "right_only       105\n",
      "Name: _merge, dtype: int64\n",
      "There are 229461 tagged content items/taxon combinations with a matching taxon\n",
      "There are 106154 content items/taxon combinations without a matching taxon. Are these untagged content?\n",
      "There are 105 /taxons with nothing tagged to them\n"
     ]
    }
   ],
   "source": [
    "print(content_taxons['_merge'].value_counts())\n",
    "print(\"There are {} tagged content items/taxon combinations with a matching taxon\"\n",
    "      .format(content_taxons['_merge'].value_counts()[2]))\n",
    "print(\"There are {} content items/taxon combinations without a matching taxon. Are these untagged content?\"\n",
    "      .format(content_taxons['_merge'].value_counts()[0]))\n",
    "print(\"There are {} /taxons with nothing tagged to them\"\n",
    "      .format(content_taxons['_merge'].value_counts()[1]))\n"
   ]
  },
  {
   "cell_type": "code",
   "execution_count": 63,
   "metadata": {},
   "outputs": [],
   "source": [
    "empty_taxons_notworld=content_old_taxons = content_taxons[['base_path_y', 'content_id_y',\n",
    "       'taxon_name', 'level1taxon', 'level2taxon', 'level3taxon',\n",
    "       'level4taxon', 'level5taxon']][content_taxons._merge == 'right_only']"
   ]
  },
  {
   "cell_type": "markdown",
   "metadata": {},
   "source": [
    "### Explore the left_only content"
   ]
  },
  {
   "cell_type": "markdown",
   "metadata": {},
   "source": [
    "Need to add this to untagged data..."
   ]
  },
  {
   "cell_type": "code",
   "execution_count": 80,
   "metadata": {},
   "outputs": [],
   "source": [
    "content_old_taxons = content_taxons[['base_path_x', 'content_id_x', 'document_type', 'first_published_at', 'locale',\n",
    "       'primary_publishing_organisation', 'publishing_app', 'title', 'taxon_id']][content_taxons._merge == 'left_only']"
   ]
  },
  {
   "cell_type": "code",
   "execution_count": 81,
   "metadata": {},
   "outputs": [
    {
     "data": {
      "text/html": [
       "<div>\n",
       "<style scoped>\n",
       "    .dataframe tbody tr th:only-of-type {\n",
       "        vertical-align: middle;\n",
       "    }\n",
       "\n",
       "    .dataframe tbody tr th {\n",
       "        vertical-align: top;\n",
       "    }\n",
       "\n",
       "    .dataframe thead th {\n",
       "        text-align: right;\n",
       "    }\n",
       "</style>\n",
       "<table border=\"1\" class=\"dataframe\">\n",
       "  <thead>\n",
       "    <tr style=\"text-align: right;\">\n",
       "      <th></th>\n",
       "      <th>base_path_x</th>\n",
       "      <th>content_id_x</th>\n",
       "      <th>document_type</th>\n",
       "      <th>first_published_at</th>\n",
       "      <th>locale</th>\n",
       "      <th>primary_publishing_organisation</th>\n",
       "      <th>publishing_app</th>\n",
       "      <th>title</th>\n",
       "      <th>taxon_id</th>\n",
       "    </tr>\n",
       "  </thead>\n",
       "  <tbody>\n",
       "    <tr>\n",
       "      <th>0</th>\n",
       "      <td>/vehicle-tax</td>\n",
       "      <td>fa748fae-3de4-4266-ae85-0797ada3f40c</td>\n",
       "      <td>transaction</td>\n",
       "      <td>2016-02-29T09:24:10.000+00:00</td>\n",
       "      <td>en</td>\n",
       "      <td>NaN</td>\n",
       "      <td>publisher</td>\n",
       "      <td>tax your vehicle</td>\n",
       "      <td>948b6dd4-45b3-45ab-a5c6-5dbce75542a6</td>\n",
       "    </tr>\n",
       "    <tr>\n",
       "      <th>1</th>\n",
       "      <td>/check-vehicle-tax</td>\n",
       "      <td>0889f128-e479-465f-b3e1-a3db6a3879cf</td>\n",
       "      <td>transaction</td>\n",
       "      <td>2016-02-29T09:24:10.000+00:00</td>\n",
       "      <td>en</td>\n",
       "      <td>NaN</td>\n",
       "      <td>publisher</td>\n",
       "      <td>check if a vehicle is taxed</td>\n",
       "      <td>948b6dd4-45b3-45ab-a5c6-5dbce75542a6</td>\n",
       "    </tr>\n",
       "    <tr>\n",
       "      <th>2</th>\n",
       "      <td>/check-mot-history</td>\n",
       "      <td>ad5110e0-fa62-49d3-923f-d50101f12014</td>\n",
       "      <td>transaction</td>\n",
       "      <td>2016-02-29T09:24:10.000+00:00</td>\n",
       "      <td>en</td>\n",
       "      <td>NaN</td>\n",
       "      <td>publisher</td>\n",
       "      <td>check the mot history of a vehicle</td>\n",
       "      <td>948b6dd4-45b3-45ab-a5c6-5dbce75542a6</td>\n",
       "    </tr>\n",
       "    <tr>\n",
       "      <th>3</th>\n",
       "      <td>/check-mot-status</td>\n",
       "      <td>dc57162b-59f4-4d0f-9b83-a67f74ffccf5</td>\n",
       "      <td>transaction</td>\n",
       "      <td>2016-02-29T09:24:10.000+00:00</td>\n",
       "      <td>en</td>\n",
       "      <td>NaN</td>\n",
       "      <td>publisher</td>\n",
       "      <td>check the mot status of a vehicle</td>\n",
       "      <td>948b6dd4-45b3-45ab-a5c6-5dbce75542a6</td>\n",
       "    </tr>\n",
       "    <tr>\n",
       "      <th>4</th>\n",
       "      <td>/vehicle-tax-refund</td>\n",
       "      <td>fff88e3b-ae66-43e4-afd0-6fc1f227b452</td>\n",
       "      <td>answer</td>\n",
       "      <td>2016-02-29T09:24:10.000+00:00</td>\n",
       "      <td>en</td>\n",
       "      <td>NaN</td>\n",
       "      <td>publisher</td>\n",
       "      <td>cancel your vehicle tax and get a refund</td>\n",
       "      <td>948b6dd4-45b3-45ab-a5c6-5dbce75542a6</td>\n",
       "    </tr>\n",
       "    <tr>\n",
       "      <th>135</th>\n",
       "      <td>/view-driving-licence</td>\n",
       "      <td>bee455d5-5a4f-440a-88be-eb65ae8fde7d</td>\n",
       "      <td>transaction</td>\n",
       "      <td>2016-02-29T09:24:10.000+00:00</td>\n",
       "      <td>en</td>\n",
       "      <td>NaN</td>\n",
       "      <td>publisher</td>\n",
       "      <td>view or share your driving licence information</td>\n",
       "      <td>3d3e32a7-b847-48d4-a694-04092971544a</td>\n",
       "    </tr>\n",
       "    <tr>\n",
       "      <th>136</th>\n",
       "      <td>/dvla-change-address</td>\n",
       "      <td>d857dd97-fd22-483d-b595-bcb740a5f95e</td>\n",
       "      <td>answer</td>\n",
       "      <td>2016-02-29T09:24:10.000+00:00</td>\n",
       "      <td>en</td>\n",
       "      <td>NaN</td>\n",
       "      <td>publisher</td>\n",
       "      <td>tell dvla you’ve changed address</td>\n",
       "      <td>3d3e32a7-b847-48d4-a694-04092971544a</td>\n",
       "    </tr>\n",
       "    <tr>\n",
       "      <th>137</th>\n",
       "      <td>/renew-driving-licence</td>\n",
       "      <td>da48bba8-7358-4e54-a89e-c618a5265448</td>\n",
       "      <td>transaction</td>\n",
       "      <td>2016-02-29T09:24:10.000+00:00</td>\n",
       "      <td>en</td>\n",
       "      <td>NaN</td>\n",
       "      <td>publisher</td>\n",
       "      <td>renew your driving licence</td>\n",
       "      <td>3d3e32a7-b847-48d4-a694-04092971544a</td>\n",
       "    </tr>\n",
       "    <tr>\n",
       "      <th>138</th>\n",
       "      <td>/apply-online-to-replace-a-driving-licence</td>\n",
       "      <td>cfd02357-baea-4006-b537-408220c5a699</td>\n",
       "      <td>transaction</td>\n",
       "      <td>2016-02-29T09:24:10.000+00:00</td>\n",
       "      <td>en</td>\n",
       "      <td>NaN</td>\n",
       "      <td>publisher</td>\n",
       "      <td>replace a lost stolen damaged or destroyed dri...</td>\n",
       "      <td>3d3e32a7-b847-48d4-a694-04092971544a</td>\n",
       "    </tr>\n",
       "    <tr>\n",
       "      <th>139</th>\n",
       "      <td>/apply-first-provisional-driving-licence</td>\n",
       "      <td>f725a60e-a666-4269-82b0-946ecfb84b7c</td>\n",
       "      <td>transaction</td>\n",
       "      <td>2016-02-29T09:24:10.000+00:00</td>\n",
       "      <td>en</td>\n",
       "      <td>NaN</td>\n",
       "      <td>publisher</td>\n",
       "      <td>apply for your first provisional driving licence</td>\n",
       "      <td>3d3e32a7-b847-48d4-a694-04092971544a</td>\n",
       "    </tr>\n",
       "    <tr>\n",
       "      <th>140</th>\n",
       "      <td>/get-vehicle-information-from-dvla</td>\n",
       "      <td>4ca3fd7e-efdb-4a24-9a84-60ba3c614588</td>\n",
       "      <td>transaction</td>\n",
       "      <td>2016-02-29T09:24:10.000+00:00</td>\n",
       "      <td>en</td>\n",
       "      <td>NaN</td>\n",
       "      <td>publisher</td>\n",
       "      <td>get vehicle information from dvla</td>\n",
       "      <td>33f641c9-0cd2-4b85-8bed-f1b9710d4ded</td>\n",
       "    </tr>\n",
       "    <tr>\n",
       "      <th>141</th>\n",
       "      <td>/contact-the-dvla</td>\n",
       "      <td>9a24dcce-c03a-4523-96e3-893be1c400cd</td>\n",
       "      <td>simple_smart_answer</td>\n",
       "      <td>2016-02-29T09:24:10.000+00:00</td>\n",
       "      <td>en</td>\n",
       "      <td>NaN</td>\n",
       "      <td>publisher</td>\n",
       "      <td>contact dvla</td>\n",
       "      <td>33f641c9-0cd2-4b85-8bed-f1b9710d4ded</td>\n",
       "    </tr>\n",
       "    <tr>\n",
       "      <th>142</th>\n",
       "      <td>/checks-when-buying-a-used-car</td>\n",
       "      <td>fb5b3d6b-73ff-4213-8320-f0aa4bbe5e63</td>\n",
       "      <td>answer</td>\n",
       "      <td>2016-02-29T09:24:10.000+00:00</td>\n",
       "      <td>en</td>\n",
       "      <td>NaN</td>\n",
       "      <td>publisher</td>\n",
       "      <td>check you’re not buying a stolen vehicle</td>\n",
       "      <td>33f641c9-0cd2-4b85-8bed-f1b9710d4ded</td>\n",
       "    </tr>\n",
       "    <tr>\n",
       "      <th>143</th>\n",
       "      <td>/vehicle-registration</td>\n",
       "      <td>1dbb030d-90e9-4920-a3f2-1ef339a6a0be</td>\n",
       "      <td>guide</td>\n",
       "      <td>2016-02-29T09:24:10.000+00:00</td>\n",
       "      <td>en</td>\n",
       "      <td>NaN</td>\n",
       "      <td>publisher</td>\n",
       "      <td>vehicle registration</td>\n",
       "      <td>33f641c9-0cd2-4b85-8bed-f1b9710d4ded</td>\n",
       "    </tr>\n",
       "    <tr>\n",
       "      <th>144</th>\n",
       "      <td>/written-off-vehicle</td>\n",
       "      <td>de4c7e05-c0c2-4b4e-9e96-e019157501f9</td>\n",
       "      <td>transaction</td>\n",
       "      <td>2016-02-29T09:24:10.000+00:00</td>\n",
       "      <td>en</td>\n",
       "      <td>NaN</td>\n",
       "      <td>publisher</td>\n",
       "      <td>tell dvla your vehicle has been written off</td>\n",
       "      <td>33f641c9-0cd2-4b85-8bed-f1b9710d4ded</td>\n",
       "    </tr>\n",
       "    <tr>\n",
       "      <th>145</th>\n",
       "      <td>/find-vehicle-scrapyard</td>\n",
       "      <td>63d42a67-83d7-4f1b-a56c-e91a7af3b02a</td>\n",
       "      <td>place</td>\n",
       "      <td>2016-02-29T09:24:10.000+00:00</td>\n",
       "      <td>en</td>\n",
       "      <td>NaN</td>\n",
       "      <td>publisher</td>\n",
       "      <td>find a vehicle scrapyard</td>\n",
       "      <td>33f641c9-0cd2-4b85-8bed-f1b9710d4ded</td>\n",
       "    </tr>\n",
       "    <tr>\n",
       "      <th>146</th>\n",
       "      <td>/driving-fines-letters-you-dont-own-the-vehicle</td>\n",
       "      <td>91f44fa5-bf82-43e8-ad98-a77bfc3d5589</td>\n",
       "      <td>answer</td>\n",
       "      <td>2016-02-29T09:24:10.000+00:00</td>\n",
       "      <td>en</td>\n",
       "      <td>NaN</td>\n",
       "      <td>publisher</td>\n",
       "      <td>driving fines and letters when you don’t own t...</td>\n",
       "      <td>33f641c9-0cd2-4b85-8bed-f1b9710d4ded</td>\n",
       "    </tr>\n",
       "    <tr>\n",
       "      <th>147</th>\n",
       "      <td>/data-requests-dvla</td>\n",
       "      <td>da371ae7-3dd9-4cc0-9e6d-42e0a20cf80c</td>\n",
       "      <td>answer</td>\n",
       "      <td>2016-02-29T09:24:10.000+00:00</td>\n",
       "      <td>en</td>\n",
       "      <td>NaN</td>\n",
       "      <td>publisher</td>\n",
       "      <td>data requests from dvla</td>\n",
       "      <td>33f641c9-0cd2-4b85-8bed-f1b9710d4ded</td>\n",
       "    </tr>\n",
       "    <tr>\n",
       "      <th>148</th>\n",
       "      <td>/importing-vehicles-into-the-uk</td>\n",
       "      <td>e41f9444-ba8b-4c88-97c3-ba0c9536ba4c</td>\n",
       "      <td>guide</td>\n",
       "      <td>2016-02-29T09:24:10.000+00:00</td>\n",
       "      <td>en</td>\n",
       "      <td>NaN</td>\n",
       "      <td>publisher</td>\n",
       "      <td>importing vehicles into the uk</td>\n",
       "      <td>33f641c9-0cd2-4b85-8bed-f1b9710d4ded</td>\n",
       "    </tr>\n",
       "    <tr>\n",
       "      <th>149</th>\n",
       "      <td>/taking-vehicles-out-of-uk</td>\n",
       "      <td>406a1b8d-acaa-46fe-9296-f5a05508a303</td>\n",
       "      <td>guide</td>\n",
       "      <td>2016-02-29T09:24:10.000+00:00</td>\n",
       "      <td>en</td>\n",
       "      <td>NaN</td>\n",
       "      <td>publisher</td>\n",
       "      <td>taking a vehicle out of the uk</td>\n",
       "      <td>33f641c9-0cd2-4b85-8bed-f1b9710d4ded</td>\n",
       "    </tr>\n",
       "    <tr>\n",
       "      <th>150</th>\n",
       "      <td>/what-to-do-if-your-vehicle-has-been-stolen</td>\n",
       "      <td>5676bbe8-ba84-4118-b49a-a5b5327976fe</td>\n",
       "      <td>guide</td>\n",
       "      <td>2016-02-29T09:24:10.000+00:00</td>\n",
       "      <td>en</td>\n",
       "      <td>NaN</td>\n",
       "      <td>publisher</td>\n",
       "      <td>what to do if your vehicle has been stolen</td>\n",
       "      <td>33f641c9-0cd2-4b85-8bed-f1b9710d4ded</td>\n",
       "    </tr>\n",
       "    <tr>\n",
       "      <th>151</th>\n",
       "      <td>/pay-dartford-crossing-charge</td>\n",
       "      <td>0e0784f3-7fa7-44e0-adac-dd02875215c7</td>\n",
       "      <td>guide</td>\n",
       "      <td>2016-02-29T09:24:10.000+00:00</td>\n",
       "      <td>en</td>\n",
       "      <td>NaN</td>\n",
       "      <td>publisher</td>\n",
       "      <td>pay the dartford crossing charge (dart charge)</td>\n",
       "      <td>4e43903e-61e3-42ac-ada5-c3bdce602d3d</td>\n",
       "    </tr>\n",
       "    <tr>\n",
       "      <th>152</th>\n",
       "      <td>/dartford-crossing-bike</td>\n",
       "      <td>68d9f62b-28b1-47d9-ba53-2da324924a08</td>\n",
       "      <td>answer</td>\n",
       "      <td>2016-11-17T14:44:03.000+00:00</td>\n",
       "      <td>en</td>\n",
       "      <td>NaN</td>\n",
       "      <td>publisher</td>\n",
       "      <td>get across the dartford crossing by bike</td>\n",
       "      <td>4e43903e-61e3-42ac-ada5-c3bdce602d3d</td>\n",
       "    </tr>\n",
       "    <tr>\n",
       "      <th>153</th>\n",
       "      <td>/manage-your-tax-credits</td>\n",
       "      <td>e2048d9b-fae4-45fd-810c-16e5fdb866cb</td>\n",
       "      <td>transaction</td>\n",
       "      <td>2016-02-29T09:24:10.000+00:00</td>\n",
       "      <td>en</td>\n",
       "      <td>NaN</td>\n",
       "      <td>publisher</td>\n",
       "      <td>manage your tax credits</td>\n",
       "      <td>f8093192-3f78-445d-95f3-85c4da55b2b7</td>\n",
       "    </tr>\n",
       "    <tr>\n",
       "      <th>154</th>\n",
       "      <td>/qualify-tax-credits</td>\n",
       "      <td>0f1b5a22-bf04-424c-a587-4709dd9cd49b</td>\n",
       "      <td>simple_smart_answer</td>\n",
       "      <td>2016-02-29T09:24:10.000+00:00</td>\n",
       "      <td>en</td>\n",
       "      <td>NaN</td>\n",
       "      <td>publisher</td>\n",
       "      <td>get a tax credits claim form</td>\n",
       "      <td>f8093192-3f78-445d-95f3-85c4da55b2b7</td>\n",
       "    </tr>\n",
       "    <tr>\n",
       "      <th>155</th>\n",
       "      <td>/end-tax-credits-claim</td>\n",
       "      <td>a3b6bc91-2def-4dce-b69f-33fa0a2f01b4</td>\n",
       "      <td>guide</td>\n",
       "      <td>2016-02-29T09:24:10.000+00:00</td>\n",
       "      <td>en</td>\n",
       "      <td>NaN</td>\n",
       "      <td>publisher</td>\n",
       "      <td>end your tax credits</td>\n",
       "      <td>f8093192-3f78-445d-95f3-85c4da55b2b7</td>\n",
       "    </tr>\n",
       "    <tr>\n",
       "      <th>156</th>\n",
       "      <td>/child-tax-credit</td>\n",
       "      <td>a14072ba-e2d1-47fa-93d4-e9cb023a3450</td>\n",
       "      <td>guide</td>\n",
       "      <td>2016-02-29T09:24:10.000+00:00</td>\n",
       "      <td>en</td>\n",
       "      <td>NaN</td>\n",
       "      <td>publisher</td>\n",
       "      <td>child tax credit</td>\n",
       "      <td>f8093192-3f78-445d-95f3-85c4da55b2b7</td>\n",
       "    </tr>\n",
       "    <tr>\n",
       "      <th>157</th>\n",
       "      <td>/working-tax-credit</td>\n",
       "      <td>bced106c-3ee7-434c-89dc-0007163b5425</td>\n",
       "      <td>guide</td>\n",
       "      <td>2016-02-29T09:24:10.000+00:00</td>\n",
       "      <td>en</td>\n",
       "      <td>NaN</td>\n",
       "      <td>publisher</td>\n",
       "      <td>working tax credit</td>\n",
       "      <td>f8093192-3f78-445d-95f3-85c4da55b2b7</td>\n",
       "    </tr>\n",
       "    <tr>\n",
       "      <th>158</th>\n",
       "      <td>/changes-affect-tax-credits</td>\n",
       "      <td>c9259172-5432-43a6-b710-409d463c7627</td>\n",
       "      <td>guide</td>\n",
       "      <td>2016-02-29T09:24:10.000+00:00</td>\n",
       "      <td>en</td>\n",
       "      <td>NaN</td>\n",
       "      <td>publisher</td>\n",
       "      <td>changes that affect your tax credits</td>\n",
       "      <td>f8093192-3f78-445d-95f3-85c4da55b2b7</td>\n",
       "    </tr>\n",
       "    <tr>\n",
       "      <th>159</th>\n",
       "      <td>/claim-tax-credits</td>\n",
       "      <td>51c99018-3032-47de-a2a0-af8d52e4fa4e</td>\n",
       "      <td>guide</td>\n",
       "      <td>2016-02-29T09:24:10.000+00:00</td>\n",
       "      <td>en</td>\n",
       "      <td>NaN</td>\n",
       "      <td>publisher</td>\n",
       "      <td>how to claim tax credits</td>\n",
       "      <td>f8093192-3f78-445d-95f3-85c4da55b2b7</td>\n",
       "    </tr>\n",
       "    <tr>\n",
       "      <th>...</th>\n",
       "      <td>...</td>\n",
       "      <td>...</td>\n",
       "      <td>...</td>\n",
       "      <td>...</td>\n",
       "      <td>...</td>\n",
       "      <td>...</td>\n",
       "      <td>...</td>\n",
       "      <td>...</td>\n",
       "      <td>...</td>\n",
       "    </tr>\n",
       "    <tr>\n",
       "      <th>335585</th>\n",
       "      <td>/world/organisations/british-embassy-paris</td>\n",
       "      <td>f4c39d37-7a30-11e4-a3cb-005056011aef</td>\n",
       "      <td>worldwide_organisation</td>\n",
       "      <td>2016-02-29T09:24:10.000+00:00</td>\n",
       "      <td>en</td>\n",
       "      <td>NaN</td>\n",
       "      <td>whitehall</td>\n",
       "      <td>british embassy paris</td>\n",
       "      <td>ce63b0f8-caaa-4d5f-be2c-f3990e938b44</td>\n",
       "    </tr>\n",
       "    <tr>\n",
       "      <th>335586</th>\n",
       "      <td>/world/organisations/british-embassy-paris</td>\n",
       "      <td>f4c39d37-7a30-11e4-a3cb-005056011aef</td>\n",
       "      <td>worldwide_organisation</td>\n",
       "      <td>2016-02-29T09:24:10.000+00:00</td>\n",
       "      <td>en</td>\n",
       "      <td>NaN</td>\n",
       "      <td>whitehall</td>\n",
       "      <td>british embassy paris</td>\n",
       "      <td>3cb8b958-93b2-493c-89d6-f7e4e51754df</td>\n",
       "    </tr>\n",
       "    <tr>\n",
       "      <th>335587</th>\n",
       "      <td>/world/organisations/british-embassy-paris</td>\n",
       "      <td>f4c39d37-7a30-11e4-a3cb-005056011aef</td>\n",
       "      <td>worldwide_organisation</td>\n",
       "      <td>2016-02-29T09:24:10.000+00:00</td>\n",
       "      <td>en</td>\n",
       "      <td>NaN</td>\n",
       "      <td>whitehall</td>\n",
       "      <td>british embassy paris</td>\n",
       "      <td>8e6af606-242b-4d7d-9592-c68fa1cec4de</td>\n",
       "    </tr>\n",
       "    <tr>\n",
       "      <th>335588</th>\n",
       "      <td>/european-health-insurance-card</td>\n",
       "      <td>c72aa813-8f51-42de-9497-b72929d333d5</td>\n",
       "      <td>transaction</td>\n",
       "      <td>2016-02-29T09:24:10.000+00:00</td>\n",
       "      <td>en</td>\n",
       "      <td>NaN</td>\n",
       "      <td>publisher</td>\n",
       "      <td>apply for a european health insurance card</td>\n",
       "      <td>4f631255-4b54-4d55-b5aa-a6b39a090bc7</td>\n",
       "    </tr>\n",
       "    <tr>\n",
       "      <th>335589</th>\n",
       "      <td>/world/organisations/british-embassy-paris</td>\n",
       "      <td>f4c39d37-7a30-11e4-a3cb-005056011aef</td>\n",
       "      <td>worldwide_organisation</td>\n",
       "      <td>2016-02-29T09:24:10.000+00:00</td>\n",
       "      <td>en</td>\n",
       "      <td>NaN</td>\n",
       "      <td>whitehall</td>\n",
       "      <td>british embassy paris</td>\n",
       "      <td>45c39318-972a-41a4-aa7d-846ae8f5fc7d</td>\n",
       "    </tr>\n",
       "    <tr>\n",
       "      <th>335590</th>\n",
       "      <td>/world/organisations/british-embassy-paris</td>\n",
       "      <td>f4c39d37-7a30-11e4-a3cb-005056011aef</td>\n",
       "      <td>worldwide_organisation</td>\n",
       "      <td>2016-02-29T09:24:10.000+00:00</td>\n",
       "      <td>en</td>\n",
       "      <td>NaN</td>\n",
       "      <td>whitehall</td>\n",
       "      <td>british embassy paris</td>\n",
       "      <td>ed31a26e-741b-42af-8f73-9024ac6f22f1</td>\n",
       "    </tr>\n",
       "    <tr>\n",
       "      <th>335591</th>\n",
       "      <td>/world/organisations/british-embassy-paris</td>\n",
       "      <td>f4c39d37-7a30-11e4-a3cb-005056011aef</td>\n",
       "      <td>worldwide_organisation</td>\n",
       "      <td>2016-02-29T09:24:10.000+00:00</td>\n",
       "      <td>en</td>\n",
       "      <td>NaN</td>\n",
       "      <td>whitehall</td>\n",
       "      <td>british embassy paris</td>\n",
       "      <td>17ee8b48-192d-4065-892d-f6adbb1ee67c</td>\n",
       "    </tr>\n",
       "    <tr>\n",
       "      <th>335592</th>\n",
       "      <td>/world/organisations/british-embassy-paris</td>\n",
       "      <td>f4c39d37-7a30-11e4-a3cb-005056011aef</td>\n",
       "      <td>worldwide_organisation</td>\n",
       "      <td>2016-02-29T09:24:10.000+00:00</td>\n",
       "      <td>en</td>\n",
       "      <td>NaN</td>\n",
       "      <td>whitehall</td>\n",
       "      <td>british embassy paris</td>\n",
       "      <td>7a04a1d0-7f72-479a-838b-ce8038406e66</td>\n",
       "    </tr>\n",
       "    <tr>\n",
       "      <th>335593</th>\n",
       "      <td>/european-health-insurance-card</td>\n",
       "      <td>c72aa813-8f51-42de-9497-b72929d333d5</td>\n",
       "      <td>transaction</td>\n",
       "      <td>2016-02-29T09:24:10.000+00:00</td>\n",
       "      <td>en</td>\n",
       "      <td>NaN</td>\n",
       "      <td>publisher</td>\n",
       "      <td>apply for a european health insurance card</td>\n",
       "      <td>d61d4952-7142-4c05-8beb-1000501c3db6</td>\n",
       "    </tr>\n",
       "    <tr>\n",
       "      <th>335594</th>\n",
       "      <td>/world/organisations/british-embassy-paris</td>\n",
       "      <td>f4c39d37-7a30-11e4-a3cb-005056011aef</td>\n",
       "      <td>worldwide_organisation</td>\n",
       "      <td>2016-02-29T09:24:10.000+00:00</td>\n",
       "      <td>en</td>\n",
       "      <td>NaN</td>\n",
       "      <td>whitehall</td>\n",
       "      <td>british embassy paris</td>\n",
       "      <td>b7f1a0fb-df56-4028-bd78-4ef20d4d9ec5</td>\n",
       "    </tr>\n",
       "    <tr>\n",
       "      <th>335595</th>\n",
       "      <td>/world/organisations/british-embassy-paris</td>\n",
       "      <td>f4c39d37-7a30-11e4-a3cb-005056011aef</td>\n",
       "      <td>worldwide_organisation</td>\n",
       "      <td>2016-02-29T09:24:10.000+00:00</td>\n",
       "      <td>en</td>\n",
       "      <td>NaN</td>\n",
       "      <td>whitehall</td>\n",
       "      <td>british embassy paris</td>\n",
       "      <td>b476c196-58e1-49f6-86e8-325a18caa7e0</td>\n",
       "    </tr>\n",
       "    <tr>\n",
       "      <th>335596</th>\n",
       "      <td>/world/organisations/british-embassy-paris</td>\n",
       "      <td>f4c39d37-7a30-11e4-a3cb-005056011aef</td>\n",
       "      <td>worldwide_organisation</td>\n",
       "      <td>2016-02-29T09:24:10.000+00:00</td>\n",
       "      <td>en</td>\n",
       "      <td>NaN</td>\n",
       "      <td>whitehall</td>\n",
       "      <td>british embassy paris</td>\n",
       "      <td>e81a51b0-c83d-4452-bae6-e9846638f10c</td>\n",
       "    </tr>\n",
       "    <tr>\n",
       "      <th>335597</th>\n",
       "      <td>/european-health-insurance-card</td>\n",
       "      <td>c72aa813-8f51-42de-9497-b72929d333d5</td>\n",
       "      <td>transaction</td>\n",
       "      <td>2016-02-29T09:24:10.000+00:00</td>\n",
       "      <td>en</td>\n",
       "      <td>NaN</td>\n",
       "      <td>publisher</td>\n",
       "      <td>apply for a european health insurance card</td>\n",
       "      <td>e6e733fd-997c-4778-bd3c-4c130fe76586</td>\n",
       "    </tr>\n",
       "    <tr>\n",
       "      <th>335598</th>\n",
       "      <td>/european-health-insurance-card</td>\n",
       "      <td>c72aa813-8f51-42de-9497-b72929d333d5</td>\n",
       "      <td>transaction</td>\n",
       "      <td>2016-02-29T09:24:10.000+00:00</td>\n",
       "      <td>en</td>\n",
       "      <td>NaN</td>\n",
       "      <td>publisher</td>\n",
       "      <td>apply for a european health insurance card</td>\n",
       "      <td>23700e2a-e228-4abb-a1c1-4852b2cb4b3c</td>\n",
       "    </tr>\n",
       "    <tr>\n",
       "      <th>335599</th>\n",
       "      <td>/european-health-insurance-card</td>\n",
       "      <td>c72aa813-8f51-42de-9497-b72929d333d5</td>\n",
       "      <td>transaction</td>\n",
       "      <td>2016-02-29T09:24:10.000+00:00</td>\n",
       "      <td>en</td>\n",
       "      <td>NaN</td>\n",
       "      <td>publisher</td>\n",
       "      <td>apply for a european health insurance card</td>\n",
       "      <td>2db17d26-987d-405b-95d9-6eb8e0d8755e</td>\n",
       "    </tr>\n",
       "    <tr>\n",
       "      <th>335600</th>\n",
       "      <td>/european-health-insurance-card</td>\n",
       "      <td>c72aa813-8f51-42de-9497-b72929d333d5</td>\n",
       "      <td>transaction</td>\n",
       "      <td>2016-02-29T09:24:10.000+00:00</td>\n",
       "      <td>en</td>\n",
       "      <td>NaN</td>\n",
       "      <td>publisher</td>\n",
       "      <td>apply for a european health insurance card</td>\n",
       "      <td>74fb2167-94da-4817-af2e-5b7a0a234b34</td>\n",
       "    </tr>\n",
       "    <tr>\n",
       "      <th>335601</th>\n",
       "      <td>/european-health-insurance-card</td>\n",
       "      <td>c72aa813-8f51-42de-9497-b72929d333d5</td>\n",
       "      <td>transaction</td>\n",
       "      <td>2016-02-29T09:24:10.000+00:00</td>\n",
       "      <td>en</td>\n",
       "      <td>NaN</td>\n",
       "      <td>publisher</td>\n",
       "      <td>apply for a european health insurance card</td>\n",
       "      <td>3957949c-57b4-42d9-82db-d518c992f1f3</td>\n",
       "    </tr>\n",
       "    <tr>\n",
       "      <th>335602</th>\n",
       "      <td>/european-health-insurance-card</td>\n",
       "      <td>c72aa813-8f51-42de-9497-b72929d333d5</td>\n",
       "      <td>transaction</td>\n",
       "      <td>2016-02-29T09:24:10.000+00:00</td>\n",
       "      <td>en</td>\n",
       "      <td>NaN</td>\n",
       "      <td>publisher</td>\n",
       "      <td>apply for a european health insurance card</td>\n",
       "      <td>747e4bd6-5b6c-4836-b301-3b466d0cf3df</td>\n",
       "    </tr>\n",
       "    <tr>\n",
       "      <th>335603</th>\n",
       "      <td>/european-health-insurance-card</td>\n",
       "      <td>c72aa813-8f51-42de-9497-b72929d333d5</td>\n",
       "      <td>transaction</td>\n",
       "      <td>2016-02-29T09:24:10.000+00:00</td>\n",
       "      <td>en</td>\n",
       "      <td>NaN</td>\n",
       "      <td>publisher</td>\n",
       "      <td>apply for a european health insurance card</td>\n",
       "      <td>a7dd5b53-81ed-4067-88a6-6b1ff6262d06</td>\n",
       "    </tr>\n",
       "    <tr>\n",
       "      <th>335604</th>\n",
       "      <td>/european-health-insurance-card</td>\n",
       "      <td>c72aa813-8f51-42de-9497-b72929d333d5</td>\n",
       "      <td>transaction</td>\n",
       "      <td>2016-02-29T09:24:10.000+00:00</td>\n",
       "      <td>en</td>\n",
       "      <td>NaN</td>\n",
       "      <td>publisher</td>\n",
       "      <td>apply for a european health insurance card</td>\n",
       "      <td>8b22cf55-d08e-4af6-92cf-8765e2c95ce9</td>\n",
       "    </tr>\n",
       "    <tr>\n",
       "      <th>335605</th>\n",
       "      <td>/european-health-insurance-card</td>\n",
       "      <td>c72aa813-8f51-42de-9497-b72929d333d5</td>\n",
       "      <td>transaction</td>\n",
       "      <td>2016-02-29T09:24:10.000+00:00</td>\n",
       "      <td>en</td>\n",
       "      <td>NaN</td>\n",
       "      <td>publisher</td>\n",
       "      <td>apply for a european health insurance card</td>\n",
       "      <td>4ff2c479-e5d4-4b12-becd-02670b827b11</td>\n",
       "    </tr>\n",
       "    <tr>\n",
       "      <th>335606</th>\n",
       "      <td>/european-health-insurance-card</td>\n",
       "      <td>c72aa813-8f51-42de-9497-b72929d333d5</td>\n",
       "      <td>transaction</td>\n",
       "      <td>2016-02-29T09:24:10.000+00:00</td>\n",
       "      <td>en</td>\n",
       "      <td>NaN</td>\n",
       "      <td>publisher</td>\n",
       "      <td>apply for a european health insurance card</td>\n",
       "      <td>c501dc62-2cbe-48d8-8fda-78971bcb8179</td>\n",
       "    </tr>\n",
       "    <tr>\n",
       "      <th>335607</th>\n",
       "      <td>/european-health-insurance-card</td>\n",
       "      <td>c72aa813-8f51-42de-9497-b72929d333d5</td>\n",
       "      <td>transaction</td>\n",
       "      <td>2016-02-29T09:24:10.000+00:00</td>\n",
       "      <td>en</td>\n",
       "      <td>NaN</td>\n",
       "      <td>publisher</td>\n",
       "      <td>apply for a european health insurance card</td>\n",
       "      <td>77963b63-9df1-4b40-8420-00cbdc3a701b</td>\n",
       "    </tr>\n",
       "    <tr>\n",
       "      <th>335608</th>\n",
       "      <td>/european-health-insurance-card</td>\n",
       "      <td>c72aa813-8f51-42de-9497-b72929d333d5</td>\n",
       "      <td>transaction</td>\n",
       "      <td>2016-02-29T09:24:10.000+00:00</td>\n",
       "      <td>en</td>\n",
       "      <td>NaN</td>\n",
       "      <td>publisher</td>\n",
       "      <td>apply for a european health insurance card</td>\n",
       "      <td>a49436f2-f0ee-4926-ab38-8938970b2fea</td>\n",
       "    </tr>\n",
       "    <tr>\n",
       "      <th>335609</th>\n",
       "      <td>/european-health-insurance-card</td>\n",
       "      <td>c72aa813-8f51-42de-9497-b72929d333d5</td>\n",
       "      <td>transaction</td>\n",
       "      <td>2016-02-29T09:24:10.000+00:00</td>\n",
       "      <td>en</td>\n",
       "      <td>NaN</td>\n",
       "      <td>publisher</td>\n",
       "      <td>apply for a european health insurance card</td>\n",
       "      <td>164c8d2d-e04b-4427-bff7-a63ecfd8aea2</td>\n",
       "    </tr>\n",
       "    <tr>\n",
       "      <th>335610</th>\n",
       "      <td>/european-health-insurance-card</td>\n",
       "      <td>c72aa813-8f51-42de-9497-b72929d333d5</td>\n",
       "      <td>transaction</td>\n",
       "      <td>2016-02-29T09:24:10.000+00:00</td>\n",
       "      <td>en</td>\n",
       "      <td>NaN</td>\n",
       "      <td>publisher</td>\n",
       "      <td>apply for a european health insurance card</td>\n",
       "      <td>44b9841e-b9fb-4130-baa4-e79963d4f3e5</td>\n",
       "    </tr>\n",
       "    <tr>\n",
       "      <th>335611</th>\n",
       "      <td>/european-health-insurance-card</td>\n",
       "      <td>c72aa813-8f51-42de-9497-b72929d333d5</td>\n",
       "      <td>transaction</td>\n",
       "      <td>2016-02-29T09:24:10.000+00:00</td>\n",
       "      <td>en</td>\n",
       "      <td>NaN</td>\n",
       "      <td>publisher</td>\n",
       "      <td>apply for a european health insurance card</td>\n",
       "      <td>17d0b63c-4a28-4cab-bea0-9a1ad0490f02</td>\n",
       "    </tr>\n",
       "    <tr>\n",
       "      <th>335612</th>\n",
       "      <td>/european-health-insurance-card</td>\n",
       "      <td>c72aa813-8f51-42de-9497-b72929d333d5</td>\n",
       "      <td>transaction</td>\n",
       "      <td>2016-02-29T09:24:10.000+00:00</td>\n",
       "      <td>en</td>\n",
       "      <td>NaN</td>\n",
       "      <td>publisher</td>\n",
       "      <td>apply for a european health insurance card</td>\n",
       "      <td>6ba71ab9-5940-4afa-a912-11348d5fbcf7</td>\n",
       "    </tr>\n",
       "    <tr>\n",
       "      <th>335613</th>\n",
       "      <td>/european-health-insurance-card</td>\n",
       "      <td>c72aa813-8f51-42de-9497-b72929d333d5</td>\n",
       "      <td>transaction</td>\n",
       "      <td>2016-02-29T09:24:10.000+00:00</td>\n",
       "      <td>en</td>\n",
       "      <td>NaN</td>\n",
       "      <td>publisher</td>\n",
       "      <td>apply for a european health insurance card</td>\n",
       "      <td>f79474e9-911a-49b5-a301-0ea11fdde1d5</td>\n",
       "    </tr>\n",
       "    <tr>\n",
       "      <th>335614</th>\n",
       "      <td>/european-health-insurance-card</td>\n",
       "      <td>c72aa813-8f51-42de-9497-b72929d333d5</td>\n",
       "      <td>transaction</td>\n",
       "      <td>2016-02-29T09:24:10.000+00:00</td>\n",
       "      <td>en</td>\n",
       "      <td>NaN</td>\n",
       "      <td>publisher</td>\n",
       "      <td>apply for a european health insurance card</td>\n",
       "      <td>f0adad7c-029a-4eba-9d23-c19f2da49b2d</td>\n",
       "    </tr>\n",
       "  </tbody>\n",
       "</table>\n",
       "<p>106154 rows × 9 columns</p>\n",
       "</div>"
      ],
      "text/plain": [
       "                                            base_path_x  \\\n",
       "0                                          /vehicle-tax   \n",
       "1                                    /check-vehicle-tax   \n",
       "2                                    /check-mot-history   \n",
       "3                                     /check-mot-status   \n",
       "4                                   /vehicle-tax-refund   \n",
       "135                               /view-driving-licence   \n",
       "136                                /dvla-change-address   \n",
       "137                              /renew-driving-licence   \n",
       "138          /apply-online-to-replace-a-driving-licence   \n",
       "139            /apply-first-provisional-driving-licence   \n",
       "140                  /get-vehicle-information-from-dvla   \n",
       "141                                   /contact-the-dvla   \n",
       "142                      /checks-when-buying-a-used-car   \n",
       "143                               /vehicle-registration   \n",
       "144                                /written-off-vehicle   \n",
       "145                             /find-vehicle-scrapyard   \n",
       "146     /driving-fines-letters-you-dont-own-the-vehicle   \n",
       "147                                 /data-requests-dvla   \n",
       "148                     /importing-vehicles-into-the-uk   \n",
       "149                          /taking-vehicles-out-of-uk   \n",
       "150         /what-to-do-if-your-vehicle-has-been-stolen   \n",
       "151                       /pay-dartford-crossing-charge   \n",
       "152                             /dartford-crossing-bike   \n",
       "153                            /manage-your-tax-credits   \n",
       "154                                /qualify-tax-credits   \n",
       "155                              /end-tax-credits-claim   \n",
       "156                                   /child-tax-credit   \n",
       "157                                 /working-tax-credit   \n",
       "158                         /changes-affect-tax-credits   \n",
       "159                                  /claim-tax-credits   \n",
       "...                                                 ...   \n",
       "335585       /world/organisations/british-embassy-paris   \n",
       "335586       /world/organisations/british-embassy-paris   \n",
       "335587       /world/organisations/british-embassy-paris   \n",
       "335588                  /european-health-insurance-card   \n",
       "335589       /world/organisations/british-embassy-paris   \n",
       "335590       /world/organisations/british-embassy-paris   \n",
       "335591       /world/organisations/british-embassy-paris   \n",
       "335592       /world/organisations/british-embassy-paris   \n",
       "335593                  /european-health-insurance-card   \n",
       "335594       /world/organisations/british-embassy-paris   \n",
       "335595       /world/organisations/british-embassy-paris   \n",
       "335596       /world/organisations/british-embassy-paris   \n",
       "335597                  /european-health-insurance-card   \n",
       "335598                  /european-health-insurance-card   \n",
       "335599                  /european-health-insurance-card   \n",
       "335600                  /european-health-insurance-card   \n",
       "335601                  /european-health-insurance-card   \n",
       "335602                  /european-health-insurance-card   \n",
       "335603                  /european-health-insurance-card   \n",
       "335604                  /european-health-insurance-card   \n",
       "335605                  /european-health-insurance-card   \n",
       "335606                  /european-health-insurance-card   \n",
       "335607                  /european-health-insurance-card   \n",
       "335608                  /european-health-insurance-card   \n",
       "335609                  /european-health-insurance-card   \n",
       "335610                  /european-health-insurance-card   \n",
       "335611                  /european-health-insurance-card   \n",
       "335612                  /european-health-insurance-card   \n",
       "335613                  /european-health-insurance-card   \n",
       "335614                  /european-health-insurance-card   \n",
       "\n",
       "                                content_id_x           document_type  \\\n",
       "0       fa748fae-3de4-4266-ae85-0797ada3f40c             transaction   \n",
       "1       0889f128-e479-465f-b3e1-a3db6a3879cf             transaction   \n",
       "2       ad5110e0-fa62-49d3-923f-d50101f12014             transaction   \n",
       "3       dc57162b-59f4-4d0f-9b83-a67f74ffccf5             transaction   \n",
       "4       fff88e3b-ae66-43e4-afd0-6fc1f227b452                  answer   \n",
       "135     bee455d5-5a4f-440a-88be-eb65ae8fde7d             transaction   \n",
       "136     d857dd97-fd22-483d-b595-bcb740a5f95e                  answer   \n",
       "137     da48bba8-7358-4e54-a89e-c618a5265448             transaction   \n",
       "138     cfd02357-baea-4006-b537-408220c5a699             transaction   \n",
       "139     f725a60e-a666-4269-82b0-946ecfb84b7c             transaction   \n",
       "140     4ca3fd7e-efdb-4a24-9a84-60ba3c614588             transaction   \n",
       "141     9a24dcce-c03a-4523-96e3-893be1c400cd     simple_smart_answer   \n",
       "142     fb5b3d6b-73ff-4213-8320-f0aa4bbe5e63                  answer   \n",
       "143     1dbb030d-90e9-4920-a3f2-1ef339a6a0be                   guide   \n",
       "144     de4c7e05-c0c2-4b4e-9e96-e019157501f9             transaction   \n",
       "145     63d42a67-83d7-4f1b-a56c-e91a7af3b02a                   place   \n",
       "146     91f44fa5-bf82-43e8-ad98-a77bfc3d5589                  answer   \n",
       "147     da371ae7-3dd9-4cc0-9e6d-42e0a20cf80c                  answer   \n",
       "148     e41f9444-ba8b-4c88-97c3-ba0c9536ba4c                   guide   \n",
       "149     406a1b8d-acaa-46fe-9296-f5a05508a303                   guide   \n",
       "150     5676bbe8-ba84-4118-b49a-a5b5327976fe                   guide   \n",
       "151     0e0784f3-7fa7-44e0-adac-dd02875215c7                   guide   \n",
       "152     68d9f62b-28b1-47d9-ba53-2da324924a08                  answer   \n",
       "153     e2048d9b-fae4-45fd-810c-16e5fdb866cb             transaction   \n",
       "154     0f1b5a22-bf04-424c-a587-4709dd9cd49b     simple_smart_answer   \n",
       "155     a3b6bc91-2def-4dce-b69f-33fa0a2f01b4                   guide   \n",
       "156     a14072ba-e2d1-47fa-93d4-e9cb023a3450                   guide   \n",
       "157     bced106c-3ee7-434c-89dc-0007163b5425                   guide   \n",
       "158     c9259172-5432-43a6-b710-409d463c7627                   guide   \n",
       "159     51c99018-3032-47de-a2a0-af8d52e4fa4e                   guide   \n",
       "...                                      ...                     ...   \n",
       "335585  f4c39d37-7a30-11e4-a3cb-005056011aef  worldwide_organisation   \n",
       "335586  f4c39d37-7a30-11e4-a3cb-005056011aef  worldwide_organisation   \n",
       "335587  f4c39d37-7a30-11e4-a3cb-005056011aef  worldwide_organisation   \n",
       "335588  c72aa813-8f51-42de-9497-b72929d333d5             transaction   \n",
       "335589  f4c39d37-7a30-11e4-a3cb-005056011aef  worldwide_organisation   \n",
       "335590  f4c39d37-7a30-11e4-a3cb-005056011aef  worldwide_organisation   \n",
       "335591  f4c39d37-7a30-11e4-a3cb-005056011aef  worldwide_organisation   \n",
       "335592  f4c39d37-7a30-11e4-a3cb-005056011aef  worldwide_organisation   \n",
       "335593  c72aa813-8f51-42de-9497-b72929d333d5             transaction   \n",
       "335594  f4c39d37-7a30-11e4-a3cb-005056011aef  worldwide_organisation   \n",
       "335595  f4c39d37-7a30-11e4-a3cb-005056011aef  worldwide_organisation   \n",
       "335596  f4c39d37-7a30-11e4-a3cb-005056011aef  worldwide_organisation   \n",
       "335597  c72aa813-8f51-42de-9497-b72929d333d5             transaction   \n",
       "335598  c72aa813-8f51-42de-9497-b72929d333d5             transaction   \n",
       "335599  c72aa813-8f51-42de-9497-b72929d333d5             transaction   \n",
       "335600  c72aa813-8f51-42de-9497-b72929d333d5             transaction   \n",
       "335601  c72aa813-8f51-42de-9497-b72929d333d5             transaction   \n",
       "335602  c72aa813-8f51-42de-9497-b72929d333d5             transaction   \n",
       "335603  c72aa813-8f51-42de-9497-b72929d333d5             transaction   \n",
       "335604  c72aa813-8f51-42de-9497-b72929d333d5             transaction   \n",
       "335605  c72aa813-8f51-42de-9497-b72929d333d5             transaction   \n",
       "335606  c72aa813-8f51-42de-9497-b72929d333d5             transaction   \n",
       "335607  c72aa813-8f51-42de-9497-b72929d333d5             transaction   \n",
       "335608  c72aa813-8f51-42de-9497-b72929d333d5             transaction   \n",
       "335609  c72aa813-8f51-42de-9497-b72929d333d5             transaction   \n",
       "335610  c72aa813-8f51-42de-9497-b72929d333d5             transaction   \n",
       "335611  c72aa813-8f51-42de-9497-b72929d333d5             transaction   \n",
       "335612  c72aa813-8f51-42de-9497-b72929d333d5             transaction   \n",
       "335613  c72aa813-8f51-42de-9497-b72929d333d5             transaction   \n",
       "335614  c72aa813-8f51-42de-9497-b72929d333d5             transaction   \n",
       "\n",
       "                   first_published_at locale primary_publishing_organisation  \\\n",
       "0       2016-02-29T09:24:10.000+00:00     en                             NaN   \n",
       "1       2016-02-29T09:24:10.000+00:00     en                             NaN   \n",
       "2       2016-02-29T09:24:10.000+00:00     en                             NaN   \n",
       "3       2016-02-29T09:24:10.000+00:00     en                             NaN   \n",
       "4       2016-02-29T09:24:10.000+00:00     en                             NaN   \n",
       "135     2016-02-29T09:24:10.000+00:00     en                             NaN   \n",
       "136     2016-02-29T09:24:10.000+00:00     en                             NaN   \n",
       "137     2016-02-29T09:24:10.000+00:00     en                             NaN   \n",
       "138     2016-02-29T09:24:10.000+00:00     en                             NaN   \n",
       "139     2016-02-29T09:24:10.000+00:00     en                             NaN   \n",
       "140     2016-02-29T09:24:10.000+00:00     en                             NaN   \n",
       "141     2016-02-29T09:24:10.000+00:00     en                             NaN   \n",
       "142     2016-02-29T09:24:10.000+00:00     en                             NaN   \n",
       "143     2016-02-29T09:24:10.000+00:00     en                             NaN   \n",
       "144     2016-02-29T09:24:10.000+00:00     en                             NaN   \n",
       "145     2016-02-29T09:24:10.000+00:00     en                             NaN   \n",
       "146     2016-02-29T09:24:10.000+00:00     en                             NaN   \n",
       "147     2016-02-29T09:24:10.000+00:00     en                             NaN   \n",
       "148     2016-02-29T09:24:10.000+00:00     en                             NaN   \n",
       "149     2016-02-29T09:24:10.000+00:00     en                             NaN   \n",
       "150     2016-02-29T09:24:10.000+00:00     en                             NaN   \n",
       "151     2016-02-29T09:24:10.000+00:00     en                             NaN   \n",
       "152     2016-11-17T14:44:03.000+00:00     en                             NaN   \n",
       "153     2016-02-29T09:24:10.000+00:00     en                             NaN   \n",
       "154     2016-02-29T09:24:10.000+00:00     en                             NaN   \n",
       "155     2016-02-29T09:24:10.000+00:00     en                             NaN   \n",
       "156     2016-02-29T09:24:10.000+00:00     en                             NaN   \n",
       "157     2016-02-29T09:24:10.000+00:00     en                             NaN   \n",
       "158     2016-02-29T09:24:10.000+00:00     en                             NaN   \n",
       "159     2016-02-29T09:24:10.000+00:00     en                             NaN   \n",
       "...                               ...    ...                             ...   \n",
       "335585  2016-02-29T09:24:10.000+00:00     en                             NaN   \n",
       "335586  2016-02-29T09:24:10.000+00:00     en                             NaN   \n",
       "335587  2016-02-29T09:24:10.000+00:00     en                             NaN   \n",
       "335588  2016-02-29T09:24:10.000+00:00     en                             NaN   \n",
       "335589  2016-02-29T09:24:10.000+00:00     en                             NaN   \n",
       "335590  2016-02-29T09:24:10.000+00:00     en                             NaN   \n",
       "335591  2016-02-29T09:24:10.000+00:00     en                             NaN   \n",
       "335592  2016-02-29T09:24:10.000+00:00     en                             NaN   \n",
       "335593  2016-02-29T09:24:10.000+00:00     en                             NaN   \n",
       "335594  2016-02-29T09:24:10.000+00:00     en                             NaN   \n",
       "335595  2016-02-29T09:24:10.000+00:00     en                             NaN   \n",
       "335596  2016-02-29T09:24:10.000+00:00     en                             NaN   \n",
       "335597  2016-02-29T09:24:10.000+00:00     en                             NaN   \n",
       "335598  2016-02-29T09:24:10.000+00:00     en                             NaN   \n",
       "335599  2016-02-29T09:24:10.000+00:00     en                             NaN   \n",
       "335600  2016-02-29T09:24:10.000+00:00     en                             NaN   \n",
       "335601  2016-02-29T09:24:10.000+00:00     en                             NaN   \n",
       "335602  2016-02-29T09:24:10.000+00:00     en                             NaN   \n",
       "335603  2016-02-29T09:24:10.000+00:00     en                             NaN   \n",
       "335604  2016-02-29T09:24:10.000+00:00     en                             NaN   \n",
       "335605  2016-02-29T09:24:10.000+00:00     en                             NaN   \n",
       "335606  2016-02-29T09:24:10.000+00:00     en                             NaN   \n",
       "335607  2016-02-29T09:24:10.000+00:00     en                             NaN   \n",
       "335608  2016-02-29T09:24:10.000+00:00     en                             NaN   \n",
       "335609  2016-02-29T09:24:10.000+00:00     en                             NaN   \n",
       "335610  2016-02-29T09:24:10.000+00:00     en                             NaN   \n",
       "335611  2016-02-29T09:24:10.000+00:00     en                             NaN   \n",
       "335612  2016-02-29T09:24:10.000+00:00     en                             NaN   \n",
       "335613  2016-02-29T09:24:10.000+00:00     en                             NaN   \n",
       "335614  2016-02-29T09:24:10.000+00:00     en                             NaN   \n",
       "\n",
       "       publishing_app                                              title  \\\n",
       "0           publisher                                   tax your vehicle   \n",
       "1           publisher                        check if a vehicle is taxed   \n",
       "2           publisher                 check the mot history of a vehicle   \n",
       "3           publisher                  check the mot status of a vehicle   \n",
       "4           publisher           cancel your vehicle tax and get a refund   \n",
       "135         publisher     view or share your driving licence information   \n",
       "136         publisher                   tell dvla you’ve changed address   \n",
       "137         publisher                         renew your driving licence   \n",
       "138         publisher  replace a lost stolen damaged or destroyed dri...   \n",
       "139         publisher   apply for your first provisional driving licence   \n",
       "140         publisher                  get vehicle information from dvla   \n",
       "141         publisher                                       contact dvla   \n",
       "142         publisher           check you’re not buying a stolen vehicle   \n",
       "143         publisher                               vehicle registration   \n",
       "144         publisher        tell dvla your vehicle has been written off   \n",
       "145         publisher                           find a vehicle scrapyard   \n",
       "146         publisher  driving fines and letters when you don’t own t...   \n",
       "147         publisher                            data requests from dvla   \n",
       "148         publisher                     importing vehicles into the uk   \n",
       "149         publisher                     taking a vehicle out of the uk   \n",
       "150         publisher         what to do if your vehicle has been stolen   \n",
       "151         publisher     pay the dartford crossing charge (dart charge)   \n",
       "152         publisher           get across the dartford crossing by bike   \n",
       "153         publisher                            manage your tax credits   \n",
       "154         publisher                       get a tax credits claim form   \n",
       "155         publisher                               end your tax credits   \n",
       "156         publisher                                   child tax credit   \n",
       "157         publisher                                 working tax credit   \n",
       "158         publisher               changes that affect your tax credits   \n",
       "159         publisher                           how to claim tax credits   \n",
       "...               ...                                                ...   \n",
       "335585      whitehall                              british embassy paris   \n",
       "335586      whitehall                              british embassy paris   \n",
       "335587      whitehall                              british embassy paris   \n",
       "335588      publisher         apply for a european health insurance card   \n",
       "335589      whitehall                              british embassy paris   \n",
       "335590      whitehall                              british embassy paris   \n",
       "335591      whitehall                              british embassy paris   \n",
       "335592      whitehall                              british embassy paris   \n",
       "335593      publisher         apply for a european health insurance card   \n",
       "335594      whitehall                              british embassy paris   \n",
       "335595      whitehall                              british embassy paris   \n",
       "335596      whitehall                              british embassy paris   \n",
       "335597      publisher         apply for a european health insurance card   \n",
       "335598      publisher         apply for a european health insurance card   \n",
       "335599      publisher         apply for a european health insurance card   \n",
       "335600      publisher         apply for a european health insurance card   \n",
       "335601      publisher         apply for a european health insurance card   \n",
       "335602      publisher         apply for a european health insurance card   \n",
       "335603      publisher         apply for a european health insurance card   \n",
       "335604      publisher         apply for a european health insurance card   \n",
       "335605      publisher         apply for a european health insurance card   \n",
       "335606      publisher         apply for a european health insurance card   \n",
       "335607      publisher         apply for a european health insurance card   \n",
       "335608      publisher         apply for a european health insurance card   \n",
       "335609      publisher         apply for a european health insurance card   \n",
       "335610      publisher         apply for a european health insurance card   \n",
       "335611      publisher         apply for a european health insurance card   \n",
       "335612      publisher         apply for a european health insurance card   \n",
       "335613      publisher         apply for a european health insurance card   \n",
       "335614      publisher         apply for a european health insurance card   \n",
       "\n",
       "                                    taxon_id  \n",
       "0       948b6dd4-45b3-45ab-a5c6-5dbce75542a6  \n",
       "1       948b6dd4-45b3-45ab-a5c6-5dbce75542a6  \n",
       "2       948b6dd4-45b3-45ab-a5c6-5dbce75542a6  \n",
       "3       948b6dd4-45b3-45ab-a5c6-5dbce75542a6  \n",
       "4       948b6dd4-45b3-45ab-a5c6-5dbce75542a6  \n",
       "135     3d3e32a7-b847-48d4-a694-04092971544a  \n",
       "136     3d3e32a7-b847-48d4-a694-04092971544a  \n",
       "137     3d3e32a7-b847-48d4-a694-04092971544a  \n",
       "138     3d3e32a7-b847-48d4-a694-04092971544a  \n",
       "139     3d3e32a7-b847-48d4-a694-04092971544a  \n",
       "140     33f641c9-0cd2-4b85-8bed-f1b9710d4ded  \n",
       "141     33f641c9-0cd2-4b85-8bed-f1b9710d4ded  \n",
       "142     33f641c9-0cd2-4b85-8bed-f1b9710d4ded  \n",
       "143     33f641c9-0cd2-4b85-8bed-f1b9710d4ded  \n",
       "144     33f641c9-0cd2-4b85-8bed-f1b9710d4ded  \n",
       "145     33f641c9-0cd2-4b85-8bed-f1b9710d4ded  \n",
       "146     33f641c9-0cd2-4b85-8bed-f1b9710d4ded  \n",
       "147     33f641c9-0cd2-4b85-8bed-f1b9710d4ded  \n",
       "148     33f641c9-0cd2-4b85-8bed-f1b9710d4ded  \n",
       "149     33f641c9-0cd2-4b85-8bed-f1b9710d4ded  \n",
       "150     33f641c9-0cd2-4b85-8bed-f1b9710d4ded  \n",
       "151     4e43903e-61e3-42ac-ada5-c3bdce602d3d  \n",
       "152     4e43903e-61e3-42ac-ada5-c3bdce602d3d  \n",
       "153     f8093192-3f78-445d-95f3-85c4da55b2b7  \n",
       "154     f8093192-3f78-445d-95f3-85c4da55b2b7  \n",
       "155     f8093192-3f78-445d-95f3-85c4da55b2b7  \n",
       "156     f8093192-3f78-445d-95f3-85c4da55b2b7  \n",
       "157     f8093192-3f78-445d-95f3-85c4da55b2b7  \n",
       "158     f8093192-3f78-445d-95f3-85c4da55b2b7  \n",
       "159     f8093192-3f78-445d-95f3-85c4da55b2b7  \n",
       "...                                      ...  \n",
       "335585  ce63b0f8-caaa-4d5f-be2c-f3990e938b44  \n",
       "335586  3cb8b958-93b2-493c-89d6-f7e4e51754df  \n",
       "335587  8e6af606-242b-4d7d-9592-c68fa1cec4de  \n",
       "335588  4f631255-4b54-4d55-b5aa-a6b39a090bc7  \n",
       "335589  45c39318-972a-41a4-aa7d-846ae8f5fc7d  \n",
       "335590  ed31a26e-741b-42af-8f73-9024ac6f22f1  \n",
       "335591  17ee8b48-192d-4065-892d-f6adbb1ee67c  \n",
       "335592  7a04a1d0-7f72-479a-838b-ce8038406e66  \n",
       "335593  d61d4952-7142-4c05-8beb-1000501c3db6  \n",
       "335594  b7f1a0fb-df56-4028-bd78-4ef20d4d9ec5  \n",
       "335595  b476c196-58e1-49f6-86e8-325a18caa7e0  \n",
       "335596  e81a51b0-c83d-4452-bae6-e9846638f10c  \n",
       "335597  e6e733fd-997c-4778-bd3c-4c130fe76586  \n",
       "335598  23700e2a-e228-4abb-a1c1-4852b2cb4b3c  \n",
       "335599  2db17d26-987d-405b-95d9-6eb8e0d8755e  \n",
       "335600  74fb2167-94da-4817-af2e-5b7a0a234b34  \n",
       "335601  3957949c-57b4-42d9-82db-d518c992f1f3  \n",
       "335602  747e4bd6-5b6c-4836-b301-3b466d0cf3df  \n",
       "335603  a7dd5b53-81ed-4067-88a6-6b1ff6262d06  \n",
       "335604  8b22cf55-d08e-4af6-92cf-8765e2c95ce9  \n",
       "335605  4ff2c479-e5d4-4b12-becd-02670b827b11  \n",
       "335606  c501dc62-2cbe-48d8-8fda-78971bcb8179  \n",
       "335607  77963b63-9df1-4b40-8420-00cbdc3a701b  \n",
       "335608  a49436f2-f0ee-4926-ab38-8938970b2fea  \n",
       "335609  164c8d2d-e04b-4427-bff7-a63ecfd8aea2  \n",
       "335610  44b9841e-b9fb-4130-baa4-e79963d4f3e5  \n",
       "335611  17d0b63c-4a28-4cab-bea0-9a1ad0490f02  \n",
       "335612  6ba71ab9-5940-4afa-a912-11348d5fbcf7  \n",
       "335613  f79474e9-911a-49b5-a301-0ea11fdde1d5  \n",
       "335614  f0adad7c-029a-4eba-9d23-c19f2da49b2d  \n",
       "\n",
       "[106154 rows x 9 columns]"
      ]
     },
     "execution_count": 81,
     "metadata": {},
     "output_type": "execute_result"
    }
   ],
   "source": [
    "content_old_taxons"
   ]
  },
  {
   "cell_type": "code",
   "execution_count": 82,
   "metadata": {},
   "outputs": [],
   "source": [
    "#rename some cols\n",
    "content_old_taxons.rename(columns={'base_path_x': 'content_base_path', \n",
    "                               'content_id_x': 'content_id', \n",
    "                                  'base_path_y':'taxon_base_path'}, inplace=True)"
   ]
  },
  {
   "cell_type": "code",
   "execution_count": 40,
   "metadata": {},
   "outputs": [
    {
     "name": "stdout",
     "output_type": "stream",
     "text": [
      "There are 2010 taxons represented in the 106154 content item/taxon combinations which have no corresponding taxon in the taxon data\n"
     ]
    }
   ],
   "source": [
    "print(\"There are {} taxons represented in the {} content item/taxon combinations which have no corresponding taxon in the taxon data\"\n",
    "      .format(content_old_taxons.taxon_id.nunique(), content_old_taxons.shape[0]))"
   ]
  },
  {
   "cell_type": "code",
   "execution_count": 41,
   "metadata": {},
   "outputs": [
    {
     "name": "stdout",
     "output_type": "stream",
     "text": [
      "There are 0 content items/taxon combinations with missing taxon because these were removed during taxon_clean.py\n"
     ]
    }
   ],
   "source": [
    "print(\"There are {} content items/taxon combinations with missing taxon because these were removed during taxon_clean.py\"\n",
    "      .format(content_old_taxons[content_old_taxons.taxon_id.isnull()].shape[0]))"
   ]
  },
  {
   "cell_type": "code",
   "execution_count": 42,
   "metadata": {},
   "outputs": [],
   "source": [
    "#save out for devs to check reason these do not have a match in taxon file\n",
    "#content_only_taxons.to_csv('../../data/content_with_taxonid_no_matching_taxon.csv', \n",
    "                           #index=False)"
   ]
  },
  {
   "cell_type": "code",
   "execution_count": 43,
   "metadata": {},
   "outputs": [],
   "source": [
    "# np.savetxt('../../data/taxonid_no_matching_taxon.gz', \n",
    "#            content_only_taxons.taxon_id.unique(),fmt='%5s', delimiter=',')"
   ]
  },
  {
   "cell_type": "markdown",
   "metadata": {},
   "source": [
    "Devs did some spot checks on these and some of these taxons were not part of the topic taxonomy so did not have a match in the topic taxonomy file. Others are in the World branch of the taxonomy."
   ]
  },
  {
   "cell_type": "markdown",
   "metadata": {},
   "source": [
    "need to add these to untaggedd population\n"
   ]
  },
  {
   "cell_type": "markdown",
   "metadata": {},
   "source": [
    "## Tidy the content-taxon df"
   ]
  },
  {
   "cell_type": "code",
   "execution_count": 44,
   "metadata": {},
   "outputs": [
    {
     "data": {
      "text/plain": [
       "(335720, 24)"
      ]
     },
     "execution_count": 44,
     "metadata": {},
     "output_type": "execute_result"
    }
   ],
   "source": [
    "content_taxons.shape"
   ]
  },
  {
   "cell_type": "markdown",
   "metadata": {},
   "source": [
    "#### tidy columns"
   ]
  },
  {
   "cell_type": "code",
   "execution_count": 45,
   "metadata": {},
   "outputs": [
    {
     "data": {
      "text/plain": [
       "Index(['Unnamed: 0', 'base_path_x', 'content_id_x', 'description', 'details',\n",
       "       'document_type', 'first_published_at', 'locale',\n",
       "       'primary_publishing_organisation', 'publishing_app', 'title', 'body',\n",
       "       'combined_text', 'variable', 'taxon_id', 'base_path_y', 'content_id_y',\n",
       "       'taxon_name', 'level1taxon', 'level2taxon', 'level3taxon',\n",
       "       'level4taxon', 'level5taxon', '_merge'],\n",
       "      dtype='object')"
      ]
     },
     "execution_count": 45,
     "metadata": {},
     "output_type": "execute_result"
    }
   ],
   "source": [
    "content_taxons.columns"
   ]
  },
  {
   "cell_type": "code",
   "execution_count": 46,
   "metadata": {},
   "outputs": [],
   "source": [
    "#drop some cols\n",
    "content_taxons = content_taxons.drop(['Unnamed: 0', 'variable', 'base_path_y', \n",
    "                                      'content_id_y'], axis=1)"
   ]
  },
  {
   "cell_type": "code",
   "execution_count": 47,
   "metadata": {},
   "outputs": [],
   "source": [
    "#rename some cols\n",
    "content_taxons.rename(columns={'base_path_x': 'base_path', \n",
    "                               'content_id_x': 'content_id'}, inplace=True)"
   ]
  },
  {
   "cell_type": "markdown",
   "metadata": {},
   "source": [
    "## Filter content-taxons data:\n",
    "- remove duplicates\n",
    "- remove mismatches from merge"
   ]
  },
  {
   "cell_type": "code",
   "execution_count": 48,
   "metadata": {},
   "outputs": [
    {
     "name": "stdout",
     "output_type": "stream",
     "text": [
      "There are 335720 rows in the data before filtering\n",
      "There are 140103 unique content items in the data before filtering\n"
     ]
    }
   ],
   "source": [
    "#count duplicates\n",
    "print(\"There are {} rows in the data before filtering\".\n",
    "      format(content_taxons.shape[0]))\n",
    "print(\"There are {} unique content items in the data before filtering\".\n",
    "      format(content_taxons.content_id.nunique()))\n"
   ]
  },
  {
   "cell_type": "code",
   "execution_count": 49,
   "metadata": {},
   "outputs": [
    {
     "name": "stdout",
     "output_type": "stream",
     "text": [
      "There are 229461 rows in the taxon-level data after filtering out mismatches\n",
      "There are 127320 unique content items in the taxon-level data after filtering out mismatches\n",
      "There were 106259 rows dropped because of mismatching\n",
      "There were 12783 unique content items dropped because of mismatching\n"
     ]
    }
   ],
   "source": [
    "# Drop any rows which were not perfectly matched in taxons and content\n",
    "\n",
    "content_taxons_filtered = content_taxons[content_taxons._merge == 'both']\n",
    "\n",
    "print(\"There are {} rows in the taxon-level data after filtering out mismatches\".\n",
    "      format(content_taxons_filtered.shape[0]))\n",
    "print(\"There are {} unique content items in the taxon-level data after filtering out mismatches\".\n",
    "      format(content_taxons_filtered.content_id.nunique()))\n",
    "print(\"There were {} rows dropped because of mismatching\"\n",
    "      .format(content_taxons.shape[0] - content_taxons_filtered.shape[0]))\n",
    "print(\"There were {} unique content items dropped because of mismatching\"\n",
    "      .format(content_taxons.content_id.nunique() - content_taxons_filtered.content_id.nunique()))"
   ]
  },
  {
   "cell_type": "code",
   "execution_count": 50,
   "metadata": {},
   "outputs": [
    {
     "name": "stdout",
     "output_type": "stream",
     "text": [
      "Before removing mismatches, there were 956 duplicates content items, both with matching content_id and taxon_id\n",
      "After removing mismatches, there were 377 duplicates content items, both with matching content_id and taxon_id\n"
     ]
    }
   ],
   "source": [
    "print(\"Before removing mismatches, there were {} duplicates content items, both with matching content_id \"\n",
    "      \"and taxon_id\"\n",
    "      .format(content_taxons[content_taxons.duplicated(['content_id', 'taxon_id'])].shape[0]))\n",
    "print(\"After removing mismatches, there were {} duplicates content items, both with matching \"\n",
    "      \"content_id and taxon_id\"\n",
    "      .format(content_taxons_filtered[content_taxons_filtered.\n",
    "                                      duplicated(['content_id', 'taxon_id'])].shape[0]))\n"
   ]
  },
  {
   "cell_type": "code",
   "execution_count": 51,
   "metadata": {},
   "outputs": [],
   "source": [
    "#drop duplicates\n",
    "content_taxons_dedup = content_taxons_filtered.drop_duplicates(subset = ['content_id', 'taxon_id'])"
   ]
  },
  {
   "cell_type": "code",
   "execution_count": 52,
   "metadata": {},
   "outputs": [
    {
     "name": "stdout",
     "output_type": "stream",
     "text": [
      "There were 377 additional rows dropped due to duplicate content_id/taxon_id combination\n",
      "There were 0 additional content items dropped due to duplicate content_id/taxon_id combination\n"
     ]
    }
   ],
   "source": [
    "print(\"There were {} additional rows dropped due to duplicate content_id/taxon_id combination\"\n",
    "      .format(content_taxons_filtered.shape[0] - content_taxons_dedup.shape[0]))\n",
    "print(\"There were {} additional content items dropped due to duplicate content_id/taxon_id combination\"\n",
    "      .format(content_taxons_filtered.content_id.nunique() - content_taxons_dedup.content_id.nunique()))"
   ]
  },
  {
   "cell_type": "code",
   "execution_count": 53,
   "metadata": {},
   "outputs": [
    {
     "data": {
      "text/plain": [
       "(229084, 20)"
      ]
     },
     "execution_count": 53,
     "metadata": {},
     "output_type": "execute_result"
    }
   ],
   "source": [
    "#assert content_taxons_dedup.shape == (2029084, 18)\n",
    "content_taxons_dedup.shape"
   ]
  },
  {
   "cell_type": "code",
   "execution_count": 54,
   "metadata": {},
   "outputs": [],
   "source": [
    "#content_taxons_dedup.head()"
   ]
  },
  {
   "cell_type": "markdown",
   "metadata": {},
   "source": [
    "## Write out dataframes for analyses\n",
    "- allcontent_taxons: all deduplicated labelled content with no filtering by taxon\n",
    "- content_taxons_dedup: Deduplicated labelled content without World/Corporate taxons\n",
    "- taxons: cleaner taxons data from that produced by clean_taxons.py\n",
    "- content_old_taxons: content items with a taxon id which is not contained within the topic taxonomy taxons\n",
    "- empty_taxons: Taxons with no content tagged to them, which are not World taxons"
   ]
  },
  {
   "cell_type": "code",
   "execution_count": 55,
   "metadata": {},
   "outputs": [],
   "source": [
    "allcontent_taxons.to_csv('../../data/labelled.csv', index=False)\n",
    "\n",
    "content_taxons_dedup.to_csv('../../data/filtered.csv', index=False)\n",
    "                            \n",
    "taxons.to_csv('../../data/taxons_cleaner.csv', index=False)\n",
    "                            "
   ]
  },
  {
   "cell_type": "code",
   "execution_count": 68,
   "metadata": {},
   "outputs": [],
   "source": [
    "content_old_taxons.to_csv('../../data/old_tags.csv', index=False)"
   ]
  },
  {
   "cell_type": "code",
   "execution_count": 57,
   "metadata": {},
   "outputs": [],
   "source": [
    "empty_taxons_notworld.to_csv('../../data/empty_taxons.csv', index=False)"
   ]
  },
  {
   "cell_type": "code",
   "execution_count": null,
   "metadata": {},
   "outputs": [],
   "source": []
  }
 ],
 "metadata": {
  "keep_output": true,
  "kernelspec": {
   "display_name": "tax_SL",
   "language": "python",
   "name": "tax_sl"
  },
  "language_info": {
   "codemirror_mode": {
    "name": "ipython",
    "version": 3
   },
   "file_extension": ".py",
   "mimetype": "text/x-python",
   "name": "python",
   "nbconvert_exporter": "python",
   "pygments_lexer": "ipython3",
   "version": "3.4.6"
  }
 },
 "nbformat": 4,
 "nbformat_minor": 2
}
