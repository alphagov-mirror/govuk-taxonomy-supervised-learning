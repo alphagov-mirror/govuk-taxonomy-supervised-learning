{
 "cells": [
  {
   "cell_type": "markdown",
   "metadata": {},
   "source": [
    "## Convolutional NN to classify govuk content to level2 taxons"
   ]
  },
  {
   "cell_type": "markdown",
   "metadata": {},
   "source": [
    "Based on:\n",
    "https://blog.keras.io/using-pre-trained-word-embeddings-in-a-keras-model.html"
   ]
  },
  {
   "cell_type": "markdown",
   "metadata": {},
   "source": [
    "## To do:\n",
    "- ~~Consider grouping very small classes (especially if too small for evaluation)~~\n",
    "- ~~Split data into training, validation and test to avoid overfitting validation data during hyperparamter searches & model architecture changes~~\n",
    "- ~~Try learning embeddings~~--\n",
    "- ~~Try changing pos_ratio~~\n",
    "- Try implementing class_weights during model fit (does this do the same as the weighted binary corss entropy?)\n",
    "- Work on tensorboard callbacks\n",
    "- ~~Create dictionary of class indices to taxon names for viewing results~~\n",
    "- ~~Check model architecture~~\n",
    "- ~~consider relationship of training error to validation error - overfitting/bias?~~\n",
    "- ~~train longer~~\n",
    "- Try differnet max_sequence_length\n",
    "- Check batch size is appropriate\n",
    "- Also think about:\n",
    "  - ~~regularization (e.g. dropout)~~ \n",
    "  - fine-tuning the Embedding layer"
   ]
  },
  {
   "cell_type": "markdown",
   "metadata": {},
   "source": [
    "### Load requirements and data"
   ]
  },
  {
   "cell_type": "markdown",
   "metadata": {},
   "source": [
    "TODO: edit requirement.txt to include only these packages and do not include tensorflow because this conflicts with tf on AWS when using on GPU."
   ]
  },
  {
   "cell_type": "code",
   "execution_count": 1,
   "metadata": {},
   "outputs": [
    {
     "name": "stderr",
     "output_type": "stream",
     "text": [
      "Using TensorFlow backend.\n"
     ]
    }
   ],
   "source": [
    "import pandas as pd\n",
    "import numpy as np\n",
    "import os\n",
    "from datetime import datetime\n",
    "from keras.preprocessing.text import Tokenizer\n",
    "from keras.preprocessing.sequence import pad_sequences\n",
    "\n",
    "from keras.utils import to_categorical, layer_utils, plot_model\n",
    "\n",
    "from keras.layers import (Embedding, Input, Dense, Dropout, \n",
    "                          Activation, Conv1D, MaxPooling1D, Flatten, concatenate, Reshape)\n",
    "from keras.models import Model, Sequential\n",
    "from keras.optimizers import rmsprop\n",
    "from keras.callbacks import TensorBoard, Callback, ModelCheckpoint\n",
    "import keras.backend as K\n",
    "from keras.losses import binary_crossentropy\n",
    "\n",
    "from sklearn.preprocessing import LabelEncoder, MultiLabelBinarizer\n",
    "from sklearn.metrics import confusion_matrix, f1_score, precision_score, recall_score \n",
    "from sklearn.metrics import precision_recall_fscore_support, classification_report\n",
    "from sklearn.utils import class_weight\n",
    "\n",
    "import tensorflow as tf\n",
    "\n",
    "import matplotlib.pyplot as plt\n",
    "%matplotlib inline\n",
    "\n",
    "import functools\n",
    "\n",
    "import h5py\n"
   ]
  },
  {
   "cell_type": "markdown",
   "metadata": {},
   "source": [
    "### Environmental vars"
   ]
  },
  {
   "cell_type": "code",
   "execution_count": 2,
   "metadata": {},
   "outputs": [],
   "source": [
    "DATADIR=os.getenv('DATADIR')\n",
    "#DATADIR='/data' #this was put in for AWS run but doesn't work locally..."
   ]
  },
  {
   "cell_type": "markdown",
   "metadata": {},
   "source": [
    "## Hyperparameters"
   ]
  },
  {
   "cell_type": "markdown",
   "metadata": {},
   "source": [
    "Intuition for POS_RATIO is that it penalises the prediction of zero for everything, which is attractive to the model because the multilabel y matrix is super sparse. \n",
    "\n",
    "Increasing POS_RATIO should penalise predicting zeros more."
   ]
  },
  {
   "cell_type": "code",
   "execution_count": 3,
   "metadata": {},
   "outputs": [],
   "source": [
    "#MAX_NB_WORDS\n",
    "MAX_SEQUENCE_LENGTH =1000\n",
    "EMBEDDING_DIM = 100 # keras embedding layer output_dim = Dimension of the dense embedding\n",
    "P_THRESHOLD = 0.5 #Threshold for probability of being assigned to class\n",
    "POS_RATIO = 0.5 #ratio of positive to negative for each class in weighted binary cross entropy loss function\n",
    "NUM_WORDS=20000 #keras tokenizer num_words: None or int. Maximum number of words to work with \n",
    "#(if set, tokenization will be restricted to the top num_words most common words in the dataset)."
   ]
  },
  {
   "cell_type": "markdown",
   "metadata": {},
   "source": [
    "### Read in data\n",
    "Content items tagged to level 2 taxons or lower in the topic taxonomy"
   ]
  },
  {
   "cell_type": "code",
   "execution_count": 17,
   "metadata": {},
   "outputs": [],
   "source": [
    "labelled_level2 = pd.read_csv(os.path.join(DATADIR, 'labelled_level2.csv.gz'), dtype=object, compression='gzip')"
   ]
  },
  {
   "cell_type": "code",
   "execution_count": 18,
   "metadata": {},
   "outputs": [
    {
     "data": {
      "text/html": [
       "<div>\n",
       "<style scoped>\n",
       "    .dataframe tbody tr th:only-of-type {\n",
       "        vertical-align: middle;\n",
       "    }\n",
       "\n",
       "    .dataframe tbody tr th {\n",
       "        vertical-align: top;\n",
       "    }\n",
       "\n",
       "    .dataframe thead th {\n",
       "        text-align: right;\n",
       "    }\n",
       "</style>\n",
       "<table border=\"1\" class=\"dataframe\">\n",
       "  <thead>\n",
       "    <tr style=\"text-align: right;\">\n",
       "      <th></th>\n",
       "      <th>base_path</th>\n",
       "      <th>content_id</th>\n",
       "      <th>description</th>\n",
       "      <th>details</th>\n",
       "      <th>document_type</th>\n",
       "      <th>first_published_at</th>\n",
       "      <th>locale</th>\n",
       "      <th>primary_publishing_organisation</th>\n",
       "      <th>publishing_app</th>\n",
       "      <th>title</th>\n",
       "      <th>...</th>\n",
       "      <th>body</th>\n",
       "      <th>combined_text</th>\n",
       "      <th>taxon_id</th>\n",
       "      <th>taxon_base_path</th>\n",
       "      <th>taxon_name</th>\n",
       "      <th>level1taxon</th>\n",
       "      <th>level2taxon</th>\n",
       "      <th>level3taxon</th>\n",
       "      <th>level4taxon</th>\n",
       "      <th>level5taxon</th>\n",
       "    </tr>\n",
       "  </thead>\n",
       "  <tbody>\n",
       "    <tr>\n",
       "      <th>57687</th>\n",
       "      <td>/government/collections/emma-jones-small-busin...</td>\n",
       "      <td>00029fa4-9b60-4285-898c-85ae8a6367f5</td>\n",
       "      <td>as small business crown representative emma is...</td>\n",
       "      <td>{'change_history': [{'note': 'new blog', 'publ...</td>\n",
       "      <td>document_collection</td>\n",
       "      <td>2017-01-11T10:18:00.000+00:00</td>\n",
       "      <td>en</td>\n",
       "      <td>{'title': 'Crown Commercial Service'}</td>\n",
       "      <td>whitehall</td>\n",
       "      <td>emma jones - small business crown representative</td>\n",
       "      <td>...</td>\n",
       "      <td>emma was appointed as small business crown rep...</td>\n",
       "      <td>emma jones - small business crown representati...</td>\n",
       "      <td>f3caf326-fe33-410f-b7f4-553f4011c81e</td>\n",
       "      <td>/government/government-spending</td>\n",
       "      <td>Government spending</td>\n",
       "      <td>Government</td>\n",
       "      <td>Government spending</td>\n",
       "      <td>NaN</td>\n",
       "      <td>NaN</td>\n",
       "      <td>NaN</td>\n",
       "    </tr>\n",
       "    <tr>\n",
       "      <th>125770</th>\n",
       "      <td>/government/publications/land-remediation-brin...</td>\n",
       "      <td>00037b70-5b08-44c2-bf0a-fa8eb636a60b</td>\n",
       "      <td>brochure showing uk expertise in land remediat...</td>\n",
       "      <td>{'documents': ['&lt;section class=\"attachment emb...</td>\n",
       "      <td>promotional</td>\n",
       "      <td>2015-05-11T10:41:00.000+00:00</td>\n",
       "      <td>en</td>\n",
       "      <td>{'title': 'Department for International Trade'}</td>\n",
       "      <td>whitehall</td>\n",
       "      <td>land remediation: bringing brownfield sites ba...</td>\n",
       "      <td>...</td>\n",
       "      <td>the uk was the first industrialised country in...</td>\n",
       "      <td>land remediation: bringing brownfield sites ba...</td>\n",
       "      <td>ed2ca1f7-5463-4eda-9324-b597e269e242</td>\n",
       "      <td>/business/trade-and-investment</td>\n",
       "      <td>Trade and investment</td>\n",
       "      <td>Business</td>\n",
       "      <td>Trade and investment</td>\n",
       "      <td>NaN</td>\n",
       "      <td>NaN</td>\n",
       "      <td>NaN</td>\n",
       "    </tr>\n",
       "    <tr>\n",
       "      <th>17253</th>\n",
       "      <td>/government/publications/land-remediation-brin...</td>\n",
       "      <td>00037b70-5b08-44c2-bf0a-fa8eb636a60b</td>\n",
       "      <td>brochure showing uk expertise in land remediat...</td>\n",
       "      <td>{'documents': ['&lt;section class=\"attachment emb...</td>\n",
       "      <td>promotional</td>\n",
       "      <td>2015-05-11T10:41:00.000+00:00</td>\n",
       "      <td>en</td>\n",
       "      <td>{'title': 'Department for International Trade'}</td>\n",
       "      <td>whitehall</td>\n",
       "      <td>land remediation: bringing brownfield sites ba...</td>\n",
       "      <td>...</td>\n",
       "      <td>the uk was the first industrialised country in...</td>\n",
       "      <td>land remediation: bringing brownfield sites ba...</td>\n",
       "      <td>a1e4659c-dc15-48be-bc4f-6c609ae061dc</td>\n",
       "      <td>/business/uk-economy</td>\n",
       "      <td>UK economy</td>\n",
       "      <td>Business</td>\n",
       "      <td>UK economy</td>\n",
       "      <td>NaN</td>\n",
       "      <td>NaN</td>\n",
       "      <td>NaN</td>\n",
       "    </tr>\n",
       "    <tr>\n",
       "      <th>30435</th>\n",
       "      <td>/government/publications/land-remediation-brin...</td>\n",
       "      <td>00037b70-5b08-44c2-bf0a-fa8eb636a60b</td>\n",
       "      <td>brochure showing uk expertise in land remediat...</td>\n",
       "      <td>{'documents': ['&lt;section class=\"attachment emb...</td>\n",
       "      <td>promotional</td>\n",
       "      <td>2015-05-11T10:41:00.000+00:00</td>\n",
       "      <td>en</td>\n",
       "      <td>{'title': 'Department for International Trade'}</td>\n",
       "      <td>whitehall</td>\n",
       "      <td>land remediation: bringing brownfield sites ba...</td>\n",
       "      <td>...</td>\n",
       "      <td>the uk was the first industrialised country in...</td>\n",
       "      <td>land remediation: bringing brownfield sites ba...</td>\n",
       "      <td>21eee04d-e702-4e7b-9fde-2f6777f1be2c</td>\n",
       "      <td>/business/business-and-enterprise</td>\n",
       "      <td>Business and enterprise</td>\n",
       "      <td>Business</td>\n",
       "      <td>Business and enterprise</td>\n",
       "      <td>NaN</td>\n",
       "      <td>NaN</td>\n",
       "      <td>NaN</td>\n",
       "    </tr>\n",
       "    <tr>\n",
       "      <th>136043</th>\n",
       "      <td>/government/statistics/steps-2-successni-stati...</td>\n",
       "      <td>00037ee5-7b5e-452d-a233-af2c134f5bce</td>\n",
       "      <td>details on the number of referrals and starts ...</td>\n",
       "      <td>{'documents': ['&lt;section class=\"attachment hos...</td>\n",
       "      <td>official_statistics</td>\n",
       "      <td>2016-11-24T09:30:13.000+00:00</td>\n",
       "      <td>en</td>\n",
       "      <td>{'title': 'Department for Communities (Norther...</td>\n",
       "      <td>whitehall</td>\n",
       "      <td>steps 2 success:ni statistics from october 201...</td>\n",
       "      <td>...</td>\n",
       "      <td>statistics presented include details on the nu...</td>\n",
       "      <td>steps 2 success:ni statistics from october 201...</td>\n",
       "      <td>a1e624ed-e268-44ab-ac3f-4d3cb2bb8cb5</td>\n",
       "      <td>/regional-and-local-government/northern-ireland</td>\n",
       "      <td>Northern Ireland</td>\n",
       "      <td>Regional and local government</td>\n",
       "      <td>Northern Ireland</td>\n",
       "      <td>NaN</td>\n",
       "      <td>NaN</td>\n",
       "      <td>NaN</td>\n",
       "    </tr>\n",
       "  </tbody>\n",
       "</table>\n",
       "<p>5 rows × 21 columns</p>\n",
       "</div>"
      ],
      "text/plain": [
       "                                                base_path  \\\n",
       "57687   /government/collections/emma-jones-small-busin...   \n",
       "125770  /government/publications/land-remediation-brin...   \n",
       "17253   /government/publications/land-remediation-brin...   \n",
       "30435   /government/publications/land-remediation-brin...   \n",
       "136043  /government/statistics/steps-2-successni-stati...   \n",
       "\n",
       "                                  content_id  \\\n",
       "57687   00029fa4-9b60-4285-898c-85ae8a6367f5   \n",
       "125770  00037b70-5b08-44c2-bf0a-fa8eb636a60b   \n",
       "17253   00037b70-5b08-44c2-bf0a-fa8eb636a60b   \n",
       "30435   00037b70-5b08-44c2-bf0a-fa8eb636a60b   \n",
       "136043  00037ee5-7b5e-452d-a233-af2c134f5bce   \n",
       "\n",
       "                                              description  \\\n",
       "57687   as small business crown representative emma is...   \n",
       "125770  brochure showing uk expertise in land remediat...   \n",
       "17253   brochure showing uk expertise in land remediat...   \n",
       "30435   brochure showing uk expertise in land remediat...   \n",
       "136043  details on the number of referrals and starts ...   \n",
       "\n",
       "                                                  details  \\\n",
       "57687   {'change_history': [{'note': 'new blog', 'publ...   \n",
       "125770  {'documents': ['<section class=\"attachment emb...   \n",
       "17253   {'documents': ['<section class=\"attachment emb...   \n",
       "30435   {'documents': ['<section class=\"attachment emb...   \n",
       "136043  {'documents': ['<section class=\"attachment hos...   \n",
       "\n",
       "              document_type             first_published_at locale  \\\n",
       "57687   document_collection  2017-01-11T10:18:00.000+00:00     en   \n",
       "125770          promotional  2015-05-11T10:41:00.000+00:00     en   \n",
       "17253           promotional  2015-05-11T10:41:00.000+00:00     en   \n",
       "30435           promotional  2015-05-11T10:41:00.000+00:00     en   \n",
       "136043  official_statistics  2016-11-24T09:30:13.000+00:00     en   \n",
       "\n",
       "                          primary_publishing_organisation publishing_app  \\\n",
       "57687               {'title': 'Crown Commercial Service'}      whitehall   \n",
       "125770    {'title': 'Department for International Trade'}      whitehall   \n",
       "17253     {'title': 'Department for International Trade'}      whitehall   \n",
       "30435     {'title': 'Department for International Trade'}      whitehall   \n",
       "136043  {'title': 'Department for Communities (Norther...      whitehall   \n",
       "\n",
       "                                                    title     ...      \\\n",
       "57687    emma jones - small business crown representative     ...       \n",
       "125770  land remediation: bringing brownfield sites ba...     ...       \n",
       "17253   land remediation: bringing brownfield sites ba...     ...       \n",
       "30435   land remediation: bringing brownfield sites ba...     ...       \n",
       "136043  steps 2 success:ni statistics from october 201...     ...       \n",
       "\n",
       "                                                     body  \\\n",
       "57687   emma was appointed as small business crown rep...   \n",
       "125770  the uk was the first industrialised country in...   \n",
       "17253   the uk was the first industrialised country in...   \n",
       "30435   the uk was the first industrialised country in...   \n",
       "136043  statistics presented include details on the nu...   \n",
       "\n",
       "                                            combined_text  \\\n",
       "57687   emma jones - small business crown representati...   \n",
       "125770  land remediation: bringing brownfield sites ba...   \n",
       "17253   land remediation: bringing brownfield sites ba...   \n",
       "30435   land remediation: bringing brownfield sites ba...   \n",
       "136043  steps 2 success:ni statistics from october 201...   \n",
       "\n",
       "                                    taxon_id  \\\n",
       "57687   f3caf326-fe33-410f-b7f4-553f4011c81e   \n",
       "125770  ed2ca1f7-5463-4eda-9324-b597e269e242   \n",
       "17253   a1e4659c-dc15-48be-bc4f-6c609ae061dc   \n",
       "30435   21eee04d-e702-4e7b-9fde-2f6777f1be2c   \n",
       "136043  a1e624ed-e268-44ab-ac3f-4d3cb2bb8cb5   \n",
       "\n",
       "                                        taxon_base_path  \\\n",
       "57687                   /government/government-spending   \n",
       "125770                   /business/trade-and-investment   \n",
       "17253                              /business/uk-economy   \n",
       "30435                 /business/business-and-enterprise   \n",
       "136043  /regional-and-local-government/northern-ireland   \n",
       "\n",
       "                     taxon_name                    level1taxon  \\\n",
       "57687       Government spending                     Government   \n",
       "125770     Trade and investment                       Business   \n",
       "17253                UK economy                       Business   \n",
       "30435   Business and enterprise                       Business   \n",
       "136043         Northern Ireland  Regional and local government   \n",
       "\n",
       "                    level2taxon level3taxon level4taxon level5taxon  \n",
       "57687       Government spending         NaN         NaN         NaN  \n",
       "125770     Trade and investment         NaN         NaN         NaN  \n",
       "17253                UK economy         NaN         NaN         NaN  \n",
       "30435   Business and enterprise         NaN         NaN         NaN  \n",
       "136043         Northern Ireland         NaN         NaN         NaN  \n",
       "\n",
       "[5 rows x 21 columns]"
      ]
     },
     "execution_count": 18,
     "metadata": {},
     "output_type": "execute_result"
    }
   ],
   "source": [
    "labelled_level2.sort_values('content_id').head()"
   ]
  },
  {
   "cell_type": "markdown",
   "metadata": {},
   "source": [
    "### Collapse taxons with insufficient support for predictions (will need to be manually tagged)"
   ]
  },
  {
   "cell_type": "code",
   "execution_count": 19,
   "metadata": {},
   "outputs": [],
   "source": [
    "#count the number of taxons per content item into new column\n",
    "labelled_level2['num_content_per_taxon'] = labelled_level2.groupby([\"level2taxon\"])['level2taxon'].transform(\"count\")"
   ]
  },
  {
   "cell_type": "code",
   "execution_count": 20,
   "metadata": {},
   "outputs": [],
   "source": [
    "#COLLAPSE level2taxons with too few content items into \"toosmall\" category\n",
    "labelled_level2.loc[labelled_level2['num_content_per_taxon'] < 10, 'level2taxon'] = 'TOO_SMALL'"
   ]
  },
  {
   "cell_type": "markdown",
   "metadata": {},
   "source": [
    "#### clean up any World taxons leftover despite dropping relevant doctypes"
   ]
  },
  {
   "cell_type": "code",
   "execution_count": 21,
   "metadata": {},
   "outputs": [],
   "source": [
    "#COLLAPSE World level2taxons\n",
    "labelled_level2.loc[labelled_level2['level1taxon'] == 'World', 'level2taxon'] = 'world_level1'\n",
    "\n",
    "#creating categorical variable for level2taxons from values\n",
    "labelled_level2['level2taxon'] = labelled_level2['level2taxon'].astype('category')"
   ]
  },
  {
   "cell_type": "code",
   "execution_count": 46,
   "metadata": {},
   "outputs": [
    {
     "data": {
      "text/plain": [
       "(172916, 24)"
      ]
     },
     "execution_count": 46,
     "metadata": {},
     "output_type": "execute_result"
    }
   ],
   "source": [
    "labelled_level2.shape"
   ]
  },
  {
   "cell_type": "markdown",
   "metadata": {},
   "source": [
    "### drop news"
   ]
  },
  {
   "cell_type": "code",
   "execution_count": 59,
   "metadata": {},
   "outputs": [
    {
     "data": {
      "text/plain": [
       "(3927, 24)"
      ]
     },
     "execution_count": 59,
     "metadata": {},
     "output_type": "execute_result"
    }
   ],
   "source": [
    "labelled_level2[(labelled_level2['document_type'] == 'world_news_story')].shape"
   ]
  },
  {
   "cell_type": "code",
   "execution_count": 60,
   "metadata": {},
   "outputs": [
    {
     "data": {
      "text/plain": [
       "(33214, 24)"
      ]
     },
     "execution_count": 60,
     "metadata": {},
     "output_type": "execute_result"
    }
   ],
   "source": [
    "labelled_level2[(labelled_level2['document_type'] == 'news_story')].shape"
   ]
  },
  {
   "cell_type": "code",
   "execution_count": 61,
   "metadata": {},
   "outputs": [],
   "source": [
    "nonews = labelled_level2[(labelled_level2['document_type'] != 'news_story')]\n",
    "\n",
    "nonews = nonews[nonews['document_type'] != 'world_news_story']"
   ]
  },
  {
   "cell_type": "code",
   "execution_count": 62,
   "metadata": {},
   "outputs": [
    {
     "data": {
      "text/plain": [
       "(135775, 24)"
      ]
     },
     "execution_count": 62,
     "metadata": {},
     "output_type": "execute_result"
    }
   ],
   "source": [
    "nonews.shape"
   ]
  },
  {
   "cell_type": "markdown",
   "metadata": {},
   "source": [
    "### Create dictionary mapping taxon codes to string labels"
   ]
  },
  {
   "cell_type": "code",
   "execution_count": 63,
   "metadata": {},
   "outputs": [
    {
     "data": {
      "text/plain": [
       "{1: 'Administrative justice reform',\n",
       " 2: 'Adoption, fostering and surrogacy',\n",
       " 3: 'Afghanistan',\n",
       " 4: 'Armed Forces Covenant',\n",
       " 5: 'Armed forces',\n",
       " 6: 'Armed forces and Ministry of Defence reform',\n",
       " 7: 'Armed forces support for activities in the UK',\n",
       " 8: 'Arts and culture',\n",
       " 9: 'Asylum',\n",
       " 10: 'Attorney General guidance to the legal profession',\n",
       " 11: 'Aviation',\n",
       " 12: 'Benefits entitlement',\n",
       " 13: 'Benefits for families',\n",
       " 14: 'Biodiversity and ecosystems',\n",
       " 15: 'Brexit',\n",
       " 16: 'Brexit and the EU',\n",
       " 17: 'British citizenship ',\n",
       " 18: 'British nationals overseas',\n",
       " 19: 'Business and enterprise',\n",
       " 20: 'Business and the environment',\n",
       " 21: 'Business tax',\n",
       " 22: 'Carers and disability benefits',\n",
       " 23: \"Carers' health\",\n",
       " 24: 'Certificates, register offices, changes of name or gender',\n",
       " 25: 'Charities, volunteering and honours',\n",
       " 26: 'Child Benefit',\n",
       " 27: 'Child maintenance reform',\n",
       " 28: 'Childcare and early years',\n",
       " 29: \"Children's health and welfare\",\n",
       " 30: 'Civil service reform',\n",
       " 31: 'Climate change and energy',\n",
       " 32: 'Commercial fishing and fisheries',\n",
       " 33: 'Community and society',\n",
       " 34: 'Conflict in fragile states',\n",
       " 35: 'Constitutional affairs',\n",
       " 36: 'Consumer rights and issues',\n",
       " 37: 'Counter-terrorism',\n",
       " 38: 'Court claims, debt and bankruptcy',\n",
       " 39: 'Courts, sentencing and tribunals',\n",
       " 40: 'Crime prevention',\n",
       " 41: 'Criminal justice reform',\n",
       " 42: 'Cyber security',\n",
       " 43: 'Dealing with HMRC',\n",
       " 44: 'Death and benefits',\n",
       " 45: 'Death and bereavement',\n",
       " 46: 'Deficit reduction',\n",
       " 47: 'Disabled people',\n",
       " 48: 'Divorce, separation and legal issues',\n",
       " 49: 'Driving and road transport',\n",
       " 50: 'Education of disadvantaged children',\n",
       " 51: 'Emergency preparation, response and recovery',\n",
       " 52: 'Employing people',\n",
       " 53: 'End of life care',\n",
       " 54: 'Environmental permits',\n",
       " 55: 'Environmental quality',\n",
       " 56: 'Environmental risk management',\n",
       " 57: 'Equality, rights and citizenship',\n",
       " 58: 'European Union laws and regulation',\n",
       " 59: 'European funds',\n",
       " 60: 'European single market',\n",
       " 61: 'Family justice system',\n",
       " 62: 'Financial help if you have children',\n",
       " 63: 'Financial services',\n",
       " 64: 'Fire prevention and rescue',\n",
       " 65: 'Flooding and coastal change',\n",
       " 66: 'Food and farming',\n",
       " 67: 'Foreign affairs',\n",
       " 68: 'Freight and cargo',\n",
       " 69: 'Funding and finance for students',\n",
       " 70: 'Further and higher education, skills and vocational training',\n",
       " 71: 'Government efficiency, transparency and accountability',\n",
       " 72: 'Government spending',\n",
       " 73: 'Having a child, parenting and adoption',\n",
       " 74: 'Health and safety reform',\n",
       " 75: 'Health protection',\n",
       " 76: 'Heating and housing benefits',\n",
       " 77: 'Housing',\n",
       " 78: 'Housing planning and building',\n",
       " 79: 'Human rights internationally',\n",
       " 80: 'Immigration rules and enforcement',\n",
       " 81: 'Industrial strategy',\n",
       " 82: 'Inspections and performance of education providers',\n",
       " 83: 'International aid and development',\n",
       " 84: 'International defence commitments',\n",
       " 85: \"Jobseeker's Allowance and low income benefits\",\n",
       " 86: 'Justice system transparency',\n",
       " 87: 'Knife, gun and gang crime',\n",
       " 88: 'Labour market reform',\n",
       " 89: 'Land Registration Data ',\n",
       " 90: 'Land management',\n",
       " 91: 'Land registration',\n",
       " 92: 'Lasting power of attorney, being in care and your financial affairs',\n",
       " 93: 'Law and practice',\n",
       " 94: 'Legal aid',\n",
       " 95: 'Legal aid reform',\n",
       " 96: 'Living abroad',\n",
       " 97: 'Living in the UK, government and democracy',\n",
       " 98: 'Local councils and services',\n",
       " 99: 'Local government',\n",
       " 100: 'Local government spending',\n",
       " 101: 'Local transport',\n",
       " 102: 'Localism',\n",
       " 103: 'Major project management',\n",
       " 104: 'Marine',\n",
       " 105: 'Maritime',\n",
       " 106: 'Marriage, civil partnership and divorce',\n",
       " 107: 'Media and communications',\n",
       " 108: 'Medicines, medical devices and blood regulation and safety',\n",
       " 109: 'Military awards and commemorations',\n",
       " 110: 'Military equipment, logistics and technology',\n",
       " 111: 'Military recruitment, training and operations',\n",
       " 112: 'Ministry of Defence estate',\n",
       " 113: 'Money laundering regulations',\n",
       " 114: 'National Health Service',\n",
       " 115: 'National events and ceremonies',\n",
       " 116: 'National security',\n",
       " 117: 'Northern Ireland',\n",
       " 118: 'Oil and gas',\n",
       " 119: 'Passports',\n",
       " 120: 'Passports and travel documents for foreign nationals',\n",
       " 121: 'Payroll',\n",
       " 122: 'Peace and stability in the Middle East and North Africa',\n",
       " 123: 'Pensions and ageing society',\n",
       " 124: 'Permanent stay in the UK',\n",
       " 125: 'Personal tax',\n",
       " 126: 'Policing',\n",
       " 127: 'Population screening programmes',\n",
       " 128: 'Postal service reform',\n",
       " 129: 'Pregnancy and birth',\n",
       " 130: 'Prisons and probation',\n",
       " 131: 'Public health',\n",
       " 132: 'Public services',\n",
       " 133: 'Pupil wellbeing, behaviour and attendance',\n",
       " 134: 'Rail',\n",
       " 135: 'Regulation reform',\n",
       " 136: 'Reoffending and rehabilitation',\n",
       " 137: 'Reporting crimes and getting compensation',\n",
       " 138: 'Road infrastructure',\n",
       " 139: 'Running and managing a school',\n",
       " 140: 'Rural and countryside',\n",
       " 141: 'Safeguarding and social care for children',\n",
       " 142: 'School and academy financial management and assurance',\n",
       " 143: 'School and academy funding',\n",
       " 144: 'School curriculum',\n",
       " 145: 'Science and innovation',\n",
       " 146: 'Scotland',\n",
       " 147: 'Screening and quality assurance (all programmes)',\n",
       " 148: 'Self-employment',\n",
       " 149: 'Sentencing reform',\n",
       " 150: 'Social care',\n",
       " 151: 'Special educational needs and disability (SEND) and high needs',\n",
       " 152: 'Sports and leisure',\n",
       " 153: 'Starting and attending school',\n",
       " 154: 'Support services for military and defence personnel and their families',\n",
       " 155: 'Support services for veterans and their families',\n",
       " 156: 'Sustainable development',\n",
       " 157: 'TOO_SMALL',\n",
       " 158: 'Tax credits',\n",
       " 159: 'Tax evasion and avoidance',\n",
       " 160: 'Teaching and leadership',\n",
       " 161: 'The Commonwealth',\n",
       " 162: 'Tourism',\n",
       " 163: 'Trade and investment',\n",
       " 164: 'Transport accessibility and mobility',\n",
       " 165: 'Transport corporate and transparency',\n",
       " 166: 'Transport modelling and appraisal',\n",
       " 167: 'Transport planning',\n",
       " 168: 'Transport research and evaluation',\n",
       " 169: 'Transport security',\n",
       " 170: 'Transport statistics',\n",
       " 171: 'Travel abroad',\n",
       " 172: 'UK economy',\n",
       " 173: 'UK nuclear deterrent',\n",
       " 174: 'UK prosperity and security: Asia, Latin America and Africa',\n",
       " 175: 'Victims of crime',\n",
       " 176: 'Violence against women and girls',\n",
       " 177: 'Visas',\n",
       " 178: 'Wales',\n",
       " 179: 'Waste and recycling',\n",
       " 180: 'Water industry',\n",
       " 181: 'Weapons proliferation',\n",
       " 182: 'Wildlife and animal welfare',\n",
       " 183: 'Working, jobs and pensions',\n",
       " 184: 'Young people and the law',\n",
       " 185: 'Your rights and the law',\n",
       " 186: 'Youth employment and social issues',\n",
       " 187: 'world_level1'}"
      ]
     },
     "execution_count": 63,
     "metadata": {},
     "output_type": "execute_result"
    }
   ],
   "source": [
    "#Get the category numeric values (codes) and avoid zero-indexing\n",
    "labels = nonews['level2taxon'].cat.codes + 1\n",
    "\n",
    "#create dictionary of taxon category code to string label for use in model evaluation\n",
    "labels_index = dict(zip((labels), nonews['level2taxon']))\n",
    "labels_index"
   ]
  },
  {
   "cell_type": "code",
   "execution_count": 64,
   "metadata": {},
   "outputs": [
    {
     "name": "stdout",
     "output_type": "stream",
     "text": [
      "187\n"
     ]
    }
   ],
   "source": [
    "print(len(labels_index))"
   ]
  },
  {
   "cell_type": "markdown",
   "metadata": {},
   "source": [
    "### Create target/Y "
   ]
  },
  {
   "cell_type": "markdown",
   "metadata": {},
   "source": [
    "Note: when using the categorical_crossentropy loss, your targets should be in categorical format (e.g. if you have 10 classes, the target for each sample should be a 10-dimensional vector that is all-zeros expect for a 1 at the index corresponding to the class of the sample)."
   ]
  },
  {
   "cell_type": "markdown",
   "metadata": {},
   "source": [
    "In multilabel learning, the joint set of binary classification tasks is expressed with label binary indicator array: each sample is one row of a 2d array of shape (n_samples, n_classes) with binary values:  \n",
    "the one, i.e. the non zero elements, corresponds to the subset of labels.  \n",
    "An array such as np.array([[1, 0, 0], [0, 1, 1], [0, 0, 0]]) represents label 0 in the first sample, labels 1 and 2 in the second sample, and no labels in the third sample.  \n",
    "Producing multilabel data as a list of sets of labels may be more intuitive."
   ]
  },
  {
   "cell_type": "markdown",
   "metadata": {},
   "source": [
    "####  First reshape wide to get columns for each level2taxon and row number = number unique urls"
   ]
  },
  {
   "cell_type": "code",
   "execution_count": 73,
   "metadata": {},
   "outputs": [
    {
     "name": "stdout",
     "output_type": "stream",
     "text": [
      "Number of unique level2taxons: 187\n"
     ]
    }
   ],
   "source": [
    "#get a smaller copy of data for pivoting ease (think you can work from full data actually and other cols get droopedauto)\n",
    "\n",
    "level2_reduced = nonews[['content_id', 'level2taxon', 'combined_text', 'title', 'description']].copy()\n",
    "\n",
    "#how many level2taxons are there?\n",
    "print('Number of unique level2taxons: {}'.format(level2_reduced.level2taxon.nunique()))\n",
    "\n",
    "#count the number of taxons per content item into new column\n",
    "level2_reduced['num_taxon_per_content'] = level2_reduced.groupby([\"content_id\"])['content_id'].transform(\"count\")\n",
    "\n",
    "#Add 1 because of zero-indexing to get 1-number of level2taxons as numerical targets\n",
    "level2_reduced['level2taxon_code'] = level2_reduced.level2taxon.astype('category').cat.codes + 1"
   ]
  },
  {
   "cell_type": "code",
   "execution_count": 74,
   "metadata": {},
   "outputs": [
    {
     "name": "stdout",
     "output_type": "stream",
     "text": [
      "Number of unique level2taxons: 187\n"
     ]
    }
   ],
   "source": [
    "#how many level2taxons are there?\n",
    "print('Number of unique level2taxons: {}'.format(labelled_level2.level2taxon.nunique()))\n",
    "\n",
    "#count the number of taxons per content item into new column\n",
    "labelled_level2['num_taxon_per_content'] = labelled_level2.groupby([\"content_id\"])['content_id'].transform(\"count\")\n",
    "\n",
    "#Add 1 because of zero-indexing to get 1-number of level2taxons as numerical targets\n",
    "labelled_level2['level2taxon_code'] = labelled_level2.level2taxon.astype('category').cat.codes + 1"
   ]
  },
  {
   "cell_type": "code",
   "execution_count": 75,
   "metadata": {},
   "outputs": [
    {
     "name": "stdout",
     "output_type": "stream",
     "text": [
      "level2reduced shape: (135775, 7)\n",
      "pivot table shape (no duplicates): (91771, 187) \n",
      "level2taxon_code                                                                                                                                                                               1    \\\n",
      "content_id                           combined_text                                      title                                              description                                               \n",
      "00029fa4-9b60-4285-898c-85ae8a6367f5 emma jones - small business crown representativ... emma jones - small business crown representative   as small business crown representative emma is ...  NaN   \n",
      "00037b70-5b08-44c2-bf0a-fa8eb636a60b land remediation: bringing brownfield sites bac... land remediation: bringing brownfield sites bac... brochure showing uk expertise in land remediati...  NaN   \n",
      "00037ee5-7b5e-452d-a233-af2c134f5bce steps 2 success:ni statistics from october 2014... steps 2 success:ni statistics from october 2014... details on the number of referrals and starts o...  NaN   \n",
      "0004c63d-ae16-432a-bb35-c0f949b1e27c student support applications for higher educati... student support applications for higher educati... data includes the number of applications receiv...  NaN   \n",
      "0005ac76-50fe-42f1-8168-8b6fc046e40f advice for building owners: large-scale wall sy... advice for building owners: large-scale wall sy... advice for building owners on the large-scale w...  NaN   \n",
      "\n",
      "level2taxon_code                                                                                                                                                                               2    \\\n",
      "content_id                           combined_text                                      title                                              description                                               \n",
      "00029fa4-9b60-4285-898c-85ae8a6367f5 emma jones - small business crown representativ... emma jones - small business crown representative   as small business crown representative emma is ...  NaN   \n",
      "00037b70-5b08-44c2-bf0a-fa8eb636a60b land remediation: bringing brownfield sites bac... land remediation: bringing brownfield sites bac... brochure showing uk expertise in land remediati...  NaN   \n",
      "00037ee5-7b5e-452d-a233-af2c134f5bce steps 2 success:ni statistics from october 2014... steps 2 success:ni statistics from october 2014... details on the number of referrals and starts o...  NaN   \n",
      "0004c63d-ae16-432a-bb35-c0f949b1e27c student support applications for higher educati... student support applications for higher educati... data includes the number of applications receiv...  NaN   \n",
      "0005ac76-50fe-42f1-8168-8b6fc046e40f advice for building owners: large-scale wall sy... advice for building owners: large-scale wall sy... advice for building owners on the large-scale w...  NaN   \n",
      "\n",
      "level2taxon_code                                                                                                                                                                               3    \\\n",
      "content_id                           combined_text                                      title                                              description                                               \n",
      "00029fa4-9b60-4285-898c-85ae8a6367f5 emma jones - small business crown representativ... emma jones - small business crown representative   as small business crown representative emma is ...  NaN   \n",
      "00037b70-5b08-44c2-bf0a-fa8eb636a60b land remediation: bringing brownfield sites bac... land remediation: bringing brownfield sites bac... brochure showing uk expertise in land remediati...  NaN   \n",
      "00037ee5-7b5e-452d-a233-af2c134f5bce steps 2 success:ni statistics from october 2014... steps 2 success:ni statistics from october 2014... details on the number of referrals and starts o...  NaN   \n",
      "0004c63d-ae16-432a-bb35-c0f949b1e27c student support applications for higher educati... student support applications for higher educati... data includes the number of applications receiv...  NaN   \n",
      "0005ac76-50fe-42f1-8168-8b6fc046e40f advice for building owners: large-scale wall sy... advice for building owners: large-scale wall sy... advice for building owners on the large-scale w...  NaN   \n",
      "\n",
      "level2taxon_code                                                                                                                                                                               4    \\\n",
      "content_id                           combined_text                                      title                                              description                                               \n",
      "00029fa4-9b60-4285-898c-85ae8a6367f5 emma jones - small business crown representativ... emma jones - small business crown representative   as small business crown representative emma is ...  NaN   \n",
      "00037b70-5b08-44c2-bf0a-fa8eb636a60b land remediation: bringing brownfield sites bac... land remediation: bringing brownfield sites bac... brochure showing uk expertise in land remediati...  NaN   \n",
      "00037ee5-7b5e-452d-a233-af2c134f5bce steps 2 success:ni statistics from october 2014... steps 2 success:ni statistics from october 2014... details on the number of referrals and starts o...  NaN   \n",
      "0004c63d-ae16-432a-bb35-c0f949b1e27c student support applications for higher educati... student support applications for higher educati... data includes the number of applications receiv...  NaN   \n",
      "0005ac76-50fe-42f1-8168-8b6fc046e40f advice for building owners: large-scale wall sy... advice for building owners: large-scale wall sy... advice for building owners on the large-scale w...  NaN   \n",
      "\n",
      "level2taxon_code                                                                                                                                                                               5    \\\n",
      "content_id                           combined_text                                      title                                              description                                               \n",
      "00029fa4-9b60-4285-898c-85ae8a6367f5 emma jones - small business crown representativ... emma jones - small business crown representative   as small business crown representative emma is ...  NaN   \n",
      "00037b70-5b08-44c2-bf0a-fa8eb636a60b land remediation: bringing brownfield sites bac... land remediation: bringing brownfield sites bac... brochure showing uk expertise in land remediati...  NaN   \n",
      "00037ee5-7b5e-452d-a233-af2c134f5bce steps 2 success:ni statistics from october 2014... steps 2 success:ni statistics from october 2014... details on the number of referrals and starts o...  NaN   \n",
      "0004c63d-ae16-432a-bb35-c0f949b1e27c student support applications for higher educati... student support applications for higher educati... data includes the number of applications receiv...  NaN   \n",
      "0005ac76-50fe-42f1-8168-8b6fc046e40f advice for building owners: large-scale wall sy... advice for building owners: large-scale wall sy... advice for building owners on the large-scale w...  NaN   \n",
      "\n",
      "level2taxon_code                                                                                                                                                                               6    \\\n",
      "content_id                           combined_text                                      title                                              description                                               \n",
      "00029fa4-9b60-4285-898c-85ae8a6367f5 emma jones - small business crown representativ... emma jones - small business crown representative   as small business crown representative emma is ...  NaN   \n",
      "00037b70-5b08-44c2-bf0a-fa8eb636a60b land remediation: bringing brownfield sites bac... land remediation: bringing brownfield sites bac... brochure showing uk expertise in land remediati...  NaN   \n",
      "00037ee5-7b5e-452d-a233-af2c134f5bce steps 2 success:ni statistics from october 2014... steps 2 success:ni statistics from october 2014... details on the number of referrals and starts o...  NaN   \n",
      "0004c63d-ae16-432a-bb35-c0f949b1e27c student support applications for higher educati... student support applications for higher educati... data includes the number of applications receiv...  NaN   \n",
      "0005ac76-50fe-42f1-8168-8b6fc046e40f advice for building owners: large-scale wall sy... advice for building owners: large-scale wall sy... advice for building owners on the large-scale w...  NaN   \n",
      "\n",
      "level2taxon_code                                                                                                                                                                               7    \\\n",
      "content_id                           combined_text                                      title                                              description                                               \n",
      "00029fa4-9b60-4285-898c-85ae8a6367f5 emma jones - small business crown representativ... emma jones - small business crown representative   as small business crown representative emma is ...  NaN   \n",
      "00037b70-5b08-44c2-bf0a-fa8eb636a60b land remediation: bringing brownfield sites bac... land remediation: bringing brownfield sites bac... brochure showing uk expertise in land remediati...  NaN   \n",
      "00037ee5-7b5e-452d-a233-af2c134f5bce steps 2 success:ni statistics from october 2014... steps 2 success:ni statistics from october 2014... details on the number of referrals and starts o...  NaN   \n",
      "0004c63d-ae16-432a-bb35-c0f949b1e27c student support applications for higher educati... student support applications for higher educati... data includes the number of applications receiv...  NaN   \n",
      "0005ac76-50fe-42f1-8168-8b6fc046e40f advice for building owners: large-scale wall sy... advice for building owners: large-scale wall sy... advice for building owners on the large-scale w...  NaN   \n",
      "\n",
      "level2taxon_code                                                                                                                                                                               8    \\\n",
      "content_id                           combined_text                                      title                                              description                                               \n",
      "00029fa4-9b60-4285-898c-85ae8a6367f5 emma jones - small business crown representativ... emma jones - small business crown representative   as small business crown representative emma is ...  NaN   \n",
      "00037b70-5b08-44c2-bf0a-fa8eb636a60b land remediation: bringing brownfield sites bac... land remediation: bringing brownfield sites bac... brochure showing uk expertise in land remediati...  NaN   \n",
      "00037ee5-7b5e-452d-a233-af2c134f5bce steps 2 success:ni statistics from october 2014... steps 2 success:ni statistics from october 2014... details on the number of referrals and starts o...  NaN   \n",
      "0004c63d-ae16-432a-bb35-c0f949b1e27c student support applications for higher educati... student support applications for higher educati... data includes the number of applications receiv...  NaN   \n",
      "0005ac76-50fe-42f1-8168-8b6fc046e40f advice for building owners: large-scale wall sy... advice for building owners: large-scale wall sy... advice for building owners on the large-scale w...  NaN   \n",
      "\n",
      "level2taxon_code                                                                                                                                                                               9    \\\n",
      "content_id                           combined_text                                      title                                              description                                               \n",
      "00029fa4-9b60-4285-898c-85ae8a6367f5 emma jones - small business crown representativ... emma jones - small business crown representative   as small business crown representative emma is ...  NaN   \n",
      "00037b70-5b08-44c2-bf0a-fa8eb636a60b land remediation: bringing brownfield sites bac... land remediation: bringing brownfield sites bac... brochure showing uk expertise in land remediati...  NaN   \n",
      "00037ee5-7b5e-452d-a233-af2c134f5bce steps 2 success:ni statistics from october 2014... steps 2 success:ni statistics from october 2014... details on the number of referrals and starts o...  NaN   \n",
      "0004c63d-ae16-432a-bb35-c0f949b1e27c student support applications for higher educati... student support applications for higher educati... data includes the number of applications receiv...  NaN   \n",
      "0005ac76-50fe-42f1-8168-8b6fc046e40f advice for building owners: large-scale wall sy... advice for building owners: large-scale wall sy... advice for building owners on the large-scale w...  NaN   \n",
      "\n",
      "level2taxon_code                                                                                                                                                                               10   \\\n",
      "content_id                           combined_text                                      title                                              description                                               \n",
      "00029fa4-9b60-4285-898c-85ae8a6367f5 emma jones - small business crown representativ... emma jones - small business crown representative   as small business crown representative emma is ...  NaN   \n",
      "00037b70-5b08-44c2-bf0a-fa8eb636a60b land remediation: bringing brownfield sites bac... land remediation: bringing brownfield sites bac... brochure showing uk expertise in land remediati...  NaN   \n",
      "00037ee5-7b5e-452d-a233-af2c134f5bce steps 2 success:ni statistics from october 2014... steps 2 success:ni statistics from october 2014... details on the number of referrals and starts o...  NaN   \n",
      "0004c63d-ae16-432a-bb35-c0f949b1e27c student support applications for higher educati... student support applications for higher educati... data includes the number of applications receiv...  NaN   \n",
      "0005ac76-50fe-42f1-8168-8b6fc046e40f advice for building owners: large-scale wall sy... advice for building owners: large-scale wall sy... advice for building owners on the large-scale w...  NaN   \n",
      "\n",
      "level2taxon_code                                                                                                                                                                              ...   \\\n",
      "content_id                           combined_text                                      title                                              description                                        ...    \n",
      "00029fa4-9b60-4285-898c-85ae8a6367f5 emma jones - small business crown representativ... emma jones - small business crown representative   as small business crown representative emma is ... ...    \n",
      "00037b70-5b08-44c2-bf0a-fa8eb636a60b land remediation: bringing brownfield sites bac... land remediation: bringing brownfield sites bac... brochure showing uk expertise in land remediati... ...    \n",
      "00037ee5-7b5e-452d-a233-af2c134f5bce steps 2 success:ni statistics from october 2014... steps 2 success:ni statistics from october 2014... details on the number of referrals and starts o... ...    \n",
      "0004c63d-ae16-432a-bb35-c0f949b1e27c student support applications for higher educati... student support applications for higher educati... data includes the number of applications receiv... ...    \n",
      "0005ac76-50fe-42f1-8168-8b6fc046e40f advice for building owners: large-scale wall sy... advice for building owners: large-scale wall sy... advice for building owners on the large-scale w... ...    \n",
      "\n",
      "level2taxon_code                                                                                                                                                                               178  \\\n",
      "content_id                           combined_text                                      title                                              description                                               \n",
      "00029fa4-9b60-4285-898c-85ae8a6367f5 emma jones - small business crown representativ... emma jones - small business crown representative   as small business crown representative emma is ...  NaN   \n",
      "00037b70-5b08-44c2-bf0a-fa8eb636a60b land remediation: bringing brownfield sites bac... land remediation: bringing brownfield sites bac... brochure showing uk expertise in land remediati...  NaN   \n",
      "00037ee5-7b5e-452d-a233-af2c134f5bce steps 2 success:ni statistics from october 2014... steps 2 success:ni statistics from october 2014... details on the number of referrals and starts o...  NaN   \n",
      "0004c63d-ae16-432a-bb35-c0f949b1e27c student support applications for higher educati... student support applications for higher educati... data includes the number of applications receiv...  1.0   \n",
      "0005ac76-50fe-42f1-8168-8b6fc046e40f advice for building owners: large-scale wall sy... advice for building owners: large-scale wall sy... advice for building owners on the large-scale w...  NaN   \n",
      "\n",
      "level2taxon_code                                                                                                                                                                               179  \\\n",
      "content_id                           combined_text                                      title                                              description                                               \n",
      "00029fa4-9b60-4285-898c-85ae8a6367f5 emma jones - small business crown representativ... emma jones - small business crown representative   as small business crown representative emma is ...  NaN   \n",
      "00037b70-5b08-44c2-bf0a-fa8eb636a60b land remediation: bringing brownfield sites bac... land remediation: bringing brownfield sites bac... brochure showing uk expertise in land remediati...  NaN   \n",
      "00037ee5-7b5e-452d-a233-af2c134f5bce steps 2 success:ni statistics from october 2014... steps 2 success:ni statistics from october 2014... details on the number of referrals and starts o...  NaN   \n",
      "0004c63d-ae16-432a-bb35-c0f949b1e27c student support applications for higher educati... student support applications for higher educati... data includes the number of applications receiv...  NaN   \n",
      "0005ac76-50fe-42f1-8168-8b6fc046e40f advice for building owners: large-scale wall sy... advice for building owners: large-scale wall sy... advice for building owners on the large-scale w...  NaN   \n",
      "\n",
      "level2taxon_code                                                                                                                                                                               180  \\\n",
      "content_id                           combined_text                                      title                                              description                                               \n",
      "00029fa4-9b60-4285-898c-85ae8a6367f5 emma jones - small business crown representativ... emma jones - small business crown representative   as small business crown representative emma is ...  NaN   \n",
      "00037b70-5b08-44c2-bf0a-fa8eb636a60b land remediation: bringing brownfield sites bac... land remediation: bringing brownfield sites bac... brochure showing uk expertise in land remediati...  NaN   \n",
      "00037ee5-7b5e-452d-a233-af2c134f5bce steps 2 success:ni statistics from october 2014... steps 2 success:ni statistics from october 2014... details on the number of referrals and starts o...  NaN   \n",
      "0004c63d-ae16-432a-bb35-c0f949b1e27c student support applications for higher educati... student support applications for higher educati... data includes the number of applications receiv...  NaN   \n",
      "0005ac76-50fe-42f1-8168-8b6fc046e40f advice for building owners: large-scale wall sy... advice for building owners: large-scale wall sy... advice for building owners on the large-scale w...  NaN   \n",
      "\n",
      "level2taxon_code                                                                                                                                                                               181  \\\n",
      "content_id                           combined_text                                      title                                              description                                               \n",
      "00029fa4-9b60-4285-898c-85ae8a6367f5 emma jones - small business crown representativ... emma jones - small business crown representative   as small business crown representative emma is ...  NaN   \n",
      "00037b70-5b08-44c2-bf0a-fa8eb636a60b land remediation: bringing brownfield sites bac... land remediation: bringing brownfield sites bac... brochure showing uk expertise in land remediati...  NaN   \n",
      "00037ee5-7b5e-452d-a233-af2c134f5bce steps 2 success:ni statistics from october 2014... steps 2 success:ni statistics from october 2014... details on the number of referrals and starts o...  NaN   \n",
      "0004c63d-ae16-432a-bb35-c0f949b1e27c student support applications for higher educati... student support applications for higher educati... data includes the number of applications receiv...  NaN   \n",
      "0005ac76-50fe-42f1-8168-8b6fc046e40f advice for building owners: large-scale wall sy... advice for building owners: large-scale wall sy... advice for building owners on the large-scale w...  NaN   \n",
      "\n",
      "level2taxon_code                                                                                                                                                                               182  \\\n",
      "content_id                           combined_text                                      title                                              description                                               \n",
      "00029fa4-9b60-4285-898c-85ae8a6367f5 emma jones - small business crown representativ... emma jones - small business crown representative   as small business crown representative emma is ...  NaN   \n",
      "00037b70-5b08-44c2-bf0a-fa8eb636a60b land remediation: bringing brownfield sites bac... land remediation: bringing brownfield sites bac... brochure showing uk expertise in land remediati...  NaN   \n",
      "00037ee5-7b5e-452d-a233-af2c134f5bce steps 2 success:ni statistics from october 2014... steps 2 success:ni statistics from october 2014... details on the number of referrals and starts o...  NaN   \n",
      "0004c63d-ae16-432a-bb35-c0f949b1e27c student support applications for higher educati... student support applications for higher educati... data includes the number of applications receiv...  NaN   \n",
      "0005ac76-50fe-42f1-8168-8b6fc046e40f advice for building owners: large-scale wall sy... advice for building owners: large-scale wall sy... advice for building owners on the large-scale w...  NaN   \n",
      "\n",
      "level2taxon_code                                                                                                                                                                               183  \\\n",
      "content_id                           combined_text                                      title                                              description                                               \n",
      "00029fa4-9b60-4285-898c-85ae8a6367f5 emma jones - small business crown representativ... emma jones - small business crown representative   as small business crown representative emma is ...  NaN   \n",
      "00037b70-5b08-44c2-bf0a-fa8eb636a60b land remediation: bringing brownfield sites bac... land remediation: bringing brownfield sites bac... brochure showing uk expertise in land remediati...  NaN   \n",
      "00037ee5-7b5e-452d-a233-af2c134f5bce steps 2 success:ni statistics from october 2014... steps 2 success:ni statistics from october 2014... details on the number of referrals and starts o...  NaN   \n",
      "0004c63d-ae16-432a-bb35-c0f949b1e27c student support applications for higher educati... student support applications for higher educati... data includes the number of applications receiv...  NaN   \n",
      "0005ac76-50fe-42f1-8168-8b6fc046e40f advice for building owners: large-scale wall sy... advice for building owners: large-scale wall sy... advice for building owners on the large-scale w...  NaN   \n",
      "\n",
      "level2taxon_code                                                                                                                                                                               184  \\\n",
      "content_id                           combined_text                                      title                                              description                                               \n",
      "00029fa4-9b60-4285-898c-85ae8a6367f5 emma jones - small business crown representativ... emma jones - small business crown representative   as small business crown representative emma is ...  NaN   \n",
      "00037b70-5b08-44c2-bf0a-fa8eb636a60b land remediation: bringing brownfield sites bac... land remediation: bringing brownfield sites bac... brochure showing uk expertise in land remediati...  NaN   \n",
      "00037ee5-7b5e-452d-a233-af2c134f5bce steps 2 success:ni statistics from october 2014... steps 2 success:ni statistics from october 2014... details on the number of referrals and starts o...  NaN   \n",
      "0004c63d-ae16-432a-bb35-c0f949b1e27c student support applications for higher educati... student support applications for higher educati... data includes the number of applications receiv...  NaN   \n",
      "0005ac76-50fe-42f1-8168-8b6fc046e40f advice for building owners: large-scale wall sy... advice for building owners: large-scale wall sy... advice for building owners on the large-scale w...  NaN   \n",
      "\n",
      "level2taxon_code                                                                                                                                                                               185  \\\n",
      "content_id                           combined_text                                      title                                              description                                               \n",
      "00029fa4-9b60-4285-898c-85ae8a6367f5 emma jones - small business crown representativ... emma jones - small business crown representative   as small business crown representative emma is ...  NaN   \n",
      "00037b70-5b08-44c2-bf0a-fa8eb636a60b land remediation: bringing brownfield sites bac... land remediation: bringing brownfield sites bac... brochure showing uk expertise in land remediati...  NaN   \n",
      "00037ee5-7b5e-452d-a233-af2c134f5bce steps 2 success:ni statistics from october 2014... steps 2 success:ni statistics from october 2014... details on the number of referrals and starts o...  NaN   \n",
      "0004c63d-ae16-432a-bb35-c0f949b1e27c student support applications for higher educati... student support applications for higher educati... data includes the number of applications receiv...  NaN   \n",
      "0005ac76-50fe-42f1-8168-8b6fc046e40f advice for building owners: large-scale wall sy... advice for building owners: large-scale wall sy... advice for building owners on the large-scale w...  NaN   \n",
      "\n",
      "level2taxon_code                                                                                                                                                                               186  \\\n",
      "content_id                           combined_text                                      title                                              description                                               \n",
      "00029fa4-9b60-4285-898c-85ae8a6367f5 emma jones - small business crown representativ... emma jones - small business crown representative   as small business crown representative emma is ...  NaN   \n",
      "00037b70-5b08-44c2-bf0a-fa8eb636a60b land remediation: bringing brownfield sites bac... land remediation: bringing brownfield sites bac... brochure showing uk expertise in land remediati...  NaN   \n",
      "00037ee5-7b5e-452d-a233-af2c134f5bce steps 2 success:ni statistics from october 2014... steps 2 success:ni statistics from october 2014... details on the number of referrals and starts o...  NaN   \n",
      "0004c63d-ae16-432a-bb35-c0f949b1e27c student support applications for higher educati... student support applications for higher educati... data includes the number of applications receiv...  NaN   \n",
      "0005ac76-50fe-42f1-8168-8b6fc046e40f advice for building owners: large-scale wall sy... advice for building owners: large-scale wall sy... advice for building owners on the large-scale w...  NaN   \n",
      "\n",
      "level2taxon_code                                                                                                                                                                               187  \n",
      "content_id                           combined_text                                      title                                              description                                              \n",
      "00029fa4-9b60-4285-898c-85ae8a6367f5 emma jones - small business crown representativ... emma jones - small business crown representative   as small business crown representative emma is ...  NaN  \n",
      "00037b70-5b08-44c2-bf0a-fa8eb636a60b land remediation: bringing brownfield sites bac... land remediation: bringing brownfield sites bac... brochure showing uk expertise in land remediati...  NaN  \n",
      "00037ee5-7b5e-452d-a233-af2c134f5bce steps 2 success:ni statistics from october 2014... steps 2 success:ni statistics from october 2014... details on the number of referrals and starts o...  NaN  \n",
      "0004c63d-ae16-432a-bb35-c0f949b1e27c student support applications for higher educati... student support applications for higher educati... data includes the number of applications receiv...  NaN  \n",
      "0005ac76-50fe-42f1-8168-8b6fc046e40f advice for building owners: large-scale wall sy... advice for building owners: large-scale wall sy... advice for building owners on the large-scale w...  NaN  \n",
      "\n",
      "[5 rows x 187 columns]\n"
     ]
    }
   ],
   "source": [
    "#reshape to wide per taxon and keep the combined text so indexing is consistent when splitting X from Y\n",
    "\n",
    "multilabel = (level2_reduced.pivot_table(index=['content_id', 'combined_text', 'title', 'description' ], \n",
    "                  columns='level2taxon_code', \n",
    "                  values='num_taxon_per_content'))\n",
    "print('level2reduced shape: {}'.format(level2_reduced.shape))\n",
    "print('pivot table shape (no duplicates): {} '.format(multilabel.shape))\n",
    "print(multilabel.head())"
   ]
  },
  {
   "cell_type": "code",
   "execution_count": 76,
   "metadata": {},
   "outputs": [],
   "source": [
    "#THIS IS WHY INDEXING IS NOT ZERO-BASED\n",
    "#convert the number_of_taxons_per_content values to 1, meaning there was an entry for this taxon and this content_id, 0 otherwise\n",
    "binary_multilabel = multilabel.notnull().astype('int')"
   ]
  },
  {
   "cell_type": "code",
   "execution_count": 77,
   "metadata": {},
   "outputs": [
    {
     "name": "stdout",
     "output_type": "stream",
     "text": [
      "Shape of Y multilabel array before train/val/test split:(91771, 187)\n"
     ]
    }
   ],
   "source": [
    "#will convert columns to an array of shape\n",
    "print('Shape of Y multilabel array before train/val/test split:{}'.format(binary_multilabel[list(binary_multilabel.columns)].values.shape))"
   ]
  },
  {
   "cell_type": "code",
   "execution_count": 78,
   "metadata": {},
   "outputs": [
    {
     "name": "stdout",
     "output_type": "stream",
     "text": [
      "Example row of multilabel array [0 0 0 0 0 0 0 0 0 0 0 0 0 0 0 0 0 0 0 0 0 0 0 0 0 0 0 0 0 0 0 0 0 0 0 0 0\n",
      " 0 0 0 0 0 0 0 0 0 0 0 0 0 0 0 0 0 0 0 0 0 0 0 0 0 0 0 0 0 0 0 0 0 0 0 0 0\n",
      " 0 0 0 0 0 0 0 0 0 0 0 0 0 0 0 0 0 0 0 0 0 0 0 0 0 0 0 0 0 0 0 0 0 0 0 0 0\n",
      " 0 0 0 0 0 1 0 0 0 0 0 0 0 0 0 0 0 0 0 0 0 0 0 0 0 0 0 0 0 0 0 0 0 0 0 0 0\n",
      " 0 0 0 0 0 0 0 0 0 0 0 0 0 0 0 0 0 0 0 0 0 0 0 0 0 0 0 0 0 0 0 0 0 0 0 0 0\n",
      " 0 0]\n"
     ]
    }
   ],
   "source": [
    "#convert columns to an array. Each row represents a content item, each column an individual taxon\n",
    "binary_multilabel = binary_multilabel[list(binary_multilabel.columns)].values\n",
    "print('Example row of multilabel array {}'.format(binary_multilabel[2]))"
   ]
  },
  {
   "cell_type": "code",
   "execution_count": 79,
   "metadata": {},
   "outputs": [
    {
     "data": {
      "text/plain": [
       "numpy.ndarray"
      ]
     },
     "execution_count": 79,
     "metadata": {},
     "output_type": "execute_result"
    }
   ],
   "source": [
    "type(binary_multilabel)"
   ]
  },
  {
   "cell_type": "markdown",
   "metadata": {},
   "source": [
    "### Format metadata/X"
   ]
  },
  {
   "cell_type": "code",
   "execution_count": 80,
   "metadata": {},
   "outputs": [
    {
     "data": {
      "text/plain": [
       "91771"
      ]
     },
     "execution_count": 80,
     "metadata": {},
     "output_type": "execute_result"
    }
   ],
   "source": [
    "# THESE DICTS NEED TO BE CREATED IN ALL DATA, OR DOC TYPES NOT PRESENT IN TRAINING MUST BE DELETED FROM NEW\n",
    "#create dictionary of document type to content_id\n",
    "doctype_dict = dict(zip(nonews['content_id'], nonews['document_type']))\n",
    "frstpub_dict = dict(zip(nonews['content_id'], nonews['first_published_at']))\n",
    "pubapp_dict = dict(zip(nonews['content_id'], nonews['publishing_app']))\n",
    "puborg_dict = dict(zip(nonews['content_id'], nonews['primary_publishing_organisation']))\n",
    "len(doctype_dict)"
   ]
  },
  {
   "cell_type": "code",
   "execution_count": 81,
   "metadata": {},
   "outputs": [
    {
     "name": "stdout",
     "output_type": "stream",
     "text": [
      "['content_id', 'combined_text', 'title', 'description']\n",
      "Int64Index([  1,   2,   3,   4,   5,   6,   7,   8,   9,  10,\n",
      "            ...\n",
      "            178, 179, 180, 181, 182, 183, 184, 185, 186, 187],\n",
      "           dtype='int64', name='level2taxon_code', length=187)\n"
     ]
    }
   ],
   "source": [
    "#the pivot table has two indices\n",
    "print(multilabel.index.names)\n",
    "print(multilabel.columns)\n",
    "#print(multilabel.head())"
   ]
  },
  {
   "cell_type": "code",
   "execution_count": 82,
   "metadata": {},
   "outputs": [],
   "source": [
    "#extract content_id index to df\n",
    "meta1 = pd.DataFrame(multilabel.index.get_level_values('content_id'))"
   ]
  },
  {
   "cell_type": "code",
   "execution_count": 83,
   "metadata": {},
   "outputs": [
    {
     "data": {
      "text/html": [
       "<div>\n",
       "<style scoped>\n",
       "    .dataframe tbody tr th:only-of-type {\n",
       "        vertical-align: middle;\n",
       "    }\n",
       "\n",
       "    .dataframe tbody tr th {\n",
       "        vertical-align: top;\n",
       "    }\n",
       "\n",
       "    .dataframe thead th {\n",
       "        text-align: right;\n",
       "    }\n",
       "</style>\n",
       "<table border=\"1\" class=\"dataframe\">\n",
       "  <thead>\n",
       "    <tr style=\"text-align: right;\">\n",
       "      <th></th>\n",
       "      <th>content_id</th>\n",
       "      <th>doctype</th>\n",
       "      <th>first_published_at</th>\n",
       "      <th>pub_app</th>\n",
       "      <th>prim_pub_org</th>\n",
       "    </tr>\n",
       "  </thead>\n",
       "  <tbody>\n",
       "    <tr>\n",
       "      <th>0</th>\n",
       "      <td>00029fa4-9b60-4285-898c-85ae8a6367f5</td>\n",
       "      <td>document_collection</td>\n",
       "      <td>2017-01-11T10:18:00.000+00:00</td>\n",
       "      <td>whitehall</td>\n",
       "      <td>{'title': 'Crown Commercial Service'}</td>\n",
       "    </tr>\n",
       "    <tr>\n",
       "      <th>1</th>\n",
       "      <td>00037b70-5b08-44c2-bf0a-fa8eb636a60b</td>\n",
       "      <td>promotional</td>\n",
       "      <td>2015-05-11T10:41:00.000+00:00</td>\n",
       "      <td>whitehall</td>\n",
       "      <td>{'title': 'Department for International Trade'}</td>\n",
       "    </tr>\n",
       "    <tr>\n",
       "      <th>2</th>\n",
       "      <td>00037ee5-7b5e-452d-a233-af2c134f5bce</td>\n",
       "      <td>official_statistics</td>\n",
       "      <td>2016-11-24T09:30:13.000+00:00</td>\n",
       "      <td>whitehall</td>\n",
       "      <td>{'title': 'Department for Communities (Norther...</td>\n",
       "    </tr>\n",
       "    <tr>\n",
       "      <th>3</th>\n",
       "      <td>0004c63d-ae16-432a-bb35-c0f949b1e27c</td>\n",
       "      <td>official_statistics</td>\n",
       "      <td>2016-10-20T08:30:09.000+00:00</td>\n",
       "      <td>whitehall</td>\n",
       "      <td>{'title': 'Welsh Government'}</td>\n",
       "    </tr>\n",
       "    <tr>\n",
       "      <th>4</th>\n",
       "      <td>0005ac76-50fe-42f1-8168-8b6fc046e40f</td>\n",
       "      <td>guidance</td>\n",
       "      <td>2017-08-02T17:29:00.000+00:00</td>\n",
       "      <td>whitehall</td>\n",
       "      <td>{'title': 'Department for Communities and Loca...</td>\n",
       "    </tr>\n",
       "  </tbody>\n",
       "</table>\n",
       "</div>"
      ],
      "text/plain": [
       "                             content_id              doctype  \\\n",
       "0  00029fa4-9b60-4285-898c-85ae8a6367f5  document_collection   \n",
       "1  00037b70-5b08-44c2-bf0a-fa8eb636a60b          promotional   \n",
       "2  00037ee5-7b5e-452d-a233-af2c134f5bce  official_statistics   \n",
       "3  0004c63d-ae16-432a-bb35-c0f949b1e27c  official_statistics   \n",
       "4  0005ac76-50fe-42f1-8168-8b6fc046e40f             guidance   \n",
       "\n",
       "              first_published_at    pub_app  \\\n",
       "0  2017-01-11T10:18:00.000+00:00  whitehall   \n",
       "1  2015-05-11T10:41:00.000+00:00  whitehall   \n",
       "2  2016-11-24T09:30:13.000+00:00  whitehall   \n",
       "3  2016-10-20T08:30:09.000+00:00  whitehall   \n",
       "4  2017-08-02T17:29:00.000+00:00  whitehall   \n",
       "\n",
       "                                        prim_pub_org  \n",
       "0              {'title': 'Crown Commercial Service'}  \n",
       "1    {'title': 'Department for International Trade'}  \n",
       "2  {'title': 'Department for Communities (Norther...  \n",
       "3                      {'title': 'Welsh Government'}  \n",
       "4  {'title': 'Department for Communities and Loca...  "
      ]
     },
     "execution_count": 83,
     "metadata": {},
     "output_type": "execute_result"
    }
   ],
   "source": [
    "#apply meta data to content\n",
    "meta1['doctype'] = meta1['content_id'].map(doctype_dict).copy()\n",
    "meta1['first_published_at'] = meta1['content_id'].map(frstpub_dict).copy()\n",
    "meta1['pub_app'] = meta1['content_id'].map(pubapp_dict).copy()\n",
    "meta1['prim_pub_org'] = meta1['content_id'].map(puborg_dict).copy()\n",
    "\n",
    "meta1 = meta1.replace(np.nan, '', regex=True) #conver nans to empty strings for labelencoder types\n",
    "meta1.head()"
   ]
  },
  {
   "cell_type": "code",
   "execution_count": 84,
   "metadata": {},
   "outputs": [],
   "source": [
    "#encode strings as integers\n",
    "#doctype\n",
    "doctype_encoder = LabelEncoder()\n",
    "meta1['doctype_cat'] = doctype_encoder.fit_transform(meta1['doctype']) #fit the label encoder on all data then transform on individual data sets\n",
    "\n",
    "# print(len(meta1['doctype_cat'].unique()))\n",
    "# print(meta1['doctype_cat'].unique())\n",
    "\n",
    "# primary publishing org\n",
    "pub_org_encoder = LabelEncoder()\n",
    "meta1['prim_pub_org_cat'] = doctype_encoder.fit_transform(meta1['prim_pub_org']) \n",
    "\n",
    "# print(len(meta1['prim_pub_org_cat'].unique()))\n",
    "# print(meta1['prim_pub_org_cat'].unique())\n",
    "\n",
    "#publishing application\n",
    "\n",
    "pub_app_encoder = LabelEncoder()\n",
    "meta1['pub_app_cat'] = doctype_encoder.fit_transform(meta1['pub_app'])\n",
    "\n",
    "# print(len(meta1['pub_app_cat'].unique()))\n",
    "# print(meta1['pub_app_cat'].unique())"
   ]
  },
  {
   "cell_type": "code",
   "execution_count": 85,
   "metadata": {},
   "outputs": [
    {
     "name": "stdout",
     "output_type": "stream",
     "text": [
      "(91771, 54)\n",
      "(91771, 366)\n",
      "(91771, 9)\n"
     ]
    },
    {
     "data": {
      "text/plain": [
       "numpy.ndarray"
      ]
     },
     "execution_count": 85,
     "metadata": {},
     "output_type": "execute_result"
    }
   ],
   "source": [
    "#one hot encode integers\n",
    "encoded_doctype = to_categorical(meta1['doctype_cat'])\n",
    "print(encoded_doctype.shape)\n",
    "\n",
    "encoded_prim_pub_org = to_categorical(meta1['prim_pub_org_cat'])\n",
    "print(encoded_prim_pub_org.shape)\n",
    "\n",
    "encoded_pub_app = to_categorical(meta1['pub_app_cat'])\n",
    "print(encoded_pub_app.shape)\n",
    "type(encoded_pub_app)"
   ]
  },
  {
   "cell_type": "code",
   "execution_count": 86,
   "metadata": {},
   "outputs": [
    {
     "name": "stdout",
     "output_type": "stream",
     "text": [
      "(91771,)\n",
      "datetime64[ns]\n",
      "0\n",
      "(91771, 1)\n"
     ]
    },
    {
     "data": {
      "text/plain": [
       "numpy.ndarray"
      ]
     },
     "execution_count": 86,
     "metadata": {},
     "output_type": "execute_result"
    }
   ],
   "source": [
    "meta1['first_published_at'] = pd.to_datetime(meta1['first_published_at']) \n",
    "\n",
    "# print(meta['first_published_at'][0].Timestamp())\n",
    "# for index, row in meta.iterrows():\n",
    "#     row['first_published_at_ts'] = row['first_published_at'].timestamp()\n",
    "#     print(row['first_published_at_ts'])\n",
    "\n",
    "print(meta1['first_published_at'].shape)\n",
    "\n",
    "first_published = np.array(meta1['first_published_at']).reshape(meta1['first_published_at'].shape[0], 1).copy()\n",
    "\n",
    "print(first_published.dtype)\n",
    "print(np.argmax(first_published.argmax))\n",
    "#scale first published at to 0 and 1\n",
    "print(first_published.shape)\n",
    "type(first_published)"
   ]
  },
  {
   "cell_type": "code",
   "execution_count": 87,
   "metadata": {},
   "outputs": [
    {
     "name": "stdout",
     "output_type": "stream",
     "text": [
      "(91771, 429)\n",
      "429\n",
      "(91771, 429)\n"
     ]
    }
   ],
   "source": [
    "\n",
    "meta = np.concatenate((encoded_doctype, \n",
    "                           encoded_prim_pub_org, \n",
    "                           encoded_pub_app), #error when adding date...\n",
    "                          axis=1)\n",
    "\n",
    "print(meta.shape)\n",
    "nb_metavars = meta.shape[1]\n",
    "print(nb_metavars)\n",
    "print(meta.shape)"
   ]
  },
  {
   "cell_type": "markdown",
   "metadata": {},
   "source": [
    "### Create combined_text data/X"
   ]
  },
  {
   "cell_type": "markdown",
   "metadata": {},
   "source": [
    "format our text samples and labels into tensors that can be fed into a neural network. To do this, we will rely on Keras utilities keras.preprocessing.text.Tokenizer and keras.preprocessing.sequence.pad_sequences."
   ]
  },
  {
   "cell_type": "code",
   "execution_count": 88,
   "metadata": {},
   "outputs": [
    {
     "data": {
      "text/plain": [
       "FrozenList(['content_id', 'combined_text', 'title', 'description'])"
      ]
     },
     "execution_count": 88,
     "metadata": {},
     "output_type": "execute_result"
    }
   ],
   "source": [
    "#the pivot table has two indices\n",
    "multilabel.index.names"
   ]
  },
  {
   "cell_type": "code",
   "execution_count": 89,
   "metadata": {},
   "outputs": [
    {
     "data": {
      "text/plain": [
       "(91771,)"
      ]
     },
     "execution_count": 89,
     "metadata": {},
     "output_type": "execute_result"
    }
   ],
   "source": [
    "#extract combined text index to array\n",
    "texts = multilabel.index.get_level_values('combined_text')\n",
    "texts.shape"
   ]
  },
  {
   "cell_type": "markdown",
   "metadata": {},
   "source": [
    "### Preprocess title data"
   ]
  },
  {
   "cell_type": "code",
   "execution_count": 90,
   "metadata": {},
   "outputs": [
    {
     "data": {
      "text/plain": [
       "(91771,)"
      ]
     },
     "execution_count": 90,
     "metadata": {},
     "output_type": "execute_result"
    }
   ],
   "source": [
    "titles = multilabel.index.get_level_values('title')\n",
    "titles.shape"
   ]
  },
  {
   "cell_type": "markdown",
   "metadata": {},
   "source": [
    "### Preprocess description data"
   ]
  },
  {
   "cell_type": "code",
   "execution_count": 91,
   "metadata": {},
   "outputs": [
    {
     "data": {
      "text/plain": [
       "(91771,)"
      ]
     },
     "execution_count": 91,
     "metadata": {},
     "output_type": "execute_result"
    }
   ],
   "source": [
    "descs = multilabel.index.get_level_values('description')\n",
    "descs.shape"
   ]
  },
  {
   "cell_type": "markdown",
   "metadata": {},
   "source": [
    "### Tokenize combined text"
   ]
  },
  {
   "cell_type": "markdown",
   "metadata": {},
   "source": [
    "Tokenizer = Class for vectorizing texts, or/and turning texts into sequences (=list of word indexes, where the word of rank i in the dataset (starting at 1) has index i)"
   ]
  },
  {
   "cell_type": "code",
   "execution_count": 92,
   "metadata": {},
   "outputs": [
    {
     "name": "stdout",
     "output_type": "stream",
     "text": [
      "Found 193851 unique tokens.\n"
     ]
    }
   ],
   "source": [
    "# Bag of words method\n",
    "tokenizer = Tokenizer(num_words=NUM_WORDS) #num_words: None or int. Maximum number of words to work with \n",
    "# (if set, tokenization will be restricted to the top num_words most common words in the dataset).\n",
    "\n",
    "# apply tokenizer to our text data\n",
    "tokenizer.fit_on_texts(texts)\n",
    "\n",
    "# list of word indexes, where the word of rank i in the dataset (starting at 1) has index i\n",
    "sequences = tokenizer.texts_to_sequences(texts) #yield one sequence per input text\n",
    "\n",
    "# dictionary mapping words (str) to their rank/index (int).\n",
    "word_index = tokenizer.word_index  # Only set after fit_on_texts was called.\n",
    "print('Found %s unique tokens.' % len(word_index))\n",
    "\n",
    "data = pad_sequences(sequences, maxlen= MAX_SEQUENCE_LENGTH) #MAX_SEQUENCE_LENGTH"
   ]
  },
  {
   "cell_type": "code",
   "execution_count": 93,
   "metadata": {},
   "outputs": [
    {
     "name": "stdout",
     "output_type": "stream",
     "text": [
      "Shape of label tensor: (91771, 187)\n",
      "Shape of data tensor: (91771, 1000)\n"
     ]
    }
   ],
   "source": [
    "print('Shape of label tensor:', binary_multilabel.shape)\n",
    "print('Shape of data tensor:', data.shape)"
   ]
  },
  {
   "cell_type": "markdown",
   "metadata": {},
   "source": [
    "### Tokenize title text"
   ]
  },
  {
   "cell_type": "code",
   "execution_count": 94,
   "metadata": {},
   "outputs": [],
   "source": [
    "# Bag of words method\n",
    "tokenizer_tit = Tokenizer(num_words=10000) #num_words: None or int. Maximum number of words to work with \n",
    "# (if set, tokenization will be restricted to the top num_words most common words in the dataset).\n",
    "\n",
    "# apply tokenizer to our text data\n",
    "tokenizer_tit.fit_on_texts(titles)\n",
    "\n",
    "# list of word indexes, where the word of rank i in the dataset (starting at 1) has index i\n",
    "sequences_tit = tokenizer_tit.texts_to_sequences(titles) #yield one sequence per input text"
   ]
  },
  {
   "cell_type": "code",
   "execution_count": 95,
   "metadata": {},
   "outputs": [],
   "source": [
    "onehot_tit = tokenizer_tit.sequences_to_matrix(sequences_tit) #yield one sequence per input text\n",
    "\n",
    "# dictionary mapping words (str) to their rank/index (int).\n",
    "word_index_tit = tokenizer_tit.word_index  # Only set after fit_on_texts was called.\n",
    "\n",
    "#NOTE THERE ARE LOTS OF NUMBERS IN HERE THAT SHOULD BE STRIPPED?\n",
    "\n",
    "# print('Found %s unique tokens.' % len(word_index_tit))\n",
    "\n",
    "# title_data = pad_sequences(sequences_tit, maxlen= 50) #mean/median=8 max = 47"
   ]
  },
  {
   "cell_type": "code",
   "execution_count": 96,
   "metadata": {},
   "outputs": [
    {
     "data": {
      "text/plain": [
       "(91771, 10000)"
      ]
     },
     "execution_count": 96,
     "metadata": {},
     "output_type": "execute_result"
    }
   ],
   "source": [
    "onehot_tit.shape"
   ]
  },
  {
   "cell_type": "code",
   "execution_count": 97,
   "metadata": {},
   "outputs": [
    {
     "data": {
      "text/plain": [
       "[('and', 22574),\n",
       " ('to', 19775),\n",
       " ('of', 18822),\n",
       " ('the', 15845),\n",
       " ('for', 14757),\n",
       " ('in', 10279),\n",
       " ('on', 6770),\n",
       " ('2015', 5791),\n",
       " ('uk', 5150),\n",
       " ('2014', 5135),\n",
       " ('2016', 5092),\n",
       " ('a', 4695),\n",
       " ('report', 3632),\n",
       " ('2017', 3510),\n",
       " ('2013', 3168),\n",
       " ('government', 2971),\n",
       " ('statistics', 2866),\n",
       " ('new', 2607),\n",
       " ('england', 2585),\n",
       " ('data', 2542),\n",
       " ('information', 2221),\n",
       " ('from', 2191),\n",
       " ('review', 2050),\n",
       " ('national', 1954),\n",
       " ('at', 1938),\n",
       " ('march', 1938),\n",
       " ('tax', 1900),\n",
       " ('with', 1890),\n",
       " ('local', 1861),\n",
       " ('by', 1851),\n",
       " ('health', 1825),\n",
       " ('guidance', 1815),\n",
       " ('business', 1801),\n",
       " ('notice', 1797),\n",
       " ('2012', 1731),\n",
       " ('june', 1642),\n",
       " ('assessment', 1627),\n",
       " ('services', 1609),\n",
       " ('july', 1588),\n",
       " ('2011', 1568),\n",
       " ('april', 1542),\n",
       " ('september', 1531),\n",
       " ('statement', 1505),\n",
       " ('release', 1476),\n",
       " ('scheme', 1469),\n",
       " ('energy', 1469),\n",
       " ('foi', 1462),\n",
       " ('management', 1433),\n",
       " ('over', 1432),\n",
       " ('service', 1411),\n",
       " ('december', 1399),\n",
       " ('public', 1387),\n",
       " ('1', 1336),\n",
       " ('january', 1330),\n",
       " ('wales', 1297),\n",
       " ('october', 1285),\n",
       " ('response', 1202),\n",
       " ('2010', 1181),\n",
       " ('speech', 1172),\n",
       " ('survey', 1166),\n",
       " ('school', 1158),\n",
       " ('–', 1146),\n",
       " ('secretary', 1121),\n",
       " ('nhs', 1118),\n",
       " ('plan', 1118),\n",
       " ('office', 1106),\n",
       " ('programme', 1078),\n",
       " ('annual', 1055),\n",
       " ('support', 1049),\n",
       " ('year', 1040),\n",
       " ('regulations', 1002),\n",
       " ('or', 975),\n",
       " ('northern', 973),\n",
       " ('impact', 970),\n",
       " ('trade', 966),\n",
       " ('2', 958),\n",
       " ('land', 953),\n",
       " ('education', 946),\n",
       " ('funding', 944),\n",
       " ('care', 942),\n",
       " ('spend', 941),\n",
       " ('company', 938),\n",
       " ('financial', 935),\n",
       " ('social', 935),\n",
       " ('000', 931),\n",
       " ('guide', 930),\n",
       " ('as', 925),\n",
       " ('council', 925),\n",
       " ('policy', 923),\n",
       " ('ireland', 915),\n",
       " ('research', 907),\n",
       " ('consultation', 900),\n",
       " ('decision', 898),\n",
       " ('an', 898),\n",
       " ('road', 879),\n",
       " ('update', 878),\n",
       " ('minister', 874),\n",
       " ('risk', 868),\n",
       " ('housing', 867),\n",
       " ('special', 852),\n",
       " ('act', 852),\n",
       " ('pension', 849),\n",
       " ('application', 848),\n",
       " ('schools', 836),\n",
       " ('may', 836),\n",
       " ('fund', 835),\n",
       " ('your', 834),\n",
       " ('non', 825),\n",
       " ('list', 822),\n",
       " ('how', 822),\n",
       " ('environmental', 804),\n",
       " ('press', 800),\n",
       " ('foreign', 799),\n",
       " ('spending', 799),\n",
       " ('strategy', 795),\n",
       " ('dfid', 777),\n",
       " ('form', 774),\n",
       " ('teacher', 771),\n",
       " ('international', 770),\n",
       " ('sector', 768),\n",
       " ('change', 767),\n",
       " ('outcome', 761),\n",
       " ('authority', 760),\n",
       " ('hs2', 754),\n",
       " ('duty', 754),\n",
       " ('use', 753),\n",
       " ('investment', 752),\n",
       " ('panel', 744),\n",
       " ('million', 741),\n",
       " ('future', 741),\n",
       " ('index', 740),\n",
       " ('november', 727),\n",
       " ('development', 723),\n",
       " ('export', 717),\n",
       " ('security', 709),\n",
       " ('meetings', 709),\n",
       " ('eu', 705),\n",
       " ('letter', 700),\n",
       " ('planning', 699),\n",
       " ('conference', 692),\n",
       " ('people', 692),\n",
       " ('quarterly', 690),\n",
       " ('work', 689),\n",
       " ('tariff', 688),\n",
       " ('schemes', 688),\n",
       " ('economic', 676),\n",
       " ('community', 674),\n",
       " ('ending', 673),\n",
       " ('british', 672),\n",
       " ('practice', 670),\n",
       " ('flood', 667),\n",
       " ('evaluation', 664),\n",
       " ('february', 663),\n",
       " ('£25', 652),\n",
       " ('framework', 649),\n",
       " ('reform', 647),\n",
       " ('market', 645),\n",
       " ('rail', 644),\n",
       " ('help', 642),\n",
       " ('monthly', 640),\n",
       " ('changes', 631),\n",
       " ('customs', 628),\n",
       " ('rights', 618),\n",
       " ('august', 616),\n",
       " ('committee', 616),\n",
       " ('code', 614),\n",
       " ('transport', 610),\n",
       " ('3', 605),\n",
       " ('travel', 603),\n",
       " ('16', 599),\n",
       " ('misconduct', 599),\n",
       " ('safety', 596),\n",
       " ('limited', 591),\n",
       " ('open', 589),\n",
       " ('reports', 588),\n",
       " ('britain', 582),\n",
       " ('summary', 581),\n",
       " ('vat', 580),\n",
       " ('paper', 576),\n",
       " ('level', 575),\n",
       " ('home', 575),\n",
       " ('state', 572),\n",
       " ('pay', 572),\n",
       " ('system', 571),\n",
       " ('2018', 570),\n",
       " ('trust', 563),\n",
       " ('up', 563),\n",
       " ('£500', 561),\n",
       " ('access', 557),\n",
       " ('south', 556),\n",
       " ('action', 556),\n",
       " ('water', 555),\n",
       " ('waste', 555),\n",
       " ('performance', 554),\n",
       " ('great', 548),\n",
       " ('east', 546),\n",
       " ('children', 545),\n",
       " ('agreement', 545),\n",
       " ('child', 542),\n",
       " ('draft', 542),\n",
       " ('appeal', 539),\n",
       " ('west', 538),\n",
       " ('bill', 538),\n",
       " ('civil', 535),\n",
       " ('building', 534),\n",
       " ('gas', 533),\n",
       " ('provisional', 530),\n",
       " ('staff', 530),\n",
       " ('ministerial', 527),\n",
       " ('high', 525),\n",
       " ('growth', 524),\n",
       " ('hospitality', 523),\n",
       " ('screening', 523),\n",
       " ('house', 519),\n",
       " ('technical', 519),\n",
       " ('climate', 517),\n",
       " ('london', 514),\n",
       " ('bulletin', 513),\n",
       " ('food', 512),\n",
       " ('licence', 511),\n",
       " ('31', 510),\n",
       " ('anti', 510),\n",
       " ('procurement', 508),\n",
       " ('under', 505),\n",
       " ('plans', 505),\n",
       " ('scotland', 503),\n",
       " ('overseas', 503),\n",
       " ('first', 502),\n",
       " ('advice', 501),\n",
       " ('register', 501),\n",
       " ('north', 500),\n",
       " ('agency', 500),\n",
       " ('companies', 496),\n",
       " ('apply', 495),\n",
       " ('between', 494),\n",
       " ('evidence', 492),\n",
       " ('training', 489),\n",
       " ('phase', 489),\n",
       " ('4', 488),\n",
       " ('about', 485),\n",
       " ('final', 482),\n",
       " ('standard', 482),\n",
       " ('boost', 478),\n",
       " ('european', 478),\n",
       " ('skills', 477),\n",
       " ('analysis', 476),\n",
       " ('quality', 476),\n",
       " ('5', 476),\n",
       " ('briefing', 475),\n",
       " ('commission', 472),\n",
       " ('project', 472),\n",
       " ('payments', 472),\n",
       " ('general', 470),\n",
       " ('science', 469),\n",
       " ('regulation', 464),\n",
       " ('prime', 464),\n",
       " ('10', 461),\n",
       " ('primary', 460),\n",
       " ('group', 460),\n",
       " ('property', 459),\n",
       " ('standards', 459),\n",
       " ('into', 459),\n",
       " ('pm', 458),\n",
       " ('workforce', 454),\n",
       " ('river', 454),\n",
       " ('area', 453),\n",
       " ('homes', 452),\n",
       " ('green', 449),\n",
       " ('request', 449),\n",
       " ('part', 446),\n",
       " ('out', 444),\n",
       " ('apprenticeship', 442),\n",
       " ('key', 442),\n",
       " ('rates', 441),\n",
       " ('pack', 440),\n",
       " ('2009', 440),\n",
       " ('regulatory', 436),\n",
       " ('15', 436),\n",
       " ('digital', 435),\n",
       " ('meeting', 434),\n",
       " ('businesses', 433),\n",
       " ('test', 432),\n",
       " ('working', 432),\n",
       " ('accounts', 432),\n",
       " ('industry', 432),\n",
       " ('e', 430),\n",
       " ('more', 430),\n",
       " ('partnership', 429),\n",
       " ('gifts', 428),\n",
       " ('call', 427),\n",
       " ('investigation', 426),\n",
       " ('expenditure', 426),\n",
       " ('vehicle', 425),\n",
       " ('approved', 424),\n",
       " ('goods', 424),\n",
       " ('fco', 418),\n",
       " ('environment', 415),\n",
       " ('dft', 414),\n",
       " ('recovered', 411),\n",
       " ('employment', 408),\n",
       " ('mr', 408),\n",
       " ('deal', 407),\n",
       " ('cma', 405),\n",
       " ('be', 405),\n",
       " ('licensing', 405),\n",
       " ('capital', 404),\n",
       " ('ref', 403),\n",
       " ('price', 402),\n",
       " ('case', 402),\n",
       " ('results', 402),\n",
       " ('finance', 400),\n",
       " ('medical', 400),\n",
       " ('protection', 400),\n",
       " ('control', 399),\n",
       " ('police', 396),\n",
       " ('number', 396),\n",
       " ('senior', 395),\n",
       " ('study', 394),\n",
       " ('tribunal', 391),\n",
       " ('projects', 389),\n",
       " ('registration', 387),\n",
       " ('order', 383),\n",
       " ('fuel', 382),\n",
       " ('patent', 381),\n",
       " ('technology', 381),\n",
       " ('competition', 381),\n",
       " ('income', 379),\n",
       " ('outcomes', 377),\n",
       " ('progress', 376),\n",
       " ('english', 373),\n",
       " ('issue', 373),\n",
       " ('board', 373),\n",
       " ('30', 372),\n",
       " ('rules', 372),\n",
       " ('independent', 372),\n",
       " ('self', 371),\n",
       " ('delivery', 369),\n",
       " ('domestic', 369),\n",
       " ('costs', 368),\n",
       " ('registered', 368),\n",
       " ('human', 368),\n",
       " ('names', 366),\n",
       " ('innovation', 365),\n",
       " ('small', 364),\n",
       " ('welsh', 364),\n",
       " ('payment', 364),\n",
       " ('department', 363),\n",
       " ('one', 363),\n",
       " ('is', 363),\n",
       " ('inspire', 363),\n",
       " ('fire', 361),\n",
       " ('women', 361),\n",
       " ('import', 357),\n",
       " ('aid', 354),\n",
       " ('regional', 353),\n",
       " ('infrastructure', 353),\n",
       " ('fees', 352),\n",
       " ('authorities', 352),\n",
       " ('polygon', 351),\n",
       " ('marine', 350),\n",
       " ('statistical', 347),\n",
       " ('measures', 347),\n",
       " ('private', 346),\n",
       " ('young', 343),\n",
       " ('return', 342),\n",
       " ('free', 342),\n",
       " ('against', 341),\n",
       " ('dumping', 339),\n",
       " ('charity', 338),\n",
       " ('life', 338),\n",
       " ('time', 337),\n",
       " ('17', 337),\n",
       " ('monitoring', 337),\n",
       " ('expenses', 337),\n",
       " ('applications', 336),\n",
       " ('revenue', 335),\n",
       " ('years', 334),\n",
       " ('improving', 333),\n",
       " ('further', 332),\n",
       " ('reporting', 331),\n",
       " ('gcse', 329),\n",
       " ('get', 329),\n",
       " ('world', 328),\n",
       " ('bis', 328),\n",
       " ('network', 327),\n",
       " ('construction', 326),\n",
       " ('global', 325),\n",
       " ('quarter', 325),\n",
       " ('farm', 324),\n",
       " ('air', 324),\n",
       " ('disease', 324),\n",
       " ('note', 324),\n",
       " ('stage', 323),\n",
       " ('14', 322),\n",
       " ('oil', 322),\n",
       " ('treatment', 321),\n",
       " ('operational', 321),\n",
       " ('power', 321),\n",
       " ('legislation', 320),\n",
       " ('prices', 319),\n",
       " ('requirements', 316),\n",
       " ('hm', 314),\n",
       " ('cost', 314),\n",
       " ('stop', 311),\n",
       " ('strategic', 310),\n",
       " ('sea', 309),\n",
       " ('law', 309),\n",
       " ('relief', 309),\n",
       " ('opinion', 309),\n",
       " ('chief', 309),\n",
       " ('defence', 308),\n",
       " ('union', 308),\n",
       " ('6', 307),\n",
       " ('major', 306),\n",
       " ('9', 306),\n",
       " ('hmrc', 306),\n",
       " ('equality', 305),\n",
       " ('times', 303),\n",
       " ('mgn', 301),\n",
       " ('improvement', 300),\n",
       " ('permit', 300),\n",
       " ('post', 300),\n",
       " ('organisations', 299),\n",
       " ('indicators', 299),\n",
       " ('crime', 298),\n",
       " ('benefit', 298),\n",
       " ('traffic', 297),\n",
       " ('card', 296),\n",
       " ('2008', 296),\n",
       " ('electricity', 295),\n",
       " ('need', 295),\n",
       " ('implementation', 295),\n",
       " ('compliance', 295),\n",
       " ('minutes', 294),\n",
       " ('china', 293),\n",
       " ('estimates', 293),\n",
       " ('day', 292),\n",
       " ('carbon', 292),\n",
       " ('you', 291),\n",
       " ('12', 291),\n",
       " ('contracts', 290),\n",
       " ('directors', 287),\n",
       " ('director', 287),\n",
       " ('grant', 287),\n",
       " ('11', 285),\n",
       " ('consumer', 284),\n",
       " ('13', 284),\n",
       " ('other', 283),\n",
       " ('learning', 283),\n",
       " ('deaths', 282),\n",
       " ('insurance', 282),\n",
       " ('emergency', 282),\n",
       " ('supply', 281),\n",
       " ('forms', 281),\n",
       " ('country', 280),\n",
       " ('centre', 280),\n",
       " ('communities', 279),\n",
       " ('conditions', 278),\n",
       " ('trends', 278),\n",
       " ('maintenance', 277),\n",
       " ('testing', 277),\n",
       " ('transactions', 277),\n",
       " ('economy', 276),\n",
       " ('mental', 276),\n",
       " ('7', 276),\n",
       " ('their', 274),\n",
       " ('design', 274),\n",
       " ('it', 274),\n",
       " ('tables', 273),\n",
       " ('nuclear', 272),\n",
       " ('treasury', 272),\n",
       " ('ltd', 271),\n",
       " ('enforcement', 271),\n",
       " ('rural', 271),\n",
       " ('restriction', 270),\n",
       " ('recommendation', 270),\n",
       " ('documents', 270),\n",
       " ('issued', 269),\n",
       " ('enterprise', 269),\n",
       " ('coast', 268),\n",
       " ('insolvency', 266),\n",
       " ('products', 266),\n",
       " ('online', 265),\n",
       " ('inquiry', 264),\n",
       " ('our', 264),\n",
       " ('association', 263),\n",
       " ('pensions', 262),\n",
       " ('8', 262),\n",
       " ('additional', 262),\n",
       " ('greater', 261),\n",
       " ('2006', 261),\n",
       " ('low', 260),\n",
       " ('subject', 260),\n",
       " ('facilities', 260),\n",
       " ('inspection', 259),\n",
       " ('waiting', 259),\n",
       " ('official', 259),\n",
       " ('will', 259),\n",
       " ('benefits', 259),\n",
       " ('amendment', 258),\n",
       " ('cancer', 258),\n",
       " ('than', 257),\n",
       " ('healthcare', 257),\n",
       " ('society', 257),\n",
       " ('proposals', 256),\n",
       " ('no', 256),\n",
       " ('statutory', 255),\n",
       " ('scottish', 254),\n",
       " ('areas', 253),\n",
       " ('after', 252),\n",
       " ('foundation', 252),\n",
       " ('animal', 252),\n",
       " ('living', 252),\n",
       " ('joint', 252),\n",
       " ('visits', 251),\n",
       " ('amendments', 251),\n",
       " ('dwp', 251),\n",
       " ('18', 250),\n",
       " ('proposed', 250),\n",
       " ('provision', 250),\n",
       " ('vaccine', 249),\n",
       " ('united', 249),\n",
       " ('notices', 249),\n",
       " ('smart', 249),\n",
       " ('acoba', 248),\n",
       " ('end', 248),\n",
       " ('early', 247),\n",
       " ('academy', 246),\n",
       " ('violence', 246),\n",
       " ('sustainable', 245),\n",
       " ('external', 245),\n",
       " ('related', 244),\n",
       " ('contract', 244),\n",
       " ('transparency', 244),\n",
       " ('city', 243),\n",
       " ('morning', 243),\n",
       " ('vehicles', 243),\n",
       " ('o', 242),\n",
       " ('give', 242),\n",
       " ('budget', 241),\n",
       " ('providers', 241),\n",
       " ('notes', 241),\n",
       " ('19', 241),\n",
       " ('terrorism', 240),\n",
       " ('legal', 239),\n",
       " ('week', 238),\n",
       " ('supporting', 237),\n",
       " ('directive', 237),\n",
       " ('justice', 237),\n",
       " ('india', 236),\n",
       " ('david', 236),\n",
       " ('powers', 235),\n",
       " ('m', 233),\n",
       " ('tb', 233),\n",
       " ('census', 233),\n",
       " ('improve', 233),\n",
       " ('driving', 233),\n",
       " ('works', 232),\n",
       " ('judgement', 232),\n",
       " ('alcohol', 232),\n",
       " ('better', 231),\n",
       " ('efficiency', 231),\n",
       " ('measure', 229),\n",
       " ('money', 228),\n",
       " ('hmt', 227),\n",
       " ('value', 227),\n",
       " ('brief', 226),\n",
       " ('estate', 226),\n",
       " ('credit', 226),\n",
       " ('systems', 225),\n",
       " ('commercial', 225),\n",
       " ('activity', 225),\n",
       " ('appeals', 225),\n",
       " ('lord', 224),\n",
       " ('off', 224),\n",
       " ('make', 224),\n",
       " ('second', 223),\n",
       " ('surveillance', 222),\n",
       " ('apr', 221),\n",
       " ('emissions', 220),\n",
       " ('summit', 220),\n",
       " ('all', 220),\n",
       " ('charities', 220),\n",
       " ('settlement', 219),\n",
       " ('bus', 218),\n",
       " ('set', 217),\n",
       " ('term', 217),\n",
       " ('role', 217),\n",
       " ('using', 217),\n",
       " ('that', 216),\n",
       " ('forum', 215),\n",
       " ('appointment', 215),\n",
       " ('funds', 215),\n",
       " ('transfer', 215),\n",
       " ('passenger', 214),\n",
       " ('buy', 214),\n",
       " ('production', 214),\n",
       " ('controls', 214),\n",
       " ('issues', 214),\n",
       " ('during', 213),\n",
       " ('mar', 213),\n",
       " ('gpc', 212),\n",
       " ('apprenticeships', 212),\n",
       " ('court', 212),\n",
       " ('dclg', 212),\n",
       " ('family', 212),\n",
       " ('making', 212),\n",
       " ('codes', 211),\n",
       " ('common', 211),\n",
       " ('welcomes', 209),\n",
       " ('individual', 209),\n",
       " ('who', 208),\n",
       " ('announces', 208),\n",
       " ('what', 208),\n",
       " ('corporation', 207),\n",
       " ('claim', 206),\n",
       " ('trading', 204),\n",
       " ('based', 204),\n",
       " ('renewable', 204),\n",
       " ('licences', 203),\n",
       " ('equipment', 203),\n",
       " ('assessments', 203),\n",
       " ('capacity', 202),\n",
       " ('bank', 202),\n",
       " ('launch', 202),\n",
       " ('opportunities', 202),\n",
       " ('families', 201),\n",
       " ('record', 201),\n",
       " ('details', 201),\n",
       " ('executive', 201),\n",
       " ('heat', 201),\n",
       " ('reference', 201),\n",
       " ('2007', 201),\n",
       " ('personal', 200),\n",
       " ('age', 199),\n",
       " ('interest', 199),\n",
       " ('medicines', 198),\n",
       " ('revised', 198),\n",
       " ('criteria', 198),\n",
       " ('labour', 198),\n",
       " ('stewardship', 197),\n",
       " ('midlands', 197),\n",
       " ('arrangements', 197),\n",
       " ('right', 196),\n",
       " ('patient', 196),\n",
       " ('excise', 196),\n",
       " ('countryside', 195),\n",
       " ('letters', 195),\n",
       " ('rate', 194),\n",
       " ('are', 194),\n",
       " ('recovery', 194),\n",
       " ('appointed', 193),\n",
       " ('certificate', 193),\n",
       " ('permanent', 192),\n",
       " ('cabinet', 192),\n",
       " ('media', 192),\n",
       " ('africa', 192),\n",
       " ('farming', 191),\n",
       " ('2005', 191),\n",
       " ('process', 191),\n",
       " ('20', 191),\n",
       " ('lawyers', 191),\n",
       " ('consular', 191),\n",
       " ('prevention', 190),\n",
       " ('culture', 190),\n",
       " ('they', 188),\n",
       " ('operation', 188),\n",
       " ('appointments', 188),\n",
       " ('intelligence', 187),\n",
       " ('dec', 187),\n",
       " ('check', 187),\n",
       " ('published', 187),\n",
       " ('big', 187),\n",
       " ('advisory', 187),\n",
       " ('mark', 186),\n",
       " ('trusts', 186),\n",
       " ('registry', 186),\n",
       " ('fishing', 186),\n",
       " ('deputy', 186),\n",
       " ('pre', 186),\n",
       " ('levels', 185),\n",
       " ('savings', 185),\n",
       " ('higher', 184),\n",
       " ('jobs', 184),\n",
       " ('prisoner', 184),\n",
       " ('challenge', 183),\n",
       " ('charge', 183),\n",
       " ('fisheries', 182),\n",
       " ('phe', 182),\n",
       " ('coastal', 182),\n",
       " ('royal', 182),\n",
       " ('taking', 182),\n",
       " ('forces', 182),\n",
       " ('terms', 180),\n",
       " ('charges', 180),\n",
       " ('coalfield', 180),\n",
       " ('initial', 179),\n",
       " ('jan', 179),\n",
       " ('materials', 179),\n",
       " ('have', 178),\n",
       " ('communications', 178),\n",
       " ('agricultural', 178),\n",
       " ('merger', 178),\n",
       " ('programmes', 178),\n",
       " ('not', 178),\n",
       " ('weekly', 177),\n",
       " ('commissioner', 177),\n",
       " ('announced', 177),\n",
       " ('workers', 177),\n",
       " ('event', 177),\n",
       " ('select', 177),\n",
       " ('approach', 177),\n",
       " ('co', 177),\n",
       " ('path', 176),\n",
       " ('period', 176),\n",
       " ('sales', 176),\n",
       " ('freight', 176),\n",
       " ('needs', 176),\n",
       " ('approval', 175),\n",
       " ('priorities', 174),\n",
       " ('offshore', 174),\n",
       " ('dcms', 174),\n",
       " ('minimum', 174),\n",
       " ('volume', 173),\n",
       " ('speed', 173),\n",
       " ('through', 172),\n",
       " ('written', 172),\n",
       " ('highways', 171),\n",
       " ('household', 171),\n",
       " ('michael', 171),\n",
       " ('rescue', 170),\n",
       " ('if', 170),\n",
       " ('ofsted', 170),\n",
       " ('good', 170),\n",
       " ('animals', 170),\n",
       " ('departmental', 170),\n",
       " ('claims', 170),\n",
       " ('start', 170),\n",
       " ('welfare', 170),\n",
       " ('award', 170),\n",
       " ('interim', 170),\n",
       " ('space', 169),\n",
       " ('flu', 169),\n",
       " ('document', 168),\n",
       " ('site', 168),\n",
       " ('obligation', 168),\n",
       " ('cyber', 168),\n",
       " ('academies', 168),\n",
       " ('college', 167),\n",
       " ('msn', 167),\n",
       " ('junction', 167),\n",
       " ('recommendations', 167),\n",
       " ('supplementary', 167),\n",
       " ('central', 167),\n",
       " ('lane', 167),\n",
       " ('body', 166),\n",
       " ('user', 166),\n",
       " ('convention', 166),\n",
       " ('tourism', 165),\n",
       " ('status', 165),\n",
       " ('industrial', 165),\n",
       " ('effects', 165),\n",
       " ('governance', 164),\n",
       " ('disclosure', 164),\n",
       " ('can', 164),\n",
       " ('returns', 164),\n",
       " ('section', 163),\n",
       " ('model', 163),\n",
       " ('collection', 163),\n",
       " ('imported', 163),\n",
       " ('improvements', 163),\n",
       " ('chair', 162),\n",
       " ('maritime', 162),\n",
       " ('maps', 161),\n",
       " ('academic', 161),\n",
       " ('procedures', 161),\n",
       " ('oct', 160),\n",
       " ('live', 160),\n",
       " ('granted', 160),\n",
       " ('yorkshire', 160),\n",
       " ('defra', 160),\n",
       " ('next', 160),\n",
       " ('roads', 159),\n",
       " ('park', 159),\n",
       " ('incident', 159),\n",
       " ('understanding', 158),\n",
       " ('visit', 158),\n",
       " ('orders', 158),\n",
       " ('councils', 157),\n",
       " ('warning', 157),\n",
       " ('long', 157),\n",
       " ('way', 157),\n",
       " ('exemption', 156),\n",
       " ('c', 156),\n",
       " ('poverty', 156),\n",
       " ('manual', 156),\n",
       " ('sport', 155),\n",
       " ('thames', 155),\n",
       " ('voluntary', 155),\n",
       " ('b', 154),\n",
       " ('population', 154),\n",
       " ('patients', 154),\n",
       " ('decc', 154),\n",
       " ('closures', 153),\n",
       " ('resources', 153),\n",
       " ('protected', 153),\n",
       " ('summaries', 153),\n",
       " ('funeral', 152),\n",
       " ('kingdom', 152),\n",
       " ('migrant', 152),\n",
       " ('studies', 152),\n",
       " ('article', 152),\n",
       " ('best', 152),\n",
       " ('publication', 151),\n",
       " ('allowance', 151),\n",
       " ('tackle', 151),\n",
       " ('storage', 151),\n",
       " ('hospital', 151),\n",
       " ('calls', 150),\n",
       " ('treaties', 150),\n",
       " ('newsletter', 150),\n",
       " ('qualifications', 150),\n",
       " ('inspections', 150),\n",
       " ('afternoon', 150),\n",
       " ('schedule', 149),\n",
       " ('employer', 149),\n",
       " ('visa', 149),\n",
       " ('template', 148),\n",
       " ('given', 148),\n",
       " ('street', 148),\n",
       " ('gce', 148),\n",
       " ('pupil', 147),\n",
       " ('sir', 147),\n",
       " ('software', 147),\n",
       " ('overnight', 147),\n",
       " ('account', 147),\n",
       " ('commons', 147),\n",
       " ('ownership', 147),\n",
       " ('tests', 147),\n",
       " ('managing', 147),\n",
       " ('smi', 147),\n",
       " ('direct', 146),\n",
       " ('certificates', 146),\n",
       " ('statements', 146),\n",
       " ('awards', 145),\n",
       " ('third', 145),\n",
       " ('assistance', 144),\n",
       " ('ccg', 144),\n",
       " ('22', 144),\n",
       " ('levy', 144),\n",
       " ('its', 144),\n",
       " ('freedom', 144),\n",
       " ('secondary', 144),\n",
       " ('attitudes', 144),\n",
       " ('red', 144),\n",
       " ('partnerships', 144),\n",
       " ('campaign', 143),\n",
       " ('electronic', 143),\n",
       " ('winter', 143),\n",
       " ('nick', 142),\n",
       " ('referral', 142),\n",
       " ('table', 142),\n",
       " ('following', 142),\n",
       " ('exporting', 142),\n",
       " ('two', 142),\n",
       " ('legislative', 142),\n",
       " ('employee', 142),\n",
       " (\"minister's\", 141),\n",
       " ('teaching', 141),\n",
       " ('authorisation', 141),\n",
       " ('complaints', 141),\n",
       " ('drug', 141),\n",
       " (\"children's\", 141),\n",
       " ('launches', 141),\n",
       " ('billion', 141),\n",
       " ('manufacturing', 140),\n",
       " ('engagement', 140),\n",
       " ('engineering', 140),\n",
       " ('sheet', 140),\n",
       " ('notification', 140),\n",
       " ('avoidance', 140),\n",
       " ('round', 139),\n",
       " ('audit', 139),\n",
       " ('administration', 139),\n",
       " ('f', 139),\n",
       " ('pollution', 139),\n",
       " ('ministers', 138),\n",
       " ('abroad', 138),\n",
       " ('operations', 138),\n",
       " ('class', 138),\n",
       " ('liability', 138),\n",
       " ('reforms', 138),\n",
       " ('fish', 137),\n",
       " ('cross', 137),\n",
       " ('leaflet', 137),\n",
       " ('markets', 137),\n",
       " ('cattle', 137),\n",
       " ('drive', 137),\n",
       " ('guidelines', 137),\n",
       " ('clinical', 137),\n",
       " ('bridge', 136),\n",
       " ('st', 136),\n",
       " ('compensation', 136),\n",
       " ('armed', 136),\n",
       " ('exchange', 135),\n",
       " ('adult', 135),\n",
       " ('disposal', 135),\n",
       " ('generation', 135),\n",
       " ('potential', 135),\n",
       " ('launched', 135),\n",
       " ('etl', 134),\n",
       " ('23', 134),\n",
       " ('unit', 134),\n",
       " ('europe', 134),\n",
       " ('classification', 133),\n",
       " ('developing', 133),\n",
       " ('natural', 133),\n",
       " ('2000', 133),\n",
       " ('structure', 133),\n",
       " ('landfill', 133),\n",
       " ('affairs', 132),\n",
       " ('agreements', 132),\n",
       " ('29', 132),\n",
       " ('sexual', 132),\n",
       " ('top', 132),\n",
       " ('search', 131),\n",
       " ('exceptions', 131),\n",
       " ('when', 131),\n",
       " ('confirmed', 131),\n",
       " ('cases', 131),\n",
       " ('parliamentary', 130),\n",
       " ('broadband', 130),\n",
       " ('version', 130),\n",
       " ('notarial', 130),\n",
       " ('illegal', 129),\n",
       " ('pilot', 129),\n",
       " ('marketing', 129),\n",
       " ('radioactive', 129),\n",
       " ('ships', 128),\n",
       " ('cvd', 128),\n",
       " ('numbers', 128),\n",
       " (\"advisers'\", 128),\n",
       " ('members', 128),\n",
       " ('profile', 128),\n",
       " ('summer', 128),\n",
       " ('district', 128),\n",
       " ('re', 128),\n",
       " ('reducing', 128),\n",
       " ('advisers', 128),\n",
       " ('tackling', 127),\n",
       " ('fraud', 127),\n",
       " ('figures', 127),\n",
       " ('leadership', 127),\n",
       " ('relating', 127),\n",
       " ('aviation', 127),\n",
       " ('wave', 127),\n",
       " ('surveys', 127),\n",
       " ('documentary', 127),\n",
       " ('bodies', 126),\n",
       " ('countries', 126),\n",
       " ('quota', 126),\n",
       " ('station', 126),\n",
       " ('accommodation', 126),\n",
       " ('pupils', 126),\n",
       " ('curriculum', 126),\n",
       " ('buildings', 126),\n",
       " ('alternative', 126),\n",
       " ('greenhouse', 125),\n",
       " ('declaration', 125),\n",
       " ('facility', 125),\n",
       " ('find', 125),\n",
       " ('21', 125),\n",
       " ('practitioners', 125),\n",
       " ('disabled', 125),\n",
       " ('exports', 125),\n",
       " ('name', 125),\n",
       " ('sanctions', 125),\n",
       " ('bereavement', 124),\n",
       " ('behaviour', 124),\n",
       " ('transfers', 124),\n",
       " ('product', 124),\n",
       " ('25', 124),\n",
       " ('overview', 124),\n",
       " ('correspondence', 124),\n",
       " (\"secretary's\", 124),\n",
       " ('assurance', 124),\n",
       " ('salaries', 124),\n",
       " ('taxation', 124),\n",
       " ('sites', 123),\n",
       " ('bovine', 123),\n",
       " ('line', 123),\n",
       " ('direction', 123),\n",
       " ('multi', 123),\n",
       " ('dementia', 123),\n",
       " ('youth', 123),\n",
       " ('inheritance', 123),\n",
       " ('mp', 123),\n",
       " ('£1', 123),\n",
       " ('monitor', 122),\n",
       " ('absence', 122),\n",
       " ...]"
      ]
     },
     "execution_count": 97,
     "metadata": {},
     "output_type": "execute_result"
    }
   ],
   "source": [
    "\n",
    "sorted(tokenizer_tit.word_counts.items(), key=lambda x:x[1], reverse=True)\n",
    "#for key, value in sorted(mydict.iteritems(), key=lambda (k,v): (v,k)):\n",
    "    #print \"%s: %s\" % (key, value)"
   ]
  },
  {
   "cell_type": "markdown",
   "metadata": {},
   "source": [
    "### Tokenize description text"
   ]
  },
  {
   "cell_type": "code",
   "execution_count": 98,
   "metadata": {},
   "outputs": [],
   "source": [
    "# Bag of words method\n",
    "tokenizer_desc = Tokenizer(num_words=10000) #num_words: None or int. Maximum number of words to work with \n",
    "# (if set, tokenization will be restricted to the top num_words most common words in the dataset).\n",
    "\n",
    "# apply tokenizer to our text data\n",
    "tokenizer_desc.fit_on_texts(descs)\n",
    "\n",
    "# list of word indexes, where the word of rank i in the dataset (starting at 1) has index i\n",
    "sequences_desc = tokenizer_desc.texts_to_sequences(descs) #yield one sequence per input text\n",
    "onehot_desc = tokenizer_desc.sequences_to_matrix(sequences_desc) #yield one sequence per input text\n",
    "\n",
    "# dictionary mapping words (str) to their rank/index (int).\n",
    "word_index_desc = tokenizer_desc.word_index "
   ]
  },
  {
   "cell_type": "code",
   "execution_count": 99,
   "metadata": {},
   "outputs": [
    {
     "data": {
      "text/plain": [
       "(91771, 10000)"
      ]
     },
     "execution_count": 99,
     "metadata": {},
     "output_type": "execute_result"
    }
   ],
   "source": [
    "onehot_desc.shape"
   ]
  },
  {
   "cell_type": "markdown",
   "metadata": {},
   "source": [
    "### Data split\n",
    "- Training data = 80%\n",
    "- Development data = 10%\n",
    "- Test data = 10%"
   ]
  },
  {
   "cell_type": "code",
   "execution_count": 100,
   "metadata": {},
   "outputs": [
    {
     "name": "stdout",
     "output_type": "stream",
     "text": [
      "[    0     1     2 ..., 91768 91769 91770]\n",
      "[86169 85694 10272 ..., 42613 43567 68268]\n"
     ]
    }
   ],
   "source": [
    "# shuffle data and standardise indices\n",
    "indices = np.arange(data.shape[0])\n",
    "print(indices)\n",
    "np.random.seed(0)\n",
    "np.random.shuffle(indices)\n",
    "print(indices)"
   ]
  },
  {
   "cell_type": "code",
   "execution_count": 101,
   "metadata": {},
   "outputs": [],
   "source": [
    "data = data[indices]\n",
    "metadata = meta[indices]\n",
    "title_data = onehot_tit[indices]"
   ]
  },
  {
   "cell_type": "code",
   "execution_count": 102,
   "metadata": {},
   "outputs": [],
   "source": [
    "desc_data = onehot_desc[indices]\n",
    "timedata = first_published[indices]\n",
    "\n",
    "\n",
    "labels = binary_multilabel[indices]"
   ]
  },
  {
   "cell_type": "code",
   "execution_count": 103,
   "metadata": {},
   "outputs": [
    {
     "name": "stdout",
     "output_type": "stream",
     "text": [
      "nb_test samples: 9177\n",
      "nb_dev samples: 18354\n",
      "nb_training samples: 73416\n"
     ]
    }
   ],
   "source": [
    "nb_test_samples = int(0.1 * data.shape[0]) #validation split\n",
    "print('nb_test samples:', nb_test_samples)\n",
    "\n",
    "nb_dev_samples = int(0.2 * data.shape[0]) #validation split\n",
    "print('nb_dev samples:', nb_dev_samples)\n",
    "\n",
    "nb_training_samples = int(0.8 * data.shape[0]) #validation split\n",
    "print('nb_training samples:', nb_training_samples)"
   ]
  },
  {
   "cell_type": "code",
   "execution_count": 104,
   "metadata": {},
   "outputs": [
    {
     "name": "stdout",
     "output_type": "stream",
     "text": [
      "Shape of x_train: (73417, 1000)\n",
      "Shape of metax_train: (73417, 429)\n",
      "Shape of titlex_train: (73417, 10000)\n",
      "Shape of descx_train: (73417, 10000)\n",
      "Shape of datex_train: (73417, 1)\n",
      "Shape of y_train: (73417, 187)\n"
     ]
    }
   ],
   "source": [
    "x_train = data[:-nb_dev_samples]\n",
    "print('Shape of x_train:', x_train.shape)\n",
    "\n",
    "metax_train = metadata[:-nb_dev_samples]\n",
    "print('Shape of metax_train:', metax_train.shape)\n",
    "\n",
    "titlex_train = title_data[:-nb_dev_samples]\n",
    "print('Shape of titlex_train:', titlex_train.shape)\n",
    "\n",
    "descx_train = desc_data[:-nb_dev_samples]\n",
    "print('Shape of descx_train:', descx_train.shape)\n",
    "\n",
    "datex_train = timedata[:-nb_dev_samples]\n",
    "print('Shape of datex_train:', datex_train.shape)\n",
    "\n",
    "y_train = labels[:-nb_dev_samples]\n",
    "print('Shape of y_train:', y_train.shape)"
   ]
  },
  {
   "cell_type": "code",
   "execution_count": 105,
   "metadata": {},
   "outputs": [
    {
     "name": "stdout",
     "output_type": "stream",
     "text": [
      "Shape of x_dev: (9177, 1000)\n",
      "Shape of metax_dev: (9177, 429)\n",
      "Shape of titlex_dev: (9177, 10000)\n",
      "Shape of descx_dev: (9177, 10000)\n",
      "Shape of metax_dev: (9177, 1)\n",
      "Shape of y_dev: (9177, 187)\n"
     ]
    }
   ],
   "source": [
    "x_dev = data[-nb_dev_samples:-nb_test_samples]\n",
    "print('Shape of x_dev:', x_dev.shape)\n",
    "\n",
    "metax_dev = metadata[-nb_dev_samples:-nb_test_samples]\n",
    "print('Shape of metax_dev:', metax_dev.shape)\n",
    "\n",
    "titlex_dev = title_data[-nb_dev_samples:-nb_test_samples]\n",
    "print('Shape of titlex_dev:', titlex_dev.shape)\n",
    "\n",
    "descx_dev = desc_data[-nb_dev_samples:-nb_test_samples]\n",
    "print('Shape of descx_dev:', descx_dev.shape)\n",
    "\n",
    "datex_dev = timedata[-nb_dev_samples:-nb_test_samples]\n",
    "print('Shape of metax_dev:', datex_dev.shape)\n",
    "\n",
    "y_dev = labels[-nb_dev_samples:-nb_test_samples]\n",
    "print('Shape of y_dev:', y_dev.shape)"
   ]
  },
  {
   "cell_type": "code",
   "execution_count": 106,
   "metadata": {},
   "outputs": [
    {
     "name": "stdout",
     "output_type": "stream",
     "text": [
      "Shape of x_test: (9177, 1000)\n",
      "Shape of metax_test: (9177, 429)\n",
      "Shape of titlex_test: (9177, 10000)\n",
      "Shape of descx_test: (9177, 10000)\n",
      "Shape of datex_test: (9177, 1)\n",
      "Shape of y_test: (9177, 187)\n"
     ]
    }
   ],
   "source": [
    "x_test = data[-nb_test_samples:]\n",
    "print('Shape of x_test:', x_test.shape)\n",
    "\n",
    "metax_test = metadata[-nb_test_samples:]\n",
    "print('Shape of metax_test:', metax_test.shape)\n",
    "\n",
    "titlex_test = title_data[-nb_test_samples:]\n",
    "print('Shape of titlex_test:', titlex_test.shape)\n",
    "\n",
    "descx_test = desc_data[-nb_test_samples:]\n",
    "print('Shape of descx_test:', descx_test.shape)\n",
    "\n",
    "datex_test = timedata[-nb_test_samples:]\n",
    "print('Shape of datex_test:', datex_test.shape)\n",
    "\n",
    "y_test = labels[-nb_test_samples:]\n",
    "print('Shape of y_test:', y_test.shape)"
   ]
  },
  {
   "cell_type": "markdown",
   "metadata": {},
   "source": [
    "### preparing the Embedding layer\n",
    "\n",
    "NB stopwords haven't been removed yet..."
   ]
  },
  {
   "cell_type": "code",
   "execution_count": 107,
   "metadata": {},
   "outputs": [],
   "source": [
    "embedding_layer = Embedding(len(word_index) + 1, \n",
    "                            EMBEDDING_DIM, \n",
    "                            input_length=MAX_SEQUENCE_LENGTH)"
   ]
  },
  {
   "cell_type": "markdown",
   "metadata": {},
   "source": [
    "An Embedding layer should be fed sequences of integers, i.e. a 2D input of shape (samples, indices). These input sequences should be padded so that they all have the same length in a batch of input data (although an Embedding layer is capable of processing sequence of heterogenous length, if you don't pass an explicit input_length argument to the layer).\n",
    "\n",
    "All that the Embedding layer does is to map the integer inputs to the vectors found at the corresponding index in the embedding matrix, i.e. the sequence [1, 2] would be converted to [embeddings[1], embeddings[2]]. This means that the output of the Embedding layer will be a 3D tensor of shape (samples, sequence_length, embedding_dim)."
   ]
  },
  {
   "cell_type": "markdown",
   "metadata": {},
   "source": [
    "### Estimate class weights for unbalanced datasets.\n",
    "paramter to model.fit = __class_weight__: Optional dictionary mapping class indices (integers) to a weight (float) value, used for weighting the loss function (during training only). This can be useful to tell the model to \"pay more attention\" to samples from an under-represented class.\n",
    "\n",
    "Implement class_weight from sklearn:\n",
    "\n",
    "- Import the module \n",
    "\n",
    "`from sklearn.utils import class_weight`\n",
    "- calculate the class weight, If ‘balanced’, class weights will be given by n_samples / (n_classes * np.bincount(y)):\n",
    "\n",
    "`class_weight = class_weight.compute_class_weight('balanced', np.unique(y_train), y_train)`\n",
    "\n",
    "- change it to a dict in order to work with Keras.\n",
    "\n",
    "`class_weight_dict = dict(enumerate(class_weight))`\n",
    "\n",
    "- Add to model fitting\n",
    "\n",
    "`model.fit(X_train, y_train, class_weight=class_weight)`"
   ]
  },
  {
   "cell_type": "code",
   "execution_count": 108,
   "metadata": {},
   "outputs": [],
   "source": [
    "# class_weight = class_weight.compute_class_weight('balanced', np.unique(y_train), y_train)\n",
    "# class_weight_dict = dict(enumerate(class_weight))"
   ]
  },
  {
   "cell_type": "markdown",
   "metadata": {},
   "source": [
    "### Custom loss function"
   ]
  },
  {
   "cell_type": "code",
   "execution_count": 109,
   "metadata": {},
   "outputs": [
    {
     "name": "stdout",
     "output_type": "stream",
     "text": [
      "4.00756\n",
      "8.01512\n"
     ]
    }
   ],
   "source": [
    "class WeightedBinaryCrossEntropy(object):\n",
    "\n",
    "    def __init__(self, pos_ratio):\n",
    "        neg_ratio = 1. - pos_ratio\n",
    "        #self.pos_ratio = tf.constant(pos_ratio, tf.float32)\n",
    "        self.pos_ratio = pos_ratio\n",
    "        #self.weights = tf.constant(neg_ratio / pos_ratio, tf.float32)\n",
    "        self.weights = neg_ratio / pos_ratio\n",
    "        self.__name__ = \"weighted_binary_crossentropy({0})\".format(pos_ratio)\n",
    "\n",
    "    def __call__(self, y_true, y_pred):\n",
    "        return self.weighted_binary_crossentropy(y_true, y_pred)\n",
    "\n",
    "    def weighted_binary_crossentropy(self, y_true, y_pred):\n",
    "            # Transform to logits\n",
    "            epsilon = tf.convert_to_tensor(K.common._EPSILON, y_pred.dtype.base_dtype)\n",
    "            y_pred = tf.clip_by_value(y_pred, epsilon, 1 - epsilon)\n",
    "            y_pred = tf.log(y_pred / (1 - y_pred))\n",
    "\n",
    "            cost = tf.nn.weighted_cross_entropy_with_logits(y_true, y_pred, self.weights)\n",
    "            return K.mean(cost * self.pos_ratio, axis=-1)\n",
    "    \n",
    "y_true_arr = np.array([0,1,0,1], dtype=\"float32\")\n",
    "y_pred_arr = np.array([0,0,1,1], dtype=\"float32\")\n",
    "y_true = tf.constant(y_true_arr)\n",
    "y_pred = tf.constant(y_pred_arr)\n",
    "\n",
    "with tf.Session().as_default(): \n",
    "    print(WeightedBinaryCrossEntropy(0.5)(y_true, y_pred).eval())\n",
    "    print(binary_crossentropy(y_true, y_pred).eval())\n"
   ]
  },
  {
   "cell_type": "markdown",
   "metadata": {},
   "source": [
    "### difficulty getting global precision/recall metrics . CAUTION interpreting monitoring metrics\n",
    "fcholltet: \"Basically these are all global metrics that were approximated\n",
    "batch-wise, which is more misleading than helpful. This was mentioned in\n",
    "the docs but it's much cleaner to remove them altogether. It was a mistake\n",
    "to merge them in the first place.\""
   ]
  },
  {
   "cell_type": "code",
   "execution_count": 110,
   "metadata": {},
   "outputs": [],
   "source": [
    "def f1(y_true, y_pred):\n",
    "    \"\"\"Use Recall  and precision metrics to calculate harmonic mean (F1 score).\n",
    "\n",
    "        Only computes a batch-wise average of recall.\n",
    "\n",
    "        Computes the recall, a metric for multi-label classification of\n",
    "        how many relevant items are selected.\n",
    "        \"\"\"\n",
    "    true_positives = K.sum(K.round(K.clip(y_true * y_pred, 0, 1)))\n",
    "    predicted_positives = K.sum(K.round(K.clip(y_pred, 0, 1)))\n",
    "    possible_positives = K.sum(K.round(K.clip(y_true, 0, 1)))\n",
    "    precision = true_positives / (predicted_positives + K.epsilon())\n",
    "    recall = true_positives / (possible_positives + K.epsilon())\n",
    "    f1 = 2*((precision*recall)/(precision+recall))\n",
    "    \n",
    "    return f1"
   ]
  },
  {
   "cell_type": "markdown",
   "metadata": {},
   "source": [
    "## Training a 1D convnet"
   ]
  },
  {
   "cell_type": "markdown",
   "metadata": {},
   "source": [
    "### 1. Create model"
   ]
  },
  {
   "cell_type": "code",
   "execution_count": 111,
   "metadata": {},
   "outputs": [],
   "source": [
    "NB_CLASSES = y_train.shape[1]\n",
    "NB_METAVARS = metax_train.shape[1]\n",
    "\n",
    "\n",
    "\n",
    "sequence_input = Input(shape=(MAX_SEQUENCE_LENGTH,), dtype='int32', name='wordindex') #MAX_SEQUENCE_LENGTH\n",
    "embedded_sequences = embedding_layer(sequence_input)\n",
    "x = Dropout(0.2, name = 'dropout_embedded')(embedded_sequences)\n",
    "\n",
    "x = Conv1D(128, 5, activation='relu', name = 'conv0')(x)\n",
    "\n",
    "x = MaxPooling1D(5, name = 'max_pool0')(x)\n",
    "\n",
    "x = Dropout(0.5, name = 'dropout0')(x)\n",
    "\n",
    "x = Conv1D(128, 5, activation='relu', name = 'conv1')(x)\n",
    "\n",
    "x = MaxPooling1D(5 , name = 'max_pool1')(x)\n",
    "\n",
    "x = Conv1D(128, 5, activation='relu', name = 'conv2')(x)\n",
    "\n",
    "x = MaxPooling1D(35, name = 'global_max_pool')(x)  # global max pooling\n",
    "\n",
    "x = Flatten()(x) #reduce dimensions from 3 to 2; convert to vector + FULLYCONNECTED\n",
    "\n",
    "meta_input = Input(shape=(NB_METAVARS,), name='meta')\n",
    "meta_hidden = Dense(128, activation='relu', name = 'hidden_meta')(meta_input)\n",
    "meta_hidden = Dropout(0.2, name = 'dropout_meta')(meta_hidden)\n",
    "\n",
    "\n",
    "title_input = Input(shape=(titlex_train.shape[1],), name='titles')\n",
    "title_hidden = Dense(128, activation='relu', name = 'hidden_title')(title_input)\n",
    "title_hidden = Dropout(0.2, name = 'dropout_title')(title_hidden)\n",
    "\n",
    "desc_input = Input(shape=(descx_train.shape[1],), name='descs')\n",
    "desc_hidden = Dense(128, activation='relu', name = 'hidden_desc')(desc_input)\n",
    "desc_hidden = Dropout(0.2, name = 'dropout_desc')(desc_hidden)\n",
    "\n",
    "concatenated = concatenate([meta_hidden, title_hidden, desc_hidden, x])\n",
    "\n",
    "x = Dense(400, activation='relu', name = 'fully_connected0')(concatenated)\n",
    "\n",
    "x = Dropout(0.2, name = 'dropout1')(x)\n",
    "\n",
    "x = Dense(NB_CLASSES, activation='sigmoid', name = 'fully_connected1')(x)\n",
    "\n",
    "# # The Model class turns an input tensor and output tensor into a model\n",
    "# This creates Keras model instance, will use this instance to train/test the model.\n",
    "model = Model(inputs=[meta_input, title_input, desc_input, sequence_input], outputs=x)"
   ]
  },
  {
   "cell_type": "markdown",
   "metadata": {},
   "source": [
    "### 2. Compile model"
   ]
  },
  {
   "cell_type": "code",
   "execution_count": 112,
   "metadata": {},
   "outputs": [],
   "source": [
    "model.compile(loss=WeightedBinaryCrossEntropy(POS_RATIO),\n",
    "              optimizer='rmsprop',\n",
    "              metrics=['binary_accuracy', f1])"
   ]
  },
  {
   "cell_type": "markdown",
   "metadata": {},
   "source": [
    "Metric values are recorded at the end of each epoch on the training dataset. If a validation dataset is also provided, then the metric recorded is also calculated for the validation dataset.\n",
    "\n",
    "All metrics are reported in verbose output and in the history object returned from calling the fit() function. In both cases, the name of the metric function is used as the key for the metric values. In the case of metrics for the validation dataset, the “val_” prefix is added to the key."
   ]
  },
  {
   "cell_type": "markdown",
   "metadata": {},
   "source": [
    "You have now built a function to describe your model. To train and test this model, there are four steps in Keras:\n",
    "1. Create the model by calling the function above\n",
    "2. Compile the model by calling `model.compile(optimizer = \"...\", loss = \"...\", metrics = [\"accuracy\"])`\n",
    "3. Train the model on train data by calling `model.fit(x = ..., y = ..., epochs = ..., batch_size = ...)`\n",
    "4. Test the model on test data by calling `model.evaluate(x = ..., y = ...)`\n",
    "\n",
    "If you want to know more about `model.compile()`, `model.fit()`, `model.evaluate()` and their arguments, refer to the official [Keras documentation](https://keras.io/models/model/).\n"
   ]
  },
  {
   "cell_type": "code",
   "execution_count": 113,
   "metadata": {},
   "outputs": [
    {
     "name": "stdout",
     "output_type": "stream",
     "text": [
      "__________________________________________________________________________________________________\n",
      "Layer (type)                    Output Shape         Param #     Connected to                     \n",
      "==================================================================================================\n",
      "wordindex (InputLayer)          (None, 1000)         0                                            \n",
      "__________________________________________________________________________________________________\n",
      "embedding_1 (Embedding)         (None, 1000, 100)    19385200    wordindex[0][0]                  \n",
      "__________________________________________________________________________________________________\n",
      "dropout_embedded (Dropout)      (None, 1000, 100)    0           embedding_1[0][0]                \n",
      "__________________________________________________________________________________________________\n",
      "conv0 (Conv1D)                  (None, 996, 128)     64128       dropout_embedded[0][0]           \n",
      "__________________________________________________________________________________________________\n",
      "max_pool0 (MaxPooling1D)        (None, 199, 128)     0           conv0[0][0]                      \n",
      "__________________________________________________________________________________________________\n",
      "dropout0 (Dropout)              (None, 199, 128)     0           max_pool0[0][0]                  \n",
      "__________________________________________________________________________________________________\n",
      "conv1 (Conv1D)                  (None, 195, 128)     82048       dropout0[0][0]                   \n",
      "__________________________________________________________________________________________________\n",
      "max_pool1 (MaxPooling1D)        (None, 39, 128)      0           conv1[0][0]                      \n",
      "__________________________________________________________________________________________________\n",
      "meta (InputLayer)               (None, 429)          0                                            \n",
      "__________________________________________________________________________________________________\n",
      "titles (InputLayer)             (None, 10000)        0                                            \n",
      "__________________________________________________________________________________________________\n",
      "descs (InputLayer)              (None, 10000)        0                                            \n",
      "__________________________________________________________________________________________________\n",
      "conv2 (Conv1D)                  (None, 35, 128)      82048       max_pool1[0][0]                  \n",
      "__________________________________________________________________________________________________\n",
      "hidden_meta (Dense)             (None, 128)          55040       meta[0][0]                       \n",
      "__________________________________________________________________________________________________\n",
      "hidden_title (Dense)            (None, 128)          1280128     titles[0][0]                     \n",
      "__________________________________________________________________________________________________\n",
      "hidden_desc (Dense)             (None, 128)          1280128     descs[0][0]                      \n",
      "__________________________________________________________________________________________________\n",
      "global_max_pool (MaxPooling1D)  (None, 1, 128)       0           conv2[0][0]                      \n",
      "__________________________________________________________________________________________________\n",
      "dropout_meta (Dropout)          (None, 128)          0           hidden_meta[0][0]                \n",
      "__________________________________________________________________________________________________\n",
      "dropout_title (Dropout)         (None, 128)          0           hidden_title[0][0]               \n",
      "__________________________________________________________________________________________________\n",
      "dropout_desc (Dropout)          (None, 128)          0           hidden_desc[0][0]                \n",
      "__________________________________________________________________________________________________\n",
      "flatten_1 (Flatten)             (None, 128)          0           global_max_pool[0][0]            \n",
      "__________________________________________________________________________________________________\n",
      "concatenate_1 (Concatenate)     (None, 512)          0           dropout_meta[0][0]               \n",
      "                                                                 dropout_title[0][0]              \n",
      "                                                                 dropout_desc[0][0]               \n",
      "                                                                 flatten_1[0][0]                  \n",
      "__________________________________________________________________________________________________\n",
      "fully_connected0 (Dense)        (None, 400)          205200      concatenate_1[0][0]              \n",
      "__________________________________________________________________________________________________\n",
      "dropout1 (Dropout)              (None, 400)          0           fully_connected0[0][0]           \n",
      "__________________________________________________________________________________________________\n",
      "fully_connected1 (Dense)        (None, 187)          74987       dropout1[0][0]                   \n",
      "==================================================================================================\n",
      "Total params: 22,508,907\n",
      "Trainable params: 22,508,907\n",
      "Non-trainable params: 0\n",
      "__________________________________________________________________________________________________\n"
     ]
    }
   ],
   "source": [
    "model.summary()"
   ]
  },
  {
   "cell_type": "markdown",
   "metadata": {},
   "source": [
    "### Tensorboard callbacks /metrics /monitor training"
   ]
  },
  {
   "cell_type": "markdown",
   "metadata": {},
   "source": [
    "<span style=\"color:red\"> **Size of these files is killing storage during training. Is it histograms?**</span>"
   ]
  },
  {
   "cell_type": "code",
   "execution_count": 114,
   "metadata": {},
   "outputs": [],
   "source": [
    "tb = TensorBoard(log_dir='./learn_embedding_logs', histogram_freq=1, write_graph=True, write_images=False)"
   ]
  },
  {
   "cell_type": "code",
   "execution_count": 115,
   "metadata": {},
   "outputs": [],
   "source": [
    "CHECKPOINT_PATH = os.path.join(DATADIR, 'model_checkpoint.hdf5')\n",
    "\n",
    "cp = ModelCheckpoint(\n",
    "                     filepath = CHECKPOINT_PATH, \n",
    "                     monitor='val_loss', \n",
    "                     verbose=0, \n",
    "                     save_best_only=False, \n",
    "                     save_weights_only=False, \n",
    "                     mode='auto', \n",
    "                     period=1\n",
    "                    )"
   ]
  },
  {
   "cell_type": "code",
   "execution_count": 53,
   "metadata": {},
   "outputs": [],
   "source": [
    "# class Metrics(Callback):\n",
    "#     def on_train_begin(self, logs={}):\n",
    "#         self.val_f1s = []\n",
    "#         self.val_recalls = []\n",
    "#         self.val_precisions = []\n",
    " \n",
    "#     def on_epoch_end(self, epoch, logs={}):\n",
    "#         val_predict = (np.asarray(self.model.predict(self.model.validation_data[0]))).round()\n",
    "#         val_targ = self.model.validation_data[1]\n",
    "        \n",
    "#         self.val_f1s.append(f1_score(val_targ, val_predict, average='micro'))\n",
    "#         self.val_recalls.append(recall_score(val_targ, val_predict))\n",
    "#         self.val_precisions.append(precision_score(val_targ, val_predict))\n",
    "#         print(\"- val_f1: %f — val_precision: %f — val_recall %f\" \n",
    "#                 %(f1_score(val_targ, val_predict, average='micro'), \n",
    "#                   precision_score(val_targ, val_predict),\n",
    "#                    recall_score(val_targ, val_predict)))\n",
    "#         return\n",
    " \n",
    "# metrics = Metrics()"
   ]
  },
  {
   "cell_type": "code",
   "execution_count": 116,
   "metadata": {},
   "outputs": [],
   "source": [
    "from keras.callbacks import EarlyStopping\n",
    "early_stopping = EarlyStopping(monitor='val_loss', patience=2)\n",
    "#model.fit(x, y, validation_split=0.2, callbacks=[early_stopping])"
   ]
  },
  {
   "cell_type": "markdown",
   "metadata": {},
   "source": [
    "### 3. Train model"
   ]
  },
  {
   "cell_type": "code",
   "execution_count": 118,
   "metadata": {},
   "outputs": [
    {
     "name": "stdout",
     "output_type": "stream",
     "text": [
      "Train on 73417 samples, validate on 9177 samples\n",
      "Epoch 1/10\n",
      "73417/73417 [==============================] - 885s 12ms/step - loss: 0.0123 - binary_accuracy: 0.9933 - f1: nan - val_loss: 0.0063 - val_binary_accuracy: 0.9960 - val_f1: 0.6892\n",
      "Epoch 2/10\n",
      "73417/73417 [==============================] - 890s 12ms/step - loss: 0.0056 - binary_accuracy: 0.9964 - f1: 0.7305 - val_loss: 0.0053 - val_binary_accuracy: 0.9965 - val_f1: 0.7469\n",
      "Epoch 3/10\n",
      "73417/73417 [==============================] - 831s 11ms/step - loss: 0.0046 - binary_accuracy: 0.9970 - f1: 0.7820 - val_loss: 0.0050 - val_binary_accuracy: 0.9968 - val_f1: 0.7661\n",
      "Epoch 4/10\n",
      "73417/73417 [==============================] - 815s 11ms/step - loss: 0.0040 - binary_accuracy: 0.9974 - f1: 0.8131 - val_loss: 0.0049 - val_binary_accuracy: 0.9968 - val_f1: 0.7747\n",
      "Epoch 5/10\n",
      "73417/73417 [==============================] - 829s 11ms/step - loss: 0.0036 - binary_accuracy: 0.9976 - f1: 0.8341 - val_loss: 0.0049 - val_binary_accuracy: 0.9968 - val_f1: 0.7795\n",
      "Epoch 6/10\n",
      "73417/73417 [==============================] - 828s 11ms/step - loss: 0.0032 - binary_accuracy: 0.9978 - f1: 0.8500 - val_loss: 0.0050 - val_binary_accuracy: 0.9969 - val_f1: 0.7847\n",
      "Epoch 7/10\n",
      "73417/73417 [==============================] - 823s 11ms/step - loss: 0.0029 - binary_accuracy: 0.9981 - f1: 0.8656 - val_loss: 0.0051 - val_binary_accuracy: 0.9969 - val_f1: 0.7850\n"
     ]
    }
   ],
   "source": [
    "# metrics callback causes: CCCCCCR55555555511155\n",
    "# So disable for now\n",
    "\n",
    "history = model.fit(\n",
    "    {'meta': metax_train, 'titles': titlex_train, 'descs': descx_train, 'wordindex': x_train},\n",
    "    y_train, \n",
    "    validation_data=([metax_dev, titlex_dev, descx_dev, x_dev], y_dev), \n",
    "    epochs=10, batch_size=128, callbacks=[early_stopping]\n",
    ")"
   ]
  },
  {
   "cell_type": "code",
   "execution_count": 119,
   "metadata": {},
   "outputs": [
    {
     "data": {
      "text/plain": [
       "dict_keys(['val_f1', 'loss', 'binary_accuracy', 'val_binary_accuracy', 'val_loss', 'f1'])"
      ]
     },
     "execution_count": 119,
     "metadata": {},
     "output_type": "execute_result"
    }
   ],
   "source": [
    "history_dict = history.history\n",
    "history_dict.keys()"
   ]
  },
  {
   "cell_type": "code",
   "execution_count": 122,
   "metadata": {},
   "outputs": [
    {
     "data": {
      "image/png": "[encoded data removed]",
      "text/plain": [
       "<matplotlib.figure.Figure at 0x155bdb320>"
      ]
     },
     "metadata": {},
     "output_type": "display_data"
    }
   ],
   "source": [
    "loss_values = history_dict['loss']\n",
    "val_loss_values = history_dict['val_loss']\n",
    "\n",
    "epochs = range(1, 8)\n",
    "\n",
    "plt.plot(epochs, loss_values, 'bo', label='Training loss')           \n",
    "plt.plot(epochs, val_loss_values, 'b', label='Validation loss')      \n",
    "plt.title('Training and validation loss')\n",
    "plt.xlabel('Epochs')\n",
    "plt.ylabel('Loss')\n",
    "plt.legend()\n",
    "\n",
    "plt.show()"
   ]
  },
  {
   "cell_type": "code",
   "execution_count": 123,
   "metadata": {},
   "outputs": [
    {
     "data": {
      "image/png": "[encoded data removed]",
      "text/plain": [
       "<matplotlib.figure.Figure at 0x154759dd8>"
      ]
     },
     "metadata": {},
     "output_type": "display_data"
    }
   ],
   "source": [
    "plt.clf()    \n",
    "\n",
    "f1_values = history_dict['f1']\n",
    "val_f1_values = history_dict['val_f1']\n",
    "\n",
    "plt.plot(epochs, f1_values, 'bo', label='Training f1')\n",
    "plt.plot(epochs, val_f1_values, 'b', label='Validation f1')\n",
    "plt.title('Training and validation batch-level f1-micro')\n",
    "plt.xlabel('Epochs')\n",
    "plt.ylabel('F1-micro')\n",
    "plt.legend()\n",
    "\n",
    "plt.show()"
   ]
  },
  {
   "cell_type": "markdown",
   "metadata": {},
   "source": [
    "### Evaluate model"
   ]
  },
  {
   "cell_type": "markdown",
   "metadata": {},
   "source": [
    "#### Training metrics"
   ]
  },
  {
   "cell_type": "code",
   "execution_count": 124,
   "metadata": {},
   "outputs": [],
   "source": [
    "y_prob = model.predict([metax_train, titlex_train, descx_train, x_train])"
   ]
  },
  {
   "cell_type": "code",
   "execution_count": 125,
   "metadata": {},
   "outputs": [
    {
     "data": {
      "text/plain": [
       "(73417, 187)"
      ]
     },
     "execution_count": 125,
     "metadata": {},
     "output_type": "execute_result"
    }
   ],
   "source": [
    "y_prob.shape"
   ]
  },
  {
   "cell_type": "code",
   "execution_count": 126,
   "metadata": {},
   "outputs": [],
   "source": [
    "y_pred = y_prob.copy()\n",
    "y_pred[y_pred>=P_THRESHOLD] = 1\n",
    "y_pred[y_pred<P_THRESHOLD] = 0"
   ]
  },
  {
   "cell_type": "code",
   "execution_count": 127,
   "metadata": {},
   "outputs": [
    {
     "data": {
      "text/plain": [
       "0.90491073845654069"
      ]
     },
     "execution_count": 127,
     "metadata": {},
     "output_type": "execute_result"
    }
   ],
   "source": [
    "f1_score(y_train, y_pred, average='micro')"
   ]
  },
  {
   "cell_type": "code",
   "execution_count": 128,
   "metadata": {},
   "outputs": [
    {
     "name": "stderr",
     "output_type": "stream",
     "text": [
      "/Users/ellieking/Documents/tag_tax/govuk-taxonomy-supervised-learning/tax_SL/lib/python3.4/site-packages/sklearn/metrics/classification.py:1135: UndefinedMetricWarning: Precision and F-score are ill-defined and being set to 0.0 in labels with no predicted samples.\n",
      "  'precision', 'predicted', average, warn_for)\n"
     ]
    },
    {
     "data": {
      "text/plain": [
       "(array([ 0.        ,  1.        ,  0.97560976,  1.        ,  0.        ,\n",
       "         0.72580645,  0.        ,  0.95298602,  0.        ,  0.        ,\n",
       "         0.93582888,  0.        ,  0.        ,  0.94516129,  0.95192308,\n",
       "         0.        ,  0.        ,  0.83072917,  0.94641643,  0.89597781,\n",
       "         0.93568583,  0.        ,  0.        ,  0.        ,  0.        ,\n",
       "         0.95652174,  0.89534884,  0.91803279,  0.        ,  0.90272374,\n",
       "         0.94141183,  0.96756757,  0.93153527,  0.77777778,  0.96590909,\n",
       "         0.94698355,  0.94602273,  0.        ,  0.        ,  0.91791045,\n",
       "         0.        ,  0.96296296,  0.94564349,  0.        ,  0.        ,\n",
       "         0.        ,  0.        ,  0.        ,  0.91167192,  0.84848485,\n",
       "         0.93679245,  0.9125    ,  0.        ,  0.93023256,  0.89966555,\n",
       "         0.        ,  0.94398183,  0.        ,  0.9375    ,  0.95945946,\n",
       "         1.        ,  0.        ,  0.87637363,  0.91015625,  0.96702002,\n",
       "         0.93202223,  0.95130087,  0.90666667,  0.94117647,  0.9795047 ,\n",
       "         0.94551646,  0.89820359,  0.        ,  1.        ,  0.96610169,\n",
       "         0.        ,  0.94620743,  0.96234138,  0.91494845,  1.        ,\n",
       "         0.87735849,  0.9707751 ,  0.95766423,  0.84745763,  0.        ,\n",
       "         0.83838384,  1.        ,  0.94561934,  0.        ,  1.        ,\n",
       "         0.94495413,  0.        ,  0.96969697,  0.98181818,  0.        ,\n",
       "         0.        ,  0.        ,  1.        ,  0.93169093,  0.93518519,\n",
       "         0.83240223,  0.93150685,  0.89320388,  0.96689895,  0.97178683,\n",
       "         0.        ,  0.90506329,  0.79464286,  0.        ,  0.        ,\n",
       "         0.        ,  0.        ,  1.        ,  0.89900143,  0.95454545,\n",
       "         0.91203958,  0.9457672 ,  1.        ,  0.        ,  0.        ,\n",
       "         1.        ,  0.93386243,  0.94719472,  0.        ,  0.91666667,\n",
       "         0.92428198,  0.78787879,  0.96551724,  0.        ,  0.        ,\n",
       "         0.97791798,  0.        ,  0.98726115,  0.95533981,  0.90305206,\n",
       "         0.91025641,  0.        ,  0.91746641,  0.97760211,  0.96168295,\n",
       "         0.85263158,  0.94623656,  0.94594595,  0.96111111,  0.9749702 ,\n",
       "         0.94464945,  0.        ,  0.        ,  0.        ,  0.92714454,\n",
       "         0.94666667,  0.94849785,  0.        ,  0.84615385,  1.        ,\n",
       "         0.94262295,  0.        ,  0.94871795,  0.953125  ,  0.96830601,\n",
       "         0.        ,  0.95555556,  0.95859053,  0.94285714,  0.96181818,\n",
       "         1.        ,  0.        ,  0.        ,  0.        ,  0.97826087,\n",
       "         0.        ,  0.90411622,  0.        ,  0.84745763,  1.        ,\n",
       "         0.95575221,  0.89041096,  0.97478434,  0.9462572 ,  0.89735099,\n",
       "         0.        ,  0.92269504,  0.9137931 ,  0.        ,  0.        ,\n",
       "         1.        ,  0.94996426]),\n",
       " array([ 0.        ,  0.29090909,  0.57971014,  0.73076923,  0.        ,\n",
       "         0.6       ,  0.        ,  0.87108014,  0.        ,  0.        ,\n",
       "         0.86633663,  0.        ,  0.        ,  0.81388889,  0.66442953,\n",
       "         0.        ,  0.        ,  0.94007859,  0.89851517,  0.90794097,\n",
       "         0.95083864,  0.        ,  0.        ,  0.        ,  0.        ,\n",
       "         0.62857143,  0.9625    ,  0.85496183,  0.        ,  0.81118881,\n",
       "         0.90444811,  0.81363636,  0.82294721,  0.27631579,  0.69105691,\n",
       "         0.76514032,  0.78909953,  0.        ,  0.        ,  0.62755102,\n",
       "         0.        ,  0.81761006,  0.91634392,  0.        ,  0.        ,\n",
       "         0.        ,  0.        ,  0.        ,  0.97525309,  0.36363636,\n",
       "         0.84871795,  0.6952381 ,  0.        ,  0.63492063,  0.7369863 ,\n",
       "         0.        ,  0.79528061,  0.        ,  0.42857143,  0.57723577,\n",
       "         0.56097561,  0.        ,  0.82005141,  0.97083333,  0.96930342,\n",
       "         0.94087182,  0.92238034,  0.88888889,  0.59259259,  0.93100649,\n",
       "         0.91728863,  0.72916667,  0.        ,  0.80952381,  0.7972028 ,\n",
       "         0.        ,  0.91470258,  0.91407465,  0.91025641,  0.11111111,\n",
       "         0.84162896,  0.9009434 ,  0.93536122,  0.5952381 ,  0.        ,\n",
       "         0.65354331,  0.14705882,  0.90724638,  0.        ,  0.54545455,\n",
       "         0.91150442,  0.        ,  0.69565217,  1.        ,  0.        ,\n",
       "         0.        ,  0.        ,  0.22      ,  0.88841431,  0.88081395,\n",
       "         0.78010471,  0.5483871 ,  0.85981308,  0.92964824,  0.98516949,\n",
       "         0.        ,  0.7761194 ,  0.92708333,  0.        ,  0.        ,\n",
       "         0.        ,  0.        ,  0.82142857,  0.91465893,  0.3442623 ,\n",
       "         0.90507365,  0.9119898 ,  0.63380282,  0.        ,  0.        ,\n",
       "         0.09375   ,  0.84047619,  0.90393701,  0.        ,  0.91559203,\n",
       "         0.90076336,  0.8125    ,  0.7       ,  0.        ,  0.        ,\n",
       "         0.93243869,  0.        ,  0.71759259,  0.96945813,  0.81921824,\n",
       "         0.66981132,  0.        ,  0.9372549 ,  0.86783626,  0.88215024,\n",
       "         0.91011236,  0.79279279,  0.83333333,  0.96570973,  0.91040623,\n",
       "         0.89824561,  0.        ,  0.        ,  0.        ,  0.79296482,\n",
       "         0.80681818,  0.80656934,  0.        ,  0.51162791,  0.79220779,\n",
       "         0.68047337,  0.        ,  0.64912281,  0.61      ,  0.94759358,\n",
       "         0.        ,  0.51807229,  0.92298167,  0.67346939,  0.91049914,\n",
       "         0.8       ,  0.        ,  0.        ,  0.        ,  0.97826087,\n",
       "         0.        ,  0.81694866,  0.        ,  0.58823529,  0.19607843,\n",
       "         0.84375   ,  0.75581395,  0.96963696,  0.9172093 ,  0.80895522,\n",
       "         0.        ,  0.92073602,  0.73611111,  0.        ,  0.        ,\n",
       "         0.80952381,  0.9722019 ]),\n",
       " array([ 0.        ,  0.45070423,  0.72727273,  0.84444444,  0.        ,\n",
       "         0.65693431,  0.        ,  0.91019417,  0.        ,  0.        ,\n",
       "         0.89974293,  0.        ,  0.        ,  0.87462687,  0.7826087 ,\n",
       "         0.        ,  0.        ,  0.88202765,  0.92184395,  0.90191972,\n",
       "         0.94320138,  0.        ,  0.        ,  0.        ,  0.        ,\n",
       "         0.75862069,  0.92771084,  0.88537549,  0.        ,  0.85451197,\n",
       "         0.92255987,  0.88395062,  0.87388089,  0.40776699,  0.8056872 ,\n",
       "         0.84640523,  0.86046512,  0.        ,  0.        ,  0.74545455,\n",
       "         0.        ,  0.88435374,  0.93076318,  0.        ,  0.        ,\n",
       "         0.        ,  0.        ,  0.        ,  0.9423913 ,  0.50909091,\n",
       "         0.89058296,  0.78918919,  0.        ,  0.75471698,  0.81024096,\n",
       "         0.        ,  0.86327449,  0.        ,  0.58823529,  0.72081218,\n",
       "         0.71875   ,  0.        ,  0.84727756,  0.93951613,  0.96816038,\n",
       "         0.93642612,  0.93661741,  0.89768977,  0.72727273,  0.95464003,\n",
       "         0.93118867,  0.80490609,  0.        ,  0.89473684,  0.87356322,\n",
       "         0.        ,  0.93018832,  0.93758724,  0.9125964 ,  0.2       ,\n",
       "         0.8591224 ,  0.93455657,  0.94638134,  0.6993007 ,  0.        ,\n",
       "         0.73451327,  0.25641026,  0.9260355 ,  0.        ,  0.70588235,\n",
       "         0.92792793,  0.        ,  0.81012658,  0.99082569,  0.        ,\n",
       "         0.        ,  0.        ,  0.36065574,  0.90953813,  0.90718563,\n",
       "         0.80540541,  0.69035533,  0.87619048,  0.94790777,  0.9784324 ,\n",
       "         0.        ,  0.83564646,  0.85576923,  0.        ,  0.        ,\n",
       "         0.        ,  0.        ,  0.90196078,  0.90676259,  0.5060241 ,\n",
       "         0.90854326,  0.92857143,  0.77586207,  0.        ,  0.        ,\n",
       "         0.17142857,  0.88471178,  0.92506044,  0.        ,  0.91612903,\n",
       "         0.91237113,  0.8       ,  0.8115942 ,  0.        ,  0.        ,\n",
       "         0.95463698,  0.        ,  0.8310992 ,  0.96234719,  0.85909479,\n",
       "         0.77173913,  0.        ,  0.92725509,  0.91945477,  0.92020129,\n",
       "         0.88043478,  0.8627451 ,  0.88607595,  0.96340493,  0.94158273,\n",
       "         0.92086331,  0.        ,  0.        ,  0.        ,  0.85482124,\n",
       "         0.87116564,  0.87179487,  0.        ,  0.63768116,  0.88405797,\n",
       "         0.79037801,  0.        ,  0.77083333,  0.74390244,  0.95783784,\n",
       "         0.        ,  0.671875  ,  0.94044915,  0.78571429,  0.93545535,\n",
       "         0.88888889,  0.        ,  0.        ,  0.        ,  0.97826087,\n",
       "         0.        ,  0.85832503,  0.        ,  0.69444444,  0.32786885,\n",
       "         0.89626556,  0.81761006,  0.97220384,  0.93150685,  0.85086342,\n",
       "         0.        ,  0.92171449,  0.81538462,  0.        ,  0.        ,\n",
       "         0.89473684,  0.96095445]),\n",
       " array([   9,   55,   69,   52,   13,   75,   13,  861,   23,   13,  202,\n",
       "          25,   15,  360,  149,   11,   10, 1018, 7745, 1423, 1729,   28,\n",
       "          19,   19,   31,  105,   80,  131,   39,  286, 3642,  220, 2728,\n",
       "          76,  123,  677,  422,   28,   37,  196,   52,  159, 1291,    7,\n",
       "          28,   50,   36,   16,  889,   77, 1170,  105,   28,   63,  365,\n",
       "           9, 1568,    9,   70,  123,   41,   48,  389,  240,  847, 2317,\n",
       "        1546,  153,   81, 1232, 8173, 1440,   39,   42,  143,   10, 2673,\n",
       "        2572,  390,   54,  221,  848, 2104,   84,   17,  127,   34,  345,\n",
       "          10,   44,  113,   16,   46,  108,   29,   17,   12,   50, 1873,\n",
       "         344,  191,  124,  107,  597,  944,   28,  737,   96,    6,    7,\n",
       "          24,    6,   28, 3445,   61, 1833,  784,   71,   14,   28,   32,\n",
       "         420,  635,   28,  853,  393,   64,   40,   14,   16, 4322,   12,\n",
       "         216, 1015,  614,  106,   29,  510,  855, 1451,  356,  111,  420,\n",
       "        1254, 1797,  570,   16,   56,   13,  995,  176,  548,   37,   43,\n",
       "          77,  169,   89,   57,  100,  935,   39,   83, 4038,   49,  581,\n",
       "          45,   31,   18,   23,  736,   20, 6856,   16,  170,   51,  128,\n",
       "          86, 1515, 1075,  335,   28, 1413,  144,   15,   25,   42, 1367]))"
      ]
     },
     "execution_count": 128,
     "metadata": {},
     "output_type": "execute_result"
    }
   ],
   "source": [
    "#average= None, the scores for each class are returned.\n",
    "precision_recall_fscore_support(y_train, y_pred, average=None, sample_weight=None)"
   ]
  },
  {
   "cell_type": "code",
   "execution_count": null,
   "metadata": {},
   "outputs": [],
   "source": [
    "a = precision_recall_fscore_support(y_train, y_pred, average=None, sample_weight=None)"
   ]
  },
  {
   "cell_type": "code",
   "execution_count": null,
   "metadata": {},
   "outputs": [],
   "source": [
    "pd.DataFrame(list(a))"
   ]
  },
  {
   "cell_type": "code",
   "execution_count": null,
   "metadata": {},
   "outputs": [],
   "source": [
    "f1_byclass = pd.DataFrame((a)[2], columns=['f1'])\n"
   ]
  },
  {
   "cell_type": "code",
   "execution_count": null,
   "metadata": {},
   "outputs": [],
   "source": [
    "support_byclass = pd.DataFrame((a)[3], columns=['support'])\n",
    "\n",
    "f1_byclass = pd.merge(\n",
    "    left=f1_byclass, \n",
    "    right=support_byclass, \n",
    "    left_index=True,\n",
    "    right_index=True,\n",
    "    how='outer', \n",
    "    validate='one_to_one'\n",
    ")\n",
    "\n",
    "f1_byclass['index_col'] = f1_byclass.index"
   ]
  },
  {
   "cell_type": "code",
   "execution_count": null,
   "metadata": {},
   "outputs": [],
   "source": [
    "f1_byclass['level2taxon'] = f1_byclass['index_col'].map(labels_index).copy()"
   ]
  },
  {
   "cell_type": "code",
   "execution_count": null,
   "metadata": {},
   "outputs": [],
   "source": [
    "print(\"At p_threshold of {}, there were {} out of {} ({})% taxons with auto-tagged content in the training data\"\n",
    "      .format(P_THRESHOLD, \n",
    "              f1_byclass.loc[f1_byclass['f1'] > 0].shape[0], \n",
    "              y_pred.shape[1], \n",
    "              (f1_byclass.loc[f1_byclass['f1'] > 0].shape[0]/y_pred.shape[1])*100 ))"
   ]
  },
  {
   "cell_type": "code",
   "execution_count": null,
   "metadata": {},
   "outputs": [],
   "source": [
    "no_auto_content = f1_byclass.loc[f1_byclass['f1'] == 0]\n",
    "no_auto_content = no_auto_content.set_index('level2taxon')"
   ]
  },
  {
   "cell_type": "code",
   "execution_count": null,
   "metadata": {},
   "outputs": [],
   "source": [
    "no_auto_content['support'].sort_values().plot( kind = 'barh', figsize=(20, 20))"
   ]
  },
  {
   "cell_type": "code",
   "execution_count": null,
   "metadata": {},
   "outputs": [],
   "source": [
    "classes_predictedto = f1_byclass.loc[f1_byclass['f1'] > 0]\n",
    "classes_predictedto = classes_predictedto.set_index('level2taxon') "
   ]
  },
  {
   "cell_type": "code",
   "execution_count": null,
   "metadata": {},
   "outputs": [],
   "source": [
    "classes_predictedto.plot.scatter(x='support', y='f1', figsize=(20, 10), xticks=np.arange(0, 9700, 100))"
   ]
  },
  {
   "cell_type": "code",
   "execution_count": null,
   "metadata": {},
   "outputs": [],
   "source": [
    "classes_predictedto['f1'].sort_values().plot( kind = 'barh', figsize=(20, 20))"
   ]
  },
  {
   "cell_type": "code",
   "execution_count": null,
   "metadata": {},
   "outputs": [],
   "source": [
    "#Calculate globally by counting the total true positives, false negatives and false positives.\n",
    "precision_recall_fscore_support(y_train, y_pred, average='micro', sample_weight=None) "
   ]
  },
  {
   "cell_type": "code",
   "execution_count": null,
   "metadata": {},
   "outputs": [],
   "source": [
    "#Calculate metrics for each label, and find their unweighted mean. This does not take label imbalance into account\n",
    "precision_recall_fscore_support(y_train, y_pred, average='macro', sample_weight=None)"
   ]
  },
  {
   "cell_type": "markdown",
   "metadata": {},
   "source": [
    "#### Development set metrics"
   ]
  },
  {
   "cell_type": "code",
   "execution_count": 129,
   "metadata": {},
   "outputs": [],
   "source": [
    "y_pred_dev = model.predict([metax_dev, titlex_dev, descx_dev, x_dev])"
   ]
  },
  {
   "cell_type": "code",
   "execution_count": 130,
   "metadata": {},
   "outputs": [],
   "source": [
    "y_pred_dev[y_pred_dev>=P_THRESHOLD] = 1\n",
    "y_pred_dev[y_pred_dev<P_THRESHOLD] = 0"
   ]
  },
  {
   "cell_type": "code",
   "execution_count": 131,
   "metadata": {},
   "outputs": [
    {
     "name": "stderr",
     "output_type": "stream",
     "text": [
      "/Users/ellieking/Documents/tag_tax/govuk-taxonomy-supervised-learning/tax_SL/lib/python3.4/site-packages/sklearn/metrics/classification.py:1135: UndefinedMetricWarning: Precision and F-score are ill-defined and being set to 0.0 in labels with no predicted samples.\n",
      "  'precision', 'predicted', average, warn_for)\n",
      "/Users/ellieking/Documents/tag_tax/govuk-taxonomy-supervised-learning/tax_SL/lib/python3.4/site-packages/sklearn/metrics/classification.py:1137: UndefinedMetricWarning: Recall and F-score are ill-defined and being set to 0.0 in labels with no true samples.\n",
      "  'recall', 'true', average, warn_for)\n"
     ]
    },
    {
     "data": {
      "text/plain": [
       "(array([ 0.        ,  1.        ,  1.        ,  0.        ,  0.        ,\n",
       "         1.        ,  0.        ,  0.88043478,  0.        ,  0.        ,\n",
       "         0.70833333,  0.        ,  0.        ,  0.65625   ,  0.625     ,\n",
       "         0.        ,  0.        ,  0.68666667,  0.86583991,  0.65263158,\n",
       "         0.8558952 ,  0.        ,  0.        ,  0.        ,  0.        ,\n",
       "         1.        ,  0.75      ,  0.85714286,  0.        ,  0.70967742,\n",
       "         0.83505155,  0.76470588,  0.82022472,  0.        ,  1.        ,\n",
       "         0.75      ,  0.85714286,  0.        ,  0.        ,  0.6875    ,\n",
       "         0.        ,  1.        ,  0.81944444,  0.        ,  0.        ,\n",
       "         0.        ,  0.        ,  0.        ,  0.85271318,  1.        ,\n",
       "         0.76153846,  0.66666667,  0.        ,  0.77777778,  0.5       ,\n",
       "         0.        ,  0.80851064,  0.        ,  1.        ,  0.        ,\n",
       "         1.        ,  0.        ,  0.61764706,  0.73913043,  0.94117647,\n",
       "         0.8041958 ,  0.79532164,  0.73684211,  1.        ,  0.88059701,\n",
       "         0.88155136,  0.79487179,  0.        ,  1.        ,  0.77777778,\n",
       "         0.        ,  0.90759076,  0.85507246,  0.75      ,  0.        ,\n",
       "         0.61111111,  0.88764045,  0.92164179,  0.5       ,  0.        ,\n",
       "         0.72727273,  0.        ,  0.82352941,  0.        ,  0.        ,\n",
       "         0.90909091,  0.        ,  1.        ,  0.83333333,  0.        ,\n",
       "         0.        ,  0.        ,  0.        ,  0.84615385,  0.85      ,\n",
       "         0.8       ,  1.        ,  0.81818182,  0.96      ,  0.90769231,\n",
       "         0.        ,  0.69117647,  0.53333333,  0.        ,  0.        ,\n",
       "         0.        ,  0.        ,  1.        ,  0.78833693,  1.        ,\n",
       "         0.75586854,  0.92857143,  0.8       ,  0.        ,  0.        ,\n",
       "         0.        ,  0.72972973,  0.80769231,  0.        ,  0.76851852,\n",
       "         0.73913043,  0.25      ,  0.        ,  0.        ,  0.        ,\n",
       "         0.95436508,  0.        ,  0.85714286,  0.86231884,  0.56060606,\n",
       "         0.66666667,  0.        ,  0.77966102,  0.80952381,  0.82317073,\n",
       "         0.79545455,  0.8       ,  0.91666667,  0.86666667,  0.9119171 ,\n",
       "         0.82352941,  0.        ,  0.        ,  0.        ,  0.71264368,\n",
       "         0.83333333,  0.88888889,  0.        ,  1.        ,  1.        ,\n",
       "         0.69230769,  0.        ,  0.75      ,  1.        ,  0.96638655,\n",
       "         0.        ,  1.        ,  0.82167043,  0.75      ,  0.91071429,\n",
       "         1.        ,  0.        ,  0.        ,  0.        ,  0.95918367,\n",
       "         0.        ,  0.76850606,  0.        ,  0.6       ,  1.        ,\n",
       "         0.85714286,  0.7       ,  0.93193717,  0.75630252,  0.60869565,\n",
       "         0.        ,  0.80813953,  0.61538462,  0.        ,  0.        ,\n",
       "         0.        ,  0.90104167]),\n",
       " array([ 0.        ,  0.33333333,  0.33333333,  0.        ,  0.        ,\n",
       "         0.2       ,  0.        ,  0.73636364,  0.        ,  0.        ,\n",
       "         0.85      ,  0.        ,  0.        ,  0.58333333,  0.27777778,\n",
       "         0.        ,  0.        ,  0.88034188,  0.80250784,  0.70857143,\n",
       "         0.92018779,  0.        ,  0.        ,  0.        ,  0.        ,\n",
       "         0.57142857,  0.66666667,  0.70588235,  0.        ,  0.66666667,\n",
       "         0.77884615,  0.56521739,  0.65568862,  0.        ,  0.57142857,\n",
       "         0.53571429,  0.52631579,  0.        ,  0.        ,  0.42307692,\n",
       "         0.        ,  0.625     ,  0.74683544,  0.        ,  0.        ,\n",
       "         0.        ,  0.        ,  0.        ,  0.85271318,  0.25      ,\n",
       "         0.64285714,  0.36363636,  0.        ,  0.7       ,  0.38888889,\n",
       "         0.        ,  0.61621622,  0.        ,  0.6       ,  0.        ,\n",
       "         0.25      ,  0.        ,  0.67741935,  0.85      ,  0.89719626,\n",
       "         0.83032491,  0.70466321,  0.875     ,  0.16666667,  0.80821918,\n",
       "         0.83349851,  0.58490566,  0.        ,  0.625     ,  0.51851852,\n",
       "         0.        ,  0.81360947,  0.76872964,  0.70588235,  0.        ,\n",
       "         0.28947368,  0.73831776,  0.84879725,  0.22222222,  0.        ,\n",
       "         0.47058824,  0.        ,  0.66666667,  0.        ,  0.        ,\n",
       "         0.76923077,  0.        ,  0.33333333,  1.        ,  0.        ,\n",
       "         0.        ,  0.        ,  0.        ,  0.77593361,  0.73913043,\n",
       "         0.74074074,  0.08333333,  0.64285714,  0.88888889,  0.9516129 ,\n",
       "         0.        ,  0.57317073,  0.66666667,  0.        ,  0.        ,\n",
       "         0.        ,  0.        ,  1.        ,  0.81838565,  0.22222222,\n",
       "         0.68803419,  0.79130435,  0.5       ,  0.        ,  0.        ,\n",
       "         0.        ,  0.62790698,  0.77777778,  0.        ,  0.74107143,\n",
       "         0.73913043,  0.2       ,  0.        ,  0.        ,  0.        ,\n",
       "         0.86666667,  0.        ,  0.41860465,  0.90151515,  0.56060606,\n",
       "         0.33333333,  0.        ,  0.77966102,  0.66019417,  0.73770492,\n",
       "         0.81395349,  0.61538462,  0.61111111,  0.8540146 ,  0.7753304 ,\n",
       "         0.73684211,  0.        ,  0.        ,  0.        ,  0.46268657,\n",
       "         0.625     ,  0.61538462,  0.        ,  0.16666667,  1.        ,\n",
       "         0.375     ,  0.        ,  1.        ,  0.4       ,  0.87121212,\n",
       "         0.        ,  0.1875    ,  0.79475983,  0.33333333,  0.68      ,\n",
       "         0.54545455,  0.        ,  0.        ,  0.        ,  0.94      ,\n",
       "         0.        ,  0.66087963,  0.        ,  0.25      ,  0.33333333,\n",
       "         0.6       ,  0.63636364,  0.92227979,  0.71428571,  0.35      ,\n",
       "         0.        ,  0.75956284,  0.61538462,  0.        ,  0.        ,\n",
       "         0.        ,  0.94535519]),\n",
       " array([ 0.        ,  0.5       ,  0.5       ,  0.        ,  0.        ,\n",
       "         0.33333333,  0.        ,  0.8019802 ,  0.        ,  0.        ,\n",
       "         0.77272727,  0.        ,  0.        ,  0.61764706,  0.38461538,\n",
       "         0.        ,  0.        ,  0.77153558,  0.8329718 ,  0.67945205,\n",
       "         0.88687783,  0.        ,  0.        ,  0.        ,  0.        ,\n",
       "         0.72727273,  0.70588235,  0.77419355,  0.        ,  0.6875    ,\n",
       "         0.80597015,  0.65      ,  0.72878536,  0.        ,  0.72727273,\n",
       "         0.625     ,  0.65217391,  0.        ,  0.        ,  0.52380952,\n",
       "         0.        ,  0.76923077,  0.78145695,  0.        ,  0.        ,\n",
       "         0.        ,  0.        ,  0.        ,  0.85271318,  0.4       ,\n",
       "         0.6971831 ,  0.47058824,  0.        ,  0.73684211,  0.4375    ,\n",
       "         0.        ,  0.6993865 ,  0.        ,  0.75      ,  0.        ,\n",
       "         0.4       ,  0.        ,  0.64615385,  0.79069767,  0.91866029,\n",
       "         0.81705151,  0.74725275,  0.8       ,  0.28571429,  0.84285714,\n",
       "         0.85685176,  0.67391304,  0.        ,  0.76923077,  0.62222222,\n",
       "         0.        ,  0.85803432,  0.80960549,  0.72727273,  0.        ,\n",
       "         0.39285714,  0.80612245,  0.88372093,  0.30769231,  0.        ,\n",
       "         0.57142857,  0.        ,  0.73684211,  0.        ,  0.        ,\n",
       "         0.83333333,  0.        ,  0.5       ,  0.90909091,  0.        ,\n",
       "         0.        ,  0.        ,  0.        ,  0.80952381,  0.79069767,\n",
       "         0.76923077,  0.15384615,  0.72      ,  0.92307692,  0.92913386,\n",
       "         0.        ,  0.62666667,  0.59259259,  0.        ,  0.        ,\n",
       "         0.        ,  0.        ,  1.        ,  0.80308031,  0.36363636,\n",
       "         0.72035794,  0.85446009,  0.61538462,  0.        ,  0.        ,\n",
       "         0.        ,  0.675     ,  0.79245283,  0.        ,  0.75454545,\n",
       "         0.73913043,  0.22222222,  0.        ,  0.        ,  0.        ,\n",
       "         0.90840415,  0.        ,  0.5625    ,  0.88148148,  0.56060606,\n",
       "         0.44444444,  0.        ,  0.77966102,  0.72727273,  0.77809798,\n",
       "         0.8045977 ,  0.69565217,  0.73333333,  0.86029412,  0.83809524,\n",
       "         0.77777778,  0.        ,  0.        ,  0.        ,  0.56108597,\n",
       "         0.71428571,  0.72727273,  0.        ,  0.28571429,  1.        ,\n",
       "         0.48648649,  0.        ,  0.85714286,  0.57142857,  0.91633466,\n",
       "         0.        ,  0.31578947,  0.80799112,  0.46153846,  0.77862595,\n",
       "         0.70588235,  0.        ,  0.        ,  0.        ,  0.94949495,\n",
       "         0.        ,  0.71064095,  0.        ,  0.35294118,  0.5       ,\n",
       "         0.70588235,  0.66666667,  0.92708333,  0.73469388,  0.44444444,\n",
       "         0.        ,  0.78309859,  0.61538462,  0.        ,  0.        ,\n",
       "         0.        ,  0.92266667]),\n",
       " array([   1,    6,    6,    2,    3,   20,    1,  110,    2,    1,   20,\n",
       "           1,    0,   36,   18,    1,    0,  117,  957,  175,  213,    1,\n",
       "           4,    1,    3,   14,    9,   17,   11,   33,  416,   23,  334,\n",
       "           7,    7,   84,   57,    5,    6,   26,    7,   24,  158,    2,\n",
       "           3,    9,    3,    2,  129,    8,  154,   11,    5,   10,   36,\n",
       "           1,  185,    1,    5,    7,    4,    5,   31,   20,  107,  277,\n",
       "         193,   16,    6,  146, 1009,  212,    2,    8,   27,    1,  338,\n",
       "         307,   51,    3,   38,  107,  291,    9,    1,   17,    6,   42,\n",
       "           1,    8,   13,    2,    3,   10,    3,    3,    0,    0,  241,\n",
       "          46,   27,   12,   14,   81,  124,    1,   82,   12,    1,    3,\n",
       "           3,    3,    4,  446,    9,  234,  115,    8,    4,    4,    2,\n",
       "          43,   81,    2,  112,   46,    5,    3,    1,    1,  555,    0,\n",
       "          43,  132,   66,   12,    4,   59,  103,  183,   43,   13,   54,\n",
       "         137,  227,   57,    2,    6,    1,  134,   16,   65,    2,    6,\n",
       "           6,   24,   10,    3,   10,  132,    7,   16,  458,    9,   75,\n",
       "          11,    7,    5,    2,  100,    0,  864,    4,   24,    6,   20,\n",
       "          11,  193,  126,   40,    2,  183,   13,    6,    4,    1,  183]))"
      ]
     },
     "execution_count": 131,
     "metadata": {},
     "output_type": "execute_result"
    }
   ],
   "source": [
    "#average= None, the scores for each class are returned.\n",
    "precision_recall_fscore_support(y_dev, y_pred_dev, average=None, sample_weight=None)"
   ]
  },
  {
   "cell_type": "code",
   "execution_count": 132,
   "metadata": {},
   "outputs": [
    {
     "data": {
      "text/plain": [
       "(0.83484182398069129, 0.74100994644223417, 0.78513234161566203, None)"
      ]
     },
     "execution_count": 132,
     "metadata": {},
     "output_type": "execute_result"
    }
   ],
   "source": [
    "#Calculate globally by counting the total true positives, false negatives and false positives.\n",
    "precision_recall_fscore_support(y_dev, y_pred_dev, average='micro', sample_weight=None) "
   ]
  },
  {
   "cell_type": "code",
   "execution_count": null,
   "metadata": {},
   "outputs": [],
   "source": [
    "#Calculate metrics for each label, and find their unweighted mean. This does not take label imbalance into account\n",
    "precision_recall_fscore_support(y_dev, y_pred_dev, average='macro', sample_weight=None)"
   ]
  },
  {
   "cell_type": "markdown",
   "metadata": {},
   "source": [
    "## Tag unlabelled content"
   ]
  },
  {
   "cell_type": "code",
   "execution_count": null,
   "metadata": {},
   "outputs": [],
   "source": [
    "def get_predictions(new_texts, df, level1taxon=False):\n",
    "    #process data for model input\n",
    "    \n",
    "    new_sequences = tokenizer.texts_to_sequences(new_texts) #yield one sequence per input text\n",
    "\n",
    "    new_word_index = tokenizer.word_index\n",
    "    print('Found %s unique tokens.' % len(new_word_index))\n",
    "\n",
    "    x_new = pad_sequences(new_sequences, maxlen= MAX_SEQUENCE_LENGTH) #MAX_SEQUENCE_LENGTH\n",
    "    \n",
    "    print('Shape of untagged tensor:', x_new.shape)\n",
    "    \n",
    "    #predict tag for untagged data\n",
    "    y_pred_new = model.predict(x_new)\n",
    "    \n",
    "    #get model output into pandas & get a column to track index for later merge\n",
    "    y_pred_new = pd.DataFrame(y_pred_new)\n",
    "    y_pred_new['index_col'] = y_pred_new.index\n",
    "    \n",
    "    #Make long by taxon so easier to filter rows and examine effect of p_threshold\n",
    "    y_pred_new = pd.melt(y_pred_new, id_vars=['index_col'],\n",
    "                             var_name='level2taxon_code', value_name='probability')\n",
    "    \n",
    "    #get taxon names\n",
    "    y_pred_new['level2taxon'] = y_pred_new['level2taxon_code'].map(labels_index)\n",
    "    \n",
    "    if level1taxon==False:\n",
    "        #get the info about the content\n",
    "        new_info = df[[ 'base_path', 'content_id', 'title', 'description', \n",
    "                   'document_type', 'publishing_app', 'locale']]\n",
    "    else:\n",
    "        new_info = df[[ 'base_path', 'content_id', 'title', 'description', \n",
    "                   'document_type', 'publishing_app', 'locale', 'level1taxon']]\n",
    "    \n",
    "    \n",
    "    #merge content info with taxon prediction\n",
    "    pred_new = pd.merge(\n",
    "    left=new_info, \n",
    "    right=y_pred_new, \n",
    "    left_index=True,\n",
    "    right_on='index_col',\n",
    "    how='outer'\n",
    "    )\n",
    "    \n",
    "    #drop the cols needed for mergingin and naming\n",
    "    pred_new.drop(['index_col'], axis=1, inplace = True)\n",
    "    \n",
    "    #keep only rows where prob of taxon > 0.5\n",
    "    \n",
    "    \n",
    "    return pred_new #.loc[pred_new['probability'] > P_THRESHOLD] #only return rows/samples where probability is hihger than threshold\n",
    "    "
   ]
  },
  {
   "cell_type": "markdown",
   "metadata": {},
   "source": [
    "### Untagged"
   ]
  },
  {
   "cell_type": "code",
   "execution_count": null,
   "metadata": {},
   "outputs": [],
   "source": [
    "#read in untagged content\n",
    "untagged_raw = pd.read_csv(os.path.join(DATADIR, 'untagged_content.csv.gz'), dtype=object, compression='gzip')"
   ]
  },
  {
   "cell_type": "code",
   "execution_count": null,
   "metadata": {},
   "outputs": [],
   "source": [
    "untagged_raw.head()"
   ]
  },
  {
   "cell_type": "code",
   "execution_count": null,
   "metadata": {},
   "outputs": [],
   "source": [
    "new_texts = untagged_raw['combined_text']"
   ]
  },
  {
   "cell_type": "code",
   "execution_count": null,
   "metadata": {},
   "outputs": [],
   "source": [
    "pred_untagged = get_predictions(new_texts, untagged_raw)"
   ]
  },
  {
   "cell_type": "code",
   "execution_count": null,
   "metadata": {},
   "outputs": [],
   "source": [
    "#data is long by taxon\n",
    "print('Number of unique content items: {}'.format(pred_untagged.content_id.nunique()))\n",
    "print('Number of content items tagged to taxons with more than p_threshold: {}'.format(pred_untagged.shape))"
   ]
  },
  {
   "cell_type": "code",
   "execution_count": null,
   "metadata": {},
   "outputs": [],
   "source": [
    "pred_untagged.loc[(pred_untagged['probability'] > 0.65) & (pred_untagged['probability'] < 0.85)].sort_values(by='probability', ascending=False)"
   ]
  },
  {
   "cell_type": "code",
   "execution_count": null,
   "metadata": {},
   "outputs": [],
   "source": [
    "#write to csv\n",
    "pred_untagged.to_csv(os.path.join(DATADIR, 'predictions_for_untagged_data_trainingdatatok.csv'), index=False)"
   ]
  },
  {
   "cell_type": "code",
   "execution_count": null,
   "metadata": {},
   "outputs": [],
   "source": [
    "# apply tokenizer to our text data\n",
    "tokenizer.fit_on_texts(new_texts)\n",
    "\n",
    "pred_untagged_refit_tok = get_predictions(new_texts, untagged_raw)\n"
   ]
  },
  {
   "cell_type": "code",
   "execution_count": null,
   "metadata": {},
   "outputs": [],
   "source": [
    "#write to csv\n",
    "pred_untagged_refit_tok.to_csv(os.path.join(DATADIR, 'predictions_for_untagged_data_refittok.csv'), index=False)"
   ]
  },
  {
   "cell_type": "markdown",
   "metadata": {},
   "source": [
    "### New data (untagged + old taxons)"
   ]
  },
  {
   "cell_type": "markdown",
   "metadata": {},
   "source": [
    "old_taxons data has no combined text. This needs fixing in the data pipeline before being able to use these data for predictions"
   ]
  },
  {
   "cell_type": "code",
   "execution_count": null,
   "metadata": {},
   "outputs": [],
   "source": [
    "#read in untagged content\n",
    "new_raw = pd.read_csv(os.path.join(DATADIR, 'new_content.csv'), dtype=object)"
   ]
  },
  {
   "cell_type": "code",
   "execution_count": null,
   "metadata": {},
   "outputs": [],
   "source": [
    "new_raw.shape"
   ]
  },
  {
   "cell_type": "code",
   "execution_count": null,
   "metadata": {},
   "outputs": [],
   "source": [
    "type(new_raw['combined_text'][0])"
   ]
  },
  {
   "cell_type": "code",
   "execution_count": null,
   "metadata": {},
   "outputs": [],
   "source": [
    "new_raw['combined_text'][0]"
   ]
  },
  {
   "cell_type": "code",
   "execution_count": null,
   "metadata": {},
   "outputs": [],
   "source": [
    "len(new_raw[new_raw['combined_text'].isna()])"
   ]
  },
  {
   "cell_type": "code",
   "execution_count": null,
   "metadata": {},
   "outputs": [],
   "source": [
    "(new_raw.loc[(new_raw['combined_text'].isna()) & (new_raw['untagged_type'] == 'old_taxons')]).shape"
   ]
  },
  {
   "cell_type": "code",
   "execution_count": null,
   "metadata": {},
   "outputs": [],
   "source": [
    "new_raw[new_raw.untagged_type == 'old_taxons']"
   ]
  },
  {
   "cell_type": "code",
   "execution_count": null,
   "metadata": {},
   "outputs": [],
   "source": [
    "#make a copy so you can edit data without needed to read in each time\n",
    "new_df = new_raw.copy(deep=True)"
   ]
  },
  {
   "cell_type": "code",
   "execution_count": null,
   "metadata": {},
   "outputs": [],
   "source": [
    "pred_new = get_predictions(new_df )"
   ]
  },
  {
   "cell_type": "code",
   "execution_count": null,
   "metadata": {},
   "outputs": [],
   "source": [
    "#keep only rows where prob of taxon > 0.5\n",
    "pred_new = pred_new.loc[pred_new['probability'] > 0.5]"
   ]
  },
  {
   "cell_type": "code",
   "execution_count": null,
   "metadata": {},
   "outputs": [],
   "source": [
    "#write to csv\n",
    "pred_new.to_csv(os.path.join(DATADIR, 'predictions_for_new_data.csv'), index=False)"
   ]
  },
  {
   "cell_type": "markdown",
   "metadata": {},
   "source": [
    "### Labelled at level1only"
   ]
  },
  {
   "cell_type": "code",
   "execution_count": null,
   "metadata": {},
   "outputs": [],
   "source": [
    "labelled_level1 = pd.read_csv(os.path.join(DATADIR, 'labelled_level1.csv'), dtype=object)"
   ]
  },
  {
   "cell_type": "code",
   "execution_count": null,
   "metadata": {},
   "outputs": [],
   "source": [
    "level1_texts = labelled_level1['combined_text']"
   ]
  },
  {
   "cell_type": "code",
   "execution_count": null,
   "metadata": {},
   "outputs": [],
   "source": [
    "#reset tokenizer to training data texts\n",
    "tokenizer.fit_on_texts(texts)"
   ]
  },
  {
   "cell_type": "code",
   "execution_count": null,
   "metadata": {},
   "outputs": [],
   "source": [
    "pred_labelled_level1 = get_predictions(level1_texts, labelled_level1, level1taxon=True)"
   ]
  },
  {
   "cell_type": "code",
   "execution_count": null,
   "metadata": {},
   "outputs": [],
   "source": [
    "pred_labelled_level1.sort_values(by='probability', ascending=False)"
   ]
  },
  {
   "cell_type": "code",
   "execution_count": null,
   "metadata": {},
   "outputs": [],
   "source": [
    "#write to csv\n",
    "pred_labelled_level1.to_csv(os.path.join(DATADIR, 'predictions_for_level1only.csv'), index=False)"
   ]
  },
  {
   "cell_type": "code",
   "execution_count": null,
   "metadata": {},
   "outputs": [],
   "source": [
    "from IPython.display import SVG\n",
    "from keras.utils.vis_utils import model_to_dot\n",
    "\n",
    "SVG(model_to_dot(model).create(prog='dot', format='svg'))"
   ]
  },
  {
   "cell_type": "code",
   "execution_count": null,
   "metadata": {},
   "outputs": [],
   "source": [
    "from keras.utils import plot_model\n",
    "plot_model(model, to_file='cnn.png', show_shapes=True)"
   ]
  },
  {
   "cell_type": "code",
   "execution_count": null,
   "metadata": {},
   "outputs": [],
   "source": []
  }
 ],
 "metadata": {
  "keep_output": true,
  "kernelspec": {
   "display_name": "tax_SL",
   "language": "python",
   "name": "tax_sl"
  },
  "language_info": {
   "codemirror_mode": {
    "name": "ipython",
    "version": 3
   },
   "file_extension": ".py",
   "mimetype": "text/x-python",
   "name": "python",
   "nbconvert_exporter": "python",
   "pygments_lexer": "ipython3",
   "version": "3.4.6"
  }
 },
 "nbformat": 4,
 "nbformat_minor": 2
}
