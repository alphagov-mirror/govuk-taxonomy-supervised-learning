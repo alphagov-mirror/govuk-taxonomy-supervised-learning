{
 "cells": [
  {
   "cell_type": "code",
   "execution_count": 2,
   "metadata": {},
   "outputs": [],
   "source": [
    "import numpy as np\n",
    "import pandas as pd\n",
    "import os\n",
    "import re\n",
    "import yaml\n",
    "# fuzz is used to compare TWO strings\n",
    "from fuzzywuzzy import fuzz"
   ]
  },
  {
   "cell_type": "code",
   "execution_count": 3,
   "metadata": {},
   "outputs": [
    {
     "data": {
      "text/plain": [
       "'/data/2018-03-27'"
      ]
     },
     "execution_count": 3,
     "metadata": {},
     "output_type": "execute_result"
    }
   ],
   "source": [
    "DATADIR = os.getenv('DATADIR')\n",
    "DATADIR"
   ]
  },
  {
   "cell_type": "code",
   "execution_count": 4,
   "metadata": {},
   "outputs": [
    {
     "name": "stdout",
     "output_type": "stream",
     "text": [
      "model v2.0.0 was run on data dated /data/2018-03-27\n"
     ]
    }
   ],
   "source": [
    "print(\"model v2.0.0 was run on data dated {}\".format(DATADIR))"
   ]
  },
  {
   "cell_type": "markdown",
   "metadata": {},
   "source": [
    "## 1. Read in data"
   ]
  },
  {
   "cell_type": "code",
   "execution_count": 6,
   "metadata": {},
   "outputs": [],
   "source": [
    "unlabelled = pd.read_csv(\n",
    "    os.path.join(DATADIR, 'unlabelled_predictions_meta.csv.gz'),\n",
    "    dtype=object,\n",
    "    compression='gzip'\n",
    ")"
   ]
  },
  {
   "cell_type": "code",
   "execution_count": 7,
   "metadata": {},
   "outputs": [],
   "source": [
    "unlabelled_unique_content = unlabelled.drop_duplicates('content_id').copy()"
   ]
  },
  {
   "cell_type": "code",
   "execution_count": 31,
   "metadata": {},
   "outputs": [],
   "source": [
    "prim_pub_map = pd.read_csv(\n",
    "    os.path.join(DATADIR, 'bulkmap_pub_org_to_taxon.csv'),\n",
    "    dtype=object,\n",
    "    skipfooter=1,\n",
    "    engine='python'\n",
    ")"
   ]
  },
  {
   "cell_type": "code",
   "execution_count": 9,
   "metadata": {},
   "outputs": [],
   "source": [
    "taxons = pd.read_csv(\n",
    "    os.path.join(DATADIR, 'clean_taxons.csv.gz'),\n",
    "    dtype=object,\n",
    "    compression='gzip'\n",
    ")"
   ]
  },
  {
   "cell_type": "code",
   "execution_count": 10,
   "metadata": {},
   "outputs": [
    {
     "data": {
      "text/html": [
       "<div>\n",
       "<style scoped>\n",
       "    .dataframe tbody tr th:only-of-type {\n",
       "        vertical-align: middle;\n",
       "    }\n",
       "\n",
       "    .dataframe tbody tr th {\n",
       "        vertical-align: top;\n",
       "    }\n",
       "\n",
       "    .dataframe thead th {\n",
       "        text-align: right;\n",
       "    }\n",
       "</style>\n",
       "<table border=\"1\" class=\"dataframe\">\n",
       "  <thead>\n",
       "    <tr style=\"text-align: right;\">\n",
       "      <th></th>\n",
       "      <th>base_path</th>\n",
       "      <th>content_id</th>\n",
       "      <th>taxon_name</th>\n",
       "      <th>level1</th>\n",
       "      <th>level2tax_id</th>\n",
       "      <th>level3tax_id</th>\n",
       "      <th>level4tax_id</th>\n",
       "      <th>level1taxon</th>\n",
       "      <th>level2taxon</th>\n",
       "      <th>level3taxon</th>\n",
       "      <th>level4taxon</th>\n",
       "      <th>level5taxon</th>\n",
       "    </tr>\n",
       "  </thead>\n",
       "  <tbody>\n",
       "    <tr>\n",
       "      <th>0</th>\n",
       "      <td>/transport/all</td>\n",
       "      <td>a4038b29-b332-4f13-98b1-1c9709e216bc</td>\n",
       "      <td>Transport</td>\n",
       "      <td>NaN</td>\n",
       "      <td>NaN</td>\n",
       "      <td>NaN</td>\n",
       "      <td>NaN</td>\n",
       "      <td>Transport</td>\n",
       "      <td>NaN</td>\n",
       "      <td>NaN</td>\n",
       "      <td>NaN</td>\n",
       "      <td>NaN</td>\n",
       "    </tr>\n",
       "    <tr>\n",
       "      <th>1</th>\n",
       "      <td>/defence</td>\n",
       "      <td>e491505c-77ae-45b2-84be-8c94b94f6a2b</td>\n",
       "      <td>Defence</td>\n",
       "      <td>NaN</td>\n",
       "      <td>NaN</td>\n",
       "      <td>NaN</td>\n",
       "      <td>NaN</td>\n",
       "      <td>Defence</td>\n",
       "      <td>NaN</td>\n",
       "      <td>NaN</td>\n",
       "      <td>NaN</td>\n",
       "      <td>NaN</td>\n",
       "    </tr>\n",
       "    <tr>\n",
       "      <th>2</th>\n",
       "      <td>/life-circumstances</td>\n",
       "      <td>20086ead-41fc-49cf-8a62-d4e1126f41fc</td>\n",
       "      <td>Life circumstances</td>\n",
       "      <td>NaN</td>\n",
       "      <td>NaN</td>\n",
       "      <td>NaN</td>\n",
       "      <td>NaN</td>\n",
       "      <td>Life circumstances</td>\n",
       "      <td>NaN</td>\n",
       "      <td>NaN</td>\n",
       "      <td>NaN</td>\n",
       "      <td>NaN</td>\n",
       "    </tr>\n",
       "    <tr>\n",
       "      <th>3</th>\n",
       "      <td>/money</td>\n",
       "      <td>6acc9db4-780e-4a46-92b4-1812e3c2c48a</td>\n",
       "      <td>Money</td>\n",
       "      <td>NaN</td>\n",
       "      <td>NaN</td>\n",
       "      <td>NaN</td>\n",
       "      <td>NaN</td>\n",
       "      <td>Money</td>\n",
       "      <td>NaN</td>\n",
       "      <td>NaN</td>\n",
       "      <td>NaN</td>\n",
       "      <td>NaN</td>\n",
       "    </tr>\n",
       "    <tr>\n",
       "      <th>4</th>\n",
       "      <td>/government/all</td>\n",
       "      <td>e48ab80a-de80-4e83-bf59-26316856a5f9</td>\n",
       "      <td>Government</td>\n",
       "      <td>NaN</td>\n",
       "      <td>NaN</td>\n",
       "      <td>NaN</td>\n",
       "      <td>NaN</td>\n",
       "      <td>Government</td>\n",
       "      <td>NaN</td>\n",
       "      <td>NaN</td>\n",
       "      <td>NaN</td>\n",
       "      <td>NaN</td>\n",
       "    </tr>\n",
       "  </tbody>\n",
       "</table>\n",
       "</div>"
      ],
      "text/plain": [
       "             base_path                            content_id  \\\n",
       "0       /transport/all  a4038b29-b332-4f13-98b1-1c9709e216bc   \n",
       "1             /defence  e491505c-77ae-45b2-84be-8c94b94f6a2b   \n",
       "2  /life-circumstances  20086ead-41fc-49cf-8a62-d4e1126f41fc   \n",
       "3               /money  6acc9db4-780e-4a46-92b4-1812e3c2c48a   \n",
       "4      /government/all  e48ab80a-de80-4e83-bf59-26316856a5f9   \n",
       "\n",
       "           taxon_name level1 level2tax_id level3tax_id level4tax_id  \\\n",
       "0           Transport    NaN          NaN          NaN          NaN   \n",
       "1             Defence    NaN          NaN          NaN          NaN   \n",
       "2  Life circumstances    NaN          NaN          NaN          NaN   \n",
       "3               Money    NaN          NaN          NaN          NaN   \n",
       "4          Government    NaN          NaN          NaN          NaN   \n",
       "\n",
       "          level1taxon level2taxon level3taxon level4taxon level5taxon  \n",
       "0           Transport         NaN         NaN         NaN         NaN  \n",
       "1             Defence         NaN         NaN         NaN         NaN  \n",
       "2  Life circumstances         NaN         NaN         NaN         NaN  \n",
       "3               Money         NaN         NaN         NaN         NaN  \n",
       "4          Government         NaN         NaN         NaN         NaN  "
      ]
     },
     "execution_count": 10,
     "metadata": {},
     "output_type": "execute_result"
    }
   ],
   "source": [
    "taxons.head()"
   ]
  },
  {
   "cell_type": "code",
   "execution_count": 11,
   "metadata": {},
   "outputs": [],
   "source": [
    "taxon_names = taxons['taxon_name'].unique()"
   ]
  },
  {
   "cell_type": "code",
   "execution_count": 12,
   "metadata": {},
   "outputs": [
    {
     "data": {
      "text/plain": [
       "(2471,)"
      ]
     },
     "execution_count": 12,
     "metadata": {},
     "output_type": "execute_result"
    }
   ],
   "source": [
    "taxon_names.shape"
   ]
  },
  {
   "cell_type": "code",
   "execution_count": 32,
   "metadata": {},
   "outputs": [],
   "source": [
    "# sort out the fuzzy matching for taxon name\n",
    "prim_pub_map['taxon_name'] = ''\n",
    "\n",
    "for taxon_name in taxon_names:\n",
    "    for index, row in prim_pub_map.iterrows():\n",
    "        if row['Bulk Tag to']:\n",
    "            fuzzy = row['Bulk Tag to']\n",
    "        \n",
    "            score = fuzz.token_sort_ratio(fuzzy, taxon_name)\n",
    "        \n",
    "            if score > 90:\n",
    "                \n",
    "                row['taxon_name'] = taxon_name\n",
    "            "
   ]
  },
  {
   "cell_type": "code",
   "execution_count": 14,
   "metadata": {},
   "outputs": [],
   "source": [
    "taxon_name_id_dict = dict(zip((taxons['taxon_name']),\n",
    "                        taxons['content_id']))"
   ]
  },
  {
   "cell_type": "code",
   "execution_count": 33,
   "metadata": {},
   "outputs": [],
   "source": [
    "prim_pub_map['taxon_id'] = prim_pub_map['taxon_name'].map(taxon_name_id_dict).copy()"
   ]
  },
  {
   "cell_type": "code",
   "execution_count": 17,
   "metadata": {},
   "outputs": [],
   "source": [
    "def strip_prim_org(x):\n",
    "    if x=='':\n",
    "        return ''\n",
    "    else:\n",
    "        return re.sub('\\\"|}',\"\",x.split(\"=>\")[1])"
   ]
  },
  {
   "cell_type": "code",
   "execution_count": 34,
   "metadata": {},
   "outputs": [],
   "source": [
    "prim_pub_map['primary_publishing_organisation'] = prim_pub_map['primary_publishing_organisation'].fillna('').copy()"
   ]
  },
  {
   "cell_type": "code",
   "execution_count": 35,
   "metadata": {},
   "outputs": [],
   "source": [
    "prim_pub_map['primary_publishing_organisation'] = prim_pub_map['primary_publishing_organisation'].\\\n",
    "                map(strip_prim_org)"
   ]
  },
  {
   "cell_type": "code",
   "execution_count": 36,
   "metadata": {},
   "outputs": [
    {
     "data": {
      "text/html": [
       "<div>\n",
       "<style scoped>\n",
       "    .dataframe tbody tr th:only-of-type {\n",
       "        vertical-align: middle;\n",
       "    }\n",
       "\n",
       "    .dataframe tbody tr th {\n",
       "        vertical-align: top;\n",
       "    }\n",
       "\n",
       "    .dataframe thead th {\n",
       "        text-align: right;\n",
       "    }\n",
       "</style>\n",
       "<table border=\"1\" class=\"dataframe\">\n",
       "  <thead>\n",
       "    <tr style=\"text-align: right;\">\n",
       "      <th></th>\n",
       "      <th>primary_publishing_organisation</th>\n",
       "      <th>COUNTA of primary_publishing_organisation</th>\n",
       "      <th>Bulk Tag to</th>\n",
       "      <th>Level</th>\n",
       "      <th>taxon_name</th>\n",
       "      <th>taxon_id</th>\n",
       "    </tr>\n",
       "  </thead>\n",
       "  <tbody>\n",
       "    <tr>\n",
       "      <th>0</th>\n",
       "      <td></td>\n",
       "      <td>0</td>\n",
       "      <td>NaN</td>\n",
       "      <td>NaN</td>\n",
       "      <td></td>\n",
       "      <td>NaN</td>\n",
       "    </tr>\n",
       "    <tr>\n",
       "      <th>1</th>\n",
       "      <td>British Cattle Movement Service</td>\n",
       "      <td>1</td>\n",
       "      <td>NaN</td>\n",
       "      <td>NaN</td>\n",
       "      <td></td>\n",
       "      <td>NaN</td>\n",
       "    </tr>\n",
       "    <tr>\n",
       "      <th>2</th>\n",
       "      <td>Building Regulations Advisory Committee</td>\n",
       "      <td>1</td>\n",
       "      <td>Business regulation</td>\n",
       "      <td>Level 3 (Business)</td>\n",
       "      <td>Business regulation</td>\n",
       "      <td>33bc0eed-62c7-4b0b-9a93-626c9e10c025</td>\n",
       "    </tr>\n",
       "    <tr>\n",
       "      <th>3</th>\n",
       "      <td>Commonwealth Scholarship Commission in the UK</td>\n",
       "      <td>1</td>\n",
       "      <td>NaN</td>\n",
       "      <td>NaN</td>\n",
       "      <td></td>\n",
       "      <td>NaN</td>\n",
       "    </tr>\n",
       "    <tr>\n",
       "      <th>4</th>\n",
       "      <td>Copyright Tribunal</td>\n",
       "      <td>1</td>\n",
       "      <td>Copyright</td>\n",
       "      <td>Level 3 (Crime Justice and Law)</td>\n",
       "      <td>Copyright</td>\n",
       "      <td>7b2a45e2-2f20-4331-a2b6-de512b007a52</td>\n",
       "    </tr>\n",
       "  </tbody>\n",
       "</table>\n",
       "</div>"
      ],
      "text/plain": [
       "                 primary_publishing_organisation  \\\n",
       "0                                                  \n",
       "1                British Cattle Movement Service   \n",
       "2        Building Regulations Advisory Committee   \n",
       "3  Commonwealth Scholarship Commission in the UK   \n",
       "4                             Copyright Tribunal   \n",
       "\n",
       "  COUNTA of primary_publishing_organisation          Bulk Tag to  \\\n",
       "0                                         0                  NaN   \n",
       "1                                         1                  NaN   \n",
       "2                                         1  Business regulation   \n",
       "3                                         1                  NaN   \n",
       "4                                         1           Copyright    \n",
       "\n",
       "                             Level           taxon_name  \\\n",
       "0                              NaN                        \n",
       "1                              NaN                        \n",
       "2               Level 3 (Business)  Business regulation   \n",
       "3                              NaN                        \n",
       "4  Level 3 (Crime Justice and Law)            Copyright   \n",
       "\n",
       "                               taxon_id  \n",
       "0                                   NaN  \n",
       "1                                   NaN  \n",
       "2  33bc0eed-62c7-4b0b-9a93-626c9e10c025  \n",
       "3                                   NaN  \n",
       "4  7b2a45e2-2f20-4331-a2b6-de512b007a52  "
      ]
     },
     "execution_count": 36,
     "metadata": {},
     "output_type": "execute_result"
    }
   ],
   "source": [
    "prim_pub_map.head()"
   ]
  },
  {
   "cell_type": "code",
   "execution_count": 37,
   "metadata": {},
   "outputs": [],
   "source": [
    "pub_taxon_dict = dict(zip((prim_pub_map['primary_publishing_organisation']),\n",
    "                        prim_pub_map['taxon_name']))"
   ]
  },
  {
   "cell_type": "code",
   "execution_count": 38,
   "metadata": {},
   "outputs": [],
   "source": [
    "unlabelled_unique_content['taxon2label_bulk'] = unlabelled_unique_content['primary_publishing_organisation'].map(pub_taxon_dict)"
   ]
  },
  {
   "cell_type": "code",
   "execution_count": 39,
   "metadata": {},
   "outputs": [
    {
     "data": {
      "text/plain": [
       "(15161, 18)"
      ]
     },
     "execution_count": 39,
     "metadata": {},
     "output_type": "execute_result"
    }
   ],
   "source": [
    "unlabelled_unique_content[unlabelled_unique_content['taxon2label_bulk'].isnull()].shape"
   ]
  },
  {
   "cell_type": "code",
   "execution_count": 40,
   "metadata": {},
   "outputs": [
    {
     "data": {
      "text/plain": [
       "(70273, 18)"
      ]
     },
     "execution_count": 40,
     "metadata": {},
     "output_type": "execute_result"
    }
   ],
   "source": [
    "unlabelled_unique_content[unlabelled_unique_content['taxon2label_bulk'].notnull()].shape"
   ]
  },
  {
   "cell_type": "code",
   "execution_count": 41,
   "metadata": {},
   "outputs": [],
   "source": [
    "bulk_tags = unlabelled_unique_content[unlabelled_unique_content['taxon2label_bulk'].notnull()].copy()"
   ]
  },
  {
   "cell_type": "code",
   "execution_count": 42,
   "metadata": {},
   "outputs": [],
   "source": [
    "bulk_tags['taxon2label'] = bulk_tags['taxon2label_bulk']"
   ]
  },
  {
   "cell_type": "code",
   "execution_count": 43,
   "metadata": {},
   "outputs": [],
   "source": [
    "bulk_tags['prob'] = np.nan\n",
    "bulk_tags['prob_cat'] = np.nan"
   ]
  },
  {
   "cell_type": "code",
   "execution_count": 44,
   "metadata": {},
   "outputs": [],
   "source": [
    "bulk_tags['how_tagged'] = 'bulk_tag'"
   ]
  },
  {
   "cell_type": "code",
   "execution_count": 54,
   "metadata": {},
   "outputs": [
    {
     "data": {
      "text/plain": [
       "(70273, 19)"
      ]
     },
     "execution_count": 54,
     "metadata": {},
     "output_type": "execute_result"
    }
   ],
   "source": [
    "bulk_tags.shape"
   ]
  },
  {
   "cell_type": "markdown",
   "metadata": {},
   "source": [
    "### Add to algorithm tags"
   ]
  },
  {
   "cell_type": "code",
   "execution_count": 47,
   "metadata": {},
   "outputs": [],
   "source": [
    "unlabelled['prob'] = pd.to_numeric(unlabelled['prob'])\n",
    "predictions = unlabelled[unlabelled['prob'] > 0.5]"
   ]
  },
  {
   "cell_type": "code",
   "execution_count": 51,
   "metadata": {},
   "outputs": [],
   "source": [
    "no_uk_economy = predictions.loc[predictions['taxon2label'] != 'UK economy'].copy()"
   ]
  },
  {
   "cell_type": "code",
   "execution_count": 52,
   "metadata": {},
   "outputs": [],
   "source": [
    "no_uk_economy['how_tagged'] = 'algorithm_v2.0.0'"
   ]
  },
  {
   "cell_type": "code",
   "execution_count": 55,
   "metadata": {},
   "outputs": [
    {
     "data": {
      "text/plain": [
       "(88725, 18)"
      ]
     },
     "execution_count": 55,
     "metadata": {},
     "output_type": "execute_result"
    }
   ],
   "source": [
    "no_uk_economy.shape"
   ]
  },
  {
   "cell_type": "markdown",
   "metadata": {},
   "source": [
    "### concatenate bulk tags to algorithm tags\n",
    "These will go through rake task to remove superfluous ancesters"
   ]
  },
  {
   "cell_type": "code",
   "execution_count": 65,
   "metadata": {},
   "outputs": [],
   "source": [
    "bulk_and_algorithm_tags = pd.concat([bulk_tags, no_uk_economy])"
   ]
  },
  {
   "cell_type": "code",
   "execution_count": 66,
   "metadata": {},
   "outputs": [
    {
     "data": {
      "text/plain": [
       "(158998, 19)"
      ]
     },
     "execution_count": 66,
     "metadata": {},
     "output_type": "execute_result"
    }
   ],
   "source": [
    "bulk_and_algorithm_tags.shape"
   ]
  },
  {
   "cell_type": "code",
   "execution_count": 67,
   "metadata": {},
   "outputs": [],
   "source": [
    "bulk_and_algorithm_tags = bulk_and_algorithm_tags.drop_duplicates(subset=['content_id', 'taxon2label']).copy()"
   ]
  },
  {
   "cell_type": "code",
   "execution_count": 68,
   "metadata": {},
   "outputs": [],
   "source": [
    "bulk_and_algorithm_tags = bulk_and_algorithm_tags.rename(index=str, columns={\"taxon2label\": \"taxon_tag\"})"
   ]
  },
  {
   "cell_type": "code",
   "execution_count": 69,
   "metadata": {},
   "outputs": [
    {
     "data": {
      "text/plain": [
       "(150404, 19)"
      ]
     },
     "execution_count": 69,
     "metadata": {},
     "output_type": "execute_result"
    }
   ],
   "source": [
    "bulk_and_algorithm_tags.shape"
   ]
  },
  {
   "cell_type": "markdown",
   "metadata": {},
   "source": [
    "### get taxon id"
   ]
  },
  {
   "cell_type": "code",
   "execution_count": 74,
   "metadata": {},
   "outputs": [],
   "source": [
    "bulk_and_algorithm_tags['taxon_id'] = bulk_and_algorithm_tags['taxon_tag'].map(taxon_name_id_dict)"
   ]
  },
  {
   "cell_type": "markdown",
   "metadata": {},
   "source": [
    "### remove World tags"
   ]
  },
  {
   "cell_type": "code",
   "execution_count": 70,
   "metadata": {},
   "outputs": [],
   "source": [
    "bulk_and_algorithm_tags = bulk_and_algorithm_tags.loc[bulk_and_algorithm_tags['taxon_tag'] != 'world_level1'].copy()"
   ]
  },
  {
   "cell_type": "code",
   "execution_count": 71,
   "metadata": {},
   "outputs": [
    {
     "data": {
      "text/plain": [
       "(150246, 19)"
      ]
     },
     "execution_count": 71,
     "metadata": {},
     "output_type": "execute_result"
    }
   ],
   "source": [
    "bulk_and_algorithm_tags.shape"
   ]
  },
  {
   "cell_type": "code",
   "execution_count": 77,
   "metadata": {},
   "outputs": [],
   "source": [
    "bulk_and_algorithm_tags = bulk_and_algorithm_tags[bulk_and_algorithm_tags['taxon_id'].notnull()].copy()"
   ]
  },
  {
   "cell_type": "code",
   "execution_count": 79,
   "metadata": {},
   "outputs": [
    {
     "data": {
      "text/plain": [
       "(119890, 3)"
      ]
     },
     "execution_count": 79,
     "metadata": {},
     "output_type": "execute_result"
    }
   ],
   "source": [
    "bulk_and_algorithm_tags[['content_id', 'taxon_tag', 'taxon_id']].shape"
   ]
  },
  {
   "cell_type": "code",
   "execution_count": 89,
   "metadata": {},
   "outputs": [
    {
     "data": {
      "text/html": [
       "<div>\n",
       "<style scoped>\n",
       "    .dataframe tbody tr th:only-of-type {\n",
       "        vertical-align: middle;\n",
       "    }\n",
       "\n",
       "    .dataframe tbody tr th {\n",
       "        vertical-align: top;\n",
       "    }\n",
       "\n",
       "    .dataframe thead th {\n",
       "        text-align: right;\n",
       "    }\n",
       "</style>\n",
       "<table border=\"1\" class=\"dataframe\">\n",
       "  <thead>\n",
       "    <tr style=\"text-align: right;\">\n",
       "      <th></th>\n",
       "      <th>content_id</th>\n",
       "      <th>taxon_tag</th>\n",
       "      <th>taxon_id</th>\n",
       "      <th>how_tagged</th>\n",
       "    </tr>\n",
       "  </thead>\n",
       "  <tbody>\n",
       "    <tr>\n",
       "      <th>5972</th>\n",
       "      <td>a113dedd-4320-4186-b1af-888437c6aedb</td>\n",
       "      <td>Environment</td>\n",
       "      <td>71d37f3a-7c8c-4128-8763-2fd5b831b9b9</td>\n",
       "      <td>bulk_tag</td>\n",
       "    </tr>\n",
       "    <tr>\n",
       "      <th>5973</th>\n",
       "      <td>5d8d7f5f-7631-11e4-a3cb-005056011aef</td>\n",
       "      <td>International aid and development</td>\n",
       "      <td>9fb30a53-70fb-4f1c-878b-0064b202d1ba</td>\n",
       "      <td>bulk_tag</td>\n",
       "    </tr>\n",
       "    <tr>\n",
       "      <th>5974</th>\n",
       "      <td>5e2e074d-7631-11e4-a3cb-005056011aef</td>\n",
       "      <td>Health and social care</td>\n",
       "      <td>8124ead8-8ebc-4faf-88ad-dd5cbcc92ba8</td>\n",
       "      <td>bulk_tag</td>\n",
       "    </tr>\n",
       "    <tr>\n",
       "      <th>5976</th>\n",
       "      <td>5f50cd4e-7631-11e4-a3cb-005056011aef</td>\n",
       "      <td>Maritime</td>\n",
       "      <td>4a9ab4d7-0d03-4c61-9e16-47787cbf53cd</td>\n",
       "      <td>bulk_tag</td>\n",
       "    </tr>\n",
       "    <tr>\n",
       "      <th>5977</th>\n",
       "      <td>b60d9e65-dc51-4a5b-8fbc-b6b15652b6ba</td>\n",
       "      <td>World</td>\n",
       "      <td>91b8ef20-74e7-4552-880c-50e6d73c2ff9</td>\n",
       "      <td>bulk_tag</td>\n",
       "    </tr>\n",
       "  </tbody>\n",
       "</table>\n",
       "</div>"
      ],
      "text/plain": [
       "                                content_id                          taxon_tag  \\\n",
       "5972  a113dedd-4320-4186-b1af-888437c6aedb                        Environment   \n",
       "5973  5d8d7f5f-7631-11e4-a3cb-005056011aef  International aid and development   \n",
       "5974  5e2e074d-7631-11e4-a3cb-005056011aef             Health and social care   \n",
       "5976  5f50cd4e-7631-11e4-a3cb-005056011aef                           Maritime   \n",
       "5977  b60d9e65-dc51-4a5b-8fbc-b6b15652b6ba                              World   \n",
       "\n",
       "                                  taxon_id how_tagged  \n",
       "5972  71d37f3a-7c8c-4128-8763-2fd5b831b9b9   bulk_tag  \n",
       "5973  9fb30a53-70fb-4f1c-878b-0064b202d1ba   bulk_tag  \n",
       "5974  8124ead8-8ebc-4faf-88ad-dd5cbcc92ba8   bulk_tag  \n",
       "5976  4a9ab4d7-0d03-4c61-9e16-47787cbf53cd   bulk_tag  \n",
       "5977  91b8ef20-74e7-4552-880c-50e6d73c2ff9   bulk_tag  "
      ]
     },
     "execution_count": 89,
     "metadata": {},
     "output_type": "execute_result"
    }
   ],
   "source": [
    "bulk_and_algorithm_tags[['content_id', 'taxon_tag', 'taxon_id', 'how_tagged']].head()"
   ]
  },
  {
   "cell_type": "code",
   "execution_count": 92,
   "metadata": {},
   "outputs": [
    {
     "data": {
      "text/html": [
       "<div>\n",
       "<style scoped>\n",
       "    .dataframe tbody tr th:only-of-type {\n",
       "        vertical-align: middle;\n",
       "    }\n",
       "\n",
       "    .dataframe tbody tr th {\n",
       "        vertical-align: top;\n",
       "    }\n",
       "\n",
       "    .dataframe thead th {\n",
       "        text-align: right;\n",
       "    }\n",
       "</style>\n",
       "<table border=\"1\" class=\"dataframe\">\n",
       "  <thead>\n",
       "    <tr style=\"text-align: right;\">\n",
       "      <th></th>\n",
       "      <th>base_path</th>\n",
       "      <th>content_id</th>\n",
       "      <th>description</th>\n",
       "      <th>document_type</th>\n",
       "      <th>document_type_gp</th>\n",
       "      <th>first_published_at</th>\n",
       "      <th>how_tagged</th>\n",
       "      <th>level1taxon</th>\n",
       "      <th>locale</th>\n",
       "      <th>primary_publishing_organisation</th>\n",
       "      <th>prob</th>\n",
       "      <th>prob_cat</th>\n",
       "      <th>publishing_app</th>\n",
       "      <th>taxon_tag</th>\n",
       "      <th>taxon2label_bulk</th>\n",
       "      <th>taxon_id</th>\n",
       "      <th>title</th>\n",
       "      <th>untagged_type</th>\n",
       "      <th>updated_at</th>\n",
       "    </tr>\n",
       "  </thead>\n",
       "  <tbody>\n",
       "    <tr>\n",
       "      <th>13121</th>\n",
       "      <td>/government/news/transformation-of-birmingham-...</td>\n",
       "      <td>51f13e1a-ca7c-4b5d-9b0c-123a6e0d9480</td>\n",
       "      <td>after an investment of £8.12m by hmcts birming...</td>\n",
       "      <td>press_release</td>\n",
       "      <td>news_and_announcements</td>\n",
       "      <td>2018-03-01 11:00:18.000</td>\n",
       "      <td>algorithm_v2.0.0</td>\n",
       "      <td>NaN</td>\n",
       "      <td>en</td>\n",
       "      <td>HM Courts &amp; Tribunals Service</td>\n",
       "      <td>0.961648</td>\n",
       "      <td>&gt;=0.8</td>\n",
       "      <td>whitehall</td>\n",
       "      <td>Administrative justice reform</td>\n",
       "      <td>NaN</td>\n",
       "      <td>66f7bd95-7e8b-4f33-ad7f-77a13ae92d49</td>\n",
       "      <td>transformation of birmingham civil justice cen...</td>\n",
       "      <td>untagged</td>\n",
       "      <td>2018-03-12 16:04:23.928</td>\n",
       "    </tr>\n",
       "    <tr>\n",
       "      <th>16867</th>\n",
       "      <td>/government/news/hm-courts-tribunals-service-l...</td>\n",
       "      <td>ad7af755-4ae4-4644-a957-a949bf1cccec</td>\n",
       "      <td>hmcts will today (18 january 2018) launch a te...</td>\n",
       "      <td>press_release</td>\n",
       "      <td>news_and_announcements</td>\n",
       "      <td>2018-01-19 10:47:26.000</td>\n",
       "      <td>algorithm_v2.0.0</td>\n",
       "      <td>NaN</td>\n",
       "      <td>en</td>\n",
       "      <td>HM Courts &amp; Tribunals Service</td>\n",
       "      <td>0.552992</td>\n",
       "      <td>0.5-0.59</td>\n",
       "      <td>whitehall</td>\n",
       "      <td>Administrative justice reform</td>\n",
       "      <td>NaN</td>\n",
       "      <td>66f7bd95-7e8b-4f33-ad7f-77a13ae92d49</td>\n",
       "      <td>hm courts &amp; tribunals service launches project...</td>\n",
       "      <td>untagged</td>\n",
       "      <td>2018-03-12 16:09:18.338</td>\n",
       "    </tr>\n",
       "    <tr>\n",
       "      <th>27701</th>\n",
       "      <td>/government/news/civilcrime-news-more-dates-fo...</td>\n",
       "      <td>2d6cf199-8bac-4dca-9446-b97f7b5d05e9</td>\n",
       "      <td>new dates announced in hm courts and tribunals...</td>\n",
       "      <td>news_story</td>\n",
       "      <td>news_and_announcements</td>\n",
       "      <td>2018-01-10 15:43:00.000</td>\n",
       "      <td>algorithm_v2.0.0</td>\n",
       "      <td>NaN</td>\n",
       "      <td>en</td>\n",
       "      <td>Legal Aid Agency</td>\n",
       "      <td>0.743616</td>\n",
       "      <td>0.7-0.79</td>\n",
       "      <td>whitehall</td>\n",
       "      <td>Administrative justice reform</td>\n",
       "      <td>NaN</td>\n",
       "      <td>66f7bd95-7e8b-4f33-ad7f-77a13ae92d49</td>\n",
       "      <td>civil/crime news: more dates for hmcts roadshows</td>\n",
       "      <td>untagged</td>\n",
       "      <td>2018-01-16 13:33:44.968</td>\n",
       "    </tr>\n",
       "    <tr>\n",
       "      <th>47881</th>\n",
       "      <td>/government/publications/appeal-a-judicial-rev...</td>\n",
       "      <td>04ff3b09-ce00-48a0-aa05-7c99e03ddfdc</td>\n",
       "      <td>use this index when submitting a 'core bundle'...</td>\n",
       "      <td>form</td>\n",
       "      <td>service</td>\n",
       "      <td>2016-08-31 23:00:00.000</td>\n",
       "      <td>algorithm_v2.0.0</td>\n",
       "      <td>NaN</td>\n",
       "      <td>en</td>\n",
       "      <td>HM Courts &amp; Tribunals Service</td>\n",
       "      <td>0.831607</td>\n",
       "      <td>&gt;=0.8</td>\n",
       "      <td>whitehall</td>\n",
       "      <td>Administrative justice reform</td>\n",
       "      <td>NaN</td>\n",
       "      <td>66f7bd95-7e8b-4f33-ad7f-77a13ae92d49</td>\n",
       "      <td>appeal a judicial review from the administrati...</td>\n",
       "      <td>untagged</td>\n",
       "      <td>2018-03-21 15:11:25.946</td>\n",
       "    </tr>\n",
       "    <tr>\n",
       "      <th>48071</th>\n",
       "      <td>/government/publications/appeal-an-administrat...</td>\n",
       "      <td>cd6e19e9-f652-49be-b665-43aaeab48cb7</td>\n",
       "      <td>use this index when submitting a 'core bundle'...</td>\n",
       "      <td>form</td>\n",
       "      <td>service</td>\n",
       "      <td>2016-08-31 23:00:00.000</td>\n",
       "      <td>algorithm_v2.0.0</td>\n",
       "      <td>NaN</td>\n",
       "      <td>en</td>\n",
       "      <td>HM Courts &amp; Tribunals Service</td>\n",
       "      <td>0.604943</td>\n",
       "      <td>0.6-0.69</td>\n",
       "      <td>whitehall</td>\n",
       "      <td>Administrative justice reform</td>\n",
       "      <td>NaN</td>\n",
       "      <td>66f7bd95-7e8b-4f33-ad7f-77a13ae92d49</td>\n",
       "      <td>appeal an administrative judicial review or fr...</td>\n",
       "      <td>untagged</td>\n",
       "      <td>2018-03-21 15:11:46.329</td>\n",
       "    </tr>\n",
       "  </tbody>\n",
       "</table>\n",
       "</div>"
      ],
      "text/plain": [
       "                                               base_path  \\\n",
       "13121  /government/news/transformation-of-birmingham-...   \n",
       "16867  /government/news/hm-courts-tribunals-service-l...   \n",
       "27701  /government/news/civilcrime-news-more-dates-fo...   \n",
       "47881  /government/publications/appeal-a-judicial-rev...   \n",
       "48071  /government/publications/appeal-an-administrat...   \n",
       "\n",
       "                                 content_id  \\\n",
       "13121  51f13e1a-ca7c-4b5d-9b0c-123a6e0d9480   \n",
       "16867  ad7af755-4ae4-4644-a957-a949bf1cccec   \n",
       "27701  2d6cf199-8bac-4dca-9446-b97f7b5d05e9   \n",
       "47881  04ff3b09-ce00-48a0-aa05-7c99e03ddfdc   \n",
       "48071  cd6e19e9-f652-49be-b665-43aaeab48cb7   \n",
       "\n",
       "                                             description  document_type  \\\n",
       "13121  after an investment of £8.12m by hmcts birming...  press_release   \n",
       "16867  hmcts will today (18 january 2018) launch a te...  press_release   \n",
       "27701  new dates announced in hm courts and tribunals...     news_story   \n",
       "47881  use this index when submitting a 'core bundle'...           form   \n",
       "48071  use this index when submitting a 'core bundle'...           form   \n",
       "\n",
       "             document_type_gp       first_published_at        how_tagged  \\\n",
       "13121  news_and_announcements  2018-03-01 11:00:18.000  algorithm_v2.0.0   \n",
       "16867  news_and_announcements  2018-01-19 10:47:26.000  algorithm_v2.0.0   \n",
       "27701  news_and_announcements  2018-01-10 15:43:00.000  algorithm_v2.0.0   \n",
       "47881                 service  2016-08-31 23:00:00.000  algorithm_v2.0.0   \n",
       "48071                 service  2016-08-31 23:00:00.000  algorithm_v2.0.0   \n",
       "\n",
       "      level1taxon locale primary_publishing_organisation      prob  prob_cat  \\\n",
       "13121         NaN     en   HM Courts & Tribunals Service  0.961648     >=0.8   \n",
       "16867         NaN     en   HM Courts & Tribunals Service  0.552992  0.5-0.59   \n",
       "27701         NaN     en                Legal Aid Agency  0.743616  0.7-0.79   \n",
       "47881         NaN     en   HM Courts & Tribunals Service  0.831607     >=0.8   \n",
       "48071         NaN     en   HM Courts & Tribunals Service  0.604943  0.6-0.69   \n",
       "\n",
       "      publishing_app                      taxon_tag taxon2label_bulk  \\\n",
       "13121      whitehall  Administrative justice reform              NaN   \n",
       "16867      whitehall  Administrative justice reform              NaN   \n",
       "27701      whitehall  Administrative justice reform              NaN   \n",
       "47881      whitehall  Administrative justice reform              NaN   \n",
       "48071      whitehall  Administrative justice reform              NaN   \n",
       "\n",
       "                                   taxon_id  \\\n",
       "13121  66f7bd95-7e8b-4f33-ad7f-77a13ae92d49   \n",
       "16867  66f7bd95-7e8b-4f33-ad7f-77a13ae92d49   \n",
       "27701  66f7bd95-7e8b-4f33-ad7f-77a13ae92d49   \n",
       "47881  66f7bd95-7e8b-4f33-ad7f-77a13ae92d49   \n",
       "48071  66f7bd95-7e8b-4f33-ad7f-77a13ae92d49   \n",
       "\n",
       "                                                   title untagged_type  \\\n",
       "13121  transformation of birmingham civil justice cen...      untagged   \n",
       "16867  hm courts & tribunals service launches project...      untagged   \n",
       "27701   civil/crime news: more dates for hmcts roadshows      untagged   \n",
       "47881  appeal a judicial review from the administrati...      untagged   \n",
       "48071  appeal an administrative judicial review or fr...      untagged   \n",
       "\n",
       "                    updated_at  \n",
       "13121  2018-03-12 16:04:23.928  \n",
       "16867  2018-03-12 16:09:18.338  \n",
       "27701  2018-01-16 13:33:44.968  \n",
       "47881  2018-03-21 15:11:25.946  \n",
       "48071  2018-03-21 15:11:46.329  "
      ]
     },
     "execution_count": 92,
     "metadata": {},
     "output_type": "execute_result"
    }
   ],
   "source": [
    "bulk_and_algorithm_tags[bulk_and_algorithm_tags['how_tagged']=='algorithm_v2.0.0'].head()"
   ]
  },
  {
   "cell_type": "code",
   "execution_count": 90,
   "metadata": {},
   "outputs": [
    {
     "data": {
      "text/plain": [
       "how_tagged\n",
       "algorithm_v2.0.0    79973\n",
       "bulk_tag            39917\n",
       "dtype: int64"
      ]
     },
     "execution_count": 90,
     "metadata": {},
     "output_type": "execute_result"
    }
   ],
   "source": [
    "bulk_and_algorithm_tags.groupby(['how_tagged']).size()"
   ]
  },
  {
   "cell_type": "code",
   "execution_count": 93,
   "metadata": {},
   "outputs": [],
   "source": [
    "bulk_and_algorithm_tags[['content_id', 'taxon_tag', 'taxon_id', 'how_tagged']].to_csv(os.path.join(DATADIR, 'bulk_and_algorithm_tags.csv.gz'),compression='gzip',index=False)"
   ]
  },
  {
   "cell_type": "code",
   "execution_count": null,
   "metadata": {},
   "outputs": [],
   "source": []
  }
 ],
 "metadata": {
  "kernelspec": {
   "display_name": "Environment (conda_tensorflow_p36)",
   "language": "python",
   "name": "conda_tensorflow_p36"
  },
  "language_info": {
   "codemirror_mode": {
    "name": "ipython",
    "version": 3
   },
   "file_extension": ".py",
   "mimetype": "text/x-python",
   "name": "python",
   "nbconvert_exporter": "python",
   "pygments_lexer": "ipython3",
   "version": "3.6.3"
  }
 },
 "nbformat": 4,
 "nbformat_minor": 2
}
