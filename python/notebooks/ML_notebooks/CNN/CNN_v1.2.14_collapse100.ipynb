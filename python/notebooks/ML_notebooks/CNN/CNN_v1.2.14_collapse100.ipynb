{
 "cells": [
  {
   "cell_type": "markdown",
   "metadata": {},
   "source": [
    "## Convolutional NN to classify govuk content to level2 taxons"
   ]
  },
  {
   "cell_type": "markdown",
   "metadata": {},
   "source": [
    "Based on:\n",
    "https://blog.keras.io/using-pre-trained-word-embeddings-in-a-keras-model.html"
   ]
  },
  {
   "cell_type": "markdown",
   "metadata": {},
   "source": [
    "## To do:\n",
    "- ~~Consider grouping very small classes (especially if too small for evaluation)~~\n",
    "- ~~Split data into training, validation and test to avoid overfitting validation data during hyperparamter searches & model architecture changes~~\n",
    "- ~~Try learning embeddings~~--\n",
    "- ~~Try changing pos_ratio~~\n",
    "- Try implementing class_weights during model fit (does this do the same as the weighted binary corss entropy?)\n",
    "- Work on tensorboard callbacks\n",
    "- ~~Create dictionary of class indices to taxon names for viewing results~~\n",
    "- ~~Check model architecture~~\n",
    "- ~~consider relationship of training error to validation error - overfitting/bias?~~\n",
    "- ~~train longer~~\n",
    "- Try differnet max_sequence_length\n",
    "- Check batch size is appropriate\n",
    "- Also think about:\n",
    "  - ~~regularization (e.g. dropout)~~ \n",
    "  - fine-tuning the Embedding layer"
   ]
  },
  {
   "cell_type": "markdown",
   "metadata": {},
   "source": [
    "### Load requirements and data"
   ]
  },
  {
   "cell_type": "markdown",
   "metadata": {},
   "source": [
    "TODO: edit requirement.txt to include only these packages and do not include tensorflow because this conflicts with tf on AWS when using on GPU."
   ]
  },
  {
   "cell_type": "code",
   "execution_count": 1,
   "metadata": {},
   "outputs": [
    {
     "name": "stderr",
     "output_type": "stream",
     "text": [
      "Using TensorFlow backend.\n",
      "/home/ubuntu/anaconda3/envs/tensorflow_p36/lib/python3.6/importlib/_bootstrap.py:219: RuntimeWarning: compiletime version 3.5 of module 'tensorflow.python.framework.fast_tensor_util' does not match runtime version 3.6\n",
      "  return f(*args, **kwds)\n"
     ]
    }
   ],
   "source": [
    "import pandas as pd\n",
    "import numpy as np\n",
    "import os\n",
    "from datetime import datetime\n",
    "from keras.preprocessing.text import Tokenizer\n",
    "from keras.preprocessing.sequence import pad_sequences\n",
    "\n",
    "from keras.utils import to_categorical, layer_utils, plot_model\n",
    "\n",
    "from keras.layers import (Embedding, Input, Dense, Dropout, \n",
    "                          Activation, Conv1D, MaxPooling1D, Flatten, concatenate, Reshape)\n",
    "from keras.models import Model, Sequential\n",
    "from keras.optimizers import rmsprop\n",
    "from keras.callbacks import TensorBoard, Callback, ModelCheckpoint\n",
    "import keras.backend as K\n",
    "from keras.losses import binary_crossentropy\n",
    "\n",
    "from sklearn.preprocessing import LabelEncoder, MultiLabelBinarizer\n",
    "from sklearn.metrics import confusion_matrix, f1_score, precision_score, recall_score \n",
    "from sklearn.metrics import precision_recall_fscore_support, classification_report\n",
    "from sklearn.utils import class_weight\n",
    "\n",
    "import tensorflow as tf\n",
    "\n",
    "import matplotlib.pyplot as plt\n",
    "%matplotlib inline\n",
    "\n",
    "import functools\n",
    "\n",
    "import h5py\n"
   ]
  },
  {
   "cell_type": "markdown",
   "metadata": {},
   "source": [
    "### Environmental vars"
   ]
  },
  {
   "cell_type": "code",
   "execution_count": 2,
   "metadata": {},
   "outputs": [],
   "source": [
    "DATADIR=os.getenv('DATADIR')\n",
    "#DATADIR='/data' #this was put in for AWS run but doesn't work locally..."
   ]
  },
  {
   "cell_type": "markdown",
   "metadata": {},
   "source": [
    "## Hyperparameters"
   ]
  },
  {
   "cell_type": "markdown",
   "metadata": {},
   "source": [
    "Intuition for POS_RATIO is that it penalises the prediction of zero for everything, which is attractive to the model because the multilabel y matrix is super sparse. \n",
    "\n",
    "Increasing POS_RATIO should penalise predicting zeros more."
   ]
  },
  {
   "cell_type": "code",
   "execution_count": 3,
   "metadata": {},
   "outputs": [],
   "source": [
    "#MAX_NB_WORDS\n",
    "MAX_SEQUENCE_LENGTH =1000\n",
    "EMBEDDING_DIM = 100 # keras embedding layer output_dim = Dimension of the dense embedding\n",
    "P_THRESHOLD = 0.5 #Threshold for probability of being assigned to class\n",
    "POS_RATIO = 0.5 #ratio of positive to negative for each class in weighted binary cross entropy loss function\n",
    "NUM_WORDS=20000 #keras tokenizer num_words: None or int. Maximum number of words to work with \n",
    "#(if set, tokenization will be restricted to the top num_words most common words in the dataset)."
   ]
  },
  {
   "cell_type": "markdown",
   "metadata": {},
   "source": [
    "### Read in data\n",
    "Content items tagged to level 2 taxons or lower in the topic taxonomy"
   ]
  },
  {
   "cell_type": "code",
   "execution_count": 4,
   "metadata": {},
   "outputs": [],
   "source": [
    "labelled_level2 = pd.read_csv(os.path.join(DATADIR, 'labelled_level2.csv.gz'), dtype=object, compression='gzip')"
   ]
  },
  {
   "cell_type": "code",
   "execution_count": 5,
   "metadata": {},
   "outputs": [
    {
     "data": {
      "text/html": [
       "<div>\n",
       "<style scoped>\n",
       "    .dataframe tbody tr th:only-of-type {\n",
       "        vertical-align: middle;\n",
       "    }\n",
       "\n",
       "    .dataframe tbody tr th {\n",
       "        vertical-align: top;\n",
       "    }\n",
       "\n",
       "    .dataframe thead th {\n",
       "        text-align: right;\n",
       "    }\n",
       "</style>\n",
       "<table border=\"1\" class=\"dataframe\">\n",
       "  <thead>\n",
       "    <tr style=\"text-align: right;\">\n",
       "      <th></th>\n",
       "      <th>Unnamed: 0</th>\n",
       "      <th>Unnamed: 0.1</th>\n",
       "      <th>base_path</th>\n",
       "      <th>content_id</th>\n",
       "      <th>description</th>\n",
       "      <th>details</th>\n",
       "      <th>document_type</th>\n",
       "      <th>first_published_at</th>\n",
       "      <th>locale</th>\n",
       "      <th>primary_publishing_organisation</th>\n",
       "      <th>...</th>\n",
       "      <th>body</th>\n",
       "      <th>combined_text</th>\n",
       "      <th>taxon_id</th>\n",
       "      <th>taxon_base_path</th>\n",
       "      <th>taxon_name</th>\n",
       "      <th>level1taxon</th>\n",
       "      <th>level2taxon</th>\n",
       "      <th>level3taxon</th>\n",
       "      <th>level4taxon</th>\n",
       "      <th>level5taxon</th>\n",
       "    </tr>\n",
       "  </thead>\n",
       "  <tbody>\n",
       "    <tr>\n",
       "      <th>57690</th>\n",
       "      <td>133980</td>\n",
       "      <td>53847.0</td>\n",
       "      <td>/government/collections/emma-jones-small-busin...</td>\n",
       "      <td>00029fa4-9b60-4285-898c-85ae8a6367f5</td>\n",
       "      <td>as small business crown representative emma is...</td>\n",
       "      <td>{'political': False, 'body': '&lt;div class=\"govs...</td>\n",
       "      <td>document_collection</td>\n",
       "      <td>2017-01-11T10:18:00.000+00:00</td>\n",
       "      <td>en</td>\n",
       "      <td>{'title': 'Crown Commercial Service'}</td>\n",
       "      <td>...</td>\n",
       "      <td>emma was appointed as small business crown rep...</td>\n",
       "      <td>emma jones - small business crown representati...</td>\n",
       "      <td>f3caf326-fe33-410f-b7f4-553f4011c81e</td>\n",
       "      <td>/government/government-spending</td>\n",
       "      <td>Government spending</td>\n",
       "      <td>Government</td>\n",
       "      <td>Government spending</td>\n",
       "      <td>NaN</td>\n",
       "      <td>NaN</td>\n",
       "      <td>NaN</td>\n",
       "    </tr>\n",
       "    <tr>\n",
       "      <th>30438</th>\n",
       "      <td>54663</td>\n",
       "      <td>660014.0</td>\n",
       "      <td>/government/publications/land-remediation-brin...</td>\n",
       "      <td>00037b70-5b08-44c2-bf0a-fa8eb636a60b</td>\n",
       "      <td>brochure showing uk expertise in land remediat...</td>\n",
       "      <td>{'political': False, 'change_history': [{'note...</td>\n",
       "      <td>promotional</td>\n",
       "      <td>2015-05-11T10:41:00.000+00:00</td>\n",
       "      <td>en</td>\n",
       "      <td>{'title': 'Department for International Trade'}</td>\n",
       "      <td>...</td>\n",
       "      <td>the uk was the first industrialised country in...</td>\n",
       "      <td>land remediation: bringing brownfield sites ba...</td>\n",
       "      <td>21eee04d-e702-4e7b-9fde-2f6777f1be2c</td>\n",
       "      <td>/business/business-and-enterprise</td>\n",
       "      <td>Business and enterprise</td>\n",
       "      <td>Business</td>\n",
       "      <td>Business and enterprise</td>\n",
       "      <td>NaN</td>\n",
       "      <td>NaN</td>\n",
       "      <td>NaN</td>\n",
       "    </tr>\n",
       "    <tr>\n",
       "      <th>125773</th>\n",
       "      <td>234347</td>\n",
       "      <td>800450.0</td>\n",
       "      <td>/government/publications/land-remediation-brin...</td>\n",
       "      <td>00037b70-5b08-44c2-bf0a-fa8eb636a60b</td>\n",
       "      <td>brochure showing uk expertise in land remediat...</td>\n",
       "      <td>{'political': False, 'change_history': [{'note...</td>\n",
       "      <td>promotional</td>\n",
       "      <td>2015-05-11T10:41:00.000+00:00</td>\n",
       "      <td>en</td>\n",
       "      <td>{'title': 'Department for International Trade'}</td>\n",
       "      <td>...</td>\n",
       "      <td>the uk was the first industrialised country in...</td>\n",
       "      <td>land remediation: bringing brownfield sites ba...</td>\n",
       "      <td>ed2ca1f7-5463-4eda-9324-b597e269e242</td>\n",
       "      <td>/business/trade-and-investment</td>\n",
       "      <td>Trade and investment</td>\n",
       "      <td>Business</td>\n",
       "      <td>Trade and investment</td>\n",
       "      <td>NaN</td>\n",
       "      <td>NaN</td>\n",
       "      <td>NaN</td>\n",
       "    </tr>\n",
       "    <tr>\n",
       "      <th>17256</th>\n",
       "      <td>38164</td>\n",
       "      <td>519578.0</td>\n",
       "      <td>/government/publications/land-remediation-brin...</td>\n",
       "      <td>00037b70-5b08-44c2-bf0a-fa8eb636a60b</td>\n",
       "      <td>brochure showing uk expertise in land remediat...</td>\n",
       "      <td>{'political': False, 'change_history': [{'note...</td>\n",
       "      <td>promotional</td>\n",
       "      <td>2015-05-11T10:41:00.000+00:00</td>\n",
       "      <td>en</td>\n",
       "      <td>{'title': 'Department for International Trade'}</td>\n",
       "      <td>...</td>\n",
       "      <td>the uk was the first industrialised country in...</td>\n",
       "      <td>land remediation: bringing brownfield sites ba...</td>\n",
       "      <td>a1e4659c-dc15-48be-bc4f-6c609ae061dc</td>\n",
       "      <td>/business/uk-economy</td>\n",
       "      <td>UK economy</td>\n",
       "      <td>Business</td>\n",
       "      <td>UK economy</td>\n",
       "      <td>NaN</td>\n",
       "      <td>NaN</td>\n",
       "      <td>NaN</td>\n",
       "    </tr>\n",
       "    <tr>\n",
       "      <th>136046</th>\n",
       "      <td>249846</td>\n",
       "      <td>102628.0</td>\n",
       "      <td>/government/statistics/steps-2-successni-stati...</td>\n",
       "      <td>00037ee5-7b5e-452d-a233-af2c134f5bce</td>\n",
       "      <td>details on the number of referrals and starts ...</td>\n",
       "      <td>{'political': False, 'change_history': [{'note...</td>\n",
       "      <td>official_statistics</td>\n",
       "      <td>2016-11-24T09:30:13.000+00:00</td>\n",
       "      <td>en</td>\n",
       "      <td>{'title': 'Department for Communities (Norther...</td>\n",
       "      <td>...</td>\n",
       "      <td>statistics presented include details on the nu...</td>\n",
       "      <td>steps 2 success:ni statistics from october 201...</td>\n",
       "      <td>a1e624ed-e268-44ab-ac3f-4d3cb2bb8cb5</td>\n",
       "      <td>/regional-and-local-government/northern-ireland</td>\n",
       "      <td>Northern Ireland</td>\n",
       "      <td>Regional and local government</td>\n",
       "      <td>Northern Ireland</td>\n",
       "      <td>NaN</td>\n",
       "      <td>NaN</td>\n",
       "      <td>NaN</td>\n",
       "    </tr>\n",
       "  </tbody>\n",
       "</table>\n",
       "<p>5 rows × 23 columns</p>\n",
       "</div>"
      ],
      "text/plain": [
       "       Unnamed: 0 Unnamed: 0.1  \\\n",
       "57690      133980      53847.0   \n",
       "30438       54663     660014.0   \n",
       "125773     234347     800450.0   \n",
       "17256       38164     519578.0   \n",
       "136046     249846     102628.0   \n",
       "\n",
       "                                                base_path  \\\n",
       "57690   /government/collections/emma-jones-small-busin...   \n",
       "30438   /government/publications/land-remediation-brin...   \n",
       "125773  /government/publications/land-remediation-brin...   \n",
       "17256   /government/publications/land-remediation-brin...   \n",
       "136046  /government/statistics/steps-2-successni-stati...   \n",
       "\n",
       "                                  content_id  \\\n",
       "57690   00029fa4-9b60-4285-898c-85ae8a6367f5   \n",
       "30438   00037b70-5b08-44c2-bf0a-fa8eb636a60b   \n",
       "125773  00037b70-5b08-44c2-bf0a-fa8eb636a60b   \n",
       "17256   00037b70-5b08-44c2-bf0a-fa8eb636a60b   \n",
       "136046  00037ee5-7b5e-452d-a233-af2c134f5bce   \n",
       "\n",
       "                                              description  \\\n",
       "57690   as small business crown representative emma is...   \n",
       "30438   brochure showing uk expertise in land remediat...   \n",
       "125773  brochure showing uk expertise in land remediat...   \n",
       "17256   brochure showing uk expertise in land remediat...   \n",
       "136046  details on the number of referrals and starts ...   \n",
       "\n",
       "                                                  details  \\\n",
       "57690   {'political': False, 'body': '<div class=\"govs...   \n",
       "30438   {'political': False, 'change_history': [{'note...   \n",
       "125773  {'political': False, 'change_history': [{'note...   \n",
       "17256   {'political': False, 'change_history': [{'note...   \n",
       "136046  {'political': False, 'change_history': [{'note...   \n",
       "\n",
       "              document_type             first_published_at locale  \\\n",
       "57690   document_collection  2017-01-11T10:18:00.000+00:00     en   \n",
       "30438           promotional  2015-05-11T10:41:00.000+00:00     en   \n",
       "125773          promotional  2015-05-11T10:41:00.000+00:00     en   \n",
       "17256           promotional  2015-05-11T10:41:00.000+00:00     en   \n",
       "136046  official_statistics  2016-11-24T09:30:13.000+00:00     en   \n",
       "\n",
       "                          primary_publishing_organisation     ...      \\\n",
       "57690               {'title': 'Crown Commercial Service'}     ...       \n",
       "30438     {'title': 'Department for International Trade'}     ...       \n",
       "125773    {'title': 'Department for International Trade'}     ...       \n",
       "17256     {'title': 'Department for International Trade'}     ...       \n",
       "136046  {'title': 'Department for Communities (Norther...     ...       \n",
       "\n",
       "                                                     body  \\\n",
       "57690   emma was appointed as small business crown rep...   \n",
       "30438   the uk was the first industrialised country in...   \n",
       "125773  the uk was the first industrialised country in...   \n",
       "17256   the uk was the first industrialised country in...   \n",
       "136046  statistics presented include details on the nu...   \n",
       "\n",
       "                                            combined_text  \\\n",
       "57690   emma jones - small business crown representati...   \n",
       "30438   land remediation: bringing brownfield sites ba...   \n",
       "125773  land remediation: bringing brownfield sites ba...   \n",
       "17256   land remediation: bringing brownfield sites ba...   \n",
       "136046  steps 2 success:ni statistics from october 201...   \n",
       "\n",
       "                                    taxon_id  \\\n",
       "57690   f3caf326-fe33-410f-b7f4-553f4011c81e   \n",
       "30438   21eee04d-e702-4e7b-9fde-2f6777f1be2c   \n",
       "125773  ed2ca1f7-5463-4eda-9324-b597e269e242   \n",
       "17256   a1e4659c-dc15-48be-bc4f-6c609ae061dc   \n",
       "136046  a1e624ed-e268-44ab-ac3f-4d3cb2bb8cb5   \n",
       "\n",
       "                                        taxon_base_path  \\\n",
       "57690                   /government/government-spending   \n",
       "30438                 /business/business-and-enterprise   \n",
       "125773                   /business/trade-and-investment   \n",
       "17256                              /business/uk-economy   \n",
       "136046  /regional-and-local-government/northern-ireland   \n",
       "\n",
       "                     taxon_name                    level1taxon  \\\n",
       "57690       Government spending                     Government   \n",
       "30438   Business and enterprise                       Business   \n",
       "125773     Trade and investment                       Business   \n",
       "17256                UK economy                       Business   \n",
       "136046         Northern Ireland  Regional and local government   \n",
       "\n",
       "                    level2taxon level3taxon level4taxon level5taxon  \n",
       "57690       Government spending         NaN         NaN         NaN  \n",
       "30438   Business and enterprise         NaN         NaN         NaN  \n",
       "125773     Trade and investment         NaN         NaN         NaN  \n",
       "17256                UK economy         NaN         NaN         NaN  \n",
       "136046         Northern Ireland         NaN         NaN         NaN  \n",
       "\n",
       "[5 rows x 23 columns]"
      ]
     },
     "execution_count": 5,
     "metadata": {},
     "output_type": "execute_result"
    }
   ],
   "source": [
    "labelled_level2.sort_values('content_id').head()"
   ]
  },
  {
   "cell_type": "markdown",
   "metadata": {},
   "source": [
    "### Collapse taxons with insufficient support for predictions (will need to be manually tagged)"
   ]
  },
  {
   "cell_type": "code",
   "execution_count": 6,
   "metadata": {},
   "outputs": [],
   "source": [
    "#count the number of taxons per content item into new column\n",
    "labelled_level2['num_content_per_taxon'] = labelled_level2.groupby([\"level2taxon\"])['level2taxon'].transform(\"count\")"
   ]
  },
  {
   "cell_type": "code",
   "execution_count": 7,
   "metadata": {},
   "outputs": [],
   "source": [
    "#COLLAPSE level2taxons with too few content items into \"toosmall\" category\n",
    "labelled_level2.loc[labelled_level2['num_content_per_taxon'] < 100, 'level2taxon'] = 'TOO_SMALL'"
   ]
  },
  {
   "cell_type": "markdown",
   "metadata": {},
   "source": [
    "#### clean up any World taxons leftover despite dropping relevant doctypes"
   ]
  },
  {
   "cell_type": "code",
   "execution_count": 8,
   "metadata": {},
   "outputs": [],
   "source": [
    "#COLLAPSE World level2taxons\n",
    "labelled_level2.loc[labelled_level2['level1taxon'] == 'World', 'level2taxon'] = 'world_level1'\n",
    "\n",
    "#creating categorical variable for level2taxons from values\n",
    "labelled_level2['level2taxon'] = labelled_level2['level2taxon'].astype('category')"
   ]
  },
  {
   "cell_type": "code",
   "execution_count": 9,
   "metadata": {},
   "outputs": [
    {
     "data": {
      "text/plain": [
       "(173560, 24)"
      ]
     },
     "execution_count": 9,
     "metadata": {},
     "output_type": "execute_result"
    }
   ],
   "source": [
    "labelled_level2.shape"
   ]
  },
  {
   "cell_type": "markdown",
   "metadata": {},
   "source": [
    "### drop news"
   ]
  },
  {
   "cell_type": "code",
   "execution_count": 10,
   "metadata": {},
   "outputs": [
    {
     "data": {
      "text/plain": [
       "(3927, 24)"
      ]
     },
     "execution_count": 10,
     "metadata": {},
     "output_type": "execute_result"
    }
   ],
   "source": [
    "labelled_level2[(labelled_level2['document_type'] == 'world_news_story')].shape"
   ]
  },
  {
   "cell_type": "code",
   "execution_count": 11,
   "metadata": {},
   "outputs": [
    {
     "data": {
      "text/plain": [
       "(33214, 24)"
      ]
     },
     "execution_count": 11,
     "metadata": {},
     "output_type": "execute_result"
    }
   ],
   "source": [
    "labelled_level2[(labelled_level2['document_type'] == 'news_story')].shape"
   ]
  },
  {
   "cell_type": "code",
   "execution_count": 12,
   "metadata": {},
   "outputs": [],
   "source": [
    "nonews = labelled_level2[(labelled_level2['document_type'] != 'news_story')]\n",
    "\n",
    "nonews = nonews[nonews['document_type'] != 'world_news_story']"
   ]
  },
  {
   "cell_type": "code",
   "execution_count": 13,
   "metadata": {},
   "outputs": [
    {
     "data": {
      "text/plain": [
       "(136419, 24)"
      ]
     },
     "execution_count": 13,
     "metadata": {},
     "output_type": "execute_result"
    }
   ],
   "source": [
    "nonews.shape"
   ]
  },
  {
   "cell_type": "markdown",
   "metadata": {},
   "source": [
    "### Create dictionary mapping taxon codes to string labels"
   ]
  },
  {
   "cell_type": "code",
   "execution_count": 14,
   "metadata": {},
   "outputs": [
    {
     "data": {
      "text/plain": [
       "{1: 'Afghanistan',\n",
       " 2: 'Armed Forces Covenant',\n",
       " 3: 'Armed forces and Ministry of Defence reform',\n",
       " 4: 'Armed forces support for activities in the UK',\n",
       " 5: 'Arts and culture',\n",
       " 6: 'Aviation',\n",
       " 7: 'Biodiversity and ecosystems',\n",
       " 8: 'Brexit',\n",
       " 9: 'British nationals overseas',\n",
       " 10: 'Business and enterprise',\n",
       " 11: 'Business and the environment',\n",
       " 12: 'Business tax',\n",
       " 13: 'Child Benefit',\n",
       " 14: 'Child maintenance reform',\n",
       " 15: 'Childcare and early years',\n",
       " 16: 'Civil service reform',\n",
       " 17: 'Climate change and energy',\n",
       " 18: 'Commercial fishing and fisheries',\n",
       " 19: 'Community and society',\n",
       " 20: 'Conflict in fragile states',\n",
       " 21: 'Constitutional affairs',\n",
       " 22: 'Consumer rights and issues',\n",
       " 23: 'Counter-terrorism',\n",
       " 24: 'Crime prevention',\n",
       " 25: 'Cyber security',\n",
       " 26: 'Dealing with HMRC',\n",
       " 27: 'Driving and road transport',\n",
       " 28: 'Education of disadvantaged children',\n",
       " 29: 'Emergency preparation, response and recovery',\n",
       " 30: 'Employing people',\n",
       " 31: 'Environmental quality',\n",
       " 32: 'Equality, rights and citizenship',\n",
       " 33: 'European single market',\n",
       " 34: 'Financial services',\n",
       " 35: 'Fire prevention and rescue',\n",
       " 36: 'Flooding and coastal change',\n",
       " 37: 'Food and farming',\n",
       " 38: 'Foreign affairs',\n",
       " 39: 'Freight and cargo',\n",
       " 40: 'Further and higher education, skills and vocational training',\n",
       " 41: 'Government efficiency, transparency and accountability',\n",
       " 42: 'Government spending',\n",
       " 43: 'Health protection',\n",
       " 44: 'Housing',\n",
       " 45: 'Housing planning and building',\n",
       " 46: 'Human rights internationally',\n",
       " 47: 'Industrial strategy',\n",
       " 48: 'Inspections and performance of education providers',\n",
       " 49: 'International aid and development',\n",
       " 50: 'International defence commitments',\n",
       " 51: 'Justice system transparency',\n",
       " 52: 'Labour market reform',\n",
       " 53: 'Land registration',\n",
       " 54: 'Legal aid',\n",
       " 55: 'Local government',\n",
       " 56: 'Local government spending',\n",
       " 57: 'Local transport',\n",
       " 58: 'Localism',\n",
       " 59: 'Major project management',\n",
       " 60: 'Marine',\n",
       " 61: 'Maritime',\n",
       " 62: 'Media and communications',\n",
       " 63: 'Medicines, medical devices and blood regulation and safety',\n",
       " 64: 'National Health Service',\n",
       " 65: 'National events and ceremonies',\n",
       " 66: 'National security',\n",
       " 67: 'Northern Ireland',\n",
       " 68: 'Peace and stability in the Middle East and North Africa',\n",
       " 69: 'Pensions and ageing society',\n",
       " 70: 'Personal tax',\n",
       " 71: 'Policing',\n",
       " 72: 'Public health',\n",
       " 73: 'Pupil wellbeing, behaviour and attendance',\n",
       " 74: 'Rail',\n",
       " 75: 'Regulation reform',\n",
       " 76: 'Reoffending and rehabilitation',\n",
       " 77: 'Road infrastructure',\n",
       " 78: 'Running and managing a school',\n",
       " 79: 'Rural and countryside',\n",
       " 80: 'Safeguarding and social care for children',\n",
       " 81: 'School and academy financial management and assurance',\n",
       " 82: 'School and academy funding',\n",
       " 83: 'School curriculum',\n",
       " 84: 'Science and innovation',\n",
       " 85: 'Scotland',\n",
       " 86: 'Social care',\n",
       " 87: 'Special educational needs and disability (SEND) and high needs',\n",
       " 88: 'Sports and leisure',\n",
       " 89: 'Sustainable development',\n",
       " 90: 'TOO_SMALL',\n",
       " 91: 'Tax evasion and avoidance',\n",
       " 92: 'Teaching and leadership',\n",
       " 93: 'Tourism',\n",
       " 94: 'Trade and investment',\n",
       " 95: 'Transport corporate and transparency',\n",
       " 96: 'Transport statistics',\n",
       " 97: 'UK economy',\n",
       " 98: 'UK prosperity and security: Asia, Latin America and Africa',\n",
       " 99: 'Violence against women and girls',\n",
       " 100: 'Visas',\n",
       " 101: 'Wales',\n",
       " 102: 'Waste and recycling',\n",
       " 103: 'Water industry',\n",
       " 104: 'Weapons proliferation',\n",
       " 105: 'Wildlife and animal welfare',\n",
       " 106: 'Working, jobs and pensions',\n",
       " 107: 'world_level1'}"
      ]
     },
     "execution_count": 14,
     "metadata": {},
     "output_type": "execute_result"
    }
   ],
   "source": [
    "#Get the category numeric values (codes) and avoid zero-indexing\n",
    "labels = nonews['level2taxon'].cat.codes + 1\n",
    "\n",
    "#create dictionary of taxon category code to string label for use in model evaluation\n",
    "labels_index = dict(zip((labels), nonews['level2taxon']))\n",
    "labels_index"
   ]
  },
  {
   "cell_type": "code",
   "execution_count": 15,
   "metadata": {},
   "outputs": [
    {
     "name": "stdout",
     "output_type": "stream",
     "text": [
      "107\n"
     ]
    }
   ],
   "source": [
    "print(len(labels_index))"
   ]
  },
  {
   "cell_type": "markdown",
   "metadata": {},
   "source": [
    "### Create target/Y "
   ]
  },
  {
   "cell_type": "markdown",
   "metadata": {},
   "source": [
    "Note: when using the categorical_crossentropy loss, your targets should be in categorical format (e.g. if you have 10 classes, the target for each sample should be a 10-dimensional vector that is all-zeros expect for a 1 at the index corresponding to the class of the sample)."
   ]
  },
  {
   "cell_type": "markdown",
   "metadata": {},
   "source": [
    "In multilabel learning, the joint set of binary classification tasks is expressed with label binary indicator array: each sample is one row of a 2d array of shape (n_samples, n_classes) with binary values:  \n",
    "the one, i.e. the non zero elements, corresponds to the subset of labels.  \n",
    "An array such as np.array([[1, 0, 0], [0, 1, 1], [0, 0, 0]]) represents label 0 in the first sample, labels 1 and 2 in the second sample, and no labels in the third sample.  \n",
    "Producing multilabel data as a list of sets of labels may be more intuitive."
   ]
  },
  {
   "cell_type": "markdown",
   "metadata": {},
   "source": [
    "####  First reshape wide to get columns for each level2taxon and row number = number unique urls"
   ]
  },
  {
   "cell_type": "code",
   "execution_count": 16,
   "metadata": {},
   "outputs": [
    {
     "name": "stdout",
     "output_type": "stream",
     "text": [
      "Number of unique level2taxons: 107\n"
     ]
    }
   ],
   "source": [
    "#get a smaller copy of data for pivoting ease (think you can work from full data actually and other cols get droopedauto)\n",
    "\n",
    "level2_reduced = nonews[['content_id', 'level2taxon', 'combined_text', 'title', 'description']].copy()\n",
    "\n",
    "#how many level2taxons are there?\n",
    "print('Number of unique level2taxons: {}'.format(level2_reduced.level2taxon.nunique()))\n",
    "\n",
    "#count the number of taxons per content item into new column\n",
    "level2_reduced['num_taxon_per_content'] = level2_reduced.groupby([\"content_id\"])['content_id'].transform(\"count\")\n",
    "\n",
    "#Add 1 because of zero-indexing to get 1-number of level2taxons as numerical targets\n",
    "level2_reduced['level2taxon_code'] = level2_reduced.level2taxon.astype('category').cat.codes + 1"
   ]
  },
  {
   "cell_type": "code",
   "execution_count": 17,
   "metadata": {},
   "outputs": [
    {
     "name": "stdout",
     "output_type": "stream",
     "text": [
      "Number of unique level2taxons: 107\n"
     ]
    }
   ],
   "source": [
    "#how many level2taxons are there?\n",
    "print('Number of unique level2taxons: {}'.format(labelled_level2.level2taxon.nunique()))\n",
    "\n",
    "#count the number of taxons per content item into new column\n",
    "labelled_level2['num_taxon_per_content'] = labelled_level2.groupby([\"content_id\"])['content_id'].transform(\"count\")\n",
    "\n",
    "#Add 1 because of zero-indexing to get 1-number of level2taxons as numerical targets\n",
    "labelled_level2['level2taxon_code'] = labelled_level2.level2taxon.astype('category').cat.codes + 1"
   ]
  },
  {
   "cell_type": "code",
   "execution_count": 18,
   "metadata": {},
   "outputs": [
    {
     "name": "stdout",
     "output_type": "stream",
     "text": [
      "level2reduced shape: (136419, 7)\n",
      "pivot table shape (no duplicates): (92338, 107) \n",
      "level2taxon_code                                                                                                                                                                               1    \\\n",
      "content_id                           combined_text                                      title                                              description                                               \n",
      "00029fa4-9b60-4285-898c-85ae8a6367f5 emma jones - small business crown representativ... emma jones - small business crown representative   as small business crown representative emma is ...  NaN   \n",
      "00037b70-5b08-44c2-bf0a-fa8eb636a60b land remediation: bringing brownfield sites bac... land remediation: bringing brownfield sites bac... brochure showing uk expertise in land remediati...  NaN   \n",
      "00037ee5-7b5e-452d-a233-af2c134f5bce steps 2 success:ni statistics from october 2014... steps 2 success:ni statistics from october 2014... details on the number of referrals and starts o...  NaN   \n",
      "0004c63d-ae16-432a-bb35-c0f949b1e27c student support applications for higher educati... student support applications for higher educati... data includes the number of applications receiv...  NaN   \n",
      "0005ac76-50fe-42f1-8168-8b6fc046e40f advice for building owners: large-scale wall sy... advice for building owners: large-scale wall sy... advice for building owners on the large-scale w...  NaN   \n",
      "\n",
      "level2taxon_code                                                                                                                                                                               2    \\\n",
      "content_id                           combined_text                                      title                                              description                                               \n",
      "00029fa4-9b60-4285-898c-85ae8a6367f5 emma jones - small business crown representativ... emma jones - small business crown representative   as small business crown representative emma is ...  NaN   \n",
      "00037b70-5b08-44c2-bf0a-fa8eb636a60b land remediation: bringing brownfield sites bac... land remediation: bringing brownfield sites bac... brochure showing uk expertise in land remediati...  NaN   \n",
      "00037ee5-7b5e-452d-a233-af2c134f5bce steps 2 success:ni statistics from october 2014... steps 2 success:ni statistics from october 2014... details on the number of referrals and starts o...  NaN   \n",
      "0004c63d-ae16-432a-bb35-c0f949b1e27c student support applications for higher educati... student support applications for higher educati... data includes the number of applications receiv...  NaN   \n",
      "0005ac76-50fe-42f1-8168-8b6fc046e40f advice for building owners: large-scale wall sy... advice for building owners: large-scale wall sy... advice for building owners on the large-scale w...  NaN   \n",
      "\n",
      "level2taxon_code                                                                                                                                                                               3    \\\n",
      "content_id                           combined_text                                      title                                              description                                               \n",
      "00029fa4-9b60-4285-898c-85ae8a6367f5 emma jones - small business crown representativ... emma jones - small business crown representative   as small business crown representative emma is ...  NaN   \n",
      "00037b70-5b08-44c2-bf0a-fa8eb636a60b land remediation: bringing brownfield sites bac... land remediation: bringing brownfield sites bac... brochure showing uk expertise in land remediati...  NaN   \n",
      "00037ee5-7b5e-452d-a233-af2c134f5bce steps 2 success:ni statistics from october 2014... steps 2 success:ni statistics from october 2014... details on the number of referrals and starts o...  NaN   \n",
      "0004c63d-ae16-432a-bb35-c0f949b1e27c student support applications for higher educati... student support applications for higher educati... data includes the number of applications receiv...  NaN   \n",
      "0005ac76-50fe-42f1-8168-8b6fc046e40f advice for building owners: large-scale wall sy... advice for building owners: large-scale wall sy... advice for building owners on the large-scale w...  NaN   \n",
      "\n",
      "level2taxon_code                                                                                                                                                                               4    \\\n",
      "content_id                           combined_text                                      title                                              description                                               \n",
      "00029fa4-9b60-4285-898c-85ae8a6367f5 emma jones - small business crown representativ... emma jones - small business crown representative   as small business crown representative emma is ...  NaN   \n",
      "00037b70-5b08-44c2-bf0a-fa8eb636a60b land remediation: bringing brownfield sites bac... land remediation: bringing brownfield sites bac... brochure showing uk expertise in land remediati...  NaN   \n",
      "00037ee5-7b5e-452d-a233-af2c134f5bce steps 2 success:ni statistics from october 2014... steps 2 success:ni statistics from october 2014... details on the number of referrals and starts o...  NaN   \n",
      "0004c63d-ae16-432a-bb35-c0f949b1e27c student support applications for higher educati... student support applications for higher educati... data includes the number of applications receiv...  NaN   \n",
      "0005ac76-50fe-42f1-8168-8b6fc046e40f advice for building owners: large-scale wall sy... advice for building owners: large-scale wall sy... advice for building owners on the large-scale w...  NaN   \n",
      "\n",
      "level2taxon_code                                                                                                                                                                               5    \\\n",
      "content_id                           combined_text                                      title                                              description                                               \n",
      "00029fa4-9b60-4285-898c-85ae8a6367f5 emma jones - small business crown representativ... emma jones - small business crown representative   as small business crown representative emma is ...  NaN   \n",
      "00037b70-5b08-44c2-bf0a-fa8eb636a60b land remediation: bringing brownfield sites bac... land remediation: bringing brownfield sites bac... brochure showing uk expertise in land remediati...  NaN   \n",
      "00037ee5-7b5e-452d-a233-af2c134f5bce steps 2 success:ni statistics from october 2014... steps 2 success:ni statistics from october 2014... details on the number of referrals and starts o...  NaN   \n",
      "0004c63d-ae16-432a-bb35-c0f949b1e27c student support applications for higher educati... student support applications for higher educati... data includes the number of applications receiv...  NaN   \n",
      "0005ac76-50fe-42f1-8168-8b6fc046e40f advice for building owners: large-scale wall sy... advice for building owners: large-scale wall sy... advice for building owners on the large-scale w...  NaN   \n",
      "\n",
      "level2taxon_code                                                                                                                                                                               6    \\\n",
      "content_id                           combined_text                                      title                                              description                                               \n",
      "00029fa4-9b60-4285-898c-85ae8a6367f5 emma jones - small business crown representativ... emma jones - small business crown representative   as small business crown representative emma is ...  NaN   \n",
      "00037b70-5b08-44c2-bf0a-fa8eb636a60b land remediation: bringing brownfield sites bac... land remediation: bringing brownfield sites bac... brochure showing uk expertise in land remediati...  NaN   \n",
      "00037ee5-7b5e-452d-a233-af2c134f5bce steps 2 success:ni statistics from october 2014... steps 2 success:ni statistics from october 2014... details on the number of referrals and starts o...  NaN   \n",
      "0004c63d-ae16-432a-bb35-c0f949b1e27c student support applications for higher educati... student support applications for higher educati... data includes the number of applications receiv...  NaN   \n",
      "0005ac76-50fe-42f1-8168-8b6fc046e40f advice for building owners: large-scale wall sy... advice for building owners: large-scale wall sy... advice for building owners on the large-scale w...  NaN   \n",
      "\n",
      "level2taxon_code                                                                                                                                                                               7    \\\n",
      "content_id                           combined_text                                      title                                              description                                               \n",
      "00029fa4-9b60-4285-898c-85ae8a6367f5 emma jones - small business crown representativ... emma jones - small business crown representative   as small business crown representative emma is ...  NaN   \n",
      "00037b70-5b08-44c2-bf0a-fa8eb636a60b land remediation: bringing brownfield sites bac... land remediation: bringing brownfield sites bac... brochure showing uk expertise in land remediati...  NaN   \n",
      "00037ee5-7b5e-452d-a233-af2c134f5bce steps 2 success:ni statistics from october 2014... steps 2 success:ni statistics from october 2014... details on the number of referrals and starts o...  NaN   \n",
      "0004c63d-ae16-432a-bb35-c0f949b1e27c student support applications for higher educati... student support applications for higher educati... data includes the number of applications receiv...  NaN   \n",
      "0005ac76-50fe-42f1-8168-8b6fc046e40f advice for building owners: large-scale wall sy... advice for building owners: large-scale wall sy... advice for building owners on the large-scale w...  NaN   \n",
      "\n",
      "level2taxon_code                                                                                                                                                                               8    \\\n",
      "content_id                           combined_text                                      title                                              description                                               \n",
      "00029fa4-9b60-4285-898c-85ae8a6367f5 emma jones - small business crown representativ... emma jones - small business crown representative   as small business crown representative emma is ...  NaN   \n",
      "00037b70-5b08-44c2-bf0a-fa8eb636a60b land remediation: bringing brownfield sites bac... land remediation: bringing brownfield sites bac... brochure showing uk expertise in land remediati...  NaN   \n",
      "00037ee5-7b5e-452d-a233-af2c134f5bce steps 2 success:ni statistics from october 2014... steps 2 success:ni statistics from october 2014... details on the number of referrals and starts o...  NaN   \n",
      "0004c63d-ae16-432a-bb35-c0f949b1e27c student support applications for higher educati... student support applications for higher educati... data includes the number of applications receiv...  NaN   \n",
      "0005ac76-50fe-42f1-8168-8b6fc046e40f advice for building owners: large-scale wall sy... advice for building owners: large-scale wall sy... advice for building owners on the large-scale w...  NaN   \n",
      "\n",
      "level2taxon_code                                                                                                                                                                               9    \\\n",
      "content_id                           combined_text                                      title                                              description                                               \n",
      "00029fa4-9b60-4285-898c-85ae8a6367f5 emma jones - small business crown representativ... emma jones - small business crown representative   as small business crown representative emma is ...  NaN   \n",
      "00037b70-5b08-44c2-bf0a-fa8eb636a60b land remediation: bringing brownfield sites bac... land remediation: bringing brownfield sites bac... brochure showing uk expertise in land remediati...  NaN   \n",
      "00037ee5-7b5e-452d-a233-af2c134f5bce steps 2 success:ni statistics from october 2014... steps 2 success:ni statistics from october 2014... details on the number of referrals and starts o...  NaN   \n",
      "0004c63d-ae16-432a-bb35-c0f949b1e27c student support applications for higher educati... student support applications for higher educati... data includes the number of applications receiv...  NaN   \n",
      "0005ac76-50fe-42f1-8168-8b6fc046e40f advice for building owners: large-scale wall sy... advice for building owners: large-scale wall sy... advice for building owners on the large-scale w...  NaN   \n",
      "\n",
      "level2taxon_code                                                                                                                                                                               10   \\\n",
      "content_id                           combined_text                                      title                                              description                                               \n",
      "00029fa4-9b60-4285-898c-85ae8a6367f5 emma jones - small business crown representativ... emma jones - small business crown representative   as small business crown representative emma is ...  NaN   \n",
      "00037b70-5b08-44c2-bf0a-fa8eb636a60b land remediation: bringing brownfield sites bac... land remediation: bringing brownfield sites bac... brochure showing uk expertise in land remediati...  3.0   \n",
      "00037ee5-7b5e-452d-a233-af2c134f5bce steps 2 success:ni statistics from october 2014... steps 2 success:ni statistics from october 2014... details on the number of referrals and starts o...  NaN   \n",
      "0004c63d-ae16-432a-bb35-c0f949b1e27c student support applications for higher educati... student support applications for higher educati... data includes the number of applications receiv...  NaN   \n",
      "0005ac76-50fe-42f1-8168-8b6fc046e40f advice for building owners: large-scale wall sy... advice for building owners: large-scale wall sy... advice for building owners on the large-scale w...  NaN   \n",
      "\n",
      "level2taxon_code                                                                                                                                                                              ...   \\\n",
      "content_id                           combined_text                                      title                                              description                                        ...    \n",
      "00029fa4-9b60-4285-898c-85ae8a6367f5 emma jones - small business crown representativ... emma jones - small business crown representative   as small business crown representative emma is ... ...    \n",
      "00037b70-5b08-44c2-bf0a-fa8eb636a60b land remediation: bringing brownfield sites bac... land remediation: bringing brownfield sites bac... brochure showing uk expertise in land remediati... ...    \n",
      "00037ee5-7b5e-452d-a233-af2c134f5bce steps 2 success:ni statistics from october 2014... steps 2 success:ni statistics from october 2014... details on the number of referrals and starts o... ...    \n",
      "0004c63d-ae16-432a-bb35-c0f949b1e27c student support applications for higher educati... student support applications for higher educati... data includes the number of applications receiv... ...    \n",
      "0005ac76-50fe-42f1-8168-8b6fc046e40f advice for building owners: large-scale wall sy... advice for building owners: large-scale wall sy... advice for building owners on the large-scale w... ...    \n",
      "\n",
      "level2taxon_code                                                                                                                                                                               98   \\\n",
      "content_id                           combined_text                                      title                                              description                                               \n",
      "00029fa4-9b60-4285-898c-85ae8a6367f5 emma jones - small business crown representativ... emma jones - small business crown representative   as small business crown representative emma is ...  NaN   \n",
      "00037b70-5b08-44c2-bf0a-fa8eb636a60b land remediation: bringing brownfield sites bac... land remediation: bringing brownfield sites bac... brochure showing uk expertise in land remediati...  NaN   \n",
      "00037ee5-7b5e-452d-a233-af2c134f5bce steps 2 success:ni statistics from october 2014... steps 2 success:ni statistics from october 2014... details on the number of referrals and starts o...  NaN   \n",
      "0004c63d-ae16-432a-bb35-c0f949b1e27c student support applications for higher educati... student support applications for higher educati... data includes the number of applications receiv...  NaN   \n",
      "0005ac76-50fe-42f1-8168-8b6fc046e40f advice for building owners: large-scale wall sy... advice for building owners: large-scale wall sy... advice for building owners on the large-scale w...  NaN   \n",
      "\n",
      "level2taxon_code                                                                                                                                                                               99   \\\n",
      "content_id                           combined_text                                      title                                              description                                               \n",
      "00029fa4-9b60-4285-898c-85ae8a6367f5 emma jones - small business crown representativ... emma jones - small business crown representative   as small business crown representative emma is ...  NaN   \n",
      "00037b70-5b08-44c2-bf0a-fa8eb636a60b land remediation: bringing brownfield sites bac... land remediation: bringing brownfield sites bac... brochure showing uk expertise in land remediati...  NaN   \n",
      "00037ee5-7b5e-452d-a233-af2c134f5bce steps 2 success:ni statistics from october 2014... steps 2 success:ni statistics from october 2014... details on the number of referrals and starts o...  NaN   \n",
      "0004c63d-ae16-432a-bb35-c0f949b1e27c student support applications for higher educati... student support applications for higher educati... data includes the number of applications receiv...  NaN   \n",
      "0005ac76-50fe-42f1-8168-8b6fc046e40f advice for building owners: large-scale wall sy... advice for building owners: large-scale wall sy... advice for building owners on the large-scale w...  NaN   \n",
      "\n",
      "level2taxon_code                                                                                                                                                                               100  \\\n",
      "content_id                           combined_text                                      title                                              description                                               \n",
      "00029fa4-9b60-4285-898c-85ae8a6367f5 emma jones - small business crown representativ... emma jones - small business crown representative   as small business crown representative emma is ...  NaN   \n",
      "00037b70-5b08-44c2-bf0a-fa8eb636a60b land remediation: bringing brownfield sites bac... land remediation: bringing brownfield sites bac... brochure showing uk expertise in land remediati...  NaN   \n",
      "00037ee5-7b5e-452d-a233-af2c134f5bce steps 2 success:ni statistics from october 2014... steps 2 success:ni statistics from october 2014... details on the number of referrals and starts o...  NaN   \n",
      "0004c63d-ae16-432a-bb35-c0f949b1e27c student support applications for higher educati... student support applications for higher educati... data includes the number of applications receiv...  NaN   \n",
      "0005ac76-50fe-42f1-8168-8b6fc046e40f advice for building owners: large-scale wall sy... advice for building owners: large-scale wall sy... advice for building owners on the large-scale w...  NaN   \n",
      "\n",
      "level2taxon_code                                                                                                                                                                               101  \\\n",
      "content_id                           combined_text                                      title                                              description                                               \n",
      "00029fa4-9b60-4285-898c-85ae8a6367f5 emma jones - small business crown representativ... emma jones - small business crown representative   as small business crown representative emma is ...  NaN   \n",
      "00037b70-5b08-44c2-bf0a-fa8eb636a60b land remediation: bringing brownfield sites bac... land remediation: bringing brownfield sites bac... brochure showing uk expertise in land remediati...  NaN   \n",
      "00037ee5-7b5e-452d-a233-af2c134f5bce steps 2 success:ni statistics from october 2014... steps 2 success:ni statistics from october 2014... details on the number of referrals and starts o...  NaN   \n",
      "0004c63d-ae16-432a-bb35-c0f949b1e27c student support applications for higher educati... student support applications for higher educati... data includes the number of applications receiv...  1.0   \n",
      "0005ac76-50fe-42f1-8168-8b6fc046e40f advice for building owners: large-scale wall sy... advice for building owners: large-scale wall sy... advice for building owners on the large-scale w...  NaN   \n",
      "\n",
      "level2taxon_code                                                                                                                                                                               102  \\\n",
      "content_id                           combined_text                                      title                                              description                                               \n",
      "00029fa4-9b60-4285-898c-85ae8a6367f5 emma jones - small business crown representativ... emma jones - small business crown representative   as small business crown representative emma is ...  NaN   \n",
      "00037b70-5b08-44c2-bf0a-fa8eb636a60b land remediation: bringing brownfield sites bac... land remediation: bringing brownfield sites bac... brochure showing uk expertise in land remediati...  NaN   \n",
      "00037ee5-7b5e-452d-a233-af2c134f5bce steps 2 success:ni statistics from october 2014... steps 2 success:ni statistics from october 2014... details on the number of referrals and starts o...  NaN   \n",
      "0004c63d-ae16-432a-bb35-c0f949b1e27c student support applications for higher educati... student support applications for higher educati... data includes the number of applications receiv...  NaN   \n",
      "0005ac76-50fe-42f1-8168-8b6fc046e40f advice for building owners: large-scale wall sy... advice for building owners: large-scale wall sy... advice for building owners on the large-scale w...  NaN   \n",
      "\n",
      "level2taxon_code                                                                                                                                                                               103  \\\n",
      "content_id                           combined_text                                      title                                              description                                               \n",
      "00029fa4-9b60-4285-898c-85ae8a6367f5 emma jones - small business crown representativ... emma jones - small business crown representative   as small business crown representative emma is ...  NaN   \n",
      "00037b70-5b08-44c2-bf0a-fa8eb636a60b land remediation: bringing brownfield sites bac... land remediation: bringing brownfield sites bac... brochure showing uk expertise in land remediati...  NaN   \n",
      "00037ee5-7b5e-452d-a233-af2c134f5bce steps 2 success:ni statistics from october 2014... steps 2 success:ni statistics from october 2014... details on the number of referrals and starts o...  NaN   \n",
      "0004c63d-ae16-432a-bb35-c0f949b1e27c student support applications for higher educati... student support applications for higher educati... data includes the number of applications receiv...  NaN   \n",
      "0005ac76-50fe-42f1-8168-8b6fc046e40f advice for building owners: large-scale wall sy... advice for building owners: large-scale wall sy... advice for building owners on the large-scale w...  NaN   \n",
      "\n",
      "level2taxon_code                                                                                                                                                                               104  \\\n",
      "content_id                           combined_text                                      title                                              description                                               \n",
      "00029fa4-9b60-4285-898c-85ae8a6367f5 emma jones - small business crown representativ... emma jones - small business crown representative   as small business crown representative emma is ...  NaN   \n",
      "00037b70-5b08-44c2-bf0a-fa8eb636a60b land remediation: bringing brownfield sites bac... land remediation: bringing brownfield sites bac... brochure showing uk expertise in land remediati...  NaN   \n",
      "00037ee5-7b5e-452d-a233-af2c134f5bce steps 2 success:ni statistics from october 2014... steps 2 success:ni statistics from october 2014... details on the number of referrals and starts o...  NaN   \n",
      "0004c63d-ae16-432a-bb35-c0f949b1e27c student support applications for higher educati... student support applications for higher educati... data includes the number of applications receiv...  NaN   \n",
      "0005ac76-50fe-42f1-8168-8b6fc046e40f advice for building owners: large-scale wall sy... advice for building owners: large-scale wall sy... advice for building owners on the large-scale w...  NaN   \n",
      "\n",
      "level2taxon_code                                                                                                                                                                               105  \\\n",
      "content_id                           combined_text                                      title                                              description                                               \n",
      "00029fa4-9b60-4285-898c-85ae8a6367f5 emma jones - small business crown representativ... emma jones - small business crown representative   as small business crown representative emma is ...  NaN   \n",
      "00037b70-5b08-44c2-bf0a-fa8eb636a60b land remediation: bringing brownfield sites bac... land remediation: bringing brownfield sites bac... brochure showing uk expertise in land remediati...  NaN   \n",
      "00037ee5-7b5e-452d-a233-af2c134f5bce steps 2 success:ni statistics from october 2014... steps 2 success:ni statistics from october 2014... details on the number of referrals and starts o...  NaN   \n",
      "0004c63d-ae16-432a-bb35-c0f949b1e27c student support applications for higher educati... student support applications for higher educati... data includes the number of applications receiv...  NaN   \n",
      "0005ac76-50fe-42f1-8168-8b6fc046e40f advice for building owners: large-scale wall sy... advice for building owners: large-scale wall sy... advice for building owners on the large-scale w...  NaN   \n",
      "\n",
      "level2taxon_code                                                                                                                                                                               106  \\\n",
      "content_id                           combined_text                                      title                                              description                                               \n",
      "00029fa4-9b60-4285-898c-85ae8a6367f5 emma jones - small business crown representativ... emma jones - small business crown representative   as small business crown representative emma is ...  NaN   \n",
      "00037b70-5b08-44c2-bf0a-fa8eb636a60b land remediation: bringing brownfield sites bac... land remediation: bringing brownfield sites bac... brochure showing uk expertise in land remediati...  NaN   \n",
      "00037ee5-7b5e-452d-a233-af2c134f5bce steps 2 success:ni statistics from october 2014... steps 2 success:ni statistics from october 2014... details on the number of referrals and starts o...  NaN   \n",
      "0004c63d-ae16-432a-bb35-c0f949b1e27c student support applications for higher educati... student support applications for higher educati... data includes the number of applications receiv...  NaN   \n",
      "0005ac76-50fe-42f1-8168-8b6fc046e40f advice for building owners: large-scale wall sy... advice for building owners: large-scale wall sy... advice for building owners on the large-scale w...  NaN   \n",
      "\n",
      "level2taxon_code                                                                                                                                                                               107  \n",
      "content_id                           combined_text                                      title                                              description                                              \n",
      "00029fa4-9b60-4285-898c-85ae8a6367f5 emma jones - small business crown representativ... emma jones - small business crown representative   as small business crown representative emma is ...  NaN  \n",
      "00037b70-5b08-44c2-bf0a-fa8eb636a60b land remediation: bringing brownfield sites bac... land remediation: bringing brownfield sites bac... brochure showing uk expertise in land remediati...  NaN  \n",
      "00037ee5-7b5e-452d-a233-af2c134f5bce steps 2 success:ni statistics from october 2014... steps 2 success:ni statistics from october 2014... details on the number of referrals and starts o...  NaN  \n",
      "0004c63d-ae16-432a-bb35-c0f949b1e27c student support applications for higher educati... student support applications for higher educati... data includes the number of applications receiv...  NaN  \n",
      "0005ac76-50fe-42f1-8168-8b6fc046e40f advice for building owners: large-scale wall sy... advice for building owners: large-scale wall sy... advice for building owners on the large-scale w...  NaN  \n",
      "\n",
      "[5 rows x 107 columns]\n"
     ]
    }
   ],
   "source": [
    "#reshape to wide per taxon and keep the combined text so indexing is consistent when splitting X from Y\n",
    "\n",
    "multilabel = (level2_reduced.pivot_table(index=['content_id', 'combined_text', 'title', 'description' ], \n",
    "                  columns='level2taxon_code', \n",
    "                  values='num_taxon_per_content'))\n",
    "print('level2reduced shape: {}'.format(level2_reduced.shape))\n",
    "print('pivot table shape (no duplicates): {} '.format(multilabel.shape))\n",
    "print(multilabel.head())"
   ]
  },
  {
   "cell_type": "code",
   "execution_count": 19,
   "metadata": {},
   "outputs": [],
   "source": [
    "#THIS IS WHY INDEXING IS NOT ZERO-BASED\n",
    "#convert the number_of_taxons_per_content values to 1, meaning there was an entry for this taxon and this content_id, 0 otherwise\n",
    "binary_multilabel = multilabel.notnull().astype('int')"
   ]
  },
  {
   "cell_type": "code",
   "execution_count": 20,
   "metadata": {},
   "outputs": [
    {
     "name": "stdout",
     "output_type": "stream",
     "text": [
      "Shape of Y multilabel array before train/val/test split:(92338, 107)\n"
     ]
    }
   ],
   "source": [
    "#will convert columns to an array of shape\n",
    "print('Shape of Y multilabel array before train/val/test split:{}'.format(binary_multilabel[list(binary_multilabel.columns)].values.shape))"
   ]
  },
  {
   "cell_type": "code",
   "execution_count": 21,
   "metadata": {},
   "outputs": [
    {
     "name": "stdout",
     "output_type": "stream",
     "text": [
      "Example row of multilabel array [0 0 0 0 0 0 0 0 0 0 0 0 0 0 0 0 0 0 0 0 0 0 0 0 0 0 0 0 0 0 0 0 0 0 0 0 0\n",
      " 0 0 0 0 0 0 0 0 0 0 0 0 0 0 0 0 0 0 0 0 0 0 0 0 0 0 0 0 0 1 0 0 0 0 0 0 0\n",
      " 0 0 0 0 0 0 0 0 0 0 0 0 0 0 0 0 0 0 0 0 0 0 0 0 0 0 0 0 0 0 0 0 0]\n"
     ]
    }
   ],
   "source": [
    "#convert columns to an array. Each row represents a content item, each column an individual taxon\n",
    "binary_multilabel = binary_multilabel[list(binary_multilabel.columns)].values\n",
    "print('Example row of multilabel array {}'.format(binary_multilabel[2]))"
   ]
  },
  {
   "cell_type": "code",
   "execution_count": 22,
   "metadata": {},
   "outputs": [
    {
     "data": {
      "text/plain": [
       "numpy.ndarray"
      ]
     },
     "execution_count": 22,
     "metadata": {},
     "output_type": "execute_result"
    }
   ],
   "source": [
    "type(binary_multilabel)"
   ]
  },
  {
   "cell_type": "markdown",
   "metadata": {},
   "source": [
    "### Format metadata/X"
   ]
  },
  {
   "cell_type": "code",
   "execution_count": 23,
   "metadata": {},
   "outputs": [
    {
     "data": {
      "text/plain": [
       "92338"
      ]
     },
     "execution_count": 23,
     "metadata": {},
     "output_type": "execute_result"
    }
   ],
   "source": [
    "# THESE DICTS NEED TO BE CREATED IN ALL DATA, OR DOC TYPES NOT PRESENT IN TRAINING MUST BE DELETED FROM NEW\n",
    "#create dictionary of document type to content_id\n",
    "doctype_dict = dict(zip(nonews['content_id'], nonews['document_type']))\n",
    "frstpub_dict = dict(zip(nonews['content_id'], nonews['first_published_at']))\n",
    "pubapp_dict = dict(zip(nonews['content_id'], nonews['publishing_app']))\n",
    "puborg_dict = dict(zip(nonews['content_id'], nonews['primary_publishing_organisation']))\n",
    "len(doctype_dict)"
   ]
  },
  {
   "cell_type": "code",
   "execution_count": 24,
   "metadata": {},
   "outputs": [
    {
     "name": "stdout",
     "output_type": "stream",
     "text": [
      "['content_id', 'combined_text', 'title', 'description']\n",
      "Int64Index([  1,   2,   3,   4,   5,   6,   7,   8,   9,  10,\n",
      "            ...\n",
      "             98,  99, 100, 101, 102, 103, 104, 105, 106, 107],\n",
      "           dtype='int64', name='level2taxon_code', length=107)\n"
     ]
    }
   ],
   "source": [
    "#the pivot table has two indices\n",
    "print(multilabel.index.names)\n",
    "print(multilabel.columns)\n",
    "#print(multilabel.head())"
   ]
  },
  {
   "cell_type": "code",
   "execution_count": 25,
   "metadata": {},
   "outputs": [],
   "source": [
    "#extract content_id index to df\n",
    "meta1 = pd.DataFrame(multilabel.index.get_level_values('content_id'))"
   ]
  },
  {
   "cell_type": "code",
   "execution_count": 26,
   "metadata": {},
   "outputs": [
    {
     "data": {
      "text/html": [
       "<div>\n",
       "<style scoped>\n",
       "    .dataframe tbody tr th:only-of-type {\n",
       "        vertical-align: middle;\n",
       "    }\n",
       "\n",
       "    .dataframe tbody tr th {\n",
       "        vertical-align: top;\n",
       "    }\n",
       "\n",
       "    .dataframe thead th {\n",
       "        text-align: right;\n",
       "    }\n",
       "</style>\n",
       "<table border=\"1\" class=\"dataframe\">\n",
       "  <thead>\n",
       "    <tr style=\"text-align: right;\">\n",
       "      <th></th>\n",
       "      <th>content_id</th>\n",
       "      <th>doctype</th>\n",
       "      <th>first_published_at</th>\n",
       "      <th>pub_app</th>\n",
       "      <th>prim_pub_org</th>\n",
       "    </tr>\n",
       "  </thead>\n",
       "  <tbody>\n",
       "    <tr>\n",
       "      <th>0</th>\n",
       "      <td>00029fa4-9b60-4285-898c-85ae8a6367f5</td>\n",
       "      <td>document_collection</td>\n",
       "      <td>2017-01-11T10:18:00.000+00:00</td>\n",
       "      <td>whitehall</td>\n",
       "      <td>{'title': 'Crown Commercial Service'}</td>\n",
       "    </tr>\n",
       "    <tr>\n",
       "      <th>1</th>\n",
       "      <td>00037b70-5b08-44c2-bf0a-fa8eb636a60b</td>\n",
       "      <td>promotional</td>\n",
       "      <td>2015-05-11T10:41:00.000+00:00</td>\n",
       "      <td>whitehall</td>\n",
       "      <td>{'title': 'Department for International Trade'}</td>\n",
       "    </tr>\n",
       "    <tr>\n",
       "      <th>2</th>\n",
       "      <td>00037ee5-7b5e-452d-a233-af2c134f5bce</td>\n",
       "      <td>official_statistics</td>\n",
       "      <td>2016-11-24T09:30:13.000+00:00</td>\n",
       "      <td>whitehall</td>\n",
       "      <td>{'title': 'Department for Communities (Norther...</td>\n",
       "    </tr>\n",
       "    <tr>\n",
       "      <th>3</th>\n",
       "      <td>0004c63d-ae16-432a-bb35-c0f949b1e27c</td>\n",
       "      <td>official_statistics</td>\n",
       "      <td>2016-10-20T08:30:09.000+00:00</td>\n",
       "      <td>whitehall</td>\n",
       "      <td>{'title': 'Welsh Government'}</td>\n",
       "    </tr>\n",
       "    <tr>\n",
       "      <th>4</th>\n",
       "      <td>0005ac76-50fe-42f1-8168-8b6fc046e40f</td>\n",
       "      <td>guidance</td>\n",
       "      <td>2017-08-02T17:29:00.000+00:00</td>\n",
       "      <td>whitehall</td>\n",
       "      <td>{'title': 'Department for Communities and Loca...</td>\n",
       "    </tr>\n",
       "  </tbody>\n",
       "</table>\n",
       "</div>"
      ],
      "text/plain": [
       "                             content_id              doctype  \\\n",
       "0  00029fa4-9b60-4285-898c-85ae8a6367f5  document_collection   \n",
       "1  00037b70-5b08-44c2-bf0a-fa8eb636a60b          promotional   \n",
       "2  00037ee5-7b5e-452d-a233-af2c134f5bce  official_statistics   \n",
       "3  0004c63d-ae16-432a-bb35-c0f949b1e27c  official_statistics   \n",
       "4  0005ac76-50fe-42f1-8168-8b6fc046e40f             guidance   \n",
       "\n",
       "              first_published_at    pub_app  \\\n",
       "0  2017-01-11T10:18:00.000+00:00  whitehall   \n",
       "1  2015-05-11T10:41:00.000+00:00  whitehall   \n",
       "2  2016-11-24T09:30:13.000+00:00  whitehall   \n",
       "3  2016-10-20T08:30:09.000+00:00  whitehall   \n",
       "4  2017-08-02T17:29:00.000+00:00  whitehall   \n",
       "\n",
       "                                        prim_pub_org  \n",
       "0              {'title': 'Crown Commercial Service'}  \n",
       "1    {'title': 'Department for International Trade'}  \n",
       "2  {'title': 'Department for Communities (Norther...  \n",
       "3                      {'title': 'Welsh Government'}  \n",
       "4  {'title': 'Department for Communities and Loca...  "
      ]
     },
     "execution_count": 26,
     "metadata": {},
     "output_type": "execute_result"
    }
   ],
   "source": [
    "#apply meta data to content\n",
    "meta1['doctype'] = meta1['content_id'].map(doctype_dict).copy()\n",
    "meta1['first_published_at'] = meta1['content_id'].map(frstpub_dict).copy()\n",
    "meta1['pub_app'] = meta1['content_id'].map(pubapp_dict).copy()\n",
    "meta1['prim_pub_org'] = meta1['content_id'].map(puborg_dict).copy()\n",
    "\n",
    "meta1 = meta1.replace(np.nan, '', regex=True) #conver nans to empty strings for labelencoder types\n",
    "meta1.head()"
   ]
  },
  {
   "cell_type": "code",
   "execution_count": 27,
   "metadata": {},
   "outputs": [],
   "source": [
    "#encode strings as integers\n",
    "#doctype\n",
    "doctype_encoder = LabelEncoder()\n",
    "meta1['doctype_cat'] = doctype_encoder.fit_transform(meta1['doctype']) #fit the label encoder on all data then transform on individual data sets\n",
    "\n",
    "# print(len(meta1['doctype_cat'].unique()))\n",
    "# print(meta1['doctype_cat'].unique())\n",
    "\n",
    "# primary publishing org\n",
    "pub_org_encoder = LabelEncoder()\n",
    "meta1['prim_pub_org_cat'] = doctype_encoder.fit_transform(meta1['prim_pub_org']) \n",
    "\n",
    "# print(len(meta1['prim_pub_org_cat'].unique()))\n",
    "# print(meta1['prim_pub_org_cat'].unique())\n",
    "\n",
    "#publishing application\n",
    "\n",
    "pub_app_encoder = LabelEncoder()\n",
    "meta1['pub_app_cat'] = doctype_encoder.fit_transform(meta1['pub_app'])\n",
    "\n",
    "# print(len(meta1['pub_app_cat'].unique()))\n",
    "# print(meta1['pub_app_cat'].unique())"
   ]
  },
  {
   "cell_type": "code",
   "execution_count": 28,
   "metadata": {},
   "outputs": [
    {
     "name": "stdout",
     "output_type": "stream",
     "text": [
      "(92338, 56)\n",
      "(92338, 366)\n",
      "(92338, 9)\n"
     ]
    },
    {
     "data": {
      "text/plain": [
       "numpy.ndarray"
      ]
     },
     "execution_count": 28,
     "metadata": {},
     "output_type": "execute_result"
    }
   ],
   "source": [
    "#one hot encode integers\n",
    "encoded_doctype = to_categorical(meta1['doctype_cat'])\n",
    "print(encoded_doctype.shape)\n",
    "\n",
    "encoded_prim_pub_org = to_categorical(meta1['prim_pub_org_cat'])\n",
    "print(encoded_prim_pub_org.shape)\n",
    "\n",
    "encoded_pub_app = to_categorical(meta1['pub_app_cat'])\n",
    "print(encoded_pub_app.shape)\n",
    "type(encoded_pub_app)"
   ]
  },
  {
   "cell_type": "code",
   "execution_count": 29,
   "metadata": {},
   "outputs": [
    {
     "name": "stdout",
     "output_type": "stream",
     "text": [
      "(92338,)\n",
      "datetime64[ns]\n",
      "0\n",
      "(92338, 1)\n"
     ]
    },
    {
     "data": {
      "text/plain": [
       "numpy.ndarray"
      ]
     },
     "execution_count": 29,
     "metadata": {},
     "output_type": "execute_result"
    }
   ],
   "source": [
    "meta1['first_published_at'] = pd.to_datetime(meta1['first_published_at']) \n",
    "\n",
    "# print(meta['first_published_at'][0].Timestamp())\n",
    "# for index, row in meta.iterrows():\n",
    "#     row['first_published_at_ts'] = row['first_published_at'].timestamp()\n",
    "#     print(row['first_published_at_ts'])\n",
    "\n",
    "print(meta1['first_published_at'].shape)\n",
    "\n",
    "first_published = np.array(meta1['first_published_at']).reshape(meta1['first_published_at'].shape[0], 1).copy()\n",
    "\n",
    "print(first_published.dtype)\n",
    "print(np.argmax(first_published.argmax))\n",
    "#scale first published at to 0 and 1\n",
    "print(first_published.shape)\n",
    "type(first_published)"
   ]
  },
  {
   "cell_type": "code",
   "execution_count": 30,
   "metadata": {},
   "outputs": [
    {
     "name": "stdout",
     "output_type": "stream",
     "text": [
      "(92338, 431)\n",
      "431\n",
      "(92338, 431)\n"
     ]
    }
   ],
   "source": [
    "\n",
    "meta = np.concatenate((encoded_doctype, \n",
    "                           encoded_prim_pub_org, \n",
    "                           encoded_pub_app), #error when adding date...\n",
    "                          axis=1)\n",
    "\n",
    "print(meta.shape)\n",
    "nb_metavars = meta.shape[1]\n",
    "print(nb_metavars)\n",
    "print(meta.shape)"
   ]
  },
  {
   "cell_type": "markdown",
   "metadata": {},
   "source": [
    "### Create combined_text data/X"
   ]
  },
  {
   "cell_type": "markdown",
   "metadata": {},
   "source": [
    "format our text samples and labels into tensors that can be fed into a neural network. To do this, we will rely on Keras utilities keras.preprocessing.text.Tokenizer and keras.preprocessing.sequence.pad_sequences."
   ]
  },
  {
   "cell_type": "code",
   "execution_count": 31,
   "metadata": {},
   "outputs": [
    {
     "data": {
      "text/plain": [
       "FrozenList(['content_id', 'combined_text', 'title', 'description'])"
      ]
     },
     "execution_count": 31,
     "metadata": {},
     "output_type": "execute_result"
    }
   ],
   "source": [
    "#the pivot table has two indices\n",
    "multilabel.index.names"
   ]
  },
  {
   "cell_type": "code",
   "execution_count": 32,
   "metadata": {},
   "outputs": [
    {
     "data": {
      "text/plain": [
       "(92338,)"
      ]
     },
     "execution_count": 32,
     "metadata": {},
     "output_type": "execute_result"
    }
   ],
   "source": [
    "#extract combined text index to array\n",
    "texts = multilabel.index.get_level_values('combined_text')\n",
    "texts.shape"
   ]
  },
  {
   "cell_type": "markdown",
   "metadata": {},
   "source": [
    "### Preprocess title data"
   ]
  },
  {
   "cell_type": "code",
   "execution_count": 33,
   "metadata": {},
   "outputs": [
    {
     "data": {
      "text/plain": [
       "(92338,)"
      ]
     },
     "execution_count": 33,
     "metadata": {},
     "output_type": "execute_result"
    }
   ],
   "source": [
    "titles = multilabel.index.get_level_values('title')\n",
    "titles.shape"
   ]
  },
  {
   "cell_type": "markdown",
   "metadata": {},
   "source": [
    "### Preprocess description data"
   ]
  },
  {
   "cell_type": "code",
   "execution_count": 34,
   "metadata": {},
   "outputs": [
    {
     "data": {
      "text/plain": [
       "(92338,)"
      ]
     },
     "execution_count": 34,
     "metadata": {},
     "output_type": "execute_result"
    }
   ],
   "source": [
    "descs = multilabel.index.get_level_values('description')\n",
    "descs.shape"
   ]
  },
  {
   "cell_type": "markdown",
   "metadata": {},
   "source": [
    "### Tokenize combined text"
   ]
  },
  {
   "cell_type": "markdown",
   "metadata": {},
   "source": [
    "Tokenizer = Class for vectorizing texts, or/and turning texts into sequences (=list of word indexes, where the word of rank i in the dataset (starting at 1) has index i)"
   ]
  },
  {
   "cell_type": "code",
   "execution_count": 35,
   "metadata": {},
   "outputs": [
    {
     "name": "stdout",
     "output_type": "stream",
     "text": [
      "Found 171379 unique tokens.\n"
     ]
    }
   ],
   "source": [
    "# Bag of words method\n",
    "tokenizer = Tokenizer(num_words=NUM_WORDS) #num_words: None or int. Maximum number of words to work with \n",
    "# (if set, tokenization will be restricted to the top num_words most common words in the dataset).\n",
    "\n",
    "# apply tokenizer to our text data\n",
    "tokenizer.fit_on_texts(texts)\n",
    "\n",
    "# list of word indexes, where the word of rank i in the dataset (starting at 1) has index i\n",
    "sequences = tokenizer.texts_to_sequences(texts) #yield one sequence per input text\n",
    "\n",
    "# dictionary mapping words (str) to their rank/index (int).\n",
    "word_index = tokenizer.word_index  # Only set after fit_on_texts was called.\n",
    "print('Found %s unique tokens.' % len(word_index))\n",
    "\n",
    "data = pad_sequences(sequences, maxlen= MAX_SEQUENCE_LENGTH) #MAX_SEQUENCE_LENGTH"
   ]
  },
  {
   "cell_type": "code",
   "execution_count": 36,
   "metadata": {},
   "outputs": [
    {
     "name": "stdout",
     "output_type": "stream",
     "text": [
      "Shape of label tensor: (92338, 107)\n",
      "Shape of data tensor: (92338, 1000)\n"
     ]
    }
   ],
   "source": [
    "print('Shape of label tensor:', binary_multilabel.shape)\n",
    "print('Shape of data tensor:', data.shape)"
   ]
  },
  {
   "cell_type": "markdown",
   "metadata": {},
   "source": [
    "### Tokenize title text"
   ]
  },
  {
   "cell_type": "code",
   "execution_count": 37,
   "metadata": {},
   "outputs": [],
   "source": [
    "# Bag of words method\n",
    "tokenizer_tit = Tokenizer(num_words=10000) #num_words: None or int. Maximum number of words to work with \n",
    "# (if set, tokenization will be restricted to the top num_words most common words in the dataset).\n",
    "\n",
    "# apply tokenizer to our text data\n",
    "tokenizer_tit.fit_on_texts(titles)\n",
    "\n",
    "# list of word indexes, where the word of rank i in the dataset (starting at 1) has index i\n",
    "sequences_tit = tokenizer_tit.texts_to_sequences(titles) #yield one sequence per input text"
   ]
  },
  {
   "cell_type": "code",
   "execution_count": 38,
   "metadata": {},
   "outputs": [],
   "source": [
    "onehot_tit = tokenizer_tit.sequences_to_matrix(sequences_tit) #yield one sequence per input text\n",
    "\n",
    "# dictionary mapping words (str) to their rank/index (int).\n",
    "word_index_tit = tokenizer_tit.word_index  # Only set after fit_on_texts was called.\n",
    "\n",
    "#NOTE THERE ARE LOTS OF NUMBERS IN HERE THAT SHOULD BE STRIPPED?\n",
    "\n",
    "# print('Found %s unique tokens.' % len(word_index_tit))\n",
    "\n",
    "# title_data = pad_sequences(sequences_tit, maxlen= 50) #mean/median=8 max = 47"
   ]
  },
  {
   "cell_type": "code",
   "execution_count": 39,
   "metadata": {},
   "outputs": [
    {
     "data": {
      "text/plain": [
       "(92338, 10000)"
      ]
     },
     "execution_count": 39,
     "metadata": {},
     "output_type": "execute_result"
    }
   ],
   "source": [
    "onehot_tit.shape"
   ]
  },
  {
   "cell_type": "code",
   "execution_count": 40,
   "metadata": {},
   "outputs": [
    {
     "data": {
      "text/plain": [
       "[('and', 22819),\n",
       " ('to', 19775),\n",
       " ('of', 18825),\n",
       " ('the', 16074),\n",
       " ('for', 14865),\n",
       " ('in', 10308),\n",
       " ('on', 6770),\n",
       " ('2015', 5791),\n",
       " ('uk', 5401),\n",
       " ('2014', 5135),\n",
       " ('2016', 5092),\n",
       " ('a', 4695),\n",
       " ('report', 3632),\n",
       " ('2017', 3510),\n",
       " ('2013', 3168),\n",
       " ('government', 2971),\n",
       " ('statistics', 2866),\n",
       " ('new', 2613),\n",
       " ('england', 2585),\n",
       " ('data', 2542),\n",
       " ('information', 2221),\n",
       " ('from', 2191),\n",
       " ('review', 2050),\n",
       " ('national', 1954),\n",
       " ('at', 1938),\n",
       " ('march', 1938),\n",
       " ('tax', 1900),\n",
       " ('with', 1890),\n",
       " ('local', 1861),\n",
       " ('by', 1851),\n",
       " ('health', 1825),\n",
       " ('guidance', 1815),\n",
       " ('business', 1801),\n",
       " ('notice', 1797),\n",
       " ('2012', 1731),\n",
       " ('june', 1642),\n",
       " ('assessment', 1627),\n",
       " ('services', 1610),\n",
       " ('july', 1588),\n",
       " ('2011', 1568),\n",
       " ('april', 1542),\n",
       " ('september', 1531),\n",
       " ('statement', 1505),\n",
       " ('release', 1476),\n",
       " ('scheme', 1469),\n",
       " ('energy', 1469),\n",
       " ('foi', 1462),\n",
       " ('management', 1433),\n",
       " ('over', 1432),\n",
       " ('service', 1411),\n",
       " ('december', 1399),\n",
       " ('public', 1387),\n",
       " ('1', 1336),\n",
       " ('january', 1330),\n",
       " ('wales', 1297),\n",
       " ('october', 1285),\n",
       " ('response', 1202),\n",
       " ('2010', 1181),\n",
       " ('speech', 1172),\n",
       " ('survey', 1166),\n",
       " ('school', 1158),\n",
       " ('–', 1146),\n",
       " ('secretary', 1121),\n",
       " ('nhs', 1118),\n",
       " ('plan', 1118),\n",
       " ('office', 1113),\n",
       " ('programme', 1078),\n",
       " ('trade', 1073),\n",
       " ('annual', 1055),\n",
       " ('support', 1049),\n",
       " ('year', 1040),\n",
       " ('regulations', 1002),\n",
       " ('or', 975),\n",
       " ('northern', 973),\n",
       " ('impact', 970),\n",
       " ('2', 958),\n",
       " ('land', 953),\n",
       " ('education', 946),\n",
       " ('funding', 944),\n",
       " ('care', 942),\n",
       " ('spend', 941),\n",
       " ('company', 938),\n",
       " ('financial', 935),\n",
       " ('social', 935),\n",
       " ('000', 931),\n",
       " ('guide', 930),\n",
       " ('council', 926),\n",
       " ('as', 925),\n",
       " ('policy', 923),\n",
       " ('ireland', 917),\n",
       " ('research', 907),\n",
       " ('consultation', 900),\n",
       " ('decision', 898),\n",
       " ('an', 898),\n",
       " ('road', 879),\n",
       " ('update', 878),\n",
       " ('international', 877),\n",
       " ('minister', 874),\n",
       " ('risk', 868),\n",
       " ('housing', 867),\n",
       " ('british', 858),\n",
       " ('special', 852),\n",
       " ('act', 852),\n",
       " ('pension', 849),\n",
       " ('application', 848),\n",
       " ('schools', 836),\n",
       " ('may', 836),\n",
       " ('fund', 835),\n",
       " ('your', 834),\n",
       " ('non', 825),\n",
       " ('list', 822),\n",
       " ('how', 822),\n",
       " ('environmental', 804),\n",
       " ('press', 800),\n",
       " ('foreign', 799),\n",
       " ('spending', 799),\n",
       " ('strategy', 795),\n",
       " ('dfid', 790),\n",
       " ('form', 774),\n",
       " ('teacher', 771),\n",
       " ('sector', 768),\n",
       " ('change', 768),\n",
       " ('outcome', 761),\n",
       " ('authority', 760),\n",
       " ('hs2', 754),\n",
       " ('duty', 754),\n",
       " ('use', 753),\n",
       " ('investment', 752),\n",
       " ('panel', 744),\n",
       " ('million', 741),\n",
       " ('future', 741),\n",
       " ('index', 740),\n",
       " ('november', 727),\n",
       " ('development', 723),\n",
       " ('export', 717),\n",
       " ('security', 709),\n",
       " ('meetings', 709),\n",
       " ('eu', 705),\n",
       " ('letter', 700),\n",
       " ('planning', 699),\n",
       " ('conference', 692),\n",
       " ('people', 692),\n",
       " ('quarterly', 690),\n",
       " ('work', 689),\n",
       " ('tariff', 688),\n",
       " ('schemes', 688),\n",
       " ('economic', 676),\n",
       " ('community', 674),\n",
       " ('ending', 673),\n",
       " ('practice', 670),\n",
       " ('flood', 667),\n",
       " ('evaluation', 664),\n",
       " ('february', 663),\n",
       " ('£25', 652),\n",
       " ('framework', 649),\n",
       " ('reform', 647),\n",
       " ('market', 645),\n",
       " ('rail', 644),\n",
       " ('help', 642),\n",
       " ('monthly', 640),\n",
       " ('changes', 631),\n",
       " ('customs', 628),\n",
       " ('rights', 618),\n",
       " ('august', 616),\n",
       " ('committee', 616),\n",
       " ('code', 614),\n",
       " ('transport', 610),\n",
       " ('3', 605),\n",
       " ('travel', 603),\n",
       " ('16', 599),\n",
       " ('misconduct', 599),\n",
       " ('safety', 596),\n",
       " ('limited', 591),\n",
       " ('open', 589),\n",
       " ('reports', 588),\n",
       " ('britain', 582),\n",
       " ('summary', 581),\n",
       " ('vat', 580),\n",
       " ('paper', 576),\n",
       " ('level', 575),\n",
       " ('home', 575),\n",
       " ('state', 572),\n",
       " ('pay', 572),\n",
       " ('system', 571),\n",
       " ('2018', 570),\n",
       " ('high', 568),\n",
       " ('south', 564),\n",
       " ('trust', 563),\n",
       " ('up', 563),\n",
       " ('£500', 561),\n",
       " ('access', 557),\n",
       " ('action', 556),\n",
       " ('water', 555),\n",
       " ('waste', 555),\n",
       " ('performance', 554),\n",
       " ('great', 548),\n",
       " ('east', 547),\n",
       " ('children', 545),\n",
       " ('agreement', 545),\n",
       " ('child', 542),\n",
       " ('draft', 542),\n",
       " ('appeal', 539),\n",
       " ('west', 538),\n",
       " ('bill', 538),\n",
       " ('civil', 535),\n",
       " ('building', 534),\n",
       " ('gas', 533),\n",
       " ('staff', 531),\n",
       " ('provisional', 530),\n",
       " ('ministerial', 527),\n",
       " ('growth', 524),\n",
       " ('hospitality', 523),\n",
       " ('screening', 523),\n",
       " ('house', 519),\n",
       " ('technical', 519),\n",
       " ('climate', 518),\n",
       " ('commission', 515),\n",
       " ('london', 514),\n",
       " ('bulletin', 513),\n",
       " ('food', 512),\n",
       " ('licence', 511),\n",
       " ('31', 510),\n",
       " ('anti', 510),\n",
       " ('procurement', 508),\n",
       " ('under', 505),\n",
       " ('plans', 505),\n",
       " ('scotland', 503),\n",
       " ('overseas', 503),\n",
       " ('north', 502),\n",
       " ('first', 502),\n",
       " ('advice', 501),\n",
       " ('register', 501),\n",
       " ('agency', 500),\n",
       " ('general', 499),\n",
       " ('science', 497),\n",
       " ('companies', 496),\n",
       " ('apply', 495),\n",
       " ('between', 494),\n",
       " ('evidence', 492),\n",
       " ('training', 489),\n",
       " ('phase', 489),\n",
       " ('4', 488),\n",
       " ('about', 485),\n",
       " ('final', 482),\n",
       " ('standard', 482),\n",
       " ('boost', 478),\n",
       " ('european', 478),\n",
       " ('skills', 477),\n",
       " ('analysis', 476),\n",
       " ('quality', 476),\n",
       " ('5', 476),\n",
       " ('briefing', 475),\n",
       " ('project', 472),\n",
       " ('payments', 472),\n",
       " ('department', 470),\n",
       " ('regulation', 464),\n",
       " ('prime', 464),\n",
       " ('10', 461),\n",
       " ('primary', 460),\n",
       " ('group', 460),\n",
       " ('property', 459),\n",
       " ('standards', 459),\n",
       " ('into', 459),\n",
       " ('pm', 458),\n",
       " ('workforce', 454),\n",
       " ('river', 454),\n",
       " ('area', 453),\n",
       " ('homes', 452),\n",
       " ('green', 449),\n",
       " ('request', 449),\n",
       " ('part', 446),\n",
       " ('out', 444),\n",
       " ('apprenticeship', 442),\n",
       " ('key', 442),\n",
       " ('rates', 441),\n",
       " ('pack', 440),\n",
       " ('2009', 440),\n",
       " ('regulatory', 436),\n",
       " ('15', 436),\n",
       " ('digital', 435),\n",
       " ('meeting', 434),\n",
       " ('businesses', 433),\n",
       " ('test', 432),\n",
       " ('working', 432),\n",
       " ('accounts', 432),\n",
       " ('industry', 432),\n",
       " ('e', 430),\n",
       " ('more', 430),\n",
       " ('partnership', 429),\n",
       " ('gifts', 428),\n",
       " ('call', 427),\n",
       " ('investigation', 426),\n",
       " ('expenditure', 426),\n",
       " ('vehicle', 425),\n",
       " ('approved', 424),\n",
       " ('goods', 424),\n",
       " ('fco', 418),\n",
       " ('environment', 415),\n",
       " ('dft', 414),\n",
       " ('recovered', 411),\n",
       " ('employment', 408),\n",
       " ('mr', 408),\n",
       " ('deal', 407),\n",
       " ('cma', 405),\n",
       " ('be', 405),\n",
       " ('licensing', 405),\n",
       " ('capital', 404),\n",
       " ('ref', 403),\n",
       " ('price', 402),\n",
       " ('case', 402),\n",
       " ('results', 402),\n",
       " ('finance', 400),\n",
       " ('medical', 400),\n",
       " ('protection', 400),\n",
       " ('control', 399),\n",
       " ('police', 396),\n",
       " ('number', 396),\n",
       " ('senior', 395),\n",
       " ('study', 394),\n",
       " ('innovation', 393),\n",
       " ('tribunal', 391),\n",
       " ('projects', 389),\n",
       " ('registration', 387),\n",
       " ('order', 383),\n",
       " ('fuel', 382),\n",
       " ('patent', 381),\n",
       " ('technology', 381),\n",
       " ('competition', 381),\n",
       " ('income', 379),\n",
       " ('outcomes', 377),\n",
       " ('progress', 376),\n",
       " ('english', 373),\n",
       " ('issue', 373),\n",
       " ('board', 373),\n",
       " ('30', 372),\n",
       " ('rules', 372),\n",
       " ('independent', 372),\n",
       " ('self', 371),\n",
       " ('delivery', 369),\n",
       " ('domestic', 369),\n",
       " ('costs', 368),\n",
       " ('registered', 368),\n",
       " ('human', 368),\n",
       " ('names', 366),\n",
       " ('small', 364),\n",
       " ('welsh', 364),\n",
       " ('payment', 364),\n",
       " ('one', 363),\n",
       " ('is', 363),\n",
       " ('inspire', 363),\n",
       " ('fire', 361),\n",
       " ('women', 361),\n",
       " ('import', 357),\n",
       " ('network', 356),\n",
       " ('regional', 354),\n",
       " ('aid', 354),\n",
       " ('infrastructure', 353),\n",
       " ('fees', 352),\n",
       " ('authorities', 352),\n",
       " ('polygon', 351),\n",
       " ('marine', 350),\n",
       " ('statistical', 347),\n",
       " ('measures', 347),\n",
       " ('private', 346),\n",
       " ('young', 343),\n",
       " ('return', 342),\n",
       " ('free', 342),\n",
       " ('against', 341),\n",
       " ('dumping', 339),\n",
       " ('charity', 338),\n",
       " ('life', 338),\n",
       " ('time', 337),\n",
       " ('17', 337),\n",
       " ('monitoring', 337),\n",
       " ('expenses', 337),\n",
       " ('applications', 336),\n",
       " ('revenue', 335),\n",
       " ('years', 334),\n",
       " ('improving', 333),\n",
       " ('further', 332),\n",
       " ('reporting', 331),\n",
       " ('gcse', 329),\n",
       " ('get', 329),\n",
       " ('world', 328),\n",
       " ('bis', 328),\n",
       " ('construction', 326),\n",
       " ('global', 325),\n",
       " ('quarter', 325),\n",
       " ('farm', 324),\n",
       " ('air', 324),\n",
       " ('disease', 324),\n",
       " ('note', 324),\n",
       " ('stage', 323),\n",
       " ('14', 322),\n",
       " ('oil', 322),\n",
       " ('treatment', 321),\n",
       " ('operational', 321),\n",
       " ('power', 321),\n",
       " ('legislation', 320),\n",
       " ('prices', 319),\n",
       " ('requirements', 316),\n",
       " ('hm', 314),\n",
       " ('cost', 314),\n",
       " ('stop', 311),\n",
       " ('strategic', 310),\n",
       " ('defence', 310),\n",
       " ('sea', 309),\n",
       " ('law', 309),\n",
       " ('relief', 309),\n",
       " ('opinion', 309),\n",
       " ('chief', 309),\n",
       " ('union', 308),\n",
       " ('6', 307),\n",
       " ('major', 306),\n",
       " ('9', 306),\n",
       " ('hmrc', 306),\n",
       " ('equality', 305),\n",
       " ('times', 303),\n",
       " ('mgn', 301),\n",
       " ('improvement', 300),\n",
       " ('permit', 300),\n",
       " ('post', 300),\n",
       " ('organisations', 299),\n",
       " ('indicators', 299),\n",
       " ('china', 298),\n",
       " ('crime', 298),\n",
       " ('benefit', 298),\n",
       " ('traffic', 297),\n",
       " ('card', 296),\n",
       " ('2008', 296),\n",
       " ('electricity', 295),\n",
       " ('need', 295),\n",
       " ('implementation', 295),\n",
       " ('compliance', 295),\n",
       " ('minutes', 294),\n",
       " ('estimates', 293),\n",
       " ('day', 292),\n",
       " ('carbon', 292),\n",
       " ('you', 291),\n",
       " ('12', 291),\n",
       " ('contracts', 290),\n",
       " ('directors', 287),\n",
       " ('director', 287),\n",
       " ('grant', 287),\n",
       " ('11', 285),\n",
       " ('consumer', 284),\n",
       " ('13', 284),\n",
       " ('other', 283),\n",
       " ('learning', 283),\n",
       " ('deaths', 282),\n",
       " ('insurance', 282),\n",
       " ('emergency', 282),\n",
       " ('supply', 281),\n",
       " ('forms', 281),\n",
       " ('country', 280),\n",
       " ('centre', 280),\n",
       " ('communities', 279),\n",
       " ('conditions', 278),\n",
       " ('trends', 278),\n",
       " ('maintenance', 277),\n",
       " ('testing', 277),\n",
       " ('transactions', 277),\n",
       " ('economy', 276),\n",
       " ('mental', 276),\n",
       " ('7', 276),\n",
       " ('their', 274),\n",
       " ('design', 274),\n",
       " ('it', 274),\n",
       " ('tables', 273),\n",
       " ('nuclear', 272),\n",
       " ('treasury', 272),\n",
       " ('ltd', 271),\n",
       " ('enforcement', 271),\n",
       " ('rural', 271),\n",
       " ('restriction', 270),\n",
       " ('recommendation', 270),\n",
       " ('documents', 270),\n",
       " ('issued', 269),\n",
       " ('enterprise', 269),\n",
       " ('coast', 268),\n",
       " ('insolvency', 266),\n",
       " ('products', 266),\n",
       " ('online', 265),\n",
       " ('inquiry', 264),\n",
       " ('our', 264),\n",
       " ('association', 263),\n",
       " ('pensions', 262),\n",
       " ('8', 262),\n",
       " ('additional', 262),\n",
       " ('greater', 261),\n",
       " ('2006', 261),\n",
       " ('low', 260),\n",
       " ('subject', 260),\n",
       " ('facilities', 260),\n",
       " ('inspection', 259),\n",
       " ('waiting', 259),\n",
       " ('official', 259),\n",
       " ('will', 259),\n",
       " ('benefits', 259),\n",
       " ('amendment', 258),\n",
       " ('cancer', 258),\n",
       " ('than', 257),\n",
       " ('healthcare', 257),\n",
       " ('society', 257),\n",
       " ('proposals', 256),\n",
       " ('no', 256),\n",
       " ('statutory', 255),\n",
       " ('scottish', 254),\n",
       " ('areas', 253),\n",
       " ('after', 252),\n",
       " ('foundation', 252),\n",
       " ('animal', 252),\n",
       " ('living', 252),\n",
       " ('joint', 252),\n",
       " ('visits', 251),\n",
       " ('united', 251),\n",
       " ('amendments', 251),\n",
       " ('dwp', 251),\n",
       " ('18', 250),\n",
       " ('proposed', 250),\n",
       " ('provision', 250),\n",
       " ('vaccine', 249),\n",
       " ('notices', 249),\n",
       " ('smart', 249),\n",
       " ('acoba', 248),\n",
       " ('end', 248),\n",
       " ('early', 247),\n",
       " ('city', 246),\n",
       " ('academy', 246),\n",
       " ('violence', 246),\n",
       " ('sustainable', 245),\n",
       " ('external', 245),\n",
       " ('related', 244),\n",
       " ('contract', 244),\n",
       " ('transparency', 244),\n",
       " ('morning', 243),\n",
       " ('vehicles', 243),\n",
       " ('o', 242),\n",
       " ('give', 242),\n",
       " ('budget', 241),\n",
       " ('providers', 241),\n",
       " ('notes', 241),\n",
       " ('19', 241),\n",
       " ('terrorism', 240),\n",
       " ('india', 239),\n",
       " ('legal', 239),\n",
       " ('week', 238),\n",
       " ('supporting', 237),\n",
       " ('directive', 237),\n",
       " ('justice', 237),\n",
       " ('david', 236),\n",
       " ('powers', 235),\n",
       " ('m', 233),\n",
       " ('tb', 233),\n",
       " ('census', 233),\n",
       " ('improve', 233),\n",
       " ('driving', 233),\n",
       " ('works', 232),\n",
       " ('judgement', 232),\n",
       " ('alcohol', 232),\n",
       " ('better', 231),\n",
       " ('efficiency', 231),\n",
       " ('measure', 229),\n",
       " ('money', 228),\n",
       " ('hmt', 227),\n",
       " ('value', 227),\n",
       " ('brief', 226),\n",
       " ('estate', 226),\n",
       " ('credit', 226),\n",
       " ('systems', 225),\n",
       " ('commercial', 225),\n",
       " ('activity', 225),\n",
       " ('appeals', 225),\n",
       " ('lord', 224),\n",
       " ('off', 224),\n",
       " ('make', 224),\n",
       " ('second', 223),\n",
       " ('surveillance', 222),\n",
       " ('apr', 221),\n",
       " ('emissions', 220),\n",
       " ('summit', 220),\n",
       " ('all', 220),\n",
       " ('charities', 220),\n",
       " ('settlement', 219),\n",
       " ('bus', 218),\n",
       " ('set', 217),\n",
       " ('term', 217),\n",
       " ('role', 217),\n",
       " ('using', 217),\n",
       " ('that', 216),\n",
       " ('forum', 215),\n",
       " ('appointment', 215),\n",
       " ('funds', 215),\n",
       " ('transfer', 215),\n",
       " ('passenger', 214),\n",
       " ('buy', 214),\n",
       " ('production', 214),\n",
       " ('controls', 214),\n",
       " ('issues', 214),\n",
       " ('during', 213),\n",
       " ('mar', 213),\n",
       " ('gpc', 212),\n",
       " ('apprenticeships', 212),\n",
       " ('court', 212),\n",
       " ('dclg', 212),\n",
       " ('family', 212),\n",
       " ('making', 212),\n",
       " ('codes', 211),\n",
       " ('common', 211),\n",
       " ('welcomes', 209),\n",
       " ('individual', 209),\n",
       " ('who', 208),\n",
       " ('announces', 208),\n",
       " ('what', 208),\n",
       " ('corporation', 207),\n",
       " ('claim', 206),\n",
       " ('trading', 204),\n",
       " ('based', 204),\n",
       " ('renewable', 204),\n",
       " ('licences', 203),\n",
       " ('equipment', 203),\n",
       " ('assessments', 203),\n",
       " ('capacity', 202),\n",
       " ('bank', 202),\n",
       " ('launch', 202),\n",
       " ('opportunities', 202),\n",
       " ('families', 201),\n",
       " ('record', 201),\n",
       " ('details', 201),\n",
       " ('executive', 201),\n",
       " ('heat', 201),\n",
       " ('reference', 201),\n",
       " ('2007', 201),\n",
       " ('personal', 200),\n",
       " ('age', 199),\n",
       " ('interest', 199),\n",
       " ('medicines', 198),\n",
       " ('revised', 198),\n",
       " ('criteria', 198),\n",
       " ('labour', 198),\n",
       " ('stewardship', 197),\n",
       " ('midlands', 197),\n",
       " ('arrangements', 197),\n",
       " ('africa', 197),\n",
       " ('right', 196),\n",
       " ('patient', 196),\n",
       " ('excise', 196),\n",
       " ('countryside', 195),\n",
       " ('letters', 195),\n",
       " ('rate', 194),\n",
       " ('are', 194),\n",
       " ('recovery', 194),\n",
       " ('deputy', 194),\n",
       " ('appointed', 193),\n",
       " ('certificate', 193),\n",
       " ('permanent', 192),\n",
       " ('cabinet', 192),\n",
       " ('media', 192),\n",
       " ('consular', 192),\n",
       " ('farming', 191),\n",
       " ('2005', 191),\n",
       " ('process', 191),\n",
       " ('20', 191),\n",
       " ('lawyers', 191),\n",
       " ('prevention', 190),\n",
       " ('culture', 190),\n",
       " ('they', 188),\n",
       " ('operation', 188),\n",
       " ('appointments', 188),\n",
       " ('intelligence', 187),\n",
       " ('dec', 187),\n",
       " ('check', 187),\n",
       " ('published', 187),\n",
       " ('big', 187),\n",
       " ('advisory', 187),\n",
       " ('mark', 186),\n",
       " ('trusts', 186),\n",
       " ('registry', 186),\n",
       " ('fishing', 186),\n",
       " ('pre', 186),\n",
       " ('levels', 185),\n",
       " ('savings', 185),\n",
       " ('higher', 184),\n",
       " ('jobs', 184),\n",
       " ('prisoner', 184),\n",
       " ('challenge', 183),\n",
       " ('charge', 183),\n",
       " ('fisheries', 182),\n",
       " ('phe', 182),\n",
       " ('coastal', 182),\n",
       " ('royal', 182),\n",
       " ('taking', 182),\n",
       " ('forces', 182),\n",
       " ('terms', 180),\n",
       " ('charges', 180),\n",
       " ('coalfield', 180),\n",
       " ('initial', 179),\n",
       " ('jan', 179),\n",
       " ('materials', 179),\n",
       " ('have', 178),\n",
       " ('communications', 178),\n",
       " ('agricultural', 178),\n",
       " ('merger', 178),\n",
       " ('programmes', 178),\n",
       " ('not', 178),\n",
       " ('weekly', 177),\n",
       " ('commissioner', 177),\n",
       " ('announced', 177),\n",
       " ('workers', 177),\n",
       " ('event', 177),\n",
       " ('select', 177),\n",
       " ('approach', 177),\n",
       " ('co', 177),\n",
       " ('path', 176),\n",
       " ('period', 176),\n",
       " ('sales', 176),\n",
       " ('freight', 176),\n",
       " ('needs', 176),\n",
       " ('approval', 175),\n",
       " ('priorities', 174),\n",
       " ('offshore', 174),\n",
       " ('dcms', 174),\n",
       " ('minimum', 174),\n",
       " ('volume', 173),\n",
       " ('speed', 173),\n",
       " ('through', 172),\n",
       " ('written', 172),\n",
       " ('highways', 171),\n",
       " ('household', 171),\n",
       " ('michael', 171),\n",
       " ('rescue', 170),\n",
       " ('if', 170),\n",
       " ('ofsted', 170),\n",
       " ('good', 170),\n",
       " ('animals', 170),\n",
       " ('departmental', 170),\n",
       " ('claims', 170),\n",
       " ('start', 170),\n",
       " ('welfare', 170),\n",
       " ('award', 170),\n",
       " ('interim', 170),\n",
       " ('space', 169),\n",
       " ('flu', 169),\n",
       " ('document', 168),\n",
       " ('site', 168),\n",
       " ('obligation', 168),\n",
       " ('cyber', 168),\n",
       " ('central', 168),\n",
       " ('academies', 168),\n",
       " ('college', 167),\n",
       " ('msn', 167),\n",
       " ('junction', 167),\n",
       " ('recommendations', 167),\n",
       " ('supplementary', 167),\n",
       " ('lane', 167),\n",
       " ('body', 166),\n",
       " ('user', 166),\n",
       " ('convention', 166),\n",
       " ('tourism', 165),\n",
       " ('status', 165),\n",
       " ('industrial', 165),\n",
       " ('effects', 165),\n",
       " ('governance', 164),\n",
       " ('disclosure', 164),\n",
       " ('can', 164),\n",
       " ('returns', 164),\n",
       " ('section', 163),\n",
       " ('model', 163),\n",
       " ('collection', 163),\n",
       " ('imported', 163),\n",
       " ('improvements', 163),\n",
       " ('chair', 162),\n",
       " ('maritime', 162),\n",
       " ('maps', 161),\n",
       " ('academic', 161),\n",
       " ('procedures', 161),\n",
       " ('oct', 160),\n",
       " ('live', 160),\n",
       " ('granted', 160),\n",
       " ('yorkshire', 160),\n",
       " ('defra', 160),\n",
       " ('next', 160),\n",
       " ('roads', 159),\n",
       " ('park', 159),\n",
       " ('incident', 159),\n",
       " ('understanding', 158),\n",
       " ('visit', 158),\n",
       " ('orders', 158),\n",
       " ('councils', 157),\n",
       " ('warning', 157),\n",
       " ('long', 157),\n",
       " ('way', 157),\n",
       " ('exemption', 156),\n",
       " ('c', 156),\n",
       " ('poverty', 156),\n",
       " ('manual', 156),\n",
       " ('sport', 155),\n",
       " ('thames', 155),\n",
       " ('voluntary', 155),\n",
       " ('b', 154),\n",
       " ('population', 154),\n",
       " ('patients', 154),\n",
       " ('decc', 154),\n",
       " ('closures', 153),\n",
       " ('kingdom', 153),\n",
       " ('resources', 153),\n",
       " ('protected', 153),\n",
       " ('summaries', 153),\n",
       " ('funeral', 152),\n",
       " ('migrant', 152),\n",
       " ('studies', 152),\n",
       " ('article', 152),\n",
       " ('best', 152),\n",
       " ('publication', 151),\n",
       " ('allowance', 151),\n",
       " ('tackle', 151),\n",
       " ('storage', 151),\n",
       " ('hospital', 151),\n",
       " ('calls', 150),\n",
       " ('treaties', 150),\n",
       " ('newsletter', 150),\n",
       " ('qualifications', 150),\n",
       " ('inspections', 150),\n",
       " ('afternoon', 150),\n",
       " ('schedule', 149),\n",
       " ('employer', 149),\n",
       " ('visa', 149),\n",
       " ('template', 148),\n",
       " ('given', 148),\n",
       " ('street', 148),\n",
       " ('gce', 148),\n",
       " ('pupil', 147),\n",
       " ('sir', 147),\n",
       " ('software', 147),\n",
       " ('overnight', 147),\n",
       " ('account', 147),\n",
       " ('commons', 147),\n",
       " ('ownership', 147),\n",
       " ('tests', 147),\n",
       " ('managing', 147),\n",
       " ('smi', 147),\n",
       " ('direct', 146),\n",
       " ('certificates', 146),\n",
       " ('statements', 146),\n",
       " ('awards', 145),\n",
       " ('third', 145),\n",
       " ('assistance', 144),\n",
       " ('ccg', 144),\n",
       " ('22', 144),\n",
       " ('levy', 144),\n",
       " ('its', 144),\n",
       " ('st', 144),\n",
       " ('freedom', 144),\n",
       " ('secondary', 144),\n",
       " ('attitudes', 144),\n",
       " ('red', 144),\n",
       " ('partnerships', 144),\n",
       " ('campaign', 143),\n",
       " ('electronic', 143),\n",
       " ('winter', 143),\n",
       " ('nick', 142),\n",
       " ('referral', 142),\n",
       " ('table', 142),\n",
       " ('following', 142),\n",
       " ('exporting', 142),\n",
       " ('two', 142),\n",
       " ('legislative', 142),\n",
       " ('employee', 142),\n",
       " (\"minister's\", 141),\n",
       " ('teaching', 141),\n",
       " ('embassy', 141),\n",
       " ('authorisation', 141),\n",
       " ('complaints', 141),\n",
       " ('drug', 141),\n",
       " (\"children's\", 141),\n",
       " ('launches', 141),\n",
       " ('billion', 141),\n",
       " ('manufacturing', 140),\n",
       " ('engagement', 140),\n",
       " ('engineering', 140),\n",
       " ('sheet', 140),\n",
       " ('notification', 140),\n",
       " ('avoidance', 140),\n",
       " ('round', 139),\n",
       " ('audit', 139),\n",
       " ('administration', 139),\n",
       " ('f', 139),\n",
       " ('pollution', 139),\n",
       " ('ministers', 138),\n",
       " ('abroad', 138),\n",
       " ('operations', 138),\n",
       " ('class', 138),\n",
       " ('liability', 138),\n",
       " ('reforms', 138),\n",
       " ('fish', 137),\n",
       " ('cross', 137),\n",
       " ('leaflet', 137),\n",
       " ('markets', 137),\n",
       " ('cattle', 137),\n",
       " ('drive', 137),\n",
       " ('guidelines', 137),\n",
       " ('clinical', 137),\n",
       " ('bridge', 136),\n",
       " ('compensation', 136),\n",
       " ('armed', 136),\n",
       " ('unit', 135),\n",
       " ('exchange', 135),\n",
       " ('adult', 135),\n",
       " ('disposal', 135),\n",
       " ('generation', 135),\n",
       " ('potential', 135),\n",
       " ('launched', 135),\n",
       " ('etl', 134),\n",
       " ('23', 134),\n",
       " ('europe', 134),\n",
       " ('classification', 133),\n",
       " ('developing', 133),\n",
       " ('natural', 133),\n",
       " ('2000', 133),\n",
       " ('structure', 133),\n",
       " ('landfill', 133),\n",
       " ('affairs', 132),\n",
       " ('agreements', 132),\n",
       " ('29', 132),\n",
       " ('sexual', 132),\n",
       " ('top', 132),\n",
       " ('search', 131),\n",
       " ('exceptions', 131),\n",
       " ('when', 131),\n",
       " ('confirmed', 131),\n",
       " ('cases', 131),\n",
       " ('parliamentary', 130),\n",
       " ('broadband', 130),\n",
       " ('version', 130),\n",
       " ('notarial', 130),\n",
       " ('illegal', 129),\n",
       " ('pilot', 129),\n",
       " ('marketing', 129),\n",
       " ('radioactive', 129),\n",
       " ('ships', 128),\n",
       " ('cvd', 128),\n",
       " ('numbers', 128),\n",
       " (\"advisers'\", 128),\n",
       " ('members', 128),\n",
       " ('profile', 128),\n",
       " ('summer', 128),\n",
       " ('district', 128),\n",
       " ('re', 128),\n",
       " ('reducing', 128),\n",
       " ('advisers', 128),\n",
       " ('tackling', 127),\n",
       " ('fraud', 127),\n",
       " ('figures', 127),\n",
       " ('leadership', 127),\n",
       " ('relating', 127),\n",
       " ('aviation', 127),\n",
       " ('wave', 127),\n",
       " ('surveys', 127),\n",
       " ('documentary', 127),\n",
       " ('bodies', 126),\n",
       " ('countries', 126),\n",
       " ('quota', 126),\n",
       " ('station', 126),\n",
       " ('accommodation', 126),\n",
       " ('pupils', 126),\n",
       " ('curriculum', 126),\n",
       " ('buildings', 126),\n",
       " ('alternative', 126),\n",
       " ('greenhouse', 125),\n",
       " ('declaration', 125),\n",
       " ('facility', 125),\n",
       " ('find', 125),\n",
       " ('21', 125),\n",
       " ('practitioners', 125),\n",
       " ('disabled', 125),\n",
       " ('exports', 125),\n",
       " ('name', 125),\n",
       " ('sanctions', 125),\n",
       " ('bereavement', 124),\n",
       " ('behaviour', 124),\n",
       " ('transfers', 124),\n",
       " ('product', 124),\n",
       " ('25', 124),\n",
       " ('overview', 124),\n",
       " ('correspondence', 124),\n",
       " (\"secretary's\", 124),\n",
       " ('assurance', 124),\n",
       " ('salaries', 124),\n",
       " ('taxation', 124),\n",
       " ('sites', 123),\n",
       " ('bovine', 123),\n",
       " ('line', 123),\n",
       " ('direction', 123),\n",
       " ('multi', 123),\n",
       " ('dementia', 123),\n",
       " ('youth', 123),\n",
       " ('inheritance', 123),\n",
       " ('mp', 123),\n",
       " ('£1', 123),\n",
       " ('monitor', 122),\n",
       " ...]"
      ]
     },
     "execution_count": 40,
     "metadata": {},
     "output_type": "execute_result"
    }
   ],
   "source": [
    "\n",
    "sorted(tokenizer_tit.word_counts.items(), key=lambda x:x[1], reverse=True)\n",
    "#for key, value in sorted(mydict.iteritems(), key=lambda (k,v): (v,k)):\n",
    "    #print \"%s: %s\" % (key, value)"
   ]
  },
  {
   "cell_type": "markdown",
   "metadata": {},
   "source": [
    "### Tokenize description text"
   ]
  },
  {
   "cell_type": "code",
   "execution_count": 41,
   "metadata": {},
   "outputs": [],
   "source": [
    "# Bag of words method\n",
    "tokenizer_desc = Tokenizer(num_words=10000) #num_words: None or int. Maximum number of words to work with \n",
    "# (if set, tokenization will be restricted to the top num_words most common words in the dataset).\n",
    "\n",
    "# apply tokenizer to our text data\n",
    "tokenizer_desc.fit_on_texts(descs)\n",
    "\n",
    "# list of word indexes, where the word of rank i in the dataset (starting at 1) has index i\n",
    "sequences_desc = tokenizer_desc.texts_to_sequences(descs) #yield one sequence per input text\n",
    "onehot_desc = tokenizer_desc.sequences_to_matrix(sequences_desc) #yield one sequence per input text\n",
    "\n",
    "# dictionary mapping words (str) to their rank/index (int).\n",
    "word_index_desc = tokenizer_desc.word_index "
   ]
  },
  {
   "cell_type": "code",
   "execution_count": 42,
   "metadata": {},
   "outputs": [
    {
     "data": {
      "text/plain": [
       "(92338, 10000)"
      ]
     },
     "execution_count": 42,
     "metadata": {},
     "output_type": "execute_result"
    }
   ],
   "source": [
    "onehot_desc.shape"
   ]
  },
  {
   "cell_type": "markdown",
   "metadata": {},
   "source": [
    "### Data split\n",
    "- Training data = 80%\n",
    "- Development data = 10%\n",
    "- Test data = 10%"
   ]
  },
  {
   "cell_type": "code",
   "execution_count": 43,
   "metadata": {},
   "outputs": [
    {
     "name": "stdout",
     "output_type": "stream",
     "text": [
      "[    0     1     2 ..., 92335 92336 92337]\n",
      "[ 3348 85080 18965 ..., 42613 43567 68268]\n"
     ]
    }
   ],
   "source": [
    "# shuffle data and standardise indices\n",
    "indices = np.arange(data.shape[0])\n",
    "print(indices)\n",
    "np.random.seed(0)\n",
    "np.random.shuffle(indices)\n",
    "print(indices)"
   ]
  },
  {
   "cell_type": "code",
   "execution_count": 44,
   "metadata": {},
   "outputs": [],
   "source": [
    "data = data[indices]\n",
    "metadata = meta[indices]\n",
    "title_data = onehot_tit[indices]"
   ]
  },
  {
   "cell_type": "code",
   "execution_count": 45,
   "metadata": {},
   "outputs": [],
   "source": [
    "desc_data = onehot_desc[indices]\n",
    "timedata = first_published[indices]\n",
    "\n",
    "\n",
    "labels = binary_multilabel[indices]"
   ]
  },
  {
   "cell_type": "code",
   "execution_count": 46,
   "metadata": {},
   "outputs": [
    {
     "name": "stdout",
     "output_type": "stream",
     "text": [
      "nb_test samples: 9233\n",
      "nb_dev samples: 18467\n",
      "nb_training samples: 73870\n"
     ]
    }
   ],
   "source": [
    "nb_test_samples = int(0.1 * data.shape[0]) #validation split\n",
    "print('nb_test samples:', nb_test_samples)\n",
    "\n",
    "nb_dev_samples = int(0.2 * data.shape[0]) #validation split\n",
    "print('nb_dev samples:', nb_dev_samples)\n",
    "\n",
    "nb_training_samples = int(0.8 * data.shape[0]) #validation split\n",
    "print('nb_training samples:', nb_training_samples)"
   ]
  },
  {
   "cell_type": "code",
   "execution_count": 47,
   "metadata": {},
   "outputs": [
    {
     "name": "stdout",
     "output_type": "stream",
     "text": [
      "Shape of x_train: (73871, 1000)\n",
      "Shape of metax_train: (73871, 431)\n",
      "Shape of titlex_train: (73871, 10000)\n",
      "Shape of descx_train: (73871, 10000)\n",
      "Shape of datex_train: (73871, 1)\n",
      "Shape of y_train: (73871, 107)\n"
     ]
    }
   ],
   "source": [
    "x_train = data[:-nb_dev_samples]\n",
    "print('Shape of x_train:', x_train.shape)\n",
    "\n",
    "metax_train = metadata[:-nb_dev_samples]\n",
    "print('Shape of metax_train:', metax_train.shape)\n",
    "\n",
    "titlex_train = title_data[:-nb_dev_samples]\n",
    "print('Shape of titlex_train:', titlex_train.shape)\n",
    "\n",
    "descx_train = desc_data[:-nb_dev_samples]\n",
    "print('Shape of descx_train:', descx_train.shape)\n",
    "\n",
    "datex_train = timedata[:-nb_dev_samples]\n",
    "print('Shape of datex_train:', datex_train.shape)\n",
    "\n",
    "y_train = labels[:-nb_dev_samples]\n",
    "print('Shape of y_train:', y_train.shape)"
   ]
  },
  {
   "cell_type": "code",
   "execution_count": 48,
   "metadata": {},
   "outputs": [
    {
     "name": "stdout",
     "output_type": "stream",
     "text": [
      "Shape of x_dev: (9234, 1000)\n",
      "Shape of metax_dev: (9234, 431)\n",
      "Shape of titlex_dev: (9234, 10000)\n",
      "Shape of descx_dev: (9234, 10000)\n",
      "Shape of metax_dev: (9234, 1)\n",
      "Shape of y_dev: (9234, 107)\n"
     ]
    }
   ],
   "source": [
    "x_dev = data[-nb_dev_samples:-nb_test_samples]\n",
    "print('Shape of x_dev:', x_dev.shape)\n",
    "\n",
    "metax_dev = metadata[-nb_dev_samples:-nb_test_samples]\n",
    "print('Shape of metax_dev:', metax_dev.shape)\n",
    "\n",
    "titlex_dev = title_data[-nb_dev_samples:-nb_test_samples]\n",
    "print('Shape of titlex_dev:', titlex_dev.shape)\n",
    "\n",
    "descx_dev = desc_data[-nb_dev_samples:-nb_test_samples]\n",
    "print('Shape of descx_dev:', descx_dev.shape)\n",
    "\n",
    "datex_dev = timedata[-nb_dev_samples:-nb_test_samples]\n",
    "print('Shape of metax_dev:', datex_dev.shape)\n",
    "\n",
    "y_dev = labels[-nb_dev_samples:-nb_test_samples]\n",
    "print('Shape of y_dev:', y_dev.shape)"
   ]
  },
  {
   "cell_type": "code",
   "execution_count": 49,
   "metadata": {},
   "outputs": [
    {
     "name": "stdout",
     "output_type": "stream",
     "text": [
      "Shape of x_test: (9233, 1000)\n",
      "Shape of metax_test: (9233, 431)\n",
      "Shape of titlex_test: (9233, 10000)\n",
      "Shape of descx_test: (9233, 10000)\n",
      "Shape of datex_test: (9233, 1)\n",
      "Shape of y_test: (9233, 107)\n"
     ]
    }
   ],
   "source": [
    "x_test = data[-nb_test_samples:]\n",
    "print('Shape of x_test:', x_test.shape)\n",
    "\n",
    "metax_test = metadata[-nb_test_samples:]\n",
    "print('Shape of metax_test:', metax_test.shape)\n",
    "\n",
    "titlex_test = title_data[-nb_test_samples:]\n",
    "print('Shape of titlex_test:', titlex_test.shape)\n",
    "\n",
    "descx_test = desc_data[-nb_test_samples:]\n",
    "print('Shape of descx_test:', descx_test.shape)\n",
    "\n",
    "datex_test = timedata[-nb_test_samples:]\n",
    "print('Shape of datex_test:', datex_test.shape)\n",
    "\n",
    "y_test = labels[-nb_test_samples:]\n",
    "print('Shape of y_test:', y_test.shape)"
   ]
  },
  {
   "cell_type": "markdown",
   "metadata": {},
   "source": [
    "### preparing the Embedding layer\n",
    "\n",
    "NB stopwords haven't been removed yet..."
   ]
  },
  {
   "cell_type": "code",
   "execution_count": 50,
   "metadata": {},
   "outputs": [],
   "source": [
    "embedding_layer = Embedding(len(word_index) + 1, \n",
    "                            EMBEDDING_DIM, \n",
    "                            input_length=MAX_SEQUENCE_LENGTH)"
   ]
  },
  {
   "cell_type": "markdown",
   "metadata": {},
   "source": [
    "An Embedding layer should be fed sequences of integers, i.e. a 2D input of shape (samples, indices). These input sequences should be padded so that they all have the same length in a batch of input data (although an Embedding layer is capable of processing sequence of heterogenous length, if you don't pass an explicit input_length argument to the layer).\n",
    "\n",
    "All that the Embedding layer does is to map the integer inputs to the vectors found at the corresponding index in the embedding matrix, i.e. the sequence [1, 2] would be converted to [embeddings[1], embeddings[2]]. This means that the output of the Embedding layer will be a 3D tensor of shape (samples, sequence_length, embedding_dim)."
   ]
  },
  {
   "cell_type": "markdown",
   "metadata": {},
   "source": [
    "### Estimate class weights for unbalanced datasets.\n",
    "paramter to model.fit = __class_weight__: Optional dictionary mapping class indices (integers) to a weight (float) value, used for weighting the loss function (during training only). This can be useful to tell the model to \"pay more attention\" to samples from an under-represented class.\n",
    "\n",
    "Implement class_weight from sklearn:\n",
    "\n",
    "- Import the module \n",
    "\n",
    "`from sklearn.utils import class_weight`\n",
    "- calculate the class weight, If ‘balanced’, class weights will be given by n_samples / (n_classes * np.bincount(y)):\n",
    "\n",
    "`class_weight = class_weight.compute_class_weight('balanced', np.unique(y_train), y_train)`\n",
    "\n",
    "- change it to a dict in order to work with Keras.\n",
    "\n",
    "`class_weight_dict = dict(enumerate(class_weight))`\n",
    "\n",
    "- Add to model fitting\n",
    "\n",
    "`model.fit(X_train, y_train, class_weight=class_weight)`"
   ]
  },
  {
   "cell_type": "code",
   "execution_count": 51,
   "metadata": {},
   "outputs": [],
   "source": [
    "# class_weight = class_weight.compute_class_weight('balanced', np.unique(y_train), y_train)\n",
    "# class_weight_dict = dict(enumerate(class_weight))"
   ]
  },
  {
   "cell_type": "markdown",
   "metadata": {},
   "source": [
    "### Custom loss function"
   ]
  },
  {
   "cell_type": "code",
   "execution_count": 52,
   "metadata": {},
   "outputs": [
    {
     "name": "stdout",
     "output_type": "stream",
     "text": [
      "4.00756\n",
      "8.01512\n"
     ]
    }
   ],
   "source": [
    "class WeightedBinaryCrossEntropy(object):\n",
    "\n",
    "    def __init__(self, pos_ratio):\n",
    "        neg_ratio = 1. - pos_ratio\n",
    "        #self.pos_ratio = tf.constant(pos_ratio, tf.float32)\n",
    "        self.pos_ratio = pos_ratio\n",
    "        #self.weights = tf.constant(neg_ratio / pos_ratio, tf.float32)\n",
    "        self.weights = neg_ratio / pos_ratio\n",
    "        self.__name__ = \"weighted_binary_crossentropy({0})\".format(pos_ratio)\n",
    "\n",
    "    def __call__(self, y_true, y_pred):\n",
    "        return self.weighted_binary_crossentropy(y_true, y_pred)\n",
    "\n",
    "    def weighted_binary_crossentropy(self, y_true, y_pred):\n",
    "            # Transform to logits\n",
    "            epsilon = tf.convert_to_tensor(K.common._EPSILON, y_pred.dtype.base_dtype)\n",
    "            y_pred = tf.clip_by_value(y_pred, epsilon, 1 - epsilon)\n",
    "            y_pred = tf.log(y_pred / (1 - y_pred))\n",
    "\n",
    "            cost = tf.nn.weighted_cross_entropy_with_logits(y_true, y_pred, self.weights)\n",
    "            return K.mean(cost * self.pos_ratio, axis=-1)\n",
    "    \n",
    "y_true_arr = np.array([0,1,0,1], dtype=\"float32\")\n",
    "y_pred_arr = np.array([0,0,1,1], dtype=\"float32\")\n",
    "y_true = tf.constant(y_true_arr)\n",
    "y_pred = tf.constant(y_pred_arr)\n",
    "\n",
    "with tf.Session().as_default(): \n",
    "    print(WeightedBinaryCrossEntropy(0.5)(y_true, y_pred).eval())\n",
    "    print(binary_crossentropy(y_true, y_pred).eval())\n"
   ]
  },
  {
   "cell_type": "markdown",
   "metadata": {},
   "source": [
    "### difficulty getting global precision/recall metrics . CAUTION interpreting monitoring metrics\n",
    "fcholltet: \"Basically these are all global metrics that were approximated\n",
    "batch-wise, which is more misleading than helpful. This was mentioned in\n",
    "the docs but it's much cleaner to remove them altogether. It was a mistake\n",
    "to merge them in the first place.\""
   ]
  },
  {
   "cell_type": "code",
   "execution_count": 53,
   "metadata": {},
   "outputs": [],
   "source": [
    "def f1(y_true, y_pred):\n",
    "    \"\"\"Use Recall  and precision metrics to calculate harmonic mean (F1 score).\n",
    "\n",
    "        Only computes a batch-wise average of recall.\n",
    "\n",
    "        Computes the recall, a metric for multi-label classification of\n",
    "        how many relevant items are selected.\n",
    "        \"\"\"\n",
    "    true_positives = K.sum(K.round(K.clip(y_true * y_pred, 0, 1)))\n",
    "    predicted_positives = K.sum(K.round(K.clip(y_pred, 0, 1)))\n",
    "    possible_positives = K.sum(K.round(K.clip(y_true, 0, 1)))\n",
    "    precision = true_positives / (predicted_positives + K.epsilon())\n",
    "    recall = true_positives / (possible_positives + K.epsilon())\n",
    "    f1 = 2*((precision*recall)/(precision+recall))\n",
    "    \n",
    "    return f1"
   ]
  },
  {
   "cell_type": "markdown",
   "metadata": {},
   "source": [
    "## Training a 1D convnet"
   ]
  },
  {
   "cell_type": "markdown",
   "metadata": {},
   "source": [
    "### 1. Create model"
   ]
  },
  {
   "cell_type": "code",
   "execution_count": 54,
   "metadata": {},
   "outputs": [],
   "source": [
    "NB_CLASSES = y_train.shape[1]\n",
    "NB_METAVARS = metax_train.shape[1]\n",
    "\n",
    "\n",
    "\n",
    "sequence_input = Input(shape=(MAX_SEQUENCE_LENGTH,), dtype='int32', name='wordindex') #MAX_SEQUENCE_LENGTH\n",
    "embedded_sequences = embedding_layer(sequence_input)\n",
    "x = Dropout(0.2, name = 'dropout_embedded')(embedded_sequences)\n",
    "\n",
    "x = Conv1D(128, 5, activation='relu', name = 'conv0')(x)\n",
    "\n",
    "x = MaxPooling1D(5, name = 'max_pool0')(x)\n",
    "\n",
    "x = Dropout(0.5, name = 'dropout0')(x)\n",
    "\n",
    "x = Conv1D(128, 5, activation='relu', name = 'conv1')(x)\n",
    "\n",
    "x = MaxPooling1D(5 , name = 'max_pool1')(x)\n",
    "\n",
    "x = Conv1D(128, 5, activation='relu', name = 'conv2')(x)\n",
    "\n",
    "x = MaxPooling1D(35, name = 'global_max_pool')(x)  # global max pooling\n",
    "\n",
    "x = Flatten()(x) #reduce dimensions from 3 to 2; convert to vector + FULLYCONNECTED\n",
    "\n",
    "meta_input = Input(shape=(NB_METAVARS,), name='meta')\n",
    "meta_hidden = Dense(128, activation='relu', name = 'hidden_meta')(meta_input)\n",
    "meta_hidden = Dropout(0.2, name = 'dropout_meta')(meta_hidden)\n",
    "\n",
    "\n",
    "title_input = Input(shape=(titlex_train.shape[1],), name='titles')\n",
    "title_hidden = Dense(128, activation='relu', name = 'hidden_title')(title_input)\n",
    "title_hidden = Dropout(0.2, name = 'dropout_title')(title_hidden)\n",
    "\n",
    "desc_input = Input(shape=(descx_train.shape[1],), name='descs')\n",
    "desc_hidden = Dense(128, activation='relu', name = 'hidden_desc')(desc_input)\n",
    "desc_hidden = Dropout(0.2, name = 'dropout_desc')(desc_hidden)\n",
    "\n",
    "concatenated = concatenate([meta_hidden, title_hidden, desc_hidden, x])\n",
    "\n",
    "x = Dense(400, activation='relu', name = 'fully_connected0')(concatenated)\n",
    "\n",
    "x = Dropout(0.2, name = 'dropout1')(x)\n",
    "\n",
    "x = Dense(NB_CLASSES, activation='sigmoid', name = 'fully_connected1')(x)\n",
    "\n",
    "# # The Model class turns an input tensor and output tensor into a model\n",
    "# This creates Keras model instance, will use this instance to train/test the model.\n",
    "model = Model(inputs=[meta_input, title_input, desc_input, sequence_input], outputs=x)"
   ]
  },
  {
   "cell_type": "markdown",
   "metadata": {},
   "source": [
    "### 2. Compile model"
   ]
  },
  {
   "cell_type": "code",
   "execution_count": 55,
   "metadata": {},
   "outputs": [],
   "source": [
    "model.compile(loss=WeightedBinaryCrossEntropy(POS_RATIO),\n",
    "              optimizer='rmsprop',\n",
    "              metrics=['binary_accuracy', f1])"
   ]
  },
  {
   "cell_type": "markdown",
   "metadata": {},
   "source": [
    "Metric values are recorded at the end of each epoch on the training dataset. If a validation dataset is also provided, then the metric recorded is also calculated for the validation dataset.\n",
    "\n",
    "All metrics are reported in verbose output and in the history object returned from calling the fit() function. In both cases, the name of the metric function is used as the key for the metric values. In the case of metrics for the validation dataset, the “val_” prefix is added to the key."
   ]
  },
  {
   "cell_type": "markdown",
   "metadata": {},
   "source": [
    "You have now built a function to describe your model. To train and test this model, there are four steps in Keras:\n",
    "1. Create the model by calling the function above\n",
    "2. Compile the model by calling `model.compile(optimizer = \"...\", loss = \"...\", metrics = [\"accuracy\"])`\n",
    "3. Train the model on train data by calling `model.fit(x = ..., y = ..., epochs = ..., batch_size = ...)`\n",
    "4. Test the model on test data by calling `model.evaluate(x = ..., y = ...)`\n",
    "\n",
    "If you want to know more about `model.compile()`, `model.fit()`, `model.evaluate()` and their arguments, refer to the official [Keras documentation](https://keras.io/models/model/).\n"
   ]
  },
  {
   "cell_type": "code",
   "execution_count": 56,
   "metadata": {},
   "outputs": [
    {
     "name": "stdout",
     "output_type": "stream",
     "text": [
      "__________________________________________________________________________________________________\n",
      "Layer (type)                    Output Shape         Param #     Connected to                     \n",
      "==================================================================================================\n",
      "wordindex (InputLayer)          (None, 1000)         0                                            \n",
      "__________________________________________________________________________________________________\n",
      "embedding_1 (Embedding)         (None, 1000, 100)    17138000    wordindex[0][0]                  \n",
      "__________________________________________________________________________________________________\n",
      "dropout_embedded (Dropout)      (None, 1000, 100)    0           embedding_1[0][0]                \n",
      "__________________________________________________________________________________________________\n",
      "conv0 (Conv1D)                  (None, 996, 128)     64128       dropout_embedded[0][0]           \n",
      "__________________________________________________________________________________________________\n",
      "max_pool0 (MaxPooling1D)        (None, 199, 128)     0           conv0[0][0]                      \n",
      "__________________________________________________________________________________________________\n",
      "dropout0 (Dropout)              (None, 199, 128)     0           max_pool0[0][0]                  \n",
      "__________________________________________________________________________________________________\n",
      "conv1 (Conv1D)                  (None, 195, 128)     82048       dropout0[0][0]                   \n",
      "__________________________________________________________________________________________________\n",
      "max_pool1 (MaxPooling1D)        (None, 39, 128)      0           conv1[0][0]                      \n",
      "__________________________________________________________________________________________________\n",
      "meta (InputLayer)               (None, 431)          0                                            \n",
      "__________________________________________________________________________________________________\n",
      "titles (InputLayer)             (None, 10000)        0                                            \n",
      "__________________________________________________________________________________________________\n",
      "descs (InputLayer)              (None, 10000)        0                                            \n",
      "__________________________________________________________________________________________________\n",
      "conv2 (Conv1D)                  (None, 35, 128)      82048       max_pool1[0][0]                  \n",
      "__________________________________________________________________________________________________\n",
      "hidden_meta (Dense)             (None, 128)          55296       meta[0][0]                       \n",
      "__________________________________________________________________________________________________\n",
      "hidden_title (Dense)            (None, 128)          1280128     titles[0][0]                     \n",
      "__________________________________________________________________________________________________\n",
      "hidden_desc (Dense)             (None, 128)          1280128     descs[0][0]                      \n",
      "__________________________________________________________________________________________________\n",
      "global_max_pool (MaxPooling1D)  (None, 1, 128)       0           conv2[0][0]                      \n",
      "__________________________________________________________________________________________________\n",
      "dropout_meta (Dropout)          (None, 128)          0           hidden_meta[0][0]                \n",
      "__________________________________________________________________________________________________\n",
      "dropout_title (Dropout)         (None, 128)          0           hidden_title[0][0]               \n",
      "__________________________________________________________________________________________________\n",
      "dropout_desc (Dropout)          (None, 128)          0           hidden_desc[0][0]                \n",
      "__________________________________________________________________________________________________\n",
      "flatten_1 (Flatten)             (None, 128)          0           global_max_pool[0][0]            \n",
      "__________________________________________________________________________________________________\n",
      "concatenate_1 (Concatenate)     (None, 512)          0           dropout_meta[0][0]               \n",
      "                                                                 dropout_title[0][0]              \n",
      "                                                                 dropout_desc[0][0]               \n",
      "                                                                 flatten_1[0][0]                  \n",
      "__________________________________________________________________________________________________\n",
      "fully_connected0 (Dense)        (None, 400)          205200      concatenate_1[0][0]              \n",
      "__________________________________________________________________________________________________\n",
      "dropout1 (Dropout)              (None, 400)          0           fully_connected0[0][0]           \n",
      "__________________________________________________________________________________________________\n",
      "fully_connected1 (Dense)        (None, 107)          42907       dropout1[0][0]                   \n",
      "==================================================================================================\n",
      "Total params: 20,229,883\n",
      "Trainable params: 20,229,883\n",
      "Non-trainable params: 0\n",
      "__________________________________________________________________________________________________\n"
     ]
    }
   ],
   "source": [
    "model.summary()"
   ]
  },
  {
   "cell_type": "markdown",
   "metadata": {},
   "source": [
    "### Tensorboard callbacks /metrics /monitor training"
   ]
  },
  {
   "cell_type": "markdown",
   "metadata": {},
   "source": [
    "<span style=\"color:red\"> **Size of these files is killing storage during training. Is it histograms?**</span>"
   ]
  },
  {
   "cell_type": "code",
   "execution_count": 57,
   "metadata": {},
   "outputs": [],
   "source": [
    "tb = TensorBoard(log_dir='./learn_embedding_logs', histogram_freq=1, write_graph=True, write_images=False)"
   ]
  },
  {
   "cell_type": "code",
   "execution_count": 58,
   "metadata": {},
   "outputs": [],
   "source": [
    "CHECKPOINT_PATH = os.path.join(DATADIR, 'model_checkpoint.hdf5')\n",
    "\n",
    "cp = ModelCheckpoint(\n",
    "                     filepath = CHECKPOINT_PATH, \n",
    "                     monitor='val_loss', \n",
    "                     verbose=0, \n",
    "                     save_best_only=False, \n",
    "                     save_weights_only=False, \n",
    "                     mode='auto', \n",
    "                     period=1\n",
    "                    )"
   ]
  },
  {
   "cell_type": "code",
   "execution_count": 59,
   "metadata": {},
   "outputs": [],
   "source": [
    "# class Metrics(Callback):\n",
    "#     def on_train_begin(self, logs={}):\n",
    "#         self.val_f1s = []\n",
    "#         self.val_recalls = []\n",
    "#         self.val_precisions = []\n",
    " \n",
    "#     def on_epoch_end(self, epoch, logs={}):\n",
    "#         val_predict = (np.asarray(self.model.predict(self.model.validation_data[0]))).round()\n",
    "#         val_targ = self.model.validation_data[1]\n",
    "        \n",
    "#         self.val_f1s.append(f1_score(val_targ, val_predict, average='micro'))\n",
    "#         self.val_recalls.append(recall_score(val_targ, val_predict))\n",
    "#         self.val_precisions.append(precision_score(val_targ, val_predict))\n",
    "#         print(\"- val_f1: %f — val_precision: %f — val_recall %f\" \n",
    "#                 %(f1_score(val_targ, val_predict, average='micro'), \n",
    "#                   precision_score(val_targ, val_predict),\n",
    "#                    recall_score(val_targ, val_predict)))\n",
    "#         return\n",
    " \n",
    "# metrics = Metrics()"
   ]
  },
  {
   "cell_type": "code",
   "execution_count": 60,
   "metadata": {},
   "outputs": [],
   "source": [
    "from keras.callbacks import EarlyStopping\n",
    "early_stopping = EarlyStopping(monitor='val_loss', patience=2)\n",
    "#model.fit(x, y, validation_split=0.2, callbacks=[early_stopping])"
   ]
  },
  {
   "cell_type": "markdown",
   "metadata": {},
   "source": [
    "### 3. Train model"
   ]
  },
  {
   "cell_type": "code",
   "execution_count": 61,
   "metadata": {},
   "outputs": [
    {
     "name": "stdout",
     "output_type": "stream",
     "text": [
      "Train on 73871 samples, validate on 9234 samples\n",
      "Epoch 1/10\n",
      "73871/73871 [==============================] - 72s 975us/step - loss: 0.0188 - binary_accuracy: 0.9896 - f1: nan - val_loss: 0.0105 - val_binary_accuracy: 0.9931 - val_f1: 0.7027\n",
      "Epoch 2/10\n",
      "73871/73871 [==============================] - 69s 933us/step - loss: 0.0089 - binary_accuracy: 0.9940 - f1: 0.7432 - val_loss: 0.0088 - val_binary_accuracy: 0.9940 - val_f1: 0.7528\n",
      "Epoch 3/10\n",
      "73871/73871 [==============================] - 69s 933us/step - loss: 0.0073 - binary_accuracy: 0.9951 - f1: 0.7966 - val_loss: 0.0085 - val_binary_accuracy: 0.9943 - val_f1: 0.7678\n",
      "Epoch 4/10\n",
      "73871/73871 [==============================] - 69s 933us/step - loss: 0.0063 - binary_accuracy: 0.9957 - f1: 0.8276 - val_loss: 0.0083 - val_binary_accuracy: 0.9945 - val_f1: 0.7770\n",
      "Epoch 5/10\n",
      "73871/73871 [==============================] - 68s 927us/step - loss: 0.0056 - binary_accuracy: 0.9962 - f1: 0.8498 - val_loss: 0.0082 - val_binary_accuracy: 0.9946 - val_f1: 0.7898\n",
      "Epoch 6/10\n",
      "73871/73871 [==============================] - 69s 935us/step - loss: 0.0050 - binary_accuracy: 0.9966 - f1: 0.8673 - val_loss: 0.0085 - val_binary_accuracy: 0.9947 - val_f1: 0.7886\n",
      "Epoch 7/10\n",
      "73871/73871 [==============================] - 69s 934us/step - loss: 0.0045 - binary_accuracy: 0.9969 - f1: 0.8801 - val_loss: 0.0087 - val_binary_accuracy: 0.9946 - val_f1: 0.7895\n"
     ]
    }
   ],
   "source": [
    "# metrics callback causes: CCCCCCR55555555511155\n",
    "# So disable for now\n",
    "\n",
    "history = model.fit(\n",
    "    {'meta': metax_train, 'titles': titlex_train, 'descs': descx_train, 'wordindex': x_train},\n",
    "    y_train, \n",
    "    validation_data=([metax_dev, titlex_dev, descx_dev, x_dev], y_dev), \n",
    "    epochs=10, batch_size=128, callbacks=[early_stopping]\n",
    ")"
   ]
  },
  {
   "cell_type": "code",
   "execution_count": 62,
   "metadata": {},
   "outputs": [
    {
     "data": {
      "text/plain": [
       "dict_keys(['val_loss', 'val_binary_accuracy', 'val_f1', 'loss', 'binary_accuracy', 'f1'])"
      ]
     },
     "execution_count": 62,
     "metadata": {},
     "output_type": "execute_result"
    }
   ],
   "source": [
    "history_dict = history.history\n",
    "history_dict.keys()"
   ]
  },
  {
   "cell_type": "code",
   "execution_count": 63,
   "metadata": {},
   "outputs": [
    {
     "data": {
      "image/png": "[encoded data removed]",
      "text/plain": [
       "<matplotlib.figure.Figure at 0x7f0e59a86898>"
      ]
     },
     "metadata": {},
     "output_type": "display_data"
    }
   ],
   "source": [
    "loss_values = history_dict['loss']\n",
    "val_loss_values = history_dict['val_loss']\n",
    "\n",
    "epochs = range(1, 8)\n",
    "\n",
    "plt.plot(epochs, loss_values, 'bo', label='Training loss')           \n",
    "plt.plot(epochs, val_loss_values, 'b', label='Validation loss')      \n",
    "plt.title('Training and validation loss')\n",
    "plt.xlabel('Epochs')\n",
    "plt.ylabel('Loss')\n",
    "plt.legend()\n",
    "\n",
    "plt.show()"
   ]
  },
  {
   "cell_type": "code",
   "execution_count": 64,
   "metadata": {},
   "outputs": [
    {
     "data": {
      "image/png": "[encoded data removed]",
      "text/plain": [
       "<matplotlib.figure.Figure at 0x7f0e5962fe10>"
      ]
     },
     "metadata": {},
     "output_type": "display_data"
    }
   ],
   "source": [
    "plt.clf()    \n",
    "\n",
    "f1_values = history_dict['f1']\n",
    "val_f1_values = history_dict['val_f1']\n",
    "\n",
    "plt.plot(epochs, f1_values, 'bo', label='Training f1')\n",
    "plt.plot(epochs, val_f1_values, 'b', label='Validation f1')\n",
    "plt.title('Training and validation batch-level f1-micro')\n",
    "plt.xlabel('Epochs')\n",
    "plt.ylabel('F1-micro')\n",
    "plt.legend()\n",
    "\n",
    "plt.show()"
   ]
  },
  {
   "cell_type": "markdown",
   "metadata": {},
   "source": [
    "### Evaluate model"
   ]
  },
  {
   "cell_type": "markdown",
   "metadata": {},
   "source": [
    "#### Training metrics"
   ]
  },
  {
   "cell_type": "code",
   "execution_count": 65,
   "metadata": {},
   "outputs": [],
   "source": [
    "y_prob = model.predict([metax_train, titlex_train, descx_train, x_train])"
   ]
  },
  {
   "cell_type": "code",
   "execution_count": 66,
   "metadata": {},
   "outputs": [
    {
     "data": {
      "text/plain": [
       "(73871, 107)"
      ]
     },
     "execution_count": 66,
     "metadata": {},
     "output_type": "execute_result"
    }
   ],
   "source": [
    "y_prob.shape"
   ]
  },
  {
   "cell_type": "code",
   "execution_count": 67,
   "metadata": {},
   "outputs": [],
   "source": [
    "y_pred = y_prob.copy()\n",
    "y_pred[y_pred>=P_THRESHOLD] = 1\n",
    "y_pred[y_pred<P_THRESHOLD] = 0"
   ]
  },
  {
   "cell_type": "code",
   "execution_count": 68,
   "metadata": {},
   "outputs": [
    {
     "data": {
      "text/plain": [
       "0.92260658914728677"
      ]
     },
     "execution_count": 68,
     "metadata": {},
     "output_type": "execute_result"
    }
   ],
   "source": [
    "f1_score(y_train, y_pred, average='micro')"
   ]
  },
  {
   "cell_type": "code",
   "execution_count": 69,
   "metadata": {},
   "outputs": [
    {
     "name": "stderr",
     "output_type": "stream",
     "text": [
      "/home/ubuntu/anaconda3/envs/tensorflow_p36/lib/python3.6/site-packages/sklearn/metrics/classification.py:1135: UndefinedMetricWarning: Precision and F-score are ill-defined and being set to 0.0 in labels with no predicted samples.\n",
      "  'precision', 'predicted', average, warn_for)\n"
     ]
    },
    {
     "data": {
      "text/plain": [
       "(array([ 0.93478261,  1.        ,  0.76829268,  0.        ,  0.93079585,\n",
       "         0.93193717,  0.95333333,  0.89516129,  0.90763052,  0.95631202,\n",
       "         0.9185879 ,  0.95110858,  0.98850575,  0.93506494,  0.98113208,\n",
       "         0.97029703,  0.93300111,  0.935     ,  0.94218685,  0.91666667,\n",
       "         0.95192308,  0.95863309,  0.94927536,  0.89830508,  0.97761194,\n",
       "         0.89738146,  0.96424581,  0.93023256,  0.95538312,  0.95505618,\n",
       "         0.89967638,  0.93539519,  0.97260274,  0.88218391,  0.9339207 ,\n",
       "         0.97691373,  0.92145515,  0.93607595,  0.95774648,  0.98784722,\n",
       "         0.94169633,  0.9031477 ,  0.98461538,  0.94230049,  0.96213992,\n",
       "         0.90675991,  0.91743119,  0.96168109,  0.97003929,  0.91044776,\n",
       "         0.81578947,  0.97115385,  0.97196262,  1.        ,  0.94153337,\n",
       "         0.9186747 ,  0.88950276,  0.89690722,  0.89915966,  0.97818792,\n",
       "         0.97234043,  0.89130435,  0.765625  ,  0.87601297,  1.        ,\n",
       "         0.9111349 ,  0.94179894,  0.91122715,  0.95439189,  0.95292767,\n",
       "         0.94722955,  0.97597886,  0.97860963,  0.97087379,  0.95808383,\n",
       "         0.94623656,  0.92692308,  0.95410628,  0.97453184,  0.86397985,\n",
       "         0.98571429,  0.95733333,  0.97603306,  0.96766875,  0.93433396,\n",
       "         0.92424242,  0.95209581,  0.9580574 ,  0.96478873,  0.9813137 ,\n",
       "         0.91803279,  0.98012552,  0.94202899,  0.96042977,  0.95535714,\n",
       "         0.99035813,  0.90587109,  0.90625   ,  1.        ,  0.90789474,\n",
       "         0.96921103,  0.95708955,  0.91318328,  0.        ,  0.90232558,\n",
       "         0.94573643,  0.97321907]),\n",
       " array([ 0.671875  ,  0.72340426,  0.7875    ,  0.        ,  0.9297235 ,\n",
       "         0.89      ,  0.8079096 ,  0.75      ,  0.88976378,  0.89628003,\n",
       "         0.88912134,  0.96094199,  0.78181818,  0.97297297,  0.85950413,\n",
       "         0.70758123,  0.92177243,  0.86976744,  0.83296296,  0.30136986,\n",
       "         0.825     ,  0.79790419,  0.90552995,  0.76076555,  0.8136646 ,\n",
       "         0.97388633,  0.96316964,  0.48780488,  0.82773109,  0.74561404,\n",
       "         0.77871148,  0.85436284,  0.67619048,  0.82085561,  0.94222222,\n",
       "         0.96518607,  0.95624196,  0.96163849,  0.93150685,  0.95230126,\n",
       "         0.93686653,  0.75404313,  0.8590604 ,  0.95013223,  0.92484177,\n",
       "         0.95343137,  0.87336245,  0.93397359,  0.93248347,  0.69318182,\n",
       "         0.81578947,  0.92097264,  0.92857143,  1.        ,  0.90557029,\n",
       "         0.89970501,  0.82564103,  0.75      ,  0.90677966,  0.9433657 ,\n",
       "         0.99132321,  0.81303116,  0.98989899,  0.93891141,  0.51666667,\n",
       "         0.93465129,  0.91165173,  0.87688442,  0.90111643,  0.91814159,\n",
       "         0.91815857,  0.94774901,  0.8061674 ,  0.9765625 ,  0.78817734,\n",
       "         0.84615385,  0.93774319,  0.92397661,  0.89786059,  0.93715847,\n",
       "         0.66346154,  0.86091127,  0.97121711,  0.93787795,  0.91544118,\n",
       "         0.83479961,  0.87845304,  0.8219697 ,  0.77840909,  0.7705647 ,\n",
       "         0.65116279,  0.96102564,  0.69148936,  0.93114837,  0.93043478,\n",
       "         0.98493151,  0.82649199,  0.67836257,  0.890625  ,  0.88461538,\n",
       "         0.97989624,  0.92266187,  0.86322188,  0.        ,  0.94568245,\n",
       "         0.84137931,  0.97951482]),\n",
       " array([ 0.78181818,  0.83950617,  0.77777778,  0.        ,  0.93025937,\n",
       "         0.91048593,  0.87461774,  0.81617647,  0.89860835,  0.92532338,\n",
       "         0.90361446,  0.956     ,  0.87309645,  0.95364238,  0.91629956,\n",
       "         0.81837161,  0.92735278,  0.90120482,  0.88421466,  0.45360825,\n",
       "         0.88392857,  0.87091503,  0.92688679,  0.8238342 ,  0.88813559,\n",
       "         0.93406998,  0.96370743,  0.64      ,  0.88698784,  0.83743842,\n",
       "         0.83483483,  0.89304462,  0.79775281,  0.85041551,  0.9380531 ,\n",
       "         0.97101449,  0.93852632,  0.94868505,  0.94444444,  0.96974862,\n",
       "         0.93927522,  0.82188762,  0.91756272,  0.94620015,  0.94312223,\n",
       "         0.92951016,  0.89485459,  0.94762485,  0.95089071,  0.78709677,\n",
       "         0.81578947,  0.94539782,  0.94977169,  1.        ,  0.92320173,\n",
       "         0.90909091,  0.85638298,  0.81690141,  0.90295359,  0.96046129,\n",
       "         0.98174006,  0.85037037,  0.86343612,  0.90637228,  0.68131868,\n",
       "         0.92274329,  0.92648016,  0.89372599,  0.92698934,  0.93521127,\n",
       "         0.93246753,  0.9616568 ,  0.88405797,  0.97370983,  0.86486486,\n",
       "         0.89340102,  0.93230174,  0.93879976,  0.93462644,  0.89908257,\n",
       "         0.79310345,  0.90656566,  0.97361913,  0.95254048,  0.92479109,\n",
       "         0.87724705,  0.9137931 ,  0.88481142,  0.86163522,  0.86326276,\n",
       "         0.76190476,  0.97048162,  0.79754601,  0.94556244,  0.94273128,\n",
       "         0.98763736,  0.86436292,  0.77591973,  0.94214876,  0.8961039 ,\n",
       "         0.97452435,  0.93956044,  0.8875    ,  0.        ,  0.92349541,\n",
       "         0.89051095,  0.9763568 ]),\n",
       " array([  64,   47,   80,   12,  868,  200,  354,  148, 1016, 7742, 1434,\n",
       "        1741,  110,   74,  121,  277, 3656,  215, 2700,   73,  120,  668,\n",
       "         434,  209,  161, 1302,  896,   82, 1190,  114,  357, 1593,  105,\n",
       "         374,  225,  833, 2331, 1538,  146, 1195, 8189, 1484,  149, 2647,\n",
       "        2528,  408,  229,  833, 2118,   88,  114,  329,  112,  109, 1885,\n",
       "         339,  195,  116,  118,  618,  922,  706,   99, 3454,   60, 1821,\n",
       "         781,  398,  627,  904,  391, 4287,  227, 1024,  609,  104,  514,\n",
       "         855, 1449,  366,  104,  417, 1216, 1819,  544, 1023,  181,  528,\n",
       "         176, 2249,   86,  975,   94, 3936,  575,  730, 6870,  171,  128,\n",
       "          78, 1542, 1112,  329,   26, 1436,  145, 1855]))"
      ]
     },
     "execution_count": 69,
     "metadata": {},
     "output_type": "execute_result"
    }
   ],
   "source": [
    "#average= None, the scores for each class are returned.\n",
    "precision_recall_fscore_support(y_train, y_pred, average=None, sample_weight=None)"
   ]
  },
  {
   "cell_type": "code",
   "execution_count": null,
   "metadata": {},
   "outputs": [],
   "source": [
    "a = precision_recall_fscore_support(y_train, y_pred, average=None, sample_weight=None)"
   ]
  },
  {
   "cell_type": "code",
   "execution_count": null,
   "metadata": {},
   "outputs": [],
   "source": [
    "pd.DataFrame(list(a))"
   ]
  },
  {
   "cell_type": "code",
   "execution_count": null,
   "metadata": {},
   "outputs": [],
   "source": [
    "f1_byclass = pd.DataFrame((a)[2], columns=['f1'])\n"
   ]
  },
  {
   "cell_type": "code",
   "execution_count": null,
   "metadata": {},
   "outputs": [],
   "source": [
    "support_byclass = pd.DataFrame((a)[3], columns=['support'])\n",
    "\n",
    "f1_byclass = pd.merge(\n",
    "    left=f1_byclass, \n",
    "    right=support_byclass, \n",
    "    left_index=True,\n",
    "    right_index=True,\n",
    "    how='outer', \n",
    "    validate='one_to_one'\n",
    ")\n",
    "\n",
    "f1_byclass['index_col'] = f1_byclass.index"
   ]
  },
  {
   "cell_type": "code",
   "execution_count": null,
   "metadata": {},
   "outputs": [],
   "source": [
    "f1_byclass['level2taxon'] = f1_byclass['index_col'].map(labels_index).copy()"
   ]
  },
  {
   "cell_type": "code",
   "execution_count": null,
   "metadata": {},
   "outputs": [],
   "source": [
    "print(\"At p_threshold of {}, there were {} out of {} ({})% taxons with auto-tagged content in the training data\"\n",
    "      .format(P_THRESHOLD, \n",
    "              f1_byclass.loc[f1_byclass['f1'] > 0].shape[0], \n",
    "              y_pred.shape[1], \n",
    "              (f1_byclass.loc[f1_byclass['f1'] > 0].shape[0]/y_pred.shape[1])*100 ))"
   ]
  },
  {
   "cell_type": "code",
   "execution_count": null,
   "metadata": {},
   "outputs": [],
   "source": [
    "no_auto_content = f1_byclass.loc[f1_byclass['f1'] == 0]\n",
    "no_auto_content = no_auto_content.set_index('level2taxon')"
   ]
  },
  {
   "cell_type": "code",
   "execution_count": null,
   "metadata": {},
   "outputs": [],
   "source": [
    "no_auto_content['support'].sort_values().plot( kind = 'barh', figsize=(20, 20))"
   ]
  },
  {
   "cell_type": "code",
   "execution_count": null,
   "metadata": {},
   "outputs": [],
   "source": [
    "classes_predictedto = f1_byclass.loc[f1_byclass['f1'] > 0]\n",
    "classes_predictedto = classes_predictedto.set_index('level2taxon') "
   ]
  },
  {
   "cell_type": "code",
   "execution_count": null,
   "metadata": {},
   "outputs": [],
   "source": [
    "classes_predictedto.plot.scatter(x='support', y='f1', figsize=(20, 10), xticks=np.arange(0, 9700, 100))"
   ]
  },
  {
   "cell_type": "code",
   "execution_count": null,
   "metadata": {},
   "outputs": [],
   "source": [
    "classes_predictedto['f1'].sort_values().plot( kind = 'barh', figsize=(20, 20))"
   ]
  },
  {
   "cell_type": "code",
   "execution_count": null,
   "metadata": {},
   "outputs": [],
   "source": [
    "#Calculate globally by counting the total true positives, false negatives and false positives.\n",
    "precision_recall_fscore_support(y_train, y_pred, average='micro', sample_weight=None) "
   ]
  },
  {
   "cell_type": "code",
   "execution_count": null,
   "metadata": {},
   "outputs": [],
   "source": [
    "#Calculate metrics for each label, and find their unweighted mean. This does not take label imbalance into account\n",
    "precision_recall_fscore_support(y_train, y_pred, average='macro', sample_weight=None)"
   ]
  },
  {
   "cell_type": "markdown",
   "metadata": {},
   "source": [
    "#### Development set metrics"
   ]
  },
  {
   "cell_type": "code",
   "execution_count": 70,
   "metadata": {},
   "outputs": [],
   "source": [
    "y_pred_dev = model.predict([metax_dev, titlex_dev, descx_dev, x_dev])"
   ]
  },
  {
   "cell_type": "code",
   "execution_count": 71,
   "metadata": {},
   "outputs": [],
   "source": [
    "y_pred_dev[y_pred_dev>=P_THRESHOLD] = 1\n",
    "y_pred_dev[y_pred_dev<P_THRESHOLD] = 0"
   ]
  },
  {
   "cell_type": "code",
   "execution_count": 72,
   "metadata": {},
   "outputs": [
    {
     "name": "stderr",
     "output_type": "stream",
     "text": [
      "/home/ubuntu/anaconda3/envs/tensorflow_p36/lib/python3.6/site-packages/sklearn/metrics/classification.py:1135: UndefinedMetricWarning: Precision and F-score are ill-defined and being set to 0.0 in labels with no predicted samples.\n",
      "  'precision', 'predicted', average, warn_for)\n"
     ]
    },
    {
     "data": {
      "text/plain": [
       "(array([ 1.        ,  1.        ,  0.58333333,  0.        ,  0.79661017,\n",
       "         0.88235294,  0.76666667,  0.85714286,  0.83760684,  0.84930032,\n",
       "         0.64971751,  0.82520325,  0.92307692,  1.        ,  1.        ,\n",
       "         0.8125    ,  0.83878505,  0.63636364,  0.80427046,  0.        ,\n",
       "         0.83333333,  0.76666667,  0.76923077,  0.52941176,  0.95      ,\n",
       "         0.69189189,  0.86486486,  0.25      ,  0.87128713,  1.        ,\n",
       "         0.73076923,  0.76433121,  0.8       ,  0.71428571,  0.91176471,\n",
       "         0.89      ,  0.81481481,  0.70093458,  0.78571429,  0.92405063,\n",
       "         0.84771574,  0.67096774,  1.        ,  0.84045584,  0.83274021,\n",
       "         0.66037736,  0.65384615,  0.83333333,  0.94117647,  0.5       ,\n",
       "         0.54545455,  0.875     ,  0.72727273,  1.        ,  0.86633663,\n",
       "         0.85714286,  0.58823529,  0.8       ,  0.92307692,  0.90410959,\n",
       "         0.96      ,  0.75      ,  0.64285714,  0.8013245 ,  0.        ,\n",
       "         0.78846154,  0.89320388,  0.76190476,  0.91044776,  0.77173913,\n",
       "         0.7804878 ,  0.93737769,  0.72222222,  0.85826772,  0.69230769,\n",
       "         0.83333333,  0.5       ,  0.9       ,  0.8516129 ,  0.73170732,\n",
       "         1.        ,  0.81818182,  0.92753623,  0.86842105,  0.75438596,\n",
       "         0.71      ,  0.85      ,  0.8627451 ,  0.84615385,  0.80769231,\n",
       "         0.625     ,  0.85      ,  0.        ,  0.86607143,  0.88679245,\n",
       "         0.97196262,  0.76830892,  0.58333333,  0.83333333,  0.66666667,\n",
       "         0.925     ,  0.83760684,  0.53658537,  0.        ,  0.78651685,\n",
       "         0.72727273,  0.94954128]),\n",
       " array([ 0.54545455,  0.33333333,  0.5       ,  0.        ,  0.8034188 ,\n",
       "         0.625     ,  0.46      ,  0.33333333,  0.83760684,  0.79456193,\n",
       "         0.66091954,  0.8826087 ,  0.92307692,  0.83333333,  0.5625    ,\n",
       "         0.33333333,  0.78901099,  0.66666667,  0.64942529,  0.        ,\n",
       "         0.45454545,  0.49462366,  0.52631579,  0.47368421,  0.76      ,\n",
       "         0.8590604 ,  0.88073394,  0.125     ,  0.65671642,  0.13333333,\n",
       "         0.46341463,  0.63492063,  0.22222222,  0.52083333,  0.91176471,\n",
       "         0.82407407,  0.84912281,  0.70754717,  0.55      ,  0.81111111,\n",
       "         0.84428716,  0.57142857,  0.55      ,  0.86005831,  0.76721311,\n",
       "         0.66037736,  0.5       ,  0.8411215 ,  0.82962963,  0.27272727,\n",
       "         0.52173913,  0.65116279,  0.8       ,  1.        ,  0.74786325,\n",
       "         0.61538462,  0.4       ,  0.38095238,  0.8       ,  0.85714286,\n",
       "         0.95238095,  0.58252427,  0.9       ,  0.88106796,  0.        ,\n",
       "         0.69491525,  0.8440367 ,  0.65306122,  0.7721519 ,  0.71717172,\n",
       "         0.69565217,  0.88376384,  0.56521739,  0.87903226,  0.50704225,\n",
       "         0.55555556,  0.63829787,  0.71287129,  0.79041916,  0.88235294,\n",
       "         0.33333333,  0.77586207,  0.8590604 ,  0.75342466,  0.72881356,\n",
       "         0.63392857,  0.65384615,  0.61111111,  0.5       ,  0.51041667,\n",
       "         0.25      ,  0.90425532,  0.        ,  0.75486381,  0.68115942,\n",
       "         0.97196262,  0.67015099,  0.26923077,  0.58823529,  0.57142857,\n",
       "         0.925     ,  0.7480916 ,  0.51162791,  0.        ,  0.82840237,\n",
       "         0.33333333,  0.94090909]),\n",
       " array([ 0.70588235,  0.5       ,  0.53846154,  0.        ,  0.8       ,\n",
       "         0.73170732,  0.575     ,  0.48      ,  0.83760684,  0.82101977,\n",
       "         0.65527066,  0.85294118,  0.92307692,  0.90909091,  0.72      ,\n",
       "         0.47272727,  0.81313703,  0.65116279,  0.71860095,  0.        ,\n",
       "         0.58823529,  0.60130719,  0.625     ,  0.5       ,  0.84444444,\n",
       "         0.76646707,  0.87272727,  0.16666667,  0.74893617,  0.23529412,\n",
       "         0.56716418,  0.69364162,  0.34782609,  0.60240964,  0.91176471,\n",
       "         0.85576923,  0.83161512,  0.70422535,  0.64705882,  0.86390533,\n",
       "         0.84599797,  0.61721068,  0.70967742,  0.85014409,  0.79863481,\n",
       "         0.66037736,  0.56666667,  0.8372093 ,  0.88188976,  0.35294118,\n",
       "         0.53333333,  0.74666667,  0.76190476,  1.        ,  0.80275229,\n",
       "         0.71641791,  0.47619048,  0.51612903,  0.85714286,  0.88      ,\n",
       "         0.9561753 ,  0.6557377 ,  0.75      ,  0.83930636,  0.        ,\n",
       "         0.73873874,  0.86792453,  0.7032967 ,  0.83561644,  0.7434555 ,\n",
       "         0.73563218,  0.90978158,  0.63414634,  0.8685259 ,  0.58536585,\n",
       "         0.66666667,  0.56074766,  0.79558011,  0.81987578,  0.8       ,\n",
       "         0.5       ,  0.79646018,  0.89198606,  0.80684597,  0.74137931,\n",
       "         0.66981132,  0.73913043,  0.71544715,  0.62857143,  0.62553191,\n",
       "         0.35714286,  0.87628866,  0.        ,  0.80665281,  0.7704918 ,\n",
       "         0.97196262,  0.71588089,  0.36842105,  0.68965517,  0.61538462,\n",
       "         0.925     ,  0.79032258,  0.52380952,  0.        ,  0.80691643,\n",
       "         0.45714286,  0.94520548]),\n",
       " array([ 11,   6,  14,   1, 117,  24,  50,  18, 117, 993, 174, 230,  13,\n",
       "         18,  16,  39, 455,  21, 348,   8,  11,  93,  57,  19,  25, 149,\n",
       "        109,   8, 134,  15,  41, 189,  18,  48,  34, 108, 285, 212,  20,\n",
       "        180, 989, 182,  20, 343, 305,  53,  34, 107, 270,  11,  23,  43,\n",
       "         10,  15, 234,  39,  25,  21,  15,  77, 126, 103,  10, 412,   8,\n",
       "        236, 109,  49,  79,  99,  46, 542,  23, 124,  71,   9,  47, 101,\n",
       "        167,  34,  12,  58, 149, 219,  59, 112,  26,  72,  22, 288,  20,\n",
       "         94,   9, 514,  69, 107, 861,  26,  17,  14, 200, 131,  43,   7,\n",
       "        169,  24, 220]))"
      ]
     },
     "execution_count": 72,
     "metadata": {},
     "output_type": "execute_result"
    }
   ],
   "source": [
    "#average= None, the scores for each class are returned.\n",
    "precision_recall_fscore_support(y_dev, y_pred_dev, average=None, sample_weight=None)"
   ]
  },
  {
   "cell_type": "code",
   "execution_count": 73,
   "metadata": {},
   "outputs": [
    {
     "data": {
      "text/plain": [
       "(0.82756612876393276, 0.75479857370457482, 0.78950918541443482, None)"
      ]
     },
     "execution_count": 73,
     "metadata": {},
     "output_type": "execute_result"
    }
   ],
   "source": [
    "#Calculate globally by counting the total true positives, false negatives and false positives.\n",
    "precision_recall_fscore_support(y_dev, y_pred_dev, average='micro', sample_weight=None) "
   ]
  },
  {
   "cell_type": "code",
   "execution_count": null,
   "metadata": {},
   "outputs": [],
   "source": [
    "#Calculate metrics for each label, and find their unweighted mean. This does not take label imbalance into account\n",
    "precision_recall_fscore_support(y_dev, y_pred_dev, average='macro', sample_weight=None)"
   ]
  },
  {
   "cell_type": "markdown",
   "metadata": {},
   "source": [
    "## Tag unlabelled content"
   ]
  },
  {
   "cell_type": "code",
   "execution_count": null,
   "metadata": {},
   "outputs": [],
   "source": [
    "def get_predictions(new_texts, df, level1taxon=False):\n",
    "    #process data for model input\n",
    "    \n",
    "    new_sequences = tokenizer.texts_to_sequences(new_texts) #yield one sequence per input text\n",
    "\n",
    "    new_word_index = tokenizer.word_index\n",
    "    print('Found %s unique tokens.' % len(new_word_index))\n",
    "\n",
    "    x_new = pad_sequences(new_sequences, maxlen= MAX_SEQUENCE_LENGTH) #MAX_SEQUENCE_LENGTH\n",
    "    \n",
    "    print('Shape of untagged tensor:', x_new.shape)\n",
    "    \n",
    "    #predict tag for untagged data\n",
    "    y_pred_new = model.predict(x_new)\n",
    "    \n",
    "    #get model output into pandas & get a column to track index for later merge\n",
    "    y_pred_new = pd.DataFrame(y_pred_new)\n",
    "    y_pred_new['index_col'] = y_pred_new.index\n",
    "    \n",
    "    #Make long by taxon so easier to filter rows and examine effect of p_threshold\n",
    "    y_pred_new = pd.melt(y_pred_new, id_vars=['index_col'],\n",
    "                             var_name='level2taxon_code', value_name='probability')\n",
    "    \n",
    "    #get taxon names\n",
    "    y_pred_new['level2taxon'] = y_pred_new['level2taxon_code'].map(labels_index)\n",
    "    \n",
    "    if level1taxon==False:\n",
    "        #get the info about the content\n",
    "        new_info = df[[ 'base_path', 'content_id', 'title', 'description', \n",
    "                   'document_type', 'publishing_app', 'locale']]\n",
    "    else:\n",
    "        new_info = df[[ 'base_path', 'content_id', 'title', 'description', \n",
    "                   'document_type', 'publishing_app', 'locale', 'level1taxon']]\n",
    "    \n",
    "    \n",
    "    #merge content info with taxon prediction\n",
    "    pred_new = pd.merge(\n",
    "    left=new_info, \n",
    "    right=y_pred_new, \n",
    "    left_index=True,\n",
    "    right_on='index_col',\n",
    "    how='outer'\n",
    "    )\n",
    "    \n",
    "    #drop the cols needed for mergingin and naming\n",
    "    pred_new.drop(['index_col'], axis=1, inplace = True)\n",
    "    \n",
    "    #keep only rows where prob of taxon > 0.5\n",
    "    \n",
    "    \n",
    "    return pred_new #.loc[pred_new['probability'] > P_THRESHOLD] #only return rows/samples where probability is hihger than threshold\n",
    "    "
   ]
  },
  {
   "cell_type": "markdown",
   "metadata": {},
   "source": [
    "### Untagged"
   ]
  },
  {
   "cell_type": "code",
   "execution_count": null,
   "metadata": {},
   "outputs": [],
   "source": [
    "#read in untagged content\n",
    "untagged_raw = pd.read_csv(os.path.join(DATADIR, 'untagged_content.csv.gz'), dtype=object, compression='gzip')"
   ]
  },
  {
   "cell_type": "code",
   "execution_count": null,
   "metadata": {},
   "outputs": [],
   "source": [
    "untagged_raw.head()"
   ]
  },
  {
   "cell_type": "code",
   "execution_count": null,
   "metadata": {},
   "outputs": [],
   "source": [
    "new_texts = untagged_raw['combined_text']"
   ]
  },
  {
   "cell_type": "code",
   "execution_count": null,
   "metadata": {},
   "outputs": [],
   "source": [
    "pred_untagged = get_predictions(new_texts, untagged_raw)"
   ]
  },
  {
   "cell_type": "code",
   "execution_count": null,
   "metadata": {},
   "outputs": [],
   "source": [
    "#data is long by taxon\n",
    "print('Number of unique content items: {}'.format(pred_untagged.content_id.nunique()))\n",
    "print('Number of content items tagged to taxons with more than p_threshold: {}'.format(pred_untagged.shape))"
   ]
  },
  {
   "cell_type": "code",
   "execution_count": null,
   "metadata": {},
   "outputs": [],
   "source": [
    "pred_untagged.loc[(pred_untagged['probability'] > 0.65) & (pred_untagged['probability'] < 0.85)].sort_values(by='probability', ascending=False)"
   ]
  },
  {
   "cell_type": "code",
   "execution_count": null,
   "metadata": {},
   "outputs": [],
   "source": [
    "#write to csv\n",
    "pred_untagged.to_csv(os.path.join(DATADIR, 'predictions_for_untagged_data_trainingdatatok.csv'), index=False)"
   ]
  },
  {
   "cell_type": "code",
   "execution_count": null,
   "metadata": {},
   "outputs": [],
   "source": [
    "# apply tokenizer to our text data\n",
    "tokenizer.fit_on_texts(new_texts)\n",
    "\n",
    "pred_untagged_refit_tok = get_predictions(new_texts, untagged_raw)\n"
   ]
  },
  {
   "cell_type": "code",
   "execution_count": null,
   "metadata": {},
   "outputs": [],
   "source": [
    "#write to csv\n",
    "pred_untagged_refit_tok.to_csv(os.path.join(DATADIR, 'predictions_for_untagged_data_refittok.csv'), index=False)"
   ]
  },
  {
   "cell_type": "markdown",
   "metadata": {},
   "source": [
    "### New data (untagged + old taxons)"
   ]
  },
  {
   "cell_type": "markdown",
   "metadata": {},
   "source": [
    "old_taxons data has no combined text. This needs fixing in the data pipeline before being able to use these data for predictions"
   ]
  },
  {
   "cell_type": "code",
   "execution_count": null,
   "metadata": {},
   "outputs": [],
   "source": [
    "#read in untagged content\n",
    "new_raw = pd.read_csv(os.path.join(DATADIR, 'new_content.csv'), dtype=object)"
   ]
  },
  {
   "cell_type": "code",
   "execution_count": null,
   "metadata": {},
   "outputs": [],
   "source": [
    "new_raw.shape"
   ]
  },
  {
   "cell_type": "code",
   "execution_count": null,
   "metadata": {},
   "outputs": [],
   "source": [
    "type(new_raw['combined_text'][0])"
   ]
  },
  {
   "cell_type": "code",
   "execution_count": null,
   "metadata": {},
   "outputs": [],
   "source": [
    "new_raw['combined_text'][0]"
   ]
  },
  {
   "cell_type": "code",
   "execution_count": null,
   "metadata": {},
   "outputs": [],
   "source": [
    "len(new_raw[new_raw['combined_text'].isna()])"
   ]
  },
  {
   "cell_type": "code",
   "execution_count": null,
   "metadata": {},
   "outputs": [],
   "source": [
    "(new_raw.loc[(new_raw['combined_text'].isna()) & (new_raw['untagged_type'] == 'old_taxons')]).shape"
   ]
  },
  {
   "cell_type": "code",
   "execution_count": null,
   "metadata": {},
   "outputs": [],
   "source": [
    "new_raw[new_raw.untagged_type == 'old_taxons']"
   ]
  },
  {
   "cell_type": "code",
   "execution_count": null,
   "metadata": {},
   "outputs": [],
   "source": [
    "#make a copy so you can edit data without needed to read in each time\n",
    "new_df = new_raw.copy(deep=True)"
   ]
  },
  {
   "cell_type": "code",
   "execution_count": null,
   "metadata": {},
   "outputs": [],
   "source": [
    "pred_new = get_predictions(new_df )"
   ]
  },
  {
   "cell_type": "code",
   "execution_count": null,
   "metadata": {},
   "outputs": [],
   "source": [
    "#keep only rows where prob of taxon > 0.5\n",
    "pred_new = pred_new.loc[pred_new['probability'] > 0.5]"
   ]
  },
  {
   "cell_type": "code",
   "execution_count": null,
   "metadata": {},
   "outputs": [],
   "source": [
    "#write to csv\n",
    "pred_new.to_csv(os.path.join(DATADIR, 'predictions_for_new_data.csv'), index=False)"
   ]
  },
  {
   "cell_type": "markdown",
   "metadata": {},
   "source": [
    "### Labelled at level1only"
   ]
  },
  {
   "cell_type": "code",
   "execution_count": null,
   "metadata": {},
   "outputs": [],
   "source": [
    "labelled_level1 = pd.read_csv(os.path.join(DATADIR, 'labelled_level1.csv'), dtype=object)"
   ]
  },
  {
   "cell_type": "code",
   "execution_count": null,
   "metadata": {},
   "outputs": [],
   "source": [
    "level1_texts = labelled_level1['combined_text']"
   ]
  },
  {
   "cell_type": "code",
   "execution_count": null,
   "metadata": {},
   "outputs": [],
   "source": [
    "#reset tokenizer to training data texts\n",
    "tokenizer.fit_on_texts(texts)"
   ]
  },
  {
   "cell_type": "code",
   "execution_count": null,
   "metadata": {},
   "outputs": [],
   "source": [
    "pred_labelled_level1 = get_predictions(level1_texts, labelled_level1, level1taxon=True)"
   ]
  },
  {
   "cell_type": "code",
   "execution_count": null,
   "metadata": {},
   "outputs": [],
   "source": [
    "pred_labelled_level1.sort_values(by='probability', ascending=False)"
   ]
  },
  {
   "cell_type": "code",
   "execution_count": null,
   "metadata": {},
   "outputs": [],
   "source": [
    "#write to csv\n",
    "pred_labelled_level1.to_csv(os.path.join(DATADIR, 'predictions_for_level1only.csv'), index=False)"
   ]
  },
  {
   "cell_type": "code",
   "execution_count": null,
   "metadata": {},
   "outputs": [],
   "source": [
    "from IPython.display import SVG\n",
    "from keras.utils.vis_utils import model_to_dot\n",
    "\n",
    "SVG(model_to_dot(model).create(prog='dot', format='svg'))"
   ]
  },
  {
   "cell_type": "code",
   "execution_count": null,
   "metadata": {},
   "outputs": [],
   "source": [
    "from keras.utils import plot_model\n",
    "plot_model(model, to_file='cnn.png', show_shapes=True)"
   ]
  },
  {
   "cell_type": "code",
   "execution_count": null,
   "metadata": {},
   "outputs": [],
   "source": []
  }
 ],
 "metadata": {
  "keep_output": true,
  "kernelspec": {
   "display_name": "Environment (conda_tensorflow_p36)",
   "language": "python",
   "name": "conda_tensorflow_p36"
  },
  "language_info": {
   "codemirror_mode": {
    "name": "ipython",
    "version": 3
   },
   "file_extension": ".py",
   "mimetype": "text/x-python",
   "name": "python",
   "nbconvert_exporter": "python",
   "pygments_lexer": "ipython3",
   "version": "3.6.3"
  }
 },
 "nbformat": 4,
 "nbformat_minor": 2
}
