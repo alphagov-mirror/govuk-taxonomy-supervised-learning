{
 "cells": [
  {
   "cell_type": "code",
   "execution_count": 2,
   "metadata": {
    "scrolled": true
   },
   "outputs": [],
   "source": [
    "import pandas as pd\n",
    "import numpy as np\n",
    "import os\n",
    "\n",
    "from sklearn.metrics import confusion_matrix, f1_score, precision_score, recall_score \n",
    "from sklearn.metrics import precision_recall_fscore_support, classification_report\n",
    "\n",
    "import matplotlib.pyplot as plt\n",
    "%matplotlib inline\n",
    "\n",
    "import functools\n",
    "\n",
    "import h5py"
   ]
  },
  {
   "cell_type": "markdown",
   "metadata": {},
   "source": [
    "### Environmental vars"
   ]
  },
  {
   "cell_type": "code",
   "execution_count": 23,
   "metadata": {},
   "outputs": [],
   "source": [
    "P_THRESHOLD=0.8"
   ]
  },
  {
   "cell_type": "code",
   "execution_count": 8,
   "metadata": {
    "scrolled": true
   },
   "outputs": [
    {
     "data": {
      "text/plain": [
       "'/Users/felisialoukou/Documents/govuk-taxonomy-supervised-learning/data/2018-03-05'"
      ]
     },
     "execution_count": 8,
     "metadata": {},
     "output_type": "execute_result"
    }
   ],
   "source": [
    "DATADIR=os.getenv('DATADIR')\n",
    "RESULTS_DIR = os.path.join(DATADIR, \"2018-03-05\")\n",
    "RESULTS_DIR"
   ]
  },
  {
   "cell_type": "markdown",
   "metadata": {},
   "source": [
    "### get some data about taxons/content"
   ]
  },
  {
   "cell_type": "code",
   "execution_count": 5,
   "metadata": {},
   "outputs": [],
   "source": [
    "labelled_level2 = pd.read_csv(\n",
    "    os.path.join(DATADIR, 'labelled_level2.csv.gz'),\n",
    "    dtype=object,\n",
    "    compression='gzip'\n",
    ")"
   ]
  },
  {
   "cell_type": "code",
   "execution_count": 6,
   "metadata": {},
   "outputs": [],
   "source": [
    "# Create World taxon in case any items not identified \n",
    "# through doc type in clean_content are still present\n",
    "labelled_level2.loc[labelled_level2['level1taxon'] == 'World', 'level2taxon'] = 'world_level1'"
   ]
  },
  {
   "cell_type": "code",
   "execution_count": 7,
   "metadata": {},
   "outputs": [],
   "source": [
    "# creating categorical variable for level2taxons from values\n",
    "labelled_level2['level2taxon'] = labelled_level2['level2taxon'].astype('category')\n",
    "\n",
    "# Add 1 because of zero-indexing to get 1-number of level2taxons as numerical targets\n",
    "labelled_level2['level2taxon_code'] = labelled_level2.level2taxon.astype('category').cat.codes + 1\n",
    "\n",
    "# create dictionary of taxon category code to string label for use in model evaluation\n",
    "labels_index = dict(zip((labelled_level2['level2taxon_code']),\n",
    "                        labelled_level2['level2taxon']))"
   ]
  },
  {
   "cell_type": "markdown",
   "metadata": {},
   "source": [
    "### Load in data"
   ]
  },
  {
   "cell_type": "code",
   "execution_count": 33,
   "metadata": {},
   "outputs": [],
   "source": [
    "true_train = pd.read_csv(os.path.join(RESULTS_DIR, 'true_train_1010_0803_.csv.gz'), dtype=float, compression='gzip')\n",
    "prob_train = pd.read_csv(os.path.join(RESULTS_DIR, 'train_results_1010_0803_.csv.gz'), dtype=float, compression='gzip')"
   ]
  },
  {
   "cell_type": "code",
   "execution_count": 34,
   "metadata": {},
   "outputs": [],
   "source": [
    "true_dev = pd.read_csv(os.path.join(RESULTS_DIR, 'true_dev_1010_0803_.csv.gz'), dtype=float, compression='gzip')\n",
    "prob_dev = pd.read_csv(os.path.join(RESULTS_DIR, 'dev_results_1010_0803_.csv.gz'), dtype=float, compression='gzip')"
   ]
  },
  {
   "cell_type": "code",
   "execution_count": 35,
   "metadata": {},
   "outputs": [],
   "source": [
    "train = np.load(os.path.join(RESULTS_DIR, 'train_arrays.npz'))"
   ]
  },
  {
   "cell_type": "code",
   "execution_count": 36,
   "metadata": {},
   "outputs": [],
   "source": [
    "dev = np.load(os.path.join(RESULTS_DIR, 'dev_arrays.npz'))"
   ]
  },
  {
   "cell_type": "code",
   "execution_count": 37,
   "metadata": {
    "scrolled": true
   },
   "outputs": [
    {
     "data": {
      "text/plain": [
       "['x', 'meta', 'title', 'desc', 'y', 'content_id']"
      ]
     },
     "execution_count": 37,
     "metadata": {},
     "output_type": "execute_result"
    }
   ],
   "source": [
    "train.files"
   ]
  },
  {
   "cell_type": "code",
   "execution_count": 38,
   "metadata": {},
   "outputs": [
    {
     "data": {
      "text/plain": [
       "array(['a79ca5d5-38d3-434e-827b-ec1237906a2f',\n",
       "       '4a72fcdf-e0b7-42f0-a606-0636f512453a',\n",
       "       '5c81df9b-7631-11e4-a3cb-005056011aef', ...,\n",
       "       '5f4f5f13-7631-11e4-a3cb-005056011aef',\n",
       "       'b3d858bf-9813-4ede-8f09-875d6b6783a8',\n",
       "       '2bd60f7f-6395-4eb4-aa7d-3c4ef0dd4ef0'], dtype=object)"
      ]
     },
     "execution_count": 38,
     "metadata": {},
     "output_type": "execute_result"
    }
   ],
   "source": [
    "train['content_id']"
   ]
  },
  {
   "cell_type": "code",
   "execution_count": 39,
   "metadata": {},
   "outputs": [
    {
     "data": {
      "text/plain": [
       "(175767,)"
      ]
     },
     "execution_count": 39,
     "metadata": {},
     "output_type": "execute_result"
    }
   ],
   "source": [
    "train['content_id'].shape"
   ]
  },
  {
   "cell_type": "code",
   "execution_count": 40,
   "metadata": {},
   "outputs": [
    {
     "data": {
      "text/plain": [
       "175767"
      ]
     },
     "execution_count": 40,
     "metadata": {},
     "output_type": "execute_result"
    }
   ],
   "source": [
    "true_train.shape[0]"
   ]
  },
  {
   "cell_type": "markdown",
   "metadata": {},
   "source": [
    "### Merge results array with labelled_level2 values\n",
    "content_id, metadata etc"
   ]
  },
  {
   "cell_type": "code",
   "execution_count": 41,
   "metadata": {},
   "outputs": [],
   "source": [
    "df = pd.DataFrame()\n",
    "if train['content_id'].shape[0] == true_train.shape[0]:\n",
    "    df['content_id'] = train['content_id']\n",
    "else:\n",
    "    print(\"warning: true_train and content_id may not originate from same data\")"
   ]
  },
  {
   "cell_type": "code",
   "execution_count": 42,
   "metadata": {},
   "outputs": [
    {
     "data": {
      "text/html": [
       "<div>\n",
       "<style scoped>\n",
       "    .dataframe tbody tr th:only-of-type {\n",
       "        vertical-align: middle;\n",
       "    }\n",
       "\n",
       "    .dataframe tbody tr th {\n",
       "        vertical-align: top;\n",
       "    }\n",
       "\n",
       "    .dataframe thead th {\n",
       "        text-align: right;\n",
       "    }\n",
       "</style>\n",
       "<table border=\"1\" class=\"dataframe\">\n",
       "  <thead>\n",
       "    <tr style=\"text-align: right;\">\n",
       "      <th></th>\n",
       "      <th>content_id</th>\n",
       "    </tr>\n",
       "  </thead>\n",
       "  <tbody>\n",
       "    <tr>\n",
       "      <th>0</th>\n",
       "      <td>a79ca5d5-38d3-434e-827b-ec1237906a2f</td>\n",
       "    </tr>\n",
       "    <tr>\n",
       "      <th>1</th>\n",
       "      <td>4a72fcdf-e0b7-42f0-a606-0636f512453a</td>\n",
       "    </tr>\n",
       "    <tr>\n",
       "      <th>2</th>\n",
       "      <td>5c81df9b-7631-11e4-a3cb-005056011aef</td>\n",
       "    </tr>\n",
       "    <tr>\n",
       "      <th>3</th>\n",
       "      <td>735d153c-daf9-49e8-bb52-516d8d5c95f2</td>\n",
       "    </tr>\n",
       "    <tr>\n",
       "      <th>4</th>\n",
       "      <td>98ca0ce7-4660-4418-ac37-d1e2d293fd7a</td>\n",
       "    </tr>\n",
       "  </tbody>\n",
       "</table>\n",
       "</div>"
      ],
      "text/plain": [
       "                             content_id\n",
       "0  a79ca5d5-38d3-434e-827b-ec1237906a2f\n",
       "1  4a72fcdf-e0b7-42f0-a606-0636f512453a\n",
       "2  5c81df9b-7631-11e4-a3cb-005056011aef\n",
       "3  735d153c-daf9-49e8-bb52-516d8d5c95f2\n",
       "4  98ca0ce7-4660-4418-ac37-d1e2d293fd7a"
      ]
     },
     "execution_count": 42,
     "metadata": {},
     "output_type": "execute_result"
    }
   ],
   "source": [
    "df.head()"
   ]
  },
  {
   "cell_type": "code",
   "execution_count": 43,
   "metadata": {},
   "outputs": [],
   "source": [
    "df = pd.concat([df, prob_train], axis=1, join='inner')"
   ]
  },
  {
   "cell_type": "code",
   "execution_count": 45,
   "metadata": {},
   "outputs": [
    {
     "data": {
      "text/html": [
       "<div>\n",
       "<style scoped>\n",
       "    .dataframe tbody tr th:only-of-type {\n",
       "        vertical-align: middle;\n",
       "    }\n",
       "\n",
       "    .dataframe tbody tr th {\n",
       "        vertical-align: top;\n",
       "    }\n",
       "\n",
       "    .dataframe thead th {\n",
       "        text-align: right;\n",
       "    }\n",
       "</style>\n",
       "<table border=\"1\" class=\"dataframe\">\n",
       "  <thead>\n",
       "    <tr style=\"text-align: right;\">\n",
       "      <th></th>\n",
       "      <th>content_id</th>\n",
       "      <th>1</th>\n",
       "      <th>2</th>\n",
       "      <th>3</th>\n",
       "      <th>4</th>\n",
       "      <th>5</th>\n",
       "      <th>6</th>\n",
       "      <th>7</th>\n",
       "      <th>8</th>\n",
       "      <th>9</th>\n",
       "      <th>...</th>\n",
       "      <th>209</th>\n",
       "      <th>210</th>\n",
       "      <th>211</th>\n",
       "      <th>212</th>\n",
       "      <th>213</th>\n",
       "      <th>214</th>\n",
       "      <th>215</th>\n",
       "      <th>216</th>\n",
       "      <th>217</th>\n",
       "      <th>218</th>\n",
       "    </tr>\n",
       "  </thead>\n",
       "  <tbody>\n",
       "    <tr>\n",
       "      <th>0</th>\n",
       "      <td>a79ca5d5-38d3-434e-827b-ec1237906a2f</td>\n",
       "      <td>9.419133e-14</td>\n",
       "      <td>4.267573e-24</td>\n",
       "      <td>3.404629e-11</td>\n",
       "      <td>9.072372e-09</td>\n",
       "      <td>3.692781e-14</td>\n",
       "      <td>3.947936e-09</td>\n",
       "      <td>5.439439e-15</td>\n",
       "      <td>2.125058e-16</td>\n",
       "      <td>9.309208e-20</td>\n",
       "      <td>...</td>\n",
       "      <td>4.375333e-15</td>\n",
       "      <td>4.126515e-18</td>\n",
       "      <td>7.843088e-20</td>\n",
       "      <td>1.373088e-23</td>\n",
       "      <td>4.399597e-17</td>\n",
       "      <td>2.817219e-17</td>\n",
       "      <td>8.471909e-17</td>\n",
       "      <td>2.667753e-13</td>\n",
       "      <td>1.486372e-14</td>\n",
       "      <td>1.077411e-17</td>\n",
       "    </tr>\n",
       "    <tr>\n",
       "      <th>1</th>\n",
       "      <td>4a72fcdf-e0b7-42f0-a606-0636f512453a</td>\n",
       "      <td>5.565166e-21</td>\n",
       "      <td>9.999936e-01</td>\n",
       "      <td>2.704738e-33</td>\n",
       "      <td>1.389070e-26</td>\n",
       "      <td>5.168354e-17</td>\n",
       "      <td>4.638111e-34</td>\n",
       "      <td>3.999544e-31</td>\n",
       "      <td>1.613292e-19</td>\n",
       "      <td>1.622356e-15</td>\n",
       "      <td>...</td>\n",
       "      <td>9.968751e-27</td>\n",
       "      <td>8.048254e-26</td>\n",
       "      <td>6.076290e-29</td>\n",
       "      <td>6.105007e-14</td>\n",
       "      <td>1.636794e-17</td>\n",
       "      <td>4.908256e-09</td>\n",
       "      <td>6.357211e-16</td>\n",
       "      <td>1.231617e-15</td>\n",
       "      <td>1.669628e-13</td>\n",
       "      <td>1.076923e-16</td>\n",
       "    </tr>\n",
       "    <tr>\n",
       "      <th>2</th>\n",
       "      <td>5c81df9b-7631-11e4-a3cb-005056011aef</td>\n",
       "      <td>1.491981e-15</td>\n",
       "      <td>1.014842e-14</td>\n",
       "      <td>6.670261e-23</td>\n",
       "      <td>9.305821e-12</td>\n",
       "      <td>2.732317e-15</td>\n",
       "      <td>1.720691e-27</td>\n",
       "      <td>3.326430e-24</td>\n",
       "      <td>3.868233e-24</td>\n",
       "      <td>2.157019e-21</td>\n",
       "      <td>...</td>\n",
       "      <td>1.360703e-25</td>\n",
       "      <td>3.046593e-25</td>\n",
       "      <td>1.110729e-12</td>\n",
       "      <td>9.733824e-25</td>\n",
       "      <td>3.677405e-16</td>\n",
       "      <td>6.485455e-19</td>\n",
       "      <td>1.956178e-14</td>\n",
       "      <td>4.184081e-20</td>\n",
       "      <td>3.323064e-12</td>\n",
       "      <td>5.155841e-20</td>\n",
       "    </tr>\n",
       "    <tr>\n",
       "      <th>3</th>\n",
       "      <td>735d153c-daf9-49e8-bb52-516d8d5c95f2</td>\n",
       "      <td>1.798856e-10</td>\n",
       "      <td>2.068046e-15</td>\n",
       "      <td>1.026087e-12</td>\n",
       "      <td>1.400855e-14</td>\n",
       "      <td>8.218687e-16</td>\n",
       "      <td>1.669214e-13</td>\n",
       "      <td>6.421606e-16</td>\n",
       "      <td>1.572653e-09</td>\n",
       "      <td>1.730174e-10</td>\n",
       "      <td>...</td>\n",
       "      <td>9.706699e-01</td>\n",
       "      <td>3.292226e-09</td>\n",
       "      <td>4.545314e-12</td>\n",
       "      <td>4.475947e-07</td>\n",
       "      <td>1.163922e-13</td>\n",
       "      <td>3.900537e-12</td>\n",
       "      <td>2.358326e-15</td>\n",
       "      <td>3.789344e-12</td>\n",
       "      <td>2.341784e-17</td>\n",
       "      <td>9.243922e-08</td>\n",
       "    </tr>\n",
       "    <tr>\n",
       "      <th>4</th>\n",
       "      <td>98ca0ce7-4660-4418-ac37-d1e2d293fd7a</td>\n",
       "      <td>1.288026e-19</td>\n",
       "      <td>8.072054e-18</td>\n",
       "      <td>3.177473e-22</td>\n",
       "      <td>3.195644e-12</td>\n",
       "      <td>3.944814e-16</td>\n",
       "      <td>3.222372e-20</td>\n",
       "      <td>9.837716e-24</td>\n",
       "      <td>1.521903e-19</td>\n",
       "      <td>3.374290e-18</td>\n",
       "      <td>...</td>\n",
       "      <td>3.016072e-28</td>\n",
       "      <td>2.137195e-31</td>\n",
       "      <td>1.398730e-20</td>\n",
       "      <td>8.935608e-23</td>\n",
       "      <td>1.068866e-20</td>\n",
       "      <td>5.273860e-21</td>\n",
       "      <td>8.963249e-18</td>\n",
       "      <td>1.358550e-26</td>\n",
       "      <td>1.100744e-10</td>\n",
       "      <td>2.532474e-12</td>\n",
       "    </tr>\n",
       "  </tbody>\n",
       "</table>\n",
       "<p>5 rows × 219 columns</p>\n",
       "</div>"
      ],
      "text/plain": [
       "                             content_id             1             2  \\\n",
       "0  a79ca5d5-38d3-434e-827b-ec1237906a2f  9.419133e-14  4.267573e-24   \n",
       "1  4a72fcdf-e0b7-42f0-a606-0636f512453a  5.565166e-21  9.999936e-01   \n",
       "2  5c81df9b-7631-11e4-a3cb-005056011aef  1.491981e-15  1.014842e-14   \n",
       "3  735d153c-daf9-49e8-bb52-516d8d5c95f2  1.798856e-10  2.068046e-15   \n",
       "4  98ca0ce7-4660-4418-ac37-d1e2d293fd7a  1.288026e-19  8.072054e-18   \n",
       "\n",
       "              3             4             5             6             7  \\\n",
       "0  3.404629e-11  9.072372e-09  3.692781e-14  3.947936e-09  5.439439e-15   \n",
       "1  2.704738e-33  1.389070e-26  5.168354e-17  4.638111e-34  3.999544e-31   \n",
       "2  6.670261e-23  9.305821e-12  2.732317e-15  1.720691e-27  3.326430e-24   \n",
       "3  1.026087e-12  1.400855e-14  8.218687e-16  1.669214e-13  6.421606e-16   \n",
       "4  3.177473e-22  3.195644e-12  3.944814e-16  3.222372e-20  9.837716e-24   \n",
       "\n",
       "              8             9      ...                209           210  \\\n",
       "0  2.125058e-16  9.309208e-20      ...       4.375333e-15  4.126515e-18   \n",
       "1  1.613292e-19  1.622356e-15      ...       9.968751e-27  8.048254e-26   \n",
       "2  3.868233e-24  2.157019e-21      ...       1.360703e-25  3.046593e-25   \n",
       "3  1.572653e-09  1.730174e-10      ...       9.706699e-01  3.292226e-09   \n",
       "4  1.521903e-19  3.374290e-18      ...       3.016072e-28  2.137195e-31   \n",
       "\n",
       "            211           212           213           214           215  \\\n",
       "0  7.843088e-20  1.373088e-23  4.399597e-17  2.817219e-17  8.471909e-17   \n",
       "1  6.076290e-29  6.105007e-14  1.636794e-17  4.908256e-09  6.357211e-16   \n",
       "2  1.110729e-12  9.733824e-25  3.677405e-16  6.485455e-19  1.956178e-14   \n",
       "3  4.545314e-12  4.475947e-07  1.163922e-13  3.900537e-12  2.358326e-15   \n",
       "4  1.398730e-20  8.935608e-23  1.068866e-20  5.273860e-21  8.963249e-18   \n",
       "\n",
       "            216           217           218  \n",
       "0  2.667753e-13  1.486372e-14  1.077411e-17  \n",
       "1  1.231617e-15  1.669628e-13  1.076923e-16  \n",
       "2  4.184081e-20  3.323064e-12  5.155841e-20  \n",
       "3  3.789344e-12  2.341784e-17  9.243922e-08  \n",
       "4  1.358550e-26  1.100744e-10  2.532474e-12  \n",
       "\n",
       "[5 rows x 219 columns]"
      ]
     },
     "execution_count": 45,
     "metadata": {},
     "output_type": "execute_result"
    }
   ],
   "source": [
    "df.head()"
   ]
  },
  {
   "cell_type": "code",
   "execution_count": 31,
   "metadata": {},
   "outputs": [],
   "source": [
    "positive_perfect_meta = pd.merge(\n",
    "    left=df,\n",
    "    right=labelled_level2,\n",
    "    on='content_id',\n",
    "    how='left',\n",
    "    indicator=True, \n",
    "    validate='m:m'\n",
    ")"
   ]
  },
  {
   "cell_type": "code",
   "execution_count": 32,
   "metadata": {},
   "outputs": [
    {
     "data": {
      "text/html": [
       "<div>\n",
       "<style scoped>\n",
       "    .dataframe tbody tr th:only-of-type {\n",
       "        vertical-align: middle;\n",
       "    }\n",
       "\n",
       "    .dataframe tbody tr th {\n",
       "        vertical-align: top;\n",
       "    }\n",
       "\n",
       "    .dataframe thead th {\n",
       "        text-align: right;\n",
       "    }\n",
       "</style>\n",
       "<table border=\"1\" class=\"dataframe\">\n",
       "  <thead>\n",
       "    <tr style=\"text-align: right;\">\n",
       "      <th></th>\n",
       "      <th>content_id</th>\n",
       "      <th>base_path</th>\n",
       "      <th>content_purpose_document_supertype</th>\n",
       "      <th>description</th>\n",
       "      <th>details</th>\n",
       "      <th>document_type</th>\n",
       "      <th>email_document_supertype</th>\n",
       "      <th>first_published_at</th>\n",
       "      <th>government_document_supertype</th>\n",
       "      <th>locale</th>\n",
       "      <th>...</th>\n",
       "      <th>taxon_id</th>\n",
       "      <th>taxon_base_path</th>\n",
       "      <th>taxon_name</th>\n",
       "      <th>level1taxon</th>\n",
       "      <th>level2taxon</th>\n",
       "      <th>level3taxon</th>\n",
       "      <th>level4taxon</th>\n",
       "      <th>level5taxon</th>\n",
       "      <th>level2taxon_code</th>\n",
       "      <th>_merge</th>\n",
       "    </tr>\n",
       "  </thead>\n",
       "  <tbody>\n",
       "    <tr>\n",
       "      <th>0</th>\n",
       "      <td>a79ca5d5-38d3-434e-827b-ec1237906a2f</td>\n",
       "      <td>/government/news/new-national-cyber-security-c...</td>\n",
       "      <td>news</td>\n",
       "      <td>the new national cyber security centre will be...</td>\n",
       "      <td>{'body': '&lt;div class=\"govspeak\"&gt;&lt;p&gt;The Ministe...</td>\n",
       "      <td>press_release</td>\n",
       "      <td>announcements</td>\n",
       "      <td>2016-03-18T12:30:35.000+00:00</td>\n",
       "      <td>press-releases</td>\n",
       "      <td>en</td>\n",
       "      <td>...</td>\n",
       "      <td>67f50352-bc30-482f-a2d0-a05714e3cea8</td>\n",
       "      <td>/government/cyber-security</td>\n",
       "      <td>Cyber security</td>\n",
       "      <td>Government</td>\n",
       "      <td>Cyber security</td>\n",
       "      <td>NaN</td>\n",
       "      <td>NaN</td>\n",
       "      <td>NaN</td>\n",
       "      <td>47.0</td>\n",
       "      <td>both</td>\n",
       "    </tr>\n",
       "    <tr>\n",
       "      <th>1</th>\n",
       "      <td>a79ca5d5-38d3-434e-827b-ec1237906a2f</td>\n",
       "      <td>/government/news/new-national-cyber-security-c...</td>\n",
       "      <td>news</td>\n",
       "      <td>the new national cyber security centre will be...</td>\n",
       "      <td>{'body': '&lt;div class=\"govspeak\"&gt;&lt;p&gt;The Ministe...</td>\n",
       "      <td>press_release</td>\n",
       "      <td>announcements</td>\n",
       "      <td>2016-03-18T12:30:35.000+00:00</td>\n",
       "      <td>press-releases</td>\n",
       "      <td>en</td>\n",
       "      <td>...</td>\n",
       "      <td>8a98b827-82ad-49b4-819e-82c208c551c4</td>\n",
       "      <td>/government/national-security</td>\n",
       "      <td>National security</td>\n",
       "      <td>Government</td>\n",
       "      <td>National security</td>\n",
       "      <td>NaN</td>\n",
       "      <td>NaN</td>\n",
       "      <td>NaN</td>\n",
       "      <td>130.0</td>\n",
       "      <td>both</td>\n",
       "    </tr>\n",
       "    <tr>\n",
       "      <th>2</th>\n",
       "      <td>4a72fcdf-e0b7-42f0-a606-0636f512453a</td>\n",
       "      <td>/apply-foster-child-council</td>\n",
       "      <td>transactions</td>\n",
       "      <td>apply to foster a child through the social ser...</td>\n",
       "      <td>{'external_related_links': [], 'more_informati...</td>\n",
       "      <td>local_transaction</td>\n",
       "      <td>other</td>\n",
       "      <td>2012-01-24T09:54:56.000+00:00</td>\n",
       "      <td>other</td>\n",
       "      <td>en</td>\n",
       "      <td>...</td>\n",
       "      <td>0a018d28-e3a8-4db7-a593-c8a0bfb57319</td>\n",
       "      <td>/life-circumstances/child-adoption</td>\n",
       "      <td>Having a child, parenting and adoption</td>\n",
       "      <td>Life circumstances</td>\n",
       "      <td>Having a child, parenting and adoption</td>\n",
       "      <td>NaN</td>\n",
       "      <td>NaN</td>\n",
       "      <td>NaN</td>\n",
       "      <td>85.0</td>\n",
       "      <td>both</td>\n",
       "    </tr>\n",
       "    <tr>\n",
       "      <th>3</th>\n",
       "      <td>4a72fcdf-e0b7-42f0-a606-0636f512453a</td>\n",
       "      <td>/apply-foster-child-council</td>\n",
       "      <td>transactions</td>\n",
       "      <td>apply to foster a child through the social ser...</td>\n",
       "      <td>{'external_related_links': [], 'more_informati...</td>\n",
       "      <td>local_transaction</td>\n",
       "      <td>other</td>\n",
       "      <td>2012-01-24T09:54:56.000+00:00</td>\n",
       "      <td>other</td>\n",
       "      <td>en</td>\n",
       "      <td>...</td>\n",
       "      <td>f40a63ce-ac0c-4102-84d1-f1835cb7daac</td>\n",
       "      <td>/childcare-parenting/fostering</td>\n",
       "      <td>Fostering</td>\n",
       "      <td>Parenting, childcare and children's services</td>\n",
       "      <td>Adoption, fostering and surrogacy</td>\n",
       "      <td>Fostering</td>\n",
       "      <td>NaN</td>\n",
       "      <td>NaN</td>\n",
       "      <td>2.0</td>\n",
       "      <td>both</td>\n",
       "    </tr>\n",
       "    <tr>\n",
       "      <th>4</th>\n",
       "      <td>5c81df9b-7631-11e4-a3cb-005056011aef</td>\n",
       "      <td>/government/publications/troubled-families-cas...</td>\n",
       "      <td>reports</td>\n",
       "      <td>this document describes how families were help...</td>\n",
       "      <td>{'body': '&lt;div class=\"govspeak\"&gt;&lt;p&gt;Work with f...</td>\n",
       "      <td>research</td>\n",
       "      <td>publications</td>\n",
       "      <td>2012-11-10T00:00:00.000+00:00</td>\n",
       "      <td>research-and-analysis</td>\n",
       "      <td>en</td>\n",
       "      <td>...</td>\n",
       "      <td>668cd623-c7a8-4159-9575-90caac36d4b4</td>\n",
       "      <td>/society-and-culture/community-and-society</td>\n",
       "      <td>Community and society</td>\n",
       "      <td>Society and culture</td>\n",
       "      <td>Community and society</td>\n",
       "      <td>NaN</td>\n",
       "      <td>NaN</td>\n",
       "      <td>NaN</td>\n",
       "      <td>37.0</td>\n",
       "      <td>both</td>\n",
       "    </tr>\n",
       "  </tbody>\n",
       "</table>\n",
       "<p>5 rows × 31 columns</p>\n",
       "</div>"
      ],
      "text/plain": [
       "                             content_id  \\\n",
       "0  a79ca5d5-38d3-434e-827b-ec1237906a2f   \n",
       "1  a79ca5d5-38d3-434e-827b-ec1237906a2f   \n",
       "2  4a72fcdf-e0b7-42f0-a606-0636f512453a   \n",
       "3  4a72fcdf-e0b7-42f0-a606-0636f512453a   \n",
       "4  5c81df9b-7631-11e4-a3cb-005056011aef   \n",
       "\n",
       "                                           base_path  \\\n",
       "0  /government/news/new-national-cyber-security-c...   \n",
       "1  /government/news/new-national-cyber-security-c...   \n",
       "2                        /apply-foster-child-council   \n",
       "3                        /apply-foster-child-council   \n",
       "4  /government/publications/troubled-families-cas...   \n",
       "\n",
       "  content_purpose_document_supertype  \\\n",
       "0                               news   \n",
       "1                               news   \n",
       "2                       transactions   \n",
       "3                       transactions   \n",
       "4                            reports   \n",
       "\n",
       "                                         description  \\\n",
       "0  the new national cyber security centre will be...   \n",
       "1  the new national cyber security centre will be...   \n",
       "2  apply to foster a child through the social ser...   \n",
       "3  apply to foster a child through the social ser...   \n",
       "4  this document describes how families were help...   \n",
       "\n",
       "                                             details      document_type  \\\n",
       "0  {'body': '<div class=\"govspeak\"><p>The Ministe...      press_release   \n",
       "1  {'body': '<div class=\"govspeak\"><p>The Ministe...      press_release   \n",
       "2  {'external_related_links': [], 'more_informati...  local_transaction   \n",
       "3  {'external_related_links': [], 'more_informati...  local_transaction   \n",
       "4  {'body': '<div class=\"govspeak\"><p>Work with f...           research   \n",
       "\n",
       "  email_document_supertype             first_published_at  \\\n",
       "0            announcements  2016-03-18T12:30:35.000+00:00   \n",
       "1            announcements  2016-03-18T12:30:35.000+00:00   \n",
       "2                    other  2012-01-24T09:54:56.000+00:00   \n",
       "3                    other  2012-01-24T09:54:56.000+00:00   \n",
       "4             publications  2012-11-10T00:00:00.000+00:00   \n",
       "\n",
       "  government_document_supertype locale  ...    \\\n",
       "0                press-releases     en  ...     \n",
       "1                press-releases     en  ...     \n",
       "2                         other     en  ...     \n",
       "3                         other     en  ...     \n",
       "4         research-and-analysis     en  ...     \n",
       "\n",
       "                               taxon_id  \\\n",
       "0  67f50352-bc30-482f-a2d0-a05714e3cea8   \n",
       "1  8a98b827-82ad-49b4-819e-82c208c551c4   \n",
       "2  0a018d28-e3a8-4db7-a593-c8a0bfb57319   \n",
       "3  f40a63ce-ac0c-4102-84d1-f1835cb7daac   \n",
       "4  668cd623-c7a8-4159-9575-90caac36d4b4   \n",
       "\n",
       "                              taxon_base_path  \\\n",
       "0                  /government/cyber-security   \n",
       "1               /government/national-security   \n",
       "2          /life-circumstances/child-adoption   \n",
       "3              /childcare-parenting/fostering   \n",
       "4  /society-and-culture/community-and-society   \n",
       "\n",
       "                               taxon_name  \\\n",
       "0                          Cyber security   \n",
       "1                       National security   \n",
       "2  Having a child, parenting and adoption   \n",
       "3                               Fostering   \n",
       "4                   Community and society   \n",
       "\n",
       "                                     level1taxon  \\\n",
       "0                                     Government   \n",
       "1                                     Government   \n",
       "2                             Life circumstances   \n",
       "3  Parenting, childcare and children's services    \n",
       "4                            Society and culture   \n",
       "\n",
       "                              level2taxon level3taxon level4taxon level5taxon  \\\n",
       "0                          Cyber security         NaN         NaN         NaN   \n",
       "1                       National security         NaN         NaN         NaN   \n",
       "2  Having a child, parenting and adoption         NaN         NaN         NaN   \n",
       "3       Adoption, fostering and surrogacy   Fostering         NaN         NaN   \n",
       "4                   Community and society         NaN         NaN         NaN   \n",
       "\n",
       "  level2taxon_code _merge  \n",
       "0             47.0   both  \n",
       "1            130.0   both  \n",
       "2             85.0   both  \n",
       "3              2.0   both  \n",
       "4             37.0   both  \n",
       "\n",
       "[5 rows x 31 columns]"
      ]
     },
     "execution_count": 32,
     "metadata": {},
     "output_type": "execute_result"
    }
   ],
   "source": [
    "positive_perfect_meta.head()"
   ]
  },
  {
   "cell_type": "markdown",
   "metadata": {},
   "source": [
    "### Evaluate model"
   ]
  },
  {
   "cell_type": "markdown",
   "metadata": {},
   "source": [
    "#### Training metrics"
   ]
  },
  {
   "cell_type": "code",
   "execution_count": 19,
   "metadata": {},
   "outputs": [],
   "source": [
    "y_pred = prob_train.copy(deep=True)"
   ]
  },
  {
   "cell_type": "code",
   "execution_count": 20,
   "metadata": {
    "scrolled": true
   },
   "outputs": [],
   "source": [
    "y_pred[y_pred>=P_THRESHOLD] = 1\n",
    "y_pred[y_pred<P_THRESHOLD] = 0"
   ]
  },
  {
   "cell_type": "code",
   "execution_count": 21,
   "metadata": {},
   "outputs": [
    {
     "name": "stdout",
     "output_type": "stream",
     "text": [
      "micro: (0.988830836774085, 0.896293843846768, 0.9402911125375213, None)\n",
      "macro: (0.992083946866385, 0.9347524583775506, 0.9602069026710743, None)\n",
      "weightedmacro: (0.988224077569999, 0.896293843846768, 0.9375107528656378, None)\n"
     ]
    }
   ],
   "source": [
    "print('micro: {}'.format(precision_recall_fscore_support(true_train, y_pred, average='micro', sample_weight=None)))\n",
    "print('macro: {}'.format(precision_recall_fscore_support(true_train, y_pred, average='macro', sample_weight=None)))\n",
    "print('weightedmacro: {}'.format(precision_recall_fscore_support(true_train, y_pred, average='weighted', sample_weight=None)))"
   ]
  },
  {
   "cell_type": "code",
   "execution_count": null,
   "metadata": {},
   "outputs": [],
   "source": [
    "eval_metrics = precision_recall_fscore_support(true_train, y_pred, average=None, sample_weight=None)\n",
    "eval_metrics_df = pd.DataFrame(list(eval_metrics))"
   ]
  },
  {
   "cell_type": "code",
   "execution_count": null,
   "metadata": {},
   "outputs": [],
   "source": [
    "train_metrics = eval_metrics_df.transpose()\n",
    "train_metrics.columns = ['precision', 'recall', 'f1', 'support']\n",
    "train_metrics['level2code'] = train_metrics.index +1\n",
    "train_metrics['level2label'] = train_metrics['level2code'].map(labels_index)"
   ]
  },
  {
   "cell_type": "markdown",
   "metadata": {},
   "source": [
    "#### Development set metrics"
   ]
  },
  {
   "cell_type": "code",
   "execution_count": null,
   "metadata": {},
   "outputs": [],
   "source": [
    "pred_dev = prob_dev.copy()"
   ]
  },
  {
   "cell_type": "code",
   "execution_count": null,
   "metadata": {
    "scrolled": true
   },
   "outputs": [],
   "source": [
    "pred_dev[pred_dev>=P_THRESHOLD] = 1\n",
    "pred_dev[pred_dev<P_THRESHOLD] = 0"
   ]
  },
  {
   "cell_type": "code",
   "execution_count": null,
   "metadata": {},
   "outputs": [],
   "source": [
    "print('micro: {}'.format(precision_recall_fscore_support(true_dev, pred_dev, average='micro', sample_weight=None)))\n",
    "print('macro: {}'.format(precision_recall_fscore_support(true_dev, pred_dev, average='macro', sample_weight=None)))\n",
    "print('weightedmacro: {}'.format(precision_recall_fscore_support(true_dev, pred_dev, average='weighted', sample_weight=None)))"
   ]
  },
  {
   "cell_type": "code",
   "execution_count": null,
   "metadata": {},
   "outputs": [],
   "source": [
    "eval_metrics = precision_recall_fscore_support(true_dev, pred_dev, average=None, sample_weight=None)\n",
    "eval_metrics_df = pd.DataFrame(list(eval_metrics))"
   ]
  },
  {
   "cell_type": "code",
   "execution_count": null,
   "metadata": {},
   "outputs": [],
   "source": [
    "dev_metrics = eval_metrics_df.transpose()\n",
    "dev_metrics.columns = ['precision', 'recall', 'f1', 'support']\n",
    "dev_metrics['taxon2code'] = dev_metrics.index +1\n",
    "dev_metrics['taxon2label'] = dev_metrics['taxon2code'].map(labels_index)"
   ]
  },
  {
   "cell_type": "code",
   "execution_count": null,
   "metadata": {},
   "outputs": [],
   "source": [
    "dev_metrics[dev_metrics['f1']==0].shape[0]"
   ]
  },
  {
   "cell_type": "code",
   "execution_count": null,
   "metadata": {},
   "outputs": [],
   "source": [
    "dev_metrics[dev_metrics['f1']==1].shape[0]"
   ]
  },
  {
   "cell_type": "code",
   "execution_count": null,
   "metadata": {},
   "outputs": [],
   "source": [
    "dev_metrics[dev_metrics['f1']==1]"
   ]
  },
  {
   "cell_type": "code",
   "execution_count": null,
   "metadata": {},
   "outputs": [],
   "source": [
    "high = dev_metrics[dev_metrics['f1']>0.9]"
   ]
  },
  {
   "cell_type": "code",
   "execution_count": null,
   "metadata": {},
   "outputs": [],
   "source": [
    "morethan80 = dev_metrics[dev_metrics['f1']>0.8]"
   ]
  },
  {
   "cell_type": "code",
   "execution_count": null,
   "metadata": {},
   "outputs": [],
   "source": [
    "dev_metrics[dev_metrics['f1']<0.6].shape[0]"
   ]
  },
  {
   "cell_type": "code",
   "execution_count": null,
   "metadata": {},
   "outputs": [],
   "source": [
    "if dev['content_id'].shape[0] == keep_perfect_performing_taxons.shape[0]:\n",
    "    keep_perfect_performing_taxons['content_id'] = dev['content_id']\n",
    "else:\n",
    "    print(\"warning: true_train and content_id may not originate from same data\")"
   ]
  },
  {
   "cell_type": "markdown",
   "metadata": {},
   "source": [
    "#### Taxons with 0 F1 score."
   ]
  },
  {
   "cell_type": "markdown",
   "metadata": {},
   "source": [
    "#### F1 scores"
   ]
  },
  {
   "cell_type": "code",
   "execution_count": null,
   "metadata": {
    "scrolled": true
   },
   "outputs": [],
   "source": [
    "#Calculate globally by counting the total true positives, false negatives and false positives.\n",
    "precision_recall_fscore_support(y_train, y_pred, average='micro', sample_weight=None) "
   ]
  },
  {
   "cell_type": "code",
   "execution_count": null,
   "metadata": {
    "scrolled": true
   },
   "outputs": [],
   "source": [
    "#Calculate metrics for each label, and find their unweighted mean. This does not take label imbalance into account\n",
    "precision_recall_fscore_support(y_dev, y_pred_dev, average='macro', sample_weight=None)"
   ]
  },
  {
   "cell_type": "code",
   "execution_count": null,
   "metadata": {
    "scrolled": true
   },
   "outputs": [],
   "source": [
    "#Calculate metrics for each label, and find their unweighted mean. This does not take label imbalance into account\n",
    "precision_recall_fscore_support(y_dev, y_pred_dev, average='weighted', sample_weight=None)"
   ]
  },
  {
   "cell_type": "markdown",
   "metadata": {},
   "source": [
    "## LOAD More data"
   ]
  },
  {
   "cell_type": "code",
   "execution_count": null,
   "metadata": {},
   "outputs": [],
   "source": [
    "if train['content_id'].shape[0] == true_train.shape[0]:\n",
    "    true_train['content_id'] = train['content_id']\n",
    "else:\n",
    "    print(\"warning: true_train and content_id may not originate from same data\")"
   ]
  },
  {
   "cell_type": "code",
   "execution_count": null,
   "metadata": {},
   "outputs": [],
   "source": [
    "if dev['content_id'].shape[0] == true_dev.shape[0]:\n",
    "    true_dev['content_id'] = dev['content_id']\n",
    "else:\n",
    "    print(\"warning: true_dev and content_id may not originate from same data\")"
   ]
  },
  {
   "cell_type": "markdown",
   "metadata": {},
   "source": [
    "## Taxons not represented in training/dev"
   ]
  },
  {
   "cell_type": "code",
   "execution_count": null,
   "metadata": {},
   "outputs": [],
   "source": [
    "train_by_id = pd.melt(true_train, id_vars=['content_id'], var_name='taxon2', value_name='tagged')\n",
    "positive_taxons_true_train = train_by_id[train_by_id['tagged']==1].copy()"
   ]
  },
  {
   "cell_type": "code",
   "execution_count": null,
   "metadata": {},
   "outputs": [],
   "source": [
    "dev_by_id = pd.melt(true_dev, id_vars=['content_id'], var_name='taxon2', value_name='tagged')\n",
    "positive_taxons_true_dev = dev_by_id[dev_by_id['tagged']==1].copy()"
   ]
  },
  {
   "cell_type": "code",
   "execution_count": null,
   "metadata": {},
   "outputs": [],
   "source": [
    "positive_taxons_true_train['taxon2label'] = pd.to_numeric(positive_taxons_true_train['taxon2']).map(labels_index)\n",
    "positive_taxons_true_dev['taxon2label'] = pd.to_numeric(positive_taxons_true_dev['taxon2']).map(labels_index)"
   ]
  },
  {
   "cell_type": "code",
   "execution_count": null,
   "metadata": {},
   "outputs": [],
   "source": [
    "positive_taxons_true_train.taxon2.nunique()"
   ]
  },
  {
   "cell_type": "code",
   "execution_count": null,
   "metadata": {},
   "outputs": [],
   "source": [
    "positive_taxons_true_dev.taxon2.nunique()"
   ]
  },
  {
   "cell_type": "code",
   "execution_count": null,
   "metadata": {},
   "outputs": [],
   "source": [
    "positive_taxons_true_train.taxon2.nunique() - positive_taxons_true_dev.taxon2.nunique()"
   ]
  },
  {
   "cell_type": "code",
   "execution_count": null,
   "metadata": {},
   "outputs": [],
   "source": [
    "not_in_dev = np.setdiff1d(positive_taxons_true_train.taxon2label, positive_taxons_true_dev.taxon2label)\n",
    "\n",
    "np.setdiff1d(positive_taxons_true_train.taxon2label, positive_taxons_true_dev.taxon2label)"
   ]
  },
  {
   "cell_type": "code",
   "execution_count": null,
   "metadata": {},
   "outputs": [],
   "source": [
    "positive_taxons_true_train[positive_taxons_true_train['taxon2label'].isin(not_in_dev)].groupby('taxon2label').size().sort_values(ascending=False)"
   ]
  },
  {
   "cell_type": "code",
   "execution_count": null,
   "metadata": {},
   "outputs": [],
   "source": [
    "true_train = true_train.drop_duplicates(subset='content_id')"
   ]
  },
  {
   "cell_type": "code",
   "execution_count": null,
   "metadata": {},
   "outputs": [],
   "source": [
    "train_true = pd.merge(\n",
    "    left=true_train,\n",
    "    right=labelled_level2,\n",
    "    on='content_id',\n",
    "    how='left',\n",
    "    indicator=True, \n",
    "    validate='1:m'\n",
    ")"
   ]
  },
  {
   "cell_type": "code",
   "execution_count": null,
   "metadata": {},
   "outputs": [],
   "source": [
    "true_train.shape"
   ]
  },
  {
   "cell_type": "code",
   "execution_count": null,
   "metadata": {},
   "outputs": [],
   "source": [
    "train_true.groupby('_merge').size().sort_values(ascending=True)"
   ]
  },
  {
   "cell_type": "code",
   "execution_count": null,
   "metadata": {},
   "outputs": [],
   "source": [
    "train_true.shape"
   ]
  },
  {
   "cell_type": "code",
   "execution_count": null,
   "metadata": {},
   "outputs": [],
   "source": [
    "train_true.level2taxon.nunique()"
   ]
  },
  {
   "cell_type": "code",
   "execution_count": null,
   "metadata": {},
   "outputs": [],
   "source": [
    "labelled_level2.level2taxon.nunique()"
   ]
  },
  {
   "cell_type": "code",
   "execution_count": null,
   "metadata": {},
   "outputs": [],
   "source": [
    "pred_dev.shape"
   ]
  },
  {
   "cell_type": "code",
   "execution_count": null,
   "metadata": {},
   "outputs": [],
   "source": [
    "print(actual_train.shape)\n",
    "actual_train.head()"
   ]
  },
  {
   "cell_type": "code",
   "execution_count": null,
   "metadata": {},
   "outputs": [],
   "source": [
    "print(pred_train.shape)\n",
    "pred_train.head()"
   ]
  },
  {
   "cell_type": "code",
   "execution_count": null,
   "metadata": {},
   "outputs": [],
   "source": [
    "true_train.shape"
   ]
  },
  {
   "cell_type": "code",
   "execution_count": null,
   "metadata": {
    "scrolled": true
   },
   "outputs": [],
   "source": [
    "pred_train.shape"
   ]
  },
  {
   "cell_type": "markdown",
   "metadata": {},
   "source": [
    "## support and performance"
   ]
  },
  {
   "cell_type": "markdown",
   "metadata": {},
   "source": [
    "The support is the number of occurrences of each class in y_true"
   ]
  },
  {
   "cell_type": "code",
   "execution_count": null,
   "metadata": {},
   "outputs": [],
   "source": [
    "dev_metrics.plot.scatter(x='support', y='f1', marker='o', alpha=.5, figsize=(20, 20))\n"
   ]
  },
  {
   "cell_type": "code",
   "execution_count": null,
   "metadata": {},
   "outputs": [],
   "source": [
    "morethan80.plot.scatter(x='support', y='f1', figsize=(20, 10))\n",
    "\n",
    "for label, x, y in zip(morethan80['taxon2label'], morethan80['support'], morethan80['f1']):\n",
    "    plt.annotate(\n",
    "        label,\n",
    "        xy=(x, y), xytext=(-1, 1),\n",
    "        textcoords='offset points', ha='right', va='bottom')\n",
    "plt.show()"
   ]
  },
  {
   "cell_type": "markdown",
   "metadata": {},
   "source": [
    "### look at content predicted in taxons with f1=1"
   ]
  },
  {
   "cell_type": "code",
   "execution_count": null,
   "metadata": {},
   "outputs": [],
   "source": [
    "prob_dev.head()"
   ]
  },
  {
   "cell_type": "code",
   "execution_count": null,
   "metadata": {},
   "outputs": [],
   "source": [
    "dev_metrics[dev_metrics['f1']==1].head()"
   ]
  },
  {
   "cell_type": "code",
   "execution_count": null,
   "metadata": {},
   "outputs": [],
   "source": [
    "perfect_performance = dev_metrics[dev_metrics['f1']==1].taxon2code.unique()\n",
    "perfect_performance = perfect_performance.astype(str)"
   ]
  },
  {
   "cell_type": "code",
   "execution_count": null,
   "metadata": {},
   "outputs": [],
   "source": [
    "keep_perfect_performing_taxons = prob_dev[perfect_performance].copy()"
   ]
  },
  {
   "cell_type": "code",
   "execution_count": null,
   "metadata": {},
   "outputs": [],
   "source": [
    "keep_perfect_performing_taxons.shape"
   ]
  },
  {
   "cell_type": "code",
   "execution_count": null,
   "metadata": {},
   "outputs": [],
   "source": [
    "if dev['content_id'].shape[0] == keep_perfect_performing_taxons.shape[0]:\n",
    "    keep_perfect_performing_taxons['content_id'] = dev['content_id']\n",
    "else:\n",
    "    print(\"warning: true_train and content_id may not originate from same data\")"
   ]
  },
  {
   "cell_type": "code",
   "execution_count": null,
   "metadata": {},
   "outputs": [],
   "source": [
    "keep_perfect_performing_taxons.head()"
   ]
  },
  {
   "cell_type": "code",
   "execution_count": null,
   "metadata": {},
   "outputs": [],
   "source": [
    "# armed forces\n",
    "\n",
    "keep_perfect_performing_taxons[keep_perfect_performing_taxons['5'] > 0.5].shape"
   ]
  },
  {
   "cell_type": "code",
   "execution_count": null,
   "metadata": {},
   "outputs": [],
   "source": [
    "perfect_by_id = pd.melt(keep_perfect_performing_taxons, \n",
    "                        id_vars=['content_id'], var_name='taxon2', value_name='prob')"
   ]
  },
  {
   "cell_type": "code",
   "execution_count": null,
   "metadata": {},
   "outputs": [],
   "source": [
    "perfect_by_id.shape"
   ]
  },
  {
   "cell_type": "code",
   "execution_count": null,
   "metadata": {},
   "outputs": [],
   "source": [
    "positive_perfect = perfect_by_id[perfect_by_id['prob']>0.5].copy()"
   ]
  },
  {
   "cell_type": "code",
   "execution_count": null,
   "metadata": {},
   "outputs": [],
   "source": [
    "positive_perfect.shape"
   ]
  },
  {
   "cell_type": "code",
   "execution_count": null,
   "metadata": {},
   "outputs": [],
   "source": [
    "positive_perfect_meta = pd.merge(\n",
    "    left=positive_perfect,\n",
    "    right=labelled_level2,\n",
    "    on='content_id',\n",
    "    how='left',\n",
    "    indicator=True, \n",
    "    validate='m:m'\n",
    ")"
   ]
  },
  {
   "cell_type": "code",
   "execution_count": null,
   "metadata": {},
   "outputs": [],
   "source": [
    "positive_perfect_meta['taxon2label'] = pd.to_numeric(positive_perfect_meta['taxon2']).map(labels_index)"
   ]
  },
  {
   "cell_type": "code",
   "execution_count": null,
   "metadata": {},
   "outputs": [],
   "source": [
    "positive_perfect_meta"
   ]
  },
  {
   "cell_type": "code",
   "execution_count": null,
   "metadata": {},
   "outputs": [],
   "source": [
    "print(\"{}% of content has been tagged to taxons which have perfect performance\".format(\n",
    "    positive_perfect.content_id.nunique()/keep_perfect_performing_taxons.shape[0]*100)\n",
    ")"
   ]
  },
  {
   "cell_type": "markdown",
   "metadata": {},
   "source": [
    "quick browse but this looks good"
   ]
  },
  {
   "cell_type": "markdown",
   "metadata": {},
   "source": [
    "###  80 < taxon F1 <1 = good performance!"
   ]
  },
  {
   "cell_type": "code",
   "execution_count": null,
   "metadata": {},
   "outputs": [],
   "source": [
    "good_performance = dev_metrics[(dev_metrics['f1']<1) & (dev_metrics['f1']>0.8)].taxon2code.unique().astype(str)"
   ]
  },
  {
   "cell_type": "code",
   "execution_count": null,
   "metadata": {},
   "outputs": [],
   "source": [
    "keep_good_performing_taxons = prob_dev[good_performance].copy()"
   ]
  },
  {
   "cell_type": "code",
   "execution_count": null,
   "metadata": {},
   "outputs": [],
   "source": [
    "keep_good_performing_taxons.shape"
   ]
  },
  {
   "cell_type": "code",
   "execution_count": null,
   "metadata": {},
   "outputs": [],
   "source": [
    "if dev['content_id'].shape[0] == keep_good_performing_taxons.shape[0]:\n",
    "    keep_good_performing_taxons['content_id'] = dev['content_id']\n",
    "else:\n",
    "    print(\"warning: true_train and content_id may not originate from same data\")"
   ]
  },
  {
   "cell_type": "code",
   "execution_count": null,
   "metadata": {},
   "outputs": [],
   "source": [
    "good_by_id = pd.melt(keep_good_performing_taxons, \n",
    "                        id_vars=['content_id'], var_name='taxon2', value_name='prob')"
   ]
  },
  {
   "cell_type": "code",
   "execution_count": null,
   "metadata": {},
   "outputs": [],
   "source": [
    "good_by_id.shape"
   ]
  },
  {
   "cell_type": "code",
   "execution_count": null,
   "metadata": {},
   "outputs": [],
   "source": [
    "positive_good = good_by_id[good_by_id['prob']>0.5].copy()"
   ]
  },
  {
   "cell_type": "code",
   "execution_count": null,
   "metadata": {},
   "outputs": [],
   "source": [
    "positive_good.shape"
   ]
  },
  {
   "cell_type": "code",
   "execution_count": null,
   "metadata": {},
   "outputs": [],
   "source": [
    "positive_good.content_id.nunique()"
   ]
  },
  {
   "cell_type": "code",
   "execution_count": null,
   "metadata": {},
   "outputs": [],
   "source": [
    "print(\"{}% of content has been tagged to taxons which have good performance\".format(\n",
    "    positive_good.content_id.nunique()/keep_good_performing_taxons.shape[0]*100)\n",
    ")"
   ]
  },
  {
   "cell_type": "code",
   "execution_count": null,
   "metadata": {},
   "outputs": [],
   "source": [
    "positive_good_meta = pd.merge(\n",
    "    left=positive_good,\n",
    "    right=labelled_level2,\n",
    "    on='content_id',\n",
    "    how='left',\n",
    "    indicator=True, \n",
    "    validate='m:m'\n",
    ")"
   ]
  },
  {
   "cell_type": "code",
   "execution_count": null,
   "metadata": {},
   "outputs": [],
   "source": [
    "positive_good_meta['taxon2label'] = pd.to_numeric(positive_good_meta['taxon2']).map(labels_index)"
   ]
  },
  {
   "cell_type": "code",
   "execution_count": null,
   "metadata": {},
   "outputs": [],
   "source": [
    "positive_good_meta"
   ]
  }
 ],
 "metadata": {
  "keep_output": true,
  "kernelspec": {
   "display_name": "taxon-sl",
   "language": "python",
   "name": "taxon-sl"
  },
  "language_info": {
   "codemirror_mode": {
    "name": "ipython",
    "version": 3
   },
   "file_extension": ".py",
   "mimetype": "text/x-python",
   "name": "python",
   "nbconvert_exporter": "python",
   "pygments_lexer": "ipython3",
   "version": "3.4.6"
  }
 },
 "nbformat": 4,
 "nbformat_minor": 2
}
