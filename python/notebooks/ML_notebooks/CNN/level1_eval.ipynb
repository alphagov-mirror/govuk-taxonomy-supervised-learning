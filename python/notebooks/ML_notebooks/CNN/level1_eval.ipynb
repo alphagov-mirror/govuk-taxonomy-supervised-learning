{
 "cells": [
  {
   "cell_type": "code",
   "execution_count": 1,
   "metadata": {},
   "outputs": [],
   "source": [
    "import pandas as pd\n",
    "import os\n",
    "import numpy as np\n",
    "import altair as alt"
   ]
  },
  {
   "cell_type": "code",
   "execution_count": 4,
   "metadata": {},
   "outputs": [
    {
     "data": {
      "text/html": [
       "<div>\n",
       "<style scoped>\n",
       "    .dataframe tbody tr th:only-of-type {\n",
       "        vertical-align: middle;\n",
       "    }\n",
       "\n",
       "    .dataframe tbody tr th {\n",
       "        vertical-align: top;\n",
       "    }\n",
       "\n",
       "    .dataframe thead th {\n",
       "        text-align: right;\n",
       "    }\n",
       "</style>\n",
       "<table border=\"1\" class=\"dataframe\">\n",
       "  <thead>\n",
       "    <tr style=\"text-align: right;\">\n",
       "      <th></th>\n",
       "      <th>train_support</th>\n",
       "      <th>dev_support</th>\n",
       "      <th>taxon_code</th>\n",
       "      <th>dev_f1</th>\n",
       "      <th>taxon_label</th>\n",
       "    </tr>\n",
       "  </thead>\n",
       "  <tbody>\n",
       "    <tr>\n",
       "      <th>0</th>\n",
       "      <td>18461</td>\n",
       "      <td>2347</td>\n",
       "      <td>18</td>\n",
       "      <td>0.988491</td>\n",
       "      <td>Transport</td>\n",
       "    </tr>\n",
       "    <tr>\n",
       "      <th>1</th>\n",
       "      <td>2039</td>\n",
       "      <td>281</td>\n",
       "      <td>6</td>\n",
       "      <td>0.978723</td>\n",
       "      <td>Entering and staying in the UK</td>\n",
       "    </tr>\n",
       "    <tr>\n",
       "      <th>2</th>\n",
       "      <td>7302</td>\n",
       "      <td>871</td>\n",
       "      <td>5</td>\n",
       "      <td>0.960276</td>\n",
       "      <td>Education, training and skills</td>\n",
       "    </tr>\n",
       "    <tr>\n",
       "      <th>3</th>\n",
       "      <td>17968</td>\n",
       "      <td>2166</td>\n",
       "      <td>3</td>\n",
       "      <td>0.947885</td>\n",
       "      <td>Crime, justice and law</td>\n",
       "    </tr>\n",
       "    <tr>\n",
       "      <th>4</th>\n",
       "      <td>12142</td>\n",
       "      <td>1470</td>\n",
       "      <td>10</td>\n",
       "      <td>0.943073</td>\n",
       "      <td>Health and social care</td>\n",
       "    </tr>\n",
       "    <tr>\n",
       "      <th>5</th>\n",
       "      <td>17840</td>\n",
       "      <td>2250</td>\n",
       "      <td>7</td>\n",
       "      <td>0.918942</td>\n",
       "      <td>Environment</td>\n",
       "    </tr>\n",
       "    <tr>\n",
       "      <th>6</th>\n",
       "      <td>5721</td>\n",
       "      <td>694</td>\n",
       "      <td>14</td>\n",
       "      <td>0.914493</td>\n",
       "      <td>Money</td>\n",
       "    </tr>\n",
       "    <tr>\n",
       "      <th>7</th>\n",
       "      <td>7180</td>\n",
       "      <td>902</td>\n",
       "      <td>4</td>\n",
       "      <td>0.904735</td>\n",
       "      <td>Defence</td>\n",
       "    </tr>\n",
       "    <tr>\n",
       "      <th>8</th>\n",
       "      <td>659</td>\n",
       "      <td>16</td>\n",
       "      <td>8</td>\n",
       "      <td>0.888889</td>\n",
       "      <td>Going and being abroad</td>\n",
       "    </tr>\n",
       "    <tr>\n",
       "      <th>9</th>\n",
       "      <td>9299</td>\n",
       "      <td>1196</td>\n",
       "      <td>12</td>\n",
       "      <td>0.880811</td>\n",
       "      <td>International</td>\n",
       "    </tr>\n",
       "    <tr>\n",
       "      <th>10</th>\n",
       "      <td>6541</td>\n",
       "      <td>799</td>\n",
       "      <td>11</td>\n",
       "      <td>0.872152</td>\n",
       "      <td>Housing, local and community</td>\n",
       "    </tr>\n",
       "    <tr>\n",
       "      <th>11</th>\n",
       "      <td>24772</td>\n",
       "      <td>3106</td>\n",
       "      <td>9</td>\n",
       "      <td>0.854135</td>\n",
       "      <td>Government</td>\n",
       "    </tr>\n",
       "    <tr>\n",
       "      <th>12</th>\n",
       "      <td>2731</td>\n",
       "      <td>338</td>\n",
       "      <td>19</td>\n",
       "      <td>0.823910</td>\n",
       "      <td>Welfare</td>\n",
       "    </tr>\n",
       "    <tr>\n",
       "      <th>13</th>\n",
       "      <td>6973</td>\n",
       "      <td>888</td>\n",
       "      <td>16</td>\n",
       "      <td>0.822961</td>\n",
       "      <td>Regional and local government</td>\n",
       "    </tr>\n",
       "    <tr>\n",
       "      <th>14</th>\n",
       "      <td>636</td>\n",
       "      <td>13</td>\n",
       "      <td>13</td>\n",
       "      <td>0.812500</td>\n",
       "      <td>Life circumstances</td>\n",
       "    </tr>\n",
       "    <tr>\n",
       "      <th>15</th>\n",
       "      <td>30321</td>\n",
       "      <td>3742</td>\n",
       "      <td>1</td>\n",
       "      <td>0.809675</td>\n",
       "      <td>Business</td>\n",
       "    </tr>\n",
       "    <tr>\n",
       "      <th>16</th>\n",
       "      <td>1292</td>\n",
       "      <td>119</td>\n",
       "      <td>15</td>\n",
       "      <td>0.791837</td>\n",
       "      <td>Parenting, childcare and children's services</td>\n",
       "    </tr>\n",
       "    <tr>\n",
       "      <th>17</th>\n",
       "      <td>750</td>\n",
       "      <td>33</td>\n",
       "      <td>2</td>\n",
       "      <td>0.761905</td>\n",
       "      <td>Corporate information</td>\n",
       "    </tr>\n",
       "    <tr>\n",
       "      <th>18</th>\n",
       "      <td>10574</td>\n",
       "      <td>1285</td>\n",
       "      <td>17</td>\n",
       "      <td>0.741776</td>\n",
       "      <td>Society and culture</td>\n",
       "    </tr>\n",
       "    <tr>\n",
       "      <th>19</th>\n",
       "      <td>3240</td>\n",
       "      <td>398</td>\n",
       "      <td>20</td>\n",
       "      <td>0.739869</td>\n",
       "      <td>Work</td>\n",
       "    </tr>\n",
       "  </tbody>\n",
       "</table>\n",
       "</div>"
      ],
      "text/plain": [
       "    train_support  dev_support  taxon_code    dev_f1  \\\n",
       "0           18461         2347          18  0.988491   \n",
       "1            2039          281           6  0.978723   \n",
       "2            7302          871           5  0.960276   \n",
       "3           17968         2166           3  0.947885   \n",
       "4           12142         1470          10  0.943073   \n",
       "5           17840         2250           7  0.918942   \n",
       "6            5721          694          14  0.914493   \n",
       "7            7180          902           4  0.904735   \n",
       "8             659           16           8  0.888889   \n",
       "9            9299         1196          12  0.880811   \n",
       "10           6541          799          11  0.872152   \n",
       "11          24772         3106           9  0.854135   \n",
       "12           2731          338          19  0.823910   \n",
       "13           6973          888          16  0.822961   \n",
       "14            636           13          13  0.812500   \n",
       "15          30321         3742           1  0.809675   \n",
       "16           1292          119          15  0.791837   \n",
       "17            750           33           2  0.761905   \n",
       "18          10574         1285          17  0.741776   \n",
       "19           3240          398          20  0.739869   \n",
       "\n",
       "                                     taxon_label  \n",
       "0                                      Transport  \n",
       "1                 Entering and staying in the UK  \n",
       "2                 Education, training and skills  \n",
       "3                         Crime, justice and law  \n",
       "4                         Health and social care  \n",
       "5                                    Environment  \n",
       "6                                          Money  \n",
       "7                                        Defence  \n",
       "8                         Going and being abroad  \n",
       "9                                  International  \n",
       "10                  Housing, local and community  \n",
       "11                                    Government  \n",
       "12                                       Welfare  \n",
       "13                 Regional and local government  \n",
       "14                            Life circumstances  \n",
       "15                                      Business  \n",
       "16  Parenting, childcare and children's services  \n",
       "17                         Corporate information  \n",
       "18                           Society and culture  \n",
       "19                                          Work  "
      ]
     },
     "execution_count": 4,
     "metadata": {},
     "output_type": "execute_result"
    }
   ],
   "source": [
    "DATADIR = os.getenv('DATADIR')\n",
    "df = pd.read_csv(os.path.join('/data', 'level1_11years__html_table.tsv'), sep='\\t')\n",
    "df"
   ]
  },
  {
   "cell_type": "code",
   "execution_count": 19,
   "metadata": {},
   "outputs": [
    {
     "data": {
      "application/vnd.vegalite.v2+json": {
       "$schema": "https://vega.github.io/schema/vega-lite/v2.6.0.json",
       "config": {
        "view": {
         "height": 300,
         "width": 400
        }
       },
       "datasets": {
        "data-3fb27ec360cc6e510d0b3e59ece5963a": [
         {
          "dev_f1": 0.988491,
          "dev_support": 2347,
          "taxon_code": 18,
          "taxon_label": "Transport",
          "train_support": 18461
         },
         {
          "dev_f1": 0.978723,
          "dev_support": 281,
          "taxon_code": 6,
          "taxon_label": "Entering and staying in the UK",
          "train_support": 2039
         },
         {
          "dev_f1": 0.960276,
          "dev_support": 871,
          "taxon_code": 5,
          "taxon_label": "Education, training and skills",
          "train_support": 7302
         },
         {
          "dev_f1": 0.9478850000000001,
          "dev_support": 2166,
          "taxon_code": 3,
          "taxon_label": "Crime, justice and law",
          "train_support": 17968
         },
         {
          "dev_f1": 0.9430729999999999,
          "dev_support": 1470,
          "taxon_code": 10,
          "taxon_label": "Health and social care",
          "train_support": 12142
         },
         {
          "dev_f1": 0.918942,
          "dev_support": 2250,
          "taxon_code": 7,
          "taxon_label": "Environment",
          "train_support": 17840
         },
         {
          "dev_f1": 0.914493,
          "dev_support": 694,
          "taxon_code": 14,
          "taxon_label": "Money",
          "train_support": 5721
         },
         {
          "dev_f1": 0.9047350000000001,
          "dev_support": 902,
          "taxon_code": 4,
          "taxon_label": "Defence",
          "train_support": 7180
         },
         {
          "dev_f1": 0.8888889999999999,
          "dev_support": 16,
          "taxon_code": 8,
          "taxon_label": "Going and being abroad",
          "train_support": 659
         },
         {
          "dev_f1": 0.880811,
          "dev_support": 1196,
          "taxon_code": 12,
          "taxon_label": "International",
          "train_support": 9299
         },
         {
          "dev_f1": 0.872152,
          "dev_support": 799,
          "taxon_code": 11,
          "taxon_label": "Housing, local and community",
          "train_support": 6541
         },
         {
          "dev_f1": 0.8541350000000001,
          "dev_support": 3106,
          "taxon_code": 9,
          "taxon_label": "Government",
          "train_support": 24772
         },
         {
          "dev_f1": 0.82391,
          "dev_support": 338,
          "taxon_code": 19,
          "taxon_label": "Welfare",
          "train_support": 2731
         },
         {
          "dev_f1": 0.822961,
          "dev_support": 888,
          "taxon_code": 16,
          "taxon_label": "Regional and local government",
          "train_support": 6973
         },
         {
          "dev_f1": 0.8125,
          "dev_support": 13,
          "taxon_code": 13,
          "taxon_label": "Life circumstances",
          "train_support": 636
         },
         {
          "dev_f1": 0.809675,
          "dev_support": 3742,
          "taxon_code": 1,
          "taxon_label": "Business",
          "train_support": 30321
         },
         {
          "dev_f1": 0.791837,
          "dev_support": 119,
          "taxon_code": 15,
          "taxon_label": "Parenting, childcare and children's services",
          "train_support": 1292
         },
         {
          "dev_f1": 0.761905,
          "dev_support": 33,
          "taxon_code": 2,
          "taxon_label": "Corporate information",
          "train_support": 750
         },
         {
          "dev_f1": 0.741776,
          "dev_support": 1285,
          "taxon_code": 17,
          "taxon_label": "Society and culture",
          "train_support": 10574
         },
         {
          "dev_f1": 0.739869,
          "dev_support": 398,
          "taxon_code": 20,
          "taxon_label": "Work",
          "train_support": 3240
         }
        ]
       },
       "layer": [
        {
         "data": {
          "name": "data-3fb27ec360cc6e510d0b3e59ece5963a"
         },
         "encoding": {
          "tooltip": [
           {
            "field": "taxon_label",
            "type": "nominal"
           }
          ],
          "x": {
           "field": "dev_support",
           "type": "quantitative"
          },
          "y": {
           "field": "dev_f1",
           "scale": {
            "zero": false
           },
           "type": "quantitative"
          }
         },
         "mark": "point",
         "title": "Performance according to size of level 1 taxon"
        },
        {
         "data": {
          "name": "data-3fb27ec360cc6e510d0b3e59ece5963a"
         },
         "encoding": {
          "text": {
           "field": "taxon_label",
           "type": "nominal"
          },
          "tooltip": [
           {
            "field": "taxon_label",
            "type": "nominal"
           }
          ],
          "x": {
           "field": "dev_support",
           "type": "quantitative"
          },
          "y": {
           "field": "dev_f1",
           "scale": {
            "zero": false
           },
           "type": "quantitative"
          }
         },
         "mark": {
          "align": "left",
          "baseline": "middle",
          "dx": 7,
          "type": "text"
         },
         "title": "Performance according to size of level 1 taxon"
        }
       ]
      },
      "image/png": "[encoded data removed]",
      "text/plain": [
       "<VegaLite 2 object>\n",
       "\n",
       "If you see this message, it means the renderer has not been properly enabled\n",
       "for the frontend that you are using. For more information, see\n",
       "https://altair-viz.github.io/user_guide/troubleshooting.html\n"
      ]
     },
     "execution_count": 19,
     "metadata": {},
     "output_type": "execute_result"
    }
   ],
   "source": [
    "bars = alt.Chart(df).mark_point().encode(\n",
    "    alt.X('dev_support:Q'),\n",
    "    alt.Y('dev_f1:Q',\n",
    "        scale=alt.Scale(zero=False)),\n",
    "    tooltip=['taxon_label:N']\n",
    ").properties(\n",
    "    title=\"Performance according to size of level 1 taxon\")\n",
    "\n",
    "text = bars.mark_text(\n",
    "    align='left',\n",
    "    baseline='middle',\n",
    "    dx=7\n",
    ").encode(\n",
    "    text='taxon_label'\n",
    ")\n",
    "\n",
    "bars + text\n"
   ]
  },
  {
   "cell_type": "code",
   "execution_count": 15,
   "metadata": {},
   "outputs": [
    {
     "data": {
      "application/vnd.vegalite.v2+json": {
       "$schema": "https://vega.github.io/schema/vega-lite/v2.6.0.json",
       "config": {
        "view": {
         "height": 300,
         "width": 400
        }
       },
       "data": {
        "name": "data-3fb27ec360cc6e510d0b3e59ece5963a"
       },
       "datasets": {
        "data-3fb27ec360cc6e510d0b3e59ece5963a": [
         {
          "dev_f1": 0.988491,
          "dev_support": 2347,
          "taxon_code": 18,
          "taxon_label": "Transport",
          "train_support": 18461
         },
         {
          "dev_f1": 0.978723,
          "dev_support": 281,
          "taxon_code": 6,
          "taxon_label": "Entering and staying in the UK",
          "train_support": 2039
         },
         {
          "dev_f1": 0.960276,
          "dev_support": 871,
          "taxon_code": 5,
          "taxon_label": "Education, training and skills",
          "train_support": 7302
         },
         {
          "dev_f1": 0.9478850000000001,
          "dev_support": 2166,
          "taxon_code": 3,
          "taxon_label": "Crime, justice and law",
          "train_support": 17968
         },
         {
          "dev_f1": 0.9430729999999999,
          "dev_support": 1470,
          "taxon_code": 10,
          "taxon_label": "Health and social care",
          "train_support": 12142
         },
         {
          "dev_f1": 0.918942,
          "dev_support": 2250,
          "taxon_code": 7,
          "taxon_label": "Environment",
          "train_support": 17840
         },
         {
          "dev_f1": 0.914493,
          "dev_support": 694,
          "taxon_code": 14,
          "taxon_label": "Money",
          "train_support": 5721
         },
         {
          "dev_f1": 0.9047350000000001,
          "dev_support": 902,
          "taxon_code": 4,
          "taxon_label": "Defence",
          "train_support": 7180
         },
         {
          "dev_f1": 0.8888889999999999,
          "dev_support": 16,
          "taxon_code": 8,
          "taxon_label": "Going and being abroad",
          "train_support": 659
         },
         {
          "dev_f1": 0.880811,
          "dev_support": 1196,
          "taxon_code": 12,
          "taxon_label": "International",
          "train_support": 9299
         },
         {
          "dev_f1": 0.872152,
          "dev_support": 799,
          "taxon_code": 11,
          "taxon_label": "Housing, local and community",
          "train_support": 6541
         },
         {
          "dev_f1": 0.8541350000000001,
          "dev_support": 3106,
          "taxon_code": 9,
          "taxon_label": "Government",
          "train_support": 24772
         },
         {
          "dev_f1": 0.82391,
          "dev_support": 338,
          "taxon_code": 19,
          "taxon_label": "Welfare",
          "train_support": 2731
         },
         {
          "dev_f1": 0.822961,
          "dev_support": 888,
          "taxon_code": 16,
          "taxon_label": "Regional and local government",
          "train_support": 6973
         },
         {
          "dev_f1": 0.8125,
          "dev_support": 13,
          "taxon_code": 13,
          "taxon_label": "Life circumstances",
          "train_support": 636
         },
         {
          "dev_f1": 0.809675,
          "dev_support": 3742,
          "taxon_code": 1,
          "taxon_label": "Business",
          "train_support": 30321
         },
         {
          "dev_f1": 0.791837,
          "dev_support": 119,
          "taxon_code": 15,
          "taxon_label": "Parenting, childcare and children's services",
          "train_support": 1292
         },
         {
          "dev_f1": 0.761905,
          "dev_support": 33,
          "taxon_code": 2,
          "taxon_label": "Corporate information",
          "train_support": 750
         },
         {
          "dev_f1": 0.741776,
          "dev_support": 1285,
          "taxon_code": 17,
          "taxon_label": "Society and culture",
          "train_support": 10574
         },
         {
          "dev_f1": 0.739869,
          "dev_support": 398,
          "taxon_code": 20,
          "taxon_label": "Work",
          "train_support": 3240
         }
        ]
       },
       "encoding": {
        "tooltip": [
         {
          "field": "taxon_label",
          "type": "nominal"
         }
        ],
        "x": {
         "field": "dev_support",
         "type": "quantitative"
        },
        "y": {
         "field": "dev_f1",
         "type": "quantitative"
        }
       },
       "mark": "point",
       "title": "Performance according to size of level 1 taxon"
      },
      "image/png": "[encoded data removed]",
      "text/plain": [
       "<VegaLite 2 object>\n",
       "\n",
       "If you see this message, it means the renderer has not been properly enabled\n",
       "for the frontend that you are using. For more information, see\n",
       "https://altair-viz.github.io/user_guide/troubleshooting.html\n"
      ]
     },
     "execution_count": 15,
     "metadata": {},
     "output_type": "execute_result"
    }
   ],
   "source": [
    "bars = alt.Chart(df).mark_point().encode(\n",
    "    x='dev_support:Q',\n",
    "    y='dev_f1:Q',\n",
    "    tooltip=['taxon_label:N']\n",
    ").properties(\n",
    "    title=\"Performance according to size of level 1 taxon\")\n",
    "\n",
    "bars\n"
   ]
  },
  {
   "cell_type": "code",
   "execution_count": null,
   "metadata": {},
   "outputs": [],
   "source": []
  }
 ],
 "metadata": {
  "kernelspec": {
   "display_name": "Python 3",
   "language": "python",
   "name": "python3"
  },
  "language_info": {
   "codemirror_mode": {
    "name": "ipython",
    "version": 3
   },
   "file_extension": ".py",
   "mimetype": "text/x-python",
   "name": "python",
   "nbconvert_exporter": "python",
   "pygments_lexer": "ipython3",
   "version": "3.6.3"
  }
 },
 "nbformat": 4,
 "nbformat_minor": 2
}
