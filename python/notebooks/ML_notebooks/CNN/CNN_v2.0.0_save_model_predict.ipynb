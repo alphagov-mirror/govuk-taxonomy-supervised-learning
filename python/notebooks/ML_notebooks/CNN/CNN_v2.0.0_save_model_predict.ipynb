{
 "cells": [
  {
   "cell_type": "markdown",
   "metadata": {},
   "source": [
    "## Convolutional NN to classify govuk content to level2 taxons"
   ]
  },
  {
   "cell_type": "markdown",
   "metadata": {},
   "source": [
    "Based on:\n",
    "https://blog.keras.io/using-pre-trained-word-embeddings-in-a-keras-model.html"
   ]
  },
  {
   "cell_type": "markdown",
   "metadata": {},
   "source": [
    "### Load requirements and data"
   ]
  },
  {
   "cell_type": "code",
   "execution_count": 8,
   "metadata": {
    "scrolled": true
   },
   "outputs": [],
   "source": [
    "import pandas as pd\n",
    "import numpy as np\n",
    "import os\n",
    "from datetime import datetime\n",
    "from keras.preprocessing.text import Tokenizer\n",
    "from keras.preprocessing.sequence import pad_sequences\n",
    "\n",
    "from keras.utils import to_categorical, layer_utils, plot_model\n",
    "\n",
    "from keras.layers import (Embedding, Input, Dense, Dropout, \n",
    "                          Activation, Conv1D, MaxPooling1D, Flatten, concatenate, Reshape)\n",
    "from keras.models import Model, Sequential\n",
    "from keras.optimizers import rmsprop\n",
    "from keras.callbacks import TensorBoard, Callback, ModelCheckpoint\n",
    "import keras.backend as K\n",
    "from keras.losses import binary_crossentropy\n",
    "\n",
    "from sklearn.preprocessing import LabelEncoder, MultiLabelBinarizer\n",
    "from sklearn.metrics import confusion_matrix, f1_score, precision_score, recall_score \n",
    "from sklearn.metrics import precision_recall_fscore_support, classification_report\n",
    "from sklearn.utils import class_weight\n",
    "\n",
    "import tensorflow as tf\n",
    "\n",
    "import matplotlib.pyplot as plt\n",
    "%matplotlib inline\n",
    "\n",
    "import functools\n",
    "\n",
    "import h5py\n",
    "\n",
    "from scipy import sparse\n",
    "import time\n"
   ]
  },
  {
   "cell_type": "markdown",
   "metadata": {},
   "source": [
    "### Environmental vars"
   ]
  },
  {
   "cell_type": "code",
   "execution_count": 9,
   "metadata": {
    "scrolled": true
   },
   "outputs": [],
   "source": [
    "DATADIR = os.getenv('DATADIR')"
   ]
  },
  {
   "cell_type": "markdown",
   "metadata": {},
   "source": [
    "### Print data version"
   ]
  },
  {
   "cell_type": "code",
   "execution_count": 10,
   "metadata": {},
   "outputs": [
    {
     "name": "stdout",
     "output_type": "stream",
     "text": [
      "algorithm running on data extracted from content store on /data/2018-03-21\n"
     ]
    }
   ],
   "source": [
    "print('algorithm running on data extracted from content store on {}'.format(DATADIR))"
   ]
  },
  {
   "cell_type": "markdown",
   "metadata": {},
   "source": [
    "## Hyperparameters"
   ]
  },
  {
   "cell_type": "markdown",
   "metadata": {},
   "source": [
    "Intuition for POS_RATIO is that it penalises the prediction of zero for everything, which is attractive to the model because the multilabel y matrix is super sparse. \n",
    "\n",
    "Increasing POS_RATIO should penalise predicting zeros more."
   ]
  },
  {
   "cell_type": "code",
   "execution_count": 11,
   "metadata": {
    "scrolled": true
   },
   "outputs": [],
   "source": [
    "#MAX_NB_WORDS\n",
    "MAX_SEQUENCE_LENGTH =1000\n",
    "EMBEDDING_DIM = 100 # keras embedding layer output_dim = Dimension of the dense embedding\n",
    "P_THRESHOLD = 0.5 #Threshold for probability of being assigned to class\n",
    "POS_RATIO = 0.5 #ratio of positive to negative for each class in weighted binary cross entropy loss function\n",
    "NUM_WORDS=20000 #keras tokenizer num_words: None or int. Maximum number of words to work with \n",
    "#(if set, tokenization will be restricted to the top num_words most common words in the dataset)."
   ]
  },
  {
   "cell_type": "markdown",
   "metadata": {},
   "source": [
    "### Read in data"
   ]
  },
  {
   "cell_type": "code",
   "execution_count": 12,
   "metadata": {
    "scrolled": true
   },
   "outputs": [],
   "source": [
    "train = np.load(os.path.join(DATADIR, 'train_arrays.npz'))"
   ]
  },
  {
   "cell_type": "code",
   "execution_count": 13,
   "metadata": {},
   "outputs": [
    {
     "data": {
      "text/plain": [
       "['x', 'meta', 'title', 'desc', 'y', 'content_id']"
      ]
     },
     "execution_count": 13,
     "metadata": {},
     "output_type": "execute_result"
    }
   ],
   "source": [
    "train.files"
   ]
  },
  {
   "cell_type": "code",
   "execution_count": 14,
   "metadata": {},
   "outputs": [
    {
     "name": "stdout",
     "output_type": "stream",
     "text": [
      "x_train.shape = (178809, 1000)\n",
      "meta_train.shape = (178809, 540)\n",
      "title_train.shape = (178809, 10000)\n",
      "desc_train.shape = (178809, 10000)\n",
      "y_train.shape = (178809, 217)\n"
     ]
    }
   ],
   "source": [
    "x_train = train['x']\n",
    "meta_train = train['meta'].all().todense()\n",
    "title_train = train['title'].all().todense()\n",
    "desc_train = train['desc'].all().todense()\n",
    "y_train = train['y'].all().todense()\n",
    "\n",
    "print('x_train.shape = {}'.format(x_train.shape))\n",
    "print('meta_train.shape = {}'.format(meta_train.shape))\n",
    "print('title_train.shape = {}'.format(title_train.shape))\n",
    "print('desc_train.shape = {}'.format(desc_train.shape))\n",
    "print('y_train.shape = {}'.format(y_train.shape))"
   ]
  },
  {
   "cell_type": "code",
   "execution_count": 15,
   "metadata": {
    "scrolled": true
   },
   "outputs": [],
   "source": [
    "dev = np.load(os.path.join(DATADIR, 'dev_arrays.npz'))"
   ]
  },
  {
   "cell_type": "code",
   "execution_count": 16,
   "metadata": {},
   "outputs": [
    {
     "name": "stdout",
     "output_type": "stream",
     "text": [
      "x_dev.shape = (12913, 1000)\n",
      "meta_dev.shape = (12913, 540)\n",
      "title_dev.shape = (12913, 10000)\n",
      "desc_dev.shape = (12913, 10000)\n",
      "y_dev.shape = (12913, 217)\n"
     ]
    }
   ],
   "source": [
    "x_dev = dev['x']\n",
    "meta_dev = dev['meta'].all().todense()\n",
    "title_dev = dev['title'].all().todense()\n",
    "desc_dev = dev['desc'].all().todense()\n",
    "y_dev = dev['y'].all().todense()\n",
    "\n",
    "print('x_dev.shape = {}'.format(x_dev.shape))\n",
    "print('meta_dev.shape = {}'.format(meta_dev.shape))\n",
    "print('title_dev.shape = {}'.format(title_dev.shape))\n",
    "print('desc_dev.shape = {}'.format(desc_dev.shape))\n",
    "print('y_dev.shape = {}'.format(y_dev.shape))"
   ]
  },
  {
   "cell_type": "code",
   "execution_count": 17,
   "metadata": {
    "scrolled": true
   },
   "outputs": [],
   "source": [
    "test = np.load(os.path.join(DATADIR, 'test_arrays.npz'))"
   ]
  },
  {
   "cell_type": "code",
   "execution_count": 18,
   "metadata": {},
   "outputs": [
    {
     "name": "stdout",
     "output_type": "stream",
     "text": [
      "x_test.shape = (12915, 1000)\n",
      "meta_test.shape = (12915, 540)\n",
      "title_test.shape = (12915, 10000)\n",
      "desc_test.shape = (12915, 10000)\n",
      "y_test.shape = (12915, 217)\n"
     ]
    }
   ],
   "source": [
    "x_test = test['x']\n",
    "meta_test = test['meta'].all().todense()\n",
    "title_test = test['title'].all().todense()\n",
    "desc_test = test['desc'].all().todense()\n",
    "y_test = test['y'].all().todense()\n",
    "\n",
    "print('x_test.shape = {}'.format(x_test.shape))\n",
    "print('meta_test.shape = {}'.format(meta_test.shape))\n",
    "print('title_test.shape = {}'.format(title_test.shape))\n",
    "print('desc_test.shape = {}'.format(desc_test.shape))\n",
    "print('y_test.shape = {}'.format(y_test.shape))"
   ]
  },
  {
   "cell_type": "markdown",
   "metadata": {
    "scrolled": true
   },
   "source": [
    "#### previous shapes in old data \n",
    "Shape of x_train: (150870, 1000)\n",
    "Shape of metax_train: (150870, 436)\n",
    "Shape of titlex_train: (150870, 10000)\n",
    "Shape of descx_train: (150870, 10000)\n",
    "Shape of y_train: (150870, 210)\n",
    "\n",
    "Shape of x_dev: (9234, 1000)\n",
    "Shape of meta_dev: (9234, 436)\n",
    "Shape of titlex_dev: (9234, 10000)\n",
    "Shape of descx_dev: (9234, 10000)\n",
    "Shape of y_dev: (9234, 210)\n",
    "\n",
    "Shape of x_test: (9234, 1000)\n",
    "Shape of metax_test: (9234, 436)\n",
    "Shape of titlex_test: (9234, 10000)\n",
    "Shape of descx_test: (9234, 10000)\n",
    "Shape of y_test: (9234, 210)"
   ]
  },
  {
   "cell_type": "markdown",
   "metadata": {},
   "source": [
    "### preparing the Embedding layer\n"
   ]
  },
  {
   "cell_type": "code",
   "execution_count": 19,
   "metadata": {},
   "outputs": [],
   "source": [
    "import json\n",
    "from collections import OrderedDict\n",
    "\n",
    "def load_tokenizer_from_file(filename):\n",
    "    \n",
    "    tokenizer = Tokenizer()\n",
    "\n",
    "    with open(filename, 'r') as infile:\n",
    "        tokenizer_data = json.load(infile)\n",
    "\n",
    "    tokenizer.word_counts = OrderedDict(tokenizer_data['word_counts'])\n",
    "    tokenizer.word_docs = tokenizer_data['word_docs']\n",
    "    tokenizer.word_index = tokenizer_data['word_index']\n",
    "    tokenizer.document_count = tokenizer_data['document_count']\n",
    "    tokenizer.index_docs = tokenizer_data['index_docs']\n",
    "\n",
    "    return tokenizer\n",
    "\n",
    "tokenizer_combined_text = load_tokenizer_from_file(os.path.join(DATADIR, \"combined_text_tokenizer.json\"))"
   ]
  },
  {
   "cell_type": "code",
   "execution_count": 20,
   "metadata": {
    "scrolled": true
   },
   "outputs": [],
   "source": [
    "embedding_layer = Embedding(len(tokenizer_combined_text.word_index) + 1, \n",
    "                            EMBEDDING_DIM, \n",
    "                            input_length=MAX_SEQUENCE_LENGTH)"
   ]
  },
  {
   "cell_type": "markdown",
   "metadata": {},
   "source": [
    "An Embedding layer should be fed sequences of integers, i.e. a 2D input of shape (samples, indices). These input sequences should be padded so that they all have the same length in a batch of input data (although an Embedding layer is capable of processing sequence of heterogenous length, if you don't pass an explicit input_length argument to the layer).\n",
    "\n",
    "All that the Embedding layer does is to map the integer inputs to the vectors found at the corresponding index in the embedding matrix, i.e. the sequence [1, 2] would be converted to [embeddings[1], embeddings[2]]. This means that the output of the Embedding layer will be a 3D tensor of shape (samples, sequence_length, embedding_dim)."
   ]
  },
  {
   "cell_type": "markdown",
   "metadata": {},
   "source": [
    "### Estimate class weights for unbalanced datasets.\n",
    "paramter to model.fit = __class_weight__: Optional dictionary mapping class indices (integers) to a weight (float) value, used for weighting the loss function (during training only). This can be useful to tell the model to \"pay more attention\" to samples from an under-represented class.\n",
    "\n",
    "Implement class_weight from sklearn:\n",
    "\n",
    "- Import the module \n",
    "\n",
    "`from sklearn.utils import class_weight`\n",
    "- calculate the class weight, If ‘balanced’, class weights will be given by n_samples / (n_classes * np.bincount(y)):\n",
    "\n",
    "`class_weight = class_weight.compute_class_weight('balanced', np.unique(y_train), y_train)`\n",
    "\n",
    "- change it to a dict in order to work with Keras.\n",
    "\n",
    "`class_weight_dict = dict(enumerate(class_weight))`\n",
    "\n",
    "- Add to model fitting\n",
    "\n",
    "`model.fit(X_train, y_train, class_weight=class_weight)`"
   ]
  },
  {
   "cell_type": "code",
   "execution_count": 21,
   "metadata": {
    "scrolled": true
   },
   "outputs": [],
   "source": [
    "# class_weight = class_weight.compute_class_weight('balanced', np.unique(y_train), y_train)\n",
    "# class_weight_dict = dict(enumerate(class_weight))"
   ]
  },
  {
   "cell_type": "markdown",
   "metadata": {},
   "source": [
    "### Custom loss function"
   ]
  },
  {
   "cell_type": "code",
   "execution_count": 22,
   "metadata": {
    "scrolled": true
   },
   "outputs": [
    {
     "name": "stdout",
     "output_type": "stream",
     "text": [
      "4.00756\n",
      "8.01512\n"
     ]
    }
   ],
   "source": [
    "class WeightedBinaryCrossEntropy(object):\n",
    "\n",
    "    def __init__(self, pos_ratio):\n",
    "        neg_ratio = 1. - pos_ratio\n",
    "        #self.pos_ratio = tf.constant(pos_ratio, tf.float32)\n",
    "        self.pos_ratio = pos_ratio\n",
    "        #self.weights = tf.constant(neg_ratio / pos_ratio, tf.float32)\n",
    "        self.weights = neg_ratio / pos_ratio\n",
    "        self.__name__ = \"weighted_binary_crossentropy({0})\".format(pos_ratio)\n",
    "\n",
    "    def __call__(self, y_true, y_pred):\n",
    "        return self.weighted_binary_crossentropy(y_true, y_pred)\n",
    "\n",
    "    def weighted_binary_crossentropy(self, y_true, y_pred):\n",
    "            # Transform to logits\n",
    "            epsilon = tf.convert_to_tensor(K.common._EPSILON, y_pred.dtype.base_dtype)\n",
    "            y_pred = tf.clip_by_value(y_pred, epsilon, 1 - epsilon)\n",
    "            y_pred = tf.log(y_pred / (1 - y_pred))\n",
    "\n",
    "            cost = tf.nn.weighted_cross_entropy_with_logits(y_true, y_pred, self.weights)\n",
    "            return K.mean(cost * self.pos_ratio, axis=-1)\n",
    "    \n",
    "y_true_arr = np.array([0,1,0,1], dtype=\"float32\")\n",
    "y_pred_arr = np.array([0,0,1,1], dtype=\"float32\")\n",
    "y_true = tf.constant(y_true_arr)\n",
    "y_pred = tf.constant(y_pred_arr)\n",
    "\n",
    "with tf.Session().as_default(): \n",
    "    print(WeightedBinaryCrossEntropy(0.5)(y_true, y_pred).eval())\n",
    "    print(binary_crossentropy(y_true, y_pred).eval())\n"
   ]
  },
  {
   "cell_type": "markdown",
   "metadata": {},
   "source": [
    "### difficulty getting global precision/recall metrics . CAUTION interpreting monitoring metrics\n",
    "fcholltet: \"Basically these are all global metrics that were approximated\n",
    "batch-wise, which is more misleading than helpful. This was mentioned in\n",
    "the docs but it's much cleaner to remove them altogether. It was a mistake\n",
    "to merge them in the first place.\""
   ]
  },
  {
   "cell_type": "code",
   "execution_count": 23,
   "metadata": {
    "scrolled": true
   },
   "outputs": [],
   "source": [
    "def f1(y_true, y_pred):\n",
    "    \"\"\"Use Recall  and precision metrics to calculate harmonic mean (F1 score).\n",
    "\n",
    "        Only computes a batch-wise average of recall.\n",
    "\n",
    "        Computes the recall, a metric for multi-label classification of\n",
    "        how many relevant items are selected.\n",
    "        \"\"\"\n",
    "    true_positives = K.sum(K.round(K.clip(y_true * y_pred, 0, 1)))\n",
    "    predicted_positives = K.sum(K.round(K.clip(y_pred, 0, 1)))\n",
    "    possible_positives = K.sum(K.round(K.clip(y_true, 0, 1)))\n",
    "    precision = true_positives / (predicted_positives + K.epsilon())\n",
    "    recall = true_positives / (possible_positives + K.epsilon())\n",
    "    f1 = 2*((precision*recall)/(precision+recall))\n",
    "    \n",
    "    return f1"
   ]
  },
  {
   "cell_type": "markdown",
   "metadata": {},
   "source": [
    "## Training a 1D convnet"
   ]
  },
  {
   "cell_type": "markdown",
   "metadata": {},
   "source": [
    "### 1. Create model"
   ]
  },
  {
   "cell_type": "code",
   "execution_count": 24,
   "metadata": {
    "scrolled": true
   },
   "outputs": [],
   "source": [
    "NB_CLASSES = y_train.shape[1]\n",
    "NB_METAVARS = meta_train.shape[1]\n",
    "\n",
    "\n",
    "\n",
    "sequence_input = Input(shape=(MAX_SEQUENCE_LENGTH,), dtype='int32', name='wordindex') #MAX_SEQUENCE_LENGTH\n",
    "embedded_sequences = embedding_layer(sequence_input)\n",
    "x = Dropout(0.2, name = 'dropout_embedded')(embedded_sequences)\n",
    "\n",
    "x = Conv1D(128, 5, activation='relu', name = 'conv0')(x)\n",
    "\n",
    "x = MaxPooling1D(5, name = 'max_pool0')(x)\n",
    "\n",
    "x = Dropout(0.5, name = 'dropout0')(x)\n",
    "\n",
    "x = Conv1D(128, 5, activation='relu', name = 'conv1')(x)\n",
    "\n",
    "x = MaxPooling1D(5 , name = 'max_pool1')(x)\n",
    "\n",
    "x = Conv1D(128, 5, activation='relu', name = 'conv2')(x)\n",
    "\n",
    "x = MaxPooling1D(35, name = 'global_max_pool')(x)  # global max pooling\n",
    "\n",
    "x = Flatten()(x) #reduce dimensions from 3 to 2; convert to vector + FULLYCONNECTED\n",
    "\n",
    "meta_input = Input(shape=(NB_METAVARS,), name='meta')\n",
    "meta_hidden = Dense(128, activation='relu', name = 'hidden_meta')(meta_input)\n",
    "meta_hidden = Dropout(0.2, name = 'dropout_meta')(meta_hidden)\n",
    "\n",
    "\n",
    "title_input = Input(shape=(title_train.shape[1],), name='titles')\n",
    "title_hidden = Dense(128, activation='relu', name = 'hidden_title')(title_input)\n",
    "title_hidden = Dropout(0.2, name = 'dropout_title')(title_hidden)\n",
    "\n",
    "desc_input = Input(shape=(desc_train.shape[1],), name='descs')\n",
    "desc_hidden = Dense(128, activation='relu', name = 'hidden_desc')(desc_input)\n",
    "desc_hidden = Dropout(0.2, name = 'dropout_desc')(desc_hidden)\n",
    "\n",
    "concatenated = concatenate([meta_hidden, title_hidden, desc_hidden, x])\n",
    "\n",
    "x = Dense(400, activation='relu', name = 'fully_connected0')(concatenated)\n",
    "\n",
    "x = Dropout(0.2, name = 'dropout1')(x)\n",
    "\n",
    "x = Dense(NB_CLASSES, activation='sigmoid', name = 'fully_connected1')(x)\n",
    "\n",
    "# # The Model class turns an input tensor and output tensor into a model\n",
    "# This creates Keras model instance, will use this instance to train/test the model.\n",
    "model = Model(inputs=[meta_input, title_input, desc_input, sequence_input], outputs=x)"
   ]
  },
  {
   "cell_type": "code",
   "execution_count": 25,
   "metadata": {
    "scrolled": true
   },
   "outputs": [
    {
     "name": "stdout",
     "output_type": "stream",
     "text": [
      "__________________________________________________________________________________________________\n",
      "Layer (type)                    Output Shape         Param #     Connected to                     \n",
      "==================================================================================================\n",
      "wordindex (InputLayer)          (None, 1000)         0                                            \n",
      "__________________________________________________________________________________________________\n",
      "embedding_1 (Embedding)         (None, 1000, 100)    34758000    wordindex[0][0]                  \n",
      "__________________________________________________________________________________________________\n",
      "dropout_embedded (Dropout)      (None, 1000, 100)    0           embedding_1[0][0]                \n",
      "__________________________________________________________________________________________________\n",
      "conv0 (Conv1D)                  (None, 996, 128)     64128       dropout_embedded[0][0]           \n",
      "__________________________________________________________________________________________________\n",
      "max_pool0 (MaxPooling1D)        (None, 199, 128)     0           conv0[0][0]                      \n",
      "__________________________________________________________________________________________________\n",
      "dropout0 (Dropout)              (None, 199, 128)     0           max_pool0[0][0]                  \n",
      "__________________________________________________________________________________________________\n",
      "conv1 (Conv1D)                  (None, 195, 128)     82048       dropout0[0][0]                   \n",
      "__________________________________________________________________________________________________\n",
      "max_pool1 (MaxPooling1D)        (None, 39, 128)      0           conv1[0][0]                      \n",
      "__________________________________________________________________________________________________\n",
      "meta (InputLayer)               (None, 540)          0                                            \n",
      "__________________________________________________________________________________________________\n",
      "titles (InputLayer)             (None, 10000)        0                                            \n",
      "__________________________________________________________________________________________________\n",
      "descs (InputLayer)              (None, 10000)        0                                            \n",
      "__________________________________________________________________________________________________\n",
      "conv2 (Conv1D)                  (None, 35, 128)      82048       max_pool1[0][0]                  \n",
      "__________________________________________________________________________________________________\n",
      "hidden_meta (Dense)             (None, 128)          69248       meta[0][0]                       \n",
      "__________________________________________________________________________________________________\n",
      "hidden_title (Dense)            (None, 128)          1280128     titles[0][0]                     \n",
      "__________________________________________________________________________________________________\n",
      "hidden_desc (Dense)             (None, 128)          1280128     descs[0][0]                      \n",
      "__________________________________________________________________________________________________\n",
      "global_max_pool (MaxPooling1D)  (None, 1, 128)       0           conv2[0][0]                      \n",
      "__________________________________________________________________________________________________\n",
      "dropout_meta (Dropout)          (None, 128)          0           hidden_meta[0][0]                \n",
      "__________________________________________________________________________________________________\n",
      "dropout_title (Dropout)         (None, 128)          0           hidden_title[0][0]               \n",
      "__________________________________________________________________________________________________\n",
      "dropout_desc (Dropout)          (None, 128)          0           hidden_desc[0][0]                \n",
      "__________________________________________________________________________________________________\n",
      "flatten_1 (Flatten)             (None, 128)          0           global_max_pool[0][0]            \n",
      "__________________________________________________________________________________________________\n",
      "concatenate_1 (Concatenate)     (None, 512)          0           dropout_meta[0][0]               \n",
      "                                                                 dropout_title[0][0]              \n",
      "                                                                 dropout_desc[0][0]               \n",
      "                                                                 flatten_1[0][0]                  \n",
      "__________________________________________________________________________________________________\n",
      "fully_connected0 (Dense)        (None, 400)          205200      concatenate_1[0][0]              \n",
      "__________________________________________________________________________________________________\n",
      "dropout1 (Dropout)              (None, 400)          0           fully_connected0[0][0]           \n",
      "__________________________________________________________________________________________________\n",
      "fully_connected1 (Dense)        (None, 217)          87017       dropout1[0][0]                   \n",
      "==================================================================================================\n",
      "Total params: 37,907,945\n",
      "Trainable params: 37,907,945\n",
      "Non-trainable params: 0\n",
      "__________________________________________________________________________________________________\n"
     ]
    }
   ],
   "source": [
    "model.summary()"
   ]
  },
  {
   "cell_type": "markdown",
   "metadata": {},
   "source": [
    "### Tensorboard callbacks /metrics /monitor training"
   ]
  },
  {
   "cell_type": "markdown",
   "metadata": {},
   "source": [
    "<span style=\"color:red\"> **Size of these files is killing storage during training. Is it histograms?**</span>"
   ]
  },
  {
   "cell_type": "code",
   "execution_count": 26,
   "metadata": {
    "scrolled": true
   },
   "outputs": [],
   "source": [
    "tb = TensorBoard(log_dir='./learn_embedding_logs', histogram_freq=1, write_graph=True, write_images=False)"
   ]
  },
  {
   "cell_type": "code",
   "execution_count": 27,
   "metadata": {
    "scrolled": true
   },
   "outputs": [],
   "source": [
    "CHECKPOINT_PATH = os.path.join(DATADIR, 'model_checkpoint.hdf5')\n",
    "\n",
    "cp = ModelCheckpoint(\n",
    "                     filepath = CHECKPOINT_PATH, \n",
    "                     monitor='val_loss', \n",
    "                     verbose=0, \n",
    "                     save_best_only=False, \n",
    "                     save_weights_only=False, \n",
    "                     mode='auto', \n",
    "                     period=1\n",
    "                    )"
   ]
  },
  {
   "cell_type": "code",
   "execution_count": 28,
   "metadata": {
    "scrolled": true
   },
   "outputs": [],
   "source": [
    "from keras.callbacks import EarlyStopping\n",
    "early_stopping = EarlyStopping(monitor='val_loss', patience=2)\n",
    "#model.fit(x, y, validation_split=0.2, callbacks=[early_stopping])"
   ]
  },
  {
   "cell_type": "markdown",
   "metadata": {},
   "source": [
    "### 2 & 3. Train & compile model"
   ]
  },
  {
   "cell_type": "code",
   "execution_count": 29,
   "metadata": {
    "scrolled": true
   },
   "outputs": [
    {
     "name": "stdout",
     "output_type": "stream",
     "text": [
      "Train on 178809 samples, validate on 12913 samples\n",
      "Epoch 1/10\n",
      "178809/178809 [==============================] - 188s 1ms/step - loss: 0.0086 - binary_accuracy: 0.9951 - f1: nan - val_loss: 0.0040 - val_binary_accuracy: 0.9973 - val_f1: 0.7775\n",
      "Epoch 2/10\n",
      "178809/178809 [==============================] - 182s 1ms/step - loss: 0.0030 - binary_accuracy: 0.9980 - f1: 0.8649 - val_loss: 0.0035 - val_binary_accuracy: 0.9976 - val_f1: 0.8074\n",
      "Epoch 3/10\n",
      "178809/178809 [==============================] - 182s 1ms/step - loss: 0.0023 - binary_accuracy: 0.9985 - f1: 0.8995 - val_loss: 0.0035 - val_binary_accuracy: 0.9976 - val_f1: 0.8149\n",
      "Epoch 4/10\n",
      "178809/178809 [==============================] - 182s 1ms/step - loss: 0.0019 - binary_accuracy: 0.9987 - f1: 0.9165 - val_loss: 0.0034 - val_binary_accuracy: 0.9978 - val_f1: 0.8231\n",
      "Epoch 5/10\n",
      "178809/178809 [==============================] - 182s 1ms/step - loss: 0.0017 - binary_accuracy: 0.9989 - f1: 0.9260 - val_loss: 0.0034 - val_binary_accuracy: 0.9978 - val_f1: 0.8276\n",
      "Epoch 6/10\n",
      "178809/178809 [==============================] - 182s 1ms/step - loss: 0.0016 - binary_accuracy: 0.9989 - f1: 0.9321 - val_loss: 0.0037 - val_binary_accuracy: 0.9978 - val_f1: 0.8270\n"
     ]
    }
   ],
   "source": [
    "model.compile(loss=WeightedBinaryCrossEntropy(POS_RATIO),\n",
    "              optimizer='rmsprop',\n",
    "              metrics=['binary_accuracy', f1])\n",
    "\n",
    "# This `fit` call will be distributed on 8 GPUs.\n",
    "# Since the batch size is 256, each GPU will process 32 samples.\n",
    "history = model.fit(\n",
    "    {'meta': meta_train, 'titles': title_train, 'descs': desc_train, 'wordindex': x_train},\n",
    "    y_train, \n",
    "    validation_data=([meta_dev, title_dev, desc_dev, x_dev], y_dev), \n",
    "    epochs=10, batch_size=128, callbacks=[early_stopping]\n",
    ")\n",
    "\n"
   ]
  },
  {
   "cell_type": "code",
   "execution_count": 30,
   "metadata": {
    "scrolled": true
   },
   "outputs": [
    {
     "data": {
      "text/plain": [
       "dict_keys(['val_loss', 'val_binary_accuracy', 'val_f1', 'loss', 'binary_accuracy', 'f1'])"
      ]
     },
     "execution_count": 30,
     "metadata": {},
     "output_type": "execute_result"
    }
   ],
   "source": [
    "history_dict = history.history\n",
    "history_dict.keys()"
   ]
  },
  {
   "cell_type": "code",
   "execution_count": null,
   "metadata": {},
   "outputs": [],
   "source": []
  },
  {
   "cell_type": "code",
   "execution_count": 31,
   "metadata": {
    "scrolled": true
   },
   "outputs": [
    {
     "data": {
      "image/png": "[encoded data removed]",
      "text/plain": [
       "<matplotlib.figure.Figure at 0x7f8c4fe75278>"
      ]
     },
     "metadata": {},
     "output_type": "display_data"
    }
   ],
   "source": [
    "loss_values = history_dict['loss']\n",
    "val_loss_values = history_dict['val_loss']\n",
    "\n",
    "\n",
    "\n",
    "plt.plot(range(len(loss_values)), loss_values, 'bo', label='Training loss')           \n",
    "plt.plot(range(len(val_loss_values)), val_loss_values, 'b', label='Validation loss')      \n",
    "plt.title('Training and validation loss')\n",
    "plt.xlabel('Epochs')\n",
    "plt.ylabel('Loss')\n",
    "plt.legend()\n",
    "\n",
    "plt.show()"
   ]
  },
  {
   "cell_type": "code",
   "execution_count": 32,
   "metadata": {
    "scrolled": true
   },
   "outputs": [
    {
     "data": {
      "image/png": "[encoded data removed]",
      "text/plain": [
       "<matplotlib.figure.Figure at 0x7f8c4fa1e278>"
      ]
     },
     "metadata": {},
     "output_type": "display_data"
    }
   ],
   "source": [
    "plt.clf()    \n",
    "\n",
    "f1_values = history_dict['f1']\n",
    "val_f1_values = history_dict['val_f1']\n",
    "\n",
    "plt.plot(range(len(f1_values)), f1_values, 'bo', label='Training f1')\n",
    "plt.plot(range(len(val_f1_values)), val_f1_values, 'b', label='Validation f1')\n",
    "plt.title('Training and validation batch-level f1-micro')\n",
    "plt.xlabel('Epochs')\n",
    "plt.ylabel('F1-micro')\n",
    "plt.legend()\n",
    "\n",
    "plt.show()"
   ]
  },
  {
   "cell_type": "markdown",
   "metadata": {},
   "source": [
    "### Save results arrays"
   ]
  },
  {
   "cell_type": "code",
   "execution_count": 33,
   "metadata": {},
   "outputs": [],
   "source": [
    "def to_file(array,name):\n",
    "    df = pd.DataFrame(data = array.tolist(),columns=[i for i in range(1,y_train.shape[1]+1)])\n",
    "    df.to_csv(os.path.join(DATADIR, name+'.csv.gz'),compression='gzip',index=False)"
   ]
  },
  {
   "cell_type": "code",
   "execution_count": 34,
   "metadata": {},
   "outputs": [
    {
     "data": {
      "text/plain": [
       "'_1255_2103_'"
      ]
     },
     "execution_count": 34,
     "metadata": {},
     "output_type": "execute_result"
    }
   ],
   "source": [
    "date_run = time.strftime(\"_%H%M_%d%m_\")\n",
    "date_run"
   ]
  },
  {
   "cell_type": "code",
   "execution_count": 35,
   "metadata": {},
   "outputs": [],
   "source": [
    "y_prob = model.predict([meta_train, title_train, desc_train, x_train])"
   ]
  },
  {
   "cell_type": "code",
   "execution_count": 36,
   "metadata": {},
   "outputs": [],
   "source": [
    "to_file(y_prob,\"train_results\"+date_run)"
   ]
  },
  {
   "cell_type": "code",
   "execution_count": 37,
   "metadata": {},
   "outputs": [],
   "source": [
    "y_pred = y_prob.copy()\n",
    "y_pred[y_pred>=P_THRESHOLD] = 1\n",
    "y_pred[y_pred<P_THRESHOLD] = 0"
   ]
  },
  {
   "cell_type": "code",
   "execution_count": 38,
   "metadata": {
    "scrolled": true
   },
   "outputs": [
    {
     "name": "stdout",
     "output_type": "stream",
     "text": [
      "micro: (0.96552665598694754, 0.95143676763747753, 0.95842993071110905, None)\n",
      "macro: (0.97705776181177462, 0.97049648772145003, 0.97340537192087695, None)\n",
      "weightedmacro: (0.96559402583071252, 0.95143676763747753, 0.95805487855414162, None)\n"
     ]
    }
   ],
   "source": [
    "print('micro: {}'.format(precision_recall_fscore_support(y_train, y_pred, average='micro', sample_weight=None)))\n",
    "print('macro: {}'.format(precision_recall_fscore_support(y_train, y_pred, average='macro', sample_weight=None)))\n",
    "print('weightedmacro: {}'.format(precision_recall_fscore_support(y_train, y_pred, average='weighted', sample_weight=None)))"
   ]
  },
  {
   "cell_type": "code",
   "execution_count": 39,
   "metadata": {},
   "outputs": [],
   "source": [
    "y_prob_dev = model.predict([meta_dev, title_dev, desc_dev, x_dev])"
   ]
  },
  {
   "cell_type": "code",
   "execution_count": 40,
   "metadata": {},
   "outputs": [],
   "source": [
    "to_file(y_prob_dev,\"dev_results\"+date_run)"
   ]
  },
  {
   "cell_type": "code",
   "execution_count": 41,
   "metadata": {},
   "outputs": [],
   "source": [
    "y_pred_dev = y_prob_dev.copy()\n",
    "y_pred_dev[y_pred_dev>=P_THRESHOLD] = 1\n",
    "y_pred_dev[y_pred_dev<P_THRESHOLD] = 0"
   ]
  },
  {
   "cell_type": "code",
   "execution_count": 42,
   "metadata": {},
   "outputs": [
    {
     "name": "stdout",
     "output_type": "stream",
     "text": [
      "micro: (0.84620297259637711, 0.80895820613864688, 0.827161544791578, None)\n",
      "macro: (0.76523856545784863, 0.81719615325911166, 0.78168519384474788, None)\n",
      "weightedmacro: (0.85004933739745747, 0.80895820613864688, 0.82596224389495732, None)\n"
     ]
    },
    {
     "name": "stderr",
     "output_type": "stream",
     "text": [
      "/home/ubuntu/anaconda3/envs/tensorflow_p36/lib/python3.6/site-packages/sklearn/metrics/classification.py:1135: UndefinedMetricWarning: Precision and F-score are ill-defined and being set to 0.0 in labels with no predicted samples.\n",
      "  'precision', 'predicted', average, warn_for)\n",
      "/home/ubuntu/anaconda3/envs/tensorflow_p36/lib/python3.6/site-packages/sklearn/metrics/classification.py:1137: UndefinedMetricWarning: Recall and F-score are ill-defined and being set to 0.0 in labels with no true samples.\n",
      "  'recall', 'true', average, warn_for)\n"
     ]
    }
   ],
   "source": [
    "print('micro: {}'.format(precision_recall_fscore_support(y_dev, y_pred_dev, average='micro', sample_weight=None)))\n",
    "print('macro: {}'.format(precision_recall_fscore_support(y_dev, y_pred_dev, average='macro', sample_weight=None)))\n",
    "print('weightedmacro: {}'.format(precision_recall_fscore_support(y_dev, y_pred_dev, average='weighted', sample_weight=None)))"
   ]
  },
  {
   "cell_type": "code",
   "execution_count": 43,
   "metadata": {},
   "outputs": [
    {
     "name": "stdout",
     "output_type": "stream",
     "text": [
      "weightedmacro: (array([ 1.        ,  1.        ,  0.93913043,  0.63333333,  1.        ,\n",
      "        0.73809524,  0.8125    ,  0.80555556,  0.        ,  0.90625   ,\n",
      "        1.        ,  0.99770379,  0.        ,  1.        ,  0.52631579,\n",
      "        0.        ,  0.72      ,  1.        ,  1.        ,  0.85211268,\n",
      "        0.86550778,  0.71563981,  0.77826087,  0.        ,  1.        ,\n",
      "        1.        ,  0.5       ,  1.        ,  1.        ,  0.85      ,\n",
      "        0.77777778,  0.8       ,  0.6       ,  1.        ,  0.55555556,\n",
      "        0.85150376,  0.75      ,  0.55      ,  0.80918728,  0.92857143,\n",
      "        0.78723404,  0.        ,  0.5625    ,  0.85964912,  1.        ,\n",
      "        1.        ,  0.73333333,  0.81818182,  0.        ,  0.90909091,\n",
      "        0.82269504,  1.        ,  1.        ,  0.35714286,  0.        ,\n",
      "        0.83333333,  1.        ,  0.        ,  0.92569659,  0.78571429,\n",
      "        0.76388889,  0.8125    ,  0.66666667,  0.88888889,  0.64516129,\n",
      "        1.        ,  0.78443114,  0.7755102 ,  1.        ,  1.        ,\n",
      "        0.56      ,  1.        ,  0.8       ,  1.        ,  0.75471698,\n",
      "        0.85714286,  0.93877551,  0.81314879,  0.        ,  0.87084871,\n",
      "        0.        ,  0.71794872,  0.86666667,  0.90510949,  0.88141391,\n",
      "        1.        ,  0.        ,  0.79699248,  0.        ,  1.        ,\n",
      "        1.        ,  0.53571429,  0.        ,  0.89489489,  0.83333333,\n",
      "        0.80208333,  1.        ,  1.        ,  1.        ,  0.875     ,\n",
      "        0.71428571,  0.84615385,  0.92307692,  0.64285714,  1.        ,\n",
      "        0.86363636,  0.85714286,  0.75      ,  1.        ,  0.71428571,\n",
      "        0.94444444,  0.75      ,  0.42857143,  1.        ,  1.        ,\n",
      "        1.        ,  0.66666667,  1.        ,  0.6       ,  0.76036866,\n",
      "        0.79545455,  0.86666667,  0.68181818,  0.6875    ,  0.89230769,\n",
      "        0.98039216,  1.        ,  0.76923077,  0.5       ,  0.93939394,\n",
      "        1.        ,  1.        ,  1.        ,  1.        ,  0.83333333,\n",
      "        0.80313199,  0.73076923,  0.83953033,  0.84      ,  1.        ,\n",
      "        0.88888889,  0.        ,  1.        ,  0.8       ,  0.81927711,\n",
      "        0.94117647,  0.79807692,  0.9245283 ,  0.66666667,  0.5       ,\n",
      "        1.        ,  0.66666667,  0.93914807,  0.        ,  1.        ,\n",
      "        0.        ,  0.875     ,  0.9330855 ,  0.49152542,  1.        ,\n",
      "        1.        ,  1.        ,  0.88114754,  0.86075949,  0.83615819,\n",
      "        0.84444444,  0.76      ,  0.85      ,  0.96638655,  0.88235294,\n",
      "        0.87234043,  0.75      ,  0.        ,  0.22222222,  0.66666667,\n",
      "        0.81578947,  0.83333333,  0.85576923,  0.85714286,  1.        ,\n",
      "        0.        ,  0.92857143,  1.        ,  0.72222222,  0.88888889,\n",
      "        0.84      ,  0.87878788,  0.71428571,  0.7       ,  0.79763912,\n",
      "        0.84615385,  0.81395349,  1.        ,  0.81818182,  1.        ,\n",
      "        1.        ,  0.62159329,  1.        ,  0.54901961,  0.        ,\n",
      "        0.8       ,  0.88235294,  0.87012987,  1.        ,  0.        ,\n",
      "        0.92361111,  0.8       ,  0.65957447,  0.9047619 ,  0.78333333,\n",
      "        0.80346821,  1.        ,  0.80952381,  1.        ,  0.875     ,\n",
      "        0.57142857,  0.93630573]), array([ 1.        ,  1.        ,  0.9       ,  1.        ,  1.        ,\n",
      "        0.5       ,  1.        ,  0.77540107,  0.        ,  0.90625   ,\n",
      "        1.        ,  0.9786036 ,  0.        ,  1.        ,  0.85714286,\n",
      "        0.        ,  0.9       ,  1.        ,  1.        ,  0.85815603,\n",
      "        0.78246485,  0.69266055,  0.90862944,  0.        ,  1.        ,\n",
      "        1.        ,  1.        ,  1.        ,  1.        ,  1.        ,\n",
      "        1.        ,  1.        ,  1.        ,  1.        ,  0.75      ,\n",
      "        0.80319149,  1.        ,  0.84615385,  0.58567775,  1.        ,\n",
      "        0.40659341,  0.        ,  0.44262295,  0.86982249,  1.        ,\n",
      "        0.99692308,  0.81481481,  1.        ,  0.        ,  0.86956522,\n",
      "        0.76315789,  1.        ,  1.        ,  1.        ,  0.        ,\n",
      "        1.        ,  1.        ,  0.        ,  0.86167147,  1.        ,\n",
      "        0.64327485,  1.        ,  1.        ,  1.        ,  0.60606061,\n",
      "        1.        ,  0.54356846,  0.68468468,  1.        ,  0.95945946,\n",
      "        0.875     ,  1.        ,  1.        ,  1.        ,  0.52631579,\n",
      "        0.96774194,  0.82142857,  0.83629893,  0.        ,  0.85818182,\n",
      "        0.        ,  0.96551724,  1.        ,  0.84353741,  0.82059448,\n",
      "        1.        ,  0.        ,  0.56084656,  0.        ,  1.        ,\n",
      "        1.        ,  0.88235294,  0.        ,  0.83943662,  0.80882353,\n",
      "        0.73333333,  1.        ,  1.        ,  1.        ,  0.92105263,\n",
      "        0.73529412,  0.63768116,  0.83965015,  0.9       ,  1.        ,\n",
      "        1.        ,  1.        ,  0.92307692,  1.        ,  1.        ,\n",
      "        1.        ,  1.        ,  1.        ,  1.        ,  1.        ,\n",
      "        1.        ,  1.        ,  1.        ,  1.        ,  0.73333333,\n",
      "        0.875     ,  0.70909091,  0.88235294,  0.91666667,  0.84057971,\n",
      "        0.95238095,  1.        ,  0.63380282,  1.        ,  0.94897959,\n",
      "        1.        ,  1.        ,  1.        ,  1.        ,  1.        ,\n",
      "        0.81405896,  0.95      ,  0.825     ,  0.85714286,  1.        ,\n",
      "        1.        ,  0.        ,  1.        ,  1.        ,  0.7816092 ,\n",
      "        0.88888889,  0.73451327,  0.765625  ,  1.        ,  1.        ,\n",
      "        1.        ,  1.        ,  0.82092199,  0.        ,  1.        ,\n",
      "        0.        ,  0.77777778,  0.94360902,  0.46774194,  0.93333333,\n",
      "        1.        ,  1.        ,  0.907173  ,  0.72340426,  0.75126904,\n",
      "        0.92682927,  1.        ,  0.61818182,  0.79310345,  0.78703704,\n",
      "        0.7961165 ,  1.        ,  0.        ,  1.        ,  1.        ,\n",
      "        0.62837838,  0.90909091,  0.64492754,  1.        ,  1.        ,\n",
      "        0.        ,  1.        ,  1.        ,  0.76470588,  1.        ,\n",
      "        0.91304348,  0.83653846,  1.        ,  0.84      ,  0.80033841,\n",
      "        1.        ,  0.74468085,  1.        ,  1.        ,  1.        ,\n",
      "        1.        ,  0.64526659,  1.        ,  0.71794872,  0.        ,\n",
      "        1.        ,  1.        ,  0.84810127,  1.        ,  0.        ,\n",
      "        0.88666667,  0.704     ,  0.83783784,  0.95      ,  0.8245614 ,\n",
      "        0.78089888,  1.        ,  1.        ,  1.        ,  1.        ,\n",
      "        1.        ,  0.89634146]), array([ 1.        ,  1.        ,  0.91914894,  0.7755102 ,  1.        ,\n",
      "        0.59615385,  0.89655172,  0.79019074,  0.        ,  0.90625   ,\n",
      "        1.        ,  0.9880614 ,  0.        ,  1.        ,  0.65217391,\n",
      "        0.        ,  0.8       ,  1.        ,  1.        ,  0.85512367,\n",
      "        0.82189401,  0.7039627 ,  0.83840749,  0.        ,  1.        ,\n",
      "        1.        ,  0.66666667,  1.        ,  1.        ,  0.91891892,\n",
      "        0.875     ,  0.88888889,  0.75      ,  1.        ,  0.63829787,\n",
      "        0.82664234,  0.85714286,  0.66666667,  0.67952522,  0.96296296,\n",
      "        0.53623188,  0.        ,  0.49541284,  0.86470588,  1.        ,\n",
      "        0.99845917,  0.77192982,  0.9       ,  0.        ,  0.88888889,\n",
      "        0.79180887,  1.        ,  1.        ,  0.52631579,  0.        ,\n",
      "        0.90909091,  1.        ,  0.        ,  0.89253731,  0.88      ,\n",
      "        0.6984127 ,  0.89655172,  0.8       ,  0.94117647,  0.625     ,\n",
      "        1.        ,  0.64215686,  0.72727273,  1.        ,  0.97931034,\n",
      "        0.68292683,  1.        ,  0.88888889,  1.        ,  0.62015504,\n",
      "        0.90909091,  0.87619048,  0.8245614 ,  0.        ,  0.86446886,\n",
      "        0.        ,  0.82352941,  0.92857143,  0.87323944,  0.84991754,\n",
      "        1.        ,  0.        ,  0.65838509,  0.        ,  1.        ,\n",
      "        1.        ,  0.66666667,  0.        ,  0.86627907,  0.82089552,\n",
      "        0.76616915,  1.        ,  1.        ,  1.        ,  0.8974359 ,\n",
      "        0.72463768,  0.72727273,  0.87938931,  0.75      ,  1.        ,\n",
      "        0.92682927,  0.92307692,  0.82758621,  1.        ,  0.83333333,\n",
      "        0.97142857,  0.85714286,  0.6       ,  1.        ,  1.        ,\n",
      "        1.        ,  0.8       ,  1.        ,  0.75      ,  0.74660633,\n",
      "        0.83333333,  0.78      ,  0.76923077,  0.78571429,  0.86567164,\n",
      "        0.96618357,  1.        ,  0.69498069,  0.66666667,  0.94416244,\n",
      "        1.        ,  1.        ,  1.        ,  1.        ,  0.90909091,\n",
      "        0.80855856,  0.82608696,  0.83220175,  0.84848485,  1.        ,\n",
      "        0.94117647,  0.        ,  1.        ,  0.88888889,  0.8       ,\n",
      "        0.91428571,  0.76497696,  0.83760684,  0.8       ,  0.66666667,\n",
      "        1.        ,  0.8       ,  0.87606433,  0.        ,  1.        ,\n",
      "        0.        ,  0.82352941,  0.93831776,  0.47933884,  0.96551724,\n",
      "        1.        ,  1.        ,  0.89397089,  0.78612717,  0.79144385,\n",
      "        0.88372093,  0.86363636,  0.71578947,  0.87121212,  0.8319739 ,\n",
      "        0.83248731,  0.85714286,  0.        ,  0.36363636,  0.8       ,\n",
      "        0.70992366,  0.86956522,  0.73553719,  0.92307692,  1.        ,\n",
      "        0.        ,  0.96296296,  1.        ,  0.74285714,  0.94117647,\n",
      "        0.875     ,  0.85714286,  0.83333333,  0.76363636,  0.79898649,\n",
      "        0.91666667,  0.77777778,  1.        ,  0.9       ,  1.        ,\n",
      "        1.        ,  0.63320876,  1.        ,  0.62222222,  0.        ,\n",
      "        0.88888889,  0.9375    ,  0.85897436,  1.        ,  0.        ,\n",
      "        0.9047619 ,  0.74893617,  0.73809524,  0.92682927,  0.8034188 ,\n",
      "        0.79202279,  1.        ,  0.89473684,  1.        ,  0.93333333,\n",
      "        0.72727273,  0.91588785]), array([   1,    5,  120,   19,   41,   62,   13,  187,    0,   32,    2,\n",
      "        888,    0,    2,   35,    0,   20,    1,    1,  141, 1209,  218,\n",
      "        197,    0,    4,    3,    3,    1,    4,   17,   14,    8,    6,\n",
      "          1,   40,  564,    6,   26,  391,   13,   91,    0,   61,  169,\n",
      "          5,  975,   27,    9,    0,   23,  152,    3,    6,    5,    0,\n",
      "          5,    2,    0,  347,   11,  171,   13,    4,    8,   33,    1,\n",
      "        241,  111,    2,   74,   16,    2,    4,    6,   76,   31,  112,\n",
      "        281,    0,  275,    0,   29,   13,  147,  942,    1,    0,  189,\n",
      "          0,    5,    4,   17,    0,  355,  340,  105,    4,    6,   24,\n",
      "         38,   34,   69,  343,   30,    2,   19,    6,   39,    2,    5,\n",
      "         17,    3,    3,   19,    3,    1,    2,    2,    3,  225,   40,\n",
      "         55,   17,   12,   69,  210,    2,  142,    1,   98,    3,    3,\n",
      "          2,    1,    5,  441,   20,  520,   98,    1,    8,    0,    3,\n",
      "          4,   87,   18,  113,   64,    4,    1,    2,    2,  564,    0,\n",
      "          3,    0,   27,  266,   62,   15,    4,    4,  237,   94,  197,\n",
      "         41,   19,   55,  145,  324,  103,    3,    0,    4,    2,  148,\n",
      "         22,  138,    6,    3,    0,   13,    4,   17,    8,   23,  104,\n",
      "          5,   25,  591,   11,  141,    8,    9,    3,    1,  919,    2,\n",
      "         39,    0,    8,   15,   79,    2,    0,  150,  125,   37,   20,\n",
      "         57,  178,    1,   17,    5,    7,    4,  164]))\n"
     ]
    },
    {
     "name": "stderr",
     "output_type": "stream",
     "text": [
      "/home/ubuntu/anaconda3/envs/tensorflow_p36/lib/python3.6/site-packages/sklearn/metrics/classification.py:1135: UndefinedMetricWarning: Precision and F-score are ill-defined and being set to 0.0 in labels with no predicted samples.\n",
      "  'precision', 'predicted', average, warn_for)\n",
      "/home/ubuntu/anaconda3/envs/tensorflow_p36/lib/python3.6/site-packages/sklearn/metrics/classification.py:1137: UndefinedMetricWarning: Recall and F-score are ill-defined and being set to 0.0 in labels with no true samples.\n",
      "  'recall', 'true', average, warn_for)\n"
     ]
    }
   ],
   "source": [
    "print('weightedmacro: {}'.format(precision_recall_fscore_support(y_dev, y_pred_dev, average=None, sample_weight=None)))"
   ]
  },
  {
   "cell_type": "code",
   "execution_count": 44,
   "metadata": {},
   "outputs": [],
   "source": [
    "to_file(y_train,\"true_train\"+date_run)"
   ]
  },
  {
   "cell_type": "code",
   "execution_count": 45,
   "metadata": {},
   "outputs": [],
   "source": [
    "to_file(y_dev,\"true_dev\"+date_run)"
   ]
  },
  {
   "cell_type": "markdown",
   "metadata": {},
   "source": [
    "### predictions"
   ]
  },
  {
   "cell_type": "code",
   "execution_count": 46,
   "metadata": {},
   "outputs": [],
   "source": [
    "def get_predictions(data_to_tag): \n",
    "    filename = data_to_tag+\"_arrays.npz\"\n",
    "    arrays = np.load(os.path.join(DATADIR,filename))\n",
    "    \n",
    "    print('Set up arrays for new_content: {}'.format(arrays.files))\n",
    "    x_predict = arrays['x']\n",
    "    meta_predict = arrays['meta'].all().todense()\n",
    "    title_predict = arrays['title'].all().todense()\n",
    "    desc_predict = arrays['desc'].all().todense()\n",
    "    \n",
    "    print('x_arrays.shape = {}'.format(x_predict.shape))\n",
    "    print('meta_arrays.shape = {}'.format(meta_predict.shape))\n",
    "    print('title_arrays.shape = {}'.format(title_predict.shape))\n",
    "    print('desc_arrays.shape = {}'.format(desc_predict.shape))\n",
    "    \n",
    "    print('Predict on untagged content')\n",
    "    y_pred_new = model.predict([meta_predict, title_predict, desc_predict, x_predict])\n",
    "    \n",
    "    to_file(y_pred_new, data_to_tag+\"_predictions\"+date_run)"
   ]
  },
  {
   "cell_type": "code",
   "execution_count": 48,
   "metadata": {},
   "outputs": [
    {
     "name": "stdout",
     "output_type": "stream",
     "text": [
      "Set up arrays for new_content: ['x', 'meta', 'title', 'desc', 'content_id']\n",
      "x_arrays.shape = (58609, 1000)\n",
      "meta_arrays.shape = (58609, 540)\n",
      "title_arrays.shape = (58609, 10000)\n",
      "desc_arrays.shape = (58609, 10000)\n",
      "Predict on untagged content\n"
     ]
    }
   ],
   "source": [
    "get_predictions(\"new\")"
   ]
  },
  {
   "cell_type": "code",
   "execution_count": 50,
   "metadata": {},
   "outputs": [
    {
     "name": "stdout",
     "output_type": "stream",
     "text": [
      "new_predictions_1255_2103_\n"
     ]
    }
   ],
   "source": [
    "print(\"new_predictions\"+date_run)"
   ]
  },
  {
   "cell_type": "code",
   "execution_count": 51,
   "metadata": {},
   "outputs": [
    {
     "name": "stdout",
     "output_type": "stream",
     "text": [
      "Set up arrays for new_content: ['x', 'meta', 'title', 'desc', 'content_id']\n",
      "x_arrays.shape = (18273, 1000)\n",
      "meta_arrays.shape = (18273, 540)\n",
      "title_arrays.shape = (18273, 10000)\n",
      "desc_arrays.shape = (18273, 10000)\n",
      "Predict on untagged content\n"
     ]
    }
   ],
   "source": [
    "get_predictions(\"level1\")"
   ]
  },
  {
   "cell_type": "code",
   "execution_count": 52,
   "metadata": {},
   "outputs": [
    {
     "name": "stdout",
     "output_type": "stream",
     "text": [
      "level1_predictions_1255_2103_\n"
     ]
    }
   ],
   "source": [
    "print(\"level1_predictions\"+date_run)"
   ]
  },
  {
   "cell_type": "code",
   "execution_count": null,
   "metadata": {},
   "outputs": [],
   "source": []
  }
 ],
 "metadata": {
  "keep_output": true,
  "kernelspec": {
   "display_name": "Environment (conda_tensorflow_p36)",
   "language": "python",
   "name": "conda_tensorflow_p36"
  },
  "language_info": {
   "codemirror_mode": {
    "name": "ipython",
    "version": 3
   },
   "file_extension": ".py",
   "mimetype": "text/x-python",
   "name": "python",
   "nbconvert_exporter": "python",
   "pygments_lexer": "ipython3",
   "version": "3.6.3"
  }
 },
 "nbformat": 4,
 "nbformat_minor": 2
}
