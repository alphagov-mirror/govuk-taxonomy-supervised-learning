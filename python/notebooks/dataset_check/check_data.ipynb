{
 "cells": [
  {
   "cell_type": "code",
<<<<<<< HEAD
   "execution_count": 1,
=======
   "execution_count": null,
>>>>>>> a2995431afe1c1b2b3f1195b30b2141a67d34432
   "metadata": {},
   "outputs": [],
   "source": [
    "import pandas as pd\n",
    "import numpy as np\n",
    "import os"
   ]
  },
  {
   "cell_type": "code",
<<<<<<< HEAD
   "execution_count": 2,
=======
   "execution_count": null,
>>>>>>> a2995431afe1c1b2b3f1195b30b2141a67d34432
   "metadata": {},
   "outputs": [],
   "source": [
    "DATADIR=os.getenv('DATADIR')"
   ]
  },
  {
   "cell_type": "markdown",
   "metadata": {},
   "source": [
    "### 1. Check raw content from GOV.UK extract."
   ]
  },
  {
   "cell_type": "code",
   "execution_count": null,
   "metadata": {},
   "outputs": [],
   "source": [
    "CONTENT = \"content.json.gz\"\n",
    "CONTENT_INPUT = os.path.join(DATADIR, CONTENT)"
   ]
  },
  {
   "cell_type": "code",
   "execution_count": null,
   "metadata": {},
   "outputs": [],
   "source": [
    "content = pd.read_json(\n",
    "    CONTENT_INPUT, \n",
    "    orient='table', \n",
    "    typ='frame', \n",
    "    dtype=True, \n",
    "    convert_axes=True, \n",
    "    convert_dates=True, \n",
    "    keep_default_dates=True, \n",
    "    numpy=False, \n",
    "    precise_float=False, \n",
    "    date_unit=None,\n",
    "    compression = 'gzip'\n",
    ")"
   ]
  },
  {
   "cell_type": "code",
   "execution_count": null,
   "metadata": {},
   "outputs": [],
   "source": [
    "content.head()"
   ]
  },
  {
   "cell_type": "code",
   "execution_count": null,
   "metadata": {},
   "outputs": [],
   "source": [
    "content.columns"
   ]
  },
  {
   "cell_type": "code",
   "execution_count": null,
   "metadata": {},
   "outputs": [],
   "source": [
    "content['links'].iloc[0]"
   ]
  },
  {
   "cell_type": "code",
   "execution_count": null,
   "metadata": {},
   "outputs": [],
   "source": [
    "content['links'].iloc[3].keys()"
   ]
  },
  {
   "cell_type": "code",
   "execution_count": null,
   "metadata": {},
   "outputs": [],
   "source": [
    "for item in content['links'][0:100]:\n",
    "    if 'primary_publishing_organisation' in item.keys():\n",
    "        print(item['primary_publishing_organisation'][0]['title'])"
   ]
  },
  {
   "cell_type": "code",
   "execution_count": null,
   "metadata": {},
   "outputs": [],
   "source": [
    "def pub_mapper(x_links):\n",
    "    if 'primary_publishing_organisation' in x_links:\n",
    "        return x_links['primary_publishing_organisation'][0]['title']\n",
    "    else:\n",
    "        return np.NaN"
   ]
  },
  {
   "cell_type": "code",
   "execution_count": null,
   "metadata": {},
   "outputs": [],
   "source": [
    "content['primary_publishing_organisation'] = content['links'].map(pub_mapper)"
   ]
  },
  {
   "cell_type": "code",
   "execution_count": null,
   "metadata": {},
   "outputs": [],
   "source": [
    "content.head()"
   ]
  },
  {
   "cell_type": "markdown",
   "metadata": {},
   "source": [
    "### 2. Check that dataset production through make is working as expected."
   ]
  },
  {
   "cell_type": "code",
<<<<<<< HEAD
   "execution_count": 3,
   "metadata": {},
   "outputs": [],
   "source": [
    "DATASET = \"labelled_level2.csv.gz\"\n",
    "DATA_INPUT = os.path.join(DATADIR, DATASET)"
=======
   "execution_count": null,
   "metadata": {},
   "outputs": [],
   "source": [
    "DATASET = \"clean_content.csv.gz\"\n",
    "CLEAN_CONTENT_INPUT = os.path.join(DATADIR, DATASET)"
>>>>>>> a2995431afe1c1b2b3f1195b30b2141a67d34432
   ]
  },
  {
   "cell_type": "code",
<<<<<<< HEAD
   "execution_count": 4,
   "metadata": {},
   "outputs": [
    {
     "name": "stderr",
     "output_type": "stream",
     "text": [
      "/Users/felisialoukou/.pyenv/versions/3.4.6/lib/python3.4/site-packages/IPython/core/interactiveshell.py:2728: DtypeWarning: Columns (0,37) have mixed types. Specify dtype option on import or set low_memory=False.\n",
      "  interactivity=interactivity, compiler=compiler, result=result)\n"
     ]
    },
    {
     "data": {
      "text/plain": [
       "(150442, 38)"
      ]
     },
     "execution_count": 4,
     "metadata": {},
     "output_type": "execute_result"
    }
   ],
   "source": [
    "dataset = pd.read_csv(DATA_INPUT,compression='gzip')\n",
=======
   "execution_count": null,
   "metadata": {},
   "outputs": [],
   "source": [
    "dataset = pd.read_csv(CLEAN_CONTENT_INPUT,compression='gzip')\n",
>>>>>>> a2995431afe1c1b2b3f1195b30b2141a67d34432
    "dataset.shape"
   ]
  },
  {
   "cell_type": "code",
<<<<<<< HEAD
   "execution_count": 5,
   "metadata": {},
   "outputs": [
    {
     "data": {
      "text/plain": [
       "Index(['analytics_identifier', 'base_path', 'content_id',\n",
       "       'content_purpose_document_supertype', 'description', 'details',\n",
       "       'document_type', 'email_document_supertype', 'first_published_at',\n",
       "       'government_document_supertype', 'links', 'locale',\n",
       "       'navigation_document_supertype', 'need_ids', 'phase',\n",
       "       'public_updated_at', 'publishing_app', 'publishing_request_id',\n",
       "       'redirects', 'rendering_app', 'schema_name',\n",
       "       'search_user_need_document_supertype', 'title', 'updated_at',\n",
       "       'user_journey_document_supertype', 'withdrawn_notice',\n",
       "       'document_type_gp', 'primary_publishing_organisation', 'body',\n",
       "       'combined_text', 'taxon_id', 'taxon_base_path', 'taxon_name',\n",
       "       'level1taxon', 'level2taxon', 'level3taxon', 'level4taxon',\n",
       "       'level5taxon'],\n",
       "      dtype='object')"
      ]
     },
     "execution_count": 5,
     "metadata": {},
     "output_type": "execute_result"
    }
   ],
=======
   "execution_count": null,
   "metadata": {},
   "outputs": [],
>>>>>>> a2995431afe1c1b2b3f1195b30b2141a67d34432
   "source": [
    "dataset.columns"
   ]
  },
  {
   "cell_type": "code",
<<<<<<< HEAD
   "execution_count": 6,
   "metadata": {},
   "outputs": [
    {
     "data": {
      "text/html": [
       "<div>\n",
       "<style scoped>\n",
       "    .dataframe tbody tr th:only-of-type {\n",
       "        vertical-align: middle;\n",
       "    }\n",
       "\n",
       "    .dataframe tbody tr th {\n",
       "        vertical-align: top;\n",
       "    }\n",
       "\n",
       "    .dataframe thead th {\n",
       "        text-align: right;\n",
       "    }\n",
       "</style>\n",
       "<table border=\"1\" class=\"dataframe\">\n",
       "  <thead>\n",
       "    <tr style=\"text-align: right;\">\n",
       "      <th></th>\n",
       "      <th>analytics_identifier</th>\n",
       "      <th>base_path</th>\n",
       "      <th>content_id</th>\n",
       "      <th>content_purpose_document_supertype</th>\n",
       "      <th>description</th>\n",
       "      <th>details</th>\n",
       "      <th>document_type</th>\n",
       "      <th>email_document_supertype</th>\n",
       "      <th>first_published_at</th>\n",
       "      <th>government_document_supertype</th>\n",
       "      <th>...</th>\n",
       "      <th>body</th>\n",
       "      <th>combined_text</th>\n",
       "      <th>taxon_id</th>\n",
       "      <th>taxon_base_path</th>\n",
       "      <th>taxon_name</th>\n",
       "      <th>level1taxon</th>\n",
       "      <th>level2taxon</th>\n",
       "      <th>level3taxon</th>\n",
       "      <th>level4taxon</th>\n",
       "      <th>level5taxon</th>\n",
       "    </tr>\n",
       "  </thead>\n",
       "  <tbody>\n",
       "    <tr>\n",
       "      <th>0</th>\n",
       "      <td>NaN</td>\n",
       "      <td>/vehicle-tax</td>\n",
       "      <td>fa748fae-3de4-4266-ae85-0797ada3f40c</td>\n",
       "      <td>transactions</td>\n",
       "      <td>renew or tax your vehicle for the first time u...</td>\n",
       "      <td>{'external_related_links': [], 'transaction_st...</td>\n",
       "      <td>transaction</td>\n",
       "      <td>other</td>\n",
       "      <td>2011-11-09T15:06:33.000+00:00</td>\n",
       "      <td>other</td>\n",
       "      <td>...</td>\n",
       "      <td>tax your car motorcycle or other vehicle using...</td>\n",
       "      <td>tax your vehicle renew or tax your vehicle for...</td>\n",
       "      <td>1de432b7-2331-4450-9667-374d56e7f084</td>\n",
       "      <td>/transport/vehicle-tax</td>\n",
       "      <td>Vehicle tax</td>\n",
       "      <td>Transport</td>\n",
       "      <td>Driving and road transport</td>\n",
       "      <td>Vehicle ownership</td>\n",
       "      <td>Vehicle tax</td>\n",
       "      <td>NaN</td>\n",
       "    </tr>\n",
       "    <tr>\n",
       "      <th>1</th>\n",
       "      <td>NaN</td>\n",
       "      <td>/check-vehicle-tax</td>\n",
       "      <td>0889f128-e479-465f-b3e1-a3db6a3879cf</td>\n",
       "      <td>transactions</td>\n",
       "      <td>check and report if a vehicle has up-to-date v...</td>\n",
       "      <td>{'external_related_links': [], 'transaction_st...</td>\n",
       "      <td>transaction</td>\n",
       "      <td>other</td>\n",
       "      <td>2013-01-14T10:48:31.000+00:00</td>\n",
       "      <td>other</td>\n",
       "      <td>...</td>\n",
       "      <td>find out if a vehicle has up to date vehicle t...</td>\n",
       "      <td>check if a vehicle is taxed check and report i...</td>\n",
       "      <td>1de432b7-2331-4450-9667-374d56e7f084</td>\n",
       "      <td>/transport/vehicle-tax</td>\n",
       "      <td>Vehicle tax</td>\n",
       "      <td>Transport</td>\n",
       "      <td>Driving and road transport</td>\n",
       "      <td>Vehicle ownership</td>\n",
       "      <td>Vehicle tax</td>\n",
       "      <td>NaN</td>\n",
       "    </tr>\n",
       "    <tr>\n",
       "      <th>2</th>\n",
       "      <td>NaN</td>\n",
       "      <td>/calculate-vehicle-tax-rates</td>\n",
       "      <td>f8490f74-437e-467a-9fa3-0e5f60e0bee0</td>\n",
       "      <td>transactions</td>\n",
       "      <td>use the online tool to find the tax rate for a...</td>\n",
       "      <td>{'external_related_links': [], 'transaction_st...</td>\n",
       "      <td>transaction</td>\n",
       "      <td>other</td>\n",
       "      <td>2011-12-08T13:52:36.000+00:00</td>\n",
       "      <td>other</td>\n",
       "      <td>...</td>\n",
       "      <td>find out the tax rate for all vehicle types. c...</td>\n",
       "      <td>calculate vehicle tax rates use the online too...</td>\n",
       "      <td>1de432b7-2331-4450-9667-374d56e7f084</td>\n",
       "      <td>/transport/vehicle-tax</td>\n",
       "      <td>Vehicle tax</td>\n",
       "      <td>Transport</td>\n",
       "      <td>Driving and road transport</td>\n",
       "      <td>Vehicle ownership</td>\n",
       "      <td>Vehicle tax</td>\n",
       "      <td>NaN</td>\n",
       "    </tr>\n",
       "    <tr>\n",
       "      <th>3</th>\n",
       "      <td>NaN</td>\n",
       "      <td>/vehicle-tax-rate-tables</td>\n",
       "      <td>db364fa7-96c5-42c2-a3db-ce06d4a7c97e</td>\n",
       "      <td>guidance</td>\n",
       "      <td>tables showing the rates for vehicle tax for d...</td>\n",
       "      <td>{'external_related_links': [], 'parts': [{'bod...</td>\n",
       "      <td>guide</td>\n",
       "      <td>other</td>\n",
       "      <td>2011-12-08T12:26:32.000+00:00</td>\n",
       "      <td>other</td>\n",
       "      <td>...</td>\n",
       "      <td>cars and some motorhomes registered on or afte...</td>\n",
       "      <td>vehicle tax rates tables showing the rates for...</td>\n",
       "      <td>1de432b7-2331-4450-9667-374d56e7f084</td>\n",
       "      <td>/transport/vehicle-tax</td>\n",
       "      <td>Vehicle tax</td>\n",
       "      <td>Transport</td>\n",
       "      <td>Driving and road transport</td>\n",
       "      <td>Vehicle ownership</td>\n",
       "      <td>Vehicle tax</td>\n",
       "      <td>NaN</td>\n",
       "    </tr>\n",
       "    <tr>\n",
       "      <th>4</th>\n",
       "      <td>NaN</td>\n",
       "      <td>/vehicle-tax-direct-debit</td>\n",
       "      <td>e41bd8f3-148c-4285-ad16-131c716bc067</td>\n",
       "      <td>guidance</td>\n",
       "      <td>set up change or cancel your car tax direct de...</td>\n",
       "      <td>{'external_related_links': [], 'parts': [{'bod...</td>\n",
       "      <td>guide</td>\n",
       "      <td>other</td>\n",
       "      <td>2015-05-01T16:04:18.000+00:00</td>\n",
       "      <td>other</td>\n",
       "      <td>...</td>\n",
       "      <td>set up a direct debit you can set up a direct ...</td>\n",
       "      <td>vehicle tax direct debit payments set up chang...</td>\n",
       "      <td>1de432b7-2331-4450-9667-374d56e7f084</td>\n",
       "      <td>/transport/vehicle-tax</td>\n",
       "      <td>Vehicle tax</td>\n",
       "      <td>Transport</td>\n",
       "      <td>Driving and road transport</td>\n",
       "      <td>Vehicle ownership</td>\n",
       "      <td>Vehicle tax</td>\n",
       "      <td>NaN</td>\n",
       "    </tr>\n",
       "  </tbody>\n",
       "</table>\n",
       "<p>5 rows × 38 columns</p>\n",
       "</div>"
      ],
      "text/plain": [
       "  analytics_identifier                     base_path  \\\n",
       "0                  NaN                  /vehicle-tax   \n",
       "1                  NaN            /check-vehicle-tax   \n",
       "2                  NaN  /calculate-vehicle-tax-rates   \n",
       "3                  NaN      /vehicle-tax-rate-tables   \n",
       "4                  NaN     /vehicle-tax-direct-debit   \n",
       "\n",
       "                             content_id content_purpose_document_supertype  \\\n",
       "0  fa748fae-3de4-4266-ae85-0797ada3f40c                       transactions   \n",
       "1  0889f128-e479-465f-b3e1-a3db6a3879cf                       transactions   \n",
       "2  f8490f74-437e-467a-9fa3-0e5f60e0bee0                       transactions   \n",
       "3  db364fa7-96c5-42c2-a3db-ce06d4a7c97e                           guidance   \n",
       "4  e41bd8f3-148c-4285-ad16-131c716bc067                           guidance   \n",
       "\n",
       "                                         description  \\\n",
       "0  renew or tax your vehicle for the first time u...   \n",
       "1  check and report if a vehicle has up-to-date v...   \n",
       "2  use the online tool to find the tax rate for a...   \n",
       "3  tables showing the rates for vehicle tax for d...   \n",
       "4  set up change or cancel your car tax direct de...   \n",
       "\n",
       "                                             details document_type  \\\n",
       "0  {'external_related_links': [], 'transaction_st...   transaction   \n",
       "1  {'external_related_links': [], 'transaction_st...   transaction   \n",
       "2  {'external_related_links': [], 'transaction_st...   transaction   \n",
       "3  {'external_related_links': [], 'parts': [{'bod...         guide   \n",
       "4  {'external_related_links': [], 'parts': [{'bod...         guide   \n",
       "\n",
       "  email_document_supertype             first_published_at  \\\n",
       "0                    other  2011-11-09T15:06:33.000+00:00   \n",
       "1                    other  2013-01-14T10:48:31.000+00:00   \n",
       "2                    other  2011-12-08T13:52:36.000+00:00   \n",
       "3                    other  2011-12-08T12:26:32.000+00:00   \n",
       "4                    other  2015-05-01T16:04:18.000+00:00   \n",
       "\n",
       "  government_document_supertype     ...      \\\n",
       "0                         other     ...       \n",
       "1                         other     ...       \n",
       "2                         other     ...       \n",
       "3                         other     ...       \n",
       "4                         other     ...       \n",
       "\n",
       "                                                body  \\\n",
       "0  tax your car motorcycle or other vehicle using...   \n",
       "1  find out if a vehicle has up to date vehicle t...   \n",
       "2  find out the tax rate for all vehicle types. c...   \n",
       "3  cars and some motorhomes registered on or afte...   \n",
       "4  set up a direct debit you can set up a direct ...   \n",
       "\n",
       "                                       combined_text  \\\n",
       "0  tax your vehicle renew or tax your vehicle for...   \n",
       "1  check if a vehicle is taxed check and report i...   \n",
       "2  calculate vehicle tax rates use the online too...   \n",
       "3  vehicle tax rates tables showing the rates for...   \n",
       "4  vehicle tax direct debit payments set up chang...   \n",
       "\n",
       "                               taxon_id         taxon_base_path   taxon_name  \\\n",
       "0  1de432b7-2331-4450-9667-374d56e7f084  /transport/vehicle-tax  Vehicle tax   \n",
       "1  1de432b7-2331-4450-9667-374d56e7f084  /transport/vehicle-tax  Vehicle tax   \n",
       "2  1de432b7-2331-4450-9667-374d56e7f084  /transport/vehicle-tax  Vehicle tax   \n",
       "3  1de432b7-2331-4450-9667-374d56e7f084  /transport/vehicle-tax  Vehicle tax   \n",
       "4  1de432b7-2331-4450-9667-374d56e7f084  /transport/vehicle-tax  Vehicle tax   \n",
       "\n",
       "  level1taxon                 level2taxon        level3taxon  level4taxon  \\\n",
       "0   Transport  Driving and road transport  Vehicle ownership  Vehicle tax   \n",
       "1   Transport  Driving and road transport  Vehicle ownership  Vehicle tax   \n",
       "2   Transport  Driving and road transport  Vehicle ownership  Vehicle tax   \n",
       "3   Transport  Driving and road transport  Vehicle ownership  Vehicle tax   \n",
       "4   Transport  Driving and road transport  Vehicle ownership  Vehicle tax   \n",
       "\n",
       "  level5taxon  \n",
       "0         NaN  \n",
       "1         NaN  \n",
       "2         NaN  \n",
       "3         NaN  \n",
       "4         NaN  \n",
       "\n",
       "[5 rows x 38 columns]"
      ]
     },
     "execution_count": 6,
     "metadata": {},
     "output_type": "execute_result"
    }
   ],
=======
   "execution_count": null,
   "metadata": {},
   "outputs": [],
>>>>>>> a2995431afe1c1b2b3f1195b30b2141a67d34432
   "source": [
    "dataset.head()"
   ]
  },
  {
   "cell_type": "code",
<<<<<<< HEAD
   "execution_count": 8,
   "metadata": {},
   "outputs": [
    {
     "data": {
      "text/plain": [
       "394"
      ]
     },
     "execution_count": 8,
     "metadata": {},
     "output_type": "execute_result"
    }
   ],
   "source": [
    "dataset['level2taxon'].nunique()"
   ]
  },
  {
   "cell_type": "code",
=======
>>>>>>> a2995431afe1c1b2b3f1195b30b2141a67d34432
   "execution_count": null,
   "metadata": {},
   "outputs": [],
   "source": [
    "dataset['length'] = dataset['body'].map(lambda x: len(x.split()) if not isinstance(x,float) else 0)"
   ]
  },
  {
   "cell_type": "code",
   "execution_count": null,
   "metadata": {},
   "outputs": [],
   "source": [
    "dataset['length'].describe()"
   ]
  },
  {
   "cell_type": "code",
   "execution_count": null,
   "metadata": {},
   "outputs": [],
   "source": [
    "dataset['combined_text'].iloc[0]"
   ]
  }
 ],
 "metadata": {
  "kernelspec": {
   "display_name": "Python 3",
   "language": "python",
   "name": "python3"
  },
  "language_info": {
   "codemirror_mode": {
    "name": "ipython",
    "version": 3
   },
   "file_extension": ".py",
   "mimetype": "text/x-python",
   "name": "python",
   "nbconvert_exporter": "python",
   "pygments_lexer": "ipython3",
   "version": "3.4.6"
  }
 },
 "nbformat": 4,
 "nbformat_minor": 2
}
