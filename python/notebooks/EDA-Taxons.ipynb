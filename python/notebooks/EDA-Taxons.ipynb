{
 "cells": [
  {
   "cell_type": "code",
   "execution_count": 1,
   "metadata": {},
   "outputs": [],
   "source": [
    "import numpy as np\n",
    "import pandas as pd\n",
    "import seaborn as sns\n",
    "import matplotlib.pyplot as plt\n",
    "import functools\n",
    "%matplotlib inline"
   ]
  },
  {
   "cell_type": "markdown",
   "metadata": {},
   "source": [
    "## Read in data\n",
    "Source EDA-prepare-data.ipynb, clean_taxons.py, clean_content.py"
   ]
  },
  {
   "cell_type": "code",
   "execution_count": 2,
   "metadata": {},
   "outputs": [],
   "source": [
    "untagged = pd.read_csv('../../data/untagged_content.csv')\n",
    "labelled = pd.read_csv('../../data/labelled.csv')\n",
    "filtered = pd.read_csv('../../data/filtered.csv')\n",
    "taxons = pd.read_csv('../../data/taxons_cleaner.csv')"
   ]
  },
  {
   "cell_type": "code",
   "execution_count": 3,
   "metadata": {},
   "outputs": [
    {
     "name": "stdout",
     "output_type": "stream",
     "text": [
      "<class 'str'>\n",
      "<class 'pandas._libs.tslib.Timestamp'>\n"
     ]
    }
   ],
   "source": [
    "#convert string dates to timestamp for time series analyses (see below)\n",
    "print(type(untagged['first_published_at'][0]))\n",
    "untagged['first_published_at'] = pd.to_datetime(untagged['first_published_at'])\n",
    "print(type(untagged['first_published_at'][0]))"
   ]
  },
  {
   "cell_type": "code",
   "execution_count": 4,
   "metadata": {},
   "outputs": [],
   "source": [
    "#use timestamp as index in untagged data for plots\n",
    "untagged.index = untagged['first_published_at'] "
   ]
  },
  {
   "cell_type": "markdown",
   "metadata": {},
   "source": [
    "# Taxons"
   ]
  },
  {
   "cell_type": "code",
   "execution_count": 5,
   "metadata": {},
   "outputs": [
    {
     "name": "stdout",
     "output_type": "stream",
     "text": [
      "There are 2008 out of 2027 taxons with a level2\n",
      "There are 19 out of 2027 taxons with a level1 tag, but no level2 tag\n"
     ]
    }
   ],
   "source": [
    "#Count taxons by level1 and level2\n",
    "mask = taxons['level1taxon'].notnull() & taxons['level2taxon'].isnull()\n",
    "\n",
    "print(\"There are {} out of {} taxons with a level2\"\n",
    "      .format(sum(taxons['level2taxon'].notnull()), taxons.shape[0]))\n",
    "print(\"There are {} out of {} taxons with a level1 tag, but no level2 tag\"\n",
    "      .format(sum(mask), taxons.shape[0]))"
   ]
  },
  {
   "cell_type": "markdown",
   "metadata": {},
   "source": [
    "### How many taxons at each level?"
   ]
  },
  {
   "cell_type": "code",
   "execution_count": 6,
   "metadata": {},
   "outputs": [
    {
     "name": "stdout",
     "output_type": "stream",
     "text": [
      "Number of taxons at level1 = 19\n",
      "Number of taxons at level2 = 217\n",
      "Number of taxons at level3 = 687\n",
      "Number of taxons at level4 = 882\n",
      "Number of taxons at level5 = 222\n"
     ]
    }
   ],
   "source": [
    "level1_only = taxons[taxons['level1taxon'].notnull() & taxons['level2taxon'].isnull()]\n",
    "level2_only = taxons[taxons['level2taxon'].notnull() & taxons['level3taxon'].isnull()]\n",
    "level3_only = taxons[taxons['level3taxon'].notnull() & taxons['level4taxon'].isnull()]\n",
    "level4_only = taxons[taxons['level4taxon'].notnull() & taxons['level5taxon'].isnull()]\n",
    "level5_only = taxons[taxons['level5taxon'].notnull()]\n",
    "\n",
    "print(\"Number of taxons at level1 = {}\".format(level1_only.shape[0]))\n",
    "print(\"Number of taxons at level2 = {}\".format(level2_only.shape[0]))\n",
    "print(\"Number of taxons at level3 = {}\".format(level3_only.shape[0]))\n",
    "print(\"Number of taxons at level4 = {}\".format(level4_only.shape[0]))\n",
    "print(\"Number of taxons at level5 = {}\".format(level5_only.shape[0]))"
   ]
  },
  {
   "cell_type": "markdown",
   "metadata": {},
   "source": [
    "### How many content items at each level?"
   ]
  },
  {
   "cell_type": "code",
   "execution_count": 7,
   "metadata": {},
   "outputs": [
    {
     "name": "stdout",
     "output_type": "stream",
     "text": [
      "Number of times content items tagged to level1 = 32034\n",
      "Number of times content items tagged to level2 = 128372\n",
      "Number of times content items tagged to level3 = 54732\n",
      "Number of times content items tagged to level4 = 11942\n",
      "Number of times content items tagged to level5 = 2004\n",
      "\n",
      "Number of unique content items tagged to level1 = 30125\n",
      "Number of unique content items tagged to level2 = 89081\n",
      "Number of unique content items tagged to level3 = 45240\n",
      "Number of unique content items tagged to level4 = 9926\n",
      "Number of unique content items tagged to level5 = 1639\n"
     ]
    }
   ],
   "source": [
    "level1_only = filtered[filtered['level1taxon'].notnull() & filtered['level2taxon'].isnull()]\n",
    "level2_only = filtered[filtered['level2taxon'].notnull() & filtered['level3taxon'].isnull()]\n",
    "level3_only = filtered[filtered['level3taxon'].notnull() & filtered['level4taxon'].isnull()]\n",
    "level4_only = filtered[filtered['level4taxon'].notnull() & filtered['level5taxon'].isnull()]\n",
    "level5_only = filtered[filtered['level5taxon'].notnull()]\n",
    "\n",
    "print(\"Number of times content items tagged to level1 = {}\".format(level1_only.shape[0]))\n",
    "print(\"Number of times content items tagged to level2 = {}\".format(level2_only.shape[0]))\n",
    "print(\"Number of times content items tagged to level3 = {}\".format(level3_only.shape[0]))\n",
    "print(\"Number of times content items tagged to level4 = {}\".format(level4_only.shape[0]))\n",
    "print(\"Number of times content items tagged to level5 = {}\".format(level5_only.shape[0]))\n",
    "print(\"\")\n",
    "print(\"Number of unique content items tagged to level1 = {}\".format(level1_only.content_id.nunique()))\n",
    "print(\"Number of unique content items tagged to level2 = {}\".format(level2_only.content_id.nunique()))\n",
    "print(\"Number of unique content items tagged to level3 = {}\".format(level3_only.content_id.nunique()))\n",
    "print(\"Number of unique content items tagged to level4 = {}\".format(level4_only.content_id.nunique()))\n",
    "print(\"Number of unique content items tagged to level5 = {}\".format(level5_only.content_id.nunique()))"
   ]
  },
  {
   "cell_type": "markdown",
   "metadata": {},
   "source": [
    "### Number of tags per content level, overall "
   ]
  },
  {
   "cell_type": "code",
   "execution_count": 8,
   "metadata": {},
   "outputs": [
    {
     "data": {
      "text/plain": [
       "count    127320.000000\n",
       "mean          1.799277\n",
       "std           1.202716\n",
       "min           1.000000\n",
       "25%           1.000000\n",
       "50%           1.000000\n",
       "75%           2.000000\n",
       "max          41.000000\n",
       "dtype: float64"
      ]
     },
     "execution_count": 8,
     "metadata": {},
     "output_type": "execute_result"
    }
   ],
   "source": [
    "times_tagged_filtered=filtered.groupby('content_id').size().sort_values(ascending=True)\n",
    "filtered.groupby('content_id').size().sort_values(ascending=True).describe()"
   ]
  },
  {
   "cell_type": "code",
   "execution_count": 20,
   "metadata": {},
   "outputs": [
    {
     "name": "stdout",
     "output_type": "stream",
     "text": [
      "The percent of filtered content tagged more to more than 2 taxons =18.069431354068488\n"
     ]
    }
   ],
   "source": [
    "print(\"The percent of filtered content tagged more to more than 2 taxons ={}\".format(len(times_tagged_filtered[times_tagged_filtered>2])/len(times_tagged_filtered)*100))"
   ]
  },
  {
   "cell_type": "code",
   "execution_count": 13,
   "metadata": {},
   "outputs": [
    {
     "data": {
      "text/plain": [
       "<matplotlib.axes._subplots.AxesSubplot at 0x10c053780>"
      ]
     },
     "execution_count": 13,
     "metadata": {},
     "output_type": "execute_result"
    },
    {
     "data": {
      "image/png": "[encoded data removed]",
      "text/plain": [
       "<matplotlib.figure.Figure at 0x10be81ba8>"
      ]
     },
     "metadata": {},
     "output_type": "display_data"
    }
   ],
   "source": [
    "times_tagged_filtered.hist(bins=40)"
   ]
  },
  {
   "cell_type": "code",
   "execution_count": 14,
   "metadata": {},
   "outputs": [
    {
     "data": {
      "text/plain": [
       "count    128577.000000\n",
       "mean          1.805525\n",
       "std           1.219718\n",
       "min           1.000000\n",
       "25%           1.000000\n",
       "50%           1.000000\n",
       "75%           2.000000\n",
       "max          63.000000\n",
       "dtype: float64"
      ]
     },
     "execution_count": 14,
     "metadata": {},
     "output_type": "execute_result"
    }
   ],
   "source": [
    "times_tagged_labelled=labelled.groupby('content_id').size().sort_values(ascending=True)\n",
    "labelled.groupby('content_id').size().sort_values(ascending=True).describe()"
   ]
  },
  {
   "cell_type": "code",
   "execution_count": 15,
   "metadata": {},
   "outputs": [
    {
     "data": {
      "text/plain": [
       "<matplotlib.axes._subplots.AxesSubplot at 0x10be702e8>"
      ]
     },
     "execution_count": 15,
     "metadata": {},
     "output_type": "execute_result"
    },
    {
     "data": {
      "image/png": "[encoded data removed]",
      "text/plain": [
       "<matplotlib.figure.Figure at 0x10c18dfd0>"
      ]
     },
     "metadata": {},
     "output_type": "display_data"
    }
   ],
   "source": [
    "times_tagged_labelled.hist(bins=63)"
   ]
  },
  {
   "cell_type": "code",
   "execution_count": 21,
   "metadata": {},
   "outputs": [
    {
     "name": "stdout",
     "output_type": "stream",
     "text": [
      "The percent of labelled content tagged more to more than 2 taxons =18.475310514322157\n"
     ]
    }
   ],
   "source": [
    "print(\"The percent of labelled content tagged more to more than 2 taxons ={}\".format(len(times_tagged_labelled[times_tagged_labelled>2])/len(times_tagged_labelled)*100))"
   ]
  },
  {
   "cell_type": "code",
   "execution_count": 32,
   "metadata": {},
   "outputs": [
    {
     "data": {
      "text/plain": [
       "23755"
      ]
     },
     "execution_count": 32,
     "metadata": {},
     "output_type": "execute_result"
    }
   ],
   "source": [
    "len(times_tagged_labelled[times_tagged_labelled>2])"
   ]
  },
  {
   "cell_type": "code",
   "execution_count": 30,
   "metadata": {},
   "outputs": [
    {
     "data": {
      "text/plain": [
       "(121,)"
      ]
     },
     "execution_count": 30,
     "metadata": {},
     "output_type": "execute_result"
    }
   ],
   "source": [
    "#save out content tagged to more than 10 taxons\n",
    "morethan10taxons=times_tagged_labelled[times_tagged_labelled>10]\n",
    "morethan10taxons.to_csv('../../data/taggedtomorethan10taxons.csv', index=False)\n",
    "morethan10taxons.shape"
   ]
  },
  {
   "cell_type": "markdown",
   "metadata": {},
   "source": [
    "### Number of tags per content item at each level"
   ]
  },
  {
   "cell_type": "code",
   "execution_count": 22,
   "metadata": {},
   "outputs": [
    {
     "data": {
      "text/plain": [
       "count    30125.000000\n",
       "mean         1.063369\n",
       "std          0.250350\n",
       "min          1.000000\n",
       "25%          1.000000\n",
       "50%          1.000000\n",
       "75%          1.000000\n",
       "max          6.000000\n",
       "dtype: float64"
      ]
     },
     "execution_count": 22,
     "metadata": {},
     "output_type": "execute_result"
    }
   ],
   "source": [
    "level1_only.groupby('content_id').size().sort_values(ascending=True).describe()"
   ]
  },
  {
   "cell_type": "code",
   "execution_count": 23,
   "metadata": {},
   "outputs": [
    {
     "data": {
      "text/plain": [
       "count    89081.000000\n",
       "mean         1.441070\n",
       "std          0.821392\n",
       "min          1.000000\n",
       "25%          1.000000\n",
       "50%          1.000000\n",
       "75%          2.000000\n",
       "max         35.000000\n",
       "dtype: float64"
      ]
     },
     "execution_count": 23,
     "metadata": {},
     "output_type": "execute_result"
    }
   ],
   "source": [
    "level2_only.groupby('content_id').size().sort_values(ascending=True).describe()"
   ]
  },
  {
   "cell_type": "code",
   "execution_count": 24,
   "metadata": {},
   "outputs": [
    {
     "data": {
      "text/plain": [
       "count    45240.000000\n",
       "mean         1.209814\n",
       "std          0.607367\n",
       "min          1.000000\n",
       "25%          1.000000\n",
       "50%          1.000000\n",
       "75%          1.000000\n",
       "max         16.000000\n",
       "dtype: float64"
      ]
     },
     "execution_count": 24,
     "metadata": {},
     "output_type": "execute_result"
    }
   ],
   "source": [
    "level3_only.groupby('content_id').size().sort_values(ascending=True).describe()"
   ]
  },
  {
   "cell_type": "code",
   "execution_count": 25,
   "metadata": {},
   "outputs": [
    {
     "data": {
      "text/plain": [
       "count    9926.000000\n",
       "mean        1.203103\n",
       "std         0.499122\n",
       "min         1.000000\n",
       "25%         1.000000\n",
       "50%         1.000000\n",
       "75%         1.000000\n",
       "max        11.000000\n",
       "dtype: float64"
      ]
     },
     "execution_count": 25,
     "metadata": {},
     "output_type": "execute_result"
    }
   ],
   "source": [
    "level4_only.groupby('content_id').size().sort_values(ascending=True).describe()"
   ]
  },
  {
   "cell_type": "code",
   "execution_count": 26,
   "metadata": {},
   "outputs": [
    {
     "data": {
      "text/plain": [
       "count    1639.000000\n",
       "mean        1.222697\n",
       "std         0.542299\n",
       "min         1.000000\n",
       "25%         1.000000\n",
       "50%         1.000000\n",
       "75%         1.000000\n",
       "max         5.000000\n",
       "dtype: float64"
      ]
     },
     "execution_count": 26,
     "metadata": {},
     "output_type": "execute_result"
    }
   ],
   "source": [
    "level5_only.groupby('content_id').size().sort_values(ascending=True).describe()"
   ]
  },
  {
   "cell_type": "markdown",
   "metadata": {},
   "source": [
    "## Level1  taxons"
   ]
  },
  {
   "cell_type": "markdown",
   "metadata": {},
   "source": [
    "Expecting 19 top taxons (plus `None`)"
   ]
  },
  {
   "cell_type": "code",
   "execution_count": null,
   "metadata": {},
   "outputs": [],
   "source": [
    "assert content_taxons_dedup.level1taxon.nunique() == 19\n",
    "\n",
    "print(\"There are {} unique taxon names in the level 1 taxon\"\n",
    "      .format(content_taxons_dedup.level1taxon.nunique()))\n",
    "\n",
    "set(content_taxons_dedup.level1taxon)"
   ]
  },
  {
   "cell_type": "code",
   "execution_count": null,
   "metadata": {},
   "outputs": [],
   "source": [
    "topfreq = content_taxons_dedup.groupby('level1taxon').size()\n",
    "topfreq.sort_values(ascending=False)"
   ]
  },
  {
   "cell_type": "code",
   "execution_count": null,
   "metadata": {},
   "outputs": [],
   "source": [
    "topfreq.sort_values().plot(kind = 'barh', figsize=(20, 20))"
   ]
  },
  {
   "cell_type": "markdown",
   "metadata": {},
   "source": [
    "Formally, Kendall's τ coefficient is defined as:\n",
    "\n",
    "$${\\tau ={\\frac {({\\text{number of concordant pairs}})-({\\text{number of discordant pairs}})}{N(N-1)/2}}}$$"
   ]
  },
  {
   "cell_type": "code",
   "execution_count": null,
   "metadata": {},
   "outputs": [],
   "source": [
    "level1_counts= content_taxons_dedup.groupby(['content_id', 'level1taxon']).size().unstack(fill_value=0)\n",
    "level1_corr=level1_counts.corr(method = \"kendall\")\n",
    "\n",
    "# plot the heatmap\n",
    "fig, ax = plt.subplots(figsize=(10,10))\n",
    "sns.set()\n",
    "sns.heatmap(level1_corr, \n",
    "        xticklabels=level1_corr.columns,\n",
    "        yticklabels=level1_corr.columns)"
   ]
  },
  {
   "cell_type": "code",
   "execution_count": null,
   "metadata": {},
   "outputs": [],
   "source": [
    "top_doctype = pd.crosstab(content_taxons_dedup['document_type'], content_taxons_dedup['level1taxon'])\n",
    "fig, ax = plt.subplots(figsize=(10,10)) \n",
    "sns.heatmap(top_doctype, cmap = \"YlGnBu\")"
   ]
  },
  {
   "cell_type": "code",
   "execution_count": null,
   "metadata": {},
   "outputs": [],
   "source": [
    "top_pubapp = pd.crosstab(content_taxons_dedup['publishing_app'], content_taxons_dedup['level1taxon'])\n",
    "fig, ax = plt.subplots(figsize=(10,5))\n",
    "sns.heatmap(top_pubapp, cmap = \"YlGnBu\")"
   ]
  },
  {
   "cell_type": "code",
   "execution_count": null,
   "metadata": {},
   "outputs": [],
   "source": [
    "content_taxons_dedup.groupby('level1taxon').size().sort_values(ascending=False)"
   ]
  },
  {
   "cell_type": "markdown",
   "metadata": {},
   "source": [
    "### Level 2 taxons"
   ]
  },
  {
   "cell_type": "code",
   "execution_count": null,
   "metadata": {},
   "outputs": [],
   "source": [
    "#assert content_taxons_dedup.level2taxon.nunique() == 103\n",
    "\n",
    "print(\"There are {} unique taxon names in the level 2 taxon\"\n",
    "      .format(content_taxons_dedup.level2taxon.nunique()))"
   ]
  },
  {
   "cell_type": "code",
   "execution_count": null,
   "metadata": {},
   "outputs": [],
   "source": [
    "second_freq = content_taxons_dedup.groupby('level2taxon').size().sort_values(ascending=False)\n",
    "\n",
    "# Print as string to get around truncation\n",
    "\n",
    "print(second_freq.to_string())\n",
    "\n"
   ]
  },
  {
   "cell_type": "code",
   "execution_count": null,
   "metadata": {},
   "outputs": [],
   "source": [
    "second_freq.sort_values().plot(kind = 'barh', figsize=(10,30), fontsize=8)"
   ]
  },
  {
   "cell_type": "code",
   "execution_count": null,
   "metadata": {},
   "outputs": [],
   "source": [
    "level2_counts= content_taxons_dedup.groupby(['content_id', 'level2taxon']).size().unstack(fill_value=0)\n",
    "level2_corr=level2_counts.corr(method = \"kendall\")\n",
    "\n",
    "# plot the heatmap\n",
    "# fig, ax = plt.subplots(figsize=(20,20))\n",
    "# sns.set(font_scale=0.4)\n",
    "# sns.heatmap(level2_corr, \n",
    "#         xticklabels=level2_corr.columns,\n",
    "#         yticklabels=level2_corr.columns)"
   ]
  },
  {
   "cell_type": "markdown",
   "metadata": {},
   "source": [
    "### Mutually exclusive taxon combinations (level1 and level2)"
   ]
  },
  {
   "cell_type": "code",
   "execution_count": null,
   "metadata": {},
   "outputs": [],
   "source": [
    "#Only keep rows where level1/level2 combination is unique\n",
    "level2_dedup = content_taxons_dedup.drop_duplicates(subset = ['content_id', 'level1taxon', 'level2taxon']).copy()\n",
    "#Identify and drop rows where level2 is missing\n",
    "mask= pd.notnull(level2_dedup['level2taxon'])\n",
    "level2_tagged = level2_dedup[mask]"
   ]
  },
  {
   "cell_type": "code",
   "execution_count": null,
   "metadata": {},
   "outputs": [],
   "source": [
    "#concatenate the name of each level2taxon for a single content item\n",
    "level2_tagged = level2_tagged.groupby('content_id')['level2taxon'].apply(','.join).reset_index()\n",
    "print(\"there are {} mutually exclusive combinations of level2 taxon combinations.\".format(level2_tagged.level2taxon.nunique()))"
   ]
  },
  {
   "cell_type": "code",
   "execution_count": null,
   "metadata": {},
   "outputs": [],
   "source": [
    "sns.set()\n",
    "#Get frequency counts for each of the mutually exclusive taxon2 combinations\n",
    "mutualex_freq = level2_tagged.groupby('level2taxon').size().sort_values(ascending=True)\n",
    "\n",
    "#Keep those with higher frequency\n",
    "mutualex_freq_top = mutualex_freq[mutualex_freq > 30]\n",
    "print(\"There are {} mutually exclusive combinations of level2 taxon combinations populated with more than 30 content items\".format(len(mutualex_freq_top)))\n",
    "\n",
    "mutualex_freq_top.plot(kind = 'barh', figsize=(10,30))\n",
    "plt.rc('ytick', labelsize=10)"
   ]
  },
  {
   "cell_type": "code",
   "execution_count": null,
   "metadata": {},
   "outputs": [],
   "source": [
    "# Print as string to get around truncation\n",
    "\n",
    "print(mutualex_freq.to_string())"
   ]
  }
 ],
 "metadata": {
  "keep_output": true,
  "kernelspec": {
   "display_name": "tax_SL",
   "language": "python",
   "name": "tax_sl"
  },
  "language_info": {
   "codemirror_mode": {
    "name": "ipython",
    "version": 3
   },
   "file_extension": ".py",
   "mimetype": "text/x-python",
   "name": "python",
   "nbconvert_exporter": "python",
   "pygments_lexer": "ipython3",
   "version": "3.4.6"
  }
 },
 "nbformat": 4,
 "nbformat_minor": 2
}
