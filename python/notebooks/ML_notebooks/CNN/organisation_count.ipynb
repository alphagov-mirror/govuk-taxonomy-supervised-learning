{
 "cells": [
  {
   "cell_type": "code",
   "execution_count": 1,
   "metadata": {
    "scrolled": true
   },
   "outputs": [
    {
     "name": "stderr",
     "output_type": "stream",
     "text": [
      "/Users/felisialoukou/.pyenv/versions/3.4.6/lib/python3.4/importlib/_bootstrap.py:321: FutureWarning: Conversion of the second argument of issubdtype from `float` to `np.floating` is deprecated. In future, it will be treated as `np.float64 == np.dtype(float).type`.\n",
      "  return f(*args, **kwds)\n"
     ]
    }
   ],
   "source": [
    "import pandas as pd\n",
    "import numpy as np\n",
    "import os\n",
    "import operator\n",
    "\n",
    "from sklearn.metrics import confusion_matrix, f1_score, precision_score, recall_score \n",
    "from sklearn.metrics import precision_recall_fscore_support, classification_report\n",
    "\n",
    "import matplotlib.pyplot as plt\n",
    "%matplotlib inline\n",
    "\n",
    "import functools\n",
    "\n",
    "import h5py"
   ]
  },
  {
   "cell_type": "markdown",
   "metadata": {},
   "source": [
    "## Environmental vars"
   ]
  },
  {
   "cell_type": "code",
   "execution_count": 2,
   "metadata": {},
   "outputs": [],
   "source": [
    "P_THRESHOLD=0.5"
   ]
  },
  {
   "cell_type": "code",
   "execution_count": 3,
   "metadata": {
    "scrolled": true
   },
   "outputs": [
    {
     "data": {
      "text/plain": [
       "'/Users/felisialoukou/Documents/govuk-taxonomy-supervised-learning/data/2018-03-12'"
      ]
     },
     "execution_count": 3,
     "metadata": {},
     "output_type": "execute_result"
    }
   ],
   "source": [
    "DATADIR=os.getenv('DATADIR')\n",
    "RESULTS_DIR = os.path.join(DATADIR, \"2018-03-12\")\n",
    "RESULTS_DIR"
   ]
  },
  {
   "cell_type": "markdown",
   "metadata": {},
   "source": [
    "## Get some data about taxons/content"
   ]
  },
  {
   "cell_type": "code",
   "execution_count": 4,
   "metadata": {},
   "outputs": [],
   "source": [
    "labelled_level2 = pd.read_csv(\n",
    "    os.path.join(RESULTS_DIR, 'labelled_level2.csv.gz'),\n",
    "    dtype=object,\n",
    "    compression='gzip'\n",
    ")"
   ]
  },
  {
   "cell_type": "code",
   "execution_count": 5,
   "metadata": {},
   "outputs": [],
   "source": [
    "# Create World taxon in case any items not identified \n",
    "# through doc type in clean_content are still present\n",
    "labelled_level2.loc[labelled_level2['level1taxon'] == 'World', 'level2taxon'] = 'world_level1'"
   ]
  },
  {
   "cell_type": "code",
   "execution_count": 6,
   "metadata": {},
   "outputs": [],
   "source": [
    "# creating categorical variable for level2taxons from values\n",
    "labelled_level2['level2taxon'] = labelled_level2['level2taxon'].astype('category')\n",
    "\n",
    "# Add 1 because of zero-indexing to get 1-number of level2taxons as numerical targets\n",
    "labelled_level2['level2taxon_code'] = labelled_level2.level2taxon.astype('category').cat.codes + 1\n",
    "\n",
    "# create dictionary of taxon category code to string label for use in model evaluation\n",
    "labels_index = dict(zip((labelled_level2['level2taxon_code']),\n",
    "                        labelled_level2['level2taxon']))"
   ]
  },
  {
   "cell_type": "code",
   "execution_count": 55,
   "metadata": {},
   "outputs": [
    {
     "data": {
      "text/plain": [
       "(123900, 32)"
      ]
     },
     "execution_count": 55,
     "metadata": {},
     "output_type": "execute_result"
    }
   ],
   "source": [
    "labelled_level2.shape"
   ]
  },
  {
   "cell_type": "code",
   "execution_count": 56,
   "metadata": {},
   "outputs": [],
   "source": [
    "labelled_level2.drop_duplicates(subset='content_id', keep='first', inplace=True)"
   ]
  },
  {
   "cell_type": "code",
   "execution_count": 57,
   "metadata": {},
   "outputs": [],
   "source": [
    "dict_pub = labelled_level2['primary_publishing_organisation'].value_counts()"
   ]
  },
  {
   "cell_type": "code",
   "execution_count": 58,
   "metadata": {},
   "outputs": [
    {
     "name": "stdout",
     "output_type": "stream",
     "text": [
      "Office of the Schools Adjudicator\n",
      "Groceries Code Adjudicator\n",
      "Pubs Code Adjudicator\n"
     ]
    }
   ],
   "source": [
    "for key,value in dict_pub.items():\n",
    "    if isinstance(key,str) and \"Adju\" in key:\n",
    "        print(key)"
   ]
  },
  {
   "cell_type": "code",
   "execution_count": 102,
   "metadata": {},
   "outputs": [],
   "source": [
    "list_org = ['Valuation Office Agency','HM Revenue & Customs','District Valuer Services (DVS)']"
   ]
  },
  {
   "cell_type": "code",
   "execution_count": 60,
   "metadata": {},
   "outputs": [
    {
     "data": {
      "text/plain": [
       "Index(['base_path', 'content_id', 'content_purpose_document_supertype',\n",
       "       'content_purpose_subgroup', 'content_purpose_supergroup', 'description',\n",
       "       'details', 'document_type', 'email_document_supertype',\n",
       "       'first_published_at', 'government_document_supertype', 'locale',\n",
       "       'navigation_document_supertype', 'public_updated_at', 'publishing_app',\n",
       "       'search_user_need_document_supertype', 'title', 'updated_at',\n",
       "       'user_journey_document_supertype', 'document_type_gp',\n",
       "       'primary_publishing_organisation', 'body', 'combined_text', 'taxon_id',\n",
       "       'taxon_base_path', 'taxon_name', 'level1taxon', 'level2taxon',\n",
       "       'level3taxon', 'level4taxon', 'level5taxon', 'level2taxon_code'],\n",
       "      dtype='object')"
      ]
     },
     "execution_count": 60,
     "metadata": {},
     "output_type": "execute_result"
    }
   ],
   "source": [
    "labelled_level2.columns"
   ]
  },
  {
   "cell_type": "code",
   "execution_count": 61,
   "metadata": {},
   "outputs": [
    {
     "name": "stdout",
     "output_type": "stream",
     "text": [
      "Valuation Office Agency : 44\n",
      "HM Revenue & Customs : 663\n",
      "District Valuer Services (DVS) : 4\n"
     ]
    }
   ],
   "source": [
    "for org in list_org:\n",
    "    print(org,\":\",labelled_level2.loc[(labelled_level2['primary_publishing_organisation']==org) & \n",
    "                                      (labelled_level2['level3taxon'].isnull())].shape[0])"
   ]
  },
  {
   "cell_type": "code",
   "execution_count": null,
   "metadata": {},
   "outputs": [],
   "source": [
    "labelled_level2['level3taxon'].isnull()"
   ]
  },
  {
   "cell_type": "code",
   "execution_count": 8,
   "metadata": {},
   "outputs": [],
   "source": [
    "path = \"/Users/felisialoukou/Downloads/hm-revenue-customs_and_descendants.txt\""
   ]
  },
  {
   "cell_type": "code",
   "execution_count": null,
   "metadata": {},
   "outputs": [],
   "source": [
    "lines = []"
   ]
  },
  {
   "cell_type": "code",
   "execution_count": 64,
   "metadata": {},
   "outputs": [
    {
     "name": "stdout",
     "output_type": "stream",
     "text": [
      "found lvl2 ['', '', '', '1', '', '', '', '', 'Welfare', 'reform'] 1\n",
      "found lvl2 ['', '', '38', '', '', '', '', 'Tax', 'credits'] 38\n",
      "found lvl2 ['', '', '26', '', '', '', '', 'Child', 'Benefit', '(welfare', 'theme)'] 26\n",
      "found lvl2 ['', '', '', '1', '', '', '', '', 'Arts', 'and', 'culture'] 1\n",
      "found lvl2 ['', '', '', '2', '', '', '', '', 'Community', 'and', 'society'] 2\n",
      "found lvl2 ['', '', '', '1', '', '', '', '', 'Sports', 'and', 'leisure'] 1\n",
      "found lvl2 ['', '', '', '2', '', '', '', '', 'Rural', 'and', 'countryside'] 2\n",
      "found lvl2 ['', '', '', '0', '', '', '', '', 'Oil', 'and', 'gas'] 0\n",
      "found lvl2 ['', '', '40', '', '', '', '', 'Climate', 'change', 'and', 'energy'] 40\n",
      "found lvl2 ['', '', '', '1', '', '', '', '', 'Food', 'and', 'farming'] 1\n",
      "found lvl2 ['', '', '', '1', '', '', '', '', 'Freight', 'and', 'cargo'] 1\n",
      "found lvl2 ['', '', '', '1', '', '', '', '', 'Transport', 'security'] 1\n",
      "found lvl2 ['', '', '', '0', '', '', '', '', 'Driving', 'and', 'road', 'transport'] 0\n",
      "found lvl2 ['', '', '', '0', '', '', '', '', 'Maritime'] 0\n",
      "found lvl2 ['', '', '', '1', '', '', '', '', 'National', 'Health', 'Service'] 1\n",
      "found lvl2 ['', '', '', '2', '', '', '', '', 'Social', 'care'] 2\n",
      "found lvl2 ['', '', '', '3', '', '', '', '', 'Public', 'health'] 3\n",
      "found lvl2 ['', '', '', '1', '', '', '', '', 'Media', 'and', 'communications'] 1\n",
      "found lvl2 ['', '', '', '1', '', '', '', '', 'Regulation', 'reform'] 1\n",
      "found lvl2 ['', '', '', '3', '', '', '', '', 'Financial', 'services'] 3\n",
      "found lvl2 ['', '183', '', '', '', '', 'Trade', 'and', 'investment'] 183\n",
      "found lvl2 ['', '', '11', '', '', '', '', 'Business', 'and', 'enterprise'] 11\n",
      "found lvl2 ['', '131', '', '', '', '', 'UK', 'economy'] 131\n",
      "found lvl2 ['', '', '', '0', '', '', '', '', 'Local', 'government'] 0\n",
      "found lvl2 ['', '', '', '2', '', '', '', '', 'Scotland'] 2\n",
      "found lvl2 ['', '', '', '1', '', '', '', '', 'Government', 'graduate', 'schemes'] 1\n",
      "found lvl2 ['', '', '39', '', '', '', '', 'Self-employment'] 39\n",
      "found lvl2 ['', '', '', '9', '', '', '', '', 'Pensions', 'and', 'ageing', 'society'] 9\n",
      "found lvl2 ['', '135', '', '', '', '', 'Tax', 'evasion', 'and', 'avoidance'] 135\n",
      "found lvl2 ['', '', '15', '', '', '', '', 'Money', 'laundering', 'regulations'] 15\n",
      "found lvl2 ['', '', '', '0', '', '', '', '', 'Personal', 'tax'] 0\n",
      "found lvl2 ['', '', '', '1', '', '', '', '', 'Business', 'tax'] 1\n",
      "found lvl2 ['', '', '', '0', '', '', '', '', 'Dealing', 'with', 'HMRC'] 0\n",
      "found lvl2 ['', '', '', '0', '', '', '', '', 'Visas', 'and', 'entry', 'clearance'] 0\n",
      "found lvl2 ['', '', '', '1', '', '', '', '', 'Bringing', 'personal', 'belongings', 'to', 'the', 'UK'] 1\n"
     ]
    },
    {
     "data": {
      "text/plain": [
       "653"
      ]
     },
     "execution_count": 64,
     "metadata": {},
     "output_type": "execute_result"
    }
   ],
   "source": [
    "total = 0\n",
    "with open(path,'r') as f:\n",
    "    for line in f: \n",
    "        token_line = line.strip(\"\\n\").split(\" \")\n",
    "#         print(token_line)\n",
    "        for i,token in enumerate(token_line):\n",
    "            local_count = 0\n",
    "            if token.isdigit():\n",
    "#                 print(token_line[i])\n",
    "                for j in range(i+1,len(token_line)):\n",
    "#                     print(\"j\",j)\n",
    "                    if token_line[j] == \"\":\n",
    "                        local_count+=1\n",
    "#                         print(\"Spaces in:\",local_count)\n",
    "                    else:\n",
    "#                         print('found word',token_line[j])\n",
    "                        break\n",
    "            if local_count == 4:\n",
    "                something = line.strip(\"\\n\").split()\n",
    "                print(\"found lvl2\",token_line,something[0])\n",
    "                total+= int(something[0])\n",
    "                break\n",
    "total"
   ]
  },
  {
   "cell_type": "code",
   "execution_count": 65,
   "metadata": {},
   "outputs": [],
   "source": [
    "clean_content = pd.read_csv(\n",
    "    os.path.join(RESULTS_DIR, 'clean_content.csv.gz'),\n",
    "    dtype=object,\n",
    "    compression='gzip'\n",
    ")"
   ]
  },
  {
   "cell_type": "code",
   "execution_count": 66,
   "metadata": {},
   "outputs": [
    {
     "data": {
      "text/html": [
       "<div>\n",
       "<style scoped>\n",
       "    .dataframe tbody tr th:only-of-type {\n",
       "        vertical-align: middle;\n",
       "    }\n",
       "\n",
       "    .dataframe tbody tr th {\n",
       "        vertical-align: top;\n",
       "    }\n",
       "\n",
       "    .dataframe thead th {\n",
       "        text-align: right;\n",
       "    }\n",
       "</style>\n",
       "<table border=\"1\" class=\"dataframe\">\n",
       "  <thead>\n",
       "    <tr style=\"text-align: right;\">\n",
       "      <th></th>\n",
       "      <th>base_path</th>\n",
       "      <th>content_id</th>\n",
       "      <th>content_purpose_document_supertype</th>\n",
       "      <th>content_purpose_subgroup</th>\n",
       "      <th>content_purpose_supergroup</th>\n",
       "      <th>description</th>\n",
       "      <th>details</th>\n",
       "      <th>document_type</th>\n",
       "      <th>email_document_supertype</th>\n",
       "      <th>first_published_at</th>\n",
       "      <th>...</th>\n",
       "      <th>search_user_need_document_supertype</th>\n",
       "      <th>title</th>\n",
       "      <th>updated_at</th>\n",
       "      <th>user_journey_document_supertype</th>\n",
       "      <th>document_type_gp</th>\n",
       "      <th>primary_publishing_organisation</th>\n",
       "      <th>body</th>\n",
       "      <th>combined_text</th>\n",
       "      <th>variable</th>\n",
       "      <th>taxon_id</th>\n",
       "    </tr>\n",
       "  </thead>\n",
       "  <tbody>\n",
       "    <tr>\n",
       "      <th>0</th>\n",
       "      <td>/government/news/uk-reaffirms-commitment-to-wo...</td>\n",
       "      <td>fa30b2ae-44b7-4f71-88ca-7e4f432d9c17</td>\n",
       "      <td>news</td>\n",
       "      <td>news</td>\n",
       "      <td>news_and_communications</td>\n",
       "      <td>nearly a month after the uk voted to leave the...</td>\n",
       "      <td>{'body': '&lt;div class=\"govspeak\"&gt;&lt;p&gt;The United ...</td>\n",
       "      <td>world_news_story</td>\n",
       "      <td>announcements</td>\n",
       "      <td>2016-08-16 19:48:45.000</td>\n",
       "      <td>...</td>\n",
       "      <td>government</td>\n",
       "      <td>uk reaffirms commitment to work with honduras ...</td>\n",
       "      <td>2018-03-09 05:35:25.799</td>\n",
       "      <td>thing</td>\n",
       "      <td>news_and_announcements</td>\n",
       "      <td>NaN</td>\n",
       "      <td>the united kingdom will remain a committed par...</td>\n",
       "      <td>uk reaffirms commitment to work with honduras ...</td>\n",
       "      <td>0</td>\n",
       "      <td>21eee04d-e702-4e7b-9fde-2f6777f1be2c</td>\n",
       "    </tr>\n",
       "    <tr>\n",
       "      <th>1</th>\n",
       "      <td>/government/news/thirty-greek-students-receive...</td>\n",
       "      <td>e6789cf4-a6d8-4a4e-ab10-cc4c2ea8c08b</td>\n",
       "      <td>news</td>\n",
       "      <td>news</td>\n",
       "      <td>news_and_communications</td>\n",
       "      <td>the students were presented the award at a cer...</td>\n",
       "      <td>{'body': '&lt;div class=\"govspeak\"&gt;&lt;p&gt;Thirty stud...</td>\n",
       "      <td>world_news_story</td>\n",
       "      <td>announcements</td>\n",
       "      <td>2016-09-01 11:24:00.000</td>\n",
       "      <td>...</td>\n",
       "      <td>government</td>\n",
       "      <td>thirty greek students receive the diana award ...</td>\n",
       "      <td>2018-03-08 18:04:30.518</td>\n",
       "      <td>thing</td>\n",
       "      <td>news_and_announcements</td>\n",
       "      <td>NaN</td>\n",
       "      <td>thirty students from rethymnon crete members o...</td>\n",
       "      <td>thirty greek students receive the diana award ...</td>\n",
       "      <td>0</td>\n",
       "      <td>668cd623-c7a8-4159-9575-90caac36d4b4</td>\n",
       "    </tr>\n",
       "    <tr>\n",
       "      <th>2</th>\n",
       "      <td>/government/news/uk-and-bulgaria-discuss-the-b...</td>\n",
       "      <td>ea8bf01a-b528-4ced-9b7d-fda5f2b1f116</td>\n",
       "      <td>news</td>\n",
       "      <td>news</td>\n",
       "      <td>news_and_communications</td>\n",
       "      <td>british ambassador jonathan allen the head of ...</td>\n",
       "      <td>{'body': '&lt;div class=\"govspeak\"&gt;&lt;p&gt;On 27 Novem...</td>\n",
       "      <td>world_news_story</td>\n",
       "      <td>announcements</td>\n",
       "      <td>2014-11-27 13:09:02.000</td>\n",
       "      <td>...</td>\n",
       "      <td>government</td>\n",
       "      <td>uk and bulgaria discuss the benefits of a refo...</td>\n",
       "      <td>2018-03-08 17:27:38.345</td>\n",
       "      <td>thing</td>\n",
       "      <td>news_and_announcements</td>\n",
       "      <td>NaN</td>\n",
       "      <td>on 27 november british embassy sofia organised...</td>\n",
       "      <td>uk and bulgaria discuss the benefits of a refo...</td>\n",
       "      <td>0</td>\n",
       "      <td>3afd1d79-597d-4f97-bc7a-83766dcab2f4</td>\n",
       "    </tr>\n",
       "    <tr>\n",
       "      <th>3</th>\n",
       "      <td>/government/news/eid-message-video-by-mr-thoma...</td>\n",
       "      <td>db4aaa38-ba7d-4008-a88a-861a5579bc35</td>\n",
       "      <td>news</td>\n",
       "      <td>news</td>\n",
       "      <td>news_and_communications</td>\n",
       "      <td>british ambassador to morocco mr thomas reilly...</td>\n",
       "      <td>{'body': '&lt;div class=\"govspeak\"&gt;&lt;p&gt;&lt;a rel=\"ext...</td>\n",
       "      <td>world_news_story</td>\n",
       "      <td>announcements</td>\n",
       "      <td>2017-07-03 13:08:00.000</td>\n",
       "      <td>...</td>\n",
       "      <td>government</td>\n",
       "      <td>eid message by hma thomas reilly</td>\n",
       "      <td>2018-03-09 05:11:34.932</td>\n",
       "      <td>thing</td>\n",
       "      <td>news_and_announcements</td>\n",
       "      <td>NaN</td>\n",
       "      <td>ambassador eid on the occasion of eid al fitr ...</td>\n",
       "      <td>eid message by hma thomas reilly british ambas...</td>\n",
       "      <td>0</td>\n",
       "      <td>668cd623-c7a8-4159-9575-90caac36d4b4</td>\n",
       "    </tr>\n",
       "    <tr>\n",
       "      <th>4</th>\n",
       "      <td>/government/news/uk-food-drink-companies-visit...</td>\n",
       "      <td>52956505-d855-4dca-8d71-c2347f189100</td>\n",
       "      <td>news</td>\n",
       "      <td>news</td>\n",
       "      <td>news_and_communications</td>\n",
       "      <td>uk trade and investment (ukti) india in partne...</td>\n",
       "      <td>{'body': '&lt;div class=\"govspeak\"&gt;&lt;p&gt;The delegat...</td>\n",
       "      <td>world_news_story</td>\n",
       "      <td>announcements</td>\n",
       "      <td>2016-01-19 10:32:00.000</td>\n",
       "      <td>...</td>\n",
       "      <td>government</td>\n",
       "      <td>uk food &amp; drink companies visit india looking ...</td>\n",
       "      <td>2018-03-08 20:19:55.729</td>\n",
       "      <td>thing</td>\n",
       "      <td>news_and_announcements</td>\n",
       "      <td>NaN</td>\n",
       "      <td>the delegation of 15 companies brings speciali...</td>\n",
       "      <td>uk food &amp; drink companies visit india looking ...</td>\n",
       "      <td>0</td>\n",
       "      <td>52ff5c99-a17b-42c4-a9d7-2cc92cccca39</td>\n",
       "    </tr>\n",
       "  </tbody>\n",
       "</table>\n",
       "<p>5 rows × 25 columns</p>\n",
       "</div>"
      ],
      "text/plain": [
       "                                           base_path  \\\n",
       "0  /government/news/uk-reaffirms-commitment-to-wo...   \n",
       "1  /government/news/thirty-greek-students-receive...   \n",
       "2  /government/news/uk-and-bulgaria-discuss-the-b...   \n",
       "3  /government/news/eid-message-video-by-mr-thoma...   \n",
       "4  /government/news/uk-food-drink-companies-visit...   \n",
       "\n",
       "                             content_id content_purpose_document_supertype  \\\n",
       "0  fa30b2ae-44b7-4f71-88ca-7e4f432d9c17                               news   \n",
       "1  e6789cf4-a6d8-4a4e-ab10-cc4c2ea8c08b                               news   \n",
       "2  ea8bf01a-b528-4ced-9b7d-fda5f2b1f116                               news   \n",
       "3  db4aaa38-ba7d-4008-a88a-861a5579bc35                               news   \n",
       "4  52956505-d855-4dca-8d71-c2347f189100                               news   \n",
       "\n",
       "  content_purpose_subgroup content_purpose_supergroup  \\\n",
       "0                     news    news_and_communications   \n",
       "1                     news    news_and_communications   \n",
       "2                     news    news_and_communications   \n",
       "3                     news    news_and_communications   \n",
       "4                     news    news_and_communications   \n",
       "\n",
       "                                         description  \\\n",
       "0  nearly a month after the uk voted to leave the...   \n",
       "1  the students were presented the award at a cer...   \n",
       "2  british ambassador jonathan allen the head of ...   \n",
       "3  british ambassador to morocco mr thomas reilly...   \n",
       "4  uk trade and investment (ukti) india in partne...   \n",
       "\n",
       "                                             details     document_type  \\\n",
       "0  {'body': '<div class=\"govspeak\"><p>The United ...  world_news_story   \n",
       "1  {'body': '<div class=\"govspeak\"><p>Thirty stud...  world_news_story   \n",
       "2  {'body': '<div class=\"govspeak\"><p>On 27 Novem...  world_news_story   \n",
       "3  {'body': '<div class=\"govspeak\"><p><a rel=\"ext...  world_news_story   \n",
       "4  {'body': '<div class=\"govspeak\"><p>The delegat...  world_news_story   \n",
       "\n",
       "  email_document_supertype       first_published_at  \\\n",
       "0            announcements  2016-08-16 19:48:45.000   \n",
       "1            announcements  2016-09-01 11:24:00.000   \n",
       "2            announcements  2014-11-27 13:09:02.000   \n",
       "3            announcements  2017-07-03 13:08:00.000   \n",
       "4            announcements  2016-01-19 10:32:00.000   \n",
       "\n",
       "                   ...                  search_user_need_document_supertype  \\\n",
       "0                  ...                                           government   \n",
       "1                  ...                                           government   \n",
       "2                  ...                                           government   \n",
       "3                  ...                                           government   \n",
       "4                  ...                                           government   \n",
       "\n",
       "                                               title               updated_at  \\\n",
       "0  uk reaffirms commitment to work with honduras ...  2018-03-09 05:35:25.799   \n",
       "1  thirty greek students receive the diana award ...  2018-03-08 18:04:30.518   \n",
       "2  uk and bulgaria discuss the benefits of a refo...  2018-03-08 17:27:38.345   \n",
       "3                   eid message by hma thomas reilly  2018-03-09 05:11:34.932   \n",
       "4  uk food & drink companies visit india looking ...  2018-03-08 20:19:55.729   \n",
       "\n",
       "  user_journey_document_supertype        document_type_gp  \\\n",
       "0                           thing  news_and_announcements   \n",
       "1                           thing  news_and_announcements   \n",
       "2                           thing  news_and_announcements   \n",
       "3                           thing  news_and_announcements   \n",
       "4                           thing  news_and_announcements   \n",
       "\n",
       "  primary_publishing_organisation  \\\n",
       "0                             NaN   \n",
       "1                             NaN   \n",
       "2                             NaN   \n",
       "3                             NaN   \n",
       "4                             NaN   \n",
       "\n",
       "                                                body  \\\n",
       "0  the united kingdom will remain a committed par...   \n",
       "1  thirty students from rethymnon crete members o...   \n",
       "2  on 27 november british embassy sofia organised...   \n",
       "3  ambassador eid on the occasion of eid al fitr ...   \n",
       "4  the delegation of 15 companies brings speciali...   \n",
       "\n",
       "                                       combined_text variable  \\\n",
       "0  uk reaffirms commitment to work with honduras ...        0   \n",
       "1  thirty greek students receive the diana award ...        0   \n",
       "2  uk and bulgaria discuss the benefits of a refo...        0   \n",
       "3  eid message by hma thomas reilly british ambas...        0   \n",
       "4  uk food & drink companies visit india looking ...        0   \n",
       "\n",
       "                               taxon_id  \n",
       "0  21eee04d-e702-4e7b-9fde-2f6777f1be2c  \n",
       "1  668cd623-c7a8-4159-9575-90caac36d4b4  \n",
       "2  3afd1d79-597d-4f97-bc7a-83766dcab2f4  \n",
       "3  668cd623-c7a8-4159-9575-90caac36d4b4  \n",
       "4  52ff5c99-a17b-42c4-a9d7-2cc92cccca39  \n",
       "\n",
       "[5 rows x 25 columns]"
      ]
     },
     "execution_count": 66,
     "metadata": {},
     "output_type": "execute_result"
    }
   ],
   "source": [
    "clean_content.head()"
   ]
  },
  {
   "cell_type": "code",
   "execution_count": 67,
   "metadata": {},
   "outputs": [
    {
     "name": "stdout",
     "output_type": "stream",
     "text": [
      "Valuation Office Agency : 96\n",
      "HM Revenue & Customs : 11621\n",
      "District Valuer Services (DVS) : 4\n"
     ]
    }
   ],
   "source": [
    "for org in list_org:\n",
    "    print(org,\":\",clean_content.loc[(clean_content['primary_publishing_organisation']==org)].shape[0])"
   ]
  },
  {
   "cell_type": "code",
   "execution_count": 68,
   "metadata": {},
   "outputs": [
    {
     "name": "stdout",
     "output_type": "stream",
     "text": [
      "Office of the Schools Adjudicator\n",
      "Groceries Code Adjudicator\n",
      "Pubs Code Adjudicator\n"
     ]
    }
   ],
   "source": [
    "dict_pub_all = clean_content['primary_publishing_organisation'].value_counts()\n",
    "\n",
    "for key,value in dict_pub.items():\n",
    "    if isinstance(key,str) and \"Adju\" in key:\n",
    "        print(key)"
   ]
  },
  {
   "cell_type": "code",
   "execution_count": 69,
   "metadata": {},
   "outputs": [
    {
     "data": {
      "text/plain": [
       "Index(['base_path', 'content_id', 'content_purpose_document_supertype',\n",
       "       'content_purpose_subgroup', 'content_purpose_supergroup', 'description',\n",
       "       'details', 'document_type', 'email_document_supertype',\n",
       "       'first_published_at', 'government_document_supertype', 'locale',\n",
       "       'navigation_document_supertype', 'public_updated_at', 'publishing_app',\n",
       "       'search_user_need_document_supertype', 'title', 'updated_at',\n",
       "       'user_journey_document_supertype', 'document_type_gp',\n",
       "       'primary_publishing_organisation', 'body', 'combined_text', 'variable',\n",
       "       'taxon_id'],\n",
       "      dtype='object')"
      ]
     },
     "execution_count": 69,
     "metadata": {},
     "output_type": "execute_result"
    }
   ],
   "source": [
    "clean_content.columns"
   ]
  },
  {
   "cell_type": "code",
   "execution_count": 70,
   "metadata": {},
   "outputs": [],
   "source": [
    "content = pd.read_json(\n",
    "    os.path.join(RESULTS_DIR, 'content.json.gz'),\n",
    "    compression='gzip',\n",
    "    orient='table',\n",
    "    typ='frame',\n",
    "    dtype=True,\n",
    "    convert_axes=True,\n",
    "    convert_dates=True,\n",
    "    keep_default_dates=True,\n",
    "    numpy=False,\n",
    "    precise_float=False,\n",
    "    date_unit=None\n",
    ")"
   ]
  },
  {
   "cell_type": "code",
   "execution_count": 71,
   "metadata": {},
   "outputs": [
    {
     "data": {
      "text/plain": [
       "{'available_translations': [{'api_path': '/api/content/government/news/uk-reaffirms-commitment-to-work-with-honduras-after-referendum-result',\n",
       "   'api_url': 'https://www-origin.integration.publishing.service.gov.uk/api/content/government/news/uk-reaffirms-commitment-to-work-with-honduras-after-referendum-result',\n",
       "   'base_path': '/government/news/uk-reaffirms-commitment-to-work-with-honduras-after-referendum-result',\n",
       "   'content_id': 'fa30b2ae-44b7-4f71-88ca-7e4f432d9c17',\n",
       "   'description': 'Nearly a month after the UK voted to leave the European Union (EU), the British Ambassador to Honduras, Carolyn Davidson, reiterated the UK’s commitment to continue working with Honduras on a series of shared goals.',\n",
       "   'document_type': 'world_news_story',\n",
       "   'links': {},\n",
       "   'locale': 'en',\n",
       "   'public_updated_at': '2016-08-16T19:48:45Z',\n",
       "   'schema_name': 'news_article',\n",
       "   'title': 'UK reaffirms commitment to work with Honduras after referendum result',\n",
       "   'web_url': 'https://www-origin.integration.publishing.service.gov.uk/government/news/uk-reaffirms-commitment-to-work-with-honduras-after-referendum-result',\n",
       "   'withdrawn': False},\n",
       "  {'api_path': '/api/content/government/news/uk-reaffirms-commitment-to-work-with-honduras-after-referendum-result.es-419',\n",
       "   'api_url': 'https://www-origin.integration.publishing.service.gov.uk/api/content/government/news/uk-reaffirms-commitment-to-work-with-honduras-after-referendum-result.es-419',\n",
       "   'base_path': '/government/news/uk-reaffirms-commitment-to-work-with-honduras-after-referendum-result.es-419',\n",
       "   'content_id': 'fa30b2ae-44b7-4f71-88ca-7e4f432d9c17',\n",
       "   'description': 'Casi un mes después que el Reino Unido votó para salir de la Unión Europea (UE), la Embajadora Británica para Honduras, Carolyn Davidson, reiteró el compromiso de Gran Bretaña para seguir trabajando con el país en una serie de objetivos compartidos.',\n",
       "   'document_type': 'world_news_story',\n",
       "   'links': {},\n",
       "   'locale': 'es-419',\n",
       "   'public_updated_at': '2016-08-16T19:48:45Z',\n",
       "   'schema_name': 'news_article',\n",
       "   'title': 'Reino Unido reafirma su compromiso de trabajar con Honduras tras resultado de referéndum',\n",
       "   'web_url': 'https://www-origin.integration.publishing.service.gov.uk/government/news/uk-reaffirms-commitment-to-work-with-honduras-after-referendum-result.es-419',\n",
       "   'withdrawn': False}],\n",
       " 'policy_areas': [{'api_path': '/api/content/government/topics/business-and-enterprise',\n",
       "   'api_url': 'https://www-origin.integration.publishing.service.gov.uk/api/content/government/topics/business-and-enterprise',\n",
       "   'base_path': '/government/topics/business-and-enterprise',\n",
       "   'content_id': 'eaffa04f-549d-4ece-90dd-c23a44703a53',\n",
       "   'document_type': 'policy_area',\n",
       "   'links': {},\n",
       "   'locale': 'en',\n",
       "   'public_updated_at': '2013-07-22T16:15:27Z',\n",
       "   'schema_name': 'placeholder',\n",
       "   'title': 'Business and enterprise',\n",
       "   'web_url': 'https://www-origin.integration.publishing.service.gov.uk/government/topics/business-and-enterprise',\n",
       "   'withdrawn': False},\n",
       "  {'api_path': '/api/content/government/topics/foreign-affairs',\n",
       "   'api_url': 'https://www-origin.integration.publishing.service.gov.uk/api/content/government/topics/foreign-affairs',\n",
       "   'base_path': '/government/topics/foreign-affairs',\n",
       "   'content_id': '925a7027-cf09-4554-8287-c1e8c0f58700',\n",
       "   'document_type': 'placeholder_policy_area',\n",
       "   'links': {},\n",
       "   'locale': 'en',\n",
       "   'public_updated_at': '2013-07-23T08:39:08Z',\n",
       "   'schema_name': 'placeholder_policy_area',\n",
       "   'title': 'Foreign affairs',\n",
       "   'web_url': 'https://www-origin.integration.publishing.service.gov.uk/government/topics/foreign-affairs',\n",
       "   'withdrawn': False}],\n",
       " 'taxons': [{'api_path': '/api/content/business/business-and-enterprise',\n",
       "   'api_url': 'https://www-origin.integration.publishing.service.gov.uk/api/content/business/business-and-enterprise',\n",
       "   'base_path': '/business/business-and-enterprise',\n",
       "   'content_id': '21eee04d-e702-4e7b-9fde-2f6777f1be2c',\n",
       "   'description': 'The government is working to create the right conditions for companies to thrive and make it easier for people to start successful new businesses.',\n",
       "   'details': {'internal_name': 'Business and enterprise [PA] (merged level 2)',\n",
       "    'notes_for_editors': '',\n",
       "    'visible_to_departmental_editors': False},\n",
       "   'document_type': 'taxon',\n",
       "   'links': {'parent_taxons': [{'api_path': '/api/content/business',\n",
       "      'api_url': 'https://www-origin.integration.publishing.service.gov.uk/api/content/business',\n",
       "      'base_path': '/business',\n",
       "      'content_id': '495afdb6-47be-4df1-8b38-91c8adb1eefc',\n",
       "      'description': '...',\n",
       "      'details': {'internal_name': 'Business (level 1)',\n",
       "       'notes_for_editors': '',\n",
       "       'visible_to_departmental_editors': False},\n",
       "      'document_type': 'taxon',\n",
       "      'links': {'root_taxon': [{'api_path': '/api/content/',\n",
       "         'api_url': 'https://www-origin.integration.publishing.service.gov.uk/api/content/',\n",
       "         'base_path': '/',\n",
       "         'content_id': 'f3bbdec2-0e62-4520-a7fd-6ffd5d36e03a',\n",
       "         'description': '',\n",
       "         'document_type': 'homepage',\n",
       "         'links': {},\n",
       "         'locale': 'en',\n",
       "         'public_updated_at': '2018-03-08T13:47:37Z',\n",
       "         'schema_name': 'homepage',\n",
       "         'title': 'GOV.UK homepage',\n",
       "         'web_url': 'https://www-origin.integration.publishing.service.gov.uk/',\n",
       "         'withdrawn': False}]},\n",
       "      'locale': 'en',\n",
       "      'phase': 'alpha',\n",
       "      'public_updated_at': '2018-03-08T13:24:49Z',\n",
       "      'schema_name': 'taxon',\n",
       "      'title': 'Business',\n",
       "      'web_url': 'https://www-origin.integration.publishing.service.gov.uk/business',\n",
       "      'withdrawn': False}]},\n",
       "   'locale': 'en',\n",
       "   'phase': 'alpha',\n",
       "   'public_updated_at': '2018-03-08T12:20:17Z',\n",
       "   'schema_name': 'taxon',\n",
       "   'title': 'Business and enterprise',\n",
       "   'web_url': 'https://www-origin.integration.publishing.service.gov.uk/business/business-and-enterprise',\n",
       "   'withdrawn': False}],\n",
       " 'world_locations': [{'analytics_identifier': 'WL57',\n",
       "   'content_id': '5e9f0326-7706-11e4-a3cb-005056011aef',\n",
       "   'links': {},\n",
       "   'locale': 'en',\n",
       "   'schema_name': 'world_location',\n",
       "   'title': 'Honduras'}],\n",
       " 'worldwide_organisations': [{'analytics_identifier': 'WO9',\n",
       "   'api_path': '/api/content/world/organisations/british-embassy-honduras',\n",
       "   'api_url': 'https://www-origin.integration.publishing.service.gov.uk/api/content/world/organisations/british-embassy-honduras',\n",
       "   'base_path': '/world/organisations/british-embassy-honduras',\n",
       "   'content_id': 'f4c38a74-7a30-11e4-a3cb-005056011aef',\n",
       "   'description': 'There is no British Embassy in Honduras. The British Embassy in Guatemala City develops and maintains relations between the UK and Honduras.',\n",
       "   'document_type': 'worldwide_organisation',\n",
       "   'links': {},\n",
       "   'locale': 'en',\n",
       "   'public_updated_at': '2015-08-19T17:51:50Z',\n",
       "   'schema_name': 'placeholder',\n",
       "   'title': 'British Embassy Guatemala City (for Honduras)',\n",
       "   'web_url': 'https://www-origin.integration.publishing.service.gov.uk/world/organisations/british-embassy-honduras',\n",
       "   'withdrawn': False}]}"
      ]
     },
     "execution_count": 71,
     "metadata": {},
     "output_type": "execute_result"
    }
   ],
   "source": [
    "content['links'].iloc[0]"
   ]
  },
  {
   "cell_type": "code",
   "execution_count": 104,
   "metadata": {},
   "outputs": [],
   "source": [
    "def org_mapper(x_links):\n",
    "    if 'organisations' in x_links:\n",
    "        return x_links['organisations'][0]['title']\n",
    "    \n",
    "def pub_mapper(x_links):\n",
    "    if 'primary_publishing_organisation' in x_links:\n",
    "        return x_links['primary_publishing_organisation'][0]['title']\n",
    "    else:\n",
    "        return np.NaN"
   ]
  },
  {
   "cell_type": "code",
   "execution_count": 105,
   "metadata": {},
   "outputs": [],
   "source": [
    "content['organisations'] = content['links'].map(org_mapper)\n",
    "content['primary_publishing_organisation'] = content['links'].map(pub_mapper)"
   ]
  },
  {
   "cell_type": "code",
   "execution_count": 106,
   "metadata": {},
   "outputs": [],
   "source": [
    "dict_organisations = content['organisations'].value_counts()\n",
    "prim_organisations = content['primary_publishing_organisation'].value_counts()"
   ]
  },
  {
   "cell_type": "code",
   "execution_count": 108,
   "metadata": {},
   "outputs": [
    {
     "data": {
      "text/plain": [
       "426"
      ]
     },
     "execution_count": 108,
     "metadata": {},
     "output_type": "execute_result"
    }
   ],
   "source": [
    "len(prim_organisations)"
   ]
  },
  {
   "cell_type": "code",
   "execution_count": 101,
   "metadata": {},
   "outputs": [
    {
     "name": "stdout",
     "output_type": "stream",
     "text": [
      "Valuation Office Agency True\n",
      "HM Revenue & Customs True\n",
      "District Valuer Services (DVS) True\n",
      "The Adjudicator’s Office False\n"
     ]
    }
   ],
   "source": [
    "for item in list_org:\n",
    "    print(item,(item in dict_organisations.keys()))"
   ]
  },
  {
   "cell_type": "code",
   "execution_count": 116,
   "metadata": {},
   "outputs": [
    {
     "name": "stdout",
     "output_type": "stream",
     "text": [
      "Valuation Office Agency : 785\n",
      "HM Revenue & Customs : 14061\n",
      "District Valuer Services (DVS) : 14\n"
     ]
    }
   ],
   "source": [
    "for org in list_org:\n",
    "    sum_org = 0 \n",
    "    sum_org = content.loc[content['organisations']==org].shape[0] + content.loc\\\n",
    "                    [content['primary_publishing_organisation']==org].shape[0]\n",
    "    print(org,\":\",sum_org)"
   ]
  },
  {
   "cell_type": "code",
   "execution_count": 126,
   "metadata": {},
   "outputs": [
    {
     "data": {
      "text/plain": [
       "world_news_story                        8716\n",
       "placeholder_person                      1368\n",
       "person                                  1352\n",
       "redirect                                1223\n",
       "organisation                             998\n",
       "working_group                            603\n",
       "worldwide_organisation                   307\n",
       "esi_fund                                 304\n",
       "taxon                                    223\n",
       "placeholder_world_location_news_page     222\n",
       "placeholder_ministerial_role              99\n",
       "placeholder_policy_area                   42\n",
       "placeholder_topical_event                 31\n",
       "topical_event                             23\n",
       "ministerial_role                          20\n",
       "take_part                                 17\n",
       "transaction                               17\n",
       "licence                                   12\n",
       "guide                                     11\n",
       "special_route                             10\n",
       "news_story                                 9\n",
       "answer                                     7\n",
       "finder                                     6\n",
       "field_of_operation                         5\n",
       "world_location_news_article                3\n",
       "official_statistics                        1\n",
       "world_location                             1\n",
       "placeholder                                1\n",
       "Name: document_type, dtype: int64"
      ]
     },
     "execution_count": 126,
     "metadata": {},
     "output_type": "execute_result"
    }
   ],
   "source": [
    "content['document_type'].loc[(content['primary_publishing_organisation'].isnull()) \\\n",
    "            & (content['organisations'].isnull())].value_counts()"
   ]
  },
  {
   "cell_type": "code",
   "execution_count": null,
   "metadata": {},
   "outputs": [],
   "source": [
    "Primary Publishing Organisation\n",
    "\n",
    "Valuation Office Agency : 374\n",
    "HM Revenue & Customs : 6645\n",
    "District Valuer Services (DVS) : 8\n",
    "    \n",
    "Organisations\n",
    "\n",
    "Valuation Office Agency : 411\n",
    "HM Revenue & Customs : 7416\n",
    "District Valuer Services (DVS) : 6\n",
    "    \n",
    "Valuation Office Agency : 785\n",
    "HM Revenue & Customs : 14061\n",
    "District Valuer Services (DVS) : 14"
   ]
  }
 ],
 "metadata": {
  "kernelspec": {
   "display_name": "taxon-sl",
   "language": "python",
   "name": "taxon-sl"
  },
  "language_info": {
   "codemirror_mode": {
    "name": "ipython",
    "version": 3
   },
   "file_extension": ".py",
   "mimetype": "text/x-python",
   "name": "python",
   "nbconvert_exporter": "python",
   "pygments_lexer": "ipython3",
   "version": "3.4.6"
  }
 },
 "nbformat": 4,
 "nbformat_minor": 2
}
