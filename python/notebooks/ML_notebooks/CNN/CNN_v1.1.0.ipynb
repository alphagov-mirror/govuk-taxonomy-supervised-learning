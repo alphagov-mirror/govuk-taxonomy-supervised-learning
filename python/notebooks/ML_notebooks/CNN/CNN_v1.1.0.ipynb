{
 "cells": [
  {
   "cell_type": "markdown",
   "metadata": {},
   "source": [
    "## Convolutional NN to classify govuk content to level2 taxons"
   ]
  },
  {
   "cell_type": "markdown",
   "metadata": {},
   "source": [
    "Based on:\n",
    "https://blog.keras.io/using-pre-trained-word-embeddings-in-a-keras-model.html"
   ]
  },
  {
   "cell_type": "markdown",
   "metadata": {},
   "source": [
    "## To do:\n",
    "- ~~Consider grouping very small classes (especially if too small for evaluation)~~\n",
    "- ~~Split data into training, validation and test to avoid overfitting validation data during hyperparamter searches & model architecture changes~~\n",
    "- ~~Try learning embeddings~~--\n",
    "- Try changing pos_ratio\n",
    "- Try implementing class_weights during model fit (does this do the same as the weighted binary corss entropy?)\n",
    "- Work on tensorboard callbacks\n",
    "- ~~Create dictionary of class indices to taxon names for viewing results~~\n",
    "- Check model architecture\n",
    "- consider relationship of training error to validation error - overfitting/bias?\n",
    "- train longer\n",
    "- Try differnet max_sequence_length\n",
    "- Check batch size is appropriate\n",
    "- Also think about:\n",
    "  - regularization (e.g. dropout) \n",
    "  - fine-tuning the Embedding layer"
   ]
  },
  {
   "cell_type": "markdown",
   "metadata": {},
   "source": [
    "### Load requirements and data"
   ]
  },
  {
   "cell_type": "markdown",
   "metadata": {},
   "source": [
    "TODO: edit requirement.txt to include only these packages and do not include tensorflow because this conflicts with tf on AWS when using on GPU."
   ]
  },
  {
   "cell_type": "code",
   "execution_count": 96,
   "metadata": {},
   "outputs": [],
   "source": [
    "import pandas as pd\n",
    "import numpy as np\n",
    "import os\n",
    "from datetime import datetime\n",
    "from keras.preprocessing.text import Tokenizer\n",
    "from keras.preprocessing.sequence import pad_sequences\n",
    "\n",
    "from keras.utils import to_categorical, layer_utils, plot_model\n",
    "\n",
    "from keras.layers import (Embedding, Input, Dense, \n",
    "                          Activation, Conv1D, MaxPooling1D, Flatten, concatenate, Reshape)\n",
    "from keras.models import Model, Sequential\n",
    "from keras.optimizers import rmsprop\n",
    "from keras.callbacks import TensorBoard, Callback, ModelCheckpoint\n",
    "import keras.backend as K\n",
    "from keras.losses import binary_crossentropy\n",
    "\n",
    "from sklearn.preprocessing import LabelEncoder, MultiLabelBinarizer\n",
    "from sklearn.metrics import confusion_matrix, f1_score, precision_score, recall_score \n",
    "from sklearn.metrics import precision_recall_fscore_support, classification_report\n",
    "from sklearn.utils import class_weight\n",
    "\n",
    "import tensorflow as tf\n",
    "\n",
    "import matplotlib.pyplot as plt\n",
    "%matplotlib inline\n",
    "\n",
    "import functools\n",
    "\n",
    "import h5py\n"
   ]
  },
  {
   "cell_type": "markdown",
   "metadata": {},
   "source": [
    "### Environmental vars"
   ]
  },
  {
   "cell_type": "code",
   "execution_count": 97,
   "metadata": {},
   "outputs": [],
   "source": [
    "DATADIR=os.getenv('DATADIR')\n",
    "# DATADIR='/data' #this was put in for AWS run but doesn't work locally..."
   ]
  },
  {
   "cell_type": "markdown",
   "metadata": {},
   "source": [
    "## Hyperparameters"
   ]
  },
  {
   "cell_type": "markdown",
   "metadata": {},
   "source": [
    "Intuition for POS_RATIO is that it penalises the prediction of zero for everything, which is attractive to the model because the multilabel y matrix is super sparse. \n",
    "\n",
    "Increasing POS_RATIO should penalise predicting zeros more."
   ]
  },
  {
   "cell_type": "code",
   "execution_count": 98,
   "metadata": {},
   "outputs": [],
   "source": [
    "#MAX_NB_WORDS\n",
    "MAX_SEQUENCE_LENGTH =1000\n",
    "EMBEDDING_DIM = 100 # keras embedding layer output_dim = Dimension of the dense embedding\n",
    "P_THRESHOLD = 0.5 #Threshold for probability of being assigned to class\n",
    "POS_RATIO = 0.5 #ratio of positive to negative for each class in weighted binary cross entropy loss function\n",
    "NUM_WORDS=20000 #keras tokenizer num_words: None or int. Maximum number of words to work with \n",
    "#(if set, tokenization will be restricted to the top num_words most common words in the dataset)."
   ]
  },
  {
   "cell_type": "markdown",
   "metadata": {},
   "source": [
    "### Read in data\n",
    "Content items tagged to level 2 taxons or lower in the topic taxonomy"
   ]
  },
  {
   "cell_type": "code",
   "execution_count": 99,
   "metadata": {},
   "outputs": [],
   "source": [
    "labelled_level2 = pd.read_csv(os.path.join(DATADIR, 'labelled_level2.csv'), dtype=object)"
   ]
  },
  {
   "cell_type": "code",
   "execution_count": 100,
   "metadata": {},
   "outputs": [
    {
     "data": {
      "text/html": [
       "<div>\n",
       "<style scoped>\n",
       "    .dataframe tbody tr th:only-of-type {\n",
       "        vertical-align: middle;\n",
       "    }\n",
       "\n",
       "    .dataframe tbody tr th {\n",
       "        vertical-align: top;\n",
       "    }\n",
       "\n",
       "    .dataframe thead th {\n",
       "        text-align: right;\n",
       "    }\n",
       "</style>\n",
       "<table border=\"1\" class=\"dataframe\">\n",
       "  <thead>\n",
       "    <tr style=\"text-align: right;\">\n",
       "      <th></th>\n",
       "      <th>Unnamed: 0</th>\n",
       "      <th>Unnamed: 0.1</th>\n",
       "      <th>base_path</th>\n",
       "      <th>content_id</th>\n",
       "      <th>description</th>\n",
       "      <th>details</th>\n",
       "      <th>document_type</th>\n",
       "      <th>first_published_at</th>\n",
       "      <th>locale</th>\n",
       "      <th>primary_publishing_organisation</th>\n",
       "      <th>...</th>\n",
       "      <th>body</th>\n",
       "      <th>combined_text</th>\n",
       "      <th>taxon_id</th>\n",
       "      <th>taxon_base_path</th>\n",
       "      <th>taxon_name</th>\n",
       "      <th>level1taxon</th>\n",
       "      <th>level2taxon</th>\n",
       "      <th>level3taxon</th>\n",
       "      <th>level4taxon</th>\n",
       "      <th>level5taxon</th>\n",
       "    </tr>\n",
       "  </thead>\n",
       "  <tbody>\n",
       "    <tr>\n",
       "      <th>57690</th>\n",
       "      <td>133980</td>\n",
       "      <td>53847.0</td>\n",
       "      <td>/government/collections/emma-jones-small-busin...</td>\n",
       "      <td>00029fa4-9b60-4285-898c-85ae8a6367f5</td>\n",
       "      <td>as small business crown representative emma is...</td>\n",
       "      <td>{'political': False, 'first_public_at': '2017-...</td>\n",
       "      <td>document_collection</td>\n",
       "      <td>2017-01-11T10:18:00.000+00:00</td>\n",
       "      <td>en</td>\n",
       "      <td>{'title': 'Crown Commercial Service'}</td>\n",
       "      <td>...</td>\n",
       "      <td>emma was appointed as small business crown rep...</td>\n",
       "      <td>emma jones - small business crown representati...</td>\n",
       "      <td>f3caf326-fe33-410f-b7f4-553f4011c81e</td>\n",
       "      <td>/government/government-spending</td>\n",
       "      <td>Government spending</td>\n",
       "      <td>Government</td>\n",
       "      <td>Government spending</td>\n",
       "      <td>NaN</td>\n",
       "      <td>NaN</td>\n",
       "      <td>NaN</td>\n",
       "    </tr>\n",
       "    <tr>\n",
       "      <th>30438</th>\n",
       "      <td>54663</td>\n",
       "      <td>660014.0</td>\n",
       "      <td>/government/publications/land-remediation-brin...</td>\n",
       "      <td>00037b70-5b08-44c2-bf0a-fa8eb636a60b</td>\n",
       "      <td>brochure showing uk expertise in land remediat...</td>\n",
       "      <td>{'documents': ['&lt;section class=\"attachment emb...</td>\n",
       "      <td>promotional</td>\n",
       "      <td>2015-05-11T10:41:00.000+00:00</td>\n",
       "      <td>en</td>\n",
       "      <td>{'title': 'Department for International Trade'}</td>\n",
       "      <td>...</td>\n",
       "      <td>the uk was the first industrialised country in...</td>\n",
       "      <td>land remediation: bringing brownfield sites ba...</td>\n",
       "      <td>21eee04d-e702-4e7b-9fde-2f6777f1be2c</td>\n",
       "      <td>/business/business-and-enterprise</td>\n",
       "      <td>Business and enterprise</td>\n",
       "      <td>Business</td>\n",
       "      <td>Business and enterprise</td>\n",
       "      <td>NaN</td>\n",
       "      <td>NaN</td>\n",
       "      <td>NaN</td>\n",
       "    </tr>\n",
       "    <tr>\n",
       "      <th>125773</th>\n",
       "      <td>234347</td>\n",
       "      <td>800450.0</td>\n",
       "      <td>/government/publications/land-remediation-brin...</td>\n",
       "      <td>00037b70-5b08-44c2-bf0a-fa8eb636a60b</td>\n",
       "      <td>brochure showing uk expertise in land remediat...</td>\n",
       "      <td>{'documents': ['&lt;section class=\"attachment emb...</td>\n",
       "      <td>promotional</td>\n",
       "      <td>2015-05-11T10:41:00.000+00:00</td>\n",
       "      <td>en</td>\n",
       "      <td>{'title': 'Department for International Trade'}</td>\n",
       "      <td>...</td>\n",
       "      <td>the uk was the first industrialised country in...</td>\n",
       "      <td>land remediation: bringing brownfield sites ba...</td>\n",
       "      <td>ed2ca1f7-5463-4eda-9324-b597e269e242</td>\n",
       "      <td>/business/trade-and-investment</td>\n",
       "      <td>Trade and investment</td>\n",
       "      <td>Business</td>\n",
       "      <td>Trade and investment</td>\n",
       "      <td>NaN</td>\n",
       "      <td>NaN</td>\n",
       "      <td>NaN</td>\n",
       "    </tr>\n",
       "    <tr>\n",
       "      <th>17256</th>\n",
       "      <td>38164</td>\n",
       "      <td>519578.0</td>\n",
       "      <td>/government/publications/land-remediation-brin...</td>\n",
       "      <td>00037b70-5b08-44c2-bf0a-fa8eb636a60b</td>\n",
       "      <td>brochure showing uk expertise in land remediat...</td>\n",
       "      <td>{'documents': ['&lt;section class=\"attachment emb...</td>\n",
       "      <td>promotional</td>\n",
       "      <td>2015-05-11T10:41:00.000+00:00</td>\n",
       "      <td>en</td>\n",
       "      <td>{'title': 'Department for International Trade'}</td>\n",
       "      <td>...</td>\n",
       "      <td>the uk was the first industrialised country in...</td>\n",
       "      <td>land remediation: bringing brownfield sites ba...</td>\n",
       "      <td>a1e4659c-dc15-48be-bc4f-6c609ae061dc</td>\n",
       "      <td>/business/uk-economy</td>\n",
       "      <td>UK economy</td>\n",
       "      <td>Business</td>\n",
       "      <td>UK economy</td>\n",
       "      <td>NaN</td>\n",
       "      <td>NaN</td>\n",
       "      <td>NaN</td>\n",
       "    </tr>\n",
       "    <tr>\n",
       "      <th>136046</th>\n",
       "      <td>249846</td>\n",
       "      <td>102628.0</td>\n",
       "      <td>/government/statistics/steps-2-successni-stati...</td>\n",
       "      <td>00037ee5-7b5e-452d-a233-af2c134f5bce</td>\n",
       "      <td>details on the number of referrals and starts ...</td>\n",
       "      <td>{'documents': ['&lt;section class=\"attachment hos...</td>\n",
       "      <td>official_statistics</td>\n",
       "      <td>2016-11-24T09:30:13.000+00:00</td>\n",
       "      <td>en</td>\n",
       "      <td>{'title': 'Department for Communities (Norther...</td>\n",
       "      <td>...</td>\n",
       "      <td>statistics presented include details on the nu...</td>\n",
       "      <td>steps 2 success:ni statistics from october 201...</td>\n",
       "      <td>a1e624ed-e268-44ab-ac3f-4d3cb2bb8cb5</td>\n",
       "      <td>/regional-and-local-government/northern-ireland</td>\n",
       "      <td>Northern Ireland</td>\n",
       "      <td>Regional and local government</td>\n",
       "      <td>Northern Ireland</td>\n",
       "      <td>NaN</td>\n",
       "      <td>NaN</td>\n",
       "      <td>NaN</td>\n",
       "    </tr>\n",
       "  </tbody>\n",
       "</table>\n",
       "<p>5 rows × 23 columns</p>\n",
       "</div>"
      ],
      "text/plain": [
       "       Unnamed: 0 Unnamed: 0.1  \\\n",
       "57690      133980      53847.0   \n",
       "30438       54663     660014.0   \n",
       "125773     234347     800450.0   \n",
       "17256       38164     519578.0   \n",
       "136046     249846     102628.0   \n",
       "\n",
       "                                                base_path  \\\n",
       "57690   /government/collections/emma-jones-small-busin...   \n",
       "30438   /government/publications/land-remediation-brin...   \n",
       "125773  /government/publications/land-remediation-brin...   \n",
       "17256   /government/publications/land-remediation-brin...   \n",
       "136046  /government/statistics/steps-2-successni-stati...   \n",
       "\n",
       "                                  content_id  \\\n",
       "57690   00029fa4-9b60-4285-898c-85ae8a6367f5   \n",
       "30438   00037b70-5b08-44c2-bf0a-fa8eb636a60b   \n",
       "125773  00037b70-5b08-44c2-bf0a-fa8eb636a60b   \n",
       "17256   00037b70-5b08-44c2-bf0a-fa8eb636a60b   \n",
       "136046  00037ee5-7b5e-452d-a233-af2c134f5bce   \n",
       "\n",
       "                                              description  \\\n",
       "57690   as small business crown representative emma is...   \n",
       "30438   brochure showing uk expertise in land remediat...   \n",
       "125773  brochure showing uk expertise in land remediat...   \n",
       "17256   brochure showing uk expertise in land remediat...   \n",
       "136046  details on the number of referrals and starts ...   \n",
       "\n",
       "                                                  details  \\\n",
       "57690   {'political': False, 'first_public_at': '2017-...   \n",
       "30438   {'documents': ['<section class=\"attachment emb...   \n",
       "125773  {'documents': ['<section class=\"attachment emb...   \n",
       "17256   {'documents': ['<section class=\"attachment emb...   \n",
       "136046  {'documents': ['<section class=\"attachment hos...   \n",
       "\n",
       "              document_type             first_published_at locale  \\\n",
       "57690   document_collection  2017-01-11T10:18:00.000+00:00     en   \n",
       "30438           promotional  2015-05-11T10:41:00.000+00:00     en   \n",
       "125773          promotional  2015-05-11T10:41:00.000+00:00     en   \n",
       "17256           promotional  2015-05-11T10:41:00.000+00:00     en   \n",
       "136046  official_statistics  2016-11-24T09:30:13.000+00:00     en   \n",
       "\n",
       "                          primary_publishing_organisation     ...      \\\n",
       "57690               {'title': 'Crown Commercial Service'}     ...       \n",
       "30438     {'title': 'Department for International Trade'}     ...       \n",
       "125773    {'title': 'Department for International Trade'}     ...       \n",
       "17256     {'title': 'Department for International Trade'}     ...       \n",
       "136046  {'title': 'Department for Communities (Norther...     ...       \n",
       "\n",
       "                                                     body  \\\n",
       "57690   emma was appointed as small business crown rep...   \n",
       "30438   the uk was the first industrialised country in...   \n",
       "125773  the uk was the first industrialised country in...   \n",
       "17256   the uk was the first industrialised country in...   \n",
       "136046  statistics presented include details on the nu...   \n",
       "\n",
       "                                            combined_text  \\\n",
       "57690   emma jones - small business crown representati...   \n",
       "30438   land remediation: bringing brownfield sites ba...   \n",
       "125773  land remediation: bringing brownfield sites ba...   \n",
       "17256   land remediation: bringing brownfield sites ba...   \n",
       "136046  steps 2 success:ni statistics from october 201...   \n",
       "\n",
       "                                    taxon_id  \\\n",
       "57690   f3caf326-fe33-410f-b7f4-553f4011c81e   \n",
       "30438   21eee04d-e702-4e7b-9fde-2f6777f1be2c   \n",
       "125773  ed2ca1f7-5463-4eda-9324-b597e269e242   \n",
       "17256   a1e4659c-dc15-48be-bc4f-6c609ae061dc   \n",
       "136046  a1e624ed-e268-44ab-ac3f-4d3cb2bb8cb5   \n",
       "\n",
       "                                        taxon_base_path  \\\n",
       "57690                   /government/government-spending   \n",
       "30438                 /business/business-and-enterprise   \n",
       "125773                   /business/trade-and-investment   \n",
       "17256                              /business/uk-economy   \n",
       "136046  /regional-and-local-government/northern-ireland   \n",
       "\n",
       "                     taxon_name                    level1taxon  \\\n",
       "57690       Government spending                     Government   \n",
       "30438   Business and enterprise                       Business   \n",
       "125773     Trade and investment                       Business   \n",
       "17256                UK economy                       Business   \n",
       "136046         Northern Ireland  Regional and local government   \n",
       "\n",
       "                    level2taxon level3taxon level4taxon level5taxon  \n",
       "57690       Government spending         NaN         NaN         NaN  \n",
       "30438   Business and enterprise         NaN         NaN         NaN  \n",
       "125773     Trade and investment         NaN         NaN         NaN  \n",
       "17256                UK economy         NaN         NaN         NaN  \n",
       "136046         Northern Ireland         NaN         NaN         NaN  \n",
       "\n",
       "[5 rows x 23 columns]"
      ]
     },
     "execution_count": 100,
     "metadata": {},
     "output_type": "execute_result"
    }
   ],
   "source": [
    "labelled_level2.sort_values('content_id').head()"
   ]
  },
  {
   "cell_type": "markdown",
   "metadata": {},
   "source": [
    "### Create dictionary mapping taxon codes to string labels"
   ]
  },
  {
   "cell_type": "code",
   "execution_count": 101,
   "metadata": {},
   "outputs": [
    {
     "data": {
      "text/plain": [
       "{1: 'Administrative justice reform',\n",
       " 2: 'Adoption, fostering and surrogacy',\n",
       " 3: 'Afghanistan',\n",
       " 4: 'Armed Forces Covenant',\n",
       " 5: 'Armed forces',\n",
       " 6: 'Armed forces and Ministry of Defence reform',\n",
       " 7: 'Armed forces support for activities in the UK',\n",
       " 8: 'Arts and culture',\n",
       " 9: 'Assessing environmental impact',\n",
       " 10: 'Asylum',\n",
       " 11: 'Attorney General guidance to the legal profession',\n",
       " 12: 'Aviation',\n",
       " 13: 'Benefits entitlement',\n",
       " 14: 'Benefits for families',\n",
       " 15: 'Biodiversity and ecosystems',\n",
       " 16: 'Boating and inland waterways',\n",
       " 17: 'Brexit',\n",
       " 18: 'Brexit and the EU',\n",
       " 19: 'British citizenship ',\n",
       " 20: 'British nationals overseas',\n",
       " 21: 'Business and enterprise',\n",
       " 22: 'Business and the environment',\n",
       " 23: 'Business tax',\n",
       " 24: 'Byelaws',\n",
       " 25: 'Carers and disability benefits',\n",
       " 26: \"Carers' health\",\n",
       " 27: 'Certificates, register offices, changes of name or gender',\n",
       " 28: 'Charities, volunteering and honours',\n",
       " 29: 'Child Benefit',\n",
       " 30: 'Child maintenance reform',\n",
       " 31: 'Childcare and early years',\n",
       " 32: \"Children's health and welfare\",\n",
       " 33: 'Civil justice reform',\n",
       " 34: 'Civil service reform',\n",
       " 35: 'Climate change and energy',\n",
       " 36: 'Commercial fishing and fisheries',\n",
       " 37: 'Community and society',\n",
       " 38: 'Conflict in fragile states',\n",
       " 39: 'Constitutional affairs',\n",
       " 40: 'Consumer rights and issues',\n",
       " 41: 'Content and publishing',\n",
       " 42: 'Counter-terrorism',\n",
       " 43: 'Court claims, debt and bankruptcy',\n",
       " 44: 'Courts, sentencing and tribunals',\n",
       " 45: 'Crime prevention',\n",
       " 46: 'Criminal justice reform',\n",
       " 47: 'Criminal record disclosure',\n",
       " 48: 'Cyber security',\n",
       " 49: 'Dealing with HMRC',\n",
       " 50: 'Death and benefits',\n",
       " 51: 'Death and bereavement',\n",
       " 52: 'Deficit reduction',\n",
       " 53: 'Devolution',\n",
       " 54: 'Diplomats',\n",
       " 55: 'Disabled people',\n",
       " 56: 'Divorce, separation and legal issues',\n",
       " 57: 'Domestic violence',\n",
       " 58: 'Driving and road transport',\n",
       " 59: 'Education of disadvantaged children',\n",
       " 60: 'Emergency preparation, response and recovery',\n",
       " 61: 'Employing people',\n",
       " 62: 'End of life care',\n",
       " 63: 'Environmental permits',\n",
       " 64: 'Environmental quality',\n",
       " 65: 'Environmental risk management',\n",
       " 66: 'Equality, rights and citizenship',\n",
       " 67: 'European Union laws and regulation',\n",
       " 68: 'European funds',\n",
       " 69: 'European single market',\n",
       " 70: 'Expenses and employee benefits',\n",
       " 71: 'Family justice system',\n",
       " 72: 'Financial help if you have children',\n",
       " 73: 'Financial services',\n",
       " 74: 'Fire prevention and rescue',\n",
       " 75: 'Flooding and coastal change',\n",
       " 76: 'Food and farming',\n",
       " 77: 'Forced marriage',\n",
       " 78: 'Foreign affairs',\n",
       " 79: 'Freight and cargo',\n",
       " 80: 'Funding and finance for students',\n",
       " 81: 'Further and higher education, skills and vocational training',\n",
       " 82: 'Government efficiency, transparency and accountability',\n",
       " 83: 'Government graduate schemes',\n",
       " 84: 'Government spending',\n",
       " 85: 'HS2 and the environment',\n",
       " 86: 'Having a child, parenting and adoption',\n",
       " 87: 'Health and safety reform',\n",
       " 88: 'Health protection',\n",
       " 89: 'Heating and housing benefits',\n",
       " 90: 'Housing',\n",
       " 91: 'Housing planning and building',\n",
       " 92: 'Human rights internationally',\n",
       " 93: 'Immigration rules and enforcement',\n",
       " 94: 'Industrial strategy',\n",
       " 95: 'Inspections and performance of education providers',\n",
       " 96: 'International aid and development',\n",
       " 97: 'International defence commitments',\n",
       " 98: \"Jobseeker's Allowance and low income benefits\",\n",
       " 99: 'Justice system transparency',\n",
       " 100: 'Knife, gun and gang crime',\n",
       " 101: 'Labour market reform',\n",
       " 102: 'Land Registration Data ',\n",
       " 103: 'Land management',\n",
       " 104: 'Land registration',\n",
       " 105: 'Lasting power of attorney, being in care and your financial affairs',\n",
       " 106: 'Law and practice',\n",
       " 107: 'Legal aid',\n",
       " 108: 'Legal aid reform',\n",
       " 109: 'Legislative process',\n",
       " 110: 'Living abroad',\n",
       " 111: 'Living in the UK, government and democracy',\n",
       " 112: 'Local councils and services',\n",
       " 113: 'Local government',\n",
       " 114: 'Local government spending',\n",
       " 115: 'Local transport',\n",
       " 116: 'Localism',\n",
       " 117: 'Major project management',\n",
       " 118: 'Marine',\n",
       " 119: 'Maritime',\n",
       " 120: 'Marriage, civil partnership and divorce',\n",
       " 121: 'Media and communications',\n",
       " 122: 'Medical certification and advice',\n",
       " 123: 'Medicines, medical devices and blood regulation and safety',\n",
       " 124: 'Military awards and commemorations',\n",
       " 125: 'Military equipment, logistics and technology',\n",
       " 126: 'Military recruitment, training and operations',\n",
       " 127: 'Ministry of Defence estate',\n",
       " 128: 'Money laundering regulations',\n",
       " 129: 'National Health Service',\n",
       " 130: 'National events and ceremonies',\n",
       " 131: 'National security',\n",
       " 132: 'Northern Ireland',\n",
       " 133: 'Nuclear disarmament',\n",
       " 134: 'Oil and gas',\n",
       " 135: 'Passports',\n",
       " 136: 'Passports and travel documents for foreign nationals',\n",
       " 137: 'Payroll',\n",
       " 138: 'Peace and stability in the Middle East and North Africa',\n",
       " 139: 'Pensions and ageing society',\n",
       " 140: 'Permanent stay in the UK',\n",
       " 141: 'Personal tax',\n",
       " 142: 'Policing',\n",
       " 143: 'Population screening programmes',\n",
       " 144: 'Postal service reform',\n",
       " 145: 'Pregnancy and birth',\n",
       " 146: 'Prisons and probation',\n",
       " 147: 'Public health',\n",
       " 148: 'Public sector land use',\n",
       " 149: 'Public services',\n",
       " 150: 'Pupil wellbeing, behaviour and attendance',\n",
       " 151: 'Rail',\n",
       " 152: 'Regulation reform',\n",
       " 153: 'Reoffending and rehabilitation',\n",
       " 154: 'Reporting crimes and getting compensation',\n",
       " 155: 'Road infrastructure',\n",
       " 156: 'Running and managing a school',\n",
       " 157: 'Rural and countryside',\n",
       " 158: 'Safeguarding and social care for children',\n",
       " 159: 'School and academy financial management and assurance',\n",
       " 160: 'School and academy funding',\n",
       " 161: 'School curriculum',\n",
       " 162: 'Science and innovation',\n",
       " 163: 'Scotland',\n",
       " 164: 'Screening and quality assurance (all programmes)',\n",
       " 165: 'Secondments with government',\n",
       " 166: 'Self-employment',\n",
       " 167: 'Sentencing reform',\n",
       " 168: 'Social care',\n",
       " 169: 'Special educational needs and disability (SEND) and high needs',\n",
       " 170: 'Sports and leisure',\n",
       " 171: 'Starting and attending school',\n",
       " 172: 'Statutory rights',\n",
       " 173: 'Support services for military and defence personnel and their families',\n",
       " 174: 'Support services for veterans and their families',\n",
       " 175: 'Sustainable development',\n",
       " 176: 'Tax credits',\n",
       " 177: 'Tax evasion and avoidance',\n",
       " 178: 'Teaching and leadership',\n",
       " 179: 'The Commonwealth',\n",
       " 180: 'Tourism',\n",
       " 181: 'Trade and investment',\n",
       " 182: 'Transport accessibility and mobility',\n",
       " 183: 'Transport corporate and transparency',\n",
       " 184: 'Transport modelling and appraisal',\n",
       " 185: 'Transport planning',\n",
       " 186: 'Transport research and evaluation',\n",
       " 187: 'Transport security',\n",
       " 188: 'Transport statistics',\n",
       " 189: 'Travel abroad',\n",
       " 190: 'UK border control',\n",
       " 191: 'UK economy',\n",
       " 192: 'UK nuclear deterrent',\n",
       " 193: 'UK prosperity and security: Asia, Latin America and Africa',\n",
       " 194: 'Universal Credit',\n",
       " 195: 'Victims of crime',\n",
       " 196: 'Violence against women and girls',\n",
       " 197: 'Visas',\n",
       " 198: 'Voting',\n",
       " 199: 'Wales',\n",
       " 200: 'Waste and recycling',\n",
       " 201: 'Water industry',\n",
       " 202: 'Weapons proliferation',\n",
       " 203: 'What you can bring to the UK',\n",
       " 204: 'Wildlife and animal welfare',\n",
       " 205: 'Work and disabled people',\n",
       " 206: 'Working, jobs and pensions',\n",
       " 207: 'Young people and the law',\n",
       " 208: 'Your rights and the law',\n",
       " 209: 'Youth employment and social issues',\n",
       " 210: 'world_level1'}"
      ]
     },
     "execution_count": 101,
     "metadata": {},
     "output_type": "execute_result"
    }
   ],
   "source": [
    "#COLLAPSE World level2taxons\n",
    "labelled_level2.loc[labelled_level2['level1taxon'] == 'World', 'level2taxon'] = 'world_level1'\n",
    "\n",
    "#creating categorical variable for level2taxons from values\n",
    "labelled_level2['level2taxon'] = labelled_level2['level2taxon'].astype('category')\n",
    "\n",
    "#Get the category numeric values (codes) and avoid zero-indexing\n",
    "labels = labelled_level2['level2taxon'].cat.codes + 1\n",
    "\n",
    "#create dictionary of taxon category code to string label for use in model evaluation\n",
    "labels_index = dict(zip((labels), labelled_level2['level2taxon']))\n",
    "labels_index"
   ]
  },
  {
   "cell_type": "code",
   "execution_count": 102,
   "metadata": {},
   "outputs": [
    {
     "name": "stdout",
     "output_type": "stream",
     "text": [
      "210\n"
     ]
    }
   ],
   "source": [
    "print(len(labels_index))"
   ]
  },
  {
   "cell_type": "markdown",
   "metadata": {},
   "source": [
    "### Create target/Y "
   ]
  },
  {
   "cell_type": "markdown",
   "metadata": {},
   "source": [
    "Note: when using the categorical_crossentropy loss, your targets should be in categorical format (e.g. if you have 10 classes, the target for each sample should be a 10-dimensional vector that is all-zeros expect for a 1 at the index corresponding to the class of the sample)."
   ]
  },
  {
   "cell_type": "markdown",
   "metadata": {},
   "source": [
    "In multilabel learning, the joint set of binary classification tasks is expressed with label binary indicator array: each sample is one row of a 2d array of shape (n_samples, n_classes) with binary values:  \n",
    "the one, i.e. the non zero elements, corresponds to the subset of labels.  \n",
    "An array such as np.array([[1, 0, 0], [0, 1, 1], [0, 0, 0]]) represents label 0 in the first sample, labels 1 and 2 in the second sample, and no labels in the third sample.  \n",
    "Producing multilabel data as a list of sets of labels may be more intuitive."
   ]
  },
  {
   "cell_type": "markdown",
   "metadata": {},
   "source": [
    "####  First reshape wide to get columns for each level2taxon and row number = number unique urls"
   ]
  },
  {
   "cell_type": "code",
   "execution_count": 103,
   "metadata": {},
   "outputs": [
    {
     "name": "stdout",
     "output_type": "stream",
     "text": [
      "Number of unique level2taxons: 210\n"
     ]
    }
   ],
   "source": [
    "#get a smaller copy of data for pivoting ease (think you can work from full data actually and other cols get droopedauto)\n",
    "\n",
    "level2_reduced = labelled_level2[['content_id', 'level2taxon', 'combined_text']].copy(deep=True)\n",
    "\n",
    "#how many level2taxons are there?\n",
    "print('Number of unique level2taxons: {}'.format(level2_reduced.level2taxon.nunique()))\n",
    "\n",
    "#count the number of taxons per content item into new column\n",
    "level2_reduced['num_taxon_per_content'] = level2_reduced.groupby([\"content_id\"])['content_id'].transform(\"count\")\n",
    "\n",
    "#Add 1 because of zero-indexing to get 1-number of level2taxons as numerical targets\n",
    "level2_reduced['level2taxon_code'] = level2_reduced.level2taxon.astype('category').cat.codes + 1"
   ]
  },
  {
   "cell_type": "code",
   "execution_count": 104,
   "metadata": {},
   "outputs": [
    {
     "name": "stdout",
     "output_type": "stream",
     "text": [
      "Number of unique level2taxons: 210\n"
     ]
    }
   ],
   "source": [
    "#how many level2taxons are there?\n",
    "print('Number of unique level2taxons: {}'.format(labelled_level2.level2taxon.nunique()))\n",
    "\n",
    "#count the number of taxons per content item into new column\n",
    "labelled_level2['num_taxon_per_content'] = labelled_level2.groupby([\"content_id\"])['content_id'].transform(\"count\")\n",
    "\n",
    "#Add 1 because of zero-indexing to get 1-number of level2taxons as numerical targets\n",
    "labelled_level2['level2taxon_code'] = labelled_level2.level2taxon.astype('category').cat.codes + 1"
   ]
  },
  {
   "cell_type": "code",
   "execution_count": 105,
   "metadata": {},
   "outputs": [
    {
     "name": "stdout",
     "output_type": "stream",
     "text": [
      "level2reduced shape: (173560, 5)\n",
      "pivot table shape (no duplicates): (114048, 210) \n",
      "level2taxon_code                                                                         1    \\\n",
      "content_id                           combined_text                                             \n",
      "00029fa4-9b60-4285-898c-85ae8a6367f5 emma jones - small business crown representativ...  NaN   \n",
      "00037b70-5b08-44c2-bf0a-fa8eb636a60b land remediation: bringing brownfield sites bac...  NaN   \n",
      "00037ee5-7b5e-452d-a233-af2c134f5bce steps 2 success:ni statistics from october 2014...  NaN   \n",
      "0004c63d-ae16-432a-bb35-c0f949b1e27c student support applications for higher educati...  NaN   \n",
      "0005ac76-50fe-42f1-8168-8b6fc046e40f advice for building owners: large-scale wall sy...  NaN   \n",
      "\n",
      "level2taxon_code                                                                         2    \\\n",
      "content_id                           combined_text                                             \n",
      "00029fa4-9b60-4285-898c-85ae8a6367f5 emma jones - small business crown representativ...  NaN   \n",
      "00037b70-5b08-44c2-bf0a-fa8eb636a60b land remediation: bringing brownfield sites bac...  NaN   \n",
      "00037ee5-7b5e-452d-a233-af2c134f5bce steps 2 success:ni statistics from october 2014...  NaN   \n",
      "0004c63d-ae16-432a-bb35-c0f949b1e27c student support applications for higher educati...  NaN   \n",
      "0005ac76-50fe-42f1-8168-8b6fc046e40f advice for building owners: large-scale wall sy...  NaN   \n",
      "\n",
      "level2taxon_code                                                                         3    \\\n",
      "content_id                           combined_text                                             \n",
      "00029fa4-9b60-4285-898c-85ae8a6367f5 emma jones - small business crown representativ...  NaN   \n",
      "00037b70-5b08-44c2-bf0a-fa8eb636a60b land remediation: bringing brownfield sites bac...  NaN   \n",
      "00037ee5-7b5e-452d-a233-af2c134f5bce steps 2 success:ni statistics from october 2014...  NaN   \n",
      "0004c63d-ae16-432a-bb35-c0f949b1e27c student support applications for higher educati...  NaN   \n",
      "0005ac76-50fe-42f1-8168-8b6fc046e40f advice for building owners: large-scale wall sy...  NaN   \n",
      "\n",
      "level2taxon_code                                                                         4    \\\n",
      "content_id                           combined_text                                             \n",
      "00029fa4-9b60-4285-898c-85ae8a6367f5 emma jones - small business crown representativ...  NaN   \n",
      "00037b70-5b08-44c2-bf0a-fa8eb636a60b land remediation: bringing brownfield sites bac...  NaN   \n",
      "00037ee5-7b5e-452d-a233-af2c134f5bce steps 2 success:ni statistics from october 2014...  NaN   \n",
      "0004c63d-ae16-432a-bb35-c0f949b1e27c student support applications for higher educati...  NaN   \n",
      "0005ac76-50fe-42f1-8168-8b6fc046e40f advice for building owners: large-scale wall sy...  NaN   \n",
      "\n",
      "level2taxon_code                                                                         5    \\\n",
      "content_id                           combined_text                                             \n",
      "00029fa4-9b60-4285-898c-85ae8a6367f5 emma jones - small business crown representativ...  NaN   \n",
      "00037b70-5b08-44c2-bf0a-fa8eb636a60b land remediation: bringing brownfield sites bac...  NaN   \n",
      "00037ee5-7b5e-452d-a233-af2c134f5bce steps 2 success:ni statistics from october 2014...  NaN   \n",
      "0004c63d-ae16-432a-bb35-c0f949b1e27c student support applications for higher educati...  NaN   \n",
      "0005ac76-50fe-42f1-8168-8b6fc046e40f advice for building owners: large-scale wall sy...  NaN   \n",
      "\n",
      "level2taxon_code                                                                         6    \\\n",
      "content_id                           combined_text                                             \n",
      "00029fa4-9b60-4285-898c-85ae8a6367f5 emma jones - small business crown representativ...  NaN   \n",
      "00037b70-5b08-44c2-bf0a-fa8eb636a60b land remediation: bringing brownfield sites bac...  NaN   \n",
      "00037ee5-7b5e-452d-a233-af2c134f5bce steps 2 success:ni statistics from october 2014...  NaN   \n",
      "0004c63d-ae16-432a-bb35-c0f949b1e27c student support applications for higher educati...  NaN   \n",
      "0005ac76-50fe-42f1-8168-8b6fc046e40f advice for building owners: large-scale wall sy...  NaN   \n",
      "\n",
      "level2taxon_code                                                                         7    \\\n",
      "content_id                           combined_text                                             \n",
      "00029fa4-9b60-4285-898c-85ae8a6367f5 emma jones - small business crown representativ...  NaN   \n",
      "00037b70-5b08-44c2-bf0a-fa8eb636a60b land remediation: bringing brownfield sites bac...  NaN   \n",
      "00037ee5-7b5e-452d-a233-af2c134f5bce steps 2 success:ni statistics from october 2014...  NaN   \n",
      "0004c63d-ae16-432a-bb35-c0f949b1e27c student support applications for higher educati...  NaN   \n",
      "0005ac76-50fe-42f1-8168-8b6fc046e40f advice for building owners: large-scale wall sy...  NaN   \n",
      "\n",
      "level2taxon_code                                                                         8    \\\n",
      "content_id                           combined_text                                             \n",
      "00029fa4-9b60-4285-898c-85ae8a6367f5 emma jones - small business crown representativ...  NaN   \n",
      "00037b70-5b08-44c2-bf0a-fa8eb636a60b land remediation: bringing brownfield sites bac...  NaN   \n",
      "00037ee5-7b5e-452d-a233-af2c134f5bce steps 2 success:ni statistics from october 2014...  NaN   \n",
      "0004c63d-ae16-432a-bb35-c0f949b1e27c student support applications for higher educati...  NaN   \n",
      "0005ac76-50fe-42f1-8168-8b6fc046e40f advice for building owners: large-scale wall sy...  NaN   \n",
      "\n",
      "level2taxon_code                                                                         9    \\\n",
      "content_id                           combined_text                                             \n",
      "00029fa4-9b60-4285-898c-85ae8a6367f5 emma jones - small business crown representativ...  NaN   \n",
      "00037b70-5b08-44c2-bf0a-fa8eb636a60b land remediation: bringing brownfield sites bac...  NaN   \n",
      "00037ee5-7b5e-452d-a233-af2c134f5bce steps 2 success:ni statistics from october 2014...  NaN   \n",
      "0004c63d-ae16-432a-bb35-c0f949b1e27c student support applications for higher educati...  NaN   \n",
      "0005ac76-50fe-42f1-8168-8b6fc046e40f advice for building owners: large-scale wall sy...  NaN   \n",
      "\n",
      "level2taxon_code                                                                         10   \\\n",
      "content_id                           combined_text                                             \n",
      "00029fa4-9b60-4285-898c-85ae8a6367f5 emma jones - small business crown representativ...  NaN   \n",
      "00037b70-5b08-44c2-bf0a-fa8eb636a60b land remediation: bringing brownfield sites bac...  NaN   \n",
      "00037ee5-7b5e-452d-a233-af2c134f5bce steps 2 success:ni statistics from october 2014...  NaN   \n",
      "0004c63d-ae16-432a-bb35-c0f949b1e27c student support applications for higher educati...  NaN   \n",
      "0005ac76-50fe-42f1-8168-8b6fc046e40f advice for building owners: large-scale wall sy...  NaN   \n",
      "\n",
      "level2taxon_code                                                                        ...   \\\n",
      "content_id                           combined_text                                      ...    \n",
      "00029fa4-9b60-4285-898c-85ae8a6367f5 emma jones - small business crown representativ... ...    \n",
      "00037b70-5b08-44c2-bf0a-fa8eb636a60b land remediation: bringing brownfield sites bac... ...    \n",
      "00037ee5-7b5e-452d-a233-af2c134f5bce steps 2 success:ni statistics from october 2014... ...    \n",
      "0004c63d-ae16-432a-bb35-c0f949b1e27c student support applications for higher educati... ...    \n",
      "0005ac76-50fe-42f1-8168-8b6fc046e40f advice for building owners: large-scale wall sy... ...    \n",
      "\n",
      "level2taxon_code                                                                         201  \\\n",
      "content_id                           combined_text                                             \n",
      "00029fa4-9b60-4285-898c-85ae8a6367f5 emma jones - small business crown representativ...  NaN   \n",
      "00037b70-5b08-44c2-bf0a-fa8eb636a60b land remediation: bringing brownfield sites bac...  NaN   \n",
      "00037ee5-7b5e-452d-a233-af2c134f5bce steps 2 success:ni statistics from october 2014...  NaN   \n",
      "0004c63d-ae16-432a-bb35-c0f949b1e27c student support applications for higher educati...  NaN   \n",
      "0005ac76-50fe-42f1-8168-8b6fc046e40f advice for building owners: large-scale wall sy...  NaN   \n",
      "\n",
      "level2taxon_code                                                                         202  \\\n",
      "content_id                           combined_text                                             \n",
      "00029fa4-9b60-4285-898c-85ae8a6367f5 emma jones - small business crown representativ...  NaN   \n",
      "00037b70-5b08-44c2-bf0a-fa8eb636a60b land remediation: bringing brownfield sites bac...  NaN   \n",
      "00037ee5-7b5e-452d-a233-af2c134f5bce steps 2 success:ni statistics from october 2014...  NaN   \n",
      "0004c63d-ae16-432a-bb35-c0f949b1e27c student support applications for higher educati...  NaN   \n",
      "0005ac76-50fe-42f1-8168-8b6fc046e40f advice for building owners: large-scale wall sy...  NaN   \n",
      "\n",
      "level2taxon_code                                                                         203  \\\n",
      "content_id                           combined_text                                             \n",
      "00029fa4-9b60-4285-898c-85ae8a6367f5 emma jones - small business crown representativ...  NaN   \n",
      "00037b70-5b08-44c2-bf0a-fa8eb636a60b land remediation: bringing brownfield sites bac...  NaN   \n",
      "00037ee5-7b5e-452d-a233-af2c134f5bce steps 2 success:ni statistics from october 2014...  NaN   \n",
      "0004c63d-ae16-432a-bb35-c0f949b1e27c student support applications for higher educati...  NaN   \n",
      "0005ac76-50fe-42f1-8168-8b6fc046e40f advice for building owners: large-scale wall sy...  NaN   \n",
      "\n",
      "level2taxon_code                                                                         204  \\\n",
      "content_id                           combined_text                                             \n",
      "00029fa4-9b60-4285-898c-85ae8a6367f5 emma jones - small business crown representativ...  NaN   \n",
      "00037b70-5b08-44c2-bf0a-fa8eb636a60b land remediation: bringing brownfield sites bac...  NaN   \n",
      "00037ee5-7b5e-452d-a233-af2c134f5bce steps 2 success:ni statistics from october 2014...  NaN   \n",
      "0004c63d-ae16-432a-bb35-c0f949b1e27c student support applications for higher educati...  NaN   \n",
      "0005ac76-50fe-42f1-8168-8b6fc046e40f advice for building owners: large-scale wall sy...  NaN   \n",
      "\n",
      "level2taxon_code                                                                         205  \\\n",
      "content_id                           combined_text                                             \n",
      "00029fa4-9b60-4285-898c-85ae8a6367f5 emma jones - small business crown representativ...  NaN   \n",
      "00037b70-5b08-44c2-bf0a-fa8eb636a60b land remediation: bringing brownfield sites bac...  NaN   \n",
      "00037ee5-7b5e-452d-a233-af2c134f5bce steps 2 success:ni statistics from october 2014...  NaN   \n",
      "0004c63d-ae16-432a-bb35-c0f949b1e27c student support applications for higher educati...  NaN   \n",
      "0005ac76-50fe-42f1-8168-8b6fc046e40f advice for building owners: large-scale wall sy...  NaN   \n",
      "\n",
      "level2taxon_code                                                                         206  \\\n",
      "content_id                           combined_text                                             \n",
      "00029fa4-9b60-4285-898c-85ae8a6367f5 emma jones - small business crown representativ...  NaN   \n",
      "00037b70-5b08-44c2-bf0a-fa8eb636a60b land remediation: bringing brownfield sites bac...  NaN   \n",
      "00037ee5-7b5e-452d-a233-af2c134f5bce steps 2 success:ni statistics from october 2014...  NaN   \n",
      "0004c63d-ae16-432a-bb35-c0f949b1e27c student support applications for higher educati...  NaN   \n",
      "0005ac76-50fe-42f1-8168-8b6fc046e40f advice for building owners: large-scale wall sy...  NaN   \n",
      "\n",
      "level2taxon_code                                                                         207  \\\n",
      "content_id                           combined_text                                             \n",
      "00029fa4-9b60-4285-898c-85ae8a6367f5 emma jones - small business crown representativ...  NaN   \n",
      "00037b70-5b08-44c2-bf0a-fa8eb636a60b land remediation: bringing brownfield sites bac...  NaN   \n",
      "00037ee5-7b5e-452d-a233-af2c134f5bce steps 2 success:ni statistics from october 2014...  NaN   \n",
      "0004c63d-ae16-432a-bb35-c0f949b1e27c student support applications for higher educati...  NaN   \n",
      "0005ac76-50fe-42f1-8168-8b6fc046e40f advice for building owners: large-scale wall sy...  NaN   \n",
      "\n",
      "level2taxon_code                                                                         208  \\\n",
      "content_id                           combined_text                                             \n",
      "00029fa4-9b60-4285-898c-85ae8a6367f5 emma jones - small business crown representativ...  NaN   \n",
      "00037b70-5b08-44c2-bf0a-fa8eb636a60b land remediation: bringing brownfield sites bac...  NaN   \n",
      "00037ee5-7b5e-452d-a233-af2c134f5bce steps 2 success:ni statistics from october 2014...  NaN   \n",
      "0004c63d-ae16-432a-bb35-c0f949b1e27c student support applications for higher educati...  NaN   \n",
      "0005ac76-50fe-42f1-8168-8b6fc046e40f advice for building owners: large-scale wall sy...  NaN   \n",
      "\n",
      "level2taxon_code                                                                         209  \\\n",
      "content_id                           combined_text                                             \n",
      "00029fa4-9b60-4285-898c-85ae8a6367f5 emma jones - small business crown representativ...  NaN   \n",
      "00037b70-5b08-44c2-bf0a-fa8eb636a60b land remediation: bringing brownfield sites bac...  NaN   \n",
      "00037ee5-7b5e-452d-a233-af2c134f5bce steps 2 success:ni statistics from october 2014...  NaN   \n",
      "0004c63d-ae16-432a-bb35-c0f949b1e27c student support applications for higher educati...  NaN   \n",
      "0005ac76-50fe-42f1-8168-8b6fc046e40f advice for building owners: large-scale wall sy...  NaN   \n",
      "\n",
      "level2taxon_code                                                                         210  \n",
      "content_id                           combined_text                                            \n",
      "00029fa4-9b60-4285-898c-85ae8a6367f5 emma jones - small business crown representativ...  NaN  \n",
      "00037b70-5b08-44c2-bf0a-fa8eb636a60b land remediation: bringing brownfield sites bac...  NaN  \n",
      "00037ee5-7b5e-452d-a233-af2c134f5bce steps 2 success:ni statistics from october 2014...  NaN  \n",
      "0004c63d-ae16-432a-bb35-c0f949b1e27c student support applications for higher educati...  NaN  \n",
      "0005ac76-50fe-42f1-8168-8b6fc046e40f advice for building owners: large-scale wall sy...  NaN  \n",
      "\n",
      "[5 rows x 210 columns]\n"
     ]
    }
   ],
   "source": [
    "#reshape to wide per taxon and keep the combined text so indexing is consistent when splitting X from Y\n",
    "\n",
    "multilabel = (level2_reduced.pivot_table(index=['content_id', 'combined_text' ], \n",
    "                  columns='level2taxon_code', \n",
    "                  values='num_taxon_per_content'))\n",
    "print('level2reduced shape: {}'.format(level2_reduced.shape))\n",
    "print('pivot table shape (no duplicates): {} '.format(multilabel.shape))\n",
    "print(multilabel.head())"
   ]
  },
  {
   "cell_type": "code",
   "execution_count": 108,
   "metadata": {},
   "outputs": [],
   "source": [
    "#THIS IS WHY INDEXING IS NOT ZERO-BASED\n",
    "#convert the number_of_taxons_per_content values to 1, meaning there was an entry for this taxon and this content_id, 0 otherwise\n",
    "binary_multilabel = multilabel.notnull().astype('int')"
   ]
  },
  {
   "cell_type": "code",
   "execution_count": 109,
   "metadata": {},
   "outputs": [
    {
     "name": "stdout",
     "output_type": "stream",
     "text": [
      "Shape of Y multilabel array before train/val/test split:(114048, 210)\n"
     ]
    }
   ],
   "source": [
    "#will convert columns to an array of shape\n",
    "print('Shape of Y multilabel array before train/val/test split:{}'.format(binary_multilabel[list(binary_multilabel.columns)].values.shape))"
   ]
  },
  {
   "cell_type": "code",
   "execution_count": 110,
   "metadata": {},
   "outputs": [
    {
     "name": "stdout",
     "output_type": "stream",
     "text": [
      "Example row of multilabel array [0 0 0 0 0 0 0 0 0 0 0 0 0 0 0 0 0 0 0 0 0 0 0 0 0 0 0 0 0 0 0 0 0 0 0 0 0\n",
      " 0 0 0 0 0 0 0 0 0 0 0 0 0 0 0 0 0 0 0 0 0 0 0 0 0 0 0 0 0 0 0 0 0 0 0 0 0\n",
      " 0 0 0 0 0 0 0 0 0 0 0 0 0 0 0 0 0 0 0 0 0 0 0 0 0 0 0 0 0 0 0 0 0 0 0 0 0\n",
      " 0 0 0 0 0 0 0 0 0 0 0 0 0 0 0 0 0 0 0 0 1 0 0 0 0 0 0 0 0 0 0 0 0 0 0 0 0\n",
      " 0 0 0 0 0 0 0 0 0 0 0 0 0 0 0 0 0 0 0 0 0 0 0 0 0 0 0 0 0 0 0 0 0 0 0 0 0\n",
      " 0 0 0 0 0 0 0 0 0 0 0 0 0 0 0 0 0 0 0 0 0 0 0 0 0]\n"
     ]
    }
   ],
   "source": [
    "#convert columns to an array. Each row represents a content item, each column an individual taxon\n",
    "binary_multilabel = binary_multilabel[list(binary_multilabel.columns)].values\n",
    "print('Example row of multilabel array {}'.format(binary_multilabel[2]))"
   ]
  },
  {
   "cell_type": "code",
   "execution_count": 111,
   "metadata": {},
   "outputs": [
    {
     "data": {
      "text/plain": [
       "numpy.ndarray"
      ]
     },
     "execution_count": 111,
     "metadata": {},
     "output_type": "execute_result"
    }
   ],
   "source": [
    "type(binary_multilabel)"
   ]
  },
  {
   "cell_type": "markdown",
   "metadata": {},
   "source": [
    "### Format metadata/X"
   ]
  },
  {
   "cell_type": "code",
   "execution_count": 112,
   "metadata": {},
   "outputs": [
    {
     "data": {
      "text/plain": [
       "114048"
      ]
     },
     "execution_count": 112,
     "metadata": {},
     "output_type": "execute_result"
    }
   ],
   "source": [
    "# THESE DICTS NEED TO BE CREATED IN ALL DATA, OR DOC TYPES NOT PRESENT IN TRAINING MUST BE DELETED FROM NEW\n",
    "#create dictionary of document type to content_id\n",
    "doctype_dict = dict(zip(labelled_level2['content_id'], labelled_level2['document_type']))\n",
    "frstpub_dict = dict(zip(labelled_level2['content_id'], labelled_level2['first_published_at']))\n",
    "pubapp_dict = dict(zip(labelled_level2['content_id'], labelled_level2['publishing_app']))\n",
    "puborg_dict = dict(zip(labelled_level2['content_id'], labelled_level2['primary_publishing_organisation']))\n",
    "len(doctype_dict)"
   ]
  },
  {
   "cell_type": "code",
   "execution_count": 113,
   "metadata": {},
   "outputs": [
    {
     "name": "stdout",
     "output_type": "stream",
     "text": [
      "['content_id', 'combined_text']\n",
      "Int64Index([  1,   2,   3,   4,   5,   6,   7,   8,   9,  10,\n",
      "            ...\n",
      "            201, 202, 203, 204, 205, 206, 207, 208, 209, 210],\n",
      "           dtype='int64', name='level2taxon_code', length=210)\n",
      "level2taxon_code                                                                         1    \\\n",
      "content_id                           combined_text                                             \n",
      "00029fa4-9b60-4285-898c-85ae8a6367f5 emma jones - small business crown representativ...  NaN   \n",
      "00037b70-5b08-44c2-bf0a-fa8eb636a60b land remediation: bringing brownfield sites bac...  NaN   \n",
      "00037ee5-7b5e-452d-a233-af2c134f5bce steps 2 success:ni statistics from october 2014...  NaN   \n",
      "0004c63d-ae16-432a-bb35-c0f949b1e27c student support applications for higher educati...  NaN   \n",
      "0005ac76-50fe-42f1-8168-8b6fc046e40f advice for building owners: large-scale wall sy...  NaN   \n",
      "\n",
      "level2taxon_code                                                                         2    \\\n",
      "content_id                           combined_text                                             \n",
      "00029fa4-9b60-4285-898c-85ae8a6367f5 emma jones - small business crown representativ...  NaN   \n",
      "00037b70-5b08-44c2-bf0a-fa8eb636a60b land remediation: bringing brownfield sites bac...  NaN   \n",
      "00037ee5-7b5e-452d-a233-af2c134f5bce steps 2 success:ni statistics from october 2014...  NaN   \n",
      "0004c63d-ae16-432a-bb35-c0f949b1e27c student support applications for higher educati...  NaN   \n",
      "0005ac76-50fe-42f1-8168-8b6fc046e40f advice for building owners: large-scale wall sy...  NaN   \n",
      "\n",
      "level2taxon_code                                                                         3    \\\n",
      "content_id                           combined_text                                             \n",
      "00029fa4-9b60-4285-898c-85ae8a6367f5 emma jones - small business crown representativ...  NaN   \n",
      "00037b70-5b08-44c2-bf0a-fa8eb636a60b land remediation: bringing brownfield sites bac...  NaN   \n",
      "00037ee5-7b5e-452d-a233-af2c134f5bce steps 2 success:ni statistics from october 2014...  NaN   \n",
      "0004c63d-ae16-432a-bb35-c0f949b1e27c student support applications for higher educati...  NaN   \n",
      "0005ac76-50fe-42f1-8168-8b6fc046e40f advice for building owners: large-scale wall sy...  NaN   \n",
      "\n",
      "level2taxon_code                                                                         4    \\\n",
      "content_id                           combined_text                                             \n",
      "00029fa4-9b60-4285-898c-85ae8a6367f5 emma jones - small business crown representativ...  NaN   \n",
      "00037b70-5b08-44c2-bf0a-fa8eb636a60b land remediation: bringing brownfield sites bac...  NaN   \n",
      "00037ee5-7b5e-452d-a233-af2c134f5bce steps 2 success:ni statistics from october 2014...  NaN   \n",
      "0004c63d-ae16-432a-bb35-c0f949b1e27c student support applications for higher educati...  NaN   \n",
      "0005ac76-50fe-42f1-8168-8b6fc046e40f advice for building owners: large-scale wall sy...  NaN   \n",
      "\n",
      "level2taxon_code                                                                         5    \\\n",
      "content_id                           combined_text                                             \n",
      "00029fa4-9b60-4285-898c-85ae8a6367f5 emma jones - small business crown representativ...  NaN   \n",
      "00037b70-5b08-44c2-bf0a-fa8eb636a60b land remediation: bringing brownfield sites bac...  NaN   \n",
      "00037ee5-7b5e-452d-a233-af2c134f5bce steps 2 success:ni statistics from october 2014...  NaN   \n",
      "0004c63d-ae16-432a-bb35-c0f949b1e27c student support applications for higher educati...  NaN   \n",
      "0005ac76-50fe-42f1-8168-8b6fc046e40f advice for building owners: large-scale wall sy...  NaN   \n",
      "\n",
      "level2taxon_code                                                                         6    \\\n",
      "content_id                           combined_text                                             \n",
      "00029fa4-9b60-4285-898c-85ae8a6367f5 emma jones - small business crown representativ...  NaN   \n",
      "00037b70-5b08-44c2-bf0a-fa8eb636a60b land remediation: bringing brownfield sites bac...  NaN   \n",
      "00037ee5-7b5e-452d-a233-af2c134f5bce steps 2 success:ni statistics from october 2014...  NaN   \n",
      "0004c63d-ae16-432a-bb35-c0f949b1e27c student support applications for higher educati...  NaN   \n",
      "0005ac76-50fe-42f1-8168-8b6fc046e40f advice for building owners: large-scale wall sy...  NaN   \n",
      "\n",
      "level2taxon_code                                                                         7    \\\n",
      "content_id                           combined_text                                             \n",
      "00029fa4-9b60-4285-898c-85ae8a6367f5 emma jones - small business crown representativ...  NaN   \n",
      "00037b70-5b08-44c2-bf0a-fa8eb636a60b land remediation: bringing brownfield sites bac...  NaN   \n",
      "00037ee5-7b5e-452d-a233-af2c134f5bce steps 2 success:ni statistics from october 2014...  NaN   \n",
      "0004c63d-ae16-432a-bb35-c0f949b1e27c student support applications for higher educati...  NaN   \n",
      "0005ac76-50fe-42f1-8168-8b6fc046e40f advice for building owners: large-scale wall sy...  NaN   \n",
      "\n",
      "level2taxon_code                                                                         8    \\\n",
      "content_id                           combined_text                                             \n",
      "00029fa4-9b60-4285-898c-85ae8a6367f5 emma jones - small business crown representativ...  NaN   \n",
      "00037b70-5b08-44c2-bf0a-fa8eb636a60b land remediation: bringing brownfield sites bac...  NaN   \n",
      "00037ee5-7b5e-452d-a233-af2c134f5bce steps 2 success:ni statistics from october 2014...  NaN   \n",
      "0004c63d-ae16-432a-bb35-c0f949b1e27c student support applications for higher educati...  NaN   \n",
      "0005ac76-50fe-42f1-8168-8b6fc046e40f advice for building owners: large-scale wall sy...  NaN   \n",
      "\n",
      "level2taxon_code                                                                         9    \\\n",
      "content_id                           combined_text                                             \n",
      "00029fa4-9b60-4285-898c-85ae8a6367f5 emma jones - small business crown representativ...  NaN   \n",
      "00037b70-5b08-44c2-bf0a-fa8eb636a60b land remediation: bringing brownfield sites bac...  NaN   \n",
      "00037ee5-7b5e-452d-a233-af2c134f5bce steps 2 success:ni statistics from october 2014...  NaN   \n",
      "0004c63d-ae16-432a-bb35-c0f949b1e27c student support applications for higher educati...  NaN   \n",
      "0005ac76-50fe-42f1-8168-8b6fc046e40f advice for building owners: large-scale wall sy...  NaN   \n",
      "\n",
      "level2taxon_code                                                                         10   \\\n",
      "content_id                           combined_text                                             \n",
      "00029fa4-9b60-4285-898c-85ae8a6367f5 emma jones - small business crown representativ...  NaN   \n",
      "00037b70-5b08-44c2-bf0a-fa8eb636a60b land remediation: bringing brownfield sites bac...  NaN   \n",
      "00037ee5-7b5e-452d-a233-af2c134f5bce steps 2 success:ni statistics from october 2014...  NaN   \n",
      "0004c63d-ae16-432a-bb35-c0f949b1e27c student support applications for higher educati...  NaN   \n",
      "0005ac76-50fe-42f1-8168-8b6fc046e40f advice for building owners: large-scale wall sy...  NaN   \n",
      "\n",
      "level2taxon_code                                                                        ...   \\\n",
      "content_id                           combined_text                                      ...    \n",
      "00029fa4-9b60-4285-898c-85ae8a6367f5 emma jones - small business crown representativ... ...    \n",
      "00037b70-5b08-44c2-bf0a-fa8eb636a60b land remediation: bringing brownfield sites bac... ...    \n",
      "00037ee5-7b5e-452d-a233-af2c134f5bce steps 2 success:ni statistics from october 2014... ...    \n",
      "0004c63d-ae16-432a-bb35-c0f949b1e27c student support applications for higher educati... ...    \n",
      "0005ac76-50fe-42f1-8168-8b6fc046e40f advice for building owners: large-scale wall sy... ...    \n",
      "\n",
      "level2taxon_code                                                                         201  \\\n",
      "content_id                           combined_text                                             \n",
      "00029fa4-9b60-4285-898c-85ae8a6367f5 emma jones - small business crown representativ...  NaN   \n",
      "00037b70-5b08-44c2-bf0a-fa8eb636a60b land remediation: bringing brownfield sites bac...  NaN   \n",
      "00037ee5-7b5e-452d-a233-af2c134f5bce steps 2 success:ni statistics from october 2014...  NaN   \n",
      "0004c63d-ae16-432a-bb35-c0f949b1e27c student support applications for higher educati...  NaN   \n",
      "0005ac76-50fe-42f1-8168-8b6fc046e40f advice for building owners: large-scale wall sy...  NaN   \n",
      "\n",
      "level2taxon_code                                                                         202  \\\n",
      "content_id                           combined_text                                             \n",
      "00029fa4-9b60-4285-898c-85ae8a6367f5 emma jones - small business crown representativ...  NaN   \n",
      "00037b70-5b08-44c2-bf0a-fa8eb636a60b land remediation: bringing brownfield sites bac...  NaN   \n",
      "00037ee5-7b5e-452d-a233-af2c134f5bce steps 2 success:ni statistics from october 2014...  NaN   \n",
      "0004c63d-ae16-432a-bb35-c0f949b1e27c student support applications for higher educati...  NaN   \n",
      "0005ac76-50fe-42f1-8168-8b6fc046e40f advice for building owners: large-scale wall sy...  NaN   \n",
      "\n",
      "level2taxon_code                                                                         203  \\\n",
      "content_id                           combined_text                                             \n",
      "00029fa4-9b60-4285-898c-85ae8a6367f5 emma jones - small business crown representativ...  NaN   \n",
      "00037b70-5b08-44c2-bf0a-fa8eb636a60b land remediation: bringing brownfield sites bac...  NaN   \n",
      "00037ee5-7b5e-452d-a233-af2c134f5bce steps 2 success:ni statistics from october 2014...  NaN   \n",
      "0004c63d-ae16-432a-bb35-c0f949b1e27c student support applications for higher educati...  NaN   \n",
      "0005ac76-50fe-42f1-8168-8b6fc046e40f advice for building owners: large-scale wall sy...  NaN   \n",
      "\n",
      "level2taxon_code                                                                         204  \\\n",
      "content_id                           combined_text                                             \n",
      "00029fa4-9b60-4285-898c-85ae8a6367f5 emma jones - small business crown representativ...  NaN   \n",
      "00037b70-5b08-44c2-bf0a-fa8eb636a60b land remediation: bringing brownfield sites bac...  NaN   \n",
      "00037ee5-7b5e-452d-a233-af2c134f5bce steps 2 success:ni statistics from october 2014...  NaN   \n",
      "0004c63d-ae16-432a-bb35-c0f949b1e27c student support applications for higher educati...  NaN   \n",
      "0005ac76-50fe-42f1-8168-8b6fc046e40f advice for building owners: large-scale wall sy...  NaN   \n",
      "\n",
      "level2taxon_code                                                                         205  \\\n",
      "content_id                           combined_text                                             \n",
      "00029fa4-9b60-4285-898c-85ae8a6367f5 emma jones - small business crown representativ...  NaN   \n",
      "00037b70-5b08-44c2-bf0a-fa8eb636a60b land remediation: bringing brownfield sites bac...  NaN   \n",
      "00037ee5-7b5e-452d-a233-af2c134f5bce steps 2 success:ni statistics from october 2014...  NaN   \n",
      "0004c63d-ae16-432a-bb35-c0f949b1e27c student support applications for higher educati...  NaN   \n",
      "0005ac76-50fe-42f1-8168-8b6fc046e40f advice for building owners: large-scale wall sy...  NaN   \n",
      "\n",
      "level2taxon_code                                                                         206  \\\n",
      "content_id                           combined_text                                             \n",
      "00029fa4-9b60-4285-898c-85ae8a6367f5 emma jones - small business crown representativ...  NaN   \n",
      "00037b70-5b08-44c2-bf0a-fa8eb636a60b land remediation: bringing brownfield sites bac...  NaN   \n",
      "00037ee5-7b5e-452d-a233-af2c134f5bce steps 2 success:ni statistics from october 2014...  NaN   \n",
      "0004c63d-ae16-432a-bb35-c0f949b1e27c student support applications for higher educati...  NaN   \n",
      "0005ac76-50fe-42f1-8168-8b6fc046e40f advice for building owners: large-scale wall sy...  NaN   \n",
      "\n",
      "level2taxon_code                                                                         207  \\\n",
      "content_id                           combined_text                                             \n",
      "00029fa4-9b60-4285-898c-85ae8a6367f5 emma jones - small business crown representativ...  NaN   \n",
      "00037b70-5b08-44c2-bf0a-fa8eb636a60b land remediation: bringing brownfield sites bac...  NaN   \n",
      "00037ee5-7b5e-452d-a233-af2c134f5bce steps 2 success:ni statistics from october 2014...  NaN   \n",
      "0004c63d-ae16-432a-bb35-c0f949b1e27c student support applications for higher educati...  NaN   \n",
      "0005ac76-50fe-42f1-8168-8b6fc046e40f advice for building owners: large-scale wall sy...  NaN   \n",
      "\n",
      "level2taxon_code                                                                         208  \\\n",
      "content_id                           combined_text                                             \n",
      "00029fa4-9b60-4285-898c-85ae8a6367f5 emma jones - small business crown representativ...  NaN   \n",
      "00037b70-5b08-44c2-bf0a-fa8eb636a60b land remediation: bringing brownfield sites bac...  NaN   \n",
      "00037ee5-7b5e-452d-a233-af2c134f5bce steps 2 success:ni statistics from october 2014...  NaN   \n",
      "0004c63d-ae16-432a-bb35-c0f949b1e27c student support applications for higher educati...  NaN   \n",
      "0005ac76-50fe-42f1-8168-8b6fc046e40f advice for building owners: large-scale wall sy...  NaN   \n",
      "\n",
      "level2taxon_code                                                                         209  \\\n",
      "content_id                           combined_text                                             \n",
      "00029fa4-9b60-4285-898c-85ae8a6367f5 emma jones - small business crown representativ...  NaN   \n",
      "00037b70-5b08-44c2-bf0a-fa8eb636a60b land remediation: bringing brownfield sites bac...  NaN   \n",
      "00037ee5-7b5e-452d-a233-af2c134f5bce steps 2 success:ni statistics from october 2014...  NaN   \n",
      "0004c63d-ae16-432a-bb35-c0f949b1e27c student support applications for higher educati...  NaN   \n",
      "0005ac76-50fe-42f1-8168-8b6fc046e40f advice for building owners: large-scale wall sy...  NaN   \n",
      "\n",
      "level2taxon_code                                                                         210  \n",
      "content_id                           combined_text                                            \n",
      "00029fa4-9b60-4285-898c-85ae8a6367f5 emma jones - small business crown representativ...  NaN  \n",
      "00037b70-5b08-44c2-bf0a-fa8eb636a60b land remediation: bringing brownfield sites bac...  NaN  \n",
      "00037ee5-7b5e-452d-a233-af2c134f5bce steps 2 success:ni statistics from october 2014...  NaN  \n",
      "0004c63d-ae16-432a-bb35-c0f949b1e27c student support applications for higher educati...  NaN  \n",
      "0005ac76-50fe-42f1-8168-8b6fc046e40f advice for building owners: large-scale wall sy...  NaN  \n",
      "\n",
      "[5 rows x 210 columns]\n"
     ]
    }
   ],
   "source": [
    "#the pivot table has two indices\n",
    "print(multilabel.index.names)\n",
    "print(multilabel.columns)\n",
    "print(multilabel.head())"
   ]
  },
  {
   "cell_type": "code",
   "execution_count": 114,
   "metadata": {},
   "outputs": [],
   "source": [
    "#extract content_id index to df\n",
    "meta1 = pd.DataFrame(multilabel.index.get_level_values('content_id'))"
   ]
  },
  {
   "cell_type": "code",
   "execution_count": 115,
   "metadata": {},
   "outputs": [
    {
     "data": {
      "text/html": [
       "<div>\n",
       "<style scoped>\n",
       "    .dataframe tbody tr th:only-of-type {\n",
       "        vertical-align: middle;\n",
       "    }\n",
       "\n",
       "    .dataframe tbody tr th {\n",
       "        vertical-align: top;\n",
       "    }\n",
       "\n",
       "    .dataframe thead th {\n",
       "        text-align: right;\n",
       "    }\n",
       "</style>\n",
       "<table border=\"1\" class=\"dataframe\">\n",
       "  <thead>\n",
       "    <tr style=\"text-align: right;\">\n",
       "      <th></th>\n",
       "      <th>content_id</th>\n",
       "      <th>doctype</th>\n",
       "      <th>first_published_at</th>\n",
       "      <th>pub_app</th>\n",
       "      <th>prim_pub_org</th>\n",
       "    </tr>\n",
       "  </thead>\n",
       "  <tbody>\n",
       "    <tr>\n",
       "      <th>0</th>\n",
       "      <td>00029fa4-9b60-4285-898c-85ae8a6367f5</td>\n",
       "      <td>document_collection</td>\n",
       "      <td>2017-01-11T10:18:00.000+00:00</td>\n",
       "      <td>whitehall</td>\n",
       "      <td>{'title': 'Crown Commercial Service'}</td>\n",
       "    </tr>\n",
       "    <tr>\n",
       "      <th>1</th>\n",
       "      <td>00037b70-5b08-44c2-bf0a-fa8eb636a60b</td>\n",
       "      <td>promotional</td>\n",
       "      <td>2015-05-11T10:41:00.000+00:00</td>\n",
       "      <td>whitehall</td>\n",
       "      <td>{'title': 'Department for International Trade'}</td>\n",
       "    </tr>\n",
       "    <tr>\n",
       "      <th>2</th>\n",
       "      <td>00037ee5-7b5e-452d-a233-af2c134f5bce</td>\n",
       "      <td>official_statistics</td>\n",
       "      <td>2016-11-24T09:30:13.000+00:00</td>\n",
       "      <td>whitehall</td>\n",
       "      <td>{'title': 'Department for Communities (Norther...</td>\n",
       "    </tr>\n",
       "    <tr>\n",
       "      <th>3</th>\n",
       "      <td>0004c63d-ae16-432a-bb35-c0f949b1e27c</td>\n",
       "      <td>official_statistics</td>\n",
       "      <td>2016-10-20T08:30:09.000+00:00</td>\n",
       "      <td>whitehall</td>\n",
       "      <td>{'title': 'Welsh Government'}</td>\n",
       "    </tr>\n",
       "    <tr>\n",
       "      <th>4</th>\n",
       "      <td>0005ac76-50fe-42f1-8168-8b6fc046e40f</td>\n",
       "      <td>guidance</td>\n",
       "      <td>2017-08-02T17:29:00.000+00:00</td>\n",
       "      <td>whitehall</td>\n",
       "      <td>{'title': 'Department for Communities and Loca...</td>\n",
       "    </tr>\n",
       "  </tbody>\n",
       "</table>\n",
       "</div>"
      ],
      "text/plain": [
       "                             content_id              doctype  \\\n",
       "0  00029fa4-9b60-4285-898c-85ae8a6367f5  document_collection   \n",
       "1  00037b70-5b08-44c2-bf0a-fa8eb636a60b          promotional   \n",
       "2  00037ee5-7b5e-452d-a233-af2c134f5bce  official_statistics   \n",
       "3  0004c63d-ae16-432a-bb35-c0f949b1e27c  official_statistics   \n",
       "4  0005ac76-50fe-42f1-8168-8b6fc046e40f             guidance   \n",
       "\n",
       "              first_published_at    pub_app  \\\n",
       "0  2017-01-11T10:18:00.000+00:00  whitehall   \n",
       "1  2015-05-11T10:41:00.000+00:00  whitehall   \n",
       "2  2016-11-24T09:30:13.000+00:00  whitehall   \n",
       "3  2016-10-20T08:30:09.000+00:00  whitehall   \n",
       "4  2017-08-02T17:29:00.000+00:00  whitehall   \n",
       "\n",
       "                                        prim_pub_org  \n",
       "0              {'title': 'Crown Commercial Service'}  \n",
       "1    {'title': 'Department for International Trade'}  \n",
       "2  {'title': 'Department for Communities (Norther...  \n",
       "3                      {'title': 'Welsh Government'}  \n",
       "4  {'title': 'Department for Communities and Loca...  "
      ]
     },
     "execution_count": 115,
     "metadata": {},
     "output_type": "execute_result"
    }
   ],
   "source": [
    "#apply meta data to content\n",
    "meta1['doctype'] = meta1['content_id'].map(doctype_dict).copy()\n",
    "meta1['first_published_at'] = meta1['content_id'].map(frstpub_dict).copy()\n",
    "meta1['pub_app'] = meta1['content_id'].map(pubapp_dict).copy()\n",
    "meta1['prim_pub_org'] = meta1['content_id'].map(puborg_dict).copy()\n",
    "\n",
    "meta1 = meta1.replace(np.nan, '', regex=True) #conver nans to empty strings for labelencoder types\n",
    "meta1.head()"
   ]
  },
  {
   "cell_type": "code",
   "execution_count": 135,
   "metadata": {},
   "outputs": [],
   "source": [
    "#encode strings as integers\n",
    "#doctype\n",
    "doctype_encoder = LabelEncoder()\n",
    "meta1['doctype_cat'] = doctype_encoder.fit_transform(meta1['doctype']) #fit the label encoder on all data then transform on individual data sets\n",
    "\n",
    "# print(len(meta1['doctype_cat'].unique()))\n",
    "# print(meta1['doctype_cat'].unique())\n",
    "\n",
    "# primary publishing org\n",
    "pub_org_encoder = LabelEncoder()\n",
    "meta1['prim_pub_org_cat'] = doctype_encoder.fit_transform(meta1['prim_pub_org']) \n",
    "\n",
    "# print(len(meta1['prim_pub_org_cat'].unique()))\n",
    "# print(meta1['prim_pub_org_cat'].unique())\n",
    "\n",
    "#publishing application\n",
    "\n",
    "pub_app_encoder = LabelEncoder()\n",
    "meta1['pub_app_cat'] = doctype_encoder.fit_transform(meta1['pub_app'])\n",
    "\n",
    "# print(len(meta1['pub_app_cat'].unique()))\n",
    "# print(meta1['pub_app_cat'].unique())"
   ]
  },
  {
   "cell_type": "code",
   "execution_count": 118,
   "metadata": {},
   "outputs": [
    {
     "name": "stdout",
     "output_type": "stream",
     "text": [
      "(114048, 58)\n",
      "(114048, 382)\n",
      "(114048, 9)\n"
     ]
    },
    {
     "data": {
      "text/plain": [
       "numpy.ndarray"
      ]
     },
     "execution_count": 118,
     "metadata": {},
     "output_type": "execute_result"
    }
   ],
   "source": [
    "#one hot encode integers\n",
    "encoded_doctype = to_categorical(meta1['doctype_cat'])\n",
    "print(encoded_doctype.shape)\n",
    "\n",
    "encoded_prim_pub_org = to_categorical(meta1['prim_pub_org_cat'])\n",
    "print(encoded_prim_pub_org.shape)\n",
    "\n",
    "encoded_pub_app = to_categorical(meta1['pub_app_cat'])\n",
    "print(encoded_pub_app.shape)\n",
    "type(encoded_pub_app)"
   ]
  },
  {
   "cell_type": "code",
   "execution_count": 121,
   "metadata": {},
   "outputs": [
    {
     "name": "stdout",
     "output_type": "stream",
     "text": [
      "(114048,)\n",
      "(114048, 1)\n"
     ]
    },
    {
     "data": {
      "text/plain": [
       "numpy.ndarray"
      ]
     },
     "execution_count": 121,
     "metadata": {},
     "output_type": "execute_result"
    }
   ],
   "source": [
    "meta1['first_published_at'] = pd.to_datetime(meta1['first_published_at']) \n",
    "\n",
    "# print(meta['first_published_at'][0].Timestamp())\n",
    "# for index, row in meta.iterrows():\n",
    "#     row['first_published_at_ts'] = row['first_published_at'].timestamp()\n",
    "#     print(row['first_published_at_ts'])\n",
    "\n",
    "print(meta1['first_published_at'].shape)\n",
    "\n",
    "first_published = np.array(meta1['first_published_at']).reshape(meta1['first_published_at'].shape[0], 1).copy()\n",
    "                           \n",
    "print(first_published.shape)\n",
    "type(first_published)"
   ]
  },
  {
   "cell_type": "code",
   "execution_count": 123,
   "metadata": {},
   "outputs": [
    {
     "name": "stdout",
     "output_type": "stream",
     "text": [
      "(114048, 449)\n",
      "449\n",
      "(114048, 449)\n"
     ]
    }
   ],
   "source": [
    "\n",
    "meta = np.concatenate((encoded_doctype, \n",
    "                           encoded_prim_pub_org, \n",
    "                           encoded_pub_app), #error when adding date...\n",
    "                          axis=1)\n",
    "\n",
    "print(meta.shape)\n",
    "nb_metavars = meta.shape[1]\n",
    "print(nb_metavars)\n",
    "print(meta.shape)"
   ]
  },
  {
   "cell_type": "markdown",
   "metadata": {},
   "source": [
    "### Create language data/X"
   ]
  },
  {
   "cell_type": "markdown",
   "metadata": {},
   "source": [
    "format our text samples and labels into tensors that can be fed into a neural network. To do this, we will rely on Keras utilities keras.preprocessing.text.Tokenizer and keras.preprocessing.sequence.pad_sequences."
   ]
  },
  {
   "cell_type": "code",
   "execution_count": 124,
   "metadata": {},
   "outputs": [
    {
     "data": {
      "text/plain": [
       "FrozenList(['content_id', 'combined_text'])"
      ]
     },
     "execution_count": 124,
     "metadata": {},
     "output_type": "execute_result"
    }
   ],
   "source": [
    "#the pivot table has two indices\n",
    "multilabel.index.names"
   ]
  },
  {
   "cell_type": "code",
   "execution_count": 125,
   "metadata": {},
   "outputs": [
    {
     "data": {
      "text/plain": [
       "(114048,)"
      ]
     },
     "execution_count": 125,
     "metadata": {},
     "output_type": "execute_result"
    }
   ],
   "source": [
    "#extract combined text index to array\n",
    "texts = multilabel.index.get_level_values('combined_text')\n",
    "texts.shape"
   ]
  },
  {
   "cell_type": "markdown",
   "metadata": {},
   "source": [
    "### Tokenizer"
   ]
  },
  {
   "cell_type": "markdown",
   "metadata": {},
   "source": [
    "Tokenizer = Class for vectorizing texts, or/and turning texts into sequences (=list of word indexes, where the word of rank i in the dataset (starting at 1) has index i)"
   ]
  },
  {
   "cell_type": "code",
   "execution_count": 126,
   "metadata": {},
   "outputs": [
    {
     "name": "stdout",
     "output_type": "stream",
     "text": [
      "Found 213132 unique tokens.\n"
     ]
    }
   ],
   "source": [
    "# Bag of words method\n",
    "tokenizer = Tokenizer(num_words=NUM_WORDS) #num_words: None or int. Maximum number of words to work with \n",
    "# (if set, tokenization will be restricted to the top num_words most common words in the dataset).\n",
    "\n",
    "# apply tokenizer to our text data\n",
    "tokenizer.fit_on_texts(texts)\n",
    "\n",
    "# list of word indexes, where the word of rank i in the dataset (starting at 1) has index i\n",
    "sequences = tokenizer.texts_to_sequences(texts) #yield one sequence per input text\n",
    "\n",
    "# dictionary mapping words (str) to their rank/index (int).\n",
    "word_index = tokenizer.word_index  # Only set after fit_on_texts was called.\n",
    "print('Found %s unique tokens.' % len(word_index))\n",
    "\n",
    "data = pad_sequences(sequences, maxlen= MAX_SEQUENCE_LENGTH) #MAX_SEQUENCE_LENGTH"
   ]
  },
  {
   "cell_type": "code",
   "execution_count": 127,
   "metadata": {},
   "outputs": [
    {
     "name": "stdout",
     "output_type": "stream",
     "text": [
      "Shape of label tensor: (114048, 210)\n",
      "Shape of data tensor: (114048, 1000)\n"
     ]
    }
   ],
   "source": [
    "print('Shape of label tensor:', binary_multilabel.shape)\n",
    "print('Shape of data tensor:', data.shape)"
   ]
  },
  {
   "cell_type": "markdown",
   "metadata": {},
   "source": [
    "### Data split\n",
    "- Training data = 80%\n",
    "- Development data = 10%\n",
    "- Test data = 10%"
   ]
  },
  {
   "cell_type": "code",
   "execution_count": 129,
   "metadata": {},
   "outputs": [
    {
     "name": "stdout",
     "output_type": "stream",
     "text": [
      "[     0      1      2 ..., 114045 114046 114047]\n",
      "[53174   885 27609 ..., 42613 43567 68268]\n"
     ]
    }
   ],
   "source": [
    "# shuffle data and standardise indices\n",
    "indices = np.arange(data.shape[0])\n",
    "print(indices)\n",
    "np.random.seed(0)\n",
    "np.random.shuffle(indices)\n",
    "print(indices)"
   ]
  },
  {
   "cell_type": "code",
   "execution_count": 130,
   "metadata": {},
   "outputs": [],
   "source": [
    "data = data[indices]\n",
    "metadata = meta[indices]\n",
    "timedata = first_published[indices]\n",
    "labels = binary_multilabel[indices]"
   ]
  },
  {
   "cell_type": "code",
   "execution_count": 131,
   "metadata": {},
   "outputs": [
    {
     "name": "stdout",
     "output_type": "stream",
     "text": [
      "nb_test samples: 11404\n",
      "nb_dev samples: 22809\n",
      "nb_training samples: 91238\n"
     ]
    }
   ],
   "source": [
    "nb_test_samples = int(0.1 * data.shape[0]) #validation split\n",
    "print('nb_test samples:', nb_test_samples)\n",
    "\n",
    "nb_dev_samples = int(0.2 * data.shape[0]) #validation split\n",
    "print('nb_dev samples:', nb_dev_samples)\n",
    "\n",
    "nb_training_samples = int(0.8 * data.shape[0]) #validation split\n",
    "print('nb_training samples:', nb_training_samples)"
   ]
  },
  {
   "cell_type": "code",
   "execution_count": 132,
   "metadata": {},
   "outputs": [
    {
     "name": "stdout",
     "output_type": "stream",
     "text": [
      "Shape of x_train: (91239, 1000)\n",
      "Shape of metax_train: (91239, 449)\n",
      "Shape of datex_train: (91239, 1)\n",
      "Shape of y_train: (91239, 210)\n"
     ]
    }
   ],
   "source": [
    "x_train = data[:-nb_dev_samples]\n",
    "print('Shape of x_train:', x_train.shape)\n",
    "\n",
    "metax_train = metadata[:-nb_dev_samples]\n",
    "print('Shape of metax_train:', metax_train.shape)\n",
    "\n",
    "datex_train = timedata[:-nb_dev_samples]\n",
    "print('Shape of datex_train:', datex_train.shape)\n",
    "\n",
    "y_train = labels[:-nb_dev_samples]\n",
    "print('Shape of y_train:', y_train.shape)"
   ]
  },
  {
   "cell_type": "code",
   "execution_count": 133,
   "metadata": {},
   "outputs": [
    {
     "name": "stdout",
     "output_type": "stream",
     "text": [
      "Shape of x_dev: (11405, 1000)\n",
      "Shape of metax_dev: (11405, 449)\n",
      "Shape of metax_dev: (11405, 1)\n",
      "Shape of y_dev: (11405, 210)\n"
     ]
    }
   ],
   "source": [
    "x_dev = data[-nb_dev_samples:-nb_test_samples]\n",
    "print('Shape of x_dev:', x_dev.shape)\n",
    "\n",
    "metax_dev = metadata[-nb_dev_samples:-nb_test_samples]\n",
    "print('Shape of metax_dev:', metax_dev.shape)\n",
    "\n",
    "datex_dev = timedata[-nb_dev_samples:-nb_test_samples]\n",
    "print('Shape of metax_dev:', datex_dev.shape)\n",
    "\n",
    "y_dev = labels[-nb_dev_samples:-nb_test_samples]\n",
    "print('Shape of y_dev:', y_dev.shape)"
   ]
  },
  {
   "cell_type": "code",
   "execution_count": 134,
   "metadata": {},
   "outputs": [
    {
     "name": "stdout",
     "output_type": "stream",
     "text": [
      "Shape of x_test: (11404, 1000)\n",
      "Shape of metax_test: (11404, 449)\n",
      "Shape of datex_test: (11404, 1)\n",
      "Shape of y_test: (11404, 210)\n"
     ]
    }
   ],
   "source": [
    "x_test = data[-nb_test_samples:]\n",
    "print('Shape of x_test:', x_test.shape)\n",
    "\n",
    "metax_test = metadata[-nb_test_samples:]\n",
    "print('Shape of metax_test:', metax_test.shape)\n",
    "\n",
    "datex_test = timedata[-nb_test_samples:]\n",
    "print('Shape of datex_test:', datex_test.shape)\n",
    "\n",
    "y_test = labels[-nb_test_samples:]\n",
    "print('Shape of y_test:', y_test.shape)"
   ]
  },
  {
   "cell_type": "markdown",
   "metadata": {},
   "source": [
    "### preparing the Embedding layer\n",
    "\n",
    "NB stopwords haven't been removed yet..."
   ]
  },
  {
   "cell_type": "code",
   "execution_count": 34,
   "metadata": {},
   "outputs": [],
   "source": [
    "embedding_layer = Embedding(len(word_index) + 1, \n",
    "                            EMBEDDING_DIM, \n",
    "                            input_length=MAX_SEQUENCE_LENGTH)"
   ]
  },
  {
   "cell_type": "markdown",
   "metadata": {},
   "source": [
    "An Embedding layer should be fed sequences of integers, i.e. a 2D input of shape (samples, indices). These input sequences should be padded so that they all have the same length in a batch of input data (although an Embedding layer is capable of processing sequence of heterogenous length, if you don't pass an explicit input_length argument to the layer).\n",
    "\n",
    "All that the Embedding layer does is to map the integer inputs to the vectors found at the corresponding index in the embedding matrix, i.e. the sequence [1, 2] would be converted to [embeddings[1], embeddings[2]]. This means that the output of the Embedding layer will be a 3D tensor of shape (samples, sequence_length, embedding_dim)."
   ]
  },
  {
   "cell_type": "markdown",
   "metadata": {},
   "source": [
    "### Estimate class weights for unbalanced datasets.\n",
    "paramter to model.fit = __class_weight__: Optional dictionary mapping class indices (integers) to a weight (float) value, used for weighting the loss function (during training only). This can be useful to tell the model to \"pay more attention\" to samples from an under-represented class.\n",
    "\n",
    "Implement class_weight from sklearn:\n",
    "\n",
    "- Import the module \n",
    "\n",
    "`from sklearn.utils import class_weight`\n",
    "- calculate the class weight, If ‘balanced’, class weights will be given by n_samples / (n_classes * np.bincount(y)):\n",
    "\n",
    "`class_weight = class_weight.compute_class_weight('balanced', np.unique(y_train), y_train)`\n",
    "\n",
    "- change it to a dict in order to work with Keras.\n",
    "\n",
    "`class_weight_dict = dict(enumerate(class_weight))`\n",
    "\n",
    "- Add to model fitting\n",
    "\n",
    "`model.fit(X_train, y_train, class_weight=class_weight)`"
   ]
  },
  {
   "cell_type": "code",
   "execution_count": 35,
   "metadata": {},
   "outputs": [],
   "source": [
    "# class_weight = class_weight.compute_class_weight('balanced', np.unique(y_train), y_train)\n",
    "# class_weight_dict = dict(enumerate(class_weight))"
   ]
  },
  {
   "cell_type": "markdown",
   "metadata": {},
   "source": [
    "### Custom loss function"
   ]
  },
  {
   "cell_type": "code",
   "execution_count": 136,
   "metadata": {},
   "outputs": [
    {
     "name": "stdout",
     "output_type": "stream",
     "text": [
      "4.00756\n",
      "8.01512\n"
     ]
    }
   ],
   "source": [
    "class WeightedBinaryCrossEntropy(object):\n",
    "\n",
    "    def __init__(self, pos_ratio):\n",
    "        neg_ratio = 1. - pos_ratio\n",
    "        #self.pos_ratio = tf.constant(pos_ratio, tf.float32)\n",
    "        self.pos_ratio = pos_ratio\n",
    "        #self.weights = tf.constant(neg_ratio / pos_ratio, tf.float32)\n",
    "        self.weights = neg_ratio / pos_ratio\n",
    "        self.__name__ = \"weighted_binary_crossentropy({0})\".format(pos_ratio)\n",
    "\n",
    "    def __call__(self, y_true, y_pred):\n",
    "        return self.weighted_binary_crossentropy(y_true, y_pred)\n",
    "\n",
    "    def weighted_binary_crossentropy(self, y_true, y_pred):\n",
    "            # Transform to logits\n",
    "            epsilon = tf.convert_to_tensor(K.common._EPSILON, y_pred.dtype.base_dtype)\n",
    "            y_pred = tf.clip_by_value(y_pred, epsilon, 1 - epsilon)\n",
    "            y_pred = tf.log(y_pred / (1 - y_pred))\n",
    "\n",
    "            cost = tf.nn.weighted_cross_entropy_with_logits(y_true, y_pred, self.weights)\n",
    "            return K.mean(cost * self.pos_ratio, axis=-1)\n",
    "    \n",
    "y_true_arr = np.array([0,1,0,1], dtype=\"float32\")\n",
    "y_pred_arr = np.array([0,0,1,1], dtype=\"float32\")\n",
    "y_true = tf.constant(y_true_arr)\n",
    "y_pred = tf.constant(y_pred_arr)\n",
    "\n",
    "with tf.Session().as_default(): \n",
    "    print(WeightedBinaryCrossEntropy(0.5)(y_true, y_pred).eval())\n",
    "    print(binary_crossentropy(y_true, y_pred).eval())\n"
   ]
  },
  {
   "cell_type": "markdown",
   "metadata": {},
   "source": [
    "### difficulty getting global precision/recall metrics . CAUTION interpreting monitoring metrics\n",
    "fcholltet: \"Basically these are all global metrics that were approximated\n",
    "batch-wise, which is more misleading than helpful. This was mentioned in\n",
    "the docs but it's much cleaner to remove them altogether. It was a mistake\n",
    "to merge them in the first place.\""
   ]
  },
  {
   "cell_type": "code",
   "execution_count": 137,
   "metadata": {},
   "outputs": [],
   "source": [
    "def f1(y_true, y_pred):\n",
    "    \"\"\"Use Recall  and precision metrics to calculate harmonic mean (F1 score).\n",
    "\n",
    "        Only computes a batch-wise average of recall.\n",
    "\n",
    "        Computes the recall, a metric for multi-label classification of\n",
    "        how many relevant items are selected.\n",
    "        \"\"\"\n",
    "    true_positives = K.sum(K.round(K.clip(y_true * y_pred, 0, 1)))\n",
    "    predicted_positives = K.sum(K.round(K.clip(y_pred, 0, 1)))\n",
    "    possible_positives = K.sum(K.round(K.clip(y_true, 0, 1)))\n",
    "    precision = true_positives / (predicted_positives + K.epsilon())\n",
    "    recall = true_positives / (possible_positives + K.epsilon())\n",
    "    f1 = 2*((precision*recall)/(precision+recall))\n",
    "    \n",
    "    return f1"
   ]
  },
  {
   "cell_type": "markdown",
   "metadata": {},
   "source": [
    "## Training a 1D convnet"
   ]
  },
  {
   "cell_type": "markdown",
   "metadata": {},
   "source": [
    "### 1. Create model"
   ]
  },
  {
   "cell_type": "code",
   "execution_count": 138,
   "metadata": {},
   "outputs": [],
   "source": [
    "NB_CLASSES = y_train.shape[1]\n",
    "NB_METAVARS = metax_train.shape[1]\n",
    "\n",
    "\n",
    "\n",
    "sequence_input = Input(shape=(MAX_SEQUENCE_LENGTH,), dtype='int32', name='wordindex') #MAX_SEQUENCE_LENGTH\n",
    "embedded_sequences = embedding_layer(sequence_input)\n",
    "\n",
    "\n",
    "x = Conv1D(128, 5, activation='relu', name = 'conv0')(embedded_sequences)\n",
    "\n",
    "x = MaxPooling1D(5, name = 'max_pool0')(x)\n",
    "\n",
    "x = Conv1D(128, 5, activation='relu', name = 'conv1')(x)\n",
    "\n",
    "x = MaxPooling1D(5 , name = 'max_pool1')(x)\n",
    "\n",
    "x = Conv1D(128, 5, activation='relu', name = 'conv2')(x)\n",
    "\n",
    "x = MaxPooling1D(35, name = 'global_max_pool')(x)  # global max pooling\n",
    "\n",
    "x = Flatten()(x) #reduce dimensions from 3 to 2; convert to vector + FULLYCONNECTED\n",
    "\n",
    "meta_input = Input(shape=(NB_METAVARS,), name='meta')\n",
    "\n",
    "concatenated = concatenate([meta_input, x])\n",
    "\n",
    "x = Dense(128, activation='relu')(concatenated)\n",
    "\n",
    "x = Dense(NB_CLASSES, activation='sigmoid', name = 'fully_connected')(x)\n",
    "\n",
    "# # The Model class turns an input tensor and output tensor into a model\n",
    "# This creates Keras model instance, will use this instance to train/test the model.\n",
    "model = Model(inputs=[meta_input, sequence_input], outputs=x)"
   ]
  },
  {
   "cell_type": "markdown",
   "metadata": {},
   "source": [
    "### 2. Compile model"
   ]
  },
  {
   "cell_type": "code",
   "execution_count": 139,
   "metadata": {},
   "outputs": [],
   "source": [
    "model.compile(loss=WeightedBinaryCrossEntropy(POS_RATIO),\n",
    "              optimizer='rmsprop',\n",
    "              metrics=['binary_accuracy', f1])"
   ]
  },
  {
   "cell_type": "markdown",
   "metadata": {},
   "source": [
    "Metric values are recorded at the end of each epoch on the training dataset. If a validation dataset is also provided, then the metric recorded is also calculated for the validation dataset.\n",
    "\n",
    "All metrics are reported in verbose output and in the history object returned from calling the fit() function. In both cases, the name of the metric function is used as the key for the metric values. In the case of metrics for the validation dataset, the “val_” prefix is added to the key."
   ]
  },
  {
   "cell_type": "markdown",
   "metadata": {},
   "source": [
    "You have now built a function to describe your model. To train and test this model, there are four steps in Keras:\n",
    "1. Create the model by calling the function above\n",
    "2. Compile the model by calling `model.compile(optimizer = \"...\", loss = \"...\", metrics = [\"accuracy\"])`\n",
    "3. Train the model on train data by calling `model.fit(x = ..., y = ..., epochs = ..., batch_size = ...)`\n",
    "4. Test the model on test data by calling `model.evaluate(x = ..., y = ...)`\n",
    "\n",
    "If you want to know more about `model.compile()`, `model.fit()`, `model.evaluate()` and their arguments, refer to the official [Keras documentation](https://keras.io/models/model/).\n"
   ]
  },
  {
   "cell_type": "code",
   "execution_count": 140,
   "metadata": {},
   "outputs": [
    {
     "name": "stdout",
     "output_type": "stream",
     "text": [
      "__________________________________________________________________________________________________\n",
      "Layer (type)                    Output Shape         Param #     Connected to                     \n",
      "==================================================================================================\n",
      "wordindex (InputLayer)          (None, 1000)         0                                            \n",
      "__________________________________________________________________________________________________\n",
      "embedding_1 (Embedding)         (None, 1000, 100)    21313300    wordindex[0][0]                  \n",
      "__________________________________________________________________________________________________\n",
      "conv0 (Conv1D)                  (None, 996, 128)     64128       embedding_1[1][0]                \n",
      "__________________________________________________________________________________________________\n",
      "max_pool0 (MaxPooling1D)        (None, 199, 128)     0           conv0[0][0]                      \n",
      "__________________________________________________________________________________________________\n",
      "conv1 (Conv1D)                  (None, 195, 128)     82048       max_pool0[0][0]                  \n",
      "__________________________________________________________________________________________________\n",
      "max_pool1 (MaxPooling1D)        (None, 39, 128)      0           conv1[0][0]                      \n",
      "__________________________________________________________________________________________________\n",
      "conv2 (Conv1D)                  (None, 35, 128)      82048       max_pool1[0][0]                  \n",
      "__________________________________________________________________________________________________\n",
      "global_max_pool (MaxPooling1D)  (None, 1, 128)       0           conv2[0][0]                      \n",
      "__________________________________________________________________________________________________\n",
      "meta (InputLayer)               (None, 449)          0                                            \n",
      "__________________________________________________________________________________________________\n",
      "flatten_2 (Flatten)             (None, 128)          0           global_max_pool[0][0]            \n",
      "__________________________________________________________________________________________________\n",
      "concatenate_2 (Concatenate)     (None, 577)          0           meta[0][0]                       \n",
      "                                                                 flatten_2[0][0]                  \n",
      "__________________________________________________________________________________________________\n",
      "dense_2 (Dense)                 (None, 128)          73984       concatenate_2[0][0]              \n",
      "__________________________________________________________________________________________________\n",
      "fully_connected (Dense)         (None, 210)          27090       dense_2[0][0]                    \n",
      "==================================================================================================\n",
      "Total params: 21,642,598\n",
      "Trainable params: 21,642,598\n",
      "Non-trainable params: 0\n",
      "__________________________________________________________________________________________________\n"
     ]
    }
   ],
   "source": [
    "model.summary()"
   ]
  },
  {
   "cell_type": "markdown",
   "metadata": {},
   "source": [
    "### Tensorboard callbacks /metrics /monitor training"
   ]
  },
  {
   "cell_type": "markdown",
   "metadata": {},
   "source": [
    "<span style=\"color:red\"> **Size of these files is killing storage during training. Is it histograms?**</span>"
   ]
  },
  {
   "cell_type": "code",
   "execution_count": 141,
   "metadata": {},
   "outputs": [],
   "source": [
    "tb = TensorBoard(log_dir='./learn_embedding_logs', histogram_freq=1, write_graph=True, write_images=False)"
   ]
  },
  {
   "cell_type": "code",
   "execution_count": 142,
   "metadata": {},
   "outputs": [],
   "source": [
    "CHECKPOINT_PATH = os.path.join(DATADIR, 'model_checkpoint.hdf5')\n",
    "\n",
    "cp = ModelCheckpoint(\n",
    "                     filepath = CHECKPOINT_PATH, \n",
    "                     monitor='val_loss', \n",
    "                     verbose=0, \n",
    "                     save_best_only=False, \n",
    "                     save_weights_only=False, \n",
    "                     mode='auto', \n",
    "                     period=1\n",
    "                    )"
   ]
  },
  {
   "cell_type": "code",
   "execution_count": 143,
   "metadata": {},
   "outputs": [],
   "source": [
    "# class Metrics(Callback):\n",
    "#     def on_train_begin(self, logs={}):\n",
    "#         self.val_f1s = []\n",
    "#         self.val_recalls = []\n",
    "#         self.val_precisions = []\n",
    " \n",
    "#     def on_epoch_end(self, epoch, logs={}):\n",
    "#         val_predict = (np.asarray(self.model.predict(self.model.validation_data[0]))).round()\n",
    "#         val_targ = self.model.validation_data[1]\n",
    "        \n",
    "#         self.val_f1s.append(f1_score(val_targ, val_predict, average='micro'))\n",
    "#         self.val_recalls.append(recall_score(val_targ, val_predict))\n",
    "#         self.val_precisions.append(precision_score(val_targ, val_predict))\n",
    "#         print(\"- val_f1: %f — val_precision: %f — val_recall %f\" \n",
    "#                 %(f1_score(val_targ, val_predict, average='micro'), \n",
    "#                   precision_score(val_targ, val_predict),\n",
    "#                    recall_score(val_targ, val_predict)))\n",
    "#         return\n",
    " \n",
    "# metrics = Metrics()"
   ]
  },
  {
   "cell_type": "markdown",
   "metadata": {},
   "source": [
    "### 3. Train model"
   ]
  },
  {
   "cell_type": "code",
   "execution_count": 144,
   "metadata": {},
   "outputs": [
    {
     "name": "stdout",
     "output_type": "stream",
     "text": [
      "Train on 91239 samples, validate on 11405 samples\n",
      "Epoch 1/10\n",
      "91239/91239 [==============================] - 837s 9ms/step - loss: 0.0145 - binary_accuracy: 0.9923 - f1: nan - val_loss: 0.0078 - val_binary_accuracy: 0.9954 - val_f1: 0.5698\n",
      "Epoch 2/10\n",
      "91239/91239 [==============================] - 871s 10ms/step - loss: 0.0061 - binary_accuracy: 0.9962 - f1: 0.6754 - val_loss: 0.0056 - val_binary_accuracy: 0.9965 - val_f1: 0.7099\n",
      "Epoch 3/10\n",
      "91239/91239 [==============================] - 905s 10ms/step - loss: 0.0046 - binary_accuracy: 0.9970 - f1: 0.7581 - val_loss: 0.0051 - val_binary_accuracy: 0.9968 - val_f1: 0.7393\n",
      "Epoch 4/10\n",
      "91239/91239 [==============================] - 876s 10ms/step - loss: 0.0040 - binary_accuracy: 0.9974 - f1: 0.7935 - val_loss: 0.0051 - val_binary_accuracy: 0.9969 - val_f1: 0.7488\n",
      "Epoch 5/10\n",
      "91239/91239 [==============================] - 922s 10ms/step - loss: 0.0035 - binary_accuracy: 0.9977 - f1: 0.8197 - val_loss: 0.0050 - val_binary_accuracy: 0.9969 - val_f1: 0.7617\n",
      "Epoch 6/10\n",
      "91239/91239 [==============================] - 890s 10ms/step - loss: 0.0031 - binary_accuracy: 0.9979 - f1: 0.8423 - val_loss: 0.0051 - val_binary_accuracy: 0.9969 - val_f1: 0.7587\n",
      "Epoch 7/10\n",
      "91239/91239 [==============================] - 886s 10ms/step - loss: 0.0027 - binary_accuracy: 0.9981 - f1: 0.8598 - val_loss: 0.0052 - val_binary_accuracy: 0.9968 - val_f1: 0.7598\n",
      "Epoch 8/10\n",
      "91239/91239 [==============================] - 864s 9ms/step - loss: 0.0024 - binary_accuracy: 0.9984 - f1: 0.8774 - val_loss: 0.0057 - val_binary_accuracy: 0.9969 - val_f1: 0.7591\n",
      "Epoch 9/10\n",
      "91239/91239 [==============================] - 833s 9ms/step - loss: 0.0021 - binary_accuracy: 0.9986 - f1: 0.8932 - val_loss: 0.0060 - val_binary_accuracy: 0.9966 - val_f1: 0.7498\n",
      "Epoch 10/10\n",
      "91239/91239 [==============================] - 831s 9ms/step - loss: 0.0019 - binary_accuracy: 0.9987 - f1: 0.9062 - val_loss: 0.0062 - val_binary_accuracy: 0.9967 - val_f1: 0.7513\n"
     ]
    },
    {
     "data": {
      "text/plain": [
       "<keras.callbacks.History at 0x12b394470>"
      ]
     },
     "execution_count": 144,
     "metadata": {},
     "output_type": "execute_result"
    }
   ],
   "source": [
    "# metrics callback causes: CCCCCCR55555555511155\n",
    "# So disable for now\n",
    "\n",
    "model.fit(\n",
    "    {'meta': metax_train, 'wordindex': x_train},\n",
    "    y_train, \n",
    "    validation_data=([metax_dev, x_dev], y_dev), \n",
    "    epochs=10, batch_size=128 #error in callbacks\n",
    ")"
   ]
  },
  {
   "cell_type": "markdown",
   "metadata": {},
   "source": [
    "### Evaluate model"
   ]
  },
  {
   "cell_type": "markdown",
   "metadata": {},
   "source": [
    "#### Training metrics"
   ]
  },
  {
   "cell_type": "code",
   "execution_count": 45,
   "metadata": {},
   "outputs": [],
   "source": [
    "y_prob = model.predict([metax_train, x_train])"
   ]
  },
  {
   "cell_type": "code",
   "execution_count": 46,
   "metadata": {},
   "outputs": [
    {
     "data": {
      "text/plain": [
       "(91239, 210)"
      ]
     },
     "execution_count": 46,
     "metadata": {},
     "output_type": "execute_result"
    }
   ],
   "source": [
    "y_prob.shape"
   ]
  },
  {
   "cell_type": "code",
   "execution_count": 47,
   "metadata": {},
   "outputs": [],
   "source": [
    "y_pred = y_prob.copy()\n",
    "y_pred[y_pred>=P_THRESHOLD] = 1\n",
    "y_pred[y_pred<P_THRESHOLD] = 0"
   ]
  },
  {
   "cell_type": "code",
   "execution_count": 48,
   "metadata": {},
   "outputs": [
    {
     "data": {
      "text/plain": [
       "0.96199858725220555"
      ]
     },
     "execution_count": 48,
     "metadata": {},
     "output_type": "execute_result"
    }
   ],
   "source": [
    "f1_score(y_train, y_pred, average='micro')"
   ]
  },
  {
   "cell_type": "code",
   "execution_count": 49,
   "metadata": {},
   "outputs": [
    {
     "name": "stderr",
     "output_type": "stream",
     "text": [
      "/Users/ellieking/Documents/tag_tax/govuk-taxonomy-supervised-learning/tax_SL/lib/python3.4/site-packages/sklearn/metrics/classification.py:1135: UndefinedMetricWarning: Precision and F-score are ill-defined and being set to 0.0 in labels with no predicted samples.\n",
      "  'precision', 'predicted', average, warn_for)\n",
      "/Users/ellieking/Documents/tag_tax/govuk-taxonomy-supervised-learning/tax_SL/lib/python3.4/site-packages/sklearn/metrics/classification.py:1137: UndefinedMetricWarning: Recall and F-score are ill-defined and being set to 0.0 in labels with no true samples.\n",
      "  'recall', 'true', average, warn_for)\n"
     ]
    },
    {
     "data": {
      "text/plain": [
       "(array([ 0.        ,  0.86666667,  0.98379838,  0.91366906,  0.        ,\n",
       "         0.97420635,  0.96703297,  0.98344175,  0.        ,  1.        ,\n",
       "         0.        ,  0.95609756,  0.        ,  0.        ,  0.9395466 ,\n",
       "         0.        ,  0.86046512,  0.        ,  0.        ,  0.98612126,\n",
       "         0.99457713,  0.92580101,  0.99175986,  0.        ,  0.        ,\n",
       "         0.85714286,  0.        ,  0.        ,  0.93023256,  0.93975904,\n",
       "         0.96938776,  0.93939394,  0.        ,  0.96491228,  0.97098646,\n",
       "         0.97706422,  0.96551724,  0.96      ,  0.97761194,  0.95392954,\n",
       "         0.        ,  0.94454073,  0.        ,  0.        ,  0.92460317,\n",
       "         0.87142857,  0.        ,  0.93137255,  0.97307692,  0.        ,\n",
       "         0.        ,  0.8245614 ,  0.        ,  0.        ,  1.        ,\n",
       "         0.        ,  0.        ,  0.99363057,  0.85      ,  0.89445115,\n",
       "         0.96666667,  0.97368421,  0.95238095,  0.90374332,  0.        ,\n",
       "         0.96909272,  0.        ,  0.94736842,  0.92567568,  0.        ,\n",
       "         0.95833333,  0.86206897,  0.96574225,  0.97752809,  0.97790055,\n",
       "         0.99068826,  0.        ,  0.98805078,  0.96732026,  0.97222222,\n",
       "         0.97569693,  0.96224117,  0.        ,  0.92495831,  0.        ,\n",
       "         0.        ,  0.92307692,  0.97385621,  0.        ,  0.98559078,\n",
       "         0.97913216,  0.98139535,  1.        ,  0.96078431,  0.98717949,\n",
       "         0.96635393,  0.9379562 ,  0.        ,  0.92857143,  1.        ,\n",
       "         0.97002725,  0.        ,  0.94594595,  1.        ,  0.        ,\n",
       "         0.97674419,  1.        ,  1.        ,  0.        ,  0.        ,\n",
       "         0.        ,  0.86666667,  0.96629732,  0.97376093,  0.92346939,\n",
       "         0.92708333,  0.9609375 ,  0.98174157,  0.99262381,  0.        ,\n",
       "         0.96503497,  0.        ,  0.89344262,  0.        ,  0.        ,\n",
       "         0.77419355,  0.        ,  0.96969697,  0.96655852,  0.89403974,\n",
       "         0.96171743,  0.97858473,  0.        ,  0.93243243,  0.        ,\n",
       "         1.        ,  1.        ,  0.98291457,  0.96341463,  0.        ,\n",
       "         0.94968553,  0.96718147,  1.        ,  0.96551724,  0.        ,\n",
       "         0.        ,  0.99413858,  0.        ,  0.        ,  0.93495935,\n",
       "         0.98664292,  0.95007342,  0.976     ,  0.        ,  0.96666667,\n",
       "         0.98822144,  0.97574124,  0.9076087 ,  0.95798319,  0.97777778,\n",
       "         0.99487555,  0.99321429,  0.98090692,  0.8       ,  0.        ,\n",
       "         0.82      ,  0.        ,  0.96869984,  0.97175141,  0.98824593,\n",
       "         0.9375    ,  0.        ,  0.90909091,  0.98648649,  0.92655367,\n",
       "         0.92307692,  0.93782383,  0.99279094,  0.8       ,  0.93854749,\n",
       "         0.9884465 ,  0.94444444,  0.97194719,  0.98076923,  0.81081081,\n",
       "         0.91666667,  0.93333333,  0.98659517,  0.        ,  0.        ,\n",
       "         0.98511868,  0.875     ,  0.9719888 ,  0.        ,  0.88311688,\n",
       "         0.96256684,  1.        ,  0.        ,  0.97174447,  0.92505855,\n",
       "         0.97568389,  0.91735537,  0.        ,  0.99089135,  0.        ,\n",
       "         0.92372881,  0.        ,  0.        ,  1.        ,  0.99072559]),\n",
       " array([ 0.        ,  0.70909091,  0.99454049,  0.93382353,  0.        ,\n",
       "         0.96463654,  0.95652174,  0.94274376,  0.        ,  0.72      ,\n",
       "         0.        ,  0.95609756,  0.        ,  0.        ,  0.9395466 ,\n",
       "         0.        ,  0.87677725,  0.        ,  0.        ,  0.9775525 ,\n",
       "         0.9162415 ,  0.97110849,  0.94983089,  0.        ,  0.        ,\n",
       "         0.85714286,  0.        ,  0.        ,  0.91603053,  0.975     ,\n",
       "         0.76612903,  0.63265306,  0.        ,  0.88709677,  0.98388502,\n",
       "         0.94666667,  0.9516129 ,  0.85714286,  0.96323529,  0.899106  ,\n",
       "         0.        ,  0.96460177,  0.        ,  0.        ,  0.94331984,\n",
       "         0.85915493,  0.        ,  0.94527363,  0.97986057,  0.        ,\n",
       "         0.        ,  0.63513514,  0.        ,  0.        ,  0.02380952,\n",
       "         0.        ,  0.        ,  0.96794209,  0.7816092 ,  0.97437582,\n",
       "         0.75      ,  0.86046512,  0.88235294,  0.89893617,  0.        ,\n",
       "         0.95294118,  0.        ,  0.85714286,  0.88961039,  0.        ,\n",
       "         0.9787234 ,  0.54347826,  0.92355694,  0.98863636,  0.98115299,\n",
       "         0.96681154,  0.        ,  0.98780488,  0.95483871,  0.8974359 ,\n",
       "         0.98627168,  0.98783676,  0.        ,  0.95467585,  0.        ,\n",
       "         0.        ,  0.9       ,  0.94904459,  0.        ,  0.96519285,\n",
       "         0.9653821 ,  0.96678121,  0.85454545,  0.77287066,  0.96910755,\n",
       "         0.98321264,  0.94833948,  0.        ,  0.92307692,  0.87931034,\n",
       "         0.94933333,  0.        ,  0.81395349,  0.98245614,  0.        ,\n",
       "         0.91304348,  0.99186992,  0.79166667,  0.        ,  0.        ,\n",
       "         0.        ,  0.60465116,  0.96185662,  0.94886364,  0.94270833,\n",
       "         0.91282051,  0.95348837,  0.97218359,  0.98638743,  0.        ,\n",
       "         0.93086003,  0.        ,  1.        ,  0.        ,  0.        ,\n",
       "         0.92307692,  0.        ,  0.96969697,  0.98150025,  0.95070423,\n",
       "         0.98804867,  0.95806746,  0.        ,  0.84146341,  0.        ,\n",
       "         0.4516129 ,  0.5625    ,  0.97313433,  0.95180723,  0.        ,\n",
       "         0.96588486,  0.97470817,  0.91304348,  0.82352941,  0.        ,\n",
       "         0.        ,  0.95361446,  0.        ,  0.        ,  0.90909091,\n",
       "         0.99283154,  0.9048951 ,  0.89705882,  0.        ,  0.98011928,\n",
       "         0.9469526 ,  0.95640687,  0.94084507,  0.98275862,  0.95652174,\n",
       "         0.97559225,  0.95797451,  0.94700461,  0.5       ,  0.        ,\n",
       "         0.69491525,  0.        ,  0.9371118 ,  0.91489362,  0.93900344,\n",
       "         0.46875   ,  0.        ,  0.86956522,  0.94805195,  0.94797688,\n",
       "         0.85714286,  0.96276596,  0.97669706,  0.78571429,  0.87958115,\n",
       "         0.95011105,  0.94444444,  0.97034596,  0.91071429,  0.85714286,\n",
       "         0.55      ,  0.7       ,  0.98659517,  0.        ,  0.        ,\n",
       "         0.94413013,  0.77777778,  0.89896373,  0.        ,  0.95774648,\n",
       "         0.97297297,  0.83544304,  0.        ,  0.98017348,  0.9875    ,\n",
       "         0.91452991,  0.95689655,  0.        ,  0.95306633,  0.        ,\n",
       "         0.72666667,  0.        ,  0.        ,  0.80555556,  0.97686928]),\n",
       " array([ 0.        ,  0.78      ,  0.98914027,  0.92363636,  0.        ,\n",
       "         0.96939783,  0.96174863,  0.96266281,  0.        ,  0.8372093 ,\n",
       "         0.        ,  0.95609756,  0.        ,  0.        ,  0.9395466 ,\n",
       "         0.        ,  0.8685446 ,  0.        ,  0.        ,  0.98181818,\n",
       "         0.9538036 ,  0.94791367,  0.97034264,  0.        ,  0.        ,\n",
       "         0.85714286,  0.        ,  0.        ,  0.92307692,  0.95705521,\n",
       "         0.85585586,  0.75609756,  0.        ,  0.92436975,  0.97739319,\n",
       "         0.96162528,  0.95851465,  0.90566038,  0.97037037,  0.92570677,\n",
       "         0.        ,  0.95446585,  0.        ,  0.        ,  0.93386774,\n",
       "         0.86524823,  0.        ,  0.9382716 ,  0.97645697,  0.        ,\n",
       "         0.        ,  0.71755725,  0.        ,  0.        ,  0.04651163,\n",
       "         0.        ,  0.        ,  0.98061812,  0.81437126,  0.9327044 ,\n",
       "         0.84466019,  0.91358025,  0.91603053,  0.90133333,  0.        ,\n",
       "         0.96094909,  0.        ,  0.9       ,  0.90728477,  0.        ,\n",
       "         0.96842105,  0.66666667,  0.94417863,  0.98305085,  0.97952407,\n",
       "         0.97860428,  0.        ,  0.98792782,  0.96103896,  0.93333333,\n",
       "         0.9809558 ,  0.97487099,  0.        ,  0.93958216,  0.        ,\n",
       "         0.        ,  0.91139241,  0.96129032,  0.        ,  0.97528517,\n",
       "         0.97220852,  0.97403347,  0.92156863,  0.85664336,  0.97806005,\n",
       "         0.97471039,  0.94311927,  0.        ,  0.92581602,  0.93577982,\n",
       "         0.95956873,  0.        ,  0.875     ,  0.99115044,  0.        ,\n",
       "         0.94382022,  0.99591837,  0.88372093,  0.        ,  0.        ,\n",
       "         0.        ,  0.71232877,  0.96407186,  0.96115108,  0.93298969,\n",
       "         0.91989664,  0.95719844,  0.9769392 ,  0.9894958 ,  0.        ,\n",
       "         0.94763948,  0.        ,  0.94372294,  0.        ,  0.        ,\n",
       "         0.84210526,  0.        ,  0.96969697,  0.97397209,  0.92150171,\n",
       "         0.97470525,  0.96821741,  0.        ,  0.88461538,  0.        ,\n",
       "         0.62222222,  0.72      ,  0.978     ,  0.95757576,  0.        ,\n",
       "         0.9577167 ,  0.97093023,  0.95454545,  0.88888889,  0.        ,\n",
       "         0.        ,  0.97345496,  0.        ,  0.        ,  0.92184369,\n",
       "         0.98972756,  0.9269341 ,  0.9348659 ,  0.        ,  0.9733465 ,\n",
       "         0.96714697,  0.96597732,  0.92392808,  0.97021277,  0.96703297,\n",
       "         0.98513954,  0.97527617,  0.96365768,  0.61538462,  0.        ,\n",
       "         0.75229358,  0.        ,  0.95264404,  0.94246575,  0.96299559,\n",
       "         0.625     ,  0.        ,  0.88888889,  0.96688742,  0.93714286,\n",
       "         0.88888889,  0.95013123,  0.98467824,  0.79279279,  0.90810811,\n",
       "         0.96889973,  0.94444444,  0.97114592,  0.94444444,  0.83333333,\n",
       "         0.6875    ,  0.8       ,  0.98659517,  0.        ,  0.        ,\n",
       "         0.96418899,  0.82352941,  0.93405114,  0.        ,  0.91891892,\n",
       "         0.96774194,  0.91034483,  0.        ,  0.97594078,  0.95525998,\n",
       "         0.94411765,  0.93670886,  0.        ,  0.97161085,  0.        ,\n",
       "         0.81343284,  0.        ,  0.        ,  0.89230769,  0.98374865]),\n",
       " array([   7,   55, 1099,  136,   11,  509,   92, 1764,    6,   25,   12,\n",
       "         205,   25,   12,  397,    4,  211,   12,   10, 1381, 9408, 1696,\n",
       "        1774,    1,   34,   28,   17,   26,  131,   80,  124,   49,    2,\n",
       "         310, 4592,  225, 3472,  196,  136,  783,    5,  565,   24,   35,\n",
       "         247,   71,    4,  201, 1291,    9,   30,   74,    3,    4,   42,\n",
       "          16,    1,  967,   87, 1522,  116,   43,   68,  376,    9, 2040,\n",
       "           9,   63,  154,    5,   47,   46,  641,  264,  902, 2531,    2,\n",
       "        4018,  155,   78, 1384, 8797,    2, 1743,    7,   35,   40,  157,\n",
       "           9, 3189, 3062,  873,   55,  317,  874, 3038,  271,   17,  169,\n",
       "          58,  375,    6,   43,  114,   21,   46,  123,   48,    3,   18,\n",
       "          11,   43, 2176,  352,  192,  195,  129,  719,  955,   26, 1186,\n",
       "           5,  109,    9,   15,   26,    9,   33, 3946,  142, 4602, 1097,\n",
       "           6,   82,   19,   31,   32, 1005,  664,   24,  938,  514,   69,\n",
       "          34,   12,   16, 4980,    0,   11,  253, 1116,  715,  136,   32,\n",
       "         503,  886, 1514,  355,  116,  460, 1393, 2903,  868,   16,    2,\n",
       "          59,   15, 1288,  188, 1164,   32,    3,   46,   77,  173,   56,\n",
       "         188,  987,   56,  191, 5853,   54,  607,   56,   35,   20,   20,\n",
       "         746,   19,    9, 8484,   27,  386,    3,   71,  185,   79,    3,\n",
       "        1614, 1200,  351,  116,    6, 1598,    7,  150,   21,   30,   36,\n",
       "        1859]))"
      ]
     },
     "execution_count": 49,
     "metadata": {},
     "output_type": "execute_result"
    }
   ],
   "source": [
    "#average= None, the scores for each class are returned.\n",
    "precision_recall_fscore_support(y_train, y_pred, average=None, sample_weight=None)"
   ]
  },
  {
   "cell_type": "code",
   "execution_count": 64,
   "metadata": {},
   "outputs": [
    {
     "name": "stderr",
     "output_type": "stream",
     "text": [
      "/Users/ellieking/Documents/tag_tax/govuk-taxonomy-supervised-learning/tax_SL/lib/python3.4/site-packages/sklearn/metrics/classification.py:1135: UndefinedMetricWarning: Precision and F-score are ill-defined and being set to 0.0 in labels with no predicted samples.\n",
      "  'precision', 'predicted', average, warn_for)\n",
      "/Users/ellieking/Documents/tag_tax/govuk-taxonomy-supervised-learning/tax_SL/lib/python3.4/site-packages/sklearn/metrics/classification.py:1137: UndefinedMetricWarning: Recall and F-score are ill-defined and being set to 0.0 in labels with no true samples.\n",
      "  'recall', 'true', average, warn_for)\n"
     ]
    }
   ],
   "source": [
    "a = precision_recall_fscore_support(y_train, y_pred, average=None, sample_weight=None)"
   ]
  },
  {
   "cell_type": "code",
   "execution_count": 65,
   "metadata": {},
   "outputs": [
    {
     "data": {
      "text/html": [
       "<div>\n",
       "<style scoped>\n",
       "    .dataframe tbody tr th:only-of-type {\n",
       "        vertical-align: middle;\n",
       "    }\n",
       "\n",
       "    .dataframe tbody tr th {\n",
       "        vertical-align: top;\n",
       "    }\n",
       "\n",
       "    .dataframe thead th {\n",
       "        text-align: right;\n",
       "    }\n",
       "</style>\n",
       "<table border=\"1\" class=\"dataframe\">\n",
       "  <thead>\n",
       "    <tr style=\"text-align: right;\">\n",
       "      <th></th>\n",
       "      <th>0</th>\n",
       "      <th>1</th>\n",
       "      <th>2</th>\n",
       "      <th>3</th>\n",
       "      <th>4</th>\n",
       "      <th>5</th>\n",
       "      <th>6</th>\n",
       "      <th>7</th>\n",
       "      <th>8</th>\n",
       "      <th>9</th>\n",
       "      <th>...</th>\n",
       "      <th>200</th>\n",
       "      <th>201</th>\n",
       "      <th>202</th>\n",
       "      <th>203</th>\n",
       "      <th>204</th>\n",
       "      <th>205</th>\n",
       "      <th>206</th>\n",
       "      <th>207</th>\n",
       "      <th>208</th>\n",
       "      <th>209</th>\n",
       "    </tr>\n",
       "  </thead>\n",
       "  <tbody>\n",
       "    <tr>\n",
       "      <th>0</th>\n",
       "      <td>0.0</td>\n",
       "      <td>0.866667</td>\n",
       "      <td>0.983798</td>\n",
       "      <td>0.913669</td>\n",
       "      <td>0.0</td>\n",
       "      <td>0.974206</td>\n",
       "      <td>0.967033</td>\n",
       "      <td>0.983442</td>\n",
       "      <td>0.0</td>\n",
       "      <td>1.000000</td>\n",
       "      <td>...</td>\n",
       "      <td>0.975684</td>\n",
       "      <td>0.917355</td>\n",
       "      <td>0.0</td>\n",
       "      <td>0.990891</td>\n",
       "      <td>0.0</td>\n",
       "      <td>0.923729</td>\n",
       "      <td>0.0</td>\n",
       "      <td>0.0</td>\n",
       "      <td>1.000000</td>\n",
       "      <td>0.990726</td>\n",
       "    </tr>\n",
       "    <tr>\n",
       "      <th>1</th>\n",
       "      <td>0.0</td>\n",
       "      <td>0.709091</td>\n",
       "      <td>0.994540</td>\n",
       "      <td>0.933824</td>\n",
       "      <td>0.0</td>\n",
       "      <td>0.964637</td>\n",
       "      <td>0.956522</td>\n",
       "      <td>0.942744</td>\n",
       "      <td>0.0</td>\n",
       "      <td>0.720000</td>\n",
       "      <td>...</td>\n",
       "      <td>0.914530</td>\n",
       "      <td>0.956897</td>\n",
       "      <td>0.0</td>\n",
       "      <td>0.953066</td>\n",
       "      <td>0.0</td>\n",
       "      <td>0.726667</td>\n",
       "      <td>0.0</td>\n",
       "      <td>0.0</td>\n",
       "      <td>0.805556</td>\n",
       "      <td>0.976869</td>\n",
       "    </tr>\n",
       "    <tr>\n",
       "      <th>2</th>\n",
       "      <td>0.0</td>\n",
       "      <td>0.780000</td>\n",
       "      <td>0.989140</td>\n",
       "      <td>0.923636</td>\n",
       "      <td>0.0</td>\n",
       "      <td>0.969398</td>\n",
       "      <td>0.961749</td>\n",
       "      <td>0.962663</td>\n",
       "      <td>0.0</td>\n",
       "      <td>0.837209</td>\n",
       "      <td>...</td>\n",
       "      <td>0.944118</td>\n",
       "      <td>0.936709</td>\n",
       "      <td>0.0</td>\n",
       "      <td>0.971611</td>\n",
       "      <td>0.0</td>\n",
       "      <td>0.813433</td>\n",
       "      <td>0.0</td>\n",
       "      <td>0.0</td>\n",
       "      <td>0.892308</td>\n",
       "      <td>0.983749</td>\n",
       "    </tr>\n",
       "    <tr>\n",
       "      <th>3</th>\n",
       "      <td>7.0</td>\n",
       "      <td>55.000000</td>\n",
       "      <td>1099.000000</td>\n",
       "      <td>136.000000</td>\n",
       "      <td>11.0</td>\n",
       "      <td>509.000000</td>\n",
       "      <td>92.000000</td>\n",
       "      <td>1764.000000</td>\n",
       "      <td>6.0</td>\n",
       "      <td>25.000000</td>\n",
       "      <td>...</td>\n",
       "      <td>351.000000</td>\n",
       "      <td>116.000000</td>\n",
       "      <td>6.0</td>\n",
       "      <td>1598.000000</td>\n",
       "      <td>7.0</td>\n",
       "      <td>150.000000</td>\n",
       "      <td>21.0</td>\n",
       "      <td>30.0</td>\n",
       "      <td>36.000000</td>\n",
       "      <td>1859.000000</td>\n",
       "    </tr>\n",
       "  </tbody>\n",
       "</table>\n",
       "<p>4 rows × 210 columns</p>\n",
       "</div>"
      ],
      "text/plain": [
       "   0          1            2           3     4           5          6    \\\n",
       "0  0.0   0.866667     0.983798    0.913669   0.0    0.974206   0.967033   \n",
       "1  0.0   0.709091     0.994540    0.933824   0.0    0.964637   0.956522   \n",
       "2  0.0   0.780000     0.989140    0.923636   0.0    0.969398   0.961749   \n",
       "3  7.0  55.000000  1099.000000  136.000000  11.0  509.000000  92.000000   \n",
       "\n",
       "           7    8          9       ...              200         201  202  \\\n",
       "0     0.983442  0.0   1.000000     ...         0.975684    0.917355  0.0   \n",
       "1     0.942744  0.0   0.720000     ...         0.914530    0.956897  0.0   \n",
       "2     0.962663  0.0   0.837209     ...         0.944118    0.936709  0.0   \n",
       "3  1764.000000  6.0  25.000000     ...       351.000000  116.000000  6.0   \n",
       "\n",
       "           203  204         205   206   207        208          209  \n",
       "0     0.990891  0.0    0.923729   0.0   0.0   1.000000     0.990726  \n",
       "1     0.953066  0.0    0.726667   0.0   0.0   0.805556     0.976869  \n",
       "2     0.971611  0.0    0.813433   0.0   0.0   0.892308     0.983749  \n",
       "3  1598.000000  7.0  150.000000  21.0  30.0  36.000000  1859.000000  \n",
       "\n",
       "[4 rows x 210 columns]"
      ]
     },
     "execution_count": 65,
     "metadata": {},
     "output_type": "execute_result"
    }
   ],
   "source": [
    "pd.DataFrame(list(a))"
   ]
  },
  {
   "cell_type": "code",
   "execution_count": 66,
   "metadata": {},
   "outputs": [],
   "source": [
    "f1_byclass = pd.DataFrame((a)[2], columns=['f1'])\n"
   ]
  },
  {
   "cell_type": "code",
   "execution_count": 67,
   "metadata": {},
   "outputs": [],
   "source": [
    "support_byclass = pd.DataFrame((a)[3], columns=['support'])\n",
    "\n",
    "f1_byclass = pd.merge(\n",
    "    left=f1_byclass, \n",
    "    right=support_byclass, \n",
    "    left_index=True,\n",
    "    right_index=True,\n",
    "    how='outer', \n",
    "    validate='one_to_one'\n",
    ")\n",
    "\n",
    "f1_byclass['index_col'] = f1_byclass.index"
   ]
  },
  {
   "cell_type": "code",
   "execution_count": 68,
   "metadata": {},
   "outputs": [],
   "source": [
    "f1_byclass['level2taxon'] = f1_byclass['index_col'].map(labels_index).copy()"
   ]
  },
  {
   "cell_type": "code",
   "execution_count": 69,
   "metadata": {},
   "outputs": [
    {
     "name": "stdout",
     "output_type": "stream",
     "text": [
      "At p_threshold of 0.5, there were 148 out of 210 (70.47619047619048)% taxons with auto-tagged content in the training data\n"
     ]
    }
   ],
   "source": [
    "print(\"At p_threshold of {}, there were {} out of {} ({})% taxons with auto-tagged content in the training data\"\n",
    "      .format(P_THRESHOLD, \n",
    "              f1_byclass.loc[f1_byclass['f1'] > 0].shape[0], \n",
    "              y_pred.shape[1], \n",
    "              (f1_byclass.loc[f1_byclass['f1'] > 0].shape[0]/y_pred.shape[1])*100 ))"
   ]
  },
  {
   "cell_type": "code",
   "execution_count": 56,
   "metadata": {},
   "outputs": [],
   "source": [
    "no_auto_content = f1_byclass.loc[f1_byclass['f1'] == 0]\n",
    "no_auto_content = no_auto_content.set_index('level2taxon')"
   ]
  },
  {
   "cell_type": "code",
   "execution_count": 57,
   "metadata": {},
   "outputs": [
    {
     "data": {
      "text/plain": [
       "<matplotlib.axes._subplots.AxesSubplot at 0x1475ec9e8>"
      ]
     },
     "execution_count": 57,
     "metadata": {},
     "output_type": "execute_result"
    },
    {
     "data": {
      "image/png": "[encoded data removed]",
      "text/plain": [
       "<matplotlib.figure.Figure at 0x1475d73c8>"
      ]
     },
     "metadata": {},
     "output_type": "display_data"
    }
   ],
   "source": [
    "no_auto_content['support'].sort_values().plot( kind = 'barh', figsize=(20, 20))"
   ]
  },
  {
   "cell_type": "code",
   "execution_count": 58,
   "metadata": {},
   "outputs": [],
   "source": [
    "classes_predictedto = f1_byclass.loc[f1_byclass['f1'] > 0]\n",
    "classes_predictedto = classes_predictedto.set_index('level2taxon') "
   ]
  },
  {
   "cell_type": "code",
   "execution_count": 59,
   "metadata": {},
   "outputs": [
    {
     "data": {
      "text/plain": [
       "<matplotlib.axes._subplots.AxesSubplot at 0x135fa5ef0>"
      ]
     },
     "execution_count": 59,
     "metadata": {},
     "output_type": "execute_result"
    },
    {
     "data": {
      "image/png": "[encoded data removed]",
      "text/plain": [
       "<matplotlib.figure.Figure at 0x135f590f0>"
      ]
     },
     "metadata": {},
     "output_type": "display_data"
    }
   ],
   "source": [
    "classes_predictedto.plot.scatter(x='support', y='f1', figsize=(20, 10), xticks=np.arange(0, 9700, 100))"
   ]
  },
  {
   "cell_type": "code",
   "execution_count": 60,
   "metadata": {},
   "outputs": [
    {
     "data": {
      "text/plain": [
       "<matplotlib.axes._subplots.AxesSubplot at 0x135f52400>"
      ]
     },
     "execution_count": 60,
     "metadata": {},
     "output_type": "execute_result"
    },
    {
     "data": {
      "image/png": "[encoded data removed]",
      "text/plain": [
       "<matplotlib.figure.Figure at 0x14785d588>"
      ]
     },
     "metadata": {},
     "output_type": "display_data"
    }
   ],
   "source": [
    "classes_predictedto['f1'].sort_values().plot( kind = 'barh', figsize=(20, 20))"
   ]
  },
  {
   "cell_type": "code",
   "execution_count": 61,
   "metadata": {},
   "outputs": [
    {
     "data": {
      "text/plain": [
       "(0.97290662856621724, 0.9513324316692181, 0.96199858725220555, None)"
      ]
     },
     "execution_count": 61,
     "metadata": {},
     "output_type": "execute_result"
    }
   ],
   "source": [
    "#Calculate globally by counting the total true positives, false negatives and false positives.\n",
    "precision_recall_fscore_support(y_train, y_pred, average='micro', sample_weight=None) "
   ]
  },
  {
   "cell_type": "code",
   "execution_count": 62,
   "metadata": {},
   "outputs": [
    {
     "name": "stderr",
     "output_type": "stream",
     "text": [
      "/Users/ellieking/Documents/tag_tax/govuk-taxonomy-supervised-learning/tax_SL/lib/python3.4/site-packages/sklearn/metrics/classification.py:1135: UndefinedMetricWarning: Precision and F-score are ill-defined and being set to 0.0 in labels with no predicted samples.\n",
      "  'precision', 'predicted', average, warn_for)\n",
      "/Users/ellieking/Documents/tag_tax/govuk-taxonomy-supervised-learning/tax_SL/lib/python3.4/site-packages/sklearn/metrics/classification.py:1137: UndefinedMetricWarning: Recall and F-score are ill-defined and being set to 0.0 in labels with no true samples.\n",
      "  'recall', 'true', average, warn_for)\n"
     ]
    },
    {
     "data": {
      "text/plain": [
       "(0.67039585170755345, 0.62983444554665846, 0.64486248464278562, None)"
      ]
     },
     "execution_count": 62,
     "metadata": {},
     "output_type": "execute_result"
    }
   ],
   "source": [
    "#Calculate metrics for each label, and find their unweighted mean. This does not take label imbalance into account\n",
    "precision_recall_fscore_support(y_train, y_pred, average='macro', sample_weight=None)"
   ]
  },
  {
   "cell_type": "markdown",
   "metadata": {},
   "source": [
    "#### Development set metrics"
   ]
  },
  {
   "cell_type": "code",
   "execution_count": 70,
   "metadata": {},
   "outputs": [],
   "source": [
    "y_pred_dev = model.predict([metax_dev, x_dev])"
   ]
  },
  {
   "cell_type": "code",
   "execution_count": 71,
   "metadata": {},
   "outputs": [],
   "source": [
    "y_pred_dev[y_pred_dev>=P_THRESHOLD] = 1\n",
    "y_pred_dev[y_pred_dev<P_THRESHOLD] = 0"
   ]
  },
  {
   "cell_type": "code",
   "execution_count": 72,
   "metadata": {},
   "outputs": [
    {
     "name": "stderr",
     "output_type": "stream",
     "text": [
      "/Users/ellieking/Documents/tag_tax/govuk-taxonomy-supervised-learning/tax_SL/lib/python3.4/site-packages/sklearn/metrics/classification.py:1135: UndefinedMetricWarning: Precision and F-score are ill-defined and being set to 0.0 in labels with no predicted samples.\n",
      "  'precision', 'predicted', average, warn_for)\n",
      "/Users/ellieking/Documents/tag_tax/govuk-taxonomy-supervised-learning/tax_SL/lib/python3.4/site-packages/sklearn/metrics/classification.py:1137: UndefinedMetricWarning: Recall and F-score are ill-defined and being set to 0.0 in labels with no true samples.\n",
      "  'recall', 'true', average, warn_for)\n"
     ]
    },
    {
     "data": {
      "text/plain": [
       "(array([ 0.        ,  0.25      ,  0.8707483 ,  0.5       ,  0.        ,\n",
       "         0.54      ,  0.14285714,  0.76142132,  0.        ,  0.        ,\n",
       "         0.        ,  0.68421053,  0.        ,  0.        ,  0.28571429,\n",
       "         0.        ,  0.55263158,  0.        ,  0.        ,  0.81382979,\n",
       "         0.85108696,  0.54035088,  0.845     ,  0.        ,  0.        ,\n",
       "         0.        ,  0.        ,  0.        ,  0.46153846,  0.8       ,\n",
       "         0.875     ,  0.        ,  0.        ,  0.61290323,  0.7539823 ,\n",
       "         0.52      ,  0.59866962,  0.15      ,  0.42857143,  0.49484536,\n",
       "         0.        ,  0.49411765,  0.        ,  0.        ,  0.39473684,\n",
       "         0.14285714,  0.        ,  0.66666667,  0.65168539,  0.        ,\n",
       "         0.        ,  0.        ,  0.        ,  0.        ,  0.        ,\n",
       "         0.        ,  0.        ,  0.82105263,  0.2       ,  0.49583333,\n",
       "         0.625     ,  0.25      ,  0.30769231,  0.275     ,  0.        ,\n",
       "         0.63598326,  0.        ,  0.5       ,  0.25      ,  0.        ,\n",
       "         1.        ,  0.66666667,  0.58823529,  0.975     ,  0.8440367 ,\n",
       "         0.8       ,  0.        ,  0.78285714,  0.76923077,  0.5       ,\n",
       "         0.81318681,  0.80241588,  0.        ,  0.5862069 ,  0.        ,\n",
       "         0.        ,  1.        ,  0.61538462,  0.        ,  0.80266667,\n",
       "         0.78901734,  0.69387755,  0.5       ,  0.37037037,  0.71962617,\n",
       "         0.76081425,  0.21212121,  0.        ,  0.31578947,  1.        ,\n",
       "         0.63888889,  0.        ,  0.75      ,  0.7       ,  0.        ,\n",
       "         0.25      ,  0.92307692,  0.25      ,  0.        ,  0.        ,\n",
       "         0.        ,  0.4       ,  0.6875    ,  0.61363636,  0.60714286,\n",
       "         0.39285714,  0.75      ,  0.94252874,  0.93043478,  0.        ,\n",
       "         0.66666667,  0.        ,  0.38888889,  0.        ,  0.        ,\n",
       "         0.        ,  0.        ,  0.        ,  0.79962894,  0.25      ,\n",
       "         0.71806167,  0.85483871,  0.        ,  0.2       ,  0.        ,\n",
       "         0.        ,  0.        ,  0.65625   ,  0.80412371,  0.        ,\n",
       "         0.6137931 ,  0.71084337,  0.25      ,  0.8       ,  0.        ,\n",
       "         0.        ,  0.90285714,  0.        ,  0.        ,  0.5       ,\n",
       "         0.79393939,  0.53398058,  0.5       ,  0.        ,  0.58208955,\n",
       "         0.80851064,  0.71345029,  0.63157895,  0.5       ,  0.66666667,\n",
       "         0.83673469,  0.84039088,  0.74545455,  0.        ,  0.        ,\n",
       "         0.        ,  0.        ,  0.5748503 ,  0.73913043,  0.74045802,\n",
       "         1.        ,  0.        ,  1.        ,  1.        ,  0.61538462,\n",
       "         0.75      ,  0.75      ,  0.81481481,  0.375     ,  0.375     ,\n",
       "         0.76710098,  0.5       ,  0.75308642,  0.5       ,  0.28571429,\n",
       "         0.        ,  1.        ,  0.95604396,  0.        ,  0.        ,\n",
       "         0.69648562,  0.66666667,  0.45833333,  0.        ,  0.6       ,\n",
       "         0.68965517,  1.        ,  0.        ,  0.87439614,  0.625     ,\n",
       "         0.63333333,  0.45454545,  0.        ,  0.83798883,  0.        ,\n",
       "         0.42857143,  0.        ,  0.        ,  1.        ,  0.94883721]),\n",
       " array([ 0.        ,  0.4       ,  0.93430657,  0.48275862,  0.        ,\n",
       "         0.3375    ,  0.125     ,  0.66964286,  0.        ,  0.        ,\n",
       "         0.        ,  0.61904762,  0.        ,  0.        ,  0.41860465,\n",
       "         0.        ,  0.63636364,  0.        ,  0.        ,  0.76119403,\n",
       "         0.68503937,  0.71627907,  0.75784753,  0.        ,  0.        ,\n",
       "         0.        ,  0.        ,  0.        ,  0.5       ,  0.8       ,\n",
       "         0.31818182,  0.        ,  0.        ,  0.35185185,  0.79329609,\n",
       "         0.39393939,  0.62355658,  0.125     ,  0.42857143,  0.44859813,\n",
       "         0.        ,  0.6       ,  0.        ,  0.        ,  0.36585366,\n",
       "         0.125     ,  0.        ,  0.66666667,  0.75816993,  0.        ,\n",
       "         0.        ,  0.        ,  0.        ,  0.        ,  0.        ,\n",
       "         0.        ,  0.        ,  0.76470588,  0.16666667,  0.63297872,\n",
       "         0.35714286,  0.25      ,  0.5       ,  0.44      ,  0.        ,\n",
       "         0.57794677,  0.        ,  0.18181818,  0.23529412,  0.        ,\n",
       "         0.875     ,  0.4       ,  0.51948052,  0.82978723,  0.85185185,\n",
       "         0.75964392,  0.        ,  0.83706721,  0.58823529,  0.16666667,\n",
       "         0.87573964,  0.83859333,  0.        ,  0.71830986,  0.        ,\n",
       "         0.        ,  0.33333333,  0.44444444,  0.        ,  0.7757732 ,\n",
       "         0.72994652,  0.61818182,  0.33333333,  0.38461538,  0.73333333,\n",
       "         0.84225352,  0.36842105,  0.        ,  0.5       ,  0.4       ,\n",
       "         0.5       ,  0.        ,  0.25      ,  0.93333333,  0.        ,\n",
       "         0.66666667,  0.8       ,  0.25      ,  0.        ,  0.        ,\n",
       "         0.        ,  0.33333333,  0.70714286,  0.5       ,  0.56666667,\n",
       "         0.37931034,  0.66666667,  0.78095238,  0.86290323,  0.        ,\n",
       "         0.7       ,  0.        ,  1.        ,  0.        ,  0.        ,\n",
       "         0.        ,  0.        ,  0.        ,  0.79373849,  0.3125    ,\n",
       "         0.83876501,  0.86178862,  0.        ,  0.14285714,  0.        ,\n",
       "         0.        ,  0.        ,  0.69421488,  0.79591837,  0.        ,\n",
       "         0.73553719,  0.77631579,  0.66666667,  0.5       ,  0.        ,\n",
       "         0.        ,  0.80338983,  0.        ,  0.        ,  0.45454545,\n",
       "         0.90972222,  0.63953488,  0.23076923,  0.        ,  0.57352941,\n",
       "         0.6031746 ,  0.63541667,  0.65454545,  0.5       ,  0.71428571,\n",
       "         0.80921053,  0.74137931,  0.74545455,  0.        ,  0.        ,\n",
       "         0.        ,  0.        ,  0.6       ,  0.77272727,  0.71323529,\n",
       "         0.2       ,  0.        ,  0.25      ,  0.8       ,  0.55172414,\n",
       "         0.375     ,  0.65217391,  0.79279279,  0.5       ,  0.26086957,\n",
       "         0.75119617,  0.22222222,  0.73493976,  0.5       ,  0.4       ,\n",
       "         0.        ,  0.5       ,  0.87      ,  0.        ,  0.        ,\n",
       "         0.6343356 ,  0.66666667,  0.275     ,  0.        ,  0.54545455,\n",
       "         0.68965517,  0.28571429,  0.        ,  0.91878173,  0.83892617,\n",
       "         0.54285714,  0.33333333,  0.        ,  0.73529412,  0.        ,\n",
       "         0.15789474,  0.        ,  0.        ,  0.83333333,  0.89473684]),\n",
       " array([ 0.        ,  0.30769231,  0.90140845,  0.49122807,  0.        ,\n",
       "         0.41538462,  0.13333333,  0.71258907,  0.        ,  0.        ,\n",
       "         0.        ,  0.65      ,  0.        ,  0.        ,  0.33962264,\n",
       "         0.        ,  0.5915493 ,  0.        ,  0.        ,  0.78663239,\n",
       "         0.75908871,  0.616     ,  0.79905437,  0.        ,  0.        ,\n",
       "         0.        ,  0.        ,  0.        ,  0.48      ,  0.8       ,\n",
       "         0.46666667,  0.        ,  0.        ,  0.44705882,  0.77313975,\n",
       "         0.44827586,  0.61085973,  0.13636364,  0.42857143,  0.47058824,\n",
       "         0.        ,  0.54193548,  0.        ,  0.        ,  0.37974684,\n",
       "         0.13333333,  0.        ,  0.66666667,  0.70090634,  0.        ,\n",
       "         0.        ,  0.        ,  0.        ,  0.        ,  0.        ,\n",
       "         0.        ,  0.        ,  0.79187817,  0.18181818,  0.55607477,\n",
       "         0.45454545,  0.25      ,  0.38095238,  0.33846154,  0.        ,\n",
       "         0.60557769,  0.        ,  0.26666667,  0.24242424,  0.        ,\n",
       "         0.93333333,  0.5       ,  0.55172414,  0.89655172,  0.84792627,\n",
       "         0.77929985,  0.        ,  0.80905512,  0.66666667,  0.25      ,\n",
       "         0.84330484,  0.82010582,  0.        ,  0.64556962,  0.        ,\n",
       "         0.        ,  0.5       ,  0.51612903,  0.        ,  0.78899083,\n",
       "         0.75833333,  0.65384615,  0.4       ,  0.37735849,  0.72641509,\n",
       "         0.79946524,  0.26923077,  0.        ,  0.38709677,  0.57142857,\n",
       "         0.56097561,  0.        ,  0.375     ,  0.8       ,  0.        ,\n",
       "         0.36363636,  0.85714286,  0.25      ,  0.        ,  0.        ,\n",
       "         0.        ,  0.36363636,  0.6971831 ,  0.55102041,  0.5862069 ,\n",
       "         0.38596491,  0.70588235,  0.85416667,  0.89539749,  0.        ,\n",
       "         0.68292683,  0.        ,  0.56      ,  0.        ,  0.        ,\n",
       "         0.        ,  0.        ,  0.        ,  0.79667283,  0.27777778,\n",
       "         0.77373418,  0.8582996 ,  0.        ,  0.16666667,  0.        ,\n",
       "         0.        ,  0.        ,  0.6746988 ,  0.8       ,  0.        ,\n",
       "         0.66917293,  0.74213836,  0.36363636,  0.61538462,  0.        ,\n",
       "         0.        ,  0.85022422,  0.        ,  0.        ,  0.47619048,\n",
       "         0.84789644,  0.58201058,  0.31578947,  0.        ,  0.57777778,\n",
       "         0.69090909,  0.67217631,  0.64285714,  0.5       ,  0.68965517,\n",
       "         0.82274247,  0.78778626,  0.74545455,  0.        ,  0.        ,\n",
       "         0.        ,  0.        ,  0.58715596,  0.75555556,  0.72659176,\n",
       "         0.33333333,  0.        ,  0.4       ,  0.88888889,  0.58181818,\n",
       "         0.5       ,  0.69767442,  0.80365297,  0.42857143,  0.30769231,\n",
       "         0.75906527,  0.30769231,  0.74390244,  0.5       ,  0.33333333,\n",
       "         0.        ,  0.66666667,  0.91099476,  0.        ,  0.        ,\n",
       "         0.66395939,  0.66666667,  0.34375   ,  0.        ,  0.57142857,\n",
       "         0.68965517,  0.44444444,  0.        ,  0.8960396 ,  0.71633238,\n",
       "         0.58461538,  0.38461538,  0.        ,  0.78328982,  0.        ,\n",
       "         0.23076923,  0.        ,  0.        ,  0.90909091,  0.92099323]),\n",
       " array([   3,    5,  137,   29,    2,   80,   16,  224,    0,    3,    1,\n",
       "          21,    2,    2,   43,    1,   33,    1,    1,  201, 1143,  215,\n",
       "         223,    0,    0,    1,    3,    4,   12,   10,   22,    2,    1,\n",
       "          54,  537,   33,  433,   24,   14,  107,    0,   70,    2,    5,\n",
       "          41,    8,    0,   21,  153,    0,    2,   12,    2,    0,    3,\n",
       "           2,    0,  102,   12,  188,   14,    4,    8,   50,    4,  263,\n",
       "           1,   11,   17,    1,    8,    5,   77,   47,  108,  337,    0,\n",
       "         491,   17,    6,  169, 1109,    1,  213,    1,    6,    6,   18,\n",
       "           1,  388,  374,  110,    6,   26,  105,  355,   19,    5,   12,\n",
       "           5,   46,    3,   12,   15,    0,    3,   15,    4,    1,    4,\n",
       "           1,    6,  280,   54,   30,   29,    9,  105,  124,    3,  140,\n",
       "           1,    7,    2,    3,    4,    2,    2,  543,   16,  583,  123,\n",
       "           1,    7,    2,    5,    4,  121,   98,    4,  121,   76,    3,\n",
       "           8,    2,    2,  590,    1,    2,   33,  144,   86,   13,    4,\n",
       "          68,  126,  192,   55,    8,   56,  152,  348,  110,    2,    0,\n",
       "           7,    1,  160,   22,  136,    5,    0,    8,   10,   29,    8,\n",
       "          23,  111,    6,   23,  627,    9,   83,    2,    5,    2,    2,\n",
       "         100,    4,    0, 1031,    3,   40,    0,   11,   29,    7,    3,\n",
       "         197,  149,   35,   15,    0,  204,    1,   19,    4,    4,    6,\n",
       "         228]))"
      ]
     },
     "execution_count": 72,
     "metadata": {},
     "output_type": "execute_result"
    }
   ],
   "source": [
    "#average= None, the scores for each class are returned.\n",
    "precision_recall_fscore_support(y_dev, y_pred_dev, average=None, sample_weight=None)"
   ]
  },
  {
   "cell_type": "code",
   "execution_count": 73,
   "metadata": {},
   "outputs": [
    {
     "data": {
      "text/plain": [
       "(0.73374708123387, 0.71730642157746138, 0.72543361380273996, None)"
      ]
     },
     "execution_count": 73,
     "metadata": {},
     "output_type": "execute_result"
    }
   ],
   "source": [
    "#Calculate globally by counting the total true positives, false negatives and false positives.\n",
    "precision_recall_fscore_support(y_dev, y_pred_dev, average='micro', sample_weight=None) "
   ]
  },
  {
   "cell_type": "code",
   "execution_count": 74,
   "metadata": {},
   "outputs": [
    {
     "name": "stderr",
     "output_type": "stream",
     "text": [
      "/Users/ellieking/Documents/tag_tax/govuk-taxonomy-supervised-learning/tax_SL/lib/python3.4/site-packages/sklearn/metrics/classification.py:1135: UndefinedMetricWarning: Precision and F-score are ill-defined and being set to 0.0 in labels with no predicted samples.\n",
      "  'precision', 'predicted', average, warn_for)\n",
      "/Users/ellieking/Documents/tag_tax/govuk-taxonomy-supervised-learning/tax_SL/lib/python3.4/site-packages/sklearn/metrics/classification.py:1137: UndefinedMetricWarning: Recall and F-score are ill-defined and being set to 0.0 in labels with no true samples.\n",
      "  'recall', 'true', average, warn_for)\n"
     ]
    },
    {
     "data": {
      "text/plain": [
       "(0.4117461966990027, 0.37381873550054923, 0.38007123095199069, None)"
      ]
     },
     "execution_count": 74,
     "metadata": {},
     "output_type": "execute_result"
    }
   ],
   "source": [
    "#Calculate metrics for each label, and find their unweighted mean. This does not take label imbalance into account\n",
    "precision_recall_fscore_support(y_dev, y_pred_dev, average='macro', sample_weight=None)"
   ]
  },
  {
   "cell_type": "markdown",
   "metadata": {},
   "source": [
    "## Tag unlabelled content"
   ]
  },
  {
   "cell_type": "code",
   "execution_count": null,
   "metadata": {},
   "outputs": [],
   "source": [
    "def get_predictions(new_texts, df, level1taxon=False):\n",
    "    #process data for model input\n",
    "    \n",
    "    new_sequences = tokenizer.texts_to_sequences(new_texts) #yield one sequence per input text\n",
    "\n",
    "    new_word_index = tokenizer.word_index\n",
    "    print('Found %s unique tokens.' % len(new_word_index))\n",
    "\n",
    "    x_new = pad_sequences(new_sequences, maxlen= MAX_SEQUENCE_LENGTH) #MAX_SEQUENCE_LENGTH\n",
    "    \n",
    "    print('Shape of untagged tensor:', x_new.shape)\n",
    "    \n",
    "    #predict tag for untagged data\n",
    "    y_pred_new = model.predict(x_new)\n",
    "    \n",
    "    #get model output into pandas & get a column to track index for later merge\n",
    "    y_pred_new = pd.DataFrame(y_pred_new)\n",
    "    y_pred_new['index_col'] = y_pred_new.index\n",
    "    \n",
    "    #Make long by taxon so easier to filter rows and examine effect of p_threshold\n",
    "    y_pred_new = pd.melt(y_pred_new, id_vars=['index_col'],\n",
    "                             var_name='level2taxon_code', value_name='probability')\n",
    "    \n",
    "    #get taxon names\n",
    "    y_pred_new['level2taxon'] = y_pred_new['level2taxon_code'].map(labels_index)\n",
    "    \n",
    "    if level1taxon==False:\n",
    "        #get the info about the content\n",
    "        new_info = df[[ 'base_path', 'content_id', 'title', 'description', \n",
    "                   'document_type', 'publishing_app', 'locale']]\n",
    "    else:\n",
    "        new_info = df[[ 'base_path', 'content_id', 'title', 'description', \n",
    "                   'document_type', 'publishing_app', 'locale', 'level1taxon']]\n",
    "    \n",
    "    \n",
    "    #merge content info with taxon prediction\n",
    "    pred_new = pd.merge(\n",
    "    left=new_info, \n",
    "    right=y_pred_new, \n",
    "    left_index=True,\n",
    "    right_on='index_col',\n",
    "    how='outer'\n",
    "    )\n",
    "    \n",
    "    #drop the cols needed for mergingin and naming\n",
    "    pred_new.drop(['index_col'], axis=1, inplace = True)\n",
    "    \n",
    "    #keep only rows where prob of taxon > 0.5\n",
    "    \n",
    "    \n",
    "    return pred_new #.loc[pred_new['probability'] > P_THRESHOLD] #only return rows/samples where probability is hihger than threshold\n",
    "    "
   ]
  },
  {
   "cell_type": "markdown",
   "metadata": {},
   "source": [
    "### Untagged"
   ]
  },
  {
   "cell_type": "code",
   "execution_count": null,
   "metadata": {},
   "outputs": [],
   "source": [
    "#read in untagged content\n",
    "untagged_raw = pd.read_csv(os.path.join(DATADIR, 'untagged_content.csv'), dtype=object)"
   ]
  },
  {
   "cell_type": "code",
   "execution_count": null,
   "metadata": {},
   "outputs": [],
   "source": [
    "new_texts = untagged_raw['combined_text']"
   ]
  },
  {
   "cell_type": "code",
   "execution_count": null,
   "metadata": {},
   "outputs": [],
   "source": [
    "pred_untagged = get_predictions(new_texts, untagged_raw)"
   ]
  },
  {
   "cell_type": "code",
   "execution_count": null,
   "metadata": {},
   "outputs": [],
   "source": [
    "#data is long by taxon\n",
    "print('Number of unique content items: {}'.format(pred_untagged.content_id.nunique()))\n",
    "print('Number of content items tagged to taxons with more than p_threshold: {}'.format(pred_untagged.shape))"
   ]
  },
  {
   "cell_type": "code",
   "execution_count": null,
   "metadata": {},
   "outputs": [],
   "source": [
    "pred_untagged.loc[(pred_untagged['probability'] > 0.65) & (pred_untagged['probability'] < 0.85)].sort_values(by='probability', ascending=False)"
   ]
  },
  {
   "cell_type": "code",
   "execution_count": null,
   "metadata": {},
   "outputs": [],
   "source": [
    "#write to csv\n",
    "pred_untagged.to_csv(os.path.join(DATADIR, 'predictions_for_untagged_data_trainingdatatok.csv'), index=False)"
   ]
  },
  {
   "cell_type": "code",
   "execution_count": null,
   "metadata": {},
   "outputs": [],
   "source": [
    "# apply tokenizer to our text data\n",
    "tokenizer.fit_on_texts(new_texts)\n",
    "\n",
    "pred_untagged_refit_tok = get_predictions(new_texts, untagged_raw)\n"
   ]
  },
  {
   "cell_type": "code",
   "execution_count": null,
   "metadata": {},
   "outputs": [],
   "source": [
    "#write to csv\n",
    "pred_untagged_refit_tok.to_csv(os.path.join(DATADIR, 'predictions_for_untagged_data_refittok.csv'), index=False)"
   ]
  },
  {
   "cell_type": "markdown",
   "metadata": {},
   "source": [
    "### New data (untagged + old taxons)"
   ]
  },
  {
   "cell_type": "markdown",
   "metadata": {},
   "source": [
    "old_taxons data has no combined text. This needs fixing in the data pipeline before being able to use these data for predictions"
   ]
  },
  {
   "cell_type": "code",
   "execution_count": null,
   "metadata": {},
   "outputs": [],
   "source": [
    "#read in untagged content\n",
    "new_raw = pd.read_csv(os.path.join(DATADIR, 'new_content.csv'), dtype=object)"
   ]
  },
  {
   "cell_type": "code",
   "execution_count": null,
   "metadata": {},
   "outputs": [],
   "source": [
    "new_raw.shape"
   ]
  },
  {
   "cell_type": "code",
   "execution_count": null,
   "metadata": {},
   "outputs": [],
   "source": [
    "type(new_raw['combined_text'][0])"
   ]
  },
  {
   "cell_type": "code",
   "execution_count": null,
   "metadata": {},
   "outputs": [],
   "source": [
    "len(new_raw[new_raw['combined_text'].isna()])"
   ]
  },
  {
   "cell_type": "code",
   "execution_count": null,
   "metadata": {},
   "outputs": [],
   "source": [
    "(new_raw.loc[(new_raw['combined_text'].isna()) & (new_raw['untagged_type'] != 'untagged')]).shape"
   ]
  },
  {
   "cell_type": "code",
   "execution_count": null,
   "metadata": {},
   "outputs": [],
   "source": [
    "#make a copy so you can edit data without needed to read in each time\n",
    "new_df = new_raw.copy(deep=True)"
   ]
  },
  {
   "cell_type": "code",
   "execution_count": null,
   "metadata": {},
   "outputs": [],
   "source": [
    "pred_new = get_predictions(new_df )"
   ]
  },
  {
   "cell_type": "code",
   "execution_count": null,
   "metadata": {},
   "outputs": [],
   "source": [
    "#keep only rows where prob of taxon > 0.5\n",
    "pred_new = pred_new.loc[pred_new['probability'] > 0.5]"
   ]
  },
  {
   "cell_type": "code",
   "execution_count": null,
   "metadata": {},
   "outputs": [],
   "source": [
    "#write to csv\n",
    "pred_new.to_csv(os.path.join(DATADIR, 'predictions_for_new_data.csv'), index=False)"
   ]
  },
  {
   "cell_type": "markdown",
   "metadata": {},
   "source": [
    "### Labelled at level1only"
   ]
  },
  {
   "cell_type": "code",
   "execution_count": null,
   "metadata": {},
   "outputs": [],
   "source": [
    "labelled_level1 = pd.read_csv(os.path.join(DATADIR, 'labelled_level1.csv'), dtype=object)"
   ]
  },
  {
   "cell_type": "code",
   "execution_count": null,
   "metadata": {},
   "outputs": [],
   "source": [
    "level1_texts = labelled_level1['combined_text']"
   ]
  },
  {
   "cell_type": "code",
   "execution_count": null,
   "metadata": {},
   "outputs": [],
   "source": [
    "#reset tokenizer to training data texts\n",
    "tokenizer.fit_on_texts(texts)"
   ]
  },
  {
   "cell_type": "code",
   "execution_count": null,
   "metadata": {},
   "outputs": [],
   "source": [
    "pred_labelled_level1 = get_predictions(level1_texts, labelled_level1, level1taxon=True)"
   ]
  },
  {
   "cell_type": "code",
   "execution_count": null,
   "metadata": {},
   "outputs": [],
   "source": [
    "pred_labelled_level1.sort_values(by='probability', ascending=False)"
   ]
  },
  {
   "cell_type": "code",
   "execution_count": null,
   "metadata": {},
   "outputs": [],
   "source": [
    "#write to csv\n",
    "pred_labelled_level1.to_csv(os.path.join(DATADIR, 'predictions_for_level1only.csv'), index=False)"
   ]
  },
  {
   "cell_type": "code",
   "execution_count": null,
   "metadata": {},
   "outputs": [],
   "source": [
    "from IPython.display import SVG\n",
    "from keras.utils.vis_utils import model_to_dot\n",
    "\n",
    "SVG(model_to_dot(model).create(prog='dot', format='svg'))"
   ]
  },
  {
   "cell_type": "code",
   "execution_count": null,
   "metadata": {},
   "outputs": [],
   "source": [
    "from keras.utils import plot_model\n",
    "plot_model(model, to_file='cnn.png', show_shapes=True)"
   ]
  },
  {
   "cell_type": "code",
   "execution_count": null,
   "metadata": {},
   "outputs": [],
   "source": []
  }
 ],
 "metadata": {
  "keep_output": true,
  "kernelspec": {
   "display_name": "tax_SL",
   "language": "python",
   "name": "tax_sl"
  },
  "language_info": {
   "codemirror_mode": {
    "name": "ipython",
    "version": 3
   },
   "file_extension": ".py",
   "mimetype": "text/x-python",
   "name": "python",
   "nbconvert_exporter": "python",
   "pygments_lexer": "ipython3",
   "version": "3.4.6"
  }
 },
 "nbformat": 4,
 "nbformat_minor": 2
}
