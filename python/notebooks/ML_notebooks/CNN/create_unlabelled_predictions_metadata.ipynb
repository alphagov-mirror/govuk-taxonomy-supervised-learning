{
 "cells": [
  {
   "cell_type": "code",
   "execution_count": 1,
   "metadata": {
    "scrolled": false
   },
   "outputs": [],
   "source": [
    "import pandas as pd\n",
    "import numpy as np\n",
    "import os\n",
    "\n",
    "from sklearn.metrics import confusion_matrix, f1_score, precision_score, recall_score \n",
    "from sklearn.metrics import precision_recall_fscore_support, classification_report\n",
    "\n",
    "import matplotlib.pyplot as plt\n",
    "%matplotlib inline\n",
    "\n",
    "import functools\n",
    "\n",
    "import h5py"
   ]
  },
  {
   "cell_type": "code",
   "execution_count": 2,
   "metadata": {
    "scrolled": true
   },
   "outputs": [],
   "source": [
    "P_THRESHOLD=0.5"
   ]
  },
  {
   "cell_type": "markdown",
   "metadata": {},
   "source": [
    "### Which data"
   ]
  },
  {
   "cell_type": "code",
   "execution_count": 3,
   "metadata": {
    "scrolled": false
   },
   "outputs": [],
   "source": [
    "DATADIR = os.getenv('DATADIR')"
   ]
  },
  {
   "cell_type": "code",
   "execution_count": 4,
   "metadata": {
    "scrolled": true
   },
   "outputs": [
    {
     "name": "stdout",
     "output_type": "stream",
     "text": [
      "model v2.0.0 was run on data dated /data/2018-03-27\n"
     ]
    }
   ],
   "source": [
    "print(\"model v2.0.0 was run on data dated {}\".format(DATADIR))"
   ]
  },
  {
   "cell_type": "markdown",
   "metadata": {},
   "source": [
    "### Get full content to enable total counts"
   ]
  },
  {
   "cell_type": "code",
   "execution_count": 5,
   "metadata": {},
   "outputs": [],
   "source": [
    "full_content = pd.read_csv(\n",
    "    os.path.join(DATADIR, 'full_content.csv.gz'),\n",
    "    dtype=object,\n",
    "    compression='gzip'\n",
    ")"
   ]
  },
  {
   "cell_type": "code",
   "execution_count": 6,
   "metadata": {},
   "outputs": [
    {
     "data": {
      "text/plain": [
       "(196214, 26)"
      ]
     },
     "execution_count": 6,
     "metadata": {},
     "output_type": "execute_result"
    }
   ],
   "source": [
    "full_content.shape"
   ]
  },
  {
   "cell_type": "code",
   "execution_count": 7,
   "metadata": {},
   "outputs": [
    {
     "data": {
      "text/plain": [
       "Index(['base_path', 'content_id', 'content_purpose_document_supertype',\n",
       "       'content_purpose_subgroup', 'content_purpose_supergroup', 'description',\n",
       "       'details', 'document_type', 'email_document_supertype',\n",
       "       'first_published_at', 'government_document_supertype', 'locale',\n",
       "       'navigation_document_supertype', 'public_updated_at', 'publishing_app',\n",
       "       'publishing_scheduled_at', 'scheduled_publishing_delay_seconds',\n",
       "       'search_user_need_document_supertype', 'title', 'updated_at',\n",
       "       'user_journey_document_supertype', 'document_type_gp', 'taxons',\n",
       "       'primary_publishing_organisation', 'body', 'combined_text'],\n",
       "      dtype='object')"
      ]
     },
     "execution_count": 7,
     "metadata": {},
     "output_type": "execute_result"
    }
   ],
   "source": [
    "full_content.columns"
   ]
  },
  {
   "cell_type": "code",
   "execution_count": 8,
   "metadata": {},
   "outputs": [
    {
     "data": {
      "text/plain": [
       "196214"
      ]
     },
     "execution_count": 8,
     "metadata": {},
     "output_type": "execute_result"
    }
   ],
   "source": [
    "full_content.content_id.nunique()"
   ]
  },
  {
   "cell_type": "markdown",
   "metadata": {},
   "source": [
    "### Get mappings of taxon2 code to taxon2 string"
   ]
  },
  {
   "cell_type": "code",
   "execution_count": 9,
   "metadata": {
    "scrolled": true
   },
   "outputs": [],
   "source": [
    "labelled_level2 = pd.read_csv(\n",
    "    os.path.join(DATADIR, 'labelled_level2.csv.gz'),\n",
    "    dtype=object,\n",
    "    compression='gzip'\n",
    ")# Create World taxon in case any items not identified \n",
    "# through doc type in clean_content are still present\n",
    "labelled_level2.loc[labelled_level2['level1taxon'] == 'World', 'level2taxon'] = 'world_level1'\n",
    "\n",
    "# creating categorical variable for level2taxons from values\n",
    "labelled_level2['level2taxon'] = labelled_level2['level2taxon'].astype('category')\n",
    "\n",
    "# Add 1 because of zero-indexing to get 1-number of level2taxons as numerical targets\n",
    "labelled_level2['level2taxon_code'] = labelled_level2.level2taxon.astype('category').cat.codes + 1\n",
    "\n",
    "# create dictionary of taxon category code to string label for use in model evaluation\n",
    "labels_index = dict(zip((labelled_level2['level2taxon_code']),\n",
    "                        labelled_level2['level2taxon']))"
   ]
  },
  {
   "cell_type": "code",
   "execution_count": 10,
   "metadata": {},
   "outputs": [
    {
     "data": {
      "text/plain": [
       "(177591, 34)"
      ]
     },
     "execution_count": 10,
     "metadata": {},
     "output_type": "execute_result"
    }
   ],
   "source": [
    "labelled_level2.shape"
   ]
  },
  {
   "cell_type": "code",
   "execution_count": 11,
   "metadata": {
    "scrolled": true
   },
   "outputs": [
    {
     "data": {
      "text/plain": [
       "2689"
      ]
     },
     "execution_count": 11,
     "metadata": {},
     "output_type": "execute_result"
    }
   ],
   "source": [
    "labelled_level2.taxon_id.nunique()"
   ]
  },
  {
   "cell_type": "code",
   "execution_count": 12,
   "metadata": {
    "scrolled": true
   },
   "outputs": [
    {
     "data": {
      "text/plain": [
       "127761"
      ]
     },
     "execution_count": 12,
     "metadata": {},
     "output_type": "execute_result"
    }
   ],
   "source": [
    "labelled_level2.content_id.nunique()"
   ]
  },
  {
   "cell_type": "markdown",
   "metadata": {},
   "source": [
    "### read in predictions & content_id array"
   ]
  },
  {
   "cell_type": "markdown",
   "metadata": {},
   "source": [
    "#### new"
   ]
  },
  {
   "cell_type": "code",
   "execution_count": 13,
   "metadata": {
    "scrolled": true
   },
   "outputs": [],
   "source": [
    "new_pred = pd.read_csv(\n",
    "    os.path.join(DATADIR, 'new_predictions_1123_2703_.csv.gz'),\n",
    "    dtype=object,\n",
    "    compression='gzip'\n",
    ")"
   ]
  },
  {
   "cell_type": "code",
   "execution_count": 14,
   "metadata": {
    "scrolled": true
   },
   "outputs": [],
   "source": [
    "new_arrays = np.load(os.path.join(DATADIR, 'new_arrays.npz'))"
   ]
  },
  {
   "cell_type": "code",
   "execution_count": 15,
   "metadata": {
    "scrolled": true
   },
   "outputs": [],
   "source": [
    "if new_arrays['content_id'].shape[0] == new_pred.shape[0]:\n",
    "    new_pred['content_id'] = new_arrays['content_id']\n",
    "else:\n",
    "    print(\"warning: true_train and content_id may not originate from same data\")\n",
    "    \n",
    "    "
   ]
  },
  {
   "cell_type": "code",
   "execution_count": 16,
   "metadata": {},
   "outputs": [
    {
     "data": {
      "text/plain": [
       "(56737, 217)"
      ]
     },
     "execution_count": 16,
     "metadata": {},
     "output_type": "execute_result"
    }
   ],
   "source": [
    "new_pred.shape"
   ]
  },
  {
   "cell_type": "code",
   "execution_count": 17,
   "metadata": {},
   "outputs": [
    {
     "data": {
      "text/plain": [
       "Index(['1', '2', '3', '4', '5', '6', '7', '8', '9', '10',\n",
       "       ...\n",
       "       '208', '209', '210', '211', '212', '213', '214', '215', '216',\n",
       "       'content_id'],\n",
       "      dtype='object', length=217)"
      ]
     },
     "execution_count": 17,
     "metadata": {},
     "output_type": "execute_result"
    }
   ],
   "source": [
    "new_pred.columns"
   ]
  },
  {
   "cell_type": "markdown",
   "metadata": {},
   "source": [
    "#### level1"
   ]
  },
  {
   "cell_type": "code",
   "execution_count": 18,
   "metadata": {
    "scrolled": true
   },
   "outputs": [],
   "source": [
    "level1_pred = pd.read_csv(\n",
    "    os.path.join(DATADIR, 'level1_predictions_1123_2703_.csv.gz'),\n",
    "    dtype=object,\n",
    "    compression='gzip'\n",
    ")"
   ]
  },
  {
   "cell_type": "code",
   "execution_count": 19,
   "metadata": {
    "scrolled": true
   },
   "outputs": [],
   "source": [
    "level1_arrays = np.load(os.path.join(DATADIR, 'level1_arrays.npz'))"
   ]
  },
  {
   "cell_type": "code",
   "execution_count": 20,
   "metadata": {
    "scrolled": true
   },
   "outputs": [],
   "source": [
    "if level1_arrays['content_id'].shape[0] == level1_pred.shape[0]:\n",
    "    level1_pred['content_id'] = level1_arrays['content_id']\n",
    "else:\n",
    "    print(\"warning: true_train and content_id may not originate from same data\")\n",
    "    \n",
    "    "
   ]
  },
  {
   "cell_type": "code",
   "execution_count": 21,
   "metadata": {},
   "outputs": [
    {
     "data": {
      "text/plain": [
       "(18015, 217)"
      ]
     },
     "execution_count": 21,
     "metadata": {},
     "output_type": "execute_result"
    }
   ],
   "source": [
    "level1_pred.shape"
   ]
  },
  {
   "cell_type": "markdown",
   "metadata": {},
   "source": [
    "#### Predictions on all unlabelled"
   ]
  },
  {
   "cell_type": "code",
   "execution_count": 22,
   "metadata": {},
   "outputs": [],
   "source": [
    "unlabelled_pred = pd.concat([new_pred, level1_pred])"
   ]
  },
  {
   "cell_type": "code",
   "execution_count": 23,
   "metadata": {},
   "outputs": [
    {
     "data": {
      "text/plain": [
       "(74752, 217)"
      ]
     },
     "execution_count": 23,
     "metadata": {},
     "output_type": "execute_result"
    }
   ],
   "source": [
    "unlabelled_pred.shape"
   ]
  },
  {
   "cell_type": "markdown",
   "metadata": {},
   "source": [
    "### Read in and prepare metadata"
   ]
  },
  {
   "cell_type": "markdown",
   "metadata": {},
   "source": [
    "#### new"
   ]
  },
  {
   "cell_type": "code",
   "execution_count": 24,
   "metadata": {
    "scrolled": true
   },
   "outputs": [],
   "source": [
    "new_content = pd.read_csv(\n",
    "    os.path.join(DATADIR, 'new_content.csv.gz'),\n",
    "    dtype=object,\n",
    "    compression='gzip'\n",
    ")"
   ]
  },
  {
   "cell_type": "code",
   "execution_count": 25,
   "metadata": {},
   "outputs": [
    {
     "data": {
      "text/plain": [
       "(56737, 28)"
      ]
     },
     "execution_count": 25,
     "metadata": {},
     "output_type": "execute_result"
    }
   ],
   "source": [
    "new_content.shape"
   ]
  },
  {
   "cell_type": "code",
   "execution_count": 26,
   "metadata": {},
   "outputs": [
    {
     "data": {
      "text/plain": [
       "56737"
      ]
     },
     "execution_count": 26,
     "metadata": {},
     "output_type": "execute_result"
    }
   ],
   "source": [
    "new_content.content_id.nunique()"
   ]
  },
  {
   "cell_type": "code",
   "execution_count": 27,
   "metadata": {},
   "outputs": [
    {
     "data": {
      "text/plain": [
       "Index(['base_path', 'body', 'combined_text', 'content_id',\n",
       "       'content_purpose_document_supertype', 'content_purpose_subgroup',\n",
       "       'content_purpose_supergroup', 'description', 'details', 'document_type',\n",
       "       'document_type_gp', 'email_document_supertype', 'first_published_at',\n",
       "       'government_document_supertype', 'locale',\n",
       "       'navigation_document_supertype', 'primary_publishing_organisation',\n",
       "       'public_updated_at', 'publishing_app', 'publishing_scheduled_at',\n",
       "       'scheduled_publishing_delay_seconds',\n",
       "       'search_user_need_document_supertype', 'taxon_id', 'taxons', 'title',\n",
       "       'untagged_type', 'updated_at', 'user_journey_document_supertype'],\n",
       "      dtype='object')"
      ]
     },
     "execution_count": 27,
     "metadata": {},
     "output_type": "execute_result"
    }
   ],
   "source": [
    "new_content.columns"
   ]
  },
  {
   "cell_type": "code",
   "execution_count": 28,
   "metadata": {},
   "outputs": [],
   "source": [
    "new_content.drop('taxons', axis=1, inplace=True)"
   ]
  },
  {
   "cell_type": "code",
   "execution_count": 29,
   "metadata": {},
   "outputs": [
    {
     "data": {
      "text/plain": [
       "Index(['base_path', 'body', 'combined_text', 'content_id',\n",
       "       'content_purpose_document_supertype', 'content_purpose_subgroup',\n",
       "       'content_purpose_supergroup', 'description', 'details', 'document_type',\n",
       "       'document_type_gp', 'email_document_supertype', 'first_published_at',\n",
       "       'government_document_supertype', 'locale',\n",
       "       'navigation_document_supertype', 'primary_publishing_organisation',\n",
       "       'public_updated_at', 'publishing_app', 'publishing_scheduled_at',\n",
       "       'scheduled_publishing_delay_seconds',\n",
       "       'search_user_need_document_supertype', 'taxon_id', 'title',\n",
       "       'untagged_type', 'updated_at', 'user_journey_document_supertype'],\n",
       "      dtype='object')"
      ]
     },
     "execution_count": 29,
     "metadata": {},
     "output_type": "execute_result"
    }
   ],
   "source": [
    "new_content.columns"
   ]
  },
  {
   "cell_type": "code",
   "execution_count": 30,
   "metadata": {},
   "outputs": [],
   "source": [
    "new_content['level1taxon'] = ''"
   ]
  },
  {
   "cell_type": "markdown",
   "metadata": {},
   "source": [
    "#### level1 "
   ]
  },
  {
   "cell_type": "code",
   "execution_count": 31,
   "metadata": {},
   "outputs": [],
   "source": [
    "level1_content = pd.read_csv(\n",
    "    os.path.join(DATADIR, 'labelled_level1.csv.gz'),\n",
    "    dtype=object,\n",
    "    compression='gzip'\n",
    ")"
   ]
  },
  {
   "cell_type": "code",
   "execution_count": 32,
   "metadata": {},
   "outputs": [
    {
     "data": {
      "text/plain": [
       "(18015, 33)"
      ]
     },
     "execution_count": 32,
     "metadata": {},
     "output_type": "execute_result"
    }
   ],
   "source": [
    "level1_content.shape"
   ]
  },
  {
   "cell_type": "code",
   "execution_count": 33,
   "metadata": {},
   "outputs": [
    {
     "data": {
      "text/plain": [
       "17085"
      ]
     },
     "execution_count": 33,
     "metadata": {},
     "output_type": "execute_result"
    }
   ],
   "source": [
    "level1_content.content_id.nunique()"
   ]
  },
  {
   "cell_type": "code",
   "execution_count": 34,
   "metadata": {},
   "outputs": [],
   "source": [
    "level1_content['untagged_type'] = 'level1only'"
   ]
  },
  {
   "cell_type": "code",
   "execution_count": 35,
   "metadata": {
    "scrolled": true
   },
   "outputs": [
    {
     "data": {
      "text/plain": [
       "Index(['base_path', 'content_id', 'content_purpose_document_supertype',\n",
       "       'content_purpose_subgroup', 'content_purpose_supergroup', 'description',\n",
       "       'details', 'document_type', 'email_document_supertype',\n",
       "       'first_published_at', 'government_document_supertype', 'locale',\n",
       "       'navigation_document_supertype', 'public_updated_at', 'publishing_app',\n",
       "       'publishing_scheduled_at', 'scheduled_publishing_delay_seconds',\n",
       "       'search_user_need_document_supertype', 'title', 'updated_at',\n",
       "       'user_journey_document_supertype', 'document_type_gp',\n",
       "       'primary_publishing_organisation', 'body', 'combined_text', 'taxon_id',\n",
       "       'taxon_base_path', 'taxon_name', 'level1taxon', 'level2taxon',\n",
       "       'level3taxon', 'level4taxon', 'level5taxon', 'untagged_type'],\n",
       "      dtype='object')"
      ]
     },
     "execution_count": 35,
     "metadata": {},
     "output_type": "execute_result"
    }
   ],
   "source": [
    "level1_content.columns"
   ]
  },
  {
   "cell_type": "code",
   "execution_count": 36,
   "metadata": {},
   "outputs": [],
   "source": [
    "level1_content = level1_content[['base_path', 'body', 'combined_text', 'content_id',\n",
    "       'content_purpose_document_supertype', 'content_purpose_subgroup',\n",
    "       'content_purpose_supergroup', 'description', 'details', 'document_type',\n",
    "       'document_type_gp', 'email_document_supertype', 'first_published_at',\n",
    "       'government_document_supertype', 'locale',\n",
    "       'navigation_document_supertype', 'primary_publishing_organisation',\n",
    "       'public_updated_at', 'publishing_app', 'publishing_scheduled_at',\n",
    "       'search_user_need_document_supertype', 'taxon_id',  'title',\n",
    "       'untagged_type', 'updated_at', 'user_journey_document_supertype', 'level1taxon']]"
   ]
  },
  {
   "cell_type": "code",
   "execution_count": 37,
   "metadata": {},
   "outputs": [],
   "source": [
    "content = pd.concat([new_content, level1_content])"
   ]
  },
  {
   "cell_type": "code",
   "execution_count": 38,
   "metadata": {},
   "outputs": [
    {
     "data": {
      "text/plain": [
       "(74752, 28)"
      ]
     },
     "execution_count": 38,
     "metadata": {},
     "output_type": "execute_result"
    }
   ],
   "source": [
    "content.shape"
   ]
  },
  {
   "cell_type": "code",
   "execution_count": 39,
   "metadata": {},
   "outputs": [
    {
     "data": {
      "text/plain": [
       "73819"
      ]
     },
     "execution_count": 39,
     "metadata": {},
     "output_type": "execute_result"
    }
   ],
   "source": [
    "content.content_id.nunique()"
   ]
  },
  {
   "cell_type": "code",
   "execution_count": 40,
   "metadata": {},
   "outputs": [
    {
     "data": {
      "text/plain": [
       "untagged_type\n",
       "old_taxons       40\n",
       "level1only    18015\n",
       "untagged      56697\n",
       "dtype: int64"
      ]
     },
     "execution_count": 40,
     "metadata": {},
     "output_type": "execute_result"
    }
   ],
   "source": [
    "content.groupby('untagged_type').size().sort_values()"
   ]
  },
  {
   "cell_type": "code",
   "execution_count": 41,
   "metadata": {
    "scrolled": true
   },
   "outputs": [
    {
     "data": {
      "text/plain": [
       "publishing_app\n",
       "frontend                    1\n",
       "smartanswers                6\n",
       "manuals-publisher          37\n",
       "policy-publisher          204\n",
       "hmrc-manuals-api          220\n",
       "publisher                 743\n",
       "specialist-publisher     2944\n",
       "whitehall               70597\n",
       "dtype: int64"
      ]
     },
     "execution_count": 41,
     "metadata": {},
     "output_type": "execute_result"
    }
   ],
   "source": [
    "content.groupby('publishing_app').size().sort_values()"
   ]
  },
  {
   "cell_type": "markdown",
   "metadata": {},
   "source": [
    "### Combine predictions with metadata"
   ]
  },
  {
   "cell_type": "code",
   "execution_count": 42,
   "metadata": {
    "scrolled": true
   },
   "outputs": [],
   "source": [
    "unlabelled_prob_by_id = pd.melt(unlabelled_pred, \n",
    "                        id_vars=['content_id'], var_name='taxon2', value_name='prob')"
   ]
  },
  {
   "cell_type": "code",
   "execution_count": 43,
   "metadata": {
    "scrolled": true
   },
   "outputs": [
    {
     "data": {
      "text/plain": [
       "(16146432, 3)"
      ]
     },
     "execution_count": 43,
     "metadata": {},
     "output_type": "execute_result"
    }
   ],
   "source": [
    "unlabelled_prob_by_id .shape"
   ]
  },
  {
   "cell_type": "code",
   "execution_count": 44,
   "metadata": {
    "scrolled": true
   },
   "outputs": [],
   "source": [
    "#convert from string to numeric\n",
    "unlabelled_prob_by_id ['prob'] = pd.to_numeric(unlabelled_prob_by_id ['prob'])\n",
    "unlabelled_prob_by_id ['taxon2'] = pd.to_numeric(unlabelled_prob_by_id ['taxon2'])"
   ]
  },
  {
   "cell_type": "code",
   "execution_count": 45,
   "metadata": {
    "scrolled": true
   },
   "outputs": [],
   "source": [
    "#get the label for the level2 taxon code\n",
    "unlabelled_prob_by_id ['taxon2label'] = unlabelled_prob_by_id ['taxon2'].map(labels_index)"
   ]
  },
  {
   "cell_type": "code",
   "execution_count": 46,
   "metadata": {
    "scrolled": true
   },
   "outputs": [],
   "source": [
    "unlabelled_meta = pd.merge(\n",
    "    left=unlabelled_prob_by_id ,\n",
    "    right=content,\n",
    "    on='content_id',\n",
    "    how='left',\n",
    "    indicator=True, \n",
    "    validate='m:m'\n",
    ")"
   ]
  },
  {
   "cell_type": "code",
   "execution_count": 47,
   "metadata": {
    "scrolled": true
   },
   "outputs": [
    {
     "data": {
      "text/plain": [
       "Index(['content_id', 'taxon2', 'prob', 'taxon2label', 'base_path', 'body',\n",
       "       'combined_text', 'content_purpose_document_supertype',\n",
       "       'content_purpose_subgroup', 'content_purpose_supergroup', 'description',\n",
       "       'details', 'document_type', 'document_type_gp',\n",
       "       'email_document_supertype', 'first_published_at',\n",
       "       'government_document_supertype', 'level1taxon', 'locale',\n",
       "       'navigation_document_supertype', 'primary_publishing_organisation',\n",
       "       'public_updated_at', 'publishing_app', 'publishing_scheduled_at',\n",
       "       'scheduled_publishing_delay_seconds',\n",
       "       'search_user_need_document_supertype', 'taxon_id', 'title',\n",
       "       'untagged_type', 'updated_at', 'user_journey_document_supertype',\n",
       "       '_merge'],\n",
       "      dtype='object')"
      ]
     },
     "execution_count": 47,
     "metadata": {},
     "output_type": "execute_result"
    }
   ],
   "source": [
    "unlabelled_meta.columns"
   ]
  },
  {
   "cell_type": "code",
   "execution_count": 48,
   "metadata": {},
   "outputs": [
    {
     "data": {
      "text/plain": [
       "(16558128, 32)"
      ]
     },
     "execution_count": 48,
     "metadata": {},
     "output_type": "execute_result"
    }
   ],
   "source": [
    "unlabelled_meta.shape"
   ]
  },
  {
   "cell_type": "code",
   "execution_count": 49,
   "metadata": {},
   "outputs": [
    {
     "data": {
      "text/plain": [
       "73819"
      ]
     },
     "execution_count": 49,
     "metadata": {},
     "output_type": "execute_result"
    }
   ],
   "source": [
    "unlabelled_meta.content_id.nunique()"
   ]
  },
  {
   "cell_type": "markdown",
   "metadata": {},
   "source": [
    "##### categorical var for probaiblity"
   ]
  },
  {
   "cell_type": "code",
   "execution_count": null,
   "metadata": {},
   "outputs": [],
   "source": [
    "unlabelled_meta['prob_cat'] = '>=0.8'\n",
    "unlabelled_meta.loc[unlabelled_meta['prob']<0.01, 'prob_cat'] = '<0.01'\n",
    "unlabelled_meta.loc[(unlabelled_meta['prob']>=0.01) & (unlabelled_meta['prob']<0.1), 'prob_cat'] = '0.01-0.09'\n",
    "unlabelled_meta.loc[(unlabelled_meta['prob']>=0.1) & (unlabelled_meta['prob']<0.2), 'prob_cat'] = '0.1-0.19'\n",
    "unlabelled_meta.loc[(unlabelled_meta['prob']>=0.2) & (unlabelled_meta['prob']<0.3), 'prob_cat'] = '0.2-0.29'\n",
    "unlabelled_meta.loc[(unlabelled_meta['prob']>=0.3) & (unlabelled_meta['prob']<0.4), 'prob_cat'] = '0.3-0.39'\n",
    "unlabelled_meta.loc[(unlabelled_meta['prob']>=0.4) & (unlabelled_meta['prob']<0.5), 'prob_cat'] = '0.4-0.49'\n",
    "unlabelled_meta.loc[(unlabelled_meta['prob']>=0.5) & (unlabelled_meta['prob']<0.6), 'prob_cat'] = '0.5-0.59'\n",
    "unlabelled_meta.loc[(unlabelled_meta['prob']>=0.6) & (unlabelled_meta['prob']<0.7), 'prob_cat'] = '0.6-0.69'\n",
    "unlabelled_meta.loc[(unlabelled_meta['prob']>=0.7) & (unlabelled_meta['prob']<0.8), 'prob_cat'] = '0.7-0.79'"
   ]
  },
  {
   "cell_type": "code",
   "execution_count": null,
   "metadata": {},
   "outputs": [],
   "source": [
    "unlabelled_meta.to_csv(os.path.join(DATADIR, 'unlabelled_predictions_meta.csv.gz'),compression='gzip',index=False)"
   ]
  },
  {
   "cell_type": "code",
   "execution_count": null,
   "metadata": {},
   "outputs": [],
   "source": []
  }
 ],
 "metadata": {
  "keep_output": true,
  "kernelspec": {
   "display_name": "Environment (conda_tensorflow_p36)",
   "language": "python",
   "name": "conda_tensorflow_p36"
  },
  "language_info": {
   "codemirror_mode": {
    "name": "ipython",
    "version": 3
   },
   "file_extension": ".py",
   "mimetype": "text/x-python",
   "name": "python",
   "nbconvert_exporter": "python",
   "pygments_lexer": "ipython3",
   "version": "3.6.3"
  }
 },
 "nbformat": 4,
 "nbformat_minor": 2
}
