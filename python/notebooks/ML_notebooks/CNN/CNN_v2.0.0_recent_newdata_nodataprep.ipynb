{
 "cells": [
  {
   "cell_type": "markdown",
   "metadata": {},
   "source": [
    "## Convolutional NN to classify govuk content to level2 taxons"
   ]
  },
  {
   "cell_type": "markdown",
   "metadata": {},
   "source": [
    "Based on:\n",
    "https://blog.keras.io/using-pre-trained-word-embeddings-in-a-keras-model.html"
   ]
  },
  {
   "cell_type": "markdown",
   "metadata": {},
   "source": [
    "### Load requirements and data"
   ]
  },
  {
   "cell_type": "code",
   "execution_count": 1,
   "metadata": {
    "scrolled": true
   },
   "outputs": [
    {
     "name": "stderr",
     "output_type": "stream",
     "text": [
      "Using TensorFlow backend.\n",
      "/home/ubuntu/anaconda3/envs/tensorflow_p36/lib/python3.6/importlib/_bootstrap.py:219: RuntimeWarning: compiletime version 3.5 of module 'tensorflow.python.framework.fast_tensor_util' does not match runtime version 3.6\n",
      "  return f(*args, **kwds)\n"
     ]
    }
   ],
   "source": [
    "import pandas as pd\n",
    "import numpy as np\n",
    "import os\n",
    "from datetime import datetime\n",
    "from keras.preprocessing.text import Tokenizer\n",
    "from keras.preprocessing.sequence import pad_sequences\n",
    "\n",
    "from keras.utils import to_categorical, layer_utils, plot_model\n",
    "\n",
    "from keras.layers import (Embedding, Input, Dense, Dropout, \n",
    "                          Activation, Conv1D, MaxPooling1D, Flatten, concatenate, Reshape)\n",
    "from keras.models import Model, Sequential\n",
    "from keras.optimizers import rmsprop\n",
    "from keras.callbacks import TensorBoard, Callback, ModelCheckpoint\n",
    "import keras.backend as K\n",
    "from keras.losses import binary_crossentropy\n",
    "\n",
    "from sklearn.preprocessing import LabelEncoder, MultiLabelBinarizer\n",
    "from sklearn.metrics import confusion_matrix, f1_score, precision_score, recall_score \n",
    "from sklearn.metrics import precision_recall_fscore_support, classification_report\n",
    "from sklearn.utils import class_weight\n",
    "\n",
    "import tensorflow as tf\n",
    "\n",
    "import matplotlib.pyplot as plt\n",
    "%matplotlib inline\n",
    "\n",
    "import functools\n",
    "\n",
    "import h5py\n",
    "\n",
    "from scipy import sparse\n",
    "import time\n"
   ]
  },
  {
   "cell_type": "markdown",
   "metadata": {},
   "source": [
    "### Environmental vars"
   ]
  },
  {
   "cell_type": "code",
   "execution_count": 2,
   "metadata": {
    "scrolled": true
   },
   "outputs": [],
   "source": [
    "DATADIR=\"/data\""
   ]
  },
  {
   "cell_type": "markdown",
   "metadata": {},
   "source": [
    "### Print data version"
   ]
  },
  {
   "cell_type": "code",
   "execution_count": 3,
   "metadata": {},
   "outputs": [
    {
     "name": "stdout",
     "output_type": "stream",
     "text": [
      "algorithm running on data extracted from content store on /data\n"
     ]
    }
   ],
   "source": [
    "print('algorithm running on data extracted from content store on {}'.format(DATADIR))"
   ]
  },
  {
   "cell_type": "markdown",
   "metadata": {},
   "source": [
    "## Hyperparameters"
   ]
  },
  {
   "cell_type": "markdown",
   "metadata": {},
   "source": [
    "Intuition for POS_RATIO is that it penalises the prediction of zero for everything, which is attractive to the model because the multilabel y matrix is super sparse. \n",
    "\n",
    "Increasing POS_RATIO should penalise predicting zeros more."
   ]
  },
  {
   "cell_type": "code",
   "execution_count": 4,
   "metadata": {
    "scrolled": true
   },
   "outputs": [],
   "source": [
    "#MAX_NB_WORDS\n",
    "MAX_SEQUENCE_LENGTH =1000\n",
    "EMBEDDING_DIM = 100 # keras embedding layer output_dim = Dimension of the dense embedding\n",
    "P_THRESHOLD = 0.5 #Threshold for probability of being assigned to class\n",
    "POS_RATIO = 0.5 #ratio of positive to negative for each class in weighted binary cross entropy loss function\n",
    "NUM_WORDS=20000 #keras tokenizer num_words: None or int. Maximum number of words to work with \n",
    "#(if set, tokenization will be restricted to the top num_words most common words in the dataset)."
   ]
  },
  {
   "cell_type": "markdown",
   "metadata": {},
   "source": [
    "### Read in data"
   ]
  },
  {
   "cell_type": "code",
   "execution_count": 5,
   "metadata": {
    "scrolled": true
   },
   "outputs": [],
   "source": [
    "train = np.load(os.path.join(DATADIR, 'train_arrays.npz'))"
   ]
  },
  {
   "cell_type": "code",
   "execution_count": 6,
   "metadata": {},
   "outputs": [
    {
     "data": {
      "text/plain": [
       "['x', 'meta', 'title', 'desc', 'y']"
      ]
     },
     "execution_count": 6,
     "metadata": {},
     "output_type": "execute_result"
    }
   ],
   "source": [
    "train.files"
   ]
  },
  {
   "cell_type": "code",
   "execution_count": 7,
   "metadata": {},
   "outputs": [
    {
     "name": "stdout",
     "output_type": "stream",
     "text": [
      "x_train.shape = (161020, 1000)\n",
      "meta_train.shape = (161020, 452)\n",
      "title_train.shape = (161020, 10000)\n",
      "desc_train.shape = (161020, 10000)\n",
      "y_train.shape = (161020, 218)\n"
     ]
    }
   ],
   "source": [
    "x_train = sparse.csr_matrix(train['x'].all()).todense()\n",
    "meta_train = sparse.csr_matrix(train['meta'].all()).todense()\n",
    "title_train = sparse.csr_matrix(train['title'].all()).todense()\n",
    "desc_train = sparse.csr_matrix(train['desc'].all()).todense()\n",
    "y_train = sparse.csr_matrix(train['y'].all()).todense()\n",
    "\n",
    "print('x_train.shape = {}'.format(x_train.shape))\n",
    "print('meta_train.shape = {}'.format(meta_train.shape))\n",
    "print('title_train.shape = {}'.format(title_train.shape))\n",
    "print('desc_train.shape = {}'.format(desc_train.shape))\n",
    "print('y_train.shape = {}'.format(y_train.shape))"
   ]
  },
  {
   "cell_type": "code",
   "execution_count": 8,
   "metadata": {
    "scrolled": true
   },
   "outputs": [],
   "source": [
    "dev = np.load(os.path.join(DATADIR, 'dev_arrays.npz'))"
   ]
  },
  {
   "cell_type": "code",
   "execution_count": 9,
   "metadata": {},
   "outputs": [
    {
     "name": "stdout",
     "output_type": "stream",
     "text": [
      "x_dev.shape = (10377, 1000)\n",
      "meta_dev.shape = (10377, 452)\n",
      "title_dev.shape = (10377, 10000)\n",
      "desc_dev.shape = (10377, 10000)\n",
      "y_dev.shape = (10377, 218)\n"
     ]
    }
   ],
   "source": [
    "x_dev = sparse.csr_matrix(dev['x'].all()).todense()\n",
    "meta_dev = sparse.csr_matrix(dev['meta'].all()).todense()\n",
    "title_dev = sparse.csr_matrix(dev['title'].all()).todense()\n",
    "desc_dev = sparse.csr_matrix(dev['desc'].all()).todense()\n",
    "y_dev = sparse.csr_matrix(dev['y'].all()).todense()\n",
    "\n",
    "print('x_dev.shape = {}'.format(x_dev.shape))\n",
    "print('meta_dev.shape = {}'.format(meta_dev.shape))\n",
    "print('title_dev.shape = {}'.format(title_dev.shape))\n",
    "print('desc_dev.shape = {}'.format(desc_dev.shape))\n",
    "print('y_dev.shape = {}'.format(y_dev.shape))"
   ]
  },
  {
   "cell_type": "code",
   "execution_count": 10,
   "metadata": {
    "scrolled": true
   },
   "outputs": [],
   "source": [
    "test = np.load(os.path.join(DATADIR, 'test_arrays.npz'))"
   ]
  },
  {
   "cell_type": "code",
   "execution_count": 11,
   "metadata": {},
   "outputs": [
    {
     "name": "stdout",
     "output_type": "stream",
     "text": [
      "x_test.shape = (10379, 1000)\n",
      "meta_test.shape = (10379, 452)\n",
      "title_test.shape = (10379, 10000)\n",
      "desc_test.shape = (10379, 10000)\n",
      "y_test.shape = (10379, 218)\n"
     ]
    }
   ],
   "source": [
    "x_test = sparse.csr_matrix(test['x'].all()).todense()\n",
    "meta_test = sparse.csr_matrix(test['meta'].all()).todense()\n",
    "title_test = sparse.csr_matrix(test['title'].all()).todense()\n",
    "desc_test = sparse.csr_matrix(test['desc'].all()).todense()\n",
    "y_test = sparse.csr_matrix(test['y'].all()).todense()\n",
    "\n",
    "print('x_test.shape = {}'.format(x_test.shape))\n",
    "print('meta_test.shape = {}'.format(meta_test.shape))\n",
    "print('title_test.shape = {}'.format(title_test.shape))\n",
    "print('desc_test.shape = {}'.format(desc_test.shape))\n",
    "print('y_test.shape = {}'.format(y_test.shape))"
   ]
  },
  {
   "cell_type": "markdown",
   "metadata": {
    "scrolled": true
   },
   "source": [
    "#### previous shapes in old data \n",
    "Shape of x_train: (150870, 1000)\n",
    "Shape of metax_train: (150870, 436)\n",
    "Shape of titlex_train: (150870, 10000)\n",
    "Shape of descx_train: (150870, 10000)\n",
    "Shape of y_train: (150870, 210)\n",
    "\n",
    "Shape of x_dev: (9234, 1000)\n",
    "Shape of meta_dev: (9234, 436)\n",
    "Shape of titlex_dev: (9234, 10000)\n",
    "Shape of descx_dev: (9234, 10000)\n",
    "Shape of y_dev: (9234, 210)\n",
    "\n",
    "Shape of x_test: (9234, 1000)\n",
    "Shape of metax_test: (9234, 436)\n",
    "Shape of titlex_test: (9234, 10000)\n",
    "Shape of descx_test: (9234, 10000)\n",
    "Shape of y_test: (9234, 210)"
   ]
  },
  {
   "cell_type": "markdown",
   "metadata": {},
   "source": [
    "### preparing the Embedding layer\n"
   ]
  },
  {
   "cell_type": "code",
   "execution_count": 12,
   "metadata": {},
   "outputs": [],
   "source": [
    "import json\n",
    "from collections import OrderedDict\n",
    "\n",
    "def load_tokenizer_from_file(filename):\n",
    "    \n",
    "    tokenizer = Tokenizer()\n",
    "\n",
    "    with open(filename, 'r') as infile:\n",
    "        tokenizer_data = json.load(infile)\n",
    "\n",
    "    tokenizer.word_counts = OrderedDict(tokenizer_data['word_counts'])\n",
    "    tokenizer.word_docs = tokenizer_data['word_docs']\n",
    "    tokenizer.word_index = tokenizer_data['word_index']\n",
    "    tokenizer.document_count = tokenizer_data['document_count']\n",
    "    tokenizer.index_docs = tokenizer_data['index_docs']\n",
    "\n",
    "    return tokenizer\n",
    "\n",
    "tokenizer_combined_text = load_tokenizer_from_file(os.path.join(DATADIR, \"combined_text_tokenizer.json\"))"
   ]
  },
  {
   "cell_type": "code",
   "execution_count": 13,
   "metadata": {
    "scrolled": true
   },
   "outputs": [],
   "source": [
    "embedding_layer = Embedding(len(tokenizer_combined_text.word_index) + 1, \n",
    "                            EMBEDDING_DIM, \n",
    "                            input_length=MAX_SEQUENCE_LENGTH)"
   ]
  },
  {
   "cell_type": "markdown",
   "metadata": {},
   "source": [
    "An Embedding layer should be fed sequences of integers, i.e. a 2D input of shape (samples, indices). These input sequences should be padded so that they all have the same length in a batch of input data (although an Embedding layer is capable of processing sequence of heterogenous length, if you don't pass an explicit input_length argument to the layer).\n",
    "\n",
    "All that the Embedding layer does is to map the integer inputs to the vectors found at the corresponding index in the embedding matrix, i.e. the sequence [1, 2] would be converted to [embeddings[1], embeddings[2]]. This means that the output of the Embedding layer will be a 3D tensor of shape (samples, sequence_length, embedding_dim)."
   ]
  },
  {
   "cell_type": "markdown",
   "metadata": {},
   "source": [
    "### Estimate class weights for unbalanced datasets.\n",
    "paramter to model.fit = __class_weight__: Optional dictionary mapping class indices (integers) to a weight (float) value, used for weighting the loss function (during training only). This can be useful to tell the model to \"pay more attention\" to samples from an under-represented class.\n",
    "\n",
    "Implement class_weight from sklearn:\n",
    "\n",
    "- Import the module \n",
    "\n",
    "`from sklearn.utils import class_weight`\n",
    "- calculate the class weight, If ‘balanced’, class weights will be given by n_samples / (n_classes * np.bincount(y)):\n",
    "\n",
    "`class_weight = class_weight.compute_class_weight('balanced', np.unique(y_train), y_train)`\n",
    "\n",
    "- change it to a dict in order to work with Keras.\n",
    "\n",
    "`class_weight_dict = dict(enumerate(class_weight))`\n",
    "\n",
    "- Add to model fitting\n",
    "\n",
    "`model.fit(X_train, y_train, class_weight=class_weight)`"
   ]
  },
  {
   "cell_type": "code",
   "execution_count": 14,
   "metadata": {
    "scrolled": true
   },
   "outputs": [],
   "source": [
    "# class_weight = class_weight.compute_class_weight('balanced', np.unique(y_train), y_train)\n",
    "# class_weight_dict = dict(enumerate(class_weight))"
   ]
  },
  {
   "cell_type": "markdown",
   "metadata": {},
   "source": [
    "### Custom loss function"
   ]
  },
  {
   "cell_type": "code",
   "execution_count": 15,
   "metadata": {
    "scrolled": true
   },
   "outputs": [
    {
     "name": "stdout",
     "output_type": "stream",
     "text": [
      "4.00756\n",
      "8.01512\n"
     ]
    }
   ],
   "source": [
    "class WeightedBinaryCrossEntropy(object):\n",
    "\n",
    "    def __init__(self, pos_ratio):\n",
    "        neg_ratio = 1. - pos_ratio\n",
    "        #self.pos_ratio = tf.constant(pos_ratio, tf.float32)\n",
    "        self.pos_ratio = pos_ratio\n",
    "        #self.weights = tf.constant(neg_ratio / pos_ratio, tf.float32)\n",
    "        self.weights = neg_ratio / pos_ratio\n",
    "        self.__name__ = \"weighted_binary_crossentropy({0})\".format(pos_ratio)\n",
    "\n",
    "    def __call__(self, y_true, y_pred):\n",
    "        return self.weighted_binary_crossentropy(y_true, y_pred)\n",
    "\n",
    "    def weighted_binary_crossentropy(self, y_true, y_pred):\n",
    "            # Transform to logits\n",
    "            epsilon = tf.convert_to_tensor(K.common._EPSILON, y_pred.dtype.base_dtype)\n",
    "            y_pred = tf.clip_by_value(y_pred, epsilon, 1 - epsilon)\n",
    "            y_pred = tf.log(y_pred / (1 - y_pred))\n",
    "\n",
    "            cost = tf.nn.weighted_cross_entropy_with_logits(y_true, y_pred, self.weights)\n",
    "            return K.mean(cost * self.pos_ratio, axis=-1)\n",
    "    \n",
    "y_true_arr = np.array([0,1,0,1], dtype=\"float32\")\n",
    "y_pred_arr = np.array([0,0,1,1], dtype=\"float32\")\n",
    "y_true = tf.constant(y_true_arr)\n",
    "y_pred = tf.constant(y_pred_arr)\n",
    "\n",
    "with tf.Session().as_default(): \n",
    "    print(WeightedBinaryCrossEntropy(0.5)(y_true, y_pred).eval())\n",
    "    print(binary_crossentropy(y_true, y_pred).eval())\n"
   ]
  },
  {
   "cell_type": "markdown",
   "metadata": {},
   "source": [
    "### difficulty getting global precision/recall metrics . CAUTION interpreting monitoring metrics\n",
    "fcholltet: \"Basically these are all global metrics that were approximated\n",
    "batch-wise, which is more misleading than helpful. This was mentioned in\n",
    "the docs but it's much cleaner to remove them altogether. It was a mistake\n",
    "to merge them in the first place.\""
   ]
  },
  {
   "cell_type": "code",
   "execution_count": 16,
   "metadata": {
    "scrolled": true
   },
   "outputs": [],
   "source": [
    "def f1(y_true, y_pred):\n",
    "    \"\"\"Use Recall  and precision metrics to calculate harmonic mean (F1 score).\n",
    "\n",
    "        Only computes a batch-wise average of recall.\n",
    "\n",
    "        Computes the recall, a metric for multi-label classification of\n",
    "        how many relevant items are selected.\n",
    "        \"\"\"\n",
    "    true_positives = K.sum(K.round(K.clip(y_true * y_pred, 0, 1)))\n",
    "    predicted_positives = K.sum(K.round(K.clip(y_pred, 0, 1)))\n",
    "    possible_positives = K.sum(K.round(K.clip(y_true, 0, 1)))\n",
    "    precision = true_positives / (predicted_positives + K.epsilon())\n",
    "    recall = true_positives / (possible_positives + K.epsilon())\n",
    "    f1 = 2*((precision*recall)/(precision+recall))\n",
    "    \n",
    "    return f1"
   ]
  },
  {
   "cell_type": "markdown",
   "metadata": {},
   "source": [
    "## Training a 1D convnet"
   ]
  },
  {
   "cell_type": "markdown",
   "metadata": {},
   "source": [
    "### 1. Create model"
   ]
  },
  {
   "cell_type": "code",
   "execution_count": 17,
   "metadata": {
    "scrolled": true
   },
   "outputs": [],
   "source": [
    "NB_CLASSES = y_train.shape[1]\n",
    "NB_METAVARS = meta_train.shape[1]\n",
    "\n",
    "\n",
    "\n",
    "sequence_input = Input(shape=(MAX_SEQUENCE_LENGTH,), dtype='int32', name='wordindex') #MAX_SEQUENCE_LENGTH\n",
    "embedded_sequences = embedding_layer(sequence_input)\n",
    "x = Dropout(0.2, name = 'dropout_embedded')(embedded_sequences)\n",
    "\n",
    "x = Conv1D(128, 5, activation='relu', name = 'conv0')(x)\n",
    "\n",
    "x = MaxPooling1D(5, name = 'max_pool0')(x)\n",
    "\n",
    "x = Dropout(0.5, name = 'dropout0')(x)\n",
    "\n",
    "x = Conv1D(128, 5, activation='relu', name = 'conv1')(x)\n",
    "\n",
    "x = MaxPooling1D(5 , name = 'max_pool1')(x)\n",
    "\n",
    "x = Conv1D(128, 5, activation='relu', name = 'conv2')(x)\n",
    "\n",
    "x = MaxPooling1D(35, name = 'global_max_pool')(x)  # global max pooling\n",
    "\n",
    "x = Flatten()(x) #reduce dimensions from 3 to 2; convert to vector + FULLYCONNECTED\n",
    "\n",
    "meta_input = Input(shape=(NB_METAVARS,), name='meta')\n",
    "meta_hidden = Dense(128, activation='relu', name = 'hidden_meta')(meta_input)\n",
    "meta_hidden = Dropout(0.2, name = 'dropout_meta')(meta_hidden)\n",
    "\n",
    "\n",
    "title_input = Input(shape=(title_train.shape[1],), name='titles')\n",
    "title_hidden = Dense(128, activation='relu', name = 'hidden_title')(title_input)\n",
    "title_hidden = Dropout(0.2, name = 'dropout_title')(title_hidden)\n",
    "\n",
    "desc_input = Input(shape=(desc_train.shape[1],), name='descs')\n",
    "desc_hidden = Dense(128, activation='relu', name = 'hidden_desc')(desc_input)\n",
    "desc_hidden = Dropout(0.2, name = 'dropout_desc')(desc_hidden)\n",
    "\n",
    "concatenated = concatenate([meta_hidden, title_hidden, desc_hidden, x])\n",
    "\n",
    "x = Dense(400, activation='relu', name = 'fully_connected0')(concatenated)\n",
    "\n",
    "x = Dropout(0.2, name = 'dropout1')(x)\n",
    "\n",
    "x = Dense(NB_CLASSES, activation='sigmoid', name = 'fully_connected1')(x)\n",
    "\n",
    "# # The Model class turns an input tensor and output tensor into a model\n",
    "# This creates Keras model instance, will use this instance to train/test the model.\n",
    "model = Model(inputs=[meta_input, title_input, desc_input, sequence_input], outputs=x)"
   ]
  },
  {
   "cell_type": "code",
   "execution_count": 18,
   "metadata": {
    "scrolled": true
   },
   "outputs": [
    {
     "name": "stdout",
     "output_type": "stream",
     "text": [
      "__________________________________________________________________________________________________\n",
      "Layer (type)                    Output Shape         Param #     Connected to                     \n",
      "==================================================================================================\n",
      "wordindex (InputLayer)          (None, 1000)         0                                            \n",
      "__________________________________________________________________________________________________\n",
      "embedding_1 (Embedding)         (None, 1000, 100)    31285300    wordindex[0][0]                  \n",
      "__________________________________________________________________________________________________\n",
      "dropout_embedded (Dropout)      (None, 1000, 100)    0           embedding_1[0][0]                \n",
      "__________________________________________________________________________________________________\n",
      "conv0 (Conv1D)                  (None, 996, 128)     64128       dropout_embedded[0][0]           \n",
      "__________________________________________________________________________________________________\n",
      "max_pool0 (MaxPooling1D)        (None, 199, 128)     0           conv0[0][0]                      \n",
      "__________________________________________________________________________________________________\n",
      "dropout0 (Dropout)              (None, 199, 128)     0           max_pool0[0][0]                  \n",
      "__________________________________________________________________________________________________\n",
      "conv1 (Conv1D)                  (None, 195, 128)     82048       dropout0[0][0]                   \n",
      "__________________________________________________________________________________________________\n",
      "max_pool1 (MaxPooling1D)        (None, 39, 128)      0           conv1[0][0]                      \n",
      "__________________________________________________________________________________________________\n",
      "meta (InputLayer)               (None, 452)          0                                            \n",
      "__________________________________________________________________________________________________\n",
      "titles (InputLayer)             (None, 10000)        0                                            \n",
      "__________________________________________________________________________________________________\n",
      "descs (InputLayer)              (None, 10000)        0                                            \n",
      "__________________________________________________________________________________________________\n",
      "conv2 (Conv1D)                  (None, 35, 128)      82048       max_pool1[0][0]                  \n",
      "__________________________________________________________________________________________________\n",
      "hidden_meta (Dense)             (None, 128)          57984       meta[0][0]                       \n",
      "__________________________________________________________________________________________________\n",
      "hidden_title (Dense)            (None, 128)          1280128     titles[0][0]                     \n",
      "__________________________________________________________________________________________________\n",
      "hidden_desc (Dense)             (None, 128)          1280128     descs[0][0]                      \n",
      "__________________________________________________________________________________________________\n",
      "global_max_pool (MaxPooling1D)  (None, 1, 128)       0           conv2[0][0]                      \n",
      "__________________________________________________________________________________________________\n",
      "dropout_meta (Dropout)          (None, 128)          0           hidden_meta[0][0]                \n",
      "__________________________________________________________________________________________________\n",
      "dropout_title (Dropout)         (None, 128)          0           hidden_title[0][0]               \n",
      "__________________________________________________________________________________________________\n",
      "dropout_desc (Dropout)          (None, 128)          0           hidden_desc[0][0]                \n",
      "__________________________________________________________________________________________________\n",
      "flatten_1 (Flatten)             (None, 128)          0           global_max_pool[0][0]            \n",
      "__________________________________________________________________________________________________\n",
      "concatenate_1 (Concatenate)     (None, 512)          0           dropout_meta[0][0]               \n",
      "                                                                 dropout_title[0][0]              \n",
      "                                                                 dropout_desc[0][0]               \n",
      "                                                                 flatten_1[0][0]                  \n",
      "__________________________________________________________________________________________________\n",
      "fully_connected0 (Dense)        (None, 400)          205200      concatenate_1[0][0]              \n",
      "__________________________________________________________________________________________________\n",
      "dropout1 (Dropout)              (None, 400)          0           fully_connected0[0][0]           \n",
      "__________________________________________________________________________________________________\n",
      "fully_connected1 (Dense)        (None, 218)          87418       dropout1[0][0]                   \n",
      "==================================================================================================\n",
      "Total params: 34,424,382\n",
      "Trainable params: 34,424,382\n",
      "Non-trainable params: 0\n",
      "__________________________________________________________________________________________________\n"
     ]
    }
   ],
   "source": [
    "model.summary()"
   ]
  },
  {
   "cell_type": "markdown",
   "metadata": {},
   "source": [
    "### Tensorboard callbacks /metrics /monitor training"
   ]
  },
  {
   "cell_type": "markdown",
   "metadata": {},
   "source": [
    "<span style=\"color:red\"> **Size of these files is killing storage during training. Is it histograms?**</span>"
   ]
  },
  {
   "cell_type": "code",
   "execution_count": 19,
   "metadata": {
    "scrolled": true
   },
   "outputs": [],
   "source": [
    "tb = TensorBoard(log_dir='./learn_embedding_logs', histogram_freq=1, write_graph=True, write_images=False)"
   ]
  },
  {
   "cell_type": "code",
   "execution_count": 20,
   "metadata": {
    "scrolled": true
   },
   "outputs": [],
   "source": [
    "CHECKPOINT_PATH = os.path.join(DATADIR, 'model_checkpoint.hdf5')\n",
    "\n",
    "cp = ModelCheckpoint(\n",
    "                     filepath = CHECKPOINT_PATH, \n",
    "                     monitor='val_loss', \n",
    "                     verbose=0, \n",
    "                     save_best_only=False, \n",
    "                     save_weights_only=False, \n",
    "                     mode='auto', \n",
    "                     period=1\n",
    "                    )"
   ]
  },
  {
   "cell_type": "code",
   "execution_count": 21,
   "metadata": {
    "scrolled": true
   },
   "outputs": [],
   "source": [
    "from keras.callbacks import EarlyStopping\n",
    "early_stopping = EarlyStopping(monitor='val_loss', patience=2)\n",
    "#model.fit(x, y, validation_split=0.2, callbacks=[early_stopping])"
   ]
  },
  {
   "cell_type": "markdown",
   "metadata": {},
   "source": [
    "### 2 & 3. Train & compile model"
   ]
  },
  {
   "cell_type": "code",
   "execution_count": 22,
   "metadata": {
    "scrolled": true
   },
   "outputs": [
    {
     "name": "stdout",
     "output_type": "stream",
     "text": [
      "Train on 161020 samples, validate on 10377 samples\n",
      "Epoch 1/10\n",
      "161020/161020 [==============================] - 117s 729us/step - loss: 0.0096 - binary_accuracy: 0.9946 - f1: nan - val_loss: 0.0048 - val_binary_accuracy: 0.9968 - val_f1: 0.7391\n",
      "Epoch 2/10\n",
      "161020/161020 [==============================] - 109s 675us/step - loss: 0.0033 - binary_accuracy: 0.9978 - f1: 0.8613 - val_loss: 0.0042 - val_binary_accuracy: 0.9972 - val_f1: 0.7824\n",
      "Epoch 3/10\n",
      "161020/161020 [==============================] - 108s 674us/step - loss: 0.0025 - binary_accuracy: 0.9984 - f1: 0.8987 - val_loss: 0.0041 - val_binary_accuracy: 0.9973 - val_f1: 0.7954\n",
      "Epoch 4/10\n",
      "161020/161020 [==============================] - 108s 674us/step - loss: 0.0021 - binary_accuracy: 0.9986 - f1: 0.9167 - val_loss: 0.0040 - val_binary_accuracy: 0.9974 - val_f1: 0.8044\n",
      "Epoch 5/10\n",
      "161020/161020 [==============================] - 108s 673us/step - loss: 0.0018 - binary_accuracy: 0.9988 - f1: 0.9279 - val_loss: 0.0041 - val_binary_accuracy: 0.9973 - val_f1: 0.8038\n",
      "Epoch 6/10\n",
      "161020/161020 [==============================] - 109s 674us/step - loss: 0.0016 - binary_accuracy: 0.9989 - f1: 0.9356 - val_loss: 0.0043 - val_binary_accuracy: 0.9974 - val_f1: 0.8054\n"
     ]
    }
   ],
   "source": [
    "# metrics callback causes: CCCCCCR55555555511155\n",
    "# So disable for now\n",
    "from keras.utils import multi_gpu_model\n",
    "\n",
    "# Replicates `model` on 8 GPUs.\n",
    "# This assumes that your machine has 8 available GPUs.\n",
    "parallel_model = multi_gpu_model(model, gpus=8)\n",
    "parallel_model.compile(loss=WeightedBinaryCrossEntropy(POS_RATIO),\n",
    "              optimizer='rmsprop',\n",
    "              metrics=['binary_accuracy', f1])\n",
    "\n",
    "# This `fit` call will be distributed on 8 GPUs.\n",
    "# Since the batch size is 256, each GPU will process 32 samples.\n",
    "history = parallel_model.fit(\n",
    "    {'meta': meta_train, 'titles': title_train, 'descs': desc_train, 'wordindex': x_train},\n",
    "    y_train, \n",
    "    validation_data=([meta_dev, title_dev, desc_dev, x_dev], y_dev), \n",
    "    epochs=10, batch_size=128, callbacks=[early_stopping]\n",
    ")\n",
    "\n"
   ]
  },
  {
   "cell_type": "code",
   "execution_count": 23,
   "metadata": {
    "scrolled": true
   },
   "outputs": [
    {
     "data": {
      "text/plain": [
       "dict_keys(['val_loss', 'val_binary_accuracy', 'val_f1', 'loss', 'binary_accuracy', 'f1'])"
      ]
     },
     "execution_count": 23,
     "metadata": {},
     "output_type": "execute_result"
    }
   ],
   "source": [
    "history_dict = history.history\n",
    "history_dict.keys()"
   ]
  },
  {
   "cell_type": "code",
   "execution_count": 26,
   "metadata": {
    "scrolled": true
   },
   "outputs": [
    {
     "data": {
      "image/png": "[encoded data removed]",
      "text/plain": [
       "<matplotlib.figure.Figure at 0x7fdaa38e6e80>"
      ]
     },
     "metadata": {},
     "output_type": "display_data"
    }
   ],
   "source": [
    "loss_values = history_dict['loss']\n",
    "val_loss_values = history_dict['val_loss']\n",
    "\n",
    "epochs = range(1, 7)\n",
    "\n",
    "plt.plot(epochs, loss_values, 'bo', label='Training loss')           \n",
    "plt.plot(epochs, val_loss_values, 'b', label='Validation loss')      \n",
    "plt.title('Training and validation loss')\n",
    "plt.xlabel('Epochs')\n",
    "plt.ylabel('Loss')\n",
    "plt.legend()\n",
    "\n",
    "plt.show()"
   ]
  },
  {
   "cell_type": "code",
   "execution_count": 27,
   "metadata": {
    "scrolled": true
   },
   "outputs": [
    {
     "data": {
      "image/png": "[encoded data removed]",
      "text/plain": [
       "<matplotlib.figure.Figure at 0x7fdaa38414e0>"
      ]
     },
     "metadata": {},
     "output_type": "display_data"
    }
   ],
   "source": [
    "plt.clf()    \n",
    "\n",
    "f1_values = history_dict['f1']\n",
    "val_f1_values = history_dict['val_f1']\n",
    "\n",
    "plt.plot(epochs, f1_values, 'bo', label='Training f1')\n",
    "plt.plot(epochs, val_f1_values, 'b', label='Validation f1')\n",
    "plt.title('Training and validation batch-level f1-micro')\n",
    "plt.xlabel('Epochs')\n",
    "plt.ylabel('F1-micro')\n",
    "plt.legend()\n",
    "\n",
    "plt.show()"
   ]
  },
  {
   "cell_type": "markdown",
   "metadata": {},
   "source": [
    "### Save results arrays"
   ]
  },
  {
   "cell_type": "code",
   "execution_count": 28,
   "metadata": {},
   "outputs": [],
   "source": [
    "def to_file(array,name):\n",
    "    df = pd.DataFrame(data = array.tolist(),columns=[i for i in range(1,y_train.shape[1]+1)])\n",
    "    df.to_csv(os.path.join(DATADIR, name+'.csv.gz'),compression='gzip',index=False)"
   ]
  },
  {
   "cell_type": "code",
   "execution_count": 29,
   "metadata": {},
   "outputs": [
    {
     "data": {
      "text/plain": [
       "'_1149_0603_'"
      ]
     },
     "execution_count": 29,
     "metadata": {},
     "output_type": "execute_result"
    }
   ],
   "source": [
    "date_run = time.strftime(\"_%H%M_%d%m_\")\n",
    "date_run"
   ]
  },
  {
   "cell_type": "code",
   "execution_count": 30,
   "metadata": {},
   "outputs": [],
   "source": [
    "y_prob = parallel_model.predict([meta_train, title_train, desc_train, x_train])"
   ]
  },
  {
   "cell_type": "code",
   "execution_count": 31,
   "metadata": {},
   "outputs": [],
   "source": [
    "to_file(y_prob,\"train_results\"+date_run)"
   ]
  },
  {
   "cell_type": "code",
   "execution_count": 32,
   "metadata": {},
   "outputs": [],
   "source": [
    "y_pred = y_prob.copy()\n",
    "y_pred[y_pred>=P_THRESHOLD] = 1\n",
    "y_pred[y_pred<P_THRESHOLD] = 0"
   ]
  },
  {
   "cell_type": "code",
   "execution_count": 33,
   "metadata": {
    "scrolled": true
   },
   "outputs": [
    {
     "name": "stdout",
     "output_type": "stream",
     "text": [
      "micro: (0.96550705420418204, 0.95414008846763598, 0.95978991725772356, None)\n",
      "macro: (0.97665066927709854, 0.97615234920539118, 0.97619486361415109, None)\n",
      "weightedmacro: (0.96555963463189509, 0.95414008846763598, 0.95946660957512531, None)\n"
     ]
    }
   ],
   "source": [
    "print('micro: {}'.format(precision_recall_fscore_support(y_train, y_pred, average='micro', sample_weight=None)))\n",
    "print('macro: {}'.format(precision_recall_fscore_support(y_train, y_pred, average='macro', sample_weight=None)))\n",
    "print('weightedmacro: {}'.format(precision_recall_fscore_support(y_train, y_pred, average='weighted', sample_weight=None)))"
   ]
  },
  {
   "cell_type": "code",
   "execution_count": 34,
   "metadata": {},
   "outputs": [],
   "source": [
    "y_prob_dev = parallel_model.predict([meta_dev, title_dev, desc_dev, x_dev])"
   ]
  },
  {
   "cell_type": "code",
   "execution_count": 35,
   "metadata": {},
   "outputs": [],
   "source": [
    "to_file(y_prob_dev,\"dev_results\"+date_run)"
   ]
  },
  {
   "cell_type": "code",
   "execution_count": 36,
   "metadata": {},
   "outputs": [],
   "source": [
    "y_pred_dev = y_prob_dev.copy()\n",
    "y_pred_dev[y_pred_dev>=P_THRESHOLD] = 1\n",
    "y_pred_dev[y_pred_dev<P_THRESHOLD] = 0"
   ]
  },
  {
   "cell_type": "code",
   "execution_count": 37,
   "metadata": {},
   "outputs": [
    {
     "name": "stdout",
     "output_type": "stream",
     "text": [
      "micro: (0.82705689725747034, 0.78516839378238346, 0.80556847631071826, None)\n",
      "macro: (0.74028850220694231, 0.80507739477918894, 0.76078350782955473, None)\n",
      "weightedmacro: (0.83193502024226085, 0.78516839378238346, 0.80442425272928553, None)\n"
     ]
    },
    {
     "name": "stderr",
     "output_type": "stream",
     "text": [
      "/home/ubuntu/anaconda3/envs/tensorflow_p36/lib/python3.6/site-packages/sklearn/metrics/classification.py:1135: UndefinedMetricWarning: Precision and F-score are ill-defined and being set to 0.0 in labels with no predicted samples.\n",
      "  'precision', 'predicted', average, warn_for)\n",
      "/home/ubuntu/anaconda3/envs/tensorflow_p36/lib/python3.6/site-packages/sklearn/metrics/classification.py:1137: UndefinedMetricWarning: Recall and F-score are ill-defined and being set to 0.0 in labels with no true samples.\n",
      "  'recall', 'true', average, warn_for)\n"
     ]
    }
   ],
   "source": [
    "print('micro: {}'.format(precision_recall_fscore_support(y_dev, y_pred_dev, average='micro', sample_weight=None)))\n",
    "print('macro: {}'.format(precision_recall_fscore_support(y_dev, y_pred_dev, average='macro', sample_weight=None)))\n",
    "print('weightedmacro: {}'.format(precision_recall_fscore_support(y_dev, y_pred_dev, average='weighted', sample_weight=None)))"
   ]
  },
  {
   "cell_type": "code",
   "execution_count": 38,
   "metadata": {},
   "outputs": [
    {
     "name": "stdout",
     "output_type": "stream",
     "text": [
      "weightedmacro: (array([ 0.        ,  0.8       ,  0.87903226,  0.72222222,  1.        ,\n",
      "        0.6122449 ,  0.55555556,  0.80769231,  1.        ,  0.9       ,\n",
      "        1.        ,  0.8       ,  0.        ,  1.        ,  0.625     ,\n",
      "        0.        ,  0.75      ,  1.        ,  0.        ,  0.81481481,\n",
      "        0.88653367,  0.74      ,  0.87628866,  0.        ,  1.        ,\n",
      "        0.        ,  0.75      ,  1.        ,  1.        ,  0.88235294,\n",
      "        0.57142857,  0.8       ,  0.71428571,  0.        ,  0.71428571,\n",
      "        0.83944954,  0.83333333,  0.57894737,  0.69470405,  0.80952381,\n",
      "        0.71929825,  0.        ,  0.69230769,  0.86826347,  1.        ,\n",
      "        1.        ,  0.71428571,  1.        ,  0.        ,  0.83333333,\n",
      "        0.75      ,  1.        ,  1.        ,  0.54545455,  1.        ,\n",
      "        1.        ,  1.        ,  0.        ,  0.9352518 ,  0.30769231,\n",
      "        0.73006135,  0.6       ,  0.875     ,  0.52941176,  0.8372093 ,\n",
      "        0.33333333,  0.73658537,  0.77777778,  1.        ,  0.98876404,\n",
      "        0.68181818,  1.        ,  1.        ,  1.        ,  0.72916667,\n",
      "        0.75757576,  0.91764706,  0.87029289,  1.        ,  0.83512545,\n",
      "        1.        ,  0.88888889,  0.81818182,  0.84337349,  0.80631579,\n",
      "        1.        ,  0.        ,  0.69767442,  0.        ,  1.        ,\n",
      "        0.875     ,  0.85714286,  1.        ,  0.8489011 ,  0.85843373,\n",
      "        0.81927711,  1.        ,  1.        ,  0.66666667,  0.875     ,\n",
      "        0.67741935,  0.73722628,  0.9260355 ,  0.63414634,  0.        ,\n",
      "        0.84210526,  0.66666667,  0.7804878 ,  0.        ,  0.4       ,\n",
      "        0.45454545,  1.        ,  0.55555556,  0.93333333,  0.8       ,\n",
      "        1.        ,  1.        ,  0.        ,  0.33333333,  0.72906404,\n",
      "        0.71111111,  0.68518519,  0.48275862,  0.75      ,  0.97297297,\n",
      "        0.96581197,  1.        ,  0.73333333,  1.        ,  0.98958333,\n",
      "        1.        ,  1.        ,  1.        ,  1.        ,  1.        ,\n",
      "        0.86486486,  0.46666667,  0.8460076 ,  0.82857143,  0.5       ,\n",
      "        1.        ,  1.        ,  1.        ,  1.        ,  0.80555556,\n",
      "        1.        ,  0.8       ,  0.85365854,  0.625     ,  1.        ,\n",
      "        1.        ,  0.        ,  0.93089431,  0.        ,  1.        ,\n",
      "        0.        ,  0.78787879,  0.97512438,  0.80769231,  0.92857143,\n",
      "        1.        ,  0.83333333,  0.90575916,  0.9625    ,  0.8627451 ,\n",
      "        0.8490566 ,  0.70588235,  0.68115942,  0.93589744,  0.84705882,\n",
      "        0.87179487,  1.        ,  1.        ,  1.        ,  1.        ,\n",
      "        0.70866142,  0.67857143,  0.86734694,  1.        ,  0.25      ,\n",
      "        0.        ,  1.        ,  1.        ,  0.73333333,  0.85714286,\n",
      "        0.82608696,  0.94174757,  0.71428571,  0.58064516,  0.82718447,\n",
      "        1.        ,  0.        ,  0.78632479,  0.88888889,  0.5       ,\n",
      "        1.        ,  1.        ,  0.74088542,  0.66666667,  0.70212766,\n",
      "        0.5       ,  0.90909091,  0.66666667,  0.94339623,  0.        ,\n",
      "        0.        ,  0.93641618,  0.83739837,  0.66666667,  0.625     ,\n",
      "        0.88888889,  0.79888268,  0.        ,  0.76470588,  1.        ,\n",
      "        0.        ,  1.        ,  0.96132597]), array([ 0.        ,  1.        ,  0.94782609,  0.92857143,  1.        ,\n",
      "        0.46875   ,  1.        ,  0.67741935,  1.        ,  0.75      ,\n",
      "        1.        ,  0.94117647,  0.        ,  1.        ,  0.83333333,\n",
      "        0.        ,  1.        ,  1.        ,  0.        ,  0.76923077,\n",
      "        0.71028971,  0.7254902 ,  0.89005236,  0.        ,  1.        ,\n",
      "        0.        ,  1.        ,  1.        ,  1.        ,  1.        ,\n",
      "        1.        ,  1.        ,  1.        ,  0.        ,  0.88235294,\n",
      "        0.7593361 ,  1.        ,  0.91666667,  0.62816901,  0.94444444,\n",
      "        0.45054945,  0.        ,  0.75      ,  0.82386364,  1.        ,\n",
      "        1.        ,  0.83333333,  1.        ,  0.        ,  0.96774194,\n",
      "        0.83458647,  1.        ,  1.        ,  1.        ,  1.        ,\n",
      "        1.        ,  1.        ,  0.        ,  0.8496732 ,  1.        ,\n",
      "        0.66111111,  1.        ,  1.        ,  1.        ,  0.87804878,\n",
      "        1.        ,  0.60159363,  0.66141732,  1.        ,  0.92631579,\n",
      "        0.83333333,  1.        ,  1.        ,  1.        ,  0.55555556,\n",
      "        0.89285714,  0.87640449,  0.76190476,  1.        ,  0.88593156,\n",
      "        1.        ,  0.72727273,  1.        ,  0.8       ,  0.86067416,\n",
      "        1.        ,  0.        ,  0.67039106,  0.        ,  1.        ,\n",
      "        1.        ,  1.        ,  1.        ,  0.85359116,  0.78296703,\n",
      "        0.8       ,  1.        ,  1.        ,  0.8       ,  0.93333333,\n",
      "        0.75      ,  0.84166667,  0.86944444,  0.92857143,  0.        ,\n",
      "        0.88888889,  1.        ,  0.96969697,  0.        ,  1.        ,\n",
      "        1.        ,  1.        ,  1.        ,  1.        ,  1.        ,\n",
      "        1.        ,  1.        ,  0.        ,  1.        ,  0.71497585,\n",
      "        0.86486486,  0.80434783,  0.77777778,  1.        ,  0.88888889,\n",
      "        0.904     ,  1.        ,  0.66165414,  1.        ,  0.95      ,\n",
      "        1.        ,  1.        ,  1.        ,  1.        ,  1.        ,\n",
      "        0.78923767,  1.        ,  0.87598425,  0.8877551 ,  1.        ,\n",
      "        1.        ,  1.        ,  1.        ,  1.        ,  0.77333333,\n",
      "        1.        ,  0.8       ,  0.72916667,  1.        ,  1.        ,\n",
      "        1.        ,  0.        ,  0.84501845,  0.        ,  1.        ,\n",
      "        0.        ,  0.89655172,  0.92890995,  0.54545455,  1.        ,\n",
      "        1.        ,  1.        ,  0.84390244,  0.77      ,  0.69109948,\n",
      "        0.95744681,  0.92307692,  0.7704918 ,  0.81564246,  0.74482759,\n",
      "        0.70833333,  1.        ,  1.        ,  1.        ,  1.        ,\n",
      "        0.60402685,  0.95      ,  0.70247934,  1.        ,  1.        ,\n",
      "        0.        ,  1.        ,  1.        ,  0.91666667,  1.        ,\n",
      "        0.95      ,  0.86607143,  0.83333333,  0.94736842,  0.72696246,\n",
      "        1.        ,  0.        ,  0.78632479,  1.        ,  1.        ,\n",
      "        1.        ,  1.        ,  0.61182796,  1.        ,  0.78571429,\n",
      "        1.        ,  0.90909091,  1.        ,  0.92592593,  0.        ,\n",
      "        0.        ,  0.90502793,  0.73049645,  0.88      ,  0.83333333,\n",
      "        0.77419355,  0.74479167,  0.        ,  1.        ,  1.        ,\n",
      "        0.        ,  1.        ,  0.96666667]), array([ 0.        ,  0.88888889,  0.91213389,  0.8125    ,  1.        ,\n",
      "        0.53097345,  0.71428571,  0.73684211,  1.        ,  0.81818182,\n",
      "        1.        ,  0.86486486,  0.        ,  1.        ,  0.71428571,\n",
      "        0.        ,  0.85714286,  1.        ,  0.        ,  0.79136691,\n",
      "        0.78868552,  0.73267327,  0.88311688,  0.        ,  1.        ,\n",
      "        0.        ,  0.85714286,  1.        ,  1.        ,  0.9375    ,\n",
      "        0.72727273,  0.88888889,  0.83333333,  0.        ,  0.78947368,\n",
      "        0.79738562,  0.90909091,  0.70967742,  0.65976331,  0.87179487,\n",
      "        0.55405405,  0.        ,  0.72      ,  0.84548105,  1.        ,\n",
      "        1.        ,  0.76923077,  1.        ,  0.        ,  0.89552239,\n",
      "        0.79003559,  1.        ,  1.        ,  0.70588235,  1.        ,\n",
      "        1.        ,  1.        ,  0.        ,  0.89041096,  0.47058824,\n",
      "        0.69387755,  0.75      ,  0.93333333,  0.69230769,  0.85714286,\n",
      "        0.5       ,  0.6622807 ,  0.71489362,  1.        ,  0.95652174,\n",
      "        0.75      ,  1.        ,  1.        ,  1.        ,  0.63063063,\n",
      "        0.81967213,  0.89655172,  0.8125    ,  1.        ,  0.8597786 ,\n",
      "        1.        ,  0.8       ,  0.9       ,  0.82111437,  0.8326087 ,\n",
      "        1.        ,  0.        ,  0.68376068,  0.        ,  1.        ,\n",
      "        0.93333333,  0.92307692,  1.        ,  0.85123967,  0.81896552,\n",
      "        0.80952381,  1.        ,  1.        ,  0.72727273,  0.90322581,\n",
      "        0.71186441,  0.78599222,  0.89684814,  0.75362319,  0.        ,\n",
      "        0.86486486,  0.8       ,  0.86486486,  0.        ,  0.57142857,\n",
      "        0.625     ,  1.        ,  0.71428571,  0.96551724,  0.88888889,\n",
      "        1.        ,  1.        ,  0.        ,  0.5       ,  0.72195122,\n",
      "        0.7804878 ,  0.74      ,  0.59574468,  0.85714286,  0.92903226,\n",
      "        0.9338843 ,  1.        ,  0.69565217,  1.        ,  0.96938776,\n",
      "        1.        ,  1.        ,  1.        ,  1.        ,  1.        ,\n",
      "        0.82532239,  0.63636364,  0.86073501,  0.85714286,  0.66666667,\n",
      "        1.        ,  1.        ,  1.        ,  1.        ,  0.78911565,\n",
      "        1.        ,  0.8       ,  0.78651685,  0.76923077,  1.        ,\n",
      "        1.        ,  0.        ,  0.88588008,  0.        ,  1.        ,\n",
      "        0.        ,  0.83870968,  0.95145631,  0.65116279,  0.96296296,\n",
      "        1.        ,  0.90909091,  0.87373737,  0.85555556,  0.76744186,\n",
      "        0.9       ,  0.8       ,  0.72307692,  0.87164179,  0.79266055,\n",
      "        0.7816092 ,  1.        ,  1.        ,  1.        ,  1.        ,\n",
      "        0.65217391,  0.79166667,  0.77625571,  1.        ,  0.4       ,\n",
      "        0.        ,  1.        ,  1.        ,  0.81481481,  0.92307692,\n",
      "        0.88372093,  0.90232558,  0.76923077,  0.72      ,  0.77384196,\n",
      "        1.        ,  0.        ,  0.78632479,  0.94117647,  0.66666667,\n",
      "        1.        ,  1.        ,  0.67020024,  0.8       ,  0.74157303,\n",
      "        0.66666667,  0.90909091,  0.8       ,  0.93457944,  0.        ,\n",
      "        0.        ,  0.92045455,  0.78030303,  0.75862069,  0.71428571,\n",
      "        0.82758621,  0.77088949,  0.        ,  0.86666667,  1.        ,\n",
      "        0.        ,  1.        ,  0.96398892]), array([   0,    8,  115,   14,   48,   64,   10,  186,    1,   12,    3,\n",
      "         51,    0,    1,   36,    0,   33,    1,    0,  143, 1001,  204,\n",
      "        191,    0,    3,    0,    3,    1,    3,   15,    4,   12,    5,\n",
      "          0,   34,  482,    5,   24,  355,   18,   91,    0,   60,  176,\n",
      "          2,    2,   36,    5,    0,   31,  133,    2,    4,    6,    2,\n",
      "          1,    1,    0,  306,    8,  180,    6,    7,    9,   41,    1,\n",
      "        251,  127,    3,   95,   18,    1,    5,    7,   63,   28,   89,\n",
      "        273,    1,  263,    1,   11,    9,  175,  890,    2,    0,  179,\n",
      "          0,    4,    7,   12,    1,  362,  364,   85,    2,    1,    5,\n",
      "         15,   28,  120,  360,   28,    0,   18,    6,   33,    0,    2,\n",
      "         10,    1,    5,   14,    4,    1,    3,    0,    2,  207,   37,\n",
      "         46,   18,   12,   81,  125,    5,  133,    2,  100,    1,    2,\n",
      "          2,    1,    6,  446,    7,  508,   98,    1,    7,    2,    2,\n",
      "          1,   75,   16,  100,   48,    5,    6,    2,    0,  542,    0,\n",
      "          2,    0,   29,  211,   77,   13,    1,    5,  205,  100,  191,\n",
      "         47,   13,   61,  179,  290,   96,    2,    1,    5,    1,  149,\n",
      "         20,  121,    7,    1,    0,    5,   10,   12,    6,   20,  112,\n",
      "          6,   19,  586,   18,    0,  117,    8,    7,    2,    2,  930,\n",
      "          2,   42,    1,   11,   16,   54,    0,    0,  179,  141,   25,\n",
      "          6,   62,  192,    0,   13,    1,    0,    4,  180]))\n"
     ]
    },
    {
     "name": "stderr",
     "output_type": "stream",
     "text": [
      "/home/ubuntu/anaconda3/envs/tensorflow_p36/lib/python3.6/site-packages/sklearn/metrics/classification.py:1135: UndefinedMetricWarning: Precision and F-score are ill-defined and being set to 0.0 in labels with no predicted samples.\n",
      "  'precision', 'predicted', average, warn_for)\n",
      "/home/ubuntu/anaconda3/envs/tensorflow_p36/lib/python3.6/site-packages/sklearn/metrics/classification.py:1137: UndefinedMetricWarning: Recall and F-score are ill-defined and being set to 0.0 in labels with no true samples.\n",
      "  'recall', 'true', average, warn_for)\n"
     ]
    }
   ],
   "source": [
    "print('weightedmacro: {}'.format(precision_recall_fscore_support(y_dev, y_pred_dev, average=None, sample_weight=None)))"
   ]
  },
  {
   "cell_type": "code",
   "execution_count": 39,
   "metadata": {},
   "outputs": [],
   "source": [
    "to_file(y_train,\"true_train\"+date_run)"
   ]
  },
  {
   "cell_type": "code",
   "execution_count": 40,
   "metadata": {},
   "outputs": [],
   "source": [
    "to_file(y_dev,\"true_dev\"+date_run)"
   ]
  },
  {
   "cell_type": "markdown",
   "metadata": {},
   "source": [
    "### predictions"
   ]
  },
  {
   "cell_type": "code",
   "execution_count": null,
   "metadata": {},
   "outputs": [],
   "source": [
    "new_arrays = os.path.join(DATADIR, new_arraynpz_filename)"
   ]
  },
  {
   "cell_type": "code",
   "execution_count": null,
   "metadata": {},
   "outputs": [],
   "source": [
    "def get_predictions(new_arrays):\n",
    "    arrays = np.load(new_arrays)\n",
    "    \n",
    "    x_new = sparse.csr_matrix(arrays['x'].all()).todense()\n",
    "    meta_new = sparse.csr_matrix(arrays['meta'].all()).todense()\n",
    "    title_new = sparse.csr_matrix(arrays['title'].all()).todense()\n",
    "    desc_new = sparse.csr_matrix(arrays['desc'].all()).todense()\n",
    "   \n",
    "    y_pred_new = model.predict([meta_new, title_new, desc_new, x_new])\n",
    "    \n",
    "    to_file(y_pred_new, \"new_predictions\"+date_run)\n",
    "\n",
    "    \n"
   ]
  }
 ],
 "metadata": {
  "keep_output": true,
  "kernelspec": {
   "display_name": "Environment (conda_tensorflow_p36)",
   "language": "python",
   "name": "conda_tensorflow_p36"
  },
  "language_info": {
   "codemirror_mode": {
    "name": "ipython",
    "version": 3
   },
   "file_extension": ".py",
   "mimetype": "text/x-python",
   "name": "python",
   "nbconvert_exporter": "python",
   "pygments_lexer": "ipython3",
   "version": "3.6.3"
  }
 },
 "nbformat": 4,
 "nbformat_minor": 2
}
