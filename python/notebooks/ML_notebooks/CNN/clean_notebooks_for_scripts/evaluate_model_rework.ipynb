{
 "cells": [
  {
   "cell_type": "code",
   "execution_count": 51,
   "metadata": {
    "scrolled": true
   },
   "outputs": [],
   "source": [
    "import pandas as pd\n",
    "import numpy as np\n",
    "import os\n",
    "from datetime import datetime\n",
    "from keras.preprocessing.text import Tokenizer\n",
    "from keras.preprocessing.sequence import pad_sequences\n",
    "\n",
    "from keras.utils import to_categorical, layer_utils, plot_model\n",
    "\n",
    "from keras.layers import (Embedding, Input, Dense, Dropout, \n",
    "                          Activation, Conv1D, MaxPooling1D, Flatten, concatenate, Reshape)\n",
    "from keras.models import Model, Sequential\n",
    "from keras.optimizers import rmsprop\n",
    "from keras.callbacks import TensorBoard, Callback, ModelCheckpoint\n",
    "import keras.backend as K\n",
    "from keras.losses import binary_crossentropy\n",
    "\n",
    "from sklearn.preprocessing import LabelEncoder, MultiLabelBinarizer\n",
    "from sklearn.metrics import confusion_matrix, f1_score, precision_score, recall_score \n",
    "from sklearn.metrics import precision_recall_fscore_support, classification_report\n",
    "from sklearn.utils import class_weight\n",
    "\n",
    "import tensorflow as tf\n",
    "\n",
    "import matplotlib.pyplot as plt\n",
    "%matplotlib inline\n",
    "\n",
    "import functools\n",
    "\n",
    "import h5py\n"
   ]
  },
  {
   "cell_type": "markdown",
   "metadata": {},
   "source": [
    "### Environmental vars"
   ]
  },
  {
   "cell_type": "code",
   "execution_count": 52,
   "metadata": {
    "scrolled": true
   },
   "outputs": [],
   "source": [
    "DATADIR=os.getenv('DATADIR')"
   ]
  },
  {
   "cell_type": "markdown",
   "metadata": {},
   "source": [
    "### Load in data"
   ]
  },
  {
   "cell_type": "code",
   "execution_count": 73,
   "metadata": {},
   "outputs": [],
   "source": [
    "actual_train = pd.read_csv(os.path.join(DATADIR, 'true_train_1601_1902__results.csv.gz'), dtype=float, compression='gzip')\n",
    "pred_train = pd.read_csv(os.path.join(DATADIR, 'train_1601_1902__results.csv.gz'), dtype=float, compression='gzip')"
   ]
  },
  {
   "cell_type": "code",
   "execution_count": 71,
   "metadata": {},
   "outputs": [],
   "source": [
    "actual_dev = pd.read_csv(os.path.join(DATADIR, 'true_dev_1601_1902__results.csv.gz'), dtype=float, compression='gzip')\n",
    "pred_dev = pd.read_csv(os.path.join(DATADIR, 'dev_1601_1902__results.csv.gz'), dtype=float, compression='gzip')"
   ]
  },
  {
   "cell_type": "code",
   "execution_count": 72,
   "metadata": {},
   "outputs": [
    {
     "data": {
      "text/plain": [
       "(150870, 210)"
      ]
     },
     "execution_count": 72,
     "metadata": {},
     "output_type": "execute_result"
    }
   ],
   "source": [
    "pred_dev.shape"
   ]
  },
  {
   "cell_type": "code",
   "execution_count": 54,
   "metadata": {},
   "outputs": [
    {
     "name": "stdout",
     "output_type": "stream",
     "text": [
      "(150870, 210)\n"
     ]
    },
    {
     "data": {
      "text/html": [
       "<div>\n",
       "<style scoped>\n",
       "    .dataframe tbody tr th:only-of-type {\n",
       "        vertical-align: middle;\n",
       "    }\n",
       "\n",
       "    .dataframe tbody tr th {\n",
       "        vertical-align: top;\n",
       "    }\n",
       "\n",
       "    .dataframe thead th {\n",
       "        text-align: right;\n",
       "    }\n",
       "</style>\n",
       "<table border=\"1\" class=\"dataframe\">\n",
       "  <thead>\n",
       "    <tr style=\"text-align: right;\">\n",
       "      <th></th>\n",
       "      <th>1</th>\n",
       "      <th>2</th>\n",
       "      <th>3</th>\n",
       "      <th>4</th>\n",
       "      <th>5</th>\n",
       "      <th>6</th>\n",
       "      <th>7</th>\n",
       "      <th>8</th>\n",
       "      <th>9</th>\n",
       "      <th>10</th>\n",
       "      <th>...</th>\n",
       "      <th>201</th>\n",
       "      <th>202</th>\n",
       "      <th>203</th>\n",
       "      <th>204</th>\n",
       "      <th>205</th>\n",
       "      <th>206</th>\n",
       "      <th>207</th>\n",
       "      <th>208</th>\n",
       "      <th>209</th>\n",
       "      <th>210</th>\n",
       "    </tr>\n",
       "  </thead>\n",
       "  <tbody>\n",
       "    <tr>\n",
       "      <th>0</th>\n",
       "      <td>0</td>\n",
       "      <td>0</td>\n",
       "      <td>0</td>\n",
       "      <td>0</td>\n",
       "      <td>0</td>\n",
       "      <td>0</td>\n",
       "      <td>0</td>\n",
       "      <td>0</td>\n",
       "      <td>0</td>\n",
       "      <td>0</td>\n",
       "      <td>...</td>\n",
       "      <td>0</td>\n",
       "      <td>0</td>\n",
       "      <td>0</td>\n",
       "      <td>0</td>\n",
       "      <td>0</td>\n",
       "      <td>0</td>\n",
       "      <td>0</td>\n",
       "      <td>0</td>\n",
       "      <td>0</td>\n",
       "      <td>0</td>\n",
       "    </tr>\n",
       "    <tr>\n",
       "      <th>1</th>\n",
       "      <td>0</td>\n",
       "      <td>0</td>\n",
       "      <td>0</td>\n",
       "      <td>0</td>\n",
       "      <td>0</td>\n",
       "      <td>0</td>\n",
       "      <td>0</td>\n",
       "      <td>0</td>\n",
       "      <td>0</td>\n",
       "      <td>0</td>\n",
       "      <td>...</td>\n",
       "      <td>0</td>\n",
       "      <td>0</td>\n",
       "      <td>0</td>\n",
       "      <td>0</td>\n",
       "      <td>0</td>\n",
       "      <td>0</td>\n",
       "      <td>0</td>\n",
       "      <td>0</td>\n",
       "      <td>0</td>\n",
       "      <td>0</td>\n",
       "    </tr>\n",
       "    <tr>\n",
       "      <th>2</th>\n",
       "      <td>0</td>\n",
       "      <td>0</td>\n",
       "      <td>0</td>\n",
       "      <td>0</td>\n",
       "      <td>0</td>\n",
       "      <td>0</td>\n",
       "      <td>0</td>\n",
       "      <td>0</td>\n",
       "      <td>0</td>\n",
       "      <td>0</td>\n",
       "      <td>...</td>\n",
       "      <td>0</td>\n",
       "      <td>0</td>\n",
       "      <td>0</td>\n",
       "      <td>0</td>\n",
       "      <td>0</td>\n",
       "      <td>0</td>\n",
       "      <td>0</td>\n",
       "      <td>0</td>\n",
       "      <td>0</td>\n",
       "      <td>0</td>\n",
       "    </tr>\n",
       "    <tr>\n",
       "      <th>3</th>\n",
       "      <td>0</td>\n",
       "      <td>0</td>\n",
       "      <td>0</td>\n",
       "      <td>0</td>\n",
       "      <td>0</td>\n",
       "      <td>0</td>\n",
       "      <td>0</td>\n",
       "      <td>0</td>\n",
       "      <td>0</td>\n",
       "      <td>0</td>\n",
       "      <td>...</td>\n",
       "      <td>0</td>\n",
       "      <td>0</td>\n",
       "      <td>0</td>\n",
       "      <td>0</td>\n",
       "      <td>0</td>\n",
       "      <td>0</td>\n",
       "      <td>0</td>\n",
       "      <td>0</td>\n",
       "      <td>0</td>\n",
       "      <td>0</td>\n",
       "    </tr>\n",
       "    <tr>\n",
       "      <th>4</th>\n",
       "      <td>0</td>\n",
       "      <td>0</td>\n",
       "      <td>0</td>\n",
       "      <td>0</td>\n",
       "      <td>0</td>\n",
       "      <td>0</td>\n",
       "      <td>0</td>\n",
       "      <td>0</td>\n",
       "      <td>0</td>\n",
       "      <td>0</td>\n",
       "      <td>...</td>\n",
       "      <td>0</td>\n",
       "      <td>0</td>\n",
       "      <td>0</td>\n",
       "      <td>0</td>\n",
       "      <td>0</td>\n",
       "      <td>0</td>\n",
       "      <td>0</td>\n",
       "      <td>0</td>\n",
       "      <td>0</td>\n",
       "      <td>0</td>\n",
       "    </tr>\n",
       "  </tbody>\n",
       "</table>\n",
       "<p>5 rows × 210 columns</p>\n",
       "</div>"
      ],
      "text/plain": [
       "   1  2  3  4  5  6  7  8  9 10 ... 201 202 203 204 205 206 207 208 209 210\n",
       "0  0  0  0  0  0  0  0  0  0  0 ...   0   0   0   0   0   0   0   0   0   0\n",
       "1  0  0  0  0  0  0  0  0  0  0 ...   0   0   0   0   0   0   0   0   0   0\n",
       "2  0  0  0  0  0  0  0  0  0  0 ...   0   0   0   0   0   0   0   0   0   0\n",
       "3  0  0  0  0  0  0  0  0  0  0 ...   0   0   0   0   0   0   0   0   0   0\n",
       "4  0  0  0  0  0  0  0  0  0  0 ...   0   0   0   0   0   0   0   0   0   0\n",
       "\n",
       "[5 rows x 210 columns]"
      ]
     },
     "execution_count": 54,
     "metadata": {},
     "output_type": "execute_result"
    }
   ],
   "source": [
    "print(actual_train.shape)\n",
    "actual_train.head()"
   ]
  },
  {
   "cell_type": "code",
   "execution_count": 55,
   "metadata": {},
   "outputs": [
    {
     "name": "stdout",
     "output_type": "stream",
     "text": [
      "(150870, 210)\n"
     ]
    },
    {
     "data": {
      "text/html": [
       "<div>\n",
       "<style scoped>\n",
       "    .dataframe tbody tr th:only-of-type {\n",
       "        vertical-align: middle;\n",
       "    }\n",
       "\n",
       "    .dataframe tbody tr th {\n",
       "        vertical-align: top;\n",
       "    }\n",
       "\n",
       "    .dataframe thead th {\n",
       "        text-align: right;\n",
       "    }\n",
       "</style>\n",
       "<table border=\"1\" class=\"dataframe\">\n",
       "  <thead>\n",
       "    <tr style=\"text-align: right;\">\n",
       "      <th></th>\n",
       "      <th>1</th>\n",
       "      <th>2</th>\n",
       "      <th>3</th>\n",
       "      <th>4</th>\n",
       "      <th>5</th>\n",
       "      <th>6</th>\n",
       "      <th>7</th>\n",
       "      <th>8</th>\n",
       "      <th>9</th>\n",
       "      <th>10</th>\n",
       "      <th>...</th>\n",
       "      <th>201</th>\n",
       "      <th>202</th>\n",
       "      <th>203</th>\n",
       "      <th>204</th>\n",
       "      <th>205</th>\n",
       "      <th>206</th>\n",
       "      <th>207</th>\n",
       "      <th>208</th>\n",
       "      <th>209</th>\n",
       "      <th>210</th>\n",
       "    </tr>\n",
       "  </thead>\n",
       "  <tbody>\n",
       "    <tr>\n",
       "      <th>0</th>\n",
       "      <td>8.183496935654233e-11</td>\n",
       "      <td>1.6218313358962178e-09</td>\n",
       "      <td>1.4613300153287767e-11</td>\n",
       "      <td>1.6673320146765036e-07</td>\n",
       "      <td>1.4085937277696914e-12</td>\n",
       "      <td>1.971285534807521e-08</td>\n",
       "      <td>7.860534445569556e-09</td>\n",
       "      <td>4.547738683413627e-07</td>\n",
       "      <td>7.371689925150804e-10</td>\n",
       "      <td>2.664921451914215e-12</td>\n",
       "      <td>...</td>\n",
       "      <td>9.483711593816224e-09</td>\n",
       "      <td>1.10440767642217e-09</td>\n",
       "      <td>1.3592635639270156e-07</td>\n",
       "      <td>0.0009853303199633956</td>\n",
       "      <td>8.153528519017073e-09</td>\n",
       "      <td>2.2456914799962036e-11</td>\n",
       "      <td>5.032197805121541e-07</td>\n",
       "      <td>5.086257193198662e-09</td>\n",
       "      <td>2.4391811237478578e-08</td>\n",
       "      <td>9.235110098870791e-08</td>\n",
       "    </tr>\n",
       "    <tr>\n",
       "      <th>1</th>\n",
       "      <td>6.143640707279019e-09</td>\n",
       "      <td>1.6094096055851992e-09</td>\n",
       "      <td>2.219857151430915e-06</td>\n",
       "      <td>5.1867154127194226e-08</td>\n",
       "      <td>3.629608169575249e-09</td>\n",
       "      <td>2.2545789235550728e-08</td>\n",
       "      <td>7.666207113565804e-10</td>\n",
       "      <td>0.012824744917452335</td>\n",
       "      <td>7.678839786251501e-09</td>\n",
       "      <td>5.356260857070083e-08</td>\n",
       "      <td>...</td>\n",
       "      <td>0.0013700525742024183</td>\n",
       "      <td>1.0863221433510262e-08</td>\n",
       "      <td>1.794304083091447e-08</td>\n",
       "      <td>0.20617853105068207</td>\n",
       "      <td>4.368725381453942e-09</td>\n",
       "      <td>1.7673301710985356e-10</td>\n",
       "      <td>3.350633051013574e-07</td>\n",
       "      <td>1.1168582148002315e-07</td>\n",
       "      <td>2.081082861593586e-09</td>\n",
       "      <td>2.80597989288367e-09</td>\n",
       "    </tr>\n",
       "    <tr>\n",
       "      <th>2</th>\n",
       "      <td>1.0556624019386618e-08</td>\n",
       "      <td>4.336910830460283e-09</td>\n",
       "      <td>5.6432643447124065e-08</td>\n",
       "      <td>8.805247489362955e-06</td>\n",
       "      <td>2.318053970995493e-09</td>\n",
       "      <td>0.04440443590283394</td>\n",
       "      <td>9.200866770697758e-07</td>\n",
       "      <td>3.712892748808372e-06</td>\n",
       "      <td>1.616360517653348e-11</td>\n",
       "      <td>4.941894875092057e-13</td>\n",
       "      <td>...</td>\n",
       "      <td>6.534188656814877e-08</td>\n",
       "      <td>4.596435536873e-13</td>\n",
       "      <td>3.5774463946758317e-10</td>\n",
       "      <td>1.2296267115630144e-08</td>\n",
       "      <td>3.918892710341737e-10</td>\n",
       "      <td>1.9014106555914623e-06</td>\n",
       "      <td>2.175161743431242e-12</td>\n",
       "      <td>2.597419612726526e-09</td>\n",
       "      <td>7.26168707387842e-07</td>\n",
       "      <td>7.992358632691321e-07</td>\n",
       "    </tr>\n",
       "    <tr>\n",
       "      <th>3</th>\n",
       "      <td>4.480507300048118e-16</td>\n",
       "      <td>6.254949900044715e-13</td>\n",
       "      <td>3.4723674682025975e-19</td>\n",
       "      <td>3.110918100901472e-08</td>\n",
       "      <td>6.305453549192901e-16</td>\n",
       "      <td>2.3849628869032635e-13</td>\n",
       "      <td>4.766586007598798e-15</td>\n",
       "      <td>3.923000591044001e-09</td>\n",
       "      <td>1.6157330485526865e-17</td>\n",
       "      <td>1.264357069267696e-19</td>\n",
       "      <td>...</td>\n",
       "      <td>4.638536260055689e-19</td>\n",
       "      <td>6.688855153362769e-25</td>\n",
       "      <td>6.600055528308568e-21</td>\n",
       "      <td>1.5691751216006904e-15</td>\n",
       "      <td>2.174176991281185e-21</td>\n",
       "      <td>1.3444495300117849e-18</td>\n",
       "      <td>3.9598171950087045e-15</td>\n",
       "      <td>4.8388504530945925e-19</td>\n",
       "      <td>1.8224492137619563e-08</td>\n",
       "      <td>5.4748497402279384e-11</td>\n",
       "    </tr>\n",
       "    <tr>\n",
       "      <th>4</th>\n",
       "      <td>6.014463451720076e-07</td>\n",
       "      <td>1.473561203613194e-11</td>\n",
       "      <td>5.43975708922062e-09</td>\n",
       "      <td>2.1254138449222637e-09</td>\n",
       "      <td>3.68723277688332e-07</td>\n",
       "      <td>1.1986040817646426e-06</td>\n",
       "      <td>3.9386648609252006e-07</td>\n",
       "      <td>0.00015752200852148235</td>\n",
       "      <td>5.660174995369971e-09</td>\n",
       "      <td>6.379683981094786e-08</td>\n",
       "      <td>...</td>\n",
       "      <td>1.1958728691752185e-06</td>\n",
       "      <td>4.683892829149272e-09</td>\n",
       "      <td>1.9256599159689358e-07</td>\n",
       "      <td>0.00012936237908434123</td>\n",
       "      <td>2.8595272283382656e-07</td>\n",
       "      <td>1.6746717790283583e-08</td>\n",
       "      <td>8.078724911264601e-10</td>\n",
       "      <td>1.1590937276650948e-07</td>\n",
       "      <td>2.1809112675519327e-12</td>\n",
       "      <td>7.039235327965798e-08</td>\n",
       "    </tr>\n",
       "  </tbody>\n",
       "</table>\n",
       "<p>5 rows × 210 columns</p>\n",
       "</div>"
      ],
      "text/plain": [
       "                        1                       2                       3  \\\n",
       "0   8.183496935654233e-11  1.6218313358962178e-09  1.4613300153287767e-11   \n",
       "1   6.143640707279019e-09  1.6094096055851992e-09   2.219857151430915e-06   \n",
       "2  1.0556624019386618e-08   4.336910830460283e-09  5.6432643447124065e-08   \n",
       "3   4.480507300048118e-16   6.254949900044715e-13  3.4723674682025975e-19   \n",
       "4   6.014463451720076e-07   1.473561203613194e-11    5.43975708922062e-09   \n",
       "\n",
       "                        4                       5                       6  \\\n",
       "0  1.6673320146765036e-07  1.4085937277696914e-12   1.971285534807521e-08   \n",
       "1  5.1867154127194226e-08   3.629608169575249e-09  2.2545789235550728e-08   \n",
       "2   8.805247489362955e-06   2.318053970995493e-09     0.04440443590283394   \n",
       "3   3.110918100901472e-08   6.305453549192901e-16  2.3849628869032635e-13   \n",
       "4  2.1254138449222637e-09    3.68723277688332e-07  1.1986040817646426e-06   \n",
       "\n",
       "                        7                       8                       9  \\\n",
       "0   7.860534445569556e-09   4.547738683413627e-07   7.371689925150804e-10   \n",
       "1   7.666207113565804e-10    0.012824744917452335   7.678839786251501e-09   \n",
       "2   9.200866770697758e-07   3.712892748808372e-06   1.616360517653348e-11   \n",
       "3   4.766586007598798e-15   3.923000591044001e-09  1.6157330485526865e-17   \n",
       "4  3.9386648609252006e-07  0.00015752200852148235   5.660174995369971e-09   \n",
       "\n",
       "                      10           ...                               201  \\\n",
       "0  2.664921451914215e-12           ...             9.483711593816224e-09   \n",
       "1  5.356260857070083e-08           ...             0.0013700525742024183   \n",
       "2  4.941894875092057e-13           ...             6.534188656814877e-08   \n",
       "3  1.264357069267696e-19           ...             4.638536260055689e-19   \n",
       "4  6.379683981094786e-08           ...            1.1958728691752185e-06   \n",
       "\n",
       "                      202                     203                     204  \\\n",
       "0    1.10440767642217e-09  1.3592635639270156e-07   0.0009853303199633956   \n",
       "1  1.0863221433510262e-08   1.794304083091447e-08     0.20617853105068207   \n",
       "2      4.596435536873e-13  3.5774463946758317e-10  1.2296267115630144e-08   \n",
       "3   6.688855153362769e-25   6.600055528308568e-21  1.5691751216006904e-15   \n",
       "4   4.683892829149272e-09  1.9256599159689358e-07  0.00012936237908434123   \n",
       "\n",
       "                      205                     206                     207  \\\n",
       "0   8.153528519017073e-09  2.2456914799962036e-11   5.032197805121541e-07   \n",
       "1   4.368725381453942e-09  1.7673301710985356e-10   3.350633051013574e-07   \n",
       "2   3.918892710341737e-10  1.9014106555914623e-06   2.175161743431242e-12   \n",
       "3   2.174176991281185e-21  1.3444495300117849e-18  3.9598171950087045e-15   \n",
       "4  2.8595272283382656e-07  1.6746717790283583e-08   8.078724911264601e-10   \n",
       "\n",
       "                      208                     209                     210  \n",
       "0   5.086257193198662e-09  2.4391811237478578e-08   9.235110098870791e-08  \n",
       "1  1.1168582148002315e-07   2.081082861593586e-09    2.80597989288367e-09  \n",
       "2   2.597419612726526e-09    7.26168707387842e-07   7.992358632691321e-07  \n",
       "3  4.8388504530945925e-19  1.8224492137619563e-08  5.4748497402279384e-11  \n",
       "4  1.1590937276650948e-07  2.1809112675519327e-12   7.039235327965798e-08  \n",
       "\n",
       "[5 rows x 210 columns]"
      ]
     },
     "execution_count": 55,
     "metadata": {},
     "output_type": "execute_result"
    }
   ],
   "source": [
    "print(pred_train.shape)\n",
    "pred_train.head()"
   ]
  },
  {
   "cell_type": "markdown",
   "metadata": {},
   "source": [
    "### Evaluate model"
   ]
  },
  {
   "cell_type": "markdown",
   "metadata": {},
   "source": [
    "#### Training metrics"
   ]
  },
  {
   "cell_type": "code",
   "execution_count": 74,
   "metadata": {},
   "outputs": [],
   "source": [
    "y_train = actual_train.values\n",
    "y_prob = pred_train.values"
   ]
  },
  {
   "cell_type": "code",
   "execution_count": 75,
   "metadata": {},
   "outputs": [
    {
     "data": {
      "text/plain": [
       "(150870, 210)"
      ]
     },
     "execution_count": 75,
     "metadata": {},
     "output_type": "execute_result"
    }
   ],
   "source": [
    "y_train.shape"
   ]
  },
  {
   "cell_type": "code",
   "execution_count": 76,
   "metadata": {
    "scrolled": true
   },
   "outputs": [
    {
     "data": {
      "text/plain": [
       "(150870, 210)"
      ]
     },
     "execution_count": 76,
     "metadata": {},
     "output_type": "execute_result"
    }
   ],
   "source": [
    "y_prob.shape"
   ]
  },
  {
   "cell_type": "code",
   "execution_count": 81,
   "metadata": {},
   "outputs": [],
   "source": [
    "y_pred = y_prob.copy()"
   ]
  },
  {
   "cell_type": "code",
   "execution_count": 82,
   "metadata": {
    "scrolled": true
   },
   "outputs": [],
   "source": [
    "y_pred[y_pred>=P_THRESHOLD] = 1\n",
    "y_pred[y_pred<P_THRESHOLD] = 0"
   ]
  },
  {
   "cell_type": "code",
   "execution_count": 83,
   "metadata": {
    "scrolled": true
   },
   "outputs": [
    {
     "data": {
      "text/plain": [
       "0.9630404578233203"
      ]
     },
     "execution_count": 83,
     "metadata": {},
     "output_type": "execute_result"
    }
   ],
   "source": [
    "f1_score(y_train, y_pred, average='micro')"
   ]
  },
  {
   "cell_type": "code",
   "execution_count": 84,
   "metadata": {
    "scrolled": true
   },
   "outputs": [
    {
     "name": "stderr",
     "output_type": "stream",
     "text": [
      "/Users/felisialoukou/.pyenv/versions/3.4.6/lib/python3.4/site-packages/sklearn/metrics/classification.py:1135: UndefinedMetricWarning: Precision and F-score are ill-defined and being set to 0.0 in labels with no predicted samples.\n",
      "  'precision', 'predicted', average, warn_for)\n",
      "/Users/felisialoukou/.pyenv/versions/3.4.6/lib/python3.4/site-packages/sklearn/metrics/classification.py:1137: UndefinedMetricWarning: Recall and F-score are ill-defined and being set to 0.0 in labels with no true samples.\n",
      "  'recall', 'true', average, warn_for)\n"
     ]
    },
    {
     "data": {
      "text/plain": [
       "(array([1.        , 0.98719317, 0.99543379, 1.        , 1.        ,\n",
       "        0.97099622, 1.        , 0.95905989, 1.        , 1.        ,\n",
       "        1.        , 0.95866667, 1.        , 1.        , 0.95441595,\n",
       "        0.99815157, 0.98888889, 1.        , 1.        , 0.94387755,\n",
       "        0.95744853, 0.95354082, 0.95501022, 1.        , 1.        ,\n",
       "        0.9981203 , 1.        , 0.9972973 , 0.99580713, 0.9862543 ,\n",
       "        0.98790323, 0.99603175, 0.99407115, 0.97691373, 0.93063335,\n",
       "        0.94373402, 0.97570779, 0.97379913, 0.98256735, 0.96759777,\n",
       "        1.        , 0.96271186, 0.99643494, 0.99894515, 0.96767001,\n",
       "        1.        , 1.        , 0.98060942, 0.89180713, 1.        ,\n",
       "        1.        , 0.96920583, 1.        , 1.        , 1.        ,\n",
       "        1.        , 0.        , 0.95      , 0.98697068, 0.9823049 ,\n",
       "        0.99841354, 0.99811321, 0.98918919, 0.96768848, 0.99722607,\n",
       "        0.97195544, 1.        , 0.99491525, 0.99260355, 1.        ,\n",
       "        1.        , 1.        , 0.95259096, 0.96912752, 0.97698945,\n",
       "        0.92939481, 1.        , 0.97738288, 0.96827795, 0.99329609,\n",
       "        0.97060553, 0.94713503, 1.        , 0.89651639, 1.        ,\n",
       "        1.        , 0.99817518, 0.98328267, 1.        , 0.96245247,\n",
       "        0.96132913, 0.94457275, 0.9984917 , 0.95448635, 0.93424926,\n",
       "        0.95682148, 0.9851752 , 1.        , 0.94698795, 0.98909091,\n",
       "        0.96926714, 0.99807322, 0.98708752, 0.99493671, 1.        ,\n",
       "        0.98738739, 0.99857347, 0.99850299, 1.        , 0.99818182,\n",
       "        1.        , 0.99525504, 0.97031784, 0.94573643, 0.94137931,\n",
       "        0.98636364, 0.96923077, 0.97954545, 0.98769231, 1.        ,\n",
       "        0.96948118, 1.        , 0.95382166, 1.        , 1.        ,\n",
       "        1.        , 1.        , 1.        , 0.92966133, 0.98942598,\n",
       "        0.96643196, 0.86203209, 1.        , 0.99396682, 0.9986631 ,\n",
       "        0.98965517, 1.        , 0.95963542, 0.93923241, 1.        ,\n",
       "        0.98701299, 0.98502994, 0.98694943, 0.99637024, 1.        ,\n",
       "        1.        , 0.97796062, 1.        , 1.        , 0.96991701,\n",
       "        0.9754902 , 0.95593525, 0.99526627, 1.        , 0.93901345,\n",
       "        0.97816265, 0.94897393, 0.97667804, 0.95727848, 0.93771626,\n",
       "        0.95608351, 0.94538606, 0.92824427, 0.99245283, 1.        ,\n",
       "        0.99052133, 1.        , 0.93846154, 0.96645022, 0.96195652,\n",
       "        0.99666667, 1.        , 0.99017199, 1.        , 0.97218359,\n",
       "        0.99784483, 0.98286604, 0.97582205, 0.99646643, 0.98844673,\n",
       "        0.96832903, 0.99346405, 0.96708861, 0.99707174, 0.99543379,\n",
       "        1.        , 0.99810964, 0.9918284 , 1.        , 1.        ,\n",
       "        0.93184148, 1.        , 0.93735763, 0.9980198 , 0.99865591,\n",
       "        0.9852349 , 0.99257426, 1.        , 0.96392334, 0.94635799,\n",
       "        0.98045348, 0.99627329, 1.        , 0.93560815, 1.        ,\n",
       "        0.9987315 , 1.        , 1.        , 0.99534161, 0.97941849]),\n",
       " array([1.        , 0.99892009, 1.        , 1.        , 1.        ,\n",
       "        1.        , 1.        , 0.90486409, 1.        , 1.        ,\n",
       "        1.        , 0.99722607, 1.        , 1.        , 0.97953216,\n",
       "        1.        , 0.99503106, 1.        , 1.        , 0.96533731,\n",
       "        0.92643714, 0.8856305 , 0.97204877, 1.        , 1.        ,\n",
       "        1.        , 1.        , 1.        , 0.98855359, 1.        ,\n",
       "        1.        , 1.        , 1.        , 0.95260664, 0.92110874,\n",
       "        0.984     , 0.8984551 , 1.        , 0.99358974, 0.78513146,\n",
       "        1.        , 0.86585366, 1.        , 1.        , 0.98748578,\n",
       "        1.        , 1.        , 0.99020979, 0.98570191, 1.        ,\n",
       "        1.        , 1.        , 1.        , 1.        , 1.        ,\n",
       "        1.        , 0.        , 0.95530726, 0.99019608, 0.86117741,\n",
       "        1.        , 1.        , 1.        , 0.9629019 , 1.        ,\n",
       "        0.85762712, 1.        , 1.        , 0.99702823, 1.        ,\n",
       "        1.        , 1.        , 0.92505353, 0.9876881 , 0.96132075,\n",
       "        0.91814947, 1.        , 0.97837073, 0.99226006, 1.        ,\n",
       "        0.95710145, 0.93582474, 1.        , 0.81244197, 1.        ,\n",
       "        1.        , 0.98736462, 0.99691834, 1.        , 0.93404059,\n",
       "        0.91794311, 0.9784689 , 1.        , 0.97089947, 0.91626564,\n",
       "        0.95474294, 0.99727149, 1.        , 1.        , 1.        ,\n",
       "        0.96470588, 1.        , 1.        , 1.        , 1.        ,\n",
       "        1.        , 1.        , 1.        , 1.        , 1.        ,\n",
       "        1.        , 1.        , 0.9281407 , 0.98500577, 0.99272727,\n",
       "        1.        , 0.99683544, 0.95353982, 0.99176107, 1.        ,\n",
       "        0.79748954, 1.        , 1.        , 1.        , 1.        ,\n",
       "        1.        , 1.        , 1.        , 0.93000745, 0.9939302 ,\n",
       "        0.9673824 , 0.95838288, 1.        , 1.        , 1.        ,\n",
       "        1.        , 1.        , 0.92938209, 0.91770833, 1.        ,\n",
       "        0.92892712, 0.98798799, 1.        , 1.        , 1.        ,\n",
       "        1.        , 0.95756006, 1.        , 1.        , 0.9904661 ,\n",
       "        0.9754902 , 0.85587762, 1.        , 1.        , 0.95355191,\n",
       "        0.92785714, 0.88332473, 0.99133949, 0.99670511, 0.90033223,\n",
       "        0.95608351, 0.91857274, 0.89019034, 1.        , 1.        ,\n",
       "        1.        , 1.        , 0.88654477, 0.99332592, 0.89123867,\n",
       "        1.        , 1.        , 1.        , 1.        , 0.98868458,\n",
       "        1.        , 1.        , 0.94035415, 1.        , 1.        ,\n",
       "        0.94675634, 1.        , 0.92718447, 1.        , 1.        ,\n",
       "        1.        , 1.        , 0.9857868 , 1.        , 1.        ,\n",
       "        0.88033567, 1.        , 0.98918269, 1.        , 1.        ,\n",
       "        0.98788694, 1.        , 1.        , 0.96774194, 0.94742793,\n",
       "        0.97739673, 1.        , 1.        , 0.90425532, 1.        ,\n",
       "        1.        , 1.        , 1.        , 1.        , 0.98618421]),\n",
       " array([1.        , 0.99302201, 0.99771167, 1.        , 1.        ,\n",
       "        0.98528471, 1.        , 0.93117409, 1.        , 1.        ,\n",
       "        1.        , 0.97756628, 1.        , 1.        , 0.96681097,\n",
       "        0.99907493, 0.99195046, 1.        , 1.        , 0.95448683,\n",
       "        0.94168759, 0.91833189, 0.96345417, 1.        , 1.        ,\n",
       "        0.99905927, 1.        , 0.99864682, 0.9921671 , 0.99307958,\n",
       "        0.99391481, 0.99801193, 0.99702676, 0.96460708, 0.92584655,\n",
       "        0.96344648, 0.93548928, 0.98672566, 0.98804781, 0.86686687,\n",
       "        1.        , 0.9117175 , 0.99821429, 0.9994723 , 0.97747748,\n",
       "        1.        , 1.        , 0.98538622, 0.93640667, 1.        ,\n",
       "        1.        , 0.98436214, 1.        , 1.        , 1.        ,\n",
       "        1.        , 0.        , 0.95264624, 0.98858075, 0.91776176,\n",
       "        0.99920614, 0.99905571, 0.99456522, 0.96528926, 0.99861111,\n",
       "        0.91121916, 1.        , 0.99745115, 0.99481097, 1.        ,\n",
       "        1.        , 1.        , 0.93862032, 0.97831978, 0.96909177,\n",
       "        0.92373792, 1.        , 0.97787655, 0.98012232, 0.99663677,\n",
       "        0.96380619, 0.94144592, 1.        , 0.85241111, 1.        ,\n",
       "        1.        , 0.99274047, 0.99005356, 1.        , 0.94803371,\n",
       "        0.9391353 , 0.96122209, 0.99924528, 0.96262295, 0.92517007,\n",
       "        0.95578108, 0.99118644, 1.        , 0.97277228, 0.99451554,\n",
       "        0.96698113, 0.99903568, 0.99350181, 0.99746193, 1.        ,\n",
       "        0.99365367, 0.99928622, 0.99925094, 1.        , 0.99909008,\n",
       "        1.        , 0.99762188, 0.94876076, 0.96497175, 0.96637168,\n",
       "        0.99313501, 0.98283931, 0.96636771, 0.98972251, 1.        ,\n",
       "        0.87511478, 1.        , 0.97636512, 1.        , 1.        ,\n",
       "        1.        , 1.        , 1.        , 0.92983436, 0.99167298,\n",
       "        0.96690695, 0.90765766, 1.        , 0.99697428, 0.9993311 ,\n",
       "        0.99480069, 1.        , 0.9442665 , 0.92834563, 1.        ,\n",
       "        0.95708955, 0.98650675, 0.99343186, 0.99818182, 1.        ,\n",
       "        1.        , 0.96765283, 1.        , 1.        , 0.98008386,\n",
       "        0.9754902 , 0.90314359, 0.99762752, 1.        , 0.94622684,\n",
       "        0.95234604, 0.91497326, 0.98395415, 0.97659403, 0.91864407,\n",
       "        0.95608351, 0.93178654, 0.90881913, 0.99621212, 1.        ,\n",
       "        0.9952381 , 1.        , 0.91176471, 0.97970378, 0.9252483 ,\n",
       "        0.99833055, 1.        , 0.99506173, 1.        , 0.98036466,\n",
       "        0.99892125, 0.99135899, 0.95775985, 0.99823009, 0.9941898 ,\n",
       "        0.95742118, 0.99672131, 0.94671623, 0.99853372, 0.99771167,\n",
       "        1.        , 0.99905393, 0.98879837, 1.        , 1.        ,\n",
       "        0.90535662, 1.        , 0.9625731 , 0.99900892, 0.99932751,\n",
       "        0.98655914, 0.99627329, 1.        , 0.96582886, 0.94689266,\n",
       "        0.97892272, 0.99813317, 1.        , 0.91966459, 1.        ,\n",
       "        0.99936535, 1.        , 1.        , 0.99766537, 0.98278971]),\n",
       " array([  527,   926,   654,   615,   963,   770,   536,  1398,   502,\n",
       "          584,   509,   721,   978,  1044,  1026,   540,   805,   595,\n",
       "          572,  2683, 12751,  2387,  3363,   501,  1629,   531,  1061,\n",
       "          738,   961,   574,   735,   753,   503,   844,  4690,   750,\n",
       "         6214,   669,   624,  1103,   503,   656,   559,   947,   879,\n",
       "          862,   503,   715,  2308,   830,  1092,   598,   503,   501,\n",
       "         1784,   941,     0,  1074,   612,  2514,  1888,   529,   732,\n",
       "         1213,   719,  2950,   512,   587,   673,   542,   543,  1759,\n",
       "          934,   731,  1060,  2810,   501,  4947,   646,   889,  1725,\n",
       "        11640,   502,  2154,   505,  1812,   554,   649,   507,  4336,\n",
       "         3656,   836,   662,   756,  1039,  2762,   733,   931,   786,\n",
       "          544,   850,   518,   688,   786,   612,   548,   700,   667,\n",
       "          502,  1098,   555,   839,  3980,   867,   825,   651,   632,\n",
       "          904,  1942,  1201,  1195,   504,   599,   564,   510,   536,\n",
       "          505,   526,  5372,   659,  6101,   841,   525,   659,   747,\n",
       "          861,   855,   793,   960,   794,  2209,   999,   605,   549,\n",
       "         1081,   513,  6951,   502,   511,   944,  1632,  1242,   841,\n",
       "          791,  1098,  1400,  1937,  1732,   607,   602,  1389,  2186,\n",
       "          683,   526,   502,   627,   645,  2133,   899,   993,   598,\n",
       "          514,   806,   787,   707,   926,   631,  1073,   564,   770,\n",
       "         7137,   608,   824,   681,   654,   560,   528,   985,  1236,\n",
       "          630, 12393,   553,   832,   504,   743,   743,   802,   564,\n",
       "         1767,  1769,  1283,   802,   667,  1880,   632,  2362,   637,\n",
       "          794,   641,  3040]))"
      ]
     },
     "execution_count": 84,
     "metadata": {},
     "output_type": "execute_result"
    }
   ],
   "source": [
    "#average= None, the scores for each class are returned.\n",
    "precision_recall_fscore_support(y_train, y_pred, average=None, sample_weight=None)"
   ]
  },
  {
   "cell_type": "code",
   "execution_count": 85,
   "metadata": {
    "scrolled": true
   },
   "outputs": [
    {
     "name": "stderr",
     "output_type": "stream",
     "text": [
      "/Users/felisialoukou/.pyenv/versions/3.4.6/lib/python3.4/site-packages/sklearn/metrics/classification.py:1135: UndefinedMetricWarning: Precision and F-score are ill-defined and being set to 0.0 in labels with no predicted samples.\n",
      "  'precision', 'predicted', average, warn_for)\n",
      "/Users/felisialoukou/.pyenv/versions/3.4.6/lib/python3.4/site-packages/sklearn/metrics/classification.py:1137: UndefinedMetricWarning: Recall and F-score are ill-defined and being set to 0.0 in labels with no true samples.\n",
      "  'recall', 'true', average, warn_for)\n"
     ]
    },
    {
     "ename": "NameError",
     "evalue": "name 'labels_index' is not defined",
     "output_type": "error",
     "traceback": [
      "\u001b[0;31m---------------------------------------------------------------------------\u001b[0m",
      "\u001b[0;31mNameError\u001b[0m                                 Traceback (most recent call last)",
      "\u001b[0;32m<ipython-input-85-c69ef4ee2333>\u001b[0m in \u001b[0;36m<module>\u001b[0;34m()\u001b[0m\n\u001b[1;32m     16\u001b[0m \u001b[0mf1_byclass\u001b[0m\u001b[0;34m[\u001b[0m\u001b[0;34m'index_col'\u001b[0m\u001b[0;34m]\u001b[0m \u001b[0;34m=\u001b[0m \u001b[0mf1_byclass\u001b[0m\u001b[0;34m.\u001b[0m\u001b[0mindex\u001b[0m\u001b[0;34m\u001b[0m\u001b[0m\n\u001b[1;32m     17\u001b[0m \u001b[0;34m\u001b[0m\u001b[0m\n\u001b[0;32m---> 18\u001b[0;31m \u001b[0mf1_byclass\u001b[0m\u001b[0;34m[\u001b[0m\u001b[0;34m'level2taxon'\u001b[0m\u001b[0;34m]\u001b[0m \u001b[0;34m=\u001b[0m \u001b[0mf1_byclass\u001b[0m\u001b[0;34m[\u001b[0m\u001b[0;34m'index_col'\u001b[0m\u001b[0;34m]\u001b[0m\u001b[0;34m.\u001b[0m\u001b[0mmap\u001b[0m\u001b[0;34m(\u001b[0m\u001b[0mlabels_index\u001b[0m\u001b[0;34m)\u001b[0m\u001b[0;34m.\u001b[0m\u001b[0mcopy\u001b[0m\u001b[0;34m(\u001b[0m\u001b[0;34m)\u001b[0m\u001b[0;34m\u001b[0m\u001b[0m\n\u001b[0m\u001b[1;32m     19\u001b[0m \u001b[0;34m\u001b[0m\u001b[0m\n\u001b[1;32m     20\u001b[0m print(\"At p_threshold of {}, there were {} out of {} ({})% taxons with auto-tagged content in the training data\"\n",
      "\u001b[0;31mNameError\u001b[0m: name 'labels_index' is not defined"
     ]
    }
   ],
   "source": [
    "a = precision_recall_fscore_support(y_train, y_pred, average=None, sample_weight=None)\n",
    "pd.DataFrame(list(a))\n",
    "f1_byclass = pd.DataFrame((a)[2], columns=['f1'])\n",
    "\n",
    "support_byclass = pd.DataFrame((a)[3], columns=['support'])\n",
    "\n",
    "f1_byclass = pd.merge(\n",
    "    left=f1_byclass, \n",
    "    right=support_byclass, \n",
    "    left_index=True,\n",
    "    right_index=True,\n",
    "    how='outer', \n",
    "    validate='one_to_one'\n",
    ")\n",
    "\n",
    "f1_byclass['index_col'] = f1_byclass.index\n",
    "\n",
    "f1_byclass['level2taxon'] = f1_byclass['index_col'].map(labels_index).copy()\n",
    "\n",
    "print(\"At p_threshold of {}, there were {} out of {} ({})% taxons with auto-tagged content in the training data\"\n",
    "      .format(P_THRESHOLD, \n",
    "              f1_byclass.loc[f1_byclass['f1'] > 0].shape[0], \n",
    "              y_pred.shape[1], \n",
    "              (f1_byclass.loc[f1_byclass['f1'] > 0].shape[0]/y_pred.shape[1])*100 ))"
   ]
  },
  {
   "cell_type": "code",
   "execution_count": null,
   "metadata": {
    "scrolled": true
   },
   "outputs": [],
   "source": [
    "no_auto_content = f1_byclass.loc[f1_byclass['f1'] == 0]\n",
    "no_auto_content = no_auto_content.set_index('level2taxon')"
   ]
  },
  {
   "cell_type": "code",
   "execution_count": null,
   "metadata": {
    "scrolled": true
   },
   "outputs": [],
   "source": [
    "no_auto_content['support'].sort_values().plot( kind = 'barh', figsize=(20, 20))"
   ]
  },
  {
   "cell_type": "code",
   "execution_count": null,
   "metadata": {
    "scrolled": true
   },
   "outputs": [],
   "source": [
    "classes_predictedto = f1_byclass.loc[f1_byclass['f1'] > 0]\n",
    "classes_predictedto = classes_predictedto.set_index('level2taxon') "
   ]
  },
  {
   "cell_type": "code",
   "execution_count": null,
   "metadata": {
    "scrolled": true
   },
   "outputs": [],
   "source": [
    "classes_predictedto.plot.scatter(x='support', y='f1', figsize=(20, 10), xticks=np.arange(0, 9700, 100))"
   ]
  },
  {
   "cell_type": "code",
   "execution_count": null,
   "metadata": {
    "scrolled": true
   },
   "outputs": [],
   "source": [
    "classes_predictedto['f1'].sort_values().plot( kind = 'barh', figsize=(20, 20))"
   ]
  },
  {
   "cell_type": "code",
   "execution_count": null,
   "metadata": {
    "scrolled": true
   },
   "outputs": [],
   "source": [
    "#Calculate globally by counting the total true positives, false negatives and false positives.\n",
    "precision_recall_fscore_support(y_train, y_pred, average='micro', sample_weight=None) "
   ]
  },
  {
   "cell_type": "code",
   "execution_count": null,
   "metadata": {
    "scrolled": true
   },
   "outputs": [],
   "source": [
    "#Calculate metrics for each label, and find their unweighted mean. This does not take label imbalance into account\n",
    "precision_recall_fscore_support(y_train, y_pred, average='macro', sample_weight=None)"
   ]
  },
  {
   "cell_type": "code",
   "execution_count": null,
   "metadata": {
    "scrolled": true
   },
   "outputs": [],
   "source": [
    "#Calculate metrics for each label, and find their unweighted mean. This does not take label imbalance into account\n",
    "precision_recall_fscore_support(y_train, y_pred, average='weighted', sample_weight=None)"
   ]
  },
  {
   "cell_type": "markdown",
   "metadata": {},
   "source": [
    "#### Development set metrics"
   ]
  },
  {
   "cell_type": "code",
   "execution_count": 65,
   "metadata": {},
   "outputs": [],
   "source": [
    "P_THRESHOLD=0.5"
   ]
  },
  {
   "cell_type": "code",
   "execution_count": 66,
   "metadata": {},
   "outputs": [],
   "source": [
    "y_dev = actual_dev.values\n",
    "y_pred_dev = pred_dev.values"
   ]
  },
  {
   "cell_type": "code",
   "execution_count": 67,
   "metadata": {
    "scrolled": true
   },
   "outputs": [],
   "source": [
    "y_pred_dev[y_pred_dev>=P_THRESHOLD] = 1\n",
    "y_pred_dev[y_pred_dev<P_THRESHOLD] = 0"
   ]
  },
  {
   "cell_type": "code",
   "execution_count": 68,
   "metadata": {
    "scrolled": true
   },
   "outputs": [
    {
     "ename": "ValueError",
     "evalue": "Found input variables with inconsistent numbers of samples: [9234, 150870]",
     "output_type": "error",
     "traceback": [
      "\u001b[0;31m---------------------------------------------------------------------------\u001b[0m",
      "\u001b[0;31mValueError\u001b[0m                                Traceback (most recent call last)",
      "\u001b[0;32m<ipython-input-68-22c5beee0108>\u001b[0m in \u001b[0;36m<module>\u001b[0;34m()\u001b[0m\n\u001b[1;32m      1\u001b[0m \u001b[0;31m#average= None, the scores for each class are returned.\u001b[0m\u001b[0;34m\u001b[0m\u001b[0;34m\u001b[0m\u001b[0m\n\u001b[0;32m----> 2\u001b[0;31m \u001b[0mprecision_recall_fscore_support\u001b[0m\u001b[0;34m(\u001b[0m\u001b[0my_dev\u001b[0m\u001b[0;34m,\u001b[0m \u001b[0my_pred_dev\u001b[0m\u001b[0;34m,\u001b[0m \u001b[0maverage\u001b[0m\u001b[0;34m=\u001b[0m\u001b[0;32mNone\u001b[0m\u001b[0;34m,\u001b[0m \u001b[0msample_weight\u001b[0m\u001b[0;34m=\u001b[0m\u001b[0;32mNone\u001b[0m\u001b[0;34m)\u001b[0m\u001b[0;34m\u001b[0m\u001b[0m\n\u001b[0m",
      "\u001b[0;32m~/.pyenv/versions/3.4.6/lib/python3.4/site-packages/sklearn/metrics/classification.py\u001b[0m in \u001b[0;36mprecision_recall_fscore_support\u001b[0;34m(y_true, y_pred, beta, labels, pos_label, average, warn_for, sample_weight)\u001b[0m\n\u001b[1;32m   1023\u001b[0m         \u001b[0;32mraise\u001b[0m \u001b[0mValueError\u001b[0m\u001b[0;34m(\u001b[0m\u001b[0;34m\"beta should be >0 in the F-beta score\"\u001b[0m\u001b[0;34m)\u001b[0m\u001b[0;34m\u001b[0m\u001b[0m\n\u001b[1;32m   1024\u001b[0m \u001b[0;34m\u001b[0m\u001b[0m\n\u001b[0;32m-> 1025\u001b[0;31m     \u001b[0my_type\u001b[0m\u001b[0;34m,\u001b[0m \u001b[0my_true\u001b[0m\u001b[0;34m,\u001b[0m \u001b[0my_pred\u001b[0m \u001b[0;34m=\u001b[0m \u001b[0m_check_targets\u001b[0m\u001b[0;34m(\u001b[0m\u001b[0my_true\u001b[0m\u001b[0;34m,\u001b[0m \u001b[0my_pred\u001b[0m\u001b[0;34m)\u001b[0m\u001b[0;34m\u001b[0m\u001b[0m\n\u001b[0m\u001b[1;32m   1026\u001b[0m     \u001b[0mpresent_labels\u001b[0m \u001b[0;34m=\u001b[0m \u001b[0munique_labels\u001b[0m\u001b[0;34m(\u001b[0m\u001b[0my_true\u001b[0m\u001b[0;34m,\u001b[0m \u001b[0my_pred\u001b[0m\u001b[0;34m)\u001b[0m\u001b[0;34m\u001b[0m\u001b[0m\n\u001b[1;32m   1027\u001b[0m \u001b[0;34m\u001b[0m\u001b[0m\n",
      "\u001b[0;32m~/.pyenv/versions/3.4.6/lib/python3.4/site-packages/sklearn/metrics/classification.py\u001b[0m in \u001b[0;36m_check_targets\u001b[0;34m(y_true, y_pred)\u001b[0m\n\u001b[1;32m     69\u001b[0m     \u001b[0my_pred\u001b[0m \u001b[0;34m:\u001b[0m \u001b[0marray\u001b[0m \u001b[0;32mor\u001b[0m \u001b[0mindicator\u001b[0m \u001b[0mmatrix\u001b[0m\u001b[0;34m\u001b[0m\u001b[0m\n\u001b[1;32m     70\u001b[0m     \"\"\"\n\u001b[0;32m---> 71\u001b[0;31m     \u001b[0mcheck_consistent_length\u001b[0m\u001b[0;34m(\u001b[0m\u001b[0my_true\u001b[0m\u001b[0;34m,\u001b[0m \u001b[0my_pred\u001b[0m\u001b[0;34m)\u001b[0m\u001b[0;34m\u001b[0m\u001b[0m\n\u001b[0m\u001b[1;32m     72\u001b[0m     \u001b[0mtype_true\u001b[0m \u001b[0;34m=\u001b[0m \u001b[0mtype_of_target\u001b[0m\u001b[0;34m(\u001b[0m\u001b[0my_true\u001b[0m\u001b[0;34m)\u001b[0m\u001b[0;34m\u001b[0m\u001b[0m\n\u001b[1;32m     73\u001b[0m     \u001b[0mtype_pred\u001b[0m \u001b[0;34m=\u001b[0m \u001b[0mtype_of_target\u001b[0m\u001b[0;34m(\u001b[0m\u001b[0my_pred\u001b[0m\u001b[0;34m)\u001b[0m\u001b[0;34m\u001b[0m\u001b[0m\n",
      "\u001b[0;32m~/.pyenv/versions/3.4.6/lib/python3.4/site-packages/sklearn/utils/validation.py\u001b[0m in \u001b[0;36mcheck_consistent_length\u001b[0;34m(*arrays)\u001b[0m\n\u001b[1;32m    202\u001b[0m     \u001b[0;32mif\u001b[0m \u001b[0mlen\u001b[0m\u001b[0;34m(\u001b[0m\u001b[0muniques\u001b[0m\u001b[0;34m)\u001b[0m \u001b[0;34m>\u001b[0m \u001b[0;36m1\u001b[0m\u001b[0;34m:\u001b[0m\u001b[0;34m\u001b[0m\u001b[0m\n\u001b[1;32m    203\u001b[0m         raise ValueError(\"Found input variables with inconsistent numbers of\"\n\u001b[0;32m--> 204\u001b[0;31m                          \" samples: %r\" % [int(l) for l in lengths])\n\u001b[0m\u001b[1;32m    205\u001b[0m \u001b[0;34m\u001b[0m\u001b[0m\n\u001b[1;32m    206\u001b[0m \u001b[0;34m\u001b[0m\u001b[0m\n",
      "\u001b[0;31mValueError\u001b[0m: Found input variables with inconsistent numbers of samples: [9234, 150870]"
     ]
    }
   ],
   "source": [
    "#average= None, the scores for each class are returned.\n",
    "precision_recall_fscore_support(y_dev, y_pred_dev, average=None, sample_weight=None)"
   ]
  },
  {
   "cell_type": "code",
   "execution_count": null,
   "metadata": {
    "scrolled": true
   },
   "outputs": [],
   "source": [
    "#Calculate globally by counting the total true positives, false negatives and false positives.\n",
    "precision_recall_fscore_support(y_dev, y_pred_dev, average='micro', sample_weight=None) "
   ]
  },
  {
   "cell_type": "code",
   "execution_count": null,
   "metadata": {
    "scrolled": true
   },
   "outputs": [],
   "source": [
    "#Calculate metrics for each label, and find their unweighted mean. This does not take label imbalance into account\n",
    "precision_recall_fscore_support(y_dev, y_pred_dev, average='macro', sample_weight=None)"
   ]
  },
  {
   "cell_type": "code",
   "execution_count": null,
   "metadata": {
    "scrolled": true
   },
   "outputs": [],
   "source": [
    "#Calculate metrics for each label, and find their unweighted mean. This does not take label imbalance into account\n",
    "precision_recall_fscore_support(y_dev, y_pred_dev, average='weighted', sample_weight=None)"
   ]
  },
  {
   "cell_type": "markdown",
   "metadata": {},
   "source": [
    "### Produce some dummy results for testing."
   ]
  },
  {
   "cell_type": "code",
   "execution_count": 45,
   "metadata": {},
   "outputs": [],
   "source": [
    "array = np.random.randint(2,size=(100000,420))"
   ]
  },
  {
   "cell_type": "code",
   "execution_count": 46,
   "metadata": {},
   "outputs": [],
   "source": [
    "df = pd.DataFrame(data=array.tolist(),columns=[i for i in range(1,421)])"
   ]
  },
  {
   "cell_type": "code",
   "execution_count": 47,
   "metadata": {},
   "outputs": [
    {
     "data": {
      "text/html": [
       "<div>\n",
       "<style scoped>\n",
       "    .dataframe tbody tr th:only-of-type {\n",
       "        vertical-align: middle;\n",
       "    }\n",
       "\n",
       "    .dataframe tbody tr th {\n",
       "        vertical-align: top;\n",
       "    }\n",
       "\n",
       "    .dataframe thead th {\n",
       "        text-align: right;\n",
       "    }\n",
       "</style>\n",
       "<table border=\"1\" class=\"dataframe\">\n",
       "  <thead>\n",
       "    <tr style=\"text-align: right;\">\n",
       "      <th></th>\n",
       "      <th>1</th>\n",
       "      <th>2</th>\n",
       "      <th>3</th>\n",
       "      <th>4</th>\n",
       "      <th>5</th>\n",
       "      <th>6</th>\n",
       "      <th>7</th>\n",
       "      <th>8</th>\n",
       "      <th>9</th>\n",
       "      <th>10</th>\n",
       "      <th>...</th>\n",
       "      <th>411</th>\n",
       "      <th>412</th>\n",
       "      <th>413</th>\n",
       "      <th>414</th>\n",
       "      <th>415</th>\n",
       "      <th>416</th>\n",
       "      <th>417</th>\n",
       "      <th>418</th>\n",
       "      <th>419</th>\n",
       "      <th>420</th>\n",
       "    </tr>\n",
       "  </thead>\n",
       "  <tbody>\n",
       "    <tr>\n",
       "      <th>0</th>\n",
       "      <td>1</td>\n",
       "      <td>1</td>\n",
       "      <td>1</td>\n",
       "      <td>1</td>\n",
       "      <td>0</td>\n",
       "      <td>1</td>\n",
       "      <td>0</td>\n",
       "      <td>1</td>\n",
       "      <td>0</td>\n",
       "      <td>0</td>\n",
       "      <td>...</td>\n",
       "      <td>0</td>\n",
       "      <td>1</td>\n",
       "      <td>0</td>\n",
       "      <td>0</td>\n",
       "      <td>0</td>\n",
       "      <td>1</td>\n",
       "      <td>1</td>\n",
       "      <td>1</td>\n",
       "      <td>1</td>\n",
       "      <td>0</td>\n",
       "    </tr>\n",
       "    <tr>\n",
       "      <th>1</th>\n",
       "      <td>1</td>\n",
       "      <td>0</td>\n",
       "      <td>0</td>\n",
       "      <td>0</td>\n",
       "      <td>1</td>\n",
       "      <td>1</td>\n",
       "      <td>0</td>\n",
       "      <td>0</td>\n",
       "      <td>1</td>\n",
       "      <td>0</td>\n",
       "      <td>...</td>\n",
       "      <td>0</td>\n",
       "      <td>1</td>\n",
       "      <td>0</td>\n",
       "      <td>0</td>\n",
       "      <td>1</td>\n",
       "      <td>0</td>\n",
       "      <td>0</td>\n",
       "      <td>1</td>\n",
       "      <td>1</td>\n",
       "      <td>0</td>\n",
       "    </tr>\n",
       "    <tr>\n",
       "      <th>2</th>\n",
       "      <td>0</td>\n",
       "      <td>1</td>\n",
       "      <td>1</td>\n",
       "      <td>0</td>\n",
       "      <td>0</td>\n",
       "      <td>1</td>\n",
       "      <td>0</td>\n",
       "      <td>1</td>\n",
       "      <td>0</td>\n",
       "      <td>0</td>\n",
       "      <td>...</td>\n",
       "      <td>0</td>\n",
       "      <td>0</td>\n",
       "      <td>1</td>\n",
       "      <td>1</td>\n",
       "      <td>0</td>\n",
       "      <td>0</td>\n",
       "      <td>1</td>\n",
       "      <td>0</td>\n",
       "      <td>0</td>\n",
       "      <td>0</td>\n",
       "    </tr>\n",
       "    <tr>\n",
       "      <th>3</th>\n",
       "      <td>0</td>\n",
       "      <td>1</td>\n",
       "      <td>1</td>\n",
       "      <td>1</td>\n",
       "      <td>0</td>\n",
       "      <td>1</td>\n",
       "      <td>0</td>\n",
       "      <td>1</td>\n",
       "      <td>1</td>\n",
       "      <td>0</td>\n",
       "      <td>...</td>\n",
       "      <td>0</td>\n",
       "      <td>0</td>\n",
       "      <td>1</td>\n",
       "      <td>0</td>\n",
       "      <td>0</td>\n",
       "      <td>1</td>\n",
       "      <td>0</td>\n",
       "      <td>1</td>\n",
       "      <td>0</td>\n",
       "      <td>0</td>\n",
       "    </tr>\n",
       "    <tr>\n",
       "      <th>4</th>\n",
       "      <td>0</td>\n",
       "      <td>0</td>\n",
       "      <td>0</td>\n",
       "      <td>0</td>\n",
       "      <td>1</td>\n",
       "      <td>0</td>\n",
       "      <td>1</td>\n",
       "      <td>0</td>\n",
       "      <td>1</td>\n",
       "      <td>1</td>\n",
       "      <td>...</td>\n",
       "      <td>1</td>\n",
       "      <td>1</td>\n",
       "      <td>0</td>\n",
       "      <td>0</td>\n",
       "      <td>1</td>\n",
       "      <td>0</td>\n",
       "      <td>0</td>\n",
       "      <td>0</td>\n",
       "      <td>1</td>\n",
       "      <td>0</td>\n",
       "    </tr>\n",
       "  </tbody>\n",
       "</table>\n",
       "<p>5 rows × 420 columns</p>\n",
       "</div>"
      ],
      "text/plain": [
       "   1    2    3    4    5    6    7    8    9    10  ...   411  412  413  414  \\\n",
       "0    1    1    1    1    0    1    0    1    0    0 ...     0    1    0    0   \n",
       "1    1    0    0    0    1    1    0    0    1    0 ...     0    1    0    0   \n",
       "2    0    1    1    0    0    1    0    1    0    0 ...     0    0    1    1   \n",
       "3    0    1    1    1    0    1    0    1    1    0 ...     0    0    1    0   \n",
       "4    0    0    0    0    1    0    1    0    1    1 ...     1    1    0    0   \n",
       "\n",
       "   415  416  417  418  419  420  \n",
       "0    0    1    1    1    1    0  \n",
       "1    1    0    0    1    1    0  \n",
       "2    0    0    1    0    0    0  \n",
       "3    0    1    0    1    0    0  \n",
       "4    1    0    0    0    1    0  \n",
       "\n",
       "[5 rows x 420 columns]"
      ]
     },
     "execution_count": 47,
     "metadata": {},
     "output_type": "execute_result"
    }
   ],
   "source": [
    "df.head()"
   ]
  },
  {
   "cell_type": "code",
   "execution_count": 48,
   "metadata": {},
   "outputs": [],
   "source": [
    "df.to_csv(os.path.join(DATADIR, 'dummy_results.csv.gz'),compression='gzip',index=False)"
   ]
  }
 ],
 "metadata": {
  "keep_output": true,
  "kernelspec": {
   "display_name": "taxon-sl",
   "language": "python",
   "name": "taxon-sl"
  },
  "language_info": {
   "codemirror_mode": {
    "name": "ipython",
    "version": 3
   },
   "file_extension": ".py",
   "mimetype": "text/x-python",
   "name": "python",
   "nbconvert_exporter": "python",
   "pygments_lexer": "ipython3",
   "version": "3.4.6"
  }
 },
 "nbformat": 4,
 "nbformat_minor": 2
}
