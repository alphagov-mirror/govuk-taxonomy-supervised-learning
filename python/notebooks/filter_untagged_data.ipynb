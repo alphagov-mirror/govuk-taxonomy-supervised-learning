{
 "cells": [
  {
   "cell_type": "code",
   "execution_count": null,
   "metadata": {},
   "outputs": [],
   "source": [
    "import numpy as np\n",
    "import pandas as pd\n",
    "import os\n",
    "import re\n",

    "import yaml\n",
    "# fuzz is used to compare TWO strings\n",
    "from fuzzywuzzy import fuzz"

   ]
  },
  {
   "cell_type": "code",
   "execution_count": null,
   "metadata": {},
   "outputs": [],
   "source": [
    "DATADIR = os.getenv('DATADIR')\n",
    "DATADIR"
   ]
  },
  {

   "cell_type": "code",
   "execution_count": 3,
   "metadata": {},
   "outputs": [
    {
     "name": "stdout",
     "output_type": "stream",
     "text": [
      "model v2.0.0 was run on data dated /data/2018-03-27\n"
     ]
    }
   ],
   "source": [
    "print(\"model v2.0.0 was run on data dated {}\".format(DATADIR))"
   ]
  },
  {


   "execution_count": 4,
   "metadata": {},
   "outputs": [],
   "source": [
    "# BASE_DIR = '../../../govuk-taxonomy-supervised-learning/'\n",
    "# DATADIR = '../../../govuk-taxonomy-supervised-learning/data'\n",
    "# DATADIR_NEW = os.path.join(DATADIR, '2018-03-12')\n",
    "# DATADIR_NEW"

   ]
  },
  {
   "cell_type": "code",

   "execution_count": 5,
   "metadata": {},
   "outputs": [],
   "source": [
    "unlabelled = pd.read_csv(\n",
    "    os.path.join(DATADIR, 'unlabelled_predictions_meta.csv.gz'),\n",

    "    dtype=object,\n",
    "    compression='gzip'\n",
    ")"
   ]
  },
  {
   "cell_type": "code",

   "execution_count": 6,
   "metadata": {},
   "outputs": [],
   "source": [
    "unlabelled_unique_content = unlabelled.drop_duplicates('content_id').copy()"
   ]
  },
  {
   "cell_type": "code",
   "execution_count": 7,
   "metadata": {},
   "outputs": [],
   "source": [
    "prim_pub_map = pd.read_csv(\n",
    "    os.path.join(DATADIR, 'bulkmap_pub_org_to_taxon.csv'),\n",
    "    dtype=object,\n",
    "    skipfooter=1\n",
    ")"
   ]
  },
  {
   "cell_type": "code",
   "execution_count": 9,
   "metadata": {},
   "outputs": [],
   "source": [
    "taxons = pd.read_csv(\n",
    "    os.path.join(DATADIR, 'clean_taxons.csv.gz'),\n",
    "    dtype=object,\n",
    "    compression='gzip'\n",

    ")"
   ]
  },
  {
   "cell_type": "code",

   "execution_count": 10,
   "metadata": {},
   "outputs": [
    {
     "data": {
      "text/html": [
       "<div>\n",
       "<style scoped>\n",
       "    .dataframe tbody tr th:only-of-type {\n",
       "        vertical-align: middle;\n",
       "    }\n",
       "\n",
       "    .dataframe tbody tr th {\n",
       "        vertical-align: top;\n",
       "    }\n",
       "\n",
       "    .dataframe thead th {\n",
       "        text-align: right;\n",
       "    }\n",
       "</style>\n",
       "<table border=\"1\" class=\"dataframe\">\n",
       "  <thead>\n",
       "    <tr style=\"text-align: right;\">\n",
       "      <th></th>\n",
       "      <th>base_path</th>\n",
       "      <th>content_id</th>\n",
       "      <th>taxon_name</th>\n",
       "      <th>level1</th>\n",
       "      <th>level2tax_id</th>\n",
       "      <th>level3tax_id</th>\n",
       "      <th>level4tax_id</th>\n",
       "      <th>level1taxon</th>\n",
       "      <th>level2taxon</th>\n",
       "      <th>level3taxon</th>\n",
       "      <th>level4taxon</th>\n",
       "      <th>level5taxon</th>\n",
       "    </tr>\n",
       "  </thead>\n",
       "  <tbody>\n",
       "    <tr>\n",
       "      <th>0</th>\n",
       "      <td>/transport/all</td>\n",
       "      <td>a4038b29-b332-4f13-98b1-1c9709e216bc</td>\n",
       "      <td>Transport</td>\n",
       "      <td>NaN</td>\n",
       "      <td>NaN</td>\n",
       "      <td>NaN</td>\n",
       "      <td>NaN</td>\n",
       "      <td>Transport</td>\n",
       "      <td>NaN</td>\n",
       "      <td>NaN</td>\n",
       "      <td>NaN</td>\n",
       "      <td>NaN</td>\n",
       "    </tr>\n",
       "    <tr>\n",
       "      <th>1</th>\n",
       "      <td>/defence</td>\n",
       "      <td>e491505c-77ae-45b2-84be-8c94b94f6a2b</td>\n",
       "      <td>Defence</td>\n",
       "      <td>NaN</td>\n",
       "      <td>NaN</td>\n",
       "      <td>NaN</td>\n",
       "      <td>NaN</td>\n",
       "      <td>Defence</td>\n",
       "      <td>NaN</td>\n",
       "      <td>NaN</td>\n",
       "      <td>NaN</td>\n",
       "      <td>NaN</td>\n",
       "    </tr>\n",
       "    <tr>\n",
       "      <th>2</th>\n",
       "      <td>/life-circumstances</td>\n",
       "      <td>20086ead-41fc-49cf-8a62-d4e1126f41fc</td>\n",
       "      <td>Life circumstances</td>\n",
       "      <td>NaN</td>\n",
       "      <td>NaN</td>\n",
       "      <td>NaN</td>\n",
       "      <td>NaN</td>\n",
       "      <td>Life circumstances</td>\n",
       "      <td>NaN</td>\n",
       "      <td>NaN</td>\n",
       "      <td>NaN</td>\n",
       "      <td>NaN</td>\n",
       "    </tr>\n",
       "    <tr>\n",
       "      <th>3</th>\n",
       "      <td>/money</td>\n",
       "      <td>6acc9db4-780e-4a46-92b4-1812e3c2c48a</td>\n",
       "      <td>Money</td>\n",
       "      <td>NaN</td>\n",
       "      <td>NaN</td>\n",
       "      <td>NaN</td>\n",
       "      <td>NaN</td>\n",
       "      <td>Money</td>\n",
       "      <td>NaN</td>\n",
       "      <td>NaN</td>\n",
       "      <td>NaN</td>\n",
       "      <td>NaN</td>\n",
       "    </tr>\n",
       "    <tr>\n",
       "      <th>4</th>\n",
       "      <td>/government/all</td>\n",
       "      <td>e48ab80a-de80-4e83-bf59-26316856a5f9</td>\n",
       "      <td>Government</td>\n",
       "      <td>NaN</td>\n",
       "      <td>NaN</td>\n",
       "      <td>NaN</td>\n",
       "      <td>NaN</td>\n",
       "      <td>Government</td>\n",
       "      <td>NaN</td>\n",
       "      <td>NaN</td>\n",
       "      <td>NaN</td>\n",
       "      <td>NaN</td>\n",
       "    </tr>\n",
       "  </tbody>\n",
       "</table>\n",
       "</div>"
      ],
      "text/plain": [
       "             base_path                            content_id  \\\n",
       "0       /transport/all  a4038b29-b332-4f13-98b1-1c9709e216bc   \n",
       "1             /defence  e491505c-77ae-45b2-84be-8c94b94f6a2b   \n",
       "2  /life-circumstances  20086ead-41fc-49cf-8a62-d4e1126f41fc   \n",
       "3               /money  6acc9db4-780e-4a46-92b4-1812e3c2c48a   \n",
       "4      /government/all  e48ab80a-de80-4e83-bf59-26316856a5f9   \n",
       "\n",
       "           taxon_name level1 level2tax_id level3tax_id level4tax_id  \\\n",
       "0           Transport    NaN          NaN          NaN          NaN   \n",
       "1             Defence    NaN          NaN          NaN          NaN   \n",
       "2  Life circumstances    NaN          NaN          NaN          NaN   \n",
       "3               Money    NaN          NaN          NaN          NaN   \n",
       "4          Government    NaN          NaN          NaN          NaN   \n",
       "\n",
       "          level1taxon level2taxon level3taxon level4taxon level5taxon  \n",
       "0           Transport         NaN         NaN         NaN         NaN  \n",
       "1             Defence         NaN         NaN         NaN         NaN  \n",
       "2  Life circumstances         NaN         NaN         NaN         NaN  \n",
       "3               Money         NaN         NaN         NaN         NaN  \n",
       "4          Government         NaN         NaN         NaN         NaN  "
      ]
     },
     "execution_count": 10,
     "metadata": {},
     "output_type": "execute_result"
    }
   ],
   "source": [
    "taxons.head()"
   ]
  },
  {
   "cell_type": "code",
   "execution_count": 11,
   "metadata": {},
   "outputs": [],
   "source": [
    "taxon_names = taxons['taxon_name'].unique()"
   ]
  },
  {
   "cell_type": "code",
   "execution_count": 12,
   "metadata": {},
   "outputs": [
    {
     "data": {
      "text/plain": [
       "(2471,)"
      ]
     },
     "execution_count": 12,
     "metadata": {},
     "output_type": "execute_result"
    }
   ],
   "source": [
    "taxon_names.shape"
   ]
  },
  {
   "cell_type": "code",
   "execution_count": 14,
   "metadata": {},
   "outputs": [],
   "source": [
    "# sort out the fuzzy matching for taxon name\n",
    "prim_pub_map['taxon_name'] = ''\n",
    "\n",
    "for taxon_name in taxon_names:\n",
    "    for index, row in prim_pub_map.iterrows():\n",
    "        if row['Bulk Tag to']:\n",
    "            fuzzy = row['Bulk Tag to']\n",
    "        \n",
    "            score = fuzz.token_sort_ratio(fuzzy, taxon_name)\n",
    "        \n",
    "            if score > 90:\n",
    "                \n",
    "                row['taxon_name'] = taxon_name\n",
    "            "
   ]
  },
  {
   "cell_type": "code",
   "execution_count": 15,
   "metadata": {},
   "outputs": [],
   "source": [
    "taxon_name_id_dict = dict(zip((taxons['taxon_name']),\n",
    "                        taxons['content_id']))"
   ]
  },
  {
   "cell_type": "code",
   "execution_count": 16,
   "metadata": {},
   "outputs": [],
   "source": [
    "prim_pub_map['taxon_id'] = prim_pub_map['taxon_name'].map(taxon_name_id_dict).copy()"
   ]
  },
  {
   "cell_type": "code",
   "execution_count": 17,
   "metadata": {},
   "outputs": [],
   "source": [
    "# get rid of grand total row\n",
    "prim_pub_map = prim_pub_map[:-1].copy()"
   ]
  },
  {
   "cell_type": "code",
   "execution_count": 18,
   "metadata": {},
   "outputs": [],
   "source": [
    "def strip_prim_org(x):\n",
    "    if x=='':\n",
    "        return ''\n",
    "    else:\n",
    "        return re.sub('\\\"|}',\"\",x.split(\"=>\")[1])"
   ]
  },
  {
   "cell_type": "code",
   "execution_count": 19,
   "metadata": {},
   "outputs": [],
   "source": [
    "prim_pub_map['primary_publishing_organisation'] = prim_pub_map['primary_publishing_organisation'].fillna('').copy()"
   ]
  },
  {
   "cell_type": "code",
   "execution_count": 20,
   "metadata": {},
   "outputs": [],
   "source": [
    "prim_pub_map['primary_publishing_organisation'] = prim_pub_map['primary_publishing_organisation'].\\\n",
    "                map(strip_prim_org)"
   ]
  },
  {
   "cell_type": "code",
   "execution_count": 21,
   "metadata": {},
   "outputs": [
    {
     "data": {
      "text/html": [
       "<div>\n",
       "<style scoped>\n",
       "    .dataframe tbody tr th:only-of-type {\n",
       "        vertical-align: middle;\n",
       "    }\n",
       "\n",
       "    .dataframe tbody tr th {\n",
       "        vertical-align: top;\n",
       "    }\n",
       "\n",
       "    .dataframe thead th {\n",
       "        text-align: right;\n",
       "    }\n",
       "</style>\n",
       "<table border=\"1\" class=\"dataframe\">\n",
       "  <thead>\n",
       "    <tr style=\"text-align: right;\">\n",
       "      <th></th>\n",
       "      <th>primary_publishing_organisation</th>\n",
       "      <th>COUNTA of primary_publishing_organisation</th>\n",
       "      <th>Bulk Tag to</th>\n",
       "      <th>Level</th>\n",
       "      <th>taxon_name</th>\n",
       "      <th>taxon_id</th>\n",
       "    </tr>\n",
       "  </thead>\n",
       "  <tbody>\n",
       "    <tr>\n",
       "      <th>0</th>\n",
       "      <td></td>\n",
       "      <td>0</td>\n",
       "      <td>NaN</td>\n",
       "      <td>NaN</td>\n",
       "      <td></td>\n",
       "      <td>NaN</td>\n",
       "    </tr>\n",
       "    <tr>\n",
       "      <th>1</th>\n",
       "      <td>British Cattle Movement Service</td>\n",
       "      <td>1</td>\n",
       "      <td>NaN</td>\n",
       "      <td>NaN</td>\n",
       "      <td></td>\n",
       "      <td>NaN</td>\n",
       "    </tr>\n",
       "    <tr>\n",
       "      <th>2</th>\n",
       "      <td>Building Regulations Advisory Committee</td>\n",
       "      <td>1</td>\n",
       "      <td>Business regulation</td>\n",
       "      <td>Level 3 (Business)</td>\n",
       "      <td>Business regulation</td>\n",
       "      <td>33bc0eed-62c7-4b0b-9a93-626c9e10c025</td>\n",
       "    </tr>\n",
       "    <tr>\n",
       "      <th>3</th>\n",
       "      <td>Commonwealth Scholarship Commission in the UK</td>\n",
       "      <td>1</td>\n",
       "      <td>NaN</td>\n",
       "      <td>NaN</td>\n",
       "      <td></td>\n",
       "      <td>NaN</td>\n",
       "    </tr>\n",
       "    <tr>\n",
       "      <th>4</th>\n",
       "      <td>Copyright Tribunal</td>\n",
       "      <td>1</td>\n",
       "      <td>Copyright</td>\n",
       "      <td>Level 3 (Crime Justice and Law)</td>\n",
       "      <td>Copyright</td>\n",
       "      <td>7b2a45e2-2f20-4331-a2b6-de512b007a52</td>\n",
       "    </tr>\n",
       "  </tbody>\n",
       "</table>\n",
       "</div>"
      ],
      "text/plain": [
       "                 primary_publishing_organisation  \\\n",
       "0                                                  \n",
       "1                British Cattle Movement Service   \n",
       "2        Building Regulations Advisory Committee   \n",
       "3  Commonwealth Scholarship Commission in the UK   \n",
       "4                             Copyright Tribunal   \n",
       "\n",
       "  COUNTA of primary_publishing_organisation          Bulk Tag to  \\\n",
       "0                                         0                  NaN   \n",
       "1                                         1                  NaN   \n",
       "2                                         1  Business regulation   \n",
       "3                                         1                  NaN   \n",
       "4                                         1           Copyright    \n",
       "\n",
       "                             Level           taxon_name  \\\n",
       "0                              NaN                        \n",
       "1                              NaN                        \n",
       "2               Level 3 (Business)  Business regulation   \n",
       "3                              NaN                        \n",
       "4  Level 3 (Crime Justice and Law)            Copyright   \n",
       "\n",
       "                               taxon_id  \n",
       "0                                   NaN  \n",
       "1                                   NaN  \n",
       "2  33bc0eed-62c7-4b0b-9a93-626c9e10c025  \n",
       "3                                   NaN  \n",
       "4  7b2a45e2-2f20-4331-a2b6-de512b007a52  "
      ]
     },
     "execution_count": 21,
     "metadata": {},
     "output_type": "execute_result"
    }
   ],
   "source": [
    "prim_pub_map.head()"
   ]
  },
  {
   "cell_type": "code",
   "execution_count": 22,
   "metadata": {},
   "outputs": [],
   "source": [
    "pub_taxon_dict = dict(zip((prim_pub_map['primary_publishing_organisation']),\n",
    "                        prim_pub_map['taxon_name']))"
   ]
  },
  {
   "cell_type": "code",
   "execution_count": 23,
   "metadata": {},
   "outputs": [],
   "source": [
    "unlabelled_unique_content['taxon2label_bulk'] = unlabelled_unique_content['primary_publishing_organisation'].map(pub_taxon_dict)"
   ]
  },
  {
   "cell_type": "code",
   "execution_count": 29,
   "metadata": {},
   "outputs": [
    {
     "data": {
      "text/plain": [
       "(15161, 18)"
      ]
     },
     "execution_count": 29,
     "metadata": {},
     "output_type": "execute_result"
    }
   ],
   "source": [
    "unlabelled_unique_content[unlabelled_unique_content['taxon2label_bulk'].isnull()].shape"
   ]
  },
  {
   "cell_type": "code",
   "execution_count": 30,
   "metadata": {},
   "outputs": [
    {
     "data": {
      "text/plain": [
       "(70273, 18)"
      ]
     },
     "execution_count": 30,
     "metadata": {},
     "output_type": "execute_result"
    }
   ],
   "source": [
    "unlabelled_unique_content[unlabelled_unique_content['taxon2label_bulk'].notnull()].shape"
   ]
  },
  {
   "cell_type": "code",
   "execution_count": 34,
   "metadata": {},
   "outputs": [],
   "source": [
    "bulk_tags = unlabelled_unique_content[unlabelled_unique_content['taxon2label_bulk'].notnull()].copy()"
   ]
  },
  {
   "cell_type": "code",
   "execution_count": 35,
   "metadata": {},
   "outputs": [],
   "source": [
    "bulk_tags['taxon2label'] = bulk_tags['taxon2label_bulk']"
   ]
  },
  {
   "cell_type": "code",
   "execution_count": 39,
   "metadata": {},
   "outputs": [],
   "source": [
    "bulk_tags['prob'] = np.nan\n",
    "bulk_tags['prob_cat'] = np.nan"
   ]
  },
  {
   "cell_type": "code",
   "execution_count": 40,
   "metadata": {},
   "outputs": [],
   "source": [
    "bulk_tags['how_tagged'] = 'bulk_tag'"
   ]
  },
  {
   "cell_type": "code",
   "execution_count": null,
   "metadata": {},
   "outputs": [],
   "source": []
  },
  {
   "cell_type": "code",
   "execution_count": null,
   "metadata": {},
   "outputs": [],
   "source": []
  },
  {
   "cell_type": "code",
   "execution_count": null,
   "metadata": {},
   "outputs": [],
   "source": []
  },
  {
   "cell_type": "code",
   "execution_count": null,
   "metadata": {},
   "outputs": [],
   "source": []
  },
  {
   "cell_type": "code",