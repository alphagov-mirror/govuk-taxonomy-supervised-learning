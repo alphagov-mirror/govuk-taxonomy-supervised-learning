{
 "cells": [
  {
   "cell_type": "markdown",
   "metadata": {},
   "source": [
    "### Load requirements and data"
   ]
  },
  {
   "cell_type": "code",
   "execution_count": 5,
   "metadata": {},
   "outputs": [],
   "source": [
    "import pandas as pd\n",
    "import numpy as np\n",
    "import os\n",
    "from datetime import datetime\n",
    "from keras.preprocessing.text import Tokenizer\n",
    "from keras.preprocessing.sequence import pad_sequences\n",
    "\n",
    "from keras.utils import to_categorical, layer_utils, plot_model\n",
    "\n",
    "from keras.layers import (Embedding, Input, Dense, Dropout, \n",
    "                          Activation, Conv1D, MaxPooling1D, Flatten, concatenate, Reshape)\n",
    "from keras.models import Model, Sequential\n",
    "from keras.optimizers import rmsprop\n",
    "from keras.callbacks import TensorBoard, Callback, ModelCheckpoint\n",
    "import keras.backend as K\n",
    "from keras.losses import binary_crossentropy\n",
    "\n",
    "from sklearn.preprocessing import LabelEncoder, MultiLabelBinarizer\n",
    "from sklearn.metrics import confusion_matrix, f1_score, precision_score, recall_score \n",
    "from sklearn.metrics import precision_recall_fscore_support, classification_report\n",
    "from sklearn.utils import class_weight\n",
    "from sklearn.feature_extraction.text import TfidfTransformer, TfidfVectorizer\n",
    "\n",
    "import tensorflow as tf\n",
    "\n",
    "import matplotlib.pyplot as plt\n",
    "%matplotlib inline\n",
    "\n",
    "import functools\n",
    "\n",
    "import h5py\n"
   ]
  },
  {
   "cell_type": "markdown",
   "metadata": {},
   "source": [
    "### Environmental vars"
   ]
  },
  {
   "cell_type": "code",
   "execution_count": 6,
   "metadata": {},
   "outputs": [],
   "source": [
    "DATADIR=os.getenv('DATADIR')\n",
    "#DATADIR='/data' #this was put in for AWS run but doesn't work locally..."
   ]
  },
  {
   "cell_type": "markdown",
   "metadata": {},
   "source": [
    "### Read in data\n",
    "Content items tagged to level 2 taxons or lower in the topic taxonomy"
   ]
  },
  {
   "cell_type": "code",
   "execution_count": 7,
   "metadata": {},
   "outputs": [],
   "source": [
    "labelled_level2 = pd.read_csv(os.path.join(DATADIR, 'labelled_level2.csv.gz'), dtype=object, compression='gzip')"
   ]
  },
  {
   "cell_type": "markdown",
   "metadata": {},
   "source": [
    "#### clean up any World taxons leftover despite dropping relevant doctypes"
   ]
  },
  {
   "cell_type": "code",
   "execution_count": 8,
   "metadata": {},
   "outputs": [],
   "source": [
    "#COLLAPSE World level2taxons\n",
    "labelled_level2.loc[labelled_level2['level1taxon'] == 'World', 'level2taxon'] = 'world_level1'\n",
    "\n",
    "#creating categorical variable for level2taxons from values\n",
    "labelled_level2['level2taxon'] = labelled_level2['level2taxon'].astype('category')"
   ]
  },
  {
   "cell_type": "code",
   "execution_count": 9,
   "metadata": {},
   "outputs": [
    {
     "data": {
      "text/plain": [
       "(173560, 23)"
      ]
     },
     "execution_count": 9,
     "metadata": {},
     "output_type": "execute_result"
    }
   ],
   "source": [
    "labelled_level2.shape"
   ]
  },
  {
   "cell_type": "markdown",
   "metadata": {},
   "source": [
    "### drop news"
   ]
  },
  {
   "cell_type": "code",
   "execution_count": 10,
   "metadata": {},
   "outputs": [
    {
     "data": {
      "text/plain": [
       "(3927, 23)"
      ]
     },
     "execution_count": 10,
     "metadata": {},
     "output_type": "execute_result"
    }
   ],
   "source": [
    "labelled_level2[(labelled_level2['document_type'] == 'world_news_story')].shape"
   ]
  },
  {
   "cell_type": "code",
   "execution_count": 11,
   "metadata": {},
   "outputs": [
    {
     "data": {
      "text/plain": [
       "(33214, 23)"
      ]
     },
     "execution_count": 11,
     "metadata": {},
     "output_type": "execute_result"
    }
   ],
   "source": [
    "labelled_level2[(labelled_level2['document_type'] == 'news_story')].shape"
   ]
  },
  {
   "cell_type": "code",
   "execution_count": 12,
   "metadata": {},
   "outputs": [],
   "source": [
    "nonews = labelled_level2[(labelled_level2['document_type'] != 'news_story')]\n",
    "\n",
    "nonews = nonews[nonews['document_type'] != 'world_news_story']"
   ]
  },
  {
   "cell_type": "code",
   "execution_count": 13,
   "metadata": {},
   "outputs": [
    {
     "data": {
      "text/plain": [
       "(136419, 23)"
      ]
     },
     "execution_count": 13,
     "metadata": {},
     "output_type": "execute_result"
    }
   ],
   "source": [
    "nonews.shape"
   ]
  },
  {
   "cell_type": "markdown",
   "metadata": {},
   "source": [
    "### Create dictionary mapping taxon codes to string labels"
   ]
  },
  {
   "cell_type": "code",
   "execution_count": 14,
   "metadata": {},
   "outputs": [
    {
     "data": {
      "text/plain": [
       "{1: 'Administrative justice reform',\n",
       " 2: 'Adoption, fostering and surrogacy',\n",
       " 3: 'Afghanistan',\n",
       " 4: 'Armed Forces Covenant',\n",
       " 5: 'Armed forces',\n",
       " 6: 'Armed forces and Ministry of Defence reform',\n",
       " 7: 'Armed forces support for activities in the UK',\n",
       " 8: 'Arts and culture',\n",
       " 9: 'Assessing environmental impact',\n",
       " 10: 'Asylum',\n",
       " 11: 'Attorney General guidance to the legal profession',\n",
       " 12: 'Aviation',\n",
       " 13: 'Benefits entitlement',\n",
       " 14: 'Benefits for families',\n",
       " 15: 'Biodiversity and ecosystems',\n",
       " 16: 'Boating and inland waterways',\n",
       " 17: 'Brexit',\n",
       " 18: 'Brexit and the EU',\n",
       " 19: 'British citizenship ',\n",
       " 20: 'British nationals overseas',\n",
       " 21: 'Business and enterprise',\n",
       " 22: 'Business and the environment',\n",
       " 23: 'Business tax',\n",
       " 24: 'Byelaws',\n",
       " 25: 'Carers and disability benefits',\n",
       " 26: \"Carers' health\",\n",
       " 27: 'Certificates, register offices, changes of name or gender',\n",
       " 28: 'Charities, volunteering and honours',\n",
       " 29: 'Child Benefit',\n",
       " 30: 'Child maintenance reform',\n",
       " 31: 'Childcare and early years',\n",
       " 32: \"Children's health and welfare\",\n",
       " 33: 'Civil justice reform',\n",
       " 34: 'Civil service reform',\n",
       " 35: 'Climate change and energy',\n",
       " 36: 'Commercial fishing and fisheries',\n",
       " 37: 'Community and society',\n",
       " 38: 'Conflict in fragile states',\n",
       " 39: 'Constitutional affairs',\n",
       " 40: 'Consumer rights and issues',\n",
       " 41: 'Content and publishing',\n",
       " 42: 'Counter-terrorism',\n",
       " 43: 'Court claims, debt and bankruptcy',\n",
       " 44: 'Courts, sentencing and tribunals',\n",
       " 45: 'Crime prevention',\n",
       " 46: 'Criminal justice reform',\n",
       " 47: 'Criminal record disclosure',\n",
       " 48: 'Cyber security',\n",
       " 49: 'Dealing with HMRC',\n",
       " 50: 'Death and benefits',\n",
       " 51: 'Death and bereavement',\n",
       " 52: 'Deficit reduction',\n",
       " 53: 'Devolution',\n",
       " 54: 'Diplomats',\n",
       " 55: 'Disabled people',\n",
       " 56: 'Divorce, separation and legal issues',\n",
       " 57: 'Domestic violence',\n",
       " 58: 'Driving and road transport',\n",
       " 59: 'Education of disadvantaged children',\n",
       " 60: 'Emergency preparation, response and recovery',\n",
       " 61: 'Employing people',\n",
       " 62: 'End of life care',\n",
       " 63: 'Environmental permits',\n",
       " 64: 'Environmental quality',\n",
       " 65: 'Environmental risk management',\n",
       " 66: 'Equality, rights and citizenship',\n",
       " 67: 'European Union laws and regulation',\n",
       " 68: 'European funds',\n",
       " 69: 'European single market',\n",
       " 70: 'Expenses and employee benefits',\n",
       " 71: 'Family justice system',\n",
       " 72: 'Financial help if you have children',\n",
       " 73: 'Financial services',\n",
       " 74: 'Fire prevention and rescue',\n",
       " 75: 'Flooding and coastal change',\n",
       " 76: 'Food and farming',\n",
       " 77: 'Forced marriage',\n",
       " 78: 'Foreign affairs',\n",
       " 79: 'Freight and cargo',\n",
       " 80: 'Funding and finance for students',\n",
       " 81: 'Further and higher education, skills and vocational training',\n",
       " 82: 'Government efficiency, transparency and accountability',\n",
       " 83: 'Government graduate schemes',\n",
       " 84: 'Government spending',\n",
       " 85: 'HS2 and the environment',\n",
       " 86: 'Having a child, parenting and adoption',\n",
       " 87: 'Health and safety reform',\n",
       " 88: 'Health protection',\n",
       " 89: 'Heating and housing benefits',\n",
       " 90: 'Housing',\n",
       " 91: 'Housing planning and building',\n",
       " 92: 'Human rights internationally',\n",
       " 93: 'Immigration rules and enforcement',\n",
       " 94: 'Industrial strategy',\n",
       " 95: 'Inspections and performance of education providers',\n",
       " 96: 'International aid and development',\n",
       " 97: 'International defence commitments',\n",
       " 98: \"Jobseeker's Allowance and low income benefits\",\n",
       " 99: 'Justice system transparency',\n",
       " 100: 'Knife, gun and gang crime',\n",
       " 101: 'Labour market reform',\n",
       " 102: 'Land Registration Data ',\n",
       " 103: 'Land management',\n",
       " 104: 'Land registration',\n",
       " 105: 'Lasting power of attorney, being in care and your financial affairs',\n",
       " 106: 'Law and practice',\n",
       " 107: 'Legal aid',\n",
       " 108: 'Legal aid reform',\n",
       " 109: 'Legislative process',\n",
       " 110: 'Living abroad',\n",
       " 111: 'Living in the UK, government and democracy',\n",
       " 112: 'Local councils and services',\n",
       " 113: 'Local government',\n",
       " 114: 'Local government spending',\n",
       " 115: 'Local transport',\n",
       " 116: 'Localism',\n",
       " 117: 'Major project management',\n",
       " 118: 'Marine',\n",
       " 119: 'Maritime',\n",
       " 120: 'Marriage, civil partnership and divorce',\n",
       " 121: 'Media and communications',\n",
       " 122: 'Medical certification and advice',\n",
       " 123: 'Medicines, medical devices and blood regulation and safety',\n",
       " 124: 'Military awards and commemorations',\n",
       " 125: 'Military equipment, logistics and technology',\n",
       " 126: 'Military recruitment, training and operations',\n",
       " 127: 'Ministry of Defence estate',\n",
       " 128: 'Money laundering regulations',\n",
       " 129: 'National Health Service',\n",
       " 130: 'National events and ceremonies',\n",
       " 131: 'National security',\n",
       " 132: 'Northern Ireland',\n",
       " 133: 'Nuclear disarmament',\n",
       " 134: 'Oil and gas',\n",
       " 135: 'Passports',\n",
       " 136: 'Passports and travel documents for foreign nationals',\n",
       " 137: 'Payroll',\n",
       " 138: 'Peace and stability in the Middle East and North Africa',\n",
       " 139: 'Pensions and ageing society',\n",
       " 140: 'Permanent stay in the UK',\n",
       " 141: 'Personal tax',\n",
       " 142: 'Policing',\n",
       " 143: 'Population screening programmes',\n",
       " 144: 'Postal service reform',\n",
       " 145: 'Pregnancy and birth',\n",
       " 146: 'Prisons and probation',\n",
       " 147: 'Public health',\n",
       " 148: 'Public sector land use',\n",
       " 149: 'Public services',\n",
       " 150: 'Pupil wellbeing, behaviour and attendance',\n",
       " 151: 'Rail',\n",
       " 152: 'Regulation reform',\n",
       " 153: 'Reoffending and rehabilitation',\n",
       " 154: 'Reporting crimes and getting compensation',\n",
       " 155: 'Road infrastructure',\n",
       " 156: 'Running and managing a school',\n",
       " 157: 'Rural and countryside',\n",
       " 158: 'Safeguarding and social care for children',\n",
       " 159: 'School and academy financial management and assurance',\n",
       " 160: 'School and academy funding',\n",
       " 161: 'School curriculum',\n",
       " 162: 'Science and innovation',\n",
       " 163: 'Scotland',\n",
       " 164: 'Screening and quality assurance (all programmes)',\n",
       " 165: 'Secondments with government',\n",
       " 166: 'Self-employment',\n",
       " 167: 'Sentencing reform',\n",
       " 168: 'Social care',\n",
       " 169: 'Special educational needs and disability (SEND) and high needs',\n",
       " 170: 'Sports and leisure',\n",
       " 171: 'Starting and attending school',\n",
       " 172: 'Statutory rights',\n",
       " 173: 'Support services for military and defence personnel and their families',\n",
       " 174: 'Support services for veterans and their families',\n",
       " 175: 'Sustainable development',\n",
       " 176: 'Tax credits',\n",
       " 177: 'Tax evasion and avoidance',\n",
       " 178: 'Teaching and leadership',\n",
       " 179: 'The Commonwealth',\n",
       " 180: 'Tourism',\n",
       " 181: 'Trade and investment',\n",
       " 182: 'Transport accessibility and mobility',\n",
       " 183: 'Transport corporate and transparency',\n",
       " 184: 'Transport modelling and appraisal',\n",
       " 185: 'Transport planning',\n",
       " 186: 'Transport research and evaluation',\n",
       " 187: 'Transport security',\n",
       " 188: 'Transport statistics',\n",
       " 189: 'Travel abroad',\n",
       " 190: 'UK border control',\n",
       " 191: 'UK economy',\n",
       " 192: 'UK nuclear deterrent',\n",
       " 193: 'UK prosperity and security: Asia, Latin America and Africa',\n",
       " 194: 'Universal Credit',\n",
       " 195: 'Victims of crime',\n",
       " 196: 'Violence against women and girls',\n",
       " 197: 'Visas',\n",
       " 198: 'Voting',\n",
       " 199: 'Wales',\n",
       " 200: 'Waste and recycling',\n",
       " 201: 'Water industry',\n",
       " 202: 'Weapons proliferation',\n",
       " 203: 'What you can bring to the UK',\n",
       " 204: 'Wildlife and animal welfare',\n",
       " 205: 'Work and disabled people',\n",
       " 206: 'Working, jobs and pensions',\n",
       " 207: 'Young people and the law',\n",
       " 208: 'Your rights and the law',\n",
       " 209: 'Youth employment and social issues',\n",
       " 210: 'world_level1'}"
      ]
     },
     "execution_count": 14,
     "metadata": {},
     "output_type": "execute_result"
    }
   ],
   "source": [
    "#Get the category numeric values (codes) and avoid zero-indexing\n",
    "labels = nonews['level2taxon'].cat.codes + 1\n",
    "\n",
    "#create dictionary of taxon category code to string label for use in model evaluation\n",
    "labels_index = dict(zip((labels), nonews['level2taxon']))\n",
    "labels_index"
   ]
  },
  {
   "cell_type": "code",
   "execution_count": 15,
   "metadata": {},
   "outputs": [
    {
     "name": "stdout",
     "output_type": "stream",
     "text": [
      "210\n"
     ]
    }
   ],
   "source": [
    "print(len(labels_index))"
   ]
  },
  {
   "cell_type": "markdown",
   "metadata": {},
   "source": [
    "### Create target/Y "
   ]
  },
  {
   "cell_type": "markdown",
   "metadata": {},
   "source": [
    "Note: when using the categorical_crossentropy loss, your targets should be in categorical format (e.g. if you have 10 classes, the target for each sample should be a 10-dimensional vector that is all-zeros expect for a 1 at the index corresponding to the class of the sample)."
   ]
  },
  {
   "cell_type": "markdown",
   "metadata": {},
   "source": [
    "In multilabel learning, the joint set of binary classification tasks is expressed with label binary indicator array: each sample is one row of a 2d array of shape (n_samples, n_classes) with binary values:  \n",
    "the one, i.e. the non zero elements, corresponds to the subset of labels.  \n",
    "An array such as np.array([[1, 0, 0], [0, 1, 1], [0, 0, 0]]) represents label 0 in the first sample, labels 1 and 2 in the second sample, and no labels in the third sample.  \n",
    "Producing multilabel data as a list of sets of labels may be more intuitive."
   ]
  },
  {
   "cell_type": "markdown",
   "metadata": {},
   "source": [
    "####  First reshape wide to get columns for each level2taxon and row number = number unique urls"
   ]
  },
  {
   "cell_type": "code",
   "execution_count": 16,
   "metadata": {},
   "outputs": [
    {
     "name": "stdout",
     "output_type": "stream",
     "text": [
      "Number of unique level2taxons: 210\n"
     ]
    }
   ],
   "source": [
    "#get a smaller copy of data for pivoting ease (think you can work from full data actually and other cols get droopedauto)\n",
    "\n",
    "level2_reduced = nonews[['content_id', 'level2taxon', 'combined_text', 'title', 'description']].copy()\n",
    "\n",
    "#how many level2taxons are there?\n",
    "print('Number of unique level2taxons: {}'.format(level2_reduced.level2taxon.nunique()))\n",
    "\n",
    "#count the number of taxons per content item into new column\n",
    "level2_reduced['num_taxon_per_content'] = level2_reduced.groupby([\"content_id\"])['content_id'].transform(\"count\")\n",
    "\n",
    "#Add 1 because of zero-indexing to get 1-number of level2taxons as numerical targets\n",
    "level2_reduced['level2taxon_code'] = level2_reduced.level2taxon.astype('category').cat.codes + 1"
   ]
  },
  {
   "cell_type": "code",
   "execution_count": 17,
   "metadata": {},
   "outputs": [
    {
     "name": "stdout",
     "output_type": "stream",
     "text": [
      "Number of unique level2taxons: 210\n"
     ]
    }
   ],
   "source": [
    "#how many level2taxons are there?\n",
    "print('Number of unique level2taxons: {}'.format(labelled_level2.level2taxon.nunique()))\n",
    "\n",
    "#count the number of taxons per content item into new column\n",
    "labelled_level2['num_taxon_per_content'] = labelled_level2.groupby([\"content_id\"])['content_id'].transform(\"count\")\n",
    "\n",
    "#Add 1 because of zero-indexing to get 1-number of level2taxons as numerical targets\n",
    "labelled_level2['level2taxon_code'] = labelled_level2.level2taxon.astype('category').cat.codes + 1"
   ]
  },
  {
   "cell_type": "code",
   "execution_count": 18,
   "metadata": {},
   "outputs": [
    {
     "name": "stdout",
     "output_type": "stream",
     "text": [
      "level2reduced shape: (136419, 7)\n",
      "pivot table shape (no duplicates): (92338, 210) \n"
     ]
    }
   ],
   "source": [
    "#reshape to wide per taxon and keep the combined text so indexing is consistent when splitting X from Y\n",
    "\n",
    "multilabel = (level2_reduced.pivot_table(index=['content_id', 'combined_text', 'title', 'description' ], \n",
    "                  columns='level2taxon_code', \n",
    "                  values='num_taxon_per_content'))\n",
    "print('level2reduced shape: {}'.format(level2_reduced.shape))\n",
    "print('pivot table shape (no duplicates): {} '.format(multilabel.shape))"
   ]
  },
  {
   "cell_type": "code",
   "execution_count": 19,
   "metadata": {},
   "outputs": [],
   "source": [
    "#THIS IS WHY INDEXING IS NOT ZERO-BASED\n",
    "#convert the number_of_taxons_per_content values to 1, meaning there was an entry for this taxon and this content_id, 0 otherwise\n",
    "binary_multilabel = multilabel.notnull().astype('int')"
   ]
  },
  {
   "cell_type": "code",
   "execution_count": 20,
   "metadata": {},
   "outputs": [
    {
     "name": "stdout",
     "output_type": "stream",
     "text": [
      "Shape of Y multilabel array before train/val/test split:(92338, 210)\n"
     ]
    }
   ],
   "source": [
    "#will convert columns to an array of shape\n",
    "print('Shape of Y multilabel array before train/val/test split:{}'.format(binary_multilabel[list(binary_multilabel.columns)].values.shape))"
   ]
  },
  {
   "cell_type": "code",
   "execution_count": 21,
   "metadata": {},
   "outputs": [
    {
     "name": "stdout",
     "output_type": "stream",
     "text": [
      "Example row of multilabel array [0 0 0 0 0 0 0 0 0 0 0 0 0 0 0 0 0 0 0 0 0 0 0 0 0 0 0 0 0 0 0 0 0 0 0 0 0\n",
      " 0 0 0 0 0 0 0 0 0 0 0 0 0 0 0 0 0 0 0 0 0 0 0 0 0 0 0 0 0 0 0 0 0 0 0 0 0\n",
      " 0 0 0 0 0 0 0 0 0 0 0 0 0 0 0 0 0 0 0 0 0 0 0 0 0 0 0 0 0 0 0 0 0 0 0 0 0\n",
      " 0 0 0 0 0 0 0 0 0 0 0 0 0 0 0 0 0 0 0 0 1 0 0 0 0 0 0 0 0 0 0 0 0 0 0 0 0\n",
      " 0 0 0 0 0 0 0 0 0 0 0 0 0 0 0 0 0 0 0 0 0 0 0 0 0 0 0 0 0 0 0 0 0 0 0 0 0\n",
      " 0 0 0 0 0 0 0 0 0 0 0 0 0 0 0 0 0 0 0 0 0 0 0 0 0]\n"
     ]
    }
   ],
   "source": [
    "#convert columns to an array. Each row represents a content item, each column an individual taxon\n",
    "binary_multilabel = binary_multilabel[list(binary_multilabel.columns)].values\n",
    "print('Example row of multilabel array {}'.format(binary_multilabel[2]))"
   ]
  },
  {
   "cell_type": "code",
   "execution_count": 22,
   "metadata": {},
   "outputs": [
    {
     "data": {
      "text/plain": [
       "numpy.ndarray"
      ]
     },
     "execution_count": 22,
     "metadata": {},
     "output_type": "execute_result"
    }
   ],
   "source": [
    "type(binary_multilabel)"
   ]
  },
  {
   "cell_type": "code",
   "execution_count": 23,
   "metadata": {},
   "outputs": [
    {
     "data": {
      "text/plain": [
       "(92338, 210)"
      ]
     },
     "execution_count": 23,
     "metadata": {},
     "output_type": "execute_result"
    }
   ],
   "source": [
    "binary_multilabel.shape"
   ]
  },
  {
   "cell_type": "markdown",
   "metadata": {},
   "source": [
    "### Create combined_text data/X"
   ]
  },
  {
   "cell_type": "code",
   "execution_count": 24,
   "metadata": {},
   "outputs": [
    {
     "data": {
      "text/plain": [
       "FrozenList(['content_id', 'combined_text', 'title', 'description'])"
      ]
     },
     "execution_count": 24,
     "metadata": {},
     "output_type": "execute_result"
    }
   ],
   "source": [
    "#the pivot table has two indices\n",
    "multilabel.index.names"
   ]
  },
  {
   "cell_type": "code",
   "execution_count": 25,
   "metadata": {},
   "outputs": [
    {
     "data": {
      "text/plain": [
       "(92338,)"
      ]
     },
     "execution_count": 25,
     "metadata": {},
     "output_type": "execute_result"
    }
   ],
   "source": [
    "#extract combined text index to array\n",
    "texts = multilabel.index.get_level_values('combined_text')\n",
    "texts.shape"
   ]
  },
  {
   "cell_type": "markdown",
   "metadata": {},
   "source": [
    "### Tokenize combined text"
   ]
  },
  {
   "cell_type": "code",
   "execution_count": 26,
   "metadata": {},
   "outputs": [],
   "source": [
    "vectorizer = TfidfVectorizer()"
   ]
  },
  {
   "cell_type": "code",
   "execution_count": 27,
   "metadata": {},
   "outputs": [],
   "source": [
    "data = vectorizer.fit_transform(texts)"
   ]
  },
  {
   "cell_type": "code",
   "execution_count": 28,
   "metadata": {},
   "outputs": [
    {
     "data": {
      "text/plain": [
       "<92338x136452 sparse matrix of type '<class 'numpy.float64'>'\n",
       "\twith 11269725 stored elements in Compressed Sparse Row format>"
      ]
     },
     "execution_count": 28,
     "metadata": {},
     "output_type": "execute_result"
    }
   ],
   "source": [
    "data"
   ]
  },
  {
   "cell_type": "code",
   "execution_count": 29,
   "metadata": {},
   "outputs": [
    {
     "name": "stdout",
     "output_type": "stream",
     "text": [
      "Shape of label tensor: (92338, 210)\n",
      "Shape of data tensor: (92338, 136452)\n"
     ]
    }
   ],
   "source": [
    "print('Shape of label tensor:', binary_multilabel.shape)\n",
    "print('Shape of data tensor:', data.shape)"
   ]
  },
  {
   "cell_type": "markdown",
   "metadata": {},
   "source": [
    "### Data split\n",
    "- Training data = 80%\n",
    "- Development data = 10%\n",
    "- Test data = 10%"
   ]
  },
  {
   "cell_type": "code",
   "execution_count": 30,
   "metadata": {},
   "outputs": [
    {
     "name": "stdout",
     "output_type": "stream",
     "text": [
      "[    0     1     2 ..., 92335 92336 92337]\n",
      "[ 3348 85080 18965 ..., 42613 43567 68268]\n"
     ]
    }
   ],
   "source": [
    "# shuffle data and standardise indices\n",
    "indices = np.arange(data.shape[0])\n",
    "print(indices)\n",
    "np.random.seed(0)\n",
    "np.random.shuffle(indices)\n",
    "print(indices)"
   ]
  },
  {
   "cell_type": "code",
   "execution_count": 31,
   "metadata": {},
   "outputs": [],
   "source": [
    "data = data[indices]\n",
    "labels = binary_multilabel[indices]"
   ]
  },
  {
   "cell_type": "code",
   "execution_count": 32,
   "metadata": {},
   "outputs": [
    {
     "name": "stdout",
     "output_type": "stream",
     "text": [
      "nb_test samples: 9233\n",
      "nb_dev samples: 18467\n",
      "nb_training samples: 73870\n"
     ]
    }
   ],
   "source": [
    "nb_test_samples = int(0.1 * data.shape[0]) #validation split\n",
    "print('nb_test samples:', nb_test_samples)\n",
    "\n",
    "nb_dev_samples = int(0.2 * data.shape[0]) #validation split\n",
    "print('nb_dev samples:', nb_dev_samples)\n",
    "\n",
    "nb_training_samples = int(0.8 * data.shape[0]) #validation split\n",
    "print('nb_training samples:', nb_training_samples)"
   ]
  },
  {
   "cell_type": "code",
   "execution_count": 33,
   "metadata": {},
   "outputs": [
    {
     "name": "stdout",
     "output_type": "stream",
     "text": [
      "Shape of x_train: (73871, 136452)\n",
      "Shape of y_train: (73871, 210)\n"
     ]
    }
   ],
   "source": [
    "x_train = data[:-nb_dev_samples]\n",
    "print('Shape of x_train:', x_train.shape)\n",
    "\n",
    "\n",
    "y_train = labels[:-nb_dev_samples]\n",
    "print('Shape of y_train:', y_train.shape)"
   ]
  },
  {
   "cell_type": "code",
   "execution_count": 34,
   "metadata": {},
   "outputs": [
    {
     "name": "stdout",
     "output_type": "stream",
     "text": [
      "Shape of x_dev: (9234, 136452)\n",
      "Shape of y_dev: (9234, 210)\n"
     ]
    }
   ],
   "source": [
    "x_dev = data[-nb_dev_samples:-nb_test_samples]\n",
    "print('Shape of x_dev:', x_dev.shape)\n",
    "\n",
    "y_dev = binary_multilabel[-nb_dev_samples:-nb_test_samples]\n",
    "print('Shape of y_dev:', y_dev.shape)"
   ]
  },
  {
   "cell_type": "code",
   "execution_count": 35,
   "metadata": {},
   "outputs": [
    {
     "name": "stdout",
     "output_type": "stream",
     "text": [
      "Shape of x_test: (9233, 136452)\n",
      "Shape of y_test: (9233, 210)\n"
     ]
    }
   ],
   "source": [
    "x_test = data[-nb_test_samples:]\n",
    "print('Shape of x_test:', x_test.shape)\n",
    "\n",
    "\n",
    "y_test = binary_multilabel[-nb_test_samples:]\n",
    "print('Shape of y_test:', y_test.shape)"
   ]
  },
  {
   "cell_type": "code",
   "execution_count": 36,
   "metadata": {},
   "outputs": [],
   "source": [
    "def loadfile(filename, istrain):\n",
    "    ifile = open(filename)\n",
    "    i = 0\n",
    "    A = []\n",
    "    B = []\n",
    "    I = []\n",
    "    cls = []\n",
    "    Icls = []\n",
    "    for s in ifile:\n",
    "        try:\n",
    "            sbeg, send = s.split(\" \", 1)\n",
    "            if istrain:\n",
    "                sbegsplit = sbeg.split(\",\")\n",
    "                cls.extend([(int(x)-1) for x in sbegsplit])\n",
    "                Icls.extend([i]*len(sbegsplit))\n",
    "            send = send.rstrip()\n",
    "            for ss in send.split(\" \"):\n",
    "                a, b = ss.split(\":\")\n",
    "                A.append(int(a)-1)\n",
    "                B.append(float(b))\n",
    "                I.append(i)\n",
    "            i += 1\n",
    "            if i % 10000 == 0:\n",
    "                print(str(i)+' lines')\n",
    "        except ValueError:\n",
    "            print('Value Error: ', i)\n",
    "    S = csc_matrix((B, (I, A)))\n",
    "    if istrain:\n",
    "        C = csc_matrix(([1]*len(cls), (Icls, cls)))\n",
    "        return S, C\n",
    "    return S"
   ]
  },
  {
   "cell_type": "code",
   "execution_count": 37,
   "metadata": {},
   "outputs": [],
   "source": [
    "# to build model in a multi-label problem\n",
    "def modelfit(S1, C1, S2, model, makeA1=False, verbosity=False):\n",
    "    l = C1.shape[1]\n",
    "    A2 = np.zeros((S2.shape[0], l))\n",
    "    if makeA1:\n",
    "        A1 = np.zeros((S1.shape[0], l))\n",
    "    if hasattr(model, 'predict_proba'):\n",
    "        for j in range(l):\n",
    "            if np.any(C1[:, j] > 0):\n",
    "                model.fit(S1, C1[:, j])\n",
    "                A2[:, j] = model.predict_proba(S2)[:, 1]\n",
    "                if makeA1:\n",
    "                    A1[:, j] = model.predict_proba(S1)[:, 1]\n",
    "                if verbosity:\n",
    "                    print(j)\n",
    "    else:\n",
    "        for j in range(l):\n",
    "            if np.any(C1[:, j] > 0):\n",
    "                model.fit(S1, C1[:, j])\n",
    "                A2[:, j] = model.predict(S2)\n",
    "                if makeA1:\n",
    "                    A1[:, j] = model.predict(S1)\n",
    "                if verbosity:\n",
    "                    print(j)\n",
    "    if makeA1:\n",
    "        return A2, A1\n",
    "    return A2"
   ]
  },
  {
   "cell_type": "code",
   "execution_count": 38,
   "metadata": {},
   "outputs": [],
   "source": [
    "# knn\n",
    "def myknn(S, C, S2):\n",
    "    Aknn  = np.zeros((S2.shape[0], C.shape[1]))\n",
    "    Aknn1 = np.zeros((S2.shape[0], C.shape[1]))\n",
    "    Aknn2 = np.zeros((S2.shape[0], C.shape[1]))\n",
    "    Aknn3 = np.zeros((S2.shape[0], C.shape[1]))\n",
    "    for i in range(S2.shape[0]):\n",
    "        r = (S * S2[i, :].T).todense()\n",
    "        indexessort = np.argsort(-np.array(r)[:, 0])\n",
    "        Aknn[i, :]  = r[indexessort[0:50], :].T * C[indexessort[0:50], :]  # a = r.T * C\n",
    "        Aknn1[i, :] = r[indexessort[0], :].T * C[indexessort[0], :]  # a = r.T * C\n",
    "        Aknn2[i, :] = r[indexessort[1], :].T * C[indexessort[1], :]  # a = r.T * C\n",
    "        Aknn3[i, :] = r[indexessort[2], :].T * C[indexessort[2], :]  # a = r.T * C\n",
    "        if i % 1000 == 0:\n",
    "            print(str(i)+' nn')\n",
    "    return Aknn, Aknn1, Aknn2, Aknn3"
   ]
  },
  {
   "cell_type": "code",
   "execution_count": 39,
   "metadata": {},
   "outputs": [
    {
     "name": "stdout",
     "output_type": "stream",
     "text": [
      "the training set: loading\n",
      "10000 lines\n",
      "20000 lines\n",
      "30000 lines\n",
      "40000 lines\n",
      "Value Error:  47368\n",
      "50000 lines\n",
      "60000 lines\n"
     ]
    }
   ],
   "source": [
    "# MAIN CODE\n",
    "import sys\n",
    "from scipy.sparse import *\n",
    "\n",
    "print('the training set: loading')\n",
    "S, C = loadfile(os.path.join(DATADIR, 'wise2014-train.libsvm'), True)\n",
    "C = C.todense()\n",
    "C = np.array(C)  # matrix -> array\n",
    "\n",
    "#C is y multilabel array\n",
    "#S is tfidf matri"
   ]
  },
  {
   "cell_type": "code",
   "execution_count": 40,
   "metadata": {},
   "outputs": [
    {
     "data": {
      "text/plain": [
       "(64856, 301561)"
      ]
     },
     "execution_count": 40,
     "metadata": {},
     "output_type": "execute_result"
    }
   ],
   "source": [
    "S.shape"
   ]
  },
  {
   "cell_type": "markdown",
   "metadata": {},
   "source": [
    "C= y_train\n",
    "S= x_train"
   ]
  },
  {
   "cell_type": "code",
   "execution_count": 41,
   "metadata": {},
   "outputs": [
    {
     "data": {
      "text/plain": [
       "(73871, 136452)"
      ]
     },
     "execution_count": 41,
     "metadata": {},
     "output_type": "execute_result"
    }
   ],
   "source": [
    "x_train.shape"
   ]
  },
  {
   "cell_type": "code",
   "execution_count": 46,
   "metadata": {},
   "outputs": [
    {
     "name": "stdout",
     "output_type": "stream",
     "text": [
      "knn - with validation set\n",
      "0 nn\n",
      "1000 nn\n",
      "2000 nn\n",
      "3000 nn\n",
      "4000 nn\n",
      "5000 nn\n",
      "6000 nn\n",
      "7000 nn\n",
      "8000 nn\n",
      "9000 nn\n"
     ]
    }
   ],
   "source": [
    "print('knn - with validation set')\n",
    "Aknnsmall, Aknn1small, Aknn2small, Aknn3small = myknn(x_train, y_train, x_dev)"
   ]
  },
  {
   "cell_type": "code",
   "execution_count": 43,
   "metadata": {},
   "outputs": [
    {
     "data": {
      "text/plain": [
       "array([[0, 0, 0, ..., 0, 0, 0],\n",
       "       [0, 0, 0, ..., 0, 0, 0],\n",
       "       [0, 0, 0, ..., 0, 0, 0],\n",
       "       ..., \n",
       "       [0, 0, 0, ..., 0, 0, 0],\n",
       "       [0, 0, 0, ..., 0, 0, 0],\n",
       "       [0, 0, 0, ..., 0, 0, 0]])"
      ]
     },
     "execution_count": 43,
     "metadata": {},
     "output_type": "execute_result"
    }
   ],
   "source": [
    "y_train"
   ]
  },
  {
   "cell_type": "code",
   "execution_count": 44,
   "metadata": {},
   "outputs": [
    {
     "name": "stdout",
     "output_type": "stream",
     "text": [
      "logistic regression - the validation set (the last articles in the training set)\n"
     ]
    }
   ],
   "source": [
    "from sklearn import linear_model\n",
    "\n",
    "print('logistic regression - with validation set')\n",
    "AL1small = modelfit(x_train, y_train, x_dev, linear_model.LogisticRegression(penalty='l1', C=2.0, tol=0.001), makeA1=False, verbosity=False)\n",
    "AL2small = modelfit(x_train, y_train, x_dev, linear_model.LogisticRegression(penalty='l1', C=6.0, tol=0.001), makeA1=False, verbosity=False)\n",
    "AL3small = modelfit(x_train, y_train, x_dev, linear_model.LogisticRegression(penalty='l1', C=10.0, tol=0.001), makeA1=False, verbosity=False)"
   ]
  },
  {
   "cell_type": "code",
   "execution_count": 45,
   "metadata": {},
   "outputs": [
    {
     "name": "stdout",
     "output_type": "stream",
     "text": [
      "ridge regression - with validation set\n"
     ]
    }
   ],
   "source": [
    "print('ridge regression - with validation set')\n",
    "AR1small = modelfit(x_train, y_train, x_dev, linear_model.Ridge(alpha=0.4), makeA1=False, verbosity=False)\n",
    "AR2small = modelfit(x_train, y_train, x_dev, linear_model.Ridge(alpha=0.8), makeA1=False, verbosity=False)\n",
    "AR3small = modelfit(x_train, y_train, x_dev, linear_model.Ridge(alpha=1.2), makeA1=False, verbosity=False)"
   ]
  },
  {
   "cell_type": "code",
   "execution_count": null,
   "metadata": {},
   "outputs": [],
   "source": [
    "# print 'the test set: loading'\n",
    "# Stest = loadfile('D:\\\\Competitions\\\\GreekMedia\\\\wise2014-test.libsvm', False)\n",
    "\n",
    "print('knn - the test set')\n",
    "Aknn, Aknn1, Aknn2, Aknn3 = myknn(x_train, y_train, x_test)\n",
    "\n",
    "print('logistic regression - the test set')\n",
    "AL1 = modelfit(x_train, y_train, x_test, linear_model.LogisticRegression(penalty='l1', C=2.0, tol=0.001), makeA1=False, verbosity=False)\n",
    "AL2 = modelfit(x_train, y_train, x_test, linear_model.LogisticRegression(penalty='l1', C=6.0, tol=0.001), makeA1=False, verbosity=False)\n",
    "AL3 = modelfit(x_train, y_train, x_test, linear_model.LogisticRegression(penalty='l1', C=10.0, tol=0.001), makeA1=False, verbosity=False)"
   ]
  },
  {
   "cell_type": "code",
   "execution_count": null,
   "metadata": {},
   "outputs": [
    {
     "name": "stdout",
     "output_type": "stream",
     "text": [
      "ridge regression - the test set\n"
     ]
    }
   ],
   "source": [
    "print('ridge regression - the test set')\n",
    "AR1 = modelfit(x_train, y_train, x_test, linear_model.Ridge(alpha=0.4), makeA1=False, verbosity=False)\n",
    "AR2 = modelfit(x_train, y_train, x_test, linear_model.Ridge(alpha=0.8), makeA1=False, verbosity=False)\n",
    "AR3 = modelfit(x_train, y_train, x_test, linear_model.Ridge(alpha=1.2), makeA1=False, verbosity=False)"
   ]
  },
  {
   "cell_type": "code",
   "execution_count": null,
   "metadata": {},
   "outputs": [],
   "source": [
    "print 'linear combinations...'\n",
    "model = linear_model.Ridge(alpha=2.0)\n",
    "AN = 0.65*AL2 + 0.35*AR2 # default\n",
    "\n",
    "for j in range(C.shape[1]):\n",
    "    if np.sum(C[m: , j])>0:\n",
    "        Xsmall = np.vstack([AL1small[:, j], AL2small[:, j], AL3small[:, j],\n",
    "                            AR1small[:, j], AR2small[:, j], AR3small[:, j],\n",
    "                            Aknn1small[:, j], Aknn2small[:, j], Aknn3small[:, j],\n",
    "                            Aknnsmall[:, j] ]).T\n",
    "        X = np.vstack([AL1[:, j], AL2[:, j], AL3[:, j],\n",
    "                            AR1[:, j], AR2[:, j], AR3[:, j],\n",
    "                            Aknn1[:, j], Aknn2[:, j], Aknn3[:, j], Aknn[:, j] ]).T\n",
    "        model.fit(Xsmall, C[m:, j])\n",
    "        AN[:, j] = model.predict(X)\n",
    "        # print 'done: ' + str(j)\n",
    "\n",
    "print 'decision rule'\n",
    "maxes = np.max(AN, axis=1)+0.000001\n",
    "A = AN / maxes[:, np.newaxis]\n",
    "A = 0 + (A > 0.55)"
   ]
  },
  {
   "cell_type": "code",
   "execution_count": null,
   "metadata": {},
   "outputs": [],
   "source": [
    "print 'solution - nonzero elements'\n",
    "ofile = open('D:\\\\Competitions\\\\GreekMedia\\\\big_solution2.csv', 'wb')\n",
    "linecount = 64857\n",
    "ofile.write('ArticleId,Labels\\n')\n",
    "for i in range(A.shape[0]):\n",
    "    Aclasses = np.nonzero(A[i, :])[0] + 1\n",
    "    strtowrite = ''.join([' %g' % num for num in Aclasses])\n",
    "    ofile.write(str(64858+i) + ',' + strtowrite[1:] + '\\n')\n",
    "ofile.close()"
   ]
  },
  {
   "cell_type": "markdown",
   "metadata": {},
   "source": [
    "### Evaluate model"
   ]
  },
  {
   "cell_type": "markdown",
   "metadata": {},
   "source": [
    "#### Training metrics"
   ]
  },
  {
   "cell_type": "code",
   "execution_count": null,
   "metadata": {},
   "outputs": [],
   "source": [
    "y_prob = model.predict([metax_train, titlex_train, descx_train, x_train])"
   ]
  },
  {
   "cell_type": "code",
   "execution_count": null,
   "metadata": {},
   "outputs": [],
   "source": [
    "y_prob.shape"
   ]
  },
  {
   "cell_type": "code",
   "execution_count": null,
   "metadata": {},
   "outputs": [],
   "source": [
    "y_pred = y_prob.copy()\n",
    "y_pred[y_pred>=P_THRESHOLD] = 1\n",
    "y_pred[y_pred<P_THRESHOLD] = 0"
   ]
  },
  {
   "cell_type": "code",
   "execution_count": null,
   "metadata": {},
   "outputs": [],
   "source": [
    "f1_score(y_train, y_pred, average='micro')"
   ]
  },
  {
   "cell_type": "code",
   "execution_count": null,
   "metadata": {},
   "outputs": [],
   "source": [
    "#average= None, the scores for each class are returned.\n",
    "precision_recall_fscore_support(y_train, y_pred, average=None, sample_weight=None)"
   ]
  },
  {
   "cell_type": "code",
   "execution_count": null,
   "metadata": {},
   "outputs": [],
   "source": [
    "a = precision_recall_fscore_support(y_train, y_pred, average=None, sample_weight=None)"
   ]
  },
  {
   "cell_type": "code",
   "execution_count": null,
   "metadata": {},
   "outputs": [],
   "source": [
    "pd.DataFrame(list(a))"
   ]
  },
  {
   "cell_type": "code",
   "execution_count": null,
   "metadata": {},
   "outputs": [],
   "source": [
    "f1_byclass = pd.DataFrame((a)[2], columns=['f1'])\n"
   ]
  },
  {
   "cell_type": "code",
   "execution_count": null,
   "metadata": {},
   "outputs": [],
   "source": [
    "support_byclass = pd.DataFrame((a)[3], columns=['support'])\n",
    "\n",
    "f1_byclass = pd.merge(\n",
    "    left=f1_byclass, \n",
    "    right=support_byclass, \n",
    "    left_index=True,\n",
    "    right_index=True,\n",
    "    how='outer', \n",
    "    validate='one_to_one'\n",
    ")\n",
    "\n",
    "f1_byclass['index_col'] = f1_byclass.index"
   ]
  },
  {
   "cell_type": "code",
   "execution_count": null,
   "metadata": {},
   "outputs": [],
   "source": [
    "f1_byclass['level2taxon'] = f1_byclass['index_col'].map(labels_index).copy()"
   ]
  },
  {
   "cell_type": "code",
   "execution_count": null,
   "metadata": {},
   "outputs": [],
   "source": [
    "print(\"At p_threshold of {}, there were {} out of {} ({})% taxons with auto-tagged content in the training data\"\n",
    "      .format(P_THRESHOLD, \n",
    "              f1_byclass.loc[f1_byclass['f1'] > 0].shape[0], \n",
    "              y_pred.shape[1], \n",
    "              (f1_byclass.loc[f1_byclass['f1'] > 0].shape[0]/y_pred.shape[1])*100 ))"
   ]
  },
  {
   "cell_type": "code",
   "execution_count": null,
   "metadata": {},
   "outputs": [],
   "source": [
    "no_auto_content = f1_byclass.loc[f1_byclass['f1'] == 0]\n",
    "no_auto_content = no_auto_content.set_index('level2taxon')"
   ]
  },
  {
   "cell_type": "code",
   "execution_count": null,
   "metadata": {},
   "outputs": [],
   "source": [
    "no_auto_content['support'].sort_values().plot( kind = 'barh', figsize=(20, 20))"
   ]
  },
  {
   "cell_type": "code",
   "execution_count": null,
   "metadata": {},
   "outputs": [],
   "source": [
    "classes_predictedto = f1_byclass.loc[f1_byclass['f1'] > 0]\n",
    "classes_predictedto = classes_predictedto.set_index('level2taxon') "
   ]
  },
  {
   "cell_type": "code",
   "execution_count": null,
   "metadata": {},
   "outputs": [],
   "source": [
    "classes_predictedto.plot.scatter(x='support', y='f1', figsize=(20, 10), xticks=np.arange(0, 9700, 100))"
   ]
  },
  {
   "cell_type": "code",
   "execution_count": null,
   "metadata": {},
   "outputs": [],
   "source": [
    "classes_predictedto['f1'].sort_values().plot( kind = 'barh', figsize=(20, 20))"
   ]
  },
  {
   "cell_type": "code",
   "execution_count": null,
   "metadata": {},
   "outputs": [],
   "source": [
    "#Calculate globally by counting the total true positives, false negatives and false positives.\n",
    "precision_recall_fscore_support(y_train, y_pred, average='micro', sample_weight=None) "
   ]
  },
  {
   "cell_type": "code",
   "execution_count": null,
   "metadata": {},
   "outputs": [],
   "source": [
    "#Calculate metrics for each label, and find their unweighted mean. This does not take label imbalance into account\n",
    "precision_recall_fscore_support(y_train, y_pred, average='macro', sample_weight=None)"
   ]
  },
  {
   "cell_type": "markdown",
   "metadata": {},
   "source": [
    "#### Development set metrics"
   ]
  },
  {
   "cell_type": "code",
   "execution_count": null,
   "metadata": {},
   "outputs": [],
   "source": [
    "y_pred_dev = model.predict([metax_dev, titlex_dev, descx_dev, x_dev])"
   ]
  },
  {
   "cell_type": "code",
   "execution_count": null,
   "metadata": {},
   "outputs": [],
   "source": [
    "y_pred_dev[y_pred_dev>=P_THRESHOLD] = 1\n",
    "y_pred_dev[y_pred_dev<P_THRESHOLD] = 0"
   ]
  },
  {
   "cell_type": "code",
   "execution_count": null,
   "metadata": {},
   "outputs": [],
   "source": [
    "#average= None, the scores for each class are returned.\n",
    "precision_recall_fscore_support(y_dev, y_pred_dev, average=None, sample_weight=None)"
   ]
  },
  {
   "cell_type": "code",
   "execution_count": null,
   "metadata": {},
   "outputs": [],
   "source": [
    "#Calculate globally by counting the total true positives, false negatives and false positives.\n",
    "precision_recall_fscore_support(y_dev, y_pred_dev, average='micro', sample_weight=None) "
   ]
  },
  {
   "cell_type": "code",
   "execution_count": null,
   "metadata": {},
   "outputs": [],
   "source": [
    "#Calculate metrics for each label, and find their unweighted mean. This does not take label imbalance into account\n",
    "precision_recall_fscore_support(y_dev, y_pred_dev, average='macro', sample_weight=None)"
   ]
  },
  {
   "cell_type": "markdown",
   "metadata": {},
   "source": [
    "## Tag unlabelled content"
   ]
  },
  {
   "cell_type": "code",
   "execution_count": null,
   "metadata": {},
   "outputs": [],
   "source": [
    "def get_predictions(new_texts, df, level1taxon=False):\n",
    "    #process data for model input\n",
    "    \n",
    "    new_sequences = tokenizer.texts_to_sequences(new_texts) #yield one sequence per input text\n",
    "\n",
    "    new_word_index = tokenizer.word_index\n",
    "    print('Found %s unique tokens.' % len(new_word_index))\n",
    "\n",
    "    x_new = pad_sequences(new_sequences, maxlen= MAX_SEQUENCE_LENGTH) #MAX_SEQUENCE_LENGTH\n",
    "    \n",
    "    print('Shape of untagged tensor:', x_new.shape)\n",
    "    \n",
    "    #predict tag for untagged data\n",
    "    y_pred_new = model.predict(x_new)\n",
    "    \n",
    "    #get model output into pandas & get a column to track index for later merge\n",
    "    y_pred_new = pd.DataFrame(y_pred_new)\n",
    "    y_pred_new['index_col'] = y_pred_new.index\n",
    "    \n",
    "    #Make long by taxon so easier to filter rows and examine effect of p_threshold\n",
    "    y_pred_new = pd.melt(y_pred_new, id_vars=['index_col'],\n",
    "                             var_name='level2taxon_code', value_name='probability')\n",
    "    \n",
    "    #get taxon names\n",
    "    y_pred_new['level2taxon'] = y_pred_new['level2taxon_code'].map(labels_index)\n",
    "    \n",
    "    if level1taxon==False:\n",
    "        #get the info about the content\n",
    "        new_info = df[[ 'base_path', 'content_id', 'title', 'description', \n",
    "                   'document_type', 'publishing_app', 'locale']]\n",
    "    else:\n",
    "        new_info = df[[ 'base_path', 'content_id', 'title', 'description', \n",
    "                   'document_type', 'publishing_app', 'locale', 'level1taxon']]\n",
    "    \n",
    "    \n",
    "    #merge content info with taxon prediction\n",
    "    pred_new = pd.merge(\n",
    "    left=new_info, \n",
    "    right=y_pred_new, \n",
    "    left_index=True,\n",
    "    right_on='index_col',\n",
    "    how='outer'\n",
    "    )\n",
    "    \n",
    "    #drop the cols needed for mergingin and naming\n",
    "    pred_new.drop(['index_col'], axis=1, inplace = True)\n",
    "    \n",
    "    #keep only rows where prob of taxon > 0.5\n",
    "    \n",
    "    \n",
    "    return pred_new #.loc[pred_new['probability'] > P_THRESHOLD] #only return rows/samples where probability is hihger than threshold\n",
    "    "
   ]
  },
  {
   "cell_type": "markdown",
   "metadata": {},
   "source": [
    "### Untagged"
   ]
  },
  {
   "cell_type": "code",
   "execution_count": null,
   "metadata": {},
   "outputs": [],
   "source": [
    "#read in untagged content\n",
    "untagged_raw = pd.read_csv(os.path.join(DATADIR, 'untagged_content.csv.gz'), dtype=object, compression='gzip')"
   ]
  },
  {
   "cell_type": "code",
   "execution_count": null,
   "metadata": {},
   "outputs": [],
   "source": [
    "untagged_raw.head()"
   ]
  },
  {
   "cell_type": "code",
   "execution_count": null,
   "metadata": {},
   "outputs": [],
   "source": [
    "new_texts = untagged_raw['combined_text']"
   ]
  },
  {
   "cell_type": "code",
   "execution_count": null,
   "metadata": {},
   "outputs": [],
   "source": [
    "pred_untagged = get_predictions(new_texts, untagged_raw)"
   ]
  },
  {
   "cell_type": "code",
   "execution_count": null,
   "metadata": {},
   "outputs": [],
   "source": [
    "#data is long by taxon\n",
    "print('Number of unique content items: {}'.format(pred_untagged.content_id.nunique()))\n",
    "print('Number of content items tagged to taxons with more than p_threshold: {}'.format(pred_untagged.shape))"
   ]
  },
  {
   "cell_type": "code",
   "execution_count": null,
   "metadata": {},
   "outputs": [],
   "source": [
    "pred_untagged.loc[(pred_untagged['probability'] > 0.65) & (pred_untagged['probability'] < 0.85)].sort_values(by='probability', ascending=False)"
   ]
  },
  {
   "cell_type": "code",
   "execution_count": null,
   "metadata": {},
   "outputs": [],
   "source": [
    "#write to csv\n",
    "pred_untagged.to_csv(os.path.join(DATADIR, 'predictions_for_untagged_data_trainingdatatok.csv'), index=False)"
   ]
  },
  {
   "cell_type": "code",
   "execution_count": null,
   "metadata": {},
   "outputs": [],
   "source": [
    "# apply tokenizer to our text data\n",
    "tokenizer.fit_on_texts(new_texts)\n",
    "\n",
    "pred_untagged_refit_tok = get_predictions(new_texts, untagged_raw)\n"
   ]
  },
  {
   "cell_type": "code",
   "execution_count": null,
   "metadata": {},
   "outputs": [],
   "source": [
    "#write to csv\n",
    "pred_untagged_refit_tok.to_csv(os.path.join(DATADIR, 'predictions_for_untagged_data_refittok.csv'), index=False)"
   ]
  },
  {
   "cell_type": "markdown",
   "metadata": {},
   "source": [
    "### New data (untagged + old taxons)"
   ]
  },
  {
   "cell_type": "markdown",
   "metadata": {},
   "source": [
    "old_taxons data has no combined text. This needs fixing in the data pipeline before being able to use these data for predictions"
   ]
  },
  {
   "cell_type": "code",
   "execution_count": null,
   "metadata": {},
   "outputs": [],
   "source": [
    "#read in untagged content\n",
    "new_raw = pd.read_csv(os.path.join(DATADIR, 'new_content.csv'), dtype=object)"
   ]
  },
  {
   "cell_type": "code",
   "execution_count": null,
   "metadata": {},
   "outputs": [],
   "source": [
    "new_raw.shape"
   ]
  },
  {
   "cell_type": "code",
   "execution_count": null,
   "metadata": {},
   "outputs": [],
   "source": [
    "type(new_raw['combined_text'][0])"
   ]
  },
  {
   "cell_type": "code",
   "execution_count": null,
   "metadata": {},
   "outputs": [],
   "source": [
    "new_raw['combined_text'][0]"
   ]
  },
  {
   "cell_type": "code",
   "execution_count": null,
   "metadata": {},
   "outputs": [],
   "source": [
    "len(new_raw[new_raw['combined_text'].isna()])"
   ]
  },
  {
   "cell_type": "code",
   "execution_count": null,
   "metadata": {},
   "outputs": [],
   "source": [
    "(new_raw.loc[(new_raw['combined_text'].isna()) & (new_raw['untagged_type'] == 'old_taxons')]).shape"
   ]
  },
  {
   "cell_type": "code",
   "execution_count": null,
   "metadata": {},
   "outputs": [],
   "source": [
    "new_raw[new_raw.untagged_type == 'old_taxons']"
   ]
  },
  {
   "cell_type": "code",
   "execution_count": null,
   "metadata": {},
   "outputs": [],
   "source": [
    "#make a copy so you can edit data without needed to read in each time\n",
    "new_df = new_raw.copy(deep=True)"
   ]
  },
  {
   "cell_type": "code",
   "execution_count": null,
   "metadata": {},
   "outputs": [],
   "source": [
    "pred_new = get_predictions(new_df )"
   ]
  },
  {
   "cell_type": "code",
   "execution_count": null,
   "metadata": {},
   "outputs": [],
   "source": [
    "#keep only rows where prob of taxon > 0.5\n",
    "pred_new = pred_new.loc[pred_new['probability'] > 0.5]"
   ]
  },
  {
   "cell_type": "code",
   "execution_count": null,
   "metadata": {},
   "outputs": [],
   "source": [
    "#write to csv\n",
    "pred_new.to_csv(os.path.join(DATADIR, 'predictions_for_new_data.csv'), index=False)"
   ]
  },
  {
   "cell_type": "markdown",
   "metadata": {},
   "source": [
    "### Labelled at level1only"
   ]
  },
  {
   "cell_type": "code",
   "execution_count": null,
   "metadata": {},
   "outputs": [],
   "source": [
    "labelled_level1 = pd.read_csv(os.path.join(DATADIR, 'labelled_level1.csv'), dtype=object)"
   ]
  },
  {
   "cell_type": "code",
   "execution_count": null,
   "metadata": {},
   "outputs": [],
   "source": [
    "level1_texts = labelled_level1['combined_text']"
   ]
  },
  {
   "cell_type": "code",
   "execution_count": null,
   "metadata": {},
   "outputs": [],
   "source": [
    "#reset tokenizer to training data texts\n",
    "tokenizer.fit_on_texts(texts)"
   ]
  },
  {
   "cell_type": "code",
   "execution_count": null,
   "metadata": {},
   "outputs": [],
   "source": [
    "pred_labelled_level1 = get_predictions(level1_texts, labelled_level1, level1taxon=True)"
   ]
  },
  {
   "cell_type": "code",
   "execution_count": null,
   "metadata": {},
   "outputs": [],
   "source": [
    "pred_labelled_level1.sort_values(by='probability', ascending=False)"
   ]
  },
  {
   "cell_type": "code",
   "execution_count": null,
   "metadata": {},
   "outputs": [],
   "source": [
    "#write to csv\n",
    "pred_labelled_level1.to_csv(os.path.join(DATADIR, 'predictions_for_level1only.csv'), index=False)"
   ]
  },
  {
   "cell_type": "code",
   "execution_count": null,
   "metadata": {},
   "outputs": [],
   "source": [
    "from IPython.display import SVG\n",
    "from keras.utils.vis_utils import model_to_dot\n",
    "\n",
    "SVG(model_to_dot(model).create(prog='dot', format='svg'))"
   ]
  },
  {
   "cell_type": "code",
   "execution_count": null,
   "metadata": {},
   "outputs": [],
   "source": [
    "from keras.utils import plot_model\n",
    "plot_model(model, to_file='cnn.png', show_shapes=True)"
   ]
  },
  {
   "cell_type": "code",
   "execution_count": null,
   "metadata": {},
   "outputs": [],
   "source": []
  }
 ],
 "metadata": {
  "keep_output": true,
  "kernelspec": {
   "display_name": "Environment (conda_tensorflow_p36)",
   "language": "python",
   "name": "conda_tensorflow_p36"
  },
  "language_info": {
   "codemirror_mode": {
    "name": "ipython",
    "version": 3
   },
   "file_extension": ".py",
   "mimetype": "text/x-python",
   "name": "python",
   "nbconvert_exporter": "python",
   "pygments_lexer": "ipython3",
   "version": "3.6.3"
  }
 },
 "nbformat": 4,
 "nbformat_minor": 2
}
