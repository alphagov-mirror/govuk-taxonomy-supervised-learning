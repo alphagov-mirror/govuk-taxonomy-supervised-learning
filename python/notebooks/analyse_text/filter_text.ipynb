{
 "cells": [
  {
   "cell_type": "code",
   "execution_count": null,
   "metadata": {},
   "outputs": [],
   "source": [
    "import pandas as pd\n",
    "import numpy as np\n",
    "import os\n",
    "import re\n",
    "from nltk import word_tokenize,sent_tokenize,pos_tag_sents,pos_tag\n",
    "import time"
   ]
  },
  {
   "cell_type": "markdown",
   "metadata": {},
   "source": [
    "## 1. Read data."
   ]
  },
  {
   "cell_type": "code",
   "execution_count": 2,
   "metadata": {},
   "outputs": [],
   "source": [
    "DATADIR=os.getenv('DATADIR')\n",
    "DATAPATH = os.path.join(DATADIR, 'labelled_level2.csv.gz')"
   ]
  },
  {
   "cell_type": "code",
   "execution_count": 3,
   "metadata": {},
   "outputs": [
    {
     "name": "stderr",
     "output_type": "stream",
     "text": [
      "/Users/felisialoukou/.pyenv/versions/3.4.6/lib/python3.4/site-packages/IPython/core/interactiveshell.py:2728: DtypeWarning: Columns (20) have mixed types. Specify dtype option on import or set low_memory=False.\n",
      "  interactivity=interactivity, compiler=compiler, result=result)\n"
     ]
    },
    {
     "data": {
      "text/plain": [
       "(172916, 21)"
      ]
     },
     "execution_count": 3,
     "metadata": {},
     "output_type": "execute_result"
    }
   ],
   "source": [
    "data = pd.read_csv(DATAPATH,compression='gzip')\n",
    "data.shape"
   ]
  },
  {
   "cell_type": "code",
   "execution_count": 4,
   "metadata": {},
   "outputs": [
    {
     "data": {
      "text/html": [
       "<div>\n",
       "<style scoped>\n",
       "    .dataframe tbody tr th:only-of-type {\n",
       "        vertical-align: middle;\n",
       "    }\n",
       "\n",
       "    .dataframe tbody tr th {\n",
       "        vertical-align: top;\n",
       "    }\n",
       "\n",
       "    .dataframe thead th {\n",
       "        text-align: right;\n",
       "    }\n",
       "</style>\n",
       "<table border=\"1\" class=\"dataframe\">\n",
       "  <thead>\n",
       "    <tr style=\"text-align: right;\">\n",
       "      <th></th>\n",
       "      <th>base_path</th>\n",
       "      <th>content_id</th>\n",
       "      <th>description</th>\n",
       "      <th>details</th>\n",
       "      <th>document_type</th>\n",
       "      <th>first_published_at</th>\n",
       "      <th>locale</th>\n",
       "      <th>primary_publishing_organisation</th>\n",
       "      <th>publishing_app</th>\n",
       "      <th>title</th>\n",
       "      <th>...</th>\n",
       "      <th>body</th>\n",
       "      <th>combined_text</th>\n",
       "      <th>taxon_id</th>\n",
       "      <th>taxon_base_path</th>\n",
       "      <th>taxon_name</th>\n",
       "      <th>level1taxon</th>\n",
       "      <th>level2taxon</th>\n",
       "      <th>level3taxon</th>\n",
       "      <th>level4taxon</th>\n",
       "      <th>level5taxon</th>\n",
       "    </tr>\n",
       "  </thead>\n",
       "  <tbody>\n",
       "    <tr>\n",
       "      <th>0</th>\n",
       "      <td>/student-finance-register-login</td>\n",
       "      <td>e57daef4-5eb5-431c-b0ad-14119ab0355f</td>\n",
       "      <td>your student finance online account - check pa...</td>\n",
       "      <td>{'other_ways_to_apply': '&lt;p&gt;If you can’t apply...</td>\n",
       "      <td>transaction</td>\n",
       "      <td>2016-02-29T09:24:10.000+00:00</td>\n",
       "      <td>en</td>\n",
       "      <td>NaN</td>\n",
       "      <td>publisher</td>\n",
       "      <td>student finance login</td>\n",
       "      <td>...</td>\n",
       "      <td>sign in or register for student finance online...</td>\n",
       "      <td>student finance login your student finance onl...</td>\n",
       "      <td>64aa6eec-48b5-481d-9131-9c8b6326eea1</td>\n",
       "      <td>/education/student-grants-bursaries-scholarships</td>\n",
       "      <td>Student grants, bursaries and scholarships</td>\n",
       "      <td>Education, training and skills</td>\n",
       "      <td>Funding and finance for students</td>\n",
       "      <td>Student grants, bursaries and scholarships</td>\n",
       "      <td>NaN</td>\n",
       "      <td>NaN</td>\n",
       "    </tr>\n",
       "    <tr>\n",
       "      <th>1</th>\n",
       "      <td>/student-finance-calculator</td>\n",
       "      <td>434b6eb5-33c8-4300-aba3-f5ead58600b8</td>\n",
       "      <td>student finance calculator - get a quick estim...</td>\n",
       "      <td>{'transaction_start_link': '/student-finance-c...</td>\n",
       "      <td>transaction</td>\n",
       "      <td>2016-02-29T09:24:10.000+00:00</td>\n",
       "      <td>en</td>\n",
       "      <td>NaN</td>\n",
       "      <td>smartanswers</td>\n",
       "      <td>student finance calculator</td>\n",
       "      <td>...</td>\n",
       "      <td>this calculator is for students from england o...</td>\n",
       "      <td>student finance calculator student finance cal...</td>\n",
       "      <td>64aa6eec-48b5-481d-9131-9c8b6326eea1</td>\n",
       "      <td>/education/student-grants-bursaries-scholarships</td>\n",
       "      <td>Student grants, bursaries and scholarships</td>\n",
       "      <td>Education, training and skills</td>\n",
       "      <td>Funding and finance for students</td>\n",
       "      <td>Student grants, bursaries and scholarships</td>\n",
       "      <td>NaN</td>\n",
       "      <td>NaN</td>\n",
       "    </tr>\n",
       "    <tr>\n",
       "      <th>2</th>\n",
       "      <td>/apply-online-for-student-finance</td>\n",
       "      <td>83155b50-418e-437c-9389-cf0e1302900f</td>\n",
       "      <td>apply online for student finance - online appl...</td>\n",
       "      <td>{'other_ways_to_apply': '&lt;h2 id=\"apply-by-post...</td>\n",
       "      <td>transaction</td>\n",
       "      <td>2016-02-29T09:24:10.000+00:00</td>\n",
       "      <td>en</td>\n",
       "      <td>NaN</td>\n",
       "      <td>publisher</td>\n",
       "      <td>apply online for student finance</td>\n",
       "      <td>...</td>\n",
       "      <td>if you’re a student from england you can apply...</td>\n",
       "      <td>apply online for student finance apply online ...</td>\n",
       "      <td>64aa6eec-48b5-481d-9131-9c8b6326eea1</td>\n",
       "      <td>/education/student-grants-bursaries-scholarships</td>\n",
       "      <td>Student grants, bursaries and scholarships</td>\n",
       "      <td>Education, training and skills</td>\n",
       "      <td>Funding and finance for students</td>\n",
       "      <td>Student grants, bursaries and scholarships</td>\n",
       "      <td>NaN</td>\n",
       "      <td>NaN</td>\n",
       "    </tr>\n",
       "    <tr>\n",
       "      <th>3</th>\n",
       "      <td>/student-finance</td>\n",
       "      <td>d38bafd3-2c46-4be2-b50b-50c2ba7d30ed</td>\n",
       "      <td>student finance - student loans or student gra...</td>\n",
       "      <td>{'parts': [{'body': '&lt;p&gt;You may be able to bor...</td>\n",
       "      <td>guide</td>\n",
       "      <td>2016-02-29T09:24:10.000+00:00</td>\n",
       "      <td>en</td>\n",
       "      <td>NaN</td>\n",
       "      <td>publisher</td>\n",
       "      <td>student finance</td>\n",
       "      <td>...</td>\n",
       "      <td>you may be able to borrow money to help pay fo...</td>\n",
       "      <td>student finance student finance - student loan...</td>\n",
       "      <td>64aa6eec-48b5-481d-9131-9c8b6326eea1</td>\n",
       "      <td>/education/student-grants-bursaries-scholarships</td>\n",
       "      <td>Student grants, bursaries and scholarships</td>\n",
       "      <td>Education, training and skills</td>\n",
       "      <td>Funding and finance for students</td>\n",
       "      <td>Student grants, bursaries and scholarships</td>\n",
       "      <td>NaN</td>\n",
       "      <td>NaN</td>\n",
       "    </tr>\n",
       "    <tr>\n",
       "      <th>4</th>\n",
       "      <td>/apply-for-student-finance</td>\n",
       "      <td>06017464-d3e2-4a4c-8bef-250eff0de7e4</td>\n",
       "      <td>how to apply for student finance - when to app...</td>\n",
       "      <td>{'parts': [{'body': '&lt;h2 id=\"new-students-from...</td>\n",
       "      <td>guide</td>\n",
       "      <td>2016-02-29T09:24:10.000+00:00</td>\n",
       "      <td>en</td>\n",
       "      <td>NaN</td>\n",
       "      <td>publisher</td>\n",
       "      <td>student finance: how to apply</td>\n",
       "      <td>...</td>\n",
       "      <td>how to apply new students from england most fu...</td>\n",
       "      <td>student finance: how to apply how to apply for...</td>\n",
       "      <td>64aa6eec-48b5-481d-9131-9c8b6326eea1</td>\n",
       "      <td>/education/student-grants-bursaries-scholarships</td>\n",
       "      <td>Student grants, bursaries and scholarships</td>\n",
       "      <td>Education, training and skills</td>\n",
       "      <td>Funding and finance for students</td>\n",
       "      <td>Student grants, bursaries and scholarships</td>\n",
       "      <td>NaN</td>\n",
       "      <td>NaN</td>\n",
       "    </tr>\n",
       "  </tbody>\n",
       "</table>\n",
       "<p>5 rows × 21 columns</p>\n",
       "</div>"
      ],
      "text/plain": [
       "                           base_path                            content_id  \\\n",
       "0    /student-finance-register-login  e57daef4-5eb5-431c-b0ad-14119ab0355f   \n",
       "1        /student-finance-calculator  434b6eb5-33c8-4300-aba3-f5ead58600b8   \n",
       "2  /apply-online-for-student-finance  83155b50-418e-437c-9389-cf0e1302900f   \n",
       "3                   /student-finance  d38bafd3-2c46-4be2-b50b-50c2ba7d30ed   \n",
       "4         /apply-for-student-finance  06017464-d3e2-4a4c-8bef-250eff0de7e4   \n",
       "\n",
       "                                         description  \\\n",
       "0  your student finance online account - check pa...   \n",
       "1  student finance calculator - get a quick estim...   \n",
       "2  apply online for student finance - online appl...   \n",
       "3  student finance - student loans or student gra...   \n",
       "4  how to apply for student finance - when to app...   \n",
       "\n",
       "                                             details document_type  \\\n",
       "0  {'other_ways_to_apply': '<p>If you can’t apply...   transaction   \n",
       "1  {'transaction_start_link': '/student-finance-c...   transaction   \n",
       "2  {'other_ways_to_apply': '<h2 id=\"apply-by-post...   transaction   \n",
       "3  {'parts': [{'body': '<p>You may be able to bor...         guide   \n",
       "4  {'parts': [{'body': '<h2 id=\"new-students-from...         guide   \n",
       "\n",
       "              first_published_at locale primary_publishing_organisation  \\\n",
       "0  2016-02-29T09:24:10.000+00:00     en                             NaN   \n",
       "1  2016-02-29T09:24:10.000+00:00     en                             NaN   \n",
       "2  2016-02-29T09:24:10.000+00:00     en                             NaN   \n",
       "3  2016-02-29T09:24:10.000+00:00     en                             NaN   \n",
       "4  2016-02-29T09:24:10.000+00:00     en                             NaN   \n",
       "\n",
       "  publishing_app                             title     ...      \\\n",
       "0      publisher             student finance login     ...       \n",
       "1   smartanswers        student finance calculator     ...       \n",
       "2      publisher  apply online for student finance     ...       \n",
       "3      publisher                   student finance     ...       \n",
       "4      publisher     student finance: how to apply     ...       \n",
       "\n",
       "                                                body  \\\n",
       "0  sign in or register for student finance online...   \n",
       "1  this calculator is for students from england o...   \n",
       "2  if you’re a student from england you can apply...   \n",
       "3  you may be able to borrow money to help pay fo...   \n",
       "4  how to apply new students from england most fu...   \n",
       "\n",
       "                                       combined_text  \\\n",
       "0  student finance login your student finance onl...   \n",
       "1  student finance calculator student finance cal...   \n",
       "2  apply online for student finance apply online ...   \n",
       "3  student finance student finance - student loan...   \n",
       "4  student finance: how to apply how to apply for...   \n",
       "\n",
       "                               taxon_id  \\\n",
       "0  64aa6eec-48b5-481d-9131-9c8b6326eea1   \n",
       "1  64aa6eec-48b5-481d-9131-9c8b6326eea1   \n",
       "2  64aa6eec-48b5-481d-9131-9c8b6326eea1   \n",
       "3  64aa6eec-48b5-481d-9131-9c8b6326eea1   \n",
       "4  64aa6eec-48b5-481d-9131-9c8b6326eea1   \n",
       "\n",
       "                                    taxon_base_path  \\\n",
       "0  /education/student-grants-bursaries-scholarships   \n",
       "1  /education/student-grants-bursaries-scholarships   \n",
       "2  /education/student-grants-bursaries-scholarships   \n",
       "3  /education/student-grants-bursaries-scholarships   \n",
       "4  /education/student-grants-bursaries-scholarships   \n",
       "\n",
       "                                   taxon_name                     level1taxon  \\\n",
       "0  Student grants, bursaries and scholarships  Education, training and skills   \n",
       "1  Student grants, bursaries and scholarships  Education, training and skills   \n",
       "2  Student grants, bursaries and scholarships  Education, training and skills   \n",
       "3  Student grants, bursaries and scholarships  Education, training and skills   \n",
       "4  Student grants, bursaries and scholarships  Education, training and skills   \n",
       "\n",
       "                        level2taxon  \\\n",
       "0  Funding and finance for students   \n",
       "1  Funding and finance for students   \n",
       "2  Funding and finance for students   \n",
       "3  Funding and finance for students   \n",
       "4  Funding and finance for students   \n",
       "\n",
       "                                  level3taxon level4taxon level5taxon  \n",
       "0  Student grants, bursaries and scholarships         NaN         NaN  \n",
       "1  Student grants, bursaries and scholarships         NaN         NaN  \n",
       "2  Student grants, bursaries and scholarships         NaN         NaN  \n",
       "3  Student grants, bursaries and scholarships         NaN         NaN  \n",
       "4  Student grants, bursaries and scholarships         NaN         NaN  \n",
       "\n",
       "[5 rows x 21 columns]"
      ]
     },
     "execution_count": 4,
     "metadata": {},
     "output_type": "execute_result"
    }
   ],
   "source": [
    "data.head()"
   ]
  },
  {
   "cell_type": "code",
   "execution_count": 5,
   "metadata": {},
   "outputs": [],
   "source": [
    "# /student-finance-register-login\n",
    "def text_at_index(column,index):\n",
    "    if isinstance(column,str):\n",
    "        print(data[column].iloc[index])\n",
    "    else:\n",
    "        for c in column:\n",
    "            print(data[c].iloc[index])"
   ]
  },
  {
   "cell_type": "code",
   "execution_count": 6,
   "metadata": {},
   "outputs": [],
   "source": [
    "text_fields = ['title','description', 'body']\n",
    "reduced_fields = ['reduced_title','reduced_description', 'reduced_combined_text']"
   ]
  },
  {
   "cell_type": "code",
   "execution_count": 7,
   "metadata": {},
   "outputs": [
    {
     "name": "stdout",
     "output_type": "stream",
     "text": [
      "student finance login\n",
      "your student finance online account - check payment dates track an application change details reset password find customer reference numbers\n",
      "sign in or register for student finance online. you can: view your statements and letters from student finance england track an existing application check when your payments are due update some of your personal or application details reset your password or find your customer reference number apply for finance as a new or continuing student if you’re a parent or partner supporting a student’s application there’s a different way to submit or update information about your income . you’ll be given a customer reference number ( crn ) and asked to create a password and secret answer when you set up your account. you need these each time you sign in. they’re sent by post if you don’t apply online. if you can’t apply online use the form finder to get the forms you need. you can call student finance england if you want to apply online but you can’t use a computer without help. the student finance england website\n"
     ]
    }
   ],
   "source": [
    "text_at_index(text_fields,0)"
   ]
  },
  {
   "cell_type": "markdown",
   "metadata": {},
   "source": [
    "student finance login\n",
    "your student finance online account - check payment dates track an application change details reset password find customer reference numbers"
   ]
  },
  {
   "cell_type": "markdown",
   "metadata": {},
   "source": [
    "### 1.1 UTILS."
   ]
  },
  {
   "cell_type": "code",
   "execution_count": 8,
   "metadata": {
    "scrolled": true
   },
   "outputs": [
    {
     "data": {
      "text/plain": [
       "Index(['base_path', 'content_id', 'description', 'details', 'document_type',\n",
       "       'first_published_at', 'locale', 'primary_publishing_organisation',\n",
       "       'publishing_app', 'title', 'document_type_gp', 'body', 'combined_text',\n",
       "       'taxon_id', 'taxon_base_path', 'taxon_name', 'level1taxon',\n",
       "       'level2taxon', 'level3taxon', 'level4taxon', 'level5taxon'],\n",
       "      dtype='object')"
      ]
     },
     "execution_count": 8,
     "metadata": {},
     "output_type": "execute_result"
    }
   ],
   "source": [
    "data.columns"
   ]
  },
  {
   "cell_type": "code",
   "execution_count": 9,
   "metadata": {},
   "outputs": [],
   "source": [
    "def build_index(x):\n",
    "    index_dict = {}\n",
    "    index_dict['index'] = 0\n",
    "    for i,elem in enumerate(x):\n",
    "        index_dict[elem] = i+1\n",
    "    return index_dict"
   ]
  },
  {
   "cell_type": "code",
   "execution_count": 10,
   "metadata": {},
   "outputs": [
    {
     "name": "stdout",
     "output_type": "stream",
     "text": [
      "13\n"
     ]
    }
   ],
   "source": [
    "ind = build_index(data.columns)\n",
    "print(ind['combined_text'])"
   ]
  },
  {
   "cell_type": "markdown",
   "metadata": {},
   "source": [
    "## 2. Filter target Part of Speech tags and punctuation.\n"
   ]
  },
  {
   "cell_type": "code",
   "execution_count": 11,
   "metadata": {},
   "outputs": [],
   "source": [
    "def is_junk(word):\n",
    "    return len(word) < 2\n",
    "\n",
    "def is_aux(word):\n",
    "    m = re.match(\"\\\\b[iI]s\\\\b|\\\\b[aA](m|re)\\\\b|\\\\b[bB](een|e)\\\\b|\\\\b[hH](ave|as)\\\\b|\\\\b[wW](as|ere|ill|ould)\\\\b\",word)\n",
    "    return bool(m)"
   ]
  },
  {
   "cell_type": "code",
   "execution_count": 12,
   "metadata": {},
   "outputs": [
    {
     "name": "stdout",
     "output_type": "stream",
     "text": [
      "True\n",
      "True\n"
     ]
    }
   ],
   "source": [
    "test = \"been\"\n",
    "print(is_aux(test))\n",
    "test2 = \"\"\n",
    "print(is_junk(test2))"
   ]
  },
  {
   "cell_type": "code",
   "execution_count": 13,
   "metadata": {},
   "outputs": [],
   "source": [
    "def reduce_text(x):\n",
    "    keep_text =\"\"\n",
    "    sent_pos = pos_tag(word_tokenize(x))\n",
    "    for word,tag in sent_pos:\n",
    "        if not is_junk(word) and (tag.startswith(\"NN\") or (tag.startswith(\"VB\") and \n",
    "                                                           not is_aux(word)) or tag.startswith(\"JJ\")):\n",
    "            keep_text += word + \" \"\n",
    "    return keep_text.strip()"
   ]
  },
  {
   "cell_type": "markdown",
   "metadata": {},
   "source": [
    "### 2.1 Filter all text fields."
   ]
  },
  {
   "cell_type": "code",
   "execution_count": null,
   "metadata": {},
   "outputs": [
    {
     "name": "stdout",
     "output_type": "stream",
     "text": [
      "WORKON: title\n",
      "STARTED: 15:26:41 12-26-2018\n",
      "PRODUCING: reduced_title\n",
      "ONGOING FIELD LIST: ['reduced_title']\n",
      "FINISHED: 15:28:44 12-28-2018\n",
      "WORKON: description\n",
      "STARTED: 15:28:44 12-28-2018\n",
      "PRODUCING: reduced_description\n",
      "ONGOING FIELD LIST: ['reduced_title', 'reduced_description']\n",
      "FINISHED: 15:32:05 12-32-2018\n",
      "WORKON: combined_text\n",
      "STARTED: 15:32:05 12-32-2018\n",
      "PRODUCING: reduced_combined_text\n",
      "ONGOING FIELD LIST: ['reduced_title', 'reduced_description', 'reduced_combined_text']\n"
     ]
    }
   ],
   "source": [
    "# 'title', 'body',\n",
    "text_fields = ['title','description','combined_text']\n",
    "reduced_fields = []\n",
    "for field in text_fields:\n",
    "    print(\"WORKON: \"+field+\"\\n\"+\"STARTED: \"+time.strftime(\"%H:%M:%S %d-%M-%Y\"))\n",
    "    name = 'reduced_'+field\n",
    "    print(\"PRODUCING:\",name)\n",
    "    reduced_fields.append(name)\n",
    "    print(\"ONGOING FIELD LIST:\",reduced_fields)\n",
    "    data[name] = data[field].map(reduce_text)\n",
    "    print(\"FINISHED:\",time.strftime(\"%H:%M:%S %d-%M-%Y\"))"
   ]
  },
  {
   "cell_type": "markdown",
   "metadata": {},
   "source": [
    "### 2.2 Rename and drop unfiltered columns."
   ]
  },
  {
   "cell_type": "code",
   "execution_count": null,
   "metadata": {},
   "outputs": [],
   "source": [
    "data.columns"
   ]
  },
  {
   "cell_type": "code",
   "execution_count": null,
   "metadata": {},
   "outputs": [],
   "source": [
    "data.head()"
   ]
  },
  {
   "cell_type": "code",
   "execution_count": null,
   "metadata": {},
   "outputs": [],
   "source": [
    "print(data['title'].iloc[1])\n",
    "print(data['reduced_title'].iloc[1])"
   ]
  },
  {
   "cell_type": "code",
   "execution_count": null,
   "metadata": {},
   "outputs": [],
   "source": [
    "print(text_fields,reduced_fields)"
   ]
  },
  {
   "cell_type": "code",
   "execution_count": null,
   "metadata": {},
   "outputs": [],
   "source": [
    "for field,reduced_field in zip(text_fields,reduced_fields):\n",
    "    print(field,reduced_field)\n",
    "    data[field] = data[reduced_field] "
   ]
  },
  {
   "cell_type": "code",
   "execution_count": null,
   "metadata": {},
   "outputs": [],
   "source": [
    "data.drop(['reduced_'+field for field in text_fields],axis=1,inplace=True)"
   ]
  },
  {
   "cell_type": "code",
   "execution_count": null,
   "metadata": {},
   "outputs": [],
   "source": [
    "data.head()"
   ]
  },
  {
   "cell_type": "markdown",
   "metadata": {},
   "source": [
    "## 3. Write to file."
   ]
  },
  {
   "cell_type": "code",
   "execution_count": null,
   "metadata": {},
   "outputs": [],
   "source": [
    "file = 'labelled_level2_filtered_all_beta.csv.gz'\n",
    "OUTPUT= os.path.join(DATADIR, file)\n",
    "data.to_csv(OUTPUT,compression='gzip')"
   ]
  },
  {
   "cell_type": "code",
   "execution_count": null,
   "metadata": {},
   "outputs": [],
   "source": []
  }
 ],
 "metadata": {
  "kernelspec": {
   "display_name": "taxon-sl",
   "language": "python",
   "name": "taxon-sl"
  },
  "language_info": {
   "codemirror_mode": {
    "name": "ipython",
    "version": 3
   },
   "file_extension": ".py",
   "mimetype": "text/x-python",
   "name": "python",
   "nbconvert_exporter": "python",
   "pygments_lexer": "ipython3",
   "version": "3.4.6"
  }
 },
 "nbformat": 4,
 "nbformat_minor": 2
}
