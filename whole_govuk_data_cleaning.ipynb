{
 "cells": [
  {
   "cell_type": "code",
   "execution_count": 5,
   "metadata": {},
   "outputs": [],
   "source": [
    "import pandas as pd\n",
    "import json\n",
    "from pandas.io.json import json_normalize\n",
    "import matplotlib.pyplot as plt\n",
    "import numpy as np\n",
    "%matplotlib inline"
   ]
  },
  {
   "cell_type": "markdown",
   "metadata": {},
   "source": [
    "### Taxon file cleaning -ready for merge with content file"
   ]
  },
  {
   "cell_type": "code",
   "execution_count": 6,
   "metadata": {},
   "outputs": [],
   "source": [
    "df = pd.read_json('../DATA/govuk-whole/taxons.json', orient='table', typ='frame', dtype=True, convert_axes=True, convert_dates=True, keep_default_dates=True, numpy=False, precise_float=False, date_unit=None)"
   ]
  },
  {
   "cell_type": "code",
   "execution_count": 7,
   "metadata": {},
   "outputs": [
    {
     "data": {
      "text/plain": [
       "(3319, 4)"
      ]
     },
     "execution_count": 7,
     "metadata": {},
     "output_type": "execute_result"
    }
   ],
   "source": [
    "df.shape"
   ]
  },
  {
   "cell_type": "code",
   "execution_count": 8,
   "metadata": {},
   "outputs": [
    {
     "data": {
      "text/html": [
       "<div>\n",
       "<style>\n",
       "    .dataframe thead tr:only-child th {\n",
       "        text-align: right;\n",
       "    }\n",
       "\n",
       "    .dataframe thead th {\n",
       "        text-align: left;\n",
       "    }\n",
       "\n",
       "    .dataframe tbody tr th {\n",
       "        vertical-align: top;\n",
       "    }\n",
       "</style>\n",
       "<table border=\"1\" class=\"dataframe\">\n",
       "  <thead>\n",
       "    <tr style=\"text-align: right;\">\n",
       "      <th></th>\n",
       "      <th>base_path</th>\n",
       "      <th>content_id</th>\n",
       "      <th>parent_content_id</th>\n",
       "      <th>title</th>\n",
       "    </tr>\n",
       "  </thead>\n",
       "  <tbody>\n",
       "    <tr>\n",
       "      <th>0</th>\n",
       "      <td>/education/corporate-information</td>\n",
       "      <td>a544d48b-1e9e-47fb-b427-7a987c658c14</td>\n",
       "      <td>NaN</td>\n",
       "      <td>Corporate information</td>\n",
       "    </tr>\n",
       "    <tr>\n",
       "      <th>1</th>\n",
       "      <td>/imported-browse/browse</td>\n",
       "      <td>d0e1f1aa-cdb7-476f-b00a-d533ea96e9bb</td>\n",
       "      <td>NaN</td>\n",
       "      <td>Imported Mainstream Browse</td>\n",
       "    </tr>\n",
       "    <tr>\n",
       "      <th>2</th>\n",
       "      <td>/childcare-parenting</td>\n",
       "      <td>206b7f3a-49b5-476f-af0f-fd27e2a68473</td>\n",
       "      <td>NaN</td>\n",
       "      <td>Parenting, childcare and children's services</td>\n",
       "    </tr>\n",
       "    <tr>\n",
       "      <th>3</th>\n",
       "      <td>/transport/all</td>\n",
       "      <td>a4038b29-b332-4f13-98b1-1c9709e216bc</td>\n",
       "      <td>NaN</td>\n",
       "      <td>Transport</td>\n",
       "    </tr>\n",
       "    <tr>\n",
       "      <th>4</th>\n",
       "      <td>/world/all</td>\n",
       "      <td>91b8ef20-74e7-4552-880c-50e6d73c2ff9</td>\n",
       "      <td>NaN</td>\n",
       "      <td>World</td>\n",
       "    </tr>\n",
       "  </tbody>\n",
       "</table>\n",
       "</div>"
      ],
      "text/plain": [
       "                          base_path                            content_id  \\\n",
       "0  /education/corporate-information  a544d48b-1e9e-47fb-b427-7a987c658c14   \n",
       "1           /imported-browse/browse  d0e1f1aa-cdb7-476f-b00a-d533ea96e9bb   \n",
       "2              /childcare-parenting  206b7f3a-49b5-476f-af0f-fd27e2a68473   \n",
       "3                    /transport/all  a4038b29-b332-4f13-98b1-1c9709e216bc   \n",
       "4                        /world/all  91b8ef20-74e7-4552-880c-50e6d73c2ff9   \n",
       "\n",
       "  parent_content_id                                          title  \n",
       "0               NaN                          Corporate information  \n",
       "1               NaN                     Imported Mainstream Browse  \n",
       "2               NaN  Parenting, childcare and children's services   \n",
       "3               NaN                                      Transport  \n",
       "4               NaN                                          World  "
      ]
     },
     "execution_count": 8,
     "metadata": {},
     "output_type": "execute_result"
    }
   ],
   "source": [
    "df.head()"
   ]
  },
  {
   "cell_type": "code",
   "execution_count": null,
   "metadata": {},
   "outputs": [],
   "source": []
  }
 ],
 "metadata": {
  "kernelspec": {
   "display_name": "tag_classifier",
   "language": "python",
   "name": "tag_classifier"
  },
  "language_info": {
   "codemirror_mode": {
    "name": "ipython",
    "version": 3
   },
   "file_extension": ".py",
   "mimetype": "text/x-python",
   "name": "python",
   "nbconvert_exporter": "python",
   "pygments_lexer": "ipython3",
   "version": "3.6.1"
  }
 },
 "nbformat": 4,
 "nbformat_minor": 2
}
