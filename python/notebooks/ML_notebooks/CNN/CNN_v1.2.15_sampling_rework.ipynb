{
 "cells": [
  {
   "cell_type": "markdown",
   "metadata": {},
   "source": [
    "## Convolutional NN to classify govuk content to level2 taxons"
   ]
  },
  {
   "cell_type": "markdown",
   "metadata": {},
   "source": [
    "Based on:\n",
    "https://blog.keras.io/using-pre-trained-word-embeddings-in-a-keras-model.html"
   ]
  },
  {
   "cell_type": "markdown",
   "metadata": {},
   "source": [
    "### Load requirements and data"
   ]
  },
  {
   "cell_type": "markdown",
   "metadata": {},
   "source": [
    "TODO: edit requirement.txt to include only these packages and do not include tensorflow because this conflicts with tf on AWS when using on GPU."
   ]
  },
  {
   "cell_type": "code",
   "execution_count": 1,
   "metadata": {
    "scrolled": true
   },
   "outputs": [
    {
     "name": "stderr",
     "output_type": "stream",
     "text": [
      "Using TensorFlow backend.\n",
      "/home/ubuntu/anaconda3/envs/tensorflow_p36/lib/python3.6/importlib/_bootstrap.py:219: RuntimeWarning: compiletime version 3.5 of module 'tensorflow.python.framework.fast_tensor_util' does not match runtime version 3.6\n",
      "  return f(*args, **kwds)\n"
     ]
    }
   ],
   "source": [
    "import pandas as pd\n",
    "import numpy as np\n",
    "import os\n",
    "from datetime import datetime\n",
    "from keras.preprocessing.text import Tokenizer\n",
    "from keras.preprocessing.sequence import pad_sequences\n",
    "\n",
    "from keras.utils import to_categorical, layer_utils, plot_model\n",
    "\n",
    "from keras.layers import (Embedding, Input, Dense, Dropout, \n",
    "                          Activation, Conv1D, MaxPooling1D, Flatten, concatenate, Reshape)\n",
    "from keras.models import Model, Sequential\n",
    "from keras.optimizers import rmsprop\n",
    "from keras.callbacks import TensorBoard, Callback, ModelCheckpoint\n",
    "import keras.backend as K\n",
    "from keras.losses import binary_crossentropy\n",
    "\n",
    "from sklearn.preprocessing import LabelEncoder, MultiLabelBinarizer\n",
    "from sklearn.metrics import confusion_matrix, f1_score, precision_score, recall_score \n",
    "from sklearn.metrics import precision_recall_fscore_support, classification_report\n",
    "from sklearn.utils import class_weight\n",
    "\n",
    "import tensorflow as tf\n",
    "\n",
    "import matplotlib.pyplot as plt\n",
    "%matplotlib inline\n",
    "\n",
    "import functools\n",
    "\n",
    "import h5py\n",
    "\n",
    "import time"
   ]
  },
  {
   "cell_type": "markdown",
   "metadata": {},
   "source": [
    "### Environmental vars"
   ]
  },
  {
   "cell_type": "code",
   "execution_count": 2,
   "metadata": {
    "scrolled": true
   },
   "outputs": [],
   "source": [
    "DATADIR=os.getenv('DATADIR')\n",
    "#DATADIR='/data' #this was put in for AWS run but doesn't work locally..."
   ]
  },
  {
   "cell_type": "markdown",
   "metadata": {},
   "source": [
    "## Hyperparameters"
   ]
  },
  {
   "cell_type": "markdown",
   "metadata": {},
   "source": [
    "Intuition for POS_RATIO is that it penalises the prediction of zero for everything, which is attractive to the model because the multilabel y matrix is super sparse. \n",
    "\n",
    "Increasing POS_RATIO should penalise predicting zeros more."
   ]
  },
  {
   "cell_type": "code",
   "execution_count": 3,
   "metadata": {
    "scrolled": true
   },
   "outputs": [],
   "source": [
    "#MAX_NB_WORDS\n",
    "MAX_SEQUENCE_LENGTH =1000\n",
    "EMBEDDING_DIM = 100 # keras embedding layer output_dim = Dimension of the dense embedding\n",
    "P_THRESHOLD = 0.5 #Threshold for probability of being assigned to class\n",
    "POS_RATIO = 0.5 #ratio of positive to negative for each class in weighted binary cross entropy loss function\n",
    "NUM_WORDS=20000 #keras tokenizer num_words: None or int. Maximum number of words to work with \n",
    "#(if set, tokenization will be restricted to the top num_words most common words in the dataset)."
   ]
  },
  {
   "cell_type": "markdown",
   "metadata": {},
   "source": [
    "### Read in data\n",
    "Content items tagged to level 2 taxons or lower in the topic taxonomy"
   ]
  },
  {
   "cell_type": "code",
   "execution_count": 4,
   "metadata": {
    "scrolled": true
   },
   "outputs": [],
   "source": [
    "labelled_level2 = pd.read_csv(os.path.join(DATADIR, 'labelled_level2.csv.gz'), dtype=object, compression='gzip')"
   ]
  },
  {
   "cell_type": "code",
   "execution_count": 5,
   "metadata": {
    "scrolled": true
   },
   "outputs": [
    {
     "data": {
      "text/plain": [
       "(173560, 23)"
      ]
     },
     "execution_count": 5,
     "metadata": {},
     "output_type": "execute_result"
    }
   ],
   "source": [
    "labelled_level2.shape"
   ]
  },
  {
   "cell_type": "code",
   "execution_count": 6,
   "metadata": {
    "scrolled": true
   },
   "outputs": [
    {
     "data": {
      "text/plain": [
       "114048"
      ]
     },
     "execution_count": 6,
     "metadata": {},
     "output_type": "execute_result"
    }
   ],
   "source": [
    "labelled_level2['content_id'].nunique()"
   ]
  },
  {
   "cell_type": "markdown",
   "metadata": {},
   "source": [
    "#### clean up any World taxons leftover despite dropping relevant doctypes"
   ]
  },
  {
   "cell_type": "code",
   "execution_count": 7,
   "metadata": {
    "scrolled": true
   },
   "outputs": [],
   "source": [
    "#COLLAPSE World level2taxons\n",
    "labelled_level2.loc[labelled_level2['level1taxon'] == 'World', 'level2taxon'] = 'world_level1'\n",
    "\n",
    "#creating categorical variable for level2taxons from values\n",
    "labelled_level2['level2taxon'] = labelled_level2['level2taxon'].astype('category')"
   ]
  },
  {
   "cell_type": "code",
   "execution_count": 8,
   "metadata": {
    "scrolled": true
   },
   "outputs": [],
   "source": [
    "#count the number of content items per taxon into new column\n",
    "labelled_level2['num_content_per_taxon'] = labelled_level2.groupby([\"level2taxon\"])['level2taxon'].transform(\"count\")"
   ]
  },
  {
   "cell_type": "code",
   "execution_count": 9,
   "metadata": {
    "scrolled": true
   },
   "outputs": [
    {
     "data": {
      "text/plain": [
       "count    173560.000000\n",
       "mean       4574.207145\n",
       "std        3682.635048\n",
       "min           1.000000\n",
       "25%        1500.000000\n",
       "50%        3780.000000\n",
       "75%        6156.000000\n",
       "max       11717.000000\n",
       "Name: num_content_per_taxon, dtype: float64"
      ]
     },
     "execution_count": 9,
     "metadata": {},
     "output_type": "execute_result"
    }
   ],
   "source": [
    "labelled_level2['num_content_per_taxon'].describe()"
   ]
  },
  {
   "cell_type": "code",
   "execution_count": 10,
   "metadata": {
    "scrolled": true
   },
   "outputs": [
    {
     "data": {
      "text/plain": [
       "11717"
      ]
     },
     "execution_count": 10,
     "metadata": {},
     "output_type": "execute_result"
    }
   ],
   "source": [
    "#number of rows in biggest level2 taxon -this is the target size for all other level2 taxons in resampling\n",
    "max_content_freq = max(labelled_level2['num_content_per_taxon'])\n",
    "max_content_freq"
   ]
  },
  {
   "cell_type": "markdown",
   "metadata": {},
   "source": [
    "### drop news"
   ]
  },
  {
   "cell_type": "code",
   "execution_count": 11,
   "metadata": {
    "scrolled": true
   },
   "outputs": [
    {
     "data": {
      "text/plain": [
       "(173560, 24)"
      ]
     },
     "execution_count": 11,
     "metadata": {},
     "output_type": "execute_result"
    }
   ],
   "source": [
    "labelled_level2.shape"
   ]
  },
  {
   "cell_type": "code",
   "execution_count": 12,
   "metadata": {
    "scrolled": true
   },
   "outputs": [
    {
     "data": {
      "text/plain": [
       "(3927, 24)"
      ]
     },
     "execution_count": 12,
     "metadata": {},
     "output_type": "execute_result"
    }
   ],
   "source": [
    "labelled_level2[(labelled_level2['document_type'] == 'world_news_story')].shape"
   ]
  },
  {
   "cell_type": "code",
   "execution_count": 13,
   "metadata": {
    "scrolled": true
   },
   "outputs": [
    {
     "data": {
      "text/plain": [
       "(33214, 24)"
      ]
     },
     "execution_count": 13,
     "metadata": {},
     "output_type": "execute_result"
    }
   ],
   "source": [
    "labelled_level2[(labelled_level2['document_type'] == 'news_story')].shape"
   ]
  },
  {
   "cell_type": "code",
   "execution_count": 14,
   "metadata": {
    "scrolled": true
   },
   "outputs": [],
   "source": [
    "nonews = labelled_level2[(labelled_level2['document_type'] != 'news_story') &\n",
    "                         (labelled_level2['document_type'] != 'world_news_story')]"
   ]
  },
  {
   "cell_type": "code",
   "execution_count": 15,
   "metadata": {
    "scrolled": true
   },
   "outputs": [
    {
     "data": {
      "text/plain": [
       "(136419, 24)"
      ]
     },
     "execution_count": 15,
     "metadata": {},
     "output_type": "execute_result"
    }
   ],
   "source": [
    "nonews.shape"
   ]
  },
  {
   "cell_type": "markdown",
   "metadata": {},
   "source": [
    "### Create dictionary mapping taxon codes to string labels"
   ]
  },
  {
   "cell_type": "code",
   "execution_count": 16,
   "metadata": {},
   "outputs": [],
   "source": [
    "#Get the category numeric values (codes) and avoid zero-indexing\n",
    "labels = nonews['level2taxon'].cat.codes + 1\n",
    "\n",
    "#create dictionary of taxon category code to string label for use in model evaluation\n",
    "labels_index = dict(zip((labels), nonews['level2taxon']))"
   ]
  },
  {
   "cell_type": "code",
   "execution_count": 17,
   "metadata": {
    "scrolled": false
   },
   "outputs": [],
   "source": [
    "#labels_index"
   ]
  },
  {
   "cell_type": "code",
   "execution_count": 18,
   "metadata": {
    "scrolled": true
   },
   "outputs": [
    {
     "name": "stdout",
     "output_type": "stream",
     "text": [
      "210\n"
     ]
    }
   ],
   "source": [
    "print(len(labels_index))"
   ]
  },
  {
   "cell_type": "markdown",
   "metadata": {},
   "source": [
    "### Create target/Y "
   ]
  },
  {
   "cell_type": "markdown",
   "metadata": {},
   "source": [
    "Note: when using the categorical_crossentropy loss, your targets should be in categorical format (e.g. if you have 10 classes, the target for each sample should be a 10-dimensional vector that is all-zeros expect for a 1 at the index corresponding to the class of the sample)."
   ]
  },
  {
   "cell_type": "markdown",
   "metadata": {},
   "source": [
    "In multilabel learning, the joint set of binary classification tasks is expressed with label binary indicator array: each sample is one row of a 2d array of shape (n_samples, n_classes) with binary values:  \n",
    "the one, i.e. the non zero elements, corresponds to the subset of labels.  \n",
    "An array such as np.array([[1, 0, 0], [0, 1, 1], [0, 0, 0]]) represents label 0 in the first sample, labels 1 and 2 in the second sample, and no labels in the third sample.  \n",
    "Producing multilabel data as a list of sets of labels may be more intuitive."
   ]
  },
  {
   "cell_type": "markdown",
   "metadata": {},
   "source": [
    "####  First reshape wide to get columns for each level2taxon and row number = number unique urls"
   ]
  },
  {
   "cell_type": "code",
   "execution_count": 19,
   "metadata": {
    "scrolled": true
   },
   "outputs": [
    {
     "name": "stdout",
     "output_type": "stream",
     "text": [
      "Number of unique level2taxons: 210\n"
     ]
    }
   ],
   "source": [
    "#get a smaller copy of data for pivoting ease (think you can work from full data actually and other cols get droopedauto)\n",
    "\n",
    "level2_reduced = nonews[['content_id', \n",
    "                         'level2taxon', \n",
    "                         'combined_text', \n",
    "                         'title', \n",
    "                         'description',\n",
    "                         'document_type', \n",
    "                            'first_published_at', \n",
    "                            'publishing_app', \n",
    "                            'primary_publishing_organisation']].copy()\n",
    "\n",
    "#how many level2taxons are there?\n",
    "print('Number of unique level2taxons: {}'.format(level2_reduced.level2taxon.nunique()))\n",
    "\n",
    "#count the number of taxons per content item into new column\n",
    "level2_reduced['num_taxon_per_content'] = level2_reduced.groupby([\"content_id\"])['content_id'].transform(\"count\")\n",
    "\n",
    "#Add 1 because of zero-indexing to get 1-number of level2taxons as numerical targets\n",
    "level2_reduced['level2taxon_code'] = level2_reduced.level2taxon.astype('category').cat.codes + 1"
   ]
  },
  {
   "cell_type": "code",
   "execution_count": 20,
   "metadata": {
    "scrolled": true
   },
   "outputs": [
    {
     "name": "stdout",
     "output_type": "stream",
     "text": [
      "Number of unique level2taxons: 210\n"
     ]
    }
   ],
   "source": [
    "#how many level2taxons are there?\n",
    "print('Number of unique level2taxons: {}'.format(labelled_level2.level2taxon.nunique()))\n",
    "\n",
    "#count the number of taxons per content item into new column\n",
    "labelled_level2['num_taxon_per_content'] = labelled_level2.groupby([\"content_id\"])['content_id'].transform(\"count\")\n",
    "\n",
    "#Add 1 because of zero-indexing to get 1-number of level2taxons as numerical targets\n",
    "labelled_level2['level2taxon_code'] = labelled_level2.level2taxon.astype('category').cat.codes + 1"
   ]
  },
  {
   "cell_type": "code",
   "execution_count": 21,
   "metadata": {
    "scrolled": true
   },
   "outputs": [
    {
     "name": "stdout",
     "output_type": "stream",
     "text": [
      "level2reduced shape: (136419, 11)\n",
      "pivot table shape (no duplicates): (92338, 210) \n"
     ]
    }
   ],
   "source": [
    "#reshape to wide per taxon and keep the combined text so indexing is consistent when splitting X from Y\n",
    "\n",
    "multilabel = (level2_reduced.pivot_table(index=['content_id', \n",
    "                                                'combined_text', \n",
    "                                                'title', \n",
    "                                                'description' \n",
    "                                                ] , columns='level2taxon_code', values='num_taxon_per_content'))\n",
    "print('level2reduced shape: {}'.format(level2_reduced.shape))\n",
    "print('pivot table shape (no duplicates): {} '.format(multilabel.shape))\n"
   ]
  },
  {
   "cell_type": "code",
   "execution_count": 22,
   "metadata": {},
   "outputs": [
    {
     "data": {
      "text/plain": [
       "Int64Index([  1,   2,   3,   4,   5,   6,   7,   8,   9,  10,\n",
       "            ...\n",
       "            201, 202, 203, 204, 205, 206, 207, 208, 209, 210],\n",
       "           dtype='int64', name='level2taxon_code', length=210)"
      ]
     },
     "execution_count": 22,
     "metadata": {},
     "output_type": "execute_result"
    }
   ],
   "source": [
    "multilabel.columns"
   ]
  },
  {
   "cell_type": "code",
   "execution_count": 23,
   "metadata": {},
   "outputs": [
    {
     "data": {
      "text/html": [
       "<div>\n",
       "<style scoped>\n",
       "    .dataframe tbody tr th:only-of-type {\n",
       "        vertical-align: middle;\n",
       "    }\n",
       "\n",
       "    .dataframe tbody tr th {\n",
       "        vertical-align: top;\n",
       "    }\n",
       "\n",
       "    .dataframe thead th {\n",
       "        text-align: right;\n",
       "    }\n",
       "</style>\n",
       "<table border=\"1\" class=\"dataframe\">\n",
       "  <thead>\n",
       "    <tr style=\"text-align: right;\">\n",
       "      <th></th>\n",
       "      <th></th>\n",
       "      <th></th>\n",
       "      <th>level2taxon_code</th>\n",
       "      <th>1</th>\n",
       "      <th>2</th>\n",
       "      <th>3</th>\n",
       "      <th>4</th>\n",
       "      <th>5</th>\n",
       "      <th>6</th>\n",
       "      <th>7</th>\n",
       "      <th>8</th>\n",
       "      <th>9</th>\n",
       "      <th>10</th>\n",
       "      <th>...</th>\n",
       "      <th>201</th>\n",
       "      <th>202</th>\n",
       "      <th>203</th>\n",
       "      <th>204</th>\n",
       "      <th>205</th>\n",
       "      <th>206</th>\n",
       "      <th>207</th>\n",
       "      <th>208</th>\n",
       "      <th>209</th>\n",
       "      <th>210</th>\n",
       "    </tr>\n",
       "    <tr>\n",
       "      <th>content_id</th>\n",
       "      <th>combined_text</th>\n",
       "      <th>title</th>\n",
       "      <th>description</th>\n",
       "      <th></th>\n",
       "      <th></th>\n",
       "      <th></th>\n",
       "      <th></th>\n",
       "      <th></th>\n",
       "      <th></th>\n",
       "      <th></th>\n",
       "      <th></th>\n",
       "      <th></th>\n",
       "      <th></th>\n",
       "      <th></th>\n",
       "      <th></th>\n",
       "      <th></th>\n",
       "      <th></th>\n",
       "      <th></th>\n",
       "      <th></th>\n",
       "      <th></th>\n",
       "      <th></th>\n",
       "      <th></th>\n",
       "      <th></th>\n",
       "      <th></th>\n",
       "    </tr>\n",
       "  </thead>\n",
       "  <tbody>\n",
       "    <tr>\n",
       "      <th>00029fa4-9b60-4285-898c-85ae8a6367f5</th>\n",
       "      <th>emma jones - small business crown representative as small business crown representative emma is keen to help uk smes win government business. emma was appointed as small business crown representative in july 2016. she was selected for the role because of her wealth of experience in working with smes. she is the founder of small business support group enterprise nation and the co-founder of startup britain. emma’s work in her role as small business crown representative includes: working with government and the small business panel to identify the remaining barriers to smes doing business with the public sector supporting the launch and delivery of the campaign to help show that government is “open for business” for smes and helping them bid for and win more contracts increasing awareness among smaller businesses of opportunities to deliver on behalf of larger private sector firms who have secured government contracts working with government to identify new opportunities to get best value from smes getting support emma is keen to hear what small business have to say and wants to engage with as many smes as possible. so if you’re thinking about becoming a government supplier take a look at the events and opportunities below for how to get involved and gain support. events the leeds cross government sme roadshow - 24 november 2017 - is a great opportunity for smes to hear directly about the opportunities to sell to the public sector. more information about the event and how to register can be found here. webinars register for free for emma’s half-hour webinars offering advice on how to become a government supplier. a list of webinars coming up is featured below. blogs read emma’s blogs to gain useful insight updates and tips for smes and government buyers. these smes did it and so can you! prompt payment makes for good business 2017 a big year for small businesses calling central government buyers: emma can help you meet your target small business saturday dec 2016: top tips for selling to government selling to the public sector guide in partner with the crown commercial service emma has developed a guide for small businesses with tips on selling to government. read here . government is open for business ‘open for business’ is the government’s campaign to reach more smes as potential suppliers: to help and support them to become suppliers and to listen to how government can improve the process. for more information visit www.gov.uk/openforbusiness register with contracts finder to keep updated on new and upcoming contracts worth over £10 000. for inspiration on how other small business have grown and benefitted from being a supplier government read our case studies . if you would like to help in getting the message out that government is open for business then visit the resources page for ways in which you can support.</th>\n",
       "      <th>emma jones - small business crown representative</th>\n",
       "      <th>as small business crown representative emma is keen to help uk smes win government business.</th>\n",
       "      <td>NaN</td>\n",
       "      <td>NaN</td>\n",
       "      <td>NaN</td>\n",
       "      <td>NaN</td>\n",
       "      <td>NaN</td>\n",
       "      <td>NaN</td>\n",
       "      <td>NaN</td>\n",
       "      <td>NaN</td>\n",
       "      <td>NaN</td>\n",
       "      <td>NaN</td>\n",
       "      <td>...</td>\n",
       "      <td>NaN</td>\n",
       "      <td>NaN</td>\n",
       "      <td>NaN</td>\n",
       "      <td>NaN</td>\n",
       "      <td>NaN</td>\n",
       "      <td>NaN</td>\n",
       "      <td>NaN</td>\n",
       "      <td>NaN</td>\n",
       "      <td>NaN</td>\n",
       "      <td>NaN</td>\n",
       "    </tr>\n",
       "    <tr>\n",
       "      <th>00037b70-5b08-44c2-bf0a-fa8eb636a60b</th>\n",
       "      <th>land remediation: bringing brownfield sites back to use brochure showing uk expertise in land remediation outlining technologies systems and ideas used in the regeneration of industrial land. the uk was the first industrialised country in the world. the legacy of the industrial revolution is over 400 000 hectares of contaminated land. uk expertise in land remediation has been borne out of necessity. the department for international trade’s ( dit ) brochure provides an overview of the expertise gained from over 5 decades of experience in land remediation. the brochure includes information on: sector specialists urban regeneration spill response monitoring and validation corporate liability management innovation industry bodies how dit can help this was published originally by uk trade and investment which has since moved to the department for international trade ( dit ).</th>\n",
       "      <th>land remediation: bringing brownfield sites back to use</th>\n",
       "      <th>brochure showing uk expertise in land remediation outlining technologies systems and ideas used in the regeneration of industrial land.</th>\n",
       "      <td>NaN</td>\n",
       "      <td>NaN</td>\n",
       "      <td>NaN</td>\n",
       "      <td>NaN</td>\n",
       "      <td>NaN</td>\n",
       "      <td>NaN</td>\n",
       "      <td>NaN</td>\n",
       "      <td>NaN</td>\n",
       "      <td>NaN</td>\n",
       "      <td>NaN</td>\n",
       "      <td>...</td>\n",
       "      <td>NaN</td>\n",
       "      <td>NaN</td>\n",
       "      <td>NaN</td>\n",
       "      <td>NaN</td>\n",
       "      <td>NaN</td>\n",
       "      <td>NaN</td>\n",
       "      <td>NaN</td>\n",
       "      <td>NaN</td>\n",
       "      <td>NaN</td>\n",
       "      <td>NaN</td>\n",
       "    </tr>\n",
       "    <tr>\n",
       "      <th>00037ee5-7b5e-452d-a233-af2c134f5bce</th>\n",
       "      <th>steps 2 success:ni statistics from october 2014 to september 2016 details on the number of referrals and starts on the steps 2 success programme and the number of moves into employment up to 30 sept 2016 statistics presented include details on the number of referrals and starts to the steps 2 success programme up to 30 september 2016.</th>\n",
       "      <th>steps 2 success:ni statistics from october 2014 to september 2016</th>\n",
       "      <th>details on the number of referrals and starts on the steps 2 success programme and the number of moves into employment up to 30 sept 2016</th>\n",
       "      <td>NaN</td>\n",
       "      <td>NaN</td>\n",
       "      <td>NaN</td>\n",
       "      <td>NaN</td>\n",
       "      <td>NaN</td>\n",
       "      <td>NaN</td>\n",
       "      <td>NaN</td>\n",
       "      <td>NaN</td>\n",
       "      <td>NaN</td>\n",
       "      <td>NaN</td>\n",
       "      <td>...</td>\n",
       "      <td>NaN</td>\n",
       "      <td>NaN</td>\n",
       "      <td>NaN</td>\n",
       "      <td>NaN</td>\n",
       "      <td>NaN</td>\n",
       "      <td>NaN</td>\n",
       "      <td>NaN</td>\n",
       "      <td>NaN</td>\n",
       "      <td>NaN</td>\n",
       "      <td>NaN</td>\n",
       "    </tr>\n",
       "    <tr>\n",
       "      <th>0004c63d-ae16-432a-bb35-c0f949b1e27c</th>\n",
       "      <th>student support applications for higher education: september 2016 data includes the number of applications received and grants awarded. these monthly statistics present information on applications for student support and tuition fee loans and tuition fee grants which include data for welsh domiciled students (wherever they study) and eu domiciled students studying in wales.</th>\n",
       "      <th>student support applications for higher education: september 2016</th>\n",
       "      <th>data includes the number of applications received and grants awarded.</th>\n",
       "      <td>NaN</td>\n",
       "      <td>NaN</td>\n",
       "      <td>NaN</td>\n",
       "      <td>NaN</td>\n",
       "      <td>NaN</td>\n",
       "      <td>NaN</td>\n",
       "      <td>NaN</td>\n",
       "      <td>NaN</td>\n",
       "      <td>NaN</td>\n",
       "      <td>NaN</td>\n",
       "      <td>...</td>\n",
       "      <td>NaN</td>\n",
       "      <td>NaN</td>\n",
       "      <td>NaN</td>\n",
       "      <td>NaN</td>\n",
       "      <td>NaN</td>\n",
       "      <td>NaN</td>\n",
       "      <td>NaN</td>\n",
       "      <td>NaN</td>\n",
       "      <td>NaN</td>\n",
       "      <td>NaN</td>\n",
       "    </tr>\n",
       "    <tr>\n",
       "      <th>0005ac76-50fe-42f1-8168-8b6fc046e40f</th>\n",
       "      <th>advice for building owners: large-scale wall system test 2 advice for building owners on the large-scale wall system test with acm with a polyethylene filler cladding with stone wool insulation. the government is undertaking large scale testing of cladding systems to understand better how 3 different types of aluminium composite material ( acm ) panels behave in combination with 2 different types of insulation in a fire. this note sets out advice to building owners following the results of the large scale test for a wall system including: acm with unmodified polyethylene filler (category 3 in screening tests) stone wool insulation. this should be read alongside the government’s explanatory note on the large scale wall systems testing .</th>\n",
       "      <th>advice for building owners: large-scale wall system test 2</th>\n",
       "      <th>advice for building owners on the large-scale wall system test with acm with a polyethylene filler cladding with stone wool insulation.</th>\n",
       "      <td>NaN</td>\n",
       "      <td>NaN</td>\n",
       "      <td>NaN</td>\n",
       "      <td>NaN</td>\n",
       "      <td>NaN</td>\n",
       "      <td>NaN</td>\n",
       "      <td>NaN</td>\n",
       "      <td>NaN</td>\n",
       "      <td>NaN</td>\n",
       "      <td>NaN</td>\n",
       "      <td>...</td>\n",
       "      <td>NaN</td>\n",
       "      <td>NaN</td>\n",
       "      <td>NaN</td>\n",
       "      <td>NaN</td>\n",
       "      <td>NaN</td>\n",
       "      <td>NaN</td>\n",
       "      <td>NaN</td>\n",
       "      <td>NaN</td>\n",
       "      <td>NaN</td>\n",
       "      <td>NaN</td>\n",
       "    </tr>\n",
       "  </tbody>\n",
       "</table>\n",
       "<p>5 rows × 210 columns</p>\n",
       "</div>"
      ],
      "text/plain": [
       "level2taxon_code                                                                                                                                                                               1    \\\n",
       "content_id                           combined_text                                      title                                              description                                               \n",
       "00029fa4-9b60-4285-898c-85ae8a6367f5 emma jones - small business crown representativ... emma jones - small business crown representative   as small business crown representative emma is ...  NaN   \n",
       "00037b70-5b08-44c2-bf0a-fa8eb636a60b land remediation: bringing brownfield sites bac... land remediation: bringing brownfield sites bac... brochure showing uk expertise in land remediati...  NaN   \n",
       "00037ee5-7b5e-452d-a233-af2c134f5bce steps 2 success:ni statistics from october 2014... steps 2 success:ni statistics from october 2014... details on the number of referrals and starts o...  NaN   \n",
       "0004c63d-ae16-432a-bb35-c0f949b1e27c student support applications for higher educati... student support applications for higher educati... data includes the number of applications receiv...  NaN   \n",
       "0005ac76-50fe-42f1-8168-8b6fc046e40f advice for building owners: large-scale wall sy... advice for building owners: large-scale wall sy... advice for building owners on the large-scale w...  NaN   \n",
       "\n",
       "level2taxon_code                                                                                                                                                                               2    \\\n",
       "content_id                           combined_text                                      title                                              description                                               \n",
       "00029fa4-9b60-4285-898c-85ae8a6367f5 emma jones - small business crown representativ... emma jones - small business crown representative   as small business crown representative emma is ...  NaN   \n",
       "00037b70-5b08-44c2-bf0a-fa8eb636a60b land remediation: bringing brownfield sites bac... land remediation: bringing brownfield sites bac... brochure showing uk expertise in land remediati...  NaN   \n",
       "00037ee5-7b5e-452d-a233-af2c134f5bce steps 2 success:ni statistics from october 2014... steps 2 success:ni statistics from october 2014... details on the number of referrals and starts o...  NaN   \n",
       "0004c63d-ae16-432a-bb35-c0f949b1e27c student support applications for higher educati... student support applications for higher educati... data includes the number of applications receiv...  NaN   \n",
       "0005ac76-50fe-42f1-8168-8b6fc046e40f advice for building owners: large-scale wall sy... advice for building owners: large-scale wall sy... advice for building owners on the large-scale w...  NaN   \n",
       "\n",
       "level2taxon_code                                                                                                                                                                               3    \\\n",
       "content_id                           combined_text                                      title                                              description                                               \n",
       "00029fa4-9b60-4285-898c-85ae8a6367f5 emma jones - small business crown representativ... emma jones - small business crown representative   as small business crown representative emma is ...  NaN   \n",
       "00037b70-5b08-44c2-bf0a-fa8eb636a60b land remediation: bringing brownfield sites bac... land remediation: bringing brownfield sites bac... brochure showing uk expertise in land remediati...  NaN   \n",
       "00037ee5-7b5e-452d-a233-af2c134f5bce steps 2 success:ni statistics from october 2014... steps 2 success:ni statistics from october 2014... details on the number of referrals and starts o...  NaN   \n",
       "0004c63d-ae16-432a-bb35-c0f949b1e27c student support applications for higher educati... student support applications for higher educati... data includes the number of applications receiv...  NaN   \n",
       "0005ac76-50fe-42f1-8168-8b6fc046e40f advice for building owners: large-scale wall sy... advice for building owners: large-scale wall sy... advice for building owners on the large-scale w...  NaN   \n",
       "\n",
       "level2taxon_code                                                                                                                                                                               4    \\\n",
       "content_id                           combined_text                                      title                                              description                                               \n",
       "00029fa4-9b60-4285-898c-85ae8a6367f5 emma jones - small business crown representativ... emma jones - small business crown representative   as small business crown representative emma is ...  NaN   \n",
       "00037b70-5b08-44c2-bf0a-fa8eb636a60b land remediation: bringing brownfield sites bac... land remediation: bringing brownfield sites bac... brochure showing uk expertise in land remediati...  NaN   \n",
       "00037ee5-7b5e-452d-a233-af2c134f5bce steps 2 success:ni statistics from october 2014... steps 2 success:ni statistics from october 2014... details on the number of referrals and starts o...  NaN   \n",
       "0004c63d-ae16-432a-bb35-c0f949b1e27c student support applications for higher educati... student support applications for higher educati... data includes the number of applications receiv...  NaN   \n",
       "0005ac76-50fe-42f1-8168-8b6fc046e40f advice for building owners: large-scale wall sy... advice for building owners: large-scale wall sy... advice for building owners on the large-scale w...  NaN   \n",
       "\n",
       "level2taxon_code                                                                                                                                                                               5    \\\n",
       "content_id                           combined_text                                      title                                              description                                               \n",
       "00029fa4-9b60-4285-898c-85ae8a6367f5 emma jones - small business crown representativ... emma jones - small business crown representative   as small business crown representative emma is ...  NaN   \n",
       "00037b70-5b08-44c2-bf0a-fa8eb636a60b land remediation: bringing brownfield sites bac... land remediation: bringing brownfield sites bac... brochure showing uk expertise in land remediati...  NaN   \n",
       "00037ee5-7b5e-452d-a233-af2c134f5bce steps 2 success:ni statistics from october 2014... steps 2 success:ni statistics from october 2014... details on the number of referrals and starts o...  NaN   \n",
       "0004c63d-ae16-432a-bb35-c0f949b1e27c student support applications for higher educati... student support applications for higher educati... data includes the number of applications receiv...  NaN   \n",
       "0005ac76-50fe-42f1-8168-8b6fc046e40f advice for building owners: large-scale wall sy... advice for building owners: large-scale wall sy... advice for building owners on the large-scale w...  NaN   \n",
       "\n",
       "level2taxon_code                                                                                                                                                                               6    \\\n",
       "content_id                           combined_text                                      title                                              description                                               \n",
       "00029fa4-9b60-4285-898c-85ae8a6367f5 emma jones - small business crown representativ... emma jones - small business crown representative   as small business crown representative emma is ...  NaN   \n",
       "00037b70-5b08-44c2-bf0a-fa8eb636a60b land remediation: bringing brownfield sites bac... land remediation: bringing brownfield sites bac... brochure showing uk expertise in land remediati...  NaN   \n",
       "00037ee5-7b5e-452d-a233-af2c134f5bce steps 2 success:ni statistics from october 2014... steps 2 success:ni statistics from october 2014... details on the number of referrals and starts o...  NaN   \n",
       "0004c63d-ae16-432a-bb35-c0f949b1e27c student support applications for higher educati... student support applications for higher educati... data includes the number of applications receiv...  NaN   \n",
       "0005ac76-50fe-42f1-8168-8b6fc046e40f advice for building owners: large-scale wall sy... advice for building owners: large-scale wall sy... advice for building owners on the large-scale w...  NaN   \n",
       "\n",
       "level2taxon_code                                                                                                                                                                               7    \\\n",
       "content_id                           combined_text                                      title                                              description                                               \n",
       "00029fa4-9b60-4285-898c-85ae8a6367f5 emma jones - small business crown representativ... emma jones - small business crown representative   as small business crown representative emma is ...  NaN   \n",
       "00037b70-5b08-44c2-bf0a-fa8eb636a60b land remediation: bringing brownfield sites bac... land remediation: bringing brownfield sites bac... brochure showing uk expertise in land remediati...  NaN   \n",
       "00037ee5-7b5e-452d-a233-af2c134f5bce steps 2 success:ni statistics from october 2014... steps 2 success:ni statistics from october 2014... details on the number of referrals and starts o...  NaN   \n",
       "0004c63d-ae16-432a-bb35-c0f949b1e27c student support applications for higher educati... student support applications for higher educati... data includes the number of applications receiv...  NaN   \n",
       "0005ac76-50fe-42f1-8168-8b6fc046e40f advice for building owners: large-scale wall sy... advice for building owners: large-scale wall sy... advice for building owners on the large-scale w...  NaN   \n",
       "\n",
       "level2taxon_code                                                                                                                                                                               8    \\\n",
       "content_id                           combined_text                                      title                                              description                                               \n",
       "00029fa4-9b60-4285-898c-85ae8a6367f5 emma jones - small business crown representativ... emma jones - small business crown representative   as small business crown representative emma is ...  NaN   \n",
       "00037b70-5b08-44c2-bf0a-fa8eb636a60b land remediation: bringing brownfield sites bac... land remediation: bringing brownfield sites bac... brochure showing uk expertise in land remediati...  NaN   \n",
       "00037ee5-7b5e-452d-a233-af2c134f5bce steps 2 success:ni statistics from october 2014... steps 2 success:ni statistics from october 2014... details on the number of referrals and starts o...  NaN   \n",
       "0004c63d-ae16-432a-bb35-c0f949b1e27c student support applications for higher educati... student support applications for higher educati... data includes the number of applications receiv...  NaN   \n",
       "0005ac76-50fe-42f1-8168-8b6fc046e40f advice for building owners: large-scale wall sy... advice for building owners: large-scale wall sy... advice for building owners on the large-scale w...  NaN   \n",
       "\n",
       "level2taxon_code                                                                                                                                                                               9    \\\n",
       "content_id                           combined_text                                      title                                              description                                               \n",
       "00029fa4-9b60-4285-898c-85ae8a6367f5 emma jones - small business crown representativ... emma jones - small business crown representative   as small business crown representative emma is ...  NaN   \n",
       "00037b70-5b08-44c2-bf0a-fa8eb636a60b land remediation: bringing brownfield sites bac... land remediation: bringing brownfield sites bac... brochure showing uk expertise in land remediati...  NaN   \n",
       "00037ee5-7b5e-452d-a233-af2c134f5bce steps 2 success:ni statistics from october 2014... steps 2 success:ni statistics from october 2014... details on the number of referrals and starts o...  NaN   \n",
       "0004c63d-ae16-432a-bb35-c0f949b1e27c student support applications for higher educati... student support applications for higher educati... data includes the number of applications receiv...  NaN   \n",
       "0005ac76-50fe-42f1-8168-8b6fc046e40f advice for building owners: large-scale wall sy... advice for building owners: large-scale wall sy... advice for building owners on the large-scale w...  NaN   \n",
       "\n",
       "level2taxon_code                                                                                                                                                                               10   \\\n",
       "content_id                           combined_text                                      title                                              description                                               \n",
       "00029fa4-9b60-4285-898c-85ae8a6367f5 emma jones - small business crown representativ... emma jones - small business crown representative   as small business crown representative emma is ...  NaN   \n",
       "00037b70-5b08-44c2-bf0a-fa8eb636a60b land remediation: bringing brownfield sites bac... land remediation: bringing brownfield sites bac... brochure showing uk expertise in land remediati...  NaN   \n",
       "00037ee5-7b5e-452d-a233-af2c134f5bce steps 2 success:ni statistics from october 2014... steps 2 success:ni statistics from october 2014... details on the number of referrals and starts o...  NaN   \n",
       "0004c63d-ae16-432a-bb35-c0f949b1e27c student support applications for higher educati... student support applications for higher educati... data includes the number of applications receiv...  NaN   \n",
       "0005ac76-50fe-42f1-8168-8b6fc046e40f advice for building owners: large-scale wall sy... advice for building owners: large-scale wall sy... advice for building owners on the large-scale w...  NaN   \n",
       "\n",
       "level2taxon_code                                                                                                                                                                              ...   \\\n",
       "content_id                           combined_text                                      title                                              description                                        ...    \n",
       "00029fa4-9b60-4285-898c-85ae8a6367f5 emma jones - small business crown representativ... emma jones - small business crown representative   as small business crown representative emma is ... ...    \n",
       "00037b70-5b08-44c2-bf0a-fa8eb636a60b land remediation: bringing brownfield sites bac... land remediation: bringing brownfield sites bac... brochure showing uk expertise in land remediati... ...    \n",
       "00037ee5-7b5e-452d-a233-af2c134f5bce steps 2 success:ni statistics from october 2014... steps 2 success:ni statistics from october 2014... details on the number of referrals and starts o... ...    \n",
       "0004c63d-ae16-432a-bb35-c0f949b1e27c student support applications for higher educati... student support applications for higher educati... data includes the number of applications receiv... ...    \n",
       "0005ac76-50fe-42f1-8168-8b6fc046e40f advice for building owners: large-scale wall sy... advice for building owners: large-scale wall sy... advice for building owners on the large-scale w... ...    \n",
       "\n",
       "level2taxon_code                                                                                                                                                                               201  \\\n",
       "content_id                           combined_text                                      title                                              description                                               \n",
       "00029fa4-9b60-4285-898c-85ae8a6367f5 emma jones - small business crown representativ... emma jones - small business crown representative   as small business crown representative emma is ...  NaN   \n",
       "00037b70-5b08-44c2-bf0a-fa8eb636a60b land remediation: bringing brownfield sites bac... land remediation: bringing brownfield sites bac... brochure showing uk expertise in land remediati...  NaN   \n",
       "00037ee5-7b5e-452d-a233-af2c134f5bce steps 2 success:ni statistics from october 2014... steps 2 success:ni statistics from october 2014... details on the number of referrals and starts o...  NaN   \n",
       "0004c63d-ae16-432a-bb35-c0f949b1e27c student support applications for higher educati... student support applications for higher educati... data includes the number of applications receiv...  NaN   \n",
       "0005ac76-50fe-42f1-8168-8b6fc046e40f advice for building owners: large-scale wall sy... advice for building owners: large-scale wall sy... advice for building owners on the large-scale w...  NaN   \n",
       "\n",
       "level2taxon_code                                                                                                                                                                               202  \\\n",
       "content_id                           combined_text                                      title                                              description                                               \n",
       "00029fa4-9b60-4285-898c-85ae8a6367f5 emma jones - small business crown representativ... emma jones - small business crown representative   as small business crown representative emma is ...  NaN   \n",
       "00037b70-5b08-44c2-bf0a-fa8eb636a60b land remediation: bringing brownfield sites bac... land remediation: bringing brownfield sites bac... brochure showing uk expertise in land remediati...  NaN   \n",
       "00037ee5-7b5e-452d-a233-af2c134f5bce steps 2 success:ni statistics from october 2014... steps 2 success:ni statistics from october 2014... details on the number of referrals and starts o...  NaN   \n",
       "0004c63d-ae16-432a-bb35-c0f949b1e27c student support applications for higher educati... student support applications for higher educati... data includes the number of applications receiv...  NaN   \n",
       "0005ac76-50fe-42f1-8168-8b6fc046e40f advice for building owners: large-scale wall sy... advice for building owners: large-scale wall sy... advice for building owners on the large-scale w...  NaN   \n",
       "\n",
       "level2taxon_code                                                                                                                                                                               203  \\\n",
       "content_id                           combined_text                                      title                                              description                                               \n",
       "00029fa4-9b60-4285-898c-85ae8a6367f5 emma jones - small business crown representativ... emma jones - small business crown representative   as small business crown representative emma is ...  NaN   \n",
       "00037b70-5b08-44c2-bf0a-fa8eb636a60b land remediation: bringing brownfield sites bac... land remediation: bringing brownfield sites bac... brochure showing uk expertise in land remediati...  NaN   \n",
       "00037ee5-7b5e-452d-a233-af2c134f5bce steps 2 success:ni statistics from october 2014... steps 2 success:ni statistics from october 2014... details on the number of referrals and starts o...  NaN   \n",
       "0004c63d-ae16-432a-bb35-c0f949b1e27c student support applications for higher educati... student support applications for higher educati... data includes the number of applications receiv...  NaN   \n",
       "0005ac76-50fe-42f1-8168-8b6fc046e40f advice for building owners: large-scale wall sy... advice for building owners: large-scale wall sy... advice for building owners on the large-scale w...  NaN   \n",
       "\n",
       "level2taxon_code                                                                                                                                                                               204  \\\n",
       "content_id                           combined_text                                      title                                              description                                               \n",
       "00029fa4-9b60-4285-898c-85ae8a6367f5 emma jones - small business crown representativ... emma jones - small business crown representative   as small business crown representative emma is ...  NaN   \n",
       "00037b70-5b08-44c2-bf0a-fa8eb636a60b land remediation: bringing brownfield sites bac... land remediation: bringing brownfield sites bac... brochure showing uk expertise in land remediati...  NaN   \n",
       "00037ee5-7b5e-452d-a233-af2c134f5bce steps 2 success:ni statistics from october 2014... steps 2 success:ni statistics from october 2014... details on the number of referrals and starts o...  NaN   \n",
       "0004c63d-ae16-432a-bb35-c0f949b1e27c student support applications for higher educati... student support applications for higher educati... data includes the number of applications receiv...  NaN   \n",
       "0005ac76-50fe-42f1-8168-8b6fc046e40f advice for building owners: large-scale wall sy... advice for building owners: large-scale wall sy... advice for building owners on the large-scale w...  NaN   \n",
       "\n",
       "level2taxon_code                                                                                                                                                                               205  \\\n",
       "content_id                           combined_text                                      title                                              description                                               \n",
       "00029fa4-9b60-4285-898c-85ae8a6367f5 emma jones - small business crown representativ... emma jones - small business crown representative   as small business crown representative emma is ...  NaN   \n",
       "00037b70-5b08-44c2-bf0a-fa8eb636a60b land remediation: bringing brownfield sites bac... land remediation: bringing brownfield sites bac... brochure showing uk expertise in land remediati...  NaN   \n",
       "00037ee5-7b5e-452d-a233-af2c134f5bce steps 2 success:ni statistics from october 2014... steps 2 success:ni statistics from october 2014... details on the number of referrals and starts o...  NaN   \n",
       "0004c63d-ae16-432a-bb35-c0f949b1e27c student support applications for higher educati... student support applications for higher educati... data includes the number of applications receiv...  NaN   \n",
       "0005ac76-50fe-42f1-8168-8b6fc046e40f advice for building owners: large-scale wall sy... advice for building owners: large-scale wall sy... advice for building owners on the large-scale w...  NaN   \n",
       "\n",
       "level2taxon_code                                                                                                                                                                               206  \\\n",
       "content_id                           combined_text                                      title                                              description                                               \n",
       "00029fa4-9b60-4285-898c-85ae8a6367f5 emma jones - small business crown representativ... emma jones - small business crown representative   as small business crown representative emma is ...  NaN   \n",
       "00037b70-5b08-44c2-bf0a-fa8eb636a60b land remediation: bringing brownfield sites bac... land remediation: bringing brownfield sites bac... brochure showing uk expertise in land remediati...  NaN   \n",
       "00037ee5-7b5e-452d-a233-af2c134f5bce steps 2 success:ni statistics from october 2014... steps 2 success:ni statistics from october 2014... details on the number of referrals and starts o...  NaN   \n",
       "0004c63d-ae16-432a-bb35-c0f949b1e27c student support applications for higher educati... student support applications for higher educati... data includes the number of applications receiv...  NaN   \n",
       "0005ac76-50fe-42f1-8168-8b6fc046e40f advice for building owners: large-scale wall sy... advice for building owners: large-scale wall sy... advice for building owners on the large-scale w...  NaN   \n",
       "\n",
       "level2taxon_code                                                                                                                                                                               207  \\\n",
       "content_id                           combined_text                                      title                                              description                                               \n",
       "00029fa4-9b60-4285-898c-85ae8a6367f5 emma jones - small business crown representativ... emma jones - small business crown representative   as small business crown representative emma is ...  NaN   \n",
       "00037b70-5b08-44c2-bf0a-fa8eb636a60b land remediation: bringing brownfield sites bac... land remediation: bringing brownfield sites bac... brochure showing uk expertise in land remediati...  NaN   \n",
       "00037ee5-7b5e-452d-a233-af2c134f5bce steps 2 success:ni statistics from october 2014... steps 2 success:ni statistics from october 2014... details on the number of referrals and starts o...  NaN   \n",
       "0004c63d-ae16-432a-bb35-c0f949b1e27c student support applications for higher educati... student support applications for higher educati... data includes the number of applications receiv...  NaN   \n",
       "0005ac76-50fe-42f1-8168-8b6fc046e40f advice for building owners: large-scale wall sy... advice for building owners: large-scale wall sy... advice for building owners on the large-scale w...  NaN   \n",
       "\n",
       "level2taxon_code                                                                                                                                                                               208  \\\n",
       "content_id                           combined_text                                      title                                              description                                               \n",
       "00029fa4-9b60-4285-898c-85ae8a6367f5 emma jones - small business crown representativ... emma jones - small business crown representative   as small business crown representative emma is ...  NaN   \n",
       "00037b70-5b08-44c2-bf0a-fa8eb636a60b land remediation: bringing brownfield sites bac... land remediation: bringing brownfield sites bac... brochure showing uk expertise in land remediati...  NaN   \n",
       "00037ee5-7b5e-452d-a233-af2c134f5bce steps 2 success:ni statistics from october 2014... steps 2 success:ni statistics from october 2014... details on the number of referrals and starts o...  NaN   \n",
       "0004c63d-ae16-432a-bb35-c0f949b1e27c student support applications for higher educati... student support applications for higher educati... data includes the number of applications receiv...  NaN   \n",
       "0005ac76-50fe-42f1-8168-8b6fc046e40f advice for building owners: large-scale wall sy... advice for building owners: large-scale wall sy... advice for building owners on the large-scale w...  NaN   \n",
       "\n",
       "level2taxon_code                                                                                                                                                                               209  \\\n",
       "content_id                           combined_text                                      title                                              description                                               \n",
       "00029fa4-9b60-4285-898c-85ae8a6367f5 emma jones - small business crown representativ... emma jones - small business crown representative   as small business crown representative emma is ...  NaN   \n",
       "00037b70-5b08-44c2-bf0a-fa8eb636a60b land remediation: bringing brownfield sites bac... land remediation: bringing brownfield sites bac... brochure showing uk expertise in land remediati...  NaN   \n",
       "00037ee5-7b5e-452d-a233-af2c134f5bce steps 2 success:ni statistics from october 2014... steps 2 success:ni statistics from october 2014... details on the number of referrals and starts o...  NaN   \n",
       "0004c63d-ae16-432a-bb35-c0f949b1e27c student support applications for higher educati... student support applications for higher educati... data includes the number of applications receiv...  NaN   \n",
       "0005ac76-50fe-42f1-8168-8b6fc046e40f advice for building owners: large-scale wall sy... advice for building owners: large-scale wall sy... advice for building owners on the large-scale w...  NaN   \n",
       "\n",
       "level2taxon_code                                                                                                                                                                               210  \n",
       "content_id                           combined_text                                      title                                              description                                              \n",
       "00029fa4-9b60-4285-898c-85ae8a6367f5 emma jones - small business crown representativ... emma jones - small business crown representative   as small business crown representative emma is ...  NaN  \n",
       "00037b70-5b08-44c2-bf0a-fa8eb636a60b land remediation: bringing brownfield sites bac... land remediation: bringing brownfield sites bac... brochure showing uk expertise in land remediati...  NaN  \n",
       "00037ee5-7b5e-452d-a233-af2c134f5bce steps 2 success:ni statistics from october 2014... steps 2 success:ni statistics from october 2014... details on the number of referrals and starts o...  NaN  \n",
       "0004c63d-ae16-432a-bb35-c0f949b1e27c student support applications for higher educati... student support applications for higher educati... data includes the number of applications receiv...  NaN  \n",
       "0005ac76-50fe-42f1-8168-8b6fc046e40f advice for building owners: large-scale wall sy... advice for building owners: large-scale wall sy... advice for building owners on the large-scale w...  NaN  \n",
       "\n",
       "[5 rows x 210 columns]"
      ]
     },
     "execution_count": 23,
     "metadata": {},
     "output_type": "execute_result"
    }
   ],
   "source": [
    "multilabel.head()"
   ]
  },
  {
   "cell_type": "code",
   "execution_count": 24,
   "metadata": {},
   "outputs": [
    {
     "data": {
      "text/plain": [
       "Index(['1', '2', '3', '4', '5', '6', '7', '8', '9', '10',\n",
       "       ...\n",
       "       '201', '202', '203', '204', '205', '206', '207', '208', '209', '210'],\n",
       "      dtype='object', name='level2taxon_code', length=210)"
      ]
     },
     "execution_count": 24,
     "metadata": {},
     "output_type": "execute_result"
    }
   ],
   "source": [
    "multilabel.columns.astype('str')"
   ]
  },
  {
   "cell_type": "code",
   "execution_count": 25,
   "metadata": {
    "scrolled": true
   },
   "outputs": [],
   "source": [
    "#THIS IS WHY INDEXING IS NOT ZERO-BASED\n",
    "#convert the number_of_taxons_per_content values to 1, meaning there was an entry for this taxon and this content_id, 0 otherwise\n",
    "binary_multilabel = multilabel.notnull().astype('int')"
   ]
  },
  {
   "cell_type": "markdown",
   "metadata": {},
   "source": [
    "## Data Pre-Processing"
   ]
  },
  {
   "cell_type": "code",
   "execution_count": 26,
   "metadata": {},
   "outputs": [
    {
     "data": {
      "text/plain": [
       "92338"
      ]
     },
     "execution_count": 26,
     "metadata": {},
     "output_type": "execute_result"
    }
   ],
   "source": [
    "total_size = binary_multilabel.shape[0]\n",
    "total_size"
   ]
  },
  {
   "cell_type": "code",
   "execution_count": 27,
   "metadata": {
    "scrolled": true
   },
   "outputs": [
    {
     "name": "stdout",
     "output_type": "stream",
     "text": [
      "nb_test samples: 9233\n",
      "nb_dev samples: 18467\n",
      "nb_training samples: 73870\n"
     ]
    }
   ],
   "source": [
    "nb_test_samples = int(0.1 * total_size) #test split\n",
    "print('nb_test samples:', nb_test_samples)\n",
    "\n",
    "nb_dev_samples = int(0.2 * total_size) #dev split\n",
    "print('nb_dev samples:', nb_dev_samples)\n",
    "\n",
    "nb_training_samples = int(0.8 * total_size) #train split\n",
    "print('nb_training samples:', nb_training_samples)"
   ]
  },
  {
   "cell_type": "markdown",
   "metadata": {},
   "source": [
    "### Shuffle"
   ]
  },
  {
   "cell_type": "code",
   "execution_count": 28,
   "metadata": {},
   "outputs": [
    {
     "name": "stdout",
     "output_type": "stream",
     "text": [
      "00029fa4-9b60-4285-898c-85ae8a6367f5\n",
      "00037b70-5b08-44c2-bf0a-fa8eb636a60b\n",
      "00037ee5-7b5e-452d-a233-af2c134f5bce\n",
      "0004c63d-ae16-432a-bb35-c0f949b1e27c\n",
      "0005ac76-50fe-42f1-8168-8b6fc046e40f\n",
      "0006811c-ad80-4cd0-a732-04cc983ec8c2\n",
      "0008f82f-9713-4074-8793-0d266d53930c\n",
      "000aa34d-c3c0-4176-ad8a-50e801056df1\n",
      "000b6a38-c69a-4ac9-918b-717a79cbdad2\n",
      "000b8c7e-4671-4586-9eff-97c0c374126b\n"
     ]
    }
   ],
   "source": [
    "for i in range(0,10):\n",
    "    print(binary_multilabel.index[i][0])"
   ]
  },
  {
   "cell_type": "markdown",
   "metadata": {},
   "source": [
    "00029fa4-9b60-4285-898c-85ae8a6367f5\n",
    "00037b70-5b08-44c2-bf0a-fa8eb636a60b\n",
    "00037ee5-7b5e-452d-a233-af2c134f5bce\n",
    "0004c63d-ae16-432a-bb35-c0f949b1e27c\n",
    "0005ac76-50fe-42f1-8168-8b6fc046e40f\n",
    "0006811c-ad80-4cd0-a732-04cc983ec8c2\n",
    "0008f82f-9713-4074-8793-0d266d53930c\n",
    "000aa34d-c3c0-4176-ad8a-50e801056df1\n",
    "000b6a38-c69a-4ac9-918b-717a79cbdad2\n",
    "000b8c7e-4671-4586-9eff-97c0c374126b"
   ]
  },
  {
   "cell_type": "code",
   "execution_count": 29,
   "metadata": {},
   "outputs": [],
   "source": [
    "from sklearn.utils import shuffle"
   ]
  },
  {
   "cell_type": "code",
   "execution_count": 30,
   "metadata": {},
   "outputs": [],
   "source": [
    "binary_multilabel = shuffle(binary_multilabel,random_state=0)"
   ]
  },
  {
   "cell_type": "code",
   "execution_count": 31,
   "metadata": {},
   "outputs": [
    {
     "name": "stdout",
     "output_type": "stream",
     "text": [
      "1372d620-2c7b-4c06-a6e7-c60cacdb4d58\n",
      "d8132578-37d9-4f47-a438-86530b0ff259\n",
      "5c8fa231-7631-11e4-a3cb-005056011aef\n",
      "5f2bc84b-6fb0-48f7-9fab-41387b1d72fe\n",
      "5df423c9-7631-11e4-a3cb-005056011aef\n",
      "a1c32b79-e6b9-40b1-8095-150727418ea1\n",
      "5bfd33c7-63bb-42d0-a6c7-9c2c03739165\n",
      "5dc916ad-7631-11e4-a3cb-005056011aef\n",
      "dabfc6b3-d88c-458f-a9fb-f286b987509b\n",
      "5c71ba56-7631-11e4-a3cb-005056011aef\n"
     ]
    }
   ],
   "source": [
    "for i in range(0,10):\n",
    "    print(binary_multilabel.index[i][0])"
   ]
  },
  {
   "cell_type": "markdown",
   "metadata": {},
   "source": [
    "df76ffdf-70d6-4a38-9d60-a1765c18914e\n",
    "dca1f897-c8bd-4e35-a839-5953ee94d54e\n",
    "3bec5cd0-76bd-48b1-924a-567bd3361ec0\n",
    "5eb7cd3c-7631-11e4-a3cb-005056011aef\n",
    "a67385c3-8562-4dc1-96ba-d96ff215943b\n",
    "5e35118a-7631-11e4-a3cb-005056011aef\n",
    "5feb658b-7631-11e4-a3cb-005056011aef\n",
    "144a86f9-6902-444c-87bc-b389a6f3b275\n",
    "5e139390-7631-11e4-a3cb-005056011aef\n",
    "e5741923-bc21-46bd-8832-886706f59e81"
   ]
  },
  {
   "cell_type": "markdown",
   "metadata": {},
   "source": [
    "### Upsample minority classes to address imbalance leading to ~2, 465, 570 rows of data!"
   ]
  },
  {
   "cell_type": "markdown",
   "metadata": {},
   "source": [
    "Access taxon columns with indexing. "
   ]
  },
  {
   "cell_type": "code",
   "execution_count": 32,
   "metadata": {},
   "outputs": [
    {
     "name": "stdout",
     "output_type": "stream",
     "text": [
      "[ENCODING] Taxon min indx: 1 Taxon max indx: 210\n"
     ]
    }
   ],
   "source": [
    "print(\"[ENCODING] Taxon min indx:\",binary_multilabel.columns[0],\"Taxon max indx:\",\n",
    "      binary_multilabel.columns[len(binary_multilabel.columns)-1])"
   ]
  },
  {
   "cell_type": "code",
   "execution_count": 33,
   "metadata": {},
   "outputs": [
    {
     "data": {
      "text/plain": [
       "(92338,)"
      ]
     },
     "execution_count": 33,
     "metadata": {},
     "output_type": "execute_result"
    }
   ],
   "source": [
    "binary_multilabel[1].shape"
   ]
  },
  {
   "cell_type": "code",
   "execution_count": 34,
   "metadata": {},
   "outputs": [
    {
     "data": {
      "text/plain": [
       "numpy.int64"
      ]
     },
     "execution_count": 34,
     "metadata": {},
     "output_type": "execute_result"
    }
   ],
   "source": [
    "type(binary_multilabel.columns[0])"
   ]
  },
  {
   "cell_type": "code",
   "execution_count": 35,
   "metadata": {},
   "outputs": [],
   "source": [
    "### Array with indices to upsample"
   ]
  },
  {
   "cell_type": "code",
   "execution_count": 36,
   "metadata": {},
   "outputs": [
    {
     "name": "stdout",
     "output_type": "stream",
     "text": [
      "73870\n"
     ]
    }
   ],
   "source": [
    "index = [binary_multilabel.index[i][0] for i in range(0,nb_training_samples)]\n",
    "print(len(index))"
   ]
  },
  {
   "cell_type": "code",
   "execution_count": 37,
   "metadata": {},
   "outputs": [
    {
     "data": {
      "text/html": [
       "<div>\n",
       "<style scoped>\n",
       "    .dataframe tbody tr th:only-of-type {\n",
       "        vertical-align: middle;\n",
       "    }\n",
       "\n",
       "    .dataframe tbody tr th {\n",
       "        vertical-align: top;\n",
       "    }\n",
       "\n",
       "    .dataframe thead th {\n",
       "        text-align: right;\n",
       "    }\n",
       "</style>\n",
       "<table border=\"1\" class=\"dataframe\">\n",
       "  <thead>\n",
       "    <tr style=\"text-align: right;\">\n",
       "      <th></th>\n",
       "      <th></th>\n",
       "      <th></th>\n",
       "      <th>level2taxon_code</th>\n",
       "      <th>1</th>\n",
       "      <th>2</th>\n",
       "      <th>3</th>\n",
       "      <th>4</th>\n",
       "      <th>5</th>\n",
       "      <th>6</th>\n",
       "      <th>7</th>\n",
       "      <th>8</th>\n",
       "      <th>9</th>\n",
       "      <th>10</th>\n",
       "      <th>...</th>\n",
       "      <th>201</th>\n",
       "      <th>202</th>\n",
       "      <th>203</th>\n",
       "      <th>204</th>\n",
       "      <th>205</th>\n",
       "      <th>206</th>\n",
       "      <th>207</th>\n",
       "      <th>208</th>\n",
       "      <th>209</th>\n",
       "      <th>210</th>\n",
       "    </tr>\n",
       "    <tr>\n",
       "      <th>content_id</th>\n",
       "      <th>combined_text</th>\n",
       "      <th>title</th>\n",
       "      <th>description</th>\n",
       "      <th></th>\n",
       "      <th></th>\n",
       "      <th></th>\n",
       "      <th></th>\n",
       "      <th></th>\n",
       "      <th></th>\n",
       "      <th></th>\n",
       "      <th></th>\n",
       "      <th></th>\n",
       "      <th></th>\n",
       "      <th></th>\n",
       "      <th></th>\n",
       "      <th></th>\n",
       "      <th></th>\n",
       "      <th></th>\n",
       "      <th></th>\n",
       "      <th></th>\n",
       "      <th></th>\n",
       "      <th></th>\n",
       "      <th></th>\n",
       "      <th></th>\n",
       "    </tr>\n",
       "  </thead>\n",
       "  <tbody>\n",
       "    <tr>\n",
       "      <th>714b7c4c-269a-40fd-b3d8-41eda3d5517a</th>\n",
       "      <th>merger of local justice areas in greater manchester seeks views on merging 8 local justice areas (ljas) into a single lja to be known as the greater manchester lja. there are 3 key reasons for considering a merger of the current 8 ljas: to improve the effectiveness of the delivery of justice by improving flexibility in dealing with cases to make better use of reduced resources to increase the opportunities for magistrates to retain experience and thus competence the judicial business group (jbg) must address the question of magistrates’ sittings against the background of falling court sittings in criminal jurisdiction. the jbg must also consider the resources available to hmcts and criminal justice agencies to ensure that justice can be delivered as effectively as possible with reduced resources. staffing within hmcts and other organisations is determined by the workload and has therefore reduced over recent years.</th>\n",
       "      <th>merger of local justice areas in greater manchester</th>\n",
       "      <th>seeks views on merging 8 local justice areas (ljas) into a single lja to be known as the greater manchester lja.</th>\n",
       "      <td>1</td>\n",
       "      <td>0</td>\n",
       "      <td>0</td>\n",
       "      <td>0</td>\n",
       "      <td>0</td>\n",
       "      <td>0</td>\n",
       "      <td>0</td>\n",
       "      <td>0</td>\n",
       "      <td>0</td>\n",
       "      <td>0</td>\n",
       "      <td>...</td>\n",
       "      <td>0</td>\n",
       "      <td>0</td>\n",
       "      <td>0</td>\n",
       "      <td>0</td>\n",
       "      <td>0</td>\n",
       "      <td>0</td>\n",
       "      <td>0</td>\n",
       "      <td>0</td>\n",
       "      <td>0</td>\n",
       "      <td>0</td>\n",
       "    </tr>\n",
       "    <tr>\n",
       "      <th>5f617c08-7631-11e4-a3cb-005056011aef</th>\n",
       "      <th>gwent magistrates' courts: proposals for the future this is a consultation on a proposal to close abergavenny magistrates' court and caerphilly magistrates' court. both abergavenny magistrates’ court and caerphilly magistrates’ court are in need of restoration and hm courts and tribunals service would incur considerable costs in making necessary repairs. it is proposed that both courts close and the workload be absorbed by the other 2 magistrates’ courts in gwent - newport and cwmbran. this proposal aims to ensure our court estate is used more efficiently and the closure of the courts would offer hm courts and tribunals service savings of around £80 000 a year. this consultation seeks the views of local users judiciary magistracy staff criminal justice agency practitioners and elected representatives to better understand the impact that this proposal would have on the gwent community.</th>\n",
       "      <th>gwent magistrates' courts: proposals for the future</th>\n",
       "      <th>this is a consultation on a proposal to close abergavenny magistrates' court and caerphilly magistrates' court.</th>\n",
       "      <td>1</td>\n",
       "      <td>0</td>\n",
       "      <td>0</td>\n",
       "      <td>0</td>\n",
       "      <td>0</td>\n",
       "      <td>0</td>\n",
       "      <td>0</td>\n",
       "      <td>0</td>\n",
       "      <td>0</td>\n",
       "      <td>0</td>\n",
       "      <td>...</td>\n",
       "      <td>0</td>\n",
       "      <td>0</td>\n",
       "      <td>0</td>\n",
       "      <td>0</td>\n",
       "      <td>0</td>\n",
       "      <td>0</td>\n",
       "      <td>0</td>\n",
       "      <td>0</td>\n",
       "      <td>0</td>\n",
       "      <td>0</td>\n",
       "    </tr>\n",
       "    <tr>\n",
       "      <th>5f641586-7631-11e4-a3cb-005056011aef</th>\n",
       "      <th>two appointments for the judicial appointments commission judge phillip sycamore and judge usha karu appointed as commissioners of the judicial appointments commission. the lord chancellor today announced the appointment by her majesty the queen of his honour judge phillip sycamore as a senior judicial commissioner and her honour judge usha karu as the circuit judge member of the judicial appointments commission (jac). the appointments of his and her honour are for a 3 year period commencing 9 june 2014 with the possibility subject to the provisions of the constitutional reform act 2005 of renewal for a total period not exceeding 10 years. as serving salaried judges these posts are unpaid. the jac is an independent commission that selects candidates for judicial office in courts and tribunals in england and wales and for some tribunals whose jurisdiction extends to scotland or northern ireland. the jac selects candidates for judicial office on merit through fair and open competition from the widest range of eligible candidates. the jac comprises a chairman and 14 commissioners. the jac has a senior management team comprising the chief executive and a director and is supported by 67 staff. biographies his honour judge phillip sycamore judge sycamore was appointed as a circuit judge in 2001 and is currently the chamber president of the first tier tribunal (health education and social care chamber) a judge of the upper tribunal (administrative appeals chamber) and a deputy high court judge. he was previously the liaison judge for the mental health review tribunal the president of the law society of england and wales from 1997 to 1998 and a recorder from 1999 to 2001. this appointment was made on the recommendation of the tribunal judges council unlike the other jac commissioners who are nominated by judges’ councils. her honour judge usha karu judge karu was appointed as a circuit judge in 2005 and currently sits at the inner london crown court. prior to her appointment to the full time judiciary she was a barrister by profession and is one of the two diversity and community relations judges for inner london crown court. she is also the coordinating judge for judicial mentors for recorders for the london area as well as the new recorders training judge at the inner london crown court and a judicial member of the mental health review tribunal (restricted patients panel). this appointment was made through open competition. in accordance with the original nolan recommendations there is a requirement for appointees’ political activity (if any is declared) to be made public. her honour judge karu has declared that she has not been involved in any political activity.</th>\n",
       "      <th>two appointments for the judicial appointments commission</th>\n",
       "      <th>judge phillip sycamore and judge usha karu appointed as commissioners of the judicial appointments commission.</th>\n",
       "      <td>1</td>\n",
       "      <td>0</td>\n",
       "      <td>0</td>\n",
       "      <td>0</td>\n",
       "      <td>0</td>\n",
       "      <td>0</td>\n",
       "      <td>0</td>\n",
       "      <td>0</td>\n",
       "      <td>0</td>\n",
       "      <td>0</td>\n",
       "      <td>...</td>\n",
       "      <td>0</td>\n",
       "      <td>0</td>\n",
       "      <td>0</td>\n",
       "      <td>0</td>\n",
       "      <td>0</td>\n",
       "      <td>0</td>\n",
       "      <td>0</td>\n",
       "      <td>0</td>\n",
       "      <td>0</td>\n",
       "      <td>0</td>\n",
       "    </tr>\n",
       "    <tr>\n",
       "      <th>8ea3bdc9-05ff-4416-8874-248a13bc7610</th>\n",
       "      <th>merger of north sussex and west sussex local justice areas seeks views on merger of 2 local justice areas (ljas) of sussex northern and sussex western into 1 lja to be known as the west sussex lja. the aim of this consultation is to find views on proposals to merge the local justice areas of sussex (northern) and sussex (western) into one new west sussex local justice area. this will give greater flexibility in managing the caseload across west sussex whilst increasing the opportunities for magistrates to sit on a broader range of cases on a regular basis and maintain experience. it aims to reduce delays and provide a more consistent service to court users. there will also be no reduction in access to justice for court users who have to attend hearings. this will also enable more effective management of the business of the bench reducing the number of meetings that magistrates and support staff must attend.</th>\n",
       "      <th>merger of north sussex and west sussex local justice areas</th>\n",
       "      <th>seeks views on merger of 2 local justice areas (ljas) of sussex northern and sussex western into 1 lja to be known as the west sussex lja.</th>\n",
       "      <td>1</td>\n",
       "      <td>0</td>\n",
       "      <td>0</td>\n",
       "      <td>0</td>\n",
       "      <td>0</td>\n",
       "      <td>0</td>\n",
       "      <td>0</td>\n",
       "      <td>0</td>\n",
       "      <td>0</td>\n",
       "      <td>0</td>\n",
       "      <td>...</td>\n",
       "      <td>0</td>\n",
       "      <td>0</td>\n",
       "      <td>0</td>\n",
       "      <td>0</td>\n",
       "      <td>0</td>\n",
       "      <td>0</td>\n",
       "      <td>0</td>\n",
       "      <td>0</td>\n",
       "      <td>0</td>\n",
       "      <td>0</td>\n",
       "    </tr>\n",
       "    <tr>\n",
       "      <th>5fa8e157-7631-11e4-a3cb-005056011aef</th>\n",
       "      <th>proposals to reform judicial review the government response to the joint committee on human rights’ (jchr) 13th report of the 2013 to 2014 session. the government has set out its view on the committee’s recommendations in respect of its proposed reforms to judicial review many of which are being taken forward through the criminal justice and courts bill. the government’s view is that the reforms being taken forward are a proportionate response to the concerns raised in the consultation judicial review – proposals for further reform. the government is clear that judicial review is and must remain a crucial check on the power of the state and should continue to be readily available where it’s necessary in the interests of justice. the reforms the government is pursuing are aimed at speeding up the process for people who have arguable grounds and a genuine case to put. further information government response to the consultation judicial review: proposals for further reform</th>\n",
       "      <th>proposals to reform judicial review</th>\n",
       "      <th>the government response to the joint committee on human rights’ (jchr) 13th report of the 2013 to 2014 session.</th>\n",
       "      <td>1</td>\n",
       "      <td>0</td>\n",
       "      <td>0</td>\n",
       "      <td>0</td>\n",
       "      <td>0</td>\n",
       "      <td>0</td>\n",
       "      <td>0</td>\n",
       "      <td>0</td>\n",
       "      <td>0</td>\n",
       "      <td>0</td>\n",
       "      <td>...</td>\n",
       "      <td>0</td>\n",
       "      <td>0</td>\n",
       "      <td>0</td>\n",
       "      <td>0</td>\n",
       "      <td>0</td>\n",
       "      <td>0</td>\n",
       "      <td>0</td>\n",
       "      <td>0</td>\n",
       "      <td>0</td>\n",
       "      <td>0</td>\n",
       "    </tr>\n",
       "  </tbody>\n",
       "</table>\n",
       "<p>5 rows × 210 columns</p>\n",
       "</div>"
      ],
      "text/plain": [
       "level2taxon_code                                                                                                                                                                               1    \\\n",
       "content_id                           combined_text                                      title                                              description                                               \n",
       "714b7c4c-269a-40fd-b3d8-41eda3d5517a merger of local justice areas in greater manche... merger of local justice areas in greater manche... seeks views on merging 8 local justice areas (l...    1   \n",
       "5f617c08-7631-11e4-a3cb-005056011aef gwent magistrates' courts: proposals for the fu... gwent magistrates' courts: proposals for the fu... this is a consultation on a proposal to close a...    1   \n",
       "5f641586-7631-11e4-a3cb-005056011aef two appointments for the judicial appointments ... two appointments for the judicial appointments ... judge phillip sycamore and judge usha karu appo...    1   \n",
       "8ea3bdc9-05ff-4416-8874-248a13bc7610 merger of north sussex and west sussex local ju... merger of north sussex and west sussex local ju... seeks views on merger of 2 local justice areas ...    1   \n",
       "5fa8e157-7631-11e4-a3cb-005056011aef proposals to reform judicial review the governm... proposals to reform judicial review                the government response to the joint committee ...    1   \n",
       "\n",
       "level2taxon_code                                                                                                                                                                               2    \\\n",
       "content_id                           combined_text                                      title                                              description                                               \n",
       "714b7c4c-269a-40fd-b3d8-41eda3d5517a merger of local justice areas in greater manche... merger of local justice areas in greater manche... seeks views on merging 8 local justice areas (l...    0   \n",
       "5f617c08-7631-11e4-a3cb-005056011aef gwent magistrates' courts: proposals for the fu... gwent magistrates' courts: proposals for the fu... this is a consultation on a proposal to close a...    0   \n",
       "5f641586-7631-11e4-a3cb-005056011aef two appointments for the judicial appointments ... two appointments for the judicial appointments ... judge phillip sycamore and judge usha karu appo...    0   \n",
       "8ea3bdc9-05ff-4416-8874-248a13bc7610 merger of north sussex and west sussex local ju... merger of north sussex and west sussex local ju... seeks views on merger of 2 local justice areas ...    0   \n",
       "5fa8e157-7631-11e4-a3cb-005056011aef proposals to reform judicial review the governm... proposals to reform judicial review                the government response to the joint committee ...    0   \n",
       "\n",
       "level2taxon_code                                                                                                                                                                               3    \\\n",
       "content_id                           combined_text                                      title                                              description                                               \n",
       "714b7c4c-269a-40fd-b3d8-41eda3d5517a merger of local justice areas in greater manche... merger of local justice areas in greater manche... seeks views on merging 8 local justice areas (l...    0   \n",
       "5f617c08-7631-11e4-a3cb-005056011aef gwent magistrates' courts: proposals for the fu... gwent magistrates' courts: proposals for the fu... this is a consultation on a proposal to close a...    0   \n",
       "5f641586-7631-11e4-a3cb-005056011aef two appointments for the judicial appointments ... two appointments for the judicial appointments ... judge phillip sycamore and judge usha karu appo...    0   \n",
       "8ea3bdc9-05ff-4416-8874-248a13bc7610 merger of north sussex and west sussex local ju... merger of north sussex and west sussex local ju... seeks views on merger of 2 local justice areas ...    0   \n",
       "5fa8e157-7631-11e4-a3cb-005056011aef proposals to reform judicial review the governm... proposals to reform judicial review                the government response to the joint committee ...    0   \n",
       "\n",
       "level2taxon_code                                                                                                                                                                               4    \\\n",
       "content_id                           combined_text                                      title                                              description                                               \n",
       "714b7c4c-269a-40fd-b3d8-41eda3d5517a merger of local justice areas in greater manche... merger of local justice areas in greater manche... seeks views on merging 8 local justice areas (l...    0   \n",
       "5f617c08-7631-11e4-a3cb-005056011aef gwent magistrates' courts: proposals for the fu... gwent magistrates' courts: proposals for the fu... this is a consultation on a proposal to close a...    0   \n",
       "5f641586-7631-11e4-a3cb-005056011aef two appointments for the judicial appointments ... two appointments for the judicial appointments ... judge phillip sycamore and judge usha karu appo...    0   \n",
       "8ea3bdc9-05ff-4416-8874-248a13bc7610 merger of north sussex and west sussex local ju... merger of north sussex and west sussex local ju... seeks views on merger of 2 local justice areas ...    0   \n",
       "5fa8e157-7631-11e4-a3cb-005056011aef proposals to reform judicial review the governm... proposals to reform judicial review                the government response to the joint committee ...    0   \n",
       "\n",
       "level2taxon_code                                                                                                                                                                               5    \\\n",
       "content_id                           combined_text                                      title                                              description                                               \n",
       "714b7c4c-269a-40fd-b3d8-41eda3d5517a merger of local justice areas in greater manche... merger of local justice areas in greater manche... seeks views on merging 8 local justice areas (l...    0   \n",
       "5f617c08-7631-11e4-a3cb-005056011aef gwent magistrates' courts: proposals for the fu... gwent magistrates' courts: proposals for the fu... this is a consultation on a proposal to close a...    0   \n",
       "5f641586-7631-11e4-a3cb-005056011aef two appointments for the judicial appointments ... two appointments for the judicial appointments ... judge phillip sycamore and judge usha karu appo...    0   \n",
       "8ea3bdc9-05ff-4416-8874-248a13bc7610 merger of north sussex and west sussex local ju... merger of north sussex and west sussex local ju... seeks views on merger of 2 local justice areas ...    0   \n",
       "5fa8e157-7631-11e4-a3cb-005056011aef proposals to reform judicial review the governm... proposals to reform judicial review                the government response to the joint committee ...    0   \n",
       "\n",
       "level2taxon_code                                                                                                                                                                               6    \\\n",
       "content_id                           combined_text                                      title                                              description                                               \n",
       "714b7c4c-269a-40fd-b3d8-41eda3d5517a merger of local justice areas in greater manche... merger of local justice areas in greater manche... seeks views on merging 8 local justice areas (l...    0   \n",
       "5f617c08-7631-11e4-a3cb-005056011aef gwent magistrates' courts: proposals for the fu... gwent magistrates' courts: proposals for the fu... this is a consultation on a proposal to close a...    0   \n",
       "5f641586-7631-11e4-a3cb-005056011aef two appointments for the judicial appointments ... two appointments for the judicial appointments ... judge phillip sycamore and judge usha karu appo...    0   \n",
       "8ea3bdc9-05ff-4416-8874-248a13bc7610 merger of north sussex and west sussex local ju... merger of north sussex and west sussex local ju... seeks views on merger of 2 local justice areas ...    0   \n",
       "5fa8e157-7631-11e4-a3cb-005056011aef proposals to reform judicial review the governm... proposals to reform judicial review                the government response to the joint committee ...    0   \n",
       "\n",
       "level2taxon_code                                                                                                                                                                               7    \\\n",
       "content_id                           combined_text                                      title                                              description                                               \n",
       "714b7c4c-269a-40fd-b3d8-41eda3d5517a merger of local justice areas in greater manche... merger of local justice areas in greater manche... seeks views on merging 8 local justice areas (l...    0   \n",
       "5f617c08-7631-11e4-a3cb-005056011aef gwent magistrates' courts: proposals for the fu... gwent magistrates' courts: proposals for the fu... this is a consultation on a proposal to close a...    0   \n",
       "5f641586-7631-11e4-a3cb-005056011aef two appointments for the judicial appointments ... two appointments for the judicial appointments ... judge phillip sycamore and judge usha karu appo...    0   \n",
       "8ea3bdc9-05ff-4416-8874-248a13bc7610 merger of north sussex and west sussex local ju... merger of north sussex and west sussex local ju... seeks views on merger of 2 local justice areas ...    0   \n",
       "5fa8e157-7631-11e4-a3cb-005056011aef proposals to reform judicial review the governm... proposals to reform judicial review                the government response to the joint committee ...    0   \n",
       "\n",
       "level2taxon_code                                                                                                                                                                               8    \\\n",
       "content_id                           combined_text                                      title                                              description                                               \n",
       "714b7c4c-269a-40fd-b3d8-41eda3d5517a merger of local justice areas in greater manche... merger of local justice areas in greater manche... seeks views on merging 8 local justice areas (l...    0   \n",
       "5f617c08-7631-11e4-a3cb-005056011aef gwent magistrates' courts: proposals for the fu... gwent magistrates' courts: proposals for the fu... this is a consultation on a proposal to close a...    0   \n",
       "5f641586-7631-11e4-a3cb-005056011aef two appointments for the judicial appointments ... two appointments for the judicial appointments ... judge phillip sycamore and judge usha karu appo...    0   \n",
       "8ea3bdc9-05ff-4416-8874-248a13bc7610 merger of north sussex and west sussex local ju... merger of north sussex and west sussex local ju... seeks views on merger of 2 local justice areas ...    0   \n",
       "5fa8e157-7631-11e4-a3cb-005056011aef proposals to reform judicial review the governm... proposals to reform judicial review                the government response to the joint committee ...    0   \n",
       "\n",
       "level2taxon_code                                                                                                                                                                               9    \\\n",
       "content_id                           combined_text                                      title                                              description                                               \n",
       "714b7c4c-269a-40fd-b3d8-41eda3d5517a merger of local justice areas in greater manche... merger of local justice areas in greater manche... seeks views on merging 8 local justice areas (l...    0   \n",
       "5f617c08-7631-11e4-a3cb-005056011aef gwent magistrates' courts: proposals for the fu... gwent magistrates' courts: proposals for the fu... this is a consultation on a proposal to close a...    0   \n",
       "5f641586-7631-11e4-a3cb-005056011aef two appointments for the judicial appointments ... two appointments for the judicial appointments ... judge phillip sycamore and judge usha karu appo...    0   \n",
       "8ea3bdc9-05ff-4416-8874-248a13bc7610 merger of north sussex and west sussex local ju... merger of north sussex and west sussex local ju... seeks views on merger of 2 local justice areas ...    0   \n",
       "5fa8e157-7631-11e4-a3cb-005056011aef proposals to reform judicial review the governm... proposals to reform judicial review                the government response to the joint committee ...    0   \n",
       "\n",
       "level2taxon_code                                                                                                                                                                               10   \\\n",
       "content_id                           combined_text                                      title                                              description                                               \n",
       "714b7c4c-269a-40fd-b3d8-41eda3d5517a merger of local justice areas in greater manche... merger of local justice areas in greater manche... seeks views on merging 8 local justice areas (l...    0   \n",
       "5f617c08-7631-11e4-a3cb-005056011aef gwent magistrates' courts: proposals for the fu... gwent magistrates' courts: proposals for the fu... this is a consultation on a proposal to close a...    0   \n",
       "5f641586-7631-11e4-a3cb-005056011aef two appointments for the judicial appointments ... two appointments for the judicial appointments ... judge phillip sycamore and judge usha karu appo...    0   \n",
       "8ea3bdc9-05ff-4416-8874-248a13bc7610 merger of north sussex and west sussex local ju... merger of north sussex and west sussex local ju... seeks views on merger of 2 local justice areas ...    0   \n",
       "5fa8e157-7631-11e4-a3cb-005056011aef proposals to reform judicial review the governm... proposals to reform judicial review                the government response to the joint committee ...    0   \n",
       "\n",
       "level2taxon_code                                                                                                                                                                              ...   \\\n",
       "content_id                           combined_text                                      title                                              description                                        ...    \n",
       "714b7c4c-269a-40fd-b3d8-41eda3d5517a merger of local justice areas in greater manche... merger of local justice areas in greater manche... seeks views on merging 8 local justice areas (l... ...    \n",
       "5f617c08-7631-11e4-a3cb-005056011aef gwent magistrates' courts: proposals for the fu... gwent magistrates' courts: proposals for the fu... this is a consultation on a proposal to close a... ...    \n",
       "5f641586-7631-11e4-a3cb-005056011aef two appointments for the judicial appointments ... two appointments for the judicial appointments ... judge phillip sycamore and judge usha karu appo... ...    \n",
       "8ea3bdc9-05ff-4416-8874-248a13bc7610 merger of north sussex and west sussex local ju... merger of north sussex and west sussex local ju... seeks views on merger of 2 local justice areas ... ...    \n",
       "5fa8e157-7631-11e4-a3cb-005056011aef proposals to reform judicial review the governm... proposals to reform judicial review                the government response to the joint committee ... ...    \n",
       "\n",
       "level2taxon_code                                                                                                                                                                               201  \\\n",
       "content_id                           combined_text                                      title                                              description                                               \n",
       "714b7c4c-269a-40fd-b3d8-41eda3d5517a merger of local justice areas in greater manche... merger of local justice areas in greater manche... seeks views on merging 8 local justice areas (l...    0   \n",
       "5f617c08-7631-11e4-a3cb-005056011aef gwent magistrates' courts: proposals for the fu... gwent magistrates' courts: proposals for the fu... this is a consultation on a proposal to close a...    0   \n",
       "5f641586-7631-11e4-a3cb-005056011aef two appointments for the judicial appointments ... two appointments for the judicial appointments ... judge phillip sycamore and judge usha karu appo...    0   \n",
       "8ea3bdc9-05ff-4416-8874-248a13bc7610 merger of north sussex and west sussex local ju... merger of north sussex and west sussex local ju... seeks views on merger of 2 local justice areas ...    0   \n",
       "5fa8e157-7631-11e4-a3cb-005056011aef proposals to reform judicial review the governm... proposals to reform judicial review                the government response to the joint committee ...    0   \n",
       "\n",
       "level2taxon_code                                                                                                                                                                               202  \\\n",
       "content_id                           combined_text                                      title                                              description                                               \n",
       "714b7c4c-269a-40fd-b3d8-41eda3d5517a merger of local justice areas in greater manche... merger of local justice areas in greater manche... seeks views on merging 8 local justice areas (l...    0   \n",
       "5f617c08-7631-11e4-a3cb-005056011aef gwent magistrates' courts: proposals for the fu... gwent magistrates' courts: proposals for the fu... this is a consultation on a proposal to close a...    0   \n",
       "5f641586-7631-11e4-a3cb-005056011aef two appointments for the judicial appointments ... two appointments for the judicial appointments ... judge phillip sycamore and judge usha karu appo...    0   \n",
       "8ea3bdc9-05ff-4416-8874-248a13bc7610 merger of north sussex and west sussex local ju... merger of north sussex and west sussex local ju... seeks views on merger of 2 local justice areas ...    0   \n",
       "5fa8e157-7631-11e4-a3cb-005056011aef proposals to reform judicial review the governm... proposals to reform judicial review                the government response to the joint committee ...    0   \n",
       "\n",
       "level2taxon_code                                                                                                                                                                               203  \\\n",
       "content_id                           combined_text                                      title                                              description                                               \n",
       "714b7c4c-269a-40fd-b3d8-41eda3d5517a merger of local justice areas in greater manche... merger of local justice areas in greater manche... seeks views on merging 8 local justice areas (l...    0   \n",
       "5f617c08-7631-11e4-a3cb-005056011aef gwent magistrates' courts: proposals for the fu... gwent magistrates' courts: proposals for the fu... this is a consultation on a proposal to close a...    0   \n",
       "5f641586-7631-11e4-a3cb-005056011aef two appointments for the judicial appointments ... two appointments for the judicial appointments ... judge phillip sycamore and judge usha karu appo...    0   \n",
       "8ea3bdc9-05ff-4416-8874-248a13bc7610 merger of north sussex and west sussex local ju... merger of north sussex and west sussex local ju... seeks views on merger of 2 local justice areas ...    0   \n",
       "5fa8e157-7631-11e4-a3cb-005056011aef proposals to reform judicial review the governm... proposals to reform judicial review                the government response to the joint committee ...    0   \n",
       "\n",
       "level2taxon_code                                                                                                                                                                               204  \\\n",
       "content_id                           combined_text                                      title                                              description                                               \n",
       "714b7c4c-269a-40fd-b3d8-41eda3d5517a merger of local justice areas in greater manche... merger of local justice areas in greater manche... seeks views on merging 8 local justice areas (l...    0   \n",
       "5f617c08-7631-11e4-a3cb-005056011aef gwent magistrates' courts: proposals for the fu... gwent magistrates' courts: proposals for the fu... this is a consultation on a proposal to close a...    0   \n",
       "5f641586-7631-11e4-a3cb-005056011aef two appointments for the judicial appointments ... two appointments for the judicial appointments ... judge phillip sycamore and judge usha karu appo...    0   \n",
       "8ea3bdc9-05ff-4416-8874-248a13bc7610 merger of north sussex and west sussex local ju... merger of north sussex and west sussex local ju... seeks views on merger of 2 local justice areas ...    0   \n",
       "5fa8e157-7631-11e4-a3cb-005056011aef proposals to reform judicial review the governm... proposals to reform judicial review                the government response to the joint committee ...    0   \n",
       "\n",
       "level2taxon_code                                                                                                                                                                               205  \\\n",
       "content_id                           combined_text                                      title                                              description                                               \n",
       "714b7c4c-269a-40fd-b3d8-41eda3d5517a merger of local justice areas in greater manche... merger of local justice areas in greater manche... seeks views on merging 8 local justice areas (l...    0   \n",
       "5f617c08-7631-11e4-a3cb-005056011aef gwent magistrates' courts: proposals for the fu... gwent magistrates' courts: proposals for the fu... this is a consultation on a proposal to close a...    0   \n",
       "5f641586-7631-11e4-a3cb-005056011aef two appointments for the judicial appointments ... two appointments for the judicial appointments ... judge phillip sycamore and judge usha karu appo...    0   \n",
       "8ea3bdc9-05ff-4416-8874-248a13bc7610 merger of north sussex and west sussex local ju... merger of north sussex and west sussex local ju... seeks views on merger of 2 local justice areas ...    0   \n",
       "5fa8e157-7631-11e4-a3cb-005056011aef proposals to reform judicial review the governm... proposals to reform judicial review                the government response to the joint committee ...    0   \n",
       "\n",
       "level2taxon_code                                                                                                                                                                               206  \\\n",
       "content_id                           combined_text                                      title                                              description                                               \n",
       "714b7c4c-269a-40fd-b3d8-41eda3d5517a merger of local justice areas in greater manche... merger of local justice areas in greater manche... seeks views on merging 8 local justice areas (l...    0   \n",
       "5f617c08-7631-11e4-a3cb-005056011aef gwent magistrates' courts: proposals for the fu... gwent magistrates' courts: proposals for the fu... this is a consultation on a proposal to close a...    0   \n",
       "5f641586-7631-11e4-a3cb-005056011aef two appointments for the judicial appointments ... two appointments for the judicial appointments ... judge phillip sycamore and judge usha karu appo...    0   \n",
       "8ea3bdc9-05ff-4416-8874-248a13bc7610 merger of north sussex and west sussex local ju... merger of north sussex and west sussex local ju... seeks views on merger of 2 local justice areas ...    0   \n",
       "5fa8e157-7631-11e4-a3cb-005056011aef proposals to reform judicial review the governm... proposals to reform judicial review                the government response to the joint committee ...    0   \n",
       "\n",
       "level2taxon_code                                                                                                                                                                               207  \\\n",
       "content_id                           combined_text                                      title                                              description                                               \n",
       "714b7c4c-269a-40fd-b3d8-41eda3d5517a merger of local justice areas in greater manche... merger of local justice areas in greater manche... seeks views on merging 8 local justice areas (l...    0   \n",
       "5f617c08-7631-11e4-a3cb-005056011aef gwent magistrates' courts: proposals for the fu... gwent magistrates' courts: proposals for the fu... this is a consultation on a proposal to close a...    0   \n",
       "5f641586-7631-11e4-a3cb-005056011aef two appointments for the judicial appointments ... two appointments for the judicial appointments ... judge phillip sycamore and judge usha karu appo...    0   \n",
       "8ea3bdc9-05ff-4416-8874-248a13bc7610 merger of north sussex and west sussex local ju... merger of north sussex and west sussex local ju... seeks views on merger of 2 local justice areas ...    0   \n",
       "5fa8e157-7631-11e4-a3cb-005056011aef proposals to reform judicial review the governm... proposals to reform judicial review                the government response to the joint committee ...    0   \n",
       "\n",
       "level2taxon_code                                                                                                                                                                               208  \\\n",
       "content_id                           combined_text                                      title                                              description                                               \n",
       "714b7c4c-269a-40fd-b3d8-41eda3d5517a merger of local justice areas in greater manche... merger of local justice areas in greater manche... seeks views on merging 8 local justice areas (l...    0   \n",
       "5f617c08-7631-11e4-a3cb-005056011aef gwent magistrates' courts: proposals for the fu... gwent magistrates' courts: proposals for the fu... this is a consultation on a proposal to close a...    0   \n",
       "5f641586-7631-11e4-a3cb-005056011aef two appointments for the judicial appointments ... two appointments for the judicial appointments ... judge phillip sycamore and judge usha karu appo...    0   \n",
       "8ea3bdc9-05ff-4416-8874-248a13bc7610 merger of north sussex and west sussex local ju... merger of north sussex and west sussex local ju... seeks views on merger of 2 local justice areas ...    0   \n",
       "5fa8e157-7631-11e4-a3cb-005056011aef proposals to reform judicial review the governm... proposals to reform judicial review                the government response to the joint committee ...    0   \n",
       "\n",
       "level2taxon_code                                                                                                                                                                               209  \\\n",
       "content_id                           combined_text                                      title                                              description                                               \n",
       "714b7c4c-269a-40fd-b3d8-41eda3d5517a merger of local justice areas in greater manche... merger of local justice areas in greater manche... seeks views on merging 8 local justice areas (l...    0   \n",
       "5f617c08-7631-11e4-a3cb-005056011aef gwent magistrates' courts: proposals for the fu... gwent magistrates' courts: proposals for the fu... this is a consultation on a proposal to close a...    0   \n",
       "5f641586-7631-11e4-a3cb-005056011aef two appointments for the judicial appointments ... two appointments for the judicial appointments ... judge phillip sycamore and judge usha karu appo...    0   \n",
       "8ea3bdc9-05ff-4416-8874-248a13bc7610 merger of north sussex and west sussex local ju... merger of north sussex and west sussex local ju... seeks views on merger of 2 local justice areas ...    0   \n",
       "5fa8e157-7631-11e4-a3cb-005056011aef proposals to reform judicial review the governm... proposals to reform judicial review                the government response to the joint committee ...    0   \n",
       "\n",
       "level2taxon_code                                                                                                                                                                               210  \n",
       "content_id                           combined_text                                      title                                              description                                              \n",
       "714b7c4c-269a-40fd-b3d8-41eda3d5517a merger of local justice areas in greater manche... merger of local justice areas in greater manche... seeks views on merging 8 local justice areas (l...    0  \n",
       "5f617c08-7631-11e4-a3cb-005056011aef gwent magistrates' courts: proposals for the fu... gwent magistrates' courts: proposals for the fu... this is a consultation on a proposal to close a...    0  \n",
       "5f641586-7631-11e4-a3cb-005056011aef two appointments for the judicial appointments ... two appointments for the judicial appointments ... judge phillip sycamore and judge usha karu appo...    0  \n",
       "8ea3bdc9-05ff-4416-8874-248a13bc7610 merger of north sussex and west sussex local ju... merger of north sussex and west sussex local ju... seeks views on merger of 2 local justice areas ...    0  \n",
       "5fa8e157-7631-11e4-a3cb-005056011aef proposals to reform judicial review the governm... proposals to reform judicial review                the government response to the joint committee ...    0  \n",
       "\n",
       "[5 rows x 210 columns]"
      ]
     },
     "execution_count": 37,
     "metadata": {},
     "output_type": "execute_result"
    }
   ],
   "source": [
    "binary_multilabel[binary_multilabel[1]==1].loc[index].head()"
   ]
  },
  {
   "cell_type": "code",
   "execution_count": 38,
   "metadata": {},
   "outputs": [],
   "source": [
    "# Why are we deleting this?\n",
    "del binary_multilabel.columns.name"
   ]
  },
  {
   "cell_type": "code",
   "execution_count": 39,
   "metadata": {},
   "outputs": [],
   "source": [
    "#TAKES FOREVER TO RUN!\n",
    "from sklearn.utils import resample"
   ]
  },
  {
   "cell_type": "code",
   "execution_count": 40,
   "metadata": {
    "scrolled": false
   },
   "outputs": [
    {
     "name": "stdout",
     "output_type": "stream",
     "text": [
      "Taxon code: 1 Taxon name: Administrative justice reform\n",
      "SMALL SUPPORT: 11\n",
      "(10, 210)\n",
      "FIRST 5 IDs: ['5f641586-7631-11e4-a3cb-005056011aef', '5f641586-7631-11e4-a3cb-005056011aef', 'fd0b66df-bab6-4e8a-bd7b-bb12a8ca63ca', '5f617c08-7631-11e4-a3cb-005056011aef', '8ea3bdc9-05ff-4416-8874-248a13bc7610']\n",
      "UPSAMPLING: (500, 210)\n",
      "Taxon code: 2 Taxon name: Adoption, fostering and surrogacy\n",
      "SMALL SUPPORT: 69\n",
      "(63, 210)\n",
      "FIRST 5 IDs: ['0bf1fd2f-1798-421c-b9d3-36ced36d075b', '12eb9924-2e33-4222-b823-3e0e6ce2924d', '0bf1fd2f-1798-421c-b9d3-36ced36d075b', '5f4b08f5-7631-11e4-a3cb-005056011aef', '668f7b53-8546-49be-80de-7685c5350653']\n",
      "UPSAMPLING: (1000, 210)\n",
      "Taxon code: 3 Taxon name: Afghanistan\n",
      "SMALL SUPPORT: 81\n",
      "(64, 210)\n",
      "FIRST 5 IDs: ['5e9c7226-7631-11e4-a3cb-005056011aef', '5ebdf67c-7631-11e4-a3cb-005056011aef', '5e9c7226-7631-11e4-a3cb-005056011aef', '5e94adff-7631-11e4-a3cb-005056011aef', '5e29a0b2-7631-11e4-a3cb-005056011aef']\n",
      "UPSAMPLING: (1500, 210)\n",
      "Taxon code: 4 Taxon name: Armed Forces Covenant\n",
      "SMALL SUPPORT: 59\n",
      "(47, 210)\n",
      "FIRST 5 IDs: ['5c900ee0-7631-11e4-a3cb-005056011aef', '5fdda0dc-7631-11e4-a3cb-005056011aef', 'b3de7dcc-3a12-4dfd-895e-fa2b9182b491', '5faa2ccd-7631-11e4-a3cb-005056011aef', '5c901dd7-7631-11e4-a3cb-005056011aef']\n",
      "UPSAMPLING: (2000, 210)\n",
      "Taxon code: 5 Taxon name: Armed forces\n",
      "SMALL SUPPORT: 16\n",
      "(16, 210)\n",
      "FIRST 5 IDs: ['0e3dc7c1-6c90-4234-aeaa-258d57ba5576', 'c6dbb41c-265c-4486-b13e-f73b8981c8ad', '0e3dc7c1-6c90-4234-aeaa-258d57ba5576', '3c855e83-af2c-475d-b8db-af7e9859e892', '70b25509-1b79-4e4d-8ca8-66d266ce6a4e']\n",
      "UPSAMPLING: (2500, 210)\n",
      "Taxon code: 6 Taxon name: Armed forces and Ministry of Defence reform\n",
      "SMALL SUPPORT: 105\n",
      "(80, 210)\n",
      "FIRST 5 IDs: ['5efcae67-7631-11e4-a3cb-005056011aef', '7974c8d4-5d4f-451a-8041-31d522fdc1b9', '5c85d462-7631-11e4-a3cb-005056011aef', '5e00688d-7631-11e4-a3cb-005056011aef', '5c85d594-7631-11e4-a3cb-005056011aef']\n",
      "UPSAMPLING: (3000, 210)\n",
      "Taxon code: 7 Taxon name: Armed forces support for activities in the UK\n",
      "SMALL SUPPORT: 15\n",
      "(12, 210)\n",
      "FIRST 5 IDs: ['5f187178-7631-11e4-a3cb-005056011aef', '5f187178-7631-11e4-a3cb-005056011aef', '5f641fbd-7631-11e4-a3cb-005056011aef', 'af37bbfe-0738-44bb-bf9d-76b677865c7a', '5c97a3b7-7631-11e4-a3cb-005056011aef']\n",
      "UPSAMPLING: (3500, 210)\n",
      "Taxon code: 9 Taxon name: Assessing environmental impact\n",
      "SMALL SUPPORT: 6\n",
      "(2, 210)\n",
      "FIRST 5 IDs: ['5dc75284-7631-11e4-a3cb-005056011aef', '5dc75570-7631-11e4-a3cb-005056011aef', '5dc75284-7631-11e4-a3cb-005056011aef', '5dc75284-7631-11e4-a3cb-005056011aef', '5dc75284-7631-11e4-a3cb-005056011aef']\n",
      "UPSAMPLING: (4000, 210)\n",
      "Taxon code: 10 Taxon name: Asylum\n",
      "SMALL SUPPORT: 29\n",
      "(22, 210)\n",
      "FIRST 5 IDs: ['5ec22ce0-7631-11e4-a3cb-005056011aef', '7d5b4a84-71a6-4e3b-8f3d-d9f1821dc732', '7d5b4a84-71a6-4e3b-8f3d-d9f1821dc732', '5f625583-7631-11e4-a3cb-005056011aef', '5f163159-7631-11e4-a3cb-005056011aef']\n",
      "UPSAMPLING: (4500, 210)\n",
      "Taxon code: 11 Taxon name: Attorney General guidance to the legal profession\n",
      "SMALL SUPPORT: 15\n",
      "(9, 210)\n",
      "FIRST 5 IDs: ['5c83b47d-7631-11e4-a3cb-005056011aef', '5c83b47d-7631-11e4-a3cb-005056011aef', '5c84390a-7631-11e4-a3cb-005056011aef', '5c83b2ff-7631-11e4-a3cb-005056011aef', '5c83b1af-7631-11e4-a3cb-005056011aef']\n",
      "UPSAMPLING: (5000, 210)\n",
      "Taxon code: 12 Taxon name: Aviation\n",
      "SMALL SUPPORT: 244\n",
      "(200, 210)\n",
      "FIRST 5 IDs: ['88bdea1d-5704-4da0-963e-546d8ed23e81', '5c77fb17-7631-11e4-a3cb-005056011aef', '5d298ef0-7631-11e4-a3cb-005056011aef', '5d8f7dde-7631-11e4-a3cb-005056011aef', '5c783a41-7631-11e4-a3cb-005056011aef']\n",
      "UPSAMPLING: (5500, 210)\n",
      "Taxon code: 13 Taxon name: Benefits entitlement\n",
      "SMALL SUPPORT: 29\n",
      "(19, 210)\n",
      "FIRST 5 IDs: ['3489076b-8c47-42ac-850d-03181891ab61', 'd280de93-1312-4a8f-bcd9-5a33629c2490', 'd280de93-1312-4a8f-bcd9-5a33629c2490', 'f1560173-267e-4f3c-b957-2a688962cb24', '36110496-f717-4ac9-9698-60601ab77454']\n",
      "UPSAMPLING: (6000, 210)\n",
      "Taxon code: 14 Taxon name: Benefits for families\n",
      "SMALL SUPPORT: 15\n",
      "(12, 210)\n",
      "FIRST 5 IDs: ['24d6d3fc-ab41-456d-adc7-a265674b45cc', '24d6d3fc-ab41-456d-adc7-a265674b45cc', '1a1bc147-c02b-4cad-a415-ccbcecec8cbf', '95544523-5e1e-4754-9d87-d1c846f073c0', '1a3d4b71-78dc-41b3-97c9-965405892d2e']\n",
      "UPSAMPLING: (6500, 210)\n",
      "Taxon code: 15 Taxon name: Biodiversity and ecosystems\n",
      "SMALL SUPPORT: 448\n",
      "(354, 210)\n",
      "FIRST 5 IDs: ['5d605985-7631-11e4-a3cb-005056011aef', '5f1f4230-7631-11e4-a3cb-005056011aef', '5ebcfcd6-7631-11e4-a3cb-005056011aef', '5ebcfb50-7631-11e4-a3cb-005056011aef', '5d5830bc-7631-11e4-a3cb-005056011aef']\n",
      "UPSAMPLING: (7000, 210)\n",
      "Taxon code: 16 Taxon name: Boating and inland waterways\n",
      "SMALL SUPPORT: 5\n",
      "(4, 210)\n",
      "FIRST 5 IDs: ['8eeb6d9b-9e1b-4961-a937-17bac93e0d66', '5f1c2c7a-7631-11e4-a3cb-005056011aef', '8eeb6d9b-9e1b-4961-a937-17bac93e0d66', '8eeb6d9b-9e1b-4961-a937-17bac93e0d66', '5c760cab-7631-11e4-a3cb-005056011aef']\n",
      "UPSAMPLING: (7500, 210)\n",
      "Taxon code: 17 Taxon name: Brexit\n",
      "SMALL SUPPORT: 185\n",
      "(148, 210)\n",
      "FIRST 5 IDs: ['b8148820-89f8-4f04-9024-713e141fafa1', 'fa9be7d7-2f7a-4c3b-96a5-e5e3eebc1c31', '3348e7fa-2d0b-4cd5-b519-bd783666346e', '9f3d84a1-7243-46ae-8dcf-36abdf3bacb1', '77dbe9ec-a362-4f1d-93c9-b8ee3adc88a5']\n",
      "UPSAMPLING: (8000, 210)\n",
      "Taxon code: 18 Taxon name: Brexit and the EU\n",
      "SMALL SUPPORT: 13\n",
      "(12, 210)\n",
      "FIRST 5 IDs: ['5fa795c1-7631-11e4-a3cb-005056011aef', '5fa795c1-7631-11e4-a3cb-005056011aef', '58c43b97-852e-4a8f-b57c-894c90a51f23', 'f60aa606-1ecb-44d2-9367-6ae519916581', 'e675301d-b593-4736-b216-bb9369edf04d']\n",
      "UPSAMPLING: (8500, 210)\n",
      "Taxon code: 19 Taxon name: British citizenship \n",
      "SMALL SUPPORT: 11\n",
      "(9, 210)\n",
      "FIRST 5 IDs: ['95a6d0d7-dce5-430d-b021-b327928056b3', '95a6d0d7-dce5-430d-b021-b327928056b3', 'a7ef13c8-e445-428b-a1eb-1f38193c48de', '4816fa06-9e6c-4414-96b6-aa7ec7f24968', 'aea283d2-4f4f-43dd-b42d-f794ce4ffd65']\n",
      "UPSAMPLING: (9000, 210)\n",
      "Taxon code: 24 Taxon name: Byelaws\n",
      "SMALL SUPPORT: 2\n",
      "(1, 210)\n",
      "FIRST 5 IDs: ['5c71d694-7631-11e4-a3cb-005056011aef', '5c71d694-7631-11e4-a3cb-005056011aef', '5c71d694-7631-11e4-a3cb-005056011aef', '5c71d694-7631-11e4-a3cb-005056011aef', '5c71d694-7631-11e4-a3cb-005056011aef']\n",
      "UPSAMPLING: (9500, 210)\n",
      "Taxon code: 25 Taxon name: Carers and disability benefits\n",
      "SMALL SUPPORT: 35\n",
      "(30, 210)\n",
      "FIRST 5 IDs: ['36704e3e-d88c-48b3-b455-f53c1ce1056f', 'd1d66f56-3a29-449c-9639-787f02a576e1', '81be0f91-f645-4992-a0d7-b894aa33105e', 'd1d66f56-3a29-449c-9639-787f02a576e1', '5b569e68-266f-42cd-969e-1ca5e684614e']\n",
      "UPSAMPLING: (10000, 210)\n",
      "Taxon code: 26 Taxon name: Carers' health\n",
      "SMALL SUPPORT: 24\n",
      "(18, 210)\n",
      "FIRST 5 IDs: ['5d8c2f7d-7631-11e4-a3cb-005056011aef', '601b9889-7631-11e4-a3cb-005056011aef', '601b9889-7631-11e4-a3cb-005056011aef', '6028d699-7631-11e4-a3cb-005056011aef', '5eb5a63d-7631-11e4-a3cb-005056011aef']\n",
      "UPSAMPLING: (10500, 210)\n",
      "Taxon code: 27 Taxon name: Certificates, register offices, changes of name or gender\n",
      "SMALL SUPPORT: 24\n",
      "(20, 210)\n",
      "FIRST 5 IDs: ['d282d35a-2bd2-4e14-a7a6-a04e6b10520f', 'd302eb24-8200-4ae0-b113-418de98ca061', 'd302eb24-8200-4ae0-b113-418de98ca061', '19786269-f057-405b-bea4-941b3b194ca4', 'bb68ca88-b56b-4df2-a33d-3aaec66a5098']\n",
      "UPSAMPLING: (11000, 210)\n",
      "Taxon code: 28 Taxon name: Charities, volunteering and honours\n",
      "SMALL SUPPORT: 36\n",
      "(30, 210)\n",
      "FIRST 5 IDs: ['09e853b5-ef91-4e9e-94a7-ccc6e82f5a6c', '4688ad1e-6a55-4471-9c59-092c942b6349', '8e772a4e-5b25-495a-ac63-96fbd63537e8', '4688ad1e-6a55-4471-9c59-092c942b6349', '18a997f1-38b7-4861-971a-db010b3bd6e8']\n",
      "UPSAMPLING: (11500, 210)\n",
      "Taxon code: 29 Taxon name: Child Benefit\n",
      "SMALL SUPPORT: 134\n",
      "(110, 210)\n",
      "FIRST 5 IDs: ['5d8bf34c-7631-11e4-a3cb-005056011aef', '5fe8bf16-7631-11e4-a3cb-005056011aef', '10c44f61-2ac2-4690-bcd0-c8b12544ca10', '0e1de8f1-9909-4e45-a6a3-bffe95470275', '60267177-7631-11e4-a3cb-005056011aef']\n",
      "UPSAMPLING: (12000, 210)\n",
      "Taxon code: 30 Taxon name: Child maintenance reform\n",
      "SMALL SUPPORT: 99\n",
      "(74, 210)\n",
      "FIRST 5 IDs: ['5fdd6a59-7631-11e4-a3cb-005056011aef', '5df6748a-7631-11e4-a3cb-005056011aef', '6026f1f0-7631-11e4-a3cb-005056011aef', '7c22f274-7ff2-481e-ba5c-edc164f7fb6c', '5d8e4748-7631-11e4-a3cb-005056011aef']\n",
      "UPSAMPLING: (12500, 210)\n",
      "Taxon code: 31 Taxon name: Childcare and early years\n",
      "SMALL SUPPORT: 159\n",
      "(121, 210)\n",
      "FIRST 5 IDs: ['b6330fa1-eaba-4a57-b9a5-b2b93df71353', 'c9de05a3-93a6-4ada-a762-ae3f14ecfb80', 'f7f1831c-c3b2-4afe-91b8-cb9b9af80d20', '6056ccd3-7631-11e4-a3cb-005056011aef', '5f205660-7631-11e4-a3cb-005056011aef']\n",
      "UPSAMPLING: (13000, 210)\n",
      "Taxon code: 32 Taxon name: Children's health and welfare\n",
      "SMALL SUPPORT: 58\n"
     ]
    },
    {
     "name": "stdout",
     "output_type": "stream",
     "text": [
      "(41, 210)\n",
      "FIRST 5 IDs: ['77a514da-8fa5-405b-b0aa-cd16020d6edd', '5e966702-7631-11e4-a3cb-005056011aef', '5e5d6180-7631-11e4-a3cb-005056011aef', 'f917915c-c52a-484c-b343-726c49327e3f', '5e135611-7631-11e4-a3cb-005056011aef']\n",
      "UPSAMPLING: (13500, 210)\n",
      "Taxon code: 33 Taxon name: Civil justice reform\n",
      "SMALL SUPPORT: 3\n",
      "(3, 210)\n",
      "FIRST 5 IDs: ['c2734a07-31c8-4306-bb1c-d8038dba326e', 'ce9ceea5-e8b5-497d-ae73-e8290dcb5a5d', 'c2734a07-31c8-4306-bb1c-d8038dba326e', 'c2734a07-31c8-4306-bb1c-d8038dba326e', 'c4445136-1bae-46e6-b8a1-55640dc14f80']\n",
      "UPSAMPLING: (14000, 210)\n",
      "Taxon code: 34 Taxon name: Civil service reform\n",
      "SMALL SUPPORT: 358\n",
      "(277, 210)\n",
      "FIRST 5 IDs: ['ed6ef793-b9e8-47f6-b757-6714f9559f2f', 'ad5d0235-24e2-49c6-93ed-0952520f369d', 'b10785ef-5454-4648-9e5e-861fec0ccf52', '5fd93319-7631-11e4-a3cb-005056011aef', '74f36b27-bca1-45a6-a894-f602c1281de1']\n",
      "UPSAMPLING: (14500, 210)\n",
      "Taxon code: 36 Taxon name: Commercial fishing and fisheries\n",
      "SMALL SUPPORT: 263\n",
      "(215, 210)\n",
      "FIRST 5 IDs: ['5f1f85f6-7631-11e4-a3cb-005056011aef', '5f1eb125-7631-11e4-a3cb-005056011aef', '885457c8-4e93-4be9-b16b-da025951b907', '5f60f0d4-7631-11e4-a3cb-005056011aef', '5f1f3b3d-7631-11e4-a3cb-005056011aef']\n",
      "UPSAMPLING: (15000, 210)\n",
      "Taxon code: 38 Taxon name: Conflict in fragile states\n",
      "SMALL SUPPORT: 93\n",
      "(73, 210)\n",
      "FIRST 5 IDs: ['5fed9f7a-7631-11e4-a3cb-005056011aef', '5e384544-7631-11e4-a3cb-005056011aef', '5dbc2a79-7631-11e4-a3cb-005056011aef', '805102e1-584e-4513-93e2-4af92dfbbb9d', '5f12f464-7631-11e4-a3cb-005056011aef']\n",
      "UPSAMPLING: (15500, 210)\n",
      "Taxon code: 39 Taxon name: Constitutional affairs\n",
      "SMALL SUPPORT: 144\n",
      "(120, 210)\n",
      "FIRST 5 IDs: ['5d30d4d3-7631-11e4-a3cb-005056011aef', '5d31940e-7631-11e4-a3cb-005056011aef', 'a4652b31-bbe5-4112-87bd-be54a9d85268', '5d3191d4-7631-11e4-a3cb-005056011aef', '5e900e21-7631-11e4-a3cb-005056011aef']\n",
      "UPSAMPLING: (16000, 210)\n",
      "Taxon code: 41 Taxon name: Content and publishing\n",
      "SMALL SUPPORT: 5\n",
      "(3, 210)\n",
      "FIRST 5 IDs: ['5f5cc675-7631-11e4-a3cb-005056011aef', 'f6489e06-f349-4f31-b5b3-049ea66bfc60', '5f5cc675-7631-11e4-a3cb-005056011aef', '5f5cc675-7631-11e4-a3cb-005056011aef', '2606097c-e82a-4f5d-920a-5f360dcff626']\n",
      "UPSAMPLING: (16500, 210)\n",
      "Taxon code: 43 Taxon name: Court claims, debt and bankruptcy\n",
      "SMALL SUPPORT: 33\n",
      "(29, 210)\n",
      "FIRST 5 IDs: ['34b55473-162a-4f73-9122-512f47450f25', '64aadc14-9bca-40d9-abb6-4f21f9792a05', '86e9a768-4162-4d75-9744-f92f56f461ae', '64aadc14-9bca-40d9-abb6-4f21f9792a05', '64135ddf-7e6d-4d64-a917-77199bfeb34d']\n",
      "UPSAMPLING: (17000, 210)\n",
      "Taxon code: 44 Taxon name: Courts, sentencing and tribunals\n",
      "SMALL SUPPORT: 47\n",
      "(42, 210)\n",
      "FIRST 5 IDs: ['ac623433-5d02-4012-94dd-a8266456f2f4', '0d12a2da-7c52-4cd9-82ef-0cca0b51b880', '7e2cee32-6686-44d8-8646-827b53c98884', '00c99823-f7eb-4c82-8ee9-da83259aa9d8', '6ae16c12-a554-44e2-b3e3-596375aa1b9a']\n",
      "UPSAMPLING: (17500, 210)\n",
      "Taxon code: 45 Taxon name: Crime prevention\n",
      "SMALL SUPPORT: 256\n",
      "(209, 210)\n",
      "FIRST 5 IDs: ['5dc7317b-7631-11e4-a3cb-005056011aef', 'cdb6aa75-a04b-46a6-8a88-d52b134be9af', '5e39a5ad-7631-11e4-a3cb-005056011aef', '5d690d05-7631-11e4-a3cb-005056011aef', '684e914e-b4af-4586-8457-3cc03aaba2bb']\n",
      "UPSAMPLING: (18000, 210)\n",
      "Taxon code: 46 Taxon name: Criminal justice reform\n",
      "SMALL SUPPORT: 65\n",
      "(47, 210)\n",
      "FIRST 5 IDs: ['5f9d7823-7631-11e4-a3cb-005056011aef', '5f66f9e6-7631-11e4-a3cb-005056011aef', '5f1613c9-7631-11e4-a3cb-005056011aef', '5e9cd5c1-7631-11e4-a3cb-005056011aef', '02d389c7-1f04-4d5d-b9dc-5012f2972508']\n",
      "UPSAMPLING: (18500, 210)\n",
      "Taxon code: 47 Taxon name: Criminal record disclosure\n",
      "SMALL SUPPORT: 4\n",
      "(3, 210)\n",
      "FIRST 5 IDs: ['5df645e9-7631-11e4-a3cb-005056011aef', '5dc3ce62-7631-11e4-a3cb-005056011aef', '5df645e9-7631-11e4-a3cb-005056011aef', '5df645e9-7631-11e4-a3cb-005056011aef', '5dbcc4ad-7631-11e4-a3cb-005056011aef']\n",
      "UPSAMPLING: (19000, 210)\n",
      "Taxon code: 48 Taxon name: Cyber security\n",
      "SMALL SUPPORT: 203\n",
      "(161, 210)\n",
      "FIRST 5 IDs: ['5ef15a24-7631-11e4-a3cb-005056011aef', 'e57ded96-c32a-4223-b29b-de003215405c', '303e592f-9380-4b47-9db6-4777c8e2d017', '5e96aa46-7631-11e4-a3cb-005056011aef', '5ef99450-7631-11e4-a3cb-005056011aef']\n",
      "UPSAMPLING: (19500, 210)\n",
      "Taxon code: 50 Taxon name: Death and benefits\n",
      "SMALL SUPPORT: 10\n",
      "(8, 210)\n",
      "FIRST 5 IDs: ['0e3dc7c1-6c90-4234-aeaa-258d57ba5576', '2a647198-680e-481a-815e-04d524210b8a', '0e3dc7c1-6c90-4234-aeaa-258d57ba5576', '1a1bc147-c02b-4cad-a415-ccbcecec8cbf', '1e9de9b2-76d1-403c-ba80-81f115e158f0']\n",
      "UPSAMPLING: (20000, 210)\n",
      "Taxon code: 51 Taxon name: Death and bereavement\n",
      "SMALL SUPPORT: 36\n",
      "(31, 210)\n",
      "FIRST 5 IDs: ['ff7f1aaf-3c7d-489d-a2bd-7a97960b6305', '077050ac-d588-482d-b6ea-41750a8f6607', 'ff7f1aaf-3c7d-489d-a2bd-7a97960b6305', '1f75de31-1f07-4c68-b1ab-8330b1ee8670', 'c25b48e9-bdae-4870-845d-5a67c1189fe1']\n",
      "UPSAMPLING: (20500, 210)\n",
      "Taxon code: 52 Taxon name: Deficit reduction\n",
      "SMALL SUPPORT: 70\n",
      "(50, 210)\n",
      "FIRST 5 IDs: ['5e1443fd-7631-11e4-a3cb-005056011aef', '5fe2a2e6-7631-11e4-a3cb-005056011aef', '5e3891d4-7631-11e4-a3cb-005056011aef', '5e8e0c58-7631-11e4-a3cb-005056011aef', '5e37113e-7631-11e4-a3cb-005056011aef']\n",
      "UPSAMPLING: (21000, 210)\n",
      "Taxon code: 53 Taxon name: Devolution\n",
      "SMALL SUPPORT: 5\n",
      "(3, 210)\n",
      "FIRST 5 IDs: ['5d5f7b5b-7631-11e4-a3cb-005056011aef', '5d5f7445-7631-11e4-a3cb-005056011aef', '5d5f7b5b-7631-11e4-a3cb-005056011aef', '5d5f7b5b-7631-11e4-a3cb-005056011aef', '5d5f8848-7631-11e4-a3cb-005056011aef']\n",
      "UPSAMPLING: (21500, 210)\n",
      "Taxon code: 54 Taxon name: Diplomats\n",
      "SMALL SUPPORT: 4\n",
      "(1, 210)\n",
      "FIRST 5 IDs: ['dcb52558-ce20-45ff-82f3-5daf37c40cc4', 'dcb52558-ce20-45ff-82f3-5daf37c40cc4', 'dcb52558-ce20-45ff-82f3-5daf37c40cc4', 'dcb52558-ce20-45ff-82f3-5daf37c40cc4', 'dcb52558-ce20-45ff-82f3-5daf37c40cc4']\n",
      "UPSAMPLING: (22000, 210)\n",
      "Taxon code: 55 Taxon name: Disabled people\n",
      "SMALL SUPPORT: 47\n",
      "(42, 210)\n",
      "FIRST 5 IDs: ['b3202d1a-f26d-49a2-8f2b-0c7923ba410d', 'cbe3ad58-7b0e-4e9c-b419-9a6cd2d3f11f', '5d1d5343-6f23-4f7a-9a42-b4128be70d48', 'f7bce295-c74c-4db2-b524-4793e8cc4c3e', '92cc0b66-233f-426d-a825-ca1e6bcfdd84']\n",
      "UPSAMPLING: (22500, 210)\n",
      "Taxon code: 56 Taxon name: Divorce, separation and legal issues\n",
      "SMALL SUPPORT: 20\n",
      "(18, 210)\n",
      "FIRST 5 IDs: ['b555a47a-d180-4bc7-979a-e687cf6a16bf', 'fcc24c49-45e5-4e17-bb2a-efc9a0fbc34f', 'fcc24c49-45e5-4e17-bb2a-efc9a0fbc34f', '5d8c2daa-7631-11e4-a3cb-005056011aef', '4c88e57c-f461-4b9e-9422-b5df6ee1a92b']\n",
      "UPSAMPLING: (23000, 210)\n",
      "Taxon code: 57 Taxon name: Domestic violence\n",
      "SMALL SUPPORT: 1\n",
      "Taxon code: 59 Taxon name: Education of disadvantaged children\n",
      "SMALL SUPPORT: 97\n",
      "(82, 210)\n",
      "FIRST 5 IDs: ['602e6aad-7631-11e4-a3cb-005056011aef', '8c334220-53fc-4bde-bcb5-b65670b62a40', '5fdd5394-7631-11e4-a3cb-005056011aef', '58b3cb69-a475-4b46-a7d1-42e3ccd9053e', '5dcac576-7631-11e4-a3cb-005056011aef']\n",
      "UPSAMPLING: (23500, 210)\n",
      "Taxon code: 61 Taxon name: Employing people\n",
      "SMALL SUPPORT: 139\n",
      "(114, 210)\n",
      "FIRST 5 IDs: ['88309f75-af24-42e9-b30d-e36157cf918b', 'bff8323b-7c15-48a1-b465-4a02d259f5c7', '2a47a622-f4f4-46ef-8818-3ae6b3edc2d8', 'fb6e034e-8942-4518-981a-8a6eaa681e28', 'd1c317c1-2f5a-46c4-9635-ecdde2603ca2']\n",
      "UPSAMPLING: (24000, 210)\n",
      "Taxon code: 62 Taxon name: End of life care\n",
      "SMALL SUPPORT: 34\n",
      "(29, 210)\n",
      "FIRST 5 IDs: ['5e380107-7631-11e4-a3cb-005056011aef', '5e127681-7631-11e4-a3cb-005056011aef', '5d8c2b9b-7631-11e4-a3cb-005056011aef', '5e127681-7631-11e4-a3cb-005056011aef', 'e0a009c2-1269-41cc-8e75-d40b64902ad2']\n",
      "UPSAMPLING: (24500, 210)\n",
      "Taxon code: 63 Taxon name: Environmental permits\n",
      "SMALL SUPPORT: 85\n",
      "(67, 210)\n",
      "FIRST 5 IDs: ['ee70352f-6467-4659-adc2-14811377f7fd', '5f4f1e91-7631-11e4-a3cb-005056011aef', 'd9e32bd5-a92a-4870-acae-4d6aa8ca5034', '98fadb37-5076-4fa1-8809-1827831810e5', 'e17920ba-a536-4869-93a1-cb17b7b3dfbd']\n",
      "UPSAMPLING: (25000, 210)\n",
      "Taxon code: 64 Taxon name: Environmental quality\n",
      "SMALL SUPPORT: 438\n",
      "(357, 210)\n",
      "FIRST 5 IDs: ['5f46c48f-7631-11e4-a3cb-005056011aef', '5e17c34f-7631-11e4-a3cb-005056011aef', 'dccca28d-8a1a-411c-bcba-0e13f128329b', '5d58ebe8-7631-11e4-a3cb-005056011aef', '5e8cd6aa-7631-11e4-a3cb-005056011aef']\n",
      "UPSAMPLING: (25500, 210)\n",
      "Taxon code: 65 Taxon name: Environmental risk management\n",
      "SMALL SUPPORT: 14\n",
      "(14, 210)\n",
      "FIRST 5 IDs: ['ca27a3fc-f87f-4211-b131-e186bc48c8cc', '5f4461f0-7631-11e4-a3cb-005056011aef', '5f454540-7631-11e4-a3cb-005056011aef', '5f4461f0-7631-11e4-a3cb-005056011aef', '578df83d-ea40-49df-a035-b923f03c092f']\n",
      "UPSAMPLING: (26000, 210)\n",
      "Taxon code: 67 Taxon name: European Union laws and regulation\n",
      "SMALL SUPPORT: 11\n"
     ]
    },
    {
     "name": "stdout",
     "output_type": "stream",
     "text": [
      "(8, 210)\n",
      "FIRST 5 IDs: ['5c7166fe-7631-11e4-a3cb-005056011aef', '5c838a0c-7631-11e4-a3cb-005056011aef', '5c7166fe-7631-11e4-a3cb-005056011aef', '5c838905-7631-11e4-a3cb-005056011aef', '5f1ad877-7631-11e4-a3cb-005056011aef']\n",
      "UPSAMPLING: (26500, 210)\n",
      "Taxon code: 68 Taxon name: European funds\n",
      "SMALL SUPPORT: 82\n",
      "(61, 210)\n",
      "FIRST 5 IDs: ['ed031242-6195-4d23-9588-9fb1d341db48', 'b99b2e66-9f5b-4325-b1ac-e46b13e8cdac', '5c98c569-7631-11e4-a3cb-005056011aef', 'fb09c7a2-9e74-4ff8-94f9-79ce8598170a', '6028fa6a-7631-11e4-a3cb-005056011aef']\n",
      "UPSAMPLING: (27000, 210)\n",
      "Taxon code: 69 Taxon name: European single market\n",
      "SMALL SUPPORT: 142\n",
      "(105, 210)\n",
      "FIRST 5 IDs: ['9f3d84a1-7243-46ae-8dcf-36abdf3bacb1', '5d60dfcf-7631-11e4-a3cb-005056011aef', 'ec8125be-2409-46a3-98cc-2664a81131e5', '9fea336a-e759-4301-8fa1-fa2e4ab499c6', '5c993e48-7631-11e4-a3cb-005056011aef']\n",
      "UPSAMPLING: (27500, 210)\n",
      "Taxon code: 70 Taxon name: Expenses and employee benefits\n",
      "SMALL SUPPORT: 8\n",
      "(6, 210)\n",
      "FIRST 5 IDs: ['f6046a19-8312-412c-aeaa-954adebcde8e', '6d40aebf-c225-4d3c-a751-fa8f543e27b8', 'ccecc610-e364-4393-848e-5a3b8d412a80', '6d40aebf-c225-4d3c-a751-fa8f543e27b8', '5c6b52a8-9ac3-4964-9dd1-5b3d2498f100']\n",
      "UPSAMPLING: (28000, 210)\n",
      "Taxon code: 71 Taxon name: Family justice system\n",
      "SMALL SUPPORT: 48\n",
      "(33, 210)\n",
      "FIRST 5 IDs: ['5dbdc232-7631-11e4-a3cb-005056011aef', '5e33051e-7631-11e4-a3cb-005056011aef', '5f616857-7631-11e4-a3cb-005056011aef', '5dca1252-7631-11e4-a3cb-005056011aef', '5e15e423-7631-11e4-a3cb-005056011aef']\n",
      "UPSAMPLING: (28500, 210)\n",
      "Taxon code: 72 Taxon name: Financial help if you have children\n",
      "SMALL SUPPORT: 56\n",
      "(48, 210)\n",
      "FIRST 5 IDs: ['c9259172-5432-43a6-b710-409d463c7627', '9789eb56-e45a-4a4f-a0b8-008105551d23', '3b73d6f9-da30-4166-a3ba-ef5316b00803', 'db4795d9-0f5b-49b7-8a7b-64e626d1caf1', '824913d8-94b1-497a-8ee4-fa4c3599b19c']\n",
      "UPSAMPLING: (29000, 210)\n",
      "Taxon code: 73 Taxon name: Financial services\n",
      "SMALL SUPPORT: 468\n",
      "(374, 210)\n",
      "FIRST 5 IDs: ['5e5bbd6a-7631-11e4-a3cb-005056011aef', 'c38387ef-6ee7-47d7-b446-c30ff8d307bb', '80d63fb3-f692-4012-9f52-64ee07b0b540', '55c2b49e-8179-4927-a7f3-9ecda7b10a10', '5d5954f1-7631-11e4-a3cb-005056011aef']\n",
      "UPSAMPLING: (29500, 210)\n",
      "Taxon code: 74 Taxon name: Fire prevention and rescue\n",
      "SMALL SUPPORT: 294\n",
      "(225, 210)\n",
      "FIRST 5 IDs: ['5c9d54ea-7631-11e4-a3cb-005056011aef', '5e39fa2e-7631-11e4-a3cb-005056011aef', '60229e00-7631-11e4-a3cb-005056011aef', '5c7e4505-7631-11e4-a3cb-005056011aef', '5c8428b2-7631-11e4-a3cb-005056011aef']\n",
      "UPSAMPLING: (30000, 210)\n",
      "Taxon code: 77 Taxon name: Forced marriage\n",
      "SMALL SUPPORT: 2\n",
      "(1, 210)\n",
      "FIRST 5 IDs: ['39353e65-7025-4b66-b452-952ad76105b5', '39353e65-7025-4b66-b452-952ad76105b5', '39353e65-7025-4b66-b452-952ad76105b5', '39353e65-7025-4b66-b452-952ad76105b5', '39353e65-7025-4b66-b452-952ad76105b5']\n",
      "UPSAMPLING: (30500, 210)\n",
      "Taxon code: 79 Taxon name: Freight and cargo\n",
      "SMALL SUPPORT: 187\n",
      "(146, 210)\n",
      "FIRST 5 IDs: ['5c7a73b1-7631-11e4-a3cb-005056011aef', '5d077b73-c816-438b-bc51-b6fc0b7c5992', '5e2a799a-7631-11e4-a3cb-005056011aef', 'adad36d1-32f5-4cff-95e1-03b1158d0bd7', '5f14f6da-7631-11e4-a3cb-005056011aef']\n",
      "UPSAMPLING: (31000, 210)\n",
      "Taxon code: 80 Taxon name: Funding and finance for students\n",
      "SMALL SUPPORT: 92\n",
      "(75, 210)\n",
      "FIRST 5 IDs: ['a383eac4-9c77-4434-ae97-f93ea6853bb3', '3e889118-bfdd-49e8-9f64-b30c08951fec', '5e7ae0fa-ef8a-4953-86df-eee114e1c6f3', '9f520576-a41e-4eee-8fda-afbb2ca0ac41', '83155b50-418e-437c-9389-cf0e1302900f']\n",
      "UPSAMPLING: (31500, 210)\n",
      "Taxon code: 83 Taxon name: Government graduate schemes\n",
      "SMALL SUPPORT: 3\n",
      "(2, 210)\n",
      "FIRST 5 IDs: ['5fa789b3-7631-11e4-a3cb-005056011aef', '5fec97ae-7631-11e4-a3cb-005056011aef', '5fa789b3-7631-11e4-a3cb-005056011aef', '5fa789b3-7631-11e4-a3cb-005056011aef', '5fa789b3-7631-11e4-a3cb-005056011aef']\n",
      "UPSAMPLING: (32000, 210)\n",
      "Taxon code: 85 Taxon name: HS2 and the environment\n",
      "SMALL SUPPORT: 8\n",
      "(5, 210)\n",
      "FIRST 5 IDs: ['6056039a-7631-11e4-a3cb-005056011aef', '234361fe-54d7-4649-b774-aae88490301d', '6056039a-7631-11e4-a3cb-005056011aef', '34905eff-906f-4195-bfd8-7e020cfb33ec', '492ab85e-e902-4f70-9185-adfabc4d8574']\n",
      "UPSAMPLING: (32500, 210)\n",
      "Taxon code: 86 Taxon name: Having a child, parenting and adoption\n",
      "SMALL SUPPORT: 47\n",
      "(38, 210)\n",
      "FIRST 5 IDs: ['bb3155b9-f466-4b96-88cf-b5b8ba5d774b', 'c0f2b667-1b8e-4a5d-bf94-28fc22e78a08', '358cfeda-18ac-4b8b-ae7a-7e6260c83d15', 'e8c48e4e-24f0-4d87-bf75-587e986361ac', 'c9de05a3-93a6-4ada-a762-ae3f14ecfb80']\n",
      "UPSAMPLING: (33000, 210)\n",
      "Taxon code: 87 Taxon name: Health and safety reform\n",
      "SMALL SUPPORT: 54\n",
      "(44, 210)\n",
      "FIRST 5 IDs: ['5d8eceb7-7631-11e4-a3cb-005056011aef', '5e361cd1-7631-11e4-a3cb-005056011aef', '5e2c9a64-7631-11e4-a3cb-005056011aef', '5ebaf1c7-7631-11e4-a3cb-005056011aef', '5eb71002-7631-11e4-a3cb-005056011aef']\n",
      "UPSAMPLING: (33500, 210)\n",
      "Taxon code: 88 Taxon name: Health protection\n",
      "SMALL SUPPORT: 186\n",
      "(149, 210)\n",
      "FIRST 5 IDs: ['5fec380d-7631-11e4-a3cb-005056011aef', '5fed81e8-7631-11e4-a3cb-005056011aef', '60205ca0-7631-11e4-a3cb-005056011aef', '602176a4-7631-11e4-a3cb-005056011aef', '6020ed48-7631-11e4-a3cb-005056011aef']\n",
      "UPSAMPLING: (34000, 210)\n",
      "Taxon code: 89 Taxon name: Heating and housing benefits\n",
      "SMALL SUPPORT: 11\n",
      "(7, 210)\n",
      "FIRST 5 IDs: ['d9b95f99-f3ce-4b88-900e-1cc58089c952', 'bc6d2c61-3cc8-4a02-af7f-3ed1534eda64', 'd9b95f99-f3ce-4b88-900e-1cc58089c952', '10d8e363-14c5-4d5c-b8fb-6eab2d567948', '403018fa-663a-4b5a-bf4c-38dcde904082']\n",
      "UPSAMPLING: (34500, 210)\n",
      "Taxon code: 93 Taxon name: Immigration rules and enforcement\n",
      "SMALL SUPPORT: 65\n",
      "(52, 210)\n",
      "FIRST 5 IDs: ['94528a16-a2b7-49f1-a96c-f70bfa21efa3', 'fa33da38-5833-4894-84c8-327fd406d241', '5ee50c4e-7631-11e4-a3cb-005056011aef', '5ef15ac6-7631-11e4-a3cb-005056011aef', '5f1a1e28-7631-11e4-a3cb-005056011aef']\n",
      "UPSAMPLING: (35000, 210)\n",
      "Taxon code: 94 Taxon name: Industrial strategy\n",
      "SMALL SUPPORT: 285\n",
      "(229, 210)\n",
      "FIRST 5 IDs: ['6027ff39-7631-11e4-a3cb-005056011aef', '5c993ae7-7631-11e4-a3cb-005056011aef', '5ebeccd9-7631-11e4-a3cb-005056011aef', '5f194a3c-7631-11e4-a3cb-005056011aef', '5f119704-7631-11e4-a3cb-005056011aef']\n",
      "UPSAMPLING: (35500, 210)\n",
      "Taxon code: 97 Taxon name: International defence commitments\n",
      "SMALL SUPPORT: 105\n",
      "(88, 210)\n",
      "FIRST 5 IDs: ['522b4771-289a-4af9-8699-c99f998d348f', '5fdbd52c-7631-11e4-a3cb-005056011aef', '3cd8b26d-1740-4aa4-84ef-a3adf600eacb', '349775d7-80bb-42c3-afa2-38ed432ec2ed', '5fef5ba3-7631-11e4-a3cb-005056011aef']\n",
      "UPSAMPLING: (36000, 210)\n",
      "Taxon code: 98 Taxon name: Jobseeker's Allowance and low income benefits\n",
      "SMALL SUPPORT: 22\n",
      "(14, 210)\n",
      "FIRST 5 IDs: ['36110496-f717-4ac9-9698-60601ab77454', '5d8de5fd-c085-40bd-9a37-d1e73e954599', '3009e5fc-d5d8-4c12-9b74-49fe79639226', '5d8de5fd-c085-40bd-9a37-d1e73e954599', '0160d483-38bf-42ea-a00d-e24aeb8bea0f']\n",
      "UPSAMPLING: (36500, 210)\n",
      "Taxon code: 99 Taxon name: Justice system transparency\n",
      "SMALL SUPPORT: 154\n",
      "(114, 210)\n",
      "FIRST 5 IDs: ['f43c5073-632b-4031-a4c4-bb48991f5a91', '5e89c89c-7631-11e4-a3cb-005056011aef', '5f655eab-7631-11e4-a3cb-005056011aef', '5dbdd128-7631-11e4-a3cb-005056011aef', 'a9504889-f408-46d6-8bf0-5f2c8876970e']\n",
      "UPSAMPLING: (37000, 210)\n",
      "Taxon code: 100 Taxon name: Knife, gun and gang crime\n",
      "SMALL SUPPORT: 46\n",
      "(34, 210)\n",
      "FIRST 5 IDs: ['f4484bdc-cde9-49bc-aa71-fe98b386cc4a', '5e00fbb4-7631-11e4-a3cb-005056011aef', '5d65fb6f-7631-11e4-a3cb-005056011aef', '5ef17d5c-7631-11e4-a3cb-005056011aef', '5f537c6e-7631-11e4-a3cb-005056011aef']\n",
      "UPSAMPLING: (37500, 210)\n",
      "Taxon code: 101 Taxon name: Labour market reform\n",
      "SMALL SUPPORT: 423\n",
      "(329, 210)\n",
      "FIRST 5 IDs: ['d1248e66-d7d3-4e2f-9eff-743993d4b82a', '5c990ef2-7631-11e4-a3cb-005056011aef', '5c853ad6-7631-11e4-a3cb-005056011aef', '5f522439-7631-11e4-a3cb-005056011aef', '5c98cab0-7631-11e4-a3cb-005056011aef']\n",
      "UPSAMPLING: (38000, 210)\n",
      "Taxon code: 102 Taxon name: Land Registration Data \n",
      "SMALL SUPPORT: 11\n",
      "(9, 210)\n",
      "FIRST 5 IDs: ['602cf4e3-7631-11e4-a3cb-005056011aef', '602cf4e3-7631-11e4-a3cb-005056011aef', '5f5dc2c1-7631-11e4-a3cb-005056011aef', '89357f1a-957a-4e14-b52f-c4d3b164be7f', 'e8e20906-4d8d-4a75-b15b-686facce8235']\n",
      "UPSAMPLING: (38500, 210)\n",
      "Taxon code: 103 Taxon name: Land management\n",
      "SMALL SUPPORT: 57\n",
      "(48, 210)\n",
      "FIRST 5 IDs: ['5fdd6ed8-7631-11e4-a3cb-005056011aef', '8b5d3305-44cb-422f-ad18-4e1bd21d098c', '4c025816-78a6-4a63-a6e1-e12262d31e71', 'b607d630-9649-418b-aebe-4c40877559d9', '5f458df1-7631-11e4-a3cb-005056011aef']\n"
     ]
    },
    {
     "name": "stdout",
     "output_type": "stream",
     "text": [
      "UPSAMPLING: (39000, 210)\n",
      "Taxon code: 104 Taxon name: Land registration\n",
      "SMALL SUPPORT: 140\n",
      "(112, 210)\n",
      "FIRST 5 IDs: ['5f6499f6-7631-11e4-a3cb-005056011aef', '5f50d72a-7631-11e4-a3cb-005056011aef', '305e0f09-a541-41b0-b317-5f8ba7148647', '5f66e6be-7631-11e4-a3cb-005056011aef', '5f4fe1c5-7631-11e4-a3cb-005056011aef']\n",
      "UPSAMPLING: (39500, 210)\n",
      "Taxon code: 105 Taxon name: Lasting power of attorney, being in care and your financial affairs\n",
      "SMALL SUPPORT: 21\n",
      "(15, 210)\n",
      "FIRST 5 IDs: ['ef1207f4-4cec-4448-988d-997d795793af', 'faa1492b-e7ad-42de-80e3-c5a2c9043972', 'ef1207f4-4cec-4448-988d-997d795793af', '136bfef2-354c-474b-bf97-a6d39ec4248b', 'f508898d-1ba0-46f7-b150-828166886d97']\n",
      "UPSAMPLING: (40000, 210)\n",
      "Taxon code: 106 Taxon name: Law and practice\n",
      "SMALL SUPPORT: 55\n",
      "(48, 210)\n",
      "FIRST 5 IDs: ['875fbcdb-5d8e-4310-a281-2597ec8b9c40', 'd6ef1190-e58c-42b1-98f6-6629b16d25d6', '5fee6f5a-7631-11e4-a3cb-005056011aef', '5f65f4e4-7631-11e4-a3cb-005056011aef', '0b1014ce-b0ad-46c1-9753-ec9a8f21cb87']\n",
      "UPSAMPLING: (40500, 210)\n",
      "Taxon code: 107 Taxon name: Legal aid\n",
      "SMALL SUPPORT: 134\n",
      "(109, 210)\n",
      "FIRST 5 IDs: ['5f59c121-7631-11e4-a3cb-005056011aef', '5fe92e01-7631-11e4-a3cb-005056011aef', '5f511d28-7631-11e4-a3cb-005056011aef', '5f547a59-7631-11e4-a3cb-005056011aef', '7c39f373-58a8-481c-8e56-6e0cca11b065']\n",
      "UPSAMPLING: (41000, 210)\n",
      "Taxon code: 108 Taxon name: Legal aid reform\n",
      "SMALL SUPPORT: 37\n",
      "(30, 210)\n",
      "FIRST 5 IDs: ['5dbdce14-7631-11e4-a3cb-005056011aef', '5f5470c1-7631-11e4-a3cb-005056011aef', 'b4f7c6de-30f6-40c8-a266-0352c4311355', '5f5470c1-7631-11e4-a3cb-005056011aef', '037d48f6-39c3-499e-8a5b-3fa2b67d7875']\n",
      "UPSAMPLING: (41500, 210)\n",
      "Taxon code: 109 Taxon name: Legislative process\n",
      "SMALL SUPPORT: 4\n",
      "(2, 210)\n",
      "FIRST 5 IDs: ['5dbc0310-7631-11e4-a3cb-005056011aef', '5d60bc02-7631-11e4-a3cb-005056011aef', '5dbc0310-7631-11e4-a3cb-005056011aef', '5dbc0310-7631-11e4-a3cb-005056011aef', '5dbc0310-7631-11e4-a3cb-005056011aef']\n",
      "UPSAMPLING: (42000, 210)\n",
      "Taxon code: 110 Taxon name: Living abroad\n",
      "SMALL SUPPORT: 22\n",
      "(17, 210)\n",
      "FIRST 5 IDs: ['22f341ca-82c8-4637-9dc9-e83619a5255a', '12806ea7-f02c-4a2f-acd4-98df5e38ed64', '12806ea7-f02c-4a2f-acd4-98df5e38ed64', '56fa5c5b-593b-42ec-8daf-4156dc1f8ca9', '1e165fdc-0139-434a-ab47-7a6c13a38036']\n",
      "UPSAMPLING: (42500, 210)\n",
      "Taxon code: 111 Taxon name: Living in the UK, government and democracy\n",
      "SMALL SUPPORT: 13\n",
      "(11, 210)\n",
      "FIRST 5 IDs: ['feb1f8a6-1e81-4cf5-9d30-2fe329372e61', 'feb1f8a6-1e81-4cf5-9d30-2fe329372e61', '686f6eea-2879-4512-bbca-868314996251', '18d3871f-a0a3-462c-bc15-b9c8cebbdf52', '476a481d-0c15-4122-b444-d970a136cedc']\n",
      "UPSAMPLING: (43000, 210)\n",
      "Taxon code: 112 Taxon name: Local councils and services\n",
      "SMALL SUPPORT: 55\n",
      "(46, 210)\n",
      "FIRST 5 IDs: ['180cd3de-7cae-4c6f-ad44-8a5815ce2659', 'e6c46eba-881c-4f3f-ac7f-38767c1f6798', '55f28ded-c26c-48d8-8146-1b9c5eaaeabb', '12eb9924-2e33-4222-b823-3e0e6ce2924d', 'd8273fe9-4b44-4fe1-825b-38e78539ece5']\n",
      "UPSAMPLING: (43500, 210)\n",
      "Taxon code: 114 Taxon name: Local government spending\n",
      "SMALL SUPPORT: 425\n",
      "(339, 210)\n",
      "FIRST 5 IDs: ['5ef23c8d-7631-11e4-a3cb-005056011aef', '6750115d-f6cf-45d8-b6e7-a080a9ae2aa2', '5c7fcdfa-7631-11e4-a3cb-005056011aef', '5efaccf6-7631-11e4-a3cb-005056011aef', '5f4969e0-7631-11e4-a3cb-005056011aef']\n",
      "UPSAMPLING: (44000, 210)\n",
      "Taxon code: 115 Taxon name: Local transport\n",
      "SMALL SUPPORT: 243\n",
      "(195, 210)\n",
      "FIRST 5 IDs: ['5d3761cd-7631-11e4-a3cb-005056011aef', '5ef78888-7631-11e4-a3cb-005056011aef', '5ef55dff-7631-11e4-a3cb-005056011aef', '5c7b59ce-7631-11e4-a3cb-005056011aef', '5c7a86aa-7631-11e4-a3cb-005056011aef']\n",
      "UPSAMPLING: (44500, 210)\n",
      "Taxon code: 116 Taxon name: Localism\n",
      "SMALL SUPPORT: 155\n",
      "(116, 210)\n",
      "FIRST 5 IDs: ['6026fe92-7631-11e4-a3cb-005056011aef', '5e95394b-7631-11e4-a3cb-005056011aef', '5fe61377-7631-11e4-a3cb-005056011aef', '5c7fb3b4-7631-11e4-a3cb-005056011aef', '5c7d20c0-7631-11e4-a3cb-005056011aef']\n",
      "UPSAMPLING: (45000, 210)\n",
      "Taxon code: 117 Taxon name: Major project management\n",
      "SMALL SUPPORT: 142\n",
      "(118, 210)\n",
      "FIRST 5 IDs: ['5e300767-7631-11e4-a3cb-005056011aef', '5e3a36ee-7631-11e4-a3cb-005056011aef', '5b1e1eb9-01c2-4dec-9029-fc263ab9b11e', '5e3325e5-7631-11e4-a3cb-005056011aef', '5d314942-7631-11e4-a3cb-005056011aef']\n",
      "UPSAMPLING: (45500, 210)\n",
      "Taxon code: 120 Taxon name: Marriage, civil partnership and divorce\n",
      "SMALL SUPPORT: 33\n",
      "(25, 210)\n",
      "FIRST 5 IDs: ['1541ca2f-00a6-430c-8517-db8a2a86a989', '4aa66974-9882-41b5-8519-7c63bc4dcf53', '4aa66974-9882-41b5-8519-7c63bc4dcf53', '8f5ecf79-6a69-4c9e-b894-79eb281b41c0', 'f3bbd17c-48e2-403b-96ae-c09cb5d4dc35']\n",
      "UPSAMPLING: (46000, 210)\n",
      "Taxon code: 122 Taxon name: Medical certification and advice\n",
      "SMALL SUPPORT: 7\n",
      "(4, 210)\n",
      "FIRST 5 IDs: ['5f18c4a0-7631-11e4-a3cb-005056011aef', '733f8690-466e-4086-bcb5-be25f0f0c6ed', '5f18c4a0-7631-11e4-a3cb-005056011aef', '5f18c4a0-7631-11e4-a3cb-005056011aef', '5f19a7cf-7631-11e4-a3cb-005056011aef']\n",
      "UPSAMPLING: (46500, 210)\n",
      "Taxon code: 123 Taxon name: Medicines, medical devices and blood regulation and safety\n",
      "SMALL SUPPORT: 117\n",
      "(99, 210)\n",
      "FIRST 5 IDs: ['5f63838a-7631-11e4-a3cb-005056011aef', 'eeac32ab-98ee-4b4f-a807-50824311f6dc', '626beacc-6346-4343-8bbc-5f11e6926697', '5eef20de-7631-11e4-a3cb-005056011aef', '8a086972-3a97-410f-89da-8cbdb5cd9429']\n",
      "UPSAMPLING: (47000, 210)\n",
      "Taxon code: 124 Taxon name: Military awards and commemorations\n",
      "SMALL SUPPORT: 8\n",
      "(7, 210)\n",
      "FIRST 5 IDs: ['70b25509-1b79-4e4d-8ca8-66d266ce6a4e', '5c9030e1-7631-11e4-a3cb-005056011aef', '70b25509-1b79-4e4d-8ca8-66d266ce6a4e', '418ef190-6a2d-4ca0-b635-b083587e2088', '5eb8e68a-7631-11e4-a3cb-005056011aef']\n",
      "UPSAMPLING: (47500, 210)\n",
      "Taxon code: 125 Taxon name: Military equipment, logistics and technology\n",
      "SMALL SUPPORT: 13\n",
      "(10, 210)\n",
      "FIRST 5 IDs: ['5c976b2c-7631-11e4-a3cb-005056011aef', '5c976b2c-7631-11e4-a3cb-005056011aef', '5c718d5f-7631-11e4-a3cb-005056011aef', '5c84a3ef-7631-11e4-a3cb-005056011aef', '5c84c18f-7631-11e4-a3cb-005056011aef']\n",
      "UPSAMPLING: (48000, 210)\n",
      "Taxon code: 126 Taxon name: Military recruitment, training and operations\n",
      "SMALL SUPPORT: 30\n",
      "(26, 210)\n",
      "FIRST 5 IDs: ['5c85b53a-7631-11e4-a3cb-005056011aef', '5c84b165-7631-11e4-a3cb-005056011aef', '5c84b165-7631-11e4-a3cb-005056011aef', '5c8f54bc-7631-11e4-a3cb-005056011aef', '53069415-db84-4333-9000-bdc3f8a81786']\n",
      "UPSAMPLING: (48500, 210)\n",
      "Taxon code: 127 Taxon name: Ministry of Defence estate\n",
      "SMALL SUPPORT: 9\n",
      "(5, 210)\n",
      "FIRST 5 IDs: ['5f13e3f4-7631-11e4-a3cb-005056011aef', '5e36b10b-7631-11e4-a3cb-005056011aef', '5f13e3f4-7631-11e4-a3cb-005056011aef', '5c85a9c7-7631-11e4-a3cb-005056011aef', '5c84d34c-7631-11e4-a3cb-005056011aef']\n",
      "UPSAMPLING: (49000, 210)\n",
      "Taxon code: 128 Taxon name: Money laundering regulations\n",
      "SMALL SUPPORT: 39\n",
      "(26, 210)\n",
      "FIRST 5 IDs: ['31bbe447-6b91-4693-9275-d3d913bbd69c', '602e5010-7631-11e4-a3cb-005056011aef', '602e5010-7631-11e4-a3cb-005056011aef', '602e1e8f-7631-11e4-a3cb-005056011aef', '602e4f75-7631-11e4-a3cb-005056011aef']\n",
      "UPSAMPLING: (49500, 210)\n",
      "Taxon code: 130 Taxon name: National events and ceremonies\n",
      "SMALL SUPPORT: 77\n",
      "(60, 210)\n",
      "FIRST 5 IDs: ['60277999-7631-11e4-a3cb-005056011aef', '5d5b7151-7631-11e4-a3cb-005056011aef', '5d32d0ae-7631-11e4-a3cb-005056011aef', 'bbd28ee4-8a40-4367-9d3d-d800e55b4c3a', '5d33816c-7631-11e4-a3cb-005056011aef']\n",
      "UPSAMPLING: (50000, 210)\n",
      "Taxon code: 133 Taxon name: Nuclear disarmament\n",
      "SMALL SUPPORT: 4\n",
      "(2, 210)\n",
      "FIRST 5 IDs: ['303ea75e-e58f-4de9-9b1e-6ca25b347df0', '645de7d5-45dc-4816-9262-434522d08b1c', '303ea75e-e58f-4de9-9b1e-6ca25b347df0', '303ea75e-e58f-4de9-9b1e-6ca25b347df0', '303ea75e-e58f-4de9-9b1e-6ca25b347df0']\n",
      "UPSAMPLING: (50500, 210)\n",
      "Taxon code: 134 Taxon name: Oil and gas\n",
      "SMALL SUPPORT: 87\n",
      "(70, 210)\n",
      "FIRST 5 IDs: ['602fe654-7631-11e4-a3cb-005056011aef', 'ae472c3d-f6b4-4fcb-9ac1-2114f4400290', '602feb56-7631-11e4-a3cb-005056011aef', '602fe4dd-7631-11e4-a3cb-005056011aef', '60559d8f-7631-11e4-a3cb-005056011aef']\n",
      "UPSAMPLING: (51000, 210)\n",
      "Taxon code: 135 Taxon name: Passports\n",
      "SMALL SUPPORT: 22\n",
      "(19, 210)\n",
      "FIRST 5 IDs: ['82248bb1-c4d6-41e0-9494-d98123475626', '89426190-c98e-4997-8149-7e0f03aecc8d', '89426190-c98e-4997-8149-7e0f03aecc8d', '941a248b-91f4-40ac-b3ad-bd49177b42f4', '5a60ddee-ca02-4d98-9046-e74021bef860']\n",
      "UPSAMPLING: (51500, 210)\n",
      "Taxon code: 136 Taxon name: Passports and travel documents for foreign nationals\n",
      "SMALL SUPPORT: 38\n"
     ]
    },
    {
     "name": "stdout",
     "output_type": "stream",
     "text": [
      "(28, 210)\n",
      "FIRST 5 IDs: ['dfa28d6c-c181-4b96-af95-30f24d66ff28', '5d81b47b-7631-11e4-a3cb-005056011aef', '5d81b47b-7631-11e4-a3cb-005056011aef', '6bcb87c7-0d26-4fb0-8079-c2dfa09220f3', '52d01c9e-fa5c-4e26-b309-bae92dc1c4bc']\n",
      "UPSAMPLING: (52000, 210)\n",
      "Taxon code: 137 Taxon name: Payroll\n",
      "SMALL SUPPORT: 40\n",
      "(33, 210)\n",
      "FIRST 5 IDs: ['eed1c39e-523c-4e54-8025-eed301b61e62', '5dd79407-0213-4675-9754-d6cfd1118f87', 'a4fa57a8-8a70-4b66-a7ba-22f5103b6378', 'a0a16869-906d-4b7e-8e43-bee9a60cc853', 'b8b5b409-a2cc-4b6c-972d-eb7072c21626']\n",
      "UPSAMPLING: (52500, 210)\n",
      "Taxon code: 140 Taxon name: Permanent stay in the UK\n",
      "SMALL SUPPORT: 33\n",
      "(26, 210)\n",
      "FIRST 5 IDs: ['5ec23dca-7631-11e4-a3cb-005056011aef', '5ee540bf-7631-11e4-a3cb-005056011aef', '5ee540bf-7631-11e4-a3cb-005056011aef', '5ec20675-7631-11e4-a3cb-005056011aef', 'f4c6ac13-1769-4e0a-aba5-46eedaab2bcf']\n",
      "UPSAMPLING: (53000, 210)\n",
      "Taxon code: 142 Taxon name: Policing\n",
      "SMALL SUPPORT: 487\n",
      "(391, 210)\n",
      "FIRST 5 IDs: ['5ff07d1d-7631-11e4-a3cb-005056011aef', '5f5e7419-7631-11e4-a3cb-005056011aef', '5f5e6fa0-7631-11e4-a3cb-005056011aef', '9ded8d75-c53c-4119-af51-673f5d8a15b4', '1d87dca9-a587-4eec-92d3-e53537264c2d']\n",
      "UPSAMPLING: (53500, 210)\n",
      "Taxon code: 143 Taxon name: Population screening programmes\n",
      "SMALL SUPPORT: 80\n",
      "(68, 210)\n",
      "FIRST 5 IDs: ['0d5e5353-ad4c-464f-aa58-5b3c4f38088c', '3dd860d2-5eb3-4982-acfb-4189d1679b72', 'c46c3782-0ca9-4c2b-9af6-ca30f8b96299', '6cfeaa75-940d-4991-aea3-cc8b4a447709', 'a5191b0e-b4de-4f40-a29f-1980437e172b']\n",
      "UPSAMPLING: (54000, 210)\n",
      "Taxon code: 144 Taxon name: Postal service reform\n",
      "SMALL SUPPORT: 47\n",
      "(41, 210)\n",
      "FIRST 5 IDs: ['5e5dfe59-7631-11e4-a3cb-005056011aef', '5c982809-7631-11e4-a3cb-005056011aef', '8c5a3593-1768-401f-8a4f-6041858dd71d', '5e2a235c-7631-11e4-a3cb-005056011aef', '5ef137c9-7631-11e4-a3cb-005056011aef']\n",
      "UPSAMPLING: (54500, 210)\n",
      "Taxon code: 145 Taxon name: Pregnancy and birth\n",
      "SMALL SUPPORT: 16\n",
      "(15, 210)\n",
      "FIRST 5 IDs: ['5dc93a44-7631-11e4-a3cb-005056011aef', 'bb68ca88-b56b-4df2-a33d-3aaec66a5098', '5dc93a44-7631-11e4-a3cb-005056011aef', '1f6b4ecc-ce2c-488a-b9c7-b78b3bba5598', 'b555a47a-d180-4bc7-979a-e687cf6a16bf']\n",
      "UPSAMPLING: (55000, 210)\n",
      "Taxon code: 146 Taxon name: Prisons and probation\n",
      "SMALL SUPPORT: 19\n",
      "(13, 210)\n",
      "FIRST 5 IDs: ['70a86878-b4b8-4a9e-88c8-1585951bb828', '92f100c6-b11f-4cdb-b9f4-b7dbb890fc35', '70a86878-b4b8-4a9e-88c8-1585951bb828', '5f9d6c01-7631-11e4-a3cb-005056011aef', '6b69904c-049f-4115-97cb-c5c8b72a58e0']\n",
      "UPSAMPLING: (55500, 210)\n",
      "Taxon code: 148 Taxon name: Public sector land use\n",
      "SMALL SUPPORT: 2\n",
      "(2, 210)\n",
      "FIRST 5 IDs: ['5f113fd9-7631-11e4-a3cb-005056011aef', '5c7edc7f-7631-11e4-a3cb-005056011aef', '5f113fd9-7631-11e4-a3cb-005056011aef', '5f113fd9-7631-11e4-a3cb-005056011aef', '5f113fd9-7631-11e4-a3cb-005056011aef']\n",
      "UPSAMPLING: (56000, 210)\n",
      "Taxon code: 149 Taxon name: Public services\n",
      "SMALL SUPPORT: 13\n",
      "(11, 210)\n",
      "FIRST 5 IDs: ['703c27b8-d328-451f-9510-fee47dafc050', '703c27b8-d328-451f-9510-fee47dafc050', '5d5f88e7-7631-11e4-a3cb-005056011aef', '2de18e3c-1d0f-4ec2-bf3f-f697cf9ab5b7', '5d34dc26-7631-11e4-a3cb-005056011aef']\n",
      "UPSAMPLING: (56500, 210)\n",
      "Taxon code: 150 Taxon name: Pupil wellbeing, behaviour and attendance\n",
      "SMALL SUPPORT: 283\n",
      "(227, 210)\n",
      "FIRST 5 IDs: ['5e0e9078-7631-11e4-a3cb-005056011aef', '60235fe6-7631-11e4-a3cb-005056011aef', '19206e7c-2983-4349-a563-f7ee54803d2f', '5dcab35d-7631-11e4-a3cb-005056011aef', '5f4306ca-7631-11e4-a3cb-005056011aef']\n",
      "UPSAMPLING: (57000, 210)\n",
      "Taxon code: 153 Taxon name: Reoffending and rehabilitation\n",
      "SMALL SUPPORT: 132\n",
      "(104, 210)\n",
      "FIRST 5 IDs: ['5df3cd9d-7631-11e4-a3cb-005056011aef', '5e00fbb4-7631-11e4-a3cb-005056011aef', '5eba7440-7631-11e4-a3cb-005056011aef', '5f1303c7-7631-11e4-a3cb-005056011aef', '5ef4db92-7631-11e4-a3cb-005056011aef']\n",
      "UPSAMPLING: (57500, 210)\n",
      "Taxon code: 154 Taxon name: Reporting crimes and getting compensation\n",
      "SMALL SUPPORT: 38\n",
      "(30, 210)\n",
      "FIRST 5 IDs: ['22394987-fc04-46c5-b0f9-7771a2b77f7e', '25ac5b7b-3791-4148-beb1-92da0fe09d8d', '7ec46a32-8930-4ba5-bb02-fb0c123e4851', '25ac5b7b-3791-4148-beb1-92da0fe09d8d', 'd08d9582-1b89-4425-ad29-1b59e2d95beb']\n",
      "UPSAMPLING: (58000, 210)\n",
      "Taxon code: 158 Taxon name: Safeguarding and social care for children\n",
      "SMALL SUPPORT: 445\n",
      "(366, 210)\n",
      "FIRST 5 IDs: ['0f2d1aca-c3c2-46a4-beb9-a239b42055cf', '5fa8e4d8-7631-11e4-a3cb-005056011aef', '5dc8252e-7631-11e4-a3cb-005056011aef', '602aa52b-7631-11e4-a3cb-005056011aef', '2ac8a45e-592c-42d3-bf15-0ae94b831b90']\n",
      "UPSAMPLING: (58500, 210)\n",
      "Taxon code: 159 Taxon name: School and academy financial management and assurance\n",
      "SMALL SUPPORT: 130\n",
      "(104, 210)\n",
      "FIRST 5 IDs: ['5f52e5df-7631-11e4-a3cb-005056011aef', 'd03ffada-7737-47f8-8d4e-d5e8f3bcd455', '601c810e-7631-11e4-a3cb-005056011aef', '5dc9d2b1-7631-11e4-a3cb-005056011aef', '2bc476b2-8484-4a39-aab1-551cb3244b33']\n",
      "UPSAMPLING: (59000, 210)\n",
      "Taxon code: 164 Taxon name: Screening and quality assurance (all programmes)\n",
      "SMALL SUPPORT: 19\n",
      "(17, 210)\n",
      "FIRST 5 IDs: ['ba07ea82-b323-4fe9-acd0-60bda99dea54', '8ceb5697-1886-4081-9657-82f5fa82316d', '8ceb5697-1886-4081-9657-82f5fa82316d', '15b63aae-2604-4d2b-88e2-210fa19d9286', '420dd230-619e-4965-b1a2-0751823fb1cb']\n",
      "UPSAMPLING: (59500, 210)\n",
      "Taxon code: 165 Taxon name: Secondments with government\n",
      "SMALL SUPPORT: 2\n",
      "(2, 210)\n",
      "FIRST 5 IDs: ['5f130acf-7631-11e4-a3cb-005056011aef', '5c85b61c-7631-11e4-a3cb-005056011aef', '5f130acf-7631-11e4-a3cb-005056011aef', '5f130acf-7631-11e4-a3cb-005056011aef', '5f130acf-7631-11e4-a3cb-005056011aef']\n",
      "UPSAMPLING: (60000, 210)\n",
      "Taxon code: 166 Taxon name: Self-employment\n",
      "SMALL SUPPORT: 73\n",
      "(59, 210)\n",
      "FIRST 5 IDs: ['602d96b4-7631-11e4-a3cb-005056011aef', '602645c7-7631-11e4-a3cb-005056011aef', 'ce48b548-36d8-4f11-ad9b-b9149ae6c538', 'f7a9606f-c239-42d8-b14f-aafb95ece523', 'bfc1cc08-58a3-4df9-9274-5879e8b5a1cb']\n",
      "UPSAMPLING: (60500, 210)\n",
      "Taxon code: 167 Taxon name: Sentencing reform\n",
      "SMALL SUPPORT: 14\n",
      "(14, 210)\n",
      "FIRST 5 IDs: ['2899f2d3-e8de-491e-8763-48c61009ccdb', '5f6169df-7631-11e4-a3cb-005056011aef', '5dbdd128-7631-11e4-a3cb-005056011aef', '5f6169df-7631-11e4-a3cb-005056011aef', '5dbdce14-7631-11e4-a3cb-005056011aef']\n",
      "UPSAMPLING: (61000, 210)\n",
      "Taxon code: 169 Taxon name: Special educational needs and disability (SEND) and high needs\n",
      "SMALL SUPPORT: 224\n",
      "(181, 210)\n",
      "FIRST 5 IDs: ['1f7ff973-adfe-486b-8479-3317a66ac5b2', '5dc81d9b-7631-11e4-a3cb-005056011aef', '300fe08d-ffe5-4d84-bfd0-cb7187c2de83', '5fe3289d-7631-11e4-a3cb-005056011aef', '5dc80098-7631-11e4-a3cb-005056011aef']\n",
      "UPSAMPLING: (61500, 210)\n",
      "Taxon code: 171 Taxon name: Starting and attending school\n",
      "SMALL SUPPORT: 42\n",
      "(30, 210)\n",
      "FIRST 5 IDs: ['8a4b4de0-0df3-43a9-8273-cd642582e8e7', '01ed93a6-692b-4ea0-a08c-5ddee52d73ee', '4479426d-51c1-4b51-8930-543d994e8818', '01ed93a6-692b-4ea0-a08c-5ddee52d73ee', '5dc7991f-7631-11e4-a3cb-005056011aef']\n",
      "UPSAMPLING: (62000, 210)\n",
      "Taxon code: 172 Taxon name: Statutory rights\n",
      "SMALL SUPPORT: 3\n",
      "(3, 210)\n",
      "FIRST 5 IDs: ['00c99823-f7eb-4c82-8ee9-da83259aa9d8', '5d636324-7631-11e4-a3cb-005056011aef', '00c99823-f7eb-4c82-8ee9-da83259aa9d8', '00c99823-f7eb-4c82-8ee9-da83259aa9d8', '5d63623a-7631-11e4-a3cb-005056011aef']\n",
      "UPSAMPLING: (62500, 210)\n",
      "Taxon code: 173 Taxon name: Support services for military and defence personnel and their families\n",
      "SMALL SUPPORT: 55\n",
      "(48, 210)\n",
      "FIRST 5 IDs: ['5f43cabb-7631-11e4-a3cb-005056011aef', '1afad78b-a706-4fc5-bdf6-90b0591568d7', '5c923342-7631-11e4-a3cb-005056011aef', '5c84a48d-7631-11e4-a3cb-005056011aef', '64b13d71-5d2d-4efa-ac74-36fbac4a8656']\n",
      "UPSAMPLING: (63000, 210)\n",
      "Taxon code: 174 Taxon name: Support services for veterans and their families\n",
      "SMALL SUPPORT: 91\n",
      "(76, 210)\n",
      "FIRST 5 IDs: ['1059b2f7-bb2a-4b40-b8d7-9ac3f646515b', '3b80fb72-3d31-4a63-955c-0f61fccd7e7c', '2e4e4051-fd42-488e-9dc2-35b22c6b2c9a', 'a5275b30-44bf-4cef-ba30-6d381670ff30', '6ce70dc8-ec20-4b2a-a781-e8e78d054774']\n",
      "UPSAMPLING: (63500, 210)\n",
      "Taxon code: 175 Taxon name: Sustainable development\n",
      "SMALL SUPPORT: 217\n",
      "(176, 210)\n",
      "FIRST 5 IDs: ['5f41ae2e-7631-11e4-a3cb-005056011aef', '5f67329a-7631-11e4-a3cb-005056011aef', '81dfd60d-1263-40ed-9072-a4d6098dc02d', '5f1efd64-7631-11e4-a3cb-005056011aef', '5f204a4a-7631-11e4-a3cb-005056011aef']\n",
      "UPSAMPLING: (64000, 210)\n",
      "Taxon code: 176 Taxon name: Tax credits\n",
      "SMALL SUPPORT: 67\n",
      "(52, 210)\n",
      "FIRST 5 IDs: ['0f1b5a22-bf04-424c-a587-4709dd9cd49b', '4144624e-fe0c-4e1e-82dd-43eb632d9d03', '2dbd5d3e-5368-454c-8ca9-f805a8d3b246', '24f57ae2-9d84-4f39-9817-1fbc39478668', '60272e36-7631-11e4-a3cb-005056011aef']\n"
     ]
    },
    {
     "name": "stdout",
     "output_type": "stream",
     "text": [
      "UPSAMPLING: (64500, 210)\n",
      "Taxon code: 177 Taxon name: Tax evasion and avoidance\n",
      "SMALL SUPPORT: 122\n",
      "(86, 210)\n",
      "FIRST 5 IDs: ['5d63d132-7631-11e4-a3cb-005056011aef', '5e5b0b50-7631-11e4-a3cb-005056011aef', 'af5df0b0-e289-4b43-971e-ad210505a148', '5e340b3a-7631-11e4-a3cb-005056011aef', '5ebdf67c-7631-11e4-a3cb-005056011aef']\n",
      "UPSAMPLING: (65000, 210)\n",
      "Taxon code: 179 Taxon name: The Commonwealth\n",
      "SMALL SUPPORT: 50\n",
      "(42, 210)\n",
      "FIRST 5 IDs: ['5ebf06c2-7631-11e4-a3cb-005056011aef', 'c34a1171-6177-490b-933c-b78f05336424', 'f2c7b7f3-f712-4b27-ae97-e60e9cdf626b', '5dc62156-7631-11e4-a3cb-005056011aef', '487eefe2-17d8-4b37-a117-93ce05e2469c']\n",
      "UPSAMPLING: (65500, 210)\n",
      "Taxon code: 180 Taxon name: Tourism\n",
      "SMALL SUPPORT: 118\n",
      "(94, 210)\n",
      "FIRST 5 IDs: ['5d3c07de-7631-11e4-a3cb-005056011aef', 'cb809fec-0fb5-4146-bf43-9d5272765099', '0cd922e9-1cea-4adf-a7a5-cd3c545f45ae', '5d60e381-7631-11e4-a3cb-005056011aef', '5d339a90-7631-11e4-a3cb-005056011aef']\n",
      "UPSAMPLING: (66000, 210)\n",
      "Taxon code: 182 Taxon name: Transport accessibility and mobility\n",
      "SMALL SUPPORT: 69\n",
      "(57, 210)\n",
      "FIRST 5 IDs: ['5c78498c-7631-11e4-a3cb-005056011aef', '5c7b5e8c-7631-11e4-a3cb-005056011aef', '5c783789-7631-11e4-a3cb-005056011aef', 'c1834254-4658-4963-b5b1-eca41d8a6f2e', '5c7b932d-7631-11e4-a3cb-005056011aef']\n",
      "UPSAMPLING: (66500, 210)\n",
      "Taxon code: 184 Taxon name: Transport modelling and appraisal\n",
      "SMALL SUPPORT: 64\n",
      "(53, 210)\n",
      "FIRST 5 IDs: ['1a6d845d-9cd2-4017-bf51-7e8d44ce866c', '5eb8d9e1-7631-11e4-a3cb-005056011aef', '5e9d1f82-7631-11e4-a3cb-005056011aef', '235e2bfa-6f40-42b9-817d-27ed4de303ec', '5e9d0b8d-7631-11e4-a3cb-005056011aef']\n",
      "UPSAMPLING: (67000, 210)\n",
      "Taxon code: 185 Taxon name: Transport planning\n",
      "SMALL SUPPORT: 47\n",
      "(38, 210)\n",
      "FIRST 5 IDs: ['5c7a7315-7631-11e4-a3cb-005056011aef', '5f183950-7631-11e4-a3cb-005056011aef', '5c7b4e3b-7631-11e4-a3cb-005056011aef', '5e2f5664-7631-11e4-a3cb-005056011aef', '5c7afff4-7631-11e4-a3cb-005056011aef']\n",
      "UPSAMPLING: (67500, 210)\n",
      "Taxon code: 186 Taxon name: Transport research and evaluation\n",
      "SMALL SUPPORT: 26\n",
      "(21, 210)\n",
      "FIRST 5 IDs: ['af94e85d-efed-47ab-9df6-c87c78aa423e', 'c0420054-1452-4979-8a54-1e1b93c8bc95', 'c0420054-1452-4979-8a54-1e1b93c8bc95', '115857c8-051a-4746-87db-495ef4f8c5ca', '5eb9b2b3-7631-11e4-a3cb-005056011aef']\n",
      "UPSAMPLING: (68000, 210)\n",
      "Taxon code: 187 Taxon name: Transport security\n",
      "SMALL SUPPORT: 25\n",
      "(22, 210)\n",
      "FIRST 5 IDs: ['5c7aa0ba-7631-11e4-a3cb-005056011aef', '9e0a404f-e4e7-4ffc-8374-60e12f551fb1', '9e0a404f-e4e7-4ffc-8374-60e12f551fb1', '5c7aa1a6-7631-11e4-a3cb-005056011aef', '5eb605be-7631-11e4-a3cb-005056011aef']\n",
      "UPSAMPLING: (68500, 210)\n",
      "Taxon code: 189 Taxon name: Travel abroad\n",
      "SMALL SUPPORT: 25\n",
      "(19, 210)\n",
      "FIRST 5 IDs: ['22f341ca-82c8-4637-9dc9-e83619a5255a', '7809b006-f7c2-499d-947b-c3989458879c', '7809b006-f7c2-499d-947b-c3989458879c', 'c5a1f4a8-294f-4fd4-9a57-6af14f02ff1d', 'bb68ca88-b56b-4df2-a33d-3aaec66a5098']\n",
      "UPSAMPLING: (69000, 210)\n",
      "Taxon code: 190 Taxon name: UK border control\n",
      "SMALL SUPPORT: 9\n",
      "(8, 210)\n",
      "FIRST 5 IDs: ['6e25af08-92b3-4cb2-a34c-314783cb0799', '5e2f4905-7631-11e4-a3cb-005056011aef', '6e25af08-92b3-4cb2-a34c-314783cb0799', '0b120e15-3a2d-4ade-b5e2-7cddde69dc6c', 'e7a3ce99-ae3f-4405-8da2-eb3c0b41bfd4']\n",
      "UPSAMPLING: (69500, 210)\n",
      "Taxon code: 192 Taxon name: UK nuclear deterrent\n",
      "SMALL SUPPORT: 20\n",
      "(18, 210)\n",
      "FIRST 5 IDs: ['115fa0b3-626d-449a-97b5-4b8b65b65bb6', '5c8f9662-7631-11e4-a3cb-005056011aef', '5c8f9662-7631-11e4-a3cb-005056011aef', '5c8f9292-7631-11e4-a3cb-005056011aef', '359ec8f5-d17c-43c8-b170-542abb6b72db']\n",
      "UPSAMPLING: (70000, 210)\n",
      "Taxon code: 193 Taxon name: UK prosperity and security: Asia, Latin America and Africa\n",
      "SMALL SUPPORT: 214\n",
      "(171, 210)\n",
      "FIRST 5 IDs: ['5c8edfa8-7631-11e4-a3cb-005056011aef', '5eb67f1c-7631-11e4-a3cb-005056011aef', '5c8f16dd-7631-11e4-a3cb-005056011aef', '5ec471fc-7631-11e4-a3cb-005056011aef', '5d05eda3-7631-11e4-a3cb-005056011aef']\n",
      "UPSAMPLING: (70500, 210)\n",
      "Taxon code: 194 Taxon name: Universal Credit\n",
      "SMALL SUPPORT: 4\n",
      "(4, 210)\n",
      "FIRST 5 IDs: ['5e0f0bd7-7631-11e4-a3cb-005056011aef', '5f6473e6-7631-11e4-a3cb-005056011aef', '5e0f0bd7-7631-11e4-a3cb-005056011aef', '5e0f0bd7-7631-11e4-a3cb-005056011aef', '4bf00e64-952a-48b4-a125-7ca19dec31dd']\n",
      "UPSAMPLING: (71000, 210)\n",
      "Taxon code: 195 Taxon name: Victims of crime\n",
      "SMALL SUPPORT: 61\n",
      "(51, 210)\n",
      "FIRST 5 IDs: ['5fa65c46-7631-11e4-a3cb-005056011aef', '5ebb10fc-7631-11e4-a3cb-005056011aef', '5fa66a18-7631-11e4-a3cb-005056011aef', '5dc6d698-7631-11e4-a3cb-005056011aef', 'b1c3beda-9481-4002-be45-7c8fbe032c44']\n",
      "UPSAMPLING: (71500, 210)\n",
      "Taxon code: 196 Taxon name: Violence against women and girls\n",
      "SMALL SUPPORT: 163\n",
      "(128, 210)\n",
      "FIRST 5 IDs: ['4dbc1d83-6827-43b4-b054-6b60822423a7', '5d815714-7631-11e4-a3cb-005056011aef', '4dbc1d83-6827-43b4-b054-6b60822423a7', '5d5da4f6-7631-11e4-a3cb-005056011aef', '5f114d53-7631-11e4-a3cb-005056011aef']\n",
      "UPSAMPLING: (72000, 210)\n",
      "Taxon code: 197 Taxon name: Visas\n",
      "SMALL SUPPORT: 102\n",
      "(78, 210)\n",
      "FIRST 5 IDs: ['305acc88-488e-44ec-8e5a-1a5de7819ba9', '5ee55332-7631-11e4-a3cb-005056011aef', '5f574526-7631-11e4-a3cb-005056011aef', '5ebe659d-7631-11e4-a3cb-005056011aef', '5ef7edbf-7631-11e4-a3cb-005056011aef']\n",
      "UPSAMPLING: (72500, 210)\n",
      "Taxon code: 198 Taxon name: Voting\n",
      "SMALL SUPPORT: 9\n",
      "(7, 210)\n",
      "FIRST 5 IDs: ['852d8132-c699-4660-99db-3f801a7d629b', '09c874bc-8b98-4108-bc1d-68ddeeee1c58', '852d8132-c699-4660-99db-3f801a7d629b', '8c0c7a20-c4ae-4935-9309-ac4e7da42a62', '9315bc67-33e7-42e9-8dea-e022f56dabfa']\n",
      "UPSAMPLING: (73000, 210)\n",
      "Taxon code: 201 Taxon name: Water industry\n",
      "SMALL SUPPORT: 413\n",
      "(329, 210)\n",
      "FIRST 5 IDs: ['1f046990-2c10-4df9-9ae7-c6acdcb5f1da', 'deabc1c1-1430-47ed-b1dd-34d0f6c81d8d', '5f1e84cf-7631-11e4-a3cb-005056011aef', '5f1e869f-7631-11e4-a3cb-005056011aef', 'd0d9562f-dd62-486b-a1a8-f809f28bed9a']\n",
      "UPSAMPLING: (73500, 210)\n",
      "Taxon code: 202 Taxon name: Weapons proliferation\n",
      "SMALL SUPPORT: 37\n",
      "(26, 210)\n",
      "FIRST 5 IDs: ['5e29545f-7631-11e4-a3cb-005056011aef', '5d2b5ecf-7631-11e4-a3cb-005056011aef', '5d2b5ecf-7631-11e4-a3cb-005056011aef', '5d2b58a6-7631-11e4-a3cb-005056011aef', '5c8e7280-7631-11e4-a3cb-005056011aef']\n",
      "UPSAMPLING: (74000, 210)\n",
      "Taxon code: 203 Taxon name: What you can bring to the UK\n",
      "SMALL SUPPORT: 7\n",
      "(5, 210)\n",
      "FIRST 5 IDs: ['44b94792-05d9-4b95-9193-69de9ee87f09', 'e41f9444-ba8b-4c88-97c3-ba0c9536ba4c', '44b94792-05d9-4b95-9193-69de9ee87f09', 'ba5bdf3c-6eee-4171-97de-db7de05564f1', 'bc210087-fe91-4e48-8214-0d5273a099d5']\n",
      "UPSAMPLING: (74500, 210)\n",
      "Taxon code: 205 Taxon name: Work and disabled people\n",
      "SMALL SUPPORT: 8\n",
      "(7, 210)\n",
      "FIRST 5 IDs: ['b65dee04-9a47-46db-96ca-9b1a2e944bf5', 'cee5d657-3996-43a8-92b1-2f9fe12523bc', 'b65dee04-9a47-46db-96ca-9b1a2e944bf5', 'd27a7826-745c-4a54-b2e9-00a379da8671', 'e2e7bbe3-1f32-400d-8745-ae0c9a2f1b76']\n",
      "UPSAMPLING: (75000, 210)\n",
      "Taxon code: 206 Taxon name: Working, jobs and pensions\n",
      "SMALL SUPPORT: 182\n",
      "(145, 210)\n",
      "FIRST 5 IDs: ['b40c8e69-f4e1-4f15-9ffa-9407f9ae0488', '03be2e01-a57c-4fee-846f-f5e2214ba3df', '87cc880b-ec8b-45f7-989e-58f9d2d11080', '0d12a2da-7c52-4cd9-82ef-0cca0b51b880', '47f980aa-ff7b-481a-9a48-535400952115']\n",
      "UPSAMPLING: (75500, 210)\n",
      "Taxon code: 207 Taxon name: Young people and the law\n",
      "SMALL SUPPORT: 21\n",
      "(16, 210)\n",
      "FIRST 5 IDs: ['5f51c133-7631-11e4-a3cb-005056011aef', 'e5306122-80c5-40a2-ae3a-969c64f04095', '5f51c133-7631-11e4-a3cb-005056011aef', '5f9cb2ea-7631-11e4-a3cb-005056011aef', '63fb4cc8-d695-407b-8203-03651d3ae0d5']\n",
      "UPSAMPLING: (76000, 210)\n",
      "Taxon code: 208 Taxon name: Your rights and the law\n",
      "SMALL SUPPORT: 34\n",
      "(25, 210)\n",
      "FIRST 5 IDs: ['2cd1a1ae-3f76-40c6-b1ea-5cb958a4deba', 'f27d102f-dc6c-4044-a403-98b0fd7bc290', 'f27d102f-dc6c-4044-a403-98b0fd7bc290', '62a556b5-5e9e-4dac-a8d0-e6cd1dd88b7b', 'a33d72f9-ff98-42af-9a68-9726ec370ad3']\n",
      "UPSAMPLING: (76500, 210)\n",
      "Taxon code: 209 Taxon name: Youth employment and social issues\n",
      "SMALL SUPPORT: 48\n",
      "(38, 210)\n",
      "FIRST 5 IDs: ['5eb77baa-7631-11e4-a3cb-005056011aef', '1af7902e-9ab9-4ddd-90b0-62d0d83bfcbb', '5dc93a44-7631-11e4-a3cb-005056011aef', '5dc82824-7631-11e4-a3cb-005056011aef', '5ec46a54-7631-11e4-a3cb-005056011aef']\n",
      "UPSAMPLING: (77000, 210)\n"
     ]
    }
   ],
   "source": [
    "upsampled_training = pd.DataFrame()\n",
    "upper = len(binary_multilabel.columns)+1\n",
    "\n",
    "for taxon in range(1, upper):\n",
    "    num_samples = binary_multilabel[binary_multilabel[taxon]==1].shape[0] \n",
    "    if num_samples<500:\n",
    "        print(\"Taxon code:\",taxon,\"Taxon name:\",labels_index[taxon])\n",
    "        print(\"SMALL SUPPORT:\",num_samples)\n",
    "        df_minority = binary_multilabel[binary_multilabel[taxon]==1].loc[index]\n",
    "        if not df_minority.empty:\n",
    "        # Upsample minority class\n",
    "            print(df_minority.shape)\n",
    "            df_minority_upsampled = resample(df_minority, \n",
    "                                                 replace=True,     # sample with replacement\n",
    "                                                 n_samples=(500),    # to match majority class, switch to max_content_freq if works\n",
    "                                                 random_state=123) # reproducible results\n",
    "            \n",
    "            print(\"FIRST 5 IDs:\",[df_minority_upsampled.index[i][0] for i in range(0,5)])\n",
    "\n",
    "            # Combine majority class with upsampled minority class\n",
    "            upsampled_training = pd.concat([upsampled_training, df_minority_upsampled])\n",
    "\n",
    "            # Display new shape\n",
    "            print(\"UPSAMPLING:\",upsampled_training.shape)\n",
    "\n",
    "upsampled_training = shuffle(upsampled_training,random_state=0)"
   ]
  },
  {
   "cell_type": "markdown",
   "metadata": {},
   "source": [
    "### Doublecheck dataframe contents before merging."
   ]
  },
  {
   "cell_type": "code",
   "execution_count": 41,
   "metadata": {},
   "outputs": [
    {
     "data": {
      "text/plain": [
       "(92338, 210)"
      ]
     },
     "execution_count": 41,
     "metadata": {},
     "output_type": "execute_result"
    }
   ],
   "source": [
    "binary_multilabel.shape"
   ]
  },
  {
   "cell_type": "code",
   "execution_count": 42,
   "metadata": {},
   "outputs": [
    {
     "data": {
      "text/plain": [
       "'7e4943f3-3acd-4929-bdcd-d6a254d4dec1'"
      ]
     },
     "execution_count": 42,
     "metadata": {},
     "output_type": "execute_result"
    }
   ],
   "source": [
    "binary_multilabel.index[91770][0] # final sample before merging."
   ]
  },
  {
   "cell_type": "code",
   "execution_count": 43,
   "metadata": {},
   "outputs": [],
   "source": [
    "binary_multilabel = pd.concat([binary_multilabel, upsampled_training])"
   ]
  },
  {
   "cell_type": "code",
   "execution_count": 44,
   "metadata": {},
   "outputs": [
    {
     "data": {
      "text/plain": [
       "'5db8ea74-7631-11e4-a3cb-005056011aef'"
      ]
     },
     "execution_count": 44,
     "metadata": {},
     "output_type": "execute_result"
    }
   ],
   "source": [
    "binary_multilabel.index[total_size][0] # first sample of duplicated training data"
   ]
  },
  {
   "cell_type": "markdown",
   "metadata": {},
   "source": [
    "Do not remove index because the text data lives there.\n",
    "**TODO** Consider reworking how datasets are set up at some point"
   ]
  },
  {
   "cell_type": "code",
   "execution_count": 45,
   "metadata": {
    "scrolled": true
   },
   "outputs": [],
   "source": [
    "binary_multilabel.to_csv(os.path.join(DATADIR, 'balanced_level2_training_set_sampled.csv.gz'), compression='gzip')"
   ]
  },
  {
   "cell_type": "markdown",
   "metadata": {},
   "source": [
    "### LOAD OVERSAMPLED DATASET"
   ]
  },
  {
   "cell_type": "code",
   "execution_count": 46,
   "metadata": {
    "scrolled": true
   },
   "outputs": [],
   "source": [
    "balanced_df = pd.read_csv(os.path.join(DATADIR, 'balanced_level2_training_set_sampled.csv.gz'), dtype=object, compression='gzip')"
   ]
  },
  {
   "cell_type": "code",
   "execution_count": 47,
   "metadata": {
    "scrolled": true
   },
   "outputs": [
    {
     "data": {
      "text/plain": [
       "(169338, 214)"
      ]
     },
     "execution_count": 47,
     "metadata": {},
     "output_type": "execute_result"
    }
   ],
   "source": [
    "balanced_df.shape"
   ]
  },
  {
   "cell_type": "code",
   "execution_count": 48,
   "metadata": {
    "scrolled": true
   },
   "outputs": [
    {
     "name": "stdout",
     "output_type": "stream",
     "text": [
      "Shape of Y multilabel array before train/val/test split:(169338, 214)\n"
     ]
    }
   ],
   "source": [
    "#will convert columns to an array of shape\n",
    "print('Shape of Y multilabel array before train/val/test split:{}'.format(balanced_df[list(balanced_df.columns)].values.shape))"
   ]
  },
  {
   "cell_type": "code",
   "execution_count": 49,
   "metadata": {},
   "outputs": [],
   "source": [
    "#dont' overwirte blanced_df as it take sages to read in\n",
    "balanced_df_taxons = balanced_df.iloc[:,4:215]"
   ]
  },
  {
   "cell_type": "code",
   "execution_count": 50,
   "metadata": {},
   "outputs": [],
   "source": [
    "balanced_df_taxons.columns = balanced_df_taxons.columns.astype(int)"
   ]
  },
  {
   "cell_type": "code",
   "execution_count": 51,
   "metadata": {},
   "outputs": [],
   "source": [
    "balanced_df_taxons = balanced_df_taxons.astype(int)"
   ]
  },
  {
   "cell_type": "code",
   "execution_count": 52,
   "metadata": {
    "scrolled": true
   },
   "outputs": [
    {
     "name": "stdout",
     "output_type": "stream",
     "text": [
      "Example row of multilabel array [0 0 0 0 0 0 0 0 0 0 0 0 0 0 0 0 0 0 0 0 0 0 0 0 0 0 0 0 0 0 0 0 0 0 0 0 1\n",
      " 0 0 0 0 0 0 0 0 0 0 0 0 0 0 0 0 0 0 0 0 0 0 0 0 0 0 0 0 0 0 0 0 0 0 0 0 0\n",
      " 0 0 0 0 0 0 0 0 0 0 0 0 0 0 0 0 0 0 0 0 0 0 0 0 0 0 0 0 0 0 0 0 0 0 0 0 0\n",
      " 0 0 0 0 0 0 0 0 0 0 0 0 0 0 0 0 0 0 0 0 0 0 0 0 0 0 0 0 0 0 0 0 0 0 0 0 0\n",
      " 0 0 0 0 0 0 0 0 0 0 0 0 0 0 0 0 0 0 0 0 0 0 0 0 0 0 0 0 0 0 0 0 0 0 0 0 0\n",
      " 0 0 0 0 0 0 0 0 0 0 0 0 0 0 0 0 0 0 0 0 0 0 0 0 0]\n"
     ]
    }
   ],
   "source": [
    "#convert columns to an array. Each row represents a content item, each column an individual taxon\n",
    "binary_multilabel = balanced_df_taxons[list(balanced_df_taxons.columns)].values\n",
    "print('Example row of multilabel array {}'.format(binary_multilabel[2]))"
   ]
  },
  {
   "cell_type": "code",
   "execution_count": 53,
   "metadata": {
    "scrolled": true
   },
   "outputs": [
    {
     "data": {
      "text/html": [
       "<div>\n",
       "<style scoped>\n",
       "    .dataframe tbody tr th:only-of-type {\n",
       "        vertical-align: middle;\n",
       "    }\n",
       "\n",
       "    .dataframe tbody tr th {\n",
       "        vertical-align: top;\n",
       "    }\n",
       "\n",
       "    .dataframe thead th {\n",
       "        text-align: right;\n",
       "    }\n",
       "</style>\n",
       "<table border=\"1\" class=\"dataframe\">\n",
       "  <thead>\n",
       "    <tr style=\"text-align: right;\">\n",
       "      <th></th>\n",
       "      <th>content_id</th>\n",
       "      <th>combined_text</th>\n",
       "      <th>title</th>\n",
       "      <th>description</th>\n",
       "      <th>1</th>\n",
       "      <th>2</th>\n",
       "      <th>3</th>\n",
       "      <th>4</th>\n",
       "      <th>5</th>\n",
       "      <th>6</th>\n",
       "      <th>...</th>\n",
       "      <th>201</th>\n",
       "      <th>202</th>\n",
       "      <th>203</th>\n",
       "      <th>204</th>\n",
       "      <th>205</th>\n",
       "      <th>206</th>\n",
       "      <th>207</th>\n",
       "      <th>208</th>\n",
       "      <th>209</th>\n",
       "      <th>210</th>\n",
       "    </tr>\n",
       "  </thead>\n",
       "  <tbody>\n",
       "    <tr>\n",
       "      <th>0</th>\n",
       "      <td>1372d620-2c7b-4c06-a6e7-c60cacdb4d58</td>\n",
       "      <td>drug strategy 2017 the drug strategy 2017 sets...</td>\n",
       "      <td>drug strategy 2017</td>\n",
       "      <td>the drug strategy 2017 sets out how the govern...</td>\n",
       "      <td>0</td>\n",
       "      <td>0</td>\n",
       "      <td>0</td>\n",
       "      <td>0</td>\n",
       "      <td>0</td>\n",
       "      <td>0</td>\n",
       "      <td>...</td>\n",
       "      <td>0</td>\n",
       "      <td>0</td>\n",
       "      <td>0</td>\n",
       "      <td>0</td>\n",
       "      <td>0</td>\n",
       "      <td>0</td>\n",
       "      <td>0</td>\n",
       "      <td>0</td>\n",
       "      <td>0</td>\n",
       "      <td>0</td>\n",
       "    </tr>\n",
       "    <tr>\n",
       "      <th>1</th>\n",
       "      <td>d8132578-37d9-4f47-a438-86530b0ff259</td>\n",
       "      <td>bees and ants to flourish while the cuckoo flo...</td>\n",
       "      <td>bees and ants to flourish while the cuckoo flo...</td>\n",
       "      <td>climate change research reveals species most a...</td>\n",
       "      <td>0</td>\n",
       "      <td>0</td>\n",
       "      <td>0</td>\n",
       "      <td>0</td>\n",
       "      <td>0</td>\n",
       "      <td>0</td>\n",
       "      <td>...</td>\n",
       "      <td>0</td>\n",
       "      <td>0</td>\n",
       "      <td>0</td>\n",
       "      <td>0</td>\n",
       "      <td>0</td>\n",
       "      <td>0</td>\n",
       "      <td>0</td>\n",
       "      <td>0</td>\n",
       "      <td>0</td>\n",
       "      <td>0</td>\n",
       "    </tr>\n",
       "    <tr>\n",
       "      <th>2</th>\n",
       "      <td>5c8fa231-7631-11e4-a3cb-005056011aef</td>\n",
       "      <td>defence training estate warcop: public access ...</td>\n",
       "      <td>defence training estate warcop: public access ...</td>\n",
       "      <td>scheduled public access to the defence trainin...</td>\n",
       "      <td>0</td>\n",
       "      <td>0</td>\n",
       "      <td>0</td>\n",
       "      <td>0</td>\n",
       "      <td>0</td>\n",
       "      <td>0</td>\n",
       "      <td>...</td>\n",
       "      <td>0</td>\n",
       "      <td>0</td>\n",
       "      <td>0</td>\n",
       "      <td>0</td>\n",
       "      <td>0</td>\n",
       "      <td>0</td>\n",
       "      <td>0</td>\n",
       "      <td>0</td>\n",
       "      <td>0</td>\n",
       "      <td>0</td>\n",
       "    </tr>\n",
       "    <tr>\n",
       "      <th>3</th>\n",
       "      <td>5f2bc84b-6fb0-48f7-9fab-41387b1d72fe</td>\n",
       "      <td>chevras machzikei mesifta: 2016 inquiry report...</td>\n",
       "      <td>chevras machzikei mesifta: 2016 inquiry report</td>\n",
       "      <td>chevras machzikei mesifta: charity commission ...</td>\n",
       "      <td>0</td>\n",
       "      <td>0</td>\n",
       "      <td>0</td>\n",
       "      <td>0</td>\n",
       "      <td>0</td>\n",
       "      <td>0</td>\n",
       "      <td>...</td>\n",
       "      <td>0</td>\n",
       "      <td>0</td>\n",
       "      <td>0</td>\n",
       "      <td>0</td>\n",
       "      <td>0</td>\n",
       "      <td>0</td>\n",
       "      <td>0</td>\n",
       "      <td>0</td>\n",
       "      <td>0</td>\n",
       "      <td>0</td>\n",
       "    </tr>\n",
       "    <tr>\n",
       "      <th>4</th>\n",
       "      <td>5df423c9-7631-11e4-a3cb-005056011aef</td>\n",
       "      <td>rail franchising a statement about the refranc...</td>\n",
       "      <td>rail franchising</td>\n",
       "      <td>a statement about the refranchising programme ...</td>\n",
       "      <td>0</td>\n",
       "      <td>0</td>\n",
       "      <td>0</td>\n",
       "      <td>0</td>\n",
       "      <td>0</td>\n",
       "      <td>0</td>\n",
       "      <td>...</td>\n",
       "      <td>0</td>\n",
       "      <td>0</td>\n",
       "      <td>0</td>\n",
       "      <td>0</td>\n",
       "      <td>0</td>\n",
       "      <td>0</td>\n",
       "      <td>0</td>\n",
       "      <td>0</td>\n",
       "      <td>0</td>\n",
       "      <td>0</td>\n",
       "    </tr>\n",
       "  </tbody>\n",
       "</table>\n",
       "<p>5 rows × 214 columns</p>\n",
       "</div>"
      ],
      "text/plain": [
       "                             content_id  \\\n",
       "0  1372d620-2c7b-4c06-a6e7-c60cacdb4d58   \n",
       "1  d8132578-37d9-4f47-a438-86530b0ff259   \n",
       "2  5c8fa231-7631-11e4-a3cb-005056011aef   \n",
       "3  5f2bc84b-6fb0-48f7-9fab-41387b1d72fe   \n",
       "4  5df423c9-7631-11e4-a3cb-005056011aef   \n",
       "\n",
       "                                       combined_text  \\\n",
       "0  drug strategy 2017 the drug strategy 2017 sets...   \n",
       "1  bees and ants to flourish while the cuckoo flo...   \n",
       "2  defence training estate warcop: public access ...   \n",
       "3  chevras machzikei mesifta: 2016 inquiry report...   \n",
       "4  rail franchising a statement about the refranc...   \n",
       "\n",
       "                                               title  \\\n",
       "0                                 drug strategy 2017   \n",
       "1  bees and ants to flourish while the cuckoo flo...   \n",
       "2  defence training estate warcop: public access ...   \n",
       "3     chevras machzikei mesifta: 2016 inquiry report   \n",
       "4                                   rail franchising   \n",
       "\n",
       "                                         description  1  2  3  4  5  6 ...  \\\n",
       "0  the drug strategy 2017 sets out how the govern...  0  0  0  0  0  0 ...   \n",
       "1  climate change research reveals species most a...  0  0  0  0  0  0 ...   \n",
       "2  scheduled public access to the defence trainin...  0  0  0  0  0  0 ...   \n",
       "3  chevras machzikei mesifta: charity commission ...  0  0  0  0  0  0 ...   \n",
       "4  a statement about the refranchising programme ...  0  0  0  0  0  0 ...   \n",
       "\n",
       "  201 202 203 204 205 206 207 208 209 210  \n",
       "0   0   0   0   0   0   0   0   0   0   0  \n",
       "1   0   0   0   0   0   0   0   0   0   0  \n",
       "2   0   0   0   0   0   0   0   0   0   0  \n",
       "3   0   0   0   0   0   0   0   0   0   0  \n",
       "4   0   0   0   0   0   0   0   0   0   0  \n",
       "\n",
       "[5 rows x 214 columns]"
      ]
     },
     "execution_count": 53,
     "metadata": {},
     "output_type": "execute_result"
    }
   ],
   "source": [
    "balanced_df.head()"
   ]
  },
  {
   "cell_type": "markdown",
   "metadata": {},
   "source": [
    "# Format metadata/X"
   ]
  },
  {
   "cell_type": "code",
   "execution_count": 54,
   "metadata": {
    "scrolled": true
   },
   "outputs": [],
   "source": [
    "#extract content_id index to df\n",
    "meta1 = pd.DataFrame(balanced_df['content_id'])"
   ]
  },
  {
   "cell_type": "code",
   "execution_count": 55,
   "metadata": {},
   "outputs": [
    {
     "name": "stdout",
     "output_type": "stream",
     "text": [
      "(169338, 1)\n"
     ]
    },
    {
     "data": {
      "text/html": [
       "<div>\n",
       "<style scoped>\n",
       "    .dataframe tbody tr th:only-of-type {\n",
       "        vertical-align: middle;\n",
       "    }\n",
       "\n",
       "    .dataframe tbody tr th {\n",
       "        vertical-align: top;\n",
       "    }\n",
       "\n",
       "    .dataframe thead th {\n",
       "        text-align: right;\n",
       "    }\n",
       "</style>\n",
       "<table border=\"1\" class=\"dataframe\">\n",
       "  <thead>\n",
       "    <tr style=\"text-align: right;\">\n",
       "      <th></th>\n",
       "      <th>content_id</th>\n",
       "    </tr>\n",
       "  </thead>\n",
       "  <tbody>\n",
       "    <tr>\n",
       "      <th>0</th>\n",
       "      <td>1372d620-2c7b-4c06-a6e7-c60cacdb4d58</td>\n",
       "    </tr>\n",
       "    <tr>\n",
       "      <th>1</th>\n",
       "      <td>d8132578-37d9-4f47-a438-86530b0ff259</td>\n",
       "    </tr>\n",
       "    <tr>\n",
       "      <th>2</th>\n",
       "      <td>5c8fa231-7631-11e4-a3cb-005056011aef</td>\n",
       "    </tr>\n",
       "    <tr>\n",
       "      <th>3</th>\n",
       "      <td>5f2bc84b-6fb0-48f7-9fab-41387b1d72fe</td>\n",
       "    </tr>\n",
       "    <tr>\n",
       "      <th>4</th>\n",
       "      <td>5df423c9-7631-11e4-a3cb-005056011aef</td>\n",
       "    </tr>\n",
       "  </tbody>\n",
       "</table>\n",
       "</div>"
      ],
      "text/plain": [
       "                             content_id\n",
       "0  1372d620-2c7b-4c06-a6e7-c60cacdb4d58\n",
       "1  d8132578-37d9-4f47-a438-86530b0ff259\n",
       "2  5c8fa231-7631-11e4-a3cb-005056011aef\n",
       "3  5f2bc84b-6fb0-48f7-9fab-41387b1d72fe\n",
       "4  5df423c9-7631-11e4-a3cb-005056011aef"
      ]
     },
     "execution_count": 55,
     "metadata": {},
     "output_type": "execute_result"
    }
   ],
   "source": [
    "print(meta1.shape)\n",
    "meta1.head()"
   ]
  },
  {
   "cell_type": "code",
   "execution_count": 56,
   "metadata": {},
   "outputs": [],
   "source": [
    "metas = ['document_type','first_published_at','publishing_app','primary_publishing_organisation']"
   ]
  },
  {
   "cell_type": "code",
   "execution_count": 57,
   "metadata": {},
   "outputs": [],
   "source": [
    "def build_index(x):\n",
    "    index_dict = {}\n",
    "    index_dict['index'] = 0\n",
    "    for i,elem in enumerate(x):\n",
    "        index_dict[elem] = i+1\n",
    "    return index_dict"
   ]
  },
  {
   "cell_type": "code",
   "execution_count": 58,
   "metadata": {},
   "outputs": [],
   "source": [
    "import time"
   ]
  },
  {
   "cell_type": "code",
   "execution_count": 59,
   "metadata": {},
   "outputs": [
    {
     "name": "stdout",
     "output_type": "stream",
     "text": [
      "STARTED: 20:17:00\n",
      "WORKON: document_type\n",
      "WORKON: first_published_at\n",
      "WORKON: publishing_app\n",
      "WORKON: primary_publishing_organisation\n",
      "FINISHED: 20:17:00\n"
     ]
    }
   ],
   "source": [
    "#IF THIS FUNCTION TURNS OUT FASTER KEEP\n",
    "#apply meta data to content\n",
    "print(\"STARTED:\",time.strftime(\"%H:%M:%S\"))\n",
    "for meta in metas:\n",
    "    print(\"WORKON:\",meta)\n",
    "    meta1[meta] = meta1['content_id'].map(dict(zip(labelled_level2['content_id'], labelled_level2[meta])))\n",
    "print(\"FINISHED:\",time.strftime(\"%H:%M:%S\"))"
   ]
  },
  {
   "cell_type": "code",
   "execution_count": 60,
   "metadata": {
    "scrolled": true
   },
   "outputs": [
    {
     "data": {
      "text/html": [
       "<div>\n",
       "<style scoped>\n",
       "    .dataframe tbody tr th:only-of-type {\n",
       "        vertical-align: middle;\n",
       "    }\n",
       "\n",
       "    .dataframe tbody tr th {\n",
       "        vertical-align: top;\n",
       "    }\n",
       "\n",
       "    .dataframe thead th {\n",
       "        text-align: right;\n",
       "    }\n",
       "</style>\n",
       "<table border=\"1\" class=\"dataframe\">\n",
       "  <thead>\n",
       "    <tr style=\"text-align: right;\">\n",
       "      <th></th>\n",
       "      <th>content_id</th>\n",
       "      <th>document_type</th>\n",
       "      <th>first_published_at</th>\n",
       "      <th>publishing_app</th>\n",
       "      <th>primary_publishing_organisation</th>\n",
       "    </tr>\n",
       "  </thead>\n",
       "  <tbody>\n",
       "    <tr>\n",
       "      <th>0</th>\n",
       "      <td>1372d620-2c7b-4c06-a6e7-c60cacdb4d58</td>\n",
       "      <td>policy_paper</td>\n",
       "      <td>2017-07-13T23:00:26.000+00:00</td>\n",
       "      <td>whitehall</td>\n",
       "      <td>{'title': 'Home Office'}</td>\n",
       "    </tr>\n",
       "    <tr>\n",
       "      <th>1</th>\n",
       "      <td>d8132578-37d9-4f47-a438-86530b0ff259</td>\n",
       "      <td>press_release</td>\n",
       "      <td>2015-07-22T08:10:53.000+00:00</td>\n",
       "      <td>whitehall</td>\n",
       "      <td>{'title': 'Natural England'}</td>\n",
       "    </tr>\n",
       "    <tr>\n",
       "      <th>2</th>\n",
       "      <td>5c8fa231-7631-11e4-a3cb-005056011aef</td>\n",
       "      <td>guidance</td>\n",
       "      <td>2012-07-04T00:00:00.000+00:00</td>\n",
       "      <td>whitehall</td>\n",
       "      <td>{'title': 'Ministry of Defence'}</td>\n",
       "    </tr>\n",
       "    <tr>\n",
       "      <th>3</th>\n",
       "      <td>5f2bc84b-6fb0-48f7-9fab-41387b1d72fe</td>\n",
       "      <td>decision</td>\n",
       "      <td>2016-07-13T10:03:31.000+00:00</td>\n",
       "      <td>whitehall</td>\n",
       "      <td>{'title': 'The Charity Commission'}</td>\n",
       "    </tr>\n",
       "    <tr>\n",
       "      <th>4</th>\n",
       "      <td>5df423c9-7631-11e4-a3cb-005056011aef</td>\n",
       "      <td>oral_statement</td>\n",
       "      <td>2013-03-26T00:00:00.000+00:00</td>\n",
       "      <td>whitehall</td>\n",
       "      <td>{'title': 'Department for Transport'}</td>\n",
       "    </tr>\n",
       "  </tbody>\n",
       "</table>\n",
       "</div>"
      ],
      "text/plain": [
       "                             content_id   document_type  \\\n",
       "0  1372d620-2c7b-4c06-a6e7-c60cacdb4d58    policy_paper   \n",
       "1  d8132578-37d9-4f47-a438-86530b0ff259   press_release   \n",
       "2  5c8fa231-7631-11e4-a3cb-005056011aef        guidance   \n",
       "3  5f2bc84b-6fb0-48f7-9fab-41387b1d72fe        decision   \n",
       "4  5df423c9-7631-11e4-a3cb-005056011aef  oral_statement   \n",
       "\n",
       "              first_published_at publishing_app  \\\n",
       "0  2017-07-13T23:00:26.000+00:00      whitehall   \n",
       "1  2015-07-22T08:10:53.000+00:00      whitehall   \n",
       "2  2012-07-04T00:00:00.000+00:00      whitehall   \n",
       "3  2016-07-13T10:03:31.000+00:00      whitehall   \n",
       "4  2013-03-26T00:00:00.000+00:00      whitehall   \n",
       "\n",
       "         primary_publishing_organisation  \n",
       "0               {'title': 'Home Office'}  \n",
       "1           {'title': 'Natural England'}  \n",
       "2       {'title': 'Ministry of Defence'}  \n",
       "3    {'title': 'The Charity Commission'}  \n",
       "4  {'title': 'Department for Transport'}  "
      ]
     },
     "execution_count": 60,
     "metadata": {},
     "output_type": "execute_result"
    }
   ],
   "source": [
    "meta1 = meta1.replace(np.nan, '', regex=True) #conver nans to empty strings for labelencoder types\n",
    "meta1.head()"
   ]
  },
  {
   "cell_type": "code",
   "execution_count": 61,
   "metadata": {},
   "outputs": [
    {
     "name": "stdout",
     "output_type": "stream",
     "text": [
      "document_type\n",
      "publishing_app\n",
      "primary_publishing_organisation\n"
     ]
    }
   ],
   "source": [
    "def to_cat_to_hot(column):\n",
    "    doctype_encoder = LabelEncoder()\n",
    "    new_col = column+\"_cat\"\n",
    "    meta1[new_col] = doctype_encoder.fit_transform(meta1[column])\n",
    "    return to_categorical(meta1[new_col])\n",
    "\n",
    "dict_of_encodings = {}\n",
    "for meta in metas:\n",
    "    if meta != \"first_published_at\":\n",
    "        print(meta)\n",
    "        dict_of_encodings[meta] = to_cat_to_hot(meta)   "
   ]
  },
  {
   "cell_type": "code",
   "execution_count": 62,
   "metadata": {},
   "outputs": [
    {
     "data": {
      "text/html": [
       "<div>\n",
       "<style scoped>\n",
       "    .dataframe tbody tr th:only-of-type {\n",
       "        vertical-align: middle;\n",
       "    }\n",
       "\n",
       "    .dataframe tbody tr th {\n",
       "        vertical-align: top;\n",
       "    }\n",
       "\n",
       "    .dataframe thead th {\n",
       "        text-align: right;\n",
       "    }\n",
       "</style>\n",
       "<table border=\"1\" class=\"dataframe\">\n",
       "  <thead>\n",
       "    <tr style=\"text-align: right;\">\n",
       "      <th></th>\n",
       "      <th>content_id</th>\n",
       "      <th>document_type</th>\n",
       "      <th>first_published_at</th>\n",
       "      <th>publishing_app</th>\n",
       "      <th>primary_publishing_organisation</th>\n",
       "      <th>document_type_cat</th>\n",
       "      <th>publishing_app_cat</th>\n",
       "      <th>primary_publishing_organisation_cat</th>\n",
       "    </tr>\n",
       "  </thead>\n",
       "  <tbody>\n",
       "    <tr>\n",
       "      <th>0</th>\n",
       "      <td>1372d620-2c7b-4c06-a6e7-c60cacdb4d58</td>\n",
       "      <td>policy_paper</td>\n",
       "      <td>2017-07-13T23:00:26.000+00:00</td>\n",
       "      <td>whitehall</td>\n",
       "      <td>{'title': 'Home Office'}</td>\n",
       "      <td>39</td>\n",
       "      <td>8</td>\n",
       "      <td>176</td>\n",
       "    </tr>\n",
       "    <tr>\n",
       "      <th>1</th>\n",
       "      <td>d8132578-37d9-4f47-a438-86530b0ff259</td>\n",
       "      <td>press_release</td>\n",
       "      <td>2015-07-22T08:10:53.000+00:00</td>\n",
       "      <td>whitehall</td>\n",
       "      <td>{'title': 'Natural England'}</td>\n",
       "      <td>40</td>\n",
       "      <td>8</td>\n",
       "      <td>240</td>\n",
       "    </tr>\n",
       "    <tr>\n",
       "      <th>2</th>\n",
       "      <td>5c8fa231-7631-11e4-a3cb-005056011aef</td>\n",
       "      <td>guidance</td>\n",
       "      <td>2012-07-04T00:00:00.000+00:00</td>\n",
       "      <td>whitehall</td>\n",
       "      <td>{'title': 'Ministry of Defence'}</td>\n",
       "      <td>16</td>\n",
       "      <td>8</td>\n",
       "      <td>214</td>\n",
       "    </tr>\n",
       "    <tr>\n",
       "      <th>3</th>\n",
       "      <td>5f2bc84b-6fb0-48f7-9fab-41387b1d72fe</td>\n",
       "      <td>decision</td>\n",
       "      <td>2016-07-13T10:03:31.000+00:00</td>\n",
       "      <td>whitehall</td>\n",
       "      <td>{'title': 'The Charity Commission'}</td>\n",
       "      <td>9</td>\n",
       "      <td>8</td>\n",
       "      <td>326</td>\n",
       "    </tr>\n",
       "    <tr>\n",
       "      <th>4</th>\n",
       "      <td>5df423c9-7631-11e4-a3cb-005056011aef</td>\n",
       "      <td>oral_statement</td>\n",
       "      <td>2013-03-26T00:00:00.000+00:00</td>\n",
       "      <td>whitehall</td>\n",
       "      <td>{'title': 'Department for Transport'}</td>\n",
       "      <td>34</td>\n",
       "      <td>8</td>\n",
       "      <td>101</td>\n",
       "    </tr>\n",
       "  </tbody>\n",
       "</table>\n",
       "</div>"
      ],
      "text/plain": [
       "                             content_id   document_type  \\\n",
       "0  1372d620-2c7b-4c06-a6e7-c60cacdb4d58    policy_paper   \n",
       "1  d8132578-37d9-4f47-a438-86530b0ff259   press_release   \n",
       "2  5c8fa231-7631-11e4-a3cb-005056011aef        guidance   \n",
       "3  5f2bc84b-6fb0-48f7-9fab-41387b1d72fe        decision   \n",
       "4  5df423c9-7631-11e4-a3cb-005056011aef  oral_statement   \n",
       "\n",
       "              first_published_at publishing_app  \\\n",
       "0  2017-07-13T23:00:26.000+00:00      whitehall   \n",
       "1  2015-07-22T08:10:53.000+00:00      whitehall   \n",
       "2  2012-07-04T00:00:00.000+00:00      whitehall   \n",
       "3  2016-07-13T10:03:31.000+00:00      whitehall   \n",
       "4  2013-03-26T00:00:00.000+00:00      whitehall   \n",
       "\n",
       "         primary_publishing_organisation  document_type_cat  \\\n",
       "0               {'title': 'Home Office'}                 39   \n",
       "1           {'title': 'Natural England'}                 40   \n",
       "2       {'title': 'Ministry of Defence'}                 16   \n",
       "3    {'title': 'The Charity Commission'}                  9   \n",
       "4  {'title': 'Department for Transport'}                 34   \n",
       "\n",
       "   publishing_app_cat  primary_publishing_organisation_cat  \n",
       "0                   8                                  176  \n",
       "1                   8                                  240  \n",
       "2                   8                                  214  \n",
       "3                   8                                  326  \n",
       "4                   8                                  101  "
      ]
     },
     "execution_count": 62,
     "metadata": {},
     "output_type": "execute_result"
    }
   ],
   "source": [
    "meta1.head()"
   ]
  },
  {
   "cell_type": "code",
   "execution_count": 63,
   "metadata": {},
   "outputs": [
    {
     "name": "stdout",
     "output_type": "stream",
     "text": [
      "(169338,)\n"
     ]
    }
   ],
   "source": [
    "meta1['first_published_at'] = pd.to_datetime(meta1['first_published_at'])\n",
    "print(meta1['first_published_at'].shape)"
   ]
  },
  {
   "cell_type": "code",
   "execution_count": 64,
   "metadata": {},
   "outputs": [],
   "source": [
    "first_published = np.array(meta1['first_published_at']).reshape(meta1['first_published_at'].shape[0], 1)"
   ]
  },
  {
   "cell_type": "code",
   "execution_count": 65,
   "metadata": {
    "scrolled": true
   },
   "outputs": [
    {
     "name": "stdout",
     "output_type": "stream",
     "text": [
      "datetime64[ns] (169338, 1) <class 'numpy.ndarray'>\n"
     ]
    }
   ],
   "source": [
    "print(first_published.dtype,first_published.shape,type(first_published))"
   ]
  },
  {
   "cell_type": "code",
   "execution_count": 66,
   "metadata": {},
   "outputs": [
    {
     "data": {
      "text/plain": [
       "dict_keys(['document_type', 'publishing_app', 'primary_publishing_organisation'])"
      ]
     },
     "execution_count": 66,
     "metadata": {},
     "output_type": "execute_result"
    }
   ],
   "source": [
    "dict_of_encodings.keys()"
   ]
  },
  {
   "cell_type": "code",
   "execution_count": 67,
   "metadata": {},
   "outputs": [],
   "source": [
    "meta = np.concatenate((dict_of_encodings['document_type'], \n",
    "                               dict_of_encodings['primary_publishing_organisation'], \n",
    "                               dict_of_encodings['publishing_app']), \n",
    "                              axis=1)"
   ]
  },
  {
   "cell_type": "code",
   "execution_count": 68,
   "metadata": {
    "scrolled": true
   },
   "outputs": [
    {
     "name": "stdout",
     "output_type": "stream",
     "text": [
      "431\n",
      "(169338, 431)\n"
     ]
    }
   ],
   "source": [
    "nb_metavars = meta.shape[1]\n",
    "print(nb_metavars)\n",
    "print(meta.shape)"
   ]
  },
  {
   "cell_type": "markdown",
   "metadata": {},
   "source": [
    "### Tokenize text fields"
   ]
  },
  {
   "cell_type": "markdown",
   "metadata": {},
   "source": [
    "Tokenizer = Class for vectorizing texts, or/and turning texts into sequences (=list of word indexes, where the word of rank i in the dataset (starting at 1) has index i)"
   ]
  },
  {
   "cell_type": "code",
   "execution_count": 69,
   "metadata": {},
   "outputs": [],
   "source": [
    "def tokenize(local_tokenizer,input_data,onehot):\n",
    "# apply tokenizer to our text data\n",
    "    data = []\n",
    "    local_tokenizer.fit_on_texts(input_data)\n",
    "# list of word indexes, where the word of rank i in the dataset (starting at 1) has index i\n",
    "    word_index = local_tokenizer.word_index\n",
    "    sequences = local_tokenizer.texts_to_sequences(input_data)\n",
    "     \n",
    "    print('Found %s unique tokens.' % len(word_index))\n",
    "    if not onehot:\n",
    "        data = pad_sequences(sequences, maxlen= MAX_SEQUENCE_LENGTH)\n",
    "    else:\n",
    "        data = local_tokenizer.sequences_to_matrix(sequences)\n",
    "    return data, word_index"
   ]
  },
  {
   "cell_type": "code",
   "execution_count": 70,
   "metadata": {
    "scrolled": true
   },
   "outputs": [
    {
     "name": "stdout",
     "output_type": "stream",
     "text": [
      "Found 171379 unique tokens.\n",
      "Found 31559 unique tokens.\n",
      "Found 36916 unique tokens.\n"
     ]
    }
   ],
   "source": [
    "# True for sequences to matrix, False otherwise.\n",
    "texts = balanced_df['combined_text']\n",
    "tokenizer_texts = Tokenizer(num_words=NUM_WORDS)\n",
    "data, word_index = tokenize(tokenizer_texts,texts,False)\n",
    "\n",
    "\n",
    "titles = balanced_df['title']\n",
    "tokenizer_tit = Tokenizer(num_words=10000)\n",
    "onehot_tit, _ = tokenize(tokenizer_tit,titles,True)\n",
    "\n",
    "descs = balanced_df['description']\n",
    "tokenizer_desc = Tokenizer(num_words=10000)\n",
    "onehot_desc, _ = tokenize(tokenizer_desc,descs,True)"
   ]
  },
  {
   "cell_type": "code",
   "execution_count": 71,
   "metadata": {},
   "outputs": [
    {
     "name": "stdout",
     "output_type": "stream",
     "text": [
      "(169338, 10000)\n"
     ]
    }
   ],
   "source": [
    "print(onehot_tit.shape)"
   ]
  },
  {
   "cell_type": "code",
   "execution_count": 72,
   "metadata": {
    "scrolled": true
   },
   "outputs": [
    {
     "name": "stdout",
     "output_type": "stream",
     "text": [
      "Shape of label tensor: (169338, 210)\n",
      "Shape of data tensor: (169338, 1000)\n"
     ]
    }
   ],
   "source": [
    "print('Shape of label tensor:', binary_multilabel.shape)\n",
    "print('Shape of data tensor:', data.shape)"
   ]
  },
  {
   "cell_type": "markdown",
   "metadata": {},
   "source": [
    "### Data split\n",
    "- Training data = 80%\n",
    "- Development data = 10%\n",
    "- Test data = 10%"
   ]
  },
  {
   "cell_type": "markdown",
   "metadata": {},
   "source": [
    "#### Original sizes, keep for reference.\n",
    "    nb_test samples: 9177\n",
    "    nb_dev samples: 18354\n",
    "    nb_training samples: 73416"
   ]
  },
  {
   "cell_type": "code",
   "execution_count": 73,
   "metadata": {},
   "outputs": [
    {
     "name": "stdout",
     "output_type": "stream",
     "text": [
      "73870 18467 9233\n"
     ]
    }
   ],
   "source": [
    "print(nb_training_samples,nb_dev_samples,nb_test_samples)"
   ]
  },
  {
   "cell_type": "code",
   "execution_count": 74,
   "metadata": {},
   "outputs": [],
   "source": [
    "def split(data,splits):\n",
    "    l = []\n",
    "    for (start,end) in splits:\n",
    "        l.append(data[start:end])\n",
    "    return tuple([x for x in l])"
   ]
  },
  {
   "cell_type": "code",
   "execution_count": 75,
   "metadata": {},
   "outputs": [
    {
     "data": {
      "text/plain": [
       "77001"
      ]
     },
     "execution_count": 75,
     "metadata": {},
     "output_type": "execute_result"
    }
   ],
   "source": [
    "diff = len(data)-total_size+1\n",
    "diff"
   ]
  },
  {
   "cell_type": "code",
   "execution_count": 76,
   "metadata": {},
   "outputs": [],
   "source": [
    "splits = [(0,-(nb_dev_samples+diff)),(-(nb_dev_samples+diff),-(nb_test_samples+diff)),(-(nb_test_samples+diff),total_size)]\n",
    "re_split = [(total_size,len(data))]"
   ]
  },
  {
   "cell_type": "code",
   "execution_count": 77,
   "metadata": {},
   "outputs": [],
   "source": [
    "x_train, x_dev, x_test = split(data,splits)\n",
    "x_resampled = split(data,re_split)[0]"
   ]
  },
  {
   "cell_type": "code",
   "execution_count": 78,
   "metadata": {},
   "outputs": [
    {
     "name": "stdout",
     "output_type": "stream",
     "text": [
      "(73870, 1000) (77000, 1000)\n",
      "(9234, 1000) (9234, 1000)\n"
     ]
    }
   ],
   "source": [
    "print(x_train.shape,x_resampled.shape)\n",
    "print(x_dev.shape,x_test.shape)"
   ]
  },
  {
   "cell_type": "code",
   "execution_count": 79,
   "metadata": {},
   "outputs": [],
   "source": [
    "x_train = np.concatenate([x_train,x_resampled],axis=0)"
   ]
  },
  {
   "cell_type": "code",
   "execution_count": 80,
   "metadata": {},
   "outputs": [
    {
     "data": {
      "text/plain": [
       "(150870, 1000)"
      ]
     },
     "execution_count": 80,
     "metadata": {},
     "output_type": "execute_result"
    }
   ],
   "source": [
    "x_train.shape"
   ]
  },
  {
   "cell_type": "code",
   "execution_count": 81,
   "metadata": {},
   "outputs": [],
   "source": [
    "meta_train, meta_dev, meta_test = split(meta,splits)\n",
    "meta_resampled = split(meta,re_split)[0]\n",
    "meta_train = np.concatenate([meta_train,meta_resampled],axis=0)\n",
    "                                                                  \n",
    "title_train, title_dev, title_test = split(onehot_tit,splits)\n",
    "title_resampled = split(onehot_tit,re_split)[0]   \n",
    "title_train = np.concatenate([title_train,title_resampled],axis=0)\n",
    "                                                                  \n",
    "desc_train, desc_dev, desc_test = split(onehot_desc,splits)\n",
    "desc_resampled = split(onehot_desc,re_split)[0] \n",
    "desc_train = np.concatenate([desc_train,desc_resampled],axis=0)\n",
    "                                                                  \n",
    "y_train, y_dev, y_test = split(binary_multilabel,splits)\n",
    "y_resampled = split(binary_multilabel,re_split)[0]\n",
    "y_train = np.concatenate([y_train,y_resampled],axis=0)                                                             "
   ]
  },
  {
   "cell_type": "code",
   "execution_count": 82,
   "metadata": {
    "scrolled": true
   },
   "outputs": [
    {
     "name": "stdout",
     "output_type": "stream",
     "text": [
      "Shape of x_train: (150870, 1000)\n",
      "Shape of metax_train: (150870, 431)\n",
      "Shape of titlex_train: (150870, 10000)\n",
      "Shape of descx_train: (150870, 10000)\n",
      "Shape of y_train: (150870, 210)\n"
     ]
    }
   ],
   "source": [
    "print('Shape of x_train:', x_train.shape)\n",
    "print('Shape of metax_train:', meta_train.shape)\n",
    "print('Shape of titlex_train:', title_train.shape)\n",
    "print('Shape of descx_train:', desc_train.shape)\n",
    "print('Shape of y_train:', y_train.shape)"
   ]
  },
  {
   "cell_type": "code",
   "execution_count": 83,
   "metadata": {
    "scrolled": true
   },
   "outputs": [
    {
     "name": "stdout",
     "output_type": "stream",
     "text": [
      "Shape of x_dev: (9234, 1000)\n",
      "Shape of meta_dev: (9234, 431)\n",
      "Shape of titlex_dev: (9234, 10000)\n",
      "Shape of descx_dev: (9234, 10000)\n",
      "Shape of y_dev: (9234, 210)\n"
     ]
    }
   ],
   "source": [
    "print('Shape of x_dev:', x_dev.shape)\n",
    "print('Shape of meta_dev:', meta_dev.shape)\n",
    "print('Shape of titlex_dev:', title_dev.shape)\n",
    "print('Shape of descx_dev:', desc_dev.shape)\n",
    "print('Shape of y_dev:', y_dev.shape)"
   ]
  },
  {
   "cell_type": "code",
   "execution_count": 84,
   "metadata": {
    "scrolled": true
   },
   "outputs": [
    {
     "name": "stdout",
     "output_type": "stream",
     "text": [
      "Shape of x_test: (9234, 1000)\n",
      "Shape of metax_test: (9234, 431)\n",
      "Shape of titlex_test: (9234, 10000)\n",
      "Shape of descx_test: (9234, 10000)\n",
      "Shape of y_test: (9234, 210)\n"
     ]
    }
   ],
   "source": [
    "print('Shape of x_test:', x_test.shape)\n",
    "print('Shape of metax_test:', meta_test.shape)\n",
    "print('Shape of titlex_test:', title_test.shape)\n",
    "print('Shape of descx_test:', desc_test.shape)\n",
    "print('Shape of y_test:', y_test.shape)"
   ]
  },
  {
   "cell_type": "markdown",
   "metadata": {},
   "source": [
    "### preparing the Embedding layer\n",
    "\n",
    "NB stopwords haven't been removed yet..."
   ]
  },
  {
   "cell_type": "code",
   "execution_count": 85,
   "metadata": {
    "scrolled": true
   },
   "outputs": [],
   "source": [
    "embedding_layer = Embedding(len(word_index) + 1, \n",
    "                            EMBEDDING_DIM, \n",
    "                            input_length=MAX_SEQUENCE_LENGTH)"
   ]
  },
  {
   "cell_type": "markdown",
   "metadata": {},
   "source": [
    "An Embedding layer should be fed sequences of integers, i.e. a 2D input of shape (samples, indices). These input sequences should be padded so that they all have the same length in a batch of input data (although an Embedding layer is capable of processing sequence of heterogenous length, if you don't pass an explicit input_length argument to the layer).\n",
    "\n",
    "All that the Embedding layer does is to map the integer inputs to the vectors found at the corresponding index in the embedding matrix, i.e. the sequence [1, 2] would be converted to [embeddings[1], embeddings[2]]. This means that the output of the Embedding layer will be a 3D tensor of shape (samples, sequence_length, embedding_dim)."
   ]
  },
  {
   "cell_type": "markdown",
   "metadata": {},
   "source": [
    "### Estimate class weights for unbalanced datasets.\n",
    "paramter to model.fit = __class_weight__: Optional dictionary mapping class indices (integers) to a weight (float) value, used for weighting the loss function (during training only). This can be useful to tell the model to \"pay more attention\" to samples from an under-represented class.\n",
    "\n",
    "Implement class_weight from sklearn:\n",
    "\n",
    "- Import the module \n",
    "\n",
    "`from sklearn.utils import class_weight`\n",
    "- calculate the class weight, If ‘balanced’, class weights will be given by n_samples / (n_classes * np.bincount(y)):\n",
    "\n",
    "`class_weight = class_weight.compute_class_weight('balanced', np.unique(y_train), y_train)`\n",
    "\n",
    "- change it to a dict in order to work with Keras.\n",
    "\n",
    "`class_weight_dict = dict(enumerate(class_weight))`\n",
    "\n",
    "- Add to model fitting\n",
    "\n",
    "`model.fit(X_train, y_train, class_weight=class_weight)`"
   ]
  },
  {
   "cell_type": "code",
   "execution_count": 86,
   "metadata": {
    "scrolled": true
   },
   "outputs": [],
   "source": [
    "# class_weight = class_weight.compute_class_weight('balanced', np.unique(y_train), y_train)\n",
    "# class_weight_dict = dict(enumerate(class_weight))"
   ]
  },
  {
   "cell_type": "markdown",
   "metadata": {},
   "source": [
    "### Custom loss function"
   ]
  },
  {
   "cell_type": "code",
   "execution_count": 87,
   "metadata": {
    "scrolled": true
   },
   "outputs": [
    {
     "name": "stdout",
     "output_type": "stream",
     "text": [
      "4.00756\n",
      "8.01512\n"
     ]
    }
   ],
   "source": [
    "class WeightedBinaryCrossEntropy(object):\n",
    "\n",
    "    def __init__(self, pos_ratio):\n",
    "        neg_ratio = 1. - pos_ratio\n",
    "        #self.pos_ratio = tf.constant(pos_ratio, tf.float32)\n",
    "        self.pos_ratio = pos_ratio\n",
    "        #self.weights = tf.constant(neg_ratio / pos_ratio, tf.float32)\n",
    "        self.weights = neg_ratio / pos_ratio\n",
    "        self.__name__ = \"weighted_binary_crossentropy({0})\".format(pos_ratio)\n",
    "\n",
    "    def __call__(self, y_true, y_pred):\n",
    "        return self.weighted_binary_crossentropy(y_true, y_pred)\n",
    "\n",
    "    def weighted_binary_crossentropy(self, y_true, y_pred):\n",
    "            # Transform to logits\n",
    "            epsilon = tf.convert_to_tensor(K.common._EPSILON, y_pred.dtype.base_dtype)\n",
    "            y_pred = tf.clip_by_value(y_pred, epsilon, 1 - epsilon)\n",
    "            y_pred = tf.log(y_pred / (1 - y_pred))\n",
    "\n",
    "            cost = tf.nn.weighted_cross_entropy_with_logits(y_true, y_pred, self.weights)\n",
    "            return K.mean(cost * self.pos_ratio, axis=-1)\n",
    "    \n",
    "y_true_arr = np.array([0,1,0,1], dtype=\"float32\")\n",
    "y_pred_arr = np.array([0,0,1,1], dtype=\"float32\")\n",
    "y_true = tf.constant(y_true_arr)\n",
    "y_pred = tf.constant(y_pred_arr)\n",
    "\n",
    "with tf.Session().as_default(): \n",
    "    print(WeightedBinaryCrossEntropy(0.5)(y_true, y_pred).eval())\n",
    "    print(binary_crossentropy(y_true, y_pred).eval())\n"
   ]
  },
  {
   "cell_type": "markdown",
   "metadata": {},
   "source": [
    "### difficulty getting global precision/recall metrics . CAUTION interpreting monitoring metrics\n",
    "fcholltet: \"Basically these are all global metrics that were approximated\n",
    "batch-wise, which is more misleading than helpful. This was mentioned in\n",
    "the docs but it's much cleaner to remove them altogether. It was a mistake\n",
    "to merge them in the first place.\""
   ]
  },
  {
   "cell_type": "code",
   "execution_count": 88,
   "metadata": {
    "scrolled": true
   },
   "outputs": [],
   "source": [
    "def f1(y_true, y_pred):\n",
    "    \"\"\"Use Recall  and precision metrics to calculate harmonic mean (F1 score).\n",
    "\n",
    "        Only computes a batch-wise average of recall.\n",
    "\n",
    "        Computes the recall, a metric for multi-label classification of\n",
    "        how many relevant items are selected.\n",
    "        \"\"\"\n",
    "    true_positives = K.sum(K.round(K.clip(y_true * y_pred, 0, 1)))\n",
    "    predicted_positives = K.sum(K.round(K.clip(y_pred, 0, 1)))\n",
    "    possible_positives = K.sum(K.round(K.clip(y_true, 0, 1)))\n",
    "    precision = true_positives / (predicted_positives + K.epsilon())\n",
    "    recall = true_positives / (possible_positives + K.epsilon())\n",
    "    f1 = 2*((precision*recall)/(precision+recall))\n",
    "    \n",
    "    return f1"
   ]
  },
  {
   "cell_type": "markdown",
   "metadata": {},
   "source": [
    "## Training a 1D convnet"
   ]
  },
  {
   "cell_type": "markdown",
   "metadata": {},
   "source": [
    "### 1. Create model"
   ]
  },
  {
   "cell_type": "code",
   "execution_count": 89,
   "metadata": {
    "scrolled": true
   },
   "outputs": [],
   "source": [
    "NB_CLASSES = y_train.shape[1]\n",
    "NB_METAVARS = meta_train.shape[1]\n",
    "\n",
    "\n",
    "\n",
    "sequence_input = Input(shape=(MAX_SEQUENCE_LENGTH,), dtype='int32', name='wordindex') #MAX_SEQUENCE_LENGTH\n",
    "embedded_sequences = embedding_layer(sequence_input)\n",
    "x = Dropout(0.2, name = 'dropout_embedded')(embedded_sequences)\n",
    "\n",
    "x = Conv1D(128, 5, activation='relu', name = 'conv0')(x)\n",
    "\n",
    "x = MaxPooling1D(5, name = 'max_pool0')(x)\n",
    "\n",
    "x = Dropout(0.5, name = 'dropout0')(x)\n",
    "\n",
    "x = Conv1D(128, 5, activation='relu', name = 'conv1')(x)\n",
    "\n",
    "x = MaxPooling1D(5 , name = 'max_pool1')(x)\n",
    "\n",
    "x = Conv1D(128, 5, activation='relu', name = 'conv2')(x)\n",
    "\n",
    "x = MaxPooling1D(35, name = 'global_max_pool')(x)  # global max pooling\n",
    "\n",
    "x = Flatten()(x) #reduce dimensions from 3 to 2; convert to vector + FULLYCONNECTED\n",
    "\n",
    "meta_input = Input(shape=(NB_METAVARS,), name='meta')\n",
    "meta_hidden = Dense(128, activation='relu', name = 'hidden_meta')(meta_input)\n",
    "meta_hidden = Dropout(0.2, name = 'dropout_meta')(meta_hidden)\n",
    "\n",
    "\n",
    "title_input = Input(shape=(title_train.shape[1],), name='titles')\n",
    "title_hidden = Dense(128, activation='relu', name = 'hidden_title')(title_input)\n",
    "title_hidden = Dropout(0.2, name = 'dropout_title')(title_hidden)\n",
    "\n",
    "desc_input = Input(shape=(desc_train.shape[1],), name='descs')\n",
    "desc_hidden = Dense(128, activation='relu', name = 'hidden_desc')(desc_input)\n",
    "desc_hidden = Dropout(0.2, name = 'dropout_desc')(desc_hidden)\n",
    "\n",
    "concatenated = concatenate([meta_hidden, title_hidden, desc_hidden, x])\n",
    "\n",
    "x = Dense(400, activation='relu', name = 'fully_connected0')(concatenated)\n",
    "\n",
    "x = Dropout(0.2, name = 'dropout1')(x)\n",
    "\n",
    "x = Dense(NB_CLASSES, activation='sigmoid', name = 'fully_connected1')(x)\n",
    "\n",
    "# # The Model class turns an input tensor and output tensor into a model\n",
    "# This creates Keras model instance, will use this instance to train/test the model.\n",
    "model = Model(inputs=[meta_input, title_input, desc_input, sequence_input], outputs=x)"
   ]
  },
  {
   "cell_type": "markdown",
   "metadata": {},
   "source": [
    "### 2. Compile model"
   ]
  },
  {
   "cell_type": "code",
   "execution_count": 90,
   "metadata": {
    "scrolled": true
   },
   "outputs": [],
   "source": [
    "# model.compile(loss=WeightedBinaryCrossEntropy(POS_RATIO),\n",
    "#               optimizer='rmsprop',\n",
    "#               metrics=['binary_accuracy', f1])"
   ]
  },
  {
   "cell_type": "markdown",
   "metadata": {},
   "source": [
    "Metric values are recorded at the end of each epoch on the training dataset. If a validation dataset is also provided, then the metric recorded is also calculated for the validation dataset.\n",
    "\n",
    "All metrics are reported in verbose output and in the history object returned from calling the fit() function. In both cases, the name of the metric function is used as the key for the metric values. In the case of metrics for the validation dataset, the “val_” prefix is added to the key."
   ]
  },
  {
   "cell_type": "markdown",
   "metadata": {},
   "source": [
    "You have now built a function to describe your model. To train and test this model, there are four steps in Keras:\n",
    "1. Create the model by calling the function above\n",
    "2. Compile the model by calling `model.compile(optimizer = \"...\", loss = \"...\", metrics = [\"accuracy\"])`\n",
    "3. Train the model on train data by calling `model.fit(x = ..., y = ..., epochs = ..., batch_size = ...)`\n",
    "4. Test the model on test data by calling `model.evaluate(x = ..., y = ...)`\n",
    "\n",
    "If you want to know more about `model.compile()`, `model.fit()`, `model.evaluate()` and their arguments, refer to the official [Keras documentation](https://keras.io/models/model/).\n"
   ]
  },
  {
   "cell_type": "code",
   "execution_count": 91,
   "metadata": {
    "scrolled": true
   },
   "outputs": [
    {
     "name": "stdout",
     "output_type": "stream",
     "text": [
      "__________________________________________________________________________________________________\n",
      "Layer (type)                    Output Shape         Param #     Connected to                     \n",
      "==================================================================================================\n",
      "wordindex (InputLayer)          (None, 1000)         0                                            \n",
      "__________________________________________________________________________________________________\n",
      "embedding_1 (Embedding)         (None, 1000, 100)    17138000    wordindex[0][0]                  \n",
      "__________________________________________________________________________________________________\n",
      "dropout_embedded (Dropout)      (None, 1000, 100)    0           embedding_1[0][0]                \n",
      "__________________________________________________________________________________________________\n",
      "conv0 (Conv1D)                  (None, 996, 128)     64128       dropout_embedded[0][0]           \n",
      "__________________________________________________________________________________________________\n",
      "max_pool0 (MaxPooling1D)        (None, 199, 128)     0           conv0[0][0]                      \n",
      "__________________________________________________________________________________________________\n",
      "dropout0 (Dropout)              (None, 199, 128)     0           max_pool0[0][0]                  \n",
      "__________________________________________________________________________________________________\n",
      "conv1 (Conv1D)                  (None, 195, 128)     82048       dropout0[0][0]                   \n",
      "__________________________________________________________________________________________________\n",
      "max_pool1 (MaxPooling1D)        (None, 39, 128)      0           conv1[0][0]                      \n",
      "__________________________________________________________________________________________________\n",
      "meta (InputLayer)               (None, 431)          0                                            \n",
      "__________________________________________________________________________________________________\n",
      "titles (InputLayer)             (None, 10000)        0                                            \n",
      "__________________________________________________________________________________________________\n",
      "descs (InputLayer)              (None, 10000)        0                                            \n",
      "__________________________________________________________________________________________________\n",
      "conv2 (Conv1D)                  (None, 35, 128)      82048       max_pool1[0][0]                  \n",
      "__________________________________________________________________________________________________\n",
      "hidden_meta (Dense)             (None, 128)          55296       meta[0][0]                       \n",
      "__________________________________________________________________________________________________\n",
      "hidden_title (Dense)            (None, 128)          1280128     titles[0][0]                     \n",
      "__________________________________________________________________________________________________\n",
      "hidden_desc (Dense)             (None, 128)          1280128     descs[0][0]                      \n",
      "__________________________________________________________________________________________________\n",
      "global_max_pool (MaxPooling1D)  (None, 1, 128)       0           conv2[0][0]                      \n",
      "__________________________________________________________________________________________________\n",
      "dropout_meta (Dropout)          (None, 128)          0           hidden_meta[0][0]                \n",
      "__________________________________________________________________________________________________\n",
      "dropout_title (Dropout)         (None, 128)          0           hidden_title[0][0]               \n",
      "__________________________________________________________________________________________________\n",
      "dropout_desc (Dropout)          (None, 128)          0           hidden_desc[0][0]                \n",
      "__________________________________________________________________________________________________\n",
      "flatten_1 (Flatten)             (None, 128)          0           global_max_pool[0][0]            \n",
      "__________________________________________________________________________________________________\n",
      "concatenate_1 (Concatenate)     (None, 512)          0           dropout_meta[0][0]               \n",
      "                                                                 dropout_title[0][0]              \n",
      "                                                                 dropout_desc[0][0]               \n",
      "                                                                 flatten_1[0][0]                  \n",
      "__________________________________________________________________________________________________\n",
      "fully_connected0 (Dense)        (None, 400)          205200      concatenate_1[0][0]              \n",
      "__________________________________________________________________________________________________\n",
      "dropout1 (Dropout)              (None, 400)          0           fully_connected0[0][0]           \n",
      "__________________________________________________________________________________________________\n",
      "fully_connected1 (Dense)        (None, 210)          84210       dropout1[0][0]                   \n",
      "==================================================================================================\n",
      "Total params: 20,271,186\n",
      "Trainable params: 20,271,186\n",
      "Non-trainable params: 0\n",
      "__________________________________________________________________________________________________\n"
     ]
    }
   ],
   "source": [
    "model.summary()"
   ]
  },
  {
   "cell_type": "markdown",
   "metadata": {},
   "source": [
    "### Tensorboard callbacks /metrics /monitor training"
   ]
  },
  {
   "cell_type": "markdown",
   "metadata": {},
   "source": [
    "<span style=\"color:red\"> **Size of these files is killing storage during training. Is it histograms?**</span>"
   ]
  },
  {
   "cell_type": "code",
   "execution_count": 92,
   "metadata": {
    "scrolled": true
   },
   "outputs": [],
   "source": [
    "tb = TensorBoard(log_dir='./learn_embedding_logs', histogram_freq=1, write_graph=True, write_images=False)"
   ]
  },
  {
   "cell_type": "code",
   "execution_count": 93,
   "metadata": {
    "scrolled": true
   },
   "outputs": [],
   "source": [
    "CHECKPOINT_PATH = os.path.join(DATADIR, 'model_checkpoint.hdf5')\n",
    "\n",
    "cp = ModelCheckpoint(\n",
    "                     filepath = CHECKPOINT_PATH, \n",
    "                     monitor='val_loss', \n",
    "                     verbose=0, \n",
    "                     save_best_only=False, \n",
    "                     save_weights_only=False, \n",
    "                     mode='auto', \n",
    "                     period=1\n",
    "                    )"
   ]
  },
  {
   "cell_type": "code",
   "execution_count": 94,
   "metadata": {
    "scrolled": true
   },
   "outputs": [],
   "source": [
    "# class Metrics(Callback):\n",
    "#     def on_train_begin(self, logs={}):\n",
    "#         self.val_f1s = []\n",
    "#         self.val_recalls = []\n",
    "#         self.val_precisions = []\n",
    " \n",
    "#     def on_epoch_end(self, epoch, logs={}):\n",
    "#         val_predict = (np.asarray(self.model.predict(self.model.validation_data[0]))).round()\n",
    "#         val_targ = self.model.validation_data[1]\n",
    "        \n",
    "#         self.val_f1s.append(f1_score(val_targ, val_predict, average='micro'))\n",
    "#         self.val_recalls.append(recall_score(val_targ, val_predict))\n",
    "#         self.val_precisions.append(precision_score(val_targ, val_predict))\n",
    "#         print(\"- val_f1: %f — val_precision: %f — val_recall %f\" \n",
    "#                 %(f1_score(val_targ, val_predict, average='micro'), \n",
    "#                   precision_score(val_targ, val_predict),\n",
    "#                    recall_score(val_targ, val_predict)))\n",
    "#         return\n",
    " \n",
    "# metrics = Metrics()"
   ]
  },
  {
   "cell_type": "code",
   "execution_count": 95,
   "metadata": {
    "scrolled": true
   },
   "outputs": [],
   "source": [
    "from keras.callbacks import EarlyStopping\n",
    "early_stopping = EarlyStopping(monitor='val_loss', patience=2)\n",
    "#model.fit(x, y, validation_split=0.2, callbacks=[early_stopping])"
   ]
  },
  {
   "cell_type": "markdown",
   "metadata": {},
   "source": [
    "### 3. Train model"
   ]
  },
  {
   "cell_type": "code",
   "execution_count": 96,
   "metadata": {
    "scrolled": true
   },
   "outputs": [
    {
     "name": "stdout",
     "output_type": "stream",
     "text": [
      "Train on 150870 samples, validate on 9234 samples\n",
      "Epoch 1/10\n",
      "150870/150870 [==============================] - 98s 653us/step - loss: 0.0095 - binary_accuracy: 0.9947 - f1: nan - val_loss: 0.0053 - val_binary_accuracy: 0.9965 - val_f1: 0.7255\n",
      "Epoch 2/10\n",
      "150870/150870 [==============================] - 90s 599us/step - loss: 0.0029 - binary_accuracy: 0.9981 - f1: 0.8863 - val_loss: 0.0048 - val_binary_accuracy: 0.9969 - val_f1: 0.7602\n",
      "Epoch 3/10\n",
      "150870/150870 [==============================] - 90s 598us/step - loss: 0.0021 - binary_accuracy: 0.9986 - f1: 0.9189 - val_loss: 0.0048 - val_binary_accuracy: 0.9970 - val_f1: 0.7724\n",
      "Epoch 4/10\n",
      "150870/150870 [==============================] - 90s 599us/step - loss: 0.0017 - binary_accuracy: 0.9989 - f1: 0.9341 - val_loss: 0.0049 - val_binary_accuracy: 0.9971 - val_f1: 0.7797\n",
      "Epoch 5/10\n",
      "150870/150870 [==============================] - 90s 598us/step - loss: 0.0015 - binary_accuracy: 0.9990 - f1: 0.9435 - val_loss: 0.0050 - val_binary_accuracy: 0.9970 - val_f1: 0.7761\n"
     ]
    }
   ],
   "source": [
    "# metrics callback causes: CCCCCCR55555555511155\n",
    "# So disable for now\n",
    "from keras.utils import multi_gpu_model\n",
    "\n",
    "# Replicates `model` on 8 GPUs.\n",
    "# This assumes that your machine has 8 available GPUs.\n",
    "parallel_model = multi_gpu_model(model, gpus=8)\n",
    "parallel_model.compile(loss=WeightedBinaryCrossEntropy(POS_RATIO),\n",
    "              optimizer='rmsprop',\n",
    "              metrics=['binary_accuracy', f1])\n",
    "\n",
    "# This `fit` call will be distributed on 8 GPUs.\n",
    "# Since the batch size is 256, each GPU will process 32 samples.\n",
    "history = parallel_model.fit(\n",
    "    {'meta': meta_train, 'titles': title_train, 'descs': desc_train, 'wordindex': x_train},\n",
    "    y_train, \n",
    "    validation_data=([meta_dev, title_dev, desc_dev, x_dev], y_dev), \n",
    "    epochs=10, batch_size=128, callbacks=[early_stopping]\n",
    ")\n",
    "\n",
    "\n",
    "# history = model.fit(\n",
    "#     {'meta': metax_train, 'titles': titlex_train, 'descs': descx_train, 'wordindex': x_train},\n",
    "#     y_train, \n",
    "#     validation_data=([metax_dev, titlex_dev, descx_dev, x_dev], y_dev), \n",
    "#     epochs=10, batch_size=128, callbacks=[early_stopping]\n",
    "# )"
   ]
  },
  {
   "cell_type": "code",
   "execution_count": 97,
   "metadata": {
    "scrolled": true
   },
   "outputs": [
    {
     "data": {
      "text/plain": [
       "dict_keys(['val_loss', 'val_binary_accuracy', 'val_f1', 'loss', 'binary_accuracy', 'f1'])"
      ]
     },
     "execution_count": 97,
     "metadata": {},
     "output_type": "execute_result"
    }
   ],
   "source": [
    "history_dict = history.history\n",
    "history_dict.keys()"
   ]
  },
  {
   "cell_type": "code",
   "execution_count": 98,
   "metadata": {
    "scrolled": true
   },
   "outputs": [
    {
     "data": {
      "image/png": "[encoded data removed]",
      "text/plain": [
       "<matplotlib.figure.Figure at 0x7fa895017128>"
      ]
     },
     "metadata": {},
     "output_type": "display_data"
    }
   ],
   "source": [
    "loss_values = history_dict['loss']\n",
    "val_loss_values = history_dict['val_loss']\n",
    "\n",
    "epochs = range(1, 6)\n",
    "\n",
    "plt.plot(epochs, loss_values, 'bo', label='Training loss')           \n",
    "plt.plot(epochs, val_loss_values, 'b', label='Validation loss')      \n",
    "plt.title('Training and validation loss')\n",
    "plt.xlabel('Epochs')\n",
    "plt.ylabel('Loss')\n",
    "plt.legend()\n",
    "\n",
    "plt.show()"
   ]
  },
  {
   "cell_type": "code",
   "execution_count": 99,
   "metadata": {
    "scrolled": true
   },
   "outputs": [
    {
     "data": {
      "image/png": "[encoded data removed]",
      "text/plain": [
       "<matplotlib.figure.Figure at 0x7fa87f4b4588>"
      ]
     },
     "metadata": {},
     "output_type": "display_data"
    }
   ],
   "source": [
    "plt.clf()    \n",
    "\n",
    "f1_values = history_dict['f1']\n",
    "val_f1_values = history_dict['val_f1']\n",
    "\n",
    "plt.plot(epochs, f1_values, 'bo', label='Training f1')\n",
    "plt.plot(epochs, val_f1_values, 'b', label='Validation f1')\n",
    "plt.title('Training and validation batch-level f1-micro')\n",
    "plt.xlabel('Epochs')\n",
    "plt.ylabel('F1-micro')\n",
    "plt.legend()\n",
    "\n",
    "plt.show()"
   ]
  },
  {
   "cell_type": "markdown",
   "metadata": {},
   "source": [
    "### Save results arrays"
   ]
  },
  {
   "cell_type": "code",
   "execution_count": 100,
   "metadata": {},
   "outputs": [],
   "source": [
    "def to_file(array,name):\n",
    "    df = pd.DataFrame(data = array.tolist(),columns=[i for i in range(1,211)])\n",
    "    df.to_csv(os.path.join(DATADIR, name+'_results.csv.gz'),compression='gzip',index=False)"
   ]
  },
  {
   "cell_type": "code",
   "execution_count": 101,
   "metadata": {},
   "outputs": [
    {
     "data": {
      "text/plain": [
       "'_2027_1902_'"
      ]
     },
     "execution_count": 101,
     "metadata": {},
     "output_type": "execute_result"
    }
   ],
   "source": [
    "date_run = time.strftime(\"_%H%M_%d%m_\")\n",
    "date_run"
   ]
  },
  {
   "cell_type": "code",
   "execution_count": null,
   "metadata": {},
   "outputs": [],
   "source": [
    "y_prob = parallel_model.predict([meta_train, title_train, desc_train, x_train])\n",
    "to_file(y_prob,\"train\"+date_run)"
   ]
  },
  {
   "cell_type": "code",
   "execution_count": null,
   "metadata": {},
   "outputs": [],
   "source": [
    "y_pred = y_prob.copy()\n",
    "y_pred[y_pred>=P_THRESHOLD] = 1\n",
    "y_pred[y_pred<P_THRESHOLD] = 0"
   ]
  },
  {
   "cell_type": "code",
   "execution_count": 111,
   "metadata": {
    "scrolled": true
   },
   "outputs": [
    {
     "name": "stdout",
     "output_type": "stream",
     "text": [
      "micro: (0.96726349643587128, 0.96235299262730922, 0.96480199638648212, None)\n"
     ]
    },
    {
     "name": "stderr",
     "output_type": "stream",
     "text": [
      "/home/ubuntu/anaconda3/envs/tensorflow_p36/lib/python3.6/site-packages/sklearn/metrics/classification.py:1135: UndefinedMetricWarning: Precision and F-score are ill-defined and being set to 0.0 in labels with no predicted samples.\n",
      "  'precision', 'predicted', average, warn_for)\n",
      "/home/ubuntu/anaconda3/envs/tensorflow_p36/lib/python3.6/site-packages/sklearn/metrics/classification.py:1137: UndefinedMetricWarning: Recall and F-score are ill-defined and being set to 0.0 in labels with no true samples.\n",
      "  'recall', 'true', average, warn_for)\n"
     ]
    },
    {
     "name": "stdout",
     "output_type": "stream",
     "text": [
      "macro: (0.97385982784733049, 0.97644244667767566, 0.97501517154483019, None)\n",
      "weightedmacro: (0.9671823202370059, 0.96235299262730922, 0.96461221996542335, None)\n"
     ]
    }
   ],
   "source": [
    "print('micro: {}'.format(precision_recall_fscore_support(y_train, y_pred, average='micro', sample_weight=None)))\n",
    "print('macro: {}'.format(precision_recall_fscore_support(y_train, y_pred, average='macro', sample_weight=None)))\n",
    "print('weightedmacro: {}'.format(precision_recall_fscore_support(y_train, y_pred, average='weighted', sample_weight=None)))"
   ]
  },
  {
   "cell_type": "code",
   "execution_count": 113,
   "metadata": {},
   "outputs": [],
   "source": [
    "y_prob_dev = parallel_model.predict([meta_dev, title_dev, desc_dev, x_dev])"
   ]
  },
  {
   "cell_type": "code",
   "execution_count": 114,
   "metadata": {},
   "outputs": [],
   "source": [
    "to_file(y_prob_dev,\"dev\"+date_run)"
   ]
  },
  {
   "cell_type": "code",
   "execution_count": 115,
   "metadata": {},
   "outputs": [],
   "source": [
    "y_pred_dev = y_prob_dev.copy()\n",
    "y_pred_dev[y_pred_dev>=P_THRESHOLD] = 1\n",
    "y_pred_dev[y_pred_dev<P_THRESHOLD] = 0"
   ]
  },
  {
   "cell_type": "code",
   "execution_count": 116,
   "metadata": {
    "scrolled": true
   },
   "outputs": [
    {
     "name": "stdout",
     "output_type": "stream",
     "text": [
      "micro: (0.79352899295941781, 0.75906167234203559, 0.77591274752475248, None)\n",
      "macro: (0.57776813889974488, 0.53845961601395609, 0.53595941443839901, None)\n",
      "weightedmacro: (0.79543436553999813, 0.75906167234203559, 0.77365213759602569, None)\n"
     ]
    },
    {
     "name": "stderr",
     "output_type": "stream",
     "text": [
      "/home/ubuntu/anaconda3/envs/tensorflow_p36/lib/python3.6/site-packages/sklearn/metrics/classification.py:1135: UndefinedMetricWarning: Precision and F-score are ill-defined and being set to 0.0 in labels with no predicted samples.\n",
      "  'precision', 'predicted', average, warn_for)\n",
      "/home/ubuntu/anaconda3/envs/tensorflow_p36/lib/python3.6/site-packages/sklearn/metrics/classification.py:1137: UndefinedMetricWarning: Recall and F-score are ill-defined and being set to 0.0 in labels with no true samples.\n",
      "  'recall', 'true', average, warn_for)\n"
     ]
    }
   ],
   "source": [
    "print('micro: {}'.format(precision_recall_fscore_support(y_dev, y_pred_dev, average='micro', sample_weight=None)))\n",
    "print('macro: {}'.format(precision_recall_fscore_support(y_dev, y_pred_dev, average='macro', sample_weight=None)))\n",
    "print('weightedmacro: {}'.format(precision_recall_fscore_support(y_dev, y_pred_dev, average='weighted', sample_weight=None)))"
   ]
  },
  {
   "cell_type": "code",
   "execution_count": 119,
   "metadata": {},
   "outputs": [
    {
     "name": "stdout",
     "output_type": "stream",
     "text": [
      "weightedmacro: (array([ 0.5       ,  1.        ,  1.        ,  0.75      ,  0.        ,\n",
      "        0.75      ,  1.        ,  0.80555556,  0.        ,  1.        ,\n",
      "        1.        ,  0.76190476,  0.5       ,  0.        ,  0.57407407,\n",
      "        0.5       ,  0.72727273,  0.        ,  0.        ,  0.8440367 ,\n",
      "        0.83974359,  0.63243243,  0.83950617,  0.        ,  0.66666667,\n",
      "        1.        ,  1.        ,  1.        ,  0.76470588,  1.        ,\n",
      "        0.81818182,  1.        ,  0.        ,  0.65714286,  0.83878505,\n",
      "        0.5       ,  0.75170068,  0.5       ,  0.61538462,  0.65789474,\n",
      "        0.        ,  0.71794872,  0.33333333,  0.        ,  0.33333333,\n",
      "        1.        ,  0.        ,  0.91304348,  0.75333333,  1.        ,\n",
      "        1.        ,  0.27272727,  0.        ,  0.        ,  0.66666667,\n",
      "        0.        ,  0.        ,  0.85981308,  0.18181818,  0.71551724,\n",
      "        0.6875    ,  1.        ,  0.5       ,  0.52272727,  0.        ,\n",
      "        0.69590643,  0.        ,  0.66666667,  0.5625    ,  0.        ,\n",
      "        1.        ,  0.4       ,  0.66666667,  0.86111111,  0.86607143,\n",
      "        0.83214286,  0.        ,  0.72727273,  0.8125    ,  0.88888889,\n",
      "        0.91616766,  0.85015609,  0.        ,  0.63473054,  0.        ,\n",
      "        0.33333333,  0.8       ,  0.5       ,  0.        ,  0.84911243,\n",
      "        0.80139373,  0.62711864,  0.8       ,  0.5       ,  0.89361702,\n",
      "        0.93852459,  0.42857143,  1.        ,  0.56521739,  0.5       ,\n",
      "        0.76744186,  0.        ,  0.25      ,  0.6       ,  0.        ,\n",
      "        0.5       ,  0.9375    ,  1.        ,  0.        ,  0.66666667,\n",
      "        0.        ,  0.4       ,  0.78773585,  0.75757576,  0.52941176,\n",
      "        0.39285714,  0.73684211,  0.91666667,  0.96      ,  1.        ,\n",
      "        0.80519481,  0.        ,  0.55555556,  0.        ,  0.        ,\n",
      "        0.33333333,  0.        ,  0.7       ,  0.78587196,  1.        ,\n",
      "        0.73846154,  0.84684685,  0.        ,  0.5       ,  1.        ,\n",
      "        1.        ,  0.5       ,  0.67391304,  0.82758621,  0.        ,\n",
      "        0.64705882,  0.70833333,  0.42857143,  1.        ,  0.        ,\n",
      "        1.        ,  0.92979127,  0.        ,  0.        ,  0.60869565,\n",
      "        0.875     ,  0.54285714,  0.55555556,  0.5       ,  0.50909091,\n",
      "        0.80208333,  0.74853801,  0.59183673,  0.46666667,  0.78571429,\n",
      "        0.94160584,  0.87165775,  0.76190476,  0.        ,  0.        ,\n",
      "        0.4375    ,  0.        ,  0.64545455,  0.71428571,  0.75925926,\n",
      "        0.2       ,  0.        ,  0.5       ,  1.        ,  0.76923077,\n",
      "        0.66666667,  0.66666667,  0.83838384,  0.33333333,  0.42857143,\n",
      "        0.8372093 ,  0.8       ,  0.87931034,  0.83333333,  1.        ,\n",
      "        0.        ,  0.5       ,  0.96296296,  1.        ,  0.        ,\n",
      "        0.71776156,  0.5       ,  0.47826087,  0.        ,  0.57142857,\n",
      "        0.63157895,  0.6875    ,  1.        ,  0.92964824,  0.79527559,\n",
      "        0.63265306,  0.25      ,  0.        ,  0.82098765,  1.        ,\n",
      "        0.8125    ,  1.        ,  0.        ,  0.875     ,  0.94170404]), array([ 1.        ,  0.33333333,  0.54545455,  0.5       ,  0.        ,\n",
      "        0.64285714,  1.        ,  0.74358974,  0.        ,  1.        ,\n",
      "        0.33333333,  0.66666667,  0.2       ,  0.        ,  0.62      ,\n",
      "        1.        ,  0.44444444,  0.        ,  0.        ,  0.78632479,\n",
      "        0.79154079,  0.67241379,  0.88695652,  0.        ,  0.5       ,\n",
      "        0.33333333,  0.5       ,  0.75      ,  1.        ,  0.94444444,\n",
      "        0.5625    ,  0.125     ,  0.        ,  0.58974359,  0.78901099,\n",
      "        0.57142857,  0.63505747,  0.5       ,  0.72727273,  0.53763441,\n",
      "        0.        ,  0.49122807,  0.5       ,  0.        ,  0.57894737,\n",
      "        0.08333333,  0.        ,  0.84      ,  0.75838926,  1.        ,\n",
      "        1.        ,  0.375     ,  0.        ,  0.        ,  0.5       ,\n",
      "        0.        ,  0.        ,  0.8440367 ,  0.25      ,  0.61940299,\n",
      "        0.73333333,  1.        ,  0.33333333,  0.56097561,  0.        ,\n",
      "        0.62962963,  0.        ,  0.6       ,  0.5       ,  0.        ,\n",
      "        0.8       ,  0.66666667,  0.70833333,  0.91176471,  0.89814815,\n",
      "        0.81754386,  0.        ,  0.64150943,  0.65      ,  0.88888889,\n",
      "        0.84530387,  0.82608696,  0.        ,  0.58241758,  0.        ,\n",
      "        0.2       ,  1.        ,  0.75      ,  0.        ,  0.83673469,\n",
      "        0.75409836,  0.69811321,  0.66666667,  0.35294118,  0.78504673,\n",
      "        0.84814815,  0.54545455,  0.25      ,  0.56521739,  0.25      ,\n",
      "        0.76744186,  0.        ,  1.        ,  0.9       ,  0.        ,\n",
      "        0.75      ,  1.        ,  0.25      ,  0.        ,  0.66666667,\n",
      "        0.        ,  0.5       ,  0.71367521,  0.64102564,  0.72      ,\n",
      "        0.52380952,  0.93333333,  0.85714286,  0.95238095,  0.4       ,\n",
      "        0.60194175,  0.        ,  1.        ,  0.        ,  0.        ,\n",
      "        0.5       ,  0.        ,  0.875     ,  0.86407767,  0.375     ,\n",
      "        0.61016949,  0.86238532,  0.        ,  0.5       ,  1.        ,\n",
      "        0.2       ,  0.25      ,  0.63265306,  0.91139241,  0.        ,\n",
      "        0.77777778,  0.73913043,  1.        ,  1.        ,  0.        ,\n",
      "        0.66666667,  0.90405904,  0.        ,  0.        ,  0.60869565,\n",
      "        0.84677419,  0.53521127,  0.55555556,  0.6       ,  0.59574468,\n",
      "        0.76237624,  0.76646707,  0.85294118,  0.58333333,  0.75862069,\n",
      "        0.86577181,  0.74429224,  0.81355932,  0.        ,  0.        ,\n",
      "        0.63636364,  0.        ,  0.63392857,  0.76923077,  0.56944444,\n",
      "        0.25      ,  0.        ,  0.6       ,  0.8       ,  0.45454545,\n",
      "        0.75      ,  0.3       ,  0.88297872,  0.66666667,  0.33333333,\n",
      "        0.77192982,  0.8       ,  0.73913043,  0.83333333,  0.5       ,\n",
      "        0.        ,  1.        ,  0.97196262,  0.33333333,  0.        ,\n",
      "        0.68524971,  1.        ,  0.42307692,  0.        ,  0.8       ,\n",
      "        0.70588235,  0.78571429,  1.        ,  0.925     ,  0.77099237,\n",
      "        0.72093023,  0.14285714,  0.        ,  0.78698225,  1.        ,\n",
      "        0.54166667,  0.33333333,  0.        ,  1.        ,  0.95454545]), array([ 0.66666667,  0.5       ,  0.70588235,  0.6       ,  0.        ,\n",
      "        0.69230769,  1.        ,  0.77333333,  0.        ,  1.        ,\n",
      "        0.5       ,  0.71111111,  0.28571429,  0.        ,  0.59615385,\n",
      "        0.66666667,  0.55172414,  0.        ,  0.        ,  0.81415929,\n",
      "        0.81493002,  0.65181058,  0.86257928,  0.        ,  0.57142857,\n",
      "        0.5       ,  0.66666667,  0.85714286,  0.86666667,  0.97142857,\n",
      "        0.66666667,  0.22222222,  0.        ,  0.62162162,  0.81313703,\n",
      "        0.53333333,  0.68847352,  0.5       ,  0.66666667,  0.59171598,\n",
      "        0.        ,  0.58333333,  0.4       ,  0.        ,  0.42307692,\n",
      "        0.15384615,  0.        ,  0.875     ,  0.75585284,  1.        ,\n",
      "        1.        ,  0.31578947,  0.        ,  0.        ,  0.57142857,\n",
      "        0.        ,  0.        ,  0.85185185,  0.21052632,  0.664     ,\n",
      "        0.70967742,  1.        ,  0.4       ,  0.54117647,  0.        ,\n",
      "        0.66111111,  0.        ,  0.63157895,  0.52941176,  0.        ,\n",
      "        0.88888889,  0.5       ,  0.68686869,  0.88571429,  0.88181818,\n",
      "        0.82477876,  0.        ,  0.68170426,  0.72222222,  0.88888889,\n",
      "        0.87931034,  0.83794872,  0.        ,  0.60744986,  0.        ,\n",
      "        0.25      ,  0.88888889,  0.6       ,  0.        ,  0.84287812,\n",
      "        0.77702703,  0.66071429,  0.72727273,  0.4137931 ,  0.8358209 ,\n",
      "        0.89105058,  0.48      ,  0.4       ,  0.56521739,  0.33333333,\n",
      "        0.76744186,  0.        ,  0.4       ,  0.72      ,  0.        ,\n",
      "        0.6       ,  0.96774194,  0.4       ,  0.        ,  0.66666667,\n",
      "        0.        ,  0.44444444,  0.74887892,  0.69444444,  0.61016949,\n",
      "        0.44897959,  0.82352941,  0.88590604,  0.9561753 ,  0.57142857,\n",
      "        0.68888889,  0.        ,  0.71428571,  0.        ,  0.        ,\n",
      "        0.4       ,  0.        ,  0.77777778,  0.82312139,  0.54545455,\n",
      "        0.66821346,  0.85454545,  0.        ,  0.5       ,  1.        ,\n",
      "        0.33333333,  0.33333333,  0.65263158,  0.86746988,  0.        ,\n",
      "        0.70642202,  0.72340426,  0.6       ,  1.        ,  0.        ,\n",
      "        0.8       ,  0.91674462,  0.        ,  0.        ,  0.60869565,\n",
      "        0.86065574,  0.53900709,  0.55555556,  0.54545455,  0.54901961,\n",
      "        0.78172589,  0.75739645,  0.69879518,  0.51851852,  0.77192982,\n",
      "        0.9020979 ,  0.80295567,  0.78688525,  0.        ,  0.        ,\n",
      "        0.51851852,  0.        ,  0.63963964,  0.74074074,  0.65079365,\n",
      "        0.22222222,  0.        ,  0.54545455,  0.88888889,  0.57142857,\n",
      "        0.70588235,  0.4137931 ,  0.86010363,  0.44444444,  0.375     ,\n",
      "        0.80324544,  0.8       ,  0.80314961,  0.83333333,  0.66666667,\n",
      "        0.        ,  0.66666667,  0.96744186,  0.5       ,  0.        ,\n",
      "        0.70112894,  0.66666667,  0.44897959,  0.        ,  0.66666667,\n",
      "        0.66666667,  0.73333333,  1.        ,  0.9273183 ,  0.78294574,\n",
      "        0.67391304,  0.18181818,  0.        ,  0.80362538,  1.        ,\n",
      "        0.65      ,  0.5       ,  0.        ,  0.93333333,  0.94808126]), array([  1,   3,  11,   6,   0,  14,   1, 117,   2,   4,   3,  24,   5,\n",
      "         0,  50,   1,  18,   1,   0, 117, 993, 174, 230,   0,   4,   3,\n",
      "         2,   4,  13,  18,  16,   8,   0,  39, 455,  21, 348,   8,  11,\n",
      "        93,   1,  57,   2,   1,  19,  12,   1,  25, 149,   1,   2,   8,\n",
      "         0,   1,   4,   2,   1, 109,   8, 134,  15,   1,  12,  41,   0,\n",
      "       189,   2,  10,  18,   0,  10,   3,  48,  34, 108, 285,   0, 212,\n",
      "        20,   9, 181, 989,   1, 182,   2,   5,   4,  20,   1, 343, 305,\n",
      "        53,   6,  34, 107, 270,  11,   4,  23,   4,  43,   1,   3,  10,\n",
      "         2,   4,  15,   4,   1,   3,   0,   4, 234,  39,  25,  21,  15,\n",
      "        77, 126,   5, 103,   1,  10,   0,   2,   2,   3,   8, 412,   8,\n",
      "       236, 109,   2,   8,   1,   5,   4,  49,  79,   2,  99,  46,   3,\n",
      "         3,   0,   3, 542,   0,   1,  23, 124,  71,   9,   5,  47, 101,\n",
      "       167,  34,  12,  58, 149, 219,  59,   1,   0,  11,   0, 112,  26,\n",
      "        72,   4,   0,   5,  10,  22,   8,  20,  94,   3,   9, 513,   5,\n",
      "        69,   6,   4,   3,   1, 107,   3,   1, 861,   1,  26,   0,   5,\n",
      "        17,  14,   1, 200, 131,  43,   7,   2, 169,   1,  24,   3,   6,\n",
      "         7, 220]))\n"
     ]
    },
    {
     "name": "stderr",
     "output_type": "stream",
     "text": [
      "/home/ubuntu/anaconda3/envs/tensorflow_p36/lib/python3.6/site-packages/sklearn/metrics/classification.py:1135: UndefinedMetricWarning: Precision and F-score are ill-defined and being set to 0.0 in labels with no predicted samples.\n",
      "  'precision', 'predicted', average, warn_for)\n",
      "/home/ubuntu/anaconda3/envs/tensorflow_p36/lib/python3.6/site-packages/sklearn/metrics/classification.py:1137: UndefinedMetricWarning: Recall and F-score are ill-defined and being set to 0.0 in labels with no true samples.\n",
      "  'recall', 'true', average, warn_for)\n"
     ]
    }
   ],
   "source": [
    "print('weightedmacro: {}'.format(precision_recall_fscore_support(y_dev, y_pred_dev, average=None, sample_weight=None)))"
   ]
  },
  {
   "cell_type": "code",
   "execution_count": 105,
   "metadata": {},
   "outputs": [],
   "source": [
    "to_file(y_train,\"true_train\"+date_run)"
   ]
  },
  {
   "cell_type": "code",
   "execution_count": 106,
   "metadata": {},
   "outputs": [],
   "source": [
    "to_file(y_dev,\"true_dev\"+date_run)"
   ]
  },
  {
   "cell_type": "code",
   "execution_count": null,
   "metadata": {},
   "outputs": [],
   "source": []
  }
 ],
 "metadata": {
  "keep_output": true,
  "kernelspec": {
   "display_name": "Environment (conda_tensorflow_p36)",
   "language": "python",
   "name": "conda_tensorflow_p36"
  },
  "language_info": {
   "codemirror_mode": {
    "name": "ipython",
    "version": 3
   },
   "file_extension": ".py",
   "mimetype": "text/x-python",
   "name": "python",
   "nbconvert_exporter": "python",
   "pygments_lexer": "ipython3",
   "version": "3.6.3"
  }
 },
 "nbformat": 4,
 "nbformat_minor": 2
}
