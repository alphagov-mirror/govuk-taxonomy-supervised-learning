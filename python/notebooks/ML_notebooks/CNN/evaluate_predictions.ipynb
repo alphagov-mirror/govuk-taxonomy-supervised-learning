{
 "cells": [
  {
   "cell_type": "code",
   "execution_count": 10,
   "metadata": {
    "scrolled": false
   },
   "outputs": [],
   "source": [
    "import pandas as pd\n",
    "import numpy as np\n",
    "import os\n",
    "\n",
    "from sklearn.metrics import confusion_matrix, f1_score, precision_score, recall_score \n",
    "from sklearn.metrics import precision_recall_fscore_support, classification_report\n",
    "\n",
    "import matplotlib.pyplot as plt\n",
    "%matplotlib inline\n",
    "\n",
    "import functools\n",
    "\n",
    "import h5py"
   ]
  },
  {
   "cell_type": "code",
   "execution_count": 11,
   "metadata": {
    "scrolled": true
   },
   "outputs": [],
   "source": [
    "P_THRESHOLD=0.5"
   ]
  },
  {
   "cell_type": "markdown",
   "metadata": {},
   "source": [
    "### Which data"
   ]
  },
  {
   "cell_type": "code",
   "execution_count": 12,
   "metadata": {
    "scrolled": false
   },
   "outputs": [],
   "source": [
    "DATADIR = os.getenv('DATADIR')"
   ]
  },
  {
   "cell_type": "code",
   "execution_count": 13,
   "metadata": {
    "scrolled": true
   },
   "outputs": [
    {
     "name": "stdout",
     "output_type": "stream",
     "text": [
      "model v2.0.0 was run on data dated /data/2018-03-22\n"
     ]
    }
   ],
   "source": [
    "print(\"model v2.0.0 was run on data dated {}\".format(DATADIR))"
   ]
  },
  {
   "cell_type": "markdown",
   "metadata": {},
   "source": [
    "### Get full content to enable total counts"
   ]
  },
  {
   "cell_type": "code",
   "execution_count": 14,
   "metadata": {},
   "outputs": [],
   "source": [
    "full_content = pd.read_csv(\n",
    "    os.path.join(DATADIR, 'full_content.csv.gz'),\n",
    "    dtype=object,\n",
    "    compression='gzip'\n",
    ")"
   ]
  },
  {
   "cell_type": "code",
   "execution_count": 15,
   "metadata": {},
   "outputs": [
    {
     "data": {
      "text/plain": [
       "(197951, 25)"
      ]
     },
     "execution_count": 15,
     "metadata": {},
     "output_type": "execute_result"
    }
   ],
   "source": [
    "full_content.shape"
   ]
  },
  {
   "cell_type": "code",
   "execution_count": 16,
   "metadata": {},
   "outputs": [
    {
     "data": {
      "text/plain": [
       "Index(['base_path', 'content_id', 'content_purpose_document_supertype',\n",
       "       'content_purpose_subgroup', 'content_purpose_supergroup', 'description',\n",
       "       'details', 'document_type', 'email_document_supertype',\n",
       "       'first_published_at', 'government_document_supertype', 'locale',\n",
       "       'navigation_document_supertype', 'public_updated_at', 'publishing_app',\n",
       "       'publishing_scheduled_at', 'search_user_need_document_supertype',\n",
       "       'title', 'updated_at', 'user_journey_document_supertype',\n",
       "       'document_type_gp', 'taxons', 'primary_publishing_organisation', 'body',\n",
       "       'combined_text'],\n",
       "      dtype='object')"
      ]
     },
     "execution_count": 16,
     "metadata": {},
     "output_type": "execute_result"
    }
   ],
   "source": [
    "full_content.columns"
   ]
  },
  {
   "cell_type": "code",
   "execution_count": 17,
   "metadata": {},
   "outputs": [
    {
     "data": {
      "text/plain": [
       "197951"
      ]
     },
     "execution_count": 17,
     "metadata": {},
     "output_type": "execute_result"
    }
   ],
   "source": [
    "full_content.content_id.nunique()"
   ]
  },
  {
   "cell_type": "markdown",
   "metadata": {},
   "source": [
    "### Get mappings of taxon2 code to taxon2 string"
   ]
  },
  {
   "cell_type": "code",
   "execution_count": 18,
   "metadata": {
    "scrolled": true
   },
   "outputs": [],
   "source": [
    "labelled_level2 = pd.read_csv(\n",
    "    os.path.join(DATADIR, 'labelled_level2.csv.gz'),\n",
    "    dtype=object,\n",
    "    compression='gzip'\n",
    ")# Create World taxon in case any items not identified \n",
    "# through doc type in clean_content are still present\n",
    "labelled_level2.loc[labelled_level2['level1taxon'] == 'World', 'level2taxon'] = 'world_level1'\n",
    "\n",
    "# creating categorical variable for level2taxons from values\n",
    "labelled_level2['level2taxon'] = labelled_level2['level2taxon'].astype('category')\n",
    "\n",
    "# Add 1 because of zero-indexing to get 1-number of level2taxons as numerical targets\n",
    "labelled_level2['level2taxon_code'] = labelled_level2.level2taxon.astype('category').cat.codes + 1\n",
    "\n",
    "# create dictionary of taxon category code to string label for use in model evaluation\n",
    "labels_index = dict(zip((labelled_level2['level2taxon_code']),\n",
    "                        labelled_level2['level2taxon']))"
   ]
  },
  {
   "cell_type": "code",
   "execution_count": 19,
   "metadata": {},
   "outputs": [
    {
     "data": {
      "text/plain": [
       "(180391, 33)"
      ]
     },
     "execution_count": 19,
     "metadata": {},
     "output_type": "execute_result"
    }
   ],
   "source": [
    "labelled_level2.shape"
   ]
  },
  {
   "cell_type": "code",
   "execution_count": 20,
   "metadata": {
    "scrolled": true
   },
   "outputs": [
    {
     "data": {
      "text/plain": [
       "2725"
      ]
     },
     "execution_count": 20,
     "metadata": {},
     "output_type": "execute_result"
    }
   ],
   "source": [
    "labelled_level2.taxon_id.nunique()"
   ]
  },
  {
   "cell_type": "code",
   "execution_count": 21,
   "metadata": {
    "scrolled": true
   },
   "outputs": [
    {
     "data": {
      "text/plain": [
       "129611"
      ]
     },
     "execution_count": 21,
     "metadata": {},
     "output_type": "execute_result"
    }
   ],
   "source": [
    "labelled_level2.content_id.nunique()"
   ]
  },
  {
   "cell_type": "markdown",
   "metadata": {},
   "source": [
    "### read in predictions & content_id array"
   ]
  },
  {
   "cell_type": "markdown",
   "metadata": {},
   "source": [
    "#### new"
   ]
  },
  {
   "cell_type": "code",
   "execution_count": 22,
   "metadata": {
    "scrolled": true
   },
   "outputs": [],
   "source": [
    "new_pred = pd.read_csv(\n",
    "    os.path.join(DATADIR, 'new_predictions_1226_2203_.csv.gz'),\n",
    "    dtype=object,\n",
    "    compression='gzip'\n",
    ")"
   ]
  },
  {
   "cell_type": "code",
   "execution_count": 23,
   "metadata": {
    "scrolled": true
   },
   "outputs": [],
   "source": [
    "new_arrays = np.load(os.path.join(DATADIR, 'new_arrays.npz'))"
   ]
  },
  {
   "cell_type": "code",
   "execution_count": 24,
   "metadata": {
    "scrolled": true
   },
   "outputs": [],
   "source": [
    "if new_arrays['content_id'].shape[0] == new_pred.shape[0]:\n",
    "    new_pred['content_id'] = new_arrays['content_id']\n",
    "else:\n",
    "    print(\"warning: true_train and content_id may not originate from same data\")\n",
    "    \n",
    "    "
   ]
  },
  {
   "cell_type": "code",
   "execution_count": 25,
   "metadata": {},
   "outputs": [
    {
     "data": {
      "text/plain": [
       "(56568, 218)"
      ]
     },
     "execution_count": 25,
     "metadata": {},
     "output_type": "execute_result"
    }
   ],
   "source": [
    "new_pred.shape"
   ]
  },
  {
   "cell_type": "code",
   "execution_count": 26,
   "metadata": {},
   "outputs": [
    {
     "data": {
      "text/plain": [
       "Index(['1', '2', '3', '4', '5', '6', '7', '8', '9', '10',\n",
       "       ...\n",
       "       '209', '210', '211', '212', '213', '214', '215', '216', '217',\n",
       "       'content_id'],\n",
       "      dtype='object', length=218)"
      ]
     },
     "execution_count": 26,
     "metadata": {},
     "output_type": "execute_result"
    }
   ],
   "source": [
    "new_pred.columns"
   ]
  },
  {
   "cell_type": "markdown",
   "metadata": {},
   "source": [
    "#### level1"
   ]
  },
  {
   "cell_type": "code",
   "execution_count": 27,
   "metadata": {
    "scrolled": true
   },
   "outputs": [],
   "source": [
    "level1_pred = pd.read_csv(\n",
    "    os.path.join(DATADIR, 'level1_predictions_1226_2203_.csv.gz'),\n",
    "    dtype=object,\n",
    "    compression='gzip'\n",
    ")"
   ]
  },
  {
   "cell_type": "code",
   "execution_count": 28,
   "metadata": {
    "scrolled": true
   },
   "outputs": [],
   "source": [
    "level1_arrays = np.load(os.path.join(DATADIR, 'level1_arrays.npz'))"
   ]
  },
  {
   "cell_type": "code",
   "execution_count": 29,
   "metadata": {
    "scrolled": true
   },
   "outputs": [],
   "source": [
    "if level1_arrays['content_id'].shape[0] == level1_pred.shape[0]:\n",
    "    level1_pred['content_id'] = level1_arrays['content_id']\n",
    "else:\n",
    "    print(\"warning: true_train and content_id may not originate from same data\")\n",
    "    \n",
    "    "
   ]
  },
  {
   "cell_type": "code",
   "execution_count": 30,
   "metadata": {},
   "outputs": [
    {
     "data": {
      "text/plain": [
       "(17937, 218)"
      ]
     },
     "execution_count": 30,
     "metadata": {},
     "output_type": "execute_result"
    }
   ],
   "source": [
    "level1_pred.shape"
   ]
  },
  {
   "cell_type": "markdown",
   "metadata": {},
   "source": [
    "#### Predictions on all unlabelled"
   ]
  },
  {
   "cell_type": "code",
   "execution_count": 31,
   "metadata": {},
   "outputs": [],
   "source": [
    "unlabelled_pred = pd.concat([new_pred, level1_pred])"
   ]
  },
  {
   "cell_type": "code",
   "execution_count": 32,
   "metadata": {},
   "outputs": [
    {
     "data": {
      "text/plain": [
       "(74505, 218)"
      ]
     },
     "execution_count": 32,
     "metadata": {},
     "output_type": "execute_result"
    }
   ],
   "source": [
    "unlabelled_pred.shape"
   ]
  },
  {
   "cell_type": "markdown",
   "metadata": {},
   "source": [
    "### Read in and prepare metadata"
   ]
  },
  {
   "cell_type": "markdown",
   "metadata": {},
   "source": [
    "#### new"
   ]
  },
  {
   "cell_type": "code",
   "execution_count": 33,
   "metadata": {
    "scrolled": true
   },
   "outputs": [],
   "source": [
    "new_content = pd.read_csv(\n",
    "    os.path.join(DATADIR, 'new_content.csv.gz'),\n",
    "    dtype=object,\n",
    "    compression='gzip'\n",
    ")"
   ]
  },
  {
   "cell_type": "code",
   "execution_count": 34,
   "metadata": {},
   "outputs": [
    {
     "data": {
      "text/plain": [
       "(56568, 27)"
      ]
     },
     "execution_count": 34,
     "metadata": {},
     "output_type": "execute_result"
    }
   ],
   "source": [
    "new_content.shape"
   ]
  },
  {
   "cell_type": "code",
   "execution_count": 35,
   "metadata": {},
   "outputs": [
    {
     "data": {
      "text/plain": [
       "56568"
      ]
     },
     "execution_count": 35,
     "metadata": {},
     "output_type": "execute_result"
    }
   ],
   "source": [
    "new_content.content_id.nunique()"
   ]
  },
  {
   "cell_type": "code",
   "execution_count": 36,
   "metadata": {},
   "outputs": [
    {
     "data": {
      "text/plain": [
       "Index(['base_path', 'body', 'combined_text', 'content_id',\n",
       "       'content_purpose_document_supertype', 'content_purpose_subgroup',\n",
       "       'content_purpose_supergroup', 'description', 'details', 'document_type',\n",
       "       'document_type_gp', 'email_document_supertype', 'first_published_at',\n",
       "       'government_document_supertype', 'locale',\n",
       "       'navigation_document_supertype', 'primary_publishing_organisation',\n",
       "       'public_updated_at', 'publishing_app', 'publishing_scheduled_at',\n",
       "       'search_user_need_document_supertype', 'taxon_id', 'taxons', 'title',\n",
       "       'untagged_type', 'updated_at', 'user_journey_document_supertype'],\n",
       "      dtype='object')"
      ]
     },
     "execution_count": 36,
     "metadata": {},
     "output_type": "execute_result"
    }
   ],
   "source": [
    "new_content.columns"
   ]
  },
  {
   "cell_type": "code",
   "execution_count": 37,
   "metadata": {},
   "outputs": [],
   "source": [
    "new_content.drop('taxons', axis=1, inplace=True)"
   ]
  },
  {
   "cell_type": "code",
   "execution_count": 38,
   "metadata": {},
   "outputs": [
    {
     "data": {
      "text/plain": [
       "Index(['base_path', 'body', 'combined_text', 'content_id',\n",
       "       'content_purpose_document_supertype', 'content_purpose_subgroup',\n",
       "       'content_purpose_supergroup', 'description', 'details', 'document_type',\n",
       "       'document_type_gp', 'email_document_supertype', 'first_published_at',\n",
       "       'government_document_supertype', 'locale',\n",
       "       'navigation_document_supertype', 'primary_publishing_organisation',\n",
       "       'public_updated_at', 'publishing_app', 'publishing_scheduled_at',\n",
       "       'search_user_need_document_supertype', 'taxon_id', 'title',\n",
       "       'untagged_type', 'updated_at', 'user_journey_document_supertype'],\n",
       "      dtype='object')"
      ]
     },
     "execution_count": 38,
     "metadata": {},
     "output_type": "execute_result"
    }
   ],
   "source": [
    "new_content.columns"
   ]
  },
  {
   "cell_type": "code",
   "execution_count": 39,
   "metadata": {},
   "outputs": [],
   "source": [
    "new_content['level1taxon'] = ''"
   ]
  },
  {
   "cell_type": "markdown",
   "metadata": {},
   "source": [
    "#### level1 "
   ]
  },
  {
   "cell_type": "code",
   "execution_count": 40,
   "metadata": {},
   "outputs": [],
   "source": [
    "level1_content = pd.read_csv(\n",
    "    os.path.join(DATADIR, 'labelled_level1.csv.gz'),\n",
    "    dtype=object,\n",
    "    compression='gzip'\n",
    ")"
   ]
  },
  {
   "cell_type": "code",
   "execution_count": 41,
   "metadata": {},
   "outputs": [
    {
     "data": {
      "text/plain": [
       "(17937, 32)"
      ]
     },
     "execution_count": 41,
     "metadata": {},
     "output_type": "execute_result"
    }
   ],
   "source": [
    "level1_content.shape"
   ]
  },
  {
   "cell_type": "code",
   "execution_count": 42,
   "metadata": {},
   "outputs": [
    {
     "data": {
      "text/plain": [
       "17012"
      ]
     },
     "execution_count": 42,
     "metadata": {},
     "output_type": "execute_result"
    }
   ],
   "source": [
    "level1_content.content_id.nunique()"
   ]
  },
  {
   "cell_type": "code",
   "execution_count": 43,
   "metadata": {},
   "outputs": [],
   "source": [
    "level1_content['untagged_type'] = 'level1only'"
   ]
  },
  {
   "cell_type": "code",
   "execution_count": 44,
   "metadata": {
    "scrolled": true
   },
   "outputs": [
    {
     "data": {
      "text/plain": [
       "Index(['base_path', 'content_id', 'content_purpose_document_supertype',\n",
       "       'content_purpose_subgroup', 'content_purpose_supergroup', 'description',\n",
       "       'details', 'document_type', 'email_document_supertype',\n",
       "       'first_published_at', 'government_document_supertype', 'locale',\n",
       "       'navigation_document_supertype', 'public_updated_at', 'publishing_app',\n",
       "       'publishing_scheduled_at', 'search_user_need_document_supertype',\n",
       "       'title', 'updated_at', 'user_journey_document_supertype',\n",
       "       'document_type_gp', 'primary_publishing_organisation', 'body',\n",
       "       'combined_text', 'taxon_id', 'taxon_base_path', 'taxon_name',\n",
       "       'level1taxon', 'level2taxon', 'level3taxon', 'level4taxon',\n",
       "       'level5taxon', 'untagged_type'],\n",
       "      dtype='object')"
      ]
     },
     "execution_count": 44,
     "metadata": {},
     "output_type": "execute_result"
    }
   ],
   "source": [
    "level1_content.columns"
   ]
  },
  {
   "cell_type": "code",
   "execution_count": 45,
   "metadata": {},
   "outputs": [],
   "source": [
    "level1_content = level1_content[['base_path', 'body', 'combined_text', 'content_id',\n",
    "       'content_purpose_document_supertype', 'content_purpose_subgroup',\n",
    "       'content_purpose_supergroup', 'description', 'details', 'document_type',\n",
    "       'document_type_gp', 'email_document_supertype', 'first_published_at',\n",
    "       'government_document_supertype', 'locale',\n",
    "       'navigation_document_supertype', 'primary_publishing_organisation',\n",
    "       'public_updated_at', 'publishing_app', 'publishing_scheduled_at',\n",
    "       'search_user_need_document_supertype', 'taxon_id',  'title',\n",
    "       'untagged_type', 'updated_at', 'user_journey_document_supertype', 'level1taxon']]"
   ]
  },
  {
   "cell_type": "code",
   "execution_count": 46,
   "metadata": {},
   "outputs": [],
   "source": [
    "content = pd.concat([new_content, level1_content])"
   ]
  },
  {
   "cell_type": "code",
   "execution_count": 47,
   "metadata": {},
   "outputs": [
    {
     "data": {
      "text/plain": [
       "(74505, 27)"
      ]
     },
     "execution_count": 47,
     "metadata": {},
     "output_type": "execute_result"
    }
   ],
   "source": [
    "content.shape"
   ]
  },
  {
   "cell_type": "code",
   "execution_count": 48,
   "metadata": {},
   "outputs": [
    {
     "data": {
      "text/plain": [
       "73580"
      ]
     },
     "execution_count": 48,
     "metadata": {},
     "output_type": "execute_result"
    }
   ],
   "source": [
    "content.content_id.nunique()"
   ]
  },
  {
   "cell_type": "code",
   "execution_count": 49,
   "metadata": {},
   "outputs": [
    {
     "data": {
      "text/plain": [
       "untagged_type\n",
       "level1only    17937\n",
       "untagged      56568\n",
       "dtype: int64"
      ]
     },
     "execution_count": 49,
     "metadata": {},
     "output_type": "execute_result"
    }
   ],
   "source": [
    "content.groupby('untagged_type').size().sort_values()"
   ]
  },
  {
   "cell_type": "code",
   "execution_count": 50,
   "metadata": {
    "scrolled": true
   },
   "outputs": [
    {
     "data": {
      "text/plain": [
       "publishing_app\n",
       "frontend                    1\n",
       "smartanswers                6\n",
       "manuals-publisher          36\n",
       "policy-publisher          204\n",
       "hmrc-manuals-api          220\n",
       "publisher                 722\n",
       "specialist-publisher     2867\n",
       "whitehall               70449\n",
       "dtype: int64"
      ]
     },
     "execution_count": 50,
     "metadata": {},
     "output_type": "execute_result"
    }
   ],
   "source": [
    "content.groupby('publishing_app').size().sort_values()"
   ]
  },
  {
   "cell_type": "markdown",
   "metadata": {},
   "source": [
    "### Combine predictions with metadata"
   ]
  },
  {
   "cell_type": "code",
   "execution_count": 51,
   "metadata": {
    "scrolled": true
   },
   "outputs": [],
   "source": [
    "unlabelled_prob_by_id = pd.melt(unlabelled_pred, \n",
    "                        id_vars=['content_id'], var_name='taxon2', value_name='prob')"
   ]
  },
  {
   "cell_type": "code",
   "execution_count": 52,
   "metadata": {
    "scrolled": true
   },
   "outputs": [
    {
     "data": {
      "text/plain": [
       "(16167585, 3)"
      ]
     },
     "execution_count": 52,
     "metadata": {},
     "output_type": "execute_result"
    }
   ],
   "source": [
    "unlabelled_prob_by_id .shape"
   ]
  },
  {
   "cell_type": "code",
   "execution_count": 53,
   "metadata": {
    "scrolled": true
   },
   "outputs": [],
   "source": [
    "#convert from string to numeric\n",
    "unlabelled_prob_by_id ['prob'] = pd.to_numeric(unlabelled_prob_by_id ['prob'])\n",
    "unlabelled_prob_by_id ['taxon2'] = pd.to_numeric(unlabelled_prob_by_id ['taxon2'])"
   ]
  },
  {
   "cell_type": "code",
   "execution_count": 54,
   "metadata": {
    "scrolled": true
   },
   "outputs": [],
   "source": [
    "#get the label for the level2 taxon code\n",
    "unlabelled_prob_by_id ['taxon2label'] = unlabelled_prob_by_id ['taxon2'].map(labels_index)"
   ]
  },
  {
   "cell_type": "code",
   "execution_count": 55,
   "metadata": {
    "scrolled": true
   },
   "outputs": [],
   "source": [
    "unlabelled_meta = pd.merge(\n",
    "    left=unlabelled_prob_by_id ,\n",
    "    right=content,\n",
    "    on='content_id',\n",
    "    how='left',\n",
    "    indicator=True, \n",
    "    validate='m:m'\n",
    ")"
   ]
  },
  {
   "cell_type": "code",
   "execution_count": 56,
   "metadata": {
    "scrolled": true
   },
   "outputs": [
    {
     "data": {
      "text/plain": [
       "Index(['content_id', 'taxon2', 'prob', 'taxon2label', 'base_path', 'body',\n",
       "       'combined_text', 'content_purpose_document_supertype',\n",
       "       'content_purpose_subgroup', 'content_purpose_supergroup', 'description',\n",
       "       'details', 'document_type', 'document_type_gp',\n",
       "       'email_document_supertype', 'first_published_at',\n",
       "       'government_document_supertype', 'locale',\n",
       "       'navigation_document_supertype', 'primary_publishing_organisation',\n",
       "       'public_updated_at', 'publishing_app', 'publishing_scheduled_at',\n",
       "       'search_user_need_document_supertype', 'taxon_id', 'title',\n",
       "       'untagged_type', 'updated_at', 'user_journey_document_supertype',\n",
       "       'level1taxon', '_merge'],\n",
       "      dtype='object')"
      ]
     },
     "execution_count": 56,
     "metadata": {},
     "output_type": "execute_result"
    }
   ],
   "source": [
    "unlabelled_meta.columns"
   ]
  },
  {
   "cell_type": "code",
   "execution_count": 57,
   "metadata": {},
   "outputs": [
    {
     "data": {
      "text/plain": [
       "(16579017, 31)"
      ]
     },
     "execution_count": 57,
     "metadata": {},
     "output_type": "execute_result"
    }
   ],
   "source": [
    "unlabelled_meta.shape"
   ]
  },
  {
   "cell_type": "code",
   "execution_count": 58,
   "metadata": {},
   "outputs": [
    {
     "data": {
      "text/plain": [
       "73580"
      ]
     },
     "execution_count": 58,
     "metadata": {},
     "output_type": "execute_result"
    }
   ],
   "source": [
    "unlabelled_meta.content_id.nunique()"
   ]
  },
  {
   "cell_type": "markdown",
   "metadata": {},
   "source": [
    "##### categorical var for probaiblity"
   ]
  },
  {
   "cell_type": "code",
   "execution_count": 59,
   "metadata": {},
   "outputs": [],
   "source": [
    "unlabelled_meta['prob_cat'] = '>=0.8'\n",
    "unlabelled_meta.loc[unlabelled_meta['prob']<0.01, 'prob_cat'] = '<0.01'\n",
    "unlabelled_meta.loc[(unlabelled_meta['prob']>=0.01) & (unlabelled_meta['prob']<0.1), 'prob_cat'] = '0.01-0.09'\n",
    "unlabelled_meta.loc[(unlabelled_meta['prob']>=0.1) & (unlabelled_meta['prob']<0.2), 'prob_cat'] = '0.1-0.19'\n",
    "unlabelled_meta.loc[(unlabelled_meta['prob']>=0.2) & (unlabelled_meta['prob']<0.3), 'prob_cat'] = '0.2-0.29'\n",
    "unlabelled_meta.loc[(unlabelled_meta['prob']>=0.3) & (unlabelled_meta['prob']<0.4), 'prob_cat'] = '0.3-0.39'\n",
    "unlabelled_meta.loc[(unlabelled_meta['prob']>=0.4) & (unlabelled_meta['prob']<0.5), 'prob_cat'] = '0.4-0.49'\n",
    "unlabelled_meta.loc[(unlabelled_meta['prob']>=0.5) & (unlabelled_meta['prob']<0.6), 'prob_cat'] = '0.5-0.59'\n",
    "unlabelled_meta.loc[(unlabelled_meta['prob']>=0.6) & (unlabelled_meta['prob']<0.7), 'prob_cat'] = '0.6-0.69'\n",
    "unlabelled_meta.loc[(unlabelled_meta['prob']>=0.7) & (unlabelled_meta['prob']<0.8), 'prob_cat'] = '0.7-0.79'"
   ]
  },
  {
   "cell_type": "code",
   "execution_count": 60,
   "metadata": {},
   "outputs": [
    {
     "data": {
      "text/plain": [
       "prob_cat\n",
       "0.01-0.09    50593\n",
       "0.1-0.19     27283\n",
       "0.2-0.29     18070\n",
       "0.3-0.39     13592\n",
       "0.4-0.49      9952\n",
       "0.5-0.59      8180\n",
       "0.6-0.69      7399\n",
       "0.7-0.79      7378\n",
       "<0.01        73576\n",
       ">=0.8        42580\n",
       "Name: content_id, dtype: int64"
      ]
     },
     "execution_count": 60,
     "metadata": {},
     "output_type": "execute_result"
    }
   ],
   "source": [
    "unlabelled_meta.groupby(['prob_cat']).content_id.nunique()"
   ]
  },
  {
   "cell_type": "markdown",
   "metadata": {},
   "source": [
    "## Analyses\n",
    "### count content items"
   ]
  },
  {
   "cell_type": "code",
   "execution_count": 61,
   "metadata": {
    "scrolled": true
   },
   "outputs": [
    {
     "data": {
      "text/plain": [
       "untagged_type\n",
       "level1only    17012\n",
       "untagged      56568\n",
       "Name: content_id, dtype: int64"
      ]
     },
     "execution_count": 61,
     "metadata": {},
     "output_type": "execute_result"
    }
   ],
   "source": [
    "unlabelled_meta.groupby('untagged_type')['content_id'].nunique()"
   ]
  },
  {
   "cell_type": "markdown",
   "metadata": {},
   "source": [
    "### predict taxon at 50%"
   ]
  },
  {
   "cell_type": "code",
   "execution_count": 62,
   "metadata": {
    "scrolled": true
   },
   "outputs": [],
   "source": [
    "predictions = unlabelled_meta[unlabelled_meta['prob'] > 0.5]"
   ]
  },
  {
   "cell_type": "code",
   "execution_count": 63,
   "metadata": {},
   "outputs": [
    {
     "name": "stdout",
     "output_type": "stream",
     "text": [
      "55579 out of 73580 (75.53547159554228%) unlabelled content items were tagged at 50%\n"
     ]
    }
   ],
   "source": [
    "print(\"{} out of {} ({}%) unlabelled content items were tagged at 50%\".format(\n",
    "    predictions.content_id.nunique(),\n",
    "    unlabelled_meta.content_id.nunique(),\n",
    "    predictions.content_id.nunique()/unlabelled_meta.content_id.nunique()*100))"
   ]
  },
  {
   "cell_type": "code",
   "execution_count": 64,
   "metadata": {},
   "outputs": [
    {
     "name": "stdout",
     "output_type": "stream",
     "text": [
      "There would be a residual 18001 items that are hard-to-tag\n"
     ]
    }
   ],
   "source": [
    "print(\"There would be a residual {} items that are hard-to-tag\".format(\n",
    "    unlabelled_meta.content_id.nunique() - predictions.content_id.nunique()))"
   ]
  },
  {
   "cell_type": "code",
   "execution_count": 65,
   "metadata": {
    "scrolled": true
   },
   "outputs": [
    {
     "data": {
      "text/plain": [
       "untagged_type\n",
       "level1only    12968\n",
       "untagged      42611\n",
       "Name: content_id, dtype: int64"
      ]
     },
     "execution_count": 65,
     "metadata": {},
     "output_type": "execute_result"
    }
   ],
   "source": [
    "predictions.groupby('untagged_type')['content_id'].nunique()"
   ]
  },
  {
   "cell_type": "code",
   "execution_count": 66,
   "metadata": {},
   "outputs": [
    {
     "name": "stdout",
     "output_type": "stream",
     "text": [
      "the total number of items tagged to level 2 or lower would be 185190\n"
     ]
    }
   ],
   "source": [
    "print(\"the total number of items tagged to level 2 or lower would be {}\".format(\n",
    "labelled_level2.content_id.nunique() + predictions.content_id.nunique() ))"
   ]
  },
  {
   "cell_type": "code",
   "execution_count": 67,
   "metadata": {},
   "outputs": [
    {
     "name": "stdout",
     "output_type": "stream",
     "text": [
      "185190 items would be tagged to level 2 or lower out of 197951 (93.55345514799117%) in-scope items\n"
     ]
    }
   ],
   "source": [
    "print(\"{} items would be tagged to level 2 or lower out of {} ({}%) in-scope items\".format(\n",
    "labelled_level2.content_id.nunique() + predictions.content_id.nunique(), \n",
    "full_content.content_id.nunique(),\n",
    "(labelled_level2.content_id.nunique() + predictions.content_id.nunique())/full_content.content_id.nunique() * 100\n",
    "))"
   ]
  },
  {
   "cell_type": "code",
   "execution_count": 69,
   "metadata": {},
   "outputs": [
    {
     "name": "stdout",
     "output_type": "stream",
     "text": [
      "the ML would have tagged 55579  out of 197951 (28.077150405908537%) in-scope items\n"
     ]
    }
   ],
   "source": [
    "print(\"the ML would have tagged {}  out of {} ({}%) in-scope items\".format(\n",
    "predictions.content_id.nunique(), \n",
    "full_content.content_id.nunique(),\n",
    "predictions.content_id.nunique()/full_content.content_id.nunique() * 100\n",
    "))"
   ]
  },
  {
   "cell_type": "code",
   "execution_count": null,
   "metadata": {},
   "outputs": [],
   "source": [
    "full_content.content_id.nunique()"
   ]
  },
  {
   "cell_type": "markdown",
   "metadata": {},
   "source": [
    "### constrain predictions to well-performng taxons"
   ]
  },
  {
   "cell_type": "markdown",
   "metadata": {},
   "source": [
    "those with an F1 score of at least 0.8"
   ]
  },
  {
   "cell_type": "code",
   "execution_count": 73,
   "metadata": {},
   "outputs": [],
   "source": [
    "dev_metrics = pd.read_csv(\n",
    "    os.path.join(DATADIR, \"dev_metrics.csv.gz\"),\n",
    "    dtype=object,\n",
    "    compression='gzip'\n",
    ")"
   ]
  },
  {
   "cell_type": "code",
   "execution_count": 74,
   "metadata": {},
   "outputs": [],
   "source": [
    "dev_metrics['f1'] = pd.to_numeric(dev_metrics['f1'])"
   ]
  },
  {
   "cell_type": "code",
   "execution_count": 75,
   "metadata": {},
   "outputs": [],
   "source": [
    "good_taxons = dev_metrics[dev_metrics['f1']>=0.8]['taxon2label']"
   ]
  },
  {
   "cell_type": "code",
   "execution_count": 76,
   "metadata": {},
   "outputs": [],
   "source": [
    "lowrisk_predictions = predictions.loc[predictions['taxon2label'].isin(good_taxons)]"
   ]
  },
  {
   "cell_type": "code",
   "execution_count": 77,
   "metadata": {},
   "outputs": [
    {
     "data": {
      "text/plain": [
       "(45997, 32)"
      ]
     },
     "execution_count": 77,
     "metadata": {},
     "output_type": "execute_result"
    }
   ],
   "source": [
    "lowrisk_predictions.shape"
   ]
  },
  {
   "cell_type": "code",
   "execution_count": 78,
   "metadata": {},
   "outputs": [
    {
     "name": "stdout",
     "output_type": "stream",
     "text": [
      "38419 out of 73580 (52.213916825224246%) items tagged at 50% to low risk taxons\n"
     ]
    }
   ],
   "source": [
    "print(\"{} out of {} ({}%) items tagged at 50% to low risk taxons\".format(\n",
    "      lowrisk_predictions.content_id.nunique(),\n",
    "      unlabelled_meta.content_id.nunique(),\n",
    "      lowrisk_predictions.content_id.nunique()/unlabelled_meta.content_id.nunique()*100))"
   ]
  },
  {
   "cell_type": "code",
   "execution_count": 80,
   "metadata": {},
   "outputs": [
    {
     "name": "stdout",
     "output_type": "stream",
     "text": [
      "168030 items would be tagged to level 2 or lower out of 197951 (84.88464316926915%) in-scope items\n"
     ]
    }
   ],
   "source": [
    "print(\"{} items would be tagged to level 2 or lower out of {} ({}%) in-scope items\".format(\n",
    "labelled_level2.content_id.nunique() + lowrisk_predictions.content_id.nunique(), \n",
    "full_content.content_id.nunique(),\n",
    "(labelled_level2.content_id.nunique() + lowrisk_predictions.content_id.nunique())/full_content.content_id.nunique() * 100\n",
    "))"
   ]
  },
  {
   "cell_type": "code",
   "execution_count": 79,
   "metadata": {},
   "outputs": [
    {
     "name": "stdout",
     "output_type": "stream",
     "text": [
      "the ML would have tagged 38419  out of 197951 (19.408338427186525%) in-scope items\n"
     ]
    }
   ],
   "source": [
    "print(\"the ML would have tagged {}  out of {} ({}%) in-scope items\".format(\n",
    "lowrisk_predictions.content_id.nunique(), \n",
    "full_content.content_id.nunique(),\n",
    "lowrisk_predictions.content_id.nunique()/full_content.content_id.nunique() * 100\n",
    "))"
   ]
  },
  {
   "cell_type": "code",
   "execution_count": 81,
   "metadata": {},
   "outputs": [
    {
     "name": "stdout",
     "output_type": "stream",
     "text": [
      "There would be a residual 35161 items that are hard-to-tag\n"
     ]
    }
   ],
   "source": [
    "print(\"There would be a residual {} items that are hard-to-tag\".format(\n",
    "    unlabelled_meta.content_id.nunique() - lowrisk_predictions.content_id.nunique()))"
   ]
  },
  {
   "cell_type": "markdown",
   "metadata": {},
   "source": [
    "exclude UK economy but keep others, based on content strategists' appraisal of predcitions"
   ]
  },
  {
   "cell_type": "code",
   "execution_count": 83,
   "metadata": {},
   "outputs": [],
   "source": [
    "no_uk_economy = predictions.loc[predictions['taxon2label'] != 'UK economy']"
   ]
  },
  {
   "cell_type": "code",
   "execution_count": 84,
   "metadata": {},
   "outputs": [
    {
     "name": "stdout",
     "output_type": "stream",
     "text": [
      "53906 out of 73580 (73.2617559119326%) items tagged at 50% excluding UK economy\n"
     ]
    }
   ],
   "source": [
    "print(\"{} out of {} ({}%) items tagged at 50% excluding UK economy\".format(\n",
    "      no_uk_economy.content_id.nunique(),\n",
    "      unlabelled_meta.content_id.nunique(),\n",
    "      no_uk_economy.content_id.nunique()/unlabelled_meta.content_id.nunique()*100))"
   ]
  },
  {
   "cell_type": "code",
   "execution_count": 85,
   "metadata": {},
   "outputs": [
    {
     "name": "stdout",
     "output_type": "stream",
     "text": [
      "53906 out of 73580 (73.2617559119326%) items tagged at 50% excluding UK economy\n"
     ]
    }
   ],
   "source": [
    "print(\"{} out of {} ({}%) items tagged at 50% excluding UK economy\".format(\n",
    "      no_uk_economy.content_id.nunique(),\n",
    "      unlabelled_meta.content_id.nunique(),\n",
    "      no_uk_economy.content_id.nunique()/unlabelled_meta.content_id.nunique()*100))"
   ]
  },
  {
   "cell_type": "code",
   "execution_count": 86,
   "metadata": {},
   "outputs": [
    {
     "name": "stdout",
     "output_type": "stream",
     "text": [
      "183517 items would be tagged to level 2 or lower out of 197951 (92.7082964976181%) in-scope items\n"
     ]
    }
   ],
   "source": [
    "print(\"{} items would be tagged to level 2 or lower out of {} ({}%) in-scope items\".format(\n",
    "labelled_level2.content_id.nunique() + no_uk_economy.content_id.nunique(), \n",
    "full_content.content_id.nunique(),\n",
    "(labelled_level2.content_id.nunique() + no_uk_economy.content_id.nunique())/full_content.content_id.nunique() * 100\n",
    "))"
   ]
  },
  {
   "cell_type": "code",
   "execution_count": 87,
   "metadata": {},
   "outputs": [
    {
     "name": "stdout",
     "output_type": "stream",
     "text": [
      "There would be a residual 19674 items that are hard-to-tag\n"
     ]
    }
   ],
   "source": [
    "print(\"There would be a residual {} items that are hard-to-tag\".format(\n",
    "    unlabelled_meta.content_id.nunique() - no_uk_economy.content_id.nunique()))"
   ]
  },
  {
   "cell_type": "code",
   "execution_count": 88,
   "metadata": {},
   "outputs": [
    {
     "name": "stdout",
     "output_type": "stream",
     "text": [
      "the ML would have tagged 53906  out of 197951 (27.23199175553546%) in-scope items\n"
     ]
    }
   ],
   "source": [
    "print(\"the ML would have tagged {}  out of {} ({}%) in-scope items\".format(\n",
    "no_uk_economy.content_id.nunique(), \n",
    "full_content.content_id.nunique(),\n",
    "no_uk_economy.content_id.nunique()/full_content.content_id.nunique() * 100\n",
    "))"
   ]
  },
  {
   "cell_type": "markdown",
   "metadata": {},
   "source": [
    "### taxons with no content in dev set so F1=0"
   ]
  },
  {
   "cell_type": "code",
   "execution_count": null,
   "metadata": {},
   "outputs": [],
   "source": [
    "unknown_performance = dev_metrics[dev_metrics['f1']==0]['taxon2label']"
   ]
  },
  {
   "cell_type": "code",
   "execution_count": null,
   "metadata": {},
   "outputs": [],
   "source": [
    "highrisk_predictions = predictions.loc[predictions['taxon2label'].isin(unknown_performance)]"
   ]
  },
  {
   "cell_type": "code",
   "execution_count": null,
   "metadata": {},
   "outputs": [],
   "source": [
    "highrisk_predictions.shape"
   ]
  },
  {
   "cell_type": "code",
   "execution_count": null,
   "metadata": {},
   "outputs": [],
   "source": [
    "highrisk_predictions.content_id.nunique()"
   ]
  },
  {
   "cell_type": "code",
   "execution_count": null,
   "metadata": {},
   "outputs": [],
   "source": [
    "highrisk_predictions[['taxon2label', 'title', 'description', 'body']]"
   ]
  },
  {
   "cell_type": "code",
   "execution_count": null,
   "metadata": {},
   "outputs": [],
   "source": [
    "highrisk_predictions[['taxon2label', 'title', 'description', 'body']].to_csv(os.path.join(DATADIR, 'zerof1predictions.csv.gz'),compression='gzip',index=False)"
   ]
  },
  {
   "cell_type": "markdown",
   "metadata": {},
   "source": [
    "### taxons with 0.8>F1>0"
   ]
  },
  {
   "cell_type": "code",
   "execution_count": null,
   "metadata": {},
   "outputs": [],
   "source": [
    "dev_metrics[(dev_metrics['f1']<0.8) & (dev_metrics['f1']>0)]['taxon2label'].shape"
   ]
  },
  {
   "cell_type": "code",
   "execution_count": null,
   "metadata": {},
   "outputs": [],
   "source": [
    "list(dev_metrics[(dev_metrics['f1']<0.8) & (dev_metrics['f1']>0)]['taxon2label'])"
   ]
  },
  {
   "cell_type": "code",
   "execution_count": null,
   "metadata": {},
   "outputs": [],
   "source": [
    "list(dev_metrics[dev_metrics['f1']==0]['taxon2label'])"
   ]
  },
  {
   "cell_type": "code",
   "execution_count": null,
   "metadata": {},
   "outputs": [],
   "source": []
  },
  {
   "cell_type": "code",
   "execution_count": null,
   "metadata": {},
   "outputs": [],
   "source": []
  },
  {
   "cell_type": "code",
   "execution_count": null,
   "metadata": {},
   "outputs": [],
   "source": []
  },
  {
   "cell_type": "code",
   "execution_count": null,
   "metadata": {
    "scrolled": true
   },
   "outputs": [],
   "source": [
    "atleast1pct = unlabelled_meta[unlabelled_meta['prob']>=0.01]\n",
    "atleast1pct.shape"
   ]
  },
  {
   "cell_type": "code",
   "execution_count": null,
   "metadata": {
    "scrolled": true
   },
   "outputs": [],
   "source": [
    "atleast1pct['prob'].hist(range=(0, 1), figsize=(30, 10), bins=500)"
   ]
  },
  {
   "cell_type": "code",
   "execution_count": null,
   "metadata": {
    "scrolled": true
   },
   "outputs": [],
   "source": [
    "atleast1pct['prob'].hist(by=atleast1pct['untagged_type'], range=(0, 1), figsize=(20, 10), bins=500)"
   ]
  },
  {
   "cell_type": "code",
   "execution_count": null,
   "metadata": {
    "scrolled": false
   },
   "outputs": [],
   "source": [
    "#TODO: work out how to standardise ylim to 0, 3000 \n",
    "atleast1pct['prob'].hist(by=atleast1pct['taxon2label'], range=(0, 1), figsize=(50, 50), bins=50)"
   ]
  },
  {
   "cell_type": "code",
   "execution_count": null,
   "metadata": {
    "scrolled": true
   },
   "outputs": [],
   "source": [
    "78696/101912"
   ]
  },
  {
   "cell_type": "code",
   "execution_count": null,
   "metadata": {},
   "outputs": [],
   "source": [
    "0.77*0.35"
   ]
  },
  {
   "cell_type": "code",
   "execution_count": null,
   "metadata": {
    "scrolled": true
   },
   "outputs": [],
   "source": [
    "untagged_predictions = predictions[predictions['untagged_type']=='untagged']\n",
    "oldtaxons_predictions = predictions[predictions['untagged_type']!='untagged']"
   ]
  },
  {
   "cell_type": "code",
   "execution_count": null,
   "metadata": {
    "scrolled": true
   },
   "outputs": [],
   "source": [
    "untagged_predictions.groupby(['content_id']).size().sort_values(ascending=True).describe()"
   ]
  },
  {
   "cell_type": "code",
   "execution_count": null,
   "metadata": {
    "scrolled": false
   },
   "outputs": [],
   "source": [
    "unlabelled_meta['prob'].hist(by=unlabelled_meta['taxon2label'], figsize=(50, 50), bins=50)"
   ]
  },
  {
   "cell_type": "code",
   "execution_count": null,
   "metadata": {
    "scrolled": true
   },
   "outputs": [],
   "source": [
    "labelled_level2.groupby(['content_id']).size().sort_values(ascending=True).describe()"
   ]
  },
  {
   "cell_type": "code",
   "execution_count": null,
   "metadata": {
    "scrolled": true
   },
   "outputs": [],
   "source": [
    "oldtaxons_predictions.groupby(['content_id']).size().sort_values(ascending=True).describe()"
   ]
  },
  {
   "cell_type": "code",
   "execution_count": null,
   "metadata": {
    "scrolled": true
   },
   "outputs": [],
   "source": [
    "predictions.groupby(['content_id']).size().sort_values(ascending=True).describe()"
   ]
  },
  {
   "cell_type": "code",
   "execution_count": null,
   "metadata": {
    "scrolled": true
   },
   "outputs": [],
   "source": [
    "predictions[['base_path', 'taxon2label', 'title', 'description']][100:150]\n"
   ]
  },
  {
   "cell_type": "code",
   "execution_count": null,
   "metadata": {
    "scrolled": true
   },
   "outputs": [],
   "source": [
    "predictions[predictions['content_id']=='5c91ea82-7631-11e4-a3cb-005056011aef']\n"
   ]
  },
  {
   "cell_type": "code",
   "execution_count": null,
   "metadata": {
    "scrolled": true
   },
   "outputs": [],
   "source": [
    "predictions[predictions['content_id']=='5d87c00c-7631-11e4-a3cb-005056011aef']\n"
   ]
  },
  {
   "cell_type": "code",
   "execution_count": null,
   "metadata": {
    "scrolled": true
   },
   "outputs": [],
   "source": [
    "predictions[['base_path', 'taxon2label', 'title', 'description']].to_csv(os.path.join(DATADIR, 'new_predictions50.csv.gz'),compression='gzip',index=False)"
   ]
  },
  {
   "cell_type": "code",
   "execution_count": null,
   "metadata": {},
   "outputs": [],
   "source": [
    "taxons = predictions['taxon2label'].unique()\n",
    "subsample = pd.DataFrame(columns = predictions.columns)\n",
    "\n",
    "for taxon in taxons:\n",
    "    taxon_spec = predictions.loc[predictions['taxon2label']==taxon]\n",
    "    sample_size = int(round(taxon_spec.shape[0]*0.1))\n",
    "    if not sample_size == 0 and taxon_spec.shape[0] > sample_size:\n",
    "        print(taxon,\": SAMPLING AT:\",sample_size)\n",
    "        subsample = subsample.append(taxon_spec.sample(n=sample_size), ignore_index=True)"
   ]
  },
  {
   "cell_type": "code",
   "execution_count": null,
   "metadata": {
    "scrolled": true
   },
   "outputs": [],
   "source": [
    "subsample[['base_path', 'taxon2label', 'title', 'description']].to_csv(os.path.join(DATADIR, 'new_predictions_subsample.csv.gz'),compression='gzip',index=False)"
   ]
  },
  {
   "cell_type": "markdown",
   "metadata": {},
   "source": [
    "### 40% threshold"
   ]
  },
  {
   "cell_type": "code",
   "execution_count": null,
   "metadata": {
    "scrolled": true
   },
   "outputs": [],
   "source": [
    "predictions40 = newprob_meta[newprob_meta['prob'] > 0.4]\n",
    "\n",
    "predictions40.content_id.nunique()"
   ]
  },
  {
   "cell_type": "code",
   "execution_count": null,
   "metadata": {
    "scrolled": true
   },
   "outputs": [],
   "source": [
    "predictions40.content_id.nunique()/newprob_meta.content_id.nunique()"
   ]
  },
  {
   "cell_type": "code",
   "execution_count": null,
   "metadata": {
    "scrolled": true
   },
   "outputs": [],
   "source": [
    "predictions40.groupby('untagged_type')['content_id'].nunique()"
   ]
  },
  {
   "cell_type": "markdown",
   "metadata": {},
   "source": [
    "### hard to tag"
   ]
  },
  {
   "cell_type": "code",
   "execution_count": null,
   "metadata": {},
   "outputs": [],
   "source": [
    "who_ls"
   ]
  },
  {
   "cell_type": "code",
   "execution_count": null,
   "metadata": {},
   "outputs": [],
   "source": [
    "reset_selective -f labelled_level2"
   ]
  },
  {
   "cell_type": "code",
   "execution_count": null,
   "metadata": {},
   "outputs": [],
   "source": [
    "reset_selective -f highrisk_predictions"
   ]
  },
  {
   "cell_type": "code",
   "execution_count": null,
   "metadata": {},
   "outputs": [],
   "source": [
    "reset_selective -f highrisk_predictions"
   ]
  },
  {
   "cell_type": "code",
   "execution_count": null,
   "metadata": {
    "scrolled": true
   },
   "outputs": [],
   "source": [
    "predictions = predictions.drop(labels='_merge', axis=1).copy()"
   ]
  },
  {
   "cell_type": "code",
   "execution_count": null,
   "metadata": {
    "scrolled": true
   },
   "outputs": [],
   "source": [
    "unlabelled_meta = unlabelled_meta.drop(labels='_merge', axis=1).copy()"
   ]
  },
  {
   "cell_type": "code",
   "execution_count": null,
   "metadata": {
    "scrolled": false
   },
   "outputs": [],
   "source": [
    "no_predictions = pd.merge(\n",
    "    left=predictions,\n",
    "    right=unlabelled_meta,\n",
    "    on='content_id',\n",
    "    how='outer',\n",
    "    indicator=True\n",
    ")"
   ]
  },
  {
   "cell_type": "code",
   "execution_count": null,
   "metadata": {
    "scrolled": true
   },
   "outputs": [],
   "source": [
    "no_predictions.groupby('_merge').size()"
   ]
  },
  {
   "cell_type": "code",
   "execution_count": null,
   "metadata": {
    "scrolled": true
   },
   "outputs": [],
   "source": [
    "no_predictions[no_predictions['document_type_y']=='guidance'].content_id.nunique()"
   ]
  },
  {
   "cell_type": "code",
   "execution_count": null,
   "metadata": {
    "scrolled": true
   },
   "outputs": [],
   "source": [
    "predictions[predictions['document_type']=='guidance'].content_id.nunique()"
   ]
  },
  {
   "cell_type": "code",
   "execution_count": null,
   "metadata": {},
   "outputs": [],
   "source": [
    "6029-1033"
   ]
  },
  {
   "cell_type": "code",
   "execution_count": null,
   "metadata": {},
   "outputs": [],
   "source": [
    "4996/6029"
   ]
  },
  {
   "cell_type": "code",
   "execution_count": null,
   "metadata": {},
   "outputs": [],
   "source": [
    "no_predictions = no_predictions[no_predictions['_merge']=='right_only']"
   ]
  },
  {
   "cell_type": "code",
   "execution_count": null,
   "metadata": {
    "scrolled": true
   },
   "outputs": [],
   "source": [
    "predictions.content_id.nunique()"
   ]
  },
  {
   "cell_type": "code",
   "execution_count": null,
   "metadata": {
    "scrolled": true
   },
   "outputs": [],
   "source": [
    "no_predictions.content_id.nunique() + predictions.content_id.nunique()"
   ]
  },
  {
   "cell_type": "code",
   "execution_count": null,
   "metadata": {
    "scrolled": true
   },
   "outputs": [],
   "source": [
    "no_predictions.content_id.nunique()"
   ]
  },
  {
   "cell_type": "code",
   "execution_count": null,
   "metadata": {
    "scrolled": true
   },
   "outputs": [],
   "source": [
    "newprob_meta.content_id.nunique()"
   ]
  },
  {
   "cell_type": "markdown",
   "metadata": {
    "scrolled": true
   },
   "source": [
    "### recency"
   ]
  },
  {
   "cell_type": "code",
   "execution_count": null,
   "metadata": {},
   "outputs": [],
   "source": [
    "predictions['first_published_at'] = pd.to_datetime(predictions['first_published_at'])\n",
    "predictions.index = predictions['first_published_at']"
   ]
  },
  {
   "cell_type": "code",
   "execution_count": null,
   "metadata": {},
   "outputs": [],
   "source": [
    "predictions.sort_values(['prob', 'content_id'], ascending=False)"
   ]
  },
  {
   "cell_type": "code",
   "execution_count": null,
   "metadata": {},
   "outputs": [],
   "source": [
    "predictions_dedup = predictions.drop_duplicates('content_id')\n",
    "predicted = predictions_dedup['first_published_at'].resample('Y').count().plot()\n",
    "predicted.set_xlim(pd.Timestamp('2000-12-31'), pd.Timestamp('2017-12-31'))\n",
    "predicted.set_ylim([0, 30000])"
   ]
  },
  {
   "cell_type": "code",
   "execution_count": null,
   "metadata": {},
   "outputs": [],
   "source": [
    "no_predictions['first_published_at_y'] = pd.to_datetime(no_predictions['first_published_at_y'])\n",
    "no_predictions.index = no_predictions['first_published_at_y']"
   ]
  },
  {
   "cell_type": "code",
   "execution_count": null,
   "metadata": {},
   "outputs": [],
   "source": [
    "no_predictions['content_id'].nunique()"
   ]
  },
  {
   "cell_type": "code",
   "execution_count": null,
   "metadata": {},
   "outputs": [],
   "source": [
    "no_predictions.sort_values(['prob_y', 'content_id'], ascending=False)"
   ]
  },
  {
   "cell_type": "code",
   "execution_count": null,
   "metadata": {},
   "outputs": [],
   "source": [
    "no_predictions_dedup = no_predictions.drop_duplicates('content_id')"
   ]
  },
  {
   "cell_type": "code",
   "execution_count": null,
   "metadata": {},
   "outputs": [],
   "source": [
    "no_predictions_dedup.columns"
   ]
  },
  {
   "cell_type": "code",
   "execution_count": null,
   "metadata": {},
   "outputs": [],
   "source": [
    "cols =np.arange(1, 29)\n",
    "cols"
   ]
  },
  {
   "cell_type": "code",
   "execution_count": null,
   "metadata": {},
   "outputs": [],
   "source": [
    "hardtotag_guidance = no_predictions[no_predictions['document_type_y']=='guidance'].drop(no_predictions.columns[cols], axis=1 ).sort_values('prob_y')"
   ]
  },
  {
   "cell_type": "code",
   "execution_count": null,
   "metadata": {},
   "outputs": [],
   "source": [
    "hardtotag_guidance.drop_duplicates('content_id', inplace=True)"
   ]
  },
  {
   "cell_type": "code",
   "execution_count": null,
   "metadata": {},
   "outputs": [],
   "source": [
    "tagged_guidance = predictions[predictions['document_type']=='guidance']"
   ]
  },
  {
   "cell_type": "code",
   "execution_count": null,
   "metadata": {},
   "outputs": [],
   "source": [
    "fig = plt.figure(figsize=(15, 7))\n",
    "ax = hardtotag_guidance['first_published_at_y'].resample('Y').count().plot()\n",
    "ax.set_xlim(pd.Timestamp('2000-12-31'), pd.Timestamp('2018-03-12'))\n"
   ]
  },
  {
   "cell_type": "code",
   "execution_count": null,
   "metadata": {},
   "outputs": [],
   "source": [
    "fig = plt.figure(figsize=(15, 7))\n",
    "ay = tagged_guidance['first_published_at'].resample('Y').count().plot()\n",
    "ay.set_xlim(pd.Timestamp('2000-12-31'), pd.Timestamp('2018-03-12'))"
   ]
  },
  {
   "cell_type": "code",
   "execution_count": null,
   "metadata": {},
   "outputs": [],
   "source": [
    "hardtotag_guidance[['content_id', 'title_y', 'description_y', 'body_y', 'prob_y', 'taxon2label_y' ]].to_csv(os.path.join(DATADIR, 'hardtotag_guidance.csv.gz'), compression='gzip')"
   ]
  },
  {
   "cell_type": "code",
   "execution_count": null,
   "metadata": {},
   "outputs": [],
   "source": [
    "not_predicted = no_predictions_dedup['first_published_at_y'].resample('Y').count().plot()\n",
    "not_predicted.set_xlim(pd.Timestamp('2000-12-31'), pd.Timestamp('2017-12-31'))"
   ]
  },
  {
   "cell_type": "code",
   "execution_count": null,
   "metadata": {},
   "outputs": [],
   "source": [
    "\n",
    "fig = plt.figure(figsize=(15, 7))\n",
    "\n",
    "plt.subplot(2, 1, 1)\n",
    "plt.title('predictions at 50% threshold')\n",
    "predicted = predictions_dedup['first_published_at'].resample('Y').count().plot()\n",
    "predicted.set_xlim(pd.Timestamp('2000-12-31'), pd.Timestamp('2018-03-12'))\n",
    "predicted.set_ylim([0, 10000])\n",
    "predicted.axes.get_xaxis().set_ticklabels([])\n",
    "predicted.set_xlabel('')\n",
    "\n",
    "plt.subplot(2, 1, 2)\n",
    "not_predicted = no_predictions_dedup['first_published_at_y'].resample('Y').count().plot()\n",
    "not_predicted.set_xlim(pd.Timestamp('2000-12-31'), pd.Timestamp('2018-03-12'))\n",
    "plt.title('No predictions above 50%')\n",
    "plt.ylabel('Count')\n",
    "not_predicted.set_ylim([0, 10000])\n",
    "\n",
    "\n",
    "\n",
    "\n",
    "\n",
    "\n",
    "fig.tight_layout()"
   ]
  },
  {
   "cell_type": "code",
   "execution_count": null,
   "metadata": {},
   "outputs": [],
   "source": [
    "\n",
    "doctype_grouped = predictions_dedup.groupby(['document_type', pd.Grouper(freq='Y')])['first_published_at'].count()\n",
    "count_by_year = doctype_grouped.unstack('document_type', fill_value=0)"
   ]
  },
  {
   "cell_type": "code",
   "execution_count": null,
   "metadata": {},
   "outputs": [],
   "source": [
    "top_count = count_by_year.loc[:,count_by_year.max() > 500]\n",
    "ax = top_count.plot()\n",
    "ax.set_xlim(pd.Timestamp('2009-12-31'), pd.Timestamp('2018-03-12'))\n",
    "ax.legend(loc='center left', bbox_to_anchor=(1, 0.5))"
   ]
  },
  {
   "cell_type": "code",
   "execution_count": null,
   "metadata": {},
   "outputs": [],
   "source": [
    "lab = count_by_year.stack().reset_index()\n",
    "lab.columns = ['date', 'document_type', 'percent']\n",
    "bydoctype_year = lab.groupby(['date', 'document_type']).agg({'percent': 'sum'})\n",
    "# Change: groupby state_office and divide by sum\n",
    "bydoctype_pcts = bydoctype_year.groupby(level=0).apply(lambda x:\n",
    "                                                 100 * x / float(x.sum())).unstack('document_type', fill_value=0)\n",
    "\n",
    "bydoctype_pcts.columns = bydoctype_pcts.columns.droplevel(0)\n",
    "\n",
    "top_pct = bydoctype_pcts[['organisation', \n",
    "                          'person', \n",
    "                          'placeholder_person', \n",
    "                          'regulation', \n",
    "                          'world_news_story', \n",
    "                          'news_story', \n",
    "                          'foi_release',\n",
    "                          'guidance',\n",
    "                          'national_statistics',\n",
    "                          'official_statistics', \n",
    "                          'press_release',\n",
    "                          'transparency'\n",
    " ]]"
   ]
  },
  {
   "cell_type": "code",
   "execution_count": null,
   "metadata": {},
   "outputs": [],
   "source": [
    "ut = top_pct.plot(kind='area', stacked=True)\n",
    "ut.set_xlim(pd.Timestamp('2009-12-31'), pd.Timestamp('2018-03-12'))\n",
    "ut.legend(loc='center left', bbox_to_anchor=(1, 0.5))"
   ]
  },
  {
   "cell_type": "code",
   "execution_count": null,
   "metadata": {},
   "outputs": [],
   "source": [
    "doctype_grouped = no_predictions_dedup.groupby(['document_type_y', pd.Grouper(freq='Y')])['first_published_at_y'].count()\n",
    "count_by_year = doctype_grouped.unstack('document_type_y', fill_value=0)\n",
    "\n",
    "top_count = count_by_year.loc[:,count_by_year.max() > 300]\n",
    "ax = top_count.plot()\n",
    "ax.set_xlim(pd.Timestamp('2009-12-31'), pd.Timestamp('2018-03-12'))\n",
    "ax.legend(loc='center left', bbox_to_anchor=(1, 0.5))"
   ]
  },
  {
   "cell_type": "code",
   "execution_count": null,
   "metadata": {},
   "outputs": [],
   "source": [
    "ax = predictions_dedup['first_published_at'].resample('Y').count().plot()\n",
    "ax.set_xlim(pd.Timestamp('2000-12-31'), pd.Timestamp('2018-03-12'))"
   ]
  },
  {
   "cell_type": "code",
   "execution_count": null,
   "metadata": {},
   "outputs": [],
   "source": [
    "lab = count_by_year.stack().reset_index()\n",
    "lab.columns = ['date', 'document_type', 'percent']\n",
    "bydoctype_year = lab.groupby(['date', 'document_type']).agg({'percent': 'sum'})\n",
    "# Change: groupby state_office and divide by sum\n",
    "bydoctype_pcts = bydoctype_year.groupby(level=0).apply(lambda x:\n",
    "                                                 100 * x / float(x.sum())).unstack('document_type', fill_value=0)\n",
    "\n",
    "bydoctype_pcts.columns = bydoctype_pcts.columns.droplevel(0)\n",
    "\n",
    "top_pct = bydoctype_pcts[['organisation', \n",
    "                          'person', \n",
    "                          'placeholder_person', \n",
    "                          'regulation', \n",
    "                          'world_news_story', \n",
    "                          'news_story', \n",
    "                          'foi_release',\n",
    "                          'guidance',\n",
    "                          'national_statistics',\n",
    "                          'official_statistics', \n",
    "                          'press_release',\n",
    "                          'transparency'\n",
    " ]]\n",
    "\n"
   ]
  },
  {
   "cell_type": "code",
   "execution_count": null,
   "metadata": {},
   "outputs": [],
   "source": [
    "ut = top_pct.plot(kind='area', stacked=True)\n",
    "ut.set_xlim(pd.Timestamp('2009-12-31'), pd.Timestamp('2018-03-12'))\n",
    "ut.legend(loc='center left', bbox_to_anchor=(1, 0.5))"
   ]
  },
  {
   "cell_type": "code",
   "execution_count": null,
   "metadata": {},
   "outputs": [],
   "source": []
  },
  {
   "cell_type": "code",
   "execution_count": null,
   "metadata": {},
   "outputs": [],
   "source": []
  },
  {
   "cell_type": "code",
   "execution_count": null,
   "metadata": {},
   "outputs": [],
   "source": []
  },
  {
   "cell_type": "code",
   "execution_count": null,
   "metadata": {},
   "outputs": [],
   "source": []
  }
 ],
 "metadata": {
  "keep_output": true,
  "kernelspec": {
   "display_name": "Environment (conda_tensorflow_p36)",
   "language": "python",
   "name": "conda_tensorflow_p36"
  },
  "language_info": {
   "codemirror_mode": {
    "name": "ipython",
    "version": 3
   },
   "file_extension": ".py",
   "mimetype": "text/x-python",
   "name": "python",
   "nbconvert_exporter": "python",
   "pygments_lexer": "ipython3",
   "version": "3.6.3"
  }
 },
 "nbformat": 4,
 "nbformat_minor": 2
}
