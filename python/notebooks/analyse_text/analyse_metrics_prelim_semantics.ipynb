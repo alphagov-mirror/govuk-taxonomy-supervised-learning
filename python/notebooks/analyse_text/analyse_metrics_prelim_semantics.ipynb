{
 "cells": [
  {
   "cell_type": "code",
   "execution_count": 1,
   "metadata": {},
   "outputs": [],
   "source": [
    "import pandas as pd\n",
    "import numpy as np\n",
    "import os\n",
    "import nltk\n",
    "from nltk import word_tokenize,sent_tokenize,pos_tag_sents,pos_tag\n",
    "import time"
   ]
  },
  {
   "cell_type": "markdown",
   "metadata": {},
   "source": [
    "## 1. Read data."
   ]
  },
  {
   "cell_type": "code",
   "execution_count": 2,
   "metadata": {},
   "outputs": [
    {
     "name": "stdout",
     "output_type": "stream",
     "text": [
      "/Users/felisialoukou/Documents/govuk-taxonomy-supervised-learning/data\n"
     ]
    }
   ],
   "source": [
    "DATADIR=os.getenv('DATADIR')\n",
    "print(DATADIR)\n",
    "DATAPATH = os.path.join(DATADIR, 'labelled_level2.csv.gz')"
   ]
  },
  {
   "cell_type": "code",
   "execution_count": 3,
   "metadata": {},
   "outputs": [
    {
     "name": "stderr",
     "output_type": "stream",
     "text": [
      "/Users/felisialoukou/.pyenv/versions/3.4.6/lib/python3.4/site-packages/IPython/core/interactiveshell.py:2728: DtypeWarning: Columns (20) have mixed types. Specify dtype option on import or set low_memory=False.\n",
      "  interactivity=interactivity, compiler=compiler, result=result)\n"
     ]
    },
    {
     "data": {
      "text/plain": [
       "(173560, 21)"
      ]
     },
     "execution_count": 3,
     "metadata": {},
     "output_type": "execute_result"
    }
   ],
   "source": [
    "data = pd.read_csv(DATAPATH,compression='gzip')\n",
    "data.shape"
   ]
  },
  {
   "cell_type": "code",
   "execution_count": 4,
   "metadata": {},
   "outputs": [
    {
     "data": {
      "text/html": [
       "<div>\n",
       "<style scoped>\n",
       "    .dataframe tbody tr th:only-of-type {\n",
       "        vertical-align: middle;\n",
       "    }\n",
       "\n",
       "    .dataframe tbody tr th {\n",
       "        vertical-align: top;\n",
       "    }\n",
       "\n",
       "    .dataframe thead th {\n",
       "        text-align: right;\n",
       "    }\n",
       "</style>\n",
       "<table border=\"1\" class=\"dataframe\">\n",
       "  <thead>\n",
       "    <tr style=\"text-align: right;\">\n",
       "      <th></th>\n",
       "      <th>base_path</th>\n",
       "      <th>content_id</th>\n",
       "      <th>description</th>\n",
       "      <th>details</th>\n",
       "      <th>document_type</th>\n",
       "      <th>first_published_at</th>\n",
       "      <th>locale</th>\n",
       "      <th>primary_publishing_organisation</th>\n",
       "      <th>publishing_app</th>\n",
       "      <th>title</th>\n",
       "      <th>...</th>\n",
       "      <th>body</th>\n",
       "      <th>combined_text</th>\n",
       "      <th>taxon_id</th>\n",
       "      <th>taxon_base_path</th>\n",
       "      <th>taxon_name</th>\n",
       "      <th>level1taxon</th>\n",
       "      <th>level2taxon</th>\n",
       "      <th>level3taxon</th>\n",
       "      <th>level4taxon</th>\n",
       "      <th>level5taxon</th>\n",
       "    </tr>\n",
       "  </thead>\n",
       "  <tbody>\n",
       "    <tr>\n",
       "      <th>0</th>\n",
       "      <td>/student-finance-register-login</td>\n",
       "      <td>e57daef4-5eb5-431c-b0ad-14119ab0355f</td>\n",
       "      <td>your student finance online account - check pa...</td>\n",
       "      <td>{'will_continue_on': 'the Student Finance Engl...</td>\n",
       "      <td>transaction</td>\n",
       "      <td>2016-02-29T09:24:10.000+00:00</td>\n",
       "      <td>en</td>\n",
       "      <td>NaN</td>\n",
       "      <td>publisher</td>\n",
       "      <td>student finance login</td>\n",
       "      <td>...</td>\n",
       "      <td></td>\n",
       "      <td>student finance login your student finance onl...</td>\n",
       "      <td>64aa6eec-48b5-481d-9131-9c8b6326eea1</td>\n",
       "      <td>/education/student-grants-bursaries-scholarships</td>\n",
       "      <td>Student grants, bursaries and scholarships</td>\n",
       "      <td>Education, training and skills</td>\n",
       "      <td>Funding and finance for students</td>\n",
       "      <td>Student grants, bursaries and scholarships</td>\n",
       "      <td>NaN</td>\n",
       "      <td>NaN</td>\n",
       "    </tr>\n",
       "    <tr>\n",
       "      <th>1</th>\n",
       "      <td>/student-finance-calculator</td>\n",
       "      <td>434b6eb5-33c8-4300-aba3-f5ead58600b8</td>\n",
       "      <td>student finance calculator - get a quick estim...</td>\n",
       "      <td>{'introductory_paragraph': '&lt;p&gt;This calculator...</td>\n",
       "      <td>transaction</td>\n",
       "      <td>2016-02-29T09:24:10.000+00:00</td>\n",
       "      <td>en</td>\n",
       "      <td>NaN</td>\n",
       "      <td>smartanswers</td>\n",
       "      <td>student finance calculator</td>\n",
       "      <td>...</td>\n",
       "      <td></td>\n",
       "      <td>student finance calculator student finance cal...</td>\n",
       "      <td>64aa6eec-48b5-481d-9131-9c8b6326eea1</td>\n",
       "      <td>/education/student-grants-bursaries-scholarships</td>\n",
       "      <td>Student grants, bursaries and scholarships</td>\n",
       "      <td>Education, training and skills</td>\n",
       "      <td>Funding and finance for students</td>\n",
       "      <td>Student grants, bursaries and scholarships</td>\n",
       "      <td>NaN</td>\n",
       "      <td>NaN</td>\n",
       "    </tr>\n",
       "    <tr>\n",
       "      <th>2</th>\n",
       "      <td>/apply-online-for-student-finance</td>\n",
       "      <td>83155b50-418e-437c-9389-cf0e1302900f</td>\n",
       "      <td>apply online for student finance - online appl...</td>\n",
       "      <td>{'will_continue_on': 'the Student Finance Engl...</td>\n",
       "      <td>transaction</td>\n",
       "      <td>2016-02-29T09:24:10.000+00:00</td>\n",
       "      <td>en</td>\n",
       "      <td>NaN</td>\n",
       "      <td>publisher</td>\n",
       "      <td>apply online for student finance</td>\n",
       "      <td>...</td>\n",
       "      <td></td>\n",
       "      <td>apply online for student finance apply online ...</td>\n",
       "      <td>64aa6eec-48b5-481d-9131-9c8b6326eea1</td>\n",
       "      <td>/education/student-grants-bursaries-scholarships</td>\n",
       "      <td>Student grants, bursaries and scholarships</td>\n",
       "      <td>Education, training and skills</td>\n",
       "      <td>Funding and finance for students</td>\n",
       "      <td>Student grants, bursaries and scholarships</td>\n",
       "      <td>NaN</td>\n",
       "      <td>NaN</td>\n",
       "    </tr>\n",
       "    <tr>\n",
       "      <th>3</th>\n",
       "      <td>/student-finance</td>\n",
       "      <td>d38bafd3-2c46-4be2-b50b-50c2ba7d30ed</td>\n",
       "      <td>student finance - student loans or student gra...</td>\n",
       "      <td>{'parts': [{'title': 'Overview', 'slug': 'over...</td>\n",
       "      <td>guide</td>\n",
       "      <td>2016-02-29T09:24:10.000+00:00</td>\n",
       "      <td>en</td>\n",
       "      <td>NaN</td>\n",
       "      <td>publisher</td>\n",
       "      <td>student finance</td>\n",
       "      <td>...</td>\n",
       "      <td></td>\n",
       "      <td>student finance student finance - student loan...</td>\n",
       "      <td>64aa6eec-48b5-481d-9131-9c8b6326eea1</td>\n",
       "      <td>/education/student-grants-bursaries-scholarships</td>\n",
       "      <td>Student grants, bursaries and scholarships</td>\n",
       "      <td>Education, training and skills</td>\n",
       "      <td>Funding and finance for students</td>\n",
       "      <td>Student grants, bursaries and scholarships</td>\n",
       "      <td>NaN</td>\n",
       "      <td>NaN</td>\n",
       "    </tr>\n",
       "    <tr>\n",
       "      <th>4</th>\n",
       "      <td>/apply-for-student-finance</td>\n",
       "      <td>06017464-d3e2-4a4c-8bef-250eff0de7e4</td>\n",
       "      <td>how to apply for student finance - when to app...</td>\n",
       "      <td>{'parts': [{'title': 'How to apply', 'slug': '...</td>\n",
       "      <td>guide</td>\n",
       "      <td>2016-02-29T09:24:10.000+00:00</td>\n",
       "      <td>en</td>\n",
       "      <td>NaN</td>\n",
       "      <td>publisher</td>\n",
       "      <td>student finance: how to apply</td>\n",
       "      <td>...</td>\n",
       "      <td></td>\n",
       "      <td>student finance: how to apply how to apply for...</td>\n",
       "      <td>64aa6eec-48b5-481d-9131-9c8b6326eea1</td>\n",
       "      <td>/education/student-grants-bursaries-scholarships</td>\n",
       "      <td>Student grants, bursaries and scholarships</td>\n",
       "      <td>Education, training and skills</td>\n",
       "      <td>Funding and finance for students</td>\n",
       "      <td>Student grants, bursaries and scholarships</td>\n",
       "      <td>NaN</td>\n",
       "      <td>NaN</td>\n",
       "    </tr>\n",
       "  </tbody>\n",
       "</table>\n",
       "<p>5 rows × 21 columns</p>\n",
       "</div>"
      ],
      "text/plain": [
       "                           base_path                            content_id  \\\n",
       "0    /student-finance-register-login  e57daef4-5eb5-431c-b0ad-14119ab0355f   \n",
       "1        /student-finance-calculator  434b6eb5-33c8-4300-aba3-f5ead58600b8   \n",
       "2  /apply-online-for-student-finance  83155b50-418e-437c-9389-cf0e1302900f   \n",
       "3                   /student-finance  d38bafd3-2c46-4be2-b50b-50c2ba7d30ed   \n",
       "4         /apply-for-student-finance  06017464-d3e2-4a4c-8bef-250eff0de7e4   \n",
       "\n",
       "                                         description  \\\n",
       "0  your student finance online account - check pa...   \n",
       "1  student finance calculator - get a quick estim...   \n",
       "2  apply online for student finance - online appl...   \n",
       "3  student finance - student loans or student gra...   \n",
       "4  how to apply for student finance - when to app...   \n",
       "\n",
       "                                             details document_type  \\\n",
       "0  {'will_continue_on': 'the Student Finance Engl...   transaction   \n",
       "1  {'introductory_paragraph': '<p>This calculator...   transaction   \n",
       "2  {'will_continue_on': 'the Student Finance Engl...   transaction   \n",
       "3  {'parts': [{'title': 'Overview', 'slug': 'over...         guide   \n",
       "4  {'parts': [{'title': 'How to apply', 'slug': '...         guide   \n",
       "\n",
       "              first_published_at locale primary_publishing_organisation  \\\n",
       "0  2016-02-29T09:24:10.000+00:00     en                             NaN   \n",
       "1  2016-02-29T09:24:10.000+00:00     en                             NaN   \n",
       "2  2016-02-29T09:24:10.000+00:00     en                             NaN   \n",
       "3  2016-02-29T09:24:10.000+00:00     en                             NaN   \n",
       "4  2016-02-29T09:24:10.000+00:00     en                             NaN   \n",
       "\n",
       "  publishing_app                             title     ...     body  \\\n",
       "0      publisher             student finance login     ...            \n",
       "1   smartanswers        student finance calculator     ...            \n",
       "2      publisher  apply online for student finance     ...            \n",
       "3      publisher                   student finance     ...            \n",
       "4      publisher     student finance: how to apply     ...            \n",
       "\n",
       "                                       combined_text  \\\n",
       "0  student finance login your student finance onl...   \n",
       "1  student finance calculator student finance cal...   \n",
       "2  apply online for student finance apply online ...   \n",
       "3  student finance student finance - student loan...   \n",
       "4  student finance: how to apply how to apply for...   \n",
       "\n",
       "                               taxon_id  \\\n",
       "0  64aa6eec-48b5-481d-9131-9c8b6326eea1   \n",
       "1  64aa6eec-48b5-481d-9131-9c8b6326eea1   \n",
       "2  64aa6eec-48b5-481d-9131-9c8b6326eea1   \n",
       "3  64aa6eec-48b5-481d-9131-9c8b6326eea1   \n",
       "4  64aa6eec-48b5-481d-9131-9c8b6326eea1   \n",
       "\n",
       "                                    taxon_base_path  \\\n",
       "0  /education/student-grants-bursaries-scholarships   \n",
       "1  /education/student-grants-bursaries-scholarships   \n",
       "2  /education/student-grants-bursaries-scholarships   \n",
       "3  /education/student-grants-bursaries-scholarships   \n",
       "4  /education/student-grants-bursaries-scholarships   \n",
       "\n",
       "                                   taxon_name                     level1taxon  \\\n",
       "0  Student grants, bursaries and scholarships  Education, training and skills   \n",
       "1  Student grants, bursaries and scholarships  Education, training and skills   \n",
       "2  Student grants, bursaries and scholarships  Education, training and skills   \n",
       "3  Student grants, bursaries and scholarships  Education, training and skills   \n",
       "4  Student grants, bursaries and scholarships  Education, training and skills   \n",
       "\n",
       "                        level2taxon  \\\n",
       "0  Funding and finance for students   \n",
       "1  Funding and finance for students   \n",
       "2  Funding and finance for students   \n",
       "3  Funding and finance for students   \n",
       "4  Funding and finance for students   \n",
       "\n",
       "                                  level3taxon level4taxon level5taxon  \n",
       "0  Student grants, bursaries and scholarships         NaN         NaN  \n",
       "1  Student grants, bursaries and scholarships         NaN         NaN  \n",
       "2  Student grants, bursaries and scholarships         NaN         NaN  \n",
       "3  Student grants, bursaries and scholarships         NaN         NaN  \n",
       "4  Student grants, bursaries and scholarships         NaN         NaN  \n",
       "\n",
       "[5 rows x 21 columns]"
      ]
     },
     "execution_count": 4,
     "metadata": {},
     "output_type": "execute_result"
    }
   ],
   "source": [
    "data.head()"
   ]
  },
  {
   "cell_type": "markdown",
   "metadata": {},
   "source": [
    "### 1.2 UTILS."
   ]
  },
  {
   "cell_type": "code",
   "execution_count": 11,
   "metadata": {
    "scrolled": true
   },
   "outputs": [
    {
     "data": {
      "text/plain": [
       "Index(['base_path', 'content_id', 'description', 'details', 'document_type',\n",
       "       'first_published_at', 'locale', 'primary_publishing_organisation',\n",
       "       'publishing_app', 'title', 'document_type_gp', 'body', 'combined_text',\n",
       "       'taxon_id', 'taxon_base_path', 'taxon_name', 'level1taxon',\n",
       "       'level2taxon', 'level3taxon', 'level4taxon', 'level5taxon', 'title_len',\n",
       "       'description_len', 'body_len', 'combined_text_len'],\n",
       "      dtype='object')"
      ]
     },
     "execution_count": 11,
     "metadata": {},
     "output_type": "execute_result"
    }
   ],
   "source": [
    "data.columns"
   ]
  },
  {
   "cell_type": "code",
   "execution_count": 12,
   "metadata": {},
   "outputs": [],
   "source": [
    "def build_index(x):\n",
    "    index_dict = {}\n",
    "    index_dict['index'] = 0\n",
    "    for i,elem in enumerate(x):\n",
    "        index_dict[elem] = i+1\n",
    "    return index_dict"
   ]
  },
  {
   "cell_type": "code",
   "execution_count": 13,
   "metadata": {},
   "outputs": [
    {
     "name": "stdout",
     "output_type": "stream",
     "text": [
      "13\n"
     ]
    }
   ],
   "source": [
    "ind = build_index(data.columns)\n",
    "print(ind['combined_text'])"
   ]
  },
  {
   "cell_type": "markdown",
   "metadata": {},
   "source": [
    "## 2. Counts"
   ]
  },
  {
   "cell_type": "code",
   "execution_count": 5,
   "metadata": {},
   "outputs": [],
   "source": [
    "data['title_len'] = data['title'].map(lambda x: len(x.split()))\n",
    "data['description_len'] = data['description'].map(lambda x: len(x.split()))\n",
    "data['body_len'] = data['body'].map(lambda x: len(x.split()) if not isinstance(x,float) else 0)\n",
    "data['combined_text_len'] = data['combined_text'].map(lambda x: len(x.split()))"
   ]
  },
  {
   "cell_type": "code",
   "execution_count": 6,
   "metadata": {},
   "outputs": [],
   "source": [
    "len_cols = ['title_len','description_len','body_len','combined_text_len']"
   ]
  },
  {
   "cell_type": "code",
   "execution_count": 7,
   "metadata": {},
   "outputs": [
    {
     "name": "stdout",
     "output_type": "stream",
     "text": [
      "count    173560.000000\n",
      "mean          7.988482\n",
      "std           3.214716\n",
      "min           1.000000\n",
      "25%           6.000000\n",
      "50%           8.000000\n",
      "75%          10.000000\n",
      "max          38.000000\n",
      "Name: title_len, dtype: float64 \n",
      "=====\n",
      "count    173560.000000\n",
      "mean         17.732179\n",
      "std           6.971012\n",
      "min           0.000000\n",
      "25%          13.000000\n",
      "50%          18.000000\n",
      "75%          21.000000\n",
      "max         149.000000\n",
      "Name: description_len, dtype: float64 \n",
      "=====\n",
      "count    173560.000000\n",
      "mean        331.267758\n",
      "std         612.127736\n",
      "min           0.000000\n",
      "25%          38.000000\n",
      "50%         118.000000\n",
      "75%         396.000000\n",
      "max       31129.000000\n",
      "Name: body_len, dtype: float64 \n",
      "=====\n",
      "count    173560.000000\n",
      "mean        356.988419\n",
      "std         612.851116\n",
      "min           2.000000\n",
      "25%          63.000000\n",
      "50%         144.000000\n",
      "75%         423.000000\n",
      "max       31145.000000\n",
      "Name: combined_text_len, dtype: float64 \n",
      "=====\n"
     ]
    }
   ],
   "source": [
    "for col in len_cols:\n",
    "    print(data[col].describe(),\"\\n=====\")"
   ]
  },
  {
   "cell_type": "markdown",
   "metadata": {},
   "source": [
    "## 3. POS stuff."
   ]
  },
  {
   "cell_type": "code",
   "execution_count": 8,
   "metadata": {},
   "outputs": [
    {
     "data": {
      "text/plain": [
       "'student finance login your student finance online account - check payment dates track an application change details reset password find customer reference numbers  '"
      ]
     },
     "execution_count": 8,
     "metadata": {},
     "output_type": "execute_result"
    }
   ],
   "source": [
    "data[\"combined_text\"].iloc[0]"
   ]
  },
  {
   "cell_type": "code",
   "execution_count": 34,
   "metadata": {},
   "outputs": [
    {
     "data": {
      "text/plain": [
       "['student',\n",
       " 'finance',\n",
       " 'login',\n",
       " 'your',\n",
       " 'student',\n",
       " 'finance',\n",
       " 'online',\n",
       " 'account',\n",
       " '-',\n",
       " 'check',\n",
       " 'payment',\n",
       " 'dates',\n",
       " 'track',\n",
       " 'an',\n",
       " 'application',\n",
       " 'change',\n",
       " 'details',\n",
       " 'reset',\n",
       " 'password',\n",
       " 'find',\n",
       " 'customer',\n",
       " 'reference',\n",
       " 'numbers']"
      ]
     },
     "execution_count": 34,
     "metadata": {},
     "output_type": "execute_result"
    }
   ],
   "source": [
    "tokenized = word_tokenize(data[\"combined_text\"].iloc[0])\n",
    "tokenized"
   ]
  },
  {
   "cell_type": "code",
   "execution_count": 10,
   "metadata": {},
   "outputs": [
    {
     "data": {
      "text/plain": [
       "(173560,)"
      ]
     },
     "execution_count": 10,
     "metadata": {},
     "output_type": "execute_result"
    }
   ],
   "source": [
    "data[\"combined_text\"].values.shape"
   ]
  },
  {
   "cell_type": "code",
   "execution_count": 17,
   "metadata": {},
   "outputs": [],
   "source": [
    "def reduce_text(x):\n",
    "    keep_text =\"\"\n",
    "    sent_pos = pos_tag(word_tokenize(x))\n",
    "    for word,tag in sent_pos:\n",
    "        if tag.startswith(\"NN\") or tag.startswith(\"VB\") or tag.startswith(\"JJ\"):\n",
    "            keep_text += word + \" \"\n",
    "    return keep_text.strip()"
   ]
  },
  {
   "cell_type": "code",
   "execution_count": 18,
   "metadata": {},
   "outputs": [],
   "source": [
    "data['reduced_combined'] = data['combined_text'].map(reduce_text2)"
   ]
  },
  {
   "cell_type": "code",
   "execution_count": 26,
   "metadata": {},
   "outputs": [
    {
     "data": {
      "text/plain": [
       "\"bittersweet' return from sangin for royal marines the first royal marines from 40 commando returned home yesterday from a six-month deployment to sangin in helmand province considered one of the most dangerous places for foreign troops in afghanistan. around 600 marines from 40 commando part of 3 commando brigade deployed to sangin in april 2010 under the command of 4th mechanized brigade on operation herrick 12. they are the last british unit to serve in the area having handed over authority to us forces in the last few weeks. see related news for more on this. the first of the marines to return home were from the 114-strong charlie company. they arrived at their home base of norton manor camp near taunton in somerset yesterday wednesday 6 october 2010 where they were greeted by more than 300 friends and family members. the homecoming was described as a ‘bittersweet’ moment by officers who recognised that the joy of returning to friends and family was tempered by the loss the unit had experienced over the tour. major duncan forbes officer commanding charlie company said: it’s a bittersweet day being back here; 21 people from the battle group were killed and 14 of them were royal marines. their sacrifice was not made in vain; they did an amazing job every day showing bravery and leadership which is humbling for us as their leaders to look to. it’s a sad day for those families who have not got their husbands coming back. during their deployment 40 commando worked in partnership with the afghan national security forces to disrupt insurgent operations. speaking last month as the marines started handing over authority for sangin to us forces lieutenant colonel paul james commanding officer of 40 commando royal marines said: it’s been a hard fight for 40 commando royal marines in sangin but we have achieved much. we have sought to protect the local people and have worked hard to support the afghan national security forces. our partners in the ana [afghan national army] and anp [afghan national police] have improved tremendously. they have provided the security for the district governor to spread the influence of the afghan government. the bazaar itself central to the economy of the area is thriving and a much more bustling place than when we arrived with new shops opening all the time. there is still work to do and we are confident that our american partners will build on what we have achieved. we have lost brave marines but we will do them proud and return home with our heads held high. british forces have been in sangin a key economic and transport hub since 2006. alongside the afghan national security forces (ansf) they have provided vital security for the local population on behalf of the government of afghanistan enabling development and preventing the insurgency from using sangin as a base from which to mount attacks across helmand. the handover of authority for sangin to us forces allows uk forces to focus their efforts in central helmand where they will continue to deliver effective counter-insurgency operations working alongside the ansf.\""
      ]
     },
     "execution_count": 26,
     "metadata": {},
     "output_type": "execute_result"
    }
   ],
   "source": [
    "data['combined_text'].iloc[100000]"
   ]
  },
  {
   "cell_type": "code",
   "execution_count": 25,
   "metadata": {},
   "outputs": [
    {
     "data": {
      "text/plain": [
       "'bittersweet return sangin royal marines first royal marines commando returned home yesterday six-month deployment sangin helmand province considered dangerous places foreign troops afghanistan marines commando part commando brigade deployed sangin april command mechanized brigade operation herrick are last british unit serve area having handed authority forces last few weeks see related news more first marines return home were 114-strong charlie company arrived home base norton manor camp taunton somerset yesterday wednesday october were greeted more friends family members homecoming was described ‘ bittersweet ’ moment officers recognised joy returning friends family was tempered loss unit had experienced tour major duncan forbes officer commanding charlie company said ’ s bittersweet day being people battle group were killed were royal marines sacrifice was made vain did amazing job day showing bravery leadership is humbling leaders look ’ s sad day families have got husbands coming deployment commando worked partnership afghan national security forces disrupt insurgent operations speaking last month marines started handing authority sangin forces lieutenant colonel paul james commanding officer commando royal marines said ’ been hard fight commando royal marines sangin have achieved have sought protect local people have worked hard support afghan national security forces partners ana [ afghan national army ] anp [ national police ] have improved have provided security district governor spread influence afghan government bazaar central economy area is thriving bustling place arrived new shops opening time is work do are confident american partners build have achieved have lost brave marines do proud return home heads held high british forces have been sangin key economic transport hub afghan national security forces ansf have provided vital security local population behalf government afghanistan enabling development preventing insurgency using sangin base mount attacks helmand handover authority sangin forces allows uk forces focus efforts central helmand continue deliver effective counter-insurgency operations working ansf'"
      ]
     },
     "execution_count": 25,
     "metadata": {},
     "output_type": "execute_result"
    }
   ],
   "source": [
    "data['reduced_combined'].iloc[100000]"
   ]
  },
  {
   "cell_type": "code",
   "execution_count": 38,
   "metadata": {},
   "outputs": [
    {
     "data": {
      "text/plain": [
       "Index(['base_path', 'content_id', 'description', 'details', 'document_type',\n",
       "       'first_published_at', 'locale', 'primary_publishing_organisation',\n",
       "       'publishing_app', 'title', 'document_type_gp', 'body', 'combined_text',\n",
       "       'taxon_id', 'taxon_base_path', 'taxon_name', 'level1taxon',\n",
       "       'level2taxon', 'level3taxon', 'level4taxon', 'level5taxon', 'title_len',\n",
       "       'description_len', 'body_len', 'combined_text_len', 'reduced_combined'],\n",
       "      dtype='object')"
      ]
     },
     "execution_count": 38,
     "metadata": {},
     "output_type": "execute_result"
    }
   ],
   "source": [
    "data.columns"
   ]
  },
  {
   "cell_type": "code",
   "execution_count": 30,
   "metadata": {},
   "outputs": [
    {
     "data": {
      "text/plain": [
       "'/Users/felisialoukou/Documents/govuk-taxonomy-supervised-learning/data/labelled_level2_enriched_world_filtered.csv.gz'"
      ]
     },
     "execution_count": 30,
     "metadata": {},
     "output_type": "execute_result"
    }
   ],
   "source": [
    "OUTPUT_PATH = os.path.join(DATADIR, 'labelled_level2_enriched_world_filtered.csv.gz')\n",
    "OUTPUT_PATH"
   ]
  },
  {
   "cell_type": "code",
   "execution_count": 31,
   "metadata": {},
   "outputs": [],
   "source": [
    "data.to_csv(OUTPUT_PATH,index=False,compression='gzip')"
   ]
  },
  {
   "cell_type": "markdown",
   "metadata": {},
   "source": [
    "### Doublecheck."
   ]
  },
  {
   "cell_type": "code",
   "execution_count": 48,
   "metadata": {},
   "outputs": [
    {
     "name": "stderr",
     "output_type": "stream",
     "text": [
      "/Users/felisialoukou/.pyenv/versions/3.4.6/lib/python3.4/site-packages/IPython/core/interactiveshell.py:2728: DtypeWarning: Columns (21) have mixed types. Specify dtype option on import or set low_memory=False.\n",
      "  interactivity=interactivity, compiler=compiler, result=result)\n"
     ]
    }
   ],
   "source": [
    "data_produced = pd.read_csv(OUTPUT_PATH,compression='gzip')"
   ]
  },
  {
   "cell_type": "code",
   "execution_count": 49,
   "metadata": {},
   "outputs": [
    {
     "data": {
      "text/html": [
       "<div>\n",
       "<style scoped>\n",
       "    .dataframe tbody tr th:only-of-type {\n",
       "        vertical-align: middle;\n",
       "    }\n",
       "\n",
       "    .dataframe tbody tr th {\n",
       "        vertical-align: top;\n",
       "    }\n",
       "\n",
       "    .dataframe thead th {\n",
       "        text-align: right;\n",
       "    }\n",
       "</style>\n",
       "<table border=\"1\" class=\"dataframe\">\n",
       "  <thead>\n",
       "    <tr style=\"text-align: right;\">\n",
       "      <th></th>\n",
       "      <th>base_path</th>\n",
       "      <th>content_id</th>\n",
       "      <th>description</th>\n",
       "      <th>details</th>\n",
       "      <th>document_type</th>\n",
       "      <th>first_published_at</th>\n",
       "      <th>locale</th>\n",
       "      <th>primary_publishing_organisation</th>\n",
       "      <th>publishing_app</th>\n",
       "      <th>title</th>\n",
       "      <th>...</th>\n",
       "      <th>combined_text</th>\n",
       "      <th>reduced_combined</th>\n",
       "      <th>taxon_id</th>\n",
       "      <th>taxon_base_path</th>\n",
       "      <th>taxon_name</th>\n",
       "      <th>level1taxon</th>\n",
       "      <th>level2taxon</th>\n",
       "      <th>level3taxon</th>\n",
       "      <th>level4taxon</th>\n",
       "      <th>level5taxon</th>\n",
       "    </tr>\n",
       "  </thead>\n",
       "  <tbody>\n",
       "    <tr>\n",
       "      <th>0</th>\n",
       "      <td>/student-finance-register-login</td>\n",
       "      <td>e57daef4-5eb5-431c-b0ad-14119ab0355f</td>\n",
       "      <td>your student finance online account - check pa...</td>\n",
       "      <td>{'will_continue_on': 'the Student Finance Engl...</td>\n",
       "      <td>transaction</td>\n",
       "      <td>2016-02-29T09:24:10.000+00:00</td>\n",
       "      <td>en</td>\n",
       "      <td>NaN</td>\n",
       "      <td>publisher</td>\n",
       "      <td>student finance login</td>\n",
       "      <td>...</td>\n",
       "      <td>student finance login your student finance onl...</td>\n",
       "      <td>student finance login student finance online a...</td>\n",
       "      <td>64aa6eec-48b5-481d-9131-9c8b6326eea1</td>\n",
       "      <td>/education/student-grants-bursaries-scholarships</td>\n",
       "      <td>Student grants, bursaries and scholarships</td>\n",
       "      <td>Education, training and skills</td>\n",
       "      <td>Funding and finance for students</td>\n",
       "      <td>Student grants, bursaries and scholarships</td>\n",
       "      <td>NaN</td>\n",
       "      <td>NaN</td>\n",
       "    </tr>\n",
       "    <tr>\n",
       "      <th>1</th>\n",
       "      <td>/student-finance-calculator</td>\n",
       "      <td>434b6eb5-33c8-4300-aba3-f5ead58600b8</td>\n",
       "      <td>student finance calculator - get a quick estim...</td>\n",
       "      <td>{'introductory_paragraph': '&lt;p&gt;This calculator...</td>\n",
       "      <td>transaction</td>\n",
       "      <td>2016-02-29T09:24:10.000+00:00</td>\n",
       "      <td>en</td>\n",
       "      <td>NaN</td>\n",
       "      <td>smartanswers</td>\n",
       "      <td>student finance calculator</td>\n",
       "      <td>...</td>\n",
       "      <td>student finance calculator student finance cal...</td>\n",
       "      <td>student finance calculator student finance cal...</td>\n",
       "      <td>64aa6eec-48b5-481d-9131-9c8b6326eea1</td>\n",
       "      <td>/education/student-grants-bursaries-scholarships</td>\n",
       "      <td>Student grants, bursaries and scholarships</td>\n",
       "      <td>Education, training and skills</td>\n",
       "      <td>Funding and finance for students</td>\n",
       "      <td>Student grants, bursaries and scholarships</td>\n",
       "      <td>NaN</td>\n",
       "      <td>NaN</td>\n",
       "    </tr>\n",
       "    <tr>\n",
       "      <th>2</th>\n",
       "      <td>/apply-online-for-student-finance</td>\n",
       "      <td>83155b50-418e-437c-9389-cf0e1302900f</td>\n",
       "      <td>apply online for student finance - online appl...</td>\n",
       "      <td>{'will_continue_on': 'the Student Finance Engl...</td>\n",
       "      <td>transaction</td>\n",
       "      <td>2016-02-29T09:24:10.000+00:00</td>\n",
       "      <td>en</td>\n",
       "      <td>NaN</td>\n",
       "      <td>publisher</td>\n",
       "      <td>apply online for student finance</td>\n",
       "      <td>...</td>\n",
       "      <td>apply online for student finance apply online ...</td>\n",
       "      <td>online student finance apply online student fi...</td>\n",
       "      <td>64aa6eec-48b5-481d-9131-9c8b6326eea1</td>\n",
       "      <td>/education/student-grants-bursaries-scholarships</td>\n",
       "      <td>Student grants, bursaries and scholarships</td>\n",
       "      <td>Education, training and skills</td>\n",
       "      <td>Funding and finance for students</td>\n",
       "      <td>Student grants, bursaries and scholarships</td>\n",
       "      <td>NaN</td>\n",
       "      <td>NaN</td>\n",
       "    </tr>\n",
       "    <tr>\n",
       "      <th>3</th>\n",
       "      <td>/student-finance</td>\n",
       "      <td>d38bafd3-2c46-4be2-b50b-50c2ba7d30ed</td>\n",
       "      <td>student finance - student loans or student gra...</td>\n",
       "      <td>{'parts': [{'title': 'Overview', 'slug': 'over...</td>\n",
       "      <td>guide</td>\n",
       "      <td>2016-02-29T09:24:10.000+00:00</td>\n",
       "      <td>en</td>\n",
       "      <td>NaN</td>\n",
       "      <td>publisher</td>\n",
       "      <td>student finance</td>\n",
       "      <td>...</td>\n",
       "      <td>student finance student finance - student loan...</td>\n",
       "      <td>student finance student finance student loans ...</td>\n",
       "      <td>64aa6eec-48b5-481d-9131-9c8b6326eea1</td>\n",
       "      <td>/education/student-grants-bursaries-scholarships</td>\n",
       "      <td>Student grants, bursaries and scholarships</td>\n",
       "      <td>Education, training and skills</td>\n",
       "      <td>Funding and finance for students</td>\n",
       "      <td>Student grants, bursaries and scholarships</td>\n",
       "      <td>NaN</td>\n",
       "      <td>NaN</td>\n",
       "    </tr>\n",
       "    <tr>\n",
       "      <th>4</th>\n",
       "      <td>/apply-for-student-finance</td>\n",
       "      <td>06017464-d3e2-4a4c-8bef-250eff0de7e4</td>\n",
       "      <td>how to apply for student finance - when to app...</td>\n",
       "      <td>{'parts': [{'title': 'How to apply', 'slug': '...</td>\n",
       "      <td>guide</td>\n",
       "      <td>2016-02-29T09:24:10.000+00:00</td>\n",
       "      <td>en</td>\n",
       "      <td>NaN</td>\n",
       "      <td>publisher</td>\n",
       "      <td>student finance: how to apply</td>\n",
       "      <td>...</td>\n",
       "      <td>student finance: how to apply how to apply for...</td>\n",
       "      <td>student finance apply apply student finance ap...</td>\n",
       "      <td>64aa6eec-48b5-481d-9131-9c8b6326eea1</td>\n",
       "      <td>/education/student-grants-bursaries-scholarships</td>\n",
       "      <td>Student grants, bursaries and scholarships</td>\n",
       "      <td>Education, training and skills</td>\n",
       "      <td>Funding and finance for students</td>\n",
       "      <td>Student grants, bursaries and scholarships</td>\n",
       "      <td>NaN</td>\n",
       "      <td>NaN</td>\n",
       "    </tr>\n",
       "  </tbody>\n",
       "</table>\n",
       "<p>5 rows × 22 columns</p>\n",
       "</div>"
      ],
      "text/plain": [
       "                           base_path                            content_id  \\\n",
       "0    /student-finance-register-login  e57daef4-5eb5-431c-b0ad-14119ab0355f   \n",
       "1        /student-finance-calculator  434b6eb5-33c8-4300-aba3-f5ead58600b8   \n",
       "2  /apply-online-for-student-finance  83155b50-418e-437c-9389-cf0e1302900f   \n",
       "3                   /student-finance  d38bafd3-2c46-4be2-b50b-50c2ba7d30ed   \n",
       "4         /apply-for-student-finance  06017464-d3e2-4a4c-8bef-250eff0de7e4   \n",
       "\n",
       "                                         description  \\\n",
       "0  your student finance online account - check pa...   \n",
       "1  student finance calculator - get a quick estim...   \n",
       "2  apply online for student finance - online appl...   \n",
       "3  student finance - student loans or student gra...   \n",
       "4  how to apply for student finance - when to app...   \n",
       "\n",
       "                                             details document_type  \\\n",
       "0  {'will_continue_on': 'the Student Finance Engl...   transaction   \n",
       "1  {'introductory_paragraph': '<p>This calculator...   transaction   \n",
       "2  {'will_continue_on': 'the Student Finance Engl...   transaction   \n",
       "3  {'parts': [{'title': 'Overview', 'slug': 'over...         guide   \n",
       "4  {'parts': [{'title': 'How to apply', 'slug': '...         guide   \n",
       "\n",
       "              first_published_at locale primary_publishing_organisation  \\\n",
       "0  2016-02-29T09:24:10.000+00:00     en                             NaN   \n",
       "1  2016-02-29T09:24:10.000+00:00     en                             NaN   \n",
       "2  2016-02-29T09:24:10.000+00:00     en                             NaN   \n",
       "3  2016-02-29T09:24:10.000+00:00     en                             NaN   \n",
       "4  2016-02-29T09:24:10.000+00:00     en                             NaN   \n",
       "\n",
       "  publishing_app                             title     ...      \\\n",
       "0      publisher             student finance login     ...       \n",
       "1   smartanswers        student finance calculator     ...       \n",
       "2      publisher  apply online for student finance     ...       \n",
       "3      publisher                   student finance     ...       \n",
       "4      publisher     student finance: how to apply     ...       \n",
       "\n",
       "                                       combined_text  \\\n",
       "0  student finance login your student finance onl...   \n",
       "1  student finance calculator student finance cal...   \n",
       "2  apply online for student finance apply online ...   \n",
       "3  student finance student finance - student loan...   \n",
       "4  student finance: how to apply how to apply for...   \n",
       "\n",
       "                                    reduced_combined  \\\n",
       "0  student finance login student finance online a...   \n",
       "1  student finance calculator student finance cal...   \n",
       "2  online student finance apply online student fi...   \n",
       "3  student finance student finance student loans ...   \n",
       "4  student finance apply apply student finance ap...   \n",
       "\n",
       "                               taxon_id  \\\n",
       "0  64aa6eec-48b5-481d-9131-9c8b6326eea1   \n",
       "1  64aa6eec-48b5-481d-9131-9c8b6326eea1   \n",
       "2  64aa6eec-48b5-481d-9131-9c8b6326eea1   \n",
       "3  64aa6eec-48b5-481d-9131-9c8b6326eea1   \n",
       "4  64aa6eec-48b5-481d-9131-9c8b6326eea1   \n",
       "\n",
       "                                    taxon_base_path  \\\n",
       "0  /education/student-grants-bursaries-scholarships   \n",
       "1  /education/student-grants-bursaries-scholarships   \n",
       "2  /education/student-grants-bursaries-scholarships   \n",
       "3  /education/student-grants-bursaries-scholarships   \n",
       "4  /education/student-grants-bursaries-scholarships   \n",
       "\n",
       "                                   taxon_name                     level1taxon  \\\n",
       "0  Student grants, bursaries and scholarships  Education, training and skills   \n",
       "1  Student grants, bursaries and scholarships  Education, training and skills   \n",
       "2  Student grants, bursaries and scholarships  Education, training and skills   \n",
       "3  Student grants, bursaries and scholarships  Education, training and skills   \n",
       "4  Student grants, bursaries and scholarships  Education, training and skills   \n",
       "\n",
       "                        level2taxon  \\\n",
       "0  Funding and finance for students   \n",
       "1  Funding and finance for students   \n",
       "2  Funding and finance for students   \n",
       "3  Funding and finance for students   \n",
       "4  Funding and finance for students   \n",
       "\n",
       "                                  level3taxon level4taxon level5taxon  \n",
       "0  Student grants, bursaries and scholarships         NaN         NaN  \n",
       "1  Student grants, bursaries and scholarships         NaN         NaN  \n",
       "2  Student grants, bursaries and scholarships         NaN         NaN  \n",
       "3  Student grants, bursaries and scholarships         NaN         NaN  \n",
       "4  Student grants, bursaries and scholarships         NaN         NaN  \n",
       "\n",
       "[5 rows x 22 columns]"
      ]
     },
     "execution_count": 49,
     "metadata": {},
     "output_type": "execute_result"
    }
   ],
   "source": [
    "data_produced.head()"
   ]
  },
  {
   "cell_type": "code",
   "execution_count": 50,
   "metadata": {},
   "outputs": [
    {
     "data": {
      "text/plain": [
       "Index(['base_path', 'content_id', 'description', 'details', 'document_type',\n",
       "       'first_published_at', 'locale', 'primary_publishing_organisation',\n",
       "       'publishing_app', 'title', 'document_type_gp', 'body', 'combined_text',\n",
       "       'reduced_combined', 'taxon_id', 'taxon_base_path', 'taxon_name',\n",
       "       'level1taxon', 'level2taxon', 'level3taxon', 'level4taxon',\n",
       "       'level5taxon'],\n",
       "      dtype='object')"
      ]
     },
     "execution_count": 50,
     "metadata": {},
     "output_type": "execute_result"
    }
   ],
   "source": [
    "data_produced.columns"
   ]
  },
  {
   "cell_type": "code",
   "execution_count": 40,
   "metadata": {},
   "outputs": [],
   "source": [
    "data_produced.drop(['title_len',\n",
    "       'description_len', 'body_len', 'combined_text_len'],axis=1,inplace=True)"
   ]
  },
  {
   "cell_type": "code",
   "execution_count": 45,
   "metadata": {},
   "outputs": [],
   "source": [
    "data_produced = data_produced[['base_path', 'content_id', 'description', 'details', 'document_type',\n",
    "       'first_published_at', 'locale', 'primary_publishing_organisation',\n",
    "       'publishing_app', 'title', 'document_type_gp', 'body', 'combined_text',\n",
    "       'reduced_combined',\n",
    "       'taxon_id', 'taxon_base_path', 'taxon_name', 'level1taxon',\n",
    "       'level2taxon', 'level3taxon', 'level4taxon', 'level5taxon']]"
   ]
  },
  {
   "cell_type": "code",
   "execution_count": 47,
   "metadata": {},
   "outputs": [],
   "source": [
    "data_produced.to_csv(OUTPUT_PATH,index=False,compression='gzip')"
   ]
  },
  {
   "cell_type": "markdown",
   "metadata": {},
   "source": [
    "### 3.2 Using Stanford pos_tagger\n",
    "* Should switch to coreNLP\n",
    "* Not that much of a difference, VBs still getting confused with NNs.\n",
    "* Takes a really long time to run, if using Java, opt for this."
   ]
  },
  {
   "cell_type": "code",
   "execution_count": 13,
   "metadata": {},
   "outputs": [
    {
     "name": "stderr",
     "output_type": "stream",
     "text": [
      "/Users/felisialoukou/.pyenv/versions/3.4.6/lib/python3.4/site-packages/nltk/tag/stanford.py:149: DeprecationWarning: \n",
      "The StanfordTokenizer will be deprecated in version 3.2.5.\n",
      "Please use \u001b[91mnltk.tag.corenlp.CoreNLPPOSTagger\u001b[0m or \u001b[91mnltk.tag.corenlp.CoreNLPNERTagger\u001b[0m instead.\n",
      "  super(StanfordPOSTagger, self).__init__(*args, **kwargs)\n"
     ]
    }
   ],
   "source": [
    "# StanfordPOSTagger\n",
    "from nltk.tag.stanford import StanfordPOSTagger\n",
    "stanford_dir = '/Users/felisialoukou/Downloads/stanford-postagger-full-2017-06-09/'\n",
    "modelfile = stanford_dir + 'models/english-bidirectional-distsim.tagger'\n",
    "jarfile = stanford_dir + 'stanford-postagger.jar'\n",
    "\n",
    "st = StanfordPOSTagger(model_filename=modelfile, path_to_jar=jarfile)"
   ]
  },
  {
   "cell_type": "code",
   "execution_count": 16,
   "metadata": {},
   "outputs": [
    {
     "data": {
      "text/plain": [
       "'student finance login your student finance online account - check payment dates track an application change details reset password find customer reference numbers sign in or register for student finance online.'"
      ]
     },
     "execution_count": 16,
     "metadata": {},
     "output_type": "execute_result"
    }
   ],
   "source": [
    "tokenized[0]"
   ]
  },
  {
   "cell_type": "code",
   "execution_count": 20,
   "metadata": {},
   "outputs": [
    {
     "data": {
      "text/plain": [
       "[('student', 'NN'),\n",
       " ('finance', 'NN'),\n",
       " ('login', 'NN'),\n",
       " ('your', 'PRP$'),\n",
       " ('student', 'NN'),\n",
       " ('finance', 'NN'),\n",
       " ('online', 'NN'),\n",
       " ('account', 'NN'),\n",
       " ('-', ':'),\n",
       " ('check', 'NN'),\n",
       " ('payment', 'NN'),\n",
       " ('dates', 'NNS'),\n",
       " ('track', 'VBP'),\n",
       " ('an', 'DT'),\n",
       " ('application', 'NN'),\n",
       " ('change', 'NN'),\n",
       " ('details', 'NNS'),\n",
       " ('reset', 'VBP'),\n",
       " ('password', 'NN'),\n",
       " ('find', 'VBP'),\n",
       " ('customer', 'NN'),\n",
       " ('reference', 'NN'),\n",
       " ('numbers', 'NNS'),\n",
       " ('sign', 'VBP'),\n",
       " ('in', 'IN'),\n",
       " ('or', 'CC'),\n",
       " ('register', 'NN'),\n",
       " ('for', 'IN'),\n",
       " ('student', 'NN'),\n",
       " ('finance', 'NN'),\n",
       " ('online.', 'NN')]"
      ]
     },
     "execution_count": 20,
     "metadata": {},
     "output_type": "execute_result"
    }
   ],
   "source": [
    "st.tag(tokenized[0].split())"
   ]
  }
 ],
 "metadata": {
  "kernelspec": {
   "display_name": "taxon-sl",
   "language": "python",
   "name": "taxon-sl"
  },
  "language_info": {
   "codemirror_mode": {
    "name": "ipython",
    "version": 3
   },
   "file_extension": ".py",
   "mimetype": "text/x-python",
   "name": "python",
   "nbconvert_exporter": "python",
   "pygments_lexer": "ipython3",
   "version": "3.4.6"
  }
 },
 "nbformat": 4,
 "nbformat_minor": 2
}
