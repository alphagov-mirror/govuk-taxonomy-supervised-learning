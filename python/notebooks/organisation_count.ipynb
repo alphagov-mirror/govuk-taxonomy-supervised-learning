{
 "cells": [
  {
   "cell_type": "code",
   "execution_count": 2,
   "metadata": {
    "scrolled": true
   },
   "outputs": [],
   "source": [
    "import pandas as pd\n",
    "import numpy as np\n",
    "import os"
   ]
  },
  {
   "cell_type": "markdown",
   "metadata": {},
   "source": [
    "## Environmental vars"
   ]
  },
  {
   "cell_type": "code",
   "execution_count": 3,
   "metadata": {
    "scrolled": true
   },
   "outputs": [
    {
     "data": {
      "text/plain": [
       "'/Users/felisialoukou/Documents/govuk-taxonomy-supervised-learning/data/2018-03-12'"
      ]
     },
     "execution_count": 3,
     "metadata": {},
     "output_type": "execute_result"
    }
   ],
   "source": [
    "DATADIR=os.getenv('DATADIR')\n",
    "RESULTS_DIR = os.path.join(DATADIR, \"2018-03-12\")\n",
    "RESULTS_DIR"
   ]
  },
  {
   "cell_type": "markdown",
   "metadata": {},
   "source": [
    "## Get some data about taxons/content"
   ]
  },
  {
   "cell_type": "code",
   "execution_count": 4,
   "metadata": {},
   "outputs": [],
   "source": [
    "labelled_level2 = pd.read_csv(\n",
    "    os.path.join(RESULTS_DIR, 'labelled_level2.csv.gz'),\n",
    "    dtype=object,\n",
    "    compression='gzip'\n",
    ")"
   ]
  },
  {
   "cell_type": "code",
   "execution_count": 5,
   "metadata": {},
   "outputs": [],
   "source": [
    "# Create World taxon in case any items not identified \n",
    "# through doc type in clean_content are still present\n",
    "labelled_level2.loc[labelled_level2['level1taxon'] == 'World', 'level2taxon'] = 'world_level1'"
   ]
  },
  {
   "cell_type": "code",
   "execution_count": 6,
   "metadata": {},
   "outputs": [],
   "source": [
    "# creating categorical variable for level2taxons from values\n",
    "labelled_level2['level2taxon'] = labelled_level2['level2taxon'].astype('category')\n",
    "\n",
    "# Add 1 because of zero-indexing to get 1-number of level2taxons as numerical targets\n",
    "labelled_level2['level2taxon_code'] = labelled_level2.level2taxon.astype('category').cat.codes + 1\n",
    "\n",
    "# create dictionary of taxon category code to string label for use in model evaluation\n",
    "labels_index = dict(zip((labelled_level2['level2taxon_code']),\n",
    "                        labelled_level2['level2taxon']))"
   ]
  },
  {
   "cell_type": "code",
   "execution_count": 7,
   "metadata": {},
   "outputs": [
    {
     "data": {
      "text/plain": [
       "(172345, 32)"
      ]
     },
     "execution_count": 7,
     "metadata": {},
     "output_type": "execute_result"
    }
   ],
   "source": [
    "labelled_level2.shape"
   ]
  },
  {
   "cell_type": "code",
   "execution_count": 8,
   "metadata": {},
   "outputs": [],
   "source": [
    "labelled_level2.drop_duplicates(subset='content_id', keep='first', inplace=True)"
   ]
  },
  {
   "cell_type": "code",
   "execution_count": 9,
   "metadata": {},
   "outputs": [],
   "source": [
    "dict_pub = labelled_level2['primary_publishing_organisation'].value_counts()"
   ]
  },
  {
   "cell_type": "code",
   "execution_count": 10,
   "metadata": {},
   "outputs": [
    {
     "name": "stdout",
     "output_type": "stream",
     "text": [
      "Office of the Schools Adjudicator\n",
      "Groceries Code Adjudicator\n",
      "Pubs Code Adjudicator\n"
     ]
    }
   ],
   "source": [
    "for key,value in dict_pub.items():\n",
    "    if isinstance(key,str) and \"Adju\" in key:\n",
    "        print(key)"
   ]
  },
  {
   "cell_type": "code",
   "execution_count": 11,
   "metadata": {},
   "outputs": [],
   "source": [
    "list_org = ['Valuation Office Agency','HM Revenue & Customs','District Valuer Services (DVS)']"
   ]
  },
  {
   "cell_type": "code",
   "execution_count": 12,
   "metadata": {},
   "outputs": [
    {
     "data": {
      "text/plain": [
       "Index(['base_path', 'content_id', 'content_purpose_document_supertype',\n",
       "       'content_purpose_subgroup', 'content_purpose_supergroup', 'description',\n",
       "       'details', 'document_type', 'email_document_supertype',\n",
       "       'first_published_at', 'government_document_supertype', 'locale',\n",
       "       'navigation_document_supertype', 'public_updated_at', 'publishing_app',\n",
       "       'search_user_need_document_supertype', 'title', 'updated_at',\n",
       "       'user_journey_document_supertype', 'document_type_gp',\n",
       "       'primary_publishing_organisation', 'body', 'combined_text', 'taxon_id',\n",
       "       'taxon_base_path', 'taxon_name', 'level1taxon', 'level2taxon',\n",
       "       'level3taxon', 'level4taxon', 'level5taxon', 'level2taxon_code'],\n",
       "      dtype='object')"
      ]
     },
     "execution_count": 12,
     "metadata": {},
     "output_type": "execute_result"
    }
   ],
   "source": [
    "labelled_level2.columns"
   ]
  },
  {
   "cell_type": "code",
   "execution_count": 13,
   "metadata": {},
   "outputs": [
    {
     "name": "stdout",
     "output_type": "stream",
     "text": [
      "Valuation Office Agency : 44\n",
      "HM Revenue & Customs : 663\n",
      "District Valuer Services (DVS) : 4\n"
     ]
    }
   ],
   "source": [
    "for org in list_org:\n",
    "    print(org,\":\",labelled_level2.loc[(labelled_level2['primary_publishing_organisation']==org) & \n",
    "                                      (labelled_level2['level3taxon'].isnull())].shape[0])"
   ]
  },
  {
   "cell_type": "code",
   "execution_count": 14,
   "metadata": {},
   "outputs": [
    {
     "data": {
      "text/plain": [
       "0          True\n",
       "1          True\n",
       "2          True\n",
       "3          True\n",
       "4          True\n",
       "5          True\n",
       "6          True\n",
       "7          True\n",
       "8          True\n",
       "9          True\n",
       "10         True\n",
       "11         True\n",
       "12         True\n",
       "13         True\n",
       "14         True\n",
       "15         True\n",
       "16         True\n",
       "17         True\n",
       "18         True\n",
       "19         True\n",
       "20         True\n",
       "21         True\n",
       "22         True\n",
       "23         True\n",
       "24         True\n",
       "25         True\n",
       "26         True\n",
       "27         True\n",
       "28         True\n",
       "29         True\n",
       "          ...  \n",
       "172215    False\n",
       "172216    False\n",
       "172217    False\n",
       "172218    False\n",
       "172219    False\n",
       "172220    False\n",
       "172221    False\n",
       "172222    False\n",
       "172224    False\n",
       "172225    False\n",
       "172226    False\n",
       "172228    False\n",
       "172229    False\n",
       "172230    False\n",
       "172231    False\n",
       "172232    False\n",
       "172233    False\n",
       "172234    False\n",
       "172235    False\n",
       "172236    False\n",
       "172237    False\n",
       "172238    False\n",
       "172282    False\n",
       "172283    False\n",
       "172284    False\n",
       "172285    False\n",
       "172286    False\n",
       "172299    False\n",
       "172306    False\n",
       "172307    False\n",
       "Name: level3taxon, Length: 123900, dtype: bool"
      ]
     },
     "execution_count": 14,
     "metadata": {},
     "output_type": "execute_result"
    }
   ],
   "source": [
    "labelled_level2['level3taxon'].isnull()"
   ]
  },
  {
   "cell_type": "code",
   "execution_count": 15,
   "metadata": {},
   "outputs": [],
   "source": [
    "path = os.path.join(DATADIR, \"hm-revenue-customs_and_descendants.txt\")"
   ]
  },
  {
   "cell_type": "code",
   "execution_count": 16,
   "metadata": {},
   "outputs": [],
   "source": [
    "lines = []"
   ]
  },
  {
   "cell_type": "code",
   "execution_count": 17,
   "metadata": {},
   "outputs": [
    {
     "name": "stdout",
     "output_type": "stream",
     "text": [
      "found lvl2 ['', '', '', '1', '', '', '', '', 'Welfare', 'reform'] 1\n",
      "found lvl2 ['', '', '38', '', '', '', '', 'Tax', 'credits'] 38\n",
      "found lvl2 ['', '', '26', '', '', '', '', 'Child', 'Benefit', '(welfare', 'theme)'] 26\n",
      "found lvl2 ['', '', '', '1', '', '', '', '', 'Arts', 'and', 'culture'] 1\n",
      "found lvl2 ['', '', '', '2', '', '', '', '', 'Community', 'and', 'society'] 2\n",
      "found lvl2 ['', '', '', '1', '', '', '', '', 'Sports', 'and', 'leisure'] 1\n",
      "found lvl2 ['', '', '', '2', '', '', '', '', 'Rural', 'and', 'countryside'] 2\n",
      "found lvl2 ['', '', '', '0', '', '', '', '', 'Oil', 'and', 'gas'] 0\n",
      "found lvl2 ['', '', '40', '', '', '', '', 'Climate', 'change', 'and', 'energy'] 40\n",
      "found lvl2 ['', '', '', '1', '', '', '', '', 'Food', 'and', 'farming'] 1\n",
      "found lvl2 ['', '', '', '1', '', '', '', '', 'Freight', 'and', 'cargo'] 1\n",
      "found lvl2 ['', '', '', '1', '', '', '', '', 'Transport', 'security'] 1\n",
      "found lvl2 ['', '', '', '0', '', '', '', '', 'Driving', 'and', 'road', 'transport'] 0\n",
      "found lvl2 ['', '', '', '0', '', '', '', '', 'Maritime'] 0\n",
      "found lvl2 ['', '', '', '1', '', '', '', '', 'National', 'Health', 'Service'] 1\n",
      "found lvl2 ['', '', '', '2', '', '', '', '', 'Social', 'care'] 2\n",
      "found lvl2 ['', '', '', '3', '', '', '', '', 'Public', 'health'] 3\n",
      "found lvl2 ['', '', '', '1', '', '', '', '', 'Media', 'and', 'communications'] 1\n",
      "found lvl2 ['', '', '', '1', '', '', '', '', 'Regulation', 'reform'] 1\n",
      "found lvl2 ['', '', '', '3', '', '', '', '', 'Financial', 'services'] 3\n",
      "found lvl2 ['', '183', '', '', '', '', 'Trade', 'and', 'investment'] 183\n",
      "found lvl2 ['', '', '11', '', '', '', '', 'Business', 'and', 'enterprise'] 11\n",
      "found lvl2 ['', '131', '', '', '', '', 'UK', 'economy'] 131\n",
      "found lvl2 ['', '', '', '0', '', '', '', '', 'Local', 'government'] 0\n",
      "found lvl2 ['', '', '', '2', '', '', '', '', 'Scotland'] 2\n",
      "found lvl2 ['', '', '', '1', '', '', '', '', 'Government', 'graduate', 'schemes'] 1\n",
      "found lvl2 ['', '', '39', '', '', '', '', 'Self-employment'] 39\n",
      "found lvl2 ['', '', '', '9', '', '', '', '', 'Pensions', 'and', 'ageing', 'society'] 9\n",
      "found lvl2 ['', '135', '', '', '', '', 'Tax', 'evasion', 'and', 'avoidance'] 135\n",
      "found lvl2 ['', '', '15', '', '', '', '', 'Money', 'laundering', 'regulations'] 15\n",
      "found lvl2 ['', '', '', '0', '', '', '', '', 'Personal', 'tax'] 0\n",
      "found lvl2 ['', '', '', '1', '', '', '', '', 'Business', 'tax'] 1\n",
      "found lvl2 ['', '', '', '0', '', '', '', '', 'Dealing', 'with', 'HMRC'] 0\n",
      "found lvl2 ['', '', '', '0', '', '', '', '', 'Visas', 'and', 'entry', 'clearance'] 0\n",
      "found lvl2 ['', '', '', '1', '', '', '', '', 'Bringing', 'personal', 'belongings', 'to', 'the', 'UK'] 1\n"
     ]
    },
    {
     "data": {
      "text/plain": [
       "653"
      ]
     },
     "execution_count": 17,
     "metadata": {},
     "output_type": "execute_result"
    }
   ],
   "source": [
    "total = 0\n",
    "with open(path,'r') as f:\n",
    "    for line in f: \n",
    "        token_line = line.strip(\"\\n\").split(\" \")\n",
    "#         print(token_line)\n",
    "        for i,token in enumerate(token_line):\n",
    "            local_count = 0\n",
    "            if token.isdigit():\n",
    "#                 print(token_line[i])\n",
    "                for j in range(i+1,len(token_line)):\n",
    "#                     print(\"j\",j)\n",
    "                    if token_line[j] == \"\":\n",
    "                        local_count+=1\n",
    "#                         print(\"Spaces in:\",local_count)\n",
    "                    else:\n",
    "#                         print('found word',token_line[j])\n",
    "                        break\n",
    "            if local_count == 4:\n",
    "                something = line.strip(\"\\n\").split()\n",
    "                print(\"found lvl2\",token_line,something[0])\n",
    "                total+= int(something[0])\n",
    "                break\n",
    "total"
   ]
  },
  {
   "cell_type": "code",
   "execution_count": null,
   "metadata": {},
   "outputs": [],
   "source": [
    "clean_content = pd.read_csv(\n",
    "    os.path.join(RESULTS_DIR, 'clean_content.csv.gz'),\n",
    "    dtype=object,\n",
    "    compression='gzip'\n",
    ")"
   ]
  },
  {
   "cell_type": "code",
   "execution_count": null,
   "metadata": {},
   "outputs": [],
   "source": [
    "clean_content.head()"
   ]
  },
  {
   "cell_type": "code",
   "execution_count": null,
   "metadata": {},
   "outputs": [],
   "source": [
    "for org in list_org:\n",
    "    print(org,\":\",clean_content.loc[(clean_content['primary_publishing_organisation']==org)].shape[0])"
   ]
  },
  {
   "cell_type": "code",
   "execution_count": null,
   "metadata": {},
   "outputs": [],
   "source": [
    "dict_pub_all = clean_content['primary_publishing_organisation'].value_counts()\n",
    "\n",
    "for key,value in dict_pub.items():\n",
    "    if isinstance(key,str) and \"Adju\" in key:\n",
    "        print(key)"
   ]
  },
  {
   "cell_type": "code",
   "execution_count": null,
   "metadata": {},
   "outputs": [],
   "source": [
    "clean_content.columns"
   ]
  },
  {
   "cell_type": "code",
   "execution_count": null,
   "metadata": {},
   "outputs": [],
   "source": [
    "content = pd.read_json(\n",
    "    os.path.join(RESULTS_DIR, 'content.json.gz'),\n",
    "    compression='gzip',\n",
    "    orient='table',\n",
    "    typ='frame',\n",
    "    dtype=True,\n",
    "    convert_axes=True,\n",
    "    convert_dates=True,\n",
    "    keep_default_dates=True,\n",
    "    numpy=False,\n",
    "    precise_float=False,\n",
    "    date_unit=None\n",
    ")"
   ]
  },
  {
   "cell_type": "code",
   "execution_count": null,
   "metadata": {},
   "outputs": [],
   "source": [
    "content['links'].iloc[0]"
   ]
  },
  {
   "cell_type": "code",
   "execution_count": null,
   "metadata": {},
   "outputs": [],
   "source": [
    "def org_mapper(x_links):\n",
    "    if 'organisations' in x_links:\n",
    "        return x_links['organisations'][0]['title']\n",
    "    \n",
    "def pub_mapper(x_links):\n",
    "    if 'primary_publishing_organisation' in x_links:\n",
    "        return x_links['primary_publishing_organisation'][0]['title']\n",
    "    else:\n",
    "        return np.NaN"
   ]
  },
  {
   "cell_type": "code",
   "execution_count": null,
   "metadata": {},
   "outputs": [],
   "source": [
    "def pub_org_mapper(x_links,option):\n",
    "    if option in x_links:\n",
    "        return x_links[option][0]['title']\n",
    "    else:\n",
    "        return np.NaN\n",
    "    \n",
    "content['organisations2'] = content['links'].map(lambda x: pub_org_mapper(x,\"organisations\"))"
   ]
  },
  {
   "cell_type": "code",
   "execution_count": null,
   "metadata": {},
   "outputs": [],
   "source": [
    "    \n",
    "content['organisations2'][0:10]"
   ]
  },
  {
   "cell_type": "code",
   "execution_count": null,
   "metadata": {},
   "outputs": [],
   "source": [
    "content['organisations'] = content['links'].map(pub_mapper)\n",
    "content['primary_publishing_organisation'] = content['links'].map(pub_mapper)"
   ]
  },
  {
   "cell_type": "code",
   "execution_count": null,
   "metadata": {},
   "outputs": [],
   "source": [
    "dict_organisations = content['organisations'].value_counts()\n",
    "prim_organisations = content['primary_publishing_organisation'].value_counts()"
   ]
  },
  {
   "cell_type": "code",
   "execution_count": null,
   "metadata": {},
   "outputs": [],
   "source": [
    "len(prim_organisations)"
   ]
  },
  {
   "cell_type": "code",
   "execution_count": null,
   "metadata": {},
   "outputs": [],
   "source": [
    "for item in list_org:\n",
    "    print(item,(item in dict_organisations.keys()))"
   ]
  },
  {
   "cell_type": "code",
   "execution_count": null,
   "metadata": {},
   "outputs": [],
   "source": [
    "for org in list_org:\n",
    "    sum_org = 0 \n",
    "    sum_org = content.loc[content['organisations']==org].shape[0] + content.loc\\\n",
    "                    [content['primary_publishing_organisation']==org].shape[0]\n",
    "    print(org,\":\",sum_org)"
   ]
  },
  {
   "cell_type": "code",
   "execution_count": null,
   "metadata": {},
   "outputs": [],
   "source": [
    "content['document_type'].loc[(content['primary_publishing_organisation'].isnull()) \\\n",
    "            & (content['organisations'].isnull())].value_counts()"
   ]
  },
  {
   "cell_type": "code",
   "execution_count": null,
   "metadata": {},
   "outputs": [],
   "source": [
    "Primary Publishing Organisation\n",
    "\n",
    "Valuation Office Agency : 374\n",
    "HM Revenue & Customs : 6645\n",
    "District Valuer Services (DVS) : 8\n",
    "    \n",
    "Organisations\n",
    "\n",
    "Valuation Office Agency : 411\n",
    "HM Revenue & Customs : 7416\n",
    "District Valuer Services (DVS) : 6\n",
    "    \n",
    "Valuation Office Agency : 785\n",
    "HM Revenue & Customs : 14061\n",
    "District Valuer Services (DVS) : 14"
   ]
  }
 ],
 "metadata": {
  "kernelspec": {
   "display_name": "taxon-sl",
   "language": "python",
   "name": "taxon-sl"
  },
  "language_info": {
   "codemirror_mode": {
    "name": "ipython",
    "version": 3
   },
   "file_extension": ".py",
   "mimetype": "text/x-python",
   "name": "python",
   "nbconvert_exporter": "python",
   "pygments_lexer": "ipython3",
   "version": "3.4.6"
  }
 },
 "nbformat": 4,
 "nbformat_minor": 2
}
