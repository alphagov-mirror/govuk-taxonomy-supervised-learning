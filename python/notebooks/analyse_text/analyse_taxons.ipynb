{
 "cells": [
  {
   "cell_type": "code",
   "execution_count": 119,
   "metadata": {},
   "outputs": [],
   "source": [
    "import pandas as pd\n",
    "import numpy as np\n",
    "import os\n",
    "import operator\n",
    "import time"
   ]
  },
  {
   "cell_type": "markdown",
   "metadata": {},
   "source": [
    "## 1. Read data."
   ]
  },
  {
   "cell_type": "code",
   "execution_count": 120,
   "metadata": {},
   "outputs": [
    {
     "name": "stdout",
     "output_type": "stream",
     "text": [
      "/Users/felisialoukou/Documents/govuk-taxonomy-supervised-learning/data\n"
     ]
    }
   ],
   "source": [
    "DATADIR=os.getenv('DATADIR')\n",
    "print(DATADIR)\n",
    "DATAPATH = os.path.join(DATADIR, 'labelled_level2.csv.gz')"
   ]
  },
  {
   "cell_type": "code",
   "execution_count": 121,
   "metadata": {},
   "outputs": [
    {
     "name": "stderr",
     "output_type": "stream",
     "text": [
      "/Users/felisialoukou/.pyenv/versions/3.4.6/lib/python3.4/site-packages/IPython/core/interactiveshell.py:2728: DtypeWarning: Columns (20) have mixed types. Specify dtype option on import or set low_memory=False.\n",
      "  interactivity=interactivity, compiler=compiler, result=result)\n"
     ]
    },
    {
     "data": {
      "text/plain": [
       "(173560, 21)"
      ]
     },
     "execution_count": 121,
     "metadata": {},
     "output_type": "execute_result"
    }
   ],
   "source": [
    "data = pd.read_csv(DATAPATH,compression='gzip')\n",
    "data.shape"
   ]
  },
  {
   "cell_type": "code",
   "execution_count": 122,
   "metadata": {},
   "outputs": [
    {
     "data": {
      "text/html": [
       "<div>\n",
       "<style scoped>\n",
       "    .dataframe tbody tr th:only-of-type {\n",
       "        vertical-align: middle;\n",
       "    }\n",
       "\n",
       "    .dataframe tbody tr th {\n",
       "        vertical-align: top;\n",
       "    }\n",
       "\n",
       "    .dataframe thead th {\n",
       "        text-align: right;\n",
       "    }\n",
       "</style>\n",
       "<table border=\"1\" class=\"dataframe\">\n",
       "  <thead>\n",
       "    <tr style=\"text-align: right;\">\n",
       "      <th></th>\n",
       "      <th>base_path</th>\n",
       "      <th>content_id</th>\n",
       "      <th>description</th>\n",
       "      <th>details</th>\n",
       "      <th>document_type</th>\n",
       "      <th>first_published_at</th>\n",
       "      <th>locale</th>\n",
       "      <th>primary_publishing_organisation</th>\n",
       "      <th>publishing_app</th>\n",
       "      <th>title</th>\n",
       "      <th>...</th>\n",
       "      <th>body</th>\n",
       "      <th>combined_text</th>\n",
       "      <th>taxon_id</th>\n",
       "      <th>taxon_base_path</th>\n",
       "      <th>taxon_name</th>\n",
       "      <th>level1taxon</th>\n",
       "      <th>level2taxon</th>\n",
       "      <th>level3taxon</th>\n",
       "      <th>level4taxon</th>\n",
       "      <th>level5taxon</th>\n",
       "    </tr>\n",
       "  </thead>\n",
       "  <tbody>\n",
       "    <tr>\n",
       "      <th>0</th>\n",
       "      <td>/student-finance-register-login</td>\n",
       "      <td>e57daef4-5eb5-431c-b0ad-14119ab0355f</td>\n",
       "      <td>your student finance online account - check pa...</td>\n",
       "      <td>{'will_continue_on': 'the Student Finance Engl...</td>\n",
       "      <td>transaction</td>\n",
       "      <td>2016-02-29T09:24:10.000+00:00</td>\n",
       "      <td>en</td>\n",
       "      <td>NaN</td>\n",
       "      <td>publisher</td>\n",
       "      <td>student finance login</td>\n",
       "      <td>...</td>\n",
       "      <td></td>\n",
       "      <td>student finance login your student finance onl...</td>\n",
       "      <td>64aa6eec-48b5-481d-9131-9c8b6326eea1</td>\n",
       "      <td>/education/student-grants-bursaries-scholarships</td>\n",
       "      <td>Student grants, bursaries and scholarships</td>\n",
       "      <td>Education, training and skills</td>\n",
       "      <td>Funding and finance for students</td>\n",
       "      <td>Student grants, bursaries and scholarships</td>\n",
       "      <td>NaN</td>\n",
       "      <td>NaN</td>\n",
       "    </tr>\n",
       "    <tr>\n",
       "      <th>1</th>\n",
       "      <td>/student-finance-calculator</td>\n",
       "      <td>434b6eb5-33c8-4300-aba3-f5ead58600b8</td>\n",
       "      <td>student finance calculator - get a quick estim...</td>\n",
       "      <td>{'introductory_paragraph': '&lt;p&gt;This calculator...</td>\n",
       "      <td>transaction</td>\n",
       "      <td>2016-02-29T09:24:10.000+00:00</td>\n",
       "      <td>en</td>\n",
       "      <td>NaN</td>\n",
       "      <td>smartanswers</td>\n",
       "      <td>student finance calculator</td>\n",
       "      <td>...</td>\n",
       "      <td></td>\n",
       "      <td>student finance calculator student finance cal...</td>\n",
       "      <td>64aa6eec-48b5-481d-9131-9c8b6326eea1</td>\n",
       "      <td>/education/student-grants-bursaries-scholarships</td>\n",
       "      <td>Student grants, bursaries and scholarships</td>\n",
       "      <td>Education, training and skills</td>\n",
       "      <td>Funding and finance for students</td>\n",
       "      <td>Student grants, bursaries and scholarships</td>\n",
       "      <td>NaN</td>\n",
       "      <td>NaN</td>\n",
       "    </tr>\n",
       "    <tr>\n",
       "      <th>2</th>\n",
       "      <td>/apply-online-for-student-finance</td>\n",
       "      <td>83155b50-418e-437c-9389-cf0e1302900f</td>\n",
       "      <td>apply online for student finance - online appl...</td>\n",
       "      <td>{'will_continue_on': 'the Student Finance Engl...</td>\n",
       "      <td>transaction</td>\n",
       "      <td>2016-02-29T09:24:10.000+00:00</td>\n",
       "      <td>en</td>\n",
       "      <td>NaN</td>\n",
       "      <td>publisher</td>\n",
       "      <td>apply online for student finance</td>\n",
       "      <td>...</td>\n",
       "      <td></td>\n",
       "      <td>apply online for student finance apply online ...</td>\n",
       "      <td>64aa6eec-48b5-481d-9131-9c8b6326eea1</td>\n",
       "      <td>/education/student-grants-bursaries-scholarships</td>\n",
       "      <td>Student grants, bursaries and scholarships</td>\n",
       "      <td>Education, training and skills</td>\n",
       "      <td>Funding and finance for students</td>\n",
       "      <td>Student grants, bursaries and scholarships</td>\n",
       "      <td>NaN</td>\n",
       "      <td>NaN</td>\n",
       "    </tr>\n",
       "    <tr>\n",
       "      <th>3</th>\n",
       "      <td>/student-finance</td>\n",
       "      <td>d38bafd3-2c46-4be2-b50b-50c2ba7d30ed</td>\n",
       "      <td>student finance - student loans or student gra...</td>\n",
       "      <td>{'parts': [{'title': 'Overview', 'slug': 'over...</td>\n",
       "      <td>guide</td>\n",
       "      <td>2016-02-29T09:24:10.000+00:00</td>\n",
       "      <td>en</td>\n",
       "      <td>NaN</td>\n",
       "      <td>publisher</td>\n",
       "      <td>student finance</td>\n",
       "      <td>...</td>\n",
       "      <td></td>\n",
       "      <td>student finance student finance - student loan...</td>\n",
       "      <td>64aa6eec-48b5-481d-9131-9c8b6326eea1</td>\n",
       "      <td>/education/student-grants-bursaries-scholarships</td>\n",
       "      <td>Student grants, bursaries and scholarships</td>\n",
       "      <td>Education, training and skills</td>\n",
       "      <td>Funding and finance for students</td>\n",
       "      <td>Student grants, bursaries and scholarships</td>\n",
       "      <td>NaN</td>\n",
       "      <td>NaN</td>\n",
       "    </tr>\n",
       "    <tr>\n",
       "      <th>4</th>\n",
       "      <td>/apply-for-student-finance</td>\n",
       "      <td>06017464-d3e2-4a4c-8bef-250eff0de7e4</td>\n",
       "      <td>how to apply for student finance - when to app...</td>\n",
       "      <td>{'parts': [{'title': 'How to apply', 'slug': '...</td>\n",
       "      <td>guide</td>\n",
       "      <td>2016-02-29T09:24:10.000+00:00</td>\n",
       "      <td>en</td>\n",
       "      <td>NaN</td>\n",
       "      <td>publisher</td>\n",
       "      <td>student finance: how to apply</td>\n",
       "      <td>...</td>\n",
       "      <td></td>\n",
       "      <td>student finance: how to apply how to apply for...</td>\n",
       "      <td>64aa6eec-48b5-481d-9131-9c8b6326eea1</td>\n",
       "      <td>/education/student-grants-bursaries-scholarships</td>\n",
       "      <td>Student grants, bursaries and scholarships</td>\n",
       "      <td>Education, training and skills</td>\n",
       "      <td>Funding and finance for students</td>\n",
       "      <td>Student grants, bursaries and scholarships</td>\n",
       "      <td>NaN</td>\n",
       "      <td>NaN</td>\n",
       "    </tr>\n",
       "  </tbody>\n",
       "</table>\n",
       "<p>5 rows × 21 columns</p>\n",
       "</div>"
      ],
      "text/plain": [
       "                           base_path                            content_id  \\\n",
       "0    /student-finance-register-login  e57daef4-5eb5-431c-b0ad-14119ab0355f   \n",
       "1        /student-finance-calculator  434b6eb5-33c8-4300-aba3-f5ead58600b8   \n",
       "2  /apply-online-for-student-finance  83155b50-418e-437c-9389-cf0e1302900f   \n",
       "3                   /student-finance  d38bafd3-2c46-4be2-b50b-50c2ba7d30ed   \n",
       "4         /apply-for-student-finance  06017464-d3e2-4a4c-8bef-250eff0de7e4   \n",
       "\n",
       "                                         description  \\\n",
       "0  your student finance online account - check pa...   \n",
       "1  student finance calculator - get a quick estim...   \n",
       "2  apply online for student finance - online appl...   \n",
       "3  student finance - student loans or student gra...   \n",
       "4  how to apply for student finance - when to app...   \n",
       "\n",
       "                                             details document_type  \\\n",
       "0  {'will_continue_on': 'the Student Finance Engl...   transaction   \n",
       "1  {'introductory_paragraph': '<p>This calculator...   transaction   \n",
       "2  {'will_continue_on': 'the Student Finance Engl...   transaction   \n",
       "3  {'parts': [{'title': 'Overview', 'slug': 'over...         guide   \n",
       "4  {'parts': [{'title': 'How to apply', 'slug': '...         guide   \n",
       "\n",
       "              first_published_at locale primary_publishing_organisation  \\\n",
       "0  2016-02-29T09:24:10.000+00:00     en                             NaN   \n",
       "1  2016-02-29T09:24:10.000+00:00     en                             NaN   \n",
       "2  2016-02-29T09:24:10.000+00:00     en                             NaN   \n",
       "3  2016-02-29T09:24:10.000+00:00     en                             NaN   \n",
       "4  2016-02-29T09:24:10.000+00:00     en                             NaN   \n",
       "\n",
       "  publishing_app                             title     ...     body  \\\n",
       "0      publisher             student finance login     ...            \n",
       "1   smartanswers        student finance calculator     ...            \n",
       "2      publisher  apply online for student finance     ...            \n",
       "3      publisher                   student finance     ...            \n",
       "4      publisher     student finance: how to apply     ...            \n",
       "\n",
       "                                       combined_text  \\\n",
       "0  student finance login your student finance onl...   \n",
       "1  student finance calculator student finance cal...   \n",
       "2  apply online for student finance apply online ...   \n",
       "3  student finance student finance - student loan...   \n",
       "4  student finance: how to apply how to apply for...   \n",
       "\n",
       "                               taxon_id  \\\n",
       "0  64aa6eec-48b5-481d-9131-9c8b6326eea1   \n",
       "1  64aa6eec-48b5-481d-9131-9c8b6326eea1   \n",
       "2  64aa6eec-48b5-481d-9131-9c8b6326eea1   \n",
       "3  64aa6eec-48b5-481d-9131-9c8b6326eea1   \n",
       "4  64aa6eec-48b5-481d-9131-9c8b6326eea1   \n",
       "\n",
       "                                    taxon_base_path  \\\n",
       "0  /education/student-grants-bursaries-scholarships   \n",
       "1  /education/student-grants-bursaries-scholarships   \n",
       "2  /education/student-grants-bursaries-scholarships   \n",
       "3  /education/student-grants-bursaries-scholarships   \n",
       "4  /education/student-grants-bursaries-scholarships   \n",
       "\n",
       "                                   taxon_name                     level1taxon  \\\n",
       "0  Student grants, bursaries and scholarships  Education, training and skills   \n",
       "1  Student grants, bursaries and scholarships  Education, training and skills   \n",
       "2  Student grants, bursaries and scholarships  Education, training and skills   \n",
       "3  Student grants, bursaries and scholarships  Education, training and skills   \n",
       "4  Student grants, bursaries and scholarships  Education, training and skills   \n",
       "\n",
       "                        level2taxon  \\\n",
       "0  Funding and finance for students   \n",
       "1  Funding and finance for students   \n",
       "2  Funding and finance for students   \n",
       "3  Funding and finance for students   \n",
       "4  Funding and finance for students   \n",
       "\n",
       "                                  level3taxon level4taxon level5taxon  \n",
       "0  Student grants, bursaries and scholarships         NaN         NaN  \n",
       "1  Student grants, bursaries and scholarships         NaN         NaN  \n",
       "2  Student grants, bursaries and scholarships         NaN         NaN  \n",
       "3  Student grants, bursaries and scholarships         NaN         NaN  \n",
       "4  Student grants, bursaries and scholarships         NaN         NaN  \n",
       "\n",
       "[5 rows x 21 columns]"
      ]
     },
     "execution_count": 122,
     "metadata": {},
     "output_type": "execute_result"
    }
   ],
   "source": [
    "data.head()"
   ]
  },
  {
   "cell_type": "markdown",
   "metadata": {},
   "source": [
    "### 1.2 UTILS."
   ]
  },
  {
   "cell_type": "code",
   "execution_count": 123,
   "metadata": {
    "scrolled": true
   },
   "outputs": [
    {
     "data": {
      "text/plain": [
       "Index(['base_path', 'content_id', 'description', 'details', 'document_type',\n",
       "       'first_published_at', 'locale', 'primary_publishing_organisation',\n",
       "       'publishing_app', 'title', 'document_type_gp', 'body', 'combined_text',\n",
       "       'taxon_id', 'taxon_base_path', 'taxon_name', 'level1taxon',\n",
       "       'level2taxon', 'level3taxon', 'level4taxon', 'level5taxon'],\n",
       "      dtype='object')"
      ]
     },
     "execution_count": 123,
     "metadata": {},
     "output_type": "execute_result"
    }
   ],
   "source": [
    "data.columns"
   ]
  },
  {
   "cell_type": "code",
   "execution_count": 124,
   "metadata": {},
   "outputs": [],
   "source": [
    "def build_index(x):\n",
    "    index_dict = {}\n",
    "    index_dict['index'] = 0\n",
    "    for i,elem in enumerate(x):\n",
    "        index_dict[elem] = i+1\n",
    "    return index_dict"
   ]
  },
  {
   "cell_type": "code",
   "execution_count": 125,
   "metadata": {},
   "outputs": [
    {
     "name": "stdout",
     "output_type": "stream",
     "text": [
      "18\n"
     ]
    }
   ],
   "source": [
    "ind = build_index(data.columns)\n",
    "print(ind['level2taxon'])"
   ]
  },
  {
   "cell_type": "markdown",
   "metadata": {},
   "source": [
    "### 2. Taxons"
   ]
  },
  {
   "cell_type": "code",
   "execution_count": 126,
   "metadata": {},
   "outputs": [
    {
     "data": {
      "text/plain": [
       "440"
      ]
     },
     "execution_count": 126,
     "metadata": {},
     "output_type": "execute_result"
    }
   ],
   "source": [
    "data['level2taxon'].nunique()"
   ]
  },
  {
   "cell_type": "code",
   "execution_count": 127,
   "metadata": {},
   "outputs": [
    {
     "data": {
      "text/plain": [
       "{1: 'Administrative justice reform',\n",
       " 2: 'Adoption, fostering and surrogacy',\n",
       " 3: 'Afghanistan',\n",
       " 4: 'Armed Forces Covenant',\n",
       " 5: 'Armed forces',\n",
       " 6: 'Armed forces and Ministry of Defence reform',\n",
       " 7: 'Armed forces support for activities in the UK',\n",
       " 8: 'Arts and culture',\n",
       " 9: 'Assessing environmental impact',\n",
       " 10: 'Asylum',\n",
       " 11: 'Attorney General guidance to the legal profession',\n",
       " 12: 'Aviation',\n",
       " 13: 'Benefits entitlement',\n",
       " 14: 'Benefits for families',\n",
       " 15: 'Biodiversity and ecosystems',\n",
       " 16: 'Boating and inland waterways',\n",
       " 17: 'Brexit',\n",
       " 18: 'Brexit and the EU',\n",
       " 19: 'British citizenship ',\n",
       " 20: 'British nationals overseas',\n",
       " 21: 'Business and enterprise',\n",
       " 22: 'Business and the environment',\n",
       " 23: 'Business tax',\n",
       " 24: 'Byelaws',\n",
       " 25: 'Carers and disability benefits',\n",
       " 26: \"Carers' health\",\n",
       " 27: 'Certificates, register offices, changes of name or gender',\n",
       " 28: 'Charities, volunteering and honours',\n",
       " 29: 'Child Benefit',\n",
       " 30: 'Child maintenance reform',\n",
       " 31: 'Childcare and early years',\n",
       " 32: \"Children's health and welfare\",\n",
       " 33: 'Civil justice reform',\n",
       " 34: 'Civil service reform',\n",
       " 35: 'Climate change and energy',\n",
       " 36: 'Commercial fishing and fisheries',\n",
       " 37: 'Community and society',\n",
       " 38: 'Conflict in fragile states',\n",
       " 39: 'Constitutional affairs',\n",
       " 40: 'Consumer rights and issues',\n",
       " 41: 'Content and publishing',\n",
       " 42: 'Counter-terrorism',\n",
       " 43: 'Court claims, debt and bankruptcy',\n",
       " 44: 'Courts, sentencing and tribunals',\n",
       " 45: 'Crime prevention',\n",
       " 46: 'Criminal justice reform',\n",
       " 47: 'Criminal record disclosure',\n",
       " 48: 'Cyber security',\n",
       " 49: 'Dealing with HMRC',\n",
       " 50: 'Death and benefits',\n",
       " 51: 'Death and bereavement',\n",
       " 52: 'Deficit reduction',\n",
       " 53: 'Devolution',\n",
       " 54: 'Diplomats',\n",
       " 55: 'Disabled people',\n",
       " 56: 'Divorce, separation and legal issues',\n",
       " 57: 'Domestic violence',\n",
       " 58: 'Driving and road transport',\n",
       " 59: 'Education of disadvantaged children',\n",
       " 60: 'Emergency preparation, response and recovery',\n",
       " 61: 'Employing people',\n",
       " 62: 'End of life care',\n",
       " 63: 'Environmental permits',\n",
       " 64: 'Environmental quality',\n",
       " 65: 'Environmental risk management',\n",
       " 66: 'Equality, rights and citizenship',\n",
       " 67: 'European Union laws and regulation',\n",
       " 68: 'European funds',\n",
       " 69: 'European single market',\n",
       " 70: 'Expenses and employee benefits',\n",
       " 71: 'Family justice system',\n",
       " 72: 'Financial help if you have children',\n",
       " 73: 'Financial services',\n",
       " 74: 'Fire prevention and rescue',\n",
       " 75: 'Flooding and coastal change',\n",
       " 76: 'Food and farming',\n",
       " 77: 'Forced marriage',\n",
       " 78: 'Foreign affairs',\n",
       " 79: 'Freight and cargo',\n",
       " 80: 'Funding and finance for students',\n",
       " 81: 'Further and higher education, skills and vocational training',\n",
       " 82: 'Government efficiency, transparency and accountability',\n",
       " 83: 'Government graduate schemes',\n",
       " 84: 'Government spending',\n",
       " 85: 'HS2 and the environment',\n",
       " 86: 'Having a child, parenting and adoption',\n",
       " 87: 'Health and safety reform',\n",
       " 88: 'Health protection',\n",
       " 89: 'Heating and housing benefits',\n",
       " 90: 'Housing',\n",
       " 91: 'Housing planning and building',\n",
       " 92: 'Human rights internationally',\n",
       " 93: 'Immigration rules and enforcement',\n",
       " 94: 'Industrial strategy',\n",
       " 95: 'Inspections and performance of education providers',\n",
       " 96: 'International aid and development',\n",
       " 97: 'International defence commitments',\n",
       " 98: \"Jobseeker's Allowance and low income benefits\",\n",
       " 99: 'Justice system transparency',\n",
       " 100: 'Knife, gun and gang crime',\n",
       " 101: 'Labour market reform',\n",
       " 102: 'Land Registration Data ',\n",
       " 103: 'Land management',\n",
       " 104: 'Land registration',\n",
       " 105: 'Lasting power of attorney, being in care and your financial affairs',\n",
       " 106: 'Law and practice',\n",
       " 107: 'Legal aid',\n",
       " 108: 'Legal aid reform',\n",
       " 109: 'Legislative process',\n",
       " 110: 'Living abroad',\n",
       " 111: 'Living in the UK, government and democracy',\n",
       " 112: 'Local councils and services',\n",
       " 113: 'Local government',\n",
       " 114: 'Local government spending',\n",
       " 115: 'Local transport',\n",
       " 116: 'Localism',\n",
       " 117: 'Major project management',\n",
       " 118: 'Marine',\n",
       " 119: 'Maritime',\n",
       " 120: 'Marriage, civil partnership and divorce',\n",
       " 121: 'Media and communications',\n",
       " 122: 'Medical certification and advice',\n",
       " 123: 'Medicines, medical devices and blood regulation and safety',\n",
       " 124: 'Military awards and commemorations',\n",
       " 125: 'Military equipment, logistics and technology',\n",
       " 126: 'Military recruitment, training and operations',\n",
       " 127: 'Ministry of Defence estate',\n",
       " 128: 'Money laundering regulations',\n",
       " 129: 'National Health Service',\n",
       " 130: 'National events and ceremonies',\n",
       " 131: 'National security',\n",
       " 132: 'Northern Ireland',\n",
       " 133: 'Nuclear disarmament',\n",
       " 134: 'Oil and gas',\n",
       " 135: 'Passports',\n",
       " 136: 'Passports and travel documents for foreign nationals',\n",
       " 137: 'Payroll',\n",
       " 138: 'Peace and stability in the Middle East and North Africa',\n",
       " 139: 'Pensions and ageing society',\n",
       " 140: 'Permanent stay in the UK',\n",
       " 141: 'Personal tax',\n",
       " 142: 'Policing',\n",
       " 143: 'Population screening programmes',\n",
       " 144: 'Postal service reform',\n",
       " 145: 'Pregnancy and birth',\n",
       " 146: 'Prisons and probation',\n",
       " 147: 'Public health',\n",
       " 148: 'Public sector land use',\n",
       " 149: 'Public services',\n",
       " 150: 'Pupil wellbeing, behaviour and attendance',\n",
       " 151: 'Rail',\n",
       " 152: 'Regulation reform',\n",
       " 153: 'Reoffending and rehabilitation',\n",
       " 154: 'Reporting crimes and getting compensation',\n",
       " 155: 'Road infrastructure',\n",
       " 156: 'Running and managing a school',\n",
       " 157: 'Rural and countryside',\n",
       " 158: 'Safeguarding and social care for children',\n",
       " 159: 'School and academy financial management and assurance',\n",
       " 160: 'School and academy funding',\n",
       " 161: 'School curriculum',\n",
       " 162: 'Science and innovation',\n",
       " 163: 'Scotland',\n",
       " 164: 'Screening and quality assurance (all programmes)',\n",
       " 165: 'Secondments with government',\n",
       " 166: 'Self-employment',\n",
       " 167: 'Sentencing reform',\n",
       " 168: 'Social care',\n",
       " 169: 'Special educational needs and disability (SEND) and high needs',\n",
       " 170: 'Sports and leisure',\n",
       " 171: 'Starting and attending school',\n",
       " 172: 'Statutory rights',\n",
       " 173: 'Support services for military and defence personnel and their families',\n",
       " 174: 'Support services for veterans and their families',\n",
       " 175: 'Sustainable development',\n",
       " 176: 'Tax credits',\n",
       " 177: 'Tax evasion and avoidance',\n",
       " 178: 'Teaching and leadership',\n",
       " 179: 'The Commonwealth',\n",
       " 180: 'Tourism',\n",
       " 181: 'Trade and investment',\n",
       " 182: 'Transport accessibility and mobility',\n",
       " 183: 'Transport corporate and transparency',\n",
       " 184: 'Transport modelling and appraisal',\n",
       " 185: 'Transport planning',\n",
       " 186: 'Transport research and evaluation',\n",
       " 187: 'Transport security',\n",
       " 188: 'Transport statistics',\n",
       " 189: 'Travel abroad',\n",
       " 190: 'UK border control',\n",
       " 191: 'UK economy',\n",
       " 192: 'UK nuclear deterrent',\n",
       " 193: 'UK prosperity and security: Asia, Latin America and Africa',\n",
       " 194: 'Universal Credit',\n",
       " 195: 'Victims of crime',\n",
       " 196: 'Violence against women and girls',\n",
       " 197: 'Visas',\n",
       " 198: 'Voting',\n",
       " 199: 'Wales',\n",
       " 200: 'Waste and recycling',\n",
       " 201: 'Water industry',\n",
       " 202: 'Weapons proliferation',\n",
       " 203: 'What you can bring to the UK',\n",
       " 204: 'Wildlife and animal welfare',\n",
       " 205: 'Work and disabled people',\n",
       " 206: 'Working, jobs and pensions',\n",
       " 207: 'Young people and the law',\n",
       " 208: 'Your rights and the law',\n",
       " 209: 'Youth employment and social issues',\n",
       " 210: 'world_level1'}"
      ]
     },
     "execution_count": 127,
     "metadata": {},
     "output_type": "execute_result"
    }
   ],
   "source": [
    "#COLLAPSE World level2taxons\n",
    "data.loc[data['level1taxon'] == 'World', 'level2taxon'] = 'world_level1'\n",
    "\n",
    "#creating categorical variable for level2taxons from values\n",
    "data['level2taxon'] = data['level2taxon'].astype('category')\n",
    "\n",
    "#Get the category numeric values (codes) and avoid zero-indexing\n",
    "labels = data['level2taxon'].cat.codes + 1\n",
    "\n",
    "#create dictionary of taxon category code to string label for use in model evaluation\n",
    "labels_index = dict(zip((labels), data['level2taxon']))\n",
    "labels_index"
   ]
  },
  {
   "cell_type": "code",
   "execution_count": 128,
   "metadata": {},
   "outputs": [],
   "source": [
    "data['level1taxon'] = data['level1taxon'].astype('category')"
   ]
  },
  {
   "cell_type": "code",
   "execution_count": 129,
   "metadata": {},
   "outputs": [
    {
     "data": {
      "text/plain": [
       "Business and enterprise                                         11717\n",
       "Government efficiency, transparency and accountability          11049\n",
       "UK economy                                                      10527\n",
       "Trade and investment                                             7229\n",
       "Public health                                                    6156\n",
       "National security                                                5765\n",
       "Climate change and energy                                        5675\n",
       "Foreign affairs                                                  5010\n",
       "National Health Service                                          4970\n",
       "Community and society                                            4334\n",
       "Housing                                                          3996\n",
       "Wildlife and animal welfare                                      3944\n",
       "Housing planning and building                                    3826\n",
       "International aid and development                                3780\n",
       "Science and innovation                                           3628\n",
       "British nationals overseas                                       3261\n",
       "Food and farming                                                 3211\n",
       "Business and the environment                                     2921\n",
       "Local government                                                 2732\n",
       "Equality, rights and citizenship                                 2567\n",
       "world_level1                                                     2460\n",
       "Arts and culture                                                 2215\n",
       "Business tax                                                     2203\n",
       "Government spending                                              2160\n",
       "Wales                                                            2052\n",
       "Emergency preparation, response and recovery                     1909\n",
       "Rural and countryside                                            1907\n",
       "Regulation reform                                                1766\n",
       "Further and higher education, skills and vocational training     1726\n",
       "School curriculum                                                1717\n",
       "                                                                ...  \n",
       "Ministry of Defence estate                                         11\n",
       "British citizenship                                                11\n",
       "Land Registration Data                                             11\n",
       "Heating and housing benefits                                       11\n",
       "European Union laws and regulation                                 11\n",
       "Death and benefits                                                 10\n",
       "UK border control                                                   9\n",
       "Voting                                                              9\n",
       "Expenses and employee benefits                                      8\n",
       "Work and disabled people                                            8\n",
       "HS2 and the environment                                             8\n",
       "What you can bring to the UK                                        7\n",
       "Nuclear disarmament                                                 7\n",
       "Medical certification and advice                                    7\n",
       "Assessing environmental impact                                      6\n",
       "Boating and inland waterways                                        5\n",
       "Devolution                                                          5\n",
       "Content and publishing                                              5\n",
       "Universal Credit                                                    5\n",
       "Diplomats                                                           4\n",
       "Criminal record disclosure                                          4\n",
       "Legislative process                                                 4\n",
       "Civil justice reform                                                3\n",
       "Statutory rights                                                    3\n",
       "Government graduate schemes                                         3\n",
       "Forced marriage                                                     2\n",
       "Secondments with government                                         2\n",
       "Byelaws                                                             2\n",
       "Public sector land use                                              2\n",
       "Domestic violence                                                   1\n",
       "Name: level2taxon, Length: 210, dtype: int64"
      ]
     },
     "execution_count": 129,
     "metadata": {},
     "output_type": "execute_result"
    }
   ],
   "source": [
    "taxon_dict = data['level2taxon'].value_counts()\n",
    "taxon_dict"
   ]
  },
  {
   "cell_type": "code",
   "execution_count": 130,
   "metadata": {},
   "outputs": [
    {
     "data": {
      "text/plain": [
       "210"
      ]
     },
     "execution_count": 130,
     "metadata": {},
     "output_type": "execute_result"
    }
   ],
   "source": [
    "len(taxon_dict)"
   ]
  },
  {
   "cell_type": "code",
   "execution_count": 131,
   "metadata": {},
   "outputs": [
    {
     "data": {
      "text/plain": [
       "20"
      ]
     },
     "execution_count": 131,
     "metadata": {},
     "output_type": "execute_result"
    }
   ],
   "source": [
    "data['level1taxon'].nunique()"
   ]
  },
  {
   "cell_type": "markdown",
   "metadata": {},
   "source": [
    "### Multiple parents."
   ]
  },
  {
   "cell_type": "code",
   "execution_count": 62,
   "metadata": {},
   "outputs": [],
   "source": [
    "from collections import Counter\n",
    "children = {}\n",
    "parent_count = Counter()\n",
    "for tup in data.itertuples():\n",
    "    if not tup[18] in children.keys():\n",
    "        children[tup[18]] = tup[17]\n",
    "        parent_count[tup[18]]+=1\n",
    "    else:\n",
    "        if parent_count[tup[18]]>1: \n",
    "            print(\"parent woes\")\n",
    "            children[tup[18]+str(parent_count[tup[18]])] = tup[17]"
   ]
  },
  {
   "cell_type": "code",
   "execution_count": 61,
   "metadata": {},
   "outputs": [
    {
     "data": {
      "text/plain": [
       "210"
      ]
     },
     "execution_count": 61,
     "metadata": {},
     "output_type": "execute_result"
    }
   ],
   "source": [
    "len(parent_count)"
   ]
  },
  {
   "cell_type": "markdown",
   "metadata": {},
   "source": [
    "### Count support per taxon.\n",
    "Identify taxons with problematic support:\n",
    "1. Less than 10\n",
    "2. Less than 50 \n",
    "3. Less than 100\n",
    "4. Less than 500 (threshold)"
   ]
  },
  {
   "cell_type": "code",
   "execution_count": 151,
   "metadata": {},
   "outputs": [
    {
     "name": "stdout",
     "output_type": "stream",
     "text": [
      "Support threshold > 0 and <= 10: 25 taxons\n",
      "Total pages tagged to taxon: 129\n",
      "Support threshold > 10 and <= 50: 52 taxons\n",
      "Total pages tagged to taxon: 1382\n",
      "Support threshold > 50 and <= 100: 28 taxons\n",
      "Total pages tagged to taxon: 2027\n",
      "Support threshold > 100 and <= 500: 45 taxons\n",
      "Total pages tagged to taxon: 11211\n",
      "14749 150\n"
     ]
    }
   ],
   "source": [
    "dict_of_dicts = {}\n",
    "support_thresh = [0,10,50,100,500]\n",
    "ttotal = 0\n",
    "tcounter = 0\n",
    "for i,s in enumerate(support_thresh):\n",
    "    sub_dict = {}\n",
    "    counter = 0\n",
    "    total = 0\n",
    "    if i < len(support_thresh)-1:\n",
    "        s1 = s\n",
    "        s2 = support_thresh[i+1]\n",
    "        for key,value in taxon_dict.items():\n",
    "            if value > s1 and value <= s2 :\n",
    "                sub_dict[key] = value\n",
    "                total+=value\n",
    "                counter+=1\n",
    "        dict_of_dicts[s2] = sub_dict\n",
    "        print(\"Support threshold > \"+str(s1)+\" and <= \" +str(s2)+\": \"+str(counter)+\" taxons\")\n",
    "        print(\"Total pages tagged to taxon:\",total)\n",
    "        ttotal+=total\n",
    "        tcounter+=counter\n",
    "        \n",
    "print(ttotal,tcounter)"
   ]
  },
  {
   "cell_type": "code",
   "execution_count": 150,
   "metadata": {},
   "outputs": [
    {
     "data": {
      "text/plain": [
       "4"
      ]
     },
     "execution_count": 150,
     "metadata": {},
     "output_type": "execute_result"
    }
   ],
   "source": [
    "len(dict_of_dicts)"
   ]
  },
  {
   "cell_type": "code",
   "execution_count": 155,
   "metadata": {},
   "outputs": [
    {
     "data": {
      "text/plain": [
       "dict_keys(['Expenses and employee benefits', 'HS2 and the environment', 'What you can bring to the UK', 'Assessing environmental impact', 'Death and benefits', 'Voting', 'Nuclear disarmament', 'Secondments with government', 'Legislative process', 'Medical certification and advice', 'Forced marriage', 'Devolution', 'Public sector land use', 'Universal Credit', 'Boating and inland waterways', 'Civil justice reform', 'Work and disabled people', 'Domestic violence', 'UK border control', 'Content and publishing', 'Statutory rights', 'Criminal record disclosure', 'Byelaws', 'Diplomats', 'Government graduate schemes'])"
      ]
     },
     "execution_count": 155,
     "metadata": {},
     "output_type": "execute_result"
    }
   ],
   "source": [
    "dict_of_dicts[10].keys()"
   ]
  },
  {
   "cell_type": "code",
   "execution_count": 160,
   "metadata": {},
   "outputs": [
    {
     "name": "stdout",
     "output_type": "stream",
     "text": [
      "10\n",
      "Death and benefits \t 10\n",
      "Voting \t 9\n",
      "UK border control \t 9\n",
      "Expenses and employee benefits \t 8\n",
      "HS2 and the environment \t 8\n",
      "Work and disabled people \t 8\n",
      "What you can bring to the UK \t 7\n",
      "Nuclear disarmament \t 7\n",
      "Medical certification and advice \t 7\n",
      "Assessing environmental impact \t 6\n",
      "Devolution \t 5\n",
      "Universal Credit \t 5\n",
      "Boating and inland waterways \t 5\n",
      "Content and publishing \t 5\n",
      "Legislative process \t 4\n",
      "Criminal record disclosure \t 4\n",
      "Diplomats \t 4\n",
      "Civil justice reform \t 3\n",
      "Statutory rights \t 3\n",
      "Government graduate schemes \t 3\n",
      "Secondments with government \t 2\n",
      "Forced marriage \t 2\n",
      "Public sector land use \t 2\n",
      "Byelaws \t 2\n",
      "Domestic violence \t 1\n",
      "======\n",
      "50\n",
      "Youth employment and social issues \t 48\n",
      "Having a child, parenting and adoption \t 47\n",
      "Postal service reform \t 47\n",
      "Courts, sentencing and tribunals \t 47\n",
      "Transport planning \t 47\n",
      "Disabled people \t 47\n",
      "Starting and attending school \t 42\n",
      "Payroll \t 40\n",
      "Money laundering regulations \t 39\n",
      "Reporting crimes and getting compensation \t 38\n",
      "Passports and travel documents for foreign nationals \t 38\n",
      "Charities, volunteering and honours \t 36\n",
      "Death and bereavement \t 36\n",
      "Carers and disability benefits \t 35\n",
      "UK nuclear deterrent \t 34\n",
      "Your rights and the law \t 34\n",
      "Permanent stay in the UK \t 33\n",
      "Military recruitment, training and operations \t 33\n",
      "Court claims, debt and bankruptcy \t 33\n",
      "Marriage, civil partnership and divorce \t 33\n",
      "Carers' health \t 30\n",
      "Benefits entitlement \t 29\n",
      "Asylum \t 29\n",
      "Young people and the law \t 27\n",
      "Transport research and evaluation \t 26\n",
      "Travel abroad \t 25\n",
      "Transport security \t 25\n",
      "Certificates, register offices, changes of name or gender \t 24\n",
      "Jobseeker's Allowance and low income benefits \t 22\n",
      "Living abroad \t 22\n",
      "Passports \t 22\n",
      "Military equipment, logistics and technology \t 22\n",
      "Lasting power of attorney, being in care and your financial affairs \t 21\n",
      "Divorce, separation and legal issues \t 20\n",
      "Prisons and probation \t 19\n",
      "Screening and quality assurance (all programmes) \t 19\n",
      "Attorney General guidance to the legal profession \t 16\n",
      "Armed forces \t 16\n",
      "Sentencing reform \t 16\n",
      "Pregnancy and birth \t 16\n",
      "Public services \t 15\n",
      "Benefits for families \t 15\n",
      "Environmental risk management \t 14\n",
      "Brexit and the EU \t 13\n",
      "Living in the UK, government and democracy \t 13\n",
      "Military awards and commemorations \t 12\n",
      "Administrative justice reform \t 12\n",
      "European Union laws and regulation \t 11\n",
      "Land Registration Data  \t 11\n",
      "Ministry of Defence estate \t 11\n",
      "British citizenship  \t 11\n",
      "Heating and housing benefits \t 11\n",
      "======\n",
      "100\n",
      "Child maintenance reform \t 100\n",
      "Deficit reduction \t 97\n",
      "Support services for veterans and their families \t 96\n",
      "Funding and finance for students \t 94\n",
      "Oil and gas \t 94\n",
      "Victims of crime \t 89\n",
      "European funds \t 88\n",
      "Environmental permits \t 85\n",
      "Criminal justice reform \t 84\n",
      "Population screening programmes \t 80\n",
      "Self-employment \t 75\n",
      "Knife, gun and gang crime \t 73\n",
      "The Commonwealth \t 71\n",
      "Adoption, fostering and surrogacy \t 69\n",
      "Transport accessibility and mobility \t 69\n",
      "Tax credits \t 67\n",
      "Immigration rules and enforcement \t 65\n",
      "Transport modelling and appraisal \t 64\n",
      "Support services for military and defence personnel and their families \t 61\n",
      "Family justice system \t 60\n",
      "Children's health and welfare \t 59\n",
      "Health and safety reform \t 57\n",
      "Land management \t 57\n",
      "Legal aid reform \t 56\n",
      "Financial help if you have children \t 56\n",
      "Local councils and services \t 55\n",
      "Law and practice \t 55\n",
      "End of life care \t 51\n",
      "======\n",
      "500\n",
      "Biodiversity and ecosystems \t 477\n",
      "UK prosperity and security: Asia, Latin America and Africa \t 465\n",
      "Labour market reform \t 463\n",
      "Environmental quality \t 461\n",
      "Local government spending \t 461\n",
      "Safeguarding and social care for children \t 451\n",
      "Water industry \t 415\n",
      "Civil service reform \t 414\n",
      "Industrial strategy \t 379\n",
      "Fire prevention and rescue \t 350\n",
      "Crime prevention \t 325\n",
      "Pupil wellbeing, behaviour and attendance \t 305\n",
      "Commercial fishing and fisheries \t 291\n",
      "Brexit \t 272\n",
      "Cyber security \t 254\n",
      "Aviation \t 246\n",
      "Local transport \t 244\n",
      "Special educational needs and disability (SEND) and high needs \t 243\n",
      "Tourism \t 242\n",
      "Conflict in fragile states \t 239\n",
      "Localism \t 239\n",
      "Violence against women and girls \t 235\n",
      "Tax evasion and avoidance \t 231\n",
      "Sustainable development \t 221\n",
      "Justice system transparency \t 199\n",
      "European single market \t 194\n",
      "Freight and cargo \t 188\n",
      "Health protection \t 187\n",
      "Armed Forces Covenant \t 186\n",
      "Working, jobs and pensions \t 182\n",
      "National events and ceremonies \t 174\n",
      "Child Benefit \t 174\n",
      "Reoffending and rehabilitation \t 164\n",
      "Constitutional affairs \t 163\n",
      "Childcare and early years \t 161\n",
      "Major project management \t 155\n",
      "Weapons proliferation \t 149\n",
      "Legal aid \t 143\n",
      "School and academy financial management and assurance \t 143\n",
      "Land registration \t 140\n",
      "Employing people \t 139\n",
      "Medicines, medical devices and blood regulation and safety \t 124\n",
      "Armed forces support for activities in the UK \t 119\n",
      "Visas \t 102\n",
      "Education of disadvantaged children \t 102\n",
      "======\n"
     ]
    }
   ],
   "source": [
    "for i in [10,50,100,500]:\n",
    "    print(i)\n",
    "    for key,value in sorted(dict_of_dicts[i].items(), key=operator.itemgetter(1),reverse=True):\n",
    "        print(key,\"\\t\",value)\n",
    "    print(\"======\")"
   ]
  },
  {
   "cell_type": "markdown",
   "metadata": {},
   "source": [
    "### Recent Taxon stuff."
   ]
  },
  {
   "cell_type": "code",
   "execution_count": 112,
   "metadata": {},
   "outputs": [],
   "source": [
    "taxon_hierarchy = pd.read_csv('/Users/felisialoukou/Downloads/Copy of Sitewide taxonomy (31.01.2018) \\\n",
    "- Sitewide taxonomy 31.01.2018.tsv', sep='\\t')"
   ]
  },
  {
   "cell_type": "code",
   "execution_count": 113,
   "metadata": {},
   "outputs": [
    {
     "data": {
      "text/html": [
       "<div>\n",
       "<style scoped>\n",
       "    .dataframe tbody tr th:only-of-type {\n",
       "        vertical-align: middle;\n",
       "    }\n",
       "\n",
       "    .dataframe tbody tr th {\n",
       "        vertical-align: top;\n",
       "    }\n",
       "\n",
       "    .dataframe thead th {\n",
       "        text-align: right;\n",
       "    }\n",
       "</style>\n",
       "<table border=\"1\" class=\"dataframe\">\n",
       "  <thead>\n",
       "    <tr style=\"text-align: right;\">\n",
       "      <th></th>\n",
       "      <th>Level 1</th>\n",
       "      <th>Level 2</th>\n",
       "      <th>Level 3</th>\n",
       "      <th>Level 4</th>\n",
       "      <th>Level 5</th>\n",
       "    </tr>\n",
       "  </thead>\n",
       "  <tbody>\n",
       "    <tr>\n",
       "      <th>0</th>\n",
       "      <td>World</td>\n",
       "      <td>NaN</td>\n",
       "      <td>NaN</td>\n",
       "      <td>NaN</td>\n",
       "      <td>NaN</td>\n",
       "    </tr>\n",
       "    <tr>\n",
       "      <th>1</th>\n",
       "      <td>NaN</td>\n",
       "      <td>Barbados and the UK</td>\n",
       "      <td>NaN</td>\n",
       "      <td>NaN</td>\n",
       "      <td>NaN</td>\n",
       "    </tr>\n",
       "    <tr>\n",
       "      <th>2</th>\n",
       "      <td>NaN</td>\n",
       "      <td>NaN</td>\n",
       "      <td>British embassy or high commission</td>\n",
       "      <td>NaN</td>\n",
       "      <td>NaN</td>\n",
       "    </tr>\n",
       "    <tr>\n",
       "      <th>3</th>\n",
       "      <td>NaN</td>\n",
       "      <td>NaN</td>\n",
       "      <td>Trade and invest</td>\n",
       "      <td>NaN</td>\n",
       "      <td>NaN</td>\n",
       "    </tr>\n",
       "    <tr>\n",
       "      <th>4</th>\n",
       "      <td>NaN</td>\n",
       "      <td>NaN</td>\n",
       "      <td>News and events</td>\n",
       "      <td>NaN</td>\n",
       "      <td>NaN</td>\n",
       "    </tr>\n",
       "  </tbody>\n",
       "</table>\n",
       "</div>"
      ],
      "text/plain": [
       "  Level 1              Level 2                             Level 3 Level 4  \\\n",
       "0   World                  NaN                                 NaN     NaN   \n",
       "1     NaN  Barbados and the UK                                 NaN     NaN   \n",
       "2     NaN                  NaN  British embassy or high commission     NaN   \n",
       "3     NaN                  NaN                    Trade and invest     NaN   \n",
       "4     NaN                  NaN                     News and events     NaN   \n",
       "\n",
       "  Level 5  \n",
       "0     NaN  \n",
       "1     NaN  \n",
       "2     NaN  \n",
       "3     NaN  \n",
       "4     NaN  "
      ]
     },
     "execution_count": 113,
     "metadata": {},
     "output_type": "execute_result"
    }
   ],
   "source": [
    "taxon_hierarchy.head()"
   ]
  },
  {
   "cell_type": "code",
   "execution_count": 114,
   "metadata": {},
   "outputs": [
    {
     "data": {
      "text/plain": [
       "448"
      ]
     },
     "execution_count": 114,
     "metadata": {},
     "output_type": "execute_result"
    }
   ],
   "source": [
    "taxon_hierarchy['Level 2'].nunique()"
   ]
  },
  {
   "cell_type": "code",
   "execution_count": 115,
   "metadata": {},
   "outputs": [
    {
     "name": "stdout",
     "output_type": "stream",
     "text": [
      "1 UK border control\n",
      "2 Land Registration Data \n",
      "3 British citizenship \n",
      "4 Conflict in fragile states\n",
      "5 Asylum\n",
      "6 Transport research and evaluation\n",
      "7 Visas\n",
      "8 Brexit and the EU\n",
      "9 What you can bring to the UK\n",
      "10 Passports and travel documents for foreign nationals\n",
      "11 Child Benefit\n",
      "12 Diplomats\n",
      "13 Immigration rules and enforcement\n"
     ]
    }
   ],
   "source": [
    "counter = 1\n",
    "for key in sub_dict.keys():\n",
    "#     print(key)\n",
    "    data = taxon_hierarchy.loc[taxon_hierarchy['Level 2'] == key]\n",
    "    if data.empty:\n",
    "        print(counter,key)\n",
    "        counter+=1"
   ]
  },
  {
   "cell_type": "code",
   "execution_count": 82,
   "metadata": {},
   "outputs": [
    {
     "data": {
      "text/html": [
       "<div>\n",
       "<style scoped>\n",
       "    .dataframe tbody tr th:only-of-type {\n",
       "        vertical-align: middle;\n",
       "    }\n",
       "\n",
       "    .dataframe tbody tr th {\n",
       "        vertical-align: top;\n",
       "    }\n",
       "\n",
       "    .dataframe thead th {\n",
       "        text-align: right;\n",
       "    }\n",
       "</style>\n",
       "<table border=\"1\" class=\"dataframe\">\n",
       "  <thead>\n",
       "    <tr style=\"text-align: right;\">\n",
       "      <th></th>\n",
       "      <th>Level 1</th>\n",
       "      <th>Level 2</th>\n",
       "      <th>Level 3</th>\n",
       "      <th>Level 4</th>\n",
       "      <th>Level 5</th>\n",
       "    </tr>\n",
       "  </thead>\n",
       "  <tbody>\n",
       "    <tr>\n",
       "      <th>1</th>\n",
       "      <td>NaN</td>\n",
       "      <td>Barbados and the UK</td>\n",
       "      <td>NaN</td>\n",
       "      <td>NaN</td>\n",
       "      <td>NaN</td>\n",
       "    </tr>\n",
       "  </tbody>\n",
       "</table>\n",
       "</div>"
      ],
      "text/plain": [
       "  Level 1              Level 2 Level 3 Level 4 Level 5\n",
       "1     NaN  Barbados and the UK     NaN     NaN     NaN"
      ]
     },
     "execution_count": 82,
     "metadata": {},
     "output_type": "execute_result"
    }
   ],
   "source": [
    "taxon_hierarchy.loc[taxon_hierarchy['Level 2'] == \"Barbados and the UK\"]"
   ]
  },
  {
   "cell_type": "markdown",
   "metadata": {},
   "source": [
    "## 2. Counts"
   ]
  },
  {
   "cell_type": "code",
   "execution_count": 5,
   "metadata": {},
   "outputs": [],
   "source": [
    "data['title_len'] = data['title'].map(lambda x: len(x.split()))\n",
    "data['description_len'] = data['description'].map(lambda x: len(x.split()))\n",
    "data['body_len'] = data['body'].map(lambda x: len(x.split()) if not isinstance(x,float) else 0)\n",
    "data['combined_text_len'] = data['combined_text'].map(lambda x: len(x.split()))"
   ]
  },
  {
   "cell_type": "code",
   "execution_count": 6,
   "metadata": {},
   "outputs": [],
   "source": [
    "len_cols = ['title_len','description_len','body_len','combined_text_len']"
   ]
  },
  {
   "cell_type": "code",
   "execution_count": 7,
   "metadata": {},
   "outputs": [
    {
     "name": "stdout",
     "output_type": "stream",
     "text": [
      "count    173560.000000\n",
      "mean          7.988482\n",
      "std           3.214716\n",
      "min           1.000000\n",
      "25%           6.000000\n",
      "50%           8.000000\n",
      "75%          10.000000\n",
      "max          38.000000\n",
      "Name: title_len, dtype: float64 \n",
      "=====\n",
      "count    173560.000000\n",
      "mean         17.732179\n",
      "std           6.971012\n",
      "min           0.000000\n",
      "25%          13.000000\n",
      "50%          18.000000\n",
      "75%          21.000000\n",
      "max         149.000000\n",
      "Name: description_len, dtype: float64 \n",
      "=====\n",
      "count    173560.000000\n",
      "mean        331.267758\n",
      "std         612.127736\n",
      "min           0.000000\n",
      "25%          38.000000\n",
      "50%         118.000000\n",
      "75%         396.000000\n",
      "max       31129.000000\n",
      "Name: body_len, dtype: float64 \n",
      "=====\n",
      "count    173560.000000\n",
      "mean        356.988419\n",
      "std         612.851116\n",
      "min           2.000000\n",
      "25%          63.000000\n",
      "50%         144.000000\n",
      "75%         423.000000\n",
      "max       31145.000000\n",
      "Name: combined_text_len, dtype: float64 \n",
      "=====\n"
     ]
    }
   ],
   "source": [
    "for col in len_cols:\n",
    "    print(data[col].describe(),\"\\n=====\")"
   ]
  }
 ],
 "metadata": {
  "kernelspec": {
   "display_name": "taxon-sl",
   "language": "python",
   "name": "taxon-sl"
  },
  "language_info": {
   "codemirror_mode": {
    "name": "ipython",
    "version": 3
   },
   "file_extension": ".py",
   "mimetype": "text/x-python",
   "name": "python",
   "nbconvert_exporter": "python",
   "pygments_lexer": "ipython3",
   "version": "3.4.6"
  }
 },
 "nbformat": 4,
 "nbformat_minor": 2
}
